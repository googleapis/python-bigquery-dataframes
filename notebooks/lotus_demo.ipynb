{
 "cells": [
  {
   "cell_type": "markdown",
   "metadata": {},
   "source": [
    "# LOTUS demo"
   ]
  },
  {
   "cell_type": "markdown",
   "metadata": {},
   "source": [
    "## APIs"
   ]
  },
  {
   "cell_type": "code",
   "execution_count": 1,
   "metadata": {},
   "outputs": [],
   "source": [
    "import bigframes.pandas as bpd\n",
    "from bigframes.ml.llm import GeminiTextGenerator, _GEMINI_1P5_FLASH_001_ENDPOINT, _GEMINI_1P5_PRO_001_ENDPOINT\n",
    "\n",
    "bpd.options.display.progress_bar = None"
   ]
  },
  {
   "cell_type": "code",
   "execution_count": 2,
   "metadata": {},
   "outputs": [
    {
     "name": "stderr",
     "output_type": "stream",
     "text": [
      "/usr/local/google/home/chelsealin/src/bigframes/bigframes/core/global_session.py:113: DefaultLocationWarning: No explicit location is set, so using location US for the session.\n",
      "  return func(get_global_session(), *args, **kwargs)\n"
     ]
    }
   ],
   "source": [
    "# First let's initialize the dataframe we will use to perform semantic operations on\n",
    "data = {\n",
    "    \"Course Name\": [\n",
    "        \"Probability and Random Processes\",\n",
    "        \"Optimization Methods in Engineering\",\n",
    "        \"Digital Design and Integrated Circuits\",\n",
    "        \"Computer Security\",\n",
    "        \"Operating Systems and Systems Programming\",\n",
    "        \"Compilers\",\n",
    "        \"Computer Networks\",\n",
    "        \"Deep Learning\",\n",
    "        \"Graphics\",\n",
    "        \"Databases\",\n",
    "        \"Art History\",\n",
    "    ]\n",
    "}\n",
    "df = bpd.DataFrame(data)\n",
    " \n",
    "model = GeminiTextGenerator(model_name=_GEMINI_1P5_FLASH_001_ENDPOINT)"
   ]
  },
  {
   "cell_type": "markdown",
   "metadata": {},
   "source": [
    "### 1. `sem_filter`"
   ]
  },
  {
   "cell_type": "code",
   "execution_count": 3,
   "metadata": {},
   "outputs": [
    {
     "name": "stderr",
     "output_type": "stream",
     "text": [
      "/usr/local/google/home/chelsealin/src/bigframes/bigframes/core/__init__.py:92: PreviewWarning: Interpreting JSON column(s) as StringDtype. This behavior may change in future versions.\n",
      "  warnings.warn(\n"
     ]
    },
    {
     "data": {
      "text/html": [
       "<div>\n",
       "<style scoped>\n",
       "    .dataframe tbody tr th:only-of-type {\n",
       "        vertical-align: middle;\n",
       "    }\n",
       "\n",
       "    .dataframe tbody tr th {\n",
       "        vertical-align: top;\n",
       "    }\n",
       "\n",
       "    .dataframe thead th {\n",
       "        text-align: right;\n",
       "    }\n",
       "</style>\n",
       "<table border=\"1\" class=\"dataframe\">\n",
       "  <thead>\n",
       "    <tr style=\"text-align: right;\">\n",
       "      <th></th>\n",
       "      <th>Course Name</th>\n",
       "      <th>confidence_scores</th>\n",
       "    </tr>\n",
       "  </thead>\n",
       "  <tbody>\n",
       "    <tr>\n",
       "      <th>0</th>\n",
       "      <td>Probability and Random Processes</td>\n",
       "      <td>0.95</td>\n",
       "    </tr>\n",
       "    <tr>\n",
       "      <th>1</th>\n",
       "      <td>Optimization Methods in Engineering</td>\n",
       "      <td>0.95</td>\n",
       "    </tr>\n",
       "    <tr>\n",
       "      <th>2</th>\n",
       "      <td>Digital Design and Integrated Circuits</td>\n",
       "      <td>0.95</td>\n",
       "    </tr>\n",
       "    <tr>\n",
       "      <th>5</th>\n",
       "      <td>Compilers</td>\n",
       "      <td>0.8</td>\n",
       "    </tr>\n",
       "    <tr>\n",
       "      <th>7</th>\n",
       "      <td>Deep Learning</td>\n",
       "      <td>0.95</td>\n",
       "    </tr>\n",
       "    <tr>\n",
       "      <th>8</th>\n",
       "      <td>Graphics</td>\n",
       "      <td>0.8</td>\n",
       "    </tr>\n",
       "  </tbody>\n",
       "</table>\n",
       "<p>6 rows × 2 columns</p>\n",
       "</div>[6 rows x 2 columns in total]"
      ],
      "text/plain": [
       "                              Course Name  confidence_scores\n",
       "0        Probability and Random Processes               0.95\n",
       "1     Optimization Methods in Engineering               0.95\n",
       "2  Digital Design and Integrated Circuits               0.95\n",
       "5                               Compilers                0.8\n",
       "7                           Deep Learning               0.95\n",
       "8                                Graphics                0.8\n",
       "\n",
       "[6 rows x 2 columns]"
      ]
     },
     "execution_count": 3,
     "metadata": {},
     "output_type": "execute_result"
    }
   ],
   "source": [
    "predict_df = df.sem_filter(\"{Course Name} requires a lot of math\", model, logprobs=True)\n",
    "predict_df"
   ]
  },
  {
   "cell_type": "markdown",
   "metadata": {},
   "source": [
    "### 2. `sem_join`"
   ]
  },
  {
   "cell_type": "code",
   "execution_count": 4,
   "metadata": {},
   "outputs": [
    {
     "name": "stderr",
     "output_type": "stream",
     "text": [
      "/usr/local/google/home/chelsealin/src/bigframes/bigframes/core/__init__.py:92: PreviewWarning: Interpreting JSON column(s) as StringDtype. This behavior may change in future versions.\n",
      "  warnings.warn(\n"
     ]
    },
    {
     "data": {
      "text/html": [
       "<div>\n",
       "<style scoped>\n",
       "    .dataframe tbody tr th:only-of-type {\n",
       "        vertical-align: middle;\n",
       "    }\n",
       "\n",
       "    .dataframe tbody tr th {\n",
       "        vertical-align: top;\n",
       "    }\n",
       "\n",
       "    .dataframe thead th {\n",
       "        text-align: right;\n",
       "    }\n",
       "</style>\n",
       "<table border=\"1\" class=\"dataframe\">\n",
       "  <thead>\n",
       "    <tr style=\"text-align: right;\">\n",
       "      <th></th>\n",
       "      <th>Course Name</th>\n",
       "      <th>Skill</th>\n",
       "      <th>confidence_scores</th>\n",
       "    </tr>\n",
       "  </thead>\n",
       "  <tbody>\n",
       "    <tr>\n",
       "      <th>10</th>\n",
       "      <td>Computer Security</td>\n",
       "      <td>Cryptography</td>\n",
       "      <td>0.85</td>\n",
       "    </tr>\n",
       "    <tr>\n",
       "      <th>19</th>\n",
       "      <td>Computer Networks</td>\n",
       "      <td>Cryptography</td>\n",
       "      <td>0.8</td>\n",
       "    </tr>\n",
       "    <tr>\n",
       "      <th>24</th>\n",
       "      <td>Graphics</td>\n",
       "      <td>Art</td>\n",
       "      <td>0.85</td>\n",
       "    </tr>\n",
       "  </tbody>\n",
       "</table>\n",
       "<p>3 rows × 3 columns</p>\n",
       "</div>[3 rows x 3 columns in total]"
      ],
      "text/plain": [
       "          Course Name         Skill  confidence_scores\n",
       "10  Computer Security  Cryptography               0.85\n",
       "19  Computer Networks  Cryptography                0.8\n",
       "24           Graphics           Art               0.85\n",
       "\n",
       "[3 rows x 3 columns]"
      ]
     },
     "execution_count": 4,
     "metadata": {},
     "output_type": "execute_result"
    }
   ],
   "source": [
    "skills_df = bpd.DataFrame({\"Skill\": [\"Art\", \"Cryptography\", \"Baking\"]})\n",
    "\n",
    "join_df = df.sem_join(skills_df, \"Taking {Course Name} will make me better at {Skill}\", model=model, logprobs=True)\n",
    "join_df"
   ]
  },
  {
   "cell_type": "markdown",
   "metadata": {},
   "source": [
    "### 3. `sem_map`"
   ]
  },
  {
   "cell_type": "code",
   "execution_count": 5,
   "metadata": {},
   "outputs": [
    {
     "name": "stderr",
     "output_type": "stream",
     "text": [
      "/usr/local/google/home/chelsealin/src/bigframes/bigframes/core/__init__.py:92: PreviewWarning: Interpreting JSON column(s) as StringDtype. This behavior may change in future versions.\n",
      "  warnings.warn(\n"
     ]
    },
    {
     "data": {
      "text/html": [
       "<div>\n",
       "<style scoped>\n",
       "    .dataframe tbody tr th:only-of-type {\n",
       "        vertical-align: middle;\n",
       "    }\n",
       "\n",
       "    .dataframe tbody tr th {\n",
       "        vertical-align: top;\n",
       "    }\n",
       "\n",
       "    .dataframe thead th {\n",
       "        text-align: right;\n",
       "    }\n",
       "</style>\n",
       "<table border=\"1\" class=\"dataframe\">\n",
       "  <thead>\n",
       "    <tr style=\"text-align: right;\">\n",
       "      <th></th>\n",
       "      <th>Course Name</th>\n",
       "      <th>_map</th>\n",
       "    </tr>\n",
       "  </thead>\n",
       "  <tbody>\n",
       "    <tr>\n",
       "      <th>0</th>\n",
       "      <td>Probability and Random Processes</td>\n",
       "      <td>## Study Plan for Probability and Random Proce...</td>\n",
       "    </tr>\n",
       "    <tr>\n",
       "      <th>1</th>\n",
       "      <td>Optimization Methods in Engineering</td>\n",
       "      <td>## Study Plan for Optimization Methods in Engi...</td>\n",
       "    </tr>\n",
       "    <tr>\n",
       "      <th>2</th>\n",
       "      <td>Digital Design and Integrated Circuits</td>\n",
       "      <td>## Study Plan for Digital Design and Integrate...</td>\n",
       "    </tr>\n",
       "    <tr>\n",
       "      <th>3</th>\n",
       "      <td>Computer Security</td>\n",
       "      <td>##  Computer Security Study Plan\n",
       "\n",
       "**Goal:** Ac...</td>\n",
       "    </tr>\n",
       "    <tr>\n",
       "      <th>4</th>\n",
       "      <td>Operating Systems and Systems Programming</td>\n",
       "      <td>##  Study Plan for Operating Systems and Syste...</td>\n",
       "    </tr>\n",
       "    <tr>\n",
       "      <th>5</th>\n",
       "      <td>Compilers</td>\n",
       "      <td>## Short Study Plan for Compilers:\n",
       "\n",
       "**1. Funda...</td>\n",
       "    </tr>\n",
       "    <tr>\n",
       "      <th>6</th>\n",
       "      <td>Computer Networks</td>\n",
       "      <td>## Short Study Plan for Computer Networks\n",
       "\n",
       "**G...</td>\n",
       "    </tr>\n",
       "    <tr>\n",
       "      <th>7</th>\n",
       "      <td>Deep Learning</td>\n",
       "      <td>## Short Study Plan for Deep Learning:\n",
       "\n",
       "**Focu...</td>\n",
       "    </tr>\n",
       "    <tr>\n",
       "      <th>8</th>\n",
       "      <td>Graphics</td>\n",
       "      <td>## Graphics Course Study Plan:\n",
       "\n",
       "**Goal:** Achi...</td>\n",
       "    </tr>\n",
       "    <tr>\n",
       "      <th>9</th>\n",
       "      <td>Databases</td>\n",
       "      <td>## Short Study Plan for Databases:\n",
       "\n",
       "**1.  Acti...</td>\n",
       "    </tr>\n",
       "    <tr>\n",
       "      <th>10</th>\n",
       "      <td>Art History</td>\n",
       "      <td>## Art History Study Plan \n",
       "\n",
       "**Goal:** Achieve ...</td>\n",
       "    </tr>\n",
       "  </tbody>\n",
       "</table>\n",
       "<p>11 rows × 2 columns</p>\n",
       "</div>[11 rows x 2 columns in total]"
      ],
      "text/plain": [
       "                                  Course Name  \\\n",
       "0            Probability and Random Processes   \n",
       "1         Optimization Methods in Engineering   \n",
       "2      Digital Design and Integrated Circuits   \n",
       "3                           Computer Security   \n",
       "4   Operating Systems and Systems Programming   \n",
       "5                                   Compilers   \n",
       "6                           Computer Networks   \n",
       "7                               Deep Learning   \n",
       "8                                    Graphics   \n",
       "9                                   Databases   \n",
       "10                                Art History   \n",
       "\n",
       "                                                 _map  \n",
       "0   ## Study Plan for Probability and Random Proce...  \n",
       "1   ## Study Plan for Optimization Methods in Engi...  \n",
       "2   ## Study Plan for Digital Design and Integrate...  \n",
       "3   ##  Computer Security Study Plan\n",
       "\n",
       "**Goal:** Ac...  \n",
       "4   ##  Study Plan for Operating Systems and Syste...  \n",
       "5   ## Short Study Plan for Compilers:\n",
       "\n",
       "**1. Funda...  \n",
       "6   ## Short Study Plan for Computer Networks\n",
       "\n",
       "**G...  \n",
       "7   ## Short Study Plan for Deep Learning:\n",
       "\n",
       "**Focu...  \n",
       "8   ## Graphics Course Study Plan:\n",
       "\n",
       "**Goal:** Achi...  \n",
       "9   ## Short Study Plan for Databases:\n",
       "\n",
       "**1.  Acti...  \n",
       "10  ## Art History Study Plan \n",
       "\n",
       "**Goal:** Achieve ...  \n",
       "\n",
       "[11 rows x 2 columns]"
      ]
     },
     "execution_count": 5,
     "metadata": {},
     "output_type": "execute_result"
    }
   ],
   "source": [
    "map_df = df.sem_map(\"Generate a short study plan to succeed in {Course Name}\", model=model)\n",
    "map_df"
   ]
  },
  {
   "cell_type": "code",
   "execution_count": 6,
   "metadata": {},
   "outputs": [
    {
     "data": {
      "text/plain": [
       "\"## Study Plan for Probability and Random Processes\\n\\n**Goal:**  Master the core concepts and build strong problem-solving skills in Probability and Random Processes.\\n\\n**Strategy:** \\n\\n1. **Understand the Fundamentals:**\\n    * **Week 1-2:** Focus on probability basics: events, axioms, probability distributions, conditional probability, Bayes' Theorem.  \\n    * **Week 3-4:** Dive deeper into random variables, expected value, variance, common distributions (Bernoulli, Binomial, Poisson, Normal). \\n    * **Week 5-6:**  Explore fundamental concepts of random processes: stochastic processes, Markov Chains, Poisson process. \\n\\n2. **Practice Regularly:**\\n    * **Daily:** Solve at least 5-10 problems from the textbook or previous exams. \\n    * **Weekly:**  Review class notes, work on challenging problems, and try to explain concepts to yourself or a study partner.\\n\\n3. **Seek Help and Resources:**\\n    * **Office Hours:**  Utilize your professor's office hours to clarify concepts and ask questions. \\n    * **Study Groups:**  Form a study group with classmates to discuss concepts and solve problems together. \\n    * **Online Resources:** Explore online resources like Khan Academy, Coursera, and EdX for additional explanations and practice exercises.\\n\\n4. **Prioritize Understanding:**\\n    * Focus on understanding the underlying principles, not just memorizing formulas.\\n    * Break down complex problems into smaller, manageable steps. \\n    * Visualize concepts using diagrams and graphs whenever possible.\\n\\n5. **Stay Organized:**\\n    * Keep track of all assignments, deadlines, and important concepts. \\n    * Create a dedicated study space and avoid distractions.\\n\\n**Remember:**  Success in Probability and Random Processes requires consistent effort and a deep understanding of the core concepts. By following this study plan and seeking help when needed, you will be well on your way to mastering this challenging but rewarding subject.\\n\""
      ]
     },
     "execution_count": 6,
     "metadata": {},
     "output_type": "execute_result"
    }
   ],
   "source": [
    "map_df.iloc[0, 1]"
   ]
  },
  {
   "cell_type": "markdown",
   "metadata": {},
   "source": [
    "## Optimizations"
   ]
  },
  {
   "cell_type": "markdown",
   "metadata": {},
   "source": [
    "### Cascade Models"
   ]
  },
  {
   "cell_type": "code",
   "execution_count": 7,
   "metadata": {},
   "outputs": [],
   "source": [
    "# Cascade models, where the smaller model running first to save cost.\n",
    "large_model = GeminiTextGenerator(model_name=_GEMINI_1P5_PRO_001_ENDPOINT)\n",
    "small_model = GeminiTextGenerator(model_name=_GEMINI_1P5_FLASH_001_ENDPOINT)\n"
   ]
  },
  {
   "cell_type": "code",
   "execution_count": 8,
   "metadata": {},
   "outputs": [
    {
     "name": "stderr",
     "output_type": "stream",
     "text": [
      "/usr/local/google/home/chelsealin/src/bigframes/bigframes/core/__init__.py:92: PreviewWarning: Interpreting JSON column(s) as StringDtype. This behavior may change in future versions.\n",
      "  warnings.warn(\n",
      "/usr/local/google/home/chelsealin/src/bigframes/bigframes/core/__init__.py:92: PreviewWarning: Interpreting JSON column(s) as StringDtype. This behavior may change in future versions.\n",
      "  warnings.warn(\n"
     ]
    },
    {
     "name": "stdout",
     "output_type": "stream",
     "text": [
      "Debug:\n",
      "5 rows resolved by helper model.\n",
      "6 rows resolved by large model\n"
     ]
    },
    {
     "data": {
      "text/html": [
       "<div>\n",
       "<style scoped>\n",
       "    .dataframe tbody tr th:only-of-type {\n",
       "        vertical-align: middle;\n",
       "    }\n",
       "\n",
       "    .dataframe tbody tr th {\n",
       "        vertical-align: top;\n",
       "    }\n",
       "\n",
       "    .dataframe thead th {\n",
       "        text-align: right;\n",
       "    }\n",
       "</style>\n",
       "<table border=\"1\" class=\"dataframe\">\n",
       "  <thead>\n",
       "    <tr style=\"text-align: right;\">\n",
       "      <th></th>\n",
       "      <th>Course Name</th>\n",
       "      <th>helper_lm_results</th>\n",
       "      <th>helper_lm_confidence_scores</th>\n",
       "      <th>large_lm_results</th>\n",
       "      <th>large_lm_confidence_scores</th>\n",
       "    </tr>\n",
       "  </thead>\n",
       "  <tbody>\n",
       "    <tr>\n",
       "      <th>0</th>\n",
       "      <td>Probability and Random Processes</td>\n",
       "      <td>True</td>\n",
       "      <td>0.95</td>\n",
       "      <td>&lt;NA&gt;</td>\n",
       "      <td>&lt;NA&gt;</td>\n",
       "    </tr>\n",
       "    <tr>\n",
       "      <th>1</th>\n",
       "      <td>Optimization Methods in Engineering</td>\n",
       "      <td>True</td>\n",
       "      <td>0.99</td>\n",
       "      <td>&lt;NA&gt;</td>\n",
       "      <td>&lt;NA&gt;</td>\n",
       "    </tr>\n",
       "    <tr>\n",
       "      <th>2</th>\n",
       "      <td>Digital Design and Integrated Circuits</td>\n",
       "      <td>True</td>\n",
       "      <td>0.95</td>\n",
       "      <td>&lt;NA&gt;</td>\n",
       "      <td>&lt;NA&gt;</td>\n",
       "    </tr>\n",
       "    <tr>\n",
       "      <th>7</th>\n",
       "      <td>Deep Learning</td>\n",
       "      <td>True</td>\n",
       "      <td>0.95</td>\n",
       "      <td>&lt;NA&gt;</td>\n",
       "      <td>&lt;NA&gt;</td>\n",
       "    </tr>\n",
       "  </tbody>\n",
       "</table>\n",
       "<p>4 rows × 5 columns</p>\n",
       "</div>[4 rows x 5 columns in total]"
      ],
      "text/plain": [
       "                              Course Name  helper_lm_results  \\\n",
       "0        Probability and Random Processes               True   \n",
       "1     Optimization Methods in Engineering               True   \n",
       "2  Digital Design and Integrated Circuits               True   \n",
       "7                           Deep Learning               True   \n",
       "\n",
       "   helper_lm_confidence_scores  large_lm_results  large_lm_confidence_scores  \n",
       "0                         0.95              <NA>                        <NA>  \n",
       "1                         0.99              <NA>                        <NA>  \n",
       "2                         0.95              <NA>                        <NA>  \n",
       "7                         0.95              <NA>                        <NA>  \n",
       "\n",
       "[4 rows x 5 columns]"
      ]
     },
     "execution_count": 8,
     "metadata": {},
     "output_type": "execute_result"
    }
   ],
   "source": [
    "predict_df = df.sem_filter(\n",
    "    \"{Course Name} requires a lot of math\", \n",
    "    model=large_model, \n",
    "    small_model=small_model,\n",
    "    confidence_threshold=0.9, \n",
    "    logprobs=True\n",
    ")\n",
    "predict_df"
   ]
  },
  {
   "cell_type": "markdown",
   "metadata": {},
   "source": [
    "## Apply to the `bigquery-public-data.hacker_news.full` dataset"
   ]
  },
  {
   "cell_type": "markdown",
   "metadata": {},
   "source": [
    "### 1. Import required packages"
   ]
  },
  {
   "cell_type": "code",
   "execution_count": 1,
   "metadata": {},
   "outputs": [
    {
     "name": "stderr",
     "output_type": "stream",
     "text": [
      "/usr/local/google/home/sycai/src/python-bigquery-dataframes/bigframes/pandas/__init__.py:860: DefaultLocationWarning: No explicit location is set, so using location US for the session.\n",
      "  return global_session.get_global_session()\n"
     ]
    },
    {
     "data": {
      "text/html": [
       "Query job 872a12fa-7bbc-4426-be83-6cceee653b3d is DONE. 0 Bytes processed. <a target=\"_blank\" href=\"https://console.cloud.google.com/bigquery?project=bigframes-dev&j=bq:US:872a12fa-7bbc-4426-be83-6cceee653b3d&page=queryresults\">Open Job</a>"
      ],
      "text/plain": [
       "<IPython.core.display.HTML object>"
      ]
     },
     "metadata": {},
     "output_type": "display_data"
    },
    {
     "data": {
      "text/html": [
       "Query job c97fca04-dd40-4ccb-9668-bdc9f2c64ce1 is DONE. 0 Bytes processed. <a target=\"_blank\" href=\"https://console.cloud.google.com/bigquery?project=bigframes-dev&j=bq:US:c97fca04-dd40-4ccb-9668-bdc9f2c64ce1&page=queryresults\">Open Job</a>"
      ],
      "text/plain": [
       "<IPython.core.display.HTML object>"
      ]
     },
     "metadata": {},
     "output_type": "display_data"
    }
   ],
   "source": [
    "import bigframes.pandas as bpd\n",
    "from bigframes.ml.llm import GeminiTextGenerator, _GEMINI_1P5_FLASH_001_ENDPOINT, _GEMINI_1P5_PRO_001_ENDPOINT\n",
    "\n",
    "large_model = GeminiTextGenerator(model_name=_GEMINI_1P5_PRO_001_ENDPOINT)\n",
    "small_model = GeminiTextGenerator(model_name=_GEMINI_1P5_FLASH_001_ENDPOINT)\n",
    "# Run 6s"
   ]
  },
  {
   "cell_type": "markdown",
   "metadata": {},
   "source": [
    "### 2. Read table and select columns\n",
    "\n",
    "- This dataset contains information on Hacker News stories and comments.\n",
    "- The dataset includes 41M rows in total"
   ]
  },
  {
   "cell_type": "code",
   "execution_count": 4,
   "metadata": {},
   "outputs": [
    {
     "data": {
      "text/html": [
       "Query job 1d9137a4-fb01-465e-8719-d78835272c19 is DONE. 16.6 GB processed. <a target=\"_blank\" href=\"https://console.cloud.google.com/bigquery?project=bigframes-dev&j=bq:US:1d9137a4-fb01-465e-8719-d78835272c19&page=queryresults\">Open Job</a>"
      ],
      "text/plain": [
       "<IPython.core.display.HTML object>"
      ]
     },
     "metadata": {},
     "output_type": "display_data"
    },
    {
     "data": {
      "text/html": [
       "Query job 56386e44-956b-416b-ba20-4f043cc2fe7d is DONE. 1.9 MB processed. <a target=\"_blank\" href=\"https://console.cloud.google.com/bigquery?project=bigframes-dev&j=bq:US:56386e44-956b-416b-ba20-4f043cc2fe7d&page=queryresults\">Open Job</a>"
      ],
      "text/plain": [
       "<IPython.core.display.HTML object>"
      ]
     },
     "metadata": {},
     "output_type": "display_data"
    },
    {
     "data": {
      "text/html": [
       "Query job 37764e68-326e-49e9-9b8e-973063fd7282 is DONE. 1.9 MB processed. <a target=\"_blank\" href=\"https://console.cloud.google.com/bigquery?project=bigframes-dev&j=bq:US:37764e68-326e-49e9-9b8e-973063fd7282&page=queryresults\">Open Job</a>"
      ],
      "text/plain": [
       "<IPython.core.display.HTML object>"
      ]
     },
     "metadata": {},
     "output_type": "display_data"
    },
    {
     "data": {
      "text/html": [
       "<div>\n",
       "<style scoped>\n",
       "    .dataframe tbody tr th:only-of-type {\n",
       "        vertical-align: middle;\n",
       "    }\n",
       "\n",
       "    .dataframe tbody tr th {\n",
       "        vertical-align: top;\n",
       "    }\n",
       "\n",
       "    .dataframe thead th {\n",
       "        text-align: right;\n",
       "    }\n",
       "</style>\n",
       "<table border=\"1\" class=\"dataframe\">\n",
       "  <thead>\n",
       "    <tr style=\"text-align: right;\">\n",
       "      <th></th>\n",
       "      <th>title</th>\n",
       "      <th>text</th>\n",
       "      <th>by</th>\n",
       "      <th>score</th>\n",
       "      <th>time</th>\n",
       "    </tr>\n",
       "  </thead>\n",
       "  <tbody>\n",
       "    <tr>\n",
       "      <th>0</th>\n",
       "      <td>&lt;NA&gt;</td>\n",
       "      <td>Well, most people aren&amp;#x27;t alcoholics, so I...</td>\n",
       "      <td>slipframe</td>\n",
       "      <td>&lt;NA&gt;</td>\n",
       "      <td>1624675076</td>\n",
       "    </tr>\n",
       "    <tr>\n",
       "      <th>1</th>\n",
       "      <td>&lt;NA&gt;</td>\n",
       "      <td>No, you don&amp;#x27;t really &lt;i&gt;need&lt;/i&gt; a smartp...</td>\n",
       "      <td>vetinari</td>\n",
       "      <td>&lt;NA&gt;</td>\n",
       "      <td>1681919794</td>\n",
       "    </tr>\n",
       "    <tr>\n",
       "      <th>2</th>\n",
       "      <td>&lt;NA&gt;</td>\n",
       "      <td>It&amp;#x27;s for the late Paul Allen RIP. Should&amp;...</td>\n",
       "      <td>lsr_ssri</td>\n",
       "      <td>&lt;NA&gt;</td>\n",
       "      <td>1539652075</td>\n",
       "    </tr>\n",
       "    <tr>\n",
       "      <th>3</th>\n",
       "      <td>&lt;NA&gt;</td>\n",
       "      <td>Yup they are dangerous. Be careful Donald Trump.</td>\n",
       "      <td>Sven7</td>\n",
       "      <td>&lt;NA&gt;</td>\n",
       "      <td>1439222754</td>\n",
       "    </tr>\n",
       "    <tr>\n",
       "      <th>4</th>\n",
       "      <td>&lt;NA&gt;</td>\n",
       "      <td>Sure, it&amp;#x27;s totally reasonable. Just point...</td>\n",
       "      <td>nicoburns</td>\n",
       "      <td>&lt;NA&gt;</td>\n",
       "      <td>1601896851</td>\n",
       "    </tr>\n",
       "    <tr>\n",
       "      <th>...</th>\n",
       "      <td>...</td>\n",
       "      <td>...</td>\n",
       "      <td>...</td>\n",
       "      <td>...</td>\n",
       "      <td>...</td>\n",
       "    </tr>\n",
       "    <tr>\n",
       "      <th>4995</th>\n",
       "      <td>&lt;NA&gt;</td>\n",
       "      <td>The report this article is based on says about...</td>\n",
       "      <td>jowea</td>\n",
       "      <td>&lt;NA&gt;</td>\n",
       "      <td>1695300352</td>\n",
       "    </tr>\n",
       "    <tr>\n",
       "      <th>4996</th>\n",
       "      <td>&lt;NA&gt;</td>\n",
       "      <td>This is what I do and it works great.</td>\n",
       "      <td>hacknat</td>\n",
       "      <td>&lt;NA&gt;</td>\n",
       "      <td>1396460951</td>\n",
       "    </tr>\n",
       "    <tr>\n",
       "      <th>4997</th>\n",
       "      <td>&lt;NA&gt;</td>\n",
       "      <td>Not every law is a restriction of freedom. My ...</td>\n",
       "      <td>throwaway248329</td>\n",
       "      <td>&lt;NA&gt;</td>\n",
       "      <td>1638452070</td>\n",
       "    </tr>\n",
       "    <tr>\n",
       "      <th>4998</th>\n",
       "      <td>&lt;NA&gt;</td>\n",
       "      <td>Give em an excuse to really switch to git and ...</td>\n",
       "      <td>zobzu</td>\n",
       "      <td>&lt;NA&gt;</td>\n",
       "      <td>1396451042</td>\n",
       "    </tr>\n",
       "    <tr>\n",
       "      <th>4999</th>\n",
       "      <td>&lt;NA&gt;</td>\n",
       "      <td>This is the first time I'm hearing anything ab...</td>\n",
       "      <td>Eliezer</td>\n",
       "      <td>&lt;NA&gt;</td>\n",
       "      <td>1359990321</td>\n",
       "    </tr>\n",
       "  </tbody>\n",
       "</table>\n",
       "<p>5000 rows × 5 columns</p>\n",
       "</div>[5000 rows x 5 columns in total]"
      ],
      "text/plain": [
       "     title                                               text  \\\n",
       "0     <NA>  Well, most people aren&#x27;t alcoholics, so I...   \n",
       "1     <NA>  No, you don&#x27;t really <i>need</i> a smartp...   \n",
       "2     <NA>  It&#x27;s for the late Paul Allen RIP. Should&...   \n",
       "3     <NA>   Yup they are dangerous. Be careful Donald Trump.   \n",
       "4     <NA>  Sure, it&#x27;s totally reasonable. Just point...   \n",
       "...    ...                                                ...   \n",
       "4995  <NA>  The report this article is based on says about...   \n",
       "4996  <NA>              This is what I do and it works great.   \n",
       "4997  <NA>  Not every law is a restriction of freedom. My ...   \n",
       "4998  <NA>  Give em an excuse to really switch to git and ...   \n",
       "4999  <NA>  This is the first time I'm hearing anything ab...   \n",
       "\n",
       "                   by  score        time  \n",
       "0           slipframe   <NA>  1624675076  \n",
       "1            vetinari   <NA>  1681919794  \n",
       "2            lsr_ssri   <NA>  1539652075  \n",
       "3               Sven7   <NA>  1439222754  \n",
       "4           nicoburns   <NA>  1601896851  \n",
       "...               ...    ...         ...  \n",
       "4995            jowea   <NA>  1695300352  \n",
       "4996          hacknat   <NA>  1396460951  \n",
       "4997  throwaway248329   <NA>  1638452070  \n",
       "4998            zobzu   <NA>  1396451042  \n",
       "4999          Eliezer   <NA>  1359990321  \n",
       "...\n",
       "\n",
       "[5000 rows x 5 columns]"
      ]
     },
     "execution_count": 4,
     "metadata": {},
     "output_type": "execute_result"
    }
   ],
   "source": [
    "hacker_news = bpd.read_gbq(\"bigquery-public-data.hacker_news.full\")\n",
    "hacker_news = hacker_news[[\"title\", \"text\", \"by\", \"score\", \"time\"]].head(5000)\n",
    "hacker_news\n",
    "# Run 4s"
   ]
  },
  {
   "cell_type": "markdown",
   "metadata": {},
   "source": [
    "### 3. Filter titles related to \"Art\""
   ]
  },
  {
   "cell_type": "code",
   "execution_count": 5,
   "metadata": {},
   "outputs": [
    {
     "data": {
      "text/html": [
       "Query job 65d44391-2df4-4e30-a704-e22ae43ae019 is DONE. 1.9 MB processed. <a target=\"_blank\" href=\"https://console.cloud.google.com/bigquery?project=bigframes-dev&j=bq:US:65d44391-2df4-4e30-a704-e22ae43ae019&page=queryresults\">Open Job</a>"
      ],
      "text/plain": [
       "<IPython.core.display.HTML object>"
      ]
     },
     "metadata": {},
     "output_type": "display_data"
    },
    {
     "data": {
      "text/html": [
       "Query job 7a089ce7-8db9-40ad-ba47-f8fd88106903 is DONE. 77.2 kB processed. <a target=\"_blank\" href=\"https://console.cloud.google.com/bigquery?project=bigframes-dev&j=bq:US:7a089ce7-8db9-40ad-ba47-f8fd88106903&page=queryresults\">Open Job</a>"
      ],
      "text/plain": [
       "<IPython.core.display.HTML object>"
      ]
     },
     "metadata": {},
     "output_type": "display_data"
    },
    {
     "data": {
      "text/html": [
       "Query job d57eebdd-2f09-47d8-8138-7534499cf121 is DONE. 77.2 kB processed. <a target=\"_blank\" href=\"https://console.cloud.google.com/bigquery?project=bigframes-dev&j=bq:US:d57eebdd-2f09-47d8-8138-7534499cf121&page=queryresults\">Open Job</a>"
      ],
      "text/plain": [
       "<IPython.core.display.HTML object>"
      ]
     },
     "metadata": {},
     "output_type": "display_data"
    },
    {
     "data": {
      "text/html": [
       "<div>\n",
       "<style scoped>\n",
       "    .dataframe tbody tr th:only-of-type {\n",
       "        vertical-align: middle;\n",
       "    }\n",
       "\n",
       "    .dataframe tbody tr th {\n",
       "        vertical-align: top;\n",
       "    }\n",
       "\n",
       "    .dataframe thead th {\n",
       "        text-align: right;\n",
       "    }\n",
       "</style>\n",
       "<table border=\"1\" class=\"dataframe\">\n",
       "  <thead>\n",
       "    <tr style=\"text-align: right;\">\n",
       "      <th></th>\n",
       "      <th>title</th>\n",
       "      <th>text</th>\n",
       "      <th>by</th>\n",
       "      <th>score</th>\n",
       "      <th>time</th>\n",
       "    </tr>\n",
       "  </thead>\n",
       "  <tbody>\n",
       "    <tr>\n",
       "      <th>6</th>\n",
       "      <td>The Impending NY Tech Apocalypse: Here's What ...</td>\n",
       "      <td>&lt;NA&gt;</td>\n",
       "      <td>gaoprea</td>\n",
       "      <td>3</td>\n",
       "      <td>1317163407</td>\n",
       "    </tr>\n",
       "    <tr>\n",
       "      <th>8</th>\n",
       "      <td>Eureca beta is live. A place for your business...</td>\n",
       "      <td>&lt;NA&gt;</td>\n",
       "      <td>ricardos</td>\n",
       "      <td>1</td>\n",
       "      <td>1350306572</td>\n",
       "    </tr>\n",
       "    <tr>\n",
       "      <th>15</th>\n",
       "      <td>Discord vs. IRC Rough Notes</td>\n",
       "      <td>&lt;NA&gt;</td>\n",
       "      <td>todsacerdoti</td>\n",
       "      <td>48</td>\n",
       "      <td>1720809592</td>\n",
       "    </tr>\n",
       "    <tr>\n",
       "      <th>21</th>\n",
       "      <td>Oh dear: new Yahoo anti-spoofing measures brea...</td>\n",
       "      <td>&lt;NA&gt;</td>\n",
       "      <td>joshreads</td>\n",
       "      <td>1</td>\n",
       "      <td>1396963790</td>\n",
       "    </tr>\n",
       "    <tr>\n",
       "      <th>22</th>\n",
       "      <td>How Much Warmer Was Your City in 2016?</td>\n",
       "      <td>&lt;NA&gt;</td>\n",
       "      <td>smb06</td>\n",
       "      <td>1</td>\n",
       "      <td>1487287594</td>\n",
       "    </tr>\n",
       "    <tr>\n",
       "      <th>...</th>\n",
       "      <td>...</td>\n",
       "      <td>...</td>\n",
       "      <td>...</td>\n",
       "      <td>...</td>\n",
       "      <td>...</td>\n",
       "    </tr>\n",
       "    <tr>\n",
       "      <th>4946</th>\n",
       "      <td>Using Social Media To Cover For Lack Of Origin...</td>\n",
       "      <td>&lt;NA&gt;</td>\n",
       "      <td>taytus</td>\n",
       "      <td>2</td>\n",
       "      <td>1353533202</td>\n",
       "    </tr>\n",
       "    <tr>\n",
       "      <th>4953</th>\n",
       "      <td>Design from Memory to UI</td>\n",
       "      <td>&lt;NA&gt;</td>\n",
       "      <td>wizardofmysore</td>\n",
       "      <td>1</td>\n",
       "      <td>1610036225</td>\n",
       "    </tr>\n",
       "    <tr>\n",
       "      <th>4958</th>\n",
       "      <td>How to keep your employees from joining the ‘G...</td>\n",
       "      <td>&lt;NA&gt;</td>\n",
       "      <td>CrankyBear</td>\n",
       "      <td>1</td>\n",
       "      <td>1631035622</td>\n",
       "    </tr>\n",
       "    <tr>\n",
       "      <th>4969</th>\n",
       "      <td>Marketplace for themes built with the highest ...</td>\n",
       "      <td>Looking for themes made with frameworks like T...</td>\n",
       "      <td>themebulk</td>\n",
       "      <td>1</td>\n",
       "      <td>1372027020</td>\n",
       "    </tr>\n",
       "    <tr>\n",
       "      <th>4985</th>\n",
       "      <td>The dos and don'ts of large, online communities</td>\n",
       "      <td>&lt;NA&gt;</td>\n",
       "      <td>samwho</td>\n",
       "      <td>2</td>\n",
       "      <td>1551391768</td>\n",
       "    </tr>\n",
       "  </tbody>\n",
       "</table>\n",
       "<p>589 rows × 5 columns</p>\n",
       "</div>[589 rows x 5 columns in total]"
      ],
      "text/plain": [
       "                                                  title  \\\n",
       "6     The Impending NY Tech Apocalypse: Here's What ...   \n",
       "8     Eureca beta is live. A place for your business...   \n",
       "15                          Discord vs. IRC Rough Notes   \n",
       "21    Oh dear: new Yahoo anti-spoofing measures brea...   \n",
       "22               How Much Warmer Was Your City in 2016?   \n",
       "...                                                 ...   \n",
       "4946  Using Social Media To Cover For Lack Of Origin...   \n",
       "4953                           Design from Memory to UI   \n",
       "4958  How to keep your employees from joining the ‘G...   \n",
       "4969  Marketplace for themes built with the highest ...   \n",
       "4985    The dos and don'ts of large, online communities   \n",
       "\n",
       "                                                   text              by  \\\n",
       "6                                                  <NA>         gaoprea   \n",
       "8                                                  <NA>        ricardos   \n",
       "15                                                 <NA>    todsacerdoti   \n",
       "21                                                 <NA>       joshreads   \n",
       "22                                                 <NA>           smb06   \n",
       "...                                                 ...             ...   \n",
       "4946                                               <NA>          taytus   \n",
       "4953                                               <NA>  wizardofmysore   \n",
       "4958                                               <NA>      CrankyBear   \n",
       "4969  Looking for themes made with frameworks like T...       themebulk   \n",
       "4985                                               <NA>          samwho   \n",
       "\n",
       "      score        time  \n",
       "6         3  1317163407  \n",
       "8         1  1350306572  \n",
       "15       48  1720809592  \n",
       "21        1  1396963790  \n",
       "22        1  1487287594  \n",
       "...     ...         ...  \n",
       "4946      2  1353533202  \n",
       "4953      1  1610036225  \n",
       "4958      1  1631035622  \n",
       "4969      1  1372027020  \n",
       "4985      2  1551391768  \n",
       "...\n",
       "\n",
       "[589 rows x 5 columns]"
      ]
     },
     "execution_count": 5,
     "metadata": {},
     "output_type": "execute_result"
    }
   ],
   "source": [
    "hacker_news_w_title = hacker_news[hacker_news[\"title\"].isnull() == False]\n",
    "hacker_news_w_title\n",
    "# Run 6s"
   ]
  },
  {
   "cell_type": "code",
   "execution_count": 11,
   "metadata": {},
   "outputs": [
    {
     "name": "stdout",
     "output_type": "stream",
     "text": [
      "CPU times: user 10 μs, sys: 0 ns, total: 10 μs\n",
      "Wall time: 20.3 μs\n"
     ]
    },
    {
     "data": {
      "text/html": [
       "Query job 1d0681ba-0146-4277-be64-6340e637966d is DONE. 35.0 kB processed. <a target=\"_blank\" href=\"https://console.cloud.google.com/bigquery?project=bigframes-dev&j=bq:US:1d0681ba-0146-4277-be64-6340e637966d&page=queryresults\">Open Job</a>"
      ],
      "text/plain": [
       "<IPython.core.display.HTML object>"
      ]
     },
     "metadata": {},
     "output_type": "display_data"
    },
    {
     "name": "stderr",
     "output_type": "stream",
     "text": [
      "/usr/local/google/home/sycai/src/python-bigquery-dataframes/bigframes/core/__init__.py:92: PreviewWarning: Interpreting JSON column(s) as StringDtype. This behavior may change in future versions.\n",
      "  warnings.warn(\n"
     ]
    },
    {
     "data": {
      "text/html": [
       "Query job ceb382c2-0a95-4db9-9619-b5493b5acd18 is DONE. 1.2 kB processed. <a target=\"_blank\" href=\"https://console.cloud.google.com/bigquery?project=bigframes-dev&j=bq:US:ceb382c2-0a95-4db9-9619-b5493b5acd18&page=queryresults\">Open Job</a>"
      ],
      "text/plain": [
       "<IPython.core.display.HTML object>"
      ]
     },
     "metadata": {},
     "output_type": "display_data"
    },
    {
     "data": {
      "text/html": [
       "Query job ab00e356-be8e-4d15-9a47-cd4514ba23b0 is DONE. 0 Bytes processed. <a target=\"_blank\" href=\"https://console.cloud.google.com/bigquery?project=bigframes-dev&j=bq:US:ab00e356-be8e-4d15-9a47-cd4514ba23b0&page=queryresults\">Open Job</a>"
      ],
      "text/plain": [
       "<IPython.core.display.HTML object>"
      ]
     },
     "metadata": {},
     "output_type": "display_data"
    }
   ],
   "source": [
    "%time\n",
    "art_hacker_news = hacker_news_w_title.sem_filter(\"{title} is related to Art\", model=large_model)\n",
    "#Run time: 55m 30.2s"
   ]
  },
  {
   "cell_type": "code",
   "execution_count": 12,
   "metadata": {},
   "outputs": [
    {
     "data": {
      "text/html": [
       "Query job 11d8d667-d3b4-4416-9e27-80e6ac2d2945 is DONE. 89.9 kB processed. <a target=\"_blank\" href=\"https://console.cloud.google.com/bigquery?project=bigframes-dev&j=bq:US:11d8d667-d3b4-4416-9e27-80e6ac2d2945&page=queryresults\">Open Job</a>"
      ],
      "text/plain": [
       "<IPython.core.display.HTML object>"
      ]
     },
     "metadata": {},
     "output_type": "display_data"
    },
    {
     "data": {
      "text/html": [
       "Query job d0ad398e-2ada-4132-9ee0-b7d8a9bfc681 is DONE. 3.9 kB processed. <a target=\"_blank\" href=\"https://console.cloud.google.com/bigquery?project=bigframes-dev&j=bq:US:d0ad398e-2ada-4132-9ee0-b7d8a9bfc681&page=queryresults\">Open Job</a>"
      ],
      "text/plain": [
       "<IPython.core.display.HTML object>"
      ]
     },
     "metadata": {},
     "output_type": "display_data"
    },
    {
     "data": {
      "text/html": [
       "Query job 3d15b314-bc83-4e9b-bab3-30ce202a49e3 is DONE. 3.9 kB processed. <a target=\"_blank\" href=\"https://console.cloud.google.com/bigquery?project=bigframes-dev&j=bq:US:3d15b314-bc83-4e9b-bab3-30ce202a49e3&page=queryresults\">Open Job</a>"
      ],
      "text/plain": [
       "<IPython.core.display.HTML object>"
      ]
     },
     "metadata": {},
     "output_type": "display_data"
    },
    {
     "data": {
      "text/html": [
       "<div>\n",
       "<style scoped>\n",
       "    .dataframe tbody tr th:only-of-type {\n",
       "        vertical-align: middle;\n",
       "    }\n",
       "\n",
       "    .dataframe tbody tr th {\n",
       "        vertical-align: top;\n",
       "    }\n",
       "\n",
       "    .dataframe thead th {\n",
       "        text-align: right;\n",
       "    }\n",
       "</style>\n",
       "<table border=\"1\" class=\"dataframe\">\n",
       "  <thead>\n",
       "    <tr style=\"text-align: right;\">\n",
       "      <th></th>\n",
       "      <th>title</th>\n",
       "      <th>text</th>\n",
       "      <th>by</th>\n",
       "      <th>score</th>\n",
       "      <th>time</th>\n",
       "    </tr>\n",
       "  </thead>\n",
       "  <tbody>\n",
       "    <tr>\n",
       "      <th>144</th>\n",
       "      <td>Colorful JSON Visualization Representation</td>\n",
       "      <td>&lt;NA&gt;</td>\n",
       "      <td>hussein8844</td>\n",
       "      <td>1</td>\n",
       "      <td>1566767108</td>\n",
       "    </tr>\n",
       "    <tr>\n",
       "      <th>155</th>\n",
       "      <td>Making Blogger Blogs Prettier: Google Launches...</td>\n",
       "      <td>&lt;NA&gt;</td>\n",
       "      <td>andrimtd</td>\n",
       "      <td>1</td>\n",
       "      <td>1305447025</td>\n",
       "    </tr>\n",
       "    <tr>\n",
       "      <th>407</th>\n",
       "      <td>GCH Guitar Academy, free online guitar lessons...</td>\n",
       "      <td>&lt;NA&gt;</td>\n",
       "      <td>evo_9</td>\n",
       "      <td>1</td>\n",
       "      <td>1647355546</td>\n",
       "    </tr>\n",
       "    <tr>\n",
       "      <th>655</th>\n",
       "      <td>The Beauty of Code</td>\n",
       "      <td>&lt;NA&gt;</td>\n",
       "      <td>cobralibre</td>\n",
       "      <td>63</td>\n",
       "      <td>1429980871</td>\n",
       "    </tr>\n",
       "    <tr>\n",
       "      <th>657</th>\n",
       "      <td>Top Free Programming Fonts</td>\n",
       "      <td>&lt;NA&gt;</td>\n",
       "      <td>Deprecated</td>\n",
       "      <td>2</td>\n",
       "      <td>1406562457</td>\n",
       "    </tr>\n",
       "    <tr>\n",
       "      <th>...</th>\n",
       "      <td>...</td>\n",
       "      <td>...</td>\n",
       "      <td>...</td>\n",
       "      <td>...</td>\n",
       "      <td>...</td>\n",
       "    </tr>\n",
       "    <tr>\n",
       "      <th>4391</th>\n",
       "      <td>Illustrating Your Life in Graphs and Charts</td>\n",
       "      <td>&lt;NA&gt;</td>\n",
       "      <td>rayboyd</td>\n",
       "      <td>1</td>\n",
       "      <td>1303385137</td>\n",
       "    </tr>\n",
       "    <tr>\n",
       "      <th>4410</th>\n",
       "      <td>Corey Haines and Dan North debate over Twitter...</td>\n",
       "      <td>&lt;NA&gt;</td>\n",
       "      <td>evolve2k</td>\n",
       "      <td>4</td>\n",
       "      <td>1297215698</td>\n",
       "    </tr>\n",
       "    <tr>\n",
       "      <th>4839</th>\n",
       "      <td>Matthias Buchinger</td>\n",
       "      <td>&lt;NA&gt;</td>\n",
       "      <td>gmargari</td>\n",
       "      <td>9</td>\n",
       "      <td>1684684807</td>\n",
       "    </tr>\n",
       "    <tr>\n",
       "      <th>4862</th>\n",
       "      <td>The Decline of Madness</td>\n",
       "      <td>&lt;NA&gt;</td>\n",
       "      <td>chippy</td>\n",
       "      <td>1</td>\n",
       "      <td>1659691153</td>\n",
       "    </tr>\n",
       "    <tr>\n",
       "      <th>4953</th>\n",
       "      <td>Design from Memory to UI</td>\n",
       "      <td>&lt;NA&gt;</td>\n",
       "      <td>wizardofmysore</td>\n",
       "      <td>1</td>\n",
       "      <td>1610036225</td>\n",
       "    </tr>\n",
       "  </tbody>\n",
       "</table>\n",
       "<p>40 rows × 5 columns</p>\n",
       "</div>[40 rows x 5 columns in total]"
      ],
      "text/plain": [
       "                                                  title  text              by  \\\n",
       "144          Colorful JSON Visualization Representation  <NA>     hussein8844   \n",
       "155   Making Blogger Blogs Prettier: Google Launches...  <NA>        andrimtd   \n",
       "407   GCH Guitar Academy, free online guitar lessons...  <NA>           evo_9   \n",
       "655                                  The Beauty of Code  <NA>      cobralibre   \n",
       "657                          Top Free Programming Fonts  <NA>      Deprecated   \n",
       "...                                                 ...   ...             ...   \n",
       "4391        Illustrating Your Life in Graphs and Charts  <NA>         rayboyd   \n",
       "4410  Corey Haines and Dan North debate over Twitter...  <NA>        evolve2k   \n",
       "4839                                 Matthias Buchinger  <NA>        gmargari   \n",
       "4862                             The Decline of Madness  <NA>          chippy   \n",
       "4953                           Design from Memory to UI  <NA>  wizardofmysore   \n",
       "\n",
       "      score        time  \n",
       "144       1  1566767108  \n",
       "155       1  1305447025  \n",
       "407       1  1647355546  \n",
       "655      63  1429980871  \n",
       "657       2  1406562457  \n",
       "...     ...         ...  \n",
       "4391      1  1303385137  \n",
       "4410      4  1297215698  \n",
       "4839      9  1684684807  \n",
       "4862      1  1659691153  \n",
       "4953      1  1610036225  \n",
       "...\n",
       "\n",
       "[40 rows x 5 columns]"
      ]
     },
     "execution_count": 12,
     "metadata": {},
     "output_type": "execute_result"
    }
   ],
   "source": [
    "art_hacker_news\n",
    "# Run time 7.1s"
   ]
  },
  {
   "cell_type": "markdown",
   "metadata": {},
   "source": [
    "### 4. Cascade model performance"
   ]
  },
  {
   "cell_type": "code",
   "execution_count": 13,
   "metadata": {},
   "outputs": [
    {
     "name": "stdout",
     "output_type": "stream",
     "text": [
      "CPU times: user 6 μs, sys: 3 μs, total: 9 μs\n",
      "Wall time: 16.2 μs\n"
     ]
    },
    {
     "data": {
      "text/html": [
       "Query job 1506cfca-9f84-426c-83dc-f718d3d4c933 is DONE. 35.0 kB processed. <a target=\"_blank\" href=\"https://console.cloud.google.com/bigquery?project=bigframes-dev&j=bq:US:1506cfca-9f84-426c-83dc-f718d3d4c933&page=queryresults\">Open Job</a>"
      ],
      "text/plain": [
       "<IPython.core.display.HTML object>"
      ]
     },
     "metadata": {},
     "output_type": "display_data"
    },
    {
     "name": "stderr",
     "output_type": "stream",
     "text": [
      "/usr/local/google/home/sycai/src/python-bigquery-dataframes/bigframes/core/__init__.py:92: PreviewWarning: Interpreting JSON column(s) as StringDtype. This behavior may change in future versions.\n",
      "  warnings.warn(\n"
     ]
    },
    {
     "data": {
      "text/html": [
       "Query job abf954ab-1c24-40a0-8c58-af54e4227652 is DONE. 1.2 kB processed. <a target=\"_blank\" href=\"https://console.cloud.google.com/bigquery?project=bigframes-dev&j=bq:US:abf954ab-1c24-40a0-8c58-af54e4227652&page=queryresults\">Open Job</a>"
      ],
      "text/plain": [
       "<IPython.core.display.HTML object>"
      ]
     },
     "metadata": {},
     "output_type": "display_data"
    },
    {
     "data": {
      "text/html": [
       "Query job 6479f8e8-bab5-4725-a7cd-fabff69f64ba is DONE. 0 Bytes processed. <a target=\"_blank\" href=\"https://console.cloud.google.com/bigquery?project=bigframes-dev&j=bq:US:6479f8e8-bab5-4725-a7cd-fabff69f64ba&page=queryresults\">Open Job</a>"
      ],
      "text/plain": [
       "<IPython.core.display.HTML object>"
      ]
     },
     "metadata": {},
     "output_type": "display_data"
    },
    {
     "data": {
      "text/html": [
       "Query job e84179d9-571c-438b-b186-e0793444d788 is DONE. 47.9 kB processed. <a target=\"_blank\" href=\"https://console.cloud.google.com/bigquery?project=bigframes-dev&j=bq:US:e84179d9-571c-438b-b186-e0793444d788&page=queryresults\">Open Job</a>"
      ],
      "text/plain": [
       "<IPython.core.display.HTML object>"
      ]
     },
     "metadata": {},
     "output_type": "display_data"
    },
    {
     "name": "stderr",
     "output_type": "stream",
     "text": [
      "/usr/local/google/home/sycai/src/python-bigquery-dataframes/bigframes/core/__init__.py:92: PreviewWarning: Interpreting JSON column(s) as StringDtype. This behavior may change in future versions.\n",
      "  warnings.warn(\n"
     ]
    },
    {
     "data": {
      "text/html": [
       "Query job b1fc0784-32bd-47ae-aa42-5bdb6d4ed0ba is DONE. 72 Bytes processed. <a target=\"_blank\" href=\"https://console.cloud.google.com/bigquery?project=bigframes-dev&j=bq:US:b1fc0784-32bd-47ae-aa42-5bdb6d4ed0ba&page=queryresults\">Open Job</a>"
      ],
      "text/plain": [
       "<IPython.core.display.HTML object>"
      ]
     },
     "metadata": {},
     "output_type": "display_data"
    },
    {
     "data": {
      "text/html": [
       "Query job 8373aa22-9ee9-4ffe-bda5-6a8e834bbeb1 is DONE. 0 Bytes processed. <a target=\"_blank\" href=\"https://console.cloud.google.com/bigquery?project=bigframes-dev&j=bq:US:8373aa22-9ee9-4ffe-bda5-6a8e834bbeb1&page=queryresults\">Open Job</a>"
      ],
      "text/plain": [
       "<IPython.core.display.HTML object>"
      ]
     },
     "metadata": {},
     "output_type": "display_data"
    },
    {
     "data": {
      "text/html": [
       "Query job 56caefc0-df38-4c34-9d0c-059e13e0d2eb is DONE. 17.6 kB processed. <a target=\"_blank\" href=\"https://console.cloud.google.com/bigquery?project=bigframes-dev&j=bq:US:56caefc0-df38-4c34-9d0c-059e13e0d2eb&page=queryresults\">Open Job</a>"
      ],
      "text/plain": [
       "<IPython.core.display.HTML object>"
      ]
     },
     "metadata": {},
     "output_type": "display_data"
    },
    {
     "name": "stdout",
     "output_type": "stream",
     "text": [
      "Debug:\n",
      "553 rows resolved by helper model.\n",
      "36 rows resolved by large model\n"
     ]
    }
   ],
   "source": [
    "%time \n",
    "art_hacker_news = hacker_news_w_title.sem_filter(\"Is {title} related to Art\", model=large_model, helper_model=small_model)\n",
    "#Run time 20m 10.2s"
   ]
  },
  {
   "cell_type": "code",
   "execution_count": 14,
   "metadata": {},
   "outputs": [
    {
     "name": "stdout",
     "output_type": "stream",
     "text": [
      "CPU times: user 5 μs, sys: 3 μs, total: 8 μs\n",
      "Wall time: 16.2 μs\n"
     ]
    },
    {
     "data": {
      "text/html": [
       "Query job ffc8b7e8-856a-43c2-ab51-2c5d84d439b3 is DONE. 90.9 kB processed. <a target=\"_blank\" href=\"https://console.cloud.google.com/bigquery?project=bigframes-dev&j=bq:US:ffc8b7e8-856a-43c2-ab51-2c5d84d439b3&page=queryresults\">Open Job</a>"
      ],
      "text/plain": [
       "<IPython.core.display.HTML object>"
      ]
     },
     "metadata": {},
     "output_type": "display_data"
    },
    {
     "data": {
      "text/html": [
       "Query job 1eecde20-1f9e-436e-87a5-9c44bd3aca8e is DONE. 4.8 kB processed. <a target=\"_blank\" href=\"https://console.cloud.google.com/bigquery?project=bigframes-dev&j=bq:US:1eecde20-1f9e-436e-87a5-9c44bd3aca8e&page=queryresults\">Open Job</a>"
      ],
      "text/plain": [
       "<IPython.core.display.HTML object>"
      ]
     },
     "metadata": {},
     "output_type": "display_data"
    },
    {
     "data": {
      "text/html": [
       "Query job 94462624-aa37-40ad-abef-9c7f8014bcb5 is DONE. 4.8 kB processed. <a target=\"_blank\" href=\"https://console.cloud.google.com/bigquery?project=bigframes-dev&j=bq:US:94462624-aa37-40ad-abef-9c7f8014bcb5&page=queryresults\">Open Job</a>"
      ],
      "text/plain": [
       "<IPython.core.display.HTML object>"
      ]
     },
     "metadata": {},
     "output_type": "display_data"
    },
    {
     "data": {
      "text/html": [
       "<div>\n",
       "<style scoped>\n",
       "    .dataframe tbody tr th:only-of-type {\n",
       "        vertical-align: middle;\n",
       "    }\n",
       "\n",
       "    .dataframe tbody tr th {\n",
       "        vertical-align: top;\n",
       "    }\n",
       "\n",
       "    .dataframe thead th {\n",
       "        text-align: right;\n",
       "    }\n",
       "</style>\n",
       "<table border=\"1\" class=\"dataframe\">\n",
       "  <thead>\n",
       "    <tr style=\"text-align: right;\">\n",
       "      <th></th>\n",
       "      <th>title</th>\n",
       "      <th>text</th>\n",
       "      <th>by</th>\n",
       "      <th>score</th>\n",
       "      <th>time</th>\n",
       "    </tr>\n",
       "  </thead>\n",
       "  <tbody>\n",
       "    <tr>\n",
       "      <th>144</th>\n",
       "      <td>Colorful JSON Visualization Representation</td>\n",
       "      <td>&lt;NA&gt;</td>\n",
       "      <td>hussein8844</td>\n",
       "      <td>1</td>\n",
       "      <td>1566767108</td>\n",
       "    </tr>\n",
       "    <tr>\n",
       "      <th>155</th>\n",
       "      <td>Making Blogger Blogs Prettier: Google Launches...</td>\n",
       "      <td>&lt;NA&gt;</td>\n",
       "      <td>andrimtd</td>\n",
       "      <td>1</td>\n",
       "      <td>1305447025</td>\n",
       "    </tr>\n",
       "    <tr>\n",
       "      <th>235</th>\n",
       "      <td>Be Good (Not Less Bad)</td>\n",
       "      <td>&lt;NA&gt;</td>\n",
       "      <td>yarapavan</td>\n",
       "      <td>1</td>\n",
       "      <td>1318436118</td>\n",
       "    </tr>\n",
       "    <tr>\n",
       "      <th>407</th>\n",
       "      <td>GCH Guitar Academy, free online guitar lessons...</td>\n",
       "      <td>&lt;NA&gt;</td>\n",
       "      <td>evo_9</td>\n",
       "      <td>1</td>\n",
       "      <td>1647355546</td>\n",
       "    </tr>\n",
       "    <tr>\n",
       "      <th>655</th>\n",
       "      <td>The Beauty of Code</td>\n",
       "      <td>&lt;NA&gt;</td>\n",
       "      <td>cobralibre</td>\n",
       "      <td>63</td>\n",
       "      <td>1429980871</td>\n",
       "    </tr>\n",
       "    <tr>\n",
       "      <th>...</th>\n",
       "      <td>...</td>\n",
       "      <td>...</td>\n",
       "      <td>...</td>\n",
       "      <td>...</td>\n",
       "      <td>...</td>\n",
       "    </tr>\n",
       "    <tr>\n",
       "      <th>4410</th>\n",
       "      <td>Corey Haines and Dan North debate over Twitter...</td>\n",
       "      <td>&lt;NA&gt;</td>\n",
       "      <td>evolve2k</td>\n",
       "      <td>4</td>\n",
       "      <td>1297215698</td>\n",
       "    </tr>\n",
       "    <tr>\n",
       "      <th>4425</th>\n",
       "      <td>RESTArt: A Python library with good intentions...</td>\n",
       "      <td>&lt;NA&gt;</td>\n",
       "      <td>russellluo</td>\n",
       "      <td>1</td>\n",
       "      <td>1437320070</td>\n",
       "    </tr>\n",
       "    <tr>\n",
       "      <th>4839</th>\n",
       "      <td>Matthias Buchinger</td>\n",
       "      <td>&lt;NA&gt;</td>\n",
       "      <td>gmargari</td>\n",
       "      <td>9</td>\n",
       "      <td>1684684807</td>\n",
       "    </tr>\n",
       "    <tr>\n",
       "      <th>4862</th>\n",
       "      <td>The Decline of Madness</td>\n",
       "      <td>&lt;NA&gt;</td>\n",
       "      <td>chippy</td>\n",
       "      <td>1</td>\n",
       "      <td>1659691153</td>\n",
       "    </tr>\n",
       "    <tr>\n",
       "      <th>4953</th>\n",
       "      <td>Design from Memory to UI</td>\n",
       "      <td>&lt;NA&gt;</td>\n",
       "      <td>wizardofmysore</td>\n",
       "      <td>1</td>\n",
       "      <td>1610036225</td>\n",
       "    </tr>\n",
       "  </tbody>\n",
       "</table>\n",
       "<p>49 rows × 5 columns</p>\n",
       "</div>[49 rows x 5 columns in total]"
      ],
      "text/plain": [
       "                                                  title  text              by  \\\n",
       "144          Colorful JSON Visualization Representation  <NA>     hussein8844   \n",
       "155   Making Blogger Blogs Prettier: Google Launches...  <NA>        andrimtd   \n",
       "235                            Be Good (Not Less Bad)    <NA>       yarapavan   \n",
       "407   GCH Guitar Academy, free online guitar lessons...  <NA>           evo_9   \n",
       "655                                  The Beauty of Code  <NA>      cobralibre   \n",
       "...                                                 ...   ...             ...   \n",
       "4410  Corey Haines and Dan North debate over Twitter...  <NA>        evolve2k   \n",
       "4425  RESTArt: A Python library with good intentions...  <NA>      russellluo   \n",
       "4839                                 Matthias Buchinger  <NA>        gmargari   \n",
       "4862                             The Decline of Madness  <NA>          chippy   \n",
       "4953                           Design from Memory to UI  <NA>  wizardofmysore   \n",
       "\n",
       "      score        time  \n",
       "144       1  1566767108  \n",
       "155       1  1305447025  \n",
       "235       1  1318436118  \n",
       "407       1  1647355546  \n",
       "655      63  1429980871  \n",
       "...     ...         ...  \n",
       "4410      4  1297215698  \n",
       "4425      1  1437320070  \n",
       "4839      9  1684684807  \n",
       "4862      1  1659691153  \n",
       "4953      1  1610036225  \n",
       "...\n",
       "\n",
       "[49 rows x 5 columns]"
      ]
     },
     "execution_count": 14,
     "metadata": {},
     "output_type": "execute_result"
    }
   ],
   "source": [
    "%time\n",
    "art_hacker_news\n",
    "#Run 6.4s"
   ]
  },
  {
   "cell_type": "markdown",
   "metadata": {},
   "source": [
    "### 5. Automatically refill the missed title"
   ]
  },
  {
   "cell_type": "code",
   "execution_count": null,
   "metadata": {},
   "outputs": [],
   "source": [
    "hacker_news_wo_title = hacker_news[hacker_news[\"title\"].isnull()].head(100)\n",
    "hacker_news_gai_title = hacker_news_wo_title.sem_map(\"Generate a short title for the given context: {text}\", model=large_model)\n",
    "hacker_news_gai_title = hacker_news_gai_title[hacker_news_gai_title[\"title\"].isnull()]\n",
    "hacker_news_gai_title"
   ]
  }
 ],
 "metadata": {
  "kernelspec": {
   "display_name": "venv",
   "language": "python",
   "name": "python3"
  },
  "language_info": {
   "codemirror_mode": {
    "name": "ipython",
    "version": 3
   },
   "file_extension": ".py",
   "mimetype": "text/x-python",
   "name": "python",
   "nbconvert_exporter": "python",
   "pygments_lexer": "ipython3",
   "version": "3.12.1"
  }
 },
 "nbformat": 4,
 "nbformat_minor": 2
}
