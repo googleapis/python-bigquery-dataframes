{
 "cells": [
  {
   "cell_type": "markdown",
   "metadata": {},
   "source": [
    "# LOTUS demo"
   ]
  },
  {
   "cell_type": "markdown",
   "metadata": {},
   "source": [
    "## APIs"
   ]
  },
  {
   "cell_type": "code",
   "execution_count": 3,
   "metadata": {},
   "outputs": [
    {
     "data": {
      "text/html": [
       "Query job 9a1e4e6a-04c3-407e-992e-4a64d8be9739 is DONE. 0 Bytes processed. <a target=\"_blank\" href=\"https://console.cloud.google.com/bigquery?project=bigframes-dev&j=bq:US:9a1e4e6a-04c3-407e-992e-4a64d8be9739&page=queryresults\">Open Job</a>"
      ],
      "text/plain": [
       "<IPython.core.display.HTML object>"
      ]
     },
     "metadata": {},
     "output_type": "display_data"
    }
   ],
   "source": [
    "import bigframes.pandas as bpd\n",
    "from bigframes.ml.llm import GeminiTextGenerator\n",
    "\n",
    "data = {\n",
    "    \"Course Name\": [\n",
    "        \"Probability and Random Processes\",\n",
    "        \"Optimization Methods in Engineering\",\n",
    "        \"Digital Design and Integrated Circuits\",\n",
    "        \"Computer Security\",\n",
    "        \"Operating Systems and Systems Programming\",\n",
    "        \"Compilers\",\n",
    "        \"Computer Networks\",\n",
    "        \"Deep Learning\",\n",
    "        \"Graphics\",\n",
    "        \"Databases\",\n",
    "        \"Art History\",\n",
    "    ]\n",
    "}\n",
    "df = bpd.DataFrame(data)\n",
    " \n",
    "model = GeminiTextGenerator(model_name=\"gemini-1.5-flash-001\")"
   ]
  },
  {
   "cell_type": "markdown",
   "metadata": {},
   "source": [
    "### 1. `sem_filter`"
   ]
  },
  {
   "cell_type": "code",
   "execution_count": 4,
   "metadata": {},
   "outputs": [
    {
     "data": {
      "text/html": [
       "Query job 48949cec-a9cb-4125-80e1-eec59785574f is DONE. 0 Bytes processed. <a target=\"_blank\" href=\"https://console.cloud.google.com/bigquery?project=bigframes-dev&j=bq:US:48949cec-a9cb-4125-80e1-eec59785574f&page=queryresults\">Open Job</a>"
      ],
      "text/plain": [
       "<IPython.core.display.HTML object>"
      ]
     },
     "metadata": {},
     "output_type": "display_data"
    },
    {
     "name": "stderr",
     "output_type": "stream",
     "text": [
      "/usr/local/google/home/sycai/src/python-bigquery-dataframes/bigframes/core/__init__.py:92: PreviewWarning: Interpreting JSON column(s) as StringDtype. This behavior may change in future versions.\n",
      "  warnings.warn(\n"
     ]
    },
    {
     "data": {
      "text/html": [
       "Query job 25e5ac32-fa57-4f02-9fe9-58b2496b854e is DONE. 22 Bytes processed. <a target=\"_blank\" href=\"https://console.cloud.google.com/bigquery?project=bigframes-dev&j=bq:US:25e5ac32-fa57-4f02-9fe9-58b2496b854e&page=queryresults\">Open Job</a>"
      ],
      "text/plain": [
       "<IPython.core.display.HTML object>"
      ]
     },
     "metadata": {},
     "output_type": "display_data"
    },
    {
     "data": {
      "text/html": [
       "Query job e22e9089-f3fe-4156-9e64-c4ffe335078b is DONE. 0 Bytes processed. <a target=\"_blank\" href=\"https://console.cloud.google.com/bigquery?project=bigframes-dev&j=bq:US:e22e9089-f3fe-4156-9e64-c4ffe335078b&page=queryresults\">Open Job</a>"
      ],
      "text/plain": [
       "<IPython.core.display.HTML object>"
      ]
     },
     "metadata": {},
     "output_type": "display_data"
    },
    {
     "data": {
      "text/html": [
       "Query job adcc8f9f-1005-4a2a-a5cb-f2a56b64364a is DONE. 236 Bytes processed. <a target=\"_blank\" href=\"https://console.cloud.google.com/bigquery?project=bigframes-dev&j=bq:US:adcc8f9f-1005-4a2a-a5cb-f2a56b64364a&page=queryresults\">Open Job</a>"
      ],
      "text/plain": [
       "<IPython.core.display.HTML object>"
      ]
     },
     "metadata": {},
     "output_type": "display_data"
    },
    {
     "data": {
      "text/html": [
       "Query job a812bfc5-c058-4eb9-8fea-e0e58fb020eb is DONE. 527 Bytes processed. <a target=\"_blank\" href=\"https://console.cloud.google.com/bigquery?project=bigframes-dev&j=bq:US:a812bfc5-c058-4eb9-8fea-e0e58fb020eb&page=queryresults\">Open Job</a>"
      ],
      "text/plain": [
       "<IPython.core.display.HTML object>"
      ]
     },
     "metadata": {},
     "output_type": "display_data"
    },
    {
     "data": {
      "text/html": [
       "Query job 9e5bf27b-0376-43e9-a722-b52a07ae92f3 is DONE. 527 Bytes processed. <a target=\"_blank\" href=\"https://console.cloud.google.com/bigquery?project=bigframes-dev&j=bq:US:9e5bf27b-0376-43e9-a722-b52a07ae92f3&page=queryresults\">Open Job</a>"
      ],
      "text/plain": [
       "<IPython.core.display.HTML object>"
      ]
     },
     "metadata": {},
     "output_type": "display_data"
    },
    {
     "data": {
      "text/html": [
       "<div>\n",
       "<style scoped>\n",
       "    .dataframe tbody tr th:only-of-type {\n",
       "        vertical-align: middle;\n",
       "    }\n",
       "\n",
       "    .dataframe tbody tr th {\n",
       "        vertical-align: top;\n",
       "    }\n",
       "\n",
       "    .dataframe thead th {\n",
       "        text-align: right;\n",
       "    }\n",
       "</style>\n",
       "<table border=\"1\" class=\"dataframe\">\n",
       "  <thead>\n",
       "    <tr style=\"text-align: right;\">\n",
       "      <th></th>\n",
       "      <th>Course Name</th>\n",
       "      <th>primary_results</th>\n",
       "      <th>primary_scores</th>\n",
       "    </tr>\n",
       "  </thead>\n",
       "  <tbody>\n",
       "    <tr>\n",
       "      <th>0</th>\n",
       "      <td>Probability and Random Processes</td>\n",
       "      <td>True</td>\n",
       "      <td>0.95</td>\n",
       "    </tr>\n",
       "    <tr>\n",
       "      <th>1</th>\n",
       "      <td>Optimization Methods in Engineering</td>\n",
       "      <td>True</td>\n",
       "      <td>0.95</td>\n",
       "    </tr>\n",
       "    <tr>\n",
       "      <th>2</th>\n",
       "      <td>Digital Design and Integrated Circuits</td>\n",
       "      <td>True</td>\n",
       "      <td>0.95</td>\n",
       "    </tr>\n",
       "    <tr>\n",
       "      <th>3</th>\n",
       "      <td>Computer Security</td>\n",
       "      <td>False</td>\n",
       "      <td>0.9</td>\n",
       "    </tr>\n",
       "    <tr>\n",
       "      <th>4</th>\n",
       "      <td>Operating Systems and Systems Programming</td>\n",
       "      <td>False</td>\n",
       "      <td>0.8</td>\n",
       "    </tr>\n",
       "    <tr>\n",
       "      <th>5</th>\n",
       "      <td>Compilers</td>\n",
       "      <td>True</td>\n",
       "      <td>0.8</td>\n",
       "    </tr>\n",
       "    <tr>\n",
       "      <th>6</th>\n",
       "      <td>Computer Networks</td>\n",
       "      <td>False</td>\n",
       "      <td>0.75</td>\n",
       "    </tr>\n",
       "    <tr>\n",
       "      <th>7</th>\n",
       "      <td>Deep Learning</td>\n",
       "      <td>True</td>\n",
       "      <td>0.95</td>\n",
       "    </tr>\n",
       "    <tr>\n",
       "      <th>8</th>\n",
       "      <td>Graphics</td>\n",
       "      <td>True</td>\n",
       "      <td>0.85</td>\n",
       "    </tr>\n",
       "    <tr>\n",
       "      <th>9</th>\n",
       "      <td>Databases</td>\n",
       "      <td>False</td>\n",
       "      <td>0.95</td>\n",
       "    </tr>\n",
       "    <tr>\n",
       "      <th>10</th>\n",
       "      <td>Art History</td>\n",
       "      <td>False</td>\n",
       "      <td>0.99</td>\n",
       "    </tr>\n",
       "  </tbody>\n",
       "</table>\n",
       "<p>11 rows × 3 columns</p>\n",
       "</div>[11 rows x 3 columns in total]"
      ],
      "text/plain": [
       "                                  Course Name  primary_results  primary_scores\n",
       "0            Probability and Random Processes             True            0.95\n",
       "1         Optimization Methods in Engineering             True            0.95\n",
       "2      Digital Design and Integrated Circuits             True            0.95\n",
       "3                           Computer Security            False             0.9\n",
       "4   Operating Systems and Systems Programming            False             0.8\n",
       "5                                   Compilers             True             0.8\n",
       "6                           Computer Networks            False            0.75\n",
       "7                               Deep Learning             True            0.95\n",
       "8                                    Graphics             True            0.85\n",
       "9                                   Databases            False            0.95\n",
       "10                                Art History            False            0.99\n",
       "\n",
       "[11 rows x 3 columns]"
      ]
     },
     "execution_count": 4,
     "metadata": {},
     "output_type": "execute_result"
    }
   ],
   "source": [
    "predict_df = df.sem_filter(\"{Course Name} requires a lot of math\", model)\n",
    "predict_df"
   ]
  },
  {
   "cell_type": "markdown",
   "metadata": {},
   "source": [
    "### 2. `sem_join`"
   ]
  },
  {
   "cell_type": "code",
   "execution_count": 1,
   "metadata": {},
   "outputs": [
    {
     "name": "stderr",
     "output_type": "stream",
     "text": [
      "/usr/local/google/home/chelsealin/src/bigframes/bigframes/core/global_session.py:113: DefaultLocationWarning: No explicit location is set, so using location US for the session.\n",
      "  return func(get_global_session(), *args, **kwargs)\n"
     ]
    },
    {
     "data": {
      "text/html": [
       "Query job fdc2fb46-0399-4960-a644-0c4ea5dcec71 is DONE. 0 Bytes processed. <a target=\"_blank\" href=\"https://console.cloud.google.com/bigquery?project=bigframes-dev&j=bq:US:fdc2fb46-0399-4960-a644-0c4ea5dcec71&page=queryresults\">Open Job</a>"
      ],
      "text/plain": [
       "<IPython.core.display.HTML object>"
      ]
     },
     "metadata": {},
     "output_type": "display_data"
    },
    {
     "data": {
      "text/html": [
       "Query job c0d8855e-a05c-468f-b6b9-ed1b523345c2 is DONE. 0 Bytes processed. <a target=\"_blank\" href=\"https://console.cloud.google.com/bigquery?project=bigframes-dev&j=bq:US:c0d8855e-a05c-468f-b6b9-ed1b523345c2&page=queryresults\">Open Job</a>"
      ],
      "text/plain": [
       "<IPython.core.display.HTML object>"
      ]
     },
     "metadata": {},
     "output_type": "display_data"
    },
    {
     "name": "stderr",
     "output_type": "stream",
     "text": [
      "/usr/local/google/home/chelsealin/src/bigframes/bigframes/core/__init__.py:92: PreviewWarning: Interpreting JSON column(s) as StringDtype. This behavior may change in future versions.\n",
      "  warnings.warn(\n"
     ]
    },
    {
     "data": {
      "text/html": [
       "Query job bec775ce-66a0-4261-aacd-95f5bf67e9aa is DONE. 66 Bytes processed. <a target=\"_blank\" href=\"https://console.cloud.google.com/bigquery?project=bigframes-dev&j=bq:US:bec775ce-66a0-4261-aacd-95f5bf67e9aa&page=queryresults\">Open Job</a>"
      ],
      "text/plain": [
       "<IPython.core.display.HTML object>"
      ]
     },
     "metadata": {},
     "output_type": "display_data"
    },
    {
     "data": {
      "text/html": [
       "Query job 076032f5-bdcf-498c-9532-8e7104896ee8 is DONE. 0 Bytes processed. <a target=\"_blank\" href=\"https://console.cloud.google.com/bigquery?project=bigframes-dev&j=bq:US:076032f5-bdcf-498c-9532-8e7104896ee8&page=queryresults\">Open Job</a>"
      ],
      "text/plain": [
       "<IPython.core.display.HTML object>"
      ]
     },
     "metadata": {},
     "output_type": "display_data"
    },
    {
     "data": {
      "text/html": [
       "Query job b68fd062-f8dc-4d1e-b3d6-0e5e3248daaf is DONE. 28.9 kB processed. <a target=\"_blank\" href=\"https://console.cloud.google.com/bigquery?project=bigframes-dev&j=bq:US:b68fd062-f8dc-4d1e-b3d6-0e5e3248daaf&page=queryresults\">Open Job</a>"
      ],
      "text/plain": [
       "<IPython.core.display.HTML object>"
      ]
     },
     "metadata": {},
     "output_type": "display_data"
    },
    {
     "data": {
      "text/html": [
       "Query job 4f104383-eaf8-4252-9e36-378a87715e6c is DONE. 29.1 kB processed. <a target=\"_blank\" href=\"https://console.cloud.google.com/bigquery?project=bigframes-dev&j=bq:US:4f104383-eaf8-4252-9e36-378a87715e6c&page=queryresults\">Open Job</a>"
      ],
      "text/plain": [
       "<IPython.core.display.HTML object>"
      ]
     },
     "metadata": {},
     "output_type": "display_data"
    },
    {
     "data": {
      "text/html": [
       "Query job e69442ba-6869-4dce-9a27-1548c8f397c5 is DONE. 29.1 kB processed. <a target=\"_blank\" href=\"https://console.cloud.google.com/bigquery?project=bigframes-dev&j=bq:US:e69442ba-6869-4dce-9a27-1548c8f397c5&page=queryresults\">Open Job</a>"
      ],
      "text/plain": [
       "<IPython.core.display.HTML object>"
      ]
     },
     "metadata": {},
     "output_type": "display_data"
    },
    {
     "data": {
      "text/html": [
       "<div>\n",
       "<style scoped>\n",
       "    .dataframe tbody tr th:only-of-type {\n",
       "        vertical-align: middle;\n",
       "    }\n",
       "\n",
       "    .dataframe tbody tr th {\n",
       "        vertical-align: top;\n",
       "    }\n",
       "\n",
       "    .dataframe thead th {\n",
       "        text-align: right;\n",
       "    }\n",
       "</style>\n",
       "<table border=\"1\" class=\"dataframe\">\n",
       "  <thead>\n",
       "    <tr style=\"text-align: right;\">\n",
       "      <th></th>\n",
       "      <th>ml_generate_text_llm_result</th>\n",
       "      <th>ml_generate_text_rai_result</th>\n",
       "      <th>ml_generate_text_status</th>\n",
       "      <th>prompt</th>\n",
       "    </tr>\n",
       "  </thead>\n",
       "  <tbody>\n",
       "    <tr>\n",
       "      <th>0</th>\n",
       "      <td>False 0.99</td>\n",
       "      <td>[{\"category\":1,\"probability\":1,\"probability_sc...</td>\n",
       "      <td></td>\n",
       "      <td>System Instruction: The user will povide a cla...</td>\n",
       "    </tr>\n",
       "    <tr>\n",
       "      <th>1</th>\n",
       "      <td>False 0.95</td>\n",
       "      <td>[{\"category\":1,\"probability\":1,\"probability_sc...</td>\n",
       "      <td></td>\n",
       "      <td>System Instruction: The user will povide a cla...</td>\n",
       "    </tr>\n",
       "    <tr>\n",
       "      <th>2</th>\n",
       "      <td>False 0.99</td>\n",
       "      <td>[{\"category\":1,\"probability\":1,\"probability_sc...</td>\n",
       "      <td></td>\n",
       "      <td>System Instruction: The user will povide a cla...</td>\n",
       "    </tr>\n",
       "    <tr>\n",
       "      <th>3</th>\n",
       "      <td>False 0.99</td>\n",
       "      <td>[{\"category\":1,\"probability\":1,\"probability_sc...</td>\n",
       "      <td></td>\n",
       "      <td>System Instruction: The user will povide a cla...</td>\n",
       "    </tr>\n",
       "    <tr>\n",
       "      <th>4</th>\n",
       "      <td>False 0.85</td>\n",
       "      <td>[{\"category\":1,\"probability\":1,\"probability_sc...</td>\n",
       "      <td></td>\n",
       "      <td>System Instruction: The user will povide a cla...</td>\n",
       "    </tr>\n",
       "    <tr>\n",
       "      <th>...</th>\n",
       "      <td>...</td>\n",
       "      <td>...</td>\n",
       "      <td>...</td>\n",
       "      <td>...</td>\n",
       "    </tr>\n",
       "    <tr>\n",
       "      <th>28</th>\n",
       "      <td>False 0.80</td>\n",
       "      <td>[{\"category\":1,\"probability\":1,\"probability_sc...</td>\n",
       "      <td></td>\n",
       "      <td>System Instruction: The user will povide a cla...</td>\n",
       "    </tr>\n",
       "    <tr>\n",
       "      <th>29</th>\n",
       "      <td>False 0.99</td>\n",
       "      <td>[{\"category\":1,\"probability\":1,\"probability_sc...</td>\n",
       "      <td></td>\n",
       "      <td>System Instruction: The user will povide a cla...</td>\n",
       "    </tr>\n",
       "    <tr>\n",
       "      <th>30</th>\n",
       "      <td>True 0.80</td>\n",
       "      <td>[{\"category\":1,\"probability\":1,\"probability_sc...</td>\n",
       "      <td></td>\n",
       "      <td>System Instruction: The user will povide a cla...</td>\n",
       "    </tr>\n",
       "    <tr>\n",
       "      <th>31</th>\n",
       "      <td>False 0.99</td>\n",
       "      <td>[{\"category\":1,\"probability\":1,\"probability_sc...</td>\n",
       "      <td></td>\n",
       "      <td>System Instruction: The user will povide a cla...</td>\n",
       "    </tr>\n",
       "    <tr>\n",
       "      <th>32</th>\n",
       "      <td>False 0.99</td>\n",
       "      <td>[{\"category\":1,\"probability\":1,\"probability_sc...</td>\n",
       "      <td></td>\n",
       "      <td>System Instruction: The user will povide a cla...</td>\n",
       "    </tr>\n",
       "  </tbody>\n",
       "</table>\n",
       "<p>33 rows × 4 columns</p>\n",
       "</div>[33 rows x 4 columns in total]"
      ],
      "text/plain": [
       "   ml_generate_text_llm_result  \\\n",
       "0                 False 0.99 \n",
       "   \n",
       "1                 False 0.95 \n",
       "   \n",
       "2                 False 0.99 \n",
       "   \n",
       "3                 False 0.99 \n",
       "   \n",
       "4                 False 0.85 \n",
       "   \n",
       "..                         ...   \n",
       "28                False 0.80 \n",
       "   \n",
       "29                False 0.99 \n",
       "   \n",
       "30                 True 0.80 \n",
       "   \n",
       "31                False 0.99 \n",
       "   \n",
       "32                False 0.99 \n",
       "   \n",
       "\n",
       "                          ml_generate_text_rai_result ml_generate_text_status  \\\n",
       "0   [{\"category\":1,\"probability\":1,\"probability_sc...                           \n",
       "1   [{\"category\":1,\"probability\":1,\"probability_sc...                           \n",
       "2   [{\"category\":1,\"probability\":1,\"probability_sc...                           \n",
       "3   [{\"category\":1,\"probability\":1,\"probability_sc...                           \n",
       "4   [{\"category\":1,\"probability\":1,\"probability_sc...                           \n",
       "..                                                ...                     ...   \n",
       "28  [{\"category\":1,\"probability\":1,\"probability_sc...                           \n",
       "29  [{\"category\":1,\"probability\":1,\"probability_sc...                           \n",
       "30  [{\"category\":1,\"probability\":1,\"probability_sc...                           \n",
       "31  [{\"category\":1,\"probability\":1,\"probability_sc...                           \n",
       "32  [{\"category\":1,\"probability\":1,\"probability_sc...                           \n",
       "\n",
       "                                               prompt  \n",
       "0   System Instruction: The user will povide a cla...  \n",
       "1   System Instruction: The user will povide a cla...  \n",
       "2   System Instruction: The user will povide a cla...  \n",
       "3   System Instruction: The user will povide a cla...  \n",
       "4   System Instruction: The user will povide a cla...  \n",
       "..                                                ...  \n",
       "28  System Instruction: The user will povide a cla...  \n",
       "29  System Instruction: The user will povide a cla...  \n",
       "30  System Instruction: The user will povide a cla...  \n",
       "31  System Instruction: The user will povide a cla...  \n",
       "32  System Instruction: The user will povide a cla...  \n",
       "\n",
       "[33 rows x 4 columns]"
      ]
     },
     "execution_count": 1,
     "metadata": {},
     "output_type": "execute_result"
    }
   ],
   "source": [
    "import bigframes.pandas as bpd\n",
    "from bigframes.ml.llm import GeminiTextGenerator\n",
    "\n",
    "data = {\n",
    "    \"Course Name\": [\n",
    "        \"Probability and Random Processes\",\n",
    "        \"Optimization Methods in Engineering\",\n",
    "        \"Digital Design and Integrated Circuits\",\n",
    "        \"Computer Security\",\n",
    "        \"Operating Systems and Systems Programming\",\n",
    "        \"Compilers\",\n",
    "        \"Computer Networks\",\n",
    "        \"Deep Learning\",\n",
    "        \"Graphics\",\n",
    "        \"Databases\",\n",
    "        \"Art History\",\n",
    "    ]\n",
    "}\n",
    "df = bpd.DataFrame(data)\n",
    " \n",
    "model = GeminiTextGenerator(model_name=\"gemini-1.5-flash-001\")\n",
    "\n",
    "# predict_df = df.sem_filter(\"Taking {Course Name} will make me better at {Skill}\", model)\n",
    "# predict_df\n",
    "skills_df = bpd.DataFrame({\"Skill\": [\"Art\", \"Cryptography\", \"Baking\"]})\n",
    "\n",
    "join_df = df.sem_join(skills_df, \"Taking {Course Name} will make me better at {Skill}\", primary_model=model)\n",
    "join_df"
   ]
  },
  {
   "cell_type": "code",
   "execution_count": 4,
   "metadata": {},
   "outputs": [
    {
     "data": {
      "text/html": [
       "Query job 382ddcc9-4adf-40b0-8a5d-ee46d679ede0 is DONE. 29.1 kB processed. <a target=\"_blank\" href=\"https://console.cloud.google.com/bigquery?project=bigframes-dev&j=bq:US:382ddcc9-4adf-40b0-8a5d-ee46d679ede0&page=queryresults\">Open Job</a>"
      ],
      "text/plain": [
       "<IPython.core.display.HTML object>"
      ]
     },
     "metadata": {},
     "output_type": "display_data"
    },
    {
     "data": {
      "text/html": [
       "Query job 6bb1ec44-fdf5-4074-a35d-7fe027f91e9d is DONE. 3.5 kB processed. <a target=\"_blank\" href=\"https://console.cloud.google.com/bigquery?project=bigframes-dev&j=bq:US:6bb1ec44-fdf5-4074-a35d-7fe027f91e9d&page=queryresults\">Open Job</a>"
      ],
      "text/plain": [
       "<IPython.core.display.HTML object>"
      ]
     },
     "metadata": {},
     "output_type": "display_data"
    },
    {
     "data": {
      "text/html": [
       "Query job b18e2692-b28e-4910-ae8f-0e18f71b3194 is DONE. 3.5 kB processed. <a target=\"_blank\" href=\"https://console.cloud.google.com/bigquery?project=bigframes-dev&j=bq:US:b18e2692-b28e-4910-ae8f-0e18f71b3194&page=queryresults\">Open Job</a>"
      ],
      "text/plain": [
       "<IPython.core.display.HTML object>"
      ]
     },
     "metadata": {},
     "output_type": "display_data"
    },
    {
     "data": {
      "text/html": [
       "<div>\n",
       "<style scoped>\n",
       "    .dataframe tbody tr th:only-of-type {\n",
       "        vertical-align: middle;\n",
       "    }\n",
       "\n",
       "    .dataframe tbody tr th {\n",
       "        vertical-align: top;\n",
       "    }\n",
       "\n",
       "    .dataframe thead th {\n",
       "        text-align: right;\n",
       "    }\n",
       "</style>\n",
       "<table border=\"1\" class=\"dataframe\">\n",
       "  <thead>\n",
       "    <tr style=\"text-align: right;\">\n",
       "      <th></th>\n",
       "      <th>ml_generate_text_llm_result</th>\n",
       "      <th>ml_generate_text_rai_result</th>\n",
       "      <th>ml_generate_text_status</th>\n",
       "      <th>prompt</th>\n",
       "    </tr>\n",
       "  </thead>\n",
       "  <tbody>\n",
       "    <tr>\n",
       "      <th>10</th>\n",
       "      <td>True 0.85</td>\n",
       "      <td>[{\"category\":1,\"probability\":1,\"probability_sc...</td>\n",
       "      <td></td>\n",
       "      <td>System Instruction: The user will povide a cla...</td>\n",
       "    </tr>\n",
       "    <tr>\n",
       "      <th>19</th>\n",
       "      <td>True 0.75</td>\n",
       "      <td>[{\"category\":1,\"probability\":1,\"probability_sc...</td>\n",
       "      <td></td>\n",
       "      <td>System Instruction: The user will povide a cla...</td>\n",
       "    </tr>\n",
       "    <tr>\n",
       "      <th>24</th>\n",
       "      <td>True 0.60</td>\n",
       "      <td>[{\"category\":1,\"probability\":1,\"probability_sc...</td>\n",
       "      <td></td>\n",
       "      <td>System Instruction: The user will povide a cla...</td>\n",
       "    </tr>\n",
       "    <tr>\n",
       "      <th>30</th>\n",
       "      <td>True 0.80</td>\n",
       "      <td>[{\"category\":1,\"probability\":1,\"probability_sc...</td>\n",
       "      <td></td>\n",
       "      <td>System Instruction: The user will povide a cla...</td>\n",
       "    </tr>\n",
       "  </tbody>\n",
       "</table>\n",
       "<p>4 rows × 4 columns</p>\n",
       "</div>[4 rows x 4 columns in total]"
      ],
      "text/plain": [
       "   ml_generate_text_llm_result  \\\n",
       "10                 True 0.85 \n",
       "   \n",
       "19                 True 0.75 \n",
       "   \n",
       "24                 True 0.60 \n",
       "   \n",
       "30                 True 0.80 \n",
       "   \n",
       "\n",
       "                          ml_generate_text_rai_result ml_generate_text_status  \\\n",
       "10  [{\"category\":1,\"probability\":1,\"probability_sc...                           \n",
       "19  [{\"category\":1,\"probability\":1,\"probability_sc...                           \n",
       "24  [{\"category\":1,\"probability\":1,\"probability_sc...                           \n",
       "30  [{\"category\":1,\"probability\":1,\"probability_sc...                           \n",
       "\n",
       "                                               prompt  \n",
       "10  System Instruction: The user will povide a cla...  \n",
       "19  System Instruction: The user will povide a cla...  \n",
       "24  System Instruction: The user will povide a cla...  \n",
       "30  System Instruction: The user will povide a cla...  \n",
       "\n",
       "[4 rows x 4 columns]"
      ]
     },
     "execution_count": 4,
     "metadata": {},
     "output_type": "execute_result"
    }
   ],
   "source": [
    "join_df[join_df[\"ml_generate_text_llm_result\"].str.lower().str.contains(\"true\")]"
   ]
  },
  {
   "cell_type": "markdown",
   "metadata": {},
   "source": [
    "## Optimizations"
   ]
  },
  {
   "cell_type": "markdown",
   "metadata": {},
   "source": [
    "### Cascade Models"
   ]
  },
  {
   "cell_type": "code",
   "execution_count": 2,
   "metadata": {},
   "outputs": [],
   "source": [
    "# TODO"
   ]
  }
 ],
 "metadata": {
  "kernelspec": {
   "display_name": "venv",
   "language": "python",
   "name": "python3"
  },
  "language_info": {
   "codemirror_mode": {
    "name": "ipython",
    "version": 3
   },
   "file_extension": ".py",
   "mimetype": "text/x-python",
   "name": "python",
   "nbconvert_exporter": "python",
   "pygments_lexer": "ipython3",
   "version": "3.12.1"
  }
 },
 "nbformat": 4,
 "nbformat_minor": 2
}
