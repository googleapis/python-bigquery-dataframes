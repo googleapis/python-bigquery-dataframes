{
 "cells": [
  {
   "cell_type": "code",
   "execution_count": 2,
   "metadata": {},
   "outputs": [
    {
     "name": "stderr",
     "output_type": "stream",
     "text": [
      "/usr/local/google/home/shuowei/src/python-bigquery-dataframes/bigframes/_config/experiment_options.py:69: PreviewWarning: BigFrames Blob is still under experiments. It may not work and subject\n",
      "to change in the future.\n",
      "  warnings.warn(msg, category=bfe.PreviewWarning)\n"
     ]
    }
   ],
   "source": [
    "import bigframes\n",
    "bigframes.options.experiments.blob = True\n",
    "#bigframes.options._bigquery_options.client_endpoints_override = {\"bqclient\": \"https://test-bigquery.sandbox.google.com\", \n",
    "#                                                           \"bqconnectionclient\": \"test-bigqueryconnection.sandbox.googleapis.com\", \n",
    "#                                                           \"bqstoragereadclient\": \"test-bigquerystorage-grpc.sandbox.googleapis.com\"}\n",
    "import bigframes.pandas as bpd"
   ]
  },
  {
   "cell_type": "code",
   "execution_count": 3,
   "metadata": {},
   "outputs": [
    {
     "name": "stderr",
     "output_type": "stream",
     "text": [
      "/usr/local/google/home/shuowei/src/python-bigquery-dataframes/bigframes/core/global_session.py:114: DefaultLocationWarning: No explicit location is set, so using location US for the session.\n",
      "  return func(get_global_session(), *args, **kwargs)\n"
     ]
    },
    {
     "data": {
      "text/html": [
       "Query job d86dc475-9976-46bf-ac41-dd5a726d7093 is DONE. 0 Bytes processed. <a target=\"_blank\" href=\"https://console.cloud.google.com/bigquery?project=bigframes-dev&j=bq:US:d86dc475-9976-46bf-ac41-dd5a726d7093&page=queryresults\">Open Job</a>"
      ],
      "text/plain": [
       "<IPython.core.display.HTML object>"
      ]
     },
     "metadata": {},
     "output_type": "display_data"
    },
    {
     "data": {
      "text/html": [
       "Query job d1dacc17-89b9-4e2b-ac6c-10d550d967bb is DONE. 0 Bytes processed. <a target=\"_blank\" href=\"https://console.cloud.google.com/bigquery?project=bigframes-dev&j=bq:US:d1dacc17-89b9-4e2b-ac6c-10d550d967bb&page=queryresults\">Open Job</a>"
      ],
      "text/plain": [
       "<IPython.core.display.HTML object>"
      ]
     },
     "metadata": {},
     "output_type": "display_data"
    }
   ],
   "source": [
    "extract_df = bpd.from_glob_path(\"gs://bigframes_blob_test/pdfs/*\", name=\"pdf\")\n",
    "extract_df = extract_df.head(5)"
   ]
  },
  {
   "cell_type": "code",
   "execution_count": 4,
   "metadata": {},
   "outputs": [
    {
     "data": {
      "text/html": [
       "Query job a42b5a1c-9f68-4257-a7c5-2680e7036993 is DONE. 0 Bytes processed. <a target=\"_blank\" href=\"https://console.cloud.google.com/bigquery?project=bigframes-dev&j=bq:US:a42b5a1c-9f68-4257-a7c5-2680e7036993&page=queryresults\">Open Job</a>"
      ],
      "text/plain": [
       "<IPython.core.display.HTML object>"
      ]
     },
     "metadata": {},
     "output_type": "display_data"
    }
   ],
   "source": [
    "bq_connection = \"bigframes-dev.us.bigframes-default-connection\"\n",
    "extract_df[\"extract_text\"] = extract_df[\"pdf\"].blob.pdf_extract(\n",
    "    connection=bq_connection, verbose=True)"
   ]
  },
  {
   "cell_type": "code",
   "execution_count": 4,
   "metadata": {},
   "outputs": [
    {
     "data": {
      "text/html": [
       "Query job a2306203-146a-4efc-b591-9928a5b6301a is DONE. 228 Bytes processed. <a target=\"_blank\" href=\"https://console.cloud.google.com/bigquery?project=bigframes-dev&j=bq:US:a2306203-146a-4efc-b591-9928a5b6301a&page=queryresults\">Open Job</a>"
      ],
      "text/plain": [
       "<IPython.core.display.HTML object>"
      ]
     },
     "metadata": {},
     "output_type": "display_data"
    },
    {
     "data": {
      "text/html": [
       "Query job 454cca1b-1c8c-493b-8d59-80d08f8a45ce is DONE. 228 Bytes processed. <a target=\"_blank\" href=\"https://console.cloud.google.com/bigquery?project=bigframes-dev&j=bq:US:454cca1b-1c8c-493b-8d59-80d08f8a45ce&page=queryresults\">Open Job</a>"
      ],
      "text/plain": [
       "<IPython.core.display.HTML object>"
      ]
     },
     "metadata": {},
     "output_type": "display_data"
    },
    {
     "data": {
      "text/html": [
       "<div>\n",
       "<style scoped>\n",
       "    .dataframe tbody tr th:only-of-type {\n",
       "        vertical-align: middle;\n",
       "    }\n",
       "\n",
       "    .dataframe tbody tr th {\n",
       "        vertical-align: top;\n",
       "    }\n",
       "\n",
       "    .dataframe thead th {\n",
       "        text-align: right;\n",
       "    }\n",
       "</style>\n",
       "<table border=\"1\" class=\"dataframe\">\n",
       "  <thead>\n",
       "    <tr style=\"text-align: right;\">\n",
       "      <th></th>\n",
       "      <th>pdf</th>\n",
       "      <th>extract_text</th>\n",
       "    </tr>\n",
       "  </thead>\n",
       "  <tbody>\n",
       "    <tr>\n",
       "      <th>0</th>\n",
       "      <td>uri: gs://bigframes_blob_test/pdfs/test-protected.pdf, authorizer: bigframes-dev.us.bigframes-default-connection</td>\n",
       "      <td>{'status': 'File has not been decrypted', 'content': ''}</td>\n",
       "    </tr>\n",
       "    <tr>\n",
       "      <th>1</th>\n",
       "      <td>uri: gs://bigframes_blob_test/pdfs/sample-local-pdf.pdf, authorizer: bigframes-dev.us.bigframes-default-connection</td>\n",
       "      <td>{'status': '', 'content': 'Sample  PDF    This  is  a  testing  file.  Some  dummy  messages  are  used  for  testing  purposes.   '}</td>\n",
       "    </tr>\n",
       "  </tbody>\n",
       "</table>\n",
       "<p>2 rows × 2 columns</p>\n",
       "</div>[2 rows x 2 columns in total]"
      ],
      "text/plain": [
       "                                                 pdf  \\\n",
       "0  {'uri': 'gs://bigframes_blob_test/pdfs/test-pr...   \n",
       "1  {'uri': 'gs://bigframes_blob_test/pdfs/sample-...   \n",
       "\n",
       "                                        extract_text  \n",
       "0  {'status': 'File has not been decrypted', 'con...  \n",
       "1  {'status': '', 'content': 'Sample  PDF    This...  \n",
       "\n",
       "[2 rows x 2 columns]"
      ]
     },
     "execution_count": 4,
     "metadata": {},
     "output_type": "execute_result"
    }
   ],
   "source": [
    "extract_df"
   ]
  },
  {
   "cell_type": "code",
   "execution_count": 5,
   "metadata": {},
   "outputs": [
    {
     "data": {
      "text/html": [
       "Query job 609f1624-8658-4b6e-bf9f-da8cc860b97c is DONE. 228 Bytes processed. <a target=\"_blank\" href=\"https://console.cloud.google.com/bigquery?project=bigframes-dev&j=bq:US:609f1624-8658-4b6e-bf9f-da8cc860b97c&page=queryresults\">Open Job</a>"
      ],
      "text/plain": [
       "<IPython.core.display.HTML object>"
      ]
     },
     "metadata": {},
     "output_type": "display_data"
    },
    {
     "data": {
      "text/html": [
       "Query job 5e5306c3-2379-4e87-841a-dfe748afcc7f is DONE. 171 Bytes processed. <a target=\"_blank\" href=\"https://console.cloud.google.com/bigquery?project=bigframes-dev&j=bq:US:5e5306c3-2379-4e87-841a-dfe748afcc7f&page=queryresults\">Open Job</a>"
      ],
      "text/plain": [
       "<IPython.core.display.HTML object>"
      ]
     },
     "metadata": {},
     "output_type": "display_data"
    },
    {
     "data": {
      "text/plain": [
       "0    {'status': 'File has not been decrypted', 'con...\n",
       "1    {'status': '', 'content': 'Sample  PDF    This...\n",
       "Name: extract_text, dtype: struct<status: string, content: string>[pyarrow]"
      ]
     },
     "execution_count": 5,
     "metadata": {},
     "output_type": "execute_result"
    }
   ],
   "source": [
    "extract_df[\"extract_text\"].explode()"
   ]
  },
  {
   "cell_type": "code",
   "execution_count": 6,
   "metadata": {},
   "outputs": [
    {
     "data": {
      "text/html": [
       "Query job ba554f28-afa3-47b0-a4fc-6128e86f7547 is DONE. 367 Bytes processed. <a target=\"_blank\" href=\"https://console.cloud.google.com/bigquery?project=bigframes-dev&j=bq:US:ba554f28-afa3-47b0-a4fc-6128e86f7547&page=queryresults\">Open Job</a>"
      ],
      "text/plain": [
       "<IPython.core.display.HTML object>"
      ]
     },
     "metadata": {},
     "output_type": "display_data"
    },
    {
     "data": {
      "text/html": [
       "Query job 86d8b95f-aa96-4bb0-8a12-da8b5cf5ca20 is DONE. 171 Bytes processed. <a target=\"_blank\" href=\"https://console.cloud.google.com/bigquery?project=bigframes-dev&j=bq:US:86d8b95f-aa96-4bb0-8a12-da8b5cf5ca20&page=queryresults\">Open Job</a>"
      ],
      "text/plain": [
       "<IPython.core.display.HTML object>"
      ]
     },
     "metadata": {},
     "output_type": "display_data"
    },
    {
     "data": {
      "text/plain": [
       "0    {'status': 'File has not been decrypted', 'con...\n",
       "1    {'status': '', 'content': 'Sample  PDF    This...\n",
       "Name: extract_text, dtype: struct<status: string, content: string>[pyarrow]"
      ]
     },
     "execution_count": 6,
     "metadata": {},
     "output_type": "execute_result"
    }
   ],
   "source": [
    "extract_df[\"extract_text\"]"
   ]
  },
  {
   "cell_type": "code",
   "execution_count": 16,
   "metadata": {},
   "outputs": [
    {
     "data": {
      "text/html": [
       "Query job 0848e6d2-11b8-4908-b9c3-b7d5e0449b3a is DONE. 0 Bytes processed. <a target=\"_blank\" href=\"https://console.cloud.google.com/bigquery?project=bigframes-dev&j=bq:US:0848e6d2-11b8-4908-b9c3-b7d5e0449b3a&page=queryresults\">Open Job</a>"
      ],
      "text/plain": [
       "<IPython.core.display.HTML object>"
      ]
     },
     "metadata": {},
     "output_type": "display_data"
    },
    {
     "name": "stderr",
     "output_type": "stream",
     "text": [
      "/usr/local/google/home/shuowei/src/python-bigquery-dataframes/bigframes/operations/blob.py:736: FunctionAxisOnePreviewWarning: Blob Functions use bigframes DataFrame Managed function with axis=1 senario, which is a preview feature.\n",
      "  \n"
     ]
    },
    {
     "data": {
      "text/html": [
       "Query job 9edb0395-9cfe-4e6b-8779-643080630518 is DONE. 228 Bytes processed. <a target=\"_blank\" href=\"https://console.cloud.google.com/bigquery?project=bigframes-dev&j=bq:US:9edb0395-9cfe-4e6b-8779-643080630518&page=queryresults\">Open Job</a>"
      ],
      "text/plain": [
       "<IPython.core.display.HTML object>"
      ]
     },
     "metadata": {},
     "output_type": "display_data"
    },
    {
     "data": {
      "text/plain": [
       "0                                                 <NA>\n",
       "1    Sample  PDF    This  is  a  testing  file.  So...\n",
       "dtype: string"
      ]
     },
     "execution_count": 16,
     "metadata": {},
     "output_type": "execute_result"
    }
   ],
   "source": [
    "extract_df[\"pdf\"].blob.pdf_chunk(connection=bq_connection, verbose=False).explode().to_pandas()"
   ]
  },
  {
   "cell_type": "code",
   "execution_count": 6,
   "metadata": {},
   "outputs": [
    {
     "data": {
      "text/html": [
       "Query job 0fd80b90-55d2-4827-8547-2a5c36e810ec is DONE. 765 Bytes processed. <a target=\"_blank\" href=\"https://console.cloud.google.com/bigquery?project=bigframes-dev&j=bq:US:0fd80b90-55d2-4827-8547-2a5c36e810ec&page=queryresults\">Open Job</a>"
      ],
      "text/plain": [
       "<IPython.core.display.HTML object>"
      ]
     },
     "metadata": {},
     "output_type": "display_data"
    },
    {
     "data": {
      "text/html": [
       "Query job 9dc25ae3-fe67-4547-886a-612074660749 is DONE. 140 Bytes processed. <a target=\"_blank\" href=\"https://console.cloud.google.com/bigquery?project=bigframes-dev&j=bq:US:9dc25ae3-fe67-4547-886a-612074660749&page=queryresults\">Open Job</a>"
      ],
      "text/plain": [
       "<IPython.core.display.HTML object>"
      ]
     },
     "metadata": {},
     "output_type": "display_data"
    },
    {
     "data": {
      "text/plain": [
       "0                                                     \n",
       "1    Sample  PDF    This  is  a  testing  file.  So...\n",
       "Name: test, dtype: string"
      ]
     },
     "execution_count": 6,
     "metadata": {},
     "output_type": "execute_result"
    }
   ],
   "source": [
    "extract_df[\"test\"]"
   ]
  },
  {
   "cell_type": "code",
   "execution_count": null,
   "metadata": {},
   "outputs": [],
   "source": []
  },
  {
   "cell_type": "code",
   "execution_count": 20,
   "metadata": {},
   "outputs": [
    {
     "name": "stdout",
     "output_type": "stream",
     "text": [
      "0                                                 <NA>\n",
      "1            Sample  PDF   This  is  a  testing  file.\n",
      "2    Some  dummy  messages  are  used  for  testing...\n",
      "dtype: object\n"
     ]
    }
   ],
   "source": [
    "import pandas as pd\n",
    "\n",
    "chunk_data = [\n",
    "    {\"status\": \"File has not been decrypted\", \"content\": []},\n",
    "    {\n",
    "        \"status\": \"\",\n",
    "        \"content\": [\"Sample  PDF   This  is  a  testing  file.\",  \"Some  dummy  messages  are  used  for  testing  purposes.  \"],\n",
    "    },\n",
    "]\n",
    "\n",
    "\n",
    "content_values = []\n",
    "for item in chunk_data:\n",
    "    if not item[\"content\"]:\n",
    "        content_values.append(pd.NA)\n",
    "    else:\n",
    "        content_values.extend(item[\"content\"])\n",
    "\n",
    "expected = pd.Series(content_values)\n",
    "print(expected)\n"
   ]
  }
 ],
 "metadata": {
  "kernelspec": {
   "display_name": "venv",
   "language": "python",
   "name": "python3"
  },
  "language_info": {
   "codemirror_mode": {
    "name": "ipython",
    "version": 3
   },
   "file_extension": ".py",
   "mimetype": "text/x-python",
   "name": "python",
   "nbconvert_exporter": "python",
   "pygments_lexer": "ipython3",
   "version": "3.10.15"
  }
 },
 "nbformat": 4,
 "nbformat_minor": 2
}
