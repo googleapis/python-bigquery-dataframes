{
  "cells": [
    {
      "cell_type": "code",
      "execution_count": null,
      "metadata": {},
      "outputs": [],
      "source": [
        "# Copyright 2025 Google LLC\n",
        "#\n",
        "# Licensed under the Apache License, Version 2.0 (the \"License\");\n",
        "# you may not use this file except in compliance with the License.\n",
        "# You may obtain a copy of the License at\n",
        "#\n",
        "#     https://www.apache.org/licenses/LICENSE-2.0\n",
        "#\n",
        "# Unless required by applicable law or agreed to in writing, software\n",
        "# distributed under the License is distributed on an \"AS IS\" BASIS,\n",
        "# WITHOUT WARRANTIES OR CONDITIONS OF ANY KIND, either express or implied.\n",
        "# See the License for the specific language governing permissions and\n",
        "# limitations under the License."
      ]
    },
    {
      "cell_type": "markdown",
      "metadata": {
        "id": "YOrUAvz6DMw-"
      },
      "source": [
        "# BigFrames Multimodal DataFrame\n",
        "\n",
        "<table align=\"left\">\n",
        "\n",
        "  <td>\n",
        "    <a href=\"https://colab.research.google.com/github/googleapis/python-bigquery-dataframes/blob/main/notebooks/multimodal/multimodal_dataframe.ipynb\">\n",
        "      <img src=\"https://cloud.google.com/ml-engine/images/colab-logo-32px.png\" alt=\"Colab logo\"> Run in Colab\n",
        "    </a>\n",
        "  </td>\n",
        "  <td>\n",
        "    <a href=\"https://github.com/googleapis/python-bigquery-dataframes/blob/main/notebooks/multimodal/multimodal_dataframe.ipynb\">\n",
        "      <img src=\"https://cloud.google.com/ml-engine/images/github-logo-32px.png\" alt=\"GitHub logo\">\n",
        "      View on GitHub\n",
        "    </a>\n",
        "  </td>\n",
        "  <td>\n",
        "    <a href=\"https://console.cloud.google.com/bigquery/import?url=https://github.com/googleapis/python-bigquery-dataframes/blob/main/notebooks/multimodal/multimodal_dataframe.ipynb\">\n",
        "      <img src=\"https://encrypted-tbn0.gstatic.com/images?q=tbn:ANd9GcTW1gvOovVlbZAIZylUtf5Iu8-693qS1w5NJw&s\" alt=\"BQ logo\" width=\"35\">\n",
        "      Open in BQ Studio\n",
        "    </a>\n",
        "  </td>\n",
        "</table>\n"
      ]
    },
    {
      "cell_type": "markdown",
      "metadata": {},
      "source": [
        "This notebook is introducing BigFrames Multimodal features:\n",
        "1. Create Multimodal DataFrame\n",
        "2. Combine unstructured data with structured data\n",
        "3. Conduct image transformations\n",
        "4. Use LLM models to ask questions and generate embeddings on images\n",
        "5. PDF chunking function"
      ]
    },
    {
      "cell_type": "markdown",
      "metadata": {
        "id": "PEAJQQ6AFg-n"
      },
      "source": [
        "### Setup"
      ]
    },
    {
      "cell_type": "markdown",
      "metadata": {},
      "source": [
        "Install the latest bigframes package if bigframes version < 2.4.0"
      ]
    },
    {
      "cell_type": "code",
      "execution_count": null,
      "metadata": {},
      "outputs": [],
      "source": [
        "# !pip install bigframes --upgrade"
      ]
    },
    {
      "cell_type": "code",
      "execution_count": null,
      "metadata": {
        "colab": {
          "base_uri": "https://localhost:8080/"
        },
        "id": "bGyhLnfEeB0X",
        "outputId": "83ac8b64-3f44-4d43-d089-28a5026cbb42"
      },
      "outputs": [],
      "source": [
        "PROJECT = \"bigframes-dev\" # replace with your project. \n",
        "# Refer to https://cloud.google.com/bigquery/docs/multimodal-data-dataframes-tutorial#required_roles for your required permissions\n",
        "\n",
        "OUTPUT_BUCKET = \"bigframes_blob_test\" # replace with your GCS bucket. \n",
        "# The connection (or bigframes-default-connection of the project) must have read/write permission to the bucket. \n",
        "# Refer to https://cloud.google.com/bigquery/docs/multimodal-data-dataframes-tutorial#grant-permissions for setting up connection service account permissions.\n",
        "# In this Notebook it uses bigframes-default-connection by default. You can also bring in your own connections in each method.\n",
        "\n",
        "import bigframes\n",
        "# Setup project\n",
        "bigframes.options.bigquery.project = PROJECT\n",
        "\n",
        "# Display options\n",
        "bigframes.options.display.blob_display_width = 300\n",
        "bigframes.options.display.progress_bar = None\n",
        "\n",
        "import bigframes.pandas as bpd"
      ]
    },
    {
      "cell_type": "markdown",
      "metadata": {
        "id": "ifKOq7VZGtZy"
      },
      "source": [
        "### 1. Create Multimodal DataFrame\n",
        "There are several ways to create Multimodal DataFrame. The easiest way is from the wildcard paths."
      ]
    },
    {
      "cell_type": "code",
      "execution_count": null,
      "metadata": {
        "colab": {
          "base_uri": "https://localhost:8080/"
        },
        "id": "fx6YcZJbeYru",
        "outputId": "d707954a-0dd0-4c50-b7bf-36b140cf76cf"
      },
      "outputs": [],
      "source": [
        "# Create blob columns from wildcard path.\n",
        "df_image = bpd.from_glob_path(\n",
        "    \"gs://cloud-samples-data/bigquery/tutorials/cymbal-pets/images/*\", name=\"image\"\n",
        ")\n",
        "# Other ways are: from string uri column\n",
        "# df = bpd.DataFrame({\"uri\": [\"gs://<my_bucket>/<my_file_0>\", \"gs://<my_bucket>/<my_file_1>\"]})\n",
        "# df[\"blob_col\"] = df[\"uri\"].str.to_blob()\n",
        "\n",
        "# From an existing object table\n",
        "# df = bpd.read_gbq_object_table(\"<my_object_table>\", name=\"blob_col\")"
      ]
    },
    {
      "cell_type": "code",
      "execution_count": null,
      "metadata": {
        "colab": {
          "base_uri": "https://localhost:8080/",
          "height": 487
        },
        "id": "HhCb8jRsLe9B",
        "outputId": "03081cf9-3a22-42c9-b38f-649f592fdada"
      },
      "outputs": [],
      "source": [
        "# Take only the 5 images to deal with. Preview the content of the Mutimodal DataFrame\n",
        "df_image = df_image.head(5)\n",
        "df_image"
      ]
    },
    {
      "cell_type": "markdown",
      "metadata": {
        "id": "b6RRZb3qPi_T"
      },
      "source": [
        "### 2. Combine unstructured data with structured data"
      ]
    },
    {
      "cell_type": "markdown",
      "metadata": {
        "id": "4YJCdmLtR-qu"
      },
      "source": [
        "Now you can put more information into the table to describe the files. Such as author info from inputs, or other metadata from the gcs object itself."
      ]
    },
    {
      "cell_type": "code",
      "execution_count": null,
      "metadata": {
        "id": "YYYVn7NDH0Me"
      },
      "outputs": [],
      "source": [
        "# Combine unstructured data with structured data\n",
        "df_image[\"author\"] = [\"alice\", \"bob\", \"bob\", \"alice\", \"bob\"]  # type: ignore\n",
        "df_image[\"content_type\"] = df_image[\"image\"].blob.content_type()\n",
        "df_image[\"size\"] = df_image[\"image\"].blob.size()\n",
        "df_image[\"updated\"] = df_image[\"image\"].blob.updated()\n",
        "df_image"
      ]
    },
    {
      "cell_type": "markdown",
      "metadata": {
        "id": "NUd4Kog_QLRS"
      },
      "source": [
        "Then you can filter the rows based on the structured data. And for different content types, you can display them respectively or together."
      ]
    },
    {
      "cell_type": "code",
      "execution_count": null,
      "metadata": {
        "colab": {
          "base_uri": "https://localhost:8080/",
          "height": 75
        },
        "id": "UGuAk9PNDRF3",
        "outputId": "73feb33d-4a05-48fb-96e5-3c48c2a456f3"
      },
      "outputs": [],
      "source": [
        "# filter images and display, you can also display audio and video types\n",
        "df_image[df_image[\"author\"] == \"alice\"][\"image\"].blob.display()"
      ]
    },
    {
      "cell_type": "markdown",
      "metadata": {
        "id": "1IJuakwJTZey"
      },
      "source": [
        "### 3. Conduct image transformations\n",
        "BigFrames Multimodal DataFrame provides image(and other) transformation functions. Such as image_blur, image_resize and image_normalize. The output can be saved to GCS folders or to BQ as bytes."
      ]
    },
    {
      "cell_type": "code",
      "execution_count": null,
      "metadata": {
        "colab": {
          "base_uri": "https://localhost:8080/"
        },
        "id": "VWsl5BBPJ6N7",
        "outputId": "45d2356e-322b-4982-cfa7-42d034dc4344"
      },
      "outputs": [],
      "source": [
        "df_image[\"blurred\"] = df_image[\"image\"].blob.image_blur(\n",
        "    (20, 20), dst=f\"gs://{OUTPUT_BUCKET}/image_blur_transformed/\", engine=\"opencv\"\n",
        ")\n",
        "df_image[\"resized\"] = df_image[\"image\"].blob.image_resize(\n",
        "    (300, 200), dst=f\"gs://{OUTPUT_BUCKET}/image_resize_transformed/\", engine=\"opencv\"\n",
        ")\n",
        "df_image[\"normalized\"] = df_image[\"image\"].blob.image_normalize(\n",
        "    alpha=50.0,\n",
        "    beta=150.0,\n",
        "    norm_type=\"minmax\",\n",
        "    dst=f\"gs://{OUTPUT_BUCKET}/image_normalize_transformed/\",\n",
        "    engine=\"opencv\",\n",
        ")"
      ]
    },
    {
      "cell_type": "code",
      "execution_count": null,
      "metadata": {
        "colab": {
          "base_uri": "https://localhost:8080/"
        },
        "id": "rWCAGC8w64vU",
        "outputId": "d7d456f0-8b56-492c-fe1b-967e9664d813"
      },
      "outputs": [],
      "source": [
        "# You can also chain functions together\n",
        "df_image[\"blur_resized\"] = df_image[\"blurred\"].blob.image_resize((300, 200), dst=f\"gs://{OUTPUT_BUCKET}/image_blur_resize_transformed/\", engine=\"opencv\")"
      ]
    },
    {
      "cell_type": "code",
      "execution_count": null,
      "metadata": {
        "colab": {
          "base_uri": "https://localhost:8080/",
          "height": 605
        },
        "id": "6NGK6GYSU44B",
        "outputId": "859101c1-2ee4-4f9a-e250-e8947127420a"
      },
      "outputs": [],
      "source": [
        "df_image"
      ]
    },
    {
      "cell_type": "markdown",
      "metadata": {
        "id": "Euk5saeVVdTP"
      },
      "source": [
        "### 4. Use LLM models to ask questions and generate embeddings on images"
      ]
    },
    {
      "cell_type": "code",
      "execution_count": null,
      "metadata": {
        "id": "mRUGfcaFVW-3"
      },
      "outputs": [],
      "source": [
        "from bigframes.ml import llm\n",
        "gemini = llm.GeminiTextGenerator()"
      ]
    },
    {
      "cell_type": "code",
      "execution_count": null,
      "metadata": {
        "colab": {
          "base_uri": "https://localhost:8080/",
          "height": 657
        },
        "id": "DNFP7CbjWdR9",
        "outputId": "3f90a062-0abc-4bce-f53c-db57b06a14b9"
      },
      "outputs": [],
      "source": [
        "# Ask the same question on the images\n",
        "df_image = df_image.head(2)\n",
        "answer = gemini.predict(df_image, prompt=[\"what item is it?\", df_image[\"image\"]])\n",
        "answer[[\"ml_generate_text_llm_result\", \"image\"]]"
      ]
    },
    {
      "cell_type": "code",
      "execution_count": null,
      "metadata": {
        "id": "IG3J3HsKhyBY"
      },
      "outputs": [],
      "source": [
        "# Ask different questions\n",
        "df_image[\"question\"] = [\"what item is it?\", \"what color is the picture?\"]"
      ]
    },
    {
      "cell_type": "code",
      "execution_count": null,
      "metadata": {
        "colab": {
          "base_uri": "https://localhost:8080/",
          "height": 657
        },
        "id": "qKOb765IiVuD",
        "outputId": "731bafad-ea29-463f-c8c1-cb7acfd70e5d"
      },
      "outputs": [],
      "source": [
        "answer_alt = gemini.predict(df_image, prompt=[df_image[\"question\"], df_image[\"image\"]])\n",
        "answer_alt[[\"ml_generate_text_llm_result\", \"image\"]]"
      ]
    },
    {
      "cell_type": "code",
      "execution_count": null,
      "metadata": {
        "colab": {
          "base_uri": "https://localhost:8080/",
          "height": 300
        },
        "id": "KATVv2CO5RT1",
        "outputId": "6ec01f27-70b6-4f69-c545-e5e3c879480c"
      },
      "outputs": [],
      "source": [
        "# Generate embeddings.\n",
        "embed_model = llm.MultimodalEmbeddingGenerator()\n",
        "embeddings = embed_model.predict(df_image[\"image\"])\n",
        "embeddings"
      ]
    },
    {
      "cell_type": "markdown",
      "metadata": {
        "id": "iRUi8AjG7cIf"
      },
      "source": [
        "### 5. PDF chunking function"
      ]
    },
    {
      "cell_type": "code",
      "execution_count": null,
      "metadata": {
        "id": "oDDuYtUm5Yiy"
      },
      "outputs": [],
      "source": [
        "df_pdf = bpd.from_glob_path(\"gs://cloud-samples-data/bigquery/tutorials/cymbal-pets/documents/*\", name=\"pdf\")"
      ]
    },
    {
      "cell_type": "code",
      "execution_count": null,
      "metadata": {
        "colab": {
          "base_uri": "https://localhost:8080/"
        },
        "id": "7jLpMYaj7nj8",
        "outputId": "06d5456f-580f-4693-adff-2605104b056c"
      },
      "outputs": [],
      "source": [
        "df_pdf[\"chunked\"] = df_pdf[\"pdf\"].blob.pdf_chunk(engine=\"pypdf\")"
      ]
    },
    {
      "cell_type": "code",
      "execution_count": null,
      "metadata": {
        "id": "kaPvJATN7zlw"
      },
      "outputs": [],
      "source": [
        "chunked = df_pdf[\"chunked\"].explode()\n",
        "chunked"
      ]
    }
  ],
  "metadata": {
    "colab": {
      "provenance": []
    },
    "kernelspec": {
      "display_name": "Python 3",
      "name": "python3"
    },
    "language_info": {
      "codemirror_mode": {
        "name": "ipython",
        "version": 3
      },
      "file_extension": ".py",
      "mimetype": "text/x-python",
      "name": "python",
      "nbconvert_exporter": "python",
      "pygments_lexer": "ipython3",
      "version": "3.10.14"
    }
  },
  "nbformat": 4,
  "nbformat_minor": 0
}
