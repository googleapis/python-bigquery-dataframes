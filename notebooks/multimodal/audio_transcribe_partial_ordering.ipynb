{
 "cells": [
  {
   "cell_type": "markdown",
   "metadata": {},
   "source": [
    "## Audio Transcription with Partial Ordering Mode in BigQuery DataFrames"
   ]
  },
  {
   "cell_type": "markdown",
   "metadata": {},
   "source": [
    "This notebook demonstrates how to use the `audio_transcribe` function from BigQuery DataFrames' LLM module in partial ordering mode. Partial ordering mode can improve performance by allowing BigQuery to process data in a more optimized, non-sequential manner."
   ]
  },
  {
   "cell_type": "markdown",
   "metadata": {},
   "source": [
    "### 1. Setup"
   ]
  },
  {
   "cell_type": "code",
   "execution_count": 1,
   "metadata": {},
   "outputs": [],
   "source": [
    "PROJECT = \"bigframes-dev\" # replace with your project. \n",
    "# Refer to https://cloud.google.com/bigquery/docs/multimodal-data-dataframes-tutorial#required_roles for your required permissions\n",
    "\n",
    "OUTPUT_BUCKET = \"bigframes_blob_test\" # replace with your GCS bucket. \n",
    "# The connection (or bigframes-default-connection of the project) must have read/write permission to the bucket. \n",
    "# Refer to https://cloud.google.com/bigquery/docs/multimodal-data-dataframes-tutorial#grant-permissions for setting up connection service account permissions.\n",
    "# In this Notebook it uses bigframes-default-connection by default. You can also bring in your own connections in each method.\n",
    "\n",
    "import bigframes\n",
    "# Setup project\n",
    "bigframes.options.bigquery.project = PROJECT\n",
    "\n",
    "# Display options\n",
    "bigframes.options.display.blob_display_width = 300\n",
    "bigframes.options.display.progress_bar = None\n",
    "\n",
    "import bigframes.pandas as bpd"
   ]
  },
  {
   "cell_type": "markdown",
   "metadata": {},
   "source": [
    "### 2. Set to Partial Ordering Mode"
   ]
  },
  {
   "cell_type": "code",
   "execution_count": 2,
   "metadata": {},
   "outputs": [
    {
     "name": "stdout",
     "output_type": "stream",
     "text": [
      "Ordering mode set to: partial\n"
     ]
    }
   ],
   "source": [
    "bpd.options.compute.ordering_mode = \"partial\"\n",
    "print(f\"Ordering mode set to: {bpd.options.compute.ordering_mode}\")"
   ]
  },
  {
   "cell_type": "markdown",
   "metadata": {},
   "source": [
    "### 3. Prepare Audio Data"
   ]
  },
  {
   "cell_type": "markdown",
   "metadata": {},
   "source": [
    "We will use a publicly available audio file stored in a Google Cloud Storage bucket. We use `from_glob_path` to correctly load the audio file as a blob object."
   ]
  },
  {
   "cell_type": "code",
   "execution_count": 3,
   "metadata": {},
   "outputs": [
    {
     "name": "stderr",
     "output_type": "stream",
     "text": [
      "/usr/local/google/home/shuowei/src/github.com/googleapis/python-bigquery-dataframes/bigframes/core/global_session.py:113: DefaultLocationWarning: No explicit location is set, so using location US for the session.\n",
      "  _global_session = bigframes.session.connect(\n",
      "/usr/local/google/home/shuowei/src/github.com/googleapis/python-bigquery-dataframes/bigframes/dtypes.py:959: JSONDtypeWarning: JSON columns will be represented as pandas.ArrowDtype(pyarrow.json_())\n",
      "instead of using `db_dtypes` in the future when available in pandas\n",
      "(https://github.com/pandas-dev/pandas/issues/60958) and pyarrow.\n",
      "  warnings.warn(msg, bigframes.exceptions.JSONDtypeWarning)\n"
     ]
    }
   ],
   "source": [
    "audio_gcs_path = \"gs://bigframes_blob_test/audio/*\"\n",
    "df = bpd.from_glob_path(\n",
    "    audio_gcs_path, name=\"audio\"\n",
    ")"
   ]
  },
  {
   "cell_type": "markdown",
   "metadata": {},
   "source": [
    "### 4. Run Audio Transcription"
   ]
  },
  {
   "cell_type": "markdown",
   "metadata": {},
   "source": [
    "Now, we'll use the `audio_transcribe` function with the `gemini-2.0-flash-001` model to transcribe the audio file. This operation will be executed in partial ordering mode as configured."
   ]
  },
  {
   "cell_type": "code",
   "execution_count": 4,
   "metadata": {},
   "outputs": [
    {
     "name": "stderr",
     "output_type": "stream",
     "text": [
      "/usr/local/google/home/shuowei/src/github.com/googleapis/python-bigquery-dataframes/bigframes/dtypes.py:959: JSONDtypeWarning: JSON columns will be represented as pandas.ArrowDtype(pyarrow.json_())\n",
      "instead of using `db_dtypes` in the future when available in pandas\n",
      "(https://github.com/pandas-dev/pandas/issues/60958) and pyarrow.\n",
      "  warnings.warn(msg, bigframes.exceptions.JSONDtypeWarning)\n",
      "/usr/local/google/home/shuowei/src/github.com/googleapis/python-bigquery-dataframes/bigframes/dtypes.py:959: JSONDtypeWarning: JSON columns will be represented as pandas.ArrowDtype(pyarrow.json_())\n",
      "instead of using `db_dtypes` in the future when available in pandas\n",
      "(https://github.com/pandas-dev/pandas/issues/60958) and pyarrow.\n",
      "  warnings.warn(msg, bigframes.exceptions.JSONDtypeWarning)\n"
     ]
    },
    {
     "data": {
      "text/plain": [
       "0    Now, as all books, not primarily intended as p...\n",
       "Name: transcribed_content, dtype: string"
      ]
     },
     "execution_count": 4,
     "metadata": {},
     "output_type": "execute_result"
    }
   ],
   "source": [
    "transcribed_series = df['audio'].blob.audio_transcribe(model_name=\"gemini-2.0-flash-001\", verbose=False)\n",
    "transcribed_series"
   ]
  }
 ],
 "metadata": {
  "kernelspec": {
   "display_name": "Python 3",
   "language": "python",
   "name": "python3"
  },
  "language_info": {
   "codemirror_mode": {
    "name": "ipython",
    "version": 3
   },
   "file_extension": ".py",
   "mimetype": "text/x-python",
   "name": "python",
   "nbconvert_exporter": "python",
   "pygments_lexer": "ipython3",
   "version": "3.10.12"
  }
 },
 "nbformat": 4,
 "nbformat_minor": 4
}
