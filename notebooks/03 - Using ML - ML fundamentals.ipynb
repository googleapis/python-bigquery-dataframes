{
 "cells": [
  {
   "attachments": {},
   "cell_type": "markdown",
   "metadata": {},
   "source": [
    "# Using ML - ML fundamentals\n",
    "\n",
    "The `bigframes.ml` module implements Scikit-Learn's machine learning API in\n",
    "BigQuery DataFrames. It exposes BigQuery's ML capabilities in a simple, popular\n",
    "API that works seamlessly with the rest of the BigQuery DataFrames API."
   ]
  },
  {
   "cell_type": "code",
   "execution_count": 1,
   "metadata": {},
   "outputs": [
    {
     "data": {
      "application/vnd.jupyter.widget-view+json": {
       "model_id": "590f15dab2c940b0a23af16c4b1b8fe1",
       "version_major": 2,
       "version_minor": 0
      },
      "text/plain": [
       "HTML(value='Query job 802292ea-3f16-400e-97e2-34009774a1f0 is RUNNING. <a target=\"_blank\" href=\"https://consol…"
      ]
     },
     "metadata": {},
     "output_type": "display_data"
    },
    {
     "data": {
      "application/vnd.jupyter.widget-view+json": {
       "model_id": "5082363e53be4fb0a96004066e136bc4",
       "version_major": 2,
       "version_minor": 0
      },
      "text/plain": [
       "HTML(value='Query job 884f55c2-0fca-4f07-b52c-3ff19d7327ea is DONE. 28.9 kB processed. <a target=\"_blank\" href…"
      ]
     },
     "metadata": {},
     "output_type": "display_data"
    },
    {
     "data": {
      "application/vnd.jupyter.widget-view+json": {
       "model_id": "1359e7cb917845b79272ded65e22c078",
       "version_major": 2,
       "version_minor": 0
      },
      "text/plain": [
       "HTML(value='Query job d08fdb42-a6e3-4df2-be75-a8ed41a03ccc is DONE. 31.7 kB processed. <a target=\"_blank\" href…"
      ]
     },
     "metadata": {},
     "output_type": "display_data"
    },
    {
     "data": {
      "application/vnd.jupyter.widget-view+json": {
       "model_id": "cc15f007abc640519c9966db645cef97",
       "version_major": 2,
       "version_minor": 0
      },
      "text/plain": [
       "HTML(value='Query job 8cf61cc4-94b1-48f3-8230-c769c1b42185 is DONE. 0 Bytes processed. <a target=\"_blank\" href…"
      ]
     },
     "metadata": {},
     "output_type": "display_data"
    },
    {
     "data": {
      "text/html": [
       "<div>\n",
       "<style scoped>\n",
       "    .dataframe tbody tr th:only-of-type {\n",
       "        vertical-align: middle;\n",
       "    }\n",
       "\n",
       "    .dataframe tbody tr th {\n",
       "        vertical-align: top;\n",
       "    }\n",
       "\n",
       "    .dataframe thead th {\n",
       "        text-align: right;\n",
       "    }\n",
       "</style>\n",
       "<table border=\"1\" class=\"dataframe\">\n",
       "  <thead>\n",
       "    <tr style=\"text-align: right;\">\n",
       "      <th></th>\n",
       "      <th>species</th>\n",
       "      <th>island</th>\n",
       "      <th>culmen_length_mm</th>\n",
       "      <th>culmen_depth_mm</th>\n",
       "      <th>flipper_length_mm</th>\n",
       "      <th>body_mass_g</th>\n",
       "      <th>sex</th>\n",
       "    </tr>\n",
       "    <tr>\n",
       "      <th>penguin_id</th>\n",
       "      <th></th>\n",
       "      <th></th>\n",
       "      <th></th>\n",
       "      <th></th>\n",
       "      <th></th>\n",
       "      <th></th>\n",
       "      <th></th>\n",
       "    </tr>\n",
       "  </thead>\n",
       "  <tbody>\n",
       "    <tr>\n",
       "      <th>0</th>\n",
       "      <td>Adelie Penguin (Pygoscelis adeliae)</td>\n",
       "      <td>Dream</td>\n",
       "      <td>36.6</td>\n",
       "      <td>18.4</td>\n",
       "      <td>184.0</td>\n",
       "      <td>3475.0</td>\n",
       "      <td>FEMALE</td>\n",
       "    </tr>\n",
       "    <tr>\n",
       "      <th>1</th>\n",
       "      <td>Adelie Penguin (Pygoscelis adeliae)</td>\n",
       "      <td>Dream</td>\n",
       "      <td>39.8</td>\n",
       "      <td>19.1</td>\n",
       "      <td>184.0</td>\n",
       "      <td>4650.0</td>\n",
       "      <td>MALE</td>\n",
       "    </tr>\n",
       "    <tr>\n",
       "      <th>2</th>\n",
       "      <td>Adelie Penguin (Pygoscelis adeliae)</td>\n",
       "      <td>Dream</td>\n",
       "      <td>40.9</td>\n",
       "      <td>18.9</td>\n",
       "      <td>184.0</td>\n",
       "      <td>3900.0</td>\n",
       "      <td>MALE</td>\n",
       "    </tr>\n",
       "    <tr>\n",
       "      <th>3</th>\n",
       "      <td>Chinstrap penguin (Pygoscelis antarctica)</td>\n",
       "      <td>Dream</td>\n",
       "      <td>46.5</td>\n",
       "      <td>17.9</td>\n",
       "      <td>192.0</td>\n",
       "      <td>3500.0</td>\n",
       "      <td>FEMALE</td>\n",
       "    </tr>\n",
       "    <tr>\n",
       "      <th>4</th>\n",
       "      <td>Adelie Penguin (Pygoscelis adeliae)</td>\n",
       "      <td>Dream</td>\n",
       "      <td>37.3</td>\n",
       "      <td>16.8</td>\n",
       "      <td>192.0</td>\n",
       "      <td>3000.0</td>\n",
       "      <td>FEMALE</td>\n",
       "    </tr>\n",
       "    <tr>\n",
       "      <th>5</th>\n",
       "      <td>Adelie Penguin (Pygoscelis adeliae)</td>\n",
       "      <td>Dream</td>\n",
       "      <td>43.2</td>\n",
       "      <td>18.5</td>\n",
       "      <td>192.0</td>\n",
       "      <td>4100.0</td>\n",
       "      <td>MALE</td>\n",
       "    </tr>\n",
       "    <tr>\n",
       "      <th>6</th>\n",
       "      <td>Chinstrap penguin (Pygoscelis antarctica)</td>\n",
       "      <td>Dream</td>\n",
       "      <td>46.9</td>\n",
       "      <td>16.6</td>\n",
       "      <td>192.0</td>\n",
       "      <td>2700.0</td>\n",
       "      <td>FEMALE</td>\n",
       "    </tr>\n",
       "    <tr>\n",
       "      <th>7</th>\n",
       "      <td>Chinstrap penguin (Pygoscelis antarctica)</td>\n",
       "      <td>Dream</td>\n",
       "      <td>50.5</td>\n",
       "      <td>18.4</td>\n",
       "      <td>200.0</td>\n",
       "      <td>3400.0</td>\n",
       "      <td>FEMALE</td>\n",
       "    </tr>\n",
       "    <tr>\n",
       "      <th>8</th>\n",
       "      <td>Chinstrap penguin (Pygoscelis antarctica)</td>\n",
       "      <td>Dream</td>\n",
       "      <td>49.5</td>\n",
       "      <td>19.0</td>\n",
       "      <td>200.0</td>\n",
       "      <td>3800.0</td>\n",
       "      <td>MALE</td>\n",
       "    </tr>\n",
       "    <tr>\n",
       "      <th>9</th>\n",
       "      <td>Adelie Penguin (Pygoscelis adeliae)</td>\n",
       "      <td>Dream</td>\n",
       "      <td>40.2</td>\n",
       "      <td>20.1</td>\n",
       "      <td>200.0</td>\n",
       "      <td>3975.0</td>\n",
       "      <td>MALE</td>\n",
       "    </tr>\n",
       "    <tr>\n",
       "      <th>10</th>\n",
       "      <td>Adelie Penguin (Pygoscelis adeliae)</td>\n",
       "      <td>Dream</td>\n",
       "      <td>40.8</td>\n",
       "      <td>18.9</td>\n",
       "      <td>208.0</td>\n",
       "      <td>4300.0</td>\n",
       "      <td>MALE</td>\n",
       "    </tr>\n",
       "    <tr>\n",
       "      <th>11</th>\n",
       "      <td>Adelie Penguin (Pygoscelis adeliae)</td>\n",
       "      <td>Dream</td>\n",
       "      <td>39.0</td>\n",
       "      <td>18.7</td>\n",
       "      <td>185.0</td>\n",
       "      <td>3650.0</td>\n",
       "      <td>MALE</td>\n",
       "    </tr>\n",
       "    <tr>\n",
       "      <th>12</th>\n",
       "      <td>Adelie Penguin (Pygoscelis adeliae)</td>\n",
       "      <td>Dream</td>\n",
       "      <td>37.0</td>\n",
       "      <td>16.9</td>\n",
       "      <td>185.0</td>\n",
       "      <td>3000.0</td>\n",
       "      <td>FEMALE</td>\n",
       "    </tr>\n",
       "    <tr>\n",
       "      <th>13</th>\n",
       "      <td>Chinstrap penguin (Pygoscelis antarctica)</td>\n",
       "      <td>Dream</td>\n",
       "      <td>47.0</td>\n",
       "      <td>17.3</td>\n",
       "      <td>185.0</td>\n",
       "      <td>3700.0</td>\n",
       "      <td>FEMALE</td>\n",
       "    </tr>\n",
       "    <tr>\n",
       "      <th>14</th>\n",
       "      <td>Adelie Penguin (Pygoscelis adeliae)</td>\n",
       "      <td>Dream</td>\n",
       "      <td>34.0</td>\n",
       "      <td>17.1</td>\n",
       "      <td>185.0</td>\n",
       "      <td>3400.0</td>\n",
       "      <td>FEMALE</td>\n",
       "    </tr>\n",
       "    <tr>\n",
       "      <th>15</th>\n",
       "      <td>Adelie Penguin (Pygoscelis adeliae)</td>\n",
       "      <td>Dream</td>\n",
       "      <td>37.0</td>\n",
       "      <td>16.5</td>\n",
       "      <td>185.0</td>\n",
       "      <td>3400.0</td>\n",
       "      <td>FEMALE</td>\n",
       "    </tr>\n",
       "    <tr>\n",
       "      <th>16</th>\n",
       "      <td>Chinstrap penguin (Pygoscelis antarctica)</td>\n",
       "      <td>Dream</td>\n",
       "      <td>45.7</td>\n",
       "      <td>17.3</td>\n",
       "      <td>193.0</td>\n",
       "      <td>3600.0</td>\n",
       "      <td>FEMALE</td>\n",
       "    </tr>\n",
       "    <tr>\n",
       "      <th>17</th>\n",
       "      <td>Chinstrap penguin (Pygoscelis antarctica)</td>\n",
       "      <td>Dream</td>\n",
       "      <td>50.6</td>\n",
       "      <td>19.4</td>\n",
       "      <td>193.0</td>\n",
       "      <td>3800.0</td>\n",
       "      <td>MALE</td>\n",
       "    </tr>\n",
       "    <tr>\n",
       "      <th>18</th>\n",
       "      <td>Adelie Penguin (Pygoscelis adeliae)</td>\n",
       "      <td>Dream</td>\n",
       "      <td>39.7</td>\n",
       "      <td>17.9</td>\n",
       "      <td>193.0</td>\n",
       "      <td>4250.0</td>\n",
       "      <td>MALE</td>\n",
       "    </tr>\n",
       "    <tr>\n",
       "      <th>19</th>\n",
       "      <td>Adelie Penguin (Pygoscelis adeliae)</td>\n",
       "      <td>Dream</td>\n",
       "      <td>37.8</td>\n",
       "      <td>18.1</td>\n",
       "      <td>193.0</td>\n",
       "      <td>3750.0</td>\n",
       "      <td>MALE</td>\n",
       "    </tr>\n",
       "    <tr>\n",
       "      <th>20</th>\n",
       "      <td>Chinstrap penguin (Pygoscelis antarctica)</td>\n",
       "      <td>Dream</td>\n",
       "      <td>46.6</td>\n",
       "      <td>17.8</td>\n",
       "      <td>193.0</td>\n",
       "      <td>3800.0</td>\n",
       "      <td>FEMALE</td>\n",
       "    </tr>\n",
       "    <tr>\n",
       "      <th>21</th>\n",
       "      <td>Chinstrap penguin (Pygoscelis antarctica)</td>\n",
       "      <td>Dream</td>\n",
       "      <td>51.3</td>\n",
       "      <td>19.2</td>\n",
       "      <td>193.0</td>\n",
       "      <td>3650.0</td>\n",
       "      <td>MALE</td>\n",
       "    </tr>\n",
       "    <tr>\n",
       "      <th>22</th>\n",
       "      <td>Adelie Penguin (Pygoscelis adeliae)</td>\n",
       "      <td>Dream</td>\n",
       "      <td>40.2</td>\n",
       "      <td>17.1</td>\n",
       "      <td>193.0</td>\n",
       "      <td>3400.0</td>\n",
       "      <td>FEMALE</td>\n",
       "    </tr>\n",
       "    <tr>\n",
       "      <th>23</th>\n",
       "      <td>Adelie Penguin (Pygoscelis adeliae)</td>\n",
       "      <td>Dream</td>\n",
       "      <td>36.8</td>\n",
       "      <td>18.5</td>\n",
       "      <td>193.0</td>\n",
       "      <td>3500.0</td>\n",
       "      <td>FEMALE</td>\n",
       "    </tr>\n",
       "    <tr>\n",
       "      <th>24</th>\n",
       "      <td>Chinstrap penguin (Pygoscelis antarctica)</td>\n",
       "      <td>Dream</td>\n",
       "      <td>49.6</td>\n",
       "      <td>18.2</td>\n",
       "      <td>193.0</td>\n",
       "      <td>3775.0</td>\n",
       "      <td>MALE</td>\n",
       "    </tr>\n",
       "  </tbody>\n",
       "</table>\n",
       "<p>25 rows × 7 columns</p>\n",
       "</div>[334 rows x 7 columns in total]"
      ],
      "text/plain": [
       "                                              species island  \\\n",
       "penguin_id                                                     \n",
       "0                 Adelie Penguin (Pygoscelis adeliae)  Dream   \n",
       "1                 Adelie Penguin (Pygoscelis adeliae)  Dream   \n",
       "2                 Adelie Penguin (Pygoscelis adeliae)  Dream   \n",
       "3           Chinstrap penguin (Pygoscelis antarctica)  Dream   \n",
       "4                 Adelie Penguin (Pygoscelis adeliae)  Dream   \n",
       "5                 Adelie Penguin (Pygoscelis adeliae)  Dream   \n",
       "6           Chinstrap penguin (Pygoscelis antarctica)  Dream   \n",
       "7           Chinstrap penguin (Pygoscelis antarctica)  Dream   \n",
       "8           Chinstrap penguin (Pygoscelis antarctica)  Dream   \n",
       "9                 Adelie Penguin (Pygoscelis adeliae)  Dream   \n",
       "10                Adelie Penguin (Pygoscelis adeliae)  Dream   \n",
       "11                Adelie Penguin (Pygoscelis adeliae)  Dream   \n",
       "12                Adelie Penguin (Pygoscelis adeliae)  Dream   \n",
       "13          Chinstrap penguin (Pygoscelis antarctica)  Dream   \n",
       "14                Adelie Penguin (Pygoscelis adeliae)  Dream   \n",
       "15                Adelie Penguin (Pygoscelis adeliae)  Dream   \n",
       "16          Chinstrap penguin (Pygoscelis antarctica)  Dream   \n",
       "17          Chinstrap penguin (Pygoscelis antarctica)  Dream   \n",
       "18                Adelie Penguin (Pygoscelis adeliae)  Dream   \n",
       "19                Adelie Penguin (Pygoscelis adeliae)  Dream   \n",
       "20          Chinstrap penguin (Pygoscelis antarctica)  Dream   \n",
       "21          Chinstrap penguin (Pygoscelis antarctica)  Dream   \n",
       "22                Adelie Penguin (Pygoscelis adeliae)  Dream   \n",
       "23                Adelie Penguin (Pygoscelis adeliae)  Dream   \n",
       "24          Chinstrap penguin (Pygoscelis antarctica)  Dream   \n",
       "\n",
       "            culmen_length_mm  culmen_depth_mm  flipper_length_mm  body_mass_g  \\\n",
       "penguin_id                                                                      \n",
       "0                       36.6             18.4              184.0       3475.0   \n",
       "1                       39.8             19.1              184.0       4650.0   \n",
       "2                       40.9             18.9              184.0       3900.0   \n",
       "3                       46.5             17.9              192.0       3500.0   \n",
       "4                       37.3             16.8              192.0       3000.0   \n",
       "5                       43.2             18.5              192.0       4100.0   \n",
       "6                       46.9             16.6              192.0       2700.0   \n",
       "7                       50.5             18.4              200.0       3400.0   \n",
       "8                       49.5             19.0              200.0       3800.0   \n",
       "9                       40.2             20.1              200.0       3975.0   \n",
       "10                      40.8             18.9              208.0       4300.0   \n",
       "11                      39.0             18.7              185.0       3650.0   \n",
       "12                      37.0             16.9              185.0       3000.0   \n",
       "13                      47.0             17.3              185.0       3700.0   \n",
       "14                      34.0             17.1              185.0       3400.0   \n",
       "15                      37.0             16.5              185.0       3400.0   \n",
       "16                      45.7             17.3              193.0       3600.0   \n",
       "17                      50.6             19.4              193.0       3800.0   \n",
       "18                      39.7             17.9              193.0       4250.0   \n",
       "19                      37.8             18.1              193.0       3750.0   \n",
       "20                      46.6             17.8              193.0       3800.0   \n",
       "21                      51.3             19.2              193.0       3650.0   \n",
       "22                      40.2             17.1              193.0       3400.0   \n",
       "23                      36.8             18.5              193.0       3500.0   \n",
       "24                      49.6             18.2              193.0       3775.0   \n",
       "\n",
       "               sex  \n",
       "penguin_id          \n",
       "0           FEMALE  \n",
       "1             MALE  \n",
       "2             MALE  \n",
       "3           FEMALE  \n",
       "4           FEMALE  \n",
       "5             MALE  \n",
       "6           FEMALE  \n",
       "7           FEMALE  \n",
       "8             MALE  \n",
       "9             MALE  \n",
       "10            MALE  \n",
       "11            MALE  \n",
       "12          FEMALE  \n",
       "13          FEMALE  \n",
       "14          FEMALE  \n",
       "15          FEMALE  \n",
       "16          FEMALE  \n",
       "17            MALE  \n",
       "18            MALE  \n",
       "19            MALE  \n",
       "20          FEMALE  \n",
       "21            MALE  \n",
       "22          FEMALE  \n",
       "23          FEMALE  \n",
       "24            MALE  \n",
       "...\n",
       "\n",
       "[334 rows x 7 columns]"
      ]
     },
     "execution_count": 1,
     "metadata": {},
     "output_type": "execute_result"
    }
   ],
   "source": [
    "# Lets load some test data to use in this tutorial\n",
    "import bigframes.pandas\n",
    "\n",
    "df = bigframes.pandas.read_gbq(\"bigquery-public-data.ml_datasets.penguins\")\n",
    "df = df.dropna()\n",
    "\n",
    "# Temporary workaround: lets name our index so it isn't lost BigQuery DataFrame\n",
    "# currently drops unnamed indexes when round-tripping through pandas, which\n",
    "# some ML APIs do to route around missing functionality\n",
    "df.index.name = \"penguin_id\"\n",
    "\n",
    "df"
   ]
  },
  {
   "attachments": {},
   "cell_type": "markdown",
   "metadata": {},
   "source": [
    "## Data split\n",
    "\n",
    "Part of preparing data for a machine learning task is splitting it into subsets for training and testing, to ensure that the solution is not overfitting. Most commonly this is done with `bigframes.ml.model_selection.train_test_split` like so:"
   ]
  },
  {
   "cell_type": "code",
   "execution_count": 2,
   "metadata": {},
   "outputs": [
    {
     "data": {
      "application/vnd.jupyter.widget-view+json": {
       "model_id": "cc80f5487a8149f388909531ccd635f5",
       "version_major": 2,
       "version_minor": 0
      },
      "text/plain": [
       "HTML(value='Query job 7ebf9d82-751c-4e02-bf5d-e8fa207539eb is DONE. 28.9 kB processed. <a target=\"_blank\" href…"
      ]
     },
     "metadata": {},
     "output_type": "display_data"
    },
    {
     "data": {
      "application/vnd.jupyter.widget-view+json": {
       "model_id": "368c9fbeb5a74e9981e227d5182e1f2b",
       "version_major": 2,
       "version_minor": 0
      },
      "text/plain": [
       "HTML(value='Query job 6cbaa7c1-3649-4c4d-9b57-020a88ef579a is DONE. 31.7 kB processed. <a target=\"_blank\" href…"
      ]
     },
     "metadata": {},
     "output_type": "display_data"
    },
    {
     "data": {
      "application/vnd.jupyter.widget-view+json": {
       "model_id": "d833270025a44419943fcc81579e9799",
       "version_major": 2,
       "version_minor": 0
      },
      "text/plain": [
       "HTML(value='Query job f8376784-8d9b-4423-9b38-360fc9b053ee is DONE. 31.7 kB processed. <a target=\"_blank\" href…"
      ]
     },
     "metadata": {},
     "output_type": "display_data"
    },
    {
     "data": {
      "application/vnd.jupyter.widget-view+json": {
       "model_id": "39219b388f464a87a6943aad56a9e00b",
       "version_major": 2,
       "version_minor": 0
      },
      "text/plain": [
       "HTML(value='Query job 1f190e5d-7e2c-4aad-8ffe-5d6931a4f069 is RUNNING. <a target=\"_blank\" href=\"https://consol…"
      ]
     },
     "metadata": {},
     "output_type": "display_data"
    },
    {
     "data": {
      "application/vnd.jupyter.widget-view+json": {
       "model_id": "4d11504fe7b24118924898fbdb019094",
       "version_major": 2,
       "version_minor": 0
      },
      "text/plain": [
       "HTML(value='Query job d0f050b1-1e2c-4574-9530-090650afac89 is DONE. 31.7 kB processed. <a target=\"_blank\" href…"
      ]
     },
     "metadata": {},
     "output_type": "display_data"
    },
    {
     "name": "stdout",
     "output_type": "stream",
     "text": [
      "train_X shape: (267, 6)\n",
      "test_X shape: (67, 6)\n",
      "train_y shape: (267, 1)\n",
      "test_y shape: (67, 1)\n"
     ]
    }
   ],
   "source": [
    "# In this example, we're doing supervised learning, where we will learn to predict\n",
    "# output variable `y` from input features `X`\n",
    "X = df[['island', 'culmen_length_mm', 'culmen_depth_mm', 'flipper_length_mm', 'sex', 'species']]\n",
    "y = df[['body_mass_g']] \n",
    "\n",
    "from bigframes.ml.model_selection import train_test_split\n",
    "\n",
    "# This will split X and y into test and training sets, with 20% of the rows in the test set,\n",
    "# and the rest in the training set\n",
    "train_X, test_X, train_y, test_y = train_test_split(\n",
    "  X, y, test_size=0.2)\n",
    "\n",
    "# Show the shape of the data after the split\n",
    "print(f\"\"\"train_X shape: {train_X.shape}\n",
    "test_X shape: {test_X.shape}\n",
    "train_y shape: {train_y.shape}\n",
    "test_y shape: {test_y.shape}\"\"\")"
   ]
  },
  {
   "cell_type": "code",
   "execution_count": 3,
   "metadata": {},
   "outputs": [
    {
     "data": {
      "application/vnd.jupyter.widget-view+json": {
       "model_id": "c86974d264f04a7d82001474111c9cd1",
       "version_major": 2,
       "version_minor": 0
      },
      "text/plain": [
       "HTML(value='Query job d183d82d-e05a-41c1-be4b-8487875e52ea is DONE. 31.7 kB processed. <a target=\"_blank\" href…"
      ]
     },
     "metadata": {},
     "output_type": "display_data"
    },
    {
     "data": {
      "application/vnd.jupyter.widget-view+json": {
       "model_id": "903ee0c25de04ad1a0a13f3de56aaa69",
       "version_major": 2,
       "version_minor": 0
      },
      "text/plain": [
       "HTML(value='Query job b6421901-8342-4336-87f0-6deb9fc9b397 is DONE. 31.7 kB processed. <a target=\"_blank\" href…"
      ]
     },
     "metadata": {},
     "output_type": "display_data"
    },
    {
     "data": {
      "application/vnd.jupyter.widget-view+json": {
       "model_id": "6af35fcd9f814df8aee07dc291ce93f9",
       "version_major": 2,
       "version_minor": 0
      },
      "text/plain": [
       "HTML(value='Query job 15ee740d-09c8-45e2-a3da-ccae2d4d21eb is DONE. 0 Bytes processed. <a target=\"_blank\" href…"
      ]
     },
     "metadata": {},
     "output_type": "display_data"
    },
    {
     "data": {
      "text/html": [
       "<div>\n",
       "<style scoped>\n",
       "    .dataframe tbody tr th:only-of-type {\n",
       "        vertical-align: middle;\n",
       "    }\n",
       "\n",
       "    .dataframe tbody tr th {\n",
       "        vertical-align: top;\n",
       "    }\n",
       "\n",
       "    .dataframe thead th {\n",
       "        text-align: right;\n",
       "    }\n",
       "</style>\n",
       "<table border=\"1\" class=\"dataframe\">\n",
       "  <thead>\n",
       "    <tr style=\"text-align: right;\">\n",
       "      <th></th>\n",
       "      <th>island</th>\n",
       "      <th>culmen_length_mm</th>\n",
       "      <th>culmen_depth_mm</th>\n",
       "      <th>flipper_length_mm</th>\n",
       "      <th>sex</th>\n",
       "      <th>species</th>\n",
       "    </tr>\n",
       "    <tr>\n",
       "      <th>penguin_id</th>\n",
       "      <th></th>\n",
       "      <th></th>\n",
       "      <th></th>\n",
       "      <th></th>\n",
       "      <th></th>\n",
       "      <th></th>\n",
       "    </tr>\n",
       "  </thead>\n",
       "  <tbody>\n",
       "    <tr>\n",
       "      <th>241</th>\n",
       "      <td>Biscoe</td>\n",
       "      <td>46.2</td>\n",
       "      <td>14.9</td>\n",
       "      <td>221.0</td>\n",
       "      <td>MALE</td>\n",
       "      <td>Gentoo penguin (Pygoscelis papua)</td>\n",
       "    </tr>\n",
       "    <tr>\n",
       "      <th>121</th>\n",
       "      <td>Dream</td>\n",
       "      <td>48.1</td>\n",
       "      <td>16.4</td>\n",
       "      <td>199.0</td>\n",
       "      <td>FEMALE</td>\n",
       "      <td>Chinstrap penguin (Pygoscelis antarctica)</td>\n",
       "    </tr>\n",
       "    <tr>\n",
       "      <th>209</th>\n",
       "      <td>Biscoe</td>\n",
       "      <td>42.7</td>\n",
       "      <td>18.3</td>\n",
       "      <td>196.0</td>\n",
       "      <td>MALE</td>\n",
       "      <td>Adelie Penguin (Pygoscelis adeliae)</td>\n",
       "    </tr>\n",
       "    <tr>\n",
       "      <th>270</th>\n",
       "      <td>Biscoe</td>\n",
       "      <td>37.7</td>\n",
       "      <td>16.0</td>\n",
       "      <td>183.0</td>\n",
       "      <td>FEMALE</td>\n",
       "      <td>Adelie Penguin (Pygoscelis adeliae)</td>\n",
       "    </tr>\n",
       "    <tr>\n",
       "      <th>187</th>\n",
       "      <td>Biscoe</td>\n",
       "      <td>43.4</td>\n",
       "      <td>14.4</td>\n",
       "      <td>218.0</td>\n",
       "      <td>FEMALE</td>\n",
       "      <td>Gentoo penguin (Pygoscelis papua)</td>\n",
       "    </tr>\n",
       "  </tbody>\n",
       "</table>\n",
       "<p>5 rows × 6 columns</p>\n",
       "</div>[5 rows x 6 columns in total]"
      ],
      "text/plain": [
       "            island  culmen_length_mm  culmen_depth_mm  flipper_length_mm  \\\n",
       "penguin_id                                                                 \n",
       "241         Biscoe              46.2             14.9              221.0   \n",
       "121          Dream              48.1             16.4              199.0   \n",
       "209         Biscoe              42.7             18.3              196.0   \n",
       "270         Biscoe              37.7             16.0              183.0   \n",
       "187         Biscoe              43.4             14.4              218.0   \n",
       "\n",
       "               sex                                    species  \n",
       "penguin_id                                                     \n",
       "241           MALE          Gentoo penguin (Pygoscelis papua)  \n",
       "121         FEMALE  Chinstrap penguin (Pygoscelis antarctica)  \n",
       "209           MALE        Adelie Penguin (Pygoscelis adeliae)  \n",
       "270         FEMALE        Adelie Penguin (Pygoscelis adeliae)  \n",
       "187         FEMALE          Gentoo penguin (Pygoscelis papua)  \n",
       "\n",
       "[5 rows x 6 columns]"
      ]
     },
     "execution_count": 3,
     "metadata": {},
     "output_type": "execute_result"
    }
   ],
   "source": [
    "# If we look at the data, we can see that random rows were selected for\n",
    "# each side of the split\n",
    "test_X.head(5)"
   ]
  },
  {
   "cell_type": "code",
   "execution_count": 4,
   "metadata": {},
   "outputs": [
    {
     "data": {
      "application/vnd.jupyter.widget-view+json": {
       "model_id": "f09b707c5c9540cdae59af3765339b6e",
       "version_major": 2,
       "version_minor": 0
      },
      "text/plain": [
       "HTML(value='Query job 9f0cf977-a895-41fa-9f33-8b5346c62786 is DONE. 31.7 kB processed. <a target=\"_blank\" href…"
      ]
     },
     "metadata": {},
     "output_type": "display_data"
    },
    {
     "data": {
      "application/vnd.jupyter.widget-view+json": {
       "model_id": "c49f8fa7500548b18cbff2e66231037d",
       "version_major": 2,
       "version_minor": 0
      },
      "text/plain": [
       "HTML(value='Query job de51d129-79ac-4189-9214-a60148b6824a is DONE. 31.7 kB processed. <a target=\"_blank\" href…"
      ]
     },
     "metadata": {},
     "output_type": "display_data"
    },
    {
     "data": {
      "application/vnd.jupyter.widget-view+json": {
       "model_id": "25e22999c9b34f0f874e37320e170897",
       "version_major": 2,
       "version_minor": 0
      },
      "text/plain": [
       "HTML(value='Query job c7afac6c-6925-4e53-8ef6-e1a7a3fabd48 is DONE. 0 Bytes processed. <a target=\"_blank\" href…"
      ]
     },
     "metadata": {},
     "output_type": "display_data"
    },
    {
     "data": {
      "text/html": [
       "<div>\n",
       "<style scoped>\n",
       "    .dataframe tbody tr th:only-of-type {\n",
       "        vertical-align: middle;\n",
       "    }\n",
       "\n",
       "    .dataframe tbody tr th {\n",
       "        vertical-align: top;\n",
       "    }\n",
       "\n",
       "    .dataframe thead th {\n",
       "        text-align: right;\n",
       "    }\n",
       "</style>\n",
       "<table border=\"1\" class=\"dataframe\">\n",
       "  <thead>\n",
       "    <tr style=\"text-align: right;\">\n",
       "      <th></th>\n",
       "      <th>body_mass_g</th>\n",
       "    </tr>\n",
       "    <tr>\n",
       "      <th>penguin_id</th>\n",
       "      <th></th>\n",
       "    </tr>\n",
       "  </thead>\n",
       "  <tbody>\n",
       "    <tr>\n",
       "      <th>241</th>\n",
       "      <td>5300.0</td>\n",
       "    </tr>\n",
       "    <tr>\n",
       "      <th>121</th>\n",
       "      <td>3325.0</td>\n",
       "    </tr>\n",
       "    <tr>\n",
       "      <th>209</th>\n",
       "      <td>4075.0</td>\n",
       "    </tr>\n",
       "    <tr>\n",
       "      <th>270</th>\n",
       "      <td>3075.0</td>\n",
       "    </tr>\n",
       "    <tr>\n",
       "      <th>187</th>\n",
       "      <td>4600.0</td>\n",
       "    </tr>\n",
       "  </tbody>\n",
       "</table>\n",
       "<p>5 rows × 1 columns</p>\n",
       "</div>[5 rows x 1 columns in total]"
      ],
      "text/plain": [
       "            body_mass_g\n",
       "penguin_id             \n",
       "241              5300.0\n",
       "121              3325.0\n",
       "209              4075.0\n",
       "270              3075.0\n",
       "187              4600.0\n",
       "\n",
       "[5 rows x 1 columns]"
      ]
     },
     "execution_count": 4,
     "metadata": {},
     "output_type": "execute_result"
    }
   ],
   "source": [
    "# Note that this matches the rows in test_X\n",
    "test_y.head(5)"
   ]
  },
  {
   "attachments": {},
   "cell_type": "markdown",
   "metadata": {},
   "source": [
    "## Estimators\n",
    "\n",
    "Following Scikit-Learn, all learning components are \"estimators\"; objects that can learn from training data and then apply themselves to new data. Estimators share the following patterns:\n",
    "\n",
    "- a constructor that takes a list of parameters\n",
    "- a standard string representation that shows the class name and all non-default parameters, e.g. `LinearRegression(fit_intercept=False)`\n",
    "- a `.fit(..)` method to fit the estimator to training data\n",
    "\n",
    "There estimators can be further broken down into two main subtypes:\n",
    "\n",
    "### Transformers\n",
    "\n",
    "Transformers are estimators that are used to prepare data for consumption by other estimators ('preprocessing'). In addition to `.fit(...)`, the transformer implements a `.transform(...)` method, which will apply a transformation based on what was computed during `.fit(..)`. With this pattern dynamic preprocessing steps can be applied to both training and test/production data consistently.\n",
    "\n",
    "An example of a transformer is `bigframes.ml.preprocessing.StandardScaler`, which rescales a dataset to have a mean of zero and a standard deviation of one:"
   ]
  },
  {
   "cell_type": "code",
   "execution_count": 5,
   "metadata": {},
   "outputs": [
    {
     "data": {
      "application/vnd.jupyter.widget-view+json": {
       "model_id": "299c0c895e3d4a83a8495924a1966ce0",
       "version_major": 2,
       "version_minor": 0
      },
      "text/plain": [
       "HTML(value='Query job f54865db-fdb4-4022-af30-7f282a6b81c0 is DONE. 31.7 kB processed. <a target=\"_blank\" href…"
      ]
     },
     "metadata": {},
     "output_type": "display_data"
    },
    {
     "data": {
      "application/vnd.jupyter.widget-view+json": {
       "model_id": "fc7f7d0581fa4c5b93e7e7c10496b4ca",
       "version_major": 2,
       "version_minor": 0
      },
      "text/plain": [
       "HTML(value='Query job 2d1150ee-11bd-4711-9466-e504d5ee36d2 is DONE. 0 Bytes processed. <a target=\"_blank\" href…"
      ]
     },
     "metadata": {},
     "output_type": "display_data"
    },
    {
     "data": {
      "application/vnd.jupyter.widget-view+json": {
       "model_id": "4a4c11742c2b438881c13b17f7a12bba",
       "version_major": 2,
       "version_minor": 0
      },
      "text/plain": [
       "HTML(value='Query job bf02595f-3cac-4995-998c-d0d0752edfb2 is DONE. 0 Bytes processed. <a target=\"_blank\" href…"
      ]
     },
     "metadata": {},
     "output_type": "display_data"
    },
    {
     "data": {
      "application/vnd.jupyter.widget-view+json": {
       "model_id": "d5af150804134663ad2f11fa9cb9fa6f",
       "version_major": 2,
       "version_minor": 0
      },
      "text/plain": [
       "HTML(value='Query job 115985df-2008-4210-b6eb-0dd9a121155c is DONE. 0 Bytes processed. <a target=\"_blank\" href…"
      ]
     },
     "metadata": {},
     "output_type": "display_data"
    },
    {
     "data": {
      "application/vnd.jupyter.widget-view+json": {
       "model_id": "ae244506a1ef4712a740fa22b91634b9",
       "version_major": 2,
       "version_minor": 0
      },
      "text/plain": [
       "HTML(value='Query job 527dd11b-c164-43df-a430-6cdf326048e4 is DONE. 0 Bytes processed. <a target=\"_blank\" href…"
      ]
     },
     "metadata": {},
     "output_type": "display_data"
    },
    {
     "data": {
      "text/html": [
       "<div>\n",
       "<style scoped>\n",
       "    .dataframe tbody tr th:only-of-type {\n",
       "        vertical-align: middle;\n",
       "    }\n",
       "\n",
       "    .dataframe tbody tr th {\n",
       "        vertical-align: top;\n",
       "    }\n",
       "\n",
       "    .dataframe thead th {\n",
       "        text-align: right;\n",
       "    }\n",
       "</style>\n",
       "<table border=\"1\" class=\"dataframe\">\n",
       "  <thead>\n",
       "    <tr style=\"text-align: right;\">\n",
       "      <th></th>\n",
       "      <th>scaled_culmen_length_mm</th>\n",
       "      <th>scaled_culmen_depth_mm</th>\n",
       "      <th>scaled_flipper_length_mm</th>\n",
       "    </tr>\n",
       "    <tr>\n",
       "      <th>penguin_id</th>\n",
       "      <th></th>\n",
       "      <th></th>\n",
       "      <th></th>\n",
       "    </tr>\n",
       "  </thead>\n",
       "  <tbody>\n",
       "    <tr>\n",
       "      <th>0</th>\n",
       "      <td>-1.364965</td>\n",
       "      <td>0.629892</td>\n",
       "      <td>-1.226537</td>\n",
       "    </tr>\n",
       "    <tr>\n",
       "      <th>1</th>\n",
       "      <td>-0.771824</td>\n",
       "      <td>0.984275</td>\n",
       "      <td>-1.226537</td>\n",
       "    </tr>\n",
       "    <tr>\n",
       "      <th>2</th>\n",
       "      <td>-0.567932</td>\n",
       "      <td>0.883023</td>\n",
       "      <td>-1.226537</td>\n",
       "    </tr>\n",
       "    <tr>\n",
       "      <th>3</th>\n",
       "      <td>0.470064</td>\n",
       "      <td>0.376761</td>\n",
       "      <td>-0.652517</td>\n",
       "    </tr>\n",
       "    <tr>\n",
       "      <th>4</th>\n",
       "      <td>-1.235216</td>\n",
       "      <td>-0.180128</td>\n",
       "      <td>-0.652517</td>\n",
       "    </tr>\n",
       "    <tr>\n",
       "      <th>5</th>\n",
       "      <td>-0.141612</td>\n",
       "      <td>0.680518</td>\n",
       "      <td>-0.652517</td>\n",
       "    </tr>\n",
       "    <tr>\n",
       "      <th>6</th>\n",
       "      <td>0.544207</td>\n",
       "      <td>-0.281381</td>\n",
       "      <td>-0.652517</td>\n",
       "    </tr>\n",
       "    <tr>\n",
       "      <th>7</th>\n",
       "      <td>1.21149</td>\n",
       "      <td>0.629892</td>\n",
       "      <td>-0.078497</td>\n",
       "    </tr>\n",
       "    <tr>\n",
       "      <th>8</th>\n",
       "      <td>1.026133</td>\n",
       "      <td>0.933649</td>\n",
       "      <td>-0.078497</td>\n",
       "    </tr>\n",
       "    <tr>\n",
       "      <th>10</th>\n",
       "      <td>-0.586468</td>\n",
       "      <td>0.883023</td>\n",
       "      <td>0.495523</td>\n",
       "    </tr>\n",
       "    <tr>\n",
       "      <th>11</th>\n",
       "      <td>-0.92011</td>\n",
       "      <td>0.781771</td>\n",
       "      <td>-1.154784</td>\n",
       "    </tr>\n",
       "    <tr>\n",
       "      <th>14</th>\n",
       "      <td>-1.846892</td>\n",
       "      <td>-0.028249</td>\n",
       "      <td>-1.154784</td>\n",
       "    </tr>\n",
       "    <tr>\n",
       "      <th>15</th>\n",
       "      <td>-1.290822</td>\n",
       "      <td>-0.332007</td>\n",
       "      <td>-1.154784</td>\n",
       "    </tr>\n",
       "    <tr>\n",
       "      <th>16</th>\n",
       "      <td>0.321779</td>\n",
       "      <td>0.073003</td>\n",
       "      <td>-0.580765</td>\n",
       "    </tr>\n",
       "    <tr>\n",
       "      <th>17</th>\n",
       "      <td>1.230026</td>\n",
       "      <td>1.136154</td>\n",
       "      <td>-0.580765</td>\n",
       "    </tr>\n",
       "    <tr>\n",
       "      <th>18</th>\n",
       "      <td>-0.79036</td>\n",
       "      <td>0.376761</td>\n",
       "      <td>-0.580765</td>\n",
       "    </tr>\n",
       "    <tr>\n",
       "      <th>20</th>\n",
       "      <td>0.4886</td>\n",
       "      <td>0.326134</td>\n",
       "      <td>-0.580765</td>\n",
       "    </tr>\n",
       "    <tr>\n",
       "      <th>21</th>\n",
       "      <td>1.359775</td>\n",
       "      <td>1.034902</td>\n",
       "      <td>-0.580765</td>\n",
       "    </tr>\n",
       "    <tr>\n",
       "      <th>24</th>\n",
       "      <td>1.044669</td>\n",
       "      <td>0.528639</td>\n",
       "      <td>-0.580765</td>\n",
       "    </tr>\n",
       "    <tr>\n",
       "      <th>26</th>\n",
       "      <td>-0.456718</td>\n",
       "      <td>0.680518</td>\n",
       "      <td>-0.006745</td>\n",
       "    </tr>\n",
       "    <tr>\n",
       "      <th>27</th>\n",
       "      <td>1.21149</td>\n",
       "      <td>1.237407</td>\n",
       "      <td>-0.006745</td>\n",
       "    </tr>\n",
       "    <tr>\n",
       "      <th>29</th>\n",
       "      <td>1.378311</td>\n",
       "      <td>0.933649</td>\n",
       "      <td>-0.006745</td>\n",
       "    </tr>\n",
       "    <tr>\n",
       "      <th>31</th>\n",
       "      <td>-2.013713</td>\n",
       "      <td>-0.534512</td>\n",
       "      <td>-1.657052</td>\n",
       "    </tr>\n",
       "    <tr>\n",
       "      <th>32</th>\n",
       "      <td>-1.253751</td>\n",
       "      <td>0.478013</td>\n",
       "      <td>-1.657052</td>\n",
       "    </tr>\n",
       "    <tr>\n",
       "      <th>33</th>\n",
       "      <td>-0.827431</td>\n",
       "      <td>-0.230754</td>\n",
       "      <td>-1.657052</td>\n",
       "    </tr>\n",
       "  </tbody>\n",
       "</table>\n",
       "<p>25 rows × 3 columns</p>\n",
       "</div>[267 rows x 3 columns in total]"
      ],
      "text/plain": [
       "            scaled_culmen_length_mm  scaled_culmen_depth_mm  \\\n",
       "penguin_id                                                    \n",
       "0                         -1.364965                0.629892   \n",
       "1                         -0.771824                0.984275   \n",
       "2                         -0.567932                0.883023   \n",
       "3                          0.470064                0.376761   \n",
       "4                         -1.235216               -0.180128   \n",
       "5                         -0.141612                0.680518   \n",
       "6                          0.544207               -0.281381   \n",
       "7                           1.21149                0.629892   \n",
       "8                          1.026133                0.933649   \n",
       "10                        -0.586468                0.883023   \n",
       "11                         -0.92011                0.781771   \n",
       "14                        -1.846892               -0.028249   \n",
       "15                        -1.290822               -0.332007   \n",
       "16                         0.321779                0.073003   \n",
       "17                         1.230026                1.136154   \n",
       "18                         -0.79036                0.376761   \n",
       "20                           0.4886                0.326134   \n",
       "21                         1.359775                1.034902   \n",
       "24                         1.044669                0.528639   \n",
       "26                        -0.456718                0.680518   \n",
       "27                          1.21149                1.237407   \n",
       "29                         1.378311                0.933649   \n",
       "31                        -2.013713               -0.534512   \n",
       "32                        -1.253751                0.478013   \n",
       "33                        -0.827431               -0.230754   \n",
       "\n",
       "            scaled_flipper_length_mm  \n",
       "penguin_id                            \n",
       "0                          -1.226537  \n",
       "1                          -1.226537  \n",
       "2                          -1.226537  \n",
       "3                          -0.652517  \n",
       "4                          -0.652517  \n",
       "5                          -0.652517  \n",
       "6                          -0.652517  \n",
       "7                          -0.078497  \n",
       "8                          -0.078497  \n",
       "10                          0.495523  \n",
       "11                         -1.154784  \n",
       "14                         -1.154784  \n",
       "15                         -1.154784  \n",
       "16                         -0.580765  \n",
       "17                         -0.580765  \n",
       "18                         -0.580765  \n",
       "20                         -0.580765  \n",
       "21                         -0.580765  \n",
       "24                         -0.580765  \n",
       "26                         -0.006745  \n",
       "27                         -0.006745  \n",
       "29                         -0.006745  \n",
       "31                         -1.657052  \n",
       "32                         -1.657052  \n",
       "33                         -1.657052  \n",
       "...\n",
       "\n",
       "[267 rows x 3 columns]"
      ]
     },
     "execution_count": 5,
     "metadata": {},
     "output_type": "execute_result"
    }
   ],
   "source": [
    "from bigframes.ml.preprocessing import StandardScaler\n",
    "\n",
    "# StandardScaler will only work on numeric columns\n",
    "numeric_columns = [\"culmen_length_mm\", \"culmen_depth_mm\", \"flipper_length_mm\"]\n",
    "\n",
    "scaler = StandardScaler()\n",
    "scaler.fit(train_X[numeric_columns])\n",
    "\n",
    "# Now, standardscaler should transform the numbers to have mean of zero\n",
    "# and standard deviation of one:\n",
    "scaler.transform(train_X[numeric_columns])"
   ]
  },
  {
   "cell_type": "code",
   "execution_count": 6,
   "metadata": {},
   "outputs": [
    {
     "data": {
      "application/vnd.jupyter.widget-view+json": {
       "model_id": "6ec4ab3e60844e989dbebad89e7665ca",
       "version_major": 2,
       "version_minor": 0
      },
      "text/plain": [
       "HTML(value='Query job a8029b51-2ef1-4acd-9759-d808db954298 is DONE. 31.7 kB processed. <a target=\"_blank\" href…"
      ]
     },
     "metadata": {},
     "output_type": "display_data"
    },
    {
     "data": {
      "application/vnd.jupyter.widget-view+json": {
       "model_id": "7b3240af0dcb4d658f00e7898e0805aa",
       "version_major": 2,
       "version_minor": 0
      },
      "text/plain": [
       "HTML(value='Query job 6d7022b5-1b0e-4dbe-bc0a-555c613e2153 is DONE. 0 Bytes processed. <a target=\"_blank\" href…"
      ]
     },
     "metadata": {},
     "output_type": "display_data"
    },
    {
     "data": {
      "application/vnd.jupyter.widget-view+json": {
       "model_id": "c466c9e33cb94c8b9950fb8ecd0e80e4",
       "version_major": 2,
       "version_minor": 0
      },
      "text/plain": [
       "HTML(value='Query job eb0e0503-2a58-4394-b2dc-6d7e6aeaa57c is DONE. 0 Bytes processed. <a target=\"_blank\" href…"
      ]
     },
     "metadata": {},
     "output_type": "display_data"
    },
    {
     "data": {
      "application/vnd.jupyter.widget-view+json": {
       "model_id": "ea8ba504e18c4f5aa7911b1459f06c41",
       "version_major": 2,
       "version_minor": 0
      },
      "text/plain": [
       "HTML(value='Query job 9f0cafe4-4a59-4984-b66e-614355b36203 is DONE. 0 Bytes processed. <a target=\"_blank\" href…"
      ]
     },
     "metadata": {},
     "output_type": "display_data"
    },
    {
     "data": {
      "application/vnd.jupyter.widget-view+json": {
       "model_id": "b872ef1e43634378938b7de01a4ca716",
       "version_major": 2,
       "version_minor": 0
      },
      "text/plain": [
       "HTML(value='Query job ec0960fb-23e3-4814-8a80-9c23c42e185e is DONE. 0 Bytes processed. <a target=\"_blank\" href…"
      ]
     },
     "metadata": {},
     "output_type": "display_data"
    },
    {
     "data": {
      "text/html": [
       "<div>\n",
       "<style scoped>\n",
       "    .dataframe tbody tr th:only-of-type {\n",
       "        vertical-align: middle;\n",
       "    }\n",
       "\n",
       "    .dataframe tbody tr th {\n",
       "        vertical-align: top;\n",
       "    }\n",
       "\n",
       "    .dataframe thead th {\n",
       "        text-align: right;\n",
       "    }\n",
       "</style>\n",
       "<table border=\"1\" class=\"dataframe\">\n",
       "  <thead>\n",
       "    <tr style=\"text-align: right;\">\n",
       "      <th></th>\n",
       "      <th>scaled_culmen_length_mm</th>\n",
       "      <th>scaled_culmen_depth_mm</th>\n",
       "      <th>scaled_flipper_length_mm</th>\n",
       "    </tr>\n",
       "    <tr>\n",
       "      <th>penguin_id</th>\n",
       "      <th></th>\n",
       "      <th></th>\n",
       "      <th></th>\n",
       "    </tr>\n",
       "  </thead>\n",
       "  <tbody>\n",
       "    <tr>\n",
       "      <th>9</th>\n",
       "      <td>-0.697682</td>\n",
       "      <td>1.490538</td>\n",
       "      <td>-0.078497</td>\n",
       "    </tr>\n",
       "    <tr>\n",
       "      <th>12</th>\n",
       "      <td>-1.290822</td>\n",
       "      <td>-0.129502</td>\n",
       "      <td>-1.154784</td>\n",
       "    </tr>\n",
       "    <tr>\n",
       "      <th>13</th>\n",
       "      <td>0.562742</td>\n",
       "      <td>0.073003</td>\n",
       "      <td>-1.154784</td>\n",
       "    </tr>\n",
       "    <tr>\n",
       "      <th>19</th>\n",
       "      <td>-1.142537</td>\n",
       "      <td>0.478013</td>\n",
       "      <td>-0.580765</td>\n",
       "    </tr>\n",
       "    <tr>\n",
       "      <th>22</th>\n",
       "      <td>-0.697682</td>\n",
       "      <td>-0.028249</td>\n",
       "      <td>-0.580765</td>\n",
       "    </tr>\n",
       "    <tr>\n",
       "      <th>23</th>\n",
       "      <td>-1.327894</td>\n",
       "      <td>0.680518</td>\n",
       "      <td>-0.580765</td>\n",
       "    </tr>\n",
       "    <tr>\n",
       "      <th>25</th>\n",
       "      <td>1.489525</td>\n",
       "      <td>0.478013</td>\n",
       "      <td>-0.006745</td>\n",
       "    </tr>\n",
       "    <tr>\n",
       "      <th>28</th>\n",
       "      <td>1.897309</td>\n",
       "      <td>1.844922</td>\n",
       "      <td>-0.006745</td>\n",
       "    </tr>\n",
       "    <tr>\n",
       "      <th>30</th>\n",
       "      <td>1.267097</td>\n",
       "      <td>0.680518</td>\n",
       "      <td>-0.006745</td>\n",
       "    </tr>\n",
       "    <tr>\n",
       "      <th>38</th>\n",
       "      <td>-0.49379</td>\n",
       "      <td>1.59179</td>\n",
       "      <td>-0.509012</td>\n",
       "    </tr>\n",
       "    <tr>\n",
       "      <th>41</th>\n",
       "      <td>-1.531786</td>\n",
       "      <td>0.427387</td>\n",
       "      <td>0.065008</td>\n",
       "    </tr>\n",
       "    <tr>\n",
       "      <th>45</th>\n",
       "      <td>1.489525</td>\n",
       "      <td>1.794295</td>\n",
       "      <td>0.639028</td>\n",
       "    </tr>\n",
       "    <tr>\n",
       "      <th>49</th>\n",
       "      <td>-0.567932</td>\n",
       "      <td>-0.281381</td>\n",
       "      <td>-1.011279</td>\n",
       "    </tr>\n",
       "    <tr>\n",
       "      <th>50</th>\n",
       "      <td>-0.271362</td>\n",
       "      <td>-0.230754</td>\n",
       "      <td>-1.011279</td>\n",
       "    </tr>\n",
       "    <tr>\n",
       "      <th>62</th>\n",
       "      <td>-1.402036</td>\n",
       "      <td>-0.078876</td>\n",
       "      <td>-0.43726</td>\n",
       "    </tr>\n",
       "    <tr>\n",
       "      <th>65</th>\n",
       "      <td>-0.586468</td>\n",
       "      <td>0.629892</td>\n",
       "      <td>-0.43726</td>\n",
       "    </tr>\n",
       "    <tr>\n",
       "      <th>66</th>\n",
       "      <td>0.989062</td>\n",
       "      <td>1.389285</td>\n",
       "      <td>0.13676</td>\n",
       "    </tr>\n",
       "    <tr>\n",
       "      <th>83</th>\n",
       "      <td>2.601663</td>\n",
       "      <td>0.326134</td>\n",
       "      <td>-1.441794</td>\n",
       "    </tr>\n",
       "    <tr>\n",
       "      <th>87</th>\n",
       "      <td>1.526596</td>\n",
       "      <td>0.832397</td>\n",
       "      <td>-0.293755</td>\n",
       "    </tr>\n",
       "    <tr>\n",
       "      <th>92</th>\n",
       "      <td>1.767559</td>\n",
       "      <td>1.389285</td>\n",
       "      <td>0.280265</td>\n",
       "    </tr>\n",
       "    <tr>\n",
       "      <th>98</th>\n",
       "      <td>-0.530861</td>\n",
       "      <td>0.174256</td>\n",
       "      <td>-0.796022</td>\n",
       "    </tr>\n",
       "    <tr>\n",
       "      <th>104</th>\n",
       "      <td>0.35885</td>\n",
       "      <td>-0.028249</td>\n",
       "      <td>-0.796022</td>\n",
       "    </tr>\n",
       "    <tr>\n",
       "      <th>114</th>\n",
       "      <td>0.229101</td>\n",
       "      <td>-0.281381</td>\n",
       "      <td>-0.72427</td>\n",
       "    </tr>\n",
       "    <tr>\n",
       "      <th>115</th>\n",
       "      <td>0.840777</td>\n",
       "      <td>0.174256</td>\n",
       "      <td>-0.72427</td>\n",
       "    </tr>\n",
       "    <tr>\n",
       "      <th>118</th>\n",
       "      <td>-1.550322</td>\n",
       "      <td>0.174256</td>\n",
       "      <td>-0.72427</td>\n",
       "    </tr>\n",
       "  </tbody>\n",
       "</table>\n",
       "<p>25 rows × 3 columns</p>\n",
       "</div>[67 rows x 3 columns in total]"
      ],
      "text/plain": [
       "            scaled_culmen_length_mm  scaled_culmen_depth_mm  \\\n",
       "penguin_id                                                    \n",
       "9                         -0.697682                1.490538   \n",
       "12                        -1.290822               -0.129502   \n",
       "13                         0.562742                0.073003   \n",
       "19                        -1.142537                0.478013   \n",
       "22                        -0.697682               -0.028249   \n",
       "23                        -1.327894                0.680518   \n",
       "25                         1.489525                0.478013   \n",
       "28                         1.897309                1.844922   \n",
       "30                         1.267097                0.680518   \n",
       "38                         -0.49379                 1.59179   \n",
       "41                        -1.531786                0.427387   \n",
       "45                         1.489525                1.794295   \n",
       "49                        -0.567932               -0.281381   \n",
       "50                        -0.271362               -0.230754   \n",
       "62                        -1.402036               -0.078876   \n",
       "65                        -0.586468                0.629892   \n",
       "66                         0.989062                1.389285   \n",
       "83                         2.601663                0.326134   \n",
       "87                         1.526596                0.832397   \n",
       "92                         1.767559                1.389285   \n",
       "98                        -0.530861                0.174256   \n",
       "104                         0.35885               -0.028249   \n",
       "114                        0.229101               -0.281381   \n",
       "115                        0.840777                0.174256   \n",
       "118                       -1.550322                0.174256   \n",
       "\n",
       "            scaled_flipper_length_mm  \n",
       "penguin_id                            \n",
       "9                          -0.078497  \n",
       "12                         -1.154784  \n",
       "13                         -1.154784  \n",
       "19                         -0.580765  \n",
       "22                         -0.580765  \n",
       "23                         -0.580765  \n",
       "25                         -0.006745  \n",
       "28                         -0.006745  \n",
       "30                         -0.006745  \n",
       "38                         -0.509012  \n",
       "41                          0.065008  \n",
       "45                          0.639028  \n",
       "49                         -1.011279  \n",
       "50                         -1.011279  \n",
       "62                          -0.43726  \n",
       "65                          -0.43726  \n",
       "66                           0.13676  \n",
       "83                         -1.441794  \n",
       "87                         -0.293755  \n",
       "92                          0.280265  \n",
       "98                         -0.796022  \n",
       "104                        -0.796022  \n",
       "114                         -0.72427  \n",
       "115                         -0.72427  \n",
       "118                         -0.72427  \n",
       "...\n",
       "\n",
       "[67 rows x 3 columns]"
      ]
     },
     "execution_count": 6,
     "metadata": {},
     "output_type": "execute_result"
    }
   ],
   "source": [
    "# We can then repeat this transformation on new data\n",
    "scaler.transform(test_X[numeric_columns])"
   ]
  },
  {
   "attachments": {},
   "cell_type": "markdown",
   "metadata": {},
   "source": [
    "#### Composing transformers\n",
    "\n",
    "To process data where different columns need different preprocessors, `bigframes.composition.ColumnTransformer` can be employed:"
   ]
  },
  {
   "cell_type": "code",
   "execution_count": 7,
   "metadata": {},
   "outputs": [
    {
     "data": {
      "application/vnd.jupyter.widget-view+json": {
       "model_id": "94efb3f362234593906e44c16b1842e4",
       "version_major": 2,
       "version_minor": 0
      },
      "text/plain": [
       "HTML(value='Query job 792a19f4-e3c2-4344-8555-7f5a781c3c7d is DONE. 32.0 kB processed. <a target=\"_blank\" href…"
      ]
     },
     "metadata": {},
     "output_type": "display_data"
    },
    {
     "data": {
      "application/vnd.jupyter.widget-view+json": {
       "model_id": "738285584e894e44be621ac0f4711c76",
       "version_major": 2,
       "version_minor": 0
      },
      "text/plain": [
       "HTML(value='Query job 61fea509-858e-44c6-974d-f3a80169f278 is DONE. 0 Bytes processed. <a target=\"_blank\" href…"
      ]
     },
     "metadata": {},
     "output_type": "display_data"
    },
    {
     "data": {
      "application/vnd.jupyter.widget-view+json": {
       "model_id": "0df566867e674d3fa0abbb1a09f9fa11",
       "version_major": 2,
       "version_minor": 0
      },
      "text/plain": [
       "HTML(value='Query job 3d7305d8-d0ef-4e7b-823a-0ec31614272d is DONE. 32.0 kB processed. <a target=\"_blank\" href…"
      ]
     },
     "metadata": {},
     "output_type": "display_data"
    },
    {
     "data": {
      "application/vnd.jupyter.widget-view+json": {
       "model_id": "1f44008b3a164ee883baaa73e77ed384",
       "version_major": 2,
       "version_minor": 0
      },
      "text/plain": [
       "HTML(value='Query job b5ceae33-e4ef-4a97-a84c-84419f55dfa7 is DONE. 0 Bytes processed. <a target=\"_blank\" href…"
      ]
     },
     "metadata": {},
     "output_type": "display_data"
    },
    {
     "data": {
      "application/vnd.jupyter.widget-view+json": {
       "model_id": "5f47228507724cc7ae24419691d4f40d",
       "version_major": 2,
       "version_minor": 0
      },
      "text/plain": [
       "HTML(value='Query job a6ca42d3-db26-4201-a581-e7f4bba50df1 is DONE. 0 Bytes processed. <a target=\"_blank\" href…"
      ]
     },
     "metadata": {},
     "output_type": "display_data"
    },
    {
     "data": {
      "application/vnd.jupyter.widget-view+json": {
       "model_id": "f1bbdd4257b5437394ca0264f5b5f78d",
       "version_major": 2,
       "version_minor": 0
      },
      "text/plain": [
       "HTML(value='Query job 08b3de93-ff67-48fc-b4c8-a8a69650ad44 is DONE. 0 Bytes processed. <a target=\"_blank\" href…"
      ]
     },
     "metadata": {},
     "output_type": "display_data"
    },
    {
     "data": {
      "application/vnd.jupyter.widget-view+json": {
       "model_id": "9980baec711549db8ffb1f7f06ac0c69",
       "version_major": 2,
       "version_minor": 0
      },
      "text/plain": [
       "HTML(value='Query job 29fe217e-d3a5-4f56-ba25-2f98d3162f80 is DONE. 0 Bytes processed. <a target=\"_blank\" href…"
      ]
     },
     "metadata": {},
     "output_type": "display_data"
    },
    {
     "data": {
      "text/html": [
       "<div>\n",
       "<style scoped>\n",
       "    .dataframe tbody tr th:only-of-type {\n",
       "        vertical-align: middle;\n",
       "    }\n",
       "\n",
       "    .dataframe tbody tr th {\n",
       "        vertical-align: top;\n",
       "    }\n",
       "\n",
       "    .dataframe thead th {\n",
       "        text-align: right;\n",
       "    }\n",
       "</style>\n",
       "<table border=\"1\" class=\"dataframe\">\n",
       "  <thead>\n",
       "    <tr style=\"text-align: right;\">\n",
       "      <th></th>\n",
       "      <th>onehotencoded_island</th>\n",
       "      <th>scaled_culmen_length_mm</th>\n",
       "      <th>scaled_culmen_depth_mm</th>\n",
       "      <th>scaled_flipper_length_mm</th>\n",
       "      <th>onehotencoded_sex</th>\n",
       "      <th>onehotencoded_species</th>\n",
       "    </tr>\n",
       "    <tr>\n",
       "      <th>penguin_id</th>\n",
       "      <th></th>\n",
       "      <th></th>\n",
       "      <th></th>\n",
       "      <th></th>\n",
       "      <th></th>\n",
       "      <th></th>\n",
       "    </tr>\n",
       "  </thead>\n",
       "  <tbody>\n",
       "    <tr>\n",
       "      <th>0</th>\n",
       "      <td>[{'index': 2, 'value': 1.0}]</td>\n",
       "      <td>-1.364965</td>\n",
       "      <td>0.629892</td>\n",
       "      <td>-1.226537</td>\n",
       "      <td>[{'index': 2, 'value': 1.0}]</td>\n",
       "      <td>[{'index': 1, 'value': 1.0}]</td>\n",
       "    </tr>\n",
       "    <tr>\n",
       "      <th>1</th>\n",
       "      <td>[{'index': 2, 'value': 1.0}]</td>\n",
       "      <td>-0.771824</td>\n",
       "      <td>0.984275</td>\n",
       "      <td>-1.226537</td>\n",
       "      <td>[{'index': 3, 'value': 1.0}]</td>\n",
       "      <td>[{'index': 1, 'value': 1.0}]</td>\n",
       "    </tr>\n",
       "    <tr>\n",
       "      <th>2</th>\n",
       "      <td>[{'index': 2, 'value': 1.0}]</td>\n",
       "      <td>-0.567932</td>\n",
       "      <td>0.883023</td>\n",
       "      <td>-1.226537</td>\n",
       "      <td>[{'index': 3, 'value': 1.0}]</td>\n",
       "      <td>[{'index': 1, 'value': 1.0}]</td>\n",
       "    </tr>\n",
       "    <tr>\n",
       "      <th>3</th>\n",
       "      <td>[{'index': 2, 'value': 1.0}]</td>\n",
       "      <td>0.470064</td>\n",
       "      <td>0.376761</td>\n",
       "      <td>-0.652517</td>\n",
       "      <td>[{'index': 2, 'value': 1.0}]</td>\n",
       "      <td>[{'index': 2, 'value': 1.0}]</td>\n",
       "    </tr>\n",
       "    <tr>\n",
       "      <th>4</th>\n",
       "      <td>[{'index': 2, 'value': 1.0}]</td>\n",
       "      <td>-1.235216</td>\n",
       "      <td>-0.180128</td>\n",
       "      <td>-0.652517</td>\n",
       "      <td>[{'index': 2, 'value': 1.0}]</td>\n",
       "      <td>[{'index': 1, 'value': 1.0}]</td>\n",
       "    </tr>\n",
       "    <tr>\n",
       "      <th>5</th>\n",
       "      <td>[{'index': 2, 'value': 1.0}]</td>\n",
       "      <td>-0.141612</td>\n",
       "      <td>0.680518</td>\n",
       "      <td>-0.652517</td>\n",
       "      <td>[{'index': 3, 'value': 1.0}]</td>\n",
       "      <td>[{'index': 1, 'value': 1.0}]</td>\n",
       "    </tr>\n",
       "    <tr>\n",
       "      <th>6</th>\n",
       "      <td>[{'index': 2, 'value': 1.0}]</td>\n",
       "      <td>0.544207</td>\n",
       "      <td>-0.281381</td>\n",
       "      <td>-0.652517</td>\n",
       "      <td>[{'index': 2, 'value': 1.0}]</td>\n",
       "      <td>[{'index': 2, 'value': 1.0}]</td>\n",
       "    </tr>\n",
       "    <tr>\n",
       "      <th>7</th>\n",
       "      <td>[{'index': 2, 'value': 1.0}]</td>\n",
       "      <td>1.21149</td>\n",
       "      <td>0.629892</td>\n",
       "      <td>-0.078497</td>\n",
       "      <td>[{'index': 2, 'value': 1.0}]</td>\n",
       "      <td>[{'index': 2, 'value': 1.0}]</td>\n",
       "    </tr>\n",
       "    <tr>\n",
       "      <th>8</th>\n",
       "      <td>[{'index': 2, 'value': 1.0}]</td>\n",
       "      <td>1.026133</td>\n",
       "      <td>0.933649</td>\n",
       "      <td>-0.078497</td>\n",
       "      <td>[{'index': 3, 'value': 1.0}]</td>\n",
       "      <td>[{'index': 2, 'value': 1.0}]</td>\n",
       "    </tr>\n",
       "    <tr>\n",
       "      <th>10</th>\n",
       "      <td>[{'index': 2, 'value': 1.0}]</td>\n",
       "      <td>-0.586468</td>\n",
       "      <td>0.883023</td>\n",
       "      <td>0.495523</td>\n",
       "      <td>[{'index': 3, 'value': 1.0}]</td>\n",
       "      <td>[{'index': 1, 'value': 1.0}]</td>\n",
       "    </tr>\n",
       "    <tr>\n",
       "      <th>11</th>\n",
       "      <td>[{'index': 2, 'value': 1.0}]</td>\n",
       "      <td>-0.92011</td>\n",
       "      <td>0.781771</td>\n",
       "      <td>-1.154784</td>\n",
       "      <td>[{'index': 3, 'value': 1.0}]</td>\n",
       "      <td>[{'index': 1, 'value': 1.0}]</td>\n",
       "    </tr>\n",
       "    <tr>\n",
       "      <th>14</th>\n",
       "      <td>[{'index': 2, 'value': 1.0}]</td>\n",
       "      <td>-1.846892</td>\n",
       "      <td>-0.028249</td>\n",
       "      <td>-1.154784</td>\n",
       "      <td>[{'index': 2, 'value': 1.0}]</td>\n",
       "      <td>[{'index': 1, 'value': 1.0}]</td>\n",
       "    </tr>\n",
       "    <tr>\n",
       "      <th>15</th>\n",
       "      <td>[{'index': 2, 'value': 1.0}]</td>\n",
       "      <td>-1.290822</td>\n",
       "      <td>-0.332007</td>\n",
       "      <td>-1.154784</td>\n",
       "      <td>[{'index': 2, 'value': 1.0}]</td>\n",
       "      <td>[{'index': 1, 'value': 1.0}]</td>\n",
       "    </tr>\n",
       "    <tr>\n",
       "      <th>16</th>\n",
       "      <td>[{'index': 2, 'value': 1.0}]</td>\n",
       "      <td>0.321779</td>\n",
       "      <td>0.073003</td>\n",
       "      <td>-0.580765</td>\n",
       "      <td>[{'index': 2, 'value': 1.0}]</td>\n",
       "      <td>[{'index': 2, 'value': 1.0}]</td>\n",
       "    </tr>\n",
       "    <tr>\n",
       "      <th>17</th>\n",
       "      <td>[{'index': 2, 'value': 1.0}]</td>\n",
       "      <td>1.230026</td>\n",
       "      <td>1.136154</td>\n",
       "      <td>-0.580765</td>\n",
       "      <td>[{'index': 3, 'value': 1.0}]</td>\n",
       "      <td>[{'index': 2, 'value': 1.0}]</td>\n",
       "    </tr>\n",
       "    <tr>\n",
       "      <th>18</th>\n",
       "      <td>[{'index': 2, 'value': 1.0}]</td>\n",
       "      <td>-0.79036</td>\n",
       "      <td>0.376761</td>\n",
       "      <td>-0.580765</td>\n",
       "      <td>[{'index': 3, 'value': 1.0}]</td>\n",
       "      <td>[{'index': 1, 'value': 1.0}]</td>\n",
       "    </tr>\n",
       "    <tr>\n",
       "      <th>20</th>\n",
       "      <td>[{'index': 2, 'value': 1.0}]</td>\n",
       "      <td>0.4886</td>\n",
       "      <td>0.326134</td>\n",
       "      <td>-0.580765</td>\n",
       "      <td>[{'index': 2, 'value': 1.0}]</td>\n",
       "      <td>[{'index': 2, 'value': 1.0}]</td>\n",
       "    </tr>\n",
       "    <tr>\n",
       "      <th>21</th>\n",
       "      <td>[{'index': 2, 'value': 1.0}]</td>\n",
       "      <td>1.359775</td>\n",
       "      <td>1.034902</td>\n",
       "      <td>-0.580765</td>\n",
       "      <td>[{'index': 3, 'value': 1.0}]</td>\n",
       "      <td>[{'index': 2, 'value': 1.0}]</td>\n",
       "    </tr>\n",
       "    <tr>\n",
       "      <th>24</th>\n",
       "      <td>[{'index': 2, 'value': 1.0}]</td>\n",
       "      <td>1.044669</td>\n",
       "      <td>0.528639</td>\n",
       "      <td>-0.580765</td>\n",
       "      <td>[{'index': 3, 'value': 1.0}]</td>\n",
       "      <td>[{'index': 2, 'value': 1.0}]</td>\n",
       "    </tr>\n",
       "    <tr>\n",
       "      <th>26</th>\n",
       "      <td>[{'index': 2, 'value': 1.0}]</td>\n",
       "      <td>-0.456718</td>\n",
       "      <td>0.680518</td>\n",
       "      <td>-0.006745</td>\n",
       "      <td>[{'index': 3, 'value': 1.0}]</td>\n",
       "      <td>[{'index': 1, 'value': 1.0}]</td>\n",
       "    </tr>\n",
       "    <tr>\n",
       "      <th>27</th>\n",
       "      <td>[{'index': 2, 'value': 1.0}]</td>\n",
       "      <td>1.21149</td>\n",
       "      <td>1.237407</td>\n",
       "      <td>-0.006745</td>\n",
       "      <td>[{'index': 3, 'value': 1.0}]</td>\n",
       "      <td>[{'index': 2, 'value': 1.0}]</td>\n",
       "    </tr>\n",
       "    <tr>\n",
       "      <th>29</th>\n",
       "      <td>[{'index': 2, 'value': 1.0}]</td>\n",
       "      <td>1.378311</td>\n",
       "      <td>0.933649</td>\n",
       "      <td>-0.006745</td>\n",
       "      <td>[{'index': 3, 'value': 1.0}]</td>\n",
       "      <td>[{'index': 2, 'value': 1.0}]</td>\n",
       "    </tr>\n",
       "    <tr>\n",
       "      <th>31</th>\n",
       "      <td>[{'index': 2, 'value': 1.0}]</td>\n",
       "      <td>-2.013713</td>\n",
       "      <td>-0.534512</td>\n",
       "      <td>-1.657052</td>\n",
       "      <td>[{'index': 2, 'value': 1.0}]</td>\n",
       "      <td>[{'index': 1, 'value': 1.0}]</td>\n",
       "    </tr>\n",
       "    <tr>\n",
       "      <th>32</th>\n",
       "      <td>[{'index': 2, 'value': 1.0}]</td>\n",
       "      <td>-1.253751</td>\n",
       "      <td>0.478013</td>\n",
       "      <td>-1.657052</td>\n",
       "      <td>[{'index': 3, 'value': 1.0}]</td>\n",
       "      <td>[{'index': 1, 'value': 1.0}]</td>\n",
       "    </tr>\n",
       "    <tr>\n",
       "      <th>33</th>\n",
       "      <td>[{'index': 2, 'value': 1.0}]</td>\n",
       "      <td>-0.827431</td>\n",
       "      <td>-0.230754</td>\n",
       "      <td>-1.657052</td>\n",
       "      <td>[{'index': 2, 'value': 1.0}]</td>\n",
       "      <td>[{'index': 1, 'value': 1.0}]</td>\n",
       "    </tr>\n",
       "  </tbody>\n",
       "</table>\n",
       "<p>25 rows × 6 columns</p>\n",
       "</div>[267 rows x 6 columns in total]"
      ],
      "text/plain": [
       "                    onehotencoded_island  scaled_culmen_length_mm  \\\n",
       "penguin_id                                                          \n",
       "0           [{'index': 2, 'value': 1.0}]                -1.364965   \n",
       "1           [{'index': 2, 'value': 1.0}]                -0.771824   \n",
       "2           [{'index': 2, 'value': 1.0}]                -0.567932   \n",
       "3           [{'index': 2, 'value': 1.0}]                 0.470064   \n",
       "4           [{'index': 2, 'value': 1.0}]                -1.235216   \n",
       "5           [{'index': 2, 'value': 1.0}]                -0.141612   \n",
       "6           [{'index': 2, 'value': 1.0}]                 0.544207   \n",
       "7           [{'index': 2, 'value': 1.0}]                  1.21149   \n",
       "8           [{'index': 2, 'value': 1.0}]                 1.026133   \n",
       "10          [{'index': 2, 'value': 1.0}]                -0.586468   \n",
       "11          [{'index': 2, 'value': 1.0}]                 -0.92011   \n",
       "14          [{'index': 2, 'value': 1.0}]                -1.846892   \n",
       "15          [{'index': 2, 'value': 1.0}]                -1.290822   \n",
       "16          [{'index': 2, 'value': 1.0}]                 0.321779   \n",
       "17          [{'index': 2, 'value': 1.0}]                 1.230026   \n",
       "18          [{'index': 2, 'value': 1.0}]                 -0.79036   \n",
       "20          [{'index': 2, 'value': 1.0}]                   0.4886   \n",
       "21          [{'index': 2, 'value': 1.0}]                 1.359775   \n",
       "24          [{'index': 2, 'value': 1.0}]                 1.044669   \n",
       "26          [{'index': 2, 'value': 1.0}]                -0.456718   \n",
       "27          [{'index': 2, 'value': 1.0}]                  1.21149   \n",
       "29          [{'index': 2, 'value': 1.0}]                 1.378311   \n",
       "31          [{'index': 2, 'value': 1.0}]                -2.013713   \n",
       "32          [{'index': 2, 'value': 1.0}]                -1.253751   \n",
       "33          [{'index': 2, 'value': 1.0}]                -0.827431   \n",
       "\n",
       "            scaled_culmen_depth_mm  scaled_flipper_length_mm  \\\n",
       "penguin_id                                                     \n",
       "0                         0.629892                 -1.226537   \n",
       "1                         0.984275                 -1.226537   \n",
       "2                         0.883023                 -1.226537   \n",
       "3                         0.376761                 -0.652517   \n",
       "4                        -0.180128                 -0.652517   \n",
       "5                         0.680518                 -0.652517   \n",
       "6                        -0.281381                 -0.652517   \n",
       "7                         0.629892                 -0.078497   \n",
       "8                         0.933649                 -0.078497   \n",
       "10                        0.883023                  0.495523   \n",
       "11                        0.781771                 -1.154784   \n",
       "14                       -0.028249                 -1.154784   \n",
       "15                       -0.332007                 -1.154784   \n",
       "16                        0.073003                 -0.580765   \n",
       "17                        1.136154                 -0.580765   \n",
       "18                        0.376761                 -0.580765   \n",
       "20                        0.326134                 -0.580765   \n",
       "21                        1.034902                 -0.580765   \n",
       "24                        0.528639                 -0.580765   \n",
       "26                        0.680518                 -0.006745   \n",
       "27                        1.237407                 -0.006745   \n",
       "29                        0.933649                 -0.006745   \n",
       "31                       -0.534512                 -1.657052   \n",
       "32                        0.478013                 -1.657052   \n",
       "33                       -0.230754                 -1.657052   \n",
       "\n",
       "                       onehotencoded_sex         onehotencoded_species  \n",
       "penguin_id                                                              \n",
       "0           [{'index': 2, 'value': 1.0}]  [{'index': 1, 'value': 1.0}]  \n",
       "1           [{'index': 3, 'value': 1.0}]  [{'index': 1, 'value': 1.0}]  \n",
       "2           [{'index': 3, 'value': 1.0}]  [{'index': 1, 'value': 1.0}]  \n",
       "3           [{'index': 2, 'value': 1.0}]  [{'index': 2, 'value': 1.0}]  \n",
       "4           [{'index': 2, 'value': 1.0}]  [{'index': 1, 'value': 1.0}]  \n",
       "5           [{'index': 3, 'value': 1.0}]  [{'index': 1, 'value': 1.0}]  \n",
       "6           [{'index': 2, 'value': 1.0}]  [{'index': 2, 'value': 1.0}]  \n",
       "7           [{'index': 2, 'value': 1.0}]  [{'index': 2, 'value': 1.0}]  \n",
       "8           [{'index': 3, 'value': 1.0}]  [{'index': 2, 'value': 1.0}]  \n",
       "10          [{'index': 3, 'value': 1.0}]  [{'index': 1, 'value': 1.0}]  \n",
       "11          [{'index': 3, 'value': 1.0}]  [{'index': 1, 'value': 1.0}]  \n",
       "14          [{'index': 2, 'value': 1.0}]  [{'index': 1, 'value': 1.0}]  \n",
       "15          [{'index': 2, 'value': 1.0}]  [{'index': 1, 'value': 1.0}]  \n",
       "16          [{'index': 2, 'value': 1.0}]  [{'index': 2, 'value': 1.0}]  \n",
       "17          [{'index': 3, 'value': 1.0}]  [{'index': 2, 'value': 1.0}]  \n",
       "18          [{'index': 3, 'value': 1.0}]  [{'index': 1, 'value': 1.0}]  \n",
       "20          [{'index': 2, 'value': 1.0}]  [{'index': 2, 'value': 1.0}]  \n",
       "21          [{'index': 3, 'value': 1.0}]  [{'index': 2, 'value': 1.0}]  \n",
       "24          [{'index': 3, 'value': 1.0}]  [{'index': 2, 'value': 1.0}]  \n",
       "26          [{'index': 3, 'value': 1.0}]  [{'index': 1, 'value': 1.0}]  \n",
       "27          [{'index': 3, 'value': 1.0}]  [{'index': 2, 'value': 1.0}]  \n",
       "29          [{'index': 3, 'value': 1.0}]  [{'index': 2, 'value': 1.0}]  \n",
       "31          [{'index': 2, 'value': 1.0}]  [{'index': 1, 'value': 1.0}]  \n",
       "32          [{'index': 3, 'value': 1.0}]  [{'index': 1, 'value': 1.0}]  \n",
       "33          [{'index': 2, 'value': 1.0}]  [{'index': 1, 'value': 1.0}]  \n",
       "...\n",
       "\n",
       "[267 rows x 6 columns]"
      ]
     },
     "execution_count": 7,
     "metadata": {},
     "output_type": "execute_result"
    }
   ],
   "source": [
    "from bigframes.ml.compose import ColumnTransformer\n",
    "from bigframes.ml.preprocessing import OneHotEncoder\n",
    "\n",
    "# Create an aggregate transform that applies StandardScaler to the numeric columns,\n",
    "# and OneHotEncoder to the string columns\n",
    "preproc = ColumnTransformer([\n",
    "    (\"scale\", StandardScaler(), [\"culmen_length_mm\", \"culmen_depth_mm\", \"flipper_length_mm\"]),\n",
    "    (\"encode\", OneHotEncoder(), [\"species\", \"sex\", \"island\"])])\n",
    "\n",
    "# Now we can fit all columns of the training data\n",
    "preproc.fit(train_X)\n",
    "\n",
    "processed_train_X = preproc.transform(train_X)\n",
    "processed_test_X = preproc.transform(test_X)\n",
    "\n",
    "processed_train_X"
   ]
  },
  {
   "attachments": {},
   "cell_type": "markdown",
   "metadata": {},
   "source": [
    "### Predictors\n",
    "\n",
    "Predictors are estimators that learn and make predictions. In addition to `.fit(...)`, the predictor implements a `.predict(...)` method, which will use what was learned during `.fit(...)` to predict some output.\n",
    "\n",
    "Predictors can be further broken down into two categories:\n",
    "\n",
    "#### Supervised predictors\n",
    "\n",
    "Supervised learning is when we train a model on input-output pairs, and then ask it to predict the output for new inputs. An example of such a predictor is `bigframes.ml.linear_models.LinearRegression`."
   ]
  },
  {
   "cell_type": "code",
   "execution_count": 8,
   "metadata": {},
   "outputs": [
    {
     "data": {
      "application/vnd.jupyter.widget-view+json": {
       "model_id": "b7c22c0858914b46951adde174b43e25",
       "version_major": 2,
       "version_minor": 0
      },
      "text/plain": [
       "HTML(value='Query job b8c690b1-fa1b-4c4c-b802-c8ab37c930c9 is DONE. 359 Bytes processed. <a target=\"_blank\" hr…"
      ]
     },
     "metadata": {},
     "output_type": "display_data"
    },
    {
     "data": {
      "application/vnd.jupyter.widget-view+json": {
       "model_id": "95801bb50d0944948b9d1289cf6d9bdc",
       "version_major": 2,
       "version_minor": 0
      },
      "text/plain": [
       "HTML(value='Query job 22839d53-eb3c-4ade-8b10-9784a1926af2 is DONE. 0 Bytes processed. <a target=\"_blank\" href…"
      ]
     },
     "metadata": {},
     "output_type": "display_data"
    },
    {
     "data": {
      "application/vnd.jupyter.widget-view+json": {
       "model_id": "def533b1c23a40139eca23e6084ef057",
       "version_major": 2,
       "version_minor": 0
      },
      "text/plain": [
       "HTML(value='Query job 3d396971-8255-4614-b11d-478cb0608916 is DONE. 0 Bytes processed. <a target=\"_blank\" href…"
      ]
     },
     "metadata": {},
     "output_type": "display_data"
    },
    {
     "data": {
      "application/vnd.jupyter.widget-view+json": {
       "model_id": "2617880b861842fdb103dd5ffd4a1157",
       "version_major": 2,
       "version_minor": 0
      },
      "text/plain": [
       "HTML(value='Query job f01e17cd-7001-4e30-bd6f-c2ae5ca1d350 is DONE. 0 Bytes processed. <a target=\"_blank\" href…"
      ]
     },
     "metadata": {},
     "output_type": "display_data"
    },
    {
     "data": {
      "application/vnd.jupyter.widget-view+json": {
       "model_id": "efd2a71d7df04265a40d32d142033555",
       "version_major": 2,
       "version_minor": 0
      },
      "text/plain": [
       "HTML(value='Query job feac2ca6-25fd-4535-95c8-6363961308da is DONE. 0 Bytes processed. <a target=\"_blank\" href…"
      ]
     },
     "metadata": {},
     "output_type": "display_data"
    },
    {
     "data": {
      "text/html": [
       "<div>\n",
       "<style scoped>\n",
       "    .dataframe tbody tr th:only-of-type {\n",
       "        vertical-align: middle;\n",
       "    }\n",
       "\n",
       "    .dataframe tbody tr th {\n",
       "        vertical-align: top;\n",
       "    }\n",
       "\n",
       "    .dataframe thead th {\n",
       "        text-align: right;\n",
       "    }\n",
       "</style>\n",
       "<table border=\"1\" class=\"dataframe\">\n",
       "  <thead>\n",
       "    <tr style=\"text-align: right;\">\n",
       "      <th></th>\n",
       "      <th>predicted_body_mass_g</th>\n",
       "    </tr>\n",
       "    <tr>\n",
       "      <th>penguin_id</th>\n",
       "      <th></th>\n",
       "    </tr>\n",
       "  </thead>\n",
       "  <tbody>\n",
       "    <tr>\n",
       "      <th>9</th>\n",
       "      <td>4295.335461</td>\n",
       "    </tr>\n",
       "    <tr>\n",
       "      <th>12</th>\n",
       "      <td>3338.44131</td>\n",
       "    </tr>\n",
       "    <tr>\n",
       "      <th>13</th>\n",
       "      <td>3201.820204</td>\n",
       "    </tr>\n",
       "    <tr>\n",
       "      <th>19</th>\n",
       "      <td>3982.814079</td>\n",
       "    </tr>\n",
       "    <tr>\n",
       "      <th>22</th>\n",
       "      <td>3538.610664</td>\n",
       "    </tr>\n",
       "    <tr>\n",
       "      <th>23</th>\n",
       "      <td>3613.50305</td>\n",
       "    </tr>\n",
       "    <tr>\n",
       "      <th>25</th>\n",
       "      <td>4009.759444</td>\n",
       "    </tr>\n",
       "    <tr>\n",
       "      <th>28</th>\n",
       "      <td>4240.515635</td>\n",
       "    </tr>\n",
       "    <tr>\n",
       "      <th>30</th>\n",
       "      <td>4028.904195</td>\n",
       "    </tr>\n",
       "    <tr>\n",
       "      <th>38</th>\n",
       "      <td>4206.810346</td>\n",
       "    </tr>\n",
       "    <tr>\n",
       "      <th>41</th>\n",
       "      <td>3736.225488</td>\n",
       "    </tr>\n",
       "    <tr>\n",
       "      <th>45</th>\n",
       "      <td>4383.368544</td>\n",
       "    </tr>\n",
       "    <tr>\n",
       "      <th>49</th>\n",
       "      <td>3125.772789</td>\n",
       "    </tr>\n",
       "    <tr>\n",
       "      <th>50</th>\n",
       "      <td>3149.28765</td>\n",
       "    </tr>\n",
       "    <tr>\n",
       "      <th>62</th>\n",
       "      <td>3531.69488</td>\n",
       "    </tr>\n",
       "    <tr>\n",
       "      <th>65</th>\n",
       "      <td>4073.900616</td>\n",
       "    </tr>\n",
       "    <tr>\n",
       "      <th>66</th>\n",
       "      <td>4160.810162</td>\n",
       "    </tr>\n",
       "    <tr>\n",
       "      <th>83</th>\n",
       "      <td>3272.396279</td>\n",
       "    </tr>\n",
       "    <tr>\n",
       "      <th>87</th>\n",
       "      <td>3989.364493</td>\n",
       "    </tr>\n",
       "    <tr>\n",
       "      <th>92</th>\n",
       "      <td>4240.495294</td>\n",
       "    </tr>\n",
       "    <tr>\n",
       "      <th>98</th>\n",
       "      <td>3911.455384</td>\n",
       "    </tr>\n",
       "    <tr>\n",
       "      <th>104</th>\n",
       "      <td>3271.202866</td>\n",
       "    </tr>\n",
       "    <tr>\n",
       "      <th>114</th>\n",
       "      <td>3244.728549</td>\n",
       "    </tr>\n",
       "    <tr>\n",
       "      <th>115</th>\n",
       "      <td>3737.374636</td>\n",
       "    </tr>\n",
       "    <tr>\n",
       "      <th>118</th>\n",
       "      <td>3485.95604</td>\n",
       "    </tr>\n",
       "  </tbody>\n",
       "</table>\n",
       "<p>25 rows × 1 columns</p>\n",
       "</div>[67 rows x 1 columns in total]"
      ],
      "text/plain": [
       "            predicted_body_mass_g\n",
       "penguin_id                       \n",
       "9                     4295.335461\n",
       "12                     3338.44131\n",
       "13                    3201.820204\n",
       "19                    3982.814079\n",
       "22                    3538.610664\n",
       "23                     3613.50305\n",
       "25                    4009.759444\n",
       "28                    4240.515635\n",
       "30                    4028.904195\n",
       "38                    4206.810346\n",
       "41                    3736.225488\n",
       "45                    4383.368544\n",
       "49                    3125.772789\n",
       "50                     3149.28765\n",
       "62                     3531.69488\n",
       "65                    4073.900616\n",
       "66                    4160.810162\n",
       "83                    3272.396279\n",
       "87                    3989.364493\n",
       "92                    4240.495294\n",
       "98                    3911.455384\n",
       "104                   3271.202866\n",
       "114                   3244.728549\n",
       "115                   3737.374636\n",
       "118                    3485.95604\n",
       "...\n",
       "\n",
       "[67 rows x 1 columns]"
      ]
     },
     "execution_count": 8,
     "metadata": {},
     "output_type": "execute_result"
    }
   ],
   "source": [
    "from bigframes.ml.linear_model import LinearRegression\n",
    "\n",
    "linreg = LinearRegression()\n",
    "\n",
    "# Learn from the training data how to predict output y\n",
    "linreg.fit(processed_train_X, train_y)\n",
    "\n",
    "# Predict y for the test data\n",
    "predicted_test_y = linreg.predict(processed_test_X)\n",
    "\n",
    "predicted_test_y"
   ]
  },
  {
   "attachments": {},
   "cell_type": "markdown",
   "metadata": {},
   "source": [
    "#### Unsupervised predictors\n",
    "\n",
    "In unsupervised learning, there are no known outputs in the training data, instead the model learns on input data alone and predicts something else. An example of an unsupervised predictor is `bigframes.ml.cluster.KMeans`, which learns how to fit input data to a target number of clusters."
   ]
  },
  {
   "cell_type": "code",
   "execution_count": 9,
   "metadata": {},
   "outputs": [
    {
     "data": {
      "application/vnd.jupyter.widget-view+json": {
       "model_id": "fa6bd24b44cb42ec946e262ac2f25d09",
       "version_major": 2,
       "version_minor": 0
      },
      "text/plain": [
       "HTML(value='Query job 8e88f903-5b13-4305-b259-d17194be16da is DONE. 809 Bytes processed. <a target=\"_blank\" hr…"
      ]
     },
     "metadata": {},
     "output_type": "display_data"
    },
    {
     "data": {
      "application/vnd.jupyter.widget-view+json": {
       "model_id": "7ed3bec76d024ec1bbf5b4e08306587f",
       "version_major": 2,
       "version_minor": 0
      },
      "text/plain": [
       "HTML(value='Query job a47e5689-f8d0-45f7-84b8-a0f1668eec74 is DONE. 0 Bytes processed. <a target=\"_blank\" href…"
      ]
     },
     "metadata": {},
     "output_type": "display_data"
    },
    {
     "data": {
      "application/vnd.jupyter.widget-view+json": {
       "model_id": "3cbcbff5849d4b6086a83358a25504ae",
       "version_major": 2,
       "version_minor": 0
      },
      "text/plain": [
       "HTML(value='Query job 5a1b8a7e-146e-4760-9c5d-82717835d3ca is DONE. 0 Bytes processed. <a target=\"_blank\" href…"
      ]
     },
     "metadata": {},
     "output_type": "display_data"
    },
    {
     "data": {
      "application/vnd.jupyter.widget-view+json": {
       "model_id": "ce27fff7cffe48b398d52a7689faded5",
       "version_major": 2,
       "version_minor": 0
      },
      "text/plain": [
       "HTML(value='Query job 5f48318a-64ad-404f-8eea-864e0e26e3d2 is DONE. 0 Bytes processed. <a target=\"_blank\" href…"
      ]
     },
     "metadata": {},
     "output_type": "display_data"
    },
    {
     "data": {
      "application/vnd.jupyter.widget-view+json": {
       "model_id": "43c559d853b041df84844ab9c6717412",
       "version_major": 2,
       "version_minor": 0
      },
      "text/plain": [
       "HTML(value='Query job 345b19df-f431-4f41-938b-0306937c2882 is DONE. 0 Bytes processed. <a target=\"_blank\" href…"
      ]
     },
     "metadata": {},
     "output_type": "display_data"
    },
    {
     "data": {
      "text/html": [
       "<div>\n",
       "<style scoped>\n",
       "    .dataframe tbody tr th:only-of-type {\n",
       "        vertical-align: middle;\n",
       "    }\n",
       "\n",
       "    .dataframe tbody tr th {\n",
       "        vertical-align: top;\n",
       "    }\n",
       "\n",
       "    .dataframe thead th {\n",
       "        text-align: right;\n",
       "    }\n",
       "</style>\n",
       "<table border=\"1\" class=\"dataframe\">\n",
       "  <thead>\n",
       "    <tr style=\"text-align: right;\">\n",
       "      <th></th>\n",
       "      <th>CENTROID_ID</th>\n",
       "    </tr>\n",
       "    <tr>\n",
       "      <th>penguin_id</th>\n",
       "      <th></th>\n",
       "    </tr>\n",
       "  </thead>\n",
       "  <tbody>\n",
       "    <tr>\n",
       "      <th>9</th>\n",
       "      <td>4</td>\n",
       "    </tr>\n",
       "    <tr>\n",
       "      <th>12</th>\n",
       "      <td>4</td>\n",
       "    </tr>\n",
       "    <tr>\n",
       "      <th>13</th>\n",
       "      <td>2</td>\n",
       "    </tr>\n",
       "    <tr>\n",
       "      <th>19</th>\n",
       "      <td>4</td>\n",
       "    </tr>\n",
       "    <tr>\n",
       "      <th>22</th>\n",
       "      <td>4</td>\n",
       "    </tr>\n",
       "    <tr>\n",
       "      <th>23</th>\n",
       "      <td>4</td>\n",
       "    </tr>\n",
       "    <tr>\n",
       "      <th>25</th>\n",
       "      <td>2</td>\n",
       "    </tr>\n",
       "    <tr>\n",
       "      <th>28</th>\n",
       "      <td>2</td>\n",
       "    </tr>\n",
       "    <tr>\n",
       "      <th>30</th>\n",
       "      <td>2</td>\n",
       "    </tr>\n",
       "    <tr>\n",
       "      <th>38</th>\n",
       "      <td>4</td>\n",
       "    </tr>\n",
       "    <tr>\n",
       "      <th>41</th>\n",
       "      <td>4</td>\n",
       "    </tr>\n",
       "    <tr>\n",
       "      <th>45</th>\n",
       "      <td>2</td>\n",
       "    </tr>\n",
       "    <tr>\n",
       "      <th>49</th>\n",
       "      <td>4</td>\n",
       "    </tr>\n",
       "    <tr>\n",
       "      <th>50</th>\n",
       "      <td>2</td>\n",
       "    </tr>\n",
       "    <tr>\n",
       "      <th>62</th>\n",
       "      <td>4</td>\n",
       "    </tr>\n",
       "    <tr>\n",
       "      <th>65</th>\n",
       "      <td>4</td>\n",
       "    </tr>\n",
       "    <tr>\n",
       "      <th>66</th>\n",
       "      <td>2</td>\n",
       "    </tr>\n",
       "    <tr>\n",
       "      <th>83</th>\n",
       "      <td>2</td>\n",
       "    </tr>\n",
       "    <tr>\n",
       "      <th>87</th>\n",
       "      <td>2</td>\n",
       "    </tr>\n",
       "    <tr>\n",
       "      <th>92</th>\n",
       "      <td>2</td>\n",
       "    </tr>\n",
       "    <tr>\n",
       "      <th>98</th>\n",
       "      <td>4</td>\n",
       "    </tr>\n",
       "    <tr>\n",
       "      <th>104</th>\n",
       "      <td>2</td>\n",
       "    </tr>\n",
       "    <tr>\n",
       "      <th>114</th>\n",
       "      <td>2</td>\n",
       "    </tr>\n",
       "    <tr>\n",
       "      <th>115</th>\n",
       "      <td>2</td>\n",
       "    </tr>\n",
       "    <tr>\n",
       "      <th>118</th>\n",
       "      <td>4</td>\n",
       "    </tr>\n",
       "  </tbody>\n",
       "</table>\n",
       "<p>25 rows × 1 columns</p>\n",
       "</div>[67 rows x 1 columns in total]"
      ],
      "text/plain": [
       "            CENTROID_ID\n",
       "penguin_id             \n",
       "9                     4\n",
       "12                    4\n",
       "13                    2\n",
       "19                    4\n",
       "22                    4\n",
       "23                    4\n",
       "25                    2\n",
       "28                    2\n",
       "30                    2\n",
       "38                    4\n",
       "41                    4\n",
       "45                    2\n",
       "49                    4\n",
       "50                    2\n",
       "62                    4\n",
       "65                    4\n",
       "66                    2\n",
       "83                    2\n",
       "87                    2\n",
       "92                    2\n",
       "98                    4\n",
       "104                   2\n",
       "114                   2\n",
       "115                   2\n",
       "118                   4\n",
       "...\n",
       "\n",
       "[67 rows x 1 columns]"
      ]
     },
     "execution_count": 9,
     "metadata": {},
     "output_type": "execute_result"
    }
   ],
   "source": [
    "from bigframes.ml.cluster import KMeans\n",
    "\n",
    "kmeans = KMeans(n_clusters=4)\n",
    "\n",
    "kmeans.fit(processed_train_X)\n",
    "\n",
    "kmeans.predict(processed_test_X)"
   ]
  },
  {
   "attachments": {},
   "cell_type": "markdown",
   "metadata": {},
   "source": [
    "## Pipelines\n",
    "\n",
    "Transfomers and predictors can be chained into a single estimator component using `bigframes.ml.pipeline.Pipeline`:"
   ]
  },
  {
   "cell_type": "code",
   "execution_count": 10,
   "metadata": {},
   "outputs": [
    {
     "data": {
      "text/plain": [
       "Pipeline(steps=[('preproc',\n",
       "                 ColumnTransformer(transformers=[('scale', StandardScaler(),\n",
       "                                                  ['culmen_length_mm',\n",
       "                                                   'culmen_depth_mm',\n",
       "                                                   'flipper_length_mm']),\n",
       "                                                 ('encode', OneHotEncoder(),\n",
       "                                                  ['species', 'sex',\n",
       "                                                   'island'])])),\n",
       "                ('linreg', LinearRegression())])"
      ]
     },
     "execution_count": 10,
     "metadata": {},
     "output_type": "execute_result"
    }
   ],
   "source": [
    "from bigframes.ml.pipeline import Pipeline\n",
    "\n",
    "pipeline = Pipeline([\n",
    "  ('preproc', preproc),\n",
    "  ('linreg', linreg)\n",
    "])\n",
    "\n",
    "# Print our pipeline\n",
    "pipeline"
   ]
  },
  {
   "attachments": {},
   "cell_type": "markdown",
   "metadata": {},
   "source": [
    "The pipeline simplifies the workflow by applying each of its component steps automatically:"
   ]
  },
  {
   "cell_type": "code",
   "execution_count": 11,
   "metadata": {},
   "outputs": [
    {
     "data": {
      "application/vnd.jupyter.widget-view+json": {
       "model_id": "f0465986682742af92759c3f5fce96e0",
       "version_major": 2,
       "version_minor": 0
      },
      "text/plain": [
       "HTML(value='Query job c7d094cb-cc51-4f11-8887-b169c23aceb2 is DONE. 32.3 kB processed. <a target=\"_blank\" href…"
      ]
     },
     "metadata": {},
     "output_type": "display_data"
    },
    {
     "data": {
      "application/vnd.jupyter.widget-view+json": {
       "model_id": "3d4e298ac092485d9e01dc2211d4ed6a",
       "version_major": 2,
       "version_minor": 0
      },
      "text/plain": [
       "HTML(value='Query job dc1e1972-cd00-4cfd-9654-fcf34107077b is RUNNING. <a target=\"_blank\" href=\"https://consol…"
      ]
     },
     "metadata": {},
     "output_type": "display_data"
    },
    {
     "data": {
      "application/vnd.jupyter.widget-view+json": {
       "model_id": "1b32c72e64394d27a491ac943cd9fbe2",
       "version_major": 2,
       "version_minor": 0
      },
      "text/plain": [
       "HTML(value='Query job 8278900a-3685-4058-8ac8-fda43a71ec61 is DONE. 0 Bytes processed. <a target=\"_blank\" href…"
      ]
     },
     "metadata": {},
     "output_type": "display_data"
    },
    {
     "data": {
      "application/vnd.jupyter.widget-view+json": {
       "model_id": "17c41714c864404cb4220eb6027cbaba",
       "version_major": 2,
       "version_minor": 0
      },
      "text/plain": [
       "HTML(value='Query job d4ac1341-de7e-432b-ae33-0871f4936412 is DONE. 0 Bytes processed. <a target=\"_blank\" href…"
      ]
     },
     "metadata": {},
     "output_type": "display_data"
    },
    {
     "data": {
      "application/vnd.jupyter.widget-view+json": {
       "model_id": "6f552c365c0842cbaa7312065ad9882d",
       "version_major": 2,
       "version_minor": 0
      },
      "text/plain": [
       "HTML(value='Query job bddce904-5880-4f05-a61f-91db6aa01af2 is DONE. 0 Bytes processed. <a target=\"_blank\" href…"
      ]
     },
     "metadata": {},
     "output_type": "display_data"
    },
    {
     "data": {
      "text/html": [
       "<div>\n",
       "<style scoped>\n",
       "    .dataframe tbody tr th:only-of-type {\n",
       "        vertical-align: middle;\n",
       "    }\n",
       "\n",
       "    .dataframe tbody tr th {\n",
       "        vertical-align: top;\n",
       "    }\n",
       "\n",
       "    .dataframe thead th {\n",
       "        text-align: right;\n",
       "    }\n",
       "</style>\n",
       "<table border=\"1\" class=\"dataframe\">\n",
       "  <thead>\n",
       "    <tr style=\"text-align: right;\">\n",
       "      <th></th>\n",
       "      <th>predicted_body_mass_g</th>\n",
       "    </tr>\n",
       "    <tr>\n",
       "      <th>penguin_id</th>\n",
       "      <th></th>\n",
       "    </tr>\n",
       "  </thead>\n",
       "  <tbody>\n",
       "    <tr>\n",
       "      <th>9</th>\n",
       "      <td>4295.328991</td>\n",
       "    </tr>\n",
       "    <tr>\n",
       "      <th>12</th>\n",
       "      <td>3338.434943</td>\n",
       "    </tr>\n",
       "    <tr>\n",
       "      <th>13</th>\n",
       "      <td>3201.813783</td>\n",
       "    </tr>\n",
       "    <tr>\n",
       "      <th>19</th>\n",
       "      <td>3982.807707</td>\n",
       "    </tr>\n",
       "    <tr>\n",
       "      <th>22</th>\n",
       "      <td>3538.604385</td>\n",
       "    </tr>\n",
       "    <tr>\n",
       "      <th>23</th>\n",
       "      <td>3613.496641</td>\n",
       "    </tr>\n",
       "    <tr>\n",
       "      <th>25</th>\n",
       "      <td>4009.753161</td>\n",
       "    </tr>\n",
       "    <tr>\n",
       "      <th>28</th>\n",
       "      <td>4240.509087</td>\n",
       "    </tr>\n",
       "    <tr>\n",
       "      <th>30</th>\n",
       "      <td>4028.897875</td>\n",
       "    </tr>\n",
       "    <tr>\n",
       "      <th>38</th>\n",
       "      <td>4206.80377</td>\n",
       "    </tr>\n",
       "    <tr>\n",
       "      <th>41</th>\n",
       "      <td>3736.219256</td>\n",
       "    </tr>\n",
       "    <tr>\n",
       "      <th>45</th>\n",
       "      <td>4383.362136</td>\n",
       "    </tr>\n",
       "    <tr>\n",
       "      <th>49</th>\n",
       "      <td>3125.766474</td>\n",
       "    </tr>\n",
       "    <tr>\n",
       "      <th>50</th>\n",
       "      <td>3149.281322</td>\n",
       "    </tr>\n",
       "    <tr>\n",
       "      <th>62</th>\n",
       "      <td>3531.688645</td>\n",
       "    </tr>\n",
       "    <tr>\n",
       "      <th>65</th>\n",
       "      <td>4073.894238</td>\n",
       "    </tr>\n",
       "    <tr>\n",
       "      <th>66</th>\n",
       "      <td>4160.803738</td>\n",
       "    </tr>\n",
       "    <tr>\n",
       "      <th>83</th>\n",
       "      <td>3272.389735</td>\n",
       "    </tr>\n",
       "    <tr>\n",
       "      <th>87</th>\n",
       "      <td>3989.358086</td>\n",
       "    </tr>\n",
       "    <tr>\n",
       "      <th>92</th>\n",
       "      <td>4240.488891</td>\n",
       "    </tr>\n",
       "    <tr>\n",
       "      <th>98</th>\n",
       "      <td>3911.449023</td>\n",
       "    </tr>\n",
       "    <tr>\n",
       "      <th>104</th>\n",
       "      <td>3271.196535</td>\n",
       "    </tr>\n",
       "    <tr>\n",
       "      <th>114</th>\n",
       "      <td>3244.722283</td>\n",
       "    </tr>\n",
       "    <tr>\n",
       "      <th>115</th>\n",
       "      <td>3737.368277</td>\n",
       "    </tr>\n",
       "    <tr>\n",
       "      <th>118</th>\n",
       "      <td>3485.949702</td>\n",
       "    </tr>\n",
       "  </tbody>\n",
       "</table>\n",
       "<p>25 rows × 1 columns</p>\n",
       "</div>[67 rows x 1 columns in total]"
      ],
      "text/plain": [
       "            predicted_body_mass_g\n",
       "penguin_id                       \n",
       "9                     4295.328991\n",
       "12                    3338.434943\n",
       "13                    3201.813783\n",
       "19                    3982.807707\n",
       "22                    3538.604385\n",
       "23                    3613.496641\n",
       "25                    4009.753161\n",
       "28                    4240.509087\n",
       "30                    4028.897875\n",
       "38                     4206.80377\n",
       "41                    3736.219256\n",
       "45                    4383.362136\n",
       "49                    3125.766474\n",
       "50                    3149.281322\n",
       "62                    3531.688645\n",
       "65                    4073.894238\n",
       "66                    4160.803738\n",
       "83                    3272.389735\n",
       "87                    3989.358086\n",
       "92                    4240.488891\n",
       "98                    3911.449023\n",
       "104                   3271.196535\n",
       "114                   3244.722283\n",
       "115                   3737.368277\n",
       "118                   3485.949702\n",
       "...\n",
       "\n",
       "[67 rows x 1 columns]"
      ]
     },
     "execution_count": 11,
     "metadata": {},
     "output_type": "execute_result"
    }
   ],
   "source": [
    "pipeline.fit(train_X, train_y)\n",
    "\n",
    "predicted_test_y = pipeline.predict(test_X)\n",
    "predicted_test_y"
   ]
  },
  {
   "attachments": {},
   "cell_type": "markdown",
   "metadata": {},
   "source": [
    "In the backend, a pipeline will actually be compiled into a single model with an embedded TRANSFORM step."
   ]
  },
  {
   "attachments": {},
   "cell_type": "markdown",
   "metadata": {},
   "source": [
    "## Evaluating results\n",
    "\n",
    "Some models include a convenient `.score(X, y)` method for evaulation with a preset accuracy metric:"
   ]
  },
  {
   "cell_type": "code",
   "execution_count": 12,
   "metadata": {},
   "outputs": [
    {
     "data": {
      "application/vnd.jupyter.widget-view+json": {
       "model_id": "e6409bce719940f4ae326a8b18871d9b",
       "version_major": 2,
       "version_minor": 0
      },
      "text/plain": [
       "HTML(value='Query job a427bad2-9875-453f-ad2a-1eefaf085657 is DONE. 32.3 kB processed. <a target=\"_blank\" href…"
      ]
     },
     "metadata": {},
     "output_type": "display_data"
    },
    {
     "data": {
      "application/vnd.jupyter.widget-view+json": {
       "model_id": "b47959c96fca489d9bf794bbc54dedfa",
       "version_major": 2,
       "version_minor": 0
      },
      "text/plain": [
       "HTML(value='Query job c43f2287-9497-48f8-a8b0-240f5e5cfc20 is RUNNING. <a target=\"_blank\" href=\"https://consol…"
      ]
     },
     "metadata": {},
     "output_type": "display_data"
    },
    {
     "data": {
      "application/vnd.jupyter.widget-view+json": {
       "model_id": "3d9aafdbf89d482f81f2db6a6175c655",
       "version_major": 2,
       "version_minor": 0
      },
      "text/plain": [
       "HTML(value='Query job 1e478912-cc64-43bf-811a-60519787c6d3 is DONE. 0 Bytes processed. <a target=\"_blank\" href…"
      ]
     },
     "metadata": {},
     "output_type": "display_data"
    },
    {
     "data": {
      "application/vnd.jupyter.widget-view+json": {
       "model_id": "53961554d97843e1816e89b47d668009",
       "version_major": 2,
       "version_minor": 0
      },
      "text/plain": [
       "HTML(value='Query job 825daf98-11ff-467c-b8a0-fc7fc19f520b is DONE. 56 Bytes processed. <a target=\"_blank\" hre…"
      ]
     },
     "metadata": {},
     "output_type": "display_data"
    },
    {
     "data": {
      "application/vnd.jupyter.widget-view+json": {
       "model_id": "1ce4437c9a604ce1ab6ccae9f241ab36",
       "version_major": 2,
       "version_minor": 0
      },
      "text/plain": [
       "HTML(value='Query job 5f5bbf93-1d3e-49cf-aeda-4cf73499e3ac is DONE. 0 Bytes processed. <a target=\"_blank\" href…"
      ]
     },
     "metadata": {},
     "output_type": "display_data"
    },
    {
     "data": {
      "text/html": [
       "<div>\n",
       "<style scoped>\n",
       "    .dataframe tbody tr th:only-of-type {\n",
       "        vertical-align: middle;\n",
       "    }\n",
       "\n",
       "    .dataframe tbody tr th {\n",
       "        vertical-align: top;\n",
       "    }\n",
       "\n",
       "    .dataframe thead th {\n",
       "        text-align: right;\n",
       "    }\n",
       "</style>\n",
       "<table border=\"1\" class=\"dataframe\">\n",
       "  <thead>\n",
       "    <tr style=\"text-align: right;\">\n",
       "      <th></th>\n",
       "      <th>mean_absolute_error</th>\n",
       "      <th>mean_squared_error</th>\n",
       "      <th>mean_squared_log_error</th>\n",
       "      <th>median_absolute_error</th>\n",
       "      <th>r2_score</th>\n",
       "      <th>explained_variance</th>\n",
       "    </tr>\n",
       "  </thead>\n",
       "  <tbody>\n",
       "    <tr>\n",
       "      <th>0</th>\n",
       "      <td>241.640738</td>\n",
       "      <td>90117.84266</td>\n",
       "      <td>0.005652</td>\n",
       "      <td>200.718678</td>\n",
       "      <td>0.8727</td>\n",
       "      <td>0.878359</td>\n",
       "    </tr>\n",
       "  </tbody>\n",
       "</table>\n",
       "<p>1 rows × 6 columns</p>\n",
       "</div>[1 rows x 6 columns in total]"
      ],
      "text/plain": [
       "   mean_absolute_error  mean_squared_error  mean_squared_log_error  \\\n",
       "0           241.640738         90117.84266                0.005652   \n",
       "\n",
       "   median_absolute_error  r2_score  explained_variance  \n",
       "0             200.718678    0.8727            0.878359  \n",
       "\n",
       "[1 rows x 6 columns]"
      ]
     },
     "execution_count": 12,
     "metadata": {},
     "output_type": "execute_result"
    }
   ],
   "source": [
    "# In the case of a pipeline, this will be equivalent to calling .score on the contained LinearRegression\n",
    "pipeline.score(test_X, test_y)"
   ]
  },
  {
   "attachments": {},
   "cell_type": "markdown",
   "metadata": {},
   "source": [
    "For a more general approach, the library `bigframes.ml.metrics` is provided:"
   ]
  },
  {
   "cell_type": "code",
   "execution_count": 13,
   "metadata": {},
   "outputs": [
    {
     "data": {
      "application/vnd.jupyter.widget-view+json": {
       "model_id": "e56e2cc197894ee9acc448a8c12e8a30",
       "version_major": 2,
       "version_minor": 0
      },
      "text/plain": [
       "HTML(value='Query job 929c826c-1051-47fc-9256-546f4ef11c32 is DONE. 31.7 kB processed. <a target=\"_blank\" href…"
      ]
     },
     "metadata": {},
     "output_type": "display_data"
    },
    {
     "data": {
      "application/vnd.jupyter.widget-view+json": {
       "model_id": "f863cff7543342b6bb7b26cffd2d9088",
       "version_major": 2,
       "version_minor": 0
      },
      "text/plain": [
       "HTML(value='Query job 1c7d8f62-2c4f-4fcb-a169-cb9df93dd46c is DONE. 31.7 kB processed. <a target=\"_blank\" href…"
      ]
     },
     "metadata": {},
     "output_type": "display_data"
    },
    {
     "data": {
      "application/vnd.jupyter.widget-view+json": {
       "model_id": "4f0ead00fd48493b874a56a1a4693985",
       "version_major": 2,
       "version_minor": 0
      },
      "text/plain": [
       "HTML(value='Query job 3129ca19-df93-4a1e-9340-280e782c09ec is DONE. 31.7 kB processed. <a target=\"_blank\" href…"
      ]
     },
     "metadata": {},
     "output_type": "display_data"
    },
    {
     "data": {
      "text/plain": [
       "0.8726996609087831"
      ]
     },
     "execution_count": 13,
     "metadata": {},
     "output_type": "execute_result"
    }
   ],
   "source": [
    "from bigframes.ml.metrics import r2_score\n",
    "\n",
    "r2_score(test_y, predicted_test_y)"
   ]
  },
  {
   "attachments": {},
   "cell_type": "markdown",
   "metadata": {},
   "source": [
    "## Save/Load to BigQuery\n",
    "\n",
    "Estimators can be saved to BigQuery as BQML models, and loaded again in future"
   ]
  },
  {
   "cell_type": "code",
   "execution_count": 14,
   "metadata": {},
   "outputs": [
    {
     "data": {
      "text/plain": [
       "Pipeline(steps=[('transform',\n",
       "                 ColumnTransformer(transformers=[('ont_hot_encoder',\n",
       "                                                  OneHotEncoder(max_categories=1000001,\n",
       "                                                                min_frequency=0),\n",
       "                                                  'island'),\n",
       "                                                 ('standard_scaler',\n",
       "                                                  StandardScaler(),\n",
       "                                                  'culmen_length_mm'),\n",
       "                                                 ('standard_scaler',\n",
       "                                                  StandardScaler(),\n",
       "                                                  'culmen_depth_mm'),\n",
       "                                                 ('standard_scaler',\n",
       "                                                  StandardScaler(),\n",
       "                                                  'flipper_length_mm'),\n",
       "                                                 ('ont_hot_encoder',\n",
       "                                                  OneHotEncoder(max_categories=1000001,\n",
       "                                                                min_frequency=0),\n",
       "                                                  'sex'),\n",
       "                                                 ('ont_hot_encoder',\n",
       "                                                  OneHotEncoder(max_categories=1000001,\n",
       "                                                                min_frequency=0),\n",
       "                                                  'species')])),\n",
       "                ('estimator', LinearRegression())])"
      ]
     },
     "execution_count": 14,
     "metadata": {},
     "output_type": "execute_result"
    }
   ],
   "source": [
    "# Replace with a path where you have permission to save a model\n",
    "model_name = \"bigframes-dev.bqml_tutorial.penguins_model\"\n",
    "\n",
    "linreg.to_gbq(model_name, replace=True)"
   ]
  },
  {
   "cell_type": "code",
   "execution_count": 15,
   "metadata": {},
   "outputs": [
    {
     "data": {
      "text/plain": [
       "Pipeline(steps=[('transform',\n",
       "                 ColumnTransformer(transformers=[('ont_hot_encoder',\n",
       "                                                  OneHotEncoder(max_categories=1000001,\n",
       "                                                                min_frequency=0),\n",
       "                                                  'island'),\n",
       "                                                 ('standard_scaler',\n",
       "                                                  StandardScaler(),\n",
       "                                                  'culmen_length_mm'),\n",
       "                                                 ('standard_scaler',\n",
       "                                                  StandardScaler(),\n",
       "                                                  'culmen_depth_mm'),\n",
       "                                                 ('standard_scaler',\n",
       "                                                  StandardScaler(),\n",
       "                                                  'flipper_length_mm'),\n",
       "                                                 ('ont_hot_encoder',\n",
       "                                                  OneHotEncoder(max_categories=1000001,\n",
       "                                                                min_frequency=0),\n",
       "                                                  'sex'),\n",
       "                                                 ('ont_hot_encoder',\n",
       "                                                  OneHotEncoder(max_categories=1000001,\n",
       "                                                                min_frequency=0),\n",
       "                                                  'species')])),\n",
       "                ('estimator', LinearRegression())])"
      ]
     },
     "execution_count": 15,
     "metadata": {},
     "output_type": "execute_result"
    }
   ],
   "source": [
    "# WARNING - until b/281709360 is fixed & pipeline is updated, pipelines will load as models,\n",
    "# and details of their transform steps will be lost (the loaded model will behave the same)\n",
    "bigframes.pandas.read_gbq_model(model_name)"
   ]
  }
 ],
 "metadata": {
  "kernelspec": {
   "display_name": "venv",
   "language": "python",
   "name": "python3"
  },
  "language_info": {
   "codemirror_mode": {
    "name": "ipython",
    "version": 3
   },
   "file_extension": ".py",
   "mimetype": "text/x-python",
   "name": "python",
   "nbconvert_exporter": "python",
   "pygments_lexer": "ipython3",
   "version": "3.10.9"
  },
  "orig_nbformat": 4,
  "vscode": {
   "interpreter": {
    "hash": "a850322d07d9bdc9ec5f301d307e048bcab2390ae395e1cbce9335f4e081e5e2"
   }
  }
 },
 "nbformat": 4,
 "nbformat_minor": 2
}
