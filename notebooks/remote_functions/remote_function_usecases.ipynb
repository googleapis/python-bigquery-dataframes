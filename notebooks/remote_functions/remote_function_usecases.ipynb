{
  "cells": [
    {
      "cell_type": "code",
      "execution_count": 1,
      "metadata": {},
      "outputs": [],
      "source": [
        "# Copyright 2023 Google LLC\n",
        "#\n",
        "# Licensed under the Apache License, Version 2.0 (the \"License\");\n",
        "# you may not use this file except in compliance with the License.\n",
        "# You may obtain a copy of the License at\n",
        "#\n",
        "#     https://www.apache.org/licenses/LICENSE-2.0\n",
        "#\n",
        "# Unless required by applicable law or agreed to in writing, software\n",
        "# distributed under the License is distributed on an \"AS IS\" BASIS,\n",
        "# WITHOUT WARRANTIES OR CONDITIONS OF ANY KIND, either express or implied.\n",
        "# See the License for the specific language governing permissions and\n",
        "# limitations under the License."
      ]
    },
    {
      "cell_type": "markdown",
      "metadata": {},
      "source": [
        "# Setup"
      ]
    },
    {
      "cell_type": "code",
      "execution_count": 2,
      "metadata": {
        "id": "Y6QAttCqqMM0"
      },
      "outputs": [],
      "source": [
        "import bigframes.pandas as bpd"
      ]
    },
    {
      "cell_type": "code",
      "execution_count": 3,
      "metadata": {
        "colab": {
          "base_uri": "https://localhost:8080/",
          "height": 296
        },
        "id": "xraJ9RRzsvel",
        "outputId": "6e3308cf-8de0-4b89-9128-4c6ddf3598c0"
      },
      "outputs": [
        {
          "data": {
            "text/html": [
              "Query job 87e10cee-43bc-409e-8731-a334f9fd066f is DONE. 582.8 kB processed. <a target=\"_blank\" href=\"https://console.cloud.google.com/bigquery?project=bigframes-dev&j=bq:US:87e10cee-43bc-409e-8731-a334f9fd066f&page=queryresults\">Open Job</a>"
            ],
            "text/plain": [
              "<IPython.core.display.HTML object>"
            ]
          },
          "metadata": {},
          "output_type": "display_data"
        },
        {
          "data": {
            "text/html": [
              "Query job 3885405e-c2e9-478a-ad56-ad839ec78ba1 is DONE. 82.0 kB processed. <a target=\"_blank\" href=\"https://console.cloud.google.com/bigquery?project=bigframes-dev&j=bq:US:3885405e-c2e9-478a-ad56-ad839ec78ba1&page=queryresults\">Open Job</a>"
            ],
            "text/plain": [
              "<IPython.core.display.HTML object>"
            ]
          },
          "metadata": {},
          "output_type": "display_data"
        },
        {
          "data": {
            "text/html": [
              "<div>\n",
              "<style scoped>\n",
              "    .dataframe tbody tr th:only-of-type {\n",
              "        vertical-align: middle;\n",
              "    }\n",
              "\n",
              "    .dataframe tbody tr th {\n",
              "        vertical-align: top;\n",
              "    }\n",
              "\n",
              "    .dataframe thead th {\n",
              "        text-align: right;\n",
              "    }\n",
              "</style>\n",
              "<table border=\"1\" class=\"dataframe\">\n",
              "  <thead>\n",
              "    <tr style=\"text-align: right;\">\n",
              "      <th></th>\n",
              "      <th>homeTeamName</th>\n",
              "      <th>awayTeamName</th>\n",
              "      <th>duration_minutes</th>\n",
              "    </tr>\n",
              "  </thead>\n",
              "  <tbody>\n",
              "    <tr>\n",
              "      <th>149</th>\n",
              "      <td>Athletics</td>\n",
              "      <td>Angels</td>\n",
              "      <td>185</td>\n",
              "    </tr>\n",
              "    <tr>\n",
              "      <th>397</th>\n",
              "      <td>Twins</td>\n",
              "      <td>Tigers</td>\n",
              "      <td>171</td>\n",
              "    </tr>\n",
              "    <tr>\n",
              "      <th>420</th>\n",
              "      <td>Rockies</td>\n",
              "      <td>Padres</td>\n",
              "      <td>200</td>\n",
              "    </tr>\n",
              "    <tr>\n",
              "      <th>479</th>\n",
              "      <td>Orioles</td>\n",
              "      <td>Yankees</td>\n",
              "      <td>170</td>\n",
              "    </tr>\n",
              "    <tr>\n",
              "      <th>581</th>\n",
              "      <td>Padres</td>\n",
              "      <td>Yankees</td>\n",
              "      <td>192</td>\n",
              "    </tr>\n",
              "  </tbody>\n",
              "</table>\n",
              "</div>"
            ],
            "text/plain": [
              "    homeTeamName awayTeamName  duration_minutes\n",
              "149    Athletics       Angels               185\n",
              "397        Twins       Tigers               171\n",
              "420      Rockies       Padres               200\n",
              "479      Orioles      Yankees               170\n",
              "581       Padres      Yankees               192"
            ]
          },
          "execution_count": 3,
          "metadata": {},
          "output_type": "execute_result"
        }
      ],
      "source": [
        "df = bpd.read_gbq(\"bigquery-public-data.baseball.schedules\")[[\"homeTeamName\", \"awayTeamName\", \"duration_minutes\"]]\n",
        "df.peek()"
      ]
    },
    {
      "cell_type": "markdown",
      "metadata": {},
      "source": [
        "# Notes\n",
        "\n",
        "* The API reference documentation for the `remote_function` can be found at\n",
        "  https://cloud.google.com/python/docs/reference/bigframes/latest/bigframes.session.Session#bigframes_session_Session_remote_function\n",
        "\n",
        "* More code samples for `remote_function` can be found in the BigQuery\n",
        "  DataFrames API reference documentation, e.g.\n",
        "  * https://cloud.google.com/python/docs/reference/bigframes/latest/bigframes.series.Series#bigframes_series_Series_apply\n",
        "  * https://cloud.google.com/python/docs/reference/bigframes/latest/bigframes.dataframe.DataFrame#bigframes_dataframe_DataFrame_map\n",
        "  * https://cloud.google.com/python/docs/reference/bigframes/latest/bigframes.dataframe.DataFrame#bigframes_dataframe_DataFrame_apply\n",
        "\n",
        "* The following examples are only for the purpose of demonstrating\n",
        "`remote_function` usage. They are not necessarily the best way to achieve the\n",
        "end result.\n",
        "\n",
        "* In the examples in this notebook we are using `reuse=False` just as a caution\n",
        "  to avoid concurrent runs of this notebook in the same google cloud project\n",
        "  stepping over each other's remote function deployment. It may not be neccesary\n",
        "  in a simple use case."
      ]
    },
    {
      "cell_type": "markdown",
      "metadata": {
        "id": "Pt4mWYE1p5o8"
      },
      "source": [
        "# Self-contained function\n",
        "\n",
        "Let's consider a scenario where we want to categorize the matches as short,\n",
        "medium or long duration based on the `duration_minutes` column."
      ]
    },
    {
      "cell_type": "code",
      "execution_count": 4,
      "metadata": {
        "colab": {
          "base_uri": "https://localhost:8080/",
          "height": 52
        },
        "id": "VoCPBJ-ZpyeG",
        "outputId": "19351206-116e-4da2-8ff0-f288b7745b27"
      },
      "outputs": [
        {
          "data": {
            "text/html": [
              "Query job 9be3f9a3-b3c0-4b0e-8bbc-c34ab4516454 is DONE. 0 Bytes processed. <a target=\"_blank\" href=\"https://console.cloud.google.com/bigquery?project=bigframes-dev&j=bq:US:9be3f9a3-b3c0-4b0e-8bbc-c34ab4516454&page=queryresults\">Open Job</a>"
            ],
            "text/plain": [
              "<IPython.core.display.HTML object>"
            ]
          },
          "metadata": {},
          "output_type": "display_data"
        },
        {
          "name": "stdout",
          "output_type": "stream",
          "text": [
            "Created cloud function 'projects/bigframes-dev/locations/us-central1/functions/bigframes-session8fa7c6-ef6a39eaeb1d6a012c567f071fb5fb73-4fkm' and BQ remote function 'bigframes-dev._1b6c31ff1bcd5d2f6d86833cf8268317f1b12d57.bigframes_session8fa7c6_ef6a39eaeb1d6a012c567f071fb5fb73_4fkm'.\n"
          ]
        }
      ],
      "source": [
        "@bpd.remote_function(reuse=False)\n",
        "def duration_category(duration_minutes: int) -> str:\n",
        "    if duration_minutes < 90:\n",
        "        return \"short\"\n",
        "    elif duration_minutes < 180:\n",
        "        return \"medium\"\n",
        "    else:\n",
        "        return \"long\"\n",
        "\n",
        "print(f\"Created cloud function '{duration_category.bigframes_cloud_function}' and BQ remote function '{duration_category.bigframes_remote_function}'.\")"
      ]
    },
    {
      "cell_type": "code",
      "execution_count": 5,
      "metadata": {
        "colab": {
          "base_uri": "https://localhost:8080/",
          "height": 258
        },
        "id": "oXgDB70Lp5cG",
        "outputId": "c08aade0-8b03-425b-fc26-deafd89275a4"
      },
      "outputs": [
        {
          "data": {
            "text/html": [
              "Query job 3f9c58fc-8ff9-4cf0-b4d2-ad183c463fd7 is DONE. 58.3 kB processed. <a target=\"_blank\" href=\"https://console.cloud.google.com/bigquery?project=bigframes-dev&j=bq:US:3f9c58fc-8ff9-4cf0-b4d2-ad183c463fd7&page=queryresults\">Open Job</a>"
            ],
            "text/plain": [
              "<IPython.core.display.HTML object>"
            ]
          },
          "metadata": {},
          "output_type": "display_data"
        },
        {
          "data": {
            "text/html": [
              "Query job bb354fad-9428-4c3f-bfc2-61a8c2a0af7b is DONE. 157.2 kB processed. <a target=\"_blank\" href=\"https://console.cloud.google.com/bigquery?project=bigframes-dev&j=bq:US:bb354fad-9428-4c3f-bfc2-61a8c2a0af7b&page=queryresults\">Open Job</a>"
            ],
            "text/plain": [
              "<IPython.core.display.HTML object>"
            ]
          },
          "metadata": {},
          "output_type": "display_data"
        },
        {
          "data": {
            "text/html": [
              "Query job ce4017b8-f76f-45fa-884d-b64f67d193b1 is DONE. 98.8 kB processed. <a target=\"_blank\" href=\"https://console.cloud.google.com/bigquery?project=bigframes-dev&j=bq:US:ce4017b8-f76f-45fa-884d-b64f67d193b1&page=queryresults\">Open Job</a>"
            ],
            "text/plain": [
              "<IPython.core.display.HTML object>"
            ]
          },
          "metadata": {},
          "output_type": "display_data"
        },
        {
          "data": {
            "text/html": [
              "<div>\n",
              "<style scoped>\n",
              "    .dataframe tbody tr th:only-of-type {\n",
              "        vertical-align: middle;\n",
              "    }\n",
              "\n",
              "    .dataframe tbody tr th {\n",
              "        vertical-align: top;\n",
              "    }\n",
              "\n",
              "    .dataframe thead th {\n",
              "        text-align: right;\n",
              "    }\n",
              "</style>\n",
              "<table border=\"1\" class=\"dataframe\">\n",
              "  <thead>\n",
              "    <tr style=\"text-align: right;\">\n",
              "      <th></th>\n",
              "      <th>homeTeamName</th>\n",
              "      <th>awayTeamName</th>\n",
              "      <th>duration_minutes</th>\n",
              "      <th>duration_cat</th>\n",
              "    </tr>\n",
              "  </thead>\n",
              "  <tbody>\n",
              "    <tr>\n",
              "      <th>1911</th>\n",
              "      <td>Dodgers</td>\n",
              "      <td>Angels</td>\n",
              "      <td>132</td>\n",
              "      <td>medium</td>\n",
              "    </tr>\n",
              "    <tr>\n",
              "      <th>2365</th>\n",
              "      <td>Athletics</td>\n",
              "      <td>Angels</td>\n",
              "      <td>134</td>\n",
              "      <td>medium</td>\n",
              "    </tr>\n",
              "    <tr>\n",
              "      <th>1977</th>\n",
              "      <td>Athletics</td>\n",
              "      <td>Angels</td>\n",
              "      <td>139</td>\n",
              "      <td>medium</td>\n",
              "    </tr>\n",
              "    <tr>\n",
              "      <th>554</th>\n",
              "      <td>Cubs</td>\n",
              "      <td>Angels</td>\n",
              "      <td>142</td>\n",
              "      <td>medium</td>\n",
              "    </tr>\n",
              "    <tr>\n",
              "      <th>654</th>\n",
              "      <td>Astros</td>\n",
              "      <td>Angels</td>\n",
              "      <td>143</td>\n",
              "      <td>medium</td>\n",
              "    </tr>\n",
              "  </tbody>\n",
              "</table>\n",
              "</div>"
            ],
            "text/plain": [
              "     homeTeamName awayTeamName  duration_minutes duration_cat\n",
              "1911      Dodgers       Angels               132       medium\n",
              "2365    Athletics       Angels               134       medium\n",
              "1977    Athletics       Angels               139       medium\n",
              "554          Cubs       Angels               142       medium\n",
              "654        Astros       Angels               143       medium"
            ]
          },
          "execution_count": 5,
          "metadata": {},
          "output_type": "execute_result"
        }
      ],
      "source": [
        "df1 = df.assign(duration_cat=df[\"duration_minutes\"].apply(duration_category))\n",
        "df1.peek()"
      ]
    },
    {
      "cell_type": "markdown",
      "metadata": {
        "id": "zTaNSVmuzEkc"
      },
      "source": [
        "# Function referring to variables outside the function body\n",
        "\n",
        "Let's consider a slight variation of the earlier example where the labels for\n",
        "the short, medium and long duration matches are defined outside the function\n",
        "body. They would be captured at the time of `remote_function` deployment and\n",
        "any change in their values in the notebook after the deployment will not\n",
        "automatically propagate to the `remote_function`."
      ]
    },
    {
      "cell_type": "code",
      "execution_count": 6,
      "metadata": {
        "id": "2UEmTbu4znyS"
      },
      "outputs": [],
      "source": [
        "DURATION_CATEGORY_SHORT = \"S\"\n",
        "DURATION_CATEGORY_MEDIUM = \"M\"\n",
        "DURATION_CATEGORY_LONG = \"L\""
      ]
    },
    {
      "cell_type": "code",
      "execution_count": 7,
      "metadata": {
        "colab": {
          "base_uri": "https://localhost:8080/",
          "height": 52
        },
        "id": "G-73kpmrznHn",
        "outputId": "b5923b7c-d412-43bf-9a20-3946154df81a"
      },
      "outputs": [
        {
          "data": {
            "text/html": [
              "Query job 6a963fef-8ee6-4cd6-9f3c-90ef276b55ff is DONE. 0 Bytes processed. <a target=\"_blank\" href=\"https://console.cloud.google.com/bigquery?project=bigframes-dev&j=bq:US:6a963fef-8ee6-4cd6-9f3c-90ef276b55ff&page=queryresults\">Open Job</a>"
            ],
            "text/plain": [
              "<IPython.core.display.HTML object>"
            ]
          },
          "metadata": {},
          "output_type": "display_data"
        },
        {
          "name": "stdout",
          "output_type": "stream",
          "text": [
            "Created cloud function 'projects/bigframes-dev/locations/us-central1/functions/bigframes-session8fa7c6-174f85737a8e9a5ab4cbc772455bd799-7q90' and BQ remote function 'bigframes-dev._1b6c31ff1bcd5d2f6d86833cf8268317f1b12d57.bigframes_session8fa7c6_174f85737a8e9a5ab4cbc772455bd799_7q90'.\n"
          ]
        }
      ],
      "source": [
        "@bpd.remote_function(reuse=False)\n",
        "def duration_category(duration_minutes: int) -> str:\n",
        "    if duration_minutes < 90:\n",
        "        return DURATION_CATEGORY_SHORT\n",
        "    elif duration_minutes < 180:\n",
        "        return DURATION_CATEGORY_MEDIUM\n",
        "    else:\n",
        "        return DURATION_CATEGORY_LONG\n",
        "\n",
        "print(f\"Created cloud function '{duration_category.bigframes_cloud_function}' and BQ remote function '{duration_category.bigframes_remote_function}'.\")"
      ]
    },
    {
      "cell_type": "code",
      "execution_count": 8,
      "metadata": {
        "colab": {
          "base_uri": "https://localhost:8080/",
          "height": 258
        },
        "id": "DWHKsfF-z7rL",
        "outputId": "c736b57f-1fcb-464a-f725-eb203265ddc2"
      },
      "outputs": [
        {
          "data": {
            "text/html": [
              "Query job 0c98fafd-3a35-4427-928a-86def0d53e37 is DONE. 58.3 kB processed. <a target=\"_blank\" href=\"https://console.cloud.google.com/bigquery?project=bigframes-dev&j=bq:US:0c98fafd-3a35-4427-928a-86def0d53e37&page=queryresults\">Open Job</a>"
            ],
            "text/plain": [
              "<IPython.core.display.HTML object>"
            ]
          },
          "metadata": {},
          "output_type": "display_data"
        },
        {
          "data": {
            "text/html": [
              "Query job c7c8a62f-1c72-4a4f-bbf4-67b32cfe1f8c is DONE. 147.7 kB processed. <a target=\"_blank\" href=\"https://console.cloud.google.com/bigquery?project=bigframes-dev&j=bq:US:c7c8a62f-1c72-4a4f-bbf4-67b32cfe1f8c&page=queryresults\">Open Job</a>"
            ],
            "text/plain": [
              "<IPython.core.display.HTML object>"
            ]
          },
          "metadata": {},
          "output_type": "display_data"
        },
        {
          "data": {
            "text/html": [
              "Query job 4f6608b6-d687-4c9a-9792-cee9a6c98424 is DONE. 89.3 kB processed. <a target=\"_blank\" href=\"https://console.cloud.google.com/bigquery?project=bigframes-dev&j=bq:US:4f6608b6-d687-4c9a-9792-cee9a6c98424&page=queryresults\">Open Job</a>"
            ],
            "text/plain": [
              "<IPython.core.display.HTML object>"
            ]
          },
          "metadata": {},
          "output_type": "display_data"
        },
        {
          "data": {
            "text/html": [
              "<div>\n",
              "<style scoped>\n",
              "    .dataframe tbody tr th:only-of-type {\n",
              "        vertical-align: middle;\n",
              "    }\n",
              "\n",
              "    .dataframe tbody tr th {\n",
              "        vertical-align: top;\n",
              "    }\n",
              "\n",
              "    .dataframe thead th {\n",
              "        text-align: right;\n",
              "    }\n",
              "</style>\n",
              "<table border=\"1\" class=\"dataframe\">\n",
              "  <thead>\n",
              "    <tr style=\"text-align: right;\">\n",
              "      <th></th>\n",
              "      <th>homeTeamName</th>\n",
              "      <th>awayTeamName</th>\n",
              "      <th>duration_minutes</th>\n",
              "      <th>duration_cat</th>\n",
              "    </tr>\n",
              "  </thead>\n",
              "  <tbody>\n",
              "    <tr>\n",
              "      <th>1911</th>\n",
              "      <td>Dodgers</td>\n",
              "      <td>Angels</td>\n",
              "      <td>132</td>\n",
              "      <td>M</td>\n",
              "    </tr>\n",
              "    <tr>\n",
              "      <th>2365</th>\n",
              "      <td>Athletics</td>\n",
              "      <td>Angels</td>\n",
              "      <td>134</td>\n",
              "      <td>M</td>\n",
              "    </tr>\n",
              "    <tr>\n",
              "      <th>1977</th>\n",
              "      <td>Athletics</td>\n",
              "      <td>Angels</td>\n",
              "      <td>139</td>\n",
              "      <td>M</td>\n",
              "    </tr>\n",
              "    <tr>\n",
              "      <th>554</th>\n",
              "      <td>Cubs</td>\n",
              "      <td>Angels</td>\n",
              "      <td>142</td>\n",
              "      <td>M</td>\n",
              "    </tr>\n",
              "    <tr>\n",
              "      <th>654</th>\n",
              "      <td>Astros</td>\n",
              "      <td>Angels</td>\n",
              "      <td>143</td>\n",
              "      <td>M</td>\n",
              "    </tr>\n",
              "  </tbody>\n",
              "</table>\n",
              "</div>"
            ],
            "text/plain": [
              "     homeTeamName awayTeamName  duration_minutes duration_cat\n",
              "1911      Dodgers       Angels               132            M\n",
              "2365    Athletics       Angels               134            M\n",
              "1977    Athletics       Angels               139            M\n",
              "554          Cubs       Angels               142            M\n",
              "654        Astros       Angels               143            M"
            ]
          },
          "execution_count": 8,
          "metadata": {},
          "output_type": "execute_result"
        }
      ],
      "source": [
        "df1 = df.assign(duration_cat=df[\"duration_minutes\"].apply(duration_category))\n",
        "df1.peek()"
      ]
    },
    {
      "cell_type": "markdown",
      "metadata": {
        "id": "J-1BIasNzKil"
      },
      "source": [
        "# Function referring to imports (built-in) outside the function body\n",
        "\n",
        "Let's consider a scenario in which we want to categorize the matches in terms of\n",
        "hour buckets. E.g. a match finishing in 0-60 minutes would be in 1h category,\n",
        "61-120 minutes in 2h category and so on. The function itself makes use of the\n",
        "`math` module (a built-in module in a standard python installation) which\n",
        "happens to be imported outside the function body, let's say in one of the\n",
        "previous cells. For the demo purpose we have aliased the import to `mymath`, but\n",
        "it is not necessary.\n",
        "\n",
        "Later in the notebook we will see another example with a third-party module."
      ]
    },
    {
      "cell_type": "code",
      "execution_count": 9,
      "metadata": {
        "id": "zlQfhcW41uzM"
      },
      "outputs": [],
      "source": [
        "import math as mymath"
      ]
    },
    {
      "cell_type": "code",
      "execution_count": 10,
      "metadata": {
        "colab": {
          "base_uri": "https://localhost:8080/",
          "height": 52
        },
        "id": "ktADchck2mh4",
        "outputId": "9aed6aea-b361-4414-a0f6-8873e8291090"
      },
      "outputs": [
        {
          "data": {
            "text/html": [
              "Query job 0c29b064-4343-4c43-b2c1-32a21113ae83 is DONE. 0 Bytes processed. <a target=\"_blank\" href=\"https://console.cloud.google.com/bigquery?project=bigframes-dev&j=bq:US:0c29b064-4343-4c43-b2c1-32a21113ae83&page=queryresults\">Open Job</a>"
            ],
            "text/plain": [
              "<IPython.core.display.HTML object>"
            ]
          },
          "metadata": {},
          "output_type": "display_data"
        },
        {
          "name": "stdout",
          "output_type": "stream",
          "text": [
            "Created cloud function 'projects/bigframes-dev/locations/us-central1/functions/bigframes-session8fa7c6-3afd74d885105142f214bdc8fe461059-m7jx' and BQ remote function 'bigframes-dev._1b6c31ff1bcd5d2f6d86833cf8268317f1b12d57.bigframes_session8fa7c6_3afd74d885105142f214bdc8fe461059_m7jx'.\n"
          ]
        }
      ],
      "source": [
        "@bpd.remote_function(reuse=False)\n",
        "def duration_category(duration_minutes: int) -> str:\n",
        "    duration_hours = mymath.ceil(duration_minutes / 60)\n",
        "    return f\"{duration_hours}h\"\n",
        "\n",
        "print(f\"Created cloud function '{duration_category.bigframes_cloud_function}' and BQ remote function '{duration_category.bigframes_remote_function}'.\")"
      ]
    },
    {
      "cell_type": "code",
      "execution_count": 11,
      "metadata": {
        "colab": {
          "base_uri": "https://localhost:8080/",
          "height": 258
        },
        "id": "ywAtZlJU3GoB",
        "outputId": "d3c93a31-3367-4ccf-bdf7-62d5bbff4461"
      },
      "outputs": [
        {
          "data": {
            "text/html": [
              "Query job 6144a150-5f73-46ff-83eb-1639d5de6e7b is DONE. 58.3 kB processed. <a target=\"_blank\" href=\"https://console.cloud.google.com/bigquery?project=bigframes-dev&j=bq:US:6144a150-5f73-46ff-83eb-1639d5de6e7b&page=queryresults\">Open Job</a>"
            ],
            "text/plain": [
              "<IPython.core.display.HTML object>"
            ]
          },
          "metadata": {},
          "output_type": "display_data"
        },
        {
          "data": {
            "text/html": [
              "Query job 4d3393e3-976a-4cc0-938f-dfcc53b398b6 is DONE. 150.1 kB processed. <a target=\"_blank\" href=\"https://console.cloud.google.com/bigquery?project=bigframes-dev&j=bq:US:4d3393e3-976a-4cc0-938f-dfcc53b398b6&page=queryresults\">Open Job</a>"
            ],
            "text/plain": [
              "<IPython.core.display.HTML object>"
            ]
          },
          "metadata": {},
          "output_type": "display_data"
        },
        {
          "data": {
            "text/html": [
              "Query job bd94daa5-4d4f-4912-8437-81dbc7f4758c is DONE. 91.7 kB processed. <a target=\"_blank\" href=\"https://console.cloud.google.com/bigquery?project=bigframes-dev&j=bq:US:bd94daa5-4d4f-4912-8437-81dbc7f4758c&page=queryresults\">Open Job</a>"
            ],
            "text/plain": [
              "<IPython.core.display.HTML object>"
            ]
          },
          "metadata": {},
          "output_type": "display_data"
        },
        {
          "data": {
            "text/html": [
              "<div>\n",
              "<style scoped>\n",
              "    .dataframe tbody tr th:only-of-type {\n",
              "        vertical-align: middle;\n",
              "    }\n",
              "\n",
              "    .dataframe tbody tr th {\n",
              "        vertical-align: top;\n",
              "    }\n",
              "\n",
              "    .dataframe thead th {\n",
              "        text-align: right;\n",
              "    }\n",
              "</style>\n",
              "<table border=\"1\" class=\"dataframe\">\n",
              "  <thead>\n",
              "    <tr style=\"text-align: right;\">\n",
              "      <th></th>\n",
              "      <th>homeTeamName</th>\n",
              "      <th>awayTeamName</th>\n",
              "      <th>duration_minutes</th>\n",
              "      <th>duration_cat</th>\n",
              "    </tr>\n",
              "  </thead>\n",
              "  <tbody>\n",
              "    <tr>\n",
              "      <th>1911</th>\n",
              "      <td>Dodgers</td>\n",
              "      <td>Angels</td>\n",
              "      <td>132</td>\n",
              "      <td>3h</td>\n",
              "    </tr>\n",
              "    <tr>\n",
              "      <th>2365</th>\n",
              "      <td>Athletics</td>\n",
              "      <td>Angels</td>\n",
              "      <td>134</td>\n",
              "      <td>3h</td>\n",
              "    </tr>\n",
              "    <tr>\n",
              "      <th>1977</th>\n",
              "      <td>Athletics</td>\n",
              "      <td>Angels</td>\n",
              "      <td>139</td>\n",
              "      <td>3h</td>\n",
              "    </tr>\n",
              "    <tr>\n",
              "      <th>554</th>\n",
              "      <td>Cubs</td>\n",
              "      <td>Angels</td>\n",
              "      <td>142</td>\n",
              "      <td>3h</td>\n",
              "    </tr>\n",
              "    <tr>\n",
              "      <th>654</th>\n",
              "      <td>Astros</td>\n",
              "      <td>Angels</td>\n",
              "      <td>143</td>\n",
              "      <td>3h</td>\n",
              "    </tr>\n",
              "  </tbody>\n",
              "</table>\n",
              "</div>"
            ],
            "text/plain": [
              "     homeTeamName awayTeamName  duration_minutes duration_cat\n",
              "1911      Dodgers       Angels               132           3h\n",
              "2365    Athletics       Angels               134           3h\n",
              "1977    Athletics       Angels               139           3h\n",
              "554          Cubs       Angels               142           3h\n",
              "654        Astros       Angels               143           3h"
            ]
          },
          "execution_count": 11,
          "metadata": {},
          "output_type": "execute_result"
        }
      ],
      "source": [
        "df1 = df.assign(duration_cat=df[\"duration_minutes\"].apply(duration_category))\n",
        "df1.peek()"
      ]
    },
    {
      "cell_type": "markdown",
      "metadata": {
        "id": "WO0FH7Bm3OxR"
      },
      "source": [
        "# Function referring to another function outside the function body\n",
        "\n",
        "In this example let's create a `remote_function` from a function\n",
        "`duration_category` which depends upon another function `get_hour_ceiling`,\n",
        "which further depends on another function `get_minutes_in_hour`. This dependency\n",
        "chain could be even longer in a real world example. The behaviors of the\n",
        "dependencies would be captured at the time of the remote function\n",
        "deployment.\n",
        "\n",
        "Please ntoe that any changes in those functions in the notebook after the\n",
        "deployment would not automatically propagate to the remote function."
      ]
    },
    {
      "cell_type": "code",
      "execution_count": 12,
      "metadata": {
        "id": "0G91fWiF3pKg"
      },
      "outputs": [],
      "source": [
        "import math\n",
        "\n",
        "def get_minutes_in_hour():\n",
        "    return 60\n",
        "\n",
        "def get_hour_ceiling(minutes):\n",
        "    return math.ceil(minutes / get_minutes_in_hour())"
      ]
    },
    {
      "cell_type": "code",
      "execution_count": 13,
      "metadata": {
        "colab": {
          "base_uri": "https://localhost:8080/",
          "height": 52
        },
        "id": "lQrC8T2031EJ",
        "outputId": "420e7c3d-54cb-4814-f973-c7678be61caa"
      },
      "outputs": [
        {
          "data": {
            "text/html": [
              "Query job 56c2bb32-5dc7-426b-9e31-c8d246cff4ea is DONE. 0 Bytes processed. <a target=\"_blank\" href=\"https://console.cloud.google.com/bigquery?project=bigframes-dev&j=bq:US:56c2bb32-5dc7-426b-9e31-c8d246cff4ea&page=queryresults\">Open Job</a>"
            ],
            "text/plain": [
              "<IPython.core.display.HTML object>"
            ]
          },
          "metadata": {},
          "output_type": "display_data"
        },
        {
          "name": "stdout",
          "output_type": "stream",
          "text": [
            "Created cloud function 'projects/bigframes-dev/locations/us-central1/functions/bigframes-session8fa7c6-ad70713227cb8bc042079efcad7da546-jk4m' and BQ remote function 'bigframes-dev._1b6c31ff1bcd5d2f6d86833cf8268317f1b12d57.bigframes_session8fa7c6_ad70713227cb8bc042079efcad7da546_jk4m'.\n"
          ]
        }
      ],
      "source": [
        "@bpd.remote_function(reuse=False)\n",
        "def duration_category(duration_minutes: int) -> str:\n",
        "    duration_hours = get_hour_ceiling(duration_minutes)\n",
        "    return f\"{duration_hours} hrs\"\n",
        "\n",
        "print(f\"Created cloud function '{duration_category.bigframes_cloud_function}' and BQ remote function '{duration_category.bigframes_remote_function}'.\")"
      ]
    },
    {
      "cell_type": "code",
      "execution_count": 14,
      "metadata": {
        "colab": {
          "base_uri": "https://localhost:8080/",
          "height": 258
        },
        "id": "GVyrihii4EFG",
        "outputId": "e979b649-4ed4-4b82-e814-54180420e3fc"
      },
      "outputs": [
        {
          "data": {
            "text/html": [
              "Query job b305edeb-cfcf-4d8d-a604-ec1c3d92a620 is DONE. 58.3 kB processed. <a target=\"_blank\" href=\"https://console.cloud.google.com/bigquery?project=bigframes-dev&j=bq:US:b305edeb-cfcf-4d8d-a604-ec1c3d92a620&page=queryresults\">Open Job</a>"
            ],
            "text/plain": [
              "<IPython.core.display.HTML object>"
            ]
          },
          "metadata": {},
          "output_type": "display_data"
        },
        {
          "data": {
            "text/html": [
              "Query job 1c58f01b-a1ae-4c58-a9cc-554572458b64 is DONE. 157.4 kB processed. <a target=\"_blank\" href=\"https://console.cloud.google.com/bigquery?project=bigframes-dev&j=bq:US:1c58f01b-a1ae-4c58-a9cc-554572458b64&page=queryresults\">Open Job</a>"
            ],
            "text/plain": [
              "<IPython.core.display.HTML object>"
            ]
          },
          "metadata": {},
          "output_type": "display_data"
        },
        {
          "data": {
            "text/html": [
              "Query job c8a54ac3-8d75-4868-8f7e-aa7608a4ad08 is DONE. 99.0 kB processed. <a target=\"_blank\" href=\"https://console.cloud.google.com/bigquery?project=bigframes-dev&j=bq:US:c8a54ac3-8d75-4868-8f7e-aa7608a4ad08&page=queryresults\">Open Job</a>"
            ],
            "text/plain": [
              "<IPython.core.display.HTML object>"
            ]
          },
          "metadata": {},
          "output_type": "display_data"
        },
        {
          "data": {
            "text/html": [
              "<div>\n",
              "<style scoped>\n",
              "    .dataframe tbody tr th:only-of-type {\n",
              "        vertical-align: middle;\n",
              "    }\n",
              "\n",
              "    .dataframe tbody tr th {\n",
              "        vertical-align: top;\n",
              "    }\n",
              "\n",
              "    .dataframe thead th {\n",
              "        text-align: right;\n",
              "    }\n",
              "</style>\n",
              "<table border=\"1\" class=\"dataframe\">\n",
              "  <thead>\n",
              "    <tr style=\"text-align: right;\">\n",
              "      <th></th>\n",
              "      <th>homeTeamName</th>\n",
              "      <th>awayTeamName</th>\n",
              "      <th>duration_minutes</th>\n",
              "      <th>duration_cat</th>\n",
              "    </tr>\n",
              "  </thead>\n",
              "  <tbody>\n",
              "    <tr>\n",
              "      <th>1911</th>\n",
              "      <td>Dodgers</td>\n",
              "      <td>Angels</td>\n",
              "      <td>132</td>\n",
              "      <td>3 hrs</td>\n",
              "    </tr>\n",
              "    <tr>\n",
              "      <th>2365</th>\n",
              "      <td>Athletics</td>\n",
              "      <td>Angels</td>\n",
              "      <td>134</td>\n",
              "      <td>3 hrs</td>\n",
              "    </tr>\n",
              "    <tr>\n",
              "      <th>1977</th>\n",
              "      <td>Athletics</td>\n",
              "      <td>Angels</td>\n",
              "      <td>139</td>\n",
              "      <td>3 hrs</td>\n",
              "    </tr>\n",
              "    <tr>\n",
              "      <th>554</th>\n",
              "      <td>Cubs</td>\n",
              "      <td>Angels</td>\n",
              "      <td>142</td>\n",
              "      <td>3 hrs</td>\n",
              "    </tr>\n",
              "    <tr>\n",
              "      <th>654</th>\n",
              "      <td>Astros</td>\n",
              "      <td>Angels</td>\n",
              "      <td>143</td>\n",
              "      <td>3 hrs</td>\n",
              "    </tr>\n",
              "  </tbody>\n",
              "</table>\n",
              "</div>"
            ],
            "text/plain": [
              "     homeTeamName awayTeamName  duration_minutes duration_cat\n",
              "1911      Dodgers       Angels               132        3 hrs\n",
              "2365    Athletics       Angels               134        3 hrs\n",
              "1977    Athletics       Angels               139        3 hrs\n",
              "554          Cubs       Angels               142        3 hrs\n",
              "654        Astros       Angels               143        3 hrs"
            ]
          },
          "execution_count": 14,
          "metadata": {},
          "output_type": "execute_result"
        }
      ],
      "source": [
        "df1 = df.assign(duration_cat=df[\"duration_minutes\"].apply(duration_category))\n",
        "df1.peek()"
      ]
    },
    {
      "cell_type": "markdown",
      "metadata": {
        "id": "Uu7SOoT94vSP"
      },
      "source": [
        "# Function requiring external packages\n",
        "\n",
        "In this example let's say we want to redact the `homeTeamName` values, and we\n",
        "choose to use a third party library `cryptography`. Any third party dependencies\n",
        "can be specified in [pip format](https://pip.pypa.io/en/stable/reference/requirements-file-format/)\n",
        "(with or without version number) as a list via the `packages` parameter."
      ]
    },
    {
      "cell_type": "code",
      "execution_count": 15,
      "metadata": {
        "colab": {
          "base_uri": "https://localhost:8080/",
          "height": 34
        },
        "id": "3EUEyNcW41_l",
        "outputId": "2d09d60f-da1a-4eab-86d3-0e62390a360c"
      },
      "outputs": [
        {
          "data": {
            "text/html": [
              "Query job d766e0f8-ff75-4f88-8fef-b6da77f55d50 is DONE. 0 Bytes processed. <a target=\"_blank\" href=\"https://console.cloud.google.com/bigquery?project=bigframes-dev&j=bq:US:d766e0f8-ff75-4f88-8fef-b6da77f55d50&page=queryresults\">Open Job</a>"
            ],
            "text/plain": [
              "<IPython.core.display.HTML object>"
            ]
          },
          "metadata": {},
          "output_type": "display_data"
        }
      ],
      "source": [
        "@bpd.remote_function(reuse=False, packages=[\"cryptography\"])\n",
        "def get_hash(input: str) -> str:\n",
        "    from cryptography.fernet import Fernet\n",
        "\n",
        "    # handle missing value\n",
        "    if input is None:\n",
        "        input = \"\"\n",
        "\n",
        "    key = Fernet.generate_key()\n",
        "    f = Fernet(key)\n",
        "    return f.encrypt(input.encode()).decode()"
      ]
    },
    {
      "cell_type": "code",
      "execution_count": 16,
      "metadata": {
        "colab": {
          "base_uri": "https://localhost:8080/",
          "height": 258
        },
        "id": "OX1Hl7bR5uyd",
        "outputId": "8ac3bf28-d16d-438b-b636-74ef2371715f"
      },
      "outputs": [
        {
          "data": {
            "text/html": [
              "Query job d7bde249-ad7e-49e1-9391-030acd28b7e7 is DONE. 60.5 kB processed. <a target=\"_blank\" href=\"https://console.cloud.google.com/bigquery?project=bigframes-dev&j=bq:US:d7bde249-ad7e-49e1-9391-030acd28b7e7&page=queryresults\">Open Job</a>"
            ],
            "text/plain": [
              "<IPython.core.display.HTML object>"
            ]
          },
          "metadata": {},
          "output_type": "display_data"
        },
        {
          "data": {
            "text/html": [
              "Query job 0f87f6c0-18df-4a63-9314-d05e3fabb052 is DONE. 388.3 kB processed. <a target=\"_blank\" href=\"https://console.cloud.google.com/bigquery?project=bigframes-dev&j=bq:US:0f87f6c0-18df-4a63-9314-d05e3fabb052&page=queryresults\">Open Job</a>"
            ],
            "text/plain": [
              "<IPython.core.display.HTML object>"
            ]
          },
          "metadata": {},
          "output_type": "display_data"
        },
        {
          "data": {
            "text/html": [
              "Query job 7b14b63e-8833-40c0-87de-cb58101afefd is DONE. 330.0 kB processed. <a target=\"_blank\" href=\"https://console.cloud.google.com/bigquery?project=bigframes-dev&j=bq:US:7b14b63e-8833-40c0-87de-cb58101afefd&page=queryresults\">Open Job</a>"
            ],
            "text/plain": [
              "<IPython.core.display.HTML object>"
            ]
          },
          "metadata": {},
          "output_type": "display_data"
        },
        {
          "data": {
            "text/html": [
              "<div>\n",
              "<style scoped>\n",
              "    .dataframe tbody tr th:only-of-type {\n",
              "        vertical-align: middle;\n",
              "    }\n",
              "\n",
              "    .dataframe tbody tr th {\n",
              "        vertical-align: top;\n",
              "    }\n",
              "\n",
              "    .dataframe thead th {\n",
              "        text-align: right;\n",
              "    }\n",
              "</style>\n",
              "<table border=\"1\" class=\"dataframe\">\n",
              "  <thead>\n",
              "    <tr style=\"text-align: right;\">\n",
              "      <th></th>\n",
              "      <th>homeTeamName</th>\n",
              "      <th>awayTeamName</th>\n",
              "      <th>duration_minutes</th>\n",
              "      <th>homeTeamNameRedacted</th>\n",
              "    </tr>\n",
              "  </thead>\n",
              "  <tbody>\n",
              "    <tr>\n",
              "      <th>351</th>\n",
              "      <td>Astros</td>\n",
              "      <td>Angels</td>\n",
              "      <td>212</td>\n",
              "      <td>gAAAAABmoKZY3GepMRcGsaXKAGivl7fqn2hIt1dvwnPpDE...</td>\n",
              "    </tr>\n",
              "    <tr>\n",
              "      <th>654</th>\n",
              "      <td>Astros</td>\n",
              "      <td>Angels</td>\n",
              "      <td>143</td>\n",
              "      <td>gAAAAABmoKZYwY-MKnwwgU3enh3jPVYF2q3Djl3Tn2J8bW...</td>\n",
              "    </tr>\n",
              "    <tr>\n",
              "      <th>2295</th>\n",
              "      <td>Astros</td>\n",
              "      <td>Angels</td>\n",
              "      <td>204</td>\n",
              "      <td>gAAAAABmoKZYFe-AMB_hl9O-4KaKYb_UvxF-EhA6B6qSqu...</td>\n",
              "    </tr>\n",
              "    <tr>\n",
              "      <th>624</th>\n",
              "      <td>Astros</td>\n",
              "      <td>Angels</td>\n",
              "      <td>173</td>\n",
              "      <td>gAAAAABmoKZYWpas2Cd8MXRWl6A4q7CCt9QDVU_-pFH7WB...</td>\n",
              "    </tr>\n",
              "    <tr>\n",
              "      <th>1843</th>\n",
              "      <td>Astros</td>\n",
              "      <td>Angels</td>\n",
              "      <td>182</td>\n",
              "      <td>gAAAAABmoKZYKDxZqGkwBxQlFMCbG02zYiOSdKVe5CMM5u...</td>\n",
              "    </tr>\n",
              "  </tbody>\n",
              "</table>\n",
              "</div>"
            ],
            "text/plain": [
              "     homeTeamName awayTeamName  duration_minutes  \\\n",
              "351        Astros       Angels               212   \n",
              "654        Astros       Angels               143   \n",
              "2295       Astros       Angels               204   \n",
              "624        Astros       Angels               173   \n",
              "1843       Astros       Angels               182   \n",
              "\n",
              "                                   homeTeamNameRedacted  \n",
              "351   gAAAAABmoKZY3GepMRcGsaXKAGivl7fqn2hIt1dvwnPpDE...  \n",
              "654   gAAAAABmoKZYwY-MKnwwgU3enh3jPVYF2q3Djl3Tn2J8bW...  \n",
              "2295  gAAAAABmoKZYFe-AMB_hl9O-4KaKYb_UvxF-EhA6B6qSqu...  \n",
              "624   gAAAAABmoKZYWpas2Cd8MXRWl6A4q7CCt9QDVU_-pFH7WB...  \n",
              "1843  gAAAAABmoKZYKDxZqGkwBxQlFMCbG02zYiOSdKVe5CMM5u...  "
            ]
          },
          "execution_count": 16,
          "metadata": {},
          "output_type": "execute_result"
        }
      ],
      "source": [
        "df1 = df.assign(homeTeamNameRedacted=df[\"homeTeamName\"].apply(get_hash))\n",
        "df1.peek()"
      ]
    },
    {
      "cell_type": "markdown",
      "metadata": {},
      "source": [
        "# Function referring to imports (third-party) outside the function body\n",
        "\n",
        "In this scenario the function depends on a third party library and the module\n",
        "from the third party library used in the function is imported outside the\n",
        "function body in a previous cell. Below is such an example where the third-party\n",
        "dependency is `humanize` and its module of the same name is imported outside the\n",
        "function body."
      ]
    },
    {
      "cell_type": "code",
      "execution_count": 17,
      "metadata": {},
      "outputs": [],
      "source": [
        "import datetime as dt\n",
        "import humanize"
      ]
    },
    {
      "cell_type": "code",
      "execution_count": 18,
      "metadata": {},
      "outputs": [
        {
          "data": {
            "text/html": [
              "Query job a7bd215e-2ecf-4acb-9b75-b8a58da66a3a is DONE. 0 Bytes processed. <a target=\"_blank\" href=\"https://console.cloud.google.com/bigquery?project=bigframes-dev&j=bq:US:a7bd215e-2ecf-4acb-9b75-b8a58da66a3a&page=queryresults\">Open Job</a>"
            ],
            "text/plain": [
              "<IPython.core.display.HTML object>"
            ]
          },
          "metadata": {},
          "output_type": "display_data"
        },
        {
          "name": "stdout",
          "output_type": "stream",
          "text": [
            "Created cloud function 'projects/bigframes-dev/locations/us-central1/functions/bigframes-session8fa7c6-6ffb0fce0234ca767920e183b2b8f51e-8wyw' and BQ remote function 'bigframes-dev._1b6c31ff1bcd5d2f6d86833cf8268317f1b12d57.bigframes_session8fa7c6_6ffb0fce0234ca767920e183b2b8f51e_8wyw'.\n"
          ]
        }
      ],
      "source": [
        "@bpd.remote_function(reuse=False, packages=[\"humanize\"])\n",
        "def duration_category(duration_minutes: int) -> str:\n",
        "    timedelta = dt.timedelta(minutes=duration_minutes)\n",
        "    return humanize.naturaldelta(timedelta)\n",
        "\n",
        "print(f\"Created cloud function '{duration_category.bigframes_cloud_function}' and BQ remote function '{duration_category.bigframes_remote_function}'.\")"
      ]
    },
    {
      "cell_type": "code",
      "execution_count": 19,
      "metadata": {},
      "outputs": [
        {
          "data": {
            "text/html": [
              "Query job d3a30741-c64a-4eef-8fa3-5f1d5ab5d4f3 is DONE. 58.3 kB processed. <a target=\"_blank\" href=\"https://console.cloud.google.com/bigquery?project=bigframes-dev&j=bq:US:d3a30741-c64a-4eef-8fa3-5f1d5ab5d4f3&page=queryresults\">Open Job</a>"
            ],
            "text/plain": [
              "<IPython.core.display.HTML object>"
            ]
          },
          "metadata": {},
          "output_type": "display_data"
        },
        {
          "data": {
            "text/html": [
              "Query job 74f99ed6-ddb3-415c-9e4b-f31c4d56f345 is DONE. 162.2 kB processed. <a target=\"_blank\" href=\"https://console.cloud.google.com/bigquery?project=bigframes-dev&j=bq:US:74f99ed6-ddb3-415c-9e4b-f31c4d56f345&page=queryresults\">Open Job</a>"
            ],
            "text/plain": [
              "<IPython.core.display.HTML object>"
            ]
          },
          "metadata": {},
          "output_type": "display_data"
        },
        {
          "data": {
            "text/html": [
              "Query job b61e9036-0057-48c1-bc22-fc628d091ef2 is DONE. 103.9 kB processed. <a target=\"_blank\" href=\"https://console.cloud.google.com/bigquery?project=bigframes-dev&j=bq:US:b61e9036-0057-48c1-bc22-fc628d091ef2&page=queryresults\">Open Job</a>"
            ],
            "text/plain": [
              "<IPython.core.display.HTML object>"
            ]
          },
          "metadata": {},
          "output_type": "display_data"
        },
        {
          "data": {
            "text/html": [
              "<div>\n",
              "<style scoped>\n",
              "    .dataframe tbody tr th:only-of-type {\n",
              "        vertical-align: middle;\n",
              "    }\n",
              "\n",
              "    .dataframe tbody tr th {\n",
              "        vertical-align: top;\n",
              "    }\n",
              "\n",
              "    .dataframe thead th {\n",
              "        text-align: right;\n",
              "    }\n",
              "</style>\n",
              "<table border=\"1\" class=\"dataframe\">\n",
              "  <thead>\n",
              "    <tr style=\"text-align: right;\">\n",
              "      <th></th>\n",
              "      <th>homeTeamName</th>\n",
              "      <th>awayTeamName</th>\n",
              "      <th>duration_minutes</th>\n",
              "      <th>duration_cat</th>\n",
              "    </tr>\n",
              "  </thead>\n",
              "  <tbody>\n",
              "    <tr>\n",
              "      <th>1911</th>\n",
              "      <td>Dodgers</td>\n",
              "      <td>Angels</td>\n",
              "      <td>132</td>\n",
              "      <td>2 hours</td>\n",
              "    </tr>\n",
              "    <tr>\n",
              "      <th>2365</th>\n",
              "      <td>Athletics</td>\n",
              "      <td>Angels</td>\n",
              "      <td>134</td>\n",
              "      <td>2 hours</td>\n",
              "    </tr>\n",
              "    <tr>\n",
              "      <th>1977</th>\n",
              "      <td>Athletics</td>\n",
              "      <td>Angels</td>\n",
              "      <td>139</td>\n",
              "      <td>2 hours</td>\n",
              "    </tr>\n",
              "    <tr>\n",
              "      <th>554</th>\n",
              "      <td>Cubs</td>\n",
              "      <td>Angels</td>\n",
              "      <td>142</td>\n",
              "      <td>2 hours</td>\n",
              "    </tr>\n",
              "    <tr>\n",
              "      <th>654</th>\n",
              "      <td>Astros</td>\n",
              "      <td>Angels</td>\n",
              "      <td>143</td>\n",
              "      <td>2 hours</td>\n",
              "    </tr>\n",
              "  </tbody>\n",
              "</table>\n",
              "</div>"
            ],
            "text/plain": [
              "     homeTeamName awayTeamName  duration_minutes duration_cat\n",
              "1911      Dodgers       Angels               132      2 hours\n",
              "2365    Athletics       Angels               134      2 hours\n",
              "1977    Athletics       Angels               139      2 hours\n",
              "554          Cubs       Angels               142      2 hours\n",
              "654        Astros       Angels               143      2 hours"
            ]
          },
          "execution_count": 19,
          "metadata": {},
          "output_type": "execute_result"
        }
      ],
      "source": [
        "df1 = df.assign(duration_cat=df[\"duration_minutes\"].apply(duration_category))\n",
        "df1.peek()"
      ]
    }
  ],
  "metadata": {
    "colab": {
      "provenance": [],
      "toc_visible": true
    },
    "kernelspec": {
      "display_name": "Python 3",
      "name": "python3"
    },
    "language_info": {
      "codemirror_mode": {
        "name": "ipython",
        "version": 3
      },
      "file_extension": ".py",
      "mimetype": "text/x-python",
      "name": "python",
      "nbconvert_exporter": "python",
      "pygments_lexer": "ipython3",
      "version": "3.10.12"
    }
  },
  "nbformat": 4,
  "nbformat_minor": 0
}
