{
  "cells": [
    {
      "cell_type": "markdown",
      "metadata": {
        "id": "zO7kvZC4qH0R"
      },
      "source": [
        "# Setup"
      ]
    },
    {
      "cell_type": "code",
      "execution_count": 1,
      "metadata": {
        "id": "Y6QAttCqqMM0"
      },
      "outputs": [],
      "source": [
        "import bigframes.pandas as bpd"
      ]
    },
    {
      "cell_type": "code",
      "execution_count": 2,
      "metadata": {
        "colab": {
          "base_uri": "https://localhost:8080/",
          "height": 296
        },
        "id": "xraJ9RRzsvel",
        "outputId": "6e3308cf-8de0-4b89-9128-4c6ddf3598c0"
      },
      "outputs": [
        {
          "data": {
            "text/html": [
              "Query job 0b90b275-d860-45e0-8b4b-f1565a93deb6 is DONE. 582.8 kB processed. <a target=\"_blank\" href=\"https://console.cloud.google.com/bigquery?project=bigframes-dev&j=bq:US:0b90b275-d860-45e0-8b4b-f1565a93deb6&page=queryresults\">Open Job</a>"
            ],
            "text/plain": [
              "<IPython.core.display.HTML object>"
            ]
          },
          "metadata": {},
          "output_type": "display_data"
        },
        {
          "data": {
            "text/html": [
              "Query job e1320e71-7236-4e6c-ad18-bc4410ac7b10 is DONE. 82.0 kB processed. <a target=\"_blank\" href=\"https://console.cloud.google.com/bigquery?project=bigframes-dev&j=bq:US:e1320e71-7236-4e6c-ad18-bc4410ac7b10&page=queryresults\">Open Job</a>"
            ],
            "text/plain": [
              "<IPython.core.display.HTML object>"
            ]
          },
          "metadata": {},
          "output_type": "display_data"
        },
        {
          "data": {
            "text/html": [
              "<div>\n",
              "<style scoped>\n",
              "    .dataframe tbody tr th:only-of-type {\n",
              "        vertical-align: middle;\n",
              "    }\n",
              "\n",
              "    .dataframe tbody tr th {\n",
              "        vertical-align: top;\n",
              "    }\n",
              "\n",
              "    .dataframe thead th {\n",
              "        text-align: right;\n",
              "    }\n",
              "</style>\n",
              "<table border=\"1\" class=\"dataframe\">\n",
              "  <thead>\n",
              "    <tr style=\"text-align: right;\">\n",
              "      <th></th>\n",
              "      <th>homeTeamName</th>\n",
              "      <th>awayTeamName</th>\n",
              "      <th>duration_minutes</th>\n",
              "    </tr>\n",
              "  </thead>\n",
              "  <tbody>\n",
              "    <tr>\n",
              "      <th>199</th>\n",
              "      <td>Cubs</td>\n",
              "      <td>Padres</td>\n",
              "      <td>193</td>\n",
              "    </tr>\n",
              "    <tr>\n",
              "      <th>264</th>\n",
              "      <td>Braves</td>\n",
              "      <td>Phillies</td>\n",
              "      <td>220</td>\n",
              "    </tr>\n",
              "    <tr>\n",
              "      <th>379</th>\n",
              "      <td>Orioles</td>\n",
              "      <td>Rockies</td>\n",
              "      <td>194</td>\n",
              "    </tr>\n",
              "    <tr>\n",
              "      <th>461</th>\n",
              "      <td>White Sox</td>\n",
              "      <td>Tigers</td>\n",
              "      <td>128</td>\n",
              "    </tr>\n",
              "    <tr>\n",
              "      <th>564</th>\n",
              "      <td>Rangers</td>\n",
              "      <td>Twins</td>\n",
              "      <td>194</td>\n",
              "    </tr>\n",
              "  </tbody>\n",
              "</table>\n",
              "</div>"
            ],
            "text/plain": [
              "    homeTeamName awayTeamName  duration_minutes\n",
              "199         Cubs       Padres               193\n",
              "264       Braves     Phillies               220\n",
              "379      Orioles      Rockies               194\n",
              "461    White Sox       Tigers               128\n",
              "564      Rangers        Twins               194"
            ]
          },
          "execution_count": 2,
          "metadata": {},
          "output_type": "execute_result"
        }
      ],
      "source": [
        "df = bpd.read_gbq(\"bigquery-public-data.baseball.schedules\")[[\"homeTeamName\", \"awayTeamName\", \"duration_minutes\"]]\n",
        "df.peek()"
      ]
    },
    {
      "cell_type": "markdown",
      "metadata": {
        "id": "Pt4mWYE1p5o8"
      },
      "source": [
        "# Self-contained function"
      ]
    },
    {
      "cell_type": "code",
      "execution_count": 3,
      "metadata": {
        "colab": {
          "base_uri": "https://localhost:8080/",
          "height": 52
        },
        "id": "VoCPBJ-ZpyeG",
        "outputId": "19351206-116e-4da2-8ff0-f288b7745b27"
      },
      "outputs": [
        {
          "data": {
            "text/html": [
              "Query job c6275daa-9871-4723-b675-b6ee2aac4420 is DONE. 0 Bytes processed. <a target=\"_blank\" href=\"https://console.cloud.google.com/bigquery?project=bigframes-dev&j=bq:US:c6275daa-9871-4723-b675-b6ee2aac4420&page=queryresults\">Open Job</a>"
            ],
            "text/plain": [
              "<IPython.core.display.HTML object>"
            ]
          },
          "metadata": {},
          "output_type": "display_data"
        },
        {
          "name": "stdout",
          "output_type": "stream",
          "text": [
            "Created cloud function 'projects/bigframes-dev/locations/us-central1/functions/bigframes-045b06b95e48dd89b1cb65e120b8c23a' and BQ remote function 'projects/bigframes-dev/locations/us-central1/functions/bigframes-045b06b95e48dd89b1cb65e120b8c23a'.\n"
          ]
        }
      ],
      "source": [
        "@bpd.remote_function()\n",
        "def duration_category(duration: int) -> str:\n",
        "    if duration < 90:\n",
        "        return \"short\"\n",
        "    elif duration < 180:\n",
        "        return \"medium\"\n",
        "    else:\n",
        "        return \"long\"\n",
        "\n",
        "print(f\"Created cloud function '{duration_category.bigframes_cloud_function}' and BQ remote function '{duration_category.bigframes_cloud_function}'.\")"
      ]
    },
    {
      "cell_type": "code",
      "execution_count": 4,
      "metadata": {
        "colab": {
          "base_uri": "https://localhost:8080/",
          "height": 258
        },
        "id": "oXgDB70Lp5cG",
        "outputId": "c08aade0-8b03-425b-fc26-deafd89275a4"
      },
      "outputs": [
        {
          "data": {
            "text/html": [
              "Query job 31534629-f706-4523-8fb9-ef4200ca984f is DONE. 58.3 kB processed. <a target=\"_blank\" href=\"https://console.cloud.google.com/bigquery?project=bigframes-dev&j=bq:US:31534629-f706-4523-8fb9-ef4200ca984f&page=queryresults\">Open Job</a>"
            ],
            "text/plain": [
              "<IPython.core.display.HTML object>"
            ]
          },
          "metadata": {},
          "output_type": "display_data"
        },
        {
          "data": {
            "text/html": [
              "Query job a8cab878-b5fb-42ce-b0e2-73f3f0a0db0f is DONE. 157.2 kB processed. <a target=\"_blank\" href=\"https://console.cloud.google.com/bigquery?project=bigframes-dev&j=bq:US:a8cab878-b5fb-42ce-b0e2-73f3f0a0db0f&page=queryresults\">Open Job</a>"
            ],
            "text/plain": [
              "<IPython.core.display.HTML object>"
            ]
          },
          "metadata": {},
          "output_type": "display_data"
        },
        {
          "data": {
            "text/html": [
              "Query job e32aa790-a820-462f-9205-e8e425a74edd is DONE. 98.8 kB processed. <a target=\"_blank\" href=\"https://console.cloud.google.com/bigquery?project=bigframes-dev&j=bq:US:e32aa790-a820-462f-9205-e8e425a74edd&page=queryresults\">Open Job</a>"
            ],
            "text/plain": [
              "<IPython.core.display.HTML object>"
            ]
          },
          "metadata": {},
          "output_type": "display_data"
        },
        {
          "data": {
            "text/html": [
              "<div>\n",
              "<style scoped>\n",
              "    .dataframe tbody tr th:only-of-type {\n",
              "        vertical-align: middle;\n",
              "    }\n",
              "\n",
              "    .dataframe tbody tr th {\n",
              "        vertical-align: top;\n",
              "    }\n",
              "\n",
              "    .dataframe thead th {\n",
              "        text-align: right;\n",
              "    }\n",
              "</style>\n",
              "<table border=\"1\" class=\"dataframe\">\n",
              "  <thead>\n",
              "    <tr style=\"text-align: right;\">\n",
              "      <th></th>\n",
              "      <th>homeTeamName</th>\n",
              "      <th>awayTeamName</th>\n",
              "      <th>duration_minutes</th>\n",
              "      <th>duration_cat</th>\n",
              "    </tr>\n",
              "  </thead>\n",
              "  <tbody>\n",
              "    <tr>\n",
              "      <th>1911</th>\n",
              "      <td>Dodgers</td>\n",
              "      <td>Angels</td>\n",
              "      <td>132</td>\n",
              "      <td>medium</td>\n",
              "    </tr>\n",
              "    <tr>\n",
              "      <th>2365</th>\n",
              "      <td>Athletics</td>\n",
              "      <td>Angels</td>\n",
              "      <td>134</td>\n",
              "      <td>medium</td>\n",
              "    </tr>\n",
              "    <tr>\n",
              "      <th>1977</th>\n",
              "      <td>Athletics</td>\n",
              "      <td>Angels</td>\n",
              "      <td>139</td>\n",
              "      <td>medium</td>\n",
              "    </tr>\n",
              "    <tr>\n",
              "      <th>554</th>\n",
              "      <td>Cubs</td>\n",
              "      <td>Angels</td>\n",
              "      <td>142</td>\n",
              "      <td>medium</td>\n",
              "    </tr>\n",
              "    <tr>\n",
              "      <th>654</th>\n",
              "      <td>Astros</td>\n",
              "      <td>Angels</td>\n",
              "      <td>143</td>\n",
              "      <td>medium</td>\n",
              "    </tr>\n",
              "  </tbody>\n",
              "</table>\n",
              "</div>"
            ],
            "text/plain": [
              "     homeTeamName awayTeamName  duration_minutes duration_cat\n",
              "1911      Dodgers       Angels               132       medium\n",
              "2365    Athletics       Angels               134       medium\n",
              "1977    Athletics       Angels               139       medium\n",
              "554          Cubs       Angels               142       medium\n",
              "654        Astros       Angels               143       medium"
            ]
          },
          "execution_count": 4,
          "metadata": {},
          "output_type": "execute_result"
        }
      ],
      "source": [
        "df1 = df.assign(duration_cat=df[\"duration_minutes\"].apply(duration_category))\n",
        "df1.peek()"
      ]
    },
    {
      "cell_type": "markdown",
      "metadata": {
        "id": "zTaNSVmuzEkc"
      },
      "source": [
        "# Function referring to variables outside the function body"
      ]
    },
    {
      "cell_type": "code",
      "execution_count": 5,
      "metadata": {
        "id": "2UEmTbu4znyS"
      },
      "outputs": [],
      "source": [
        "DURATION_CATEGORY_SHORT = \"S\"\n",
        "DURATION_CATEGORY_MEDIUM = \"M\"\n",
        "DURATION_CATEGORY_LONG = \"L\""
      ]
    },
    {
      "cell_type": "code",
      "execution_count": 6,
      "metadata": {
        "colab": {
          "base_uri": "https://localhost:8080/",
          "height": 52
        },
        "id": "G-73kpmrznHn",
        "outputId": "b5923b7c-d412-43bf-9a20-3946154df81a"
      },
      "outputs": [
        {
          "data": {
            "text/html": [
              "Query job 2bf87968-bdae-4492-ab5b-b5619dbb00b4 is DONE. 0 Bytes processed. <a target=\"_blank\" href=\"https://console.cloud.google.com/bigquery?project=bigframes-dev&j=bq:US:2bf87968-bdae-4492-ab5b-b5619dbb00b4&page=queryresults\">Open Job</a>"
            ],
            "text/plain": [
              "<IPython.core.display.HTML object>"
            ]
          },
          "metadata": {},
          "output_type": "display_data"
        },
        {
          "name": "stdout",
          "output_type": "stream",
          "text": [
            "Created cloud function 'projects/bigframes-dev/locations/us-central1/functions/bigframes-181cf9060d0c48416f6fb523bbf50ff0' and BQ remote function 'projects/bigframes-dev/locations/us-central1/functions/bigframes-181cf9060d0c48416f6fb523bbf50ff0'.\n"
          ]
        }
      ],
      "source": [
        "@bpd.remote_function()\n",
        "def duration_category(duration: int) -> str:\n",
        "    if duration < 90:\n",
        "        return DURATION_CATEGORY_SHORT\n",
        "    elif duration < 180:\n",
        "        return DURATION_CATEGORY_MEDIUM\n",
        "    else:\n",
        "        return DURATION_CATEGORY_LONG\n",
        "\n",
        "print(f\"Created cloud function '{duration_category.bigframes_cloud_function}' and BQ remote function '{duration_category.bigframes_cloud_function}'.\")"
      ]
    },
    {
      "cell_type": "code",
      "execution_count": 7,
      "metadata": {
        "colab": {
          "base_uri": "https://localhost:8080/",
          "height": 258
        },
        "id": "DWHKsfF-z7rL",
        "outputId": "c736b57f-1fcb-464a-f725-eb203265ddc2"
      },
      "outputs": [
        {
          "data": {
            "text/html": [
              "Query job ea2361c6-67fb-48cc-97ec-cfeb02b05904 is DONE. 58.3 kB processed. <a target=\"_blank\" href=\"https://console.cloud.google.com/bigquery?project=bigframes-dev&j=bq:US:ea2361c6-67fb-48cc-97ec-cfeb02b05904&page=queryresults\">Open Job</a>"
            ],
            "text/plain": [
              "<IPython.core.display.HTML object>"
            ]
          },
          "metadata": {},
          "output_type": "display_data"
        },
        {
          "data": {
            "text/html": [
              "Query job 1aebcf3f-2fd1-4c49-897a-a7dd9df98a8f is DONE. 147.7 kB processed. <a target=\"_blank\" href=\"https://console.cloud.google.com/bigquery?project=bigframes-dev&j=bq:US:1aebcf3f-2fd1-4c49-897a-a7dd9df98a8f&page=queryresults\">Open Job</a>"
            ],
            "text/plain": [
              "<IPython.core.display.HTML object>"
            ]
          },
          "metadata": {},
          "output_type": "display_data"
        },
        {
          "data": {
            "text/html": [
              "Query job 0fece4c1-e1ce-4344-b1ce-53a0830373b2 is DONE. 89.3 kB processed. <a target=\"_blank\" href=\"https://console.cloud.google.com/bigquery?project=bigframes-dev&j=bq:US:0fece4c1-e1ce-4344-b1ce-53a0830373b2&page=queryresults\">Open Job</a>"
            ],
            "text/plain": [
              "<IPython.core.display.HTML object>"
            ]
          },
          "metadata": {},
          "output_type": "display_data"
        },
        {
          "data": {
            "text/html": [
              "<div>\n",
              "<style scoped>\n",
              "    .dataframe tbody tr th:only-of-type {\n",
              "        vertical-align: middle;\n",
              "    }\n",
              "\n",
              "    .dataframe tbody tr th {\n",
              "        vertical-align: top;\n",
              "    }\n",
              "\n",
              "    .dataframe thead th {\n",
              "        text-align: right;\n",
              "    }\n",
              "</style>\n",
              "<table border=\"1\" class=\"dataframe\">\n",
              "  <thead>\n",
              "    <tr style=\"text-align: right;\">\n",
              "      <th></th>\n",
              "      <th>homeTeamName</th>\n",
              "      <th>awayTeamName</th>\n",
              "      <th>duration_minutes</th>\n",
              "      <th>duration_cat</th>\n",
              "    </tr>\n",
              "  </thead>\n",
              "  <tbody>\n",
              "    <tr>\n",
              "      <th>1911</th>\n",
              "      <td>Dodgers</td>\n",
              "      <td>Angels</td>\n",
              "      <td>132</td>\n",
              "      <td>M</td>\n",
              "    </tr>\n",
              "    <tr>\n",
              "      <th>2365</th>\n",
              "      <td>Athletics</td>\n",
              "      <td>Angels</td>\n",
              "      <td>134</td>\n",
              "      <td>M</td>\n",
              "    </tr>\n",
              "    <tr>\n",
              "      <th>1977</th>\n",
              "      <td>Athletics</td>\n",
              "      <td>Angels</td>\n",
              "      <td>139</td>\n",
              "      <td>M</td>\n",
              "    </tr>\n",
              "    <tr>\n",
              "      <th>554</th>\n",
              "      <td>Cubs</td>\n",
              "      <td>Angels</td>\n",
              "      <td>142</td>\n",
              "      <td>M</td>\n",
              "    </tr>\n",
              "    <tr>\n",
              "      <th>654</th>\n",
              "      <td>Astros</td>\n",
              "      <td>Angels</td>\n",
              "      <td>143</td>\n",
              "      <td>M</td>\n",
              "    </tr>\n",
              "  </tbody>\n",
              "</table>\n",
              "</div>"
            ],
            "text/plain": [
              "     homeTeamName awayTeamName  duration_minutes duration_cat\n",
              "1911      Dodgers       Angels               132            M\n",
              "2365    Athletics       Angels               134            M\n",
              "1977    Athletics       Angels               139            M\n",
              "554          Cubs       Angels               142            M\n",
              "654        Astros       Angels               143            M"
            ]
          },
          "execution_count": 7,
          "metadata": {},
          "output_type": "execute_result"
        }
      ],
      "source": [
        "df1 = df.assign(duration_cat=df[\"duration_minutes\"].apply(duration_category))\n",
        "df1.peek()"
      ]
    },
    {
      "cell_type": "markdown",
      "metadata": {
        "id": "J-1BIasNzKil"
      },
      "source": [
        "# Function referring to imports outside the function body"
      ]
    },
    {
      "cell_type": "code",
      "execution_count": 8,
      "metadata": {
        "id": "zlQfhcW41uzM"
      },
      "outputs": [],
      "source": [
        "import math"
      ]
    },
    {
      "cell_type": "code",
      "execution_count": 9,
      "metadata": {
        "colab": {
          "base_uri": "https://localhost:8080/",
          "height": 52
        },
        "id": "ktADchck2mh4",
        "outputId": "9aed6aea-b361-4414-a0f6-8873e8291090"
      },
      "outputs": [
        {
          "data": {
            "text/html": [
              "Query job 536969ae-8ab6-48a2-bdaa-80b6526df620 is DONE. 0 Bytes processed. <a target=\"_blank\" href=\"https://console.cloud.google.com/bigquery?project=bigframes-dev&j=bq:US:536969ae-8ab6-48a2-bdaa-80b6526df620&page=queryresults\">Open Job</a>"
            ],
            "text/plain": [
              "<IPython.core.display.HTML object>"
            ]
          },
          "metadata": {},
          "output_type": "display_data"
        },
        {
          "name": "stdout",
          "output_type": "stream",
          "text": [
            "Created cloud function 'projects/bigframes-dev/locations/us-central1/functions/bigframes-eceecd96cd0ab34e4405c6ea038cedf3' and BQ remote function 'projects/bigframes-dev/locations/us-central1/functions/bigframes-eceecd96cd0ab34e4405c6ea038cedf3'.\n"
          ]
        }
      ],
      "source": [
        "@bpd.remote_function()\n",
        "def duration_category(duration: int) -> str:\n",
        "    duration_hours = math.ceil(duration / 60)\n",
        "    return f\"{duration_hours}h\"\n",
        "\n",
        "print(f\"Created cloud function '{duration_category.bigframes_cloud_function}' and BQ remote function '{duration_category.bigframes_cloud_function}'.\")"
      ]
    },
    {
      "cell_type": "code",
      "execution_count": 10,
      "metadata": {
        "colab": {
          "base_uri": "https://localhost:8080/",
          "height": 258
        },
        "id": "ywAtZlJU3GoB",
        "outputId": "d3c93a31-3367-4ccf-bdf7-62d5bbff4461"
      },
      "outputs": [
        {
          "data": {
            "text/html": [
              "Query job b6215698-69e9-4c76-8a64-a2ecb14c2ef4 is DONE. 58.3 kB processed. <a target=\"_blank\" href=\"https://console.cloud.google.com/bigquery?project=bigframes-dev&j=bq:US:b6215698-69e9-4c76-8a64-a2ecb14c2ef4&page=queryresults\">Open Job</a>"
            ],
            "text/plain": [
              "<IPython.core.display.HTML object>"
            ]
          },
          "metadata": {},
          "output_type": "display_data"
        },
        {
          "data": {
            "text/html": [
              "Query job eb667af9-e01b-47cf-834d-d000c1808c00 is DONE. 150.1 kB processed. <a target=\"_blank\" href=\"https://console.cloud.google.com/bigquery?project=bigframes-dev&j=bq:US:eb667af9-e01b-47cf-834d-d000c1808c00&page=queryresults\">Open Job</a>"
            ],
            "text/plain": [
              "<IPython.core.display.HTML object>"
            ]
          },
          "metadata": {},
          "output_type": "display_data"
        },
        {
          "data": {
            "text/html": [
              "Query job cbb30337-dd42-4c04-93eb-b16cbe199029 is DONE. 91.7 kB processed. <a target=\"_blank\" href=\"https://console.cloud.google.com/bigquery?project=bigframes-dev&j=bq:US:cbb30337-dd42-4c04-93eb-b16cbe199029&page=queryresults\">Open Job</a>"
            ],
            "text/plain": [
              "<IPython.core.display.HTML object>"
            ]
          },
          "metadata": {},
          "output_type": "display_data"
        },
        {
          "data": {
            "text/html": [
              "<div>\n",
              "<style scoped>\n",
              "    .dataframe tbody tr th:only-of-type {\n",
              "        vertical-align: middle;\n",
              "    }\n",
              "\n",
              "    .dataframe tbody tr th {\n",
              "        vertical-align: top;\n",
              "    }\n",
              "\n",
              "    .dataframe thead th {\n",
              "        text-align: right;\n",
              "    }\n",
              "</style>\n",
              "<table border=\"1\" class=\"dataframe\">\n",
              "  <thead>\n",
              "    <tr style=\"text-align: right;\">\n",
              "      <th></th>\n",
              "      <th>homeTeamName</th>\n",
              "      <th>awayTeamName</th>\n",
              "      <th>duration_minutes</th>\n",
              "      <th>duration_cat</th>\n",
              "    </tr>\n",
              "  </thead>\n",
              "  <tbody>\n",
              "    <tr>\n",
              "      <th>1911</th>\n",
              "      <td>Dodgers</td>\n",
              "      <td>Angels</td>\n",
              "      <td>132</td>\n",
              "      <td>3h</td>\n",
              "    </tr>\n",
              "    <tr>\n",
              "      <th>2365</th>\n",
              "      <td>Athletics</td>\n",
              "      <td>Angels</td>\n",
              "      <td>134</td>\n",
              "      <td>3h</td>\n",
              "    </tr>\n",
              "    <tr>\n",
              "      <th>1977</th>\n",
              "      <td>Athletics</td>\n",
              "      <td>Angels</td>\n",
              "      <td>139</td>\n",
              "      <td>3h</td>\n",
              "    </tr>\n",
              "    <tr>\n",
              "      <th>554</th>\n",
              "      <td>Cubs</td>\n",
              "      <td>Angels</td>\n",
              "      <td>142</td>\n",
              "      <td>3h</td>\n",
              "    </tr>\n",
              "    <tr>\n",
              "      <th>654</th>\n",
              "      <td>Astros</td>\n",
              "      <td>Angels</td>\n",
              "      <td>143</td>\n",
              "      <td>3h</td>\n",
              "    </tr>\n",
              "  </tbody>\n",
              "</table>\n",
              "</div>"
            ],
            "text/plain": [
              "     homeTeamName awayTeamName  duration_minutes duration_cat\n",
              "1911      Dodgers       Angels               132           3h\n",
              "2365    Athletics       Angels               134           3h\n",
              "1977    Athletics       Angels               139           3h\n",
              "554          Cubs       Angels               142           3h\n",
              "654        Astros       Angels               143           3h"
            ]
          },
          "execution_count": 10,
          "metadata": {},
          "output_type": "execute_result"
        }
      ],
      "source": [
        "df1 = df.assign(duration_cat=df[\"duration_minutes\"].apply(duration_category))\n",
        "df1.peek()"
      ]
    },
    {
      "cell_type": "markdown",
      "metadata": {
        "id": "WO0FH7Bm3OxR"
      },
      "source": [
        "# Function referring to another function outside the function body"
      ]
    },
    {
      "cell_type": "code",
      "execution_count": 11,
      "metadata": {
        "id": "0G91fWiF3pKg"
      },
      "outputs": [],
      "source": [
        "import math\n",
        "def get_hour_ceiling(minutes):\n",
        "  return math.ceil(minutes / 60)"
      ]
    },
    {
      "cell_type": "code",
      "execution_count": 12,
      "metadata": {
        "colab": {
          "base_uri": "https://localhost:8080/",
          "height": 52
        },
        "id": "lQrC8T2031EJ",
        "outputId": "420e7c3d-54cb-4814-f973-c7678be61caa"
      },
      "outputs": [
        {
          "data": {
            "text/html": [
              "Query job 50a69db5-f373-401c-a350-1357302ebd5d is DONE. 0 Bytes processed. <a target=\"_blank\" href=\"https://console.cloud.google.com/bigquery?project=bigframes-dev&j=bq:US:50a69db5-f373-401c-a350-1357302ebd5d&page=queryresults\">Open Job</a>"
            ],
            "text/plain": [
              "<IPython.core.display.HTML object>"
            ]
          },
          "metadata": {},
          "output_type": "display_data"
        },
        {
          "name": "stdout",
          "output_type": "stream",
          "text": [
            "Created cloud function 'projects/bigframes-dev/locations/us-central1/functions/bigframes-a0376c3af8d8c33eaf72ea40e2400cee' and BQ remote function 'projects/bigframes-dev/locations/us-central1/functions/bigframes-a0376c3af8d8c33eaf72ea40e2400cee'.\n"
          ]
        }
      ],
      "source": [
        "@bpd.remote_function()\n",
        "def duration_category(duration: int) -> str:\n",
        "    duration_hours = get_hour_ceiling(duration)\n",
        "    return f\"{duration_hours} hrs\"\n",
        "\n",
        "print(f\"Created cloud function '{duration_category.bigframes_cloud_function}' and BQ remote function '{duration_category.bigframes_cloud_function}'.\")"
      ]
    },
    {
      "cell_type": "code",
      "execution_count": 13,
      "metadata": {
        "colab": {
          "base_uri": "https://localhost:8080/",
          "height": 258
        },
        "id": "GVyrihii4EFG",
        "outputId": "e979b649-4ed4-4b82-e814-54180420e3fc"
      },
      "outputs": [
        {
          "data": {
            "text/html": [
              "Query job b873be9d-cd0d-468e-855d-cb38e5bf95c6 is DONE. 58.3 kB processed. <a target=\"_blank\" href=\"https://console.cloud.google.com/bigquery?project=bigframes-dev&j=bq:US:b873be9d-cd0d-468e-855d-cb38e5bf95c6&page=queryresults\">Open Job</a>"
            ],
            "text/plain": [
              "<IPython.core.display.HTML object>"
            ]
          },
          "metadata": {},
          "output_type": "display_data"
        },
        {
          "data": {
            "text/html": [
              "Query job 64adb49a-8b68-4ae2-bb25-9825d44abfdd is DONE. 157.4 kB processed. <a target=\"_blank\" href=\"https://console.cloud.google.com/bigquery?project=bigframes-dev&j=bq:US:64adb49a-8b68-4ae2-bb25-9825d44abfdd&page=queryresults\">Open Job</a>"
            ],
            "text/plain": [
              "<IPython.core.display.HTML object>"
            ]
          },
          "metadata": {},
          "output_type": "display_data"
        },
        {
          "data": {
            "text/html": [
              "Query job 940f591c-24b0-4621-b7eb-a37a34ae4aa1 is DONE. 99.0 kB processed. <a target=\"_blank\" href=\"https://console.cloud.google.com/bigquery?project=bigframes-dev&j=bq:US:940f591c-24b0-4621-b7eb-a37a34ae4aa1&page=queryresults\">Open Job</a>"
            ],
            "text/plain": [
              "<IPython.core.display.HTML object>"
            ]
          },
          "metadata": {},
          "output_type": "display_data"
        },
        {
          "data": {
            "text/html": [
              "<div>\n",
              "<style scoped>\n",
              "    .dataframe tbody tr th:only-of-type {\n",
              "        vertical-align: middle;\n",
              "    }\n",
              "\n",
              "    .dataframe tbody tr th {\n",
              "        vertical-align: top;\n",
              "    }\n",
              "\n",
              "    .dataframe thead th {\n",
              "        text-align: right;\n",
              "    }\n",
              "</style>\n",
              "<table border=\"1\" class=\"dataframe\">\n",
              "  <thead>\n",
              "    <tr style=\"text-align: right;\">\n",
              "      <th></th>\n",
              "      <th>homeTeamName</th>\n",
              "      <th>awayTeamName</th>\n",
              "      <th>duration_minutes</th>\n",
              "      <th>duration_cat</th>\n",
              "    </tr>\n",
              "  </thead>\n",
              "  <tbody>\n",
              "    <tr>\n",
              "      <th>1911</th>\n",
              "      <td>Dodgers</td>\n",
              "      <td>Angels</td>\n",
              "      <td>132</td>\n",
              "      <td>3 hrs</td>\n",
              "    </tr>\n",
              "    <tr>\n",
              "      <th>2365</th>\n",
              "      <td>Athletics</td>\n",
              "      <td>Angels</td>\n",
              "      <td>134</td>\n",
              "      <td>3 hrs</td>\n",
              "    </tr>\n",
              "    <tr>\n",
              "      <th>1977</th>\n",
              "      <td>Athletics</td>\n",
              "      <td>Angels</td>\n",
              "      <td>139</td>\n",
              "      <td>3 hrs</td>\n",
              "    </tr>\n",
              "    <tr>\n",
              "      <th>554</th>\n",
              "      <td>Cubs</td>\n",
              "      <td>Angels</td>\n",
              "      <td>142</td>\n",
              "      <td>3 hrs</td>\n",
              "    </tr>\n",
              "    <tr>\n",
              "      <th>654</th>\n",
              "      <td>Astros</td>\n",
              "      <td>Angels</td>\n",
              "      <td>143</td>\n",
              "      <td>3 hrs</td>\n",
              "    </tr>\n",
              "  </tbody>\n",
              "</table>\n",
              "</div>"
            ],
            "text/plain": [
              "     homeTeamName awayTeamName  duration_minutes duration_cat\n",
              "1911      Dodgers       Angels               132        3 hrs\n",
              "2365    Athletics       Angels               134        3 hrs\n",
              "1977    Athletics       Angels               139        3 hrs\n",
              "554          Cubs       Angels               142        3 hrs\n",
              "654        Astros       Angels               143        3 hrs"
            ]
          },
          "execution_count": 13,
          "metadata": {},
          "output_type": "execute_result"
        }
      ],
      "source": [
        "df1 = df.assign(duration_cat=df[\"duration_minutes\"].apply(duration_category))\n",
        "df1.peek()"
      ]
    },
    {
      "cell_type": "markdown",
      "metadata": {
        "id": "Uu7SOoT94vSP"
      },
      "source": [
        "# Function requiring external packages"
      ]
    },
    {
      "cell_type": "code",
      "execution_count": 14,
      "metadata": {
        "colab": {
          "base_uri": "https://localhost:8080/",
          "height": 34
        },
        "id": "3EUEyNcW41_l",
        "outputId": "2d09d60f-da1a-4eab-86d3-0e62390a360c"
      },
      "outputs": [
        {
          "data": {
            "text/html": [
              "Query job 9ec4a013-5860-4aca-b83e-40e057fc2c38 is DONE. 0 Bytes processed. <a target=\"_blank\" href=\"https://console.cloud.google.com/bigquery?project=bigframes-dev&j=bq:US:9ec4a013-5860-4aca-b83e-40e057fc2c38&page=queryresults\">Open Job</a>"
            ],
            "text/plain": [
              "<IPython.core.display.HTML object>"
            ]
          },
          "metadata": {},
          "output_type": "display_data"
        }
      ],
      "source": [
        "@bpd.remote_function(packages=[\"cryptography\"])\n",
        "def get_hash(input: str) -> str:\n",
        "    from cryptography.fernet import Fernet\n",
        "\n",
        "    # handle missing value\n",
        "    if input is None:\n",
        "        input = \"\"\n",
        "\n",
        "    key = Fernet.generate_key()\n",
        "    f = Fernet(key)\n",
        "    return f.encrypt(input.encode()).decode()"
      ]
    },
    {
      "cell_type": "code",
      "execution_count": 15,
      "metadata": {
        "colab": {
          "base_uri": "https://localhost:8080/",
          "height": 258
        },
        "id": "OX1Hl7bR5uyd",
        "outputId": "8ac3bf28-d16d-438b-b636-74ef2371715f"
      },
      "outputs": [
        {
          "data": {
            "text/html": [
              "Query job 021ed9a0-70fd-4311-a289-f7681cd37096 is DONE. 60.5 kB processed. <a target=\"_blank\" href=\"https://console.cloud.google.com/bigquery?project=bigframes-dev&j=bq:US:021ed9a0-70fd-4311-a289-f7681cd37096&page=queryresults\">Open Job</a>"
            ],
            "text/plain": [
              "<IPython.core.display.HTML object>"
            ]
          },
          "metadata": {},
          "output_type": "display_data"
        },
        {
          "data": {
            "text/html": [
              "Query job 077ed6e4-7c0a-4b32-bc3b-5df6a3ff9145 is DONE. 388.3 kB processed. <a target=\"_blank\" href=\"https://console.cloud.google.com/bigquery?project=bigframes-dev&j=bq:US:077ed6e4-7c0a-4b32-bc3b-5df6a3ff9145&page=queryresults\">Open Job</a>"
            ],
            "text/plain": [
              "<IPython.core.display.HTML object>"
            ]
          },
          "metadata": {},
          "output_type": "display_data"
        },
        {
          "data": {
            "text/html": [
              "Query job 72b50baa-3adb-4690-ba06-53801b7968a7 is DONE. 330.0 kB processed. <a target=\"_blank\" href=\"https://console.cloud.google.com/bigquery?project=bigframes-dev&j=bq:US:72b50baa-3adb-4690-ba06-53801b7968a7&page=queryresults\">Open Job</a>"
            ],
            "text/plain": [
              "<IPython.core.display.HTML object>"
            ]
          },
          "metadata": {},
          "output_type": "display_data"
        },
        {
          "data": {
            "text/html": [
              "<div>\n",
              "<style scoped>\n",
              "    .dataframe tbody tr th:only-of-type {\n",
              "        vertical-align: middle;\n",
              "    }\n",
              "\n",
              "    .dataframe tbody tr th {\n",
              "        vertical-align: top;\n",
              "    }\n",
              "\n",
              "    .dataframe thead th {\n",
              "        text-align: right;\n",
              "    }\n",
              "</style>\n",
              "<table border=\"1\" class=\"dataframe\">\n",
              "  <thead>\n",
              "    <tr style=\"text-align: right;\">\n",
              "      <th></th>\n",
              "      <th>homeTeamName</th>\n",
              "      <th>awayTeamName</th>\n",
              "      <th>duration_minutes</th>\n",
              "      <th>homeTeamNameRedacted</th>\n",
              "    </tr>\n",
              "  </thead>\n",
              "  <tbody>\n",
              "    <tr>\n",
              "      <th>641</th>\n",
              "      <td>American League</td>\n",
              "      <td>National League</td>\n",
              "      <td>185</td>\n",
              "      <td>gAAAAABmfKmeq6tGGNQsVBC34KJZrg9OU_ISAzqE78btoZ...</td>\n",
              "    </tr>\n",
              "    <tr>\n",
              "      <th>1600</th>\n",
              "      <td>Angels</td>\n",
              "      <td>Astros</td>\n",
              "      <td>198</td>\n",
              "      <td>gAAAAABmfKme0eFTc6EBXs9zOXUfapz30rl7lF7YuBk8iG...</td>\n",
              "    </tr>\n",
              "    <tr>\n",
              "      <th>1173</th>\n",
              "      <td>Angels</td>\n",
              "      <td>Astros</td>\n",
              "      <td>158</td>\n",
              "      <td>gAAAAABmfKmeFXUBH798eXRxxhHK8WBShcIfmw1sirwbvv...</td>\n",
              "    </tr>\n",
              "    <tr>\n",
              "      <th>1855</th>\n",
              "      <td>Angels</td>\n",
              "      <td>Astros</td>\n",
              "      <td>297</td>\n",
              "      <td>gAAAAABmfKme3Q8godh2tXXpzkJ6e5x-V1yRy3O23gPwn2...</td>\n",
              "    </tr>\n",
              "    <tr>\n",
              "      <th>557</th>\n",
              "      <td>Angels</td>\n",
              "      <td>Astros</td>\n",
              "      <td>166</td>\n",
              "      <td>gAAAAABmfKme5rxvpWEVwfeetzRVgHHCLVGf4FjtK1ypP2...</td>\n",
              "    </tr>\n",
              "  </tbody>\n",
              "</table>\n",
              "</div>"
            ],
            "text/plain": [
              "         homeTeamName     awayTeamName  duration_minutes  \\\n",
              "641   American League  National League               185   \n",
              "1600           Angels           Astros               198   \n",
              "1173           Angels           Astros               158   \n",
              "1855           Angels           Astros               297   \n",
              "557            Angels           Astros               166   \n",
              "\n",
              "                                   homeTeamNameRedacted  \n",
              "641   gAAAAABmfKmeq6tGGNQsVBC34KJZrg9OU_ISAzqE78btoZ...  \n",
              "1600  gAAAAABmfKme0eFTc6EBXs9zOXUfapz30rl7lF7YuBk8iG...  \n",
              "1173  gAAAAABmfKmeFXUBH798eXRxxhHK8WBShcIfmw1sirwbvv...  \n",
              "1855  gAAAAABmfKme3Q8godh2tXXpzkJ6e5x-V1yRy3O23gPwn2...  \n",
              "557   gAAAAABmfKme5rxvpWEVwfeetzRVgHHCLVGf4FjtK1ypP2...  "
            ]
          },
          "execution_count": 15,
          "metadata": {},
          "output_type": "execute_result"
        }
      ],
      "source": [
        "df1 = df.assign(homeTeamNameRedacted=df[\"homeTeamName\"].apply(get_hash))\n",
        "df1.peek()"
      ]
    }
  ],
  "metadata": {
    "colab": {
      "provenance": [],
      "toc_visible": true
    },
    "kernelspec": {
      "display_name": "Python 3",
      "name": "python3"
    },
    "language_info": {
      "codemirror_mode": {
        "name": "ipython",
        "version": 3
      },
      "file_extension": ".py",
      "mimetype": "text/x-python",
      "name": "python",
      "nbconvert_exporter": "python",
      "pygments_lexer": "ipython3",
      "version": "3.10.12"
    }
  },
  "nbformat": 4,
  "nbformat_minor": 0
}
