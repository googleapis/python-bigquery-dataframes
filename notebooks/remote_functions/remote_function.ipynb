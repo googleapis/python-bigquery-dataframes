{
 "cells": [
  {
   "cell_type": "code",
   "execution_count": 2,
   "id": "3613b1cd",
   "metadata": {},
   "outputs": [],
   "source": [
    "# BigQuery table data on which notebook should be run\n",
    "TABLE='bigquery-public-data.stackoverflow.comments'\n",
    "\n",
    "# Change this up to test the scale, down to run the notebook faster\n",
    "MAX_ROWS=100000"
   ]
  },
  {
   "cell_type": "code",
   "execution_count": 3,
   "id": "f1175247",
   "metadata": {},
   "outputs": [
    {
     "name": "stderr",
     "output_type": "stream",
     "text": [
      "/usr/local/google/home/shobs/code/bigframes1/venv/lib/python3.10/site-packages/google/auth/_default.py:78: UserWarning: Your application has authenticated using end user credentials from Google Cloud SDK without a quota project. You might receive a \"quota exceeded\" or \"API not enabled\" error. See the following page for troubleshooting: https://cloud.google.com/docs/authentication/adc-troubleshooting/user-creds. \n",
      "  warnings.warn(_CLOUD_SDK_CREDENTIALS_WARNING)\n"
     ]
    },
    {
     "name": "stdout",
     "output_type": "stream",
     "text": [
      "CPU times: user 25.4 s, sys: 2.5 s, total: 27.9 s\n",
      "Wall time: 2min 31s\n"
     ]
    },
    {
     "data": {
      "text/html": [
       "<div>\n",
       "<style scoped>\n",
       "    .dataframe tbody tr th:only-of-type {\n",
       "        vertical-align: middle;\n",
       "    }\n",
       "\n",
       "    .dataframe tbody tr th {\n",
       "        vertical-align: top;\n",
       "    }\n",
       "\n",
       "    .dataframe thead th {\n",
       "        text-align: right;\n",
       "    }\n",
       "</style>\n",
       "<table border=\"1\" class=\"dataframe\">\n",
       "  <thead>\n",
       "    <tr style=\"text-align: right;\">\n",
       "      <th></th>\n",
       "      <th>id</th>\n",
       "      <th>text</th>\n",
       "      <th>score</th>\n",
       "    </tr>\n",
       "  </thead>\n",
       "  <tbody>\n",
       "    <tr>\n",
       "      <th>0</th>\n",
       "      <td>10</td>\n",
       "      <td>It will help if you give some details of which...</td>\n",
       "      <td>6</td>\n",
       "    </tr>\n",
       "    <tr>\n",
       "      <th>1</th>\n",
       "      <td>25</td>\n",
       "      <td>infact it does. Look a the first lines of your...</td>\n",
       "      <td>10</td>\n",
       "    </tr>\n",
       "    <tr>\n",
       "      <th>2</th>\n",
       "      <td>27</td>\n",
       "      <td>\"Currently + is implemented using StringBuffer...</td>\n",
       "      <td>7</td>\n",
       "    </tr>\n",
       "    <tr>\n",
       "      <th>3</th>\n",
       "      <td>41</td>\n",
       "      <td>I don't think that's the magic number he was r...</td>\n",
       "      <td>18</td>\n",
       "    </tr>\n",
       "    <tr>\n",
       "      <th>4</th>\n",
       "      <td>59</td>\n",
       "      <td>It's still very useful to know that magic numb...</td>\n",
       "      <td>12</td>\n",
       "    </tr>\n",
       "    <tr>\n",
       "      <th>5</th>\n",
       "      <td>96</td>\n",
       "      <td>This implementation is also nice if you wish t...</td>\n",
       "      <td>9</td>\n",
       "    </tr>\n",
       "    <tr>\n",
       "      <th>6</th>\n",
       "      <td>108</td>\n",
       "      <td>That's not full text searching, it's searching...</td>\n",
       "      <td>6</td>\n",
       "    </tr>\n",
       "    <tr>\n",
       "      <th>7</th>\n",
       "      <td>109</td>\n",
       "      <td>That's not full text searching, it's searching...</td>\n",
       "      <td>6</td>\n",
       "    </tr>\n",
       "    <tr>\n",
       "      <th>8</th>\n",
       "      <td>137</td>\n",
       "      <td>In vim you can open &gt; 1 buffer. :e filename. T...</td>\n",
       "      <td>9</td>\n",
       "    </tr>\n",
       "    <tr>\n",
       "      <th>9</th>\n",
       "      <td>154</td>\n",
       "      <td>Sure, but what about a solution using O(1) mem...</td>\n",
       "      <td>8</td>\n",
       "    </tr>\n",
       "  </tbody>\n",
       "</table>\n",
       "</div>"
      ],
      "text/plain": [
       "    id                                               text  score\n",
       "0   10  It will help if you give some details of which...      6\n",
       "1   25  infact it does. Look a the first lines of your...     10\n",
       "2   27  \"Currently + is implemented using StringBuffer...      7\n",
       "3   41  I don't think that's the magic number he was r...     18\n",
       "4   59  It's still very useful to know that magic numb...     12\n",
       "5   96  This implementation is also nice if you wish t...      9\n",
       "6  108  That's not full text searching, it's searching...      6\n",
       "7  109  That's not full text searching, it's searching...      6\n",
       "8  137  In vim you can open > 1 buffer. :e filename. T...      9\n",
       "9  154  Sure, but what about a solution using O(1) mem...      8"
      ]
     },
     "execution_count": 3,
     "metadata": {},
     "output_type": "execute_result"
    }
   ],
   "source": [
    "%%time\n",
    "\n",
    "##############################\n",
    "#       Pandas World         #\n",
    "##############################\n",
    "\n",
    "import pandas as pd\n",
    "df = pd.read_gbq(TABLE, max_results=MAX_ROWS)[['id', 'text', 'score']]\n",
    "df.head(10)"
   ]
  },
  {
   "cell_type": "code",
   "execution_count": 4,
   "id": "fd8a04a3",
   "metadata": {},
   "outputs": [],
   "source": [
    "# User defined function\n",
    "# https://www.codespeedy.com/find-nth-prime-number-in-python/\n",
    "def nth_prime(n):\n",
    "    prime_numbers = [2,3]\n",
    "    i=3\n",
    "    if(0<n<=2):\n",
    "        return prime_numbers[n-1]\n",
    "    elif(n>2):\n",
    "        while (True):\n",
    "            i+=1\n",
    "            status = True\n",
    "            for j in range(2,int(i/2)+1):\n",
    "                if(i%j==0):\n",
    "                    status = False\n",
    "                    break\n",
    "            if(status==True):\n",
    "                prime_numbers.append(i)\n",
    "            if(len(prime_numbers)==n):\n",
    "                break\n",
    "        return prime_numbers[n-1]\n",
    "    else:\n",
    "        return -1"
   ]
  },
  {
   "cell_type": "code",
   "execution_count": 5,
   "id": "2b5e4568",
   "metadata": {},
   "outputs": [
    {
     "name": "stdout",
     "output_type": "stream",
     "text": [
      "CPU times: user 4.22 s, sys: 18.2 ms, total: 4.24 s\n",
      "Wall time: 4.26 s\n"
     ]
    },
    {
     "data": {
      "text/html": [
       "<div>\n",
       "<style scoped>\n",
       "    .dataframe tbody tr th:only-of-type {\n",
       "        vertical-align: middle;\n",
       "    }\n",
       "\n",
       "    .dataframe tbody tr th {\n",
       "        vertical-align: top;\n",
       "    }\n",
       "\n",
       "    .dataframe thead th {\n",
       "        text-align: right;\n",
       "    }\n",
       "</style>\n",
       "<table border=\"1\" class=\"dataframe\">\n",
       "  <thead>\n",
       "    <tr style=\"text-align: right;\">\n",
       "      <th></th>\n",
       "      <th>id</th>\n",
       "      <th>text</th>\n",
       "      <th>score</th>\n",
       "      <th>n_prime</th>\n",
       "    </tr>\n",
       "  </thead>\n",
       "  <tbody>\n",
       "    <tr>\n",
       "      <th>0</th>\n",
       "      <td>10</td>\n",
       "      <td>It will help if you give some details of which...</td>\n",
       "      <td>6</td>\n",
       "      <td>13</td>\n",
       "    </tr>\n",
       "    <tr>\n",
       "      <th>1</th>\n",
       "      <td>25</td>\n",
       "      <td>infact it does. Look a the first lines of your...</td>\n",
       "      <td>10</td>\n",
       "      <td>29</td>\n",
       "    </tr>\n",
       "    <tr>\n",
       "      <th>2</th>\n",
       "      <td>27</td>\n",
       "      <td>\"Currently + is implemented using StringBuffer...</td>\n",
       "      <td>7</td>\n",
       "      <td>17</td>\n",
       "    </tr>\n",
       "    <tr>\n",
       "      <th>3</th>\n",
       "      <td>41</td>\n",
       "      <td>I don't think that's the magic number he was r...</td>\n",
       "      <td>18</td>\n",
       "      <td>61</td>\n",
       "    </tr>\n",
       "    <tr>\n",
       "      <th>4</th>\n",
       "      <td>59</td>\n",
       "      <td>It's still very useful to know that magic numb...</td>\n",
       "      <td>12</td>\n",
       "      <td>37</td>\n",
       "    </tr>\n",
       "    <tr>\n",
       "      <th>5</th>\n",
       "      <td>96</td>\n",
       "      <td>This implementation is also nice if you wish t...</td>\n",
       "      <td>9</td>\n",
       "      <td>23</td>\n",
       "    </tr>\n",
       "    <tr>\n",
       "      <th>6</th>\n",
       "      <td>108</td>\n",
       "      <td>That's not full text searching, it's searching...</td>\n",
       "      <td>6</td>\n",
       "      <td>13</td>\n",
       "    </tr>\n",
       "    <tr>\n",
       "      <th>7</th>\n",
       "      <td>109</td>\n",
       "      <td>That's not full text searching, it's searching...</td>\n",
       "      <td>6</td>\n",
       "      <td>13</td>\n",
       "    </tr>\n",
       "    <tr>\n",
       "      <th>8</th>\n",
       "      <td>137</td>\n",
       "      <td>In vim you can open &gt; 1 buffer. :e filename. T...</td>\n",
       "      <td>9</td>\n",
       "      <td>23</td>\n",
       "    </tr>\n",
       "    <tr>\n",
       "      <th>9</th>\n",
       "      <td>154</td>\n",
       "      <td>Sure, but what about a solution using O(1) mem...</td>\n",
       "      <td>8</td>\n",
       "      <td>19</td>\n",
       "    </tr>\n",
       "  </tbody>\n",
       "</table>\n",
       "</div>"
      ],
      "text/plain": [
       "    id                                               text  score  n_prime\n",
       "0   10  It will help if you give some details of which...      6       13\n",
       "1   25  infact it does. Look a the first lines of your...     10       29\n",
       "2   27  \"Currently + is implemented using StringBuffer...      7       17\n",
       "3   41  I don't think that's the magic number he was r...     18       61\n",
       "4   59  It's still very useful to know that magic numb...     12       37\n",
       "5   96  This implementation is also nice if you wish t...      9       23\n",
       "6  108  That's not full text searching, it's searching...      6       13\n",
       "7  109  That's not full text searching, it's searching...      6       13\n",
       "8  137  In vim you can open > 1 buffer. :e filename. T...      9       23\n",
       "9  154  Sure, but what about a solution using O(1) mem...      8       19"
      ]
     },
     "execution_count": 5,
     "metadata": {},
     "output_type": "execute_result"
    }
   ],
   "source": [
    "%%time\n",
    "\n",
    "df = df.assign(n_prime=df['score'].apply(nth_prime))\n",
    "df.head(10)"
   ]
  },
  {
   "cell_type": "code",
   "execution_count": 6,
   "id": "b81feaef",
   "metadata": {},
   "outputs": [
    {
     "name": "stderr",
     "output_type": "stream",
     "text": [
      "/usr/local/google/home/shobs/code/bigframes1/venv/lib/python3.10/site-packages/google/auth/_default.py:78: UserWarning: Your application has authenticated using end user credentials from Google Cloud SDK without a quota project. You might receive a \"quota exceeded\" or \"API not enabled\" error. See the following page for troubleshooting: https://cloud.google.com/docs/authentication/adc-troubleshooting/user-creds. \n",
      "  warnings.warn(_CLOUD_SDK_CREDENTIALS_WARNING)\n",
      "/usr/local/google/home/shobs/code/bigframes1/venv/lib/python3.10/site-packages/google/auth/_default.py:78: UserWarning: Your application has authenticated using end user credentials from Google Cloud SDK without a quota project. You might receive a \"quota exceeded\" or \"API not enabled\" error. See the following page for troubleshooting: https://cloud.google.com/docs/authentication/adc-troubleshooting/user-creds. \n",
      "  warnings.warn(_CLOUD_SDK_CREDENTIALS_WARNING)\n"
     ]
    },
    {
     "data": {
      "application/vnd.jupyter.widget-view+json": {
       "model_id": "2b1c9d671db14d2ca3be6a0b0c698430",
       "version_major": 2,
       "version_minor": 0
      },
      "text/plain": [
       "HTML(value='Query job 6b0a39de-40a0-4dd4-be88-248bd8ebcd77 is RUNNING. <a target=\"_blank\" href=\"https://consol…"
      ]
     },
     "metadata": {},
     "output_type": "display_data"
    },
    {
     "name": "stdout",
     "output_type": "stream",
     "text": [
      "CPU times: user 695 ms, sys: 94.3 ms, total: 790 ms\n",
      "Wall time: 20.3 s\n"
     ]
    },
    {
     "data": {
      "application/vnd.jupyter.widget-view+json": {
       "model_id": "d9ae255cc10843e882fef1d2943be3fb",
       "version_major": 2,
       "version_minor": 0
      },
      "text/plain": [
       "HTML(value='Query job 635f0a21-4f43-4159-bdf2-f167b14e60cc is RUNNING. <a target=\"_blank\" href=\"https://consol…"
      ]
     },
     "metadata": {},
     "output_type": "display_data"
    },
    {
     "data": {
      "application/vnd.jupyter.widget-view+json": {
       "model_id": "0052d103678f47ffb3777ec3ac4e30f7",
       "version_major": 2,
       "version_minor": 0
      },
      "text/plain": [
       "HTML(value='Query job ecaf079e-76ef-47bb-828d-a27e9552b597 is RUNNING. <a target=\"_blank\" href=\"https://consol…"
      ]
     },
     "metadata": {},
     "output_type": "display_data"
    },
    {
     "data": {
      "application/vnd.jupyter.widget-view+json": {
       "model_id": "09706700e8dd4cf39f65a0d58371c1eb",
       "version_major": 2,
       "version_minor": 0
      },
      "text/plain": [
       "HTML(value='Query job 4c1d9d3e-be25-4818-b74d-6214164d99ab is DONE. 0 Bytes processed. <a target=\"_blank\" href…"
      ]
     },
     "metadata": {},
     "output_type": "display_data"
    },
    {
     "data": {
      "text/html": [
       "<div>\n",
       "<style scoped>\n",
       "    .dataframe tbody tr th:only-of-type {\n",
       "        vertical-align: middle;\n",
       "    }\n",
       "\n",
       "    .dataframe tbody tr th {\n",
       "        vertical-align: top;\n",
       "    }\n",
       "\n",
       "    .dataframe thead th {\n",
       "        text-align: right;\n",
       "    }\n",
       "</style>\n",
       "<table border=\"1\" class=\"dataframe\">\n",
       "  <thead>\n",
       "    <tr style=\"text-align: right;\">\n",
       "      <th></th>\n",
       "      <th>id</th>\n",
       "      <th>text</th>\n",
       "      <th>score</th>\n",
       "    </tr>\n",
       "  </thead>\n",
       "  <tbody>\n",
       "    <tr>\n",
       "      <th>0</th>\n",
       "      <td>11012908</td>\n",
       "      <td>you're welcome! according to the docs it shoul...</td>\n",
       "      <td>0</td>\n",
       "    </tr>\n",
       "    <tr>\n",
       "      <th>1</th>\n",
       "      <td>11013760</td>\n",
       "      <td>You *should* be concerned with the disk being ...</td>\n",
       "      <td>0</td>\n",
       "    </tr>\n",
       "    <tr>\n",
       "      <th>2</th>\n",
       "      <td>11013784</td>\n",
       "      <td>have you looked at `Integrate` or `NIntegrate`?</td>\n",
       "      <td>0</td>\n",
       "    </tr>\n",
       "    <tr>\n",
       "      <th>3</th>\n",
       "      <td>11015512</td>\n",
       "      <td>sorry, is a typo. The variable name is dist. (...</td>\n",
       "      <td>0</td>\n",
       "    </tr>\n",
       "    <tr>\n",
       "      <th>4</th>\n",
       "      <td>11016238</td>\n",
       "      <td>Pfff, I'm having trouble with that formula too...</td>\n",
       "      <td>0</td>\n",
       "    </tr>\n",
       "    <tr>\n",
       "      <th>5</th>\n",
       "      <td>11016276</td>\n",
       "      <td>Thanks thinksteep! Does this mean that by usin...</td>\n",
       "      <td>0</td>\n",
       "    </tr>\n",
       "    <tr>\n",
       "      <th>6</th>\n",
       "      <td>11016551</td>\n",
       "      <td>Jason, thanks for the reply.  I've been workin...</td>\n",
       "      <td>0</td>\n",
       "    </tr>\n",
       "    <tr>\n",
       "      <th>7</th>\n",
       "      <td>11017973</td>\n",
       "      <td>I assume an `off` of 0.5 would put be exactly ...</td>\n",
       "      <td>0</td>\n",
       "    </tr>\n",
       "    <tr>\n",
       "      <th>8</th>\n",
       "      <td>11018225</td>\n",
       "      <td>Thank you very much.  I do worry too much abou...</td>\n",
       "      <td>0</td>\n",
       "    </tr>\n",
       "    <tr>\n",
       "      <th>9</th>\n",
       "      <td>11018370</td>\n",
       "      <td>@IanClelland, I edited my question a bit. The ...</td>\n",
       "      <td>0</td>\n",
       "    </tr>\n",
       "  </tbody>\n",
       "</table>\n",
       "<p>10 rows × 3 columns</p>\n",
       "</div>[10 rows x 3 columns in total]"
      ],
      "text/plain": [
       "         id                                               text  score\n",
       "0  11012908  you're welcome! according to the docs it shoul...      0\n",
       "1  11013760  You *should* be concerned with the disk being ...      0\n",
       "2  11013784    have you looked at `Integrate` or `NIntegrate`?      0\n",
       "3  11015512  sorry, is a typo. The variable name is dist. (...      0\n",
       "4  11016238  Pfff, I'm having trouble with that formula too...      0\n",
       "5  11016276  Thanks thinksteep! Does this mean that by usin...      0\n",
       "6  11016551  Jason, thanks for the reply.  I've been workin...      0\n",
       "7  11017973  I assume an `off` of 0.5 would put be exactly ...      0\n",
       "8  11018225  Thank you very much.  I do worry too much abou...      0\n",
       "9  11018370  @IanClelland, I edited my question a bit. The ...      0\n",
       "\n",
       "[10 rows x 3 columns]"
      ]
     },
     "execution_count": 6,
     "metadata": {},
     "output_type": "execute_result"
    }
   ],
   "source": [
    "%%time\n",
    "\n",
    "##############################\n",
    "#     BigQuery DataFrames     #\n",
    "##############################\n",
    "\n",
    "import bigframes.pandas as pd\n",
    "\n",
    "df = pd.read_gbq(TABLE).head(MAX_ROWS)[['id', 'text', 'score']]\n",
    "df.head(10)"
   ]
  },
  {
   "cell_type": "code",
   "execution_count": 7,
   "id": "55ed241e",
   "metadata": {},
   "outputs": [
    {
     "name": "stdout",
     "output_type": "stream",
     "text": [
      "Help on function remote_function in module bigframes.pandas:\n",
      "\n",
      "remote_function(input_types: 'List[type]', output_type: 'type', dataset: 'Optional[str]' = None, bigquery_connection: 'Optional[str]' = None, reuse: 'bool' = True)\n",
      "    Decorator to turn a user defined function into a BigQuery remote function.\n",
      "    \n",
      "    .. note::\n",
      "        Please make sure following is setup before using this API:\n",
      "    \n",
      "    1. Have the below APIs enabled for your project:\n",
      "    \n",
      "        * BigQuery Connection API\n",
      "        * Cloud Functions API\n",
      "        * Cloud Run API\n",
      "        * Cloud Build API\n",
      "        * Artifact Registry API\n",
      "        * Cloud Resource Manager API\n",
      "    \n",
      "       This can be done from the cloud console (change `PROJECT_ID` to yours):\n",
      "       https://console.cloud.google.com/apis/enableflow?apiid=bigqueryconnection.googleapis.com,cloudfunctions.googleapis.com,run.googleapis.com,cloudbuild.googleapis.com,artifactregistry.googleapis.com,cloudresourcemanager.googleapis.com&project=PROJECT_ID\n",
      "    \n",
      "       Or from the gcloud CLI:\n",
      "    \n",
      "       `$ gcloud services enable bigqueryconnection.googleapis.com cloudfunctions.googleapis.com run.googleapis.com cloudbuild.googleapis.com artifactregistry.googleapis.com cloudresourcemanager.googleapis.com`\n",
      "    \n",
      "    2. Have following IAM roles enabled for you:\n",
      "    \n",
      "        * BigQuery Data Editor (roles/bigquery.dataEditor)\n",
      "        * BigQuery Connection Admin (roles/bigquery.connectionAdmin)\n",
      "        * Cloud Functions Developer (roles/cloudfunctions.developer)\n",
      "        * Service Account User (roles/iam.serviceAccountUser)\n",
      "        * Storage Object Viewer (roles/storage.objectViewer)\n",
      "        * Project IAM Admin (roles/resourcemanager.projectIamAdmin) (Only required if the bigquery connection being used is not pre-created and is created dynamically with user credentials.)\n",
      "    \n",
      "    3. Either the user has setIamPolicy privilege on the project, or a BigQuery connection is pre-created with necessary IAM role set:\n",
      "    \n",
      "        1. To create a connection, follow https://cloud.google.com/bigquery/docs/reference/standard-sql/remote-functions#create_a_connection\n",
      "        2. To set up IAM, follow https://cloud.google.com/bigquery/docs/reference/standard-sql/remote-functions#grant_permission_on_function\n",
      "    \n",
      "           Alternatively, the IAM could also be setup via the gcloud CLI:\n",
      "    \n",
      "           `$ gcloud projects add-iam-policy-binding PROJECT_ID --member=\"serviceAccount:CONNECTION_SERVICE_ACCOUNT_ID\" --role=\"roles/run.invoker\"`.\n",
      "    \n",
      "    Args:\n",
      "        input_types (list(type)):\n",
      "            List of input data types in the user defined function.\n",
      "        output_type (type):\n",
      "            Data type of the output in the user defined function.\n",
      "        dataset (str, Optional):\n",
      "            Dataset in which to create a BigQuery remote function. It should be in\n",
      "            `<project_id>.<dataset_name>` or `<dataset_name>` format. If this\n",
      "            parameter is not provided then session dataset id is used.\n",
      "        bigquery_connection (str, Optional):\n",
      "            Name of the BigQuery connection. You should either have the\n",
      "            connection already created in the `location` you have chosen, or\n",
      "            you should have the Project IAM Admin role to enable the service\n",
      "            to create the connection for you if you need it.If this parameter is\n",
      "            not provided then the BigQuery connection from the session is used.\n",
      "        reuse (bool, Optional):\n",
      "            Reuse the remote function if already exists.\n",
      "            `True` by default, which will result in reusing an existing remote\n",
      "            function (if any) that was previously created for the same udf.\n",
      "            Setting it to false would force creating a unique remote function.\n",
      "            If the required remote function does not exist then it would be\n",
      "            created irrespective of this param.\n",
      "    Returns:\n",
      "        callable: A remote function object pointing to the cloud assets created\n",
      "        in the background to support the remote execution. The cloud assets can be\n",
      "        located through the following properties set in the object:\n",
      "    \n",
      "        `bigframes_cloud_function` - The google cloud function deployed for the user defined code.\n",
      "    \n",
      "        `bigframes_remote_function` - The bigquery remote function capable of calling into `bigframes_cloud_function`.\n",
      "\n"
     ]
    }
   ],
   "source": [
    "# Tell the user what needs to be done offline before using BigQuery DataFrame\n",
    "# remote functions\n",
    "help(pd.remote_function)"
   ]
  },
  {
   "cell_type": "code",
   "execution_count": 8,
   "id": "c9a8d03d",
   "metadata": {},
   "outputs": [],
   "source": [
    "# BigQuery DataFrames user is a data scientist and may not have privileges to\n",
    "# create a BQ connector and set it up for invoking a cloud function. They\n",
    "# should get such a connector created from their cloud admin and use it with\n",
    "# BigQuery DataFrames remote functions. If the provided connection name does not\n",
    "# exist, BigQuery DataFrames will try to create it on the fly assuming the user\n",
    "# has sufficient privileges.\n",
    "bq_connection_name = 'bigframes-rf-conn'"
   ]
  },
  {
   "cell_type": "code",
   "execution_count": 9,
   "id": "fbc27f81",
   "metadata": {},
   "outputs": [
    {
     "name": "stderr",
     "output_type": "stream",
     "text": [
      "[INFO][2023-08-18 21:23:29,687][bigframes.remote_function] Creating new cloud function: gcloud functions deploy bigframes-b0feb1fbaf8188b64d7e70118d93c5d4 --gen2 --runtime=python310 --project=bigframes-dev --region=us-central1 --source=/tmp/tmpl2ewfnue --entry-point=udf_http --trigger-http --no-allow-unauthenticated\n",
      "[INFO][2023-08-18 21:24:43,689][bigframes.remote_function] Successfully created cloud function bigframes-b0feb1fbaf8188b64d7e70118d93c5d4 with uri (https://bigframes-b0feb1fbaf8188b64d7e70118d93c5d4-7krlje3eoq-uc.a.run.app)\n",
      "[INFO][2023-08-18 21:24:57,348][bigframes.remote_function] Connector bigframes-rf-conn already exists\n",
      "[INFO][2023-08-18 21:24:57,351][bigframes.remote_function] Creating BQ remote function: \n",
      "            CREATE OR REPLACE FUNCTION `bigframes-dev.bigframes_temp_us`.bigframes_b0feb1fbaf8188b64d7e70118d93c5d4(n INT64)\n",
      "            RETURNS INT64\n",
      "            REMOTE WITH CONNECTION `bigframes-dev.us.bigframes-rf-conn`\n",
      "            OPTIONS (\n",
      "              endpoint = \"https://bigframes-b0feb1fbaf8188b64d7e70118d93c5d4-7krlje3eoq-uc.a.run.app\"\n",
      "            )\n",
      "[INFO][2023-08-18 21:24:58,300][bigframes.remote_function] Created remote function bigframes-dev.bigframes_temp_us.bigframes_b0feb1fbaf8188b64d7e70118d93c5d4\n"
     ]
    },
    {
     "name": "stdout",
     "output_type": "stream",
     "text": [
      "\n",
      "Wall time: 89.0601 s\n"
     ]
    }
   ],
   "source": [
    "from time import perf_counter\n",
    "start = perf_counter()\n",
    "#-------------------------------------------------------------------------------------\n",
    "\n",
    "# User defined function\n",
    "# https://www.codespeedy.com/find-nth-prime-number-in-python/\n",
    "@pd.remote_function([int], int, bigquery_connection=bq_connection_name)\n",
    "def nth_prime(n):\n",
    "    prime_numbers = [2,3]\n",
    "    i=3\n",
    "    if(0<n<=2):\n",
    "        return prime_numbers[n-1]\n",
    "    elif(n>2):\n",
    "        while (True):\n",
    "            i+=1\n",
    "            status = True\n",
    "            for j in range(2,int(i/2)+1):\n",
    "                if(i%j==0):\n",
    "                    status = False\n",
    "                    break\n",
    "            if(status==True):\n",
    "                prime_numbers.append(i)\n",
    "            if(len(prime_numbers)==n):\n",
    "                break\n",
    "        return prime_numbers[n-1]\n",
    "    else:\n",
    "        return -1\n",
    "\n",
    "#-------------------------------------------------------------------------------------\n",
    "print(f\"\\nWall time: {(perf_counter()-start):.4f} s\")"
   ]
  },
  {
   "cell_type": "code",
   "execution_count": 10,
   "id": "c1c9355f",
   "metadata": {},
   "outputs": [
    {
     "name": "stdout",
     "output_type": "stream",
     "text": [
      "CPU times: user 16.8 ms, sys: 61 µs, total: 16.8 ms\n",
      "Wall time: 17 ms\n"
     ]
    },
    {
     "data": {
      "application/vnd.jupyter.widget-view+json": {
       "model_id": "2f840ad27c514ed19c759a004b32de33",
       "version_major": 2,
       "version_minor": 0
      },
      "text/plain": [
       "HTML(value='Query job 0f421233-9d02-4746-bb39-86a3b0880aba is RUNNING. <a target=\"_blank\" href=\"https://consol…"
      ]
     },
     "metadata": {},
     "output_type": "display_data"
    },
    {
     "data": {
      "application/vnd.jupyter.widget-view+json": {
       "model_id": "adffcff769be46b1bc6e50f9622cdd30",
       "version_major": 2,
       "version_minor": 0
      },
      "text/plain": [
       "HTML(value='Query job 4f8d5734-8070-4630-8a59-c05a31d60476 is RUNNING. <a target=\"_blank\" href=\"https://consol…"
      ]
     },
     "metadata": {},
     "output_type": "display_data"
    },
    {
     "data": {
      "application/vnd.jupyter.widget-view+json": {
       "model_id": "116d6ef3d6b247d3aaafef5fe6b970de",
       "version_major": 2,
       "version_minor": 0
      },
      "text/plain": [
       "HTML(value='Query job ec057f9e-726b-44f0-a5c0-24c05c7ecfeb is RUNNING. <a target=\"_blank\" href=\"https://consol…"
      ]
     },
     "metadata": {},
     "output_type": "display_data"
    },
    {
     "data": {
      "text/html": [
       "<div>\n",
       "<style scoped>\n",
       "    .dataframe tbody tr th:only-of-type {\n",
       "        vertical-align: middle;\n",
       "    }\n",
       "\n",
       "    .dataframe tbody tr th {\n",
       "        vertical-align: top;\n",
       "    }\n",
       "\n",
       "    .dataframe thead th {\n",
       "        text-align: right;\n",
       "    }\n",
       "</style>\n",
       "<table border=\"1\" class=\"dataframe\">\n",
       "  <thead>\n",
       "    <tr style=\"text-align: right;\">\n",
       "      <th></th>\n",
       "      <th>id</th>\n",
       "      <th>text</th>\n",
       "      <th>score</th>\n",
       "      <th>n_prime</th>\n",
       "    </tr>\n",
       "  </thead>\n",
       "  <tbody>\n",
       "    <tr>\n",
       "      <th>0</th>\n",
       "      <td>11012908</td>\n",
       "      <td>you're welcome! according to the docs it shoul...</td>\n",
       "      <td>0</td>\n",
       "      <td>-1</td>\n",
       "    </tr>\n",
       "    <tr>\n",
       "      <th>1</th>\n",
       "      <td>11013760</td>\n",
       "      <td>You *should* be concerned with the disk being ...</td>\n",
       "      <td>0</td>\n",
       "      <td>-1</td>\n",
       "    </tr>\n",
       "    <tr>\n",
       "      <th>2</th>\n",
       "      <td>11013784</td>\n",
       "      <td>have you looked at `Integrate` or `NIntegrate`?</td>\n",
       "      <td>0</td>\n",
       "      <td>-1</td>\n",
       "    </tr>\n",
       "    <tr>\n",
       "      <th>3</th>\n",
       "      <td>11015512</td>\n",
       "      <td>sorry, is a typo. The variable name is dist. (...</td>\n",
       "      <td>0</td>\n",
       "      <td>-1</td>\n",
       "    </tr>\n",
       "    <tr>\n",
       "      <th>4</th>\n",
       "      <td>11016238</td>\n",
       "      <td>Pfff, I'm having trouble with that formula too...</td>\n",
       "      <td>0</td>\n",
       "      <td>-1</td>\n",
       "    </tr>\n",
       "    <tr>\n",
       "      <th>5</th>\n",
       "      <td>11016276</td>\n",
       "      <td>Thanks thinksteep! Does this mean that by usin...</td>\n",
       "      <td>0</td>\n",
       "      <td>-1</td>\n",
       "    </tr>\n",
       "    <tr>\n",
       "      <th>6</th>\n",
       "      <td>11016551</td>\n",
       "      <td>Jason, thanks for the reply.  I've been workin...</td>\n",
       "      <td>0</td>\n",
       "      <td>-1</td>\n",
       "    </tr>\n",
       "    <tr>\n",
       "      <th>7</th>\n",
       "      <td>11017973</td>\n",
       "      <td>I assume an `off` of 0.5 would put be exactly ...</td>\n",
       "      <td>0</td>\n",
       "      <td>-1</td>\n",
       "    </tr>\n",
       "    <tr>\n",
       "      <th>8</th>\n",
       "      <td>11018225</td>\n",
       "      <td>Thank you very much.  I do worry too much abou...</td>\n",
       "      <td>0</td>\n",
       "      <td>-1</td>\n",
       "    </tr>\n",
       "    <tr>\n",
       "      <th>9</th>\n",
       "      <td>11018370</td>\n",
       "      <td>@IanClelland, I edited my question a bit. The ...</td>\n",
       "      <td>0</td>\n",
       "      <td>-1</td>\n",
       "    </tr>\n",
       "  </tbody>\n",
       "</table>\n",
       "<p>10 rows × 4 columns</p>\n",
       "</div>[10 rows x 4 columns in total]"
      ],
      "text/plain": [
       "         id                                               text  score  n_prime\n",
       "0  11012908  you're welcome! according to the docs it shoul...      0       -1\n",
       "1  11013760  You *should* be concerned with the disk being ...      0       -1\n",
       "2  11013784    have you looked at `Integrate` or `NIntegrate`?      0       -1\n",
       "3  11015512  sorry, is a typo. The variable name is dist. (...      0       -1\n",
       "4  11016238  Pfff, I'm having trouble with that formula too...      0       -1\n",
       "5  11016276  Thanks thinksteep! Does this mean that by usin...      0       -1\n",
       "6  11016551  Jason, thanks for the reply.  I've been workin...      0       -1\n",
       "7  11017973  I assume an `off` of 0.5 would put be exactly ...      0       -1\n",
       "8  11018225  Thank you very much.  I do worry too much abou...      0       -1\n",
       "9  11018370  @IanClelland, I edited my question a bit. The ...      0       -1\n",
       "\n",
       "[10 rows x 4 columns]"
      ]
     },
     "execution_count": 10,
     "metadata": {},
     "output_type": "execute_result"
    }
   ],
   "source": [
    "%%time\n",
    "\n",
    "# Let's apply the function to the dataframe\n",
    "df = df.assign(n_prime=df['score'].apply(nth_prime))\n",
    "df.head(10)"
   ]
  },
  {
   "cell_type": "code",
   "execution_count": 11,
   "id": "2701cb81",
   "metadata": {},
   "outputs": [
    {
     "name": "stdout",
     "output_type": "stream",
     "text": [
      "bigframes-dev.bigframes_temp_us.bigframes_b0feb1fbaf8188b64d7e70118d93c5d4\n",
      "projects/bigframes-dev/locations/us-central1/functions/bigframes-b0feb1fbaf8188b64d7e70118d93c5d4\n"
     ]
    }
   ],
   "source": [
    "# We can see the path to the BQ remote function and the google cloud function\n",
    "# that was created under the hood\n",
    "print(nth_prime.bigframes_remote_function)\n",
    "print(nth_prime.bigframes_cloud_function)"
   ]
  },
  {
   "cell_type": "code",
   "execution_count": 12,
   "id": "920fa18e",
   "metadata": {},
   "outputs": [
    {
     "name": "stdout",
     "output_type": "stream",
     "text": [
      "Help on function read_gbq_function in module bigframes.pandas:\n",
      "\n",
      "read_gbq_function(function_name: 'str')\n",
      "    Loads a BigQuery function from BigQuery.\n",
      "    \n",
      "    Then it can be applied to a DataFrame or Series.\n",
      "    \n",
      "    Args:\n",
      "        function_name (str):\n",
      "            the function's name in BigQuery in the format\n",
      "            `project_id.dataset_id.function_name`, or\n",
      "            `dataset_id.function_name` to load from the default project, or\n",
      "            `function_name` to load from the default project and the dataset\n",
      "            associated with the current session.\n",
      "    \n",
      "    Returns:\n",
      "        callable: A function object pointing to the BigQuery function read\n",
      "        from BigQuery.\n",
      "    \n",
      "        The object is similar to the one created by the `remote_function`\n",
      "        decorator, including the `bigframes_remote_function` property, but\n",
      "        not including the `bigframes_cloud_function` property.\n",
      "\n"
     ]
    }
   ],
   "source": [
    "# Let's try to simulate a scenario in which user shares this remote funciton to\n",
    "# their colleague who simply wants to reuse it. BigFrames provides an API to do\n",
    "# so via `read_gbq_function`. Usage details are available via `help` command.\n",
    "help(pd.read_gbq_function)"
   ]
  },
  {
   "cell_type": "code",
   "execution_count": 14,
   "id": "a6c9da0a",
   "metadata": {},
   "outputs": [],
   "source": [
    "EXISTING_REMOTE_FUNCTION=nth_prime.bigframes_remote_function\n",
    "\n",
    "# Let's read the existing remote function in bigframes\n",
    "nth_prime_existing = pd.read_gbq_function(EXISTING_REMOTE_FUNCTION)"
   ]
  },
  {
   "cell_type": "code",
   "execution_count": 15,
   "id": "d7e7de7f",
   "metadata": {},
   "outputs": [
    {
     "name": "stdout",
     "output_type": "stream",
     "text": [
      "CPU times: user 10.9 ms, sys: 0 ns, total: 10.9 ms\n",
      "Wall time: 11.4 ms\n"
     ]
    },
    {
     "data": {
      "application/vnd.jupyter.widget-view+json": {
       "model_id": "73d1a73593cb4115821ab128c221a48d",
       "version_major": 2,
       "version_minor": 0
      },
      "text/plain": [
       "HTML(value='Query job bec5f7d1-3df1-4292-8c68-c396bce7dc5d is RUNNING. <a target=\"_blank\" href=\"https://consol…"
      ]
     },
     "metadata": {},
     "output_type": "display_data"
    },
    {
     "data": {
      "application/vnd.jupyter.widget-view+json": {
       "model_id": "827770710c1549cf819fe47a5a1cd70f",
       "version_major": 2,
       "version_minor": 0
      },
      "text/plain": [
       "HTML(value='Query job 02e3bf43-a387-41c7-85c7-4a5366251de7 is RUNNING. <a target=\"_blank\" href=\"https://consol…"
      ]
     },
     "metadata": {},
     "output_type": "display_data"
    },
    {
     "data": {
      "application/vnd.jupyter.widget-view+json": {
       "model_id": "faf93766ce1e489183c86a9daf5ce7d1",
       "version_major": 2,
       "version_minor": 0
      },
      "text/plain": [
       "HTML(value='Query job fa4329e8-2918-44c4-96c5-d8591364abc9 is RUNNING. <a target=\"_blank\" href=\"https://consol…"
      ]
     },
     "metadata": {},
     "output_type": "display_data"
    },
    {
     "data": {
      "text/html": [
       "<div>\n",
       "<style scoped>\n",
       "    .dataframe tbody tr th:only-of-type {\n",
       "        vertical-align: middle;\n",
       "    }\n",
       "\n",
       "    .dataframe tbody tr th {\n",
       "        vertical-align: top;\n",
       "    }\n",
       "\n",
       "    .dataframe thead th {\n",
       "        text-align: right;\n",
       "    }\n",
       "</style>\n",
       "<table border=\"1\" class=\"dataframe\">\n",
       "  <thead>\n",
       "    <tr style=\"text-align: right;\">\n",
       "      <th></th>\n",
       "      <th>id</th>\n",
       "      <th>text</th>\n",
       "      <th>score</th>\n",
       "      <th>n_prime</th>\n",
       "      <th>n_prime_again</th>\n",
       "    </tr>\n",
       "  </thead>\n",
       "  <tbody>\n",
       "    <tr>\n",
       "      <th>0</th>\n",
       "      <td>11012908</td>\n",
       "      <td>you're welcome! according to the docs it shoul...</td>\n",
       "      <td>0</td>\n",
       "      <td>-1</td>\n",
       "      <td>-1</td>\n",
       "    </tr>\n",
       "    <tr>\n",
       "      <th>1</th>\n",
       "      <td>11013760</td>\n",
       "      <td>You *should* be concerned with the disk being ...</td>\n",
       "      <td>0</td>\n",
       "      <td>-1</td>\n",
       "      <td>-1</td>\n",
       "    </tr>\n",
       "    <tr>\n",
       "      <th>2</th>\n",
       "      <td>11013784</td>\n",
       "      <td>have you looked at `Integrate` or `NIntegrate`?</td>\n",
       "      <td>0</td>\n",
       "      <td>-1</td>\n",
       "      <td>-1</td>\n",
       "    </tr>\n",
       "    <tr>\n",
       "      <th>3</th>\n",
       "      <td>11015512</td>\n",
       "      <td>sorry, is a typo. The variable name is dist. (...</td>\n",
       "      <td>0</td>\n",
       "      <td>-1</td>\n",
       "      <td>-1</td>\n",
       "    </tr>\n",
       "    <tr>\n",
       "      <th>4</th>\n",
       "      <td>11016238</td>\n",
       "      <td>Pfff, I'm having trouble with that formula too...</td>\n",
       "      <td>0</td>\n",
       "      <td>-1</td>\n",
       "      <td>-1</td>\n",
       "    </tr>\n",
       "    <tr>\n",
       "      <th>5</th>\n",
       "      <td>11016276</td>\n",
       "      <td>Thanks thinksteep! Does this mean that by usin...</td>\n",
       "      <td>0</td>\n",
       "      <td>-1</td>\n",
       "      <td>-1</td>\n",
       "    </tr>\n",
       "    <tr>\n",
       "      <th>6</th>\n",
       "      <td>11016551</td>\n",
       "      <td>Jason, thanks for the reply.  I've been workin...</td>\n",
       "      <td>0</td>\n",
       "      <td>-1</td>\n",
       "      <td>-1</td>\n",
       "    </tr>\n",
       "    <tr>\n",
       "      <th>7</th>\n",
       "      <td>11017973</td>\n",
       "      <td>I assume an `off` of 0.5 would put be exactly ...</td>\n",
       "      <td>0</td>\n",
       "      <td>-1</td>\n",
       "      <td>-1</td>\n",
       "    </tr>\n",
       "    <tr>\n",
       "      <th>8</th>\n",
       "      <td>11018225</td>\n",
       "      <td>Thank you very much.  I do worry too much abou...</td>\n",
       "      <td>0</td>\n",
       "      <td>-1</td>\n",
       "      <td>-1</td>\n",
       "    </tr>\n",
       "    <tr>\n",
       "      <th>9</th>\n",
       "      <td>11018370</td>\n",
       "      <td>@IanClelland, I edited my question a bit. The ...</td>\n",
       "      <td>0</td>\n",
       "      <td>-1</td>\n",
       "      <td>-1</td>\n",
       "    </tr>\n",
       "  </tbody>\n",
       "</table>\n",
       "<p>10 rows × 5 columns</p>\n",
       "</div>[10 rows x 5 columns in total]"
      ],
      "text/plain": [
       "         id                                               text  score  \\\n",
       "0  11012908  you're welcome! according to the docs it shoul...      0   \n",
       "1  11013760  You *should* be concerned with the disk being ...      0   \n",
       "2  11013784    have you looked at `Integrate` or `NIntegrate`?      0   \n",
       "3  11015512  sorry, is a typo. The variable name is dist. (...      0   \n",
       "4  11016238  Pfff, I'm having trouble with that formula too...      0   \n",
       "5  11016276  Thanks thinksteep! Does this mean that by usin...      0   \n",
       "6  11016551  Jason, thanks for the reply.  I've been workin...      0   \n",
       "7  11017973  I assume an `off` of 0.5 would put be exactly ...      0   \n",
       "8  11018225  Thank you very much.  I do worry too much abou...      0   \n",
       "9  11018370  @IanClelland, I edited my question a bit. The ...      0   \n",
       "\n",
       "   n_prime  n_prime_again  \n",
       "0       -1             -1  \n",
       "1       -1             -1  \n",
       "2       -1             -1  \n",
       "3       -1             -1  \n",
       "4       -1             -1  \n",
       "5       -1             -1  \n",
       "6       -1             -1  \n",
       "7       -1             -1  \n",
       "8       -1             -1  \n",
       "9       -1             -1  \n",
       "\n",
       "[10 rows x 5 columns]"
      ]
     },
     "execution_count": 15,
     "metadata": {},
     "output_type": "execute_result"
    }
   ],
   "source": [
    "%%time\n",
    "\n",
    "# Let's apply the existing function to the dataframe\n",
    "df = df.assign(n_prime_again=df['score'].apply(nth_prime_existing))\n",
    "df.head(10)"
   ]
  }
 ],
 "metadata": {
  "kernelspec": {
   "display_name": "Python 3 (ipykernel)",
   "language": "python",
   "name": "python3"
  },
  "language_info": {
   "codemirror_mode": {
    "name": "ipython",
    "version": 3
   },
   "file_extension": ".py",
   "mimetype": "text/x-python",
   "name": "python",
   "nbconvert_exporter": "python",
   "pygments_lexer": "ipython3",
   "version": "3.10.12"
  }
 },
 "nbformat": 4,
 "nbformat_minor": 5
}
