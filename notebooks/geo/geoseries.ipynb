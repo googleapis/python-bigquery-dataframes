{
 "cells": [
  {
   "cell_type": "code",
   "execution_count": 1,
   "metadata": {},
   "outputs": [],
   "source": [
    "# Copyright 2025 Google LLC\n",
    "#\n",
    "# Licensed under the Apache License, Version 2.0 (the \"License\");\n",
    "# you may not use this file except in compliance with the License.\n",
    "# You may obtain a copy of the License at\n",
    "#\n",
    "#     https://www.apache.org/licenses/LICENSE-2.0\n",
    "#\n",
    "# Unless required by applicable law or agreed to in writing, software\n",
    "# distributed under the License is distributed on an \"AS IS\" BASIS,\n",
    "# WITHOUT WARRANTIES OR CONDITIONS OF ANY KIND, either express or implied.\n",
    "# See the License for the specific language governing permissions and\n",
    "# limitations under the License."
   ]
  },
  {
   "cell_type": "markdown",
   "metadata": {},
   "source": [
    "# Analyzing a GEOGRAPHY column with `bigframes.geopandas.GeoSeries`"
   ]
  },
  {
   "cell_type": "code",
   "execution_count": 2,
   "metadata": {},
   "outputs": [],
   "source": [
    "import bigframes\n",
    "import bigframes.geopandas\n",
    "import bigframes.pandas as bpd\n",
    "import shapely\n",
    "bpd.options.display.progress_bar = None"
   ]
  },
  {
   "cell_type": "markdown",
   "metadata": {},
   "source": [
    "### Load the Counties table from the Census Bureau US Boundaries dataset"
   ]
  },
  {
   "cell_type": "code",
   "execution_count": 3,
   "metadata": {},
   "outputs": [
    {
     "name": "stderr",
     "output_type": "stream",
     "text": [
      "/usr/local/google/home/arwas/src1/python-bigquery-dataframes/bigframes/session/_io/bigquery/read_gbq_table.py:274: DefaultIndexWarning: Table 'bigquery-public-data.geo_us_boundaries.counties' is clustered and/or partitioned, but BigQuery DataFrames was not able to find a suitable index. To avoid this warning, set at least one of: `index_col` or `filters`.\n",
      "  warnings.warn(msg, category=bfe.DefaultIndexWarning)\n"
     ]
    }
   ],
   "source": [
    "df = bpd.read_gbq(\"bigquery-public-data.geo_us_boundaries.counties\")"
   ]
  },
  {
   "cell_type": "markdown",
   "metadata": {},
   "source": [
    "### Create a series from the int_point_geom column"
   ]
  },
  {
   "cell_type": "code",
   "execution_count": 4,
   "metadata": {},
   "outputs": [],
   "source": [
    "point_geom_series = df['int_point_geom']"
   ]
  },
  {
   "cell_type": "markdown",
   "metadata": {},
   "source": [
    "## The `GeoSeries` constructor accepts local data or a `bigframes.pandas.Series` object."
   ]
  },
  {
   "cell_type": "markdown",
   "metadata": {},
   "source": [
    "### 1. Create a GeoSeries from local data with `Peek`"
   ]
  },
  {
   "cell_type": "code",
   "execution_count": 12,
   "metadata": {},
   "outputs": [
    {
     "data": {
      "text/plain": [
       "54      POINT (-93.47523 45.00612)\n",
       "256     POINT (-89.60507 42.67552)\n",
       "266    POINT (-104.11408 39.31516)\n",
       "485     POINT (-91.23193 32.34688)\n",
       "765     POINT (-83.42808 38.20427)\n",
       "Name: int_point_geom, dtype: geometry"
      ]
     },
     "execution_count": 12,
     "metadata": {},
     "output_type": "execute_result"
    }
   ],
   "source": [
    "five_geo_points = point_geom_series.peek(n = 5)\n",
    "five_geo_points"
   ]
  },
  {
   "cell_type": "markdown",
   "metadata": {},
   "source": [
    "### Convert the five geo points to `bigframes.gopandas.GeoSeries`"
   ]
  },
  {
   "cell_type": "markdown",
   "metadata": {},
   "source": [
    "#### Note: TypeError is raised if the GEOGRAPHY column contains geometry type other than `Point`."
   ]
  },
  {
   "cell_type": "code",
   "execution_count": 6,
   "metadata": {},
   "outputs": [
    {
     "data": {
      "text/plain": [
       "0     POINT (-86.87338 38.37334)\n",
       "1    POINT (-118.48037 46.25461)\n",
       "2      POINT (-92.5617 32.30429)\n",
       "3     POINT (-83.46189 39.55525)\n",
       "4    POINT (-119.46779 47.21363)\n",
       "dtype: geometry"
      ]
     },
     "execution_count": 6,
     "metadata": {},
     "output_type": "execute_result"
    }
   ],
   "source": [
    "geo_points = bigframes.geopandas.GeoSeries(\n",
    "        [point for point in five_geo_points]\n",
    ")\n",
    "geo_points"
   ]
  },
  {
   "cell_type": "markdown",
   "metadata": {},
   "source": [
    "### Retrieve the x (longitude) and y (latitude) from the GeoSeries with `.x` and `.y`."
   ]
  },
  {
   "cell_type": "markdown",
   "metadata": {},
   "source": [
    "### `.x`"
   ]
  },
  {
   "cell_type": "code",
   "execution_count": 7,
   "metadata": {},
   "outputs": [
    {
     "data": {
      "text/plain": [
       "0    -86.873385\n",
       "1    -118.48037\n",
       "2      -92.5617\n",
       "3    -83.461893\n",
       "4   -119.467788\n",
       "dtype: Float64"
      ]
     },
     "execution_count": 7,
     "metadata": {},
     "output_type": "execute_result"
    }
   ],
   "source": [
    "geo_points.x"
   ]
  },
  {
   "cell_type": "markdown",
   "metadata": {},
   "source": [
    "### `.y`"
   ]
  },
  {
   "cell_type": "code",
   "execution_count": 8,
   "metadata": {},
   "outputs": [
    {
     "data": {
      "text/plain": [
       "0    38.373344\n",
       "1    46.254606\n",
       "2     32.30429\n",
       "3    39.555246\n",
       "4    47.213633\n",
       "dtype: Float64"
      ]
     },
     "execution_count": 8,
     "metadata": {},
     "output_type": "execute_result"
    }
   ],
   "source": [
    "geo_points.y"
   ]
  },
  {
   "cell_type": "markdown",
   "metadata": {},
   "source": [
    "### 2. Alternatively, use the `.geo` accessor to access GeoSeries methods from a `bigframes.pandas.Series` object."
   ]
  },
  {
   "cell_type": "markdown",
   "metadata": {},
   "source": [
    "#### `geo.x`"
   ]
  },
  {
   "cell_type": "code",
   "execution_count": 13,
   "metadata": {},
   "outputs": [
    {
     "data": {
      "text/plain": [
       "0    -101.298265\n",
       "1     -99.111085\n",
       "2      -66.58687\n",
       "3    -102.601791\n",
       "4     -71.578625\n",
       "5     -88.961529\n",
       "6     -87.492986\n",
       "7     -82.422666\n",
       "8    -100.208166\n",
       "9     -85.815939\n",
       "10   -101.681133\n",
       "11   -119.516659\n",
       "12    -89.398306\n",
       "13    -107.78848\n",
       "14    -91.159306\n",
       "15   -113.887042\n",
       "16    -83.470416\n",
       "17    -98.520146\n",
       "18    -83.911718\n",
       "19    -87.321865\n",
       "20    -91.727626\n",
       "21    -93.466093\n",
       "22   -101.143324\n",
       "23    -78.657634\n",
       "24    -94.272323\n",
       "dtype: Float64"
      ]
     },
     "execution_count": 13,
     "metadata": {},
     "output_type": "execute_result"
    }
   ],
   "source": [
    "point_geom_series.geo.x"
   ]
  },
  {
   "cell_type": "markdown",
   "metadata": {},
   "source": [
    "#### `geo.y`"
   ]
  },
  {
   "cell_type": "code",
   "execution_count": 14,
   "metadata": {},
   "outputs": [
    {
     "data": {
      "text/plain": [
       "0     46.710819\n",
       "1     29.353661\n",
       "2     18.211152\n",
       "3     38.835646\n",
       "4     41.869768\n",
       "5     39.860237\n",
       "6     36.892059\n",
       "7     38.143642\n",
       "8     34.524623\n",
       "9     30.862007\n",
       "10    40.180165\n",
       "11    46.228125\n",
       "12    36.054196\n",
       "13    38.154731\n",
       "14    38.761902\n",
       "15    44.928506\n",
       "16    30.447232\n",
       "17    29.448671\n",
       "18    42.602532\n",
       "19    34.529776\n",
       "20    33.957675\n",
       "21    42.037538\n",
       "22    29.875285\n",
       "23    36.299884\n",
       "24    44.821657\n",
       "dtype: Float64"
      ]
     },
     "execution_count": 14,
     "metadata": {},
     "output_type": "execute_result"
    }
   ],
   "source": [
    "point_geom_series.geo.y"
   ]
  }
 ],
 "metadata": {
  "kernelspec": {
   "display_name": "venv",
   "language": "python",
   "name": "python3"
  },
  "language_info": {
   "codemirror_mode": {
    "name": "ipython",
    "version": 3
   },
   "file_extension": ".py",
   "mimetype": "text/x-python",
   "name": "python",
   "nbconvert_exporter": "python",
   "pygments_lexer": "ipython3",
   "version": "3.9.19"
  }
 },
 "nbformat": 4,
 "nbformat_minor": 2
}
