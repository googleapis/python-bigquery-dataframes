{
 "cells": [
  {
   "cell_type": "code",
   "execution_count": 27,
   "metadata": {},
   "outputs": [],
   "source": [
    "# Copyright 2025 Google LLC\n",
    "#\n",
    "# Licensed under the Apache License, Version 2.0 (the \"License\");\n",
    "# you may not use this file except in compliance with the License.\n",
    "# You may obtain a copy of the License at\n",
    "#\n",
    "#     https://www.apache.org/licenses/LICENSE-2.0\n",
    "#\n",
    "# Unless required by applicable law or agreed to in writing, software\n",
    "# distributed under the License is distributed on an \"AS IS\" BASIS,\n",
    "# WITHOUT WARRANTIES OR CONDITIONS OF ANY KIND, either express or implied.\n",
    "# See the License for the specific language governing permissions and\n",
    "# limitations under the License."
   ]
  },
  {
   "cell_type": "markdown",
   "metadata": {},
   "source": [
    "# Analyzing a GEOGRAPHY column with `bigframes.geopandas.GeoSeries`"
   ]
  },
  {
   "cell_type": "code",
   "execution_count": 28,
   "metadata": {},
   "outputs": [],
   "source": [
    "import bigframes\n",
    "import bigframes.geopandas\n",
    "import bigframes.pandas as bpd\n",
    "import shapely\n",
    "bpd.options.display.progress_bar = None"
   ]
  },
  {
   "cell_type": "markdown",
   "metadata": {},
   "source": [
    "### Load the Counties table from the Census Bureau US Boundaries dataset"
   ]
  },
  {
   "cell_type": "code",
   "execution_count": 29,
   "metadata": {},
   "outputs": [
    {
     "name": "stderr",
     "output_type": "stream",
     "text": [
      "/usr/local/google/home/arwas/src1/python-bigquery-dataframes/venv/lib/python3.9/site-packages/IPython/core/interactiveshell.py:3550: UserWarning: Reading cached table from 2025-02-03 22:54:14.603760+00:00 to avoid incompatibilies with previous reads of this table. To read the latest version, set `use_cache=False` or close the current session with Session.close() or bigframes.pandas.close_session().\n",
      "  exec(code_obj, self.user_global_ns, self.user_ns)\n",
      "/usr/local/google/home/arwas/src1/python-bigquery-dataframes/bigframes/session/_io/bigquery/read_gbq_table.py:274: DefaultIndexWarning: Table 'bigquery-public-data.geo_us_boundaries.counties' is clustered and/or partitioned, but BigQuery DataFrames was not able to find a suitable index. To avoid this warning, set at least one of: `index_col` or `filters`.\n",
      "  warnings.warn(msg, category=bfe.DefaultIndexWarning)\n"
     ]
    }
   ],
   "source": [
    "df = bpd.read_gbq(\"bigquery-public-data.geo_us_boundaries.counties\")"
   ]
  },
  {
   "cell_type": "markdown",
   "metadata": {},
   "source": [
    "### Create a series from the int_point_geom column"
   ]
  },
  {
   "cell_type": "code",
   "execution_count": 30,
   "metadata": {},
   "outputs": [],
   "source": [
    "point_geom_series = df['int_point_geom']"
   ]
  },
  {
   "cell_type": "markdown",
   "metadata": {},
   "source": [
    "## The `GeoSeries` constructor accepts local data or a `bigframes.pandas.Series` object."
   ]
  },
  {
   "cell_type": "markdown",
   "metadata": {},
   "source": [
    "### 1. Create a GeoSeries from local data with `Peek`"
   ]
  },
  {
   "cell_type": "code",
   "execution_count": 31,
   "metadata": {},
   "outputs": [
    {
     "data": {
      "text/plain": [
       "7      POINT (-82.42267 38.14364)\n",
       "34     POINT (-89.99324 34.87427)\n",
       "87     POINT (-81.86504 29.98658)\n",
       "234    POINT (-97.29122 32.77212)\n",
       "280    POINT (-94.53725 43.67712)\n",
       "Name: int_point_geom, dtype: geometry"
      ]
     },
     "execution_count": 31,
     "metadata": {},
     "output_type": "execute_result"
    }
   ],
   "source": [
    "five_geo_points = point_geom_series.peek(n = 5)\n",
    "five_geo_points"
   ]
  },
  {
   "cell_type": "markdown",
   "metadata": {},
   "source": [
    "### Convert the five geo points to `bigframes.gopandas.GeoSeries`"
   ]
  },
  {
   "cell_type": "markdown",
   "metadata": {},
   "source": [
    "#### Note: TypeError is raised if the GEOGRAPHY column contains geometry type other than `Point`."
   ]
  },
  {
   "cell_type": "code",
   "execution_count": 32,
   "metadata": {},
   "outputs": [
    {
     "data": {
      "text/plain": [
       "0    POINT (-82.42267 38.14364)\n",
       "1    POINT (-89.99324 34.87427)\n",
       "2    POINT (-81.86504 29.98658)\n",
       "3    POINT (-97.29122 32.77212)\n",
       "4    POINT (-94.53725 43.67712)\n",
       "dtype: geometry"
      ]
     },
     "execution_count": 32,
     "metadata": {},
     "output_type": "execute_result"
    }
   ],
   "source": [
    "geo_points = bigframes.geopandas.GeoSeries(\n",
    "        [point for point in five_geo_points]\n",
    ")\n",
    "geo_points"
   ]
  },
  {
   "cell_type": "markdown",
   "metadata": {},
   "source": [
    "### Retrieve the x (longitude) and y (latitude) from the GeoSeries with `.x` and `.y`."
   ]
  },
  {
   "cell_type": "markdown",
   "metadata": {},
   "source": [
    "### `.x`"
   ]
  },
  {
   "cell_type": "code",
   "execution_count": 33,
   "metadata": {},
   "outputs": [
    {
     "data": {
      "text/plain": [
       "0   -82.422666\n",
       "1    -89.99324\n",
       "2   -81.865036\n",
       "3   -97.291224\n",
       "4   -94.537252\n",
       "dtype: Float64"
      ]
     },
     "execution_count": 33,
     "metadata": {},
     "output_type": "execute_result"
    }
   ],
   "source": [
    "geo_points.x"
   ]
  },
  {
   "cell_type": "markdown",
   "metadata": {},
   "source": [
    "### `.y`"
   ]
  },
  {
   "cell_type": "code",
   "execution_count": 34,
   "metadata": {},
   "outputs": [
    {
     "data": {
      "text/plain": [
       "0    38.143642\n",
       "1    34.874266\n",
       "2    29.986584\n",
       "3    32.772119\n",
       "4    43.677118\n",
       "dtype: Float64"
      ]
     },
     "execution_count": 34,
     "metadata": {},
     "output_type": "execute_result"
    }
   ],
   "source": [
    "geo_points.y"
   ]
  },
  {
   "cell_type": "markdown",
   "metadata": {},
   "source": [
    "### 2. Alternatively, use the `.geo` accessor to access GeoSeries methods from a `bigframes.pandas.Series` object."
   ]
  },
  {
   "cell_type": "markdown",
   "metadata": {},
   "source": [
    "#### `geo.x`"
   ]
  },
  {
   "cell_type": "code",
   "execution_count": 35,
   "metadata": {},
   "outputs": [
    {
     "data": {
      "text/plain": [
       "0    -101.298265\n",
       "1     -99.111085\n",
       "2      -66.58687\n",
       "3    -102.601791\n",
       "4     -71.578625\n",
       "5     -88.961529\n",
       "6     -87.492986\n",
       "7     -82.422666\n",
       "8    -100.208166\n",
       "9     -85.815939\n",
       "10   -101.681133\n",
       "11   -119.516659\n",
       "12    -89.398306\n",
       "13    -107.78848\n",
       "14    -91.159306\n",
       "15   -113.887042\n",
       "16    -83.470416\n",
       "17    -98.520146\n",
       "18    -83.911718\n",
       "19    -87.321865\n",
       "20    -91.727626\n",
       "21    -93.466093\n",
       "22   -101.143324\n",
       "23    -78.657634\n",
       "24    -94.272323\n",
       "dtype: Float64"
      ]
     },
     "execution_count": 35,
     "metadata": {},
     "output_type": "execute_result"
    }
   ],
   "source": [
    "point_geom_series.geo.x"
   ]
  },
  {
   "cell_type": "markdown",
   "metadata": {},
   "source": [
    "#### `geo.y`"
   ]
  },
  {
   "cell_type": "code",
   "execution_count": 36,
   "metadata": {},
   "outputs": [
    {
     "data": {
      "text/plain": [
       "0     46.710819\n",
       "1     29.353661\n",
       "2     18.211152\n",
       "3     38.835646\n",
       "4     41.869768\n",
       "5     39.860237\n",
       "6     36.892059\n",
       "7     38.143642\n",
       "8     34.524623\n",
       "9     30.862007\n",
       "10    40.180165\n",
       "11    46.228125\n",
       "12    36.054196\n",
       "13    38.154731\n",
       "14    38.761902\n",
       "15    44.928506\n",
       "16    30.447232\n",
       "17    29.448671\n",
       "18    42.602532\n",
       "19    34.529776\n",
       "20    33.957675\n",
       "21    42.037538\n",
       "22    29.875285\n",
       "23    36.299884\n",
       "24    44.821657\n",
       "dtype: Float64"
      ]
     },
     "execution_count": 36,
     "metadata": {},
     "output_type": "execute_result"
    }
   ],
   "source": [
    "point_geom_series.geo.y"
   ]
  },
  {
   "cell_type": "markdown",
   "metadata": {},
   "source": [
    "## Retrive the `area` of different geometrty shapes. "
   ]
  },
  {
   "cell_type": "markdown",
   "metadata": {},
   "source": [
    "### 1. Create a gemometry collection from local data with `Peek`"
   ]
  },
  {
   "cell_type": "code",
   "execution_count": 37,
   "metadata": {},
   "outputs": [
    {
     "data": {
      "text/plain": [
       "18     POLYGON ((-84.14483 42.59956, -84.14475 42.598...\n",
       "86     POLYGON ((-90.3355 43.20969, -90.33658 43.2097...\n",
       "177    POLYGON ((-117.49995 48.65277, -117.49995 48.6...\n",
       "208    POLYGON ((-84.69253 36.43547, -84.69244 36.435...\n",
       "300    POLYGON ((-92.08001 43.42885, -92.08 43.4277, ...\n",
       "Name: county_geom, dtype: geometry"
      ]
     },
     "execution_count": 37,
     "metadata": {},
     "output_type": "execute_result"
    }
   ],
   "source": [
    "geom_series = df[\"county_geom\"].peek(n = 5)\n",
    "geom_series"
   ]
  },
  {
   "cell_type": "markdown",
   "metadata": {},
   "source": [
    "### Convert the geometry collection to `bigframes.gopandas.GeoSeries`"
   ]
  },
  {
   "cell_type": "code",
   "execution_count": 38,
   "metadata": {},
   "outputs": [
    {
     "data": {
      "text/plain": [
       "0    POLYGON ((-84.14483 42.59956, -84.14475 42.598...\n",
       "1    POLYGON ((-90.3355 43.20969, -90.33658 43.2097...\n",
       "2    POLYGON ((-117.49995 48.65277, -117.49995 48.6...\n",
       "3    POLYGON ((-84.69253 36.43547, -84.69244 36.435...\n",
       "4    POLYGON ((-92.08001 43.42885, -92.08 43.4277, ...\n",
       "dtype: geometry"
      ]
     },
     "execution_count": 38,
     "metadata": {},
     "output_type": "execute_result"
    }
   ],
   "source": [
    "five_geom = bigframes.geopandas.GeoSeries(\n",
    "        [point for point in geom_series]\n",
    ")\n",
    "five_geom"
   ]
  },
  {
   "cell_type": "markdown",
   "metadata": {},
   "source": [
    "## Note: `bigframes.geopandas.GeoSeries.area` raises NotImplementedError.  "
   ]
  },
  {
   "cell_type": "code",
   "execution_count": 39,
   "metadata": {},
   "outputs": [
    {
     "ename": "NotImplementedError",
     "evalue": "GeoSeries.area is not supported. Use bigframes.bigquery.st_area(series), instead. Share your usecase with the BigQuery DataFrames team at the https://bit.ly/bigframes-feedback survey.You are currently running BigFrames version 1.34.0",
     "output_type": "error",
     "traceback": [
      "\u001b[0;31m---------------------------------------------------------------------------\u001b[0m",
      "\u001b[0;31mNotImplementedError\u001b[0m                       Traceback (most recent call last)",
      "Cell \u001b[0;32mIn[39], line 1\u001b[0m\n\u001b[0;32m----> 1\u001b[0m \u001b[43mfive_geom\u001b[49m\u001b[38;5;241;43m.\u001b[39;49m\u001b[43marea\u001b[49m\n",
      "File \u001b[0;32m~/src1/python-bigquery-dataframes/bigframes/geopandas/geoseries.py:46\u001b[0m, in \u001b[0;36mGeoSeries.area\u001b[0;34m(self, crs)\u001b[0m\n\u001b[1;32m     44\u001b[0m \u001b[38;5;129m@property\u001b[39m\n\u001b[1;32m     45\u001b[0m \u001b[38;5;28;01mdef\u001b[39;00m\u001b[38;5;250m \u001b[39m\u001b[38;5;21marea\u001b[39m(\u001b[38;5;28mself\u001b[39m, crs\u001b[38;5;241m=\u001b[39m\u001b[38;5;28;01mNone\u001b[39;00m) \u001b[38;5;241m-\u001b[39m\u001b[38;5;241m>\u001b[39m bigframes\u001b[38;5;241m.\u001b[39mseries\u001b[38;5;241m.\u001b[39mSeries:\n\u001b[0;32m---> 46\u001b[0m     \u001b[38;5;28;01mraise\u001b[39;00m \u001b[38;5;167;01mNotImplementedError\u001b[39;00m(\n\u001b[1;32m     47\u001b[0m         \u001b[38;5;124mf\u001b[39m\u001b[38;5;124m\"\u001b[39m\u001b[38;5;124mGeoSeries.area is not supported. Use bigframes.bigquery.st_area(series), instead. \u001b[39m\u001b[38;5;132;01m{\u001b[39;00mconstants\u001b[38;5;241m.\u001b[39mFEEDBACK_LINK\u001b[38;5;132;01m}\u001b[39;00m\u001b[38;5;124m\"\u001b[39m\n\u001b[1;32m     48\u001b[0m     )\n",
      "\u001b[0;31mNotImplementedError\u001b[0m: GeoSeries.area is not supported. Use bigframes.bigquery.st_area(series), instead. Share your usecase with the BigQuery DataFrames team at the https://bit.ly/bigframes-feedback survey.You are currently running BigFrames version 1.34.0"
     ]
    }
   ],
   "source": [
    "five_geom.area"
   ]
  },
  {
   "cell_type": "markdown",
   "metadata": {},
   "source": [
    "## Use `bigframes.bigquery.st_area` to retirive the `area` in square meters instead. See: https://cloud.google.com/bigquery/docs/reference/standard-sql/geography_functions#st_area"
   ]
  },
  {
   "cell_type": "code",
   "execution_count": 40,
   "metadata": {},
   "outputs": [],
   "source": [
    "import bigframes.bigquery as bbq"
   ]
  },
  {
   "cell_type": "code",
   "execution_count": 41,
   "metadata": {},
   "outputs": [
    {
     "data": {
      "text/plain": [
       "0    1513674358.195978\n",
       "1    1985759505.347184\n",
       "2    3680789945.308985\n",
       "3    1380731457.626208\n",
       "4    1784154727.752777\n",
       "dtype: Float64"
      ]
     },
     "execution_count": 41,
     "metadata": {},
     "output_type": "execute_result"
    }
   ],
   "source": [
    "geom_area = bbq.st_area(five_geom)\n",
    "geom_area"
   ]
  }
 ],
 "metadata": {
  "kernelspec": {
   "display_name": "venv",
   "language": "python",
   "name": "python3"
  },
  "language_info": {
   "codemirror_mode": {
    "name": "ipython",
    "version": 3
   },
   "file_extension": ".py",
   "mimetype": "text/x-python",
   "name": "python",
   "nbconvert_exporter": "python",
   "pygments_lexer": "ipython3",
   "version": "3.9.19"
  }
 },
 "nbformat": 4,
 "nbformat_minor": 2
}
