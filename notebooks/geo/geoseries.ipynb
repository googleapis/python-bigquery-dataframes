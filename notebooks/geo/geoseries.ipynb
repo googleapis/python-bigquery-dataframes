{
 "cells": [
  {
   "cell_type": "code",
   "execution_count": 1,
   "metadata": {},
   "outputs": [],
   "source": [
    "# Copyright 2025 Google LLC\n",
    "#\n",
    "# Licensed under the Apache License, Version 2.0 (the \"License\");\n",
    "# you may not use this file except in compliance with the License.\n",
    "# You may obtain a copy of the License at\n",
    "#\n",
    "#     https://www.apache.org/licenses/LICENSE-2.0\n",
    "#\n",
    "# Unless required by applicable law or agreed to in writing, software\n",
    "# distributed under the License is distributed on an \"AS IS\" BASIS,\n",
    "# WITHOUT WARRANTIES OR CONDITIONS OF ANY KIND, either express or implied.\n",
    "# See the License for the specific language governing permissions and\n",
    "# limitations under the License."
   ]
  },
  {
   "cell_type": "markdown",
   "metadata": {},
   "source": [
    "# Analyzing a GEOGRAPHY column with `bigframes.geopandas.GeoSeries`"
   ]
  },
  {
   "cell_type": "code",
   "execution_count": 2,
   "metadata": {},
   "outputs": [],
   "source": [
    "import bigframes\n",
    "import bigframes.geopandas\n",
    "import bigframes.pandas as bpd\n",
    "bpd.options.display.progress_bar = None"
   ]
  },
  {
   "cell_type": "markdown",
   "metadata": {},
   "source": [
    "### Load the Counties table from the Census Bureau US Boundaries dataset"
   ]
  },
  {
   "cell_type": "code",
   "execution_count": 3,
   "metadata": {},
   "outputs": [
    {
     "name": "stderr",
     "output_type": "stream",
     "text": [
      "/usr/local/google/home/arwas/src1/python-bigquery-dataframes/bigframes/session/_io/bigquery/read_gbq_table.py:280: DefaultIndexWarning: Table 'bigquery-public-data.geo_us_boundaries.counties' is clustered and/or partitioned, but BigQuery DataFrames was not able to find a suitable index. To avoid this warning, set at least one of: `index_col` or `filters`.\n",
      "  warnings.warn(msg, category=bfe.DefaultIndexWarning)\n"
     ]
    }
   ],
   "source": [
    "df = bpd.read_gbq(\"bigquery-public-data.geo_us_boundaries.counties\")"
   ]
  },
  {
   "cell_type": "markdown",
   "metadata": {},
   "source": [
    "### Create a series from the int_point_geom column"
   ]
  },
  {
   "cell_type": "code",
   "execution_count": 4,
   "metadata": {},
   "outputs": [],
   "source": [
    "point_geom_series = df['int_point_geom']"
   ]
  },
  {
   "cell_type": "markdown",
   "metadata": {},
   "source": [
    "## The `GeoSeries` constructor accepts local data or a `bigframes.pandas.Series` object."
   ]
  },
  {
   "cell_type": "markdown",
   "metadata": {},
   "source": [
    "### 1. Create a GeoSeries from local data with `Peek`"
   ]
  },
  {
   "cell_type": "code",
   "execution_count": 5,
   "metadata": {},
   "outputs": [
    {
     "data": {
      "text/plain": [
       "37     POINT (-91.19496 39.98605)\n",
       "406    POINT (-84.86717 33.92103)\n",
       "926    POINT (-82.47974 35.33641)\n",
       "940    POINT (-75.50298 39.09709)\n",
       "996     POINT (-92.56434 39.8298)\n",
       "Name: int_point_geom, dtype: geometry"
      ]
     },
     "execution_count": 5,
     "metadata": {},
     "output_type": "execute_result"
    }
   ],
   "source": [
    "five_geo_points = point_geom_series.peek(n = 5)\n",
    "five_geo_points"
   ]
  },
  {
   "cell_type": "markdown",
   "metadata": {},
   "source": [
    "### Convert the five geo points to `bigframes.gopandas.GeoSeries`"
   ]
  },
  {
   "cell_type": "code",
   "execution_count": 6,
   "metadata": {},
   "outputs": [
    {
     "data": {
      "text/plain": [
       "0    POINT (-91.19496 39.98605)\n",
       "1    POINT (-84.86717 33.92103)\n",
       "2    POINT (-82.47974 35.33641)\n",
       "3    POINT (-75.50298 39.09709)\n",
       "4     POINT (-92.56434 39.8298)\n",
       "dtype: geometry"
      ]
     },
     "execution_count": 6,
     "metadata": {},
     "output_type": "execute_result"
    }
   ],
   "source": [
    "geo_points = bigframes.geopandas.GeoSeries(\n",
    "        [point for point in five_geo_points]\n",
    ")\n",
    "geo_points"
   ]
  },
  {
   "cell_type": "markdown",
   "metadata": {},
   "source": [
    "### Retrieve the x (longitude) and y (latitude) from the GeoSeries with `.x` and `.y`."
   ]
  },
  {
   "cell_type": "markdown",
   "metadata": {},
   "source": [
    "#### Note: TypeError is raised if `.x` and `.y` are used with a geometry type other than `Point`."
   ]
  },
  {
   "cell_type": "markdown",
   "metadata": {},
   "source": [
    "### `.x`"
   ]
  },
  {
   "cell_type": "code",
   "execution_count": 7,
   "metadata": {},
   "outputs": [
    {
     "data": {
      "text/plain": [
       "0   -91.194961\n",
       "1   -84.867169\n",
       "2   -82.479741\n",
       "3   -75.502982\n",
       "4    -92.56434\n",
       "dtype: Float64"
      ]
     },
     "execution_count": 7,
     "metadata": {},
     "output_type": "execute_result"
    }
   ],
   "source": [
    "geo_points.x"
   ]
  },
  {
   "cell_type": "markdown",
   "metadata": {},
   "source": [
    "### `.y`"
   ]
  },
  {
   "cell_type": "code",
   "execution_count": 8,
   "metadata": {},
   "outputs": [
    {
     "data": {
      "text/plain": [
       "0    39.986053\n",
       "1     33.92103\n",
       "2    35.336415\n",
       "3    39.097088\n",
       "4    39.829795\n",
       "dtype: Float64"
      ]
     },
     "execution_count": 8,
     "metadata": {},
     "output_type": "execute_result"
    }
   ],
   "source": [
    "geo_points.y"
   ]
  },
  {
   "cell_type": "markdown",
   "metadata": {},
   "source": [
    "### 2. Alternatively, use the `.geo` accessor to access GeoSeries methods from a `bigframes.pandas.Series` object."
   ]
  },
  {
   "cell_type": "markdown",
   "metadata": {},
   "source": [
    "#### `geo.x`"
   ]
  },
  {
   "cell_type": "code",
   "execution_count": 9,
   "metadata": {},
   "outputs": [
    {
     "data": {
      "text/plain": [
       "0    -101.298265\n",
       "1     -99.111085\n",
       "2      -66.58687\n",
       "3    -102.601791\n",
       "4     -71.578625\n",
       "5     -88.961529\n",
       "6     -87.492986\n",
       "7     -82.422666\n",
       "8    -100.208166\n",
       "9     -85.815939\n",
       "10   -101.681133\n",
       "11   -119.516659\n",
       "12    -89.398306\n",
       "13    -107.78848\n",
       "14    -91.159306\n",
       "15   -113.887042\n",
       "16    -83.470416\n",
       "17    -98.520146\n",
       "18    -83.911718\n",
       "19    -87.321865\n",
       "20    -91.727626\n",
       "21    -93.466093\n",
       "22   -101.143324\n",
       "23    -78.657634\n",
       "24    -94.272323\n",
       "dtype: Float64"
      ]
     },
     "execution_count": 9,
     "metadata": {},
     "output_type": "execute_result"
    }
   ],
   "source": [
    "point_geom_series.geo.x"
   ]
  },
  {
   "cell_type": "markdown",
   "metadata": {},
   "source": [
    "#### `geo.y`"
   ]
  },
  {
   "cell_type": "code",
   "execution_count": 10,
   "metadata": {},
   "outputs": [
    {
     "data": {
      "text/plain": [
       "0     46.710819\n",
       "1     29.353661\n",
       "2     18.211152\n",
       "3     38.835646\n",
       "4     41.869768\n",
       "5     39.860237\n",
       "6     36.892059\n",
       "7     38.143642\n",
       "8     34.524623\n",
       "9     30.862007\n",
       "10    40.180165\n",
       "11    46.228125\n",
       "12    36.054196\n",
       "13    38.154731\n",
       "14    38.761902\n",
       "15    44.928506\n",
       "16    30.447232\n",
       "17    29.448671\n",
       "18    42.602532\n",
       "19    34.529776\n",
       "20    33.957675\n",
       "21    42.037538\n",
       "22    29.875285\n",
       "23    36.299884\n",
       "24    44.821657\n",
       "dtype: Float64"
      ]
     },
     "execution_count": 10,
     "metadata": {},
     "output_type": "execute_result"
    }
   ],
   "source": [
    "point_geom_series.geo.y"
   ]
  },
  {
   "cell_type": "markdown",
   "metadata": {},
   "source": [
    "## Retrive the `area` of different geometry shapes. "
   ]
  },
  {
   "cell_type": "markdown",
   "metadata": {},
   "source": [
    "### 1. Create a geometry collection from local data with `Peek`"
   ]
  },
  {
   "cell_type": "code",
   "execution_count": 11,
   "metadata": {},
   "outputs": [
    {
     "data": {
      "text/plain": [
       "10     POLYGON ((-101.7778 40.34969, -101.77812 40.34...\n",
       "127    POLYGON ((-89.22333 44.50398, -89.22334 44.499...\n",
       "253    POLYGON ((-76.69446 37.07288, -76.69515 37.072...\n",
       "261    POLYGON ((-98.70136 44.45055, -98.70136 44.450...\n",
       "303    POLYGON ((-85.99565 30.28131, -85.99566 30.280...\n",
       "Name: county_geom, dtype: geometry"
      ]
     },
     "execution_count": 11,
     "metadata": {},
     "output_type": "execute_result"
    }
   ],
   "source": [
    "geom_series = df[\"county_geom\"].peek(n = 5)\n",
    "geom_series"
   ]
  },
  {
   "cell_type": "markdown",
   "metadata": {},
   "source": [
    "### Convert the geometry collection to `bigframes.gopandas.GeoSeries`"
   ]
  },
  {
   "cell_type": "code",
   "execution_count": 12,
   "metadata": {},
   "outputs": [
    {
     "data": {
      "text/plain": [
       "0    POLYGON ((-101.7778 40.34969, -101.77812 40.34...\n",
       "1    POLYGON ((-89.22333 44.50398, -89.22334 44.499...\n",
       "2    POLYGON ((-76.69446 37.07288, -76.69515 37.072...\n",
       "3    POLYGON ((-98.70136 44.45055, -98.70136 44.450...\n",
       "4    POLYGON ((-85.99565 30.28131, -85.99566 30.280...\n",
       "dtype: geometry"
      ]
     },
     "execution_count": 12,
     "metadata": {},
     "output_type": "execute_result"
    }
   ],
   "source": [
    "five_geom = bigframes.geopandas.GeoSeries(\n",
    "        [point for point in geom_series]\n",
    ")\n",
    "five_geom"
   ]
  },
  {
   "cell_type": "markdown",
   "metadata": {
    "tags": [
     "raises-exception"
    ]
   },
   "source": [
    "## Note: `bigframes.geopandas.GeoSeries.area` raises NotImplementedError.  "
   ]
  },
  {
   "cell_type": "code",
   "execution_count": 13,
   "metadata": {
    "tags": [
     "raises-exception"
    ]
   },
   "outputs": [
    {
     "ename": "NotImplementedError",
     "evalue": "GeoSeries.area is not supported. Use bigframes.bigquery.st_area(series), instead. Share your usecase with the BigQuery DataFrames team at the https://bit.ly/bigframes-feedback survey.You are currently running BigFrames version 1.34.0",
     "output_type": "error",
     "traceback": [
      "\u001b[0;31m---------------------------------------------------------------------------\u001b[0m",
      "\u001b[0;31mNotImplementedError\u001b[0m                       Traceback (most recent call last)",
      "Cell \u001b[0;32mIn[13], line 1\u001b[0m\n\u001b[0;32m----> 1\u001b[0m \u001b[43mfive_geom\u001b[49m\u001b[38;5;241;43m.\u001b[39;49m\u001b[43marea\u001b[49m\n",
      "File \u001b[0;32m~/src1/python-bigquery-dataframes/bigframes/geopandas/geoseries.py:66\u001b[0m, in \u001b[0;36mGeoSeries.area\u001b[0;34m(self, crs)\u001b[0m\n\u001b[1;32m     47\u001b[0m \u001b[38;5;129m@property\u001b[39m\n\u001b[1;32m     48\u001b[0m \u001b[38;5;28;01mdef\u001b[39;00m\u001b[38;5;250m \u001b[39m\u001b[38;5;21marea\u001b[39m(\u001b[38;5;28mself\u001b[39m, crs\u001b[38;5;241m=\u001b[39m\u001b[38;5;28;01mNone\u001b[39;00m) \u001b[38;5;241m-\u001b[39m\u001b[38;5;241m>\u001b[39m bigframes\u001b[38;5;241m.\u001b[39mseries\u001b[38;5;241m.\u001b[39mSeries:  \u001b[38;5;66;03m# type: ignore\u001b[39;00m\n\u001b[1;32m     49\u001b[0m \u001b[38;5;250m    \u001b[39m\u001b[38;5;124;03m\"\"\"Returns a Series containing the area of each geometry in the GeoSeries\u001b[39;00m\n\u001b[1;32m     50\u001b[0m \u001b[38;5;124;03m    expressed in the units of the CRS.\u001b[39;00m\n\u001b[1;32m     51\u001b[0m \n\u001b[0;32m   (...)\u001b[0m\n\u001b[1;32m     64\u001b[0m \u001b[38;5;124;03m            GeoSeries.area is not supported. Use bigframes.bigquery.st_area(series), insetead.\u001b[39;00m\n\u001b[1;32m     65\u001b[0m \u001b[38;5;124;03m    \"\"\"\u001b[39;00m\n\u001b[0;32m---> 66\u001b[0m     \u001b[38;5;28;01mraise\u001b[39;00m \u001b[38;5;167;01mNotImplementedError\u001b[39;00m(\n\u001b[1;32m     67\u001b[0m         \u001b[38;5;124mf\u001b[39m\u001b[38;5;124m\"\u001b[39m\u001b[38;5;124mGeoSeries.area is not supported. Use bigframes.bigquery.st_area(series), instead. \u001b[39m\u001b[38;5;132;01m{\u001b[39;00mconstants\u001b[38;5;241m.\u001b[39mFEEDBACK_LINK\u001b[38;5;132;01m}\u001b[39;00m\u001b[38;5;124m\"\u001b[39m\n\u001b[1;32m     68\u001b[0m     )\n",
      "\u001b[0;31mNotImplementedError\u001b[0m: GeoSeries.area is not supported. Use bigframes.bigquery.st_area(series), instead. Share your usecase with the BigQuery DataFrames team at the https://bit.ly/bigframes-feedback survey.You are currently running BigFrames version 1.34.0"
     ]
    }
   ],
   "source": [
    "five_geom.area"
   ]
  },
  {
   "cell_type": "markdown",
   "metadata": {},
   "source": [
    "## Use `bigframes.bigquery.st_area` to retirive the `area` in square meters instead. See: https://cloud.google.com/bigquery/docs/reference/standard-sql/geography_functions#st_area"
   ]
  },
  {
   "cell_type": "code",
   "execution_count": 14,
   "metadata": {},
   "outputs": [],
   "source": [
    "import bigframes.bigquery as bbq"
   ]
  },
  {
   "cell_type": "code",
   "execution_count": 15,
   "metadata": {},
   "outputs": [
    {
     "data": {
      "text/plain": [
       "0     2382382043.48891\n",
       "1     1977633097.26862\n",
       "2     939388839.499466\n",
       "3    3269015229.381782\n",
       "4    2678752241.321673\n",
       "dtype: Float64"
      ]
     },
     "execution_count": 15,
     "metadata": {},
     "output_type": "execute_result"
    }
   ],
   "source": [
    "geom_area = bbq.st_area(five_geom)\n",
    "geom_area"
   ]
  }
 ],
 "metadata": {
  "kernelspec": {
   "display_name": "venv",
   "language": "python",
   "name": "python3"
  },
  "language_info": {
   "codemirror_mode": {
    "name": "ipython",
    "version": 3
   },
   "file_extension": ".py",
   "mimetype": "text/x-python",
   "name": "python",
   "nbconvert_exporter": "python",
   "pygments_lexer": "ipython3",
   "version": "3.9.19"
  }
 },
 "nbformat": 4,
 "nbformat_minor": 2
}
