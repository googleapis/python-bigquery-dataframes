{
 "cells": [
  {
   "cell_type": "code",
   "execution_count": 1,
   "metadata": {},
   "outputs": [],
   "source": [
    "import bigframes\n",
    "import bigframes.pandas as bpd"
   ]
  },
  {
   "cell_type": "code",
   "execution_count": 2,
   "metadata": {},
   "outputs": [
    {
     "name": "stderr",
     "output_type": "stream",
     "text": [
      "/usr/local/google/home/garrettwu/src/bigframes/bigframes/pandas/__init__.py:853: DefaultLocationWarning: No explicit location is set, so using location US for the session.\n",
      "  return global_session.get_global_session()\n"
     ]
    }
   ],
   "source": [
    "bigframes.options._bigquery_options.project = \"bigframes-load-testing\"\n",
    "job_id_prefix = \"test_streaming_\"\n",
    "session = bpd.get_global_session()"
   ]
  },
  {
   "cell_type": "markdown",
   "metadata": {},
   "source": [
    "### Create, Projection, Filter, Repr"
   ]
  },
  {
   "cell_type": "code",
   "execution_count": 3,
   "metadata": {},
   "outputs": [
    {
     "data": {
      "text/html": [
       "Query job 746de719-e27a-4b7b-b4dc-fcee0167469b is DONE. 0 Bytes processed. <a target=\"_blank\" href=\"https://console.cloud.google.com/bigquery?project=bigframes-load-testing&j=bq:US:746de719-e27a-4b7b-b4dc-fcee0167469b&page=queryresults\">Open Job</a>"
      ],
      "text/plain": [
       "<IPython.core.display.HTML object>"
      ]
     },
     "metadata": {},
     "output_type": "display_data"
    },
    {
     "data": {
      "text/html": [
       "Query job 08b7a223-255e-4bcf-a12e-5817608f8b81 is DONE. 28.9 kB processed. <a target=\"_blank\" href=\"https://console.cloud.google.com/bigquery?project=bigframes-load-testing&j=bq:US:08b7a223-255e-4bcf-a12e-5817608f8b81&page=queryresults\">Open Job</a>"
      ],
      "text/plain": [
       "<IPython.core.display.HTML object>"
      ]
     },
     "metadata": {},
     "output_type": "display_data"
    }
   ],
   "source": [
    "sdf = session.read_gbq_streaming(\"birds.penguins_bigtable_streaming\")"
   ]
  },
  {
   "cell_type": "code",
   "execution_count": 4,
   "metadata": {},
   "outputs": [
    {
     "data": {
      "text/html": [
       "Query job 7519afc5-da18-445e-ab2a-60760cabb8c4 is DONE. 0 Bytes processed. <a target=\"_blank\" href=\"https://console.cloud.google.com/bigquery?project=bigframes-load-testing&j=bq:US:7519afc5-da18-445e-ab2a-60760cabb8c4&page=queryresults\">Open Job</a>"
      ],
      "text/plain": [
       "<IPython.core.display.HTML object>"
      ]
     },
     "metadata": {},
     "output_type": "display_data"
    },
    {
     "data": {
      "text/html": [
       "Query job bb5dbf47-4706-4429-8d94-59f8d90217a2 is DONE. 28.9 kB processed. <a target=\"_blank\" href=\"https://console.cloud.google.com/bigquery?project=bigframes-load-testing&j=bq:US:bb5dbf47-4706-4429-8d94-59f8d90217a2&page=queryresults\">Open Job</a>"
      ],
      "text/plain": [
       "<IPython.core.display.HTML object>"
      ]
     },
     "metadata": {},
     "output_type": "display_data"
    },
    {
     "data": {
      "text/html": [
       "Query job fc1a8ac5-c367-4247-a1f2-afe1133768b7 is DONE. 2.7 kB processed. <a target=\"_blank\" href=\"https://console.cloud.google.com/bigquery?project=bigframes-load-testing&j=bq:US:fc1a8ac5-c367-4247-a1f2-afe1133768b7&page=queryresults\">Open Job</a>"
      ],
      "text/plain": [
       "<IPython.core.display.HTML object>"
      ]
     },
     "metadata": {},
     "output_type": "display_data"
    },
    {
     "data": {
      "text/html": [
       "Query job 1cf9aafc-44da-4cd9-9649-bfa32e40ce20 is DONE. 28.9 kB processed. <a target=\"_blank\" href=\"https://console.cloud.google.com/bigquery?project=bigframes-load-testing&j=bq:US:1cf9aafc-44da-4cd9-9649-bfa32e40ce20&page=queryresults\">Open Job</a>"
      ],
      "text/plain": [
       "<IPython.core.display.HTML object>"
      ]
     },
     "metadata": {},
     "output_type": "display_data"
    },
    {
     "data": {
      "text/html": [
       "Query job c0752c4f-5e1e-45e2-80ed-bf25c5c27752 is DONE. 2.7 kB processed. <a target=\"_blank\" href=\"https://console.cloud.google.com/bigquery?project=bigframes-load-testing&j=bq:US:c0752c4f-5e1e-45e2-80ed-bf25c5c27752&page=queryresults\">Open Job</a>"
      ],
      "text/plain": [
       "<IPython.core.display.HTML object>"
      ]
     },
     "metadata": {},
     "output_type": "display_data"
    },
    {
     "data": {
      "text/html": [
       "Query job f6438879-76e5-43e8-971a-17cb4a17e530 is DONE. 28.9 kB processed. <a target=\"_blank\" href=\"https://console.cloud.google.com/bigquery?project=bigframes-load-testing&j=bq:US:f6438879-76e5-43e8-971a-17cb4a17e530&page=queryresults\">Open Job</a>"
      ],
      "text/plain": [
       "<IPython.core.display.HTML object>"
      ]
     },
     "metadata": {},
     "output_type": "display_data"
    },
    {
     "name": "stdout",
     "output_type": "stream",
     "text": [
      "<class 'bigframes.streaming.StreamingDataFrame'>\n"
     ]
    },
    {
     "data": {
      "text/html": [
       "Query job e7ae44a9-8bc3-45fa-8d1c-0eba74850170 is DONE. 28.9 kB processed. <a target=\"_blank\" href=\"https://console.cloud.google.com/bigquery?project=bigframes-load-testing&j=bq:US:e7ae44a9-8bc3-45fa-8d1c-0eba74850170&page=queryresults\">Open Job</a>"
      ],
      "text/plain": [
       "<IPython.core.display.HTML object>"
      ]
     },
     "metadata": {},
     "output_type": "display_data"
    },
    {
     "data": {
      "text/html": [
       "<div>\n",
       "<style scoped>\n",
       "    .dataframe tbody tr th:only-of-type {\n",
       "        vertical-align: middle;\n",
       "    }\n",
       "\n",
       "    .dataframe tbody tr th {\n",
       "        vertical-align: top;\n",
       "    }\n",
       "\n",
       "    .dataframe thead th {\n",
       "        text-align: right;\n",
       "    }\n",
       "</style>\n",
       "<table border=\"1\" class=\"dataframe\">\n",
       "  <thead>\n",
       "    <tr style=\"text-align: right;\">\n",
       "      <th></th>\n",
       "      <th>species</th>\n",
       "      <th>rowkey</th>\n",
       "      <th>body_mass_g</th>\n",
       "    </tr>\n",
       "  </thead>\n",
       "  <tbody>\n",
       "    <tr>\n",
       "      <th>2</th>\n",
       "      <td>Adelie Penguin (Pygoscelis adeliae)</td>\n",
       "      <td>Torgersen</td>\n",
       "      <td>3875</td>\n",
       "    </tr>\n",
       "    <tr>\n",
       "      <th>3</th>\n",
       "      <td>Adelie Penguin (Pygoscelis adeliae)</td>\n",
       "      <td>Torgersen</td>\n",
       "      <td>2900</td>\n",
       "    </tr>\n",
       "    <tr>\n",
       "      <th>5</th>\n",
       "      <td>Adelie Penguin (Pygoscelis adeliae)</td>\n",
       "      <td>Biscoe</td>\n",
       "      <td>3725</td>\n",
       "    </tr>\n",
       "    <tr>\n",
       "      <th>6</th>\n",
       "      <td>Adelie Penguin (Pygoscelis adeliae)</td>\n",
       "      <td>Dream</td>\n",
       "      <td>2975</td>\n",
       "    </tr>\n",
       "    <tr>\n",
       "      <th>11</th>\n",
       "      <td>Adelie Penguin (Pygoscelis adeliae)</td>\n",
       "      <td>Torgersen</td>\n",
       "      <td>3050</td>\n",
       "    </tr>\n",
       "    <tr>\n",
       "      <th>14</th>\n",
       "      <td>Chinstrap penguin (Pygoscelis antarctica)</td>\n",
       "      <td>Dream</td>\n",
       "      <td>2700</td>\n",
       "    </tr>\n",
       "    <tr>\n",
       "      <th>15</th>\n",
       "      <td>Adelie Penguin (Pygoscelis adeliae)</td>\n",
       "      <td>Dream</td>\n",
       "      <td>3900</td>\n",
       "    </tr>\n",
       "    <tr>\n",
       "      <th>17</th>\n",
       "      <td>Adelie Penguin (Pygoscelis adeliae)</td>\n",
       "      <td>Biscoe</td>\n",
       "      <td>3825</td>\n",
       "    </tr>\n",
       "    <tr>\n",
       "      <th>21</th>\n",
       "      <td>Chinstrap penguin (Pygoscelis antarctica)</td>\n",
       "      <td>Dream</td>\n",
       "      <td>3775</td>\n",
       "    </tr>\n",
       "    <tr>\n",
       "      <th>22</th>\n",
       "      <td>Adelie Penguin (Pygoscelis adeliae)</td>\n",
       "      <td>Dream</td>\n",
       "      <td>3350</td>\n",
       "    </tr>\n",
       "    <tr>\n",
       "      <th>24</th>\n",
       "      <td>Adelie Penguin (Pygoscelis adeliae)</td>\n",
       "      <td>Biscoe</td>\n",
       "      <td>3900</td>\n",
       "    </tr>\n",
       "    <tr>\n",
       "      <th>25</th>\n",
       "      <td>Adelie Penguin (Pygoscelis adeliae)</td>\n",
       "      <td>Torgersen</td>\n",
       "      <td>3650</td>\n",
       "    </tr>\n",
       "    <tr>\n",
       "      <th>26</th>\n",
       "      <td>Adelie Penguin (Pygoscelis adeliae)</td>\n",
       "      <td>Biscoe</td>\n",
       "      <td>3200</td>\n",
       "    </tr>\n",
       "    <tr>\n",
       "      <th>27</th>\n",
       "      <td>Chinstrap penguin (Pygoscelis antarctica)</td>\n",
       "      <td>Dream</td>\n",
       "      <td>3650</td>\n",
       "    </tr>\n",
       "    <tr>\n",
       "      <th>28</th>\n",
       "      <td>Adelie Penguin (Pygoscelis adeliae)</td>\n",
       "      <td>Dream</td>\n",
       "      <td>3700</td>\n",
       "    </tr>\n",
       "    <tr>\n",
       "      <th>30</th>\n",
       "      <td>Chinstrap penguin (Pygoscelis antarctica)</td>\n",
       "      <td>Dream</td>\n",
       "      <td>3800</td>\n",
       "    </tr>\n",
       "    <tr>\n",
       "      <th>32</th>\n",
       "      <td>Chinstrap penguin (Pygoscelis antarctica)</td>\n",
       "      <td>Dream</td>\n",
       "      <td>3950</td>\n",
       "    </tr>\n",
       "    <tr>\n",
       "      <th>33</th>\n",
       "      <td>Chinstrap penguin (Pygoscelis antarctica)</td>\n",
       "      <td>Dream</td>\n",
       "      <td>3350</td>\n",
       "    </tr>\n",
       "    <tr>\n",
       "      <th>36</th>\n",
       "      <td>Adelie Penguin (Pygoscelis adeliae)</td>\n",
       "      <td>Dream</td>\n",
       "      <td>3100</td>\n",
       "    </tr>\n",
       "    <tr>\n",
       "      <th>37</th>\n",
       "      <td>Chinstrap penguin (Pygoscelis antarctica)</td>\n",
       "      <td>Dream</td>\n",
       "      <td>3750</td>\n",
       "    </tr>\n",
       "    <tr>\n",
       "      <th>38</th>\n",
       "      <td>Adelie Penguin (Pygoscelis adeliae)</td>\n",
       "      <td>Biscoe</td>\n",
       "      <td>3550</td>\n",
       "    </tr>\n",
       "    <tr>\n",
       "      <th>39</th>\n",
       "      <td>Chinstrap penguin (Pygoscelis antarctica)</td>\n",
       "      <td>Dream</td>\n",
       "      <td>3400</td>\n",
       "    </tr>\n",
       "    <tr>\n",
       "      <th>41</th>\n",
       "      <td>Adelie Penguin (Pygoscelis adeliae)</td>\n",
       "      <td>Torgersen</td>\n",
       "      <td>3450</td>\n",
       "    </tr>\n",
       "    <tr>\n",
       "      <th>42</th>\n",
       "      <td>Adelie Penguin (Pygoscelis adeliae)</td>\n",
       "      <td>Torgersen</td>\n",
       "      <td>3600</td>\n",
       "    </tr>\n",
       "    <tr>\n",
       "      <th>48</th>\n",
       "      <td>Chinstrap penguin (Pygoscelis antarctica)</td>\n",
       "      <td>Dream</td>\n",
       "      <td>3650</td>\n",
       "    </tr>\n",
       "  </tbody>\n",
       "</table>\n",
       "<p>25 rows × 3 columns</p>\n",
       "</div>[165 rows x 3 columns in total]"
      ],
      "text/plain": [
       "<bigframes.streaming.StreamingDataFrame at 0x7f6410271f30>"
      ]
     },
     "execution_count": 4,
     "metadata": {},
     "output_type": "execute_result"
    }
   ],
   "source": [
    "sdf = sdf[[\"species\", \"island\", \"body_mass_g\"]]\n",
    "sdf = sdf[sdf[\"body_mass_g\"] < 4000]\n",
    "sdf = sdf.rename(columns={\"island\": \"rowkey\"})\n",
    "print(type(sdf))\n",
    "sdf"
   ]
  },
  {
   "cell_type": "code",
   "execution_count": 5,
   "metadata": {},
   "outputs": [
    {
     "name": "stdout",
     "output_type": "stream",
     "text": [
      "WITH t0 AS (\n",
      "  SELECT\n",
      "    t6.`species`,\n",
      "    t6.`island`,\n",
      "    t6.`culmen_length_mm`,\n",
      "    t6.`culmen_depth_mm`,\n",
      "    t6.`flipper_length_mm`,\n",
      "    t6.`body_mass_g`,\n",
      "    t6.`sex`,\n",
      "    farm_fingerprint(\n",
      "      CONCAT(\n",
      "        CONCAT('\\\\', REPLACE(coalesce(t6.`species`, ''), '\\\\', '\\\\\\\\')),\n",
      "        CONCAT('\\\\', REPLACE(coalesce(t6.`island`, ''), '\\\\', '\\\\\\\\')),\n",
      "        CONCAT('\\\\', REPLACE(coalesce(CAST(t6.`culmen_length_mm` AS STRING), ''), '\\\\', '\\\\\\\\')),\n",
      "        CONCAT('\\\\', REPLACE(coalesce(CAST(t6.`culmen_depth_mm` AS STRING), ''), '\\\\', '\\\\\\\\')),\n",
      "        CONCAT('\\\\', REPLACE(coalesce(CAST(t6.`flipper_length_mm` AS STRING), ''), '\\\\', '\\\\\\\\')),\n",
      "        CONCAT('\\\\', REPLACE(coalesce(CAST(t6.`body_mass_g` AS STRING), ''), '\\\\', '\\\\\\\\')),\n",
      "        CONCAT('\\\\', REPLACE(coalesce(t6.`sex`, ''), '\\\\', '\\\\\\\\'))\n",
      "      )\n",
      "    ) AS `bigframes_ordering_2`,\n",
      "    farm_fingerprint(\n",
      "      CONCAT(\n",
      "        CONCAT(\n",
      "          CONCAT('\\\\', REPLACE(coalesce(t6.`species`, ''), '\\\\', '\\\\\\\\')),\n",
      "          CONCAT('\\\\', REPLACE(coalesce(t6.`island`, ''), '\\\\', '\\\\\\\\')),\n",
      "          CONCAT('\\\\', REPLACE(coalesce(CAST(t6.`culmen_length_mm` AS STRING), ''), '\\\\', '\\\\\\\\')),\n",
      "          CONCAT('\\\\', REPLACE(coalesce(CAST(t6.`culmen_depth_mm` AS STRING), ''), '\\\\', '\\\\\\\\')),\n",
      "          CONCAT('\\\\', REPLACE(coalesce(CAST(t6.`flipper_length_mm` AS STRING), ''), '\\\\', '\\\\\\\\')),\n",
      "          CONCAT('\\\\', REPLACE(coalesce(CAST(t6.`body_mass_g` AS STRING), ''), '\\\\', '\\\\\\\\')),\n",
      "          CONCAT('\\\\', REPLACE(coalesce(t6.`sex`, ''), '\\\\', '\\\\\\\\'))\n",
      "        ),\n",
      "        '_'\n",
      "      )\n",
      "    ) AS `bigframes_ordering_3`,\n",
      "    RAND() AS `bigframes_ordering_4`\n",
      "  FROM `bigframes-load-testing`.birds.penguins_bigtable_streaming AS t6\n",
      "), t1 AS (\n",
      "  SELECT\n",
      "    t0.`species`,\n",
      "    t0.`island`,\n",
      "    t0.`culmen_length_mm`,\n",
      "    t0.`culmen_depth_mm`,\n",
      "    t0.`flipper_length_mm`,\n",
      "    t0.`body_mass_g`,\n",
      "    t0.`sex`,\n",
      "    (\n",
      "      row_number() OVER (ORDER BY t0.`bigframes_ordering_2` IS NULL ASC, t0.`bigframes_ordering_2` ASC, t0.`bigframes_ordering_3` IS NULL ASC, t0.`bigframes_ordering_3` ASC, t0.`bigframes_ordering_4` IS NULL ASC, t0.`bigframes_ordering_4` ASC) - 1\n",
      "    ) AS `bigframes_ordering_id`\n",
      "  FROM t0\n",
      "), t2 AS (\n",
      "  SELECT\n",
      "    t1.`species`,\n",
      "    t1.`island`,\n",
      "    t1.`culmen_length_mm`,\n",
      "    t1.`culmen_depth_mm`,\n",
      "    t1.`flipper_length_mm`,\n",
      "    t1.`body_mass_g`,\n",
      "    t1.`sex`,\n",
      "    t1.`bigframes_ordering_id`\n",
      "  FROM t1\n",
      "), t3 AS (\n",
      "  SELECT\n",
      "    t2.`species` AS `col_7`,\n",
      "    t2.`island` AS `col_8`,\n",
      "    t2.`body_mass_g` AS `col_9`,\n",
      "    t2.`body_mass_g` < 4000 AS `bigframes_predicate`\n",
      "  FROM t2\n",
      "), t4 AS (\n",
      "  SELECT\n",
      "    t3.*\n",
      "  FROM t3\n",
      "  WHERE\n",
      "    t3.`bigframes_predicate`\n",
      ")\n",
      "SELECT\n",
      "  t5.`col_7` AS `species`,\n",
      "  t5.`col_8` AS `rowkey`,\n",
      "  t5.`col_9` AS `body_mass_g`\n",
      "FROM (\n",
      "  SELECT\n",
      "    t4.`col_7`,\n",
      "    t4.`col_8`,\n",
      "    t4.`col_9`\n",
      "  FROM t4\n",
      ") AS t5\n"
     ]
    }
   ],
   "source": [
    "print(sdf.sql)"
   ]
  },
  {
   "cell_type": "markdown",
   "metadata": {},
   "source": [
    "### BigTable"
   ]
  },
  {
   "cell_type": "code",
   "execution_count": 6,
   "metadata": {},
   "outputs": [
    {
     "name": "stderr",
     "output_type": "stream",
     "text": [
      "/usr/local/google/home/garrettwu/src/bigframes/bigframes/streaming/__init__.py:209: PreviewWarning: The bigframes.streaming module is a preview feature, and subject to change.\n",
      "  warnings.warn(\n"
     ]
    }
   ],
   "source": [
    "job = sdf.to_bigtable(instance=\"streaming-testing-instance\",\n",
    "    table=\"garrettwu-no-col-family\",\n",
    "    service_account_email=\"streaming-testing-admin@bigframes-load-testing.iam.gserviceaccount.com\",\n",
    "    app_profile=None,\n",
    "    truncate=True,\n",
    "    overwrite=True,\n",
    "    auto_create_column_families=True,\n",
    "    bigtable_options={},\n",
    "    job_id=None,\n",
    "    job_id_prefix=job_id_prefix,)"
   ]
  },
  {
   "cell_type": "code",
   "execution_count": 7,
   "metadata": {},
   "outputs": [
    {
     "name": "stdout",
     "output_type": "stream",
     "text": [
      "True\n",
      "None\n"
     ]
    }
   ],
   "source": [
    "print(job.running())\n",
    "print(job.error_result)"
   ]
  },
  {
   "cell_type": "code",
   "execution_count": 8,
   "metadata": {},
   "outputs": [
    {
     "data": {
      "text/plain": [
       "True"
      ]
     },
     "execution_count": 8,
     "metadata": {},
     "output_type": "execute_result"
    }
   ],
   "source": [
    "job.cancel()"
   ]
  },
  {
   "cell_type": "markdown",
   "metadata": {},
   "source": [
    "### PubSub"
   ]
  },
  {
   "cell_type": "code",
   "execution_count": 9,
   "metadata": {},
   "outputs": [
    {
     "data": {
      "text/html": [
       "Query job 586629c2-163e-4cd7-857f-cdeb9cfb301e is DONE. 2.7 kB processed. <a target=\"_blank\" href=\"https://console.cloud.google.com/bigquery?project=bigframes-load-testing&j=bq:US:586629c2-163e-4cd7-857f-cdeb9cfb301e&page=queryresults\">Open Job</a>"
      ],
      "text/plain": [
       "<IPython.core.display.HTML object>"
      ]
     },
     "metadata": {},
     "output_type": "display_data"
    },
    {
     "data": {
      "text/html": [
       "Query job 73cb57fe-87ad-41a6-a9a8-7913906668de is DONE. 28.9 kB processed. <a target=\"_blank\" href=\"https://console.cloud.google.com/bigquery?project=bigframes-load-testing&j=bq:US:73cb57fe-87ad-41a6-a9a8-7913906668de&page=queryresults\">Open Job</a>"
      ],
      "text/plain": [
       "<IPython.core.display.HTML object>"
      ]
     },
     "metadata": {},
     "output_type": "display_data"
    }
   ],
   "source": [
    "sdf = sdf[[\"rowkey\"]]"
   ]
  },
  {
   "cell_type": "code",
   "execution_count": 10,
   "metadata": {},
   "outputs": [
    {
     "name": "stderr",
     "output_type": "stream",
     "text": [
      "/usr/local/google/home/garrettwu/src/bigframes/bigframes/streaming/__init__.py:324: PreviewWarning: The bigframes.streaming module is a preview feature, and subject to change.\n",
      "  warnings.warn(\n"
     ]
    }
   ],
   "source": [
    "job = sdf.to_pubsub(\n",
    "        topic=\"penguins\",\n",
    "        service_account_email=\"streaming-testing@bigframes-load-testing.iam.gserviceaccount.com\",\n",
    "        job_id=None,\n",
    "        job_id_prefix=job_id_prefix,\n",
    "    )"
   ]
  },
  {
   "cell_type": "code",
   "execution_count": 11,
   "metadata": {},
   "outputs": [
    {
     "name": "stdout",
     "output_type": "stream",
     "text": [
      "True\n",
      "None\n"
     ]
    }
   ],
   "source": [
    "print(job.running())\n",
    "print(job.error_result)"
   ]
  },
  {
   "cell_type": "code",
   "execution_count": 12,
   "metadata": {},
   "outputs": [
    {
     "data": {
      "text/plain": [
       "True"
      ]
     },
     "execution_count": 12,
     "metadata": {},
     "output_type": "execute_result"
    }
   ],
   "source": [
    "job.cancel()"
   ]
  },
  {
   "cell_type": "code",
   "execution_count": null,
   "metadata": {},
   "outputs": [],
   "source": []
  }
 ],
 "metadata": {
  "kernelspec": {
   "display_name": "venv",
   "language": "python",
   "name": "python3"
  },
  "language_info": {
   "codemirror_mode": {
    "name": "ipython",
    "version": 3
   },
   "file_extension": ".py",
   "mimetype": "text/x-python",
   "name": "python",
   "nbconvert_exporter": "python",
   "pygments_lexer": "ipython3",
   "version": "3.10.9"
  }
 },
 "nbformat": 4,
 "nbformat_minor": 2
}
