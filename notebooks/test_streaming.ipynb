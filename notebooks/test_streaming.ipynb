{
 "cells": [
  {
   "cell_type": "code",
   "execution_count": 1,
   "metadata": {},
   "outputs": [],
   "source": [
    "import bigframes\n",
    "import bigframes.pandas as bpd\n",
    "import bigframes.streaming as bs"
   ]
  },
  {
   "cell_type": "code",
   "execution_count": 2,
   "metadata": {},
   "outputs": [
    {
     "name": "stderr",
     "output_type": "stream",
     "text": [
      "/usr/local/google/home/garrettwu/src/bigframes/bigframes/pandas/__init__.py:853: DefaultLocationWarning: No explicit location is set, so using location US for the session.\n",
      "  return global_session.get_global_session()\n"
     ]
    }
   ],
   "source": [
    "bigframes.options._bigquery_options.project = \"bigframes-load-testing\"\n",
    "job_id_prefix = \"test_streaming_\"\n",
    "session = bpd.get_global_session()"
   ]
  },
  {
   "cell_type": "code",
   "execution_count": 3,
   "metadata": {},
   "outputs": [
    {
     "data": {
      "text/html": [
       "Query job 9dabd5f0-b7a9-48ae-9594-af1181707adf is DONE. 0 Bytes processed. <a target=\"_blank\" href=\"https://console.cloud.google.com/bigquery?project=bigframes-load-testing&j=bq:US:9dabd5f0-b7a9-48ae-9594-af1181707adf&page=queryresults\">Open Job</a>"
      ],
      "text/plain": [
       "<IPython.core.display.HTML object>"
      ]
     },
     "metadata": {},
     "output_type": "display_data"
    },
    {
     "data": {
      "text/html": [
       "Query job f2147842-ef08-4f11-b3db-15522efd29ef is DONE. 28.9 kB processed. <a target=\"_blank\" href=\"https://console.cloud.google.com/bigquery?project=bigframes-load-testing&j=bq:US:f2147842-ef08-4f11-b3db-15522efd29ef&page=queryresults\">Open Job</a>"
      ],
      "text/plain": [
       "<IPython.core.display.HTML object>"
      ]
     },
     "metadata": {},
     "output_type": "display_data"
    },
    {
     "data": {
      "text/plain": [
       "bigframes.streaming.StreamingDataFrame"
      ]
     },
     "execution_count": 3,
     "metadata": {},
     "output_type": "execute_result"
    }
   ],
   "source": [
    "sdf = session.read_gbq_streaming(\"birds.penguins_bigtable_streaming\")\n",
    "type(sdf)"
   ]
  },
  {
   "cell_type": "code",
   "execution_count": 4,
   "metadata": {},
   "outputs": [
    {
     "data": {
      "text/html": [
       "Query job 724c0b19-81e4-400c-82a5-92c114263d9a is DONE. 0 Bytes processed. <a target=\"_blank\" href=\"https://console.cloud.google.com/bigquery?project=bigframes-load-testing&j=bq:US:724c0b19-81e4-400c-82a5-92c114263d9a&page=queryresults\">Open Job</a>"
      ],
      "text/plain": [
       "<IPython.core.display.HTML object>"
      ]
     },
     "metadata": {},
     "output_type": "display_data"
    },
    {
     "data": {
      "text/html": [
       "Query job 2d95ac17-f2a7-4f7a-9b39-8368e2d25ad0 is DONE. 28.9 kB processed. <a target=\"_blank\" href=\"https://console.cloud.google.com/bigquery?project=bigframes-load-testing&j=bq:US:2d95ac17-f2a7-4f7a-9b39-8368e2d25ad0&page=queryresults\">Open Job</a>"
      ],
      "text/plain": [
       "<IPython.core.display.HTML object>"
      ]
     },
     "metadata": {},
     "output_type": "display_data"
    },
    {
     "data": {
      "text/plain": [
       "bigframes.streaming.StreamingDataFrame"
      ]
     },
     "execution_count": 4,
     "metadata": {},
     "output_type": "execute_result"
    }
   ],
   "source": [
    "sdf = sdf[[\"species\", \"island\", \"body_mass_g\"]]\n",
    "type(sdf)"
   ]
  },
  {
   "cell_type": "code",
   "execution_count": 5,
   "metadata": {},
   "outputs": [
    {
     "data": {
      "text/html": [
       "Query job 138ef6ac-f74b-45df-bb77-a8421c5f8f41 is DONE. 2.7 kB processed. <a target=\"_blank\" href=\"https://console.cloud.google.com/bigquery?project=bigframes-load-testing&j=bq:US:138ef6ac-f74b-45df-bb77-a8421c5f8f41&page=queryresults\">Open Job</a>"
      ],
      "text/plain": [
       "<IPython.core.display.HTML object>"
      ]
     },
     "metadata": {},
     "output_type": "display_data"
    },
    {
     "data": {
      "text/html": [
       "Query job c52c9c94-af7d-467b-bb2d-c3f9c200f518 is DONE. 28.9 kB processed. <a target=\"_blank\" href=\"https://console.cloud.google.com/bigquery?project=bigframes-load-testing&j=bq:US:c52c9c94-af7d-467b-bb2d-c3f9c200f518&page=queryresults\">Open Job</a>"
      ],
      "text/plain": [
       "<IPython.core.display.HTML object>"
      ]
     },
     "metadata": {},
     "output_type": "display_data"
    },
    {
     "data": {
      "text/plain": [
       "bigframes.streaming.StreamingDataFrame"
      ]
     },
     "execution_count": 5,
     "metadata": {},
     "output_type": "execute_result"
    }
   ],
   "source": [
    "sdf = sdf[sdf[\"body_mass_g\"] < 4000]\n",
    "type(sdf)"
   ]
  },
  {
   "cell_type": "code",
   "execution_count": 7,
   "metadata": {},
   "outputs": [
    {
     "data": {
      "text/plain": [
       "True"
      ]
     },
     "execution_count": 7,
     "metadata": {},
     "output_type": "execute_result"
    }
   ],
   "source": [
    "callable(getattr(sdf._df, \"rename\"))"
   ]
  },
  {
   "cell_type": "code",
   "execution_count": null,
   "metadata": {},
   "outputs": [],
   "source": []
  },
  {
   "cell_type": "code",
   "execution_count": 4,
   "metadata": {},
   "outputs": [
    {
     "data": {
      "text/html": [
       "Query job 9e38e907-6c51-4f4c-ba7d-50a789e28e6a is DONE. 0 Bytes processed. <a target=\"_blank\" href=\"https://console.cloud.google.com/bigquery?project=bigframes-load-testing&j=bq:US:9e38e907-6c51-4f4c-ba7d-50a789e28e6a&page=queryresults\">Open Job</a>"
      ],
      "text/plain": [
       "<IPython.core.display.HTML object>"
      ]
     },
     "metadata": {},
     "output_type": "display_data"
    },
    {
     "data": {
      "text/html": [
       "Query job ab189bae-c745-41fb-bdc3-15e5ea102379 is DONE. 28.9 kB processed. <a target=\"_blank\" href=\"https://console.cloud.google.com/bigquery?project=bigframes-load-testing&j=bq:US:ab189bae-c745-41fb-bdc3-15e5ea102379&page=queryresults\">Open Job</a>"
      ],
      "text/plain": [
       "<IPython.core.display.HTML object>"
      ]
     },
     "metadata": {},
     "output_type": "display_data"
    },
    {
     "data": {
      "text/plain": [
       "bigframes.streaming.StreamingDataFrame"
      ]
     },
     "execution_count": 4,
     "metadata": {},
     "output_type": "execute_result"
    }
   ],
   "source": [
    "sdf = sdf.rename(columns={\"island\": \"rowkey\"})\n",
    "type(sdf)"
   ]
  },
  {
   "cell_type": "code",
   "execution_count": 5,
   "metadata": {},
   "outputs": [
    {
     "data": {
      "text/plain": [
       "bigframes.streaming.StreamingDataFrame"
      ]
     },
     "execution_count": 5,
     "metadata": {},
     "output_type": "execute_result"
    }
   ],
   "source": [
    "type(sdf)"
   ]
  },
  {
   "cell_type": "code",
   "execution_count": 6,
   "metadata": {},
   "outputs": [
    {
     "data": {
      "text/html": [
       "Query job 49dbe340-1b76-4f13-8725-5f298376f5c9 is DONE. 28.9 kB processed. <a target=\"_blank\" href=\"https://console.cloud.google.com/bigquery?project=bigframes-load-testing&j=bq:US:49dbe340-1b76-4f13-8725-5f298376f5c9&page=queryresults\">Open Job</a>"
      ],
      "text/plain": [
       "<IPython.core.display.HTML object>"
      ]
     },
     "metadata": {},
     "output_type": "display_data"
    },
    {
     "data": {
      "text/html": [
       "<div>\n",
       "<style scoped>\n",
       "    .dataframe tbody tr th:only-of-type {\n",
       "        vertical-align: middle;\n",
       "    }\n",
       "\n",
       "    .dataframe tbody tr th {\n",
       "        vertical-align: top;\n",
       "    }\n",
       "\n",
       "    .dataframe thead th {\n",
       "        text-align: right;\n",
       "    }\n",
       "</style>\n",
       "<table border=\"1\" class=\"dataframe\">\n",
       "  <thead>\n",
       "    <tr style=\"text-align: right;\">\n",
       "      <th></th>\n",
       "      <th>species</th>\n",
       "      <th>rowkey</th>\n",
       "      <th>culmen_length_mm</th>\n",
       "      <th>culmen_depth_mm</th>\n",
       "      <th>flipper_length_mm</th>\n",
       "      <th>body_mass_g</th>\n",
       "      <th>sex</th>\n",
       "    </tr>\n",
       "  </thead>\n",
       "  <tbody>\n",
       "    <tr>\n",
       "      <th>0</th>\n",
       "      <td>Gentoo penguin (Pygoscelis papua)</td>\n",
       "      <td>Biscoe</td>\n",
       "      <td>50.5</td>\n",
       "      <td>15.9</td>\n",
       "      <td>225</td>\n",
       "      <td>5400</td>\n",
       "      <td>MALE</td>\n",
       "    </tr>\n",
       "    <tr>\n",
       "      <th>1</th>\n",
       "      <td>Gentoo penguin (Pygoscelis papua)</td>\n",
       "      <td>Biscoe</td>\n",
       "      <td>45.1</td>\n",
       "      <td>14.5</td>\n",
       "      <td>215</td>\n",
       "      <td>5000</td>\n",
       "      <td>FEMALE</td>\n",
       "    </tr>\n",
       "    <tr>\n",
       "      <th>2</th>\n",
       "      <td>Adelie Penguin (Pygoscelis adeliae)</td>\n",
       "      <td>Torgersen</td>\n",
       "      <td>41.4</td>\n",
       "      <td>18.5</td>\n",
       "      <td>202</td>\n",
       "      <td>3875</td>\n",
       "      <td>MALE</td>\n",
       "    </tr>\n",
       "    <tr>\n",
       "      <th>3</th>\n",
       "      <td>Adelie Penguin (Pygoscelis adeliae)</td>\n",
       "      <td>Torgersen</td>\n",
       "      <td>38.6</td>\n",
       "      <td>17.0</td>\n",
       "      <td>188</td>\n",
       "      <td>2900</td>\n",
       "      <td>FEMALE</td>\n",
       "    </tr>\n",
       "    <tr>\n",
       "      <th>4</th>\n",
       "      <td>Gentoo penguin (Pygoscelis papua)</td>\n",
       "      <td>Biscoe</td>\n",
       "      <td>46.5</td>\n",
       "      <td>14.8</td>\n",
       "      <td>217</td>\n",
       "      <td>5200</td>\n",
       "      <td>FEMALE</td>\n",
       "    </tr>\n",
       "    <tr>\n",
       "      <th>5</th>\n",
       "      <td>Adelie Penguin (Pygoscelis adeliae)</td>\n",
       "      <td>Biscoe</td>\n",
       "      <td>35.0</td>\n",
       "      <td>17.9</td>\n",
       "      <td>192</td>\n",
       "      <td>3725</td>\n",
       "      <td>FEMALE</td>\n",
       "    </tr>\n",
       "    <tr>\n",
       "      <th>6</th>\n",
       "      <td>Adelie Penguin (Pygoscelis adeliae)</td>\n",
       "      <td>Dream</td>\n",
       "      <td>37.5</td>\n",
       "      <td>18.9</td>\n",
       "      <td>179</td>\n",
       "      <td>2975</td>\n",
       "      <td>&lt;NA&gt;</td>\n",
       "    </tr>\n",
       "    <tr>\n",
       "      <th>7</th>\n",
       "      <td>Gentoo penguin (Pygoscelis papua)</td>\n",
       "      <td>Biscoe</td>\n",
       "      <td>42.0</td>\n",
       "      <td>13.5</td>\n",
       "      <td>210</td>\n",
       "      <td>4150</td>\n",
       "      <td>FEMALE</td>\n",
       "    </tr>\n",
       "    <tr>\n",
       "      <th>8</th>\n",
       "      <td>Gentoo penguin (Pygoscelis papua)</td>\n",
       "      <td>Biscoe</td>\n",
       "      <td>48.5</td>\n",
       "      <td>14.1</td>\n",
       "      <td>220</td>\n",
       "      <td>5300</td>\n",
       "      <td>MALE</td>\n",
       "    </tr>\n",
       "    <tr>\n",
       "      <th>9</th>\n",
       "      <td>Adelie Penguin (Pygoscelis adeliae)</td>\n",
       "      <td>Torgersen</td>\n",
       "      <td>45.8</td>\n",
       "      <td>18.9</td>\n",
       "      <td>197</td>\n",
       "      <td>4150</td>\n",
       "      <td>MALE</td>\n",
       "    </tr>\n",
       "    <tr>\n",
       "      <th>10</th>\n",
       "      <td>Chinstrap penguin (Pygoscelis antarctica)</td>\n",
       "      <td>Dream</td>\n",
       "      <td>49.0</td>\n",
       "      <td>19.6</td>\n",
       "      <td>212</td>\n",
       "      <td>4300</td>\n",
       "      <td>MALE</td>\n",
       "    </tr>\n",
       "    <tr>\n",
       "      <th>11</th>\n",
       "      <td>Adelie Penguin (Pygoscelis adeliae)</td>\n",
       "      <td>Torgersen</td>\n",
       "      <td>35.9</td>\n",
       "      <td>16.6</td>\n",
       "      <td>190</td>\n",
       "      <td>3050</td>\n",
       "      <td>FEMALE</td>\n",
       "    </tr>\n",
       "    <tr>\n",
       "      <th>12</th>\n",
       "      <td>Gentoo penguin (Pygoscelis papua)</td>\n",
       "      <td>Biscoe</td>\n",
       "      <td>51.1</td>\n",
       "      <td>16.3</td>\n",
       "      <td>220</td>\n",
       "      <td>6000</td>\n",
       "      <td>MALE</td>\n",
       "    </tr>\n",
       "    <tr>\n",
       "      <th>13</th>\n",
       "      <td>Gentoo penguin (Pygoscelis papua)</td>\n",
       "      <td>Biscoe</td>\n",
       "      <td>42.6</td>\n",
       "      <td>13.7</td>\n",
       "      <td>213</td>\n",
       "      <td>4950</td>\n",
       "      <td>FEMALE</td>\n",
       "    </tr>\n",
       "    <tr>\n",
       "      <th>14</th>\n",
       "      <td>Chinstrap penguin (Pygoscelis antarctica)</td>\n",
       "      <td>Dream</td>\n",
       "      <td>46.9</td>\n",
       "      <td>16.6</td>\n",
       "      <td>192</td>\n",
       "      <td>2700</td>\n",
       "      <td>FEMALE</td>\n",
       "    </tr>\n",
       "    <tr>\n",
       "      <th>15</th>\n",
       "      <td>Adelie Penguin (Pygoscelis adeliae)</td>\n",
       "      <td>Dream</td>\n",
       "      <td>41.1</td>\n",
       "      <td>17.5</td>\n",
       "      <td>190</td>\n",
       "      <td>3900</td>\n",
       "      <td>MALE</td>\n",
       "    </tr>\n",
       "    <tr>\n",
       "      <th>16</th>\n",
       "      <td>Gentoo penguin (Pygoscelis papua)</td>\n",
       "      <td>Biscoe</td>\n",
       "      <td>49.2</td>\n",
       "      <td>15.2</td>\n",
       "      <td>221</td>\n",
       "      <td>6300</td>\n",
       "      <td>MALE</td>\n",
       "    </tr>\n",
       "    <tr>\n",
       "      <th>17</th>\n",
       "      <td>Adelie Penguin (Pygoscelis adeliae)</td>\n",
       "      <td>Biscoe</td>\n",
       "      <td>38.1</td>\n",
       "      <td>16.5</td>\n",
       "      <td>198</td>\n",
       "      <td>3825</td>\n",
       "      <td>FEMALE</td>\n",
       "    </tr>\n",
       "    <tr>\n",
       "      <th>18</th>\n",
       "      <td>Gentoo penguin (Pygoscelis papua)</td>\n",
       "      <td>Biscoe</td>\n",
       "      <td>51.3</td>\n",
       "      <td>14.2</td>\n",
       "      <td>218</td>\n",
       "      <td>5300</td>\n",
       "      <td>MALE</td>\n",
       "    </tr>\n",
       "    <tr>\n",
       "      <th>19</th>\n",
       "      <td>Gentoo penguin (Pygoscelis papua)</td>\n",
       "      <td>Biscoe</td>\n",
       "      <td>43.6</td>\n",
       "      <td>13.9</td>\n",
       "      <td>217</td>\n",
       "      <td>4900</td>\n",
       "      <td>FEMALE</td>\n",
       "    </tr>\n",
       "    <tr>\n",
       "      <th>20</th>\n",
       "      <td>Gentoo penguin (Pygoscelis papua)</td>\n",
       "      <td>Biscoe</td>\n",
       "      <td>42.8</td>\n",
       "      <td>14.2</td>\n",
       "      <td>209</td>\n",
       "      <td>4700</td>\n",
       "      <td>FEMALE</td>\n",
       "    </tr>\n",
       "    <tr>\n",
       "      <th>21</th>\n",
       "      <td>Chinstrap penguin (Pygoscelis antarctica)</td>\n",
       "      <td>Dream</td>\n",
       "      <td>50.2</td>\n",
       "      <td>18.7</td>\n",
       "      <td>198</td>\n",
       "      <td>3775</td>\n",
       "      <td>FEMALE</td>\n",
       "    </tr>\n",
       "    <tr>\n",
       "      <th>22</th>\n",
       "      <td>Adelie Penguin (Pygoscelis adeliae)</td>\n",
       "      <td>Dream</td>\n",
       "      <td>37.3</td>\n",
       "      <td>17.8</td>\n",
       "      <td>191</td>\n",
       "      <td>3350</td>\n",
       "      <td>FEMALE</td>\n",
       "    </tr>\n",
       "    <tr>\n",
       "      <th>23</th>\n",
       "      <td>Gentoo penguin (Pygoscelis papua)</td>\n",
       "      <td>Biscoe</td>\n",
       "      <td>&lt;NA&gt;</td>\n",
       "      <td>&lt;NA&gt;</td>\n",
       "      <td>&lt;NA&gt;</td>\n",
       "      <td>&lt;NA&gt;</td>\n",
       "      <td>&lt;NA&gt;</td>\n",
       "    </tr>\n",
       "    <tr>\n",
       "      <th>24</th>\n",
       "      <td>Adelie Penguin (Pygoscelis adeliae)</td>\n",
       "      <td>Biscoe</td>\n",
       "      <td>39.6</td>\n",
       "      <td>20.7</td>\n",
       "      <td>191</td>\n",
       "      <td>3900</td>\n",
       "      <td>FEMALE</td>\n",
       "    </tr>\n",
       "  </tbody>\n",
       "</table>\n",
       "<p>25 rows × 7 columns</p>\n",
       "</div>[344 rows x 7 columns in total]"
      ],
      "text/plain": [
       "<bigframes.streaming.StreamingDataFrame at 0x7ff4fbd88460>"
      ]
     },
     "execution_count": 6,
     "metadata": {},
     "output_type": "execute_result"
    }
   ],
   "source": [
    "sdf"
   ]
  },
  {
   "cell_type": "code",
   "execution_count": 11,
   "metadata": {},
   "outputs": [
    {
     "data": {
      "text/plain": [
       "bigframes.dataframe.DataFrame"
      ]
     },
     "execution_count": 11,
     "metadata": {},
     "output_type": "execute_result"
    }
   ],
   "source": [
    "type(sdf)"
   ]
  },
  {
   "cell_type": "code",
   "execution_count": 7,
   "metadata": {},
   "outputs": [
    {
     "data": {
      "text/plain": [
       "\"WITH t0 AS (\\n  SELECT\\n    t4.`species`,\\n    t4.`island`,\\n    t4.`culmen_length_mm`,\\n    t4.`culmen_depth_mm`,\\n    t4.`flipper_length_mm`,\\n    t4.`body_mass_g`,\\n    t4.`sex`,\\n    farm_fingerprint(\\n      CONCAT(\\n        CONCAT('\\\\\\\\', REPLACE(coalesce(t4.`species`, ''), '\\\\\\\\', '\\\\\\\\\\\\\\\\')),\\n        CONCAT('\\\\\\\\', REPLACE(coalesce(t4.`island`, ''), '\\\\\\\\', '\\\\\\\\\\\\\\\\')),\\n        CONCAT('\\\\\\\\', REPLACE(coalesce(CAST(t4.`culmen_length_mm` AS STRING), ''), '\\\\\\\\', '\\\\\\\\\\\\\\\\')),\\n        CONCAT('\\\\\\\\', REPLACE(coalesce(CAST(t4.`culmen_depth_mm` AS STRING), ''), '\\\\\\\\', '\\\\\\\\\\\\\\\\')),\\n        CONCAT('\\\\\\\\', REPLACE(coalesce(CAST(t4.`flipper_length_mm` AS STRING), ''), '\\\\\\\\', '\\\\\\\\\\\\\\\\')),\\n        CONCAT('\\\\\\\\', REPLACE(coalesce(CAST(t4.`body_mass_g` AS STRING), ''), '\\\\\\\\', '\\\\\\\\\\\\\\\\')),\\n        CONCAT('\\\\\\\\', REPLACE(coalesce(t4.`sex`, ''), '\\\\\\\\', '\\\\\\\\\\\\\\\\'))\\n      )\\n    ) AS `bigframes_ordering_2`,\\n    farm_fingerprint(\\n      CONCAT(\\n        CONCAT(\\n          CONCAT('\\\\\\\\', REPLACE(coalesce(t4.`species`, ''), '\\\\\\\\', '\\\\\\\\\\\\\\\\')),\\n          CONCAT('\\\\\\\\', REPLACE(coalesce(t4.`island`, ''), '\\\\\\\\', '\\\\\\\\\\\\\\\\')),\\n          CONCAT('\\\\\\\\', REPLACE(coalesce(CAST(t4.`culmen_length_mm` AS STRING), ''), '\\\\\\\\', '\\\\\\\\\\\\\\\\')),\\n          CONCAT('\\\\\\\\', REPLACE(coalesce(CAST(t4.`culmen_depth_mm` AS STRING), ''), '\\\\\\\\', '\\\\\\\\\\\\\\\\')),\\n          CONCAT('\\\\\\\\', REPLACE(coalesce(CAST(t4.`flipper_length_mm` AS STRING), ''), '\\\\\\\\', '\\\\\\\\\\\\\\\\')),\\n          CONCAT('\\\\\\\\', REPLACE(coalesce(CAST(t4.`body_mass_g` AS STRING), ''), '\\\\\\\\', '\\\\\\\\\\\\\\\\')),\\n          CONCAT('\\\\\\\\', REPLACE(coalesce(t4.`sex`, ''), '\\\\\\\\', '\\\\\\\\\\\\\\\\'))\\n        ),\\n        '_'\\n      )\\n    ) AS `bigframes_ordering_3`,\\n    RAND() AS `bigframes_ordering_4`\\n  FROM `bigframes-load-testing`.birds.penguins_bigtable_streaming AS t4\\n), t1 AS (\\n  SELECT\\n    t0.`species`,\\n    t0.`island`,\\n    t0.`culmen_length_mm`,\\n    t0.`culmen_depth_mm`,\\n    t0.`flipper_length_mm`,\\n    t0.`body_mass_g`,\\n    t0.`sex`,\\n    (\\n      row_number() OVER (ORDER BY t0.`bigframes_ordering_2` IS NULL ASC, t0.`bigframes_ordering_2` ASC, t0.`bigframes_ordering_3` IS NULL ASC, t0.`bigframes_ordering_3` ASC, t0.`bigframes_ordering_4` IS NULL ASC, t0.`bigframes_ordering_4` ASC) - 1\\n    ) AS `bigframes_ordering_id`\\n  FROM t0\\n), t2 AS (\\n  SELECT\\n    t1.`species`,\\n    t1.`island`,\\n    t1.`culmen_length_mm`,\\n    t1.`culmen_depth_mm`,\\n    t1.`flipper_length_mm`,\\n    t1.`body_mass_g`,\\n    t1.`sex`,\\n    t1.`bigframes_ordering_id`\\n  FROM t1\\n)\\nSELECT\\n  t3.`species`,\\n  t3.`island` AS `rowkey`,\\n  t3.`culmen_length_mm`,\\n  t3.`culmen_depth_mm`,\\n  t3.`flipper_length_mm`,\\n  t3.`body_mass_g`,\\n  t3.`sex`\\nFROM (\\n  SELECT\\n    t2.`species`,\\n    t2.`island`,\\n    t2.`culmen_length_mm`,\\n    t2.`culmen_depth_mm`,\\n    t2.`flipper_length_mm`,\\n    t2.`body_mass_g`,\\n    t2.`sex`\\n  FROM t2\\n) AS t3\""
      ]
     },
     "execution_count": 7,
     "metadata": {},
     "output_type": "execute_result"
    }
   ],
   "source": [
    "sdf.sql"
   ]
  },
  {
   "cell_type": "code",
   "execution_count": 6,
   "metadata": {},
   "outputs": [
    {
     "data": {
      "text/plain": [
       "bigframes.dataframe.DataFrame"
      ]
     },
     "execution_count": 6,
     "metadata": {},
     "output_type": "execute_result"
    }
   ],
   "source": [
    "type(sdf)"
   ]
  },
  {
   "cell_type": "code",
   "execution_count": 10,
   "metadata": {},
   "outputs": [
    {
     "name": "stderr",
     "output_type": "stream",
     "text": [
      "/usr/local/google/home/garrettwu/src/bigframes/bigframes/streaming/__init__.py:187: PreviewWarning: The bigframes.streaming module is a preview feature, and subject to change.\n",
      "  warnings.warn(\n"
     ]
    }
   ],
   "source": [
    "job = sdf.to_bigtable(instance=\"streaming-testing-instance\",\n",
    "    table=\"garrettwu-no-col-family\",\n",
    "    service_account_email=\"streaming-testing-admin@bigframes-load-testing.iam.gserviceaccount.com\",\n",
    "    app_profile=None,\n",
    "    truncate=True,\n",
    "    overwrite=True,\n",
    "    auto_create_column_families=True,\n",
    "    bigtable_options={},\n",
    "    job_id=None,\n",
    "    job_id_prefix=job_id_prefix,)"
   ]
  },
  {
   "cell_type": "code",
   "execution_count": 16,
   "metadata": {},
   "outputs": [
    {
     "name": "stdout",
     "output_type": "stream",
     "text": [
      "False\n",
      "{'reason': 'stopped', 'debugInfo': '[CANCELLED] message=[CONTINUOUS_QUERY_RETRYABLE_ERROR] message=Retryable RPC error for continuous query. cause=com.google.net.rpc3.RpcException: CANCELLED debug= errorProto=code: \"INTERNAL_ERROR\"\\nargument: \"Error: 4345518\"\\n errorProto=code: \"JOB_CANCELLED\"\\nargument: \"User requested cancellation\"\\n\\n\\tat com.google.cloud.helix.common.Exceptions$Public.jobCancelled(Exceptions.java:947)\\n\\tat com.google.cloud.helix.common.Exceptions.fromCancelRequest(Exceptions.java:2101)\\n\\tat com.google.cloud.helix.common.CancelState.wrapException(CancelState.java:32)\\n\\tat com.google.cloud.helix.server.job.LocalJobController.handleJobDone(LocalJobController.java:590)\\n\\tat com.google.cloud.helix.server.job.LocalJobController.lambda$runThread$0(LocalJobController.java:452)\\n\\tat com.google.common.util.concurrent.CombinedFuture$CallableInterruptibleTask.runInterruptibly(CombinedFuture.java:198)\\n\\tat com.google.common.util.concurrent.InterruptibleTask.run(InterruptibleTask.java:77)\\n\\tat com.google.common.context.ContextRunnable.runInContext(ContextRunnable.java:83)\\n\\tat io.grpc.Context.run(Context.java:536)\\n\\tat com.google.tracing.GenericContextCallback.runInInheritedContext(GenericContextCallback.java:75)\\n\\tat com.google.common.context.ContextRunnable.run(ContextRunnable.java:74)\\n\\tat java.base/java.util.concurrent.ThreadPoolExecutor.runWorker(Unknown Source)\\n\\tat java.base/java.util.concurrent.ThreadPoolExecutor$Worker.run(Unknown Source)\\n\\tat java.base/java.lang.Thread.run(Unknown Source)\\nCaused by: [CONTINUOUS_QUERY_RETRYABLE_ERROR] message=Retryable RPC error for continuous query. cause=com.google.net.rpc3.RpcException: CANCELLED debug= errorProto=code: \"INTERNAL_ERROR\"\\nargument: \"Error: 4345518\"\\n\\n\\tat com.google.cloud.helix.common.Exceptions.getInternalExceptionNoHash(Exceptions.java:1754)\\n\\tat com.google.cloud.helix.common.Exceptions.getInternalException(Exceptions.java:1746)\\n\\tat com.google.cloud.helix.common.Exceptions.getInternalException(Exceptions.java:1729)\\n\\tat com.google.cloud.helix.common.Exceptions$Internal.continuousQueryRetryableError(Exceptions.java:1498)\\n\\tat com.google.cloud.helix.common.dremel.QueryExecutorImpl$ConfiguredQueryMigration$StreamHandler.wrapContinuousQueryRpcExceptionAsRetryableError(QueryExecutorImpl.java:798)\\n\\tat com.google.cloud.helix.common.dremel.QueryExecutorImpl$ConfiguredQueryMigration$StreamHandler.onMessage(QueryExecutorImpl.java:760)\\n\\tat com.google.cloud.helix.common.dremel.QueryExecutorImpl$ConfiguredQueryMigration$StreamHandler.onMessage(QueryExecutorImpl.java:662)\\n\\tat com.google.net.rpc3.stream.RpcMessageCallback$Internal$Adapter.onMessage(RpcMessageCallback.java:96)\\n\\tat com.google.net.rpc3.impl.RpcStreamInternalContext.processMessageUnlocked(RpcStreamInternalContext.java:1747)\\n\\tat com.google.net.rpc3.impl.RpcStreamInternalContext.invokeCallbacksInternalUnlocked(RpcStreamInternalContext.java:2752)\\n\\tat com.google.net.rpc3.impl.RpcStreamInternalContext.invokeCallbacksUnlocked(RpcStreamInternalContext.java:2676)\\n\\tat com.google.net.eventmanager.AbstractFutureTask$Sync.innerRun(AbstractFutureTask.java:259)\\n\\tat com.google.net.eventmanager.AbstractFutureTask.run(AbstractFutureTask.java:120)\\n\\tat com.google.net.eventmanager.EventManagerImpl.runTaskTraced(EventManagerImpl.java:901)\\n\\tat com.google.net.eventmanager.EventManagerImpl.runTask(EventManagerImpl.java:893)\\n\\tat com.google.net.eventmanager.EventManagerImpl.internalRunWorkerLoop(EventManagerImpl.java:1320)\\n\\tat com.google.net.eventmanager.EventManagerImpl.runWorkerLoop(EventManagerImpl.java:1211)\\n\\tat com.google.net.eventmanager.WorkerThreadInfo.runWorkerLoop(WorkerThreadInfo.java:153)\\n\\tat com.google.net.eventmanager.EventManagerImpl$WorkerThread.run(EventManagerImpl.java:2000)\\n\\tSuppressed: java.lang.Exception: Including call stack from HelixFutures\\n\\t\\tat com.google.cloud.helix.common.HelixFutures.getHelixException(HelixFutures.java:76)\\n\\t\\tat com.google.cloud.helix.common.HelixFutures.getDone(HelixFutures.java:55)\\n\\t\\tat com.google.cloud.helix.server.job.LocalQueryJobController.handleQueryDoneFromRunJob(LocalQueryJobController.java:2658)\\n\\t\\tat com.google.cloud.helix.server.job.LocalQueryJobController.lambda$runJob$18(LocalQueryJobController.java:2577)\\n\\t\\tat com.google.common.util.concurrent.CombinedFuture$CallableInterruptibleTask.runInterruptibly(CombinedFuture.java:198)\\n\\t\\tat com.google.common.util.concurrent.InterruptibleTask.run(InterruptibleTask.java:77)\\n\\t\\tat com.google.common.context.ContextRunnable.runInContext(ContextRunnable.java:83)\\n\\t\\tat io.grpc.Context.run(Context.java:536)\\n\\t\\tat com.google.tracing.GenericContextCallback.runInInheritedContext(GenericContextCallback.java:75)\\n\\t\\tat com.google.common.context.ContextRunnable.run(ContextRunnable.java:74)\\n\\t\\tat java.base/java.util.concurrent.ThreadPoolExecutor.runWorker(Unknown Source)\\n\\t\\tat java.base/java.util.concurrent.ThreadPoolExecutor$Worker.run(Unknown Source)\\n\\t\\tat java.base/java.lang.Thread.run(Unknown Source)\\nCaused by: [CANCELLED] message=com.google.net.rpc3.RpcException: CANCELLED debug=NOTE: JobMigrationService handled this request; check /rpcz on this task\\'s :swig port for detailed Dremel RPC status errorProto=code: \"JOB_CANCELLED\"\\nargument: \"User requested cancel or job timed out\"\\n\\n\\tat com.google.cloud.helix.common.Exceptions$Public.jobCancelled(Exceptions.java:963)\\n\\tat com.google.cloud.helix.server.job.DremelErrorUtil.createHelixErrorFromDremelRpcException(DremelErrorUtil.java:67)\\n\\tat com.google.cloud.helix.common.dremel.QueryExecutorImpl$ConfiguredQueryMigration$StreamHandler.onMessage(QueryExecutorImpl.java:747)\\n\\t... 13 more\\nCaused by: com.google.net.rpc3.RpcException: CANCELLED\\n\\tat com.google.cloud.helix.common.dremel.QueryExecutorImpl$ConfiguredQueryMigration$StreamHandler.onMessage(QueryExecutorImpl.java:748)\\n\\t... 13 more\\n', 'message': 'Job execution was cancelled: User requested cancellation'}\n"
     ]
    }
   ],
   "source": [
    "print(job.running())\n",
    "print(job.error_result)"
   ]
  },
  {
   "cell_type": "code",
   "execution_count": 15,
   "metadata": {},
   "outputs": [
    {
     "data": {
      "text/plain": [
       "True"
      ]
     },
     "execution_count": 15,
     "metadata": {},
     "output_type": "execute_result"
    }
   ],
   "source": [
    "job.cancel()"
   ]
  },
  {
   "cell_type": "code",
   "execution_count": null,
   "metadata": {},
   "outputs": [],
   "source": []
  }
 ],
 "metadata": {
  "kernelspec": {
   "display_name": "venv",
   "language": "python",
   "name": "python3"
  },
  "language_info": {
   "codemirror_mode": {
    "name": "ipython",
    "version": 3
   },
   "file_extension": ".py",
   "mimetype": "text/x-python",
   "name": "python",
   "nbconvert_exporter": "python",
   "pygments_lexer": "ipython3",
   "version": "3.10.9"
  }
 },
 "nbformat": 4,
 "nbformat_minor": 2
}
