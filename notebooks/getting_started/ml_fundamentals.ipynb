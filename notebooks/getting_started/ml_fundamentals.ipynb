{
 "cells": [
  {
   "attachments": {},
   "cell_type": "markdown",
   "metadata": {},
   "source": [
    "# Using ML - ML fundamentals\n",
    "\n",
    "The `bigframes.ml` module implements Scikit-Learn's machine learning API in\n",
    "BigQuery DataFrames. It exposes BigQuery's ML capabilities in a simple, popular\n",
    "API that works seamlessly with the rest of the BigQuery DataFrames API."
   ]
  },
  {
   "cell_type": "code",
   "execution_count": 18,
   "metadata": {},
   "outputs": [
    {
     "data": {
      "application/vnd.jupyter.widget-view+json": {
       "model_id": "0c8a8bc0b4d64448aef68d6a98fae666",
       "version_major": 2,
       "version_minor": 0
      },
      "text/plain": [
       "HTML(value='Query job 28e903c6-e874-4b99-8f53-0755e0b0c188 is RUNNING. <a target=\"_blank\" href=\"https://consol…"
      ]
     },
     "metadata": {},
     "output_type": "display_data"
    },
    {
     "data": {
      "application/vnd.jupyter.widget-view+json": {
       "model_id": "8955d1977e4a4fd2aae991763cd7843a",
       "version_major": 2,
       "version_minor": 0
      },
      "text/plain": [
       "HTML(value='Query job 32d772f8-3d61-43bf-a152-d930e3ecbf29 is RUNNING. <a target=\"_blank\" href=\"https://consol…"
      ]
     },
     "metadata": {},
     "output_type": "display_data"
    },
    {
     "data": {
      "application/vnd.jupyter.widget-view+json": {
       "model_id": "e970e14dff4a434a9641abab6a7a7cf5",
       "version_major": 2,
       "version_minor": 0
      },
      "text/plain": [
       "HTML(value='Query job 5a435e8f-9960-4fec-a8d8-1230e7b229a3 is DONE. 28.9 kB processed. <a target=\"_blank\" href…"
      ]
     },
     "metadata": {},
     "output_type": "display_data"
    },
    {
     "data": {
      "application/vnd.jupyter.widget-view+json": {
       "model_id": "9680fd748e0546b4a010fda0155c5027",
       "version_major": 2,
       "version_minor": 0
      },
      "text/plain": [
       "HTML(value='Query job 7950d6a7-3747-4454-bba2-9660e830647f is DONE. 31.7 kB processed. <a target=\"_blank\" href…"
      ]
     },
     "metadata": {},
     "output_type": "display_data"
    },
    {
     "data": {
      "text/html": [
       "<div>\n",
       "<style scoped>\n",
       "    .dataframe tbody tr th:only-of-type {\n",
       "        vertical-align: middle;\n",
       "    }\n",
       "\n",
       "    .dataframe tbody tr th {\n",
       "        vertical-align: top;\n",
       "    }\n",
       "\n",
       "    .dataframe thead th {\n",
       "        text-align: right;\n",
       "    }\n",
       "</style>\n",
       "<table border=\"1\" class=\"dataframe\">\n",
       "  <thead>\n",
       "    <tr style=\"text-align: right;\">\n",
       "      <th></th>\n",
       "      <th>species</th>\n",
       "      <th>island</th>\n",
       "      <th>culmen_length_mm</th>\n",
       "      <th>culmen_depth_mm</th>\n",
       "      <th>flipper_length_mm</th>\n",
       "      <th>body_mass_g</th>\n",
       "      <th>sex</th>\n",
       "    </tr>\n",
       "    <tr>\n",
       "      <th>penguin_id</th>\n",
       "      <th></th>\n",
       "      <th></th>\n",
       "      <th></th>\n",
       "      <th></th>\n",
       "      <th></th>\n",
       "      <th></th>\n",
       "      <th></th>\n",
       "    </tr>\n",
       "  </thead>\n",
       "  <tbody>\n",
       "    <tr>\n",
       "      <th>0</th>\n",
       "      <td>Adelie Penguin (Pygoscelis adeliae)</td>\n",
       "      <td>Dream</td>\n",
       "      <td>36.6</td>\n",
       "      <td>18.4</td>\n",
       "      <td>184.0</td>\n",
       "      <td>3475.0</td>\n",
       "      <td>FEMALE</td>\n",
       "    </tr>\n",
       "    <tr>\n",
       "      <th>1</th>\n",
       "      <td>Adelie Penguin (Pygoscelis adeliae)</td>\n",
       "      <td>Dream</td>\n",
       "      <td>39.8</td>\n",
       "      <td>19.1</td>\n",
       "      <td>184.0</td>\n",
       "      <td>4650.0</td>\n",
       "      <td>MALE</td>\n",
       "    </tr>\n",
       "    <tr>\n",
       "      <th>2</th>\n",
       "      <td>Adelie Penguin (Pygoscelis adeliae)</td>\n",
       "      <td>Dream</td>\n",
       "      <td>40.9</td>\n",
       "      <td>18.9</td>\n",
       "      <td>184.0</td>\n",
       "      <td>3900.0</td>\n",
       "      <td>MALE</td>\n",
       "    </tr>\n",
       "    <tr>\n",
       "      <th>3</th>\n",
       "      <td>Chinstrap penguin (Pygoscelis antarctica)</td>\n",
       "      <td>Dream</td>\n",
       "      <td>46.5</td>\n",
       "      <td>17.9</td>\n",
       "      <td>192.0</td>\n",
       "      <td>3500.0</td>\n",
       "      <td>FEMALE</td>\n",
       "    </tr>\n",
       "    <tr>\n",
       "      <th>4</th>\n",
       "      <td>Adelie Penguin (Pygoscelis adeliae)</td>\n",
       "      <td>Dream</td>\n",
       "      <td>37.3</td>\n",
       "      <td>16.8</td>\n",
       "      <td>192.0</td>\n",
       "      <td>3000.0</td>\n",
       "      <td>FEMALE</td>\n",
       "    </tr>\n",
       "    <tr>\n",
       "      <th>5</th>\n",
       "      <td>Adelie Penguin (Pygoscelis adeliae)</td>\n",
       "      <td>Dream</td>\n",
       "      <td>43.2</td>\n",
       "      <td>18.5</td>\n",
       "      <td>192.0</td>\n",
       "      <td>4100.0</td>\n",
       "      <td>MALE</td>\n",
       "    </tr>\n",
       "    <tr>\n",
       "      <th>6</th>\n",
       "      <td>Chinstrap penguin (Pygoscelis antarctica)</td>\n",
       "      <td>Dream</td>\n",
       "      <td>46.9</td>\n",
       "      <td>16.6</td>\n",
       "      <td>192.0</td>\n",
       "      <td>2700.0</td>\n",
       "      <td>FEMALE</td>\n",
       "    </tr>\n",
       "    <tr>\n",
       "      <th>7</th>\n",
       "      <td>Chinstrap penguin (Pygoscelis antarctica)</td>\n",
       "      <td>Dream</td>\n",
       "      <td>50.5</td>\n",
       "      <td>18.4</td>\n",
       "      <td>200.0</td>\n",
       "      <td>3400.0</td>\n",
       "      <td>FEMALE</td>\n",
       "    </tr>\n",
       "    <tr>\n",
       "      <th>8</th>\n",
       "      <td>Chinstrap penguin (Pygoscelis antarctica)</td>\n",
       "      <td>Dream</td>\n",
       "      <td>49.5</td>\n",
       "      <td>19.0</td>\n",
       "      <td>200.0</td>\n",
       "      <td>3800.0</td>\n",
       "      <td>MALE</td>\n",
       "    </tr>\n",
       "    <tr>\n",
       "      <th>9</th>\n",
       "      <td>Adelie Penguin (Pygoscelis adeliae)</td>\n",
       "      <td>Dream</td>\n",
       "      <td>40.2</td>\n",
       "      <td>20.1</td>\n",
       "      <td>200.0</td>\n",
       "      <td>3975.0</td>\n",
       "      <td>MALE</td>\n",
       "    </tr>\n",
       "    <tr>\n",
       "      <th>10</th>\n",
       "      <td>Adelie Penguin (Pygoscelis adeliae)</td>\n",
       "      <td>Dream</td>\n",
       "      <td>40.8</td>\n",
       "      <td>18.9</td>\n",
       "      <td>208.0</td>\n",
       "      <td>4300.0</td>\n",
       "      <td>MALE</td>\n",
       "    </tr>\n",
       "    <tr>\n",
       "      <th>11</th>\n",
       "      <td>Adelie Penguin (Pygoscelis adeliae)</td>\n",
       "      <td>Dream</td>\n",
       "      <td>39.0</td>\n",
       "      <td>18.7</td>\n",
       "      <td>185.0</td>\n",
       "      <td>3650.0</td>\n",
       "      <td>MALE</td>\n",
       "    </tr>\n",
       "    <tr>\n",
       "      <th>12</th>\n",
       "      <td>Adelie Penguin (Pygoscelis adeliae)</td>\n",
       "      <td>Dream</td>\n",
       "      <td>37.0</td>\n",
       "      <td>16.9</td>\n",
       "      <td>185.0</td>\n",
       "      <td>3000.0</td>\n",
       "      <td>FEMALE</td>\n",
       "    </tr>\n",
       "    <tr>\n",
       "      <th>13</th>\n",
       "      <td>Chinstrap penguin (Pygoscelis antarctica)</td>\n",
       "      <td>Dream</td>\n",
       "      <td>47.0</td>\n",
       "      <td>17.3</td>\n",
       "      <td>185.0</td>\n",
       "      <td>3700.0</td>\n",
       "      <td>FEMALE</td>\n",
       "    </tr>\n",
       "    <tr>\n",
       "      <th>14</th>\n",
       "      <td>Adelie Penguin (Pygoscelis adeliae)</td>\n",
       "      <td>Dream</td>\n",
       "      <td>34.0</td>\n",
       "      <td>17.1</td>\n",
       "      <td>185.0</td>\n",
       "      <td>3400.0</td>\n",
       "      <td>FEMALE</td>\n",
       "    </tr>\n",
       "    <tr>\n",
       "      <th>15</th>\n",
       "      <td>Adelie Penguin (Pygoscelis adeliae)</td>\n",
       "      <td>Dream</td>\n",
       "      <td>37.0</td>\n",
       "      <td>16.5</td>\n",
       "      <td>185.0</td>\n",
       "      <td>3400.0</td>\n",
       "      <td>FEMALE</td>\n",
       "    </tr>\n",
       "    <tr>\n",
       "      <th>16</th>\n",
       "      <td>Chinstrap penguin (Pygoscelis antarctica)</td>\n",
       "      <td>Dream</td>\n",
       "      <td>45.7</td>\n",
       "      <td>17.3</td>\n",
       "      <td>193.0</td>\n",
       "      <td>3600.0</td>\n",
       "      <td>FEMALE</td>\n",
       "    </tr>\n",
       "    <tr>\n",
       "      <th>17</th>\n",
       "      <td>Chinstrap penguin (Pygoscelis antarctica)</td>\n",
       "      <td>Dream</td>\n",
       "      <td>50.6</td>\n",
       "      <td>19.4</td>\n",
       "      <td>193.0</td>\n",
       "      <td>3800.0</td>\n",
       "      <td>MALE</td>\n",
       "    </tr>\n",
       "    <tr>\n",
       "      <th>18</th>\n",
       "      <td>Adelie Penguin (Pygoscelis adeliae)</td>\n",
       "      <td>Dream</td>\n",
       "      <td>39.7</td>\n",
       "      <td>17.9</td>\n",
       "      <td>193.0</td>\n",
       "      <td>4250.0</td>\n",
       "      <td>MALE</td>\n",
       "    </tr>\n",
       "    <tr>\n",
       "      <th>19</th>\n",
       "      <td>Adelie Penguin (Pygoscelis adeliae)</td>\n",
       "      <td>Dream</td>\n",
       "      <td>37.8</td>\n",
       "      <td>18.1</td>\n",
       "      <td>193.0</td>\n",
       "      <td>3750.0</td>\n",
       "      <td>MALE</td>\n",
       "    </tr>\n",
       "    <tr>\n",
       "      <th>20</th>\n",
       "      <td>Chinstrap penguin (Pygoscelis antarctica)</td>\n",
       "      <td>Dream</td>\n",
       "      <td>46.6</td>\n",
       "      <td>17.8</td>\n",
       "      <td>193.0</td>\n",
       "      <td>3800.0</td>\n",
       "      <td>FEMALE</td>\n",
       "    </tr>\n",
       "    <tr>\n",
       "      <th>21</th>\n",
       "      <td>Chinstrap penguin (Pygoscelis antarctica)</td>\n",
       "      <td>Dream</td>\n",
       "      <td>51.3</td>\n",
       "      <td>19.2</td>\n",
       "      <td>193.0</td>\n",
       "      <td>3650.0</td>\n",
       "      <td>MALE</td>\n",
       "    </tr>\n",
       "    <tr>\n",
       "      <th>22</th>\n",
       "      <td>Adelie Penguin (Pygoscelis adeliae)</td>\n",
       "      <td>Dream</td>\n",
       "      <td>40.2</td>\n",
       "      <td>17.1</td>\n",
       "      <td>193.0</td>\n",
       "      <td>3400.0</td>\n",
       "      <td>FEMALE</td>\n",
       "    </tr>\n",
       "    <tr>\n",
       "      <th>23</th>\n",
       "      <td>Adelie Penguin (Pygoscelis adeliae)</td>\n",
       "      <td>Dream</td>\n",
       "      <td>36.8</td>\n",
       "      <td>18.5</td>\n",
       "      <td>193.0</td>\n",
       "      <td>3500.0</td>\n",
       "      <td>FEMALE</td>\n",
       "    </tr>\n",
       "    <tr>\n",
       "      <th>24</th>\n",
       "      <td>Chinstrap penguin (Pygoscelis antarctica)</td>\n",
       "      <td>Dream</td>\n",
       "      <td>49.6</td>\n",
       "      <td>18.2</td>\n",
       "      <td>193.0</td>\n",
       "      <td>3775.0</td>\n",
       "      <td>MALE</td>\n",
       "    </tr>\n",
       "  </tbody>\n",
       "</table>\n",
       "<p>25 rows × 7 columns</p>\n",
       "</div>[334 rows x 7 columns in total]"
      ],
      "text/plain": [
       "                                              species island  \\\n",
       "penguin_id                                                     \n",
       "0                 Adelie Penguin (Pygoscelis adeliae)  Dream   \n",
       "1                 Adelie Penguin (Pygoscelis adeliae)  Dream   \n",
       "2                 Adelie Penguin (Pygoscelis adeliae)  Dream   \n",
       "3           Chinstrap penguin (Pygoscelis antarctica)  Dream   \n",
       "4                 Adelie Penguin (Pygoscelis adeliae)  Dream   \n",
       "5                 Adelie Penguin (Pygoscelis adeliae)  Dream   \n",
       "6           Chinstrap penguin (Pygoscelis antarctica)  Dream   \n",
       "7           Chinstrap penguin (Pygoscelis antarctica)  Dream   \n",
       "8           Chinstrap penguin (Pygoscelis antarctica)  Dream   \n",
       "9                 Adelie Penguin (Pygoscelis adeliae)  Dream   \n",
       "10                Adelie Penguin (Pygoscelis adeliae)  Dream   \n",
       "11                Adelie Penguin (Pygoscelis adeliae)  Dream   \n",
       "12                Adelie Penguin (Pygoscelis adeliae)  Dream   \n",
       "13          Chinstrap penguin (Pygoscelis antarctica)  Dream   \n",
       "14                Adelie Penguin (Pygoscelis adeliae)  Dream   \n",
       "15                Adelie Penguin (Pygoscelis adeliae)  Dream   \n",
       "16          Chinstrap penguin (Pygoscelis antarctica)  Dream   \n",
       "17          Chinstrap penguin (Pygoscelis antarctica)  Dream   \n",
       "18                Adelie Penguin (Pygoscelis adeliae)  Dream   \n",
       "19                Adelie Penguin (Pygoscelis adeliae)  Dream   \n",
       "20          Chinstrap penguin (Pygoscelis antarctica)  Dream   \n",
       "21          Chinstrap penguin (Pygoscelis antarctica)  Dream   \n",
       "22                Adelie Penguin (Pygoscelis adeliae)  Dream   \n",
       "23                Adelie Penguin (Pygoscelis adeliae)  Dream   \n",
       "24          Chinstrap penguin (Pygoscelis antarctica)  Dream   \n",
       "\n",
       "            culmen_length_mm  culmen_depth_mm  flipper_length_mm  body_mass_g  \\\n",
       "penguin_id                                                                      \n",
       "0                       36.6             18.4              184.0       3475.0   \n",
       "1                       39.8             19.1              184.0       4650.0   \n",
       "2                       40.9             18.9              184.0       3900.0   \n",
       "3                       46.5             17.9              192.0       3500.0   \n",
       "4                       37.3             16.8              192.0       3000.0   \n",
       "5                       43.2             18.5              192.0       4100.0   \n",
       "6                       46.9             16.6              192.0       2700.0   \n",
       "7                       50.5             18.4              200.0       3400.0   \n",
       "8                       49.5             19.0              200.0       3800.0   \n",
       "9                       40.2             20.1              200.0       3975.0   \n",
       "10                      40.8             18.9              208.0       4300.0   \n",
       "11                      39.0             18.7              185.0       3650.0   \n",
       "12                      37.0             16.9              185.0       3000.0   \n",
       "13                      47.0             17.3              185.0       3700.0   \n",
       "14                      34.0             17.1              185.0       3400.0   \n",
       "15                      37.0             16.5              185.0       3400.0   \n",
       "16                      45.7             17.3              193.0       3600.0   \n",
       "17                      50.6             19.4              193.0       3800.0   \n",
       "18                      39.7             17.9              193.0       4250.0   \n",
       "19                      37.8             18.1              193.0       3750.0   \n",
       "20                      46.6             17.8              193.0       3800.0   \n",
       "21                      51.3             19.2              193.0       3650.0   \n",
       "22                      40.2             17.1              193.0       3400.0   \n",
       "23                      36.8             18.5              193.0       3500.0   \n",
       "24                      49.6             18.2              193.0       3775.0   \n",
       "\n",
       "               sex  \n",
       "penguin_id          \n",
       "0           FEMALE  \n",
       "1             MALE  \n",
       "2             MALE  \n",
       "3           FEMALE  \n",
       "4           FEMALE  \n",
       "5             MALE  \n",
       "6           FEMALE  \n",
       "7           FEMALE  \n",
       "8             MALE  \n",
       "9             MALE  \n",
       "10            MALE  \n",
       "11            MALE  \n",
       "12          FEMALE  \n",
       "13          FEMALE  \n",
       "14          FEMALE  \n",
       "15          FEMALE  \n",
       "16          FEMALE  \n",
       "17            MALE  \n",
       "18            MALE  \n",
       "19            MALE  \n",
       "20          FEMALE  \n",
       "21            MALE  \n",
       "22          FEMALE  \n",
       "23          FEMALE  \n",
       "24            MALE  \n",
       "...\n",
       "\n",
       "[334 rows x 7 columns]"
      ]
     },
     "execution_count": 18,
     "metadata": {},
     "output_type": "execute_result"
    }
   ],
   "source": [
    "# Lets load some test data to use in this tutorial\n",
    "import bigframes.pandas\n",
    "\n",
    "df = bigframes.pandas.read_gbq(\"bigquery-public-data.ml_datasets.penguins\")\n",
    "df = df.dropna()\n",
    "\n",
    "# Temporary workaround: lets name our index so it isn't lost BigQuery DataFrame\n",
    "# currently drops unnamed indexes when round-tripping through pandas, which\n",
    "# some ML APIs do to route around missing functionality\n",
    "df.index.name = \"penguin_id\"\n",
    "\n",
    "df"
   ]
  },
  {
   "attachments": {},
   "cell_type": "markdown",
   "metadata": {},
   "source": [
    "## Data split\n",
    "\n",
    "Part of preparing data for a machine learning task is splitting it into subsets for training and testing, to ensure that the solution is not overfitting. Most commonly this is done with `bigframes.ml.model_selection.train_test_split` like so:"
   ]
  },
  {
   "cell_type": "code",
   "execution_count": 19,
   "metadata": {},
   "outputs": [
    {
     "data": {
      "application/vnd.jupyter.widget-view+json": {
       "model_id": "171160f246eb43d1832aeefb055c0851",
       "version_major": 2,
       "version_minor": 0
      },
      "text/plain": [
       "HTML(value='Query job 1408053d-cb80-4870-af28-e94b90a20a6d is DONE. 28.9 kB processed. <a target=\"_blank\" href…"
      ]
     },
     "metadata": {},
     "output_type": "display_data"
    },
    {
     "data": {
      "application/vnd.jupyter.widget-view+json": {
       "model_id": "eaffac40f94745728e6bd618bebd2c53",
       "version_major": 2,
       "version_minor": 0
      },
      "text/plain": [
       "HTML(value='Query job 262885fe-973c-4338-a853-227f9db4835a is DONE. 31.7 kB processed. <a target=\"_blank\" href…"
      ]
     },
     "metadata": {},
     "output_type": "display_data"
    },
    {
     "data": {
      "application/vnd.jupyter.widget-view+json": {
       "model_id": "68e7ecdc639f4d3ab482830bf6a9da04",
       "version_major": 2,
       "version_minor": 0
      },
      "text/plain": [
       "HTML(value='Query job fb1dc831-7f6f-42ce-96da-1292d73919b4 is DONE. 31.7 kB processed. <a target=\"_blank\" href…"
      ]
     },
     "metadata": {},
     "output_type": "display_data"
    },
    {
     "data": {
      "application/vnd.jupyter.widget-view+json": {
       "model_id": "ebfe197fd88348129ebe2f7d288bf4b9",
       "version_major": 2,
       "version_minor": 0
      },
      "text/plain": [
       "HTML(value='Query job e79add79-f1e4-4cf0-bb97-04d153222f19 is DONE. 31.7 kB processed. <a target=\"_blank\" href…"
      ]
     },
     "metadata": {},
     "output_type": "display_data"
    },
    {
     "data": {
      "application/vnd.jupyter.widget-view+json": {
       "model_id": "2ae69ea7da5247e8a1f7cd0e049629cb",
       "version_major": 2,
       "version_minor": 0
      },
      "text/plain": [
       "HTML(value='Query job cb5ee343-f86e-4795-b0ce-d58854e72e5c is RUNNING. <a target=\"_blank\" href=\"https://consol…"
      ]
     },
     "metadata": {},
     "output_type": "display_data"
    },
    {
     "name": "stdout",
     "output_type": "stream",
     "text": [
      "X_train shape: (267, 6)\n",
      "X_test shape: (67, 6)\n",
      "y_train shape: (267, 1)\n",
      "y_test shape: (67, 1)\n"
     ]
    }
   ],
   "source": [
    "# In this example, we're doing supervised learning, where we will learn to predict\n",
    "# output variable `y` from input features `X`\n",
    "X = df[['island', 'culmen_length_mm', 'culmen_depth_mm', 'flipper_length_mm', 'sex', 'species']]\n",
    "y = df[['body_mass_g']] \n",
    "\n",
    "from bigframes.ml.model_selection import train_test_split\n",
    "\n",
    "# This will split X and y into test and training sets, with 20% of the rows in the test set,\n",
    "# and the rest in the training set\n",
    "X_train, X_test, y_train, y_test = train_test_split(\n",
    "  X, y, test_size=0.2)\n",
    "\n",
    "# Show the shape of the data after the split\n",
    "print(f\"\"\"X_train shape: {X_train.shape}\n",
    "X_test shape: {X_test.shape}\n",
    "y_train shape: {y_train.shape}\n",
    "y_test shape: {y_test.shape}\"\"\")"
   ]
  },
  {
   "cell_type": "code",
   "execution_count": 20,
   "metadata": {},
   "outputs": [
    {
     "data": {
      "application/vnd.jupyter.widget-view+json": {
       "model_id": "5ed4206cd3ad4cd485315605bf033df2",
       "version_major": 2,
       "version_minor": 0
      },
      "text/plain": [
       "HTML(value='Query job e65af31c-feda-468d-89c9-dec033574640 is DONE. 31.7 kB processed. <a target=\"_blank\" href…"
      ]
     },
     "metadata": {},
     "output_type": "display_data"
    },
    {
     "data": {
      "application/vnd.jupyter.widget-view+json": {
       "model_id": "ac72db21945542558fdd62093d9dc0c3",
       "version_major": 2,
       "version_minor": 0
      },
      "text/plain": [
       "HTML(value='Query job 0455f252-2b94-457e-bad5-672b91d9b51f is RUNNING. <a target=\"_blank\" href=\"https://consol…"
      ]
     },
     "metadata": {},
     "output_type": "display_data"
    },
    {
     "data": {
      "text/html": [
       "<div>\n",
       "<style scoped>\n",
       "    .dataframe tbody tr th:only-of-type {\n",
       "        vertical-align: middle;\n",
       "    }\n",
       "\n",
       "    .dataframe tbody tr th {\n",
       "        vertical-align: top;\n",
       "    }\n",
       "\n",
       "    .dataframe thead th {\n",
       "        text-align: right;\n",
       "    }\n",
       "</style>\n",
       "<table border=\"1\" class=\"dataframe\">\n",
       "  <thead>\n",
       "    <tr style=\"text-align: right;\">\n",
       "      <th></th>\n",
       "      <th>island</th>\n",
       "      <th>culmen_length_mm</th>\n",
       "      <th>culmen_depth_mm</th>\n",
       "      <th>flipper_length_mm</th>\n",
       "      <th>sex</th>\n",
       "      <th>species</th>\n",
       "    </tr>\n",
       "    <tr>\n",
       "      <th>penguin_id</th>\n",
       "      <th></th>\n",
       "      <th></th>\n",
       "      <th></th>\n",
       "      <th></th>\n",
       "      <th></th>\n",
       "      <th></th>\n",
       "    </tr>\n",
       "  </thead>\n",
       "  <tbody>\n",
       "    <tr>\n",
       "      <th>156</th>\n",
       "      <td>Biscoe</td>\n",
       "      <td>46.2</td>\n",
       "      <td>14.5</td>\n",
       "      <td>209.0</td>\n",
       "      <td>FEMALE</td>\n",
       "      <td>Gentoo penguin (Pygoscelis papua)</td>\n",
       "    </tr>\n",
       "    <tr>\n",
       "      <th>189</th>\n",
       "      <td>Biscoe</td>\n",
       "      <td>35.3</td>\n",
       "      <td>18.9</td>\n",
       "      <td>187.0</td>\n",
       "      <td>FEMALE</td>\n",
       "      <td>Adelie Penguin (Pygoscelis adeliae)</td>\n",
       "    </tr>\n",
       "    <tr>\n",
       "      <th>279</th>\n",
       "      <td>Biscoe</td>\n",
       "      <td>45.1</td>\n",
       "      <td>14.5</td>\n",
       "      <td>215.0</td>\n",
       "      <td>FEMALE</td>\n",
       "      <td>Gentoo penguin (Pygoscelis papua)</td>\n",
       "    </tr>\n",
       "    <tr>\n",
       "      <th>245</th>\n",
       "      <td>Biscoe</td>\n",
       "      <td>49.5</td>\n",
       "      <td>16.2</td>\n",
       "      <td>229.0</td>\n",
       "      <td>MALE</td>\n",
       "      <td>Gentoo penguin (Pygoscelis papua)</td>\n",
       "    </tr>\n",
       "    <tr>\n",
       "      <th>343</th>\n",
       "      <td>Torgersen</td>\n",
       "      <td>37.3</td>\n",
       "      <td>20.5</td>\n",
       "      <td>199.0</td>\n",
       "      <td>MALE</td>\n",
       "      <td>Adelie Penguin (Pygoscelis adeliae)</td>\n",
       "    </tr>\n",
       "  </tbody>\n",
       "</table>\n",
       "<p>5 rows × 6 columns</p>\n",
       "</div>[5 rows x 6 columns in total]"
      ],
      "text/plain": [
       "               island  culmen_length_mm  culmen_depth_mm  flipper_length_mm  \\\n",
       "penguin_id                                                                    \n",
       "156            Biscoe              46.2             14.5              209.0   \n",
       "189            Biscoe              35.3             18.9              187.0   \n",
       "279            Biscoe              45.1             14.5              215.0   \n",
       "245            Biscoe              49.5             16.2              229.0   \n",
       "343         Torgersen              37.3             20.5              199.0   \n",
       "\n",
       "               sex                              species  \n",
       "penguin_id                                               \n",
       "156         FEMALE    Gentoo penguin (Pygoscelis papua)  \n",
       "189         FEMALE  Adelie Penguin (Pygoscelis adeliae)  \n",
       "279         FEMALE    Gentoo penguin (Pygoscelis papua)  \n",
       "245           MALE    Gentoo penguin (Pygoscelis papua)  \n",
       "343           MALE  Adelie Penguin (Pygoscelis adeliae)  \n",
       "\n",
       "[5 rows x 6 columns]"
      ]
     },
     "execution_count": 20,
     "metadata": {},
     "output_type": "execute_result"
    }
   ],
   "source": [
    "# If we look at the data, we can see that random rows were selected for\n",
    "# each side of the split\n",
    "X_test.head(5)"
   ]
  },
  {
   "cell_type": "code",
   "execution_count": 21,
   "metadata": {},
   "outputs": [
    {
     "data": {
      "application/vnd.jupyter.widget-view+json": {
       "model_id": "d6dd794f89724099950dcc927d63d0f5",
       "version_major": 2,
       "version_minor": 0
      },
      "text/plain": [
       "HTML(value='Query job d5a173bd-a7dc-42fa-8468-b088d47ccfe0 is RUNNING. <a target=\"_blank\" href=\"https://consol…"
      ]
     },
     "metadata": {},
     "output_type": "display_data"
    },
    {
     "data": {
      "application/vnd.jupyter.widget-view+json": {
       "model_id": "a8ab7ca12e0d43a6803483480e837c6e",
       "version_major": 2,
       "version_minor": 0
      },
      "text/plain": [
       "HTML(value='Query job c6b6518b-2689-4dc1-a5b0-2a9ab75301eb is RUNNING. <a target=\"_blank\" href=\"https://consol…"
      ]
     },
     "metadata": {},
     "output_type": "display_data"
    },
    {
     "data": {
      "text/html": [
       "<div>\n",
       "<style scoped>\n",
       "    .dataframe tbody tr th:only-of-type {\n",
       "        vertical-align: middle;\n",
       "    }\n",
       "\n",
       "    .dataframe tbody tr th {\n",
       "        vertical-align: top;\n",
       "    }\n",
       "\n",
       "    .dataframe thead th {\n",
       "        text-align: right;\n",
       "    }\n",
       "</style>\n",
       "<table border=\"1\" class=\"dataframe\">\n",
       "  <thead>\n",
       "    <tr style=\"text-align: right;\">\n",
       "      <th></th>\n",
       "      <th>body_mass_g</th>\n",
       "    </tr>\n",
       "    <tr>\n",
       "      <th>penguin_id</th>\n",
       "      <th></th>\n",
       "    </tr>\n",
       "  </thead>\n",
       "  <tbody>\n",
       "    <tr>\n",
       "      <th>156</th>\n",
       "      <td>4800.0</td>\n",
       "    </tr>\n",
       "    <tr>\n",
       "      <th>189</th>\n",
       "      <td>3800.0</td>\n",
       "    </tr>\n",
       "    <tr>\n",
       "      <th>279</th>\n",
       "      <td>5000.0</td>\n",
       "    </tr>\n",
       "    <tr>\n",
       "      <th>245</th>\n",
       "      <td>5800.0</td>\n",
       "    </tr>\n",
       "    <tr>\n",
       "      <th>343</th>\n",
       "      <td>3775.0</td>\n",
       "    </tr>\n",
       "  </tbody>\n",
       "</table>\n",
       "<p>5 rows × 1 columns</p>\n",
       "</div>[5 rows x 1 columns in total]"
      ],
      "text/plain": [
       "            body_mass_g\n",
       "penguin_id             \n",
       "156              4800.0\n",
       "189              3800.0\n",
       "279              5000.0\n",
       "245              5800.0\n",
       "343              3775.0\n",
       "\n",
       "[5 rows x 1 columns]"
      ]
     },
     "execution_count": 21,
     "metadata": {},
     "output_type": "execute_result"
    }
   ],
   "source": [
    "# Note that this matches the rows in X_test\n",
    "y_test.head(5)"
   ]
  },
  {
   "attachments": {},
   "cell_type": "markdown",
   "metadata": {},
   "source": [
    "## Estimators\n",
    "\n",
    "Following Scikit-Learn, all learning components are \"estimators\"; objects that can learn from training data and then apply themselves to new data. Estimators share the following patterns:\n",
    "\n",
    "- a constructor that takes a list of parameters\n",
    "- a standard string representation that shows the class name and all non-default parameters, e.g. `LinearRegression(fit_intercept=False)`\n",
    "- a `.fit(..)` method to fit the estimator to training data\n",
    "\n",
    "There estimators can be further broken down into two main subtypes:\n",
    "\n",
    "### Transformers\n",
    "\n",
    "Transformers are estimators that are used to prepare data for consumption by other estimators ('preprocessing'). In addition to `.fit(...)`, the transformer implements a `.transform(...)` method, which will apply a transformation based on what was computed during `.fit(..)`. With this pattern dynamic preprocessing steps can be applied to both training and test/production data consistently.\n",
    "\n",
    "An example of a transformer is `bigframes.ml.preprocessing.StandardScaler`, which rescales a dataset to have a mean of zero and a standard deviation of one:"
   ]
  },
  {
   "cell_type": "code",
   "execution_count": 22,
   "metadata": {},
   "outputs": [
    {
     "data": {
      "application/vnd.jupyter.widget-view+json": {
       "model_id": "380c57dc3fe54fbd8ad2fb23f1e66e37",
       "version_major": 2,
       "version_minor": 0
      },
      "text/plain": [
       "HTML(value='Query job 03a0eb1c-747e-4c2a-b7b5-d3e4e5a78134 is RUNNING. <a target=\"_blank\" href=\"https://consol…"
      ]
     },
     "metadata": {},
     "output_type": "display_data"
    },
    {
     "data": {
      "application/vnd.jupyter.widget-view+json": {
       "model_id": "3db47aadba854beca71960d846838dc4",
       "version_major": 2,
       "version_minor": 0
      },
      "text/plain": [
       "HTML(value='Query job 70608c84-dac8-4e77-8a9e-00d823b24f37 is RUNNING. <a target=\"_blank\" href=\"https://consol…"
      ]
     },
     "metadata": {},
     "output_type": "display_data"
    },
    {
     "data": {
      "application/vnd.jupyter.widget-view+json": {
       "model_id": "1de81f2944a44cbda3f16fa8a1fae813",
       "version_major": 2,
       "version_minor": 0
      },
      "text/plain": [
       "HTML(value='Query job d18fdc32-2152-45d3-8c62-bf9b1556ec47 is RUNNING. <a target=\"_blank\" href=\"https://consol…"
      ]
     },
     "metadata": {},
     "output_type": "display_data"
    },
    {
     "data": {
      "application/vnd.jupyter.widget-view+json": {
       "model_id": "b06cae61a4534388a4e9ed26ce442cc2",
       "version_major": 2,
       "version_minor": 0
      },
      "text/plain": [
       "HTML(value='Query job 2a022682-535f-4dc0-80ba-1640306ad9ef is RUNNING. <a target=\"_blank\" href=\"https://consol…"
      ]
     },
     "metadata": {},
     "output_type": "display_data"
    },
    {
     "data": {
      "application/vnd.jupyter.widget-view+json": {
       "model_id": "977c8eae2c9848e98c5478c41af82633",
       "version_major": 2,
       "version_minor": 0
      },
      "text/plain": [
       "HTML(value='Query job c145b39d-7d02-4394-80f0-fc605b2ba256 is DONE. 0 Bytes processed. <a target=\"_blank\" href…"
      ]
     },
     "metadata": {},
     "output_type": "display_data"
    },
    {
     "data": {
      "application/vnd.jupyter.widget-view+json": {
       "model_id": "aefc3085fee04c438d0327d400b4b72a",
       "version_major": 2,
       "version_minor": 0
      },
      "text/plain": [
       "HTML(value='Query job fc156a2b-db95-44a3-9ad1-d95b9d290080 is RUNNING. <a target=\"_blank\" href=\"https://consol…"
      ]
     },
     "metadata": {},
     "output_type": "display_data"
    },
    {
     "data": {
      "text/html": [
       "<div>\n",
       "<style scoped>\n",
       "    .dataframe tbody tr th:only-of-type {\n",
       "        vertical-align: middle;\n",
       "    }\n",
       "\n",
       "    .dataframe tbody tr th {\n",
       "        vertical-align: top;\n",
       "    }\n",
       "\n",
       "    .dataframe thead th {\n",
       "        text-align: right;\n",
       "    }\n",
       "</style>\n",
       "<table border=\"1\" class=\"dataframe\">\n",
       "  <thead>\n",
       "    <tr style=\"text-align: right;\">\n",
       "      <th></th>\n",
       "      <th>standard_scaled_culmen_length_mm</th>\n",
       "      <th>standard_scaled_culmen_depth_mm</th>\n",
       "      <th>standard_scaled_flipper_length_mm</th>\n",
       "    </tr>\n",
       "    <tr>\n",
       "      <th>penguin_id</th>\n",
       "      <th></th>\n",
       "      <th></th>\n",
       "      <th></th>\n",
       "    </tr>\n",
       "  </thead>\n",
       "  <tbody>\n",
       "    <tr>\n",
       "      <th>0</th>\n",
       "      <td>-1.344188</td>\n",
       "      <td>0.642519</td>\n",
       "      <td>-1.193942</td>\n",
       "    </tr>\n",
       "    <tr>\n",
       "      <th>1</th>\n",
       "      <td>-0.750047</td>\n",
       "      <td>1.005876</td>\n",
       "      <td>-1.193942</td>\n",
       "    </tr>\n",
       "    <tr>\n",
       "      <th>2</th>\n",
       "      <td>-0.545811</td>\n",
       "      <td>0.90206</td>\n",
       "      <td>-1.193942</td>\n",
       "    </tr>\n",
       "    <tr>\n",
       "      <th>4</th>\n",
       "      <td>-1.214219</td>\n",
       "      <td>-0.188011</td>\n",
       "      <td>-0.619171</td>\n",
       "    </tr>\n",
       "    <tr>\n",
       "      <th>5</th>\n",
       "      <td>-0.118772</td>\n",
       "      <td>0.694427</td>\n",
       "      <td>-0.619171</td>\n",
       "    </tr>\n",
       "    <tr>\n",
       "      <th>6</th>\n",
       "      <td>0.568203</td>\n",
       "      <td>-0.291828</td>\n",
       "      <td>-0.619171</td>\n",
       "    </tr>\n",
       "    <tr>\n",
       "      <th>7</th>\n",
       "      <td>1.236611</td>\n",
       "      <td>0.642519</td>\n",
       "      <td>-0.044401</td>\n",
       "    </tr>\n",
       "    <tr>\n",
       "      <th>9</th>\n",
       "      <td>-0.675779</td>\n",
       "      <td>1.524957</td>\n",
       "      <td>-0.044401</td>\n",
       "    </tr>\n",
       "    <tr>\n",
       "      <th>10</th>\n",
       "      <td>-0.564378</td>\n",
       "      <td>0.90206</td>\n",
       "      <td>0.530369</td>\n",
       "    </tr>\n",
       "    <tr>\n",
       "      <th>11</th>\n",
       "      <td>-0.898582</td>\n",
       "      <td>0.798243</td>\n",
       "      <td>-1.122096</td>\n",
       "    </tr>\n",
       "    <tr>\n",
       "      <th>12</th>\n",
       "      <td>-1.26992</td>\n",
       "      <td>-0.136103</td>\n",
       "      <td>-1.122096</td>\n",
       "    </tr>\n",
       "    <tr>\n",
       "      <th>13</th>\n",
       "      <td>0.58677</td>\n",
       "      <td>0.071529</td>\n",
       "      <td>-1.122096</td>\n",
       "    </tr>\n",
       "    <tr>\n",
       "      <th>14</th>\n",
       "      <td>-1.826927</td>\n",
       "      <td>-0.032287</td>\n",
       "      <td>-1.122096</td>\n",
       "    </tr>\n",
       "    <tr>\n",
       "      <th>15</th>\n",
       "      <td>-1.26992</td>\n",
       "      <td>-0.343736</td>\n",
       "      <td>-1.122096</td>\n",
       "    </tr>\n",
       "    <tr>\n",
       "      <th>16</th>\n",
       "      <td>0.3454</td>\n",
       "      <td>0.071529</td>\n",
       "      <td>-0.547325</td>\n",
       "    </tr>\n",
       "    <tr>\n",
       "      <th>18</th>\n",
       "      <td>-0.768614</td>\n",
       "      <td>0.382978</td>\n",
       "      <td>-0.547325</td>\n",
       "    </tr>\n",
       "    <tr>\n",
       "      <th>19</th>\n",
       "      <td>-1.121385</td>\n",
       "      <td>0.486795</td>\n",
       "      <td>-0.547325</td>\n",
       "    </tr>\n",
       "    <tr>\n",
       "      <th>20</th>\n",
       "      <td>0.512502</td>\n",
       "      <td>0.33107</td>\n",
       "      <td>-0.547325</td>\n",
       "    </tr>\n",
       "    <tr>\n",
       "      <th>21</th>\n",
       "      <td>1.385146</td>\n",
       "      <td>1.057784</td>\n",
       "      <td>-0.547325</td>\n",
       "    </tr>\n",
       "    <tr>\n",
       "      <th>22</th>\n",
       "      <td>-0.675779</td>\n",
       "      <td>-0.032287</td>\n",
       "      <td>-0.547325</td>\n",
       "    </tr>\n",
       "    <tr>\n",
       "      <th>24</th>\n",
       "      <td>1.069509</td>\n",
       "      <td>0.538703</td>\n",
       "      <td>-0.547325</td>\n",
       "    </tr>\n",
       "    <tr>\n",
       "      <th>26</th>\n",
       "      <td>-0.43441</td>\n",
       "      <td>0.694427</td>\n",
       "      <td>0.027445</td>\n",
       "    </tr>\n",
       "    <tr>\n",
       "      <th>28</th>\n",
       "      <td>1.923586</td>\n",
       "      <td>1.888314</td>\n",
       "      <td>0.027445</td>\n",
       "    </tr>\n",
       "    <tr>\n",
       "      <th>30</th>\n",
       "      <td>1.292312</td>\n",
       "      <td>0.694427</td>\n",
       "      <td>0.027445</td>\n",
       "    </tr>\n",
       "    <tr>\n",
       "      <th>31</th>\n",
       "      <td>-1.994029</td>\n",
       "      <td>-0.551368</td>\n",
       "      <td>-1.62502</td>\n",
       "    </tr>\n",
       "  </tbody>\n",
       "</table>\n",
       "<p>25 rows × 3 columns</p>\n",
       "</div>[267 rows x 3 columns in total]"
      ],
      "text/plain": [
       "            standard_scaled_culmen_length_mm  standard_scaled_culmen_depth_mm  \\\n",
       "penguin_id                                                                      \n",
       "0                                  -1.344188                         0.642519   \n",
       "1                                  -0.750047                         1.005876   \n",
       "2                                  -0.545811                          0.90206   \n",
       "4                                  -1.214219                        -0.188011   \n",
       "5                                  -0.118772                         0.694427   \n",
       "6                                   0.568203                        -0.291828   \n",
       "7                                   1.236611                         0.642519   \n",
       "9                                  -0.675779                         1.524957   \n",
       "10                                 -0.564378                          0.90206   \n",
       "11                                 -0.898582                         0.798243   \n",
       "12                                  -1.26992                        -0.136103   \n",
       "13                                   0.58677                         0.071529   \n",
       "14                                 -1.826927                        -0.032287   \n",
       "15                                  -1.26992                        -0.343736   \n",
       "16                                    0.3454                         0.071529   \n",
       "18                                 -0.768614                         0.382978   \n",
       "19                                 -1.121385                         0.486795   \n",
       "20                                  0.512502                          0.33107   \n",
       "21                                  1.385146                         1.057784   \n",
       "22                                 -0.675779                        -0.032287   \n",
       "24                                  1.069509                         0.538703   \n",
       "26                                  -0.43441                         0.694427   \n",
       "28                                  1.923586                         1.888314   \n",
       "30                                  1.292312                         0.694427   \n",
       "31                                 -1.994029                        -0.551368   \n",
       "\n",
       "            standard_scaled_flipper_length_mm  \n",
       "penguin_id                                     \n",
       "0                                   -1.193942  \n",
       "1                                   -1.193942  \n",
       "2                                   -1.193942  \n",
       "4                                   -0.619171  \n",
       "5                                   -0.619171  \n",
       "6                                   -0.619171  \n",
       "7                                   -0.044401  \n",
       "9                                   -0.044401  \n",
       "10                                   0.530369  \n",
       "11                                  -1.122096  \n",
       "12                                  -1.122096  \n",
       "13                                  -1.122096  \n",
       "14                                  -1.122096  \n",
       "15                                  -1.122096  \n",
       "16                                  -0.547325  \n",
       "18                                  -0.547325  \n",
       "19                                  -0.547325  \n",
       "20                                  -0.547325  \n",
       "21                                  -0.547325  \n",
       "22                                  -0.547325  \n",
       "24                                  -0.547325  \n",
       "26                                   0.027445  \n",
       "28                                   0.027445  \n",
       "30                                   0.027445  \n",
       "31                                   -1.62502  \n",
       "...\n",
       "\n",
       "[267 rows x 3 columns]"
      ]
     },
     "execution_count": 22,
     "metadata": {},
     "output_type": "execute_result"
    }
   ],
   "source": [
    "from bigframes.ml.preprocessing import StandardScaler\n",
    "\n",
    "# StandardScaler will only work on numeric columns\n",
    "numeric_columns = [\"culmen_length_mm\", \"culmen_depth_mm\", \"flipper_length_mm\"]\n",
    "\n",
    "scaler = StandardScaler()\n",
    "scaler.fit(X_train[numeric_columns])\n",
    "\n",
    "# Now, standardscaler should transform the numbers to have mean of zero\n",
    "# and standard deviation of one:\n",
    "scaler.transform(X_train[numeric_columns])"
   ]
  },
  {
   "cell_type": "code",
   "execution_count": 23,
   "metadata": {},
   "outputs": [
    {
     "data": {
      "application/vnd.jupyter.widget-view+json": {
       "model_id": "74f3c24c0a434e12bf6a56dc4809b501",
       "version_major": 2,
       "version_minor": 0
      },
      "text/plain": [
       "HTML(value='Query job c6268b07-0d3d-4fe0-971d-cc99fd98cd7e is RUNNING. <a target=\"_blank\" href=\"https://consol…"
      ]
     },
     "metadata": {},
     "output_type": "display_data"
    },
    {
     "data": {
      "application/vnd.jupyter.widget-view+json": {
       "model_id": "b6b5999749114de9971d9dcb6c9d1098",
       "version_major": 2,
       "version_minor": 0
      },
      "text/plain": [
       "HTML(value='Query job 31550d88-fc7b-4fcb-9975-9ed24bf2e009 is RUNNING. <a target=\"_blank\" href=\"https://consol…"
      ]
     },
     "metadata": {},
     "output_type": "display_data"
    },
    {
     "data": {
      "application/vnd.jupyter.widget-view+json": {
       "model_id": "5a04e46a7d0248b1ae523f2ca6903ee8",
       "version_major": 2,
       "version_minor": 0
      },
      "text/plain": [
       "HTML(value='Query job 5ec7c8b1-037c-466c-a51e-963f8274e76b is RUNNING. <a target=\"_blank\" href=\"https://consol…"
      ]
     },
     "metadata": {},
     "output_type": "display_data"
    },
    {
     "data": {
      "application/vnd.jupyter.widget-view+json": {
       "model_id": "62563820bfb245be85bbc1bf3dfb993c",
       "version_major": 2,
       "version_minor": 0
      },
      "text/plain": [
       "HTML(value='Query job 4e860716-bc41-4ef6-83ff-310d085ed7cc is DONE. 0 Bytes processed. <a target=\"_blank\" href…"
      ]
     },
     "metadata": {},
     "output_type": "display_data"
    },
    {
     "data": {
      "application/vnd.jupyter.widget-view+json": {
       "model_id": "98aff3bfded44868bf120451c89df9f5",
       "version_major": 2,
       "version_minor": 0
      },
      "text/plain": [
       "HTML(value='Query job 6b96a757-42fe-4b65-92fd-a3ae339fe769 is RUNNING. <a target=\"_blank\" href=\"https://consol…"
      ]
     },
     "metadata": {},
     "output_type": "display_data"
    },
    {
     "data": {
      "text/html": [
       "<div>\n",
       "<style scoped>\n",
       "    .dataframe tbody tr th:only-of-type {\n",
       "        vertical-align: middle;\n",
       "    }\n",
       "\n",
       "    .dataframe tbody tr th {\n",
       "        vertical-align: top;\n",
       "    }\n",
       "\n",
       "    .dataframe thead th {\n",
       "        text-align: right;\n",
       "    }\n",
       "</style>\n",
       "<table border=\"1\" class=\"dataframe\">\n",
       "  <thead>\n",
       "    <tr style=\"text-align: right;\">\n",
       "      <th></th>\n",
       "      <th>standard_scaled_culmen_length_mm</th>\n",
       "      <th>standard_scaled_culmen_depth_mm</th>\n",
       "      <th>standard_scaled_flipper_length_mm</th>\n",
       "    </tr>\n",
       "    <tr>\n",
       "      <th>penguin_id</th>\n",
       "      <th></th>\n",
       "      <th></th>\n",
       "      <th></th>\n",
       "    </tr>\n",
       "  </thead>\n",
       "  <tbody>\n",
       "    <tr>\n",
       "      <th>3</th>\n",
       "      <td>0.493935</td>\n",
       "      <td>0.382978</td>\n",
       "      <td>-0.619171</td>\n",
       "    </tr>\n",
       "    <tr>\n",
       "      <th>8</th>\n",
       "      <td>1.050942</td>\n",
       "      <td>0.953968</td>\n",
       "      <td>-0.044401</td>\n",
       "    </tr>\n",
       "    <tr>\n",
       "      <th>17</th>\n",
       "      <td>1.255178</td>\n",
       "      <td>1.1616</td>\n",
       "      <td>-0.547325</td>\n",
       "    </tr>\n",
       "    <tr>\n",
       "      <th>23</th>\n",
       "      <td>-1.307054</td>\n",
       "      <td>0.694427</td>\n",
       "      <td>-0.547325</td>\n",
       "    </tr>\n",
       "    <tr>\n",
       "      <th>25</th>\n",
       "      <td>1.515114</td>\n",
       "      <td>0.486795</td>\n",
       "      <td>0.027445</td>\n",
       "    </tr>\n",
       "    <tr>\n",
       "      <th>27</th>\n",
       "      <td>1.236611</td>\n",
       "      <td>1.265417</td>\n",
       "      <td>0.027445</td>\n",
       "    </tr>\n",
       "    <tr>\n",
       "      <th>29</th>\n",
       "      <td>1.403713</td>\n",
       "      <td>0.953968</td>\n",
       "      <td>0.027445</td>\n",
       "    </tr>\n",
       "    <tr>\n",
       "      <th>34</th>\n",
       "      <td>0.419668</td>\n",
       "      <td>0.538703</td>\n",
       "      <td>-1.62502</td>\n",
       "    </tr>\n",
       "    <tr>\n",
       "      <th>35</th>\n",
       "      <td>-1.455589</td>\n",
       "      <td>0.694427</td>\n",
       "      <td>-1.050249</td>\n",
       "    </tr>\n",
       "    <tr>\n",
       "      <th>39</th>\n",
       "      <td>0.326833</td>\n",
       "      <td>1.1616</td>\n",
       "      <td>-0.475479</td>\n",
       "    </tr>\n",
       "    <tr>\n",
       "      <th>51</th>\n",
       "      <td>-1.065684</td>\n",
       "      <td>0.227254</td>\n",
       "      <td>-0.978403</td>\n",
       "    </tr>\n",
       "    <tr>\n",
       "      <th>52</th>\n",
       "      <td>-0.248741</td>\n",
       "      <td>0.071529</td>\n",
       "      <td>-0.978403</td>\n",
       "    </tr>\n",
       "    <tr>\n",
       "      <th>60</th>\n",
       "      <td>0.531069</td>\n",
       "      <td>0.382978</td>\n",
       "      <td>-0.403633</td>\n",
       "    </tr>\n",
       "    <tr>\n",
       "      <th>61</th>\n",
       "      <td>0.401101</td>\n",
       "      <td>0.90206</td>\n",
       "      <td>-0.403633</td>\n",
       "    </tr>\n",
       "    <tr>\n",
       "      <th>64</th>\n",
       "      <td>-1.455589</td>\n",
       "      <td>0.33107</td>\n",
       "      <td>-0.403633</td>\n",
       "    </tr>\n",
       "    <tr>\n",
       "      <th>65</th>\n",
       "      <td>-0.564378</td>\n",
       "      <td>0.642519</td>\n",
       "      <td>-0.403633</td>\n",
       "    </tr>\n",
       "    <tr>\n",
       "      <th>67</th>\n",
       "      <td>1.273745</td>\n",
       "      <td>1.317325</td>\n",
       "      <td>0.171138</td>\n",
       "    </tr>\n",
       "    <tr>\n",
       "      <th>83</th>\n",
       "      <td>2.629128</td>\n",
       "      <td>0.33107</td>\n",
       "      <td>-1.409481</td>\n",
       "    </tr>\n",
       "    <tr>\n",
       "      <th>85</th>\n",
       "      <td>-1.288487</td>\n",
       "      <td>0.746335</td>\n",
       "      <td>-0.83471</td>\n",
       "    </tr>\n",
       "    <tr>\n",
       "      <th>93</th>\n",
       "      <td>-0.508677</td>\n",
       "      <td>0.486795</td>\n",
       "      <td>0.314831</td>\n",
       "    </tr>\n",
       "    <tr>\n",
       "      <th>104</th>\n",
       "      <td>0.382534</td>\n",
       "      <td>-0.032287</td>\n",
       "      <td>-0.762864</td>\n",
       "    </tr>\n",
       "    <tr>\n",
       "      <th>105</th>\n",
       "      <td>-1.065684</td>\n",
       "      <td>0.746335</td>\n",
       "      <td>-0.762864</td>\n",
       "    </tr>\n",
       "    <tr>\n",
       "      <th>108</th>\n",
       "      <td>1.162343</td>\n",
       "      <td>0.382978</td>\n",
       "      <td>-0.762864</td>\n",
       "    </tr>\n",
       "    <tr>\n",
       "      <th>113</th>\n",
       "      <td>1.496547</td>\n",
       "      <td>1.213509</td>\n",
       "      <td>0.386677</td>\n",
       "    </tr>\n",
       "    <tr>\n",
       "      <th>130</th>\n",
       "      <td>-0.341575</td>\n",
       "      <td>1.213509</td>\n",
       "      <td>-0.044401</td>\n",
       "    </tr>\n",
       "  </tbody>\n",
       "</table>\n",
       "<p>25 rows × 3 columns</p>\n",
       "</div>[67 rows x 3 columns in total]"
      ],
      "text/plain": [
       "            standard_scaled_culmen_length_mm  standard_scaled_culmen_depth_mm  \\\n",
       "penguin_id                                                                      \n",
       "3                                   0.493935                         0.382978   \n",
       "8                                   1.050942                         0.953968   \n",
       "17                                  1.255178                           1.1616   \n",
       "23                                 -1.307054                         0.694427   \n",
       "25                                  1.515114                         0.486795   \n",
       "27                                  1.236611                         1.265417   \n",
       "29                                  1.403713                         0.953968   \n",
       "34                                  0.419668                         0.538703   \n",
       "35                                 -1.455589                         0.694427   \n",
       "39                                  0.326833                           1.1616   \n",
       "51                                 -1.065684                         0.227254   \n",
       "52                                 -0.248741                         0.071529   \n",
       "60                                  0.531069                         0.382978   \n",
       "61                                  0.401101                          0.90206   \n",
       "64                                 -1.455589                          0.33107   \n",
       "65                                 -0.564378                         0.642519   \n",
       "67                                  1.273745                         1.317325   \n",
       "83                                  2.629128                          0.33107   \n",
       "85                                 -1.288487                         0.746335   \n",
       "93                                 -0.508677                         0.486795   \n",
       "104                                 0.382534                        -0.032287   \n",
       "105                                -1.065684                         0.746335   \n",
       "108                                 1.162343                         0.382978   \n",
       "113                                 1.496547                         1.213509   \n",
       "130                                -0.341575                         1.213509   \n",
       "\n",
       "            standard_scaled_flipper_length_mm  \n",
       "penguin_id                                     \n",
       "3                                   -0.619171  \n",
       "8                                   -0.044401  \n",
       "17                                  -0.547325  \n",
       "23                                  -0.547325  \n",
       "25                                   0.027445  \n",
       "27                                   0.027445  \n",
       "29                                   0.027445  \n",
       "34                                   -1.62502  \n",
       "35                                  -1.050249  \n",
       "39                                  -0.475479  \n",
       "51                                  -0.978403  \n",
       "52                                  -0.978403  \n",
       "60                                  -0.403633  \n",
       "61                                  -0.403633  \n",
       "64                                  -0.403633  \n",
       "65                                  -0.403633  \n",
       "67                                   0.171138  \n",
       "83                                  -1.409481  \n",
       "85                                   -0.83471  \n",
       "93                                   0.314831  \n",
       "104                                 -0.762864  \n",
       "105                                 -0.762864  \n",
       "108                                 -0.762864  \n",
       "113                                  0.386677  \n",
       "130                                 -0.044401  \n",
       "...\n",
       "\n",
       "[67 rows x 3 columns]"
      ]
     },
     "execution_count": 23,
     "metadata": {},
     "output_type": "execute_result"
    }
   ],
   "source": [
    "# We can then repeat this transformation on new data\n",
    "scaler.transform(X_test[numeric_columns])"
   ]
  },
  {
   "attachments": {},
   "cell_type": "markdown",
   "metadata": {},
   "source": [
    "#### Composing transformers\n",
    "\n",
    "To process data where different columns need different preprocessors, `bigframes.composition.ColumnTransformer` can be employed:"
   ]
  },
  {
   "cell_type": "code",
   "execution_count": 24,
   "metadata": {},
   "outputs": [
    {
     "data": {
      "application/vnd.jupyter.widget-view+json": {
       "model_id": "d642a617d27f4e2493c80dbdd1686193",
       "version_major": 2,
       "version_minor": 0
      },
      "text/plain": [
       "HTML(value='Query job a8d8afa4-d91e-487e-8709-8727a73ab453 is RUNNING. <a target=\"_blank\" href=\"https://consol…"
      ]
     },
     "metadata": {},
     "output_type": "display_data"
    },
    {
     "data": {
      "application/vnd.jupyter.widget-view+json": {
       "model_id": "693297c9ca8245f58f7e10071a6278b4",
       "version_major": 2,
       "version_minor": 0
      },
      "text/plain": [
       "HTML(value='Query job b9afd624-4345-4160-8809-05786563ce35 is RUNNING. <a target=\"_blank\" href=\"https://consol…"
      ]
     },
     "metadata": {},
     "output_type": "display_data"
    },
    {
     "data": {
      "application/vnd.jupyter.widget-view+json": {
       "model_id": "09217776c2294e8b929a56e7a73fbfa8",
       "version_major": 2,
       "version_minor": 0
      },
      "text/plain": [
       "HTML(value='Query job c918fc7c-a956-4259-b5c5-09c2eac615cd is RUNNING. <a target=\"_blank\" href=\"https://consol…"
      ]
     },
     "metadata": {},
     "output_type": "display_data"
    },
    {
     "data": {
      "application/vnd.jupyter.widget-view+json": {
       "model_id": "9c1581fc9fcb49739d1d81b73506b894",
       "version_major": 2,
       "version_minor": 0
      },
      "text/plain": [
       "HTML(value='Query job 1d855341-282f-4d10-9ba9-3ce6683b729a is RUNNING. <a target=\"_blank\" href=\"https://consol…"
      ]
     },
     "metadata": {},
     "output_type": "display_data"
    },
    {
     "data": {
      "application/vnd.jupyter.widget-view+json": {
       "model_id": "d7749eb7cf554697a60c90f3718ad582",
       "version_major": 2,
       "version_minor": 0
      },
      "text/plain": [
       "HTML(value='Query job c257ff78-3e15-4296-82f5-ba6c2eb6a6ff is RUNNING. <a target=\"_blank\" href=\"https://consol…"
      ]
     },
     "metadata": {},
     "output_type": "display_data"
    },
    {
     "data": {
      "application/vnd.jupyter.widget-view+json": {
       "model_id": "e900465918224249bccc781d992aadbb",
       "version_major": 2,
       "version_minor": 0
      },
      "text/plain": [
       "HTML(value='Query job a17eec0c-10d0-4943-95be-60fced57d5cb is RUNNING. <a target=\"_blank\" href=\"https://consol…"
      ]
     },
     "metadata": {},
     "output_type": "display_data"
    },
    {
     "data": {
      "application/vnd.jupyter.widget-view+json": {
       "model_id": "b0272ee35c5745a491b7c5883b3fbb1b",
       "version_major": 2,
       "version_minor": 0
      },
      "text/plain": [
       "HTML(value='Query job 1db53c8a-cf45-4c69-a443-6b7a49fc3a07 is DONE. 536 Bytes processed. <a target=\"_blank\" hr…"
      ]
     },
     "metadata": {},
     "output_type": "display_data"
    },
    {
     "data": {
      "application/vnd.jupyter.widget-view+json": {
       "model_id": "00f9d4b55bb94997aaebdae298cefab3",
       "version_major": 2,
       "version_minor": 0
      },
      "text/plain": [
       "HTML(value='Query job ae870ee3-e633-4556-94e6-6669fa0bfde2 is DONE. 0 Bytes processed. <a target=\"_blank\" href…"
      ]
     },
     "metadata": {},
     "output_type": "display_data"
    },
    {
     "data": {
      "application/vnd.jupyter.widget-view+json": {
       "model_id": "9cd8e791be5844669cba10dc53f862ae",
       "version_major": 2,
       "version_minor": 0
      },
      "text/plain": [
       "HTML(value='Query job baa7c70c-eabc-49e1-bae9-fdd4891cdb6e is RUNNING. <a target=\"_blank\" href=\"https://consol…"
      ]
     },
     "metadata": {},
     "output_type": "display_data"
    },
    {
     "data": {
      "text/html": [
       "<div>\n",
       "<style scoped>\n",
       "    .dataframe tbody tr th:only-of-type {\n",
       "        vertical-align: middle;\n",
       "    }\n",
       "\n",
       "    .dataframe tbody tr th {\n",
       "        vertical-align: top;\n",
       "    }\n",
       "\n",
       "    .dataframe thead th {\n",
       "        text-align: right;\n",
       "    }\n",
       "</style>\n",
       "<table border=\"1\" class=\"dataframe\">\n",
       "  <thead>\n",
       "    <tr style=\"text-align: right;\">\n",
       "      <th></th>\n",
       "      <th>onehotencoded_island</th>\n",
       "      <th>standard_scaled_culmen_length_mm</th>\n",
       "      <th>standard_scaled_culmen_depth_mm</th>\n",
       "      <th>standard_scaled_flipper_length_mm</th>\n",
       "      <th>onehotencoded_sex</th>\n",
       "      <th>onehotencoded_species</th>\n",
       "    </tr>\n",
       "    <tr>\n",
       "      <th>penguin_id</th>\n",
       "      <th></th>\n",
       "      <th></th>\n",
       "      <th></th>\n",
       "      <th></th>\n",
       "      <th></th>\n",
       "      <th></th>\n",
       "    </tr>\n",
       "  </thead>\n",
       "  <tbody>\n",
       "    <tr>\n",
       "      <th>0</th>\n",
       "      <td>[{'index': 2, 'value': 1.0}]</td>\n",
       "      <td>-1.344188</td>\n",
       "      <td>0.642519</td>\n",
       "      <td>-1.193942</td>\n",
       "      <td>[{'index': 2, 'value': 1.0}]</td>\n",
       "      <td>[{'index': 1, 'value': 1.0}]</td>\n",
       "    </tr>\n",
       "    <tr>\n",
       "      <th>1</th>\n",
       "      <td>[{'index': 2, 'value': 1.0}]</td>\n",
       "      <td>-0.750047</td>\n",
       "      <td>1.005876</td>\n",
       "      <td>-1.193942</td>\n",
       "      <td>[{'index': 3, 'value': 1.0}]</td>\n",
       "      <td>[{'index': 1, 'value': 1.0}]</td>\n",
       "    </tr>\n",
       "    <tr>\n",
       "      <th>2</th>\n",
       "      <td>[{'index': 2, 'value': 1.0}]</td>\n",
       "      <td>-0.545811</td>\n",
       "      <td>0.90206</td>\n",
       "      <td>-1.193942</td>\n",
       "      <td>[{'index': 3, 'value': 1.0}]</td>\n",
       "      <td>[{'index': 1, 'value': 1.0}]</td>\n",
       "    </tr>\n",
       "    <tr>\n",
       "      <th>4</th>\n",
       "      <td>[{'index': 2, 'value': 1.0}]</td>\n",
       "      <td>-1.214219</td>\n",
       "      <td>-0.188011</td>\n",
       "      <td>-0.619171</td>\n",
       "      <td>[{'index': 2, 'value': 1.0}]</td>\n",
       "      <td>[{'index': 1, 'value': 1.0}]</td>\n",
       "    </tr>\n",
       "    <tr>\n",
       "      <th>5</th>\n",
       "      <td>[{'index': 2, 'value': 1.0}]</td>\n",
       "      <td>-0.118772</td>\n",
       "      <td>0.694427</td>\n",
       "      <td>-0.619171</td>\n",
       "      <td>[{'index': 3, 'value': 1.0}]</td>\n",
       "      <td>[{'index': 1, 'value': 1.0}]</td>\n",
       "    </tr>\n",
       "    <tr>\n",
       "      <th>6</th>\n",
       "      <td>[{'index': 2, 'value': 1.0}]</td>\n",
       "      <td>0.568203</td>\n",
       "      <td>-0.291828</td>\n",
       "      <td>-0.619171</td>\n",
       "      <td>[{'index': 2, 'value': 1.0}]</td>\n",
       "      <td>[{'index': 2, 'value': 1.0}]</td>\n",
       "    </tr>\n",
       "    <tr>\n",
       "      <th>7</th>\n",
       "      <td>[{'index': 2, 'value': 1.0}]</td>\n",
       "      <td>1.236611</td>\n",
       "      <td>0.642519</td>\n",
       "      <td>-0.044401</td>\n",
       "      <td>[{'index': 2, 'value': 1.0}]</td>\n",
       "      <td>[{'index': 2, 'value': 1.0}]</td>\n",
       "    </tr>\n",
       "    <tr>\n",
       "      <th>9</th>\n",
       "      <td>[{'index': 2, 'value': 1.0}]</td>\n",
       "      <td>-0.675779</td>\n",
       "      <td>1.524957</td>\n",
       "      <td>-0.044401</td>\n",
       "      <td>[{'index': 3, 'value': 1.0}]</td>\n",
       "      <td>[{'index': 1, 'value': 1.0}]</td>\n",
       "    </tr>\n",
       "    <tr>\n",
       "      <th>10</th>\n",
       "      <td>[{'index': 2, 'value': 1.0}]</td>\n",
       "      <td>-0.564378</td>\n",
       "      <td>0.90206</td>\n",
       "      <td>0.530369</td>\n",
       "      <td>[{'index': 3, 'value': 1.0}]</td>\n",
       "      <td>[{'index': 1, 'value': 1.0}]</td>\n",
       "    </tr>\n",
       "    <tr>\n",
       "      <th>11</th>\n",
       "      <td>[{'index': 2, 'value': 1.0}]</td>\n",
       "      <td>-0.898582</td>\n",
       "      <td>0.798243</td>\n",
       "      <td>-1.122096</td>\n",
       "      <td>[{'index': 3, 'value': 1.0}]</td>\n",
       "      <td>[{'index': 1, 'value': 1.0}]</td>\n",
       "    </tr>\n",
       "    <tr>\n",
       "      <th>12</th>\n",
       "      <td>[{'index': 2, 'value': 1.0}]</td>\n",
       "      <td>-1.26992</td>\n",
       "      <td>-0.136103</td>\n",
       "      <td>-1.122096</td>\n",
       "      <td>[{'index': 2, 'value': 1.0}]</td>\n",
       "      <td>[{'index': 1, 'value': 1.0}]</td>\n",
       "    </tr>\n",
       "    <tr>\n",
       "      <th>13</th>\n",
       "      <td>[{'index': 2, 'value': 1.0}]</td>\n",
       "      <td>0.58677</td>\n",
       "      <td>0.071529</td>\n",
       "      <td>-1.122096</td>\n",
       "      <td>[{'index': 2, 'value': 1.0}]</td>\n",
       "      <td>[{'index': 2, 'value': 1.0}]</td>\n",
       "    </tr>\n",
       "    <tr>\n",
       "      <th>14</th>\n",
       "      <td>[{'index': 2, 'value': 1.0}]</td>\n",
       "      <td>-1.826927</td>\n",
       "      <td>-0.032287</td>\n",
       "      <td>-1.122096</td>\n",
       "      <td>[{'index': 2, 'value': 1.0}]</td>\n",
       "      <td>[{'index': 1, 'value': 1.0}]</td>\n",
       "    </tr>\n",
       "    <tr>\n",
       "      <th>15</th>\n",
       "      <td>[{'index': 2, 'value': 1.0}]</td>\n",
       "      <td>-1.26992</td>\n",
       "      <td>-0.343736</td>\n",
       "      <td>-1.122096</td>\n",
       "      <td>[{'index': 2, 'value': 1.0}]</td>\n",
       "      <td>[{'index': 1, 'value': 1.0}]</td>\n",
       "    </tr>\n",
       "    <tr>\n",
       "      <th>16</th>\n",
       "      <td>[{'index': 2, 'value': 1.0}]</td>\n",
       "      <td>0.3454</td>\n",
       "      <td>0.071529</td>\n",
       "      <td>-0.547325</td>\n",
       "      <td>[{'index': 2, 'value': 1.0}]</td>\n",
       "      <td>[{'index': 2, 'value': 1.0}]</td>\n",
       "    </tr>\n",
       "    <tr>\n",
       "      <th>18</th>\n",
       "      <td>[{'index': 2, 'value': 1.0}]</td>\n",
       "      <td>-0.768614</td>\n",
       "      <td>0.382978</td>\n",
       "      <td>-0.547325</td>\n",
       "      <td>[{'index': 3, 'value': 1.0}]</td>\n",
       "      <td>[{'index': 1, 'value': 1.0}]</td>\n",
       "    </tr>\n",
       "    <tr>\n",
       "      <th>19</th>\n",
       "      <td>[{'index': 2, 'value': 1.0}]</td>\n",
       "      <td>-1.121385</td>\n",
       "      <td>0.486795</td>\n",
       "      <td>-0.547325</td>\n",
       "      <td>[{'index': 3, 'value': 1.0}]</td>\n",
       "      <td>[{'index': 1, 'value': 1.0}]</td>\n",
       "    </tr>\n",
       "    <tr>\n",
       "      <th>20</th>\n",
       "      <td>[{'index': 2, 'value': 1.0}]</td>\n",
       "      <td>0.512502</td>\n",
       "      <td>0.33107</td>\n",
       "      <td>-0.547325</td>\n",
       "      <td>[{'index': 2, 'value': 1.0}]</td>\n",
       "      <td>[{'index': 2, 'value': 1.0}]</td>\n",
       "    </tr>\n",
       "    <tr>\n",
       "      <th>21</th>\n",
       "      <td>[{'index': 2, 'value': 1.0}]</td>\n",
       "      <td>1.385146</td>\n",
       "      <td>1.057784</td>\n",
       "      <td>-0.547325</td>\n",
       "      <td>[{'index': 3, 'value': 1.0}]</td>\n",
       "      <td>[{'index': 2, 'value': 1.0}]</td>\n",
       "    </tr>\n",
       "    <tr>\n",
       "      <th>22</th>\n",
       "      <td>[{'index': 2, 'value': 1.0}]</td>\n",
       "      <td>-0.675779</td>\n",
       "      <td>-0.032287</td>\n",
       "      <td>-0.547325</td>\n",
       "      <td>[{'index': 2, 'value': 1.0}]</td>\n",
       "      <td>[{'index': 1, 'value': 1.0}]</td>\n",
       "    </tr>\n",
       "    <tr>\n",
       "      <th>24</th>\n",
       "      <td>[{'index': 2, 'value': 1.0}]</td>\n",
       "      <td>1.069509</td>\n",
       "      <td>0.538703</td>\n",
       "      <td>-0.547325</td>\n",
       "      <td>[{'index': 3, 'value': 1.0}]</td>\n",
       "      <td>[{'index': 2, 'value': 1.0}]</td>\n",
       "    </tr>\n",
       "    <tr>\n",
       "      <th>26</th>\n",
       "      <td>[{'index': 2, 'value': 1.0}]</td>\n",
       "      <td>-0.43441</td>\n",
       "      <td>0.694427</td>\n",
       "      <td>0.027445</td>\n",
       "      <td>[{'index': 3, 'value': 1.0}]</td>\n",
       "      <td>[{'index': 1, 'value': 1.0}]</td>\n",
       "    </tr>\n",
       "    <tr>\n",
       "      <th>28</th>\n",
       "      <td>[{'index': 2, 'value': 1.0}]</td>\n",
       "      <td>1.923586</td>\n",
       "      <td>1.888314</td>\n",
       "      <td>0.027445</td>\n",
       "      <td>[{'index': 3, 'value': 1.0}]</td>\n",
       "      <td>[{'index': 2, 'value': 1.0}]</td>\n",
       "    </tr>\n",
       "    <tr>\n",
       "      <th>30</th>\n",
       "      <td>[{'index': 2, 'value': 1.0}]</td>\n",
       "      <td>1.292312</td>\n",
       "      <td>0.694427</td>\n",
       "      <td>0.027445</td>\n",
       "      <td>[{'index': 3, 'value': 1.0}]</td>\n",
       "      <td>[{'index': 2, 'value': 1.0}]</td>\n",
       "    </tr>\n",
       "    <tr>\n",
       "      <th>31</th>\n",
       "      <td>[{'index': 2, 'value': 1.0}]</td>\n",
       "      <td>-1.994029</td>\n",
       "      <td>-0.551368</td>\n",
       "      <td>-1.62502</td>\n",
       "      <td>[{'index': 2, 'value': 1.0}]</td>\n",
       "      <td>[{'index': 1, 'value': 1.0}]</td>\n",
       "    </tr>\n",
       "  </tbody>\n",
       "</table>\n",
       "<p>25 rows × 6 columns</p>\n",
       "</div>[267 rows x 6 columns in total]"
      ],
      "text/plain": [
       "                    onehotencoded_island  standard_scaled_culmen_length_mm  \\\n",
       "penguin_id                                                                   \n",
       "0           [{'index': 2, 'value': 1.0}]                         -1.344188   \n",
       "1           [{'index': 2, 'value': 1.0}]                         -0.750047   \n",
       "2           [{'index': 2, 'value': 1.0}]                         -0.545811   \n",
       "4           [{'index': 2, 'value': 1.0}]                         -1.214219   \n",
       "5           [{'index': 2, 'value': 1.0}]                         -0.118772   \n",
       "6           [{'index': 2, 'value': 1.0}]                          0.568203   \n",
       "7           [{'index': 2, 'value': 1.0}]                          1.236611   \n",
       "9           [{'index': 2, 'value': 1.0}]                         -0.675779   \n",
       "10          [{'index': 2, 'value': 1.0}]                         -0.564378   \n",
       "11          [{'index': 2, 'value': 1.0}]                         -0.898582   \n",
       "12          [{'index': 2, 'value': 1.0}]                          -1.26992   \n",
       "13          [{'index': 2, 'value': 1.0}]                           0.58677   \n",
       "14          [{'index': 2, 'value': 1.0}]                         -1.826927   \n",
       "15          [{'index': 2, 'value': 1.0}]                          -1.26992   \n",
       "16          [{'index': 2, 'value': 1.0}]                            0.3454   \n",
       "18          [{'index': 2, 'value': 1.0}]                         -0.768614   \n",
       "19          [{'index': 2, 'value': 1.0}]                         -1.121385   \n",
       "20          [{'index': 2, 'value': 1.0}]                          0.512502   \n",
       "21          [{'index': 2, 'value': 1.0}]                          1.385146   \n",
       "22          [{'index': 2, 'value': 1.0}]                         -0.675779   \n",
       "24          [{'index': 2, 'value': 1.0}]                          1.069509   \n",
       "26          [{'index': 2, 'value': 1.0}]                          -0.43441   \n",
       "28          [{'index': 2, 'value': 1.0}]                          1.923586   \n",
       "30          [{'index': 2, 'value': 1.0}]                          1.292312   \n",
       "31          [{'index': 2, 'value': 1.0}]                         -1.994029   \n",
       "\n",
       "            standard_scaled_culmen_depth_mm  \\\n",
       "penguin_id                                    \n",
       "0                                  0.642519   \n",
       "1                                  1.005876   \n",
       "2                                   0.90206   \n",
       "4                                 -0.188011   \n",
       "5                                  0.694427   \n",
       "6                                 -0.291828   \n",
       "7                                  0.642519   \n",
       "9                                  1.524957   \n",
       "10                                  0.90206   \n",
       "11                                 0.798243   \n",
       "12                                -0.136103   \n",
       "13                                 0.071529   \n",
       "14                                -0.032287   \n",
       "15                                -0.343736   \n",
       "16                                 0.071529   \n",
       "18                                 0.382978   \n",
       "19                                 0.486795   \n",
       "20                                  0.33107   \n",
       "21                                 1.057784   \n",
       "22                                -0.032287   \n",
       "24                                 0.538703   \n",
       "26                                 0.694427   \n",
       "28                                 1.888314   \n",
       "30                                 0.694427   \n",
       "31                                -0.551368   \n",
       "\n",
       "            standard_scaled_flipper_length_mm             onehotencoded_sex  \\\n",
       "penguin_id                                                                    \n",
       "0                                   -1.193942  [{'index': 2, 'value': 1.0}]   \n",
       "1                                   -1.193942  [{'index': 3, 'value': 1.0}]   \n",
       "2                                   -1.193942  [{'index': 3, 'value': 1.0}]   \n",
       "4                                   -0.619171  [{'index': 2, 'value': 1.0}]   \n",
       "5                                   -0.619171  [{'index': 3, 'value': 1.0}]   \n",
       "6                                   -0.619171  [{'index': 2, 'value': 1.0}]   \n",
       "7                                   -0.044401  [{'index': 2, 'value': 1.0}]   \n",
       "9                                   -0.044401  [{'index': 3, 'value': 1.0}]   \n",
       "10                                   0.530369  [{'index': 3, 'value': 1.0}]   \n",
       "11                                  -1.122096  [{'index': 3, 'value': 1.0}]   \n",
       "12                                  -1.122096  [{'index': 2, 'value': 1.0}]   \n",
       "13                                  -1.122096  [{'index': 2, 'value': 1.0}]   \n",
       "14                                  -1.122096  [{'index': 2, 'value': 1.0}]   \n",
       "15                                  -1.122096  [{'index': 2, 'value': 1.0}]   \n",
       "16                                  -0.547325  [{'index': 2, 'value': 1.0}]   \n",
       "18                                  -0.547325  [{'index': 3, 'value': 1.0}]   \n",
       "19                                  -0.547325  [{'index': 3, 'value': 1.0}]   \n",
       "20                                  -0.547325  [{'index': 2, 'value': 1.0}]   \n",
       "21                                  -0.547325  [{'index': 3, 'value': 1.0}]   \n",
       "22                                  -0.547325  [{'index': 2, 'value': 1.0}]   \n",
       "24                                  -0.547325  [{'index': 3, 'value': 1.0}]   \n",
       "26                                   0.027445  [{'index': 3, 'value': 1.0}]   \n",
       "28                                   0.027445  [{'index': 3, 'value': 1.0}]   \n",
       "30                                   0.027445  [{'index': 3, 'value': 1.0}]   \n",
       "31                                   -1.62502  [{'index': 2, 'value': 1.0}]   \n",
       "\n",
       "                   onehotencoded_species  \n",
       "penguin_id                                \n",
       "0           [{'index': 1, 'value': 1.0}]  \n",
       "1           [{'index': 1, 'value': 1.0}]  \n",
       "2           [{'index': 1, 'value': 1.0}]  \n",
       "4           [{'index': 1, 'value': 1.0}]  \n",
       "5           [{'index': 1, 'value': 1.0}]  \n",
       "6           [{'index': 2, 'value': 1.0}]  \n",
       "7           [{'index': 2, 'value': 1.0}]  \n",
       "9           [{'index': 1, 'value': 1.0}]  \n",
       "10          [{'index': 1, 'value': 1.0}]  \n",
       "11          [{'index': 1, 'value': 1.0}]  \n",
       "12          [{'index': 1, 'value': 1.0}]  \n",
       "13          [{'index': 2, 'value': 1.0}]  \n",
       "14          [{'index': 1, 'value': 1.0}]  \n",
       "15          [{'index': 1, 'value': 1.0}]  \n",
       "16          [{'index': 2, 'value': 1.0}]  \n",
       "18          [{'index': 1, 'value': 1.0}]  \n",
       "19          [{'index': 1, 'value': 1.0}]  \n",
       "20          [{'index': 2, 'value': 1.0}]  \n",
       "21          [{'index': 2, 'value': 1.0}]  \n",
       "22          [{'index': 1, 'value': 1.0}]  \n",
       "24          [{'index': 2, 'value': 1.0}]  \n",
       "26          [{'index': 1, 'value': 1.0}]  \n",
       "28          [{'index': 2, 'value': 1.0}]  \n",
       "30          [{'index': 2, 'value': 1.0}]  \n",
       "31          [{'index': 1, 'value': 1.0}]  \n",
       "...\n",
       "\n",
       "[267 rows x 6 columns]"
      ]
     },
     "execution_count": 24,
     "metadata": {},
     "output_type": "execute_result"
    }
   ],
   "source": [
    "from bigframes.ml.compose import ColumnTransformer\n",
    "from bigframes.ml.preprocessing import OneHotEncoder\n",
    "\n",
    "# Create an aggregate transform that applies StandardScaler to the numeric columns,\n",
    "# and OneHotEncoder to the string columns\n",
    "preproc = ColumnTransformer([\n",
    "    (\"scale\", StandardScaler(), [\"culmen_length_mm\", \"culmen_depth_mm\", \"flipper_length_mm\"]),\n",
    "    (\"encode\", OneHotEncoder(), [\"species\", \"sex\", \"island\"])])\n",
    "\n",
    "# Now we can fit all columns of the training data\n",
    "preproc.fit(X_train)\n",
    "\n",
    "processed_X_train = preproc.transform(X_train)\n",
    "processed_X_test = preproc.transform(X_test)\n",
    "\n",
    "processed_X_train"
   ]
  },
  {
   "attachments": {},
   "cell_type": "markdown",
   "metadata": {},
   "source": [
    "### Predictors\n",
    "\n",
    "Predictors are estimators that learn and make predictions. In addition to `.fit(...)`, the predictor implements a `.predict(...)` method, which will use what was learned during `.fit(...)` to predict some output.\n",
    "\n",
    "Predictors can be further broken down into two categories:\n",
    "\n",
    "#### Supervised predictors\n",
    "\n",
    "Supervised learning is when we train a model on input-output pairs, and then ask it to predict the output for new inputs. An example of such a predictor is `bigframes.ml.linear_models.LinearRegression`."
   ]
  },
  {
   "cell_type": "code",
   "execution_count": 25,
   "metadata": {},
   "outputs": [
    {
     "data": {
      "application/vnd.jupyter.widget-view+json": {
       "model_id": "5db4c5c80ba4417db151aa561dab5ee7",
       "version_major": 2,
       "version_minor": 0
      },
      "text/plain": [
       "HTML(value='Query job ceced0cc-13a7-4b14-b42c-4d5f69e7e49a is RUNNING. <a target=\"_blank\" href=\"https://consol…"
      ]
     },
     "metadata": {},
     "output_type": "display_data"
    },
    {
     "data": {
      "application/vnd.jupyter.widget-view+json": {
       "model_id": "e6b05d83de0e496d9e47392762046fc5",
       "version_major": 2,
       "version_minor": 0
      },
      "text/plain": [
       "HTML(value='Query job a708b8df-6040-49b1-a6da-d2c0d162f247 is RUNNING. <a target=\"_blank\" href=\"https://consol…"
      ]
     },
     "metadata": {},
     "output_type": "display_data"
    },
    {
     "data": {
      "application/vnd.jupyter.widget-view+json": {
       "model_id": "24d616c24a844abfbfd77ebd9f28486a",
       "version_major": 2,
       "version_minor": 0
      },
      "text/plain": [
       "HTML(value='Query job e9b9cbb5-f6a4-4d85-ba78-1edae77dce94 is RUNNING. <a target=\"_blank\" href=\"https://consol…"
      ]
     },
     "metadata": {},
     "output_type": "display_data"
    },
    {
     "data": {
      "application/vnd.jupyter.widget-view+json": {
       "model_id": "ce49b66c6fa0460aa3ee28746765b6ac",
       "version_major": 2,
       "version_minor": 0
      },
      "text/plain": [
       "HTML(value='Query job 6c0a41a7-a732-413a-b074-ba82f175eab8 is RUNNING. <a target=\"_blank\" href=\"https://consol…"
      ]
     },
     "metadata": {},
     "output_type": "display_data"
    },
    {
     "data": {
      "application/vnd.jupyter.widget-view+json": {
       "model_id": "4a6010d73ca04ea9a133de99aa90da3c",
       "version_major": 2,
       "version_minor": 0
      },
      "text/plain": [
       "HTML(value='Query job 2d08b79d-9c36-4db7-824a-332fdd02e9fc is DONE. 0 Bytes processed. <a target=\"_blank\" href…"
      ]
     },
     "metadata": {},
     "output_type": "display_data"
    },
    {
     "data": {
      "application/vnd.jupyter.widget-view+json": {
       "model_id": "ce9cfdca964a4062a52ebaae9d13ae59",
       "version_major": 2,
       "version_minor": 0
      },
      "text/plain": [
       "HTML(value='Query job 7fa0bf53-1022-45ee-b3ac-78fa5c155585 is RUNNING. <a target=\"_blank\" href=\"https://consol…"
      ]
     },
     "metadata": {},
     "output_type": "display_data"
    },
    {
     "data": {
      "text/html": [
       "<div>\n",
       "<style scoped>\n",
       "    .dataframe tbody tr th:only-of-type {\n",
       "        vertical-align: middle;\n",
       "    }\n",
       "\n",
       "    .dataframe tbody tr th {\n",
       "        vertical-align: top;\n",
       "    }\n",
       "\n",
       "    .dataframe thead th {\n",
       "        text-align: right;\n",
       "    }\n",
       "</style>\n",
       "<table border=\"1\" class=\"dataframe\">\n",
       "  <thead>\n",
       "    <tr style=\"text-align: right;\">\n",
       "      <th></th>\n",
       "      <th>predicted_body_mass_g</th>\n",
       "    </tr>\n",
       "    <tr>\n",
       "      <th>penguin_id</th>\n",
       "      <th></th>\n",
       "    </tr>\n",
       "  </thead>\n",
       "  <tbody>\n",
       "    <tr>\n",
       "      <th>3</th>\n",
       "      <td>3394.118128</td>\n",
       "    </tr>\n",
       "    <tr>\n",
       "      <th>8</th>\n",
       "      <td>4048.685642</td>\n",
       "    </tr>\n",
       "    <tr>\n",
       "      <th>17</th>\n",
       "      <td>3976.454093</td>\n",
       "    </tr>\n",
       "    <tr>\n",
       "      <th>23</th>\n",
       "      <td>3541.582194</td>\n",
       "    </tr>\n",
       "    <tr>\n",
       "      <th>25</th>\n",
       "      <td>4032.844186</td>\n",
       "    </tr>\n",
       "    <tr>\n",
       "      <th>27</th>\n",
       "      <td>4118.351772</td>\n",
       "    </tr>\n",
       "    <tr>\n",
       "      <th>29</th>\n",
       "      <td>4087.767826</td>\n",
       "    </tr>\n",
       "    <tr>\n",
       "      <th>34</th>\n",
       "      <td>3183.755249</td>\n",
       "    </tr>\n",
       "    <tr>\n",
       "      <th>35</th>\n",
       "      <td>3418.802274</td>\n",
       "    </tr>\n",
       "    <tr>\n",
       "      <th>39</th>\n",
       "      <td>3519.186468</td>\n",
       "    </tr>\n",
       "    <tr>\n",
       "      <th>51</th>\n",
       "      <td>3398.135365</td>\n",
       "    </tr>\n",
       "    <tr>\n",
       "      <th>52</th>\n",
       "      <td>3223.615957</td>\n",
       "    </tr>\n",
       "    <tr>\n",
       "      <th>60</th>\n",
       "      <td>3445.014718</td>\n",
       "    </tr>\n",
       "    <tr>\n",
       "      <th>61</th>\n",
       "      <td>3505.638864</td>\n",
       "    </tr>\n",
       "    <tr>\n",
       "      <th>64</th>\n",
       "      <td>3515.905786</td>\n",
       "    </tr>\n",
       "    <tr>\n",
       "      <th>65</th>\n",
       "      <td>4028.363185</td>\n",
       "    </tr>\n",
       "    <tr>\n",
       "      <th>67</th>\n",
       "      <td>4159.993943</td>\n",
       "    </tr>\n",
       "    <tr>\n",
       "      <th>83</th>\n",
       "      <td>3348.16883</td>\n",
       "    </tr>\n",
       "    <tr>\n",
       "      <th>85</th>\n",
       "      <td>3485.050273</td>\n",
       "    </tr>\n",
       "    <tr>\n",
       "      <th>93</th>\n",
       "      <td>4172.874548</td>\n",
       "    </tr>\n",
       "    <tr>\n",
       "      <th>104</th>\n",
       "      <td>3299.302424</td>\n",
       "    </tr>\n",
       "    <tr>\n",
       "      <th>105</th>\n",
       "      <td>3515.687917</td>\n",
       "    </tr>\n",
       "    <tr>\n",
       "      <th>108</th>\n",
       "      <td>3405.224618</td>\n",
       "    </tr>\n",
       "    <tr>\n",
       "      <th>113</th>\n",
       "      <td>4209.140425</td>\n",
       "    </tr>\n",
       "    <tr>\n",
       "      <th>130</th>\n",
       "      <td>4197.905737</td>\n",
       "    </tr>\n",
       "  </tbody>\n",
       "</table>\n",
       "<p>25 rows × 1 columns</p>\n",
       "</div>[67 rows x 1 columns in total]"
      ],
      "text/plain": [
       "            predicted_body_mass_g\n",
       "penguin_id                       \n",
       "3                     3394.118128\n",
       "8                     4048.685642\n",
       "17                    3976.454093\n",
       "23                    3541.582194\n",
       "25                    4032.844186\n",
       "27                    4118.351772\n",
       "29                    4087.767826\n",
       "34                    3183.755249\n",
       "35                    3418.802274\n",
       "39                    3519.186468\n",
       "51                    3398.135365\n",
       "52                    3223.615957\n",
       "60                    3445.014718\n",
       "61                    3505.638864\n",
       "64                    3515.905786\n",
       "65                    4028.363185\n",
       "67                    4159.993943\n",
       "83                     3348.16883\n",
       "85                    3485.050273\n",
       "93                    4172.874548\n",
       "104                   3299.302424\n",
       "105                   3515.687917\n",
       "108                   3405.224618\n",
       "113                   4209.140425\n",
       "130                   4197.905737\n",
       "...\n",
       "\n",
       "[67 rows x 1 columns]"
      ]
     },
     "execution_count": 25,
     "metadata": {},
     "output_type": "execute_result"
    }
   ],
   "source": [
    "from bigframes.ml.linear_model import LinearRegression\n",
    "\n",
    "linreg = LinearRegression()\n",
    "\n",
    "# Learn from the training data how to predict output y\n",
    "linreg.fit(processed_X_train, y_train)\n",
    "\n",
    "# Predict y for the test data\n",
    "predicted_y_test = linreg.predict(processed_X_test)\n",
    "\n",
    "predicted_y_test"
   ]
  },
  {
   "attachments": {},
   "cell_type": "markdown",
   "metadata": {},
   "source": [
    "#### Unsupervised predictors\n",
    "\n",
    "In unsupervised learning, there are no known outputs in the training data, instead the model learns on input data alone and predicts something else. An example of an unsupervised predictor is `bigframes.ml.cluster.KMeans`, which learns how to fit input data to a target number of clusters."
   ]
  },
  {
   "cell_type": "code",
   "execution_count": 26,
   "metadata": {},
   "outputs": [
    {
     "data": {
      "application/vnd.jupyter.widget-view+json": {
       "model_id": "d7a16e04253a42b7a5ce247d8f63b656",
       "version_major": 2,
       "version_minor": 0
      },
      "text/plain": [
       "HTML(value='Query job 6f19614c-82c0-4f8b-b74b-9d91a894efdd is RUNNING. <a target=\"_blank\" href=\"https://consol…"
      ]
     },
     "metadata": {},
     "output_type": "display_data"
    },
    {
     "data": {
      "application/vnd.jupyter.widget-view+json": {
       "model_id": "4a99ac15431e433595de1040872a4558",
       "version_major": 2,
       "version_minor": 0
      },
      "text/plain": [
       "HTML(value='Query job 51899e2d-f6ef-4e62-98b6-c11550f74f4b is RUNNING. <a target=\"_blank\" href=\"https://consol…"
      ]
     },
     "metadata": {},
     "output_type": "display_data"
    },
    {
     "data": {
      "application/vnd.jupyter.widget-view+json": {
       "model_id": "90909b620e084f59b0f9da266257593f",
       "version_major": 2,
       "version_minor": 0
      },
      "text/plain": [
       "HTML(value='Query job 44d3fddc-74bc-4de0-a458-2c73b38f74fb is RUNNING. <a target=\"_blank\" href=\"https://consol…"
      ]
     },
     "metadata": {},
     "output_type": "display_data"
    },
    {
     "data": {
      "application/vnd.jupyter.widget-view+json": {
       "model_id": "2a9c2c05041a4fb691809bab5310bb05",
       "version_major": 2,
       "version_minor": 0
      },
      "text/plain": [
       "HTML(value='Query job 33584475-f02b-4c98-9a51-e29996f4f950 is RUNNING. <a target=\"_blank\" href=\"https://consol…"
      ]
     },
     "metadata": {},
     "output_type": "display_data"
    },
    {
     "data": {
      "application/vnd.jupyter.widget-view+json": {
       "model_id": "6b0677c228d54b409c66e5dfa98d7e00",
       "version_major": 2,
       "version_minor": 0
      },
      "text/plain": [
       "HTML(value='Query job df25ba49-280e-424d-a357-dde71a9b35dd is DONE. 0 Bytes processed. <a target=\"_blank\" href…"
      ]
     },
     "metadata": {},
     "output_type": "display_data"
    },
    {
     "data": {
      "application/vnd.jupyter.widget-view+json": {
       "model_id": "379ae6497fb34f969d21b2cd664e8bfa",
       "version_major": 2,
       "version_minor": 0
      },
      "text/plain": [
       "HTML(value='Query job 6f92a04e-af7e-41d6-9303-6366c1751294 is RUNNING. <a target=\"_blank\" href=\"https://consol…"
      ]
     },
     "metadata": {},
     "output_type": "display_data"
    },
    {
     "data": {
      "text/html": [
       "<div>\n",
       "<style scoped>\n",
       "    .dataframe tbody tr th:only-of-type {\n",
       "        vertical-align: middle;\n",
       "    }\n",
       "\n",
       "    .dataframe tbody tr th {\n",
       "        vertical-align: top;\n",
       "    }\n",
       "\n",
       "    .dataframe thead th {\n",
       "        text-align: right;\n",
       "    }\n",
       "</style>\n",
       "<table border=\"1\" class=\"dataframe\">\n",
       "  <thead>\n",
       "    <tr style=\"text-align: right;\">\n",
       "      <th></th>\n",
       "      <th>CENTROID_ID</th>\n",
       "    </tr>\n",
       "    <tr>\n",
       "      <th>penguin_id</th>\n",
       "      <th></th>\n",
       "    </tr>\n",
       "  </thead>\n",
       "  <tbody>\n",
       "    <tr>\n",
       "      <th>3</th>\n",
       "      <td>3</td>\n",
       "    </tr>\n",
       "    <tr>\n",
       "      <th>8</th>\n",
       "      <td>3</td>\n",
       "    </tr>\n",
       "    <tr>\n",
       "      <th>17</th>\n",
       "      <td>3</td>\n",
       "    </tr>\n",
       "    <tr>\n",
       "      <th>23</th>\n",
       "      <td>1</td>\n",
       "    </tr>\n",
       "    <tr>\n",
       "      <th>25</th>\n",
       "      <td>3</td>\n",
       "    </tr>\n",
       "    <tr>\n",
       "      <th>27</th>\n",
       "      <td>3</td>\n",
       "    </tr>\n",
       "    <tr>\n",
       "      <th>29</th>\n",
       "      <td>3</td>\n",
       "    </tr>\n",
       "    <tr>\n",
       "      <th>34</th>\n",
       "      <td>3</td>\n",
       "    </tr>\n",
       "    <tr>\n",
       "      <th>35</th>\n",
       "      <td>1</td>\n",
       "    </tr>\n",
       "    <tr>\n",
       "      <th>39</th>\n",
       "      <td>3</td>\n",
       "    </tr>\n",
       "    <tr>\n",
       "      <th>51</th>\n",
       "      <td>1</td>\n",
       "    </tr>\n",
       "    <tr>\n",
       "      <th>52</th>\n",
       "      <td>3</td>\n",
       "    </tr>\n",
       "    <tr>\n",
       "      <th>60</th>\n",
       "      <td>3</td>\n",
       "    </tr>\n",
       "    <tr>\n",
       "      <th>61</th>\n",
       "      <td>3</td>\n",
       "    </tr>\n",
       "    <tr>\n",
       "      <th>64</th>\n",
       "      <td>1</td>\n",
       "    </tr>\n",
       "    <tr>\n",
       "      <th>65</th>\n",
       "      <td>1</td>\n",
       "    </tr>\n",
       "    <tr>\n",
       "      <th>67</th>\n",
       "      <td>3</td>\n",
       "    </tr>\n",
       "    <tr>\n",
       "      <th>83</th>\n",
       "      <td>3</td>\n",
       "    </tr>\n",
       "    <tr>\n",
       "      <th>85</th>\n",
       "      <td>1</td>\n",
       "    </tr>\n",
       "    <tr>\n",
       "      <th>93</th>\n",
       "      <td>1</td>\n",
       "    </tr>\n",
       "    <tr>\n",
       "      <th>104</th>\n",
       "      <td>3</td>\n",
       "    </tr>\n",
       "    <tr>\n",
       "      <th>105</th>\n",
       "      <td>1</td>\n",
       "    </tr>\n",
       "    <tr>\n",
       "      <th>108</th>\n",
       "      <td>3</td>\n",
       "    </tr>\n",
       "    <tr>\n",
       "      <th>113</th>\n",
       "      <td>3</td>\n",
       "    </tr>\n",
       "    <tr>\n",
       "      <th>130</th>\n",
       "      <td>1</td>\n",
       "    </tr>\n",
       "  </tbody>\n",
       "</table>\n",
       "<p>25 rows × 1 columns</p>\n",
       "</div>[67 rows x 1 columns in total]"
      ],
      "text/plain": [
       "            CENTROID_ID\n",
       "penguin_id             \n",
       "3                     3\n",
       "8                     3\n",
       "17                    3\n",
       "23                    1\n",
       "25                    3\n",
       "27                    3\n",
       "29                    3\n",
       "34                    3\n",
       "35                    1\n",
       "39                    3\n",
       "51                    1\n",
       "52                    3\n",
       "60                    3\n",
       "61                    3\n",
       "64                    1\n",
       "65                    1\n",
       "67                    3\n",
       "83                    3\n",
       "85                    1\n",
       "93                    1\n",
       "104                   3\n",
       "105                   1\n",
       "108                   3\n",
       "113                   3\n",
       "130                   1\n",
       "...\n",
       "\n",
       "[67 rows x 1 columns]"
      ]
     },
     "execution_count": 26,
     "metadata": {},
     "output_type": "execute_result"
    }
   ],
   "source": [
    "from bigframes.ml.cluster import KMeans\n",
    "\n",
    "kmeans = KMeans(n_clusters=4)\n",
    "\n",
    "kmeans.fit(processed_X_train)\n",
    "\n",
    "kmeans.predict(processed_X_test)"
   ]
  },
  {
   "attachments": {},
   "cell_type": "markdown",
   "metadata": {},
   "source": [
    "## Pipelines\n",
    "\n",
    "Transfomers and predictors can be chained into a single estimator component using `bigframes.ml.pipeline.Pipeline`:"
   ]
  },
  {
   "cell_type": "code",
   "execution_count": 27,
   "metadata": {},
   "outputs": [
    {
     "data": {
      "text/plain": [
       "Pipeline(steps=[('preproc',\n",
       "                 ColumnTransformer(transformers=[('scale', StandardScaler(),\n",
       "                                                  ['culmen_length_mm',\n",
       "                                                   'culmen_depth_mm',\n",
       "                                                   'flipper_length_mm']),\n",
       "                                                 ('encode', OneHotEncoder(),\n",
       "                                                  ['species', 'sex',\n",
       "                                                   'island'])])),\n",
       "                ('linreg', LinearRegression())])"
      ]
     },
     "execution_count": 27,
     "metadata": {},
     "output_type": "execute_result"
    }
   ],
   "source": [
    "from bigframes.ml.pipeline import Pipeline\n",
    "\n",
    "pipeline = Pipeline([\n",
    "  ('preproc', preproc),\n",
    "  ('linreg', linreg)\n",
    "])\n",
    "\n",
    "# Print our pipeline\n",
    "pipeline"
   ]
  },
  {
   "attachments": {},
   "cell_type": "markdown",
   "metadata": {},
   "source": [
    "The pipeline simplifies the workflow by applying each of its component steps automatically:"
   ]
  },
  {
   "cell_type": "code",
   "execution_count": 28,
   "metadata": {},
   "outputs": [
    {
     "data": {
      "application/vnd.jupyter.widget-view+json": {
       "model_id": "887bf58cebf14bdba95db828390fd33d",
       "version_major": 2,
       "version_minor": 0
      },
      "text/plain": [
       "HTML(value='Query job ed42cbb3-3d25-47ca-96c5-71a84e426a8c is RUNNING. <a target=\"_blank\" href=\"https://consol…"
      ]
     },
     "metadata": {},
     "output_type": "display_data"
    },
    {
     "data": {
      "application/vnd.jupyter.widget-view+json": {
       "model_id": "24357055792a4eaaa60997fea0f76921",
       "version_major": 2,
       "version_minor": 0
      },
      "text/plain": [
       "HTML(value='Query job 3fc74930-03b9-4a49-8ed3-c3edc4dd6e51 is RUNNING. <a target=\"_blank\" href=\"https://consol…"
      ]
     },
     "metadata": {},
     "output_type": "display_data"
    },
    {
     "data": {
      "application/vnd.jupyter.widget-view+json": {
       "model_id": "bba878d6d3e345f1a29aea50f7101e8f",
       "version_major": 2,
       "version_minor": 0
      },
      "text/plain": [
       "HTML(value='Query job 38a4ce3b-5c2a-4d44-b826-f24529d6500b is RUNNING. <a target=\"_blank\" href=\"https://consol…"
      ]
     },
     "metadata": {},
     "output_type": "display_data"
    },
    {
     "data": {
      "application/vnd.jupyter.widget-view+json": {
       "model_id": "4bc2c53aeb7d4a8280f9fbbe373f4b55",
       "version_major": 2,
       "version_minor": 0
      },
      "text/plain": [
       "HTML(value='Query job ecad776d-77c8-4d94-8186-d5571b512b62 is RUNNING. <a target=\"_blank\" href=\"https://consol…"
      ]
     },
     "metadata": {},
     "output_type": "display_data"
    },
    {
     "data": {
      "application/vnd.jupyter.widget-view+json": {
       "model_id": "f4f695cb0a224102b6e26adeb1827981",
       "version_major": 2,
       "version_minor": 0
      },
      "text/plain": [
       "HTML(value='Query job c9bfc58f-ce2c-47a9-bbc7-b10d9de9b5a6 is DONE. 0 Bytes processed. <a target=\"_blank\" href…"
      ]
     },
     "metadata": {},
     "output_type": "display_data"
    },
    {
     "data": {
      "application/vnd.jupyter.widget-view+json": {
       "model_id": "cb1df595006d485288a1060299970e5e",
       "version_major": 2,
       "version_minor": 0
      },
      "text/plain": [
       "HTML(value='Query job 8fd8036e-3753-433d-975b-c7b42406f648 is RUNNING. <a target=\"_blank\" href=\"https://consol…"
      ]
     },
     "metadata": {},
     "output_type": "display_data"
    },
    {
     "data": {
      "text/html": [
       "<div>\n",
       "<style scoped>\n",
       "    .dataframe tbody tr th:only-of-type {\n",
       "        vertical-align: middle;\n",
       "    }\n",
       "\n",
       "    .dataframe tbody tr th {\n",
       "        vertical-align: top;\n",
       "    }\n",
       "\n",
       "    .dataframe thead th {\n",
       "        text-align: right;\n",
       "    }\n",
       "</style>\n",
       "<table border=\"1\" class=\"dataframe\">\n",
       "  <thead>\n",
       "    <tr style=\"text-align: right;\">\n",
       "      <th></th>\n",
       "      <th>predicted_body_mass_g</th>\n",
       "    </tr>\n",
       "    <tr>\n",
       "      <th>penguin_id</th>\n",
       "      <th></th>\n",
       "    </tr>\n",
       "  </thead>\n",
       "  <tbody>\n",
       "    <tr>\n",
       "      <th>3</th>\n",
       "      <td>3394.116212</td>\n",
       "    </tr>\n",
       "    <tr>\n",
       "      <th>8</th>\n",
       "      <td>4048.683645</td>\n",
       "    </tr>\n",
       "    <tr>\n",
       "      <th>17</th>\n",
       "      <td>3976.452358</td>\n",
       "    </tr>\n",
       "    <tr>\n",
       "      <th>23</th>\n",
       "      <td>3541.580346</td>\n",
       "    </tr>\n",
       "    <tr>\n",
       "      <th>25</th>\n",
       "      <td>4032.842027</td>\n",
       "    </tr>\n",
       "    <tr>\n",
       "      <th>27</th>\n",
       "      <td>4118.34983</td>\n",
       "    </tr>\n",
       "    <tr>\n",
       "      <th>29</th>\n",
       "      <td>4087.765797</td>\n",
       "    </tr>\n",
       "    <tr>\n",
       "      <th>34</th>\n",
       "      <td>3183.75379</td>\n",
       "    </tr>\n",
       "    <tr>\n",
       "      <th>35</th>\n",
       "      <td>3418.800633</td>\n",
       "    </tr>\n",
       "    <tr>\n",
       "      <th>39</th>\n",
       "      <td>3519.18471</td>\n",
       "    </tr>\n",
       "    <tr>\n",
       "      <th>51</th>\n",
       "      <td>3398.133564</td>\n",
       "    </tr>\n",
       "    <tr>\n",
       "      <th>52</th>\n",
       "      <td>3223.614107</td>\n",
       "    </tr>\n",
       "    <tr>\n",
       "      <th>60</th>\n",
       "      <td>3445.012713</td>\n",
       "    </tr>\n",
       "    <tr>\n",
       "      <th>61</th>\n",
       "      <td>3505.637004</td>\n",
       "    </tr>\n",
       "    <tr>\n",
       "      <th>64</th>\n",
       "      <td>3515.903779</td>\n",
       "    </tr>\n",
       "    <tr>\n",
       "      <th>65</th>\n",
       "      <td>4028.361259</td>\n",
       "    </tr>\n",
       "    <tr>\n",
       "      <th>67</th>\n",
       "      <td>4159.991956</td>\n",
       "    </tr>\n",
       "    <tr>\n",
       "      <th>83</th>\n",
       "      <td>3348.167212</td>\n",
       "    </tr>\n",
       "    <tr>\n",
       "      <th>85</th>\n",
       "      <td>3485.048557</td>\n",
       "    </tr>\n",
       "    <tr>\n",
       "      <th>93</th>\n",
       "      <td>4172.872284</td>\n",
       "    </tr>\n",
       "    <tr>\n",
       "      <th>104</th>\n",
       "      <td>3299.300454</td>\n",
       "    </tr>\n",
       "    <tr>\n",
       "      <th>105</th>\n",
       "      <td>3515.68617</td>\n",
       "    </tr>\n",
       "    <tr>\n",
       "      <th>108</th>\n",
       "      <td>3405.222757</td>\n",
       "    </tr>\n",
       "    <tr>\n",
       "      <th>113</th>\n",
       "      <td>4209.13832</td>\n",
       "    </tr>\n",
       "    <tr>\n",
       "      <th>130</th>\n",
       "      <td>4197.90382</td>\n",
       "    </tr>\n",
       "  </tbody>\n",
       "</table>\n",
       "<p>25 rows × 1 columns</p>\n",
       "</div>[67 rows x 1 columns in total]"
      ],
      "text/plain": [
       "            predicted_body_mass_g\n",
       "penguin_id                       \n",
       "3                     3394.116212\n",
       "8                     4048.683645\n",
       "17                    3976.452358\n",
       "23                    3541.580346\n",
       "25                    4032.842027\n",
       "27                     4118.34983\n",
       "29                    4087.765797\n",
       "34                     3183.75379\n",
       "35                    3418.800633\n",
       "39                     3519.18471\n",
       "51                    3398.133564\n",
       "52                    3223.614107\n",
       "60                    3445.012713\n",
       "61                    3505.637004\n",
       "64                    3515.903779\n",
       "65                    4028.361259\n",
       "67                    4159.991956\n",
       "83                    3348.167212\n",
       "85                    3485.048557\n",
       "93                    4172.872284\n",
       "104                   3299.300454\n",
       "105                    3515.68617\n",
       "108                   3405.222757\n",
       "113                    4209.13832\n",
       "130                    4197.90382\n",
       "...\n",
       "\n",
       "[67 rows x 1 columns]"
      ]
     },
     "execution_count": 28,
     "metadata": {},
     "output_type": "execute_result"
    }
   ],
   "source": [
    "pipeline.fit(X_train, y_train)\n",
    "\n",
    "predicted_y_test = pipeline.predict(X_test)\n",
    "predicted_y_test"
   ]
  },
  {
   "attachments": {},
   "cell_type": "markdown",
   "metadata": {},
   "source": [
    "In the backend, a pipeline will actually be compiled into a single model with an embedded TRANSFORM step."
   ]
  },
  {
   "attachments": {},
   "cell_type": "markdown",
   "metadata": {},
   "source": [
    "## Evaluating results\n",
    "\n",
    "Some models include a convenient `.score(X, y)` method for evaulation with a preset accuracy metric:"
   ]
  },
  {
   "cell_type": "code",
   "execution_count": 29,
   "metadata": {},
   "outputs": [
    {
     "data": {
      "application/vnd.jupyter.widget-view+json": {
       "model_id": "2d32081be31f44abb8de67e2209d76cd",
       "version_major": 2,
       "version_minor": 0
      },
      "text/plain": [
       "HTML(value='Query job 2a043039-670f-4eb8-9cf0-765ee6ed7de6 is RUNNING. <a target=\"_blank\" href=\"https://consol…"
      ]
     },
     "metadata": {},
     "output_type": "display_data"
    },
    {
     "data": {
      "application/vnd.jupyter.widget-view+json": {
       "model_id": "441323a674ce4c01b039420125fb34ba",
       "version_major": 2,
       "version_minor": 0
      },
      "text/plain": [
       "HTML(value='Query job 7a3da9b3-e6d5-453a-8178-9cb311e83113 is RUNNING. <a target=\"_blank\" href=\"https://consol…"
      ]
     },
     "metadata": {},
     "output_type": "display_data"
    },
    {
     "data": {
      "application/vnd.jupyter.widget-view+json": {
       "model_id": "d177be3c94b043389a461787c026929a",
       "version_major": 2,
       "version_minor": 0
      },
      "text/plain": [
       "HTML(value='Query job 5fcfd48b-c26f-487e-8387-c662b59ea424 is RUNNING. <a target=\"_blank\" href=\"https://consol…"
      ]
     },
     "metadata": {},
     "output_type": "display_data"
    },
    {
     "data": {
      "application/vnd.jupyter.widget-view+json": {
       "model_id": "54d4f250e1014de181931e5ffe4f5525",
       "version_major": 2,
       "version_minor": 0
      },
      "text/plain": [
       "HTML(value='Query job bc8b2042-1e13-441c-9531-300ed5badb7a is RUNNING. <a target=\"_blank\" href=\"https://consol…"
      ]
     },
     "metadata": {},
     "output_type": "display_data"
    },
    {
     "data": {
      "application/vnd.jupyter.widget-view+json": {
       "model_id": "4588ae10de634460bf4026ddd9076351",
       "version_major": 2,
       "version_minor": 0
      },
      "text/plain": [
       "HTML(value='Query job 5e867182-dd7a-4aff-87a8-f7596e900fd5 is DONE. 0 Bytes processed. <a target=\"_blank\" href…"
      ]
     },
     "metadata": {},
     "output_type": "display_data"
    },
    {
     "data": {
      "application/vnd.jupyter.widget-view+json": {
       "model_id": "8209cf8286a545ebb7b6ef9d002a43a1",
       "version_major": 2,
       "version_minor": 0
      },
      "text/plain": [
       "HTML(value='Query job d4cdb016-8f1e-4960-8ed7-4524ccc5a8a8 is RUNNING. <a target=\"_blank\" href=\"https://consol…"
      ]
     },
     "metadata": {},
     "output_type": "display_data"
    },
    {
     "data": {
      "text/html": [
       "<div>\n",
       "<style scoped>\n",
       "    .dataframe tbody tr th:only-of-type {\n",
       "        vertical-align: middle;\n",
       "    }\n",
       "\n",
       "    .dataframe tbody tr th {\n",
       "        vertical-align: top;\n",
       "    }\n",
       "\n",
       "    .dataframe thead th {\n",
       "        text-align: right;\n",
       "    }\n",
       "</style>\n",
       "<table border=\"1\" class=\"dataframe\">\n",
       "  <thead>\n",
       "    <tr style=\"text-align: right;\">\n",
       "      <th></th>\n",
       "      <th>mean_absolute_error</th>\n",
       "      <th>mean_squared_error</th>\n",
       "      <th>mean_squared_log_error</th>\n",
       "      <th>median_absolute_error</th>\n",
       "      <th>r2_score</th>\n",
       "      <th>explained_variance</th>\n",
       "    </tr>\n",
       "  </thead>\n",
       "  <tbody>\n",
       "    <tr>\n",
       "      <th>0</th>\n",
       "      <td>229.48269</td>\n",
       "      <td>82962.794947</td>\n",
       "      <td>0.004248</td>\n",
       "      <td>206.728384</td>\n",
       "      <td>0.88633</td>\n",
       "      <td>0.892953</td>\n",
       "    </tr>\n",
       "  </tbody>\n",
       "</table>\n",
       "<p>1 rows × 6 columns</p>\n",
       "</div>[1 rows x 6 columns in total]"
      ],
      "text/plain": [
       "   mean_absolute_error  mean_squared_error  mean_squared_log_error  \\\n",
       "0            229.48269        82962.794947                0.004248   \n",
       "\n",
       "   median_absolute_error  r2_score  explained_variance  \n",
       "0             206.728384   0.88633            0.892953  \n",
       "\n",
       "[1 rows x 6 columns]"
      ]
     },
     "execution_count": 29,
     "metadata": {},
     "output_type": "execute_result"
    }
   ],
   "source": [
    "# In the case of a pipeline, this will be equivalent to calling .score on the contained LinearRegression\n",
    "pipeline.score(X_test, y_test)"
   ]
  },
  {
   "attachments": {},
   "cell_type": "markdown",
   "metadata": {},
   "source": [
    "For a more general approach, the library `bigframes.ml.metrics` is provided:"
   ]
  },
  {
   "cell_type": "code",
   "execution_count": 30,
   "metadata": {},
   "outputs": [
    {
     "data": {
      "application/vnd.jupyter.widget-view+json": {
       "model_id": "f32692d89f00406499f4ea5aa55268fb",
       "version_major": 2,
       "version_minor": 0
      },
      "text/plain": [
       "HTML(value='Query job e57383ef-f043-458b-96c6-893e7c5b0c00 is RUNNING. <a target=\"_blank\" href=\"https://consol…"
      ]
     },
     "metadata": {},
     "output_type": "display_data"
    },
    {
     "data": {
      "application/vnd.jupyter.widget-view+json": {
       "model_id": "72e5f23a99de4a818c8493b8b4f3854d",
       "version_major": 2,
       "version_minor": 0
      },
      "text/plain": [
       "HTML(value='Query job 1a9db485-477b-43e2-94eb-dea7dc21d45d is RUNNING. <a target=\"_blank\" href=\"https://consol…"
      ]
     },
     "metadata": {},
     "output_type": "display_data"
    },
    {
     "data": {
      "application/vnd.jupyter.widget-view+json": {
       "model_id": "9d5333a91b504dd9be51c997715530ab",
       "version_major": 2,
       "version_minor": 0
      },
      "text/plain": [
       "HTML(value='Query job 4570a563-b8e0-4308-b8cb-c4731491d4f7 is RUNNING. <a target=\"_blank\" href=\"https://consol…"
      ]
     },
     "metadata": {},
     "output_type": "display_data"
    },
    {
     "data": {
      "text/plain": [
       "0.8863300923278365"
      ]
     },
     "execution_count": 30,
     "metadata": {},
     "output_type": "execute_result"
    }
   ],
   "source": [
    "from bigframes.ml.metrics import r2_score\n",
    "\n",
    "r2_score(y_test, predicted_y_test)"
   ]
  },
  {
   "attachments": {},
   "cell_type": "markdown",
   "metadata": {},
   "source": [
    "## Save/Load to BigQuery\n",
    "\n",
    "Estimators can be saved to BigQuery as BQML models, and loaded again in future.\n",
    "\n",
    "Saving requires `bigquery.tables.create` permission, and loading requires `bigquery.models.getMetadata` permission.\n",
    "These permissions can be at project level or the dataset level.\n",
    "\n",
    "If you have those permissions, please go ahead and uncomment the code in the following cells and run."
   ]
  },
  {
   "cell_type": "code",
   "execution_count": 33,
   "metadata": {},
   "outputs": [
    {
     "data": {
      "application/vnd.jupyter.widget-view+json": {
       "model_id": "fbc4a70f31d4465b974a7f7c9cc97731",
       "version_major": 2,
       "version_minor": 0
      },
      "text/plain": [
       "HTML(value='Copy job c2413be4-6972-4e36-8234-5063628b6d71 is RUNNING. <a target=\"_blank\" href=\"https://console…"
      ]
     },
     "metadata": {},
     "output_type": "display_data"
    },
    {
     "data": {
      "text/plain": [
       "Pipeline(steps=[('transform',\n",
       "                 ColumnTransformer(transformers=[('ont_hot_encoder',\n",
       "                                                  OneHotEncoder(max_categories=1000001,\n",
       "                                                                min_frequency=0),\n",
       "                                                  'island'),\n",
       "                                                 ('standard_scaler',\n",
       "                                                  StandardScaler(),\n",
       "                                                  'culmen_length_mm'),\n",
       "                                                 ('standard_scaler',\n",
       "                                                  StandardScaler(),\n",
       "                                                  'culmen_depth_mm'),\n",
       "                                                 ('standard_scaler',\n",
       "                                                  StandardScaler(),\n",
       "                                                  'flipper_length_mm'),\n",
       "                                                 ('ont_hot_encoder',\n",
       "                                                  OneHotEncoder(max_categories=1000001,\n",
       "                                                                min_frequency=0),\n",
       "                                                  'sex'),\n",
       "                                                 ('ont_hot_encoder',\n",
       "                                                  OneHotEncoder(max_categories=1000001,\n",
       "                                                                min_frequency=0),\n",
       "                                                  'species')])),\n",
       "                ('estimator',\n",
       "                 LinearRegression(optimize_strategy='NORMAL_EQUATION'))])"
      ]
     },
     "execution_count": 33,
     "metadata": {},
     "output_type": "execute_result"
    }
   ],
   "source": [
    "# # Replace with a path where you have permission to save a model\n",
    "# model_name = \"bigframes-dev.bqml_tutorial.penguins_model\"\n",
    "\n",
    "# linreg.to_gbq(model_name, replace=True)"
   ]
  },
  {
   "cell_type": "code",
   "execution_count": 34,
   "metadata": {},
   "outputs": [
    {
     "data": {
      "text/plain": [
       "Pipeline(steps=[('transform',\n",
       "                 ColumnTransformer(transformers=[('ont_hot_encoder',\n",
       "                                                  OneHotEncoder(max_categories=1000001,\n",
       "                                                                min_frequency=0),\n",
       "                                                  'island'),\n",
       "                                                 ('standard_scaler',\n",
       "                                                  StandardScaler(),\n",
       "                                                  'culmen_length_mm'),\n",
       "                                                 ('standard_scaler',\n",
       "                                                  StandardScaler(),\n",
       "                                                  'culmen_depth_mm'),\n",
       "                                                 ('standard_scaler',\n",
       "                                                  StandardScaler(),\n",
       "                                                  'flipper_length_mm'),\n",
       "                                                 ('ont_hot_encoder',\n",
       "                                                  OneHotEncoder(max_categories=1000001,\n",
       "                                                                min_frequency=0),\n",
       "                                                  'sex'),\n",
       "                                                 ('ont_hot_encoder',\n",
       "                                                  OneHotEncoder(max_categories=1000001,\n",
       "                                                                min_frequency=0),\n",
       "                                                  'species')])),\n",
       "                ('estimator',\n",
       "                 LinearRegression(optimize_strategy='NORMAL_EQUATION'))])"
      ]
     },
     "execution_count": 34,
     "metadata": {},
     "output_type": "execute_result"
    }
   ],
   "source": [
    "# # WARNING - until b/281709360 is fixed & pipeline is updated, pipelines will load as models,\n",
    "# # and details of their transform steps will be lost (the loaded model will behave the same)\n",
    "# bigframes.pandas.read_gbq_model(model_name)"
   ]
  }
 ],
 "metadata": {
  "kernelspec": {
   "display_name": "venv",
   "language": "python",
   "name": "python3"
  },
  "language_info": {
   "codemirror_mode": {
    "name": "ipython",
    "version": 3
   },
   "file_extension": ".py",
   "mimetype": "text/x-python",
   "name": "python",
   "nbconvert_exporter": "python",
   "pygments_lexer": "ipython3",
   "version": "3.10.12"
  },
  "orig_nbformat": 4,
  "vscode": {
   "interpreter": {
    "hash": "a850322d07d9bdc9ec5f301d307e048bcab2390ae395e1cbce9335f4e081e5e2"
   }
  }
 },
 "nbformat": 4,
 "nbformat_minor": 2
}
