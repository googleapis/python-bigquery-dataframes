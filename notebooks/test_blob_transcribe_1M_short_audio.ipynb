{
 "cells": [
  {
   "cell_type": "code",
   "execution_count": 1,
   "metadata": {},
   "outputs": [
    {
     "name": "stderr",
     "output_type": "stream",
     "text": [
      "/usr/local/google/home/shuowei/src/python-bigquery-dataframes/bigframes/_config/experiment_options.py:71: ApiDeprecationWarning: BigFrames Blob is in preview now. This flag is no longer needed.\n",
      "  warnings.warn(msg, category=bfe.ApiDeprecationWarning)\n"
     ]
    }
   ],
   "source": [
    "import bigframes\n",
    "bigframes.options.experiments.blob = True\n",
    "#bigframes.options._bigquery_options.client_endpoints_override = {\"bqclient\": \"https://test-bigquery.sandbox.google.com\", \n",
    "#                                                           \"bqconnectionclient\": \"test-bigqueryconnection.sandbox.googleapis.com\", \n",
    "#                                                           \"bqstoragereadclient\": \"test-bigquerystorage-grpc.sandbox.googleapis.com\"}\n",
    "import bigframes.pandas as bpd"
   ]
  },
  {
   "cell_type": "code",
   "execution_count": 2,
   "metadata": {},
   "outputs": [
    {
     "name": "stderr",
     "output_type": "stream",
     "text": [
      "/usr/local/google/home/shuowei/src/python-bigquery-dataframes/bigframes/core/global_session.py:103: DefaultLocationWarning: No explicit location is set, so using location US for the session.\n",
      "  _global_session = bigframes.session.connect(\n"
     ]
    },
    {
     "data": {
      "text/html": [
       "Query job 7d45f84a-01f6-413a-a8f5-04fe41cf60c7 is DONE. 0 Bytes processed. <a target=\"_blank\" href=\"https://console.cloud.google.com/bigquery?project=bigframes-dev&j=bq:US:7d45f84a-01f6-413a-a8f5-04fe41cf60c7&page=queryresults\">Open Job</a>"
      ],
      "text/plain": [
       "<IPython.core.display.HTML object>"
      ]
     },
     "metadata": {},
     "output_type": "display_data"
    },
    {
     "data": {
      "text/html": [
       "Query job 79486ecb-ac6d-4e05-b348-809d4baa6da4 is DONE. 0 Bytes processed. <a target=\"_blank\" href=\"https://console.cloud.google.com/bigquery?project=bigframes-dev&j=bq:US:79486ecb-ac6d-4e05-b348-809d4baa6da4&page=queryresults\">Open Job</a>"
      ],
      "text/plain": [
       "<IPython.core.display.HTML object>"
      ]
     },
     "metadata": {},
     "output_type": "display_data"
    }
   ],
   "source": [
    "df = bpd.from_glob_path(\"gs://shuowei_bucket/audio/*\", name=\"audio\")"
   ]
  },
  {
   "cell_type": "code",
   "execution_count": 3,
   "metadata": {},
   "outputs": [
    {
     "data": {
      "text/html": [
       "Query job cc70ecf3-5095-4f3f-8c49-796dfc68af69 is DONE. 354.8 kB processed. <a target=\"_blank\" href=\"https://console.cloud.google.com/bigquery?project=bigframes-dev&j=bq:US:cc70ecf3-5095-4f3f-8c49-796dfc68af69&page=queryresults\">Open Job</a>"
      ],
      "text/plain": [
       "<IPython.core.display.HTML object>"
      ]
     },
     "metadata": {},
     "output_type": "display_data"
    }
   ],
   "source": [
    "# copy files again, now we have 1000 audio files\n",
    "copies = [df] * 2 * 100\n",
    "df = bpd.concat(copies, ignore_index=True)\n",
    "df = df.cache()"
   ]
  },
  {
   "cell_type": "code",
   "execution_count": 4,
   "metadata": {},
   "outputs": [
    {
     "data": {
      "text/html": [
       "Query job d3b7a0c7-0359-4aa9-846d-f99250cbe37b is DONE. 96.0 kB processed. <a target=\"_blank\" href=\"https://console.cloud.google.com/bigquery?project=bigframes-dev&j=bq:US:d3b7a0c7-0359-4aa9-846d-f99250cbe37b&page=queryresults\">Open Job</a>"
      ],
      "text/plain": [
       "<IPython.core.display.HTML object>"
      ]
     },
     "metadata": {},
     "output_type": "display_data"
    }
   ],
   "source": [
    "# copy files again, now we have 1,000,000 audio files\n",
    "copies = [df] * 2 * 100\n",
    "df = bpd.concat(copies, ignore_index=True)\n",
    "df = df.cache()"
   ]
  },
  {
   "cell_type": "code",
   "execution_count": 5,
   "metadata": {},
   "outputs": [
    {
     "data": {
      "text/html": [
       "Query job 5ab7d996-8290-4526-954f-64e31a3f3d81 is DONE. 0 Bytes processed. <a target=\"_blank\" href=\"https://console.cloud.google.com/bigquery?project=bigframes-dev&j=bq:US:5ab7d996-8290-4526-954f-64e31a3f3d81&page=queryresults\">Open Job</a>"
      ],
      "text/plain": [
       "<IPython.core.display.HTML object>"
      ]
     },
     "metadata": {},
     "output_type": "display_data"
    },
    {
     "data": {
      "text/html": [
       "Query job fcfd94e4-9e14-46b0-a187-6cc65885d559 is DONE. 19.2 MB processed. <a target=\"_blank\" href=\"https://console.cloud.google.com/bigquery?project=bigframes-dev&j=bq:US:fcfd94e4-9e14-46b0-a187-6cc65885d559&page=queryresults\">Open Job</a>"
      ],
      "text/plain": [
       "<IPython.core.display.HTML object>"
      ]
     },
     "metadata": {},
     "output_type": "display_data"
    },
    {
     "name": "stderr",
     "output_type": "stream",
     "text": [
      "/usr/local/google/home/shuowei/src/python-bigquery-dataframes/bigframes/core/array_value.py:109: PreviewWarning: JSON column interpretation as a custom PyArrow extention in\n",
      "`db_dtypes` is a preview feature and subject to change.\n",
      "  warnings.warn(msg, bfe.PreviewWarning)\n"
     ]
    },
    {
     "data": {
      "text/html": [
       "Load job 586c243f-92c4-43cd-871e-09add370f1c9 is DONE. <a target=\"_blank\" href=\"https://console.cloud.google.com/bigquery?project=bigframes-dev&j=bq:US:586c243f-92c4-43cd-871e-09add370f1c9&page=queryresults\">Open Job</a>"
      ],
      "text/plain": [
       "<IPython.core.display.HTML object>"
      ]
     },
     "metadata": {},
     "output_type": "display_data"
    }
   ],
   "source": [
    "#bq_connection = \"bigframes-dev.us.bigframes-default-connection\"\n",
    "df[\"text\"] = df[\"audio\"].blob.transcribe(df=df, audio_column=\"audio\", model_name=\"gemini-2.0-flash-001\", verbose=True)\n",
    "# gemini-2.5-pro-preview-05-06"
   ]
  },
  {
   "cell_type": "code",
   "execution_count": 6,
   "metadata": {},
   "outputs": [
    {
     "data": {
      "text/html": [
       "Query job b3ca3d9c-b359-4e8d-8675-7ad6d5609762 is DONE. 164.0 MB processed. <a target=\"_blank\" href=\"https://console.cloud.google.com/bigquery?project=bigframes-dev&j=bq:US:b3ca3d9c-b359-4e8d-8675-7ad6d5609762&page=queryresults\">Open Job</a>"
      ],
      "text/plain": [
       "<IPython.core.display.HTML object>"
      ]
     },
     "metadata": {},
     "output_type": "display_data"
    },
    {
     "data": {
      "text/html": [
       "Query job 0405effe-08f2-4d4d-ad7f-6e8876e23e94 is DONE. 64.5 MB processed. <a target=\"_blank\" href=\"https://console.cloud.google.com/bigquery?project=bigframes-dev&j=bq:US:0405effe-08f2-4d4d-ad7f-6e8876e23e94&page=queryresults\">Open Job</a>"
      ],
      "text/plain": [
       "<IPython.core.display.HTML object>"
      ]
     },
     "metadata": {},
     "output_type": "display_data"
    },
    {
     "data": {
      "text/html": [
       "<div>\n",
       "<style scoped>\n",
       "    .dataframe tbody tr th:only-of-type {\n",
       "        vertical-align: middle;\n",
       "    }\n",
       "\n",
       "    .dataframe tbody tr th {\n",
       "        vertical-align: top;\n",
       "    }\n",
       "\n",
       "    .dataframe thead th {\n",
       "        text-align: right;\n",
       "    }\n",
       "</style>\n",
       "<table border=\"1\" class=\"dataframe\">\n",
       "  <thead>\n",
       "    <tr style=\"text-align: right;\">\n",
       "      <th></th>\n",
       "      <th>audio</th>\n",
       "      <th>text</th>\n",
       "    </tr>\n",
       "  </thead>\n",
       "  <tbody>\n",
       "    <tr>\n",
       "      <th>0</th>\n",
       "      <td>uri: gs://shuowei_bucket/audio/ID014clip.mp3, authorizer: bigframes-dev.us.bigframes-default-connection</td>\n",
       "      <td>{'status': '', 'content': None}</td>\n",
       "    </tr>\n",
       "    <tr>\n",
       "      <th>1</th>\n",
       "      <td>uri: gs://shuowei_bucket/audio/HI009clip.mp3, authorizer: bigframes-dev.us.bigframes-default-connection</td>\n",
       "      <td>{'status': '', 'content': None}</td>\n",
       "    </tr>\n",
       "    <tr>\n",
       "      <th>2</th>\n",
       "      <td>uri: gs://shuowei_bucket/audio/AK012clip.mp3, authorizer: bigframes-dev.us.bigframes-default-connection</td>\n",
       "      <td>{'status': '', 'content': None}</td>\n",
       "    </tr>\n",
       "    <tr>\n",
       "      <th>3</th>\n",
       "      <td>uri: gs://shuowei_bucket/audio/CA138clip.mp3, authorizer: bigframes-dev.us.bigframes-default-connection</td>\n",
       "      <td>{'status': '', 'content': \"was rather interesting just to watch them gathering their materials and bouncing around. Yeah, they are what they call it kangaroo walk or or something. Really? Uh, something like that. They named it that. I don't know. I bet those men are going to get quite a reception when they get back to earth. Oh, yes. I'll be so glad when they land back now, but I think that's uh pretty well uh fact because they've landed so many safely now that I I feel relieved. Just getting off of the moon was the thing that was. Have they met with the um one that was circling? Yes, they've rendezvoused. So I understand. I that wasn't shown either, so I but so they say they have rendezvoused, so that's a matter of making the circles and then coming down. What do you sort of imagine for the future? Do you imagine them sending a I think they will. I think they will do some more exploring up there. Right. Positive, you know, to continue with this. Uh-huh. Because that was such a very small area when you think of it that they just gathered uh rocks and and the oh samples of soil and all and they did uh probe for some samples. And just what is going to come of that, I don't know. I'd be glad to read it.\"}</td>\n",
       "    </tr>\n",
       "    <tr>\n",
       "      <th>4</th>\n",
       "      <td>uri: gs://shuowei_bucket/audio/TX048clip.mp3, authorizer: bigframes-dev.us.bigframes-default-connection</td>\n",
       "      <td>{'status': '', 'content': \"Say this is entered customs. And uh the next step is to prepare a Mexican customs entry. Mexico call them pedimentos. It's really an appraisal sheet. It's it's a breakdown of the sheet. You use the same information. That's right. But here you give them all the information, for example, let me see, I found one right here. You give them all the information on on what the invoice contains. Here's one. On what the invoice contains, what uh what what the material is itself. If you hear, for example, this is some bottling equipment going over there and on the appraisal sheet, so you tell them who it's for, who made the invoice out of the states. This came from St. Louis, Missouri. Yeah. How much the freight was. And on the reverse of this of this thing, but the everything has to be marked. So complete identification. This identification number is that traffic number I spoke to you a little while ago. Number of boxes, what they contain, the tariff duty, the tariff number, the ad valorem rate, and what the actual duties would be paid. For example, here would be 996 pesos and 73 cents. And as you can see, this is a form that has already been approved by the appraiser. These appraisers are called Vistas. It's very different from the Vistas we have nowadays here.\"}</td>\n",
       "    </tr>\n",
       "    <tr>\n",
       "      <th>5</th>\n",
       "      <td>uri: gs://shuowei_bucket/audio/ID014clip.mp3, authorizer: bigframes-dev.us.bigframes-default-connection</td>\n",
       "      <td>{'status': '', 'content': \"I'll tell you something, when the first revelation Joseph Smith received about marriage of any kind was that you couldn't get anywhere, you into the celestial kingdom. No man could get into the celestial kingdom without a wife, because he's only half there if he hasn't got a wife. And no woman, of course, could get there without a husband either, because she's only half there. Well, now at that time, the Mormons were very strict, uh, uh, religious people, you see. Sure. Sure. And, uh, thought that a man had to live clean all his life as well as a woman did in order to be worthy to be a man. Well, this is still true. Well, it's still true certainly. But I said, in that those circumstances, at that time, there were, uh, about three times as many women that joined the church and were faithful Latter-day Saints than there were men. When Joseph Smith comes out with the revelation that, uh, marriage was for eternity. And if if you're going to be separated from death do you part, then you can't get into the celestial kingdom at all to become as God is. Now, they got that doctrine. And that was, the prophet said that, they believed that. What about these here two-thirds of the women? Yeah, that's a good question. What is going to become of us then? It won't do us any good to go out here and marry one of these scallywags that spends his time drinking and boozing around and mining and maybe works in the mine a while and does all kind of skullduggery. That won't do us any good to marry that kind of a man. Besides, we don't have a chance to raise a respectable family with that kind of a man. So, what are we going to do about it now? What's going to become of us? And Joseph Smith always prayed about every problem that came to him. And there's where he got the revelation that if they live thoroughly clean and faithful, if they can understand the purity and sacredness of sex, so they don't desecrate it, then one man can have a number of wives and and permit them to raise a respectable, honorable family as well as have those wives throughout eternity, have their husband to take them into the celestial kingdom. Now, there was the origin of polygamy.\"}</td>\n",
       "    </tr>\n",
       "    <tr>\n",
       "      <th>6</th>\n",
       "      <td>uri: gs://shuowei_bucket/audio/HI009clip.mp3, authorizer: bigframes-dev.us.bigframes-default-connection</td>\n",
       "      <td>{'status': '', 'content': None}</td>\n",
       "    </tr>\n",
       "    <tr>\n",
       "      <th>7</th>\n",
       "      <td>uri: gs://shuowei_bucket/audio/AK012clip.mp3, authorizer: bigframes-dev.us.bigframes-default-connection</td>\n",
       "      <td>{'status': '', 'content': None}</td>\n",
       "    </tr>\n",
       "    <tr>\n",
       "      <th>8</th>\n",
       "      <td>uri: gs://shuowei_bucket/audio/CA138clip.mp3, authorizer: bigframes-dev.us.bigframes-default-connection</td>\n",
       "      <td>{'status': '', 'content': None}</td>\n",
       "    </tr>\n",
       "    <tr>\n",
       "      <th>9</th>\n",
       "      <td>uri: gs://shuowei_bucket/audio/TX048clip.mp3, authorizer: bigframes-dev.us.bigframes-default-connection</td>\n",
       "      <td>{'status': '', 'content': None}</td>\n",
       "    </tr>\n",
       "    <tr>\n",
       "      <th>10</th>\n",
       "      <td>uri: gs://shuowei_bucket/audio/ID014clip.mp3, authorizer: bigframes-dev.us.bigframes-default-connection</td>\n",
       "      <td>{'status': '', 'content': None}</td>\n",
       "    </tr>\n",
       "    <tr>\n",
       "      <th>11</th>\n",
       "      <td>uri: gs://shuowei_bucket/audio/HI009clip.mp3, authorizer: bigframes-dev.us.bigframes-default-connection</td>\n",
       "      <td>{'status': '', 'content': None}</td>\n",
       "    </tr>\n",
       "    <tr>\n",
       "      <th>12</th>\n",
       "      <td>uri: gs://shuowei_bucket/audio/AK012clip.mp3, authorizer: bigframes-dev.us.bigframes-default-connection</td>\n",
       "      <td>{'status': '', 'content': None}</td>\n",
       "    </tr>\n",
       "    <tr>\n",
       "      <th>13</th>\n",
       "      <td>uri: gs://shuowei_bucket/audio/CA138clip.mp3, authorizer: bigframes-dev.us.bigframes-default-connection</td>\n",
       "      <td>{'status': '', 'content': None}</td>\n",
       "    </tr>\n",
       "    <tr>\n",
       "      <th>14</th>\n",
       "      <td>uri: gs://shuowei_bucket/audio/TX048clip.mp3, authorizer: bigframes-dev.us.bigframes-default-connection</td>\n",
       "      <td>{'status': '', 'content': None}</td>\n",
       "    </tr>\n",
       "    <tr>\n",
       "      <th>15</th>\n",
       "      <td>uri: gs://shuowei_bucket/audio/ID014clip.mp3, authorizer: bigframes-dev.us.bigframes-default-connection</td>\n",
       "      <td>{'status': '', 'content': None}</td>\n",
       "    </tr>\n",
       "    <tr>\n",
       "      <th>16</th>\n",
       "      <td>uri: gs://shuowei_bucket/audio/HI009clip.mp3, authorizer: bigframes-dev.us.bigframes-default-connection</td>\n",
       "      <td>{'status': '', 'content': None}</td>\n",
       "    </tr>\n",
       "    <tr>\n",
       "      <th>17</th>\n",
       "      <td>uri: gs://shuowei_bucket/audio/AK012clip.mp3, authorizer: bigframes-dev.us.bigframes-default-connection</td>\n",
       "      <td>{'status': '', 'content': None}</td>\n",
       "    </tr>\n",
       "    <tr>\n",
       "      <th>18</th>\n",
       "      <td>uri: gs://shuowei_bucket/audio/CA138clip.mp3, authorizer: bigframes-dev.us.bigframes-default-connection</td>\n",
       "      <td>{'status': '', 'content': None}</td>\n",
       "    </tr>\n",
       "    <tr>\n",
       "      <th>19</th>\n",
       "      <td>uri: gs://shuowei_bucket/audio/TX048clip.mp3, authorizer: bigframes-dev.us.bigframes-default-connection</td>\n",
       "      <td>{'status': '', 'content': None}</td>\n",
       "    </tr>\n",
       "    <tr>\n",
       "      <th>20</th>\n",
       "      <td>uri: gs://shuowei_bucket/audio/ID014clip.mp3, authorizer: bigframes-dev.us.bigframes-default-connection</td>\n",
       "      <td>{'status': '', 'content': None}</td>\n",
       "    </tr>\n",
       "    <tr>\n",
       "      <th>21</th>\n",
       "      <td>uri: gs://shuowei_bucket/audio/HI009clip.mp3, authorizer: bigframes-dev.us.bigframes-default-connection</td>\n",
       "      <td>{'status': '', 'content': \"Uh, I hear that there's a Hawaiian custom of something called a Hukilau. Hukilau, Hukilau is a they have a rope and on the rope they have a net there. Mhm. They surround at a certain place and they drag the net. They surround it, you mean they carry the net out? Carry the net, uh-huh. Uh, how do they is there something to keep the net floating? Yeah, some they have those floaters uh floating. Mhm. Some they have a lead down at the bottom, then they drag that uh net in. What do the floats what are the floats made of? The float made of those uh some coconut uh dry coconut I guess. Oh, dry coconut. That's a good use for coconut. Uh, and that floats the top of the net. Top of the net. Now, the word lau means leaf, doesn't it? Lau, lau is a yeah, yeah, lau is a leaf. All right, well now the the where does the leaf come in in this Hukilau? Hukilau, the leaves, you know, they stay on at the top top of the rope. So that the when they pull, the fish going to not to jump over the rope. The ropes, the the uh the leaves keep the fish from jumping over to the Jump over. They scare they scare them away so they want to go underneath the water, see. When moment she go underneath the water there, they will go to the net. They have a pocket on the net. They have a pocket on the net. Now the bottom of the net then Bottom of the net they have a pocket in. Mhm. The the bottom must have some kind of things to make it sink. Sink is a lead, they have a lead. Oh, they have lead on it. I see. Then uh uh somebody goes out and puts the net out around. Yeah, they throw it with a boat. With a boat? Two two boats they goes out. Throw it all around. And then uh who pulls it in? Well, they have a lots of uh from the shore about 40, 50 guys they pull that rope up. Ah, I see. Yeah. And uh they must have a pretty big school of fish there. Yeah, once in a while they have a nice school school, right? And then they pull them all in and the fish don't are scared to jump out so they get caught. No, they all in up on the net already. Mhm. They get caught in the net. I suppose the top of the net comes in sooner than the bottom so they if they do try to go out there, that's pocket. Yeah, they have to they going to, you know, about six or seven guys is swimming on it around the net to they're watching how the fish going. Oh, I see. They they're chasing at the hole. Uh-huh. Well, about how much fish do they get out of a good haul of those? Once I saw up Waimea they caught about about a ton I guess, you know, those Akule. Mhm. Oh, they have a nice crew up there. What's Akule? Mm, the Akule some kind of, you know, that's Hawaiian used to call Akule, Akule. They have been calling it Aji in Japan. \"}</td>\n",
       "    </tr>\n",
       "    <tr>\n",
       "      <th>22</th>\n",
       "      <td>uri: gs://shuowei_bucket/audio/AK012clip.mp3, authorizer: bigframes-dev.us.bigframes-default-connection</td>\n",
       "      <td>{'status': '', 'content': None}</td>\n",
       "    </tr>\n",
       "    <tr>\n",
       "      <th>23</th>\n",
       "      <td>uri: gs://shuowei_bucket/audio/CA138clip.mp3, authorizer: bigframes-dev.us.bigframes-default-connection</td>\n",
       "      <td>{'status': '', 'content': None}</td>\n",
       "    </tr>\n",
       "    <tr>\n",
       "      <th>24</th>\n",
       "      <td>uri: gs://shuowei_bucket/audio/TX048clip.mp3, authorizer: bigframes-dev.us.bigframes-default-connection</td>\n",
       "      <td>{'status': '', 'content': None}</td>\n",
       "    </tr>\n",
       "  </tbody>\n",
       "</table>\n",
       "<p>25 rows × 2 columns</p>\n",
       "</div>[200000 rows x 2 columns in total]"
      ],
      "text/plain": [
       "                                                audio  \\\n",
       "0   {'uri': 'gs://shuowei_bucket/audio/ID014clip.m...   \n",
       "1   {'uri': 'gs://shuowei_bucket/audio/HI009clip.m...   \n",
       "2   {'uri': 'gs://shuowei_bucket/audio/AK012clip.m...   \n",
       "3   {'uri': 'gs://shuowei_bucket/audio/CA138clip.m...   \n",
       "4   {'uri': 'gs://shuowei_bucket/audio/TX048clip.m...   \n",
       "5   {'uri': 'gs://shuowei_bucket/audio/ID014clip.m...   \n",
       "6   {'uri': 'gs://shuowei_bucket/audio/HI009clip.m...   \n",
       "7   {'uri': 'gs://shuowei_bucket/audio/AK012clip.m...   \n",
       "8   {'uri': 'gs://shuowei_bucket/audio/CA138clip.m...   \n",
       "9   {'uri': 'gs://shuowei_bucket/audio/TX048clip.m...   \n",
       "10  {'uri': 'gs://shuowei_bucket/audio/ID014clip.m...   \n",
       "11  {'uri': 'gs://shuowei_bucket/audio/HI009clip.m...   \n",
       "12  {'uri': 'gs://shuowei_bucket/audio/AK012clip.m...   \n",
       "13  {'uri': 'gs://shuowei_bucket/audio/CA138clip.m...   \n",
       "14  {'uri': 'gs://shuowei_bucket/audio/TX048clip.m...   \n",
       "15  {'uri': 'gs://shuowei_bucket/audio/ID014clip.m...   \n",
       "16  {'uri': 'gs://shuowei_bucket/audio/HI009clip.m...   \n",
       "17  {'uri': 'gs://shuowei_bucket/audio/AK012clip.m...   \n",
       "18  {'uri': 'gs://shuowei_bucket/audio/CA138clip.m...   \n",
       "19  {'uri': 'gs://shuowei_bucket/audio/TX048clip.m...   \n",
       "20  {'uri': 'gs://shuowei_bucket/audio/ID014clip.m...   \n",
       "21  {'uri': 'gs://shuowei_bucket/audio/HI009clip.m...   \n",
       "22  {'uri': 'gs://shuowei_bucket/audio/AK012clip.m...   \n",
       "23  {'uri': 'gs://shuowei_bucket/audio/CA138clip.m...   \n",
       "24  {'uri': 'gs://shuowei_bucket/audio/TX048clip.m...   \n",
       "\n",
       "                                                 text  \n",
       "0                     {'status': '', 'content': None}  \n",
       "1                     {'status': '', 'content': None}  \n",
       "2                     {'status': '', 'content': None}  \n",
       "3   {'status': '', 'content': \"was rather interest...  \n",
       "4   {'status': '', 'content': \"Say this is entered...  \n",
       "5   {'status': '', 'content': \"I'll tell you somet...  \n",
       "6                     {'status': '', 'content': None}  \n",
       "7                     {'status': '', 'content': None}  \n",
       "8                     {'status': '', 'content': None}  \n",
       "9                     {'status': '', 'content': None}  \n",
       "10                    {'status': '', 'content': None}  \n",
       "11                    {'status': '', 'content': None}  \n",
       "12                    {'status': '', 'content': None}  \n",
       "13                    {'status': '', 'content': None}  \n",
       "14                    {'status': '', 'content': None}  \n",
       "15                    {'status': '', 'content': None}  \n",
       "16                    {'status': '', 'content': None}  \n",
       "17                    {'status': '', 'content': None}  \n",
       "18                    {'status': '', 'content': None}  \n",
       "19                    {'status': '', 'content': None}  \n",
       "20                    {'status': '', 'content': None}  \n",
       "21  {'status': '', 'content': \"Uh, I hear that the...  \n",
       "22                    {'status': '', 'content': None}  \n",
       "23                    {'status': '', 'content': None}  \n",
       "24                    {'status': '', 'content': None}  \n",
       "...\n",
       "\n",
       "[200000 rows x 2 columns]"
      ]
     },
     "execution_count": 6,
     "metadata": {},
     "output_type": "execute_result"
    }
   ],
   "source": [
    "df"
   ]
  }
 ],
 "metadata": {
  "kernelspec": {
   "display_name": "venv",
   "language": "python",
   "name": "python3"
  },
  "language_info": {
   "codemirror_mode": {
    "name": "ipython",
    "version": 3
   },
   "file_extension": ".py",
   "mimetype": "text/x-python",
   "name": "python",
   "nbconvert_exporter": "python",
   "pygments_lexer": "ipython3",
   "version": "3.10.15"
  }
 },
 "nbformat": 4,
 "nbformat_minor": 2
}
