{
 "cells": [
  {
   "cell_type": "code",
   "execution_count": 1,
   "metadata": {},
   "outputs": [],
   "source": [
    "# Copyright 2024 Google LLC\n",
    "#\n",
    "# Licensed under the Apache License, Version 2.0 (the \"License\");\n",
    "# you may not use this file except in compliance with the License.\n",
    "# You may obtain a copy of the License at\n",
    "#\n",
    "#     https://www.apache.org/licenses/LICENSE-2.0\n",
    "#\n",
    "# Unless required by applicable law or agreed to in writing, software\n",
    "# distributed under the License is distributed on an \"AS IS\" BASIS,\n",
    "# WITHOUT WARRANTIES OR CONDITIONS OF ANY KIND, either express or implied.\n",
    "# See the License for the specific language governing permissions and\n",
    "# limitations under the License."
   ]
  },
  {
   "cell_type": "markdown",
   "metadata": {},
   "source": [
    "# Integrating with BigQuery DataFrames\n",
    "\n",
    "This notebook demonstrates operations for building applications that integrate with BigQuery DataFrames. Follow these samples to build an integration that accepts a BigQuery DataFrames object or returns one."
   ]
  },
  {
   "cell_type": "code",
   "execution_count": 1,
   "metadata": {},
   "outputs": [
    {
     "name": "stderr",
     "output_type": "stream",
     "text": [
      "/usr/local/google/home/swast/src/bigframes/bigframes/session/__init__.py:1907: UserWarning: No explicit location is set, so using location US for the session.\n",
      "  return Session(context)\n"
     ]
    }
   ],
   "source": [
    "import bigframes.pandas as bpd\n",
    "\n",
    "# Sample data\n",
    "df = bpd.DataFrame({\n",
    "    \"index\": [0, 1, 2, 3, 4],\n",
    "    \"int_col\": [1, 2, 3, 4, 5],\n",
    "    \"float_col\": [1.0, -0.5, 0.25, -0.125, 0.0625],\n",
    "    \"string_col\": [\"a\", \"b\", \"c\", \"d\", \"e\"],\n",
    "}).set_index(\"index\")"
   ]
  },
  {
   "cell_type": "markdown",
   "metadata": {},
   "source": [
    "## Accepting a BigQuery DataFrames (bigframes) DataFrame\n",
    "\n",
    "The recommended serialization format for a BigQuery DataFrames (bigframes) DataFrame is a BigQuery table. To write a DataFrame to a BigQuery table, use the `DataFrame.to_gbq()` method. With no `destination_table`, BigQuery DataFrames creates a table in the anonymous dataset corresponding to the BigQuery user & location and returns the corresponding table ID."
   ]
  },
  {
   "cell_type": "code",
   "execution_count": 2,
   "metadata": {},
   "outputs": [
    {
     "data": {
      "text/html": [
       "Query job c1674439-700c-4779-a2c5-28853f6fb21a is DONE. 0 Bytes processed. <a target=\"_blank\" href=\"https://console.cloud.google.com/bigquery?project=swast-scratch&j=bq:US:c1674439-700c-4779-a2c5-28853f6fb21a&page=queryresults\">Open Job</a>"
      ],
      "text/plain": [
       "<IPython.core.display.HTML object>"
      ]
     },
     "metadata": {},
     "output_type": "display_data"
    },
    {
     "data": {
      "text/plain": [
       "'swast-scratch._63cfa399614a54153cc386c27d6c0c6fdb249f9e.bqdf20240326_cb7b747040754495aebe22ee4a582a04'"
      ]
     },
     "execution_count": 2,
     "metadata": {},
     "output_type": "execute_result"
    }
   ],
   "source": [
    "table_id = df.to_gbq()\n",
    "table_id"
   ]
  },
  {
   "cell_type": "markdown",
   "metadata": {},
   "source": [
    "### Sharing the table with your application's backend\n",
    "\n",
    "Tables created in the user's anonymous dataset are only queryable by the user who created them. Many applications authenticate with a [service account](https://cloud.google.com/iam/docs/service-account-overview), which may be different from the end-user running BigQuery DataFrames (bigframes).\n",
    "\n",
    "Grant your application access to this table by granting your application's service account associated with the customer the `roles/bigquery.dataViewer` role on the [BigQuery table with an IAM policy](https://cloud.google.com/bigquery/docs/control-access-to-resources-iam#grant_access_to_a_table_or_view)."
   ]
  },
  {
   "cell_type": "code",
   "execution_count": 3,
   "metadata": {},
   "outputs": [
    {
     "data": {
      "text/html": [
       "Query job 9b830d4b-d8aa-47ea-9257-5a601af591c2 is DONE. 0 Bytes processed. <a target=\"_blank\" href=\"https://console.cloud.google.com/bigquery?project=swast-scratch&j=bq:US:9b830d4b-d8aa-47ea-9257-5a601af591c2&page=queryresults\">Open Job</a>"
      ],
      "text/plain": [
       "<IPython.core.display.HTML object>"
      ]
     },
     "metadata": {},
     "output_type": "display_data"
    },
    {
     "name": "stdout",
     "output_type": "stream",
     "text": [
      "   index  int_col  float_col string_col\n",
      "0      4        5     0.0625          e\n",
      "1      0        1     1.0000          a\n",
      "2      2        3     0.2500          c\n",
      "3      3        4    -0.1250          d\n",
      "4      1        2    -0.5000          b\n"
     ]
    }
   ],
   "source": [
    "# This sample assumes the client code knows which service account to share with.\n",
    "your_service_account_email = \"your-service-account@bigframes-samples.iam.gserviceaccount.com\"\n",
    "\n",
    "\n",
    "def df_to_gbq_plus_workoad(df):\n",
    "    table_id = df.to_gbq()\n",
    "\n",
    "    bqclient = df.bqclient\n",
    "    policy = bqclient.get_iam_policy(table_id)\n",
    "    binding = {\n",
    "        \"role\": \"roles/bigquery.dataViewer\",\n",
    "        \"members\": {f\"serviceAccount:{your_service_account_email}\"},\n",
    "    }\n",
    "    policy.bindings.append(binding)\n",
    "    bqclient.set_iam_policy(table_id, policy)\n",
    "\n",
    "    # TODO(developer): Pass table_id to your application and start your workload.\n",
    "    example_workload(table_id)\n",
    "\n",
    "\n",
    "def example_workload(table_id):\n",
    "    # For example, for one node workloads, use the client library to read the table\n",
    "    # as a pandas DataFrame.\n",
    "    from google.cloud import bigquery\n",
    "\n",
    "    # This sample assumes this client is authenticated as the user\n",
    "    # your_service_account_email.\n",
    "    client = bigquery.Client()\n",
    "    pandas_df = client.list_rows(table_id).to_dataframe()\n",
    "    print(pandas_df)\n",
    "\n",
    "\n",
    "df_to_gbq_plus_workoad(df)\n"
   ]
  },
  {
   "cell_type": "code",
   "execution_count": 4,
   "metadata": {},
   "outputs": [
    {
     "data": {
      "text/html": [
       "Query job 88483510-5702-4414-8a95-1eff15a6072f is DONE. 0 Bytes processed. <a target=\"_blank\" href=\"https://console.cloud.google.com/bigquery?project=swast-scratch&j=bq:US:88483510-5702-4414-8a95-1eff15a6072f&page=queryresults\">Open Job</a>"
      ],
      "text/plain": [
       "<IPython.core.display.HTML object>"
      ]
     },
     "metadata": {},
     "output_type": "display_data"
    },
    {
     "name": "stdout",
     "output_type": "stream",
     "text": [
      "   index  int_col  float_col string_col\n",
      "0      0        1     1.0000          a\n",
      "1      1        2    -0.5000          b\n",
      "2      2        3     0.2500          c\n",
      "3      3        4    -0.1250          d\n",
      "4      4        5     0.0625          e\n"
     ]
    }
   ],
   "source": [
    "# This sample assumes the client code doesn't know which service account to share with.\n",
    "\n",
    "\n",
    "def df_to_gbq_plus_workoad(df):\n",
    "    table_id = df.to_gbq()\n",
    "\n",
    "    bqclient = df.bqclient\n",
    "    token = bqclient._credentials.token\n",
    "    project_id = bqclient.project\n",
    "\n",
    "    share_table_and_start_workload(table_id, token, project_id)\n",
    "\n",
    "\n",
    "def share_table_and_start_workload(table_id, token, project_id):\n",
    "    # This code runs in the backend for your application.\n",
    "    from google.cloud import bigquery\n",
    "    import google.oauth2.credentials\n",
    "\n",
    "    # Note: these credentials don't have any way to be refreshed,\n",
    "    # so only use them long enough to share the table with the\n",
    "    # service account.\n",
    "    credentials = google.oauth2.credentials.Credentials(token)\n",
    "    bqclient = bigquery.Client(\n",
    "        project=project_id,\n",
    "        credentials=credentials,\n",
    "    )\n",
    "\n",
    "    # This is assumed to only be available on the backend.\n",
    "    your_service_account_email = \"your-service-account@bigframes-samples.iam.gserviceaccount.com\"\n",
    "    policy = bqclient.get_iam_policy(table_id)\n",
    "    binding = {\n",
    "        \"role\": \"roles/bigquery.dataViewer\",\n",
    "        \"members\": {f\"serviceAccount:{your_service_account_email}\"},\n",
    "    }\n",
    "    policy.bindings.append(binding)\n",
    "    bqclient.set_iam_policy(table_id, policy)\n",
    "\n",
    "    # Now that the table has been shared, bqclient with the temporary token\n",
    "    # is no longer needed.\n",
    "    example_workload(table_id)\n",
    "\n",
    "\n",
    "def example_workload(table_id):\n",
    "    # For example, for one node workloads, use the client library to read the table\n",
    "    # as a pandas DataFrame.\n",
    "    from google.cloud import bigquery\n",
    "\n",
    "    # This sample assumes this client is authenticated as the user\n",
    "    # your_service_account_email.\n",
    "    client = bigquery.Client()\n",
    "    pandas_df = client.list_rows(table_id).to_dataframe()\n",
    "    print(pandas_df)\n",
    "\n",
    "\n",
    "df_to_gbq_plus_workoad(df)\n"
   ]
  },
  {
   "cell_type": "markdown",
   "metadata": {},
   "source": [
    "### Preserving order\n",
    "\n",
    "Depending on your use case, you may want to include the ordering so that it can be restored withing your application."
   ]
  },
  {
   "cell_type": "code",
   "execution_count": 11,
   "metadata": {},
   "outputs": [
    {
     "data": {
      "text/html": [
       "Query job f0ef7cdb-5459-4331-90dc-f996d1a98c8c is DONE. 0 Bytes processed. <a target=\"_blank\" href=\"https://console.cloud.google.com/bigquery?project=swast-scratch&j=bq:US:f0ef7cdb-5459-4331-90dc-f996d1a98c8c&page=queryresults\">Open Job</a>"
      ],
      "text/plain": [
       "<IPython.core.display.HTML object>"
      ]
     },
     "metadata": {},
     "output_type": "display_data"
    },
    {
     "data": {
      "text/plain": [
       "'swast-scratch._63cfa399614a54153cc386c27d6c0c6fdb249f9e.bqdf20240326_581100a67c924da696d72497ca934905'"
      ]
     },
     "execution_count": 11,
     "metadata": {},
     "output_type": "execute_result"
    }
   ],
   "source": [
    "ordering_column = \"ordering_id_maybe_with_some_random_text_to_avoid_collisions\"\n",
    "table_id = df.to_gbq(ordering_id=ordering_column)\n",
    "table_id"
   ]
  },
  {
   "cell_type": "markdown",
   "metadata": {},
   "source": [
    "### Creating clustered tables\n",
    "\n",
    "Large tables can be optimized by passing in `clustering_columns` to create a [clustered table](https://cloud.google.com/bigquery/docs/clustered-tables)."
   ]
  },
  {
   "cell_type": "code",
   "execution_count": 12,
   "metadata": {},
   "outputs": [
    {
     "data": {
      "text/html": [
       "Query job 663eeed4-b330-4fb2-a013-12a045298717 is DONE. 0 Bytes processed. <a target=\"_blank\" href=\"https://console.cloud.google.com/bigquery?project=swast-scratch&j=bq:US:663eeed4-b330-4fb2-a013-12a045298717&page=queryresults\">Open Job</a>"
      ],
      "text/plain": [
       "<IPython.core.display.HTML object>"
      ]
     },
     "metadata": {},
     "output_type": "display_data"
    },
    {
     "data": {
      "text/plain": [
       "'swast-scratch._63cfa399614a54153cc386c27d6c0c6fdb249f9e.bqdf20240326_4e9c510e5f784970a50ac03c6b25e0f1'"
      ]
     },
     "execution_count": 12,
     "metadata": {},
     "output_type": "execute_result"
    }
   ],
   "source": [
    "table_id = df.to_gbq(clustering_columns=(\"index\", \"int_col\"))\n",
    "table_id"
   ]
  },
  {
   "cell_type": "markdown",
   "metadata": {},
   "source": [
    "## Returning a BigQuery DataFrames (bigframes) DataFrame\n",
    "\n",
    "The recommended way to construct a DataFrame is from a BigQuery table which has a unique primary key. By default a primary key is used as the index, which allows for more efficient queries than the default index generation.\n",
    "\n",
    "This sample assumes there is a shared dataset that\n",
    "\n",
    "1. The application can write to and\n",
    "2. the bigframes user can read from.\n",
    "\n",
    "There are many ways an application can [write to a BigQuery table](https://cloud.google.com/bigquery/docs/loading-data), including BigQuery load jobs, DML, streaming REST API, and the BigQuery Write API. Each has different costs, performance, and limitations. Choose the one that best suits your application's needs."
   ]
  },
  {
   "cell_type": "code",
   "execution_count": null,
   "metadata": {},
   "outputs": [],
   "source": [
    "# The assumption is that there is a shared dataset to work with.\n",
    "from google.cloud import bigquery\n",
    "\n",
    "bqclient = bigquery.Client()\n",
    "bqclient.create_dataset(\"my_dataset\", exists_ok=True)"
   ]
  },
  {
   "cell_type": "code",
   "execution_count": 5,
   "metadata": {},
   "outputs": [],
   "source": [
    "# For simplicity, this sample assumes your application uses\n",
    "# a load job with the CSV file format.\n",
    "# See: https://cloud.google.com/bigquery/docs/loading-data-cloud-storage-csv#python\n",
    "\n",
    "def create_table_for_bigframes():\n",
    "    # This code is assumed to run on the application's backend.\n",
    "    from google.cloud import bigquery\n",
    "\n",
    "    client = bigquery.Client()\n",
    "    job_config = bigquery.LoadJobConfig(\n",
    "        schema=[\n",
    "            bigquery.SchemaField(\"name\", \"STRING\"),\n",
    "            bigquery.SchemaField(\"post_abbr\", \"STRING\"),\n",
    "        ],\n",
    "        skip_leading_rows=1,\n",
    "        source_format=bigquery.SourceFormat.CSV,\n",
    "    )\n",
    "    uri = \"gs://cloud-samples-data/bigquery/us-states/us-states.csv\"\n",
    "\n",
    "    load_job = client.load_table_from_uri(\n",
    "        uri, table_id, job_config=job_config\n",
    "    )  # Make an API request.\n",
    "\n",
    "    load_job.result()  # Waits for the job to complete.\n",
    "\n",
    "    destination_table = client.get_table(table_id)  # Make an API request.\n",
    "    print(\"Loaded {} rows.\".format(destination_table.num_rows))\n",
    "    "
   ]
  },
  {
   "cell_type": "code",
   "execution_count": null,
   "metadata": {},
   "outputs": [],
   "source": []
  }
 ],
 "metadata": {
  "kernelspec": {
   "display_name": "bigframes",
   "language": "python",
   "name": "python3"
  },
  "language_info": {
   "codemirror_mode": {
    "name": "ipython",
    "version": 3
   },
   "file_extension": ".py",
   "mimetype": "text/x-python",
   "name": "python",
   "nbconvert_exporter": "python",
   "pygments_lexer": "ipython3",
   "version": "3.11.1"
  }
 },
 "nbformat": 4,
 "nbformat_minor": 2
}
