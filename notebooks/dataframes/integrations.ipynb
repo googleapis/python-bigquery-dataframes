{
 "cells": [
  {
   "cell_type": "code",
   "execution_count": 1,
   "metadata": {},
   "outputs": [],
   "source": [
    "# Copyright 2024 Google LLC\n",
    "#\n",
    "# Licensed under the Apache License, Version 2.0 (the \"License\");\n",
    "# you may not use this file except in compliance with the License.\n",
    "# You may obtain a copy of the License at\n",
    "#\n",
    "#     https://www.apache.org/licenses/LICENSE-2.0\n",
    "#\n",
    "# Unless required by applicable law or agreed to in writing, software\n",
    "# distributed under the License is distributed on an \"AS IS\" BASIS,\n",
    "# WITHOUT WARRANTIES OR CONDITIONS OF ANY KIND, either express or implied.\n",
    "# See the License for the specific language governing permissions and\n",
    "# limitations under the License."
   ]
  },
  {
   "cell_type": "markdown",
   "metadata": {},
   "source": [
    "# Integrating with BigQuery DataFrames\n",
    "\n",
    "This notebook demonstrates operations for building applications that integrate with BigQuery DataFrames. Follow these samples to build an integration that accepts a BigQuery DataFrames object or returns one."
   ]
  },
  {
   "cell_type": "code",
   "execution_count": 4,
   "metadata": {},
   "outputs": [
    {
     "name": "stderr",
     "output_type": "stream",
     "text": [
      "/usr/local/google/home/swast/src/bigframes/bigframes/session/__init__.py:1907: UserWarning: No explicit location is set, so using location US for the session.\n",
      "  return Session(context)\n"
     ]
    }
   ],
   "source": [
    "import bigframes.pandas as bpd\n",
    "\n",
    "# Sample data\n",
    "df = bpd.DataFrame({\n",
    "    \"index\": [0, 1, 2, 3, 4],\n",
    "    \"int_col\": [1, 2, 3, 4, 5],\n",
    "    \"float_col\": [1.0, -0.5, 0.25, -0.125, 0.0625],\n",
    "    \"string_col\": [\"a\", \"b\", \"c\", \"d\", \"e\"],\n",
    "}).set_index(\"index\")"
   ]
  },
  {
   "cell_type": "markdown",
   "metadata": {},
   "source": [
    "## Accepting a BigQuery DataFrames (bigframes) DataFrame\n",
    "\n",
    "The recommended serialization format for a BigQuery DataFrames (bigframes) DataFrame is a BigQuery table. To write a DataFrame to a BigQuery table, use the `DataFrame.to_gbq()` method. With no `destination_table`, BigQuery DataFrames creates a table in the anonymous dataset corresponding to the BigQuery user & location and returns the corresponding table ID."
   ]
  },
  {
   "cell_type": "code",
   "execution_count": 5,
   "metadata": {},
   "outputs": [
    {
     "data": {
      "text/html": [
       "Query job 56adc877-3d68-49bb-acd1-f2275f0a03a1 is DONE. 0 Bytes processed. <a target=\"_blank\" href=\"https://console.cloud.google.com/bigquery?project=swast-scratch&j=bq:US:56adc877-3d68-49bb-acd1-f2275f0a03a1&page=queryresults\">Open Job</a>"
      ],
      "text/plain": [
       "<IPython.core.display.HTML object>"
      ]
     },
     "metadata": {},
     "output_type": "display_data"
    },
    {
     "data": {
      "text/plain": [
       "'swast-scratch._63cfa399614a54153cc386c27d6c0c6fdb249f9e.bqdf20240326_6742d434ead64fd4bfebed692dbc8c12'"
      ]
     },
     "execution_count": 5,
     "metadata": {},
     "output_type": "execute_result"
    }
   ],
   "source": [
    "table_id = df.to_gbq()\n",
    "table_id"
   ]
  },
  {
   "cell_type": "markdown",
   "metadata": {},
   "source": [
    "### Sharing the table with your application's backend\n",
    "\n",
    "Tables created in the user's anonymous dataset are only queryable by the user who created them. Many applications authenticate with a [service account](https://cloud.google.com/iam/docs/service-account-overview), which may be different from the end-user running BigQuery DataFrames (bigframes).\n",
    "\n",
    "Grant your application access to this table by granting your application's service account associated with the customer the `roles/bigquery.dataViewer` role on the [BigQuery table with an IAM policy](https://cloud.google.com/bigquery/docs/control-access-to-resources-iam#grant_access_to_a_table_or_view)."
   ]
  },
  {
   "cell_type": "code",
   "execution_count": 10,
   "metadata": {},
   "outputs": [
    {
     "data": {
      "text/html": [
       "Query job fc743c76-8145-425f-af13-4ff50931b8b5 is DONE. 0 Bytes processed. <a target=\"_blank\" href=\"https://console.cloud.google.com/bigquery?project=swast-scratch&j=bq:US:fc743c76-8145-425f-af13-4ff50931b8b5&page=queryresults\">Open Job</a>"
      ],
      "text/plain": [
       "<IPython.core.display.HTML object>"
      ]
     },
     "metadata": {},
     "output_type": "display_data"
    },
    {
     "name": "stdout",
     "output_type": "stream",
     "text": [
      "   index  int_col  float_col string_col\n",
      "0      0        1     1.0000          a\n",
      "1      2        3     0.2500          c\n",
      "2      3        4    -0.1250          d\n",
      "3      4        5     0.0625          e\n",
      "4      1        2    -0.5000          b\n"
     ]
    }
   ],
   "source": [
    "your_service_account_email = \"your-service-account@bigframes-samples.iam.gserviceaccount.com\"\n",
    "\n",
    "\n",
    "def df_to_gbq_plus_permissions(df):\n",
    "    table_id = df.to_gbq()\n",
    "\n",
    "    # TODO(tswast): Expose a public property to get the session from a DataFrame.\n",
    "    bqclient = df._session.bqclient\n",
    "\n",
    "    policy = bqclient.get_iam_policy(table_id)\n",
    "    binding = {\n",
    "        \"role\": \"roles/bigquery.dataViewer\",\n",
    "        \"members\": {f\"serviceAccount:{your_service_account_email}\"},\n",
    "    }\n",
    "    policy.bindings.append(binding)\n",
    "    bqclient.set_iam_policy(table_id, policy)\n",
    "\n",
    "    # TODO(developer): Pass table_id to your application and start your workload.\n",
    "    example_workload(table_id)\n",
    "\n",
    "\n",
    "def example_workload(table_id):\n",
    "    # For example, for one node workloads, use the client library to read the table\n",
    "    # as a pandas DataFrame.\n",
    "    from google.cloud import bigquery\n",
    "\n",
    "    client = bigquery.Client()\n",
    "    pandas_df = client.list_rows(table_id).to_dataframe()\n",
    "    print(pandas_df)\n",
    "\n",
    "\n",
    "df_to_gbq_plus_permissions(df)\n"
   ]
  },
  {
   "cell_type": "markdown",
   "metadata": {},
   "source": [
    "### Preserving order\n",
    "\n",
    "Depending on your use case, you may want to include the ordering so that it can be restored withing your application."
   ]
  },
  {
   "cell_type": "code",
   "execution_count": 11,
   "metadata": {},
   "outputs": [
    {
     "data": {
      "text/html": [
       "Query job f0ef7cdb-5459-4331-90dc-f996d1a98c8c is DONE. 0 Bytes processed. <a target=\"_blank\" href=\"https://console.cloud.google.com/bigquery?project=swast-scratch&j=bq:US:f0ef7cdb-5459-4331-90dc-f996d1a98c8c&page=queryresults\">Open Job</a>"
      ],
      "text/plain": [
       "<IPython.core.display.HTML object>"
      ]
     },
     "metadata": {},
     "output_type": "display_data"
    },
    {
     "data": {
      "text/plain": [
       "'swast-scratch._63cfa399614a54153cc386c27d6c0c6fdb249f9e.bqdf20240326_581100a67c924da696d72497ca934905'"
      ]
     },
     "execution_count": 11,
     "metadata": {},
     "output_type": "execute_result"
    }
   ],
   "source": [
    "ordering_column = \"ordering_id_maybe_with_some_random_text_to_avoid_collisions\"\n",
    "table_id = df.to_gbq(ordering_id=ordering_column)\n",
    "table_id"
   ]
  },
  {
   "cell_type": "markdown",
   "metadata": {},
   "source": [
    "### Creating clustered tables\n",
    "\n",
    "Large tables can be optimized by passing in `clustering_columns` to create a [clustered table](https://cloud.google.com/bigquery/docs/clustered-tables)."
   ]
  },
  {
   "cell_type": "code",
   "execution_count": 12,
   "metadata": {},
   "outputs": [
    {
     "data": {
      "text/html": [
       "Query job 663eeed4-b330-4fb2-a013-12a045298717 is DONE. 0 Bytes processed. <a target=\"_blank\" href=\"https://console.cloud.google.com/bigquery?project=swast-scratch&j=bq:US:663eeed4-b330-4fb2-a013-12a045298717&page=queryresults\">Open Job</a>"
      ],
      "text/plain": [
       "<IPython.core.display.HTML object>"
      ]
     },
     "metadata": {},
     "output_type": "display_data"
    },
    {
     "data": {
      "text/plain": [
       "'swast-scratch._63cfa399614a54153cc386c27d6c0c6fdb249f9e.bqdf20240326_4e9c510e5f784970a50ac03c6b25e0f1'"
      ]
     },
     "execution_count": 12,
     "metadata": {},
     "output_type": "execute_result"
    }
   ],
   "source": [
    "table_id = df.to_gbq(clustering_columns=(\"index\", \"int_col\"))\n",
    "table_id"
   ]
  },
  {
   "cell_type": "markdown",
   "metadata": {},
   "source": [
    "## Returning a BigQuery DataFrames (bigframes) DataFrame"
   ]
  },
  {
   "cell_type": "code",
   "execution_count": 13,
   "metadata": {},
   "outputs": [],
   "source": []
  },
  {
   "cell_type": "code",
   "execution_count": null,
   "metadata": {},
   "outputs": [],
   "source": []
  }
 ],
 "metadata": {
  "kernelspec": {
   "display_name": "bigframes",
   "language": "python",
   "name": "python3"
  },
  "language_info": {
   "codemirror_mode": {
    "name": "ipython",
    "version": 3
   },
   "file_extension": ".py",
   "mimetype": "text/x-python",
   "name": "python",
   "nbconvert_exporter": "python",
   "pygments_lexer": "ipython3",
   "version": "3.11.1"
  }
 },
 "nbformat": 4,
 "nbformat_minor": 2
}
