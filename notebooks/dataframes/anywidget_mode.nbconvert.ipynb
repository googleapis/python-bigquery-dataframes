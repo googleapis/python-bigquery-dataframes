{
 "cells": [
  {
   "cell_type": "code",
   "execution_count": 1,
   "id": "d10bfca4",
   "metadata": {
    "execution": {
     "iopub.execute_input": "2025-08-19T18:07:47.689257Z",
     "iopub.status.busy": "2025-08-19T18:07:47.688863Z",
     "iopub.status.idle": "2025-08-19T18:07:47.694257Z",
     "shell.execute_reply": "2025-08-19T18:07:47.693398Z"
    }
   },
   "outputs": [],
   "source": [
    "# Copyright 2025 Google LLC\n",
    "#\n",
    "# Licensed under the Apache License, Version 2.0 (the \"License\");\n",
    "# you may not use this file except in compliance with the License.\n",
    "# You may obtain a copy of the License at\n",
    "#\n",
    "#     https://www.apache.org/licenses/LICENSE-2.0\n",
    "#\n",
    "# Unless required by applicable law or agreed to in writing, software\n",
    "# distributed under the License is distributed on an \"AS IS\" BASIS,\n",
    "# WITHOUT WARRANTIES OR CONDITIONS OF ANY KIND, either express or implied.\n",
    "# See the License for the specific language governing permissions and\n",
    "# limitations under the License."
   ]
  },
  {
   "cell_type": "markdown",
   "id": "acca43ae",
   "metadata": {},
   "source": [
    "# Demo to Show Anywidget mode"
   ]
  },
  {
   "cell_type": "code",
   "execution_count": 2,
   "id": "ca22f059",
   "metadata": {
    "execution": {
     "iopub.execute_input": "2025-08-19T18:07:47.697344Z",
     "iopub.status.busy": "2025-08-19T18:07:47.697049Z",
     "iopub.status.idle": "2025-08-19T18:07:49.528371Z",
     "shell.execute_reply": "2025-08-19T18:07:49.527605Z"
    }
   },
   "outputs": [],
   "source": [
    "import bigframes.pandas as bpd"
   ]
  },
  {
   "cell_type": "markdown",
   "id": "04406a4d",
   "metadata": {},
   "source": [
    "Set the display option to use anywidget"
   ]
  },
  {
   "cell_type": "code",
   "execution_count": 3,
   "id": "1bc5aaf3",
   "metadata": {
    "execution": {
     "iopub.execute_input": "2025-08-19T18:07:49.531182Z",
     "iopub.status.busy": "2025-08-19T18:07:49.530928Z",
     "iopub.status.idle": "2025-08-19T18:07:49.535337Z",
     "shell.execute_reply": "2025-08-19T18:07:49.534613Z"
    }
   },
   "outputs": [],
   "source": [
    "bpd.options.bigquery.ordering_mode = \"partial\"\n",
    "bpd.options.display.repr_mode = \"anywidget\""
   ]
  },
  {
   "cell_type": "markdown",
   "id": "0a354c69",
   "metadata": {},
   "source": [
    "Load Sample Data"
   ]
  },
  {
   "cell_type": "code",
   "execution_count": 4,
   "id": "f289d250",
   "metadata": {
    "execution": {
     "iopub.execute_input": "2025-08-19T18:07:49.538687Z",
     "iopub.status.busy": "2025-08-19T18:07:49.538398Z",
     "iopub.status.idle": "2025-08-19T18:07:53.574536Z",
     "shell.execute_reply": "2025-08-19T18:07:53.573718Z"
    }
   },
   "outputs": [
    {
     "name": "stdout",
     "output_type": "stream",
     "text": [
      "Computation deferred. Computation will process 171.4 MB\n"
     ]
    }
   ],
   "source": [
    "df = bpd.read_gbq(\"bigquery-public-data.usa_names.usa_1910_2013\")\n",
    "print(df)"
   ]
  },
  {
   "cell_type": "markdown",
   "id": "3a73e472",
   "metadata": {},
   "source": [
    "Display Series in anywidget mode"
   ]
  },
  {
   "cell_type": "code",
   "execution_count": 5,
   "id": "42bb02ab",
   "metadata": {
    "execution": {
     "iopub.execute_input": "2025-08-19T18:07:53.577575Z",
     "iopub.status.busy": "2025-08-19T18:07:53.577219Z",
     "iopub.status.idle": "2025-08-19T18:07:53.997894Z",
     "shell.execute_reply": "2025-08-19T18:07:53.996854Z"
    }
   },
   "outputs": [
    {
     "name": "stdout",
     "output_type": "stream",
     "text": [
      "Computation deferred. Computation will process 44.4 MB\n"
     ]
    }
   ],
   "source": [
    "test_series = df[\"year\"]\n",
    "print(test_series)"
   ]
  },
  {
   "cell_type": "markdown",
   "id": "7bcf1bb7",
   "metadata": {},
   "source": [
    "Display with Pagination"
   ]
  },
  {
   "cell_type": "code",
   "execution_count": 6,
   "id": "ce250157",
   "metadata": {
    "execution": {
     "iopub.execute_input": "2025-08-19T18:07:54.001504Z",
     "iopub.status.busy": "2025-08-19T18:07:54.000991Z",
     "iopub.status.idle": "2025-08-19T18:07:56.279608Z",
     "shell.execute_reply": "2025-08-19T18:07:56.278922Z"
    }
   },
   "outputs": [
    {
     "data": {
      "application/vnd.jupyter.widget-view+json": {
       "model_id": "d2ab83b1e9f24674a73a12094be1e831",
       "version_major": 2,
       "version_minor": 1
      },
      "text/plain": [
       "TableWidget()"
      ]
     },
     "metadata": {},
     "output_type": "display_data"
    },
    {
     "data": {
      "text/html": [],
      "text/plain": [
       "Computation deferred. Computation will process 171.4 MB"
      ]
     },
     "execution_count": 6,
     "metadata": {},
     "output_type": "execute_result"
    }
   ],
   "source": [
    "df"
   ]
  },
  {
   "cell_type": "markdown",
   "id": "bb15bab6",
   "metadata": {},
   "source": [
    "Programmatic Navigation Demo"
   ]
  },
  {
   "cell_type": "code",
   "execution_count": 7,
   "id": "6920d49b",
   "metadata": {
    "execution": {
     "iopub.execute_input": "2025-08-19T18:07:56.282008Z",
     "iopub.status.busy": "2025-08-19T18:07:56.281778Z",
     "iopub.status.idle": "2025-08-19T18:07:56.959938Z",
     "shell.execute_reply": "2025-08-19T18:07:56.959205Z"
    }
   },
   "outputs": [
    {
     "name": "stdout",
     "output_type": "stream",
     "text": [
      "Total pages: 555246\n"
     ]
    },
    {
     "data": {
      "application/vnd.jupyter.widget-view+json": {
       "model_id": "e7c10bb6833b4f649a26d5f33b00897b",
       "version_major": 2,
       "version_minor": 1
      },
      "text/plain": [
       "TableWidget()"
      ]
     },
     "execution_count": 7,
     "metadata": {},
     "output_type": "execute_result"
    }
   ],
   "source": [
    "from bigframes.display.anywidget import TableWidget\n",
    "import math\n",
    "  \n",
    "# Create widget programmatically  \n",
    "widget = TableWidget(df)\n",
    "print(f\"Total pages: {math.ceil(widget.row_count / widget.page_size)}\")\n",
    "  \n",
    "# Display the widget\n",
    "widget"
   ]
  },
  {
   "cell_type": "markdown",
   "id": "02cbd1be",
   "metadata": {},
   "source": [
    "Test Navigation Programmatically"
   ]
  },
  {
   "cell_type": "code",
   "execution_count": 8,
   "id": "12b68f15",
   "metadata": {
    "execution": {
     "iopub.execute_input": "2025-08-19T18:07:56.962194Z",
     "iopub.status.busy": "2025-08-19T18:07:56.961974Z",
     "iopub.status.idle": "2025-08-19T18:07:56.965782Z",
     "shell.execute_reply": "2025-08-19T18:07:56.965121Z"
    }
   },
   "outputs": [
    {
     "name": "stdout",
     "output_type": "stream",
     "text": [
      "Current page: 0\n",
      "After next: 1\n",
      "After prev: 0\n"
     ]
    }
   ],
   "source": [
    "# Simulate button clicks programmatically\n",
    "print(\"Current page:\", widget.page)\n",
    "\n",
    "# Go to next page\n",
    "widget.page = 1\n",
    "print(\"After next:\", widget.page)\n",
    "\n",
    "# Go to previous page\n",
    "widget.page = 0\n",
    "print(\"After prev:\", widget.page)"
   ]
  },
  {
   "cell_type": "markdown",
   "id": "9d310138",
   "metadata": {},
   "source": [
    "Edge Case Demonstration"
   ]
  },
  {
   "cell_type": "code",
   "execution_count": 9,
   "id": "a9d5d13a",
   "metadata": {
    "execution": {
     "iopub.execute_input": "2025-08-19T18:07:56.968276Z",
     "iopub.status.busy": "2025-08-19T18:07:56.968023Z",
     "iopub.status.idle": "2025-08-19T18:08:12.463471Z",
     "shell.execute_reply": "2025-08-19T18:08:12.462652Z"
    }
   },
   "outputs": [
    {
     "name": "stderr",
     "output_type": "stream",
     "text": [
      "/usr/local/google/home/shuowei/src/python-bigquery-dataframes/bigframes/core/array_value.py:230: AmbiguousWindowWarning: Window ordering may be ambiguous, this can cause unstable results.\n",
      "  warnings.warn(msg, bfe.AmbiguousWindowWarning)\n"
     ]
    },
    {
     "name": "stdout",
     "output_type": "stream",
     "text": [
      "Small dataset pages: 1\n"
     ]
    },
    {
     "data": {
      "application/vnd.jupyter.widget-view+json": {
       "model_id": "a670ee71d58c47babab171f4f229db62",
       "version_major": 2,
       "version_minor": 1
      },
      "text/plain": [
       "TableWidget()"
      ]
     },
     "execution_count": 9,
     "metadata": {},
     "output_type": "execute_result"
    }
   ],
   "source": [
    "# Test with very small dataset\n",
    "small_df = df.sort_values([\"name\", \"year\", \"state\"]).head(5)\n",
    "small_widget = TableWidget(small_df)\n",
    "print(f\"Small dataset pages: {math.ceil(small_widget.row_count / small_widget.page_size)}\")\n",
    "small_widget"
   ]
  },
  {
   "cell_type": "code",
   "execution_count": null,
   "id": "c4e5836b-c872-4a9c-b9ec-14f6f338176d",
   "metadata": {},
   "outputs": [],
   "source": []
  }
 ],
 "metadata": {
  "kernelspec": {
   "display_name": "Python 3 (ipykernel)",
   "language": "python",
   "name": "python3"
  },
  "language_info": {
   "codemirror_mode": {
    "name": "ipython",
    "version": 3
   },
   "file_extension": ".py",
   "mimetype": "text/x-python",
   "name": "python",
   "nbconvert_exporter": "python",
   "pygments_lexer": "ipython3",
   "version": "3.10.15"
  },
  "widgets": {
   "application/vnd.jupyter.widget-state+json": {
    "state": {
     "2ac7d45b9bce40f196823982403f3bf3": {
      "model_module": "@jupyter-widgets/base",
      "model_module_version": "2.0.0",
      "model_name": "LayoutModel",
      "state": {
       "_model_module": "@jupyter-widgets/base",
       "_model_module_version": "2.0.0",
       "_model_name": "LayoutModel",
       "_view_count": null,
       "_view_module": "@jupyter-widgets/base",
       "_view_module_version": "2.0.0",
       "_view_name": "LayoutView",
       "align_content": null,
       "align_items": null,
       "align_self": null,
       "border_bottom": null,
       "border_left": null,
       "border_right": null,
       "border_top": null,
       "bottom": null,
       "display": null,
       "flex": null,
       "flex_flow": null,
       "grid_area": null,
       "grid_auto_columns": null,
       "grid_auto_flow": null,
       "grid_auto_rows": null,
       "grid_column": null,
       "grid_gap": null,
       "grid_row": null,
       "grid_template_areas": null,
       "grid_template_columns": null,
       "grid_template_rows": null,
       "height": null,
       "justify_content": null,
       "justify_items": null,
       "left": null,
       "margin": null,
       "max_height": null,
       "max_width": null,
       "min_height": null,
       "min_width": null,
       "object_fit": null,
       "object_position": null,
       "order": null,
       "overflow": null,
       "padding": null,
       "right": null,
       "top": null,
       "visibility": null,
       "width": null
      }
     },
     "45d720d8fd954a529cc657457f681ee1": {
      "model_module": "@jupyter-widgets/base",
      "model_module_version": "2.0.0",
      "model_name": "LayoutModel",
      "state": {
       "_model_module": "@jupyter-widgets/base",
       "_model_module_version": "2.0.0",
       "_model_name": "LayoutModel",
       "_view_count": null,
       "_view_module": "@jupyter-widgets/base",
       "_view_module_version": "2.0.0",
       "_view_name": "LayoutView",
       "align_content": null,
       "align_items": null,
       "align_self": null,
       "border_bottom": null,
       "border_left": null,
       "border_right": null,
       "border_top": null,
       "bottom": null,
       "display": null,
       "flex": null,
       "flex_flow": null,
       "grid_area": null,
       "grid_auto_columns": null,
       "grid_auto_flow": null,
       "grid_auto_rows": null,
       "grid_column": null,
       "grid_gap": null,
       "grid_row": null,
       "grid_template_areas": null,
       "grid_template_columns": null,
       "grid_template_rows": null,
       "height": null,
       "justify_content": null,
       "justify_items": null,
       "left": null,
       "margin": null,
       "max_height": null,
       "max_width": null,
       "min_height": null,
       "min_width": null,
       "object_fit": null,
       "object_position": null,
       "order": null,
       "overflow": null,
       "padding": null,
       "right": null,
       "top": null,
       "visibility": null,
       "width": null
      }
     },
     "548b9bae022d4dc5a38a6a8740276387": {
      "model_module": "@jupyter-widgets/base",
      "model_module_version": "2.0.0",
      "model_name": "LayoutModel",
      "state": {
       "_model_module": "@jupyter-widgets/base",
       "_model_module_version": "2.0.0",
       "_model_name": "LayoutModel",
       "_view_count": null,
       "_view_module": "@jupyter-widgets/base",
       "_view_module_version": "2.0.0",
       "_view_name": "LayoutView",
       "align_content": null,
       "align_items": null,
       "align_self": null,
       "border_bottom": null,
       "border_left": null,
       "border_right": null,
       "border_top": null,
       "bottom": null,
       "display": null,
       "flex": null,
       "flex_flow": null,
       "grid_area": null,
       "grid_auto_columns": null,
       "grid_auto_flow": null,
       "grid_auto_rows": null,
       "grid_column": null,
       "grid_gap": null,
       "grid_row": null,
       "grid_template_areas": null,
       "grid_template_columns": null,
       "grid_template_rows": null,
       "height": null,
       "justify_content": null,
       "justify_items": null,
       "left": null,
       "margin": null,
       "max_height": null,
       "max_width": null,
       "min_height": null,
       "min_width": null,
       "object_fit": null,
       "object_position": null,
       "order": null,
       "overflow": null,
       "padding": null,
       "right": null,
       "top": null,
       "visibility": null,
       "width": null
      }
     },
     "a670ee71d58c47babab171f4f229db62": {
      "model_module": "anywidget",
      "model_module_version": "~0.9.*",
      "model_name": "AnyModel",
      "state": {
       "_anywidget_id": "bigframes.display.anywidget.TableWidget",
       "_css": "/**\n * Copyright 2025 Google LLC\n *\n * Licensed under the Apache License, Version 2.0 (the \"License\");\n * you may not use this file except in compliance with the License.\n * You may obtain a copy of the License at\n *\n *     http://www.apache.org/licenses/LICENSE-2.0\n *\n * Unless required by applicable law or agreed to in writing, software\n * distributed under the License is distributed on an \"AS IS\" BASIS,\n * WITHOUT WARRANTIES OR CONDITIONS OF ANY KIND, either express or implied.\n * See the License for the specific language governing permissions and\n * limitations under the License.\n */\n\n.bigframes-widget {\n\tdisplay: inline-block;\n}\n\n.bigframes-widget .table-container {\n\tmax-height: 620px;\n\toverflow: auto;\n}\n\n.bigframes-widget .footer {\n\talign-items: center;\n\tdisplay: flex;\n\tfont-size: 0.8rem;\n\tpadding-top: 8px;\n}\n\n.bigframes-widget .footer > * {\n\tflex: 1;\n}\n\n.bigframes-widget .pagination {\n\talign-items: center;\n\tdisplay: flex;\n\tflex-direction: row;\n\tgap: 4px;\n\tjustify-content: center;\n\tpadding: 4px;\n}\n\n.bigframes-widget .page-size {\n\talign-items: center;\n\tdisplay: flex;\n\tflex-direction: row;\n\tgap: 4px;\n\tjustify-content: end;\n}\n\n.bigframes-widget table {\n\tborder-collapse: collapse;\n\ttext-align: left;\n}\n\n.bigframes-widget th {\n\tbackground-color: var(--colab-primary-surface-color, var(--jp-layout-color0));\n\t/* Uncomment once we support sorting: cursor: pointer; */\n\tposition: sticky;\n\ttop: 0;\n\tz-index: 1;\n}\n\n.bigframes-widget button {\n\tcursor: pointer;\n\tdisplay: inline-block;\n\ttext-align: center;\n\ttext-decoration: none;\n\tuser-select: none;\n\tvertical-align: middle;\n}\n\n.bigframes-widget button:disabled {\n\topacity: 0.65;\n\tpointer-events: none;\n}\n",
       "_dom_classes": [],
       "_esm": "\nfunction render({ model, el }) {\n\tconsole.log(\"render called\");\n\t// Main container with a unique class for CSS scoping\n\tel.classList.add(\"bigframes-widget\");\n\n\t// State\n\tlet page = 0;\n\tlet pageSize = 10;\n\tlet rowCount = 0;\n\tlet tableHtml = \"\";\n\n\t// Structure\n\tconst tableContainer = document.createElement(\"div\");\n\tconst footer = document.createElement(\"div\");\n\n\t// Footer: Total rows label\n\tconst rowCountLabel = document.createElement(\"div\");\n\n\t// Footer: Pagination controls\n\tconst paginationContainer = document.createElement(\"div\");\n\tconst prevPage = document.createElement(\"button\");\n\tconst paginationLabel = document.createElement(\"span\");\n\tconst nextPage = document.createElement(\"button\");\n\n\t// Footer: Page size controls\n\tconst pageSizeContainer = document.createElement(\"div\");\n\tconst pageSizeLabel = document.createElement(\"label\");\n\tconst pageSizeSelect = document.createElement(\"select\");\n\n\t// Add CSS classes\n\ttableContainer.classList.add(\"table-container\");\n\tfooter.classList.add(\"footer\");\n\tpaginationContainer.classList.add(\"pagination\");\n\tpageSizeContainer.classList.add(\"page-size\");\n\n\t// Configure pagination buttons\n\tprevPage.type = \"button\";\n\tnextPage.type = \"button\";\n\tprevPage.textContent = \"Prev\";\n\tnextPage.textContent = \"Next\";\n\n\t// Configure page size selector\n\tpageSizeLabel.textContent = \"Page Size\";\n\tfor (const size of [10, 25, 50, 100]) {\n\t\tconst option = document.createElement(\"option\");\n\t\toption.value = size;\n\t\toption.textContent = size;\n\t\tpageSizeSelect.appendChild(option);\n\t}\n\n\t// Add event listeners\n\tprevPage.addEventListener(\"click\", () => {\n\t\tmodel.send({ type: \"page_change\", page: page - 1 });\n\t});\n\tnextPage.addEventListener(\"click\", () => {\n\t\tmodel.send({ type: \"page_change\", page: page + 1 });\n\t});\n\tpageSizeSelect.addEventListener(\"change\", (e) => {\n\t\tconst newSize = Number(e.target.value);\n\t\tif (newSize) {\n\t\t\tmodel.send({ type: \"page_size_change\", page_size: newSize });\n\t\t}\n\t});\n\n\tfunction updateUI() {\n\t\tconst totalPages = Math.ceil(rowCount / pageSize);\n\t\trowCountLabel.textContent = `${rowCount.toLocaleString()} total rows`;\n\t\tpaginationLabel.textContent = `Page ${page + 1} of ${totalPages || 1}`;\n\t\tprevPage.disabled = page === 0;\n\t\tnextPage.disabled = page >= totalPages - 1;\n\t\tpageSizeSelect.value = pageSize;\n\t\ttableContainer.innerHTML = tableHtml;\n\t}\n\n\tmodel.onMsg((msg) => {\n\t\tconsole.log(\"message received\", msg);\n\t\tif (msg.type === \"update\") {\n\t\t\tpage = msg.page;\n\t\t\tpageSize = msg.page_size;\n\t\t\trowCount = msg.row_count;\n\t\t\ttableHtml = msg.table_html;\n\t\t\tupdateUI();\n\t\t}\n\t});\n\n\t// Assemble the DOM\n\tpaginationContainer.appendChild(prevPage);\n\tpaginationContainer.appendChild(paginationLabel);\n\tpaginationContainer.appendChild(nextPage);\n\n\tpageSizeContainer.appendChild(pageSizeLabel);\n\tpageSizeContainer.appendChild(pageSizeSelect);\n\n\tfooter.appendChild(rowCountLabel);\n\tfooter.appendChild(paginationContainer);\n\tfooter.appendChild(pageSizeContainer);\n\n\tel.appendChild(tableContainer);\n\tel.appendChild(footer);\n\n\t// Initial UI state\n\tupdateUI();\n}\n\nexport default { render };\n",
       "_model_module": "anywidget",
       "_model_module_version": "~0.9.*",
       "_model_name": "AnyModel",
       "_view_count": null,
       "_view_module": "anywidget",
       "_view_module_version": "~0.9.*",
       "_view_name": "AnyView",
       "layout": "IPY_MODEL_548b9bae022d4dc5a38a6a8740276387",
       "tabbable": null,
       "tooltip": null
      }
     },
     "d2ab83b1e9f24674a73a12094be1e831": {
      "model_module": "anywidget",
      "model_module_version": "~0.9.*",
      "model_name": "AnyModel",
      "state": {
       "_anywidget_id": "bigframes.display.anywidget.TableWidget",
       "_css": "/**\n * Copyright 2025 Google LLC\n *\n * Licensed under the Apache License, Version 2.0 (the \"License\");\n * you may not use this file except in compliance with the License.\n * You may obtain a copy of the License at\n *\n *     http://www.apache.org/licenses/LICENSE-2.0\n *\n * Unless required by applicable law or agreed to in writing, software\n * distributed under the License is distributed on an \"AS IS\" BASIS,\n * WITHOUT WARRANTIES OR CONDITIONS OF ANY KIND, either express or implied.\n * See the License for the specific language governing permissions and\n * limitations under the License.\n */\n\n.bigframes-widget {\n\tdisplay: inline-block;\n}\n\n.bigframes-widget .table-container {\n\tmax-height: 620px;\n\toverflow: auto;\n}\n\n.bigframes-widget .footer {\n\talign-items: center;\n\tdisplay: flex;\n\tfont-size: 0.8rem;\n\tpadding-top: 8px;\n}\n\n.bigframes-widget .footer > * {\n\tflex: 1;\n}\n\n.bigframes-widget .pagination {\n\talign-items: center;\n\tdisplay: flex;\n\tflex-direction: row;\n\tgap: 4px;\n\tjustify-content: center;\n\tpadding: 4px;\n}\n\n.bigframes-widget .page-size {\n\talign-items: center;\n\tdisplay: flex;\n\tflex-direction: row;\n\tgap: 4px;\n\tjustify-content: end;\n}\n\n.bigframes-widget table {\n\tborder-collapse: collapse;\n\ttext-align: left;\n}\n\n.bigframes-widget th {\n\tbackground-color: var(--colab-primary-surface-color, var(--jp-layout-color0));\n\t/* Uncomment once we support sorting: cursor: pointer; */\n\tposition: sticky;\n\ttop: 0;\n\tz-index: 1;\n}\n\n.bigframes-widget button {\n\tcursor: pointer;\n\tdisplay: inline-block;\n\ttext-align: center;\n\ttext-decoration: none;\n\tuser-select: none;\n\tvertical-align: middle;\n}\n\n.bigframes-widget button:disabled {\n\topacity: 0.65;\n\tpointer-events: none;\n}\n",
       "_dom_classes": [],
       "_esm": "\nfunction render({ model, el }) {\n\tconsole.log(\"render called\");\n\t// Main container with a unique class for CSS scoping\n\tel.classList.add(\"bigframes-widget\");\n\n\t// State\n\tlet page = 0;\n\tlet pageSize = 10;\n\tlet rowCount = 0;\n\tlet tableHtml = \"\";\n\n\t// Structure\n\tconst tableContainer = document.createElement(\"div\");\n\tconst footer = document.createElement(\"div\");\n\n\t// Footer: Total rows label\n\tconst rowCountLabel = document.createElement(\"div\");\n\n\t// Footer: Pagination controls\n\tconst paginationContainer = document.createElement(\"div\");\n\tconst prevPage = document.createElement(\"button\");\n\tconst paginationLabel = document.createElement(\"span\");\n\tconst nextPage = document.createElement(\"button\");\n\n\t// Footer: Page size controls\n\tconst pageSizeContainer = document.createElement(\"div\");\n\tconst pageSizeLabel = document.createElement(\"label\");\n\tconst pageSizeSelect = document.createElement(\"select\");\n\n\t// Add CSS classes\n\ttableContainer.classList.add(\"table-container\");\n\tfooter.classList.add(\"footer\");\n\tpaginationContainer.classList.add(\"pagination\");\n\tpageSizeContainer.classList.add(\"page-size\");\n\n\t// Configure pagination buttons\n\tprevPage.type = \"button\";\n\tnextPage.type = \"button\";\n\tprevPage.textContent = \"Prev\";\n\tnextPage.textContent = \"Next\";\n\n\t// Configure page size selector\n\tpageSizeLabel.textContent = \"Page Size\";\n\tfor (const size of [10, 25, 50, 100]) {\n\t\tconst option = document.createElement(\"option\");\n\t\toption.value = size;\n\t\toption.textContent = size;\n\t\tpageSizeSelect.appendChild(option);\n\t}\n\n\t// Add event listeners\n\tprevPage.addEventListener(\"click\", () => {\n\t\tmodel.send({ type: \"page_change\", page: page - 1 });\n\t});\n\tnextPage.addEventListener(\"click\", () => {\n\t\tmodel.send({ type: \"page_change\", page: page + 1 });\n\t});\n\tpageSizeSelect.addEventListener(\"change\", (e) => {\n\t\tconst newSize = Number(e.target.value);\n\t\tif (newSize) {\n\t\t\tmodel.send({ type: \"page_size_change\", page_size: newSize });\n\t\t}\n\t});\n\n\tfunction updateUI() {\n\t\tconst totalPages = Math.ceil(rowCount / pageSize);\n\t\trowCountLabel.textContent = `${rowCount.toLocaleString()} total rows`;\n\t\tpaginationLabel.textContent = `Page ${page + 1} of ${totalPages || 1}`;\n\t\tprevPage.disabled = page === 0;\n\t\tnextPage.disabled = page >= totalPages - 1;\n\t\tpageSizeSelect.value = pageSize;\n\t\ttableContainer.innerHTML = tableHtml;\n\t}\n\n\tmodel.onMsg((msg) => {\n\t\tconsole.log(\"message received\", msg);\n\t\tif (msg.type === \"update\") {\n\t\t\tpage = msg.page;\n\t\t\tpageSize = msg.page_size;\n\t\t\trowCount = msg.row_count;\n\t\t\ttableHtml = msg.table_html;\n\t\t\tupdateUI();\n\t\t}\n\t});\n\n\t// Assemble the DOM\n\tpaginationContainer.appendChild(prevPage);\n\tpaginationContainer.appendChild(paginationLabel);\n\tpaginationContainer.appendChild(nextPage);\n\n\tpageSizeContainer.appendChild(pageSizeLabel);\n\tpageSizeContainer.appendChild(pageSizeSelect);\n\n\tfooter.appendChild(rowCountLabel);\n\tfooter.appendChild(paginationContainer);\n\tfooter.appendChild(pageSizeContainer);\n\n\tel.appendChild(tableContainer);\n\tel.appendChild(footer);\n\n\t// Initial UI state\n\tupdateUI();\n}\n\nexport default { render };\n",
       "_model_module": "anywidget",
       "_model_module_version": "~0.9.*",
       "_model_name": "AnyModel",
       "_view_count": null,
       "_view_module": "anywidget",
       "_view_module_version": "~0.9.*",
       "_view_name": "AnyView",
       "layout": "IPY_MODEL_45d720d8fd954a529cc657457f681ee1",
       "tabbable": null,
       "tooltip": null
      }
     },
     "e7c10bb6833b4f649a26d5f33b00897b": {
      "model_module": "anywidget",
      "model_module_version": "~0.9.*",
      "model_name": "AnyModel",
      "state": {
       "_anywidget_id": "bigframes.display.anywidget.TableWidget",
       "_css": "/**\n * Copyright 2025 Google LLC\n *\n * Licensed under the Apache License, Version 2.0 (the \"License\");\n * you may not use this file except in compliance with the License.\n * You may obtain a copy of the License at\n *\n *     http://www.apache.org/licenses/LICENSE-2.0\n *\n * Unless required by applicable law or agreed to in writing, software\n * distributed under the License is distributed on an \"AS IS\" BASIS,\n * WITHOUT WARRANTIES OR CONDITIONS OF ANY KIND, either express or implied.\n * See the License for the specific language governing permissions and\n * limitations under the License.\n */\n\n.bigframes-widget {\n\tdisplay: inline-block;\n}\n\n.bigframes-widget .table-container {\n\tmax-height: 620px;\n\toverflow: auto;\n}\n\n.bigframes-widget .footer {\n\talign-items: center;\n\tdisplay: flex;\n\tfont-size: 0.8rem;\n\tpadding-top: 8px;\n}\n\n.bigframes-widget .footer > * {\n\tflex: 1;\n}\n\n.bigframes-widget .pagination {\n\talign-items: center;\n\tdisplay: flex;\n\tflex-direction: row;\n\tgap: 4px;\n\tjustify-content: center;\n\tpadding: 4px;\n}\n\n.bigframes-widget .page-size {\n\talign-items: center;\n\tdisplay: flex;\n\tflex-direction: row;\n\tgap: 4px;\n\tjustify-content: end;\n}\n\n.bigframes-widget table {\n\tborder-collapse: collapse;\n\ttext-align: left;\n}\n\n.bigframes-widget th {\n\tbackground-color: var(--colab-primary-surface-color, var(--jp-layout-color0));\n\t/* Uncomment once we support sorting: cursor: pointer; */\n\tposition: sticky;\n\ttop: 0;\n\tz-index: 1;\n}\n\n.bigframes-widget button {\n\tcursor: pointer;\n\tdisplay: inline-block;\n\ttext-align: center;\n\ttext-decoration: none;\n\tuser-select: none;\n\tvertical-align: middle;\n}\n\n.bigframes-widget button:disabled {\n\topacity: 0.65;\n\tpointer-events: none;\n}\n",
       "_dom_classes": [],
       "_esm": "\nfunction render({ model, el }) {\n\tconsole.log(\"render called\");\n\t// Main container with a unique class for CSS scoping\n\tel.classList.add(\"bigframes-widget\");\n\n\t// State\n\tlet page = 0;\n\tlet pageSize = 10;\n\tlet rowCount = 0;\n\tlet tableHtml = \"\";\n\n\t// Structure\n\tconst tableContainer = document.createElement(\"div\");\n\tconst footer = document.createElement(\"div\");\n\n\t// Footer: Total rows label\n\tconst rowCountLabel = document.createElement(\"div\");\n\n\t// Footer: Pagination controls\n\tconst paginationContainer = document.createElement(\"div\");\n\tconst prevPage = document.createElement(\"button\");\n\tconst paginationLabel = document.createElement(\"span\");\n\tconst nextPage = document.createElement(\"button\");\n\n\t// Footer: Page size controls\n\tconst pageSizeContainer = document.createElement(\"div\");\n\tconst pageSizeLabel = document.createElement(\"label\");\n\tconst pageSizeSelect = document.createElement(\"select\");\n\n\t// Add CSS classes\n\ttableContainer.classList.add(\"table-container\");\n\tfooter.classList.add(\"footer\");\n\tpaginationContainer.classList.add(\"pagination\");\n\tpageSizeContainer.classList.add(\"page-size\");\n\n\t// Configure pagination buttons\n\tprevPage.type = \"button\";\n\tnextPage.type = \"button\";\n\tprevPage.textContent = \"Prev\";\n\tnextPage.textContent = \"Next\";\n\n\t// Configure page size selector\n\tpageSizeLabel.textContent = \"Page Size\";\n\tfor (const size of [10, 25, 50, 100]) {\n\t\tconst option = document.createElement(\"option\");\n\t\toption.value = size;\n\t\toption.textContent = size;\n\t\tpageSizeSelect.appendChild(option);\n\t}\n\n\t// Add event listeners\n\tprevPage.addEventListener(\"click\", () => {\n\t\tmodel.send({ type: \"page_change\", page: page - 1 });\n\t});\n\tnextPage.addEventListener(\"click\", () => {\n\t\tmodel.send({ type: \"page_change\", page: page + 1 });\n\t});\n\tpageSizeSelect.addEventListener(\"change\", (e) => {\n\t\tconst newSize = Number(e.target.value);\n\t\tif (newSize) {\n\t\t\tmodel.send({ type: \"page_size_change\", page_size: newSize });\n\t\t}\n\t});\n\n\tfunction updateUI() {\n\t\tconst totalPages = Math.ceil(rowCount / pageSize);\n\t\trowCountLabel.textContent = `${rowCount.toLocaleString()} total rows`;\n\t\tpaginationLabel.textContent = `Page ${page + 1} of ${totalPages || 1}`;\n\t\tprevPage.disabled = page === 0;\n\t\tnextPage.disabled = page >= totalPages - 1;\n\t\tpageSizeSelect.value = pageSize;\n\t\ttableContainer.innerHTML = tableHtml;\n\t}\n\n\tmodel.onMsg((msg) => {\n\t\tconsole.log(\"message received\", msg);\n\t\tif (msg.type === \"update\") {\n\t\t\tpage = msg.page;\n\t\t\tpageSize = msg.page_size;\n\t\t\trowCount = msg.row_count;\n\t\t\ttableHtml = msg.table_html;\n\t\t\tupdateUI();\n\t\t}\n\t});\n\n\t// Assemble the DOM\n\tpaginationContainer.appendChild(prevPage);\n\tpaginationContainer.appendChild(paginationLabel);\n\tpaginationContainer.appendChild(nextPage);\n\n\tpageSizeContainer.appendChild(pageSizeLabel);\n\tpageSizeContainer.appendChild(pageSizeSelect);\n\n\tfooter.appendChild(rowCountLabel);\n\tfooter.appendChild(paginationContainer);\n\tfooter.appendChild(pageSizeContainer);\n\n\tel.appendChild(tableContainer);\n\tel.appendChild(footer);\n\n\t// Initial UI state\n\tupdateUI();\n}\n\nexport default { render };\n",
       "_model_module": "anywidget",
       "_model_module_version": "~0.9.*",
       "_model_name": "AnyModel",
       "_view_count": null,
       "_view_module": "anywidget",
       "_view_module_version": "~0.9.*",
       "_view_name": "AnyView",
       "layout": "IPY_MODEL_2ac7d45b9bce40f196823982403f3bf3",
       "tabbable": null,
       "tooltip": null
      }
     }
    },
    "version_major": 2,
    "version_minor": 0
   }
  }
 },
 "nbformat": 4,
 "nbformat_minor": 5
}
