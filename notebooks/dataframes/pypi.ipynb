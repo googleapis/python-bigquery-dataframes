{
 "cells": [
  {
   "cell_type": "code",
   "execution_count": 1,
   "metadata": {},
   "outputs": [],
   "source": [
    "# Copyright 2024 Google LLC\n",
    "#\n",
    "# Licensed under the Apache License, Version 2.0 (the \"License\");\n",
    "# you may not use this file except in compliance with the License.\n",
    "# You may obtain a copy of the License at\n",
    "#\n",
    "#     https://www.apache.org/licenses/LICENSE-2.0\n",
    "#\n",
    "# Unless required by applicable law or agreed to in writing, software\n",
    "# distributed under the License is distributed on an \"AS IS\" BASIS,\n",
    "# WITHOUT WARRANTIES OR CONDITIONS OF ANY KIND, either express or implied.\n",
    "# See the License for the specific language governing permissions and\n",
    "# limitations under the License."
   ]
  },
  {
   "cell_type": "markdown",
   "metadata": {},
   "source": [
    "# Analyzing package downloads from PyPI with BigQuery DataFrames\n",
    "\n",
    "In this notebook, you'll use the [PyPI public dataset](https://console.cloud.google.com/marketplace/product/gcp-public-data-pypi/pypi) and the [deps.dev public dataset](https://deps.dev/) to visualize Python package downloads for a package and its dependencies.\n",
    "\n",
    "> **⚠ Important**\n",
    ">\n",
    "> You'll use features that are currently in [preview](https://cloud.google.com/blog/products/gcp/google-cloud-gets-simplified-product-launch-stages): `ordering_mode=\"partial\"` and \"NULL\" indexes. There may be breaking changes to this functionality in future versions of the BigQuery DataFrames package.\n",
    "\n"
   ]
  },
  {
   "cell_type": "code",
   "execution_count": 2,
   "metadata": {},
   "outputs": [],
   "source": [
    "# Choose a package which you want to visualize.\n",
    "package_name = \"pandas\""
   ]
  },
  {
   "cell_type": "code",
   "execution_count": 3,
   "metadata": {},
   "outputs": [],
   "source": [
    "import bigframes.pandas as bpd\n",
    "\n",
    "# Preview feature warning:\n",
    "# Use `ordering_mode=\"partial\"` for more efficient query generation, but\n",
    "# some pandas-compatible methods may not be possible without a total ordering.\n",
    "bpd.options.bigquery.ordering_mode = \"partial\""
   ]
  },
  {
   "cell_type": "markdown",
   "metadata": {},
   "source": [
    "Filter out the relevant warnings for preview features used."
   ]
  },
  {
   "cell_type": "code",
   "execution_count": 4,
   "metadata": {},
   "outputs": [],
   "source": [
    "import warnings\n",
    "\n",
    "import bigframes.exceptions\n",
    "\n",
    "warnings.simplefilter(\"ignore\", category=bigframes.exceptions.NullIndexPreviewWarning)\n",
    "warnings.simplefilter(\"ignore\", category=bigframes.exceptions.OrderingModePartialPreviewWarning)"
   ]
  },
  {
   "cell_type": "markdown",
   "metadata": {},
   "source": [
    "## Counting downloads and tracking dependencies\n",
    "\n",
    "The [PyPI `file_downloads`](https://console.cloud.google.com/bigquery?ws=!1m5!1m4!4m3!1sbigquery-public-data!2spypi!3sfile_downloads) table contains a row for each time there is a download request for a package. The [deps.dev Dependencies](https://console.cloud.google.com/bigquery?ws=!1m5!1m4!4m3!1sbigquery-public-data!2sdeps_dev_v1!3sDependencies) table contains a row for each dependency of each package.\n",
    "\n",
    "When `ordering_mode = \"partial\"`, `read_gbq_table` creates a DataFrame representing the table, but the DataFrame has no native ordering or index."
   ]
  },
  {
   "cell_type": "code",
   "execution_count": 5,
   "metadata": {},
   "outputs": [],
   "source": [
    "import bigframes.enums\n",
    "\n",
    "# Without ordering_mode = \"partial\" it is recommended that you set\n",
    "# the \"filters\" parameter to limit the number of rows subsequent queries\n",
    "# have to read.\n",
    "pypi = bpd.read_gbq_table(\n",
    "    \"bigquery-public-data.pypi.file_downloads\",\n",
    "\n",
    "    # Using ordering_mode = \"partial\" changes the default index to a \"NULL\"\n",
    "    # index, meaning no index is available for implicit joins.\n",
    "    #\n",
    "    # Setting this explicitly avoids a DefaultIndexWarning.\n",
    "    index_col=bigframes.enums.DefaultIndexKind.NULL,\n",
    ")\n",
    "deps = bpd.read_gbq_table(\n",
    "    \"bigquery-public-data.deps_dev_v1.Dependencies\",\n",
    "    index_col=bigframes.enums.DefaultIndexKind.NULL,\n",
    ")"
   ]
  },
  {
   "cell_type": "markdown",
   "metadata": {},
   "source": [
    "## Limit to the most recent 7 days of data\n",
    "\n",
    "The PyPI and deps.dev tables are partitioned by date. Query only the most recent 7 days of data to reduce the number of bytes scanned.\n",
    "\n",
    "Just as with the default ordering mode, filters can be describe in a pandas-compatible way by passing a Boolean Series to the DataFrame's `__getitem__` accessor."
   ]
  },
  {
   "cell_type": "code",
   "execution_count": 6,
   "metadata": {},
   "outputs": [
    {
     "data": {
      "text/html": [
       "Query job 744fb4d9-34d4-43b0-b117-23138955de8e is DONE. 4.3 TB processed. <a target=\"_blank\" href=\"https://console.cloud.google.com/bigquery?project=swast-scratch&j=bq:US:744fb4d9-34d4-43b0-b117-23138955de8e&page=queryresults\">Open Job</a>"
      ],
      "text/plain": [
       "<IPython.core.display.HTML object>"
      ]
     },
     "metadata": {},
     "output_type": "display_data"
    }
   ],
   "source": [
    "import datetime\n",
    "\n",
    "now = datetime.datetime.now(datetime.timezone.utc)\n",
    "last_7_days = now - datetime.timedelta(days=7)\n",
    "last_30_days = now - datetime.timedelta(days=30)\n",
    "pypi = pypi[pypi[\"timestamp\"] > last_7_days]\n",
    "deps = deps[deps[\"SnapshotAt\"] == deps[\"SnapshotAt\"].max()]\n",
    "deps = deps[deps[\"System\"] == \"PYPI\"]"
   ]
  },
  {
   "cell_type": "markdown",
   "metadata": {},
   "source": [
    "\n",
    "**⚠ Warning**\n",
    "\n",
    "Without `ordering_mode = \"partial\"`, these filters do not change the number of bytes scanned. Instead, add column and row filters at \"read\" time. For example,\n",
    "\n",
    "```\n",
    "import datetime\n",
    "\n",
    "last_7_days = datetime.datetime.now(datetime.timezone.utc) - datetime.timedelta(days=7)\n",
    "\n",
    "# Without ordering_mode = \"partial\", one must limit the data at \"read\" time to reduce bytes scanned.\n",
    "pypi = bpd.read_gbq_table(\n",
    "    \"bigquery-public-data.pypi.file_downloads\",\n",
    "    columns=[\"timestamp\", \"project\"],\n",
    "    filters=[(\"timestamp\", \">\", last_7_days)],\n",
    ")\n",
    "```\n",
    "\n",
    "`head()` is not available when no ordering has been established. It fails with `OrderRequiredError`. Use `peek()` instead to download a sample of the data. This will be much more efficient, as the query doesn't need to order all rows to determine which are first."
   ]
  },
  {
   "cell_type": "code",
   "execution_count": 7,
   "metadata": {},
   "outputs": [
    {
     "data": {
      "text/html": [
       "Query job c6d7d4e3-0aa9-430f-9adb-9cb4c8a10604 is DONE. 151.3 MB processed. <a target=\"_blank\" href=\"https://console.cloud.google.com/bigquery?project=swast-scratch&j=bq:US:c6d7d4e3-0aa9-430f-9adb-9cb4c8a10604&page=queryresults\">Open Job</a>"
      ],
      "text/plain": [
       "<IPython.core.display.HTML object>"
      ]
     },
     "metadata": {},
     "output_type": "display_data"
    },
    {
     "data": {
      "text/html": [
       "<div>\n",
       "<style scoped>\n",
       "    .dataframe tbody tr th:only-of-type {\n",
       "        vertical-align: middle;\n",
       "    }\n",
       "\n",
       "    .dataframe tbody tr th {\n",
       "        vertical-align: top;\n",
       "    }\n",
       "\n",
       "    .dataframe thead th {\n",
       "        text-align: right;\n",
       "    }\n",
       "</style>\n",
       "<table border=\"1\" class=\"dataframe\">\n",
       "  <thead>\n",
       "    <tr style=\"text-align: right;\">\n",
       "      <th></th>\n",
       "      <th>timestamp</th>\n",
       "      <th>country_code</th>\n",
       "      <th>url</th>\n",
       "      <th>project</th>\n",
       "      <th>file</th>\n",
       "      <th>details</th>\n",
       "      <th>tls_protocol</th>\n",
       "      <th>tls_cipher</th>\n",
       "    </tr>\n",
       "  </thead>\n",
       "  <tbody>\n",
       "    <tr>\n",
       "      <th>0</th>\n",
       "      <td>2024-09-16 23:52:58+00:00</td>\n",
       "      <td>JP</td>\n",
       "      <td>/packages/3c/20/19b9bf0d75813afcc01bc1bdc3d603...</td>\n",
       "      <td>aiobotocore</td>\n",
       "      <td>{'filename': 'aiobotocore-2.10.0-py3-none-any....</td>\n",
       "      <td>&lt;NA&gt;</td>\n",
       "      <td>TLSv1.3</td>\n",
       "      <td>TLS_AES_128_GCM_SHA256</td>\n",
       "    </tr>\n",
       "    <tr>\n",
       "      <th>1</th>\n",
       "      <td>2024-09-16 23:52:58+00:00</td>\n",
       "      <td>JP</td>\n",
       "      <td>/packages/7c/1d/0c684405e86928cfdf6af680c5873f...</td>\n",
       "      <td>aiobotocore</td>\n",
       "      <td>{'filename': 'aiobotocore-2.11.0-py3-none-any....</td>\n",
       "      <td>&lt;NA&gt;</td>\n",
       "      <td>TLSv1.3</td>\n",
       "      <td>TLS_AES_128_GCM_SHA256</td>\n",
       "    </tr>\n",
       "    <tr>\n",
       "      <th>2</th>\n",
       "      <td>2024-09-16 23:52:57+00:00</td>\n",
       "      <td>JP</td>\n",
       "      <td>/packages/93/31/96b7a65c1d98238718fac08688ad0f...</td>\n",
       "      <td>aiobotocore</td>\n",
       "      <td>{'filename': 'aiobotocore-2.11.1-py3-none-any....</td>\n",
       "      <td>&lt;NA&gt;</td>\n",
       "      <td>TLSv1.3</td>\n",
       "      <td>TLS_AES_128_GCM_SHA256</td>\n",
       "    </tr>\n",
       "    <tr>\n",
       "      <th>3</th>\n",
       "      <td>2024-09-16 23:52:56+00:00</td>\n",
       "      <td>JP</td>\n",
       "      <td>/packages/25/cf/c695f7f3301117766d778f536082c4...</td>\n",
       "      <td>aiobotocore</td>\n",
       "      <td>{'filename': 'aiobotocore-2.11.2-py3-none-any....</td>\n",
       "      <td>&lt;NA&gt;</td>\n",
       "      <td>TLSv1.3</td>\n",
       "      <td>TLS_AES_128_GCM_SHA256</td>\n",
       "    </tr>\n",
       "    <tr>\n",
       "      <th>4</th>\n",
       "      <td>2024-09-16 23:52:56+00:00</td>\n",
       "      <td>JP</td>\n",
       "      <td>/packages/5a/76/5f0f0c933e84fdfd7bf9307c04d1bc...</td>\n",
       "      <td>aiobotocore</td>\n",
       "      <td>{'filename': 'aiobotocore-2.12.0-py3-none-any....</td>\n",
       "      <td>&lt;NA&gt;</td>\n",
       "      <td>TLSv1.3</td>\n",
       "      <td>TLS_AES_128_GCM_SHA256</td>\n",
       "    </tr>\n",
       "  </tbody>\n",
       "</table>\n",
       "</div>"
      ],
      "text/plain": [
       "                   timestamp country_code  \\\n",
       "0  2024-09-16 23:52:58+00:00           JP   \n",
       "1  2024-09-16 23:52:58+00:00           JP   \n",
       "2  2024-09-16 23:52:57+00:00           JP   \n",
       "3  2024-09-16 23:52:56+00:00           JP   \n",
       "4  2024-09-16 23:52:56+00:00           JP   \n",
       "\n",
       "                                                 url      project  \\\n",
       "0  /packages/3c/20/19b9bf0d75813afcc01bc1bdc3d603...  aiobotocore   \n",
       "1  /packages/7c/1d/0c684405e86928cfdf6af680c5873f...  aiobotocore   \n",
       "2  /packages/93/31/96b7a65c1d98238718fac08688ad0f...  aiobotocore   \n",
       "3  /packages/25/cf/c695f7f3301117766d778f536082c4...  aiobotocore   \n",
       "4  /packages/5a/76/5f0f0c933e84fdfd7bf9307c04d1bc...  aiobotocore   \n",
       "\n",
       "                                                file details tls_protocol  \\\n",
       "0  {'filename': 'aiobotocore-2.10.0-py3-none-any....    <NA>      TLSv1.3   \n",
       "1  {'filename': 'aiobotocore-2.11.0-py3-none-any....    <NA>      TLSv1.3   \n",
       "2  {'filename': 'aiobotocore-2.11.1-py3-none-any....    <NA>      TLSv1.3   \n",
       "3  {'filename': 'aiobotocore-2.11.2-py3-none-any....    <NA>      TLSv1.3   \n",
       "4  {'filename': 'aiobotocore-2.12.0-py3-none-any....    <NA>      TLSv1.3   \n",
       "\n",
       "               tls_cipher  \n",
       "0  TLS_AES_128_GCM_SHA256  \n",
       "1  TLS_AES_128_GCM_SHA256  \n",
       "2  TLS_AES_128_GCM_SHA256  \n",
       "3  TLS_AES_128_GCM_SHA256  \n",
       "4  TLS_AES_128_GCM_SHA256  "
      ]
     },
     "execution_count": 7,
     "metadata": {},
     "output_type": "execute_result"
    }
   ],
   "source": [
    "# Warning: Ensure bpd.options.bigquery.ordering_mode = \"partial\" or else\n",
    "# this query() will cause a full table scan because of the sequential index.\n",
    "assert bpd.options.bigquery.ordering_mode == \"partial\"\n",
    "pypi.peek()"
   ]
  },
  {
   "cell_type": "code",
   "execution_count": 8,
   "metadata": {},
   "outputs": [
    {
     "data": {
      "text/html": [
       "Query job f83ab134-4064-4a5b-89a0-2cea51849b81 is DONE. 242.1 MB processed. <a target=\"_blank\" href=\"https://console.cloud.google.com/bigquery?project=swast-scratch&j=bq:US:f83ab134-4064-4a5b-89a0-2cea51849b81&page=queryresults\">Open Job</a>"
      ],
      "text/plain": [
       "<IPython.core.display.HTML object>"
      ]
     },
     "metadata": {},
     "output_type": "display_data"
    },
    {
     "data": {
      "text/html": [
       "<div>\n",
       "<style scoped>\n",
       "    .dataframe tbody tr th:only-of-type {\n",
       "        vertical-align: middle;\n",
       "    }\n",
       "\n",
       "    .dataframe tbody tr th {\n",
       "        vertical-align: top;\n",
       "    }\n",
       "\n",
       "    .dataframe thead th {\n",
       "        text-align: right;\n",
       "    }\n",
       "</style>\n",
       "<table border=\"1\" class=\"dataframe\">\n",
       "  <thead>\n",
       "    <tr style=\"text-align: right;\">\n",
       "      <th></th>\n",
       "      <th>SnapshotAt</th>\n",
       "      <th>System</th>\n",
       "      <th>Name</th>\n",
       "      <th>Version</th>\n",
       "      <th>Dependency</th>\n",
       "      <th>MinimumDepth</th>\n",
       "    </tr>\n",
       "  </thead>\n",
       "  <tbody>\n",
       "    <tr>\n",
       "      <th>0</th>\n",
       "      <td>2024-09-16 21:00:53.364153+00:00</td>\n",
       "      <td>PYPI</td>\n",
       "      <td>aws-jupyter-proxy</td>\n",
       "      <td>0.3.6</td>\n",
       "      <td>{'System': 'PYPI', 'Name': 'idna', 'Version': ...</td>\n",
       "      <td>6</td>\n",
       "    </tr>\n",
       "    <tr>\n",
       "      <th>1</th>\n",
       "      <td>2024-09-16 21:00:53.364153+00:00</td>\n",
       "      <td>PYPI</td>\n",
       "      <td>automation-editor-dev</td>\n",
       "      <td>0.0.12</td>\n",
       "      <td>{'System': 'PYPI', 'Name': 'asttokens', 'Versi...</td>\n",
       "      <td>6</td>\n",
       "    </tr>\n",
       "    <tr>\n",
       "      <th>2</th>\n",
       "      <td>2024-09-16 21:00:53.364153+00:00</td>\n",
       "      <td>PYPI</td>\n",
       "      <td>aws-jupyter-proxy</td>\n",
       "      <td>0.3.4</td>\n",
       "      <td>{'System': 'PYPI', 'Name': 'pyyaml', 'Version'...</td>\n",
       "      <td>6</td>\n",
       "    </tr>\n",
       "    <tr>\n",
       "      <th>3</th>\n",
       "      <td>2024-09-16 21:00:53.364153+00:00</td>\n",
       "      <td>PYPI</td>\n",
       "      <td>automation-editor-dev</td>\n",
       "      <td>0.0.10</td>\n",
       "      <td>{'System': 'PYPI', 'Name': 'pure-eval', 'Versi...</td>\n",
       "      <td>6</td>\n",
       "    </tr>\n",
       "    <tr>\n",
       "      <th>4</th>\n",
       "      <td>2024-09-16 21:00:53.364153+00:00</td>\n",
       "      <td>PYPI</td>\n",
       "      <td>autopetroleum</td>\n",
       "      <td>0.0.1</td>\n",
       "      <td>{'System': 'PYPI', 'Name': 'soupsieve', 'Versi...</td>\n",
       "      <td>6</td>\n",
       "    </tr>\n",
       "  </tbody>\n",
       "</table>\n",
       "</div>"
      ],
      "text/plain": [
       "                         SnapshotAt System                   Name Version  \\\n",
       "0  2024-09-16 21:00:53.364153+00:00   PYPI      aws-jupyter-proxy   0.3.6   \n",
       "1  2024-09-16 21:00:53.364153+00:00   PYPI  automation-editor-dev  0.0.12   \n",
       "2  2024-09-16 21:00:53.364153+00:00   PYPI      aws-jupyter-proxy   0.3.4   \n",
       "3  2024-09-16 21:00:53.364153+00:00   PYPI  automation-editor-dev  0.0.10   \n",
       "4  2024-09-16 21:00:53.364153+00:00   PYPI          autopetroleum   0.0.1   \n",
       "\n",
       "                                          Dependency  MinimumDepth  \n",
       "0  {'System': 'PYPI', 'Name': 'idna', 'Version': ...             6  \n",
       "1  {'System': 'PYPI', 'Name': 'asttokens', 'Versi...             6  \n",
       "2  {'System': 'PYPI', 'Name': 'pyyaml', 'Version'...             6  \n",
       "3  {'System': 'PYPI', 'Name': 'pure-eval', 'Versi...             6  \n",
       "4  {'System': 'PYPI', 'Name': 'soupsieve', 'Versi...             6  "
      ]
     },
     "execution_count": 8,
     "metadata": {},
     "output_type": "execute_result"
    }
   ],
   "source": [
    "deps.peek()"
   ]
  },
  {
   "cell_type": "markdown",
   "metadata": {},
   "source": [
    "## Find dependencies for pandas\n",
    "\n",
    "Use assign to add columns to the DataFrame after a scalar operations, such as extracting a sub-field from a `STRUCT` column.\n",
    "\n",
    "Because the DataFrame has no index, this does not work if the new column belongs to a different table expression."
   ]
  },
  {
   "cell_type": "code",
   "execution_count": 9,
   "metadata": {},
   "outputs": [],
   "source": [
    "deps = deps.assign(DependencyName=deps[\"Dependency\"].struct.field(\"Name\"))"
   ]
  },
  {
   "cell_type": "markdown",
   "metadata": {},
   "source": [
    "Use an aggregation to identify the unique `DependencyName`s for the `pandas` package. Note: `drop_duplicates()` is not supported, as the order-based behavior such as `keep=\"first\"` is not applicable when using `ordering_mode = \"partial\"`.\n",
    "\n",
    "A DataFrame with no index still supports aggregation operations. Set `as_index=False` to keep the GROUP BY keys as regular columns, instead of turning them into an index."
   ]
  },
  {
   "cell_type": "code",
   "execution_count": 10,
   "metadata": {},
   "outputs": [
    {
     "data": {
      "text/html": [
       "Query job 1b861847-d9f4-42f5-9fc9-e16c2e1dfa1c is DONE. 293.3 MB processed. <a target=\"_blank\" href=\"https://console.cloud.google.com/bigquery?project=swast-scratch&j=bq:US:1b861847-d9f4-42f5-9fc9-e16c2e1dfa1c&page=queryresults\">Open Job</a>"
      ],
      "text/plain": [
       "<IPython.core.display.HTML object>"
      ]
     },
     "metadata": {},
     "output_type": "display_data"
    },
    {
     "data": {
      "text/html": [
       "Query job 2775b204-a91f-4362-8a03-8752d37acc02 is DONE. 123 Bytes processed. <a target=\"_blank\" href=\"https://console.cloud.google.com/bigquery?project=swast-scratch&j=bq:US:2775b204-a91f-4362-8a03-8752d37acc02&page=queryresults\">Open Job</a>"
      ],
      "text/plain": [
       "<IPython.core.display.HTML object>"
      ]
     },
     "metadata": {},
     "output_type": "display_data"
    },
    {
     "data": {
      "text/html": [
       "<div>\n",
       "<style scoped>\n",
       "    .dataframe tbody tr th:only-of-type {\n",
       "        vertical-align: middle;\n",
       "    }\n",
       "\n",
       "    .dataframe tbody tr th {\n",
       "        vertical-align: top;\n",
       "    }\n",
       "\n",
       "    .dataframe thead th {\n",
       "        text-align: right;\n",
       "    }\n",
       "</style>\n",
       "<table border=\"1\" class=\"dataframe\">\n",
       "  <thead>\n",
       "    <tr style=\"text-align: right;\">\n",
       "      <th></th>\n",
       "      <th>Name</th>\n",
       "      <th>DependencyName</th>\n",
       "      <th>size</th>\n",
       "    </tr>\n",
       "  </thead>\n",
       "  <tbody>\n",
       "    <tr>\n",
       "      <th>0</th>\n",
       "      <td>pandas</td>\n",
       "      <td>tzdata</td>\n",
       "      <td>14</td>\n",
       "    </tr>\n",
       "    <tr>\n",
       "      <th>1</th>\n",
       "      <td>pandas</td>\n",
       "      <td>numpy</td>\n",
       "      <td>42</td>\n",
       "    </tr>\n",
       "    <tr>\n",
       "      <th>2</th>\n",
       "      <td>pandas</td>\n",
       "      <td>pytz</td>\n",
       "      <td>42</td>\n",
       "    </tr>\n",
       "    <tr>\n",
       "      <th>3</th>\n",
       "      <td>pandas</td>\n",
       "      <td>python-dateutil</td>\n",
       "      <td>42</td>\n",
       "    </tr>\n",
       "    <tr>\n",
       "      <th>4</th>\n",
       "      <td>pandas</td>\n",
       "      <td>six</td>\n",
       "      <td>42</td>\n",
       "    </tr>\n",
       "  </tbody>\n",
       "</table>\n",
       "</div>"
      ],
      "text/plain": [
       "     Name   DependencyName  size\n",
       "0  pandas           tzdata    14\n",
       "1  pandas            numpy    42\n",
       "2  pandas             pytz    42\n",
       "3  pandas  python-dateutil    42\n",
       "4  pandas              six    42"
      ]
     },
     "execution_count": 10,
     "metadata": {},
     "output_type": "execute_result"
    }
   ],
   "source": [
    "package_deps = deps[deps[\"Name\"] == package_name].groupby([\"Name\", \"DependencyName\"], as_index=False).size()\n",
    "package_deps.peek()"
   ]
  },
  {
   "cell_type": "markdown",
   "metadata": {},
   "source": [
    "## Count downloads for pandas and its dependencies\n",
    "\n",
    "The previous step created `pandas_deps` with all the dependencies of `pandas` but not pandas itself.\n",
    "\n",
    "Combine two DataFrames with the same column names with the `bigframes.pandas.concat` function."
   ]
  },
  {
   "cell_type": "code",
   "execution_count": 11,
   "metadata": {},
   "outputs": [],
   "source": [
    "pandas_and_deps = bpd.concat(\n",
    "    [\n",
    "        package_deps.drop(columns=[\"Name\", \"size\"]).rename(columns={\"DependencyName\": \"Name\"}),\n",
    "        bpd.DataFrame({\"Name\": [package_name]}),\n",
    "    ],\n",
    "\n",
    "    # To join DataFrames that have a NULL index, set ignore_index = True.\n",
    "    ignore_index=True,\n",
    ")"
   ]
  },
  {
   "cell_type": "markdown",
   "metadata": {},
   "source": [
    "Since there is no index to implicitly join on, use the `merge` method to join two DataFrames by column name."
   ]
  },
  {
   "cell_type": "code",
   "execution_count": 12,
   "metadata": {},
   "outputs": [],
   "source": [
    "pandas_pypi = pandas_and_deps.merge(pypi, how=\"inner\", left_on=\"Name\", right_on=\"project\")"
   ]
  },
  {
   "cell_type": "markdown",
   "metadata": {},
   "source": [
    "Create a time series to visualize by grouping by the date, extracted from the `timestamp` column.\n",
    "\n",
    "**Note:** If you don't `peek()` at your data and only do grouped aggregations, BigQuery DataFrames can eliminate unnecessary ordering from the compilation even without `ordering_mode = \"partial\"`.\n",
    "\n",
    "When BigQuery DataFrames aggregates over columns, those columns provide a\n",
    "unique key post-aggregation that is used for ordering. Any ordering applied before is overridden. By aggregating over\n",
    "a time series, the line plots will render in the expected order."
   ]
  },
  {
   "cell_type": "code",
   "execution_count": 13,
   "metadata": {},
   "outputs": [
    {
     "data": {
      "text/html": [
       "Query job 01dd44bc-d91a-4d81-baab-f9299d3028da is DONE. 265.7 GB processed. <a target=\"_blank\" href=\"https://console.cloud.google.com/bigquery?project=swast-scratch&j=bq:US:01dd44bc-d91a-4d81-baab-f9299d3028da&page=queryresults\">Open Job</a>"
      ],
      "text/plain": [
       "<IPython.core.display.HTML object>"
      ]
     },
     "metadata": {},
     "output_type": "display_data"
    },
    {
     "data": {
      "text/html": [
       "Query job 67f21ab1-e731-48c1-b864-26d1948381c7 is DONE. 2.0 kB processed. <a target=\"_blank\" href=\"https://console.cloud.google.com/bigquery?project=swast-scratch&j=bq:US:67f21ab1-e731-48c1-b864-26d1948381c7&page=queryresults\">Open Job</a>"
      ],
      "text/plain": [
       "<IPython.core.display.HTML object>"
      ]
     },
     "metadata": {},
     "output_type": "display_data"
    },
    {
     "data": {
      "text/plain": [
       "date        project        \n",
       "2024-09-16  numpy               1166511\n",
       "            pandas              1003387\n",
       "            python-dateutil     1333132\n",
       "            pytz                 773587\n",
       "            six                 1183704\n",
       "            tzdata               419957\n",
       "2024-09-17  numpy              13120509\n",
       "            pandas             10614053\n",
       "            python-dateutil    17359394\n",
       "            pytz                9149940\n",
       "            six                14757314\n",
       "            tzdata              5021399\n",
       "2024-09-18  numpy              13282573\n",
       "            pandas             10856758\n",
       "            python-dateutil    17877058\n",
       "            pytz                9450103\n",
       "            six                15225000\n",
       "            tzdata              5230039\n",
       "2024-09-19  numpy              13637868\n",
       "            pandas             11077817\n",
       "            python-dateutil    18449777\n",
       "            pytz                9690329\n",
       "            six                15706263\n",
       "            tzdata              5473910\n",
       "2024-09-20  numpy              12609524\n",
       "            pandas             10758593\n",
       "            python-dateutil    17257536\n",
       "            pytz                9082050\n",
       "            six                14489456\n",
       "            tzdata              5206738\n",
       "2024-09-21  numpy               8316481\n",
       "            pandas              7483241\n",
       "            python-dateutil    11604691\n",
       "            pytz                5494178\n",
       "            six                 8814983\n",
       "            tzdata              3141578\n",
       "2024-09-22  numpy               7768078\n",
       "            pandas              6566272\n",
       "            python-dateutil    10835755\n",
       "            pytz                5130018\n",
       "            six                 8297507\n",
       "            tzdata              2811247\n",
       "2024-09-23  numpy              11199756\n",
       "            pandas              9657598\n",
       "            python-dateutil    15655979\n",
       "            pytz                8228748\n",
       "            six                13181937\n",
       "            tzdata              4712992\n",
       "dtype: Int64"
      ]
     },
     "execution_count": 13,
     "metadata": {},
     "output_type": "execute_result"
    }
   ],
   "source": [
    "pandas_pypi = pandas_pypi.assign(date=pandas_pypi[\"timestamp\"].dt.date)\n",
    "downloads_per_day = pandas_pypi.groupby([\"date\", \"project\"]).size()\n",
    "\n",
    "# Cache after the aggregation so that the aggregation only runs once.\n",
    "downloads_per_day.cache()\n",
    "downloads_per_day.to_pandas()"
   ]
  },
  {
   "cell_type": "markdown",
   "metadata": {},
   "source": [
    "BigQuery DataFrames has several built-in visualization methods. Alternatively, download the time series with the `to_pandas()` method for further analysis and visualization."
   ]
  },
  {
   "cell_type": "code",
   "execution_count": 14,
   "metadata": {},
   "outputs": [
    {
     "data": {
      "text/html": [
       "Query job 605060a2-2075-457a-87d8-0a7af256a411 is DONE. 1.6 kB processed. <a target=\"_blank\" href=\"https://console.cloud.google.com/bigquery?project=swast-scratch&j=bq:US:605060a2-2075-457a-87d8-0a7af256a411&page=queryresults\">Open Job</a>"
      ],
      "text/plain": [
       "<IPython.core.display.HTML object>"
      ]
     },
     "metadata": {},
     "output_type": "display_data"
    },
    {
     "data": {
      "text/html": [
       "Query job 1483a362-1486-44d0-ac04-66e2c6403632 is DONE. 1.2 kB processed. <a target=\"_blank\" href=\"https://console.cloud.google.com/bigquery?project=swast-scratch&j=bq:US:1483a362-1486-44d0-ac04-66e2c6403632&page=queryresults\">Open Job</a>"
      ],
      "text/plain": [
       "<IPython.core.display.HTML object>"
      ]
     },
     "metadata": {},
     "output_type": "display_data"
    },
    {
     "data": {
      "text/plain": [
       "<Axes: xlabel='date', ylabel='daily downloads'>"
      ]
     },
     "execution_count": 14,
     "metadata": {},
     "output_type": "execute_result"
    },
    {
     "data": {
      "image/png": "[encoded data removed]",
      "text/plain": [
       "<Figure size 640x480 with 1 Axes>"
      ]
     },
     "metadata": {},
     "output_type": "display_data"
    }
   ],
   "source": [
    "downloads_per_day.unstack().plot.line(rot=45, ylabel=\"daily downloads\", ylim=(0, 2e7))"
   ]
  },
  {
   "cell_type": "code",
   "execution_count": null,
   "metadata": {},
   "outputs": [],
   "source": []
  }
 ],
 "metadata": {
  "kernelspec": {
   "display_name": "venv",
   "language": "python",
   "name": "python3"
  },
  "language_info": {
   "codemirror_mode": {
    "name": "ipython",
    "version": 3
   },
   "file_extension": ".py",
   "mimetype": "text/x-python",
   "name": "python",
   "nbconvert_exporter": "python",
   "pygments_lexer": "ipython3",
   "version": "3.12.6"
  }
 },
 "nbformat": 4,
 "nbformat_minor": 2
}
