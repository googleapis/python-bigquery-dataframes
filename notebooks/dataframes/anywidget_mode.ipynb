{
 "cells": [
  {
   "cell_type": "code",
   "execution_count": 1,
   "id": "d10bfca4",
   "metadata": {},
   "outputs": [],
   "source": [
    "# Copyright 2025 Google LLC\n",
    "#\n",
    "# Licensed under the Apache License, Version 2.0 (the \"License\");\n",
    "# you may not use this file except in compliance with the License.\n",
    "# You may obtain a copy of the License at\n",
    "#\n",
    "#     https://www.apache.org/licenses/LICENSE-2.0\n",
    "#\n",
    "# Unless required by applicable law or agreed to in writing, software\n",
    "# distributed under the License is distributed on an \"AS IS\" BASIS,\n",
    "# WITHOUT WARRANTIES OR CONDITIONS OF ANY KIND, either express or implied.\n",
    "# See the License for the specific language governing permissions and\n",
    "# limitations under the License."
   ]
  },
  {
   "cell_type": "markdown",
   "id": "acca43ae",
   "metadata": {},
   "source": [
    "# Demo to Show Anywidget mode"
   ]
  },
  {
   "cell_type": "code",
   "execution_count": 2,
   "id": "ca22f059",
   "metadata": {},
   "outputs": [],
   "source": [
    "import bigframes.pandas as bpd"
   ]
  },
  {
   "cell_type": "markdown",
   "id": "04406a4d",
   "metadata": {},
   "source": [
    "Set the display option to use anywidget"
   ]
  },
  {
   "cell_type": "code",
   "execution_count": 3,
   "id": "1bc5aaf3",
   "metadata": {},
   "outputs": [],
   "source": [
    "bpd.options.display.repr_mode = \"anywidget\""
   ]
  },
  {
   "cell_type": "markdown",
   "id": "0a354c69",
   "metadata": {},
   "source": [
    "Display the dataframe in anywidget mode"
   ]
  },
  {
   "cell_type": "code",
   "execution_count": 6,
   "id": "f289d250",
   "metadata": {},
   "outputs": [
    {
     "name": "stderr",
     "output_type": "stream",
     "text": [
      "/usr/local/google/home/shuowei/src/python-bigquery-dataframes/bigframes/core/log_adapter.py:175: UserWarning: Reading cached table from 2025-06-13 18:34:33.341589+00:00 to avoid\n",
      "incompatibilies with previous reads of this table. To read the latest\n",
      "version, set `use_cache=False` or close the current session with\n",
      "Session.close() or bigframes.pandas.close_session().\n",
      "  return method(*args, **kwargs)\n"
     ]
    },
    {
     "name": "stdout",
     "output_type": "stream",
     "text": [
      "   state gender  year       name  number\n",
      "0     VA      M  1930        Pat       6\n",
      "1     NY      M  1993       Yves       5\n",
      "2     LA      F  1993     Keosha       9\n",
      "3     TX      M  1911     Willie     167\n",
      "4     LA      F  1993       Jill       9\n",
      "5     MO      F  1980    Kendall       6\n",
      "6     VA      F  1997      Chloe      48\n",
      "7     MS      M  2002     Robert     170\n",
      "8     CT      F  1952      Agnes       9\n",
      "9     TN      F  2005     Lainey      13\n",
      "10    TN      F  1999     Melina       7\n",
      "11    MI      F  2012     Tianna       6\n",
      "12    PA      F  1943      Velma      28\n",
      "13    MO      M  1933      Jesse      68\n",
      "14    CO      M  2007    Bennett      20\n",
      "15    SC      F  1917     Cecile      10\n",
      "16    WA      M  1987     Adrian      52\n",
      "17    MN      M  1940       Arlo       7\n",
      "18    AR      M  1960       Pete       5\n",
      "19    OR      F  1998    Abigail     130\n",
      "20    MI      M  1959    Darrell     164\n",
      "21    FL      F  2013  Gabrielle     144\n",
      "22    NC      F  1984      Celia      11\n",
      "23    FL      M  1988    Tavares      12\n",
      "24    TX      M  1968    Kennith      18\n"
     ]
    }
   ],
   "source": [
    "df = bpd.read_gbq(\"bigquery-public-data.usa_names.usa_1910_2013\")\n",
    "print(df)"
   ]
  },
  {
   "cell_type": "markdown",
   "id": "3a73e472",
   "metadata": {},
   "source": [
    "Display Series in anywidget mode"
   ]
  },
  {
   "cell_type": "code",
   "execution_count": 7,
   "id": "42bb02ab",
   "metadata": {},
   "outputs": [
    {
     "name": "stdout",
     "output_type": "stream",
     "text": [
      "0     1930\n",
      "1     1993\n",
      "2     1993\n",
      "3     1911\n",
      "4     1993\n",
      "5     1980\n",
      "6     1997\n",
      "7     2002\n",
      "8     1952\n",
      "9     2005\n",
      "10    1999\n",
      "11    2012\n",
      "12    1943\n",
      "13    1933\n",
      "14    2007\n",
      "15    1917\n",
      "16    1987\n",
      "17    1940\n",
      "18    1960\n",
      "19    1998\n",
      "20    1959\n",
      "21    2013\n",
      "22    1984\n",
      "23    1988\n",
      "24    1968\n",
      "Name: year, dtype: Int64\n"
     ]
    }
   ],
   "source": [
    "test_series = df[\"year\"]\n",
    "print(test_series)"
   ]
  }
 ],
 "metadata": {
  "kernelspec": {
   "display_name": "venv",
   "language": "python",
   "name": "python3"
  },
  "language_info": {
   "codemirror_mode": {
    "name": "ipython",
    "version": 3
   },
   "file_extension": ".py",
   "mimetype": "text/x-python",
   "name": "python",
   "nbconvert_exporter": "python",
   "pygments_lexer": "ipython3",
   "version": "3.10.15"
  }
 },
 "nbformat": 4,
 "nbformat_minor": 5
}
