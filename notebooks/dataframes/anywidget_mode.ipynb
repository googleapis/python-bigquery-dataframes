{
 "cells": [
  {
   "cell_type": "code",
   "execution_count": 1,
   "id": "d10bfca4",
   "metadata": {},
   "outputs": [],
   "source": [
    "# Copyright 2025 Google LLC\n",
    "#\n",
    "# Licensed under the Apache License, Version 2.0 (the \"License\");\n",
    "# you may not use this file except in compliance with the License.\n",
    "# You may obtain a copy of the License at\n",
    "#\n",
    "#     https://www.apache.org/licenses/LICENSE-2.0\n",
    "#\n",
    "# Unless required by applicable law or agreed to in writing, software\n",
    "# distributed under the License is distributed on an \"AS IS\" BASIS,\n",
    "# WITHOUT WARRANTIES OR CONDITIONS OF ANY KIND, either express or implied.\n",
    "# See the License for the specific language governing permissions and\n",
    "# limitations under the License."
   ]
  },
  {
   "cell_type": "markdown",
   "id": "acca43ae",
   "metadata": {},
   "source": [
    "# Demo to Show Anywidget mode"
   ]
  },
  {
   "cell_type": "code",
   "execution_count": 2,
   "id": "ca22f059",
   "metadata": {},
   "outputs": [],
   "source": [
    "import bigframes.pandas as bpd"
   ]
  },
  {
   "cell_type": "markdown",
   "id": "04406a4d",
   "metadata": {},
   "source": [
    "Set the display option to use anywidget"
   ]
  },
  {
   "cell_type": "code",
   "execution_count": 3,
   "id": "1bc5aaf3",
   "metadata": {},
   "outputs": [],
   "source": [
    "bpd.options.display.repr_mode = \"anywidget\""
   ]
  },
  {
   "cell_type": "markdown",
   "id": "0a354c69",
   "metadata": {},
   "source": [
    "Load Sample Data"
   ]
  },
  {
   "cell_type": "code",
   "execution_count": 4,
   "id": "f289d250",
   "metadata": {},
   "outputs": [
    {
     "data": {
      "text/html": [
       "Query job 0b22b0f5-b952-4546-a969-41a89e343e9b is DONE. 0 Bytes processed. <a target=\"_blank\" href=\"https://console.cloud.google.com/bigquery?project=bigframes-dev&j=bq:US:0b22b0f5-b952-4546-a969-41a89e343e9b&page=queryresults\">Open Job</a>"
      ],
      "text/plain": [
       "<IPython.core.display.HTML object>"
      ]
     },
     "metadata": {},
     "output_type": "display_data"
    },
    {
     "name": "stdout",
     "output_type": "stream",
     "text": [
      "Computation deferred. Computation will process 171.4 MB\n"
     ]
    }
   ],
   "source": [
    "df = bpd.read_gbq(\"bigquery-public-data.usa_names.usa_1910_2013\")\n",
    "print(df)"
   ]
  },
  {
   "cell_type": "markdown",
   "id": "3a73e472",
   "metadata": {},
   "source": [
    "Display Series in anywidget mode"
   ]
  },
  {
   "cell_type": "code",
   "execution_count": 5,
   "id": "42bb02ab",
   "metadata": {},
   "outputs": [
    {
     "name": "stdout",
     "output_type": "stream",
     "text": [
      "Computation deferred. Computation will process 171.4 MB\n"
     ]
    }
   ],
   "source": [
    "test_series = df[\"year\"]\n",
    "print(test_series)"
   ]
  },
  {
   "cell_type": "markdown",
   "id": "7bcf1bb7",
   "metadata": {},
   "source": [
    "Display with Pagination"
   ]
  },
  {
   "cell_type": "code",
   "execution_count": 6,
   "id": "ce250157",
   "metadata": {},
   "outputs": [
    {
     "data": {
      "text/html": [
       "Query job 8e57da45-b6a7-44fb-8c4f-4b87058d94cb is DONE. 171.4 MB processed. <a target=\"_blank\" href=\"https://console.cloud.google.com/bigquery?project=bigframes-dev&j=bq:US:8e57da45-b6a7-44fb-8c4f-4b87058d94cb&page=queryresults\">Open Job</a>"
      ],
      "text/plain": [
       "<IPython.core.display.HTML object>"
      ]
     },
     "metadata": {},
     "output_type": "display_data"
    },
    {
     "data": {
      "application/vnd.jupyter.widget-view+json": {
       "model_id": "4d00aaf284984cbc97483c651b9c5110",
       "version_major": 2,
       "version_minor": 1
      },
      "text/plain": [
       "TableWidget(row_count=5552452, table_html='<table border=\"1\" class=\"dataframe table table-striped table-hover\"…"
      ]
     },
     "metadata": {},
     "output_type": "display_data"
    },
    {
     "data": {
      "text/html": [],
      "text/plain": [
       "Computation deferred. Computation will process 171.4 MB"
      ]
     },
     "execution_count": 6,
     "metadata": {},
     "output_type": "execute_result"
    }
   ],
   "source": [
    "df"
   ]
  },
  {
   "cell_type": "markdown",
   "id": "bb15bab6",
   "metadata": {},
   "source": [
    "Progarmmatic Navigation Demo"
   ]
  },
  {
   "cell_type": "code",
   "execution_count": 7,
   "id": "6920d49b",
   "metadata": {},
   "outputs": [
    {
     "name": "stdout",
     "output_type": "stream",
     "text": [
      "Total pages: 222099\n"
     ]
    },
    {
     "data": {
      "application/vnd.jupyter.widget-view+json": {
       "model_id": "d4af4cf7d24d4f1c8e9c9b5f237df32b",
       "version_major": 2,
       "version_minor": 1
      },
      "text/plain": [
       "TableWidget(row_count=5552452, table_html='<table border=\"1\" class=\"dataframe table table-striped table-hover\"…"
      ]
     },
     "execution_count": 7,
     "metadata": {},
     "output_type": "execute_result"
    }
   ],
   "source": [
    "from bigframes.display.anywidget import TableWidget\n",
    "import math\n",
    "  \n",
    "# Create widget programmatically  \n",
    "widget = TableWidget(df)\n",
    "print(f\"Total pages: {math.ceil(widget.row_count / widget.page_size)}\")\n",
    "  \n",
    "# Display the widget\n",
    "widget"
   ]
  },
  {
   "cell_type": "markdown",
   "id": "02cbd1be",
   "metadata": {},
   "source": [
    "Test Navigation Programmatically"
   ]
  },
  {
   "cell_type": "code",
   "execution_count": 8,
   "id": "12b68f15",
   "metadata": {},
   "outputs": [
    {
     "name": "stdout",
     "output_type": "stream",
     "text": [
      "Current page: 0\n",
      "After next: 1\n",
      "After prev: 0\n"
     ]
    }
   ],
   "source": [
    "# Simulate button clicks programmatically\n",
    "print(\"Current page:\", widget.page)\n",
    "\n",
    "# Go to next page\n",
    "widget.page = 1\n",
    "print(\"After next:\", widget.page)\n",
    "\n",
    "# Go to previous page\n",
    "widget.page = 0\n",
    "print(\"After prev:\", widget.page)"
   ]
  },
  {
   "cell_type": "markdown",
   "id": "9d310138",
   "metadata": {},
   "source": [
    "Edge Case Demonstration"
   ]
  },
  {
   "cell_type": "code",
   "execution_count": 9,
   "id": "a9d5d13a",
   "metadata": {},
   "outputs": [
    {
     "name": "stdout",
     "output_type": "stream",
     "text": [
      "Small dataset pages: 1\n"
     ]
    },
    {
     "data": {
      "application/vnd.jupyter.widget-view+json": {
       "model_id": "0f04ad3c464145ee9735eba09f5107a9",
       "version_major": 2,
       "version_minor": 1
      },
      "text/plain": [
       "TableWidget(row_count=5, table_html='<table border=\"1\" class=\"dataframe table table-striped table-hover\" id=\"t…"
      ]
     },
     "execution_count": 9,
     "metadata": {},
     "output_type": "execute_result"
    }
   ],
   "source": [
    "# Test with very small dataset\n",
    "small_df = df.head(5)\n",
    "small_widget = TableWidget(small_df)\n",
    "print(f\"Small dataset pages: {math.ceil(small_widget.row_count / small_widget.page_size)}\")\n",
    "small_widget"
   ]
  }
 ],
 "metadata": {
  "kernelspec": {
   "display_name": "venv",
   "language": "python",
   "name": "python3"
  },
  "language_info": {
   "codemirror_mode": {
    "name": "ipython",
    "version": 3
   },
   "file_extension": ".py",
   "mimetype": "text/x-python",
   "name": "python",
   "nbconvert_exporter": "python",
   "pygments_lexer": "ipython3",
   "version": "3.10.15"
  }
 },
 "nbformat": 4,
 "nbformat_minor": 5
}
