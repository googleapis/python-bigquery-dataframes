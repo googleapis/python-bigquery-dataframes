{
 "cells": [
  {
   "cell_type": "code",
   "execution_count": null,
   "id": "d10bfca4",
   "metadata": {},
   "outputs": [],
   "source": [
    "# Copyright 2025 Google LLC\n",
    "#\n",
    "# Licensed under the Apache License, Version 2.0 (the \"License\");\n",
    "# you may not use this file except in compliance with the License.\n",
    "# You may obtain a copy of the License at\n",
    "#\n",
    "#     https://www.apache.org/licenses/LICENSE-2.0\n",
    "#\n",
    "# Unless required by applicable law or agreed to in writing, software\n",
    "# distributed under the License is distributed on an \"AS IS\" BASIS,\n",
    "# WITHOUT WARRANTIES OR CONDITIONS OF ANY KIND, either express or implied.\n",
    "# See the License for the specific language governing permissions and\n",
    "# limitations under the License."
   ]
  },
  {
   "cell_type": "markdown",
   "id": "acca43ae",
   "metadata": {},
   "source": [
    "# Demo to Show Anywidget mode"
   ]
  },
  {
   "cell_type": "code",
   "execution_count": null,
   "id": "ca22f059",
   "metadata": {},
   "outputs": [],
   "source": [
    "import bigframes.pandas as bpd"
   ]
  },
  {
   "cell_type": "markdown",
   "id": "04406a4d",
   "metadata": {},
   "source": [
    "Set the display option to use anywidget"
   ]
  },
  {
   "cell_type": "code",
   "execution_count": 2,
   "id": "1bc5aaf3",
   "metadata": {},
   "outputs": [],
   "source": [
    "bpd.options.display.repr_mode = \"anywidget\""
   ]
  },
  {
   "cell_type": "markdown",
   "id": "3a23f373",
   "metadata": {},
   "source": [
    "Create a BigQuery DataFrame"
   ]
  },
  {
   "cell_type": "code",
   "execution_count": 3,
   "id": "f289d250",
   "metadata": {},
   "outputs": [
    {
     "data": {
      "text/html": [
       "Query job 3e6f7948-d342-4e88-aa85-3fd11aa3ae0b is DONE. 0 Bytes processed. <a target=\"_blank\" href=\"https://console.cloud.google.com/bigquery?project=bigframes-dev&j=bq:US:3e6f7948-d342-4e88-aa85-3fd11aa3ae0b&page=queryresults\">Open Job</a>"
      ],
      "text/plain": [
       "<IPython.core.display.HTML object>"
      ]
     },
     "metadata": {},
     "output_type": "display_data"
    }
   ],
   "source": [
    "df = bpd.read_gbq(\"bigquery-public-data.usa_names.usa_1910_2013\")"
   ]
  },
  {
   "cell_type": "markdown",
   "id": "0a354c69",
   "metadata": {},
   "source": [
    "Display the dataframe in anywidget mode"
   ]
  },
  {
   "cell_type": "code",
   "execution_count": 4,
   "id": "8c7d4881",
   "metadata": {},
   "outputs": [
    {
     "name": "stderr",
     "output_type": "stream",
     "text": [
      "/usr/local/google/home/shuowei/src/python-bigquery-dataframes/venv/lib/python3.10/site-packages/IPython/core/formatters.py:429: FormatterWarning: text/html formatter returned invalid type <class 'anywidget.widget.AnyWidget'> (expected <class 'str'>) for object:    state gender  year       name  number\n",
      "0     VA      M  1930        Pat       6\n",
      "1     NY      M  1993       Yves       5\n",
      "2     LA      F  1993     Keosha       9\n",
      "3     TX      M  1911     Willie     167\n",
      "4     LA      F  1993       Jill       9\n",
      "5     MO      F  1980    Kendall       6\n",
      "6     VA      F  1997      Chloe      48\n",
      "7     MS      M  2002     Robert     170\n",
      "8     CT      F  1952      Agnes       9\n",
      "9     TN      F  2005     Lainey      13\n",
      "10    TN      F  1999     Melina       7\n",
      "11    MI      F  2012     Tianna       6\n",
      "12    PA      F  1943      Velma      28\n",
      "13    MO      M  1933      Jesse      68\n",
      "14    CO      M  2007    Bennett      20\n",
      "15    SC      F  1917     Cecile      10\n",
      "16    WA      M  1987     Adrian      52\n",
      "17    MN      M  1940       Arlo       7\n",
      "18    AR      M  1960       Pete       5\n",
      "19    OR      F  1998    Abigail     130\n",
      "20    MI      M  1959    Darrell     164\n",
      "21    FL      F  2013  Gabrielle     144\n",
      "22    NC      F  1984      Celia      11\n",
      "23    FL      M  1988    Tavares      12\n",
      "24    TX      M  1968    Kennith      18\n",
      "  warnings.warn(\n"
     ]
    },
    {
     "data": {
      "text/plain": [
       "   state gender  year       name  number\n",
       "0     VA      M  1930        Pat       6\n",
       "1     NY      M  1993       Yves       5\n",
       "2     LA      F  1993     Keosha       9\n",
       "3     TX      M  1911     Willie     167\n",
       "4     LA      F  1993       Jill       9\n",
       "5     MO      F  1980    Kendall       6\n",
       "6     VA      F  1997      Chloe      48\n",
       "7     MS      M  2002     Robert     170\n",
       "8     CT      F  1952      Agnes       9\n",
       "9     TN      F  2005     Lainey      13\n",
       "10    TN      F  1999     Melina       7\n",
       "11    MI      F  2012     Tianna       6\n",
       "12    PA      F  1943      Velma      28\n",
       "13    MO      M  1933      Jesse      68\n",
       "14    CO      M  2007    Bennett      20\n",
       "15    SC      F  1917     Cecile      10\n",
       "16    WA      M  1987     Adrian      52\n",
       "17    MN      M  1940       Arlo       7\n",
       "18    AR      M  1960       Pete       5\n",
       "19    OR      F  1998    Abigail     130\n",
       "20    MI      M  1959    Darrell     164\n",
       "21    FL      F  2013  Gabrielle     144\n",
       "22    NC      F  1984      Celia      11\n",
       "23    FL      M  1988    Tavares      12\n",
       "24    TX      M  1968    Kennith      18"
      ]
     },
     "execution_count": 4,
     "metadata": {},
     "output_type": "execute_result"
    }
   ],
   "source": [
    "df"
   ]
  },
  {
   "cell_type": "code",
   "execution_count": null,
   "id": "142a6b94",
   "metadata": {},
   "outputs": [],
   "source": []
  }
 ],
 "metadata": {
  "kernelspec": {
   "display_name": "venv",
   "language": "python",
   "name": "python3"
  },
  "language_info": {
   "codemirror_mode": {
    "name": "ipython",
    "version": 3
   },
   "file_extension": ".py",
   "mimetype": "text/x-python",
   "name": "python",
   "nbconvert_exporter": "python",
   "pygments_lexer": "ipython3",
   "version": "3.10.15"
  }
 },
 "nbformat": 4,
 "nbformat_minor": 5
}
