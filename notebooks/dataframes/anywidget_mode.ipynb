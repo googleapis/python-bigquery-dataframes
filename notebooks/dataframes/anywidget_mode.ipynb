{
 "cells": [
  {
   "cell_type": "code",
   "execution_count": 1,
   "id": "d10bfca4",
   "metadata": {},
   "outputs": [],
   "source": [
    "# Copyright 2025 Google LLC\n",
    "#\n",
    "# Licensed under the Apache License, Version 2.0 (the \"License\");\n",
    "# you may not use this file except in compliance with the License.\n",
    "# You may obtain a copy of the License at\n",
    "#\n",
    "#     https://www.apache.org/licenses/LICENSE-2.0\n",
    "#\n",
    "# Unless required by applicable law or agreed to in writing, software\n",
    "# distributed under the License is distributed on an \"AS IS\" BASIS,\n",
    "# WITHOUT WARRANTIES OR CONDITIONS OF ANY KIND, either express or implied.\n",
    "# See the License for the specific language governing permissions and\n",
    "# limitations under the License."
   ]
  },
  {
   "cell_type": "markdown",
   "id": "acca43ae",
   "metadata": {},
   "source": [
    "# Demo to Show Anywidget mode"
   ]
  },
  {
   "cell_type": "code",
   "execution_count": 2,
   "id": "ca22f059",
   "metadata": {},
   "outputs": [
    {
     "name": "stderr",
     "output_type": "stream",
     "text": [
      "/usr/local/google/home/shuowei/src/python-bigquery-dataframes/venv/lib/python3.10/site-packages/google/api_core/_python_version_support.py:266: FutureWarning: You are using a Python version (3.10.15) which Google will stop supporting in new releases of google.api_core once it reaches its end of life (2026-10-04). Please upgrade to the latest Python version, or at least Python 3.11, to continue receiving updates for google.api_core past that date.\n",
      "  warnings.warn(message, FutureWarning)\n"
     ]
    }
   ],
   "source": [
    "import bigframes.pandas as bpd"
   ]
  },
  {
   "cell_type": "markdown",
   "id": "04406a4d",
   "metadata": {},
   "source": [
    "Set the display option to use anywidget"
   ]
  },
  {
   "cell_type": "code",
   "execution_count": 3,
   "id": "1bc5aaf3",
   "metadata": {},
   "outputs": [],
   "source": [
    "bpd.options.bigquery.ordering_mode = \"partial\"\n",
    "bpd.options.display.repr_mode = \"anywidget\""
   ]
  },
  {
   "cell_type": "markdown",
   "id": "0a354c69",
   "metadata": {},
   "source": [
    "Load Sample Data"
   ]
  },
  {
   "cell_type": "code",
   "execution_count": 4,
   "id": "f289d250",
   "metadata": {},
   "outputs": [
    {
     "name": "stdout",
     "output_type": "stream",
     "text": [
      "Computation deferred. Computation will process 171.4 MB\n"
     ]
    }
   ],
   "source": [
    "df = bpd.read_gbq(\"bigquery-public-data.usa_names.usa_1910_2013\")\n",
    "print(df)"
   ]
  },
  {
   "cell_type": "markdown",
   "id": "3a73e472",
   "metadata": {},
   "source": [
    "Display Series in anywidget mode"
   ]
  },
  {
   "cell_type": "code",
   "execution_count": 5,
   "id": "42bb02ab",
   "metadata": {},
   "outputs": [
    {
     "name": "stdout",
     "output_type": "stream",
     "text": [
      "Computation deferred. Computation will process 44.4 MB\n"
     ]
    }
   ],
   "source": [
    "test_series = df[\"year\"]\n",
    "print(test_series)"
   ]
  },
  {
   "cell_type": "markdown",
   "id": "7bcf1bb7",
   "metadata": {},
   "source": [
    "Display with Pagination"
   ]
  },
  {
   "cell_type": "code",
   "execution_count": 6,
   "id": "ce250157",
   "metadata": {},
   "outputs": [
    {
     "data": {
      "text/html": [
       "✅ Completed. "
      ],
      "text/plain": [
       "<IPython.core.display.HTML object>"
      ]
     },
     "metadata": {},
     "output_type": "display_data"
    },
    {
     "data": {
      "application/vnd.jupyter.widget-view+json": {
       "model_id": "93dd10072d564a02a0278817d14855a9",
       "version_major": 2,
       "version_minor": 1
      },
      "text/plain": [
       "TableWidget(page_size=10, row_count=5552452, table_html='<table border=\"1\" class=\"dataframe table table-stripe…"
      ]
     },
     "metadata": {},
     "output_type": "display_data"
    },
    {
     "data": {
      "text/html": [],
      "text/plain": [
       "Computation deferred. Computation will process 171.4 MB"
      ]
     },
     "execution_count": 6,
     "metadata": {},
     "output_type": "execute_result"
    }
   ],
   "source": [
    "df"
   ]
  },
  {
   "cell_type": "markdown",
   "id": "bb15bab6",
   "metadata": {},
   "source": [
    "Programmatic Navigation Demo"
   ]
  },
  {
   "cell_type": "code",
   "execution_count": 7,
   "id": "6920d49b",
   "metadata": {},
   "outputs": [
    {
     "data": {
      "text/html": [
       "✅ Completed. "
      ],
      "text/plain": [
       "<IPython.core.display.HTML object>"
      ]
     },
     "metadata": {},
     "output_type": "display_data"
    },
    {
     "name": "stdout",
     "output_type": "stream",
     "text": [
      "Total pages: 555246\n"
     ]
    },
    {
     "data": {
      "application/vnd.jupyter.widget-view+json": {
       "model_id": "6e2538d446e344ac8505e4706730243e",
       "version_major": 2,
       "version_minor": 1
      },
      "text/plain": [
       "TableWidget(page_size=10, row_count=5552452, table_html='<table border=\"1\" class=\"dataframe table table-stripe…"
      ]
     },
     "metadata": {},
     "output_type": "display_data"
    }
   ],
   "source": [
    "from bigframes.display.anywidget import TableWidget\n",
    "import math\n",
    "  \n",
    "# Create widget programmatically  \n",
    "widget = TableWidget(df)\n",
    "print(f\"Total pages: {math.ceil(widget.row_count / widget.page_size)}\")\n",
    "  \n",
    "# Display the widget\n",
    "widget"
   ]
  },
  {
   "cell_type": "markdown",
   "id": "02cbd1be",
   "metadata": {},
   "source": [
    "Test Navigation Programmatically"
   ]
  },
  {
   "cell_type": "code",
   "execution_count": 8,
   "id": "12b68f15",
   "metadata": {},
   "outputs": [
    {
     "name": "stdout",
     "output_type": "stream",
     "text": [
      "Current page: 0\n",
      "After next: 1\n",
      "After prev: 0\n"
     ]
    }
   ],
   "source": [
    "# Simulate button clicks programmatically\n",
    "print(\"Current page:\", widget.page)\n",
    "\n",
    "# Go to next page\n",
    "widget.page = 1\n",
    "print(\"After next:\", widget.page)\n",
    "\n",
    "# Go to previous page\n",
    "widget.page = 0\n",
    "print(\"After prev:\", widget.page)"
   ]
  },
  {
   "cell_type": "markdown",
   "id": "9d310138",
   "metadata": {},
   "source": [
    "Edge Case Demonstration"
   ]
  },
  {
   "cell_type": "code",
   "execution_count": 9,
   "id": "a9d5d13a",
   "metadata": {},
   "outputs": [
    {
     "data": {
      "text/html": [
       "✅ Completed. \n",
       "    Query processed 171.4 MB in a moment of slot time.\n",
       "    "
      ],
      "text/plain": [
       "<IPython.core.display.HTML object>"
      ]
     },
     "metadata": {},
     "output_type": "display_data"
    },
    {
     "name": "stdout",
     "output_type": "stream",
     "text": [
      "Small dataset pages: 1\n"
     ]
    },
    {
     "data": {
      "application/vnd.jupyter.widget-view+json": {
       "model_id": "d6faf367ea5d44ad9d275506d870557a",
       "version_major": 2,
       "version_minor": 1
      },
      "text/plain": [
       "TableWidget(page_size=10, row_count=5, table_html='<table border=\"1\" class=\"dataframe table table-striped tabl…"
      ]
     },
     "metadata": {},
     "output_type": "display_data"
    }
   ],
   "source": [
    "# Test with very small dataset\n",
    "small_df = df.sort_values([\"name\", \"year\", \"state\"]).head(5)\n",
    "small_widget = TableWidget(small_df)\n",
    "print(f\"Small dataset pages: {math.ceil(small_widget.row_count / small_widget.page_size)}\")\n",
    "small_widget"
   ]
  },
  {
   "cell_type": "markdown",
   "id": "added-cell-2",
   "metadata": {},
   "source": [
    "### Displaying Generative AI results containing JSON\n",
    "The `AI.GENERATE` function in BigQuery returns results in a JSON column. While BigQuery's JSON type is not natively supported by the underlying Arrow `to_pandas_batches()` method used in anywidget mode ([Apache Arrow issue #45262](https://github.com/apache/arrow/issues/45262)), BigQuery Dataframes automatically converts JSON columns to strings for display. This allows you to view the results of generative AI functions seamlessly."
   ]
  },
  {
   "cell_type": "code",
   "execution_count": 10,
   "id": "added-cell-1",
   "metadata": {},
   "outputs": [
    {
     "data": {
      "text/html": [
       "✅ Completed. \n",
       "    Query processed 85.9 kB in 24 seconds of slot time.\n",
       "    "
      ],
      "text/plain": [
       "<IPython.core.display.HTML object>"
      ]
     },
     "metadata": {},
     "output_type": "display_data"
    },
    {
     "name": "stderr",
     "output_type": "stream",
     "text": [
      "/usr/local/google/home/shuowei/src/github.com/googleapis/python-bigquery-dataframes/bigframes/dtypes.py:969: JSONDtypeWarning: JSON columns will be represented as pandas.ArrowDtype(pyarrow.json_())\n",
      "instead of using `db_dtypes` in the future when available in pandas\n",
      "(https://github.com/pandas-dev/pandas/issues/60958) and pyarrow.\n",
      "  warnings.warn(msg, bigframes.exceptions.JSONDtypeWarning)\n",
      "/usr/local/google/home/shuowei/src/github.com/googleapis/python-bigquery-dataframes/bigframes/dataframe.py:867: UserWarning: Converting JSON columns to strings for display. This is temporary and will be removed when the frontend supports JSON types.\n",
      "  warnings.warn(\n"
     ]
    },
    {
     "data": {
      "text/html": [
       "✅ Completed. \n",
       "    Query processed 0 Bytes in a moment of slot time.\n",
       "    "
      ],
      "text/plain": [
       "<IPython.core.display.HTML object>"
      ]
     },
     "metadata": {},
     "output_type": "display_data"
    },
    {
     "data": {
      "application/vnd.jupyter.widget-view+json": {
       "model_id": "b6d6f3bacc2c43fc9a335e6039db12a5",
       "version_major": 2,
       "version_minor": 0
      },
      "text/plain": [
       "TableWidget(page_size=10, row_count=5, table_html='<table border=\"1\" class=\"dataframe table table-striped tabl…"
      ]
     },
     "metadata": {},
     "output_type": "display_data"
    },
    {
     "data": {
      "text/html": [],
      "text/plain": [
       "Computation deferred. Computation will process 0 Bytes"
      ]
     },
     "execution_count": 10,
     "metadata": {},
     "output_type": "execute_result"
    }
   ],
   "source": [
    "bpd._read_gbq_colab(\"\"\"\n",
    "  SELECT\n",
    "    AI.GENERATE(\n",
    "      prompt=>(\\\"Extract the values.\\\", OBJ.GET_ACCESS_URL(OBJ.FETCH_METADATA(OBJ.MAKE_REF(gcs_path, \\\"us.conn\\\")), \\\"r\\\")),\n",
    "      connection_id=>\\\"bigframes-dev.us.bigframes-default-connection\\\",\n",
    "      output_schema=>\\\"publication_date string, class_international string, application_number string, filing_date string\\\") AS result,\n",
    "    *\n",
    "  FROM `bigquery-public-data.labeled_patents.extracted_data`\n",
    "  LIMIT 5;\n",
    "\"\"\")"
   ]
  }
 ],
 "metadata": {
  "kernelspec": {
   "display_name": "3.10.18",
   "language": "python",
   "name": "python3"
  },
  "language_info": {
   "codemirror_mode": {
    "name": "ipython",
    "version": 3
   },
   "file_extension": ".py",
   "mimetype": "text/x-python",
   "name": "python",
   "nbconvert_exporter": "python",
   "pygments_lexer": "ipython3",
   "version": "3.10.18"
  }
 },
 "nbformat": 4,
 "nbformat_minor": 5
}
