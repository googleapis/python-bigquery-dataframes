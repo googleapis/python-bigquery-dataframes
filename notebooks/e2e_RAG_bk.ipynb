{
 "cells": [
  {
   "cell_type": "code",
   "execution_count": 1,
   "metadata": {},
   "outputs": [],
   "source": [
    "# Copyright 2025 Google LLC\n",
    "#\n",
    "# Licensed under the Apache License, Version 2.0 (the \"License\");\n",
    "# you may not use this file except in compliance with the License.\n",
    "# You may obtain a copy of the License at\n",
    "#\n",
    "#     https://www.apache.org/licenses/LICENSE-2.0\n",
    "#\n",
    "# Unless required by applicable law or agreed to in writing, software\n",
    "# distributed under the License is distributed on an \"AS IS\" BASIS,\n",
    "# WITHOUT WARRANTIES OR CONDITIONS OF ANY KIND, either express or implied.\n",
    "# See the License for the specific language governing permissions and\n",
    "# limitations under the License."
   ]
  },
  {
   "cell_type": "markdown",
   "metadata": {},
   "source": [
    "Get hands-on experience with Gemini-powered AI operator APIs in this notebook. We'll start with clear examples of API syntax, ensuring you understand how to use these operators. Then, we'll dive into a real-world application, showcasing their performance on a large dataset and providing key statistics. "
   ]
  },
  {
   "cell_type": "markdown",
   "metadata": {},
   "source": [
    "# Preparation"
   ]
  },
  {
   "cell_type": "markdown",
   "metadata": {},
   "source": [
    "First, import the BigFrames modules."
   ]
  },
  {
   "cell_type": "code",
   "execution_count": 2,
   "metadata": {},
   "outputs": [],
   "source": [
    "import bigframes\n",
    "import bigframes.pandas as bpd"
   ]
  },
  {
   "cell_type": "markdown",
   "metadata": {},
   "source": [
    "Make sure the BigFrames version is at least `1.36.0`"
   ]
  },
  {
   "cell_type": "code",
   "execution_count": 3,
   "metadata": {},
   "outputs": [],
   "source": [
    "from packaging.version import Version\n",
    "\n",
    "assert Version(bigframes.__version__) >= Version(\"1.36.0\")"
   ]
  },
  {
   "cell_type": "markdown",
   "metadata": {},
   "source": [
    "Connect to test environmet"
   ]
  },
  {
   "cell_type": "code",
   "execution_count": 4,
   "metadata": {},
   "outputs": [
    {
     "name": "stderr",
     "output_type": "stream",
     "text": [
      "/usr/local/google/home/shuowei/src/python-bigquery-dataframes/bigframes/_config/experiment_options.py:55: PreviewWarning: \u001b[93mBigFrames Blob is still under experiments. It may not work and subject\n",
      "to change in the future.\u001b[0m\n",
      "  warnings.warn(msg, category=bfe.PreviewWarning)\n",
      "/usr/local/google/home/shuowei/src/python-bigquery-dataframes/bigframes/_config/bigquery_options.py:364: UserWarning: \u001b[93mThis is an advanced configuration option for directly setting\n",
      "endpoints. Incorrect use may lead to unexpected behavior or system\n",
      "instability. Proceed only if you fully understand its implications.\u001b[0m\n",
      "  warnings.warn(msg)\n"
     ]
    }
   ],
   "source": [
    "bigframes.options.experiments.blob = True\n",
    "bigframes.options._bigquery_options.client_endpoints_override = {\"bqclient\": \"https://test-bigquery.sandbox.google.com\", \n",
    "                                                           \"bqconnectionclient\": \"test-bigqueryconnection.sandbox.googleapis.com\", \n",
    "                                                           \"bqstoragereadclient\": \"test-bigquerystorage-grpc.sandbox.googleapis.com\"}"
   ]
  },
  {
   "cell_type": "markdown",
   "metadata": {},
   "source": [
    "# PDF chunk"
   ]
  },
  {
   "cell_type": "markdown",
   "metadata": {},
   "source": [
    "Retrieval of PDF URLs"
   ]
  },
  {
   "cell_type": "code",
   "execution_count": 5,
   "metadata": {},
   "outputs": [
    {
     "name": "stderr",
     "output_type": "stream",
     "text": [
      "/usr/local/google/home/shuowei/src/python-bigquery-dataframes/bigframes/core/global_session.py:114: DefaultLocationWarning: \u001b[93mNo explicit location is set, so using location US for the session.\u001b[0m\n",
      "  return func(get_global_session(), *args, **kwargs)\n"
     ]
    },
    {
     "data": {
      "text/html": [
       "Query job b261812f-a98e-4453-9a23-7f5c8ab7811b is DONE. 0 Bytes processed. <a target=\"_blank\" href=\"https://console.cloud.google.com/bigquery?project=bigframes-dev&j=bq:US:b261812f-a98e-4453-9a23-7f5c8ab7811b&page=queryresults\">Open Job</a>"
      ],
      "text/plain": [
       "<IPython.core.display.HTML object>"
      ]
     },
     "metadata": {},
     "output_type": "display_data"
    },
    {
     "data": {
      "text/html": [
       "Query job 370a4f1e-3b2c-405d-86f6-92167f03d464 is DONE. 0 Bytes processed. <a target=\"_blank\" href=\"https://console.cloud.google.com/bigquery?project=bigframes-dev&j=bq:US:370a4f1e-3b2c-405d-86f6-92167f03d464&page=queryresults\">Open Job</a>"
      ],
      "text/plain": [
       "<IPython.core.display.HTML object>"
      ]
     },
     "metadata": {},
     "output_type": "display_data"
    }
   ],
   "source": [
    "chunks_df = bpd.from_glob_path(\"gs://shuowei_bucket/pdf/*\")\n",
    "chunks_df.columns = [\"uri\"]"
   ]
  },
  {
   "cell_type": "code",
   "execution_count": 6,
   "metadata": {},
   "outputs": [],
   "source": [
    "#chunks_df = chunks_df.head(50)"
   ]
  },
  {
   "cell_type": "code",
   "execution_count": 7,
   "metadata": {},
   "outputs": [],
   "source": [
    "# copy twice for testing\n",
    "#copies = [chunks_df] * 10000\n",
    "#chunks_df = bpd.concat(copies, ignore_index=True)"
   ]
  },
  {
   "cell_type": "markdown",
   "metadata": {},
   "source": [
    "Text extraction, and chunking"
   ]
  },
  {
   "cell_type": "code",
   "execution_count": 8,
   "metadata": {},
   "outputs": [
    {
     "data": {
      "text/html": [
       "Query job 3f5faa00-8366-4bfc-87f5-1dbe18e355fb is DONE. 0 Bytes processed. <a target=\"_blank\" href=\"https://console.cloud.google.com/bigquery?project=bigframes-dev&j=bq:US:3f5faa00-8366-4bfc-87f5-1dbe18e355fb&page=queryresults\">Open Job</a>"
      ],
      "text/plain": [
       "<IPython.core.display.HTML object>"
      ]
     },
     "metadata": {},
     "output_type": "display_data"
    },
    {
     "name": "stderr",
     "output_type": "stream",
     "text": [
      "/usr/local/google/home/shuowei/src/python-bigquery-dataframes/bigframes/dataframe.py:4117: PreviewWarning: \u001b[93maxis=1 scenario is in preview.\u001b[0m\n",
      "  warnings.warn(msg, category=bfe.PreviewWarning)\n"
     ]
    }
   ],
   "source": [
    "bq_connection = \"bigframes-dev.us.bigframes-default-connection\"\n",
    "chunks_df[\"chunk_text\"] = chunks_df[\"uri\"].blob.pdf_chunk(connection=bq_connection, chunk_size=2000, overlap_size=200)"
   ]
  },
  {
   "cell_type": "markdown",
   "metadata": {},
   "source": [
    "Explode column for future processing."
   ]
  },
  {
   "cell_type": "code",
   "execution_count": 9,
   "metadata": {},
   "outputs": [],
   "source": [
    "chunk_df_exploded = chunks_df[\"chunk_text\"].explode()"
   ]
  },
  {
   "cell_type": "code",
   "execution_count": 10,
   "metadata": {},
   "outputs": [
    {
     "data": {
      "text/html": [
       "Query job ee1ac492-65b8-4c1a-aac2-9abfadea3251 is DONE. 7.3 kB processed. <a target=\"_blank\" href=\"https://console.cloud.google.com/bigquery?project=bigframes-dev&j=bq:US:ee1ac492-65b8-4c1a-aac2-9abfadea3251&page=queryresults\">Open Job</a>"
      ],
      "text/plain": [
       "<IPython.core.display.HTML object>"
      ]
     },
     "metadata": {},
     "output_type": "display_data"
    },
    {
     "data": {
      "text/html": [
       "Query job 0bec4448-73ac-4478-88c2-eef74552fb3b is DONE. 8.6 MB processed. <a target=\"_blank\" href=\"https://console.cloud.google.com/bigquery?project=bigframes-dev&j=bq:US:0bec4448-73ac-4478-88c2-eef74552fb3b&page=queryresults\">Open Job</a>"
      ],
      "text/plain": [
       "<IPython.core.display.HTML object>"
      ]
     },
     "metadata": {},
     "output_type": "display_data"
    },
    {
     "data": {
      "text/html": [
       "Query job c3a4fd8f-d42f-4d54-93ae-3b6e40f0e9ad is DONE. 8.6 MB processed. <a target=\"_blank\" href=\"https://console.cloud.google.com/bigquery?project=bigframes-dev&j=bq:US:c3a4fd8f-d42f-4d54-93ae-3b6e40f0e9ad&page=queryresults\">Open Job</a>"
      ],
      "text/plain": [
       "<IPython.core.display.HTML object>"
      ]
     },
     "metadata": {},
     "output_type": "display_data"
    },
    {
     "data": {
      "text/plain": [
       "0    Hydra: Bidirectional State Space Models\n",
       "Throug...\n",
       "0    multiple domains, including language and visio...\n",
       "0    Mixing\n",
       "��ℳ��&\n",
       "Figure 1: (Left) A schematic of ...\n",
       "0    parameterizations underpin efficient sequence ...\n",
       "0    more\n",
       "coherent and theoretically grounded advan...\n",
       "0    important characteristics of downstream sequen...\n",
       "0    preprocessing function and the matrix construc...\n",
       "0    Sequence Aligned Matrices (SAM) to\n",
       "systematica...\n",
       "0    Toeplitz matrix mixer; GSS [26] adds a data-de...\n",
       "0    (FNet is a structured matrix mixer without seq...\n",
       "0    each generated fromQand K. Specifically, each\n",
       "...\n",
       "0    ��$\"��$:&×\"��&\"��$\"��$:'×\"��'\"\n",
       "��&\"��&:!×\"��!\"...\n",
       "0    represented within the matrix mixer framework,...\n",
       "0    defined\n",
       "as follows: a matrixM is N-quasisepara...\n",
       "0    This generosity in the rank-based definition s...\n",
       "0    consequence of the favorable mathematical prop...\n",
       "0    84.1 88.2 69.1 91.0 85.9 47.6 83.9 78.4\n",
       "Attent...\n",
       "0    analyzing the matrix mixer framework through e...\n",
       "0    rigorous and focused comparison between differ...\n",
       "0    Appendix D.1.\n",
       "Results. The results presented i...\n",
       "0    BERT – trained with the latest HuggingFace\n",
       "rec...\n",
       "0    from 0.3 to 0.5 as stronger\n",
       "regularization. We...\n",
       "0    Michael Poli, James Zou, Atri\n",
       "Rudra, and Chris...\n",
       "0    of\n",
       "deep bidirectional transformers for languag...\n",
       "0    vision and pattern recognition.\n",
       "2016, pp. 770–...\n",
       "Name: chunk_text, dtype: string"
      ]
     },
     "execution_count": 10,
     "metadata": {},
     "output_type": "execute_result"
    }
   ],
   "source": [
    "chunk_df_exploded.cache()"
   ]
  },
  {
   "cell_type": "markdown",
   "metadata": {},
   "source": [
    "# Generate Embeddings"
   ]
  },
  {
   "cell_type": "markdown",
   "metadata": {},
   "source": [
    "Generation of embeddings within BigFrames."
   ]
  },
  {
   "cell_type": "code",
   "execution_count": 11,
   "metadata": {},
   "outputs": [
    {
     "data": {
      "text/html": [
       "Query job b31a3f5e-943a-4c67-9c62-b8b058cced45 is DONE. 0 Bytes processed. <a target=\"_blank\" href=\"https://console.cloud.google.com/bigquery?project=bigframes-dev&j=bq:US:b31a3f5e-943a-4c67-9c62-b8b058cced45&page=queryresults\">Open Job</a>"
      ],
      "text/plain": [
       "<IPython.core.display.HTML object>"
      ]
     },
     "metadata": {},
     "output_type": "display_data"
    }
   ],
   "source": [
    "from bigframes.ml import llm\n",
    "\n",
    "text_embedding_model = llm.TextEmbeddingGenerator(model_name=\"text-embedding-005\")"
   ]
  },
  {
   "cell_type": "code",
   "execution_count": 12,
   "metadata": {},
   "outputs": [
    {
     "data": {
      "text/html": [
       "Query job e1aacf23-0af8-4a45-ba15-e3cfae45370b is DONE. 8.6 MB processed. <a target=\"_blank\" href=\"https://console.cloud.google.com/bigquery?project=bigframes-dev&j=bq:US:e1aacf23-0af8-4a45-ba15-e3cfae45370b&page=queryresults\">Open Job</a>"
      ],
      "text/plain": [
       "<IPython.core.display.HTML object>"
      ]
     },
     "metadata": {},
     "output_type": "display_data"
    },
    {
     "name": "stderr",
     "output_type": "stream",
     "text": [
      "/usr/local/google/home/shuowei/src/python-bigquery-dataframes/bigframes/core/array_value.py:114: PreviewWarning: \u001b[93mInterpreting JSON column(s) as the `db_dtypes.dbjson` extension type\n",
      "is in preview; this behavior may change in future versions.\u001b[0m\n",
      "  warnings.warn(msg, bfe.PreviewWarning)\n"
     ]
    },
    {
     "data": {
      "text/html": [
       "Query job d4f524a3-4005-401c-978d-76e6e6a9b496 is DONE. 8.5 kB processed. <a target=\"_blank\" href=\"https://console.cloud.google.com/bigquery?project=bigframes-dev&j=bq:US:d4f524a3-4005-401c-978d-76e6e6a9b496&page=queryresults\">Open Job</a>"
      ],
      "text/plain": [
       "<IPython.core.display.HTML object>"
      ]
     },
     "metadata": {},
     "output_type": "display_data"
    },
    {
     "data": {
      "text/html": [
       "Query job 5e88b6d3-f68c-4f31-84d9-6b0cbd6c5d47 is DONE. 8.5 kB processed. <a target=\"_blank\" href=\"https://console.cloud.google.com/bigquery?project=bigframes-dev&j=bq:US:5e88b6d3-f68c-4f31-84d9-6b0cbd6c5d47&page=queryresults\">Open Job</a>"
      ],
      "text/plain": [
       "<IPython.core.display.HTML object>"
      ]
     },
     "metadata": {},
     "output_type": "display_data"
    }
   ],
   "source": [
    "# generate embeddings\n",
    "embeddings_df = text_embedding_model.predict(chunk_df_exploded)"
   ]
  },
  {
   "cell_type": "markdown",
   "metadata": {},
   "source": [
    "Create Embedding table in Bigquery if not exist."
   ]
  },
  {
   "cell_type": "code",
   "execution_count": 13,
   "metadata": {},
   "outputs": [],
   "source": [
    "test_project_id = \"bigframes-dev\"\n",
    "test_dataset_id = \"shuowei_test_us\"\n",
    "test_table_id = \"pdf_chunk_embedding_v10\"\n",
    "embedding_table_id = f\"{test_project_id}.{test_dataset_id}.{test_table_id}\""
   ]
  },
  {
   "cell_type": "markdown",
   "metadata": {},
   "source": [
    "Save embedding into a BigQuery table for downstream processing.."
   ]
  },
  {
   "cell_type": "code",
   "execution_count": 14,
   "metadata": {},
   "outputs": [
    {
     "data": {
      "text/html": [
       "Query job 29727e93-2f99-4331-95c9-a6ab78fd06b6 is DONE. 34.8 MB processed. <a target=\"_blank\" href=\"https://console.cloud.google.com/bigquery?project=bigframes-dev&j=bq:US:29727e93-2f99-4331-95c9-a6ab78fd06b6&page=queryresults\">Open Job</a>"
      ],
      "text/plain": [
       "<IPython.core.display.HTML object>"
      ]
     },
     "metadata": {},
     "output_type": "display_data"
    },
    {
     "data": {
      "text/plain": [
       "'bigframes-dev.shuowei_test_us.pdf_chunk_embedding_v10'"
      ]
     },
     "execution_count": 14,
     "metadata": {},
     "output_type": "execute_result"
    }
   ],
   "source": [
    "\n",
    "embeddings_df.to_gbq(destination_table=embedding_table_id,if_exists=\"replace\")"
   ]
  },
  {
   "cell_type": "markdown",
   "metadata": {},
   "source": [
    "# Create vector search index"
   ]
  },
  {
   "cell_type": "markdown",
   "metadata": {},
   "source": [
    "Construction of an index over these embeddings"
   ]
  },
  {
   "cell_type": "code",
   "execution_count": 15,
   "metadata": {},
   "outputs": [
    {
     "ename": "NameError",
     "evalue": "name 'embedding_table_id_v11' is not defined",
     "output_type": "error",
     "traceback": [
      "\u001b[0;31m---------------------------------------------------------------------------\u001b[0m",
      "\u001b[0;31mNameError\u001b[0m                                 Traceback (most recent call last)",
      "Cell \u001b[0;32mIn[15], line 3\u001b[0m\n\u001b[1;32m      1\u001b[0m \u001b[38;5;28;01mimport\u001b[39;00m \u001b[38;5;21;01mbigframes\u001b[39;00m\u001b[38;5;21;01m.\u001b[39;00m\u001b[38;5;21;01mbigquery\u001b[39;00m \u001b[38;5;28;01mas\u001b[39;00m \u001b[38;5;21;01mbbq\u001b[39;00m\n\u001b[1;32m      2\u001b[0m bbq\u001b[38;5;241m.\u001b[39mcreate_vector_index(\n\u001b[0;32m----> 3\u001b[0m     table_id\u001b[38;5;241m=\u001b[39m\u001b[43membedding_table_id_v11\u001b[49m,\n\u001b[1;32m      4\u001b[0m     column_name\u001b[38;5;241m=\u001b[39m\u001b[38;5;124m\"\u001b[39m\u001b[38;5;124mml_generate_embedding_result\u001b[39m\u001b[38;5;124m\"\u001b[39m,\n\u001b[1;32m      5\u001b[0m     distance_type\u001b[38;5;241m=\u001b[39m\u001b[38;5;124m\"\u001b[39m\u001b[38;5;124mcosine\u001b[39m\u001b[38;5;124m\"\u001b[39m,\n\u001b[1;32m      6\u001b[0m     index_type\u001b[38;5;241m=\u001b[39m\u001b[38;5;124m\"\u001b[39m\u001b[38;5;124mivf\u001b[39m\u001b[38;5;124m\"\u001b[39m,\n\u001b[1;32m      7\u001b[0m     ivf_options\u001b[38;5;241m=\u001b[39m{\u001b[38;5;124m\"\u001b[39m\u001b[38;5;124mnum_lists\u001b[39m\u001b[38;5;124m\"\u001b[39m: \u001b[38;5;241m100\u001b[39m},\n\u001b[1;32m      8\u001b[0m )\n",
      "\u001b[0;31mNameError\u001b[0m: name 'embedding_table_id_v11' is not defined"
     ]
    }
   ],
   "source": [
    "import bigframes.bigquery as bbq\n",
    "bbq.create_vector_index(\n",
    "    table_id=embedding_table_id_v11,\n",
    "    column_name=\"ml_generate_embedding_result\",\n",
    "    distance_type=\"cosine\",\n",
    "    index_type=\"ivf\",\n",
    "    ivf_options={\"num_lists\": 100},\n",
    ")"
   ]
  },
  {
   "cell_type": "markdown",
   "metadata": {},
   "source": [
    "# Search with pointers to the original pdf"
   ]
  },
  {
   "cell_type": "markdown",
   "metadata": {},
   "source": [
    "Execution of semantic search, with results linked back to the original PDFs"
   ]
  },
  {
   "cell_type": "code",
   "execution_count": null,
   "metadata": {},
   "outputs": [],
   "source": [
    "# temp test code, reada from gbq\n",
    "embeddings_df = bpd.read_gbq(embedding_table_id)\n",
    "embedding_table_id_v11 = \"bigframes-dev.shuowei_test_us.pdf_chunk_embedding_v11\"\n",
    "# copy twice for testing\n",
    "copies = [embeddings_df] * 5\n",
    "embeddings_df= bpd.concat(copies, ignore_index=True)\n",
    "type(embeddings_df)\n",
    "embeddings_df.to_gbq(destination_table=embedding_table_id_v11, if_exists=\"replace\")"
   ]
  },
  {
   "cell_type": "code",
   "execution_count": null,
   "metadata": {},
   "outputs": [],
   "source": [
    "bigframes.options.experiments.semantic_operators = True\n",
    "\n",
    "embeddings_df.semantics.search(\n",
    "    \"ml_generate_embedding_result\", \n",
    "    \"reinforce\", \n",
    "    top_k=3, \n",
    "    model=text_embedding_model, \n",
    "    score_column=\"distance\")"
   ]
  },
  {
   "cell_type": "code",
   "execution_count": null,
   "metadata": {},
   "outputs": [],
   "source": [
    "# generate embedding for the word for searching\n",
    "searched_words = [\"reinforce\"]\n",
    "searched_words_embeddings = text_embedding_model.predict(searched_words)\n"
   ]
  },
  {
   "cell_type": "code",
   "execution_count": null,
   "metadata": {},
   "outputs": [],
   "source": [
    "\n",
    "search_query = bpd.DataFrame({\"query_id\": [\"dog\", \"cat\"], embedding=})\n",
    "result_df = bbq.vector_search(\n",
    "    base_table=\n",
    "    column_to_search=\n",
    "    query=search_query,\n",
    "    distance_type=\"cosine\",\n",
    "    top_k=5,\n",
    ")"
   ]
  }
 ],
 "metadata": {
  "kernelspec": {
   "display_name": "venv",
   "language": "python",
   "name": "python3"
  },
  "language_info": {
   "codemirror_mode": {
    "name": "ipython",
    "version": 3
   },
   "file_extension": ".py",
   "mimetype": "text/x-python",
   "name": "python",
   "nbconvert_exporter": "python",
   "pygments_lexer": "ipython3",
   "version": "3.10.15"
  }
 },
 "nbformat": 4,
 "nbformat_minor": 2
}
