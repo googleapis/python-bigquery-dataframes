{
 "cells": [
  {
   "cell_type": "code",
   "execution_count": null,
   "id": "acd53f9d",
   "metadata": {},
   "outputs": [],
   "source": [
    "# Copyright 2025 Google LLC\n",
    "#\n",
    "# Licensed under the Apache License, Version 2.0 (the \"License\");\n",
    "# you may not use this file except in compliance with the License.\n",
    "# You may obtain a copy of the License at\n",
    "#\n",
    "#     https://www.apache.org/licenses/LICENSE-2.0\n",
    "#\n",
    "# Unless required by applicable law or agreed to in writing, software\n",
    "# distributed under the License is distributed on an \"AS IS\" BASIS,\n",
    "# WITHOUT WARRANTIES OR CONDITIONS OF ANY KIND, either express or implied.\n",
    "# See the License for the specific language governing permissions and\n",
    "# limitations under the License."
   ]
  },
  {
   "cell_type": "markdown",
   "id": "e75ce682",
   "metadata": {},
   "source": [
    "# BigQuery DataFrames (BigFrames) AI Functions\n",
    "\n",
    "<table align=\"left\">\n",
    "\n",
    "  <td>\n",
    "    <a href=\"https://colab.research.google.com/github/googleapis/python-bigquery-dataframes/blob/main/notebooks/generative_ai/ai_functions.ipynb\">\n",
    "      <img src=\"https://raw.githubusercontent.com/googleapis/python-bigquery-dataframes/refs/heads/main/third_party/logo/colab-logo.png\" alt=\"Colab logo\"> Run in Colab\n",
    "    </a>\n",
    "  </td>\n",
    "  <td>\n",
    "    <a href=\"https://github.com/googleapis/python-bigquery-dataframes/blob/main/notebooks/generative_ai/ai_functions.ipynb\">\n",
    "      <img src=\"https://raw.githubusercontent.com/googleapis/python-bigquery-dataframes/refs/heads/main/third_party/logo/github-logo.png\" width=\"32\" alt=\"GitHub logo\">\n",
    "      View on GitHub\n",
    "    </a>\n",
    "  </td>\n",
    "  <td>\n",
    "    <a href=\"https://console.cloud.google.com/bigquery/import?url=https://github.com/googleapis/python-bigquery-dataframes/blob/main/notebooks/generative_ai/ai_functions.ipynb\">\n",
    "      <img src=\"https://encrypted-tbn0.gstatic.com/images?q=tbn:ANd9GcTW1gvOovVlbZAIZylUtf5Iu8-693qS1w5NJw&s\" alt=\"BQ logo\" width=\"35\">\n",
    "      Open in BQ Studio\n",
    "    </a>\n",
    "  </td>\n",
    "</table>"
   ]
  },
  {
   "cell_type": "markdown",
   "id": "aee05821",
   "metadata": {},
   "source": [
    "This notebooks provides examples on how to use BigFrames AI functions, which are offered under the `bigframes.bigquery` package. "
   ]
  },
  {
   "cell_type": "markdown",
   "id": "1232f400",
   "metadata": {},
   "source": [
    "## Preparation\n",
    "\n",
    "First, set up your BigFrames environment"
   ]
  },
  {
   "cell_type": "code",
   "execution_count": 3,
   "id": "c9f924aa",
   "metadata": {},
   "outputs": [],
   "source": [
    "import bigframes.pandas as bpd \n",
    "\n",
    "PROJECT_ID = \"bigframes-dev\" # Your project ID here\n",
    "\n",
    "bpd.options.bigquery.project = PROJECT_ID\n",
    "bpd.options.bigquery.ordering_mode = \"partial\"\n",
    "bpd.options.display.progress_bar = None"
   ]
  },
  {
   "cell_type": "markdown",
   "id": "e2188773",
   "metadata": {},
   "source": [
    "## ai.generate\n",
    "\n",
    "The `ai.generate` function lets you analyze any combination of text and unstructured data from BigQuery. You can mix BigFrames/Pandas series with string literals as your prompt in the form of a tuple. Here is an example:"
   ]
  },
  {
   "cell_type": "code",
   "execution_count": 5,
   "id": "471a47fe",
   "metadata": {},
   "outputs": [
    {
     "data": {
      "text/plain": [
       "0    {'result': 'Salad\\n', 'full_response': '{\"cand...\n",
       "1    {'result': 'Hotdog\\n', 'full_response': '{\"can...\n",
       "dtype: struct<result: string, full_response: extension<dbjson<JSONArrowType>>, status: string>[pyarrow]"
      ]
     },
     "execution_count": 5,
     "metadata": {},
     "output_type": "execute_result"
    }
   ],
   "source": [
    "import bigframes.bigquery as bbq\n",
    "\n",
    "ingredients1 = bpd.Series([\"Lettuce\", \"Sausage\"])\n",
    "ingredients2 = bpd.Series([\"Cucumber\", \"Long Bread\"])\n",
    "\n",
    "prompt = (\"What's the food made from \", ingredients1, \" and \", ingredients2, \" One word only\")\n",
    "bbq.ai.generate(prompt)"
   ]
  },
  {
   "cell_type": "markdown",
   "id": "03953835",
   "metadata": {},
   "source": [
    "The function returns a series of structs. The `'result'` field holds the answer, while more metadata can be found in the `'full_response'` field. The `'status'` field tells you whether LLM made a successful response for that specific row. "
   ]
  },
  {
   "cell_type": "markdown",
   "id": "b606c51f",
   "metadata": {},
   "source": [
    "You can also include additional model parameters into your function call, as long as they satisfy the structure of `generateContent` [request body format](https://cloud.google.com/vertex-ai/docs/reference/rest/v1/projects.locations.endpoints/generateContent#request-body)  For example:"
   ]
  },
  {
   "cell_type": "code",
   "execution_count": null,
   "id": "4a3229a8",
   "metadata": {},
   "outputs": [
    {
     "data": {
      "text/plain": [
       "1    The food made from sausage and long bread is m...\n",
       "0    Lettuce and cucumber are commonly used togethe...\n",
       "Name: result, dtype: string"
      ]
     },
     "execution_count": 7,
     "metadata": {},
     "output_type": "execute_result"
    }
   ],
   "source": [
    "model_params = {\n",
    "    \"generationConfig\": {\"maxOutputTokens\": 1}\n",
    "}\n",
    "\n",
    "ingredients1 = bpd.Series([\"Lettuce\", \"Sausage\"])\n",
    "ingredients2 = bpd.Series([\"Cucumber\", \"Long Bread\"])\n",
    "\n",
    "prompt = (\"What's the food made from \", ingredients1, \" and \", ingredients2)\n",
    "bbq.ai.generate(prompt).struct.field(\"result\")"
   ]
  }
 ],
 "metadata": {
  "kernelspec": {
   "display_name": "venv (3.10.17)",
   "language": "python",
   "name": "python3"
  },
  "language_info": {
   "codemirror_mode": {
    "name": "ipython",
    "version": 3
   },
   "file_extension": ".py",
   "mimetype": "text/x-python",
   "name": "python",
   "nbconvert_exporter": "python",
   "pygments_lexer": "ipython3",
   "version": "3.10.17"
  }
 },
 "nbformat": 4,
 "nbformat_minor": 5
}
