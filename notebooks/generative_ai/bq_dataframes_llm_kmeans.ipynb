{
 "cells": [
  {
   "cell_type": "code",
   "execution_count": 1,
   "metadata": {},
   "outputs": [],
   "source": [
    "# Copyright 2023 Google LLC\n",
    "#\n",
    "# Licensed under the Apache License, Version 2.0 (the \"License\");\n",
    "# you may not use this file except in compliance with the License.\n",
    "# You may obtain a copy of the License at\n",
    "#\n",
    "#     https://www.apache.org/licenses/LICENSE-2.0\n",
    "#\n",
    "# Unless required by applicable law or agreed to in writing, software\n",
    "# distributed under the License is distributed on an \"AS IS\" BASIS,\n",
    "# WITHOUT WARRANTIES OR CONDITIONS OF ANY KIND, either express or implied.\n",
    "# See the License for the specific language governing permissions and\n",
    "# limitations under the License."
   ]
  },
  {
   "attachments": {},
   "cell_type": "markdown",
   "metadata": {},
   "source": [
    "## Use BigQuery DataFrames to cluster and characterize complaints\n",
    "\n",
    "<table align=\"left\">\n",
    "\n",
    "  <td>\n",
    "    <a href=\"https://colab.research.google.com/github/googleapis/python-bigquery-dataframes/blob/main/notebooks/generative_ai/bq_dataframes_llm_kmeans.ipynb\">\n",
    "      <img src=\"https://cloud.google.com/ml-engine/images/colab-logo-32px.png\" alt=\"Colab logo\"> Run in Colab\n",
    "    </a>\n",
    "  </td>\n",
    "  <td>\n",
    "    <a href=\"https://github.com/googleapis/python-bigquery-dataframes/tree/main/notebooks/generative_ai/bq_dataframes_llm_kmeans.ipynb\">\n",
    "      <img src=\"https://cloud.google.com/ml-engine/images/github-logo-32px.png\" alt=\"GitHub logo\">\n",
    "      View on GitHub\n",
    "    </a>\n",
    "  </td>\n",
    "  <td>\n",
    "    <a href=\"https://console.cloud.google.com/vertex-ai/workbench/deploy-notebook?download_url=https://raw.githubusercontent.com/googleapis/python-bigquery-dataframes/tree/main/notebooks/generative_ai/bq_dataframes_llm_kmeans.ipynb\">\n",
    "      <img src=\"https://lh3.googleusercontent.com/UiNooY4LUgW_oTvpsNhPpQzsstV5W8F7rYgxgGBD85cWJoLmrOzhVs_ksK_vgx40SHs7jCqkTkCk=e14-rj-sc0xffffff-h130-w32\" alt=\"Vertex AI logo\">\n",
    "      Open in Vertex AI Workbench\n",
    "    </a>\n",
    "  </td>                                                                                               \n",
    "</table>"
   ]
  },
  {
   "attachments": {},
   "cell_type": "markdown",
   "metadata": {},
   "source": [
    "## Overview\n",
    "\n",
    "The goal of this notebook is to demonstrate a comment characterization algorithm for an online business. We will accomplish this using [Google's PaLM 2](https://ai.google/discover/palm2/) and [KMeans clustering](https://en.wikipedia.org/wiki/K-means_clustering) in three steps:\n",
    "\n",
    "1. Use PaLM2TextEmbeddingGenerator to [generate text embeddings](https://cloud.google.com/vertex-ai/docs/generative-ai/embeddings/get-text-embeddings) for each of 10000 complaints sent to an online bank. If you're not familiar with what a text embedding is, it's a list of numbers that are like coordinates in an imaginary \"meaning space\" for sentences. (It's like [word embeddings](https://en.wikipedia.org/wiki/Word_embedding), but for more general text.) The important point for our purposes is that similar sentences are close to each other in this imaginary space.\n",
    "2. Use KMeans clustering to group together complaints whose text embeddings are near to eachother. This will give us sets of similar complaints, but we don't yet know _why_ these complaints are similar.\n",
    "3. Prompt GeminiTextGenerator in English asking what the difference is between the groups of complaints that we got. Thanks to the power of modern LLMs, the response might give us a very good idea of what these complaints are all about, but remember to [\"understand the limits of your dataset and model.\"](https://ai.google/responsibility/responsible-ai-practices/#:~:text=Understand%20the%20limitations%20of%20your%20dataset%20and%20model)\n",
    "\n",
    "We will tie these pieces together in Python using BigQuery DataFrames. [Click here](https://cloud.google.com/bigquery/docs/dataframes-quickstart) to learn more about BigQuery DataFrames!"
   ]
  },
  {
   "attachments": {},
   "cell_type": "markdown",
   "metadata": {},
   "source": [
    "### Dataset\n",
    "\n",
    "This notebook uses the [CFPB Consumer Complaint Database](https://console.cloud.google.com/marketplace/product/cfpb/complaint-database)."
   ]
  },
  {
   "attachments": {},
   "cell_type": "markdown",
   "metadata": {},
   "source": [
    "### Costs\n",
    "\n",
    "This tutorial uses billable components of Google Cloud:\n",
    "\n",
    "* BigQuery (compute)\n",
    "* BigQuery ML\n",
    "* Generative AI support on Vertex AI\n",
    "\n",
    "Learn about [BigQuery compute pricing](https://cloud.google.com/bigquery/pricing#analysis_pricing_models), [Generative AI support on Vertex AI pricing](https://cloud.google.com/vertex-ai/pricing#generative_ai_models),\n",
    "and [BigQuery ML pricing](https://cloud.google.com/bigquery/pricing#bqml),\n",
    "and use the [Pricing Calculator](https://cloud.google.com/products/calculator/)\n",
    "to generate a cost estimate based on your projected usage."
   ]
  },
  {
   "attachments": {},
   "cell_type": "markdown",
   "metadata": {},
   "source": [
    "## Before you begin\n",
    "\n",
    "Complete the tasks in this section to set up your environment."
   ]
  },
  {
   "attachments": {},
   "cell_type": "markdown",
   "metadata": {},
   "source": [
    "### Set up your Google Cloud project\n",
    "\n",
    "**The following steps are required, regardless of your notebook environment.**\n",
    "\n",
    "1. [Select or create a Google Cloud project](https://console.cloud.google.com/cloud-resource-manager). When you first create an account, you get a $300 credit towards your compute/storage costs.\n",
    "\n",
    "2. [Make sure that billing is enabled for your project](https://cloud.google.com/billing/docs/how-to/modify-project).\n",
    "\n",
    "3. [Click here](https://console.cloud.google.com/flows/enableapi?apiid=bigquery.googleapis.com,bigqueryconnection.googleapis.com,aiplatform.googleapis.com) to enable the following APIs:\n",
    "\n",
    "  * BigQuery API\n",
    "  * BigQuery Connection API\n",
    "  * Vertex AI API\n",
    "\n",
    "4. If you are running this notebook locally, install the [Cloud SDK](https://cloud.google.com/sdk)."
   ]
  },
  {
   "attachments": {},
   "cell_type": "markdown",
   "metadata": {},
   "source": [
    "#### Set your project ID\n",
    "\n",
    "**If you don't know your project ID**, see the support page: [Locate the project ID](https://support.google.com/googleapi/answer/7014113)"
   ]
  },
  {
   "cell_type": "code",
   "execution_count": 2,
   "metadata": {},
   "outputs": [],
   "source": [
    "# set your project ID below\n",
    "PROJECT_ID = \"\"  # @param {type:\"string\"}\n",
    "\n",
    "# Set the project id in gcloud\n",
    "#! gcloud config set project {PROJECT_ID}"
   ]
  },
  {
   "attachments": {},
   "cell_type": "markdown",
   "metadata": {},
   "source": [
    "#### Authenticate your Google Cloud account\n",
    "\n",
    "Depending on your Jupyter environment, you might have to manually authenticate. Follow the relevant instructions below."
   ]
  },
  {
   "attachments": {},
   "cell_type": "markdown",
   "metadata": {},
   "source": [
    "**Vertex AI Workbench**\n",
    "\n",
    "Do nothing, you are already authenticated."
   ]
  },
  {
   "attachments": {},
   "cell_type": "markdown",
   "metadata": {},
   "source": [
    "**Local JupyterLab instance**\n",
    "\n",
    "Uncomment and run the following cell:"
   ]
  },
  {
   "cell_type": "code",
   "execution_count": 3,
   "metadata": {},
   "outputs": [],
   "source": [
    "# ! gcloud auth login"
   ]
  },
  {
   "attachments": {},
   "cell_type": "markdown",
   "metadata": {},
   "source": [
    "**Colab**\n",
    "\n",
    "Uncomment and run the following cell:"
   ]
  },
  {
   "cell_type": "code",
   "execution_count": 4,
   "metadata": {},
   "outputs": [],
   "source": [
    "# from google.colab import auth\n",
    "# auth.authenticate_user()"
   ]
  },
  {
   "attachments": {},
   "cell_type": "markdown",
   "metadata": {},
   "source": [
    "Now we are ready to use BigQuery DataFrames!"
   ]
  },
  {
   "attachments": {},
   "cell_type": "markdown",
   "metadata": {
    "id": "xckgWno6ouHY"
   },
   "source": [
    "## Step 1: Text embedding "
   ]
  },
  {
   "attachments": {},
   "cell_type": "markdown",
   "metadata": {},
   "source": [
    "BigQuery DataFrames setup"
   ]
  },
  {
   "cell_type": "code",
   "execution_count": 5,
   "metadata": {
    "id": "R7STCS8xB5d2"
   },
   "outputs": [],
   "source": [
    "import bigframes.pandas as bf\n",
    "\n",
    "# Note: The project option is not required in all environments.\n",
    "# On BigQuery Studio, the project ID is automatically detected.\n",
    "bf.options.bigquery.project = PROJECT_ID"
   ]
  },
  {
   "attachments": {},
   "cell_type": "markdown",
   "metadata": {},
   "source": [
    "If you want to reset the location of the created DataFrame or Series objects, reset the session by executing `bf.close_session()`. After that, you can reuse `bf.options.bigquery.location` to specify another location."
   ]
  },
  {
   "attachments": {},
   "cell_type": "markdown",
   "metadata": {
    "id": "v6FGschEowht"
   },
   "source": [
    "Data Input - read the data from a publicly available BigQuery dataset"
   ]
  },
  {
   "cell_type": "code",
   "execution_count": 6,
   "metadata": {
    "id": "zDSwoBo1CU3G"
   },
   "outputs": [],
   "source": [
    "input_df = bf.read_gbq(\"bigquery-public-data.cfpb_complaints.complaint_database\")"
   ]
  },
  {
   "cell_type": "code",
   "execution_count": 7,
   "metadata": {
    "id": "tYDoaKgJChiq"
   },
   "outputs": [
    {
     "data": {
      "text/html": [
       "Query job 030e5d08-f690-47e4-b7cc-342731245575 is DONE. 2.3 GB processed. <a target=\"_blank\" href=\"https://console.cloud.google.com/bigquery?project=bigframes-dev&j=bq:US:030e5d08-f690-47e4-b7cc-342731245575&page=queryresults\">Open Job</a>"
      ],
      "text/plain": [
       "<IPython.core.display.HTML object>"
      ]
     },
     "metadata": {},
     "output_type": "display_data"
    },
    {
     "data": {
      "text/html": [
       "Query job a9c5f416-c5d2-4209-b639-bccb81a25d7e is DONE. 58.8 MB processed. <a target=\"_blank\" href=\"https://console.cloud.google.com/bigquery?project=bigframes-dev&j=bq:US:a9c5f416-c5d2-4209-b639-bccb81a25d7e&page=queryresults\">Open Job</a>"
      ],
      "text/plain": [
       "<IPython.core.display.HTML object>"
      ]
     },
     "metadata": {},
     "output_type": "display_data"
    },
    {
     "data": {
      "text/html": [
       "<div>\n",
       "<style scoped>\n",
       "    .dataframe tbody tr th:only-of-type {\n",
       "        vertical-align: middle;\n",
       "    }\n",
       "\n",
       "    .dataframe tbody tr th {\n",
       "        vertical-align: top;\n",
       "    }\n",
       "\n",
       "    .dataframe thead th {\n",
       "        text-align: right;\n",
       "    }\n",
       "</style>\n",
       "<table border=\"1\" class=\"dataframe\">\n",
       "  <thead>\n",
       "    <tr style=\"text-align: right;\">\n",
       "      <th></th>\n",
       "      <th>consumer_complaint_narrative</th>\n",
       "    </tr>\n",
       "  </thead>\n",
       "  <tbody>\n",
       "    <tr>\n",
       "      <th>1053364</th>\n",
       "      <td>My Macy 's American Express account was taken ...</td>\n",
       "    </tr>\n",
       "    <tr>\n",
       "      <th>1053757</th>\n",
       "      <td>I am a victim of identity theft. The informati...</td>\n",
       "    </tr>\n",
       "    <tr>\n",
       "      <th>1053784</th>\n",
       "      <td>In XXXX 2016, Amex took out $ XXXX.+ unauthori...</td>\n",
       "    </tr>\n",
       "    <tr>\n",
       "      <th>1054237</th>\n",
       "      <td>I am not for sure the exact date of my loan it...</td>\n",
       "    </tr>\n",
       "    <tr>\n",
       "      <th>1054244</th>\n",
       "      <td>I entered a consumer credit transaction with t...</td>\n",
       "    </tr>\n",
       "  </tbody>\n",
       "</table>\n",
       "</div>"
      ],
      "text/plain": [
       "                              consumer_complaint_narrative\n",
       "1053364  My Macy 's American Express account was taken ...\n",
       "1053757  I am a victim of identity theft. The informati...\n",
       "1053784  In XXXX 2016, Amex took out $ XXXX.+ unauthori...\n",
       "1054237  I am not for sure the exact date of my loan it...\n",
       "1054244  I entered a consumer credit transaction with t..."
      ]
     },
     "execution_count": 7,
     "metadata": {},
     "output_type": "execute_result"
    }
   ],
   "source": [
    "issues_df = input_df[[\"consumer_complaint_narrative\"]].dropna()\n",
    "issues_df.peek(n=5) # View an arbitrary five complaints"
   ]
  },
  {
   "attachments": {},
   "cell_type": "markdown",
   "metadata": {},
   "source": [
    "Downsample DataFrame to 10,000 records for model training."
   ]
  },
  {
   "cell_type": "code",
   "execution_count": 8,
   "metadata": {
    "id": "OltYSUEcsSOW"
   },
   "outputs": [],
   "source": [
    "# Choose 10,000 complaints randomly and store them in a column in a DataFrame\n",
    "downsampled_issues_df = issues_df.sample(n=10000)"
   ]
  },
  {
   "attachments": {},
   "cell_type": "markdown",
   "metadata": {
    "id": "Wl2o-NYMoygb"
   },
   "source": [
    "Generate the text embeddings"
   ]
  },
  {
   "cell_type": "code",
   "execution_count": 9,
   "metadata": {
    "id": "li38q8FzDDMu"
   },
   "outputs": [
    {
     "data": {
      "text/html": [
       "Query job 77eee871-31eb-4939-a015-f5505c94786e is DONE. 0 Bytes processed. <a target=\"_blank\" href=\"https://console.cloud.google.com/bigquery?project=bigframes-dev&j=bq:US:77eee871-31eb-4939-a015-f5505c94786e&page=queryresults\">Open Job</a>"
      ],
      "text/plain": [
       "<IPython.core.display.HTML object>"
      ]
     },
     "metadata": {},
     "output_type": "display_data"
    }
   ],
   "source": [
    "from bigframes.ml.llm import PaLM2TextEmbeddingGenerator\n",
    "\n",
    "model = PaLM2TextEmbeddingGenerator() # No connection id needed"
   ]
  },
  {
   "cell_type": "code",
   "execution_count": 10,
   "metadata": {
    "id": "cOuSOQ5FDewD"
   },
   "outputs": [
    {
     "data": {
      "text/html": [
       "Query job 63cdd004-21b6-41bf-8876-aa646f1f268e is DONE. 1.3 GB processed. <a target=\"_blank\" href=\"https://console.cloud.google.com/bigquery?project=bigframes-dev&j=bq:US:63cdd004-21b6-41bf-8876-aa646f1f268e&page=queryresults\">Open Job</a>"
      ],
      "text/plain": [
       "<IPython.core.display.HTML object>"
      ]
     },
     "metadata": {},
     "output_type": "display_data"
    },
    {
     "data": {
      "text/html": [
       "Query job cda12546-9931-48f6-8b22-74a9ab85fa28 is DONE. 80.0 kB processed. <a target=\"_blank\" href=\"https://console.cloud.google.com/bigquery?project=bigframes-dev&j=bq:US:cda12546-9931-48f6-8b22-74a9ab85fa28&page=queryresults\">Open Job</a>"
      ],
      "text/plain": [
       "<IPython.core.display.HTML object>"
      ]
     },
     "metadata": {},
     "output_type": "display_data"
    },
    {
     "data": {
      "text/html": [
       "Query job 759a13c5-c02f-4ae8-9b22-d7ef423ffe8d is DONE. 20.0 kB processed. <a target=\"_blank\" href=\"https://console.cloud.google.com/bigquery?project=bigframes-dev&j=bq:US:759a13c5-c02f-4ae8-9b22-d7ef423ffe8d&page=queryresults\">Open Job</a>"
      ],
      "text/plain": [
       "<IPython.core.display.HTML object>"
      ]
     },
     "metadata": {},
     "output_type": "display_data"
    },
    {
     "data": {
      "text/html": [
       "Query job 1bad8ef3-8103-4a98-bec4-699d97673b9a is DONE. 72.0 MB processed. <a target=\"_blank\" href=\"https://console.cloud.google.com/bigquery?project=bigframes-dev&j=bq:US:1bad8ef3-8103-4a98-bec4-699d97673b9a&page=queryresults\">Open Job</a>"
      ],
      "text/plain": [
       "<IPython.core.display.HTML object>"
      ]
     },
     "metadata": {},
     "output_type": "display_data"
    },
    {
     "data": {
      "text/html": [
       "<div>\n",
       "<style scoped>\n",
       "    .dataframe tbody tr th:only-of-type {\n",
       "        vertical-align: middle;\n",
       "    }\n",
       "\n",
       "    .dataframe tbody tr th {\n",
       "        vertical-align: top;\n",
       "    }\n",
       "\n",
       "    .dataframe thead th {\n",
       "        text-align: right;\n",
       "    }\n",
       "</style>\n",
       "<table border=\"1\" class=\"dataframe\">\n",
       "  <thead>\n",
       "    <tr style=\"text-align: right;\">\n",
       "      <th></th>\n",
       "      <th>ml_generate_embedding_result</th>\n",
       "      <th>ml_generate_embedding_statistics</th>\n",
       "      <th>ml_generate_embedding_status</th>\n",
       "      <th>content</th>\n",
       "    </tr>\n",
       "  </thead>\n",
       "  <tbody>\n",
       "    <tr>\n",
       "      <th>357</th>\n",
       "      <td>[ 1.33585772e-02 -3.76597494e-02 -6.14452176e-...</td>\n",
       "      <td>{\"token_count\":306,\"truncated\":false}</td>\n",
       "      <td></td>\n",
       "      <td>I decided to try XXXX services for my wife and...</td>\n",
       "    </tr>\n",
       "    <tr>\n",
       "      <th>428</th>\n",
       "      <td>[ 3.10036819e-04 -3.82593311e-02 -3.41922641e-...</td>\n",
       "      <td>{\"token_count\":134,\"truncated\":false}</td>\n",
       "      <td></td>\n",
       "      <td>XXXX I went to the bank in question ( XXXX XXX...</td>\n",
       "    </tr>\n",
       "    <tr>\n",
       "      <th>1319</th>\n",
       "      <td>[ 1.97481886e-02 -1.97448786e-02 -5.13443351e-...</td>\n",
       "      <td>{\"token_count\":215,\"truncated\":false}</td>\n",
       "      <td></td>\n",
       "      <td>I currently have a home loan with my ex husban...</td>\n",
       "    </tr>\n",
       "    <tr>\n",
       "      <th>1993</th>\n",
       "      <td>[ 9.83821880e-03 -6.55664057e-02 -5.46210706e-...</td>\n",
       "      <td>{\"token_count\":536,\"truncated\":false}</td>\n",
       "      <td></td>\n",
       "      <td>NOT MY ACCOUNT, NOT AN AUTHORIZED USER {$1800....</td>\n",
       "    </tr>\n",
       "    <tr>\n",
       "      <th>1997</th>\n",
       "      <td>[ 0.03145148 -0.01011822 -0.02316323 -0.025078...</td>\n",
       "      <td>{\"token_count\":123,\"truncated\":false}</td>\n",
       "      <td></td>\n",
       "      <td>After a while the payments became harder and h...</td>\n",
       "    </tr>\n",
       "    <tr>\n",
       "      <th>2469</th>\n",
       "      <td>[ 4.74590808e-03 -4.56819348e-02 -2.49751769e-...</td>\n",
       "      <td>{\"token_count\":60,\"truncated\":false}</td>\n",
       "      <td></td>\n",
       "      <td>In the course of my student loan, I have been ...</td>\n",
       "    </tr>\n",
       "    <tr>\n",
       "      <th>2624</th>\n",
       "      <td>[ 3.91883589e-03 -3.26644145e-02 -7.10378587e-...</td>\n",
       "      <td>{\"token_count\":254,\"truncated\":false}</td>\n",
       "      <td></td>\n",
       "      <td>In accordance with the Fair Credit Reporting A...</td>\n",
       "    </tr>\n",
       "    <tr>\n",
       "      <th>2832</th>\n",
       "      <td>[ 8.35181400e-03 -2.91643552e-02 -4.30776961e-...</td>\n",
       "      <td>{\"token_count\":79,\"truncated\":false}</td>\n",
       "      <td></td>\n",
       "      <td>LVNV FUNDING LLC is continually placing a coll...</td>\n",
       "    </tr>\n",
       "    <tr>\n",
       "      <th>3328</th>\n",
       "      <td>[ 2.71253809e-02 -1.77491009e-02 -5.32273464e-...</td>\n",
       "      <td>{\"token_count\":156,\"truncated\":false}</td>\n",
       "      <td></td>\n",
       "      <td>On XX/XX/2020 I sent a letter regarding inaccu...</td>\n",
       "    </tr>\n",
       "    <tr>\n",
       "      <th>3650</th>\n",
       "      <td>[-6.10093866e-03 -5.93599863e-02 -8.04531425e-...</td>\n",
       "      <td>{\"token_count\":175,\"truncated\":false}</td>\n",
       "      <td></td>\n",
       "      <td>Over a year and a half ago we started the proc...</td>\n",
       "    </tr>\n",
       "    <tr>\n",
       "      <th>3860</th>\n",
       "      <td>[ 5.84836192e-02 -2.43354496e-03 -5.57337068e-...</td>\n",
       "      <td>{\"token_count\":1267,\"truncated\":false}</td>\n",
       "      <td></td>\n",
       "      <td>The issue is 26 late payments on me and my wif...</td>\n",
       "    </tr>\n",
       "    <tr>\n",
       "      <th>4464</th>\n",
       "      <td>[ 6.05084226e-02 -3.21578234e-02 -7.51668587e-...</td>\n",
       "      <td>{\"token_count\":906,\"truncated\":false}</td>\n",
       "      <td></td>\n",
       "      <td>I purchased as replacement for a lost XXXX XXX...</td>\n",
       "    </tr>\n",
       "    <tr>\n",
       "      <th>4470</th>\n",
       "      <td>[ 1.28689921e-02 -3.25881056e-02 -6.53645024e-...</td>\n",
       "      <td>{\"token_count\":200,\"truncated\":false}</td>\n",
       "      <td></td>\n",
       "      <td>in accordance with the Fair Credit Reporting a...</td>\n",
       "    </tr>\n",
       "    <tr>\n",
       "      <th>4567</th>\n",
       "      <td>[-5.49167022e-03 -3.84587422e-02 -8.56091827e-...</td>\n",
       "      <td>{\"token_count\":110,\"truncated\":false}</td>\n",
       "      <td></td>\n",
       "      <td>I have submitted multiple disputes through the...</td>\n",
       "    </tr>\n",
       "    <tr>\n",
       "      <th>4713</th>\n",
       "      <td>[ 2.68485844e-02 -3.46762352e-02 -4.59849052e-...</td>\n",
       "      <td>{\"token_count\":549,\"truncated\":false}</td>\n",
       "      <td></td>\n",
       "      <td>While shopping for furniture for my home I ope...</td>\n",
       "    </tr>\n",
       "    <tr>\n",
       "      <th>5181</th>\n",
       "      <td>[ 2.05754172e-02 -3.83999050e-02 -9.29225236e-...</td>\n",
       "      <td>{\"token_count\":77,\"truncated\":false}</td>\n",
       "      <td></td>\n",
       "      <td>I had opened a Wells Fargo checking account wi...</td>\n",
       "    </tr>\n",
       "    <tr>\n",
       "      <th>5511</th>\n",
       "      <td>[-0.00217485 -0.04031368 -0.06604777 -0.052006...</td>\n",
       "      <td>{\"token_count\":262,\"truncated\":false}</td>\n",
       "      <td></td>\n",
       "      <td>I recently disputed ( see attached letter ) wi...</td>\n",
       "    </tr>\n",
       "    <tr>\n",
       "      <th>5888</th>\n",
       "      <td>[-8.15972779e-03 -3.46563384e-02 -5.91776446e-...</td>\n",
       "      <td>{\"token_count\":176,\"truncated\":false}</td>\n",
       "      <td></td>\n",
       "      <td>XXXX XXXX XXXX XXXX \n",
       "I have disputed this acco...</td>\n",
       "    </tr>\n",
       "    <tr>\n",
       "      <th>6299</th>\n",
       "      <td>[ 4.80043218e-02 -4.13420722e-02 -6.12363108e-...</td>\n",
       "      <td>{\"token_count\":151,\"truncated\":false}</td>\n",
       "      <td></td>\n",
       "      <td>XXXX ; XXXX and Transunion are reporting ( 30 ...</td>\n",
       "    </tr>\n",
       "    <tr>\n",
       "      <th>7143</th>\n",
       "      <td>[ 4.39200476e-02 -3.04005221e-02 -3.47866341e-...</td>\n",
       "      <td>{\"token_count\":234,\"truncated\":false}</td>\n",
       "      <td></td>\n",
       "      <td>My Macys account is due on the first of every ...</td>\n",
       "    </tr>\n",
       "    <tr>\n",
       "      <th>7219</th>\n",
       "      <td>[ 1.00224940e-02 -3.79302073e-03 -3.41785327e-...</td>\n",
       "      <td>{\"token_count\":26,\"truncated\":false}</td>\n",
       "      <td></td>\n",
       "      <td>Keep getting letters and calls from collection...</td>\n",
       "    </tr>\n",
       "    <tr>\n",
       "      <th>7574</th>\n",
       "      <td>[-0.00149564 -0.06619431 -0.05084481 -0.048579...</td>\n",
       "      <td>{\"token_count\":129,\"truncated\":false}</td>\n",
       "      <td></td>\n",
       "      <td>On XXXX I was on the XXXX app and there was a ...</td>\n",
       "    </tr>\n",
       "    <tr>\n",
       "      <th>8759</th>\n",
       "      <td>[ 0.01501553 -0.03575936 -0.050562   -0.034884...</td>\n",
       "      <td>{\"token_count\":501,\"truncated\":false}</td>\n",
       "      <td></td>\n",
       "      <td>Obviously I've been a victim of fraud, therefo...</td>\n",
       "    </tr>\n",
       "    <tr>\n",
       "      <th>9700</th>\n",
       "      <td>[ 1.01501048e-02 -2.80565154e-02 -4.05892394e-...</td>\n",
       "      <td>{\"token_count\":48,\"truncated\":false}</td>\n",
       "      <td></td>\n",
       "      <td>The following item have not been properly inve...</td>\n",
       "    </tr>\n",
       "    <tr>\n",
       "      <th>9822</th>\n",
       "      <td>[ 2.95880195e-02  1.65440738e-02 -3.33247967e-...</td>\n",
       "      <td>{\"token_count\":2373,\"truncated\":true}</td>\n",
       "      <td></td>\n",
       "      <td>During the housing market crash I went through...</td>\n",
       "    </tr>\n",
       "  </tbody>\n",
       "</table>\n",
       "<p>25 rows × 4 columns</p>\n",
       "</div>[10000 rows x 4 columns in total]"
      ],
      "text/plain": [
       "                           ml_generate_embedding_result  \\\n",
       "357   [ 1.33585772e-02 -3.76597494e-02 -6.14452176e-...   \n",
       "428   [ 3.10036819e-04 -3.82593311e-02 -3.41922641e-...   \n",
       "1319  [ 1.97481886e-02 -1.97448786e-02 -5.13443351e-...   \n",
       "1993  [ 9.83821880e-03 -6.55664057e-02 -5.46210706e-...   \n",
       "1997  [ 0.03145148 -0.01011822 -0.02316323 -0.025078...   \n",
       "2469  [ 4.74590808e-03 -4.56819348e-02 -2.49751769e-...   \n",
       "2624  [ 3.91883589e-03 -3.26644145e-02 -7.10378587e-...   \n",
       "2832  [ 8.35181400e-03 -2.91643552e-02 -4.30776961e-...   \n",
       "3328  [ 2.71253809e-02 -1.77491009e-02 -5.32273464e-...   \n",
       "3650  [-6.10093866e-03 -5.93599863e-02 -8.04531425e-...   \n",
       "3860  [ 5.84836192e-02 -2.43354496e-03 -5.57337068e-...   \n",
       "4464  [ 6.05084226e-02 -3.21578234e-02 -7.51668587e-...   \n",
       "4470  [ 1.28689921e-02 -3.25881056e-02 -6.53645024e-...   \n",
       "4567  [-5.49167022e-03 -3.84587422e-02 -8.56091827e-...   \n",
       "4713  [ 2.68485844e-02 -3.46762352e-02 -4.59849052e-...   \n",
       "5181  [ 2.05754172e-02 -3.83999050e-02 -9.29225236e-...   \n",
       "5511  [-0.00217485 -0.04031368 -0.06604777 -0.052006...   \n",
       "5888  [-8.15972779e-03 -3.46563384e-02 -5.91776446e-...   \n",
       "6299  [ 4.80043218e-02 -4.13420722e-02 -6.12363108e-...   \n",
       "7143  [ 4.39200476e-02 -3.04005221e-02 -3.47866341e-...   \n",
       "7219  [ 1.00224940e-02 -3.79302073e-03 -3.41785327e-...   \n",
       "7574  [-0.00149564 -0.06619431 -0.05084481 -0.048579...   \n",
       "8759  [ 0.01501553 -0.03575936 -0.050562   -0.034884...   \n",
       "9700  [ 1.01501048e-02 -2.80565154e-02 -4.05892394e-...   \n",
       "9822  [ 2.95880195e-02  1.65440738e-02 -3.33247967e-...   \n",
       "\n",
       "            ml_generate_embedding_statistics ml_generate_embedding_status  \\\n",
       "357    {\"token_count\":306,\"truncated\":false}                                \n",
       "428    {\"token_count\":134,\"truncated\":false}                                \n",
       "1319   {\"token_count\":215,\"truncated\":false}                                \n",
       "1993   {\"token_count\":536,\"truncated\":false}                                \n",
       "1997   {\"token_count\":123,\"truncated\":false}                                \n",
       "2469    {\"token_count\":60,\"truncated\":false}                                \n",
       "2624   {\"token_count\":254,\"truncated\":false}                                \n",
       "2832    {\"token_count\":79,\"truncated\":false}                                \n",
       "3328   {\"token_count\":156,\"truncated\":false}                                \n",
       "3650   {\"token_count\":175,\"truncated\":false}                                \n",
       "3860  {\"token_count\":1267,\"truncated\":false}                                \n",
       "4464   {\"token_count\":906,\"truncated\":false}                                \n",
       "4470   {\"token_count\":200,\"truncated\":false}                                \n",
       "4567   {\"token_count\":110,\"truncated\":false}                                \n",
       "4713   {\"token_count\":549,\"truncated\":false}                                \n",
       "5181    {\"token_count\":77,\"truncated\":false}                                \n",
       "5511   {\"token_count\":262,\"truncated\":false}                                \n",
       "5888   {\"token_count\":176,\"truncated\":false}                                \n",
       "6299   {\"token_count\":151,\"truncated\":false}                                \n",
       "7143   {\"token_count\":234,\"truncated\":false}                                \n",
       "7219    {\"token_count\":26,\"truncated\":false}                                \n",
       "7574   {\"token_count\":129,\"truncated\":false}                                \n",
       "8759   {\"token_count\":501,\"truncated\":false}                                \n",
       "9700    {\"token_count\":48,\"truncated\":false}                                \n",
       "9822   {\"token_count\":2373,\"truncated\":true}                                \n",
       "\n",
       "                                                content  \n",
       "357   I decided to try XXXX services for my wife and...  \n",
       "428   XXXX I went to the bank in question ( XXXX XXX...  \n",
       "1319  I currently have a home loan with my ex husban...  \n",
       "1993  NOT MY ACCOUNT, NOT AN AUTHORIZED USER {$1800....  \n",
       "1997  After a while the payments became harder and h...  \n",
       "2469  In the course of my student loan, I have been ...  \n",
       "2624  In accordance with the Fair Credit Reporting A...  \n",
       "2832  LVNV FUNDING LLC is continually placing a coll...  \n",
       "3328  On XX/XX/2020 I sent a letter regarding inaccu...  \n",
       "3650  Over a year and a half ago we started the proc...  \n",
       "3860  The issue is 26 late payments on me and my wif...  \n",
       "4464  I purchased as replacement for a lost XXXX XXX...  \n",
       "4470  in accordance with the Fair Credit Reporting a...  \n",
       "4567  I have submitted multiple disputes through the...  \n",
       "4713  While shopping for furniture for my home I ope...  \n",
       "5181  I had opened a Wells Fargo checking account wi...  \n",
       "5511  I recently disputed ( see attached letter ) wi...  \n",
       "5888  XXXX XXXX XXXX XXXX \n",
       "I have disputed this acco...  \n",
       "6299  XXXX ; XXXX and Transunion are reporting ( 30 ...  \n",
       "7143  My Macys account is due on the first of every ...  \n",
       "7219  Keep getting letters and calls from collection...  \n",
       "7574  On XXXX I was on the XXXX app and there was a ...  \n",
       "8759  Obviously I've been a victim of fraud, therefo...  \n",
       "9700  The following item have not been properly inve...  \n",
       "9822  During the housing market crash I went through...  \n",
       "...\n",
       "\n",
       "[10000 rows x 4 columns]"
      ]
     },
     "execution_count": 10,
     "metadata": {},
     "output_type": "execute_result"
    }
   ],
   "source": [
    "# Will take ~3 minutes to compute the embeddings\n",
    "predicted_embeddings = model.predict(downsampled_issues_df)\n",
    "# Notice the lists of numbers that are our text embeddings for each complaint\n",
    "predicted_embeddings"
   ]
  },
  {
   "cell_type": "markdown",
   "metadata": {},
   "source": [
    "The model may have encountered errors while calculating embeddings for some rows. Filter out the errored rows before training the model. Alternatively, select these rows and retry the embeddings."
   ]
  },
  {
   "cell_type": "code",
   "execution_count": 11,
   "metadata": {},
   "outputs": [
    {
     "data": {
      "text/html": [
       "Query job b4594edf-80e5-4476-ac06-b799001f4cb0 is DONE. 72.0 MB processed. <a target=\"_blank\" href=\"https://console.cloud.google.com/bigquery?project=bigframes-dev&j=bq:US:b4594edf-80e5-4476-ac06-b799001f4cb0&page=queryresults\">Open Job</a>"
      ],
      "text/plain": [
       "<IPython.core.display.HTML object>"
      ]
     },
     "metadata": {},
     "output_type": "display_data"
    },
    {
     "data": {
      "text/html": [
       "Query job 417e806a-2574-4b1b-8276-a95fa2df56e1 is DONE. 72.5 MB processed. <a target=\"_blank\" href=\"https://console.cloud.google.com/bigquery?project=bigframes-dev&j=bq:US:417e806a-2574-4b1b-8276-a95fa2df56e1&page=queryresults\">Open Job</a>"
      ],
      "text/plain": [
       "<IPython.core.display.HTML object>"
      ]
     },
     "metadata": {},
     "output_type": "display_data"
    },
    {
     "data": {
      "text/html": [
       "<div>\n",
       "<style scoped>\n",
       "    .dataframe tbody tr th:only-of-type {\n",
       "        vertical-align: middle;\n",
       "    }\n",
       "\n",
       "    .dataframe tbody tr th {\n",
       "        vertical-align: top;\n",
       "    }\n",
       "\n",
       "    .dataframe thead th {\n",
       "        text-align: right;\n",
       "    }\n",
       "</style>\n",
       "<table border=\"1\" class=\"dataframe\">\n",
       "  <thead>\n",
       "    <tr style=\"text-align: right;\">\n",
       "      <th></th>\n",
       "      <th>ml_generate_embedding_result</th>\n",
       "      <th>ml_generate_embedding_statistics</th>\n",
       "      <th>ml_generate_embedding_status</th>\n",
       "      <th>content</th>\n",
       "    </tr>\n",
       "  </thead>\n",
       "  <tbody>\n",
       "    <tr>\n",
       "      <th>357</th>\n",
       "      <td>[ 1.33585772e-02 -3.76597494e-02 -6.14452176e-...</td>\n",
       "      <td>{\"token_count\":306,\"truncated\":false}</td>\n",
       "      <td></td>\n",
       "      <td>I decided to try XXXX services for my wife and...</td>\n",
       "    </tr>\n",
       "    <tr>\n",
       "      <th>428</th>\n",
       "      <td>[ 3.10036819e-04 -3.82593311e-02 -3.41922641e-...</td>\n",
       "      <td>{\"token_count\":134,\"truncated\":false}</td>\n",
       "      <td></td>\n",
       "      <td>XXXX I went to the bank in question ( XXXX XXX...</td>\n",
       "    </tr>\n",
       "    <tr>\n",
       "      <th>1319</th>\n",
       "      <td>[ 1.97481886e-02 -1.97448786e-02 -5.13443351e-...</td>\n",
       "      <td>{\"token_count\":215,\"truncated\":false}</td>\n",
       "      <td></td>\n",
       "      <td>I currently have a home loan with my ex husban...</td>\n",
       "    </tr>\n",
       "    <tr>\n",
       "      <th>1993</th>\n",
       "      <td>[ 9.83821880e-03 -6.55664057e-02 -5.46210706e-...</td>\n",
       "      <td>{\"token_count\":536,\"truncated\":false}</td>\n",
       "      <td></td>\n",
       "      <td>NOT MY ACCOUNT, NOT AN AUTHORIZED USER {$1800....</td>\n",
       "    </tr>\n",
       "    <tr>\n",
       "      <th>1997</th>\n",
       "      <td>[ 0.03145148 -0.01011822 -0.02316323 -0.025078...</td>\n",
       "      <td>{\"token_count\":123,\"truncated\":false}</td>\n",
       "      <td></td>\n",
       "      <td>After a while the payments became harder and h...</td>\n",
       "    </tr>\n",
       "    <tr>\n",
       "      <th>2469</th>\n",
       "      <td>[ 4.74590808e-03 -4.56819348e-02 -2.49751769e-...</td>\n",
       "      <td>{\"token_count\":60,\"truncated\":false}</td>\n",
       "      <td></td>\n",
       "      <td>In the course of my student loan, I have been ...</td>\n",
       "    </tr>\n",
       "    <tr>\n",
       "      <th>2624</th>\n",
       "      <td>[ 3.91883589e-03 -3.26644145e-02 -7.10378587e-...</td>\n",
       "      <td>{\"token_count\":254,\"truncated\":false}</td>\n",
       "      <td></td>\n",
       "      <td>In accordance with the Fair Credit Reporting A...</td>\n",
       "    </tr>\n",
       "    <tr>\n",
       "      <th>2832</th>\n",
       "      <td>[ 8.35181400e-03 -2.91643552e-02 -4.30776961e-...</td>\n",
       "      <td>{\"token_count\":79,\"truncated\":false}</td>\n",
       "      <td></td>\n",
       "      <td>LVNV FUNDING LLC is continually placing a coll...</td>\n",
       "    </tr>\n",
       "    <tr>\n",
       "      <th>3328</th>\n",
       "      <td>[ 2.71253809e-02 -1.77491009e-02 -5.32273464e-...</td>\n",
       "      <td>{\"token_count\":156,\"truncated\":false}</td>\n",
       "      <td></td>\n",
       "      <td>On XX/XX/2020 I sent a letter regarding inaccu...</td>\n",
       "    </tr>\n",
       "    <tr>\n",
       "      <th>3650</th>\n",
       "      <td>[-6.10093866e-03 -5.93599863e-02 -8.04531425e-...</td>\n",
       "      <td>{\"token_count\":175,\"truncated\":false}</td>\n",
       "      <td></td>\n",
       "      <td>Over a year and a half ago we started the proc...</td>\n",
       "    </tr>\n",
       "    <tr>\n",
       "      <th>3860</th>\n",
       "      <td>[ 5.84836192e-02 -2.43354496e-03 -5.57337068e-...</td>\n",
       "      <td>{\"token_count\":1267,\"truncated\":false}</td>\n",
       "      <td></td>\n",
       "      <td>The issue is 26 late payments on me and my wif...</td>\n",
       "    </tr>\n",
       "    <tr>\n",
       "      <th>4464</th>\n",
       "      <td>[ 6.05084226e-02 -3.21578234e-02 -7.51668587e-...</td>\n",
       "      <td>{\"token_count\":906,\"truncated\":false}</td>\n",
       "      <td></td>\n",
       "      <td>I purchased as replacement for a lost XXXX XXX...</td>\n",
       "    </tr>\n",
       "    <tr>\n",
       "      <th>4470</th>\n",
       "      <td>[ 1.28689921e-02 -3.25881056e-02 -6.53645024e-...</td>\n",
       "      <td>{\"token_count\":200,\"truncated\":false}</td>\n",
       "      <td></td>\n",
       "      <td>in accordance with the Fair Credit Reporting a...</td>\n",
       "    </tr>\n",
       "    <tr>\n",
       "      <th>4567</th>\n",
       "      <td>[-5.49167022e-03 -3.84587422e-02 -8.56091827e-...</td>\n",
       "      <td>{\"token_count\":110,\"truncated\":false}</td>\n",
       "      <td></td>\n",
       "      <td>I have submitted multiple disputes through the...</td>\n",
       "    </tr>\n",
       "    <tr>\n",
       "      <th>4713</th>\n",
       "      <td>[ 2.68485844e-02 -3.46762352e-02 -4.59849052e-...</td>\n",
       "      <td>{\"token_count\":549,\"truncated\":false}</td>\n",
       "      <td></td>\n",
       "      <td>While shopping for furniture for my home I ope...</td>\n",
       "    </tr>\n",
       "    <tr>\n",
       "      <th>5181</th>\n",
       "      <td>[ 2.05754172e-02 -3.83999050e-02 -9.29225236e-...</td>\n",
       "      <td>{\"token_count\":77,\"truncated\":false}</td>\n",
       "      <td></td>\n",
       "      <td>I had opened a Wells Fargo checking account wi...</td>\n",
       "    </tr>\n",
       "    <tr>\n",
       "      <th>5511</th>\n",
       "      <td>[-0.00217485 -0.04031368 -0.06604777 -0.052006...</td>\n",
       "      <td>{\"token_count\":262,\"truncated\":false}</td>\n",
       "      <td></td>\n",
       "      <td>I recently disputed ( see attached letter ) wi...</td>\n",
       "    </tr>\n",
       "    <tr>\n",
       "      <th>5888</th>\n",
       "      <td>[-8.15972779e-03 -3.46563384e-02 -5.91776446e-...</td>\n",
       "      <td>{\"token_count\":176,\"truncated\":false}</td>\n",
       "      <td></td>\n",
       "      <td>XXXX XXXX XXXX XXXX \n",
       "I have disputed this acco...</td>\n",
       "    </tr>\n",
       "    <tr>\n",
       "      <th>6299</th>\n",
       "      <td>[ 4.80043218e-02 -4.13420722e-02 -6.12363108e-...</td>\n",
       "      <td>{\"token_count\":151,\"truncated\":false}</td>\n",
       "      <td></td>\n",
       "      <td>XXXX ; XXXX and Transunion are reporting ( 30 ...</td>\n",
       "    </tr>\n",
       "    <tr>\n",
       "      <th>7143</th>\n",
       "      <td>[ 4.39200476e-02 -3.04005221e-02 -3.47866341e-...</td>\n",
       "      <td>{\"token_count\":234,\"truncated\":false}</td>\n",
       "      <td></td>\n",
       "      <td>My Macys account is due on the first of every ...</td>\n",
       "    </tr>\n",
       "    <tr>\n",
       "      <th>7219</th>\n",
       "      <td>[ 1.00224940e-02 -3.79302073e-03 -3.41785327e-...</td>\n",
       "      <td>{\"token_count\":26,\"truncated\":false}</td>\n",
       "      <td></td>\n",
       "      <td>Keep getting letters and calls from collection...</td>\n",
       "    </tr>\n",
       "    <tr>\n",
       "      <th>7574</th>\n",
       "      <td>[-0.00149564 -0.06619431 -0.05084481 -0.048579...</td>\n",
       "      <td>{\"token_count\":129,\"truncated\":false}</td>\n",
       "      <td></td>\n",
       "      <td>On XXXX I was on the XXXX app and there was a ...</td>\n",
       "    </tr>\n",
       "    <tr>\n",
       "      <th>8759</th>\n",
       "      <td>[ 0.01501553 -0.03575936 -0.050562   -0.034884...</td>\n",
       "      <td>{\"token_count\":501,\"truncated\":false}</td>\n",
       "      <td></td>\n",
       "      <td>Obviously I've been a victim of fraud, therefo...</td>\n",
       "    </tr>\n",
       "    <tr>\n",
       "      <th>9700</th>\n",
       "      <td>[ 1.01501048e-02 -2.80565154e-02 -4.05892394e-...</td>\n",
       "      <td>{\"token_count\":48,\"truncated\":false}</td>\n",
       "      <td></td>\n",
       "      <td>The following item have not been properly inve...</td>\n",
       "    </tr>\n",
       "    <tr>\n",
       "      <th>9822</th>\n",
       "      <td>[ 2.95880195e-02  1.65440738e-02 -3.33247967e-...</td>\n",
       "      <td>{\"token_count\":2373,\"truncated\":true}</td>\n",
       "      <td></td>\n",
       "      <td>During the housing market crash I went through...</td>\n",
       "    </tr>\n",
       "  </tbody>\n",
       "</table>\n",
       "<p>25 rows × 4 columns</p>\n",
       "</div>[10000 rows x 4 columns in total]"
      ],
      "text/plain": [
       "                           ml_generate_embedding_result  \\\n",
       "357   [ 1.33585772e-02 -3.76597494e-02 -6.14452176e-...   \n",
       "428   [ 3.10036819e-04 -3.82593311e-02 -3.41922641e-...   \n",
       "1319  [ 1.97481886e-02 -1.97448786e-02 -5.13443351e-...   \n",
       "1993  [ 9.83821880e-03 -6.55664057e-02 -5.46210706e-...   \n",
       "1997  [ 0.03145148 -0.01011822 -0.02316323 -0.025078...   \n",
       "2469  [ 4.74590808e-03 -4.56819348e-02 -2.49751769e-...   \n",
       "2624  [ 3.91883589e-03 -3.26644145e-02 -7.10378587e-...   \n",
       "2832  [ 8.35181400e-03 -2.91643552e-02 -4.30776961e-...   \n",
       "3328  [ 2.71253809e-02 -1.77491009e-02 -5.32273464e-...   \n",
       "3650  [-6.10093866e-03 -5.93599863e-02 -8.04531425e-...   \n",
       "3860  [ 5.84836192e-02 -2.43354496e-03 -5.57337068e-...   \n",
       "4464  [ 6.05084226e-02 -3.21578234e-02 -7.51668587e-...   \n",
       "4470  [ 1.28689921e-02 -3.25881056e-02 -6.53645024e-...   \n",
       "4567  [-5.49167022e-03 -3.84587422e-02 -8.56091827e-...   \n",
       "4713  [ 2.68485844e-02 -3.46762352e-02 -4.59849052e-...   \n",
       "5181  [ 2.05754172e-02 -3.83999050e-02 -9.29225236e-...   \n",
       "5511  [-0.00217485 -0.04031368 -0.06604777 -0.052006...   \n",
       "5888  [-8.15972779e-03 -3.46563384e-02 -5.91776446e-...   \n",
       "6299  [ 4.80043218e-02 -4.13420722e-02 -6.12363108e-...   \n",
       "7143  [ 4.39200476e-02 -3.04005221e-02 -3.47866341e-...   \n",
       "7219  [ 1.00224940e-02 -3.79302073e-03 -3.41785327e-...   \n",
       "7574  [-0.00149564 -0.06619431 -0.05084481 -0.048579...   \n",
       "8759  [ 0.01501553 -0.03575936 -0.050562   -0.034884...   \n",
       "9700  [ 1.01501048e-02 -2.80565154e-02 -4.05892394e-...   \n",
       "9822  [ 2.95880195e-02  1.65440738e-02 -3.33247967e-...   \n",
       "\n",
       "            ml_generate_embedding_statistics ml_generate_embedding_status  \\\n",
       "357    {\"token_count\":306,\"truncated\":false}                                \n",
       "428    {\"token_count\":134,\"truncated\":false}                                \n",
       "1319   {\"token_count\":215,\"truncated\":false}                                \n",
       "1993   {\"token_count\":536,\"truncated\":false}                                \n",
       "1997   {\"token_count\":123,\"truncated\":false}                                \n",
       "2469    {\"token_count\":60,\"truncated\":false}                                \n",
       "2624   {\"token_count\":254,\"truncated\":false}                                \n",
       "2832    {\"token_count\":79,\"truncated\":false}                                \n",
       "3328   {\"token_count\":156,\"truncated\":false}                                \n",
       "3650   {\"token_count\":175,\"truncated\":false}                                \n",
       "3860  {\"token_count\":1267,\"truncated\":false}                                \n",
       "4464   {\"token_count\":906,\"truncated\":false}                                \n",
       "4470   {\"token_count\":200,\"truncated\":false}                                \n",
       "4567   {\"token_count\":110,\"truncated\":false}                                \n",
       "4713   {\"token_count\":549,\"truncated\":false}                                \n",
       "5181    {\"token_count\":77,\"truncated\":false}                                \n",
       "5511   {\"token_count\":262,\"truncated\":false}                                \n",
       "5888   {\"token_count\":176,\"truncated\":false}                                \n",
       "6299   {\"token_count\":151,\"truncated\":false}                                \n",
       "7143   {\"token_count\":234,\"truncated\":false}                                \n",
       "7219    {\"token_count\":26,\"truncated\":false}                                \n",
       "7574   {\"token_count\":129,\"truncated\":false}                                \n",
       "8759   {\"token_count\":501,\"truncated\":false}                                \n",
       "9700    {\"token_count\":48,\"truncated\":false}                                \n",
       "9822   {\"token_count\":2373,\"truncated\":true}                                \n",
       "\n",
       "                                                content  \n",
       "357   I decided to try XXXX services for my wife and...  \n",
       "428   XXXX I went to the bank in question ( XXXX XXX...  \n",
       "1319  I currently have a home loan with my ex husban...  \n",
       "1993  NOT MY ACCOUNT, NOT AN AUTHORIZED USER {$1800....  \n",
       "1997  After a while the payments became harder and h...  \n",
       "2469  In the course of my student loan, I have been ...  \n",
       "2624  In accordance with the Fair Credit Reporting A...  \n",
       "2832  LVNV FUNDING LLC is continually placing a coll...  \n",
       "3328  On XX/XX/2020 I sent a letter regarding inaccu...  \n",
       "3650  Over a year and a half ago we started the proc...  \n",
       "3860  The issue is 26 late payments on me and my wif...  \n",
       "4464  I purchased as replacement for a lost XXXX XXX...  \n",
       "4470  in accordance with the Fair Credit Reporting a...  \n",
       "4567  I have submitted multiple disputes through the...  \n",
       "4713  While shopping for furniture for my home I ope...  \n",
       "5181  I had opened a Wells Fargo checking account wi...  \n",
       "5511  I recently disputed ( see attached letter ) wi...  \n",
       "5888  XXXX XXXX XXXX XXXX \n",
       "I have disputed this acco...  \n",
       "6299  XXXX ; XXXX and Transunion are reporting ( 30 ...  \n",
       "7143  My Macys account is due on the first of every ...  \n",
       "7219  Keep getting letters and calls from collection...  \n",
       "7574  On XXXX I was on the XXXX app and there was a ...  \n",
       "8759  Obviously I've been a victim of fraud, therefo...  \n",
       "9700  The following item have not been properly inve...  \n",
       "9822  During the housing market crash I went through...  \n",
       "...\n",
       "\n",
       "[10000 rows x 4 columns]"
      ]
     },
     "execution_count": 11,
     "metadata": {},
     "output_type": "execute_result"
    }
   ],
   "source": [
    "successful_rows = (\n",
    "    (predicted_embeddings[\"ml_generate_embedding_status\"] == \"\")\n",
    "    # Series.str.len() gives the length of an array.\n",
    "    # See: https://stackoverflow.com/a/41340543/101923\n",
    "    & (predicted_embeddings[\"ml_generate_embedding_result\"].str.len() != 0)\n",
    ")\n",
    "predicted_embeddings = predicted_embeddings[successful_rows]\n",
    "predicted_embeddings\n"
   ]
  },
  {
   "attachments": {},
   "cell_type": "markdown",
   "metadata": {},
   "source": [
    "We now have the complaints and their text embeddings as two columns in our predicted_embeddings DataFrame."
   ]
  },
  {
   "attachments": {},
   "cell_type": "markdown",
   "metadata": {
    "id": "OUZ3NNbzo1Tb"
   },
   "source": [
    "## Step 2: Create k-means model and predict clusters"
   ]
  },
  {
   "cell_type": "code",
   "execution_count": 12,
   "metadata": {
    "id": "AhNTnEC5FRz2"
   },
   "outputs": [],
   "source": [
    "from bigframes.ml.cluster import KMeans\n",
    "\n",
    "cluster_model = KMeans(n_clusters=10) # We will divide our complaints into 10 groups"
   ]
  },
  {
   "attachments": {},
   "cell_type": "markdown",
   "metadata": {},
   "source": [
    "Perform KMeans clustering"
   ]
  },
  {
   "cell_type": "code",
   "execution_count": 13,
   "metadata": {
    "id": "6poSxh-fGJF7"
   },
   "outputs": [
    {
     "data": {
      "text/html": [
       "Query job 18aa46ee-0b10-4912-ae14-87b7e81ee447 is DONE. 61.7 MB processed. <a target=\"_blank\" href=\"https://console.cloud.google.com/bigquery?project=bigframes-dev&j=bq:US:18aa46ee-0b10-4912-ae14-87b7e81ee447&page=queryresults\">Open Job</a>"
      ],
      "text/plain": [
       "<IPython.core.display.HTML object>"
      ]
     },
     "metadata": {},
     "output_type": "display_data"
    },
    {
     "data": {
      "text/html": [
       "Query job fd573f97-2424-472a-969d-463f184967d9 is DONE. 0 Bytes processed. <a target=\"_blank\" href=\"https://console.cloud.google.com/bigquery?project=bigframes-dev&j=bq:US:fd573f97-2424-472a-969d-463f184967d9&page=queryresults\">Open Job</a>"
      ],
      "text/plain": [
       "<IPython.core.display.HTML object>"
      ]
     },
     "metadata": {},
     "output_type": "display_data"
    },
    {
     "data": {
      "text/html": [
       "Query job 9f2e0a3f-d7d6-4fb8-b558-95f39235410d is DONE. 72.7 MB processed. <a target=\"_blank\" href=\"https://console.cloud.google.com/bigquery?project=bigframes-dev&j=bq:US:9f2e0a3f-d7d6-4fb8-b558-95f39235410d&page=queryresults\">Open Job</a>"
      ],
      "text/plain": [
       "<IPython.core.display.HTML object>"
      ]
     },
     "metadata": {},
     "output_type": "display_data"
    },
    {
     "data": {
      "text/html": [
       "Query job 786ababe-7c40-426f-bb39-154329e4c51a is DONE. 80.0 kB processed. <a target=\"_blank\" href=\"https://console.cloud.google.com/bigquery?project=bigframes-dev&j=bq:US:786ababe-7c40-426f-bb39-154329e4c51a&page=queryresults\">Open Job</a>"
      ],
      "text/plain": [
       "<IPython.core.display.HTML object>"
      ]
     },
     "metadata": {},
     "output_type": "display_data"
    },
    {
     "data": {
      "text/html": [
       "Query job a191fc97-baa6-4c7c-b78f-4365678caa60 is DONE. 73.2 MB processed. <a target=\"_blank\" href=\"https://console.cloud.google.com/bigquery?project=bigframes-dev&j=bq:US:a191fc97-baa6-4c7c-b78f-4365678caa60&page=queryresults\">Open Job</a>"
      ],
      "text/plain": [
       "<IPython.core.display.HTML object>"
      ]
     },
     "metadata": {},
     "output_type": "display_data"
    },
    {
     "data": {
      "text/html": [
       "<div>\n",
       "<style scoped>\n",
       "    .dataframe tbody tr th:only-of-type {\n",
       "        vertical-align: middle;\n",
       "    }\n",
       "\n",
       "    .dataframe tbody tr th {\n",
       "        vertical-align: top;\n",
       "    }\n",
       "\n",
       "    .dataframe thead th {\n",
       "        text-align: right;\n",
       "    }\n",
       "</style>\n",
       "<table border=\"1\" class=\"dataframe\">\n",
       "  <thead>\n",
       "    <tr style=\"text-align: right;\">\n",
       "      <th></th>\n",
       "      <th>CENTROID_ID</th>\n",
       "      <th>NEAREST_CENTROIDS_DISTANCE</th>\n",
       "      <th>ml_generate_embedding_result</th>\n",
       "      <th>ml_generate_embedding_statistics</th>\n",
       "      <th>ml_generate_embedding_status</th>\n",
       "      <th>content</th>\n",
       "    </tr>\n",
       "  </thead>\n",
       "  <tbody>\n",
       "    <tr>\n",
       "      <th>1244571</th>\n",
       "      <td>1</td>\n",
       "      <td>[{'CENTROID_ID': 1, 'DISTANCE': 0.414497263076...</td>\n",
       "      <td>[ 1.10590272e-02 -2.11433582e-02 -5.66212423e-...</td>\n",
       "      <td>{\"token_count\":100,\"truncated\":false}</td>\n",
       "      <td></td>\n",
       "      <td>Ive disputed two Bankruptcies that still exist...</td>\n",
       "    </tr>\n",
       "    <tr>\n",
       "      <th>744390</th>\n",
       "      <td>1</td>\n",
       "      <td>[{'CENTROID_ID': 1, 'DISTANCE': 0.416584344032...</td>\n",
       "      <td>[ 4.15011719e-02 -4.50705849e-02 -7.35541508e-...</td>\n",
       "      <td>{\"token_count\":100,\"truncated\":false}</td>\n",
       "      <td></td>\n",
       "      <td>The XXXX account was settled as a class action...</td>\n",
       "    </tr>\n",
       "    <tr>\n",
       "      <th>127514</th>\n",
       "      <td>1</td>\n",
       "      <td>[{'CENTROID_ID': 1, 'DISTANCE': 0.541137734253...</td>\n",
       "      <td>[ 3.54415141e-02  1.23769706e-02 -2.61783414e-...</td>\n",
       "      <td>{\"token_count\":100,\"truncated\":false}</td>\n",
       "      <td></td>\n",
       "      <td>I have late payments reported on my student lo...</td>\n",
       "    </tr>\n",
       "    <tr>\n",
       "      <th>630563</th>\n",
       "      <td>1</td>\n",
       "      <td>[{'CENTROID_ID': 1, 'DISTANCE': 0.477175150810...</td>\n",
       "      <td>[ 2.34235693e-02 -4.21241224e-02 -3.90484147e-...</td>\n",
       "      <td>{\"token_count\":100,\"truncated\":false}</td>\n",
       "      <td></td>\n",
       "      <td>A Military Star Credit card, aka Take it Home ...</td>\n",
       "    </tr>\n",
       "    <tr>\n",
       "      <th>2651231</th>\n",
       "      <td>1</td>\n",
       "      <td>[{'CENTROID_ID': 1, 'DISTANCE': 0.489760037964...</td>\n",
       "      <td>[ 2.64898203e-02 -5.62610961e-02 -5.82714193e-...</td>\n",
       "      <td>{\"token_count\":101,\"truncated\":false}</td>\n",
       "      <td></td>\n",
       "      <td>My mortgage is with Bank of America. I filed C...</td>\n",
       "    </tr>\n",
       "  </tbody>\n",
       "</table>\n",
       "</div>"
      ],
      "text/plain": [
       "         CENTROID_ID                         NEAREST_CENTROIDS_DISTANCE  \\\n",
       "1244571            1  [{'CENTROID_ID': 1, 'DISTANCE': 0.414497263076...   \n",
       "744390             1  [{'CENTROID_ID': 1, 'DISTANCE': 0.416584344032...   \n",
       "127514             1  [{'CENTROID_ID': 1, 'DISTANCE': 0.541137734253...   \n",
       "630563             1  [{'CENTROID_ID': 1, 'DISTANCE': 0.477175150810...   \n",
       "2651231            1  [{'CENTROID_ID': 1, 'DISTANCE': 0.489760037964...   \n",
       "\n",
       "                              ml_generate_embedding_result  \\\n",
       "1244571  [ 1.10590272e-02 -2.11433582e-02 -5.66212423e-...   \n",
       "744390   [ 4.15011719e-02 -4.50705849e-02 -7.35541508e-...   \n",
       "127514   [ 3.54415141e-02  1.23769706e-02 -2.61783414e-...   \n",
       "630563   [ 2.34235693e-02 -4.21241224e-02 -3.90484147e-...   \n",
       "2651231  [ 2.64898203e-02 -5.62610961e-02 -5.82714193e-...   \n",
       "\n",
       "              ml_generate_embedding_statistics ml_generate_embedding_status  \\\n",
       "1244571  {\"token_count\":100,\"truncated\":false}                                \n",
       "744390   {\"token_count\":100,\"truncated\":false}                                \n",
       "127514   {\"token_count\":100,\"truncated\":false}                                \n",
       "630563   {\"token_count\":100,\"truncated\":false}                                \n",
       "2651231  {\"token_count\":101,\"truncated\":false}                                \n",
       "\n",
       "                                                   content  \n",
       "1244571  Ive disputed two Bankruptcies that still exist...  \n",
       "744390   The XXXX account was settled as a class action...  \n",
       "127514   I have late payments reported on my student lo...  \n",
       "630563   A Military Star Credit card, aka Take it Home ...  \n",
       "2651231  My mortgage is with Bank of America. I filed C...  "
      ]
     },
     "execution_count": 13,
     "metadata": {},
     "output_type": "execute_result"
    }
   ],
   "source": [
    "# Use KMeans clustering to calculate our groups. Will take ~3 minutes.\n",
    "cluster_model.fit(predicted_embeddings[[\"ml_generate_embedding_result\"]])\n",
    "clustered_result = cluster_model.predict(predicted_embeddings)\n",
    "# Notice the CENTROID_ID column, which is the ID number of the group that\n",
    "# each complaint belongs to.\n",
    "clustered_result.peek(n=5)"
   ]
  },
  {
   "attachments": {},
   "cell_type": "markdown",
   "metadata": {},
   "source": [
    "Our DataFrame clustered_result now has an additional column that includes an ID from 1-10 (inclusive) indicating which semantically similar group they belong to."
   ]
  },
  {
   "attachments": {},
   "cell_type": "markdown",
   "metadata": {
    "id": "21rNsFMHo8hO"
   },
   "source": [
    "## Step 3: Use Gemini to summarize complaint clusters"
   ]
  },
  {
   "attachments": {},
   "cell_type": "markdown",
   "metadata": {},
   "source": [
    "Build prompts - we will choose just two of our categories and prompt GeminiTextGenerator to identify their salient characteristics. The prompt is natural language in a python string."
   ]
  },
  {
   "cell_type": "code",
   "execution_count": 14,
   "metadata": {
    "id": "2E7wXM_jGqo6"
   },
   "outputs": [
    {
     "data": {
      "text/html": [
       "Query job 8bfc647f-b9e5-40a2-816c-d12e8f81bea3 is DONE. 10.6 MB processed. <a target=\"_blank\" href=\"https://console.cloud.google.com/bigquery?project=bigframes-dev&j=bq:US:8bfc647f-b9e5-40a2-816c-d12e8f81bea3&page=queryresults\">Open Job</a>"
      ],
      "text/plain": [
       "<IPython.core.display.HTML object>"
      ]
     },
     "metadata": {},
     "output_type": "display_data"
    },
    {
     "data": {
      "text/html": [
       "Query job 6f834214-9cc3-4577-bb2d-980ba05df817 is DONE. 10.6 MB processed. <a target=\"_blank\" href=\"https://console.cloud.google.com/bigquery?project=bigframes-dev&j=bq:US:6f834214-9cc3-4577-bb2d-980ba05df817&page=queryresults\">Open Job</a>"
      ],
      "text/plain": [
       "<IPython.core.display.HTML object>"
      ]
     },
     "metadata": {},
     "output_type": "display_data"
    }
   ],
   "source": [
    "# Using bigframes, with syntax identical to pandas,\n",
    "# filter out the first and second groups\n",
    "cluster_1_result = clustered_result[\n",
    "    clustered_result[\"CENTROID_ID\"] == 1\n",
    "][[\"content\"]]\n",
    "cluster_1_result_pandas = cluster_1_result.head(5).to_pandas()\n",
    "\n",
    "cluster_2_result = clustered_result[\n",
    "    clustered_result[\"CENTROID_ID\"] == 2\n",
    "][[\"content\"]]\n",
    "cluster_2_result_pandas = cluster_2_result.head(5).to_pandas()"
   ]
  },
  {
   "cell_type": "code",
   "execution_count": 15,
   "metadata": {
    "id": "ZNDiueI9IP5e"
   },
   "outputs": [
    {
     "name": "stdout",
     "output_type": "stream",
     "text": [
      "comment list 1:\n",
      "1. I currently have a home loan with my ex husband with PHH Mortgages. We filed for divorce and in the divorce decree he became liable for the home and paying the payments. He ended up missing XXXX payments which effected my credit fairly substaintailly. when I became aware of the late payments, I ensured that the account was up to date and have since. I presented to them that I have the legal documents that he is obligated to make the payments each month and that I am not responisble for the payment. I asked them to remove the XXXX dings on my credit and they would not. I offered to present the paperwork and they still would not. The home is now being sold. I even filed with XXXX as a discrepency and they would not remove it. I would have never let these become a late payment. I was not even notified as they had all of his information in the file.\n",
      "2. In the course of my student loan, I have been making payments and I feel that the payments haven't been added to the debt, the company stated that I am delinquent over 180 and my payments are auto pay. This has had a negative impact on my credit score.\n",
      "3. The issue is 26 late payments on me and my wife 's credit reports due to a system error on a joint mortgage account that was always paid on time using autopay. ( will attach docs to support this ). \n",
      "\n",
      "This is an ongoing nightmare me and my wife are going through over the past 3 years. \n",
      "Sent many dispute letters to the creditor and to the 3 bureaus, was promised multiple times that all late payments will be removed, we also has a letter from the bank stating we were never late on this account, also have a recording of a phone call with bank 's permission were the representative admits there was a system error and promised again that all late payments will be deleted from both of our credit reports. \n",
      "As of today, for an unknown reason XXXX reports 6x30 days late payments, XXXX reports 24 lates, and Transunion 23 lates. \n",
      "\n",
      "We have always paid our mortgage on time for many years, enrolled in autopay and making 2 payments per month. Our mortgage is currently with XXXX XXXX, XXXX XXXX is the mortgage servicer who's collecting from us and disbursing payments to XXXX XXXX. \n",
      "\n",
      "I will attach here our mortgage transaction history confirming payments have been made on time, letter from the mortgage servicer XXXX XXXX XXXX XXXX confirming we were never late, copy of a page from my credit report showing all the late payments, and a few bank statements showing payment made on time while showing as late on our credit reports. ( XXXX & XXXX XXXX ) PLEASE HELP us to resolve this issue and have all late payments on this account removed from XXXX & XXXX XXXX. \n",
      "\n",
      "Her is a small portion of our previous communication with XXXX  and their response : XX/XX/XXXX : we spoke with XXXX, XXXX stated that the funds were misappropriated and went to the wrong account. Said he'll contact their Tax Dep ' and get back to me and never did. \n",
      "\n",
      "XX/XX/XXXX : I spoke in length with XXXX from XXXX XXXX & XXXX from XXXX at XXXX who opened an investigation. Their supervisor said he made all the necessary changes. The next month, the money was withdrawn from my account on time and i received again a late fee and 30 days late on my credit report. \n",
      "\n",
      "XX/XX/XXXX Spoke to XXXX who sent me to XXXX who sent me to XXXX XXXX from Escalation department, she promised the issue was fixed and late payments will be removed in up to 30 days and she will email me a deletion letter. Nothing was sent! and i called and wrote 5 emails to her and never got a response. \n",
      "\n",
      "XX/XX/XXXX spoke with XXXX to follow up with XXXX XXXX, no response. \n",
      "\n",
      "XX/XX/XXXX spoke with XXXX at XXXX, she said that the transaction history is our proof that issue was corrected and she'll submit a request to delete the late payments as the system does not show that previous request was made. \n",
      "\n",
      "XX/XX/XXXX XXXX sent a letter stating that we had a shortage of {$5300.00}. Again, upon checking my bank account all monthly payments were made on time. To avoid further issues i sent a check for {$5300.00} on XX/XX/XXXX. \n",
      "\n",
      "XX/XX/XXXX following many joint calls with XXXX XXXX i received a letter from XXXX stating that my credit might have been affected due to processing error and that they sent XXXX XXXX a letter requesting a removal of all late payments. \n",
      "\n",
      "XX/XX/XXXX spoke with XXXX XXXX again.. \n",
      "XX/XX/XXXX spoke with XXXX at XXXX I have many more... \n",
      "\n",
      "*** XX/XX/XXXX : SPOKE WITH XXXX XXXX ( resolution team ) at XXXX. She said they will delete the late payments from both reports ( XXXX & XXXX XXXX and will call me to follow up on XX/XX/XXXX. She also emailed me the payment activity on the account. XXXX I received the payment history but NO CALL OR RESOLUTION. \n",
      "\n",
      "XX/XX/XXXX : SPOKE WITH XXXX FROM XXXX AND XXXX FROM XXXX XXXX ON A XXXX WAY CALL at XXXX, XXXX PERMISSION TO RECORD THE CALL, SHE AGREED, we went over all the late payments, she said she sees the error and promised that this time it will be resolved and get deleted from our credit reports. Again, nothing was resolved and we never heard back from anyone.\n",
      "4. XXXX ; XXXX and Transunion are reporting ( 30 ) plus days late on the XXXX XXXX   partial account number XXXX. ( Please see page 3 of the attached credit report. ) This account was paid in XXXX, 2019 and the lates are reporting in XXXX, 2019. Please keep in mind that it is impossible to have late payments on an account that was paid off a month prior. This incorrect reporting is harming my credit score and this line item need to be removed from my credit report. I have contacted the ( 3 ) bureaus to fix this, however I have been unsuccessful.\n",
      "5. My Macys account is due on the first of every month. Since I have had the card I have paid on the XXXX PRIOR to the due date. And have paid over the amount due. In XXXX my XXXX XXXX auto pay did not come out of my account and rather than calling me - on the XXXX of XXXX just 5 days late they cut my credit off and shut me out of my account so I can not even see my credit profile - I have made the payment and they still are locking me out - please look into this - you will see that is what happened and they are stating in a letter it is becasue my XXXX report shows a seriuos derogorty item which it does not and I have submitted a complaint with them as well. Macys has been the worst credit experience of my LIFE and I did read the reviews but thought it would be different for me I guess? \n",
      "thank you for your help.\n",
      "\n",
      "comment list 2:\n",
      "1. I decided to try XXXX services for my wife and I so I purchased phones for both of us. After a day or two of trial we felt unsatisfied so we headed back to the store and we returned all items. We got charged with restocking fees and taxes. Later on I got a bill in the mail in which I was being charged {$1200.00} for the returned items. After several attempts of arguing for about XXXX months about whether I owed XXXX or not I was dismissed of such charges, but a month after I was charged by a collecting company called ERC for {$61.00}. I asked them to explain such charges weather if they were fees or taxes and they we unable to disclose information. Therefore, I asked them to send me a bill in the mail with details about the charges, as well as a dispute package and they told me they would send me a bill. About the dispute part, they said that I needed to call XXXX to discuss the charges with them but XXXX said that I had to discuss this with the collecting company. I never received a detailed statement neither a chanse to defend my self about such charges, I checked my credit score and found a red flag in it because of this. \n",
      "\n",
      "I am now hoping you may help me with this case. \n",
      "\n",
      "Thanks :\n",
      "2. Over a year and a half ago we started the process of buying a home. Our mortgage guy sent us to a credit repair co. They got the collection account from Weltman , Weinberg & Reis taken off my credit, because it was unverifiable. Now it is back on my credit. I have credit reports showing the trade line on and then off and now today it is currently on my report. When I called to verify the account with WW & R they sent me a heavily redacted letter verifying absolutely nothing. I would like this unverifiable account taken off my credit and removed permanently. This should not be a loan I have to pay for if there is no verification that it is my debt. Attached are the credit reports and the letter of verification that was sent to me.\n",
      "3. I recently disputed ( see attached letter ) with Receivable Management Services an account entry that they placed on my credit report without providing a dunning letter or any correspondence that would have allowed me 30 days to dispute the validity of the alleged debt. To date, I have not received any communication from them. They are blatantly violating my rights by reporting this inaccurate, erroneous, unverifiable entry.\n",
      "\n",
      "Additionally, this account entry does not reflect a payment history which should be included on any entry that is reflected on my credit report. In my previous communication to them, I specifically requested that they provide an agreement that states their authority to collect on the alleged debt, agreement with signature of the alleged debtor wherein he/she agreed to pay the creditor, alleged account number, date this alleged debt became payable, original delinquency date, and to date to no avail. \n",
      "\n",
      "As such, since they have refused to respond to my request and not provide any documentation to substantiate their allegations, coupled with the fact that they did not provide me a dunning letter is grounds for this erroneous, inaccurate, unverifiable entry to be deleted from my credit report.\n",
      "4. I accepted service from XXXX XXXX XXXX. The company did not inform me that internet was required. They also told me that the agreement was at will without penalty. They never addressed my needs as a customer. My bill is only {$230.00}. They placed false information regarding my bill with a collection agency who has placed information on my credit report without contacting me or giving me an opportunity to dispute the validity of the debt. The debt is not valid. The actions are unlawful and I am requesting that the actions of this collection agency be reported to the Federal Trade Commission.\n",
      "5. I have continued to submit an investigation for a Bankruptcy place on my credit report. I have been trying to get this removed because it was place on my credit report in error and inaccurate. ALL THREE CREDIT BUREAUS have continue to ignore the information proving this was place in error and fail to properly investigate the dispute I have place in their office. \n",
      "\n",
      "1. They say they have verified this dispute with XXXX but I have a letter from XXXX stating this was removed because they were unable to verify the accuracy of the bankruptcy. I received this letter on XX/XX/XXXX. XXXX just finished an investigation on XX/XX/2019 stating the verified this with XXXX. \n",
      "2.Experian Open the dispute on XX/XX/2019 and closed it on XX/XX/19 stated they verified with XXXX and the Bankruptcy court and I have a letter From XXXX stating they could not verify the accuracy of this dispute. I also, have a letter from the court house stating they do not verify information with the credit bureaus How could be this be on my XXXX file when XXXX has removed this item. \n",
      "3. XXXX open and investigation XX/XX/2019 and closed it XX/XX/2019 No way they properly investigation I have submitted all information to dispute the inaccurate information. Please do a proper investigation. \n",
      "\n",
      "XXXX, Experian, and XXXX please do a proper investigation under 611 of the FCRA thank you very much I have attached the letter proving this this is not on my XXXX consumer report and a letter form the court house stating they do not report information to the credit bureaus from the XXXX XXXX XXXX, Clerk of Court United State Bankruptcy Court on dated XX/XX/2019 I have summited it to the credit bureaus to be ignored. I have as for a description of my investigation by section 611 of the FCRA and the information from the investigation is inaccurate.\n",
      "\n"
     ]
    }
   ],
   "source": [
    "# Build plain-text prompts to send to PaLM 2. Use only 5 complaints from each group.\n",
    "prompt1 = 'comment list 1:\\n'\n",
    "for i in range(5):\n",
    "    prompt1 += str(i + 1) + '. ' + \\\n",
    "        cluster_1_result_pandas[\"content\"].iloc[i] + '\\n'\n",
    "\n",
    "prompt2 = 'comment list 2:\\n'\n",
    "for i in range(5):\n",
    "    prompt2 += str(i + 1) + '. ' + \\\n",
    "        cluster_2_result_pandas[\"content\"].iloc[i] + '\\n'\n",
    "\n",
    "print(prompt1)\n",
    "print(prompt2)"
   ]
  },
  {
   "cell_type": "code",
   "execution_count": 16,
   "metadata": {
    "id": "BfHGJLirzSvH"
   },
   "outputs": [
    {
     "name": "stdout",
     "output_type": "stream",
     "text": [
      "Please highlight the most obvious difference between the two lists of comments:\n",
      "comment list 1:\n",
      "1. I currently have a home loan with my ex husband with PHH Mortgages. We filed for divorce and in the divorce decree he became liable for the home and paying the payments. He ended up missing XXXX payments which effected my credit fairly substaintailly. when I became aware of the late payments, I ensured that the account was up to date and have since. I presented to them that I have the legal documents that he is obligated to make the payments each month and that I am not responisble for the payment. I asked them to remove the XXXX dings on my credit and they would not. I offered to present the paperwork and they still would not. The home is now being sold. I even filed with XXXX as a discrepency and they would not remove it. I would have never let these become a late payment. I was not even notified as they had all of his information in the file.\n",
      "2. In the course of my student loan, I have been making payments and I feel that the payments haven't been added to the debt, the company stated that I am delinquent over 180 and my payments are auto pay. This has had a negative impact on my credit score.\n",
      "3. The issue is 26 late payments on me and my wife 's credit reports due to a system error on a joint mortgage account that was always paid on time using autopay. ( will attach docs to support this ). \n",
      "\n",
      "This is an ongoing nightmare me and my wife are going through over the past 3 years. \n",
      "Sent many dispute letters to the creditor and to the 3 bureaus, was promised multiple times that all late payments will be removed, we also has a letter from the bank stating we were never late on this account, also have a recording of a phone call with bank 's permission were the representative admits there was a system error and promised again that all late payments will be deleted from both of our credit reports. \n",
      "As of today, for an unknown reason XXXX reports 6x30 days late payments, XXXX reports 24 lates, and Transunion 23 lates. \n",
      "\n",
      "We have always paid our mortgage on time for many years, enrolled in autopay and making 2 payments per month. Our mortgage is currently with XXXX XXXX, XXXX XXXX is the mortgage servicer who's collecting from us and disbursing payments to XXXX XXXX. \n",
      "\n",
      "I will attach here our mortgage transaction history confirming payments have been made on time, letter from the mortgage servicer XXXX XXXX XXXX XXXX confirming we were never late, copy of a page from my credit report showing all the late payments, and a few bank statements showing payment made on time while showing as late on our credit reports. ( XXXX & XXXX XXXX ) PLEASE HELP us to resolve this issue and have all late payments on this account removed from XXXX & XXXX XXXX. \n",
      "\n",
      "Her is a small portion of our previous communication with XXXX  and their response : XX/XX/XXXX : we spoke with XXXX, XXXX stated that the funds were misappropriated and went to the wrong account. Said he'll contact their Tax Dep ' and get back to me and never did. \n",
      "\n",
      "XX/XX/XXXX : I spoke in length with XXXX from XXXX XXXX & XXXX from XXXX at XXXX who opened an investigation. Their supervisor said he made all the necessary changes. The next month, the money was withdrawn from my account on time and i received again a late fee and 30 days late on my credit report. \n",
      "\n",
      "XX/XX/XXXX Spoke to XXXX who sent me to XXXX who sent me to XXXX XXXX from Escalation department, she promised the issue was fixed and late payments will be removed in up to 30 days and she will email me a deletion letter. Nothing was sent! and i called and wrote 5 emails to her and never got a response. \n",
      "\n",
      "XX/XX/XXXX spoke with XXXX to follow up with XXXX XXXX, no response. \n",
      "\n",
      "XX/XX/XXXX spoke with XXXX at XXXX, she said that the transaction history is our proof that issue was corrected and she'll submit a request to delete the late payments as the system does not show that previous request was made. \n",
      "\n",
      "XX/XX/XXXX XXXX sent a letter stating that we had a shortage of {$5300.00}. Again, upon checking my bank account all monthly payments were made on time. To avoid further issues i sent a check for {$5300.00} on XX/XX/XXXX. \n",
      "\n",
      "XX/XX/XXXX following many joint calls with XXXX XXXX i received a letter from XXXX stating that my credit might have been affected due to processing error and that they sent XXXX XXXX a letter requesting a removal of all late payments. \n",
      "\n",
      "XX/XX/XXXX spoke with XXXX XXXX again.. \n",
      "XX/XX/XXXX spoke with XXXX at XXXX I have many more... \n",
      "\n",
      "*** XX/XX/XXXX : SPOKE WITH XXXX XXXX ( resolution team ) at XXXX. She said they will delete the late payments from both reports ( XXXX & XXXX XXXX and will call me to follow up on XX/XX/XXXX. She also emailed me the payment activity on the account. XXXX I received the payment history but NO CALL OR RESOLUTION. \n",
      "\n",
      "XX/XX/XXXX : SPOKE WITH XXXX FROM XXXX AND XXXX FROM XXXX XXXX ON A XXXX WAY CALL at XXXX, XXXX PERMISSION TO RECORD THE CALL, SHE AGREED, we went over all the late payments, she said she sees the error and promised that this time it will be resolved and get deleted from our credit reports. Again, nothing was resolved and we never heard back from anyone.\n",
      "4. XXXX ; XXXX and Transunion are reporting ( 30 ) plus days late on the XXXX XXXX   partial account number XXXX. ( Please see page 3 of the attached credit report. ) This account was paid in XXXX, 2019 and the lates are reporting in XXXX, 2019. Please keep in mind that it is impossible to have late payments on an account that was paid off a month prior. This incorrect reporting is harming my credit score and this line item need to be removed from my credit report. I have contacted the ( 3 ) bureaus to fix this, however I have been unsuccessful.\n",
      "5. My Macys account is due on the first of every month. Since I have had the card I have paid on the XXXX PRIOR to the due date. And have paid over the amount due. In XXXX my XXXX XXXX auto pay did not come out of my account and rather than calling me - on the XXXX of XXXX just 5 days late they cut my credit off and shut me out of my account so I can not even see my credit profile - I have made the payment and they still are locking me out - please look into this - you will see that is what happened and they are stating in a letter it is becasue my XXXX report shows a seriuos derogorty item which it does not and I have submitted a complaint with them as well. Macys has been the worst credit experience of my LIFE and I did read the reviews but thought it would be different for me I guess? \n",
      "thank you for your help.\n",
      "comment list 2:\n",
      "1. I decided to try XXXX services for my wife and I so I purchased phones for both of us. After a day or two of trial we felt unsatisfied so we headed back to the store and we returned all items. We got charged with restocking fees and taxes. Later on I got a bill in the mail in which I was being charged {$1200.00} for the returned items. After several attempts of arguing for about XXXX months about whether I owed XXXX or not I was dismissed of such charges, but a month after I was charged by a collecting company called ERC for {$61.00}. I asked them to explain such charges weather if they were fees or taxes and they we unable to disclose information. Therefore, I asked them to send me a bill in the mail with details about the charges, as well as a dispute package and they told me they would send me a bill. About the dispute part, they said that I needed to call XXXX to discuss the charges with them but XXXX said that I had to discuss this with the collecting company. I never received a detailed statement neither a chanse to defend my self about such charges, I checked my credit score and found a red flag in it because of this. \n",
      "\n",
      "I am now hoping you may help me with this case. \n",
      "\n",
      "Thanks :\n",
      "2. Over a year and a half ago we started the process of buying a home. Our mortgage guy sent us to a credit repair co. They got the collection account from Weltman , Weinberg & Reis taken off my credit, because it was unverifiable. Now it is back on my credit. I have credit reports showing the trade line on and then off and now today it is currently on my report. When I called to verify the account with WW & R they sent me a heavily redacted letter verifying absolutely nothing. I would like this unverifiable account taken off my credit and removed permanently. This should not be a loan I have to pay for if there is no verification that it is my debt. Attached are the credit reports and the letter of verification that was sent to me.\n",
      "3. I recently disputed ( see attached letter ) with Receivable Management Services an account entry that they placed on my credit report without providing a dunning letter or any correspondence that would have allowed me 30 days to dispute the validity of the alleged debt. To date, I have not received any communication from them. They are blatantly violating my rights by reporting this inaccurate, erroneous, unverifiable entry.\n",
      "\n",
      "Additionally, this account entry does not reflect a payment history which should be included on any entry that is reflected on my credit report. In my previous communication to them, I specifically requested that they provide an agreement that states their authority to collect on the alleged debt, agreement with signature of the alleged debtor wherein he/she agreed to pay the creditor, alleged account number, date this alleged debt became payable, original delinquency date, and to date to no avail. \n",
      "\n",
      "As such, since they have refused to respond to my request and not provide any documentation to substantiate their allegations, coupled with the fact that they did not provide me a dunning letter is grounds for this erroneous, inaccurate, unverifiable entry to be deleted from my credit report.\n",
      "4. I accepted service from XXXX XXXX XXXX. The company did not inform me that internet was required. They also told me that the agreement was at will without penalty. They never addressed my needs as a customer. My bill is only {$230.00}. They placed false information regarding my bill with a collection agency who has placed information on my credit report without contacting me or giving me an opportunity to dispute the validity of the debt. The debt is not valid. The actions are unlawful and I am requesting that the actions of this collection agency be reported to the Federal Trade Commission.\n",
      "5. I have continued to submit an investigation for a Bankruptcy place on my credit report. I have been trying to get this removed because it was place on my credit report in error and inaccurate. ALL THREE CREDIT BUREAUS have continue to ignore the information proving this was place in error and fail to properly investigate the dispute I have place in their office. \n",
      "\n",
      "1. They say they have verified this dispute with XXXX but I have a letter from XXXX stating this was removed because they were unable to verify the accuracy of the bankruptcy. I received this letter on XX/XX/XXXX. XXXX just finished an investigation on XX/XX/2019 stating the verified this with XXXX. \n",
      "2.Experian Open the dispute on XX/XX/2019 and closed it on XX/XX/19 stated they verified with XXXX and the Bankruptcy court and I have a letter From XXXX stating they could not verify the accuracy of this dispute. I also, have a letter from the court house stating they do not verify information with the credit bureaus How could be this be on my XXXX file when XXXX has removed this item. \n",
      "3. XXXX open and investigation XX/XX/2019 and closed it XX/XX/2019 No way they properly investigation I have submitted all information to dispute the inaccurate information. Please do a proper investigation. \n",
      "\n",
      "XXXX, Experian, and XXXX please do a proper investigation under 611 of the FCRA thank you very much I have attached the letter proving this this is not on my XXXX consumer report and a letter form the court house stating they do not report information to the credit bureaus from the XXXX XXXX XXXX, Clerk of Court United State Bankruptcy Court on dated XX/XX/2019 I have summited it to the credit bureaus to be ignored. I have as for a description of my investigation by section 611 of the FCRA and the information from the investigation is inaccurate.\n",
      "\n"
     ]
    }
   ],
   "source": [
    "# The plain English request we will make of PaLM 2\n",
    "prompt = (\n",
    "    \"Please highlight the most obvious difference between \"\n",
    "    \"the two lists of comments:\\n\" + prompt1 + prompt2\n",
    ")\n",
    "print(prompt)"
   ]
  },
  {
   "attachments": {},
   "cell_type": "markdown",
   "metadata": {},
   "source": [
    "Get a response from Gemini by making a call to Vertex AI using our connection."
   ]
  },
  {
   "cell_type": "code",
   "execution_count": 17,
   "metadata": {
    "id": "mL5P0_3X04dE"
   },
   "outputs": [
    {
     "data": {
      "text/html": [
       "Query job a069b4a5-5238-4ca8-a6c0-d48781d00f6c is DONE. 0 Bytes processed. <a target=\"_blank\" href=\"https://console.cloud.google.com/bigquery?project=bigframes-dev&j=bq:US:a069b4a5-5238-4ca8-a6c0-d48781d00f6c&page=queryresults\">Open Job</a>"
      ],
      "text/plain": [
       "<IPython.core.display.HTML object>"
      ]
     },
     "metadata": {},
     "output_type": "display_data"
    }
   ],
   "source": [
    "from bigframes.ml.llm import GeminiTextGenerator\n",
    "\n",
    "q_a_model = GeminiTextGenerator()"
   ]
  },
  {
   "cell_type": "code",
   "execution_count": 18,
   "metadata": {
    "id": "ICWHsqAW1FNk"
   },
   "outputs": [],
   "source": [
    "# Make a DataFrame containing only a single row with our prompt for Gemini\n",
    "df = bf.DataFrame({\"prompt\": [prompt]})"
   ]
  },
  {
   "cell_type": "code",
   "execution_count": 19,
   "metadata": {
    "id": "gB7e1LXU1pst"
   },
   "outputs": [
    {
     "data": {
      "text/html": [
       "Query job 63f6e1d0-b0dc-4f5c-a001-5889c28162c5 is DONE. 0 Bytes processed. <a target=\"_blank\" href=\"https://console.cloud.google.com/bigquery?project=bigframes-dev&j=bq:US:63f6e1d0-b0dc-4f5c-a001-5889c28162c5&page=queryresults\">Open Job</a>"
      ],
      "text/plain": [
       "<IPython.core.display.HTML object>"
      ]
     },
     "metadata": {},
     "output_type": "display_data"
    },
    {
     "data": {
      "text/html": [
       "Query job c1c9e28b-ba6d-4485-b892-0bf2428f927c is DONE. 8 Bytes processed. <a target=\"_blank\" href=\"https://console.cloud.google.com/bigquery?project=bigframes-dev&j=bq:US:c1c9e28b-ba6d-4485-b892-0bf2428f927c&page=queryresults\">Open Job</a>"
      ],
      "text/plain": [
       "<IPython.core.display.HTML object>"
      ]
     },
     "metadata": {},
     "output_type": "display_data"
    },
    {
     "data": {
      "text/html": [
       "Query job 67402b3c-eee4-4fe4-aeaf-fb27606ecde7 is DONE. 2 Bytes processed. <a target=\"_blank\" href=\"https://console.cloud.google.com/bigquery?project=bigframes-dev&j=bq:US:67402b3c-eee4-4fe4-aeaf-fb27606ecde7&page=queryresults\">Open Job</a>"
      ],
      "text/plain": [
       "<IPython.core.display.HTML object>"
      ]
     },
     "metadata": {},
     "output_type": "display_data"
    },
    {
     "data": {
      "text/html": [
       "Query job 83166900-0787-4a6d-b822-c3be87990e35 is DONE. 328 Bytes processed. <a target=\"_blank\" href=\"https://console.cloud.google.com/bigquery?project=bigframes-dev&j=bq:US:83166900-0787-4a6d-b822-c3be87990e35&page=queryresults\">Open Job</a>"
      ],
      "text/plain": [
       "<IPython.core.display.HTML object>"
      ]
     },
     "metadata": {},
     "output_type": "display_data"
    },
    {
     "data": {
      "text/plain": [
       "'The most obvious difference between the two lists of comments is that the first list contains comments about credit report issues related to mortgages and loans, while the second list contains comments about credit report issues related to other types of debts, such as cell phone bills, collections, and bankruptcies.'"
      ]
     },
     "execution_count": 19,
     "metadata": {},
     "output_type": "execute_result"
    }
   ],
   "source": [
    "# Send the request for Gemini to generate a response to our prompt\n",
    "major_difference = q_a_model.predict(df)\n",
    "# PaLM 2's response is the only row in the dataframe result \n",
    "major_difference[\"ml_generate_text_llm_result\"].iloc[0]"
   ]
  },
  {
   "attachments": {},
   "cell_type": "markdown",
   "metadata": {},
   "source": [
    "We now see GeminiTextGenerator's characterization of the different comment groups. Thanks for using BigQuery DataFrames!"
   ]
  },
  {
   "cell_type": "markdown",
   "metadata": {},
   "source": [
    "# Summary and next steps\n",
    "\n",
    "You've used the ML and LLM capabilities of BigQuery DataFrames to help analyze and understand a large dataset of unstructured feedback.\n",
    "\n",
    "Learn more about BigQuery DataFrames in the [documentation](https://cloud.google.com/python/docs/reference/bigframes/latest) and find more sample notebooks in the [GitHub repo](https://github.com/googleapis/python-bigquery-dataframes/tree/main/notebooks)."
   ]
  }
 ],
 "metadata": {
  "colab": {
   "provenance": []
  },
  "kernelspec": {
   "display_name": "Python 3 (ipykernel)",
   "language": "python",
   "name": "python3"
  },
  "language_info": {
   "codemirror_mode": {
    "name": "ipython",
    "version": 3
   },
   "file_extension": ".py",
   "mimetype": "text/x-python",
   "name": "python",
   "nbconvert_exporter": "python",
   "pygments_lexer": "ipython3",
   "version": "3.10.13"
  }
 },
 "nbformat": 4,
 "nbformat_minor": 4
}
