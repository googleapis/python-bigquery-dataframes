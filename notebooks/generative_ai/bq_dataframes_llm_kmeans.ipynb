{
 "cells": [
  {
   "cell_type": "code",
   "execution_count": 1,
   "metadata": {},
   "outputs": [],
   "source": [
    "# Copyright 2023 Google LLC\n",
    "#\n",
    "# Licensed under the Apache License, Version 2.0 (the \"License\");\n",
    "# you may not use this file except in compliance with the License.\n",
    "# You may obtain a copy of the License at\n",
    "#\n",
    "#     https://www.apache.org/licenses/LICENSE-2.0\n",
    "#\n",
    "# Unless required by applicable law or agreed to in writing, software\n",
    "# distributed under the License is distributed on an \"AS IS\" BASIS,\n",
    "# WITHOUT WARRANTIES OR CONDITIONS OF ANY KIND, either express or implied.\n",
    "# See the License for the specific language governing permissions and\n",
    "# limitations under the License."
   ]
  },
  {
   "attachments": {},
   "cell_type": "markdown",
   "metadata": {},
   "source": [
    "## Use BigQuery DataFrames to cluster and characterize complaints\n",
    "\n",
    "<table align=\"left\">\n",
    "\n",
    "  <td>\n",
    "    <a href=\"https://colab.research.google.com/github/googleapis/python-bigquery-dataframes/blob/main/notebooks/generative_ai/bq_dataframes_llm_kmeans.ipynb\">\n",
    "      <img src=\"https://cloud.google.com/ml-engine/images/colab-logo-32px.png\" alt=\"Colab logo\"> Run in Colab\n",
    "    </a>\n",
    "  </td>\n",
    "  <td>\n",
    "    <a href=\"https://github.com/googleapis/python-bigquery-dataframes/tree/main/notebooks/generative_ai/bq_dataframes_llm_kmeans.ipynb\">\n",
    "      <img src=\"https://cloud.google.com/ml-engine/images/github-logo-32px.png\" alt=\"GitHub logo\">\n",
    "      View on GitHub\n",
    "    </a>\n",
    "  </td>\n",
    "  <td>\n",
    "    <a href=\"https://console.cloud.google.com/vertex-ai/workbench/deploy-notebook?download_url=https://raw.githubusercontent.com/googleapis/python-bigquery-dataframes/tree/main/notebooks/generative_ai/bq_dataframes_llm_kmeans.ipynb\">\n",
    "      <img src=\"https://lh3.googleusercontent.com/UiNooY4LUgW_oTvpsNhPpQzsstV5W8F7rYgxgGBD85cWJoLmrOzhVs_ksK_vgx40SHs7jCqkTkCk=e14-rj-sc0xffffff-h130-w32\" alt=\"Vertex AI logo\">\n",
    "      Open in Vertex AI Workbench\n",
    "    </a>\n",
    "  </td>\n",
    "  <td>\n",
    "    <a href=\"https://console.cloud.google.com/bigquery/import?url=https://github.com/googleapis/python-bigquery-dataframes/blob/main/notebooks/generative_ai/bq_dataframes_llm_kmeans.ipynb\">\n",
    "      <img src=\"https://encrypted-tbn0.gstatic.com/images?q=tbn:ANd9GcTW1gvOovVlbZAIZylUtf5Iu8-693qS1w5NJw&s\" alt=\"BQ logo\" width=\"35\">\n",
    "      Open in BQ Studio\n",
    "    </a>\n",
    "  </td>\n",
    "</table>"
   ]
  },
  {
   "attachments": {},
   "cell_type": "markdown",
   "metadata": {},
   "source": [
    "## Overview\n",
    "\n",
    "The goal of this notebook is to demonstrate a comment characterization algorithm for an online business. We will accomplish this using [Google's Embedding Models](https://cloud.google.com/vertex-ai/generative-ai/docs/learn/models#models) and [KMeans clustering](https://en.wikipedia.org/wiki/K-means_clustering) in three steps:\n",
    "\n",
    "1. Use TextEmbeddingGenerator to [generate text embeddings](https://cloud.google.com/vertex-ai/docs/generative-ai/embeddings/get-text-embeddings) for each of 10000 complaints sent to an online bank. If you're not familiar with what a text embedding is, it's a list of numbers that are like coordinates in an imaginary \"meaning space\" for sentences. (It's like [word embeddings](https://en.wikipedia.org/wiki/Word_embedding), but for more general text.) The important point for our purposes is that similar sentences are close to each other in this imaginary space.\n",
    "2. Use KMeans clustering to group together complaints whose text embeddings are near to eachother. This will give us sets of similar complaints, but we don't yet know _why_ these complaints are similar.\n",
    "3. Prompt GeminiTextGenerator in English asking what the difference is between the groups of complaints that we got. Thanks to the power of modern LLMs, the response might give us a very good idea of what these complaints are all about, but remember to [\"understand the limits of your dataset and model.\"](https://ai.google/responsibility/responsible-ai-practices/#:~:text=Understand%20the%20limitations%20of%20your%20dataset%20and%20model)\n",
    "\n",
    "We will tie these pieces together in Python using BigQuery DataFrames. [Click here](https://cloud.google.com/bigquery/docs/dataframes-quickstart) to learn more about BigQuery DataFrames!"
   ]
  },
  {
   "attachments": {},
   "cell_type": "markdown",
   "metadata": {},
   "source": [
    "### Dataset\n",
    "\n",
    "This notebook uses the [CFPB Consumer Complaint Database](https://console.cloud.google.com/marketplace/product/cfpb/complaint-database)."
   ]
  },
  {
   "attachments": {},
   "cell_type": "markdown",
   "metadata": {},
   "source": [
    "### Costs\n",
    "\n",
    "This tutorial uses billable components of Google Cloud:\n",
    "\n",
    "* BigQuery (compute)\n",
    "* BigQuery ML\n",
    "* Generative AI support on Vertex AI\n",
    "\n",
    "Learn about [BigQuery compute pricing](https://cloud.google.com/bigquery/pricing#analysis_pricing_models), [Generative AI support on Vertex AI pricing](https://cloud.google.com/vertex-ai/pricing#generative_ai_models),\n",
    "and [BigQuery ML pricing](https://cloud.google.com/bigquery/pricing#bqml),\n",
    "and use the [Pricing Calculator](https://cloud.google.com/products/calculator/)\n",
    "to generate a cost estimate based on your projected usage."
   ]
  },
  {
   "attachments": {},
   "cell_type": "markdown",
   "metadata": {},
   "source": [
    "## Before you begin\n",
    "\n",
    "Complete the tasks in this section to set up your environment."
   ]
  },
  {
   "attachments": {},
   "cell_type": "markdown",
   "metadata": {},
   "source": [
    "### Set up your Google Cloud project\n",
    "\n",
    "**The following steps are required, regardless of your notebook environment.**\n",
    "\n",
    "1. [Select or create a Google Cloud project](https://console.cloud.google.com/cloud-resource-manager). When you first create an account, you get a $300 credit towards your compute/storage costs.\n",
    "\n",
    "2. [Make sure that billing is enabled for your project](https://cloud.google.com/billing/docs/how-to/modify-project).\n",
    "\n",
    "3. [Click here](https://console.cloud.google.com/flows/enableapi?apiid=bigquery.googleapis.com,bigqueryconnection.googleapis.com,aiplatform.googleapis.com) to enable the following APIs:\n",
    "\n",
    "  * BigQuery API\n",
    "  * BigQuery Connection API\n",
    "  * Vertex AI API\n",
    "\n",
    "4. If you are running this notebook locally, install the [Cloud SDK](https://cloud.google.com/sdk)."
   ]
  },
  {
   "attachments": {},
   "cell_type": "markdown",
   "metadata": {},
   "source": [
    "#### Set your project ID\n",
    "\n",
    "**If you don't know your project ID**, see the support page: [Locate the project ID](https://support.google.com/googleapi/answer/7014113)"
   ]
  },
  {
   "cell_type": "code",
   "execution_count": 2,
   "metadata": {},
   "outputs": [],
   "source": [
    "# set your project ID below\n",
    "PROJECT_ID = \"\"  # @param {type:\"string\"}\n",
    "\n",
    "# Set the project id in gcloud\n",
    "#! gcloud config set project {PROJECT_ID}"
   ]
  },
  {
   "attachments": {},
   "cell_type": "markdown",
   "metadata": {},
   "source": [
    "#### Authenticate your Google Cloud account\n",
    "\n",
    "Depending on your Jupyter environment, you might have to manually authenticate. Follow the relevant instructions below."
   ]
  },
  {
   "attachments": {},
   "cell_type": "markdown",
   "metadata": {},
   "source": [
    "**Vertex AI Workbench**\n",
    "\n",
    "Do nothing, you are already authenticated."
   ]
  },
  {
   "attachments": {},
   "cell_type": "markdown",
   "metadata": {},
   "source": [
    "**Local JupyterLab instance**\n",
    "\n",
    "Uncomment and run the following cell:"
   ]
  },
  {
   "cell_type": "code",
   "execution_count": 3,
   "metadata": {},
   "outputs": [],
   "source": [
    "# ! gcloud auth login"
   ]
  },
  {
   "attachments": {},
   "cell_type": "markdown",
   "metadata": {},
   "source": [
    "**Colab**\n",
    "\n",
    "Uncomment and run the following cell:"
   ]
  },
  {
   "cell_type": "code",
   "execution_count": 4,
   "metadata": {},
   "outputs": [],
   "source": [
    "# from google.colab import auth\n",
    "# auth.authenticate_user()"
   ]
  },
  {
   "attachments": {},
   "cell_type": "markdown",
   "metadata": {},
   "source": [
    "Now we are ready to use BigQuery DataFrames!"
   ]
  },
  {
   "attachments": {},
   "cell_type": "markdown",
   "metadata": {
    "id": "xckgWno6ouHY"
   },
   "source": [
    "## Step 1: Text embedding "
   ]
  },
  {
   "attachments": {},
   "cell_type": "markdown",
   "metadata": {},
   "source": [
    "BigQuery DataFrames setup"
   ]
  },
  {
   "cell_type": "code",
   "execution_count": 5,
   "metadata": {
    "id": "R7STCS8xB5d2"
   },
   "outputs": [],
   "source": [
    "import bigframes.pandas as bf\n",
    "\n",
    "# Note: The project option is not required in all environments.\n",
    "# On BigQuery Studio, the project ID is automatically detected.\n",
    "bf.options.bigquery.project = PROJECT_ID"
   ]
  },
  {
   "attachments": {},
   "cell_type": "markdown",
   "metadata": {},
   "source": [
    "If you want to reset the location of the created DataFrame or Series objects, reset the session by executing `bf.close_session()`. After that, you can reuse `bf.options.bigquery.location` to specify another location."
   ]
  },
  {
   "attachments": {},
   "cell_type": "markdown",
   "metadata": {
    "id": "v6FGschEowht"
   },
   "source": [
    "Data Input - read the data from a publicly available BigQuery dataset"
   ]
  },
  {
   "cell_type": "code",
   "execution_count": 6,
   "metadata": {
    "id": "zDSwoBo1CU3G"
   },
   "outputs": [
    {
     "data": {
      "text/html": [
       "Query job 3bd53bbe-329d-4a61-8ae4-519ba0aedbac is DONE. 0 Bytes processed. <a target=\"_blank\" href=\"https://console.cloud.google.com/bigquery?project=bigframes-dev&j=bq:US:3bd53bbe-329d-4a61-8ae4-519ba0aedbac&page=queryresults\">Open Job</a>"
      ],
      "text/plain": [
       "<IPython.core.display.HTML object>"
      ]
     },
     "metadata": {},
     "output_type": "display_data"
    }
   ],
   "source": [
    "input_df = bf.read_gbq(\"bigquery-public-data.cfpb_complaints.complaint_database\")"
   ]
  },
  {
   "cell_type": "code",
   "execution_count": 7,
   "metadata": {
    "id": "tYDoaKgJChiq"
   },
   "outputs": [
    {
     "data": {
      "text/html": [
       "Query job dc9def31-6b90-45ab-9812-8ceb753f1899 is DONE. 2.3 GB processed. <a target=\"_blank\" href=\"https://console.cloud.google.com/bigquery?project=bigframes-dev&j=bq:US:dc9def31-6b90-45ab-9812-8ceb753f1899&page=queryresults\">Open Job</a>"
      ],
      "text/plain": [
       "<IPython.core.display.HTML object>"
      ]
     },
     "metadata": {},
     "output_type": "display_data"
    },
    {
     "data": {
      "text/html": [
       "<div>\n",
       "<style scoped>\n",
       "    .dataframe tbody tr th:only-of-type {\n",
       "        vertical-align: middle;\n",
       "    }\n",
       "\n",
       "    .dataframe tbody tr th {\n",
       "        vertical-align: top;\n",
       "    }\n",
       "\n",
       "    .dataframe thead th {\n",
       "        text-align: right;\n",
       "    }\n",
       "</style>\n",
       "<table border=\"1\" class=\"dataframe\">\n",
       "  <thead>\n",
       "    <tr style=\"text-align: right;\">\n",
       "      <th></th>\n",
       "      <th>consumer_complaint_narrative</th>\n",
       "    </tr>\n",
       "  </thead>\n",
       "  <tbody>\n",
       "    <tr>\n",
       "      <th>3274540</th>\n",
       "      <td>This is my XXXX request that I have been a vic...</td>\n",
       "    </tr>\n",
       "    <tr>\n",
       "      <th>3274638</th>\n",
       "      <td>This complaint is in regards to the Student Lo...</td>\n",
       "    </tr>\n",
       "    <tr>\n",
       "      <th>3275041</th>\n",
       "      <td>XXXX XXXX XXXX keeps raising my monthly paymen...</td>\n",
       "    </tr>\n",
       "    <tr>\n",
       "      <th>3275069</th>\n",
       "      <td>A check was stolen from my purse, forged, and ...</td>\n",
       "    </tr>\n",
       "    <tr>\n",
       "      <th>3275144</th>\n",
       "      <td>In accordance with the Fair Credit Reporting a...</td>\n",
       "    </tr>\n",
       "  </tbody>\n",
       "</table>\n",
       "</div>"
      ],
      "text/plain": [
       "                              consumer_complaint_narrative\n",
       "3274540  This is my XXXX request that I have been a vic...\n",
       "3274638  This complaint is in regards to the Student Lo...\n",
       "3275041  XXXX XXXX XXXX keeps raising my monthly paymen...\n",
       "3275069  A check was stolen from my purse, forged, and ...\n",
       "3275144  In accordance with the Fair Credit Reporting a..."
      ]
     },
     "execution_count": 7,
     "metadata": {},
     "output_type": "execute_result"
    }
   ],
   "source": [
    "issues_df = input_df[[\"consumer_complaint_narrative\"]].dropna()\n",
    "issues_df.peek(n=5) # View an arbitrary five complaints"
   ]
  },
  {
   "attachments": {},
   "cell_type": "markdown",
   "metadata": {},
   "source": [
    "Downsample DataFrame to 10,000 records for model training."
   ]
  },
  {
   "cell_type": "code",
   "execution_count": 8,
   "metadata": {
    "id": "OltYSUEcsSOW"
   },
   "outputs": [],
   "source": [
    "# Choose 10,000 complaints randomly and store them in a column in a DataFrame\n",
    "downsampled_issues_df = issues_df.sample(n=10000)"
   ]
  },
  {
   "attachments": {},
   "cell_type": "markdown",
   "metadata": {
    "id": "Wl2o-NYMoygb"
   },
   "source": [
    "Generate the text embeddings"
   ]
  },
  {
   "cell_type": "code",
   "execution_count": 9,
   "metadata": {
    "id": "li38q8FzDDMu"
   },
   "outputs": [
    {
     "name": "stderr",
     "output_type": "stream",
     "text": [
      "/usr/local/google/home/arwas/src1/python-bigquery-dataframes/bigframes/core/log_adapter.py:164: FutureWarning: Since upgrading the default model can cause unintended breakages, the\n",
      "default model will be removed in BigFrames 3.0. Please supply an\n",
      "explicit model to avoid this message.\n",
      "  return method(self, *args, **kwargs)\n"
     ]
    },
    {
     "data": {
      "text/html": [
       "Query job f6131b15-76ea-42d1-91a4-62dec4cda8f7 is DONE. 0 Bytes processed. <a target=\"_blank\" href=\"https://console.cloud.google.com/bigquery?project=bigframes-dev&j=bq:US:f6131b15-76ea-42d1-91a4-62dec4cda8f7&page=queryresults\">Open Job</a>"
      ],
      "text/plain": [
       "<IPython.core.display.HTML object>"
      ]
     },
     "metadata": {},
     "output_type": "display_data"
    }
   ],
   "source": [
    "from bigframes.ml.llm import TextEmbeddingGenerator\n",
    "\n",
    "model = TextEmbeddingGenerator() # No connection id needed"
   ]
  },
  {
   "cell_type": "code",
   "execution_count": 10,
   "metadata": {
    "id": "cOuSOQ5FDewD"
   },
   "outputs": [
    {
     "data": {
      "text/html": [
       "Query job d13728ad-23c9-4a3b-9f33-a850893493ba is DONE. 1.3 GB processed. <a target=\"_blank\" href=\"https://console.cloud.google.com/bigquery?project=bigframes-dev&j=bq:US:d13728ad-23c9-4a3b-9f33-a850893493ba&page=queryresults\">Open Job</a>"
      ],
      "text/plain": [
       "<IPython.core.display.HTML object>"
      ]
     },
     "metadata": {},
     "output_type": "display_data"
    },
    {
     "name": "stderr",
     "output_type": "stream",
     "text": [
      "/usr/local/google/home/arwas/src1/python-bigquery-dataframes/bigframes/core/array_value.py:109: PreviewWarning: JSON column interpretation as a custom PyArrow extention in\n",
      "`db_dtypes` is a preview feature and subject to change.\n",
      "  warnings.warn(msg, bfe.PreviewWarning)\n"
     ]
    },
    {
     "data": {
      "text/html": [
       "Query job 6f9269ff-5cdd-4027-af8e-ffd05d04e4b5 is DONE. 72.2 MB processed. <a target=\"_blank\" href=\"https://console.cloud.google.com/bigquery?project=bigframes-dev&j=bq:US:6f9269ff-5cdd-4027-af8e-ffd05d04e4b5&page=queryresults\">Open Job</a>"
      ],
      "text/plain": [
       "<IPython.core.display.HTML object>"
      ]
     },
     "metadata": {},
     "output_type": "display_data"
    },
    {
     "data": {
      "text/html": [
       "<div>\n",
       "<style scoped>\n",
       "    .dataframe tbody tr th:only-of-type {\n",
       "        vertical-align: middle;\n",
       "    }\n",
       "\n",
       "    .dataframe tbody tr th {\n",
       "        vertical-align: top;\n",
       "    }\n",
       "\n",
       "    .dataframe thead th {\n",
       "        text-align: right;\n",
       "    }\n",
       "</style>\n",
       "<table border=\"1\" class=\"dataframe\">\n",
       "  <thead>\n",
       "    <tr style=\"text-align: right;\">\n",
       "      <th></th>\n",
       "      <th>ml_generate_embedding_result</th>\n",
       "      <th>ml_generate_embedding_statistics</th>\n",
       "      <th>ml_generate_embedding_status</th>\n",
       "      <th>content</th>\n",
       "    </tr>\n",
       "  </thead>\n",
       "  <tbody>\n",
       "    <tr>\n",
       "      <th>170</th>\n",
       "      <td>[ 1.88376904e-02 -5.30475788e-02  2.95045757e-...</td>\n",
       "      <td>{\"token_count\":187,\"truncated\":false}</td>\n",
       "      <td></td>\n",
       "      <td>I recently had a credit score of XXXX. In XXXX...</td>\n",
       "    </tr>\n",
       "    <tr>\n",
       "      <th>1054</th>\n",
       "      <td>[ 1.62359420e-02  4.00104094e-03  3.32496352e-...</td>\n",
       "      <td>{\"token_count\":156,\"truncated\":false}</td>\n",
       "      <td></td>\n",
       "      <td>Hello. I have previously submitted a complaint...</td>\n",
       "    </tr>\n",
       "    <tr>\n",
       "      <th>1074</th>\n",
       "      <td>[ 4.31365222e-02 -6.14477554e-03  5.48561616e-...</td>\n",
       "      <td>{\"token_count\":353,\"truncated\":false}</td>\n",
       "      <td></td>\n",
       "      <td>I am disputing an account balance of {$200.00}...</td>\n",
       "    </tr>\n",
       "    <tr>\n",
       "      <th>1568</th>\n",
       "      <td>[ 3.44086066e-02 -5.08038402e-02 -2.13879813e-...</td>\n",
       "      <td>{\"token_count\":155,\"truncated\":false}</td>\n",
       "      <td></td>\n",
       "      <td>Someone attempted to open a XXXX XXXX Credit C...</td>\n",
       "    </tr>\n",
       "    <tr>\n",
       "      <th>1593</th>\n",
       "      <td>[ 0.005157   -0.03788725 -0.00763594  0.023023...</td>\n",
       "      <td>{\"token_count\":382,\"truncated\":false}</td>\n",
       "      <td></td>\n",
       "      <td>My name is XXXX XXXX. I have been a customer s...</td>\n",
       "    </tr>\n",
       "    <tr>\n",
       "      <th>1823</th>\n",
       "      <td>[ 4.99299690e-02 -4.30836529e-02  1.92499068e-...</td>\n",
       "      <td>{\"token_count\":151,\"truncated\":false}</td>\n",
       "      <td></td>\n",
       "      <td>From XX/XX/XXXX to XX/XX/XXXX my Transunion cr...</td>\n",
       "    </tr>\n",
       "    <tr>\n",
       "      <th>2004</th>\n",
       "      <td>[ 1.48278452e-03  2.14069756e-03  3.08651775e-...</td>\n",
       "      <td>{\"token_count\":159,\"truncated\":false}</td>\n",
       "      <td></td>\n",
       "      <td>I have written five dispute letters to each re...</td>\n",
       "    </tr>\n",
       "    <tr>\n",
       "      <th>2666</th>\n",
       "      <td>[ 1.67662315e-02 -2.69244146e-02 -1.35911610e-...</td>\n",
       "      <td>{\"token_count\":185,\"truncated\":false}</td>\n",
       "      <td></td>\n",
       "      <td>I participated in XXXX XXXX XXXX COVID 19 mort...</td>\n",
       "    </tr>\n",
       "    <tr>\n",
       "      <th>3757</th>\n",
       "      <td>[ 1.00584673e-02 -4.75329943e-02  4.52397019e-...</td>\n",
       "      <td>{\"token_count\":555,\"truncated\":false}</td>\n",
       "      <td></td>\n",
       "      <td>I opened a business bank account for my compan...</td>\n",
       "    </tr>\n",
       "    <tr>\n",
       "      <th>3854</th>\n",
       "      <td>[ 1.21343853e-02 -2.70731524e-02 -4.29241825e-...</td>\n",
       "      <td>{\"token_count\":28,\"truncated\":false}</td>\n",
       "      <td></td>\n",
       "      <td>XXXX IS STILL ALLOWING FRAUDULENT INFORMATION ...</td>\n",
       "    </tr>\n",
       "    <tr>\n",
       "      <th>4393</th>\n",
       "      <td>[-7.45891128e-03 -2.57913060e-02  1.41737824e-...</td>\n",
       "      <td>{\"token_count\":38,\"truncated\":false}</td>\n",
       "      <td></td>\n",
       "      <td>I have a XXXX credit card. With a credit limit...</td>\n",
       "    </tr>\n",
       "    <tr>\n",
       "      <th>4672</th>\n",
       "      <td>[ 2.38160063e-02 -4.55725752e-02 -2.94280611e-...</td>\n",
       "      <td>{\"token_count\":160,\"truncated\":false}</td>\n",
       "      <td></td>\n",
       "      <td>I have many inquiries on my credit report from...</td>\n",
       "    </tr>\n",
       "    <tr>\n",
       "      <th>5219</th>\n",
       "      <td>[ 8.01086202e-02 -2.27739965e-03  3.83587591e-...</td>\n",
       "      <td>{\"token_count\":119,\"truncated\":false}</td>\n",
       "      <td></td>\n",
       "      <td>I have XXXX XXXX XXXX but the hospital and the...</td>\n",
       "    </tr>\n",
       "    <tr>\n",
       "      <th>5401</th>\n",
       "      <td>[ 3.70342135e-02  8.21511727e-03  1.71616897e-...</td>\n",
       "      <td>{\"token_count\":101,\"truncated\":false}</td>\n",
       "      <td></td>\n",
       "      <td>I received a modified second mortgage from XXX...</td>\n",
       "    </tr>\n",
       "    <tr>\n",
       "      <th>6854</th>\n",
       "      <td>[ 7.65579790e-02 -4.51240651e-02  2.54641455e-...</td>\n",
       "      <td>{\"token_count\":269,\"truncated\":false}</td>\n",
       "      <td></td>\n",
       "      <td>I have been contacting Caliber Home Loans XXXX...</td>\n",
       "    </tr>\n",
       "    <tr>\n",
       "      <th>8044</th>\n",
       "      <td>[ 7.07080960e-02 -1.39339943e-03  1.11283141e-...</td>\n",
       "      <td>{\"token_count\":860,\"truncated\":false}</td>\n",
       "      <td></td>\n",
       "      <td>This letter is being sent to you in response t...</td>\n",
       "    </tr>\n",
       "    <tr>\n",
       "      <th>8191</th>\n",
       "      <td>[ 7.04008490e-02 -1.56041444e-03  8.47811531e-...</td>\n",
       "      <td>{\"token_count\":887,\"truncated\":false}</td>\n",
       "      <td></td>\n",
       "      <td>On XX/XX/XXXX we used our Chase bank account t...</td>\n",
       "    </tr>\n",
       "    <tr>\n",
       "      <th>8347</th>\n",
       "      <td>[-3.27746682e-02  3.06979113e-04  4.41357009e-...</td>\n",
       "      <td>{\"token_count\":20,\"truncated\":false}</td>\n",
       "      <td></td>\n",
       "      <td>Letter sent XX/XX/19 asking for copy of consum...</td>\n",
       "    </tr>\n",
       "    <tr>\n",
       "      <th>9066</th>\n",
       "      <td>[-8.40839837e-03  1.06685190e-03  1.63648110e-...</td>\n",
       "      <td>{\"token_count\":180,\"truncated\":false}</td>\n",
       "      <td></td>\n",
       "      <td>XXXX XXXX, 2009 I was granted a discharge for ...</td>\n",
       "    </tr>\n",
       "    <tr>\n",
       "      <th>9236</th>\n",
       "      <td>[ 4.78133447e-02 -1.63303427e-02  9.88033134e-...</td>\n",
       "      <td>{\"token_count\":530,\"truncated\":false}</td>\n",
       "      <td></td>\n",
       "      <td>This issue involves XXXX XXXX XXXX XXXX XXXX. ...</td>\n",
       "    </tr>\n",
       "    <tr>\n",
       "      <th>9539</th>\n",
       "      <td>[-3.48826796e-02 -7.62111135e-03 -2.67431643e-...</td>\n",
       "      <td>{\"token_count\":132,\"truncated\":false}</td>\n",
       "      <td></td>\n",
       "      <td>They furnished a report without my permission....</td>\n",
       "    </tr>\n",
       "    <tr>\n",
       "      <th>9572</th>\n",
       "      <td>[ 8.48945603e-03 -1.53765883e-02 -1.13023836e-...</td>\n",
       "      <td>{\"token_count\":50,\"truncated\":false}</td>\n",
       "      <td></td>\n",
       "      <td>According to my most recent credit report, XXX...</td>\n",
       "    </tr>\n",
       "    <tr>\n",
       "      <th>9615</th>\n",
       "      <td>[ 2.15231199e-02  1.88558996e-02  5.27820848e-...</td>\n",
       "      <td>{\"token_count\":44,\"truncated\":false}</td>\n",
       "      <td></td>\n",
       "      <td>I applied for unemployment loan deferment XX/X...</td>\n",
       "    </tr>\n",
       "    <tr>\n",
       "      <th>9683</th>\n",
       "      <td>[-9.67173837e-03 -3.42315286e-02 -6.50915666e-...</td>\n",
       "      <td>{\"token_count\":261,\"truncated\":false}</td>\n",
       "      <td></td>\n",
       "      <td>XX/XX/2002 From : XXXX XXXX XXXX XXXX XXXX XXX...</td>\n",
       "    </tr>\n",
       "    <tr>\n",
       "      <th>9754</th>\n",
       "      <td>[ 4.29238565e-03  5.65492641e-03  1.43073397e-...</td>\n",
       "      <td>{\"token_count\":38,\"truncated\":false}</td>\n",
       "      <td></td>\n",
       "      <td>These are not my accounts nor have I lived at ...</td>\n",
       "    </tr>\n",
       "  </tbody>\n",
       "</table>\n",
       "<p>25 rows × 4 columns</p>\n",
       "</div>[10000 rows x 4 columns in total]"
      ],
      "text/plain": [
       "                           ml_generate_embedding_result  \\\n",
       "170   [ 1.88376904e-02 -5.30475788e-02  2.95045757e-...   \n",
       "1054  [ 1.62359420e-02  4.00104094e-03  3.32496352e-...   \n",
       "1074  [ 4.31365222e-02 -6.14477554e-03  5.48561616e-...   \n",
       "1568  [ 3.44086066e-02 -5.08038402e-02 -2.13879813e-...   \n",
       "1593  [ 0.005157   -0.03788725 -0.00763594  0.023023...   \n",
       "1823  [ 4.99299690e-02 -4.30836529e-02  1.92499068e-...   \n",
       "2004  [ 1.48278452e-03  2.14069756e-03  3.08651775e-...   \n",
       "2666  [ 1.67662315e-02 -2.69244146e-02 -1.35911610e-...   \n",
       "3757  [ 1.00584673e-02 -4.75329943e-02  4.52397019e-...   \n",
       "3854  [ 1.21343853e-02 -2.70731524e-02 -4.29241825e-...   \n",
       "4393  [-7.45891128e-03 -2.57913060e-02  1.41737824e-...   \n",
       "4672  [ 2.38160063e-02 -4.55725752e-02 -2.94280611e-...   \n",
       "5219  [ 8.01086202e-02 -2.27739965e-03  3.83587591e-...   \n",
       "5401  [ 3.70342135e-02  8.21511727e-03  1.71616897e-...   \n",
       "6854  [ 7.65579790e-02 -4.51240651e-02  2.54641455e-...   \n",
       "8044  [ 7.07080960e-02 -1.39339943e-03  1.11283141e-...   \n",
       "8191  [ 7.04008490e-02 -1.56041444e-03  8.47811531e-...   \n",
       "8347  [-3.27746682e-02  3.06979113e-04  4.41357009e-...   \n",
       "9066  [-8.40839837e-03  1.06685190e-03  1.63648110e-...   \n",
       "9236  [ 4.78133447e-02 -1.63303427e-02  9.88033134e-...   \n",
       "9539  [-3.48826796e-02 -7.62111135e-03 -2.67431643e-...   \n",
       "9572  [ 8.48945603e-03 -1.53765883e-02 -1.13023836e-...   \n",
       "9615  [ 2.15231199e-02  1.88558996e-02  5.27820848e-...   \n",
       "9683  [-9.67173837e-03 -3.42315286e-02 -6.50915666e-...   \n",
       "9754  [ 4.29238565e-03  5.65492641e-03  1.43073397e-...   \n",
       "\n",
       "           ml_generate_embedding_statistics ml_generate_embedding_status  \\\n",
       "170   {\"token_count\":187,\"truncated\":false}                                \n",
       "1054  {\"token_count\":156,\"truncated\":false}                                \n",
       "1074  {\"token_count\":353,\"truncated\":false}                                \n",
       "1568  {\"token_count\":155,\"truncated\":false}                                \n",
       "1593  {\"token_count\":382,\"truncated\":false}                                \n",
       "1823  {\"token_count\":151,\"truncated\":false}                                \n",
       "2004  {\"token_count\":159,\"truncated\":false}                                \n",
       "2666  {\"token_count\":185,\"truncated\":false}                                \n",
       "3757  {\"token_count\":555,\"truncated\":false}                                \n",
       "3854   {\"token_count\":28,\"truncated\":false}                                \n",
       "4393   {\"token_count\":38,\"truncated\":false}                                \n",
       "4672  {\"token_count\":160,\"truncated\":false}                                \n",
       "5219  {\"token_count\":119,\"truncated\":false}                                \n",
       "5401  {\"token_count\":101,\"truncated\":false}                                \n",
       "6854  {\"token_count\":269,\"truncated\":false}                                \n",
       "8044  {\"token_count\":860,\"truncated\":false}                                \n",
       "8191  {\"token_count\":887,\"truncated\":false}                                \n",
       "8347   {\"token_count\":20,\"truncated\":false}                                \n",
       "9066  {\"token_count\":180,\"truncated\":false}                                \n",
       "9236  {\"token_count\":530,\"truncated\":false}                                \n",
       "9539  {\"token_count\":132,\"truncated\":false}                                \n",
       "9572   {\"token_count\":50,\"truncated\":false}                                \n",
       "9615   {\"token_count\":44,\"truncated\":false}                                \n",
       "9683  {\"token_count\":261,\"truncated\":false}                                \n",
       "9754   {\"token_count\":38,\"truncated\":false}                                \n",
       "\n",
       "                                                content  \n",
       "170   I recently had a credit score of XXXX. In XXXX...  \n",
       "1054  Hello. I have previously submitted a complaint...  \n",
       "1074  I am disputing an account balance of {$200.00}...  \n",
       "1568  Someone attempted to open a XXXX XXXX Credit C...  \n",
       "1593  My name is XXXX XXXX. I have been a customer s...  \n",
       "1823  From XX/XX/XXXX to XX/XX/XXXX my Transunion cr...  \n",
       "2004  I have written five dispute letters to each re...  \n",
       "2666  I participated in XXXX XXXX XXXX COVID 19 mort...  \n",
       "3757  I opened a business bank account for my compan...  \n",
       "3854  XXXX IS STILL ALLOWING FRAUDULENT INFORMATION ...  \n",
       "4393  I have a XXXX credit card. With a credit limit...  \n",
       "4672  I have many inquiries on my credit report from...  \n",
       "5219  I have XXXX XXXX XXXX but the hospital and the...  \n",
       "5401  I received a modified second mortgage from XXX...  \n",
       "6854  I have been contacting Caliber Home Loans XXXX...  \n",
       "8044  This letter is being sent to you in response t...  \n",
       "8191  On XX/XX/XXXX we used our Chase bank account t...  \n",
       "8347  Letter sent XX/XX/19 asking for copy of consum...  \n",
       "9066  XXXX XXXX, 2009 I was granted a discharge for ...  \n",
       "9236  This issue involves XXXX XXXX XXXX XXXX XXXX. ...  \n",
       "9539  They furnished a report without my permission....  \n",
       "9572  According to my most recent credit report, XXX...  \n",
       "9615  I applied for unemployment loan deferment XX/X...  \n",
       "9683  XX/XX/2002 From : XXXX XXXX XXXX XXXX XXXX XXX...  \n",
       "9754  These are not my accounts nor have I lived at ...  \n",
       "...\n",
       "\n",
       "[10000 rows x 4 columns]"
      ]
     },
     "execution_count": 10,
     "metadata": {},
     "output_type": "execute_result"
    }
   ],
   "source": [
    "# Will take ~3 minutes to compute the embeddings\n",
    "predicted_embeddings = model.predict(downsampled_issues_df)\n",
    "# Notice the lists of numbers that are our text embeddings for each complaint\n",
    "predicted_embeddings"
   ]
  },
  {
   "cell_type": "markdown",
   "metadata": {},
   "source": [
    "The model may have encountered errors while calculating embeddings for some rows. Filter out the errored rows before training the model. Alternatively, select these rows and retry the embeddings."
   ]
  },
  {
   "cell_type": "code",
   "execution_count": 11,
   "metadata": {},
   "outputs": [
    {
     "data": {
      "text/html": [
       "Query job f9b16313-15b0-4788-abd1-e65a9a9fc556 is DONE. 72.3 MB processed. <a target=\"_blank\" href=\"https://console.cloud.google.com/bigquery?project=bigframes-dev&j=bq:US:f9b16313-15b0-4788-abd1-e65a9a9fc556&page=queryresults\">Open Job</a>"
      ],
      "text/plain": [
       "<IPython.core.display.HTML object>"
      ]
     },
     "metadata": {},
     "output_type": "display_data"
    },
    {
     "data": {
      "text/html": [
       "<div>\n",
       "<style scoped>\n",
       "    .dataframe tbody tr th:only-of-type {\n",
       "        vertical-align: middle;\n",
       "    }\n",
       "\n",
       "    .dataframe tbody tr th {\n",
       "        vertical-align: top;\n",
       "    }\n",
       "\n",
       "    .dataframe thead th {\n",
       "        text-align: right;\n",
       "    }\n",
       "</style>\n",
       "<table border=\"1\" class=\"dataframe\">\n",
       "  <thead>\n",
       "    <tr style=\"text-align: right;\">\n",
       "      <th></th>\n",
       "      <th>ml_generate_embedding_result</th>\n",
       "      <th>ml_generate_embedding_statistics</th>\n",
       "      <th>ml_generate_embedding_status</th>\n",
       "      <th>content</th>\n",
       "    </tr>\n",
       "  </thead>\n",
       "  <tbody>\n",
       "    <tr>\n",
       "      <th>170</th>\n",
       "      <td>[ 1.88376904e-02 -5.30475788e-02  2.95045757e-...</td>\n",
       "      <td>{\"token_count\":187,\"truncated\":false}</td>\n",
       "      <td></td>\n",
       "      <td>I recently had a credit score of XXXX. In XXXX...</td>\n",
       "    </tr>\n",
       "    <tr>\n",
       "      <th>1054</th>\n",
       "      <td>[ 1.62359420e-02  4.00104094e-03  3.32496352e-...</td>\n",
       "      <td>{\"token_count\":156,\"truncated\":false}</td>\n",
       "      <td></td>\n",
       "      <td>Hello. I have previously submitted a complaint...</td>\n",
       "    </tr>\n",
       "    <tr>\n",
       "      <th>1074</th>\n",
       "      <td>[ 4.31365222e-02 -6.14477554e-03  5.48561616e-...</td>\n",
       "      <td>{\"token_count\":353,\"truncated\":false}</td>\n",
       "      <td></td>\n",
       "      <td>I am disputing an account balance of {$200.00}...</td>\n",
       "    </tr>\n",
       "    <tr>\n",
       "      <th>1568</th>\n",
       "      <td>[ 3.44086066e-02 -5.08038402e-02 -2.13879813e-...</td>\n",
       "      <td>{\"token_count\":155,\"truncated\":false}</td>\n",
       "      <td></td>\n",
       "      <td>Someone attempted to open a XXXX XXXX Credit C...</td>\n",
       "    </tr>\n",
       "    <tr>\n",
       "      <th>1593</th>\n",
       "      <td>[ 0.005157   -0.03788725 -0.00763594  0.023023...</td>\n",
       "      <td>{\"token_count\":382,\"truncated\":false}</td>\n",
       "      <td></td>\n",
       "      <td>My name is XXXX XXXX. I have been a customer s...</td>\n",
       "    </tr>\n",
       "    <tr>\n",
       "      <th>1823</th>\n",
       "      <td>[ 4.99299690e-02 -4.30836529e-02  1.92499068e-...</td>\n",
       "      <td>{\"token_count\":151,\"truncated\":false}</td>\n",
       "      <td></td>\n",
       "      <td>From XX/XX/XXXX to XX/XX/XXXX my Transunion cr...</td>\n",
       "    </tr>\n",
       "    <tr>\n",
       "      <th>2004</th>\n",
       "      <td>[ 1.48278452e-03  2.14069756e-03  3.08651775e-...</td>\n",
       "      <td>{\"token_count\":159,\"truncated\":false}</td>\n",
       "      <td></td>\n",
       "      <td>I have written five dispute letters to each re...</td>\n",
       "    </tr>\n",
       "    <tr>\n",
       "      <th>2666</th>\n",
       "      <td>[ 1.67662315e-02 -2.69244146e-02 -1.35911610e-...</td>\n",
       "      <td>{\"token_count\":185,\"truncated\":false}</td>\n",
       "      <td></td>\n",
       "      <td>I participated in XXXX XXXX XXXX COVID 19 mort...</td>\n",
       "    </tr>\n",
       "    <tr>\n",
       "      <th>3757</th>\n",
       "      <td>[ 1.00584673e-02 -4.75329943e-02  4.52397019e-...</td>\n",
       "      <td>{\"token_count\":555,\"truncated\":false}</td>\n",
       "      <td></td>\n",
       "      <td>I opened a business bank account for my compan...</td>\n",
       "    </tr>\n",
       "    <tr>\n",
       "      <th>3854</th>\n",
       "      <td>[ 1.21343853e-02 -2.70731524e-02 -4.29241825e-...</td>\n",
       "      <td>{\"token_count\":28,\"truncated\":false}</td>\n",
       "      <td></td>\n",
       "      <td>XXXX IS STILL ALLOWING FRAUDULENT INFORMATION ...</td>\n",
       "    </tr>\n",
       "    <tr>\n",
       "      <th>4393</th>\n",
       "      <td>[-7.45891128e-03 -2.57913060e-02  1.41737824e-...</td>\n",
       "      <td>{\"token_count\":38,\"truncated\":false}</td>\n",
       "      <td></td>\n",
       "      <td>I have a XXXX credit card. With a credit limit...</td>\n",
       "    </tr>\n",
       "    <tr>\n",
       "      <th>4672</th>\n",
       "      <td>[ 2.38160063e-02 -4.55725752e-02 -2.94280611e-...</td>\n",
       "      <td>{\"token_count\":160,\"truncated\":false}</td>\n",
       "      <td></td>\n",
       "      <td>I have many inquiries on my credit report from...</td>\n",
       "    </tr>\n",
       "    <tr>\n",
       "      <th>5219</th>\n",
       "      <td>[ 8.01086202e-02 -2.27739965e-03  3.83587591e-...</td>\n",
       "      <td>{\"token_count\":119,\"truncated\":false}</td>\n",
       "      <td></td>\n",
       "      <td>I have XXXX XXXX XXXX but the hospital and the...</td>\n",
       "    </tr>\n",
       "    <tr>\n",
       "      <th>5401</th>\n",
       "      <td>[ 3.70342135e-02  8.21511727e-03  1.71616897e-...</td>\n",
       "      <td>{\"token_count\":101,\"truncated\":false}</td>\n",
       "      <td></td>\n",
       "      <td>I received a modified second mortgage from XXX...</td>\n",
       "    </tr>\n",
       "    <tr>\n",
       "      <th>6854</th>\n",
       "      <td>[ 7.65579790e-02 -4.51240651e-02  2.54641455e-...</td>\n",
       "      <td>{\"token_count\":269,\"truncated\":false}</td>\n",
       "      <td></td>\n",
       "      <td>I have been contacting Caliber Home Loans XXXX...</td>\n",
       "    </tr>\n",
       "    <tr>\n",
       "      <th>8044</th>\n",
       "      <td>[ 7.07080960e-02 -1.39339943e-03  1.11283141e-...</td>\n",
       "      <td>{\"token_count\":860,\"truncated\":false}</td>\n",
       "      <td></td>\n",
       "      <td>This letter is being sent to you in response t...</td>\n",
       "    </tr>\n",
       "    <tr>\n",
       "      <th>8191</th>\n",
       "      <td>[ 7.04008490e-02 -1.56041444e-03  8.47811531e-...</td>\n",
       "      <td>{\"token_count\":887,\"truncated\":false}</td>\n",
       "      <td></td>\n",
       "      <td>On XX/XX/XXXX we used our Chase bank account t...</td>\n",
       "    </tr>\n",
       "    <tr>\n",
       "      <th>8347</th>\n",
       "      <td>[-3.27746682e-02  3.06979113e-04  4.41357009e-...</td>\n",
       "      <td>{\"token_count\":20,\"truncated\":false}</td>\n",
       "      <td></td>\n",
       "      <td>Letter sent XX/XX/19 asking for copy of consum...</td>\n",
       "    </tr>\n",
       "    <tr>\n",
       "      <th>9066</th>\n",
       "      <td>[-8.40839837e-03  1.06685190e-03  1.63648110e-...</td>\n",
       "      <td>{\"token_count\":180,\"truncated\":false}</td>\n",
       "      <td></td>\n",
       "      <td>XXXX XXXX, 2009 I was granted a discharge for ...</td>\n",
       "    </tr>\n",
       "    <tr>\n",
       "      <th>9236</th>\n",
       "      <td>[ 4.78133447e-02 -1.63303427e-02  9.88033134e-...</td>\n",
       "      <td>{\"token_count\":530,\"truncated\":false}</td>\n",
       "      <td></td>\n",
       "      <td>This issue involves XXXX XXXX XXXX XXXX XXXX. ...</td>\n",
       "    </tr>\n",
       "    <tr>\n",
       "      <th>9539</th>\n",
       "      <td>[-3.48826796e-02 -7.62111135e-03 -2.67431643e-...</td>\n",
       "      <td>{\"token_count\":132,\"truncated\":false}</td>\n",
       "      <td></td>\n",
       "      <td>They furnished a report without my permission....</td>\n",
       "    </tr>\n",
       "    <tr>\n",
       "      <th>9572</th>\n",
       "      <td>[ 8.48945603e-03 -1.53765883e-02 -1.13023836e-...</td>\n",
       "      <td>{\"token_count\":50,\"truncated\":false}</td>\n",
       "      <td></td>\n",
       "      <td>According to my most recent credit report, XXX...</td>\n",
       "    </tr>\n",
       "    <tr>\n",
       "      <th>9615</th>\n",
       "      <td>[ 2.15231199e-02  1.88558996e-02  5.27820848e-...</td>\n",
       "      <td>{\"token_count\":44,\"truncated\":false}</td>\n",
       "      <td></td>\n",
       "      <td>I applied for unemployment loan deferment XX/X...</td>\n",
       "    </tr>\n",
       "    <tr>\n",
       "      <th>9683</th>\n",
       "      <td>[-9.67173837e-03 -3.42315286e-02 -6.50915666e-...</td>\n",
       "      <td>{\"token_count\":261,\"truncated\":false}</td>\n",
       "      <td></td>\n",
       "      <td>XX/XX/2002 From : XXXX XXXX XXXX XXXX XXXX XXX...</td>\n",
       "    </tr>\n",
       "    <tr>\n",
       "      <th>9754</th>\n",
       "      <td>[ 4.29238565e-03  5.65492641e-03  1.43073397e-...</td>\n",
       "      <td>{\"token_count\":38,\"truncated\":false}</td>\n",
       "      <td></td>\n",
       "      <td>These are not my accounts nor have I lived at ...</td>\n",
       "    </tr>\n",
       "  </tbody>\n",
       "</table>\n",
       "<p>25 rows × 4 columns</p>\n",
       "</div>[10000 rows x 4 columns in total]"
      ],
      "text/plain": [
       "                           ml_generate_embedding_result  \\\n",
       "170   [ 1.88376904e-02 -5.30475788e-02  2.95045757e-...   \n",
       "1054  [ 1.62359420e-02  4.00104094e-03  3.32496352e-...   \n",
       "1074  [ 4.31365222e-02 -6.14477554e-03  5.48561616e-...   \n",
       "1568  [ 3.44086066e-02 -5.08038402e-02 -2.13879813e-...   \n",
       "1593  [ 0.005157   -0.03788725 -0.00763594  0.023023...   \n",
       "1823  [ 4.99299690e-02 -4.30836529e-02  1.92499068e-...   \n",
       "2004  [ 1.48278452e-03  2.14069756e-03  3.08651775e-...   \n",
       "2666  [ 1.67662315e-02 -2.69244146e-02 -1.35911610e-...   \n",
       "3757  [ 1.00584673e-02 -4.75329943e-02  4.52397019e-...   \n",
       "3854  [ 1.21343853e-02 -2.70731524e-02 -4.29241825e-...   \n",
       "4393  [-7.45891128e-03 -2.57913060e-02  1.41737824e-...   \n",
       "4672  [ 2.38160063e-02 -4.55725752e-02 -2.94280611e-...   \n",
       "5219  [ 8.01086202e-02 -2.27739965e-03  3.83587591e-...   \n",
       "5401  [ 3.70342135e-02  8.21511727e-03  1.71616897e-...   \n",
       "6854  [ 7.65579790e-02 -4.51240651e-02  2.54641455e-...   \n",
       "8044  [ 7.07080960e-02 -1.39339943e-03  1.11283141e-...   \n",
       "8191  [ 7.04008490e-02 -1.56041444e-03  8.47811531e-...   \n",
       "8347  [-3.27746682e-02  3.06979113e-04  4.41357009e-...   \n",
       "9066  [-8.40839837e-03  1.06685190e-03  1.63648110e-...   \n",
       "9236  [ 4.78133447e-02 -1.63303427e-02  9.88033134e-...   \n",
       "9539  [-3.48826796e-02 -7.62111135e-03 -2.67431643e-...   \n",
       "9572  [ 8.48945603e-03 -1.53765883e-02 -1.13023836e-...   \n",
       "9615  [ 2.15231199e-02  1.88558996e-02  5.27820848e-...   \n",
       "9683  [-9.67173837e-03 -3.42315286e-02 -6.50915666e-...   \n",
       "9754  [ 4.29238565e-03  5.65492641e-03  1.43073397e-...   \n",
       "\n",
       "           ml_generate_embedding_statistics ml_generate_embedding_status  \\\n",
       "170   {\"token_count\":187,\"truncated\":false}                                \n",
       "1054  {\"token_count\":156,\"truncated\":false}                                \n",
       "1074  {\"token_count\":353,\"truncated\":false}                                \n",
       "1568  {\"token_count\":155,\"truncated\":false}                                \n",
       "1593  {\"token_count\":382,\"truncated\":false}                                \n",
       "1823  {\"token_count\":151,\"truncated\":false}                                \n",
       "2004  {\"token_count\":159,\"truncated\":false}                                \n",
       "2666  {\"token_count\":185,\"truncated\":false}                                \n",
       "3757  {\"token_count\":555,\"truncated\":false}                                \n",
       "3854   {\"token_count\":28,\"truncated\":false}                                \n",
       "4393   {\"token_count\":38,\"truncated\":false}                                \n",
       "4672  {\"token_count\":160,\"truncated\":false}                                \n",
       "5219  {\"token_count\":119,\"truncated\":false}                                \n",
       "5401  {\"token_count\":101,\"truncated\":false}                                \n",
       "6854  {\"token_count\":269,\"truncated\":false}                                \n",
       "8044  {\"token_count\":860,\"truncated\":false}                                \n",
       "8191  {\"token_count\":887,\"truncated\":false}                                \n",
       "8347   {\"token_count\":20,\"truncated\":false}                                \n",
       "9066  {\"token_count\":180,\"truncated\":false}                                \n",
       "9236  {\"token_count\":530,\"truncated\":false}                                \n",
       "9539  {\"token_count\":132,\"truncated\":false}                                \n",
       "9572   {\"token_count\":50,\"truncated\":false}                                \n",
       "9615   {\"token_count\":44,\"truncated\":false}                                \n",
       "9683  {\"token_count\":261,\"truncated\":false}                                \n",
       "9754   {\"token_count\":38,\"truncated\":false}                                \n",
       "\n",
       "                                                content  \n",
       "170   I recently had a credit score of XXXX. In XXXX...  \n",
       "1054  Hello. I have previously submitted a complaint...  \n",
       "1074  I am disputing an account balance of {$200.00}...  \n",
       "1568  Someone attempted to open a XXXX XXXX Credit C...  \n",
       "1593  My name is XXXX XXXX. I have been a customer s...  \n",
       "1823  From XX/XX/XXXX to XX/XX/XXXX my Transunion cr...  \n",
       "2004  I have written five dispute letters to each re...  \n",
       "2666  I participated in XXXX XXXX XXXX COVID 19 mort...  \n",
       "3757  I opened a business bank account for my compan...  \n",
       "3854  XXXX IS STILL ALLOWING FRAUDULENT INFORMATION ...  \n",
       "4393  I have a XXXX credit card. With a credit limit...  \n",
       "4672  I have many inquiries on my credit report from...  \n",
       "5219  I have XXXX XXXX XXXX but the hospital and the...  \n",
       "5401  I received a modified second mortgage from XXX...  \n",
       "6854  I have been contacting Caliber Home Loans XXXX...  \n",
       "8044  This letter is being sent to you in response t...  \n",
       "8191  On XX/XX/XXXX we used our Chase bank account t...  \n",
       "8347  Letter sent XX/XX/19 asking for copy of consum...  \n",
       "9066  XXXX XXXX, 2009 I was granted a discharge for ...  \n",
       "9236  This issue involves XXXX XXXX XXXX XXXX XXXX. ...  \n",
       "9539  They furnished a report without my permission....  \n",
       "9572  According to my most recent credit report, XXX...  \n",
       "9615  I applied for unemployment loan deferment XX/X...  \n",
       "9683  XX/XX/2002 From : XXXX XXXX XXXX XXXX XXXX XXX...  \n",
       "9754  These are not my accounts nor have I lived at ...  \n",
       "...\n",
       "\n",
       "[10000 rows x 4 columns]"
      ]
     },
     "execution_count": 11,
     "metadata": {},
     "output_type": "execute_result"
    }
   ],
   "source": [
    "successful_rows = (\n",
    "    (predicted_embeddings[\"ml_generate_embedding_status\"] == \"\")\n",
    "    # Series.str.len() gives the length of an array.\n",
    "    # See: https://stackoverflow.com/a/41340543/101923\n",
    "    & (predicted_embeddings[\"ml_generate_embedding_result\"].str.len() != 0)\n",
    ")\n",
    "predicted_embeddings = predicted_embeddings[successful_rows]\n",
    "predicted_embeddings\n"
   ]
  },
  {
   "attachments": {},
   "cell_type": "markdown",
   "metadata": {},
   "source": [
    "We now have the complaints and their text embeddings as two columns in our predicted_embeddings DataFrame."
   ]
  },
  {
   "attachments": {},
   "cell_type": "markdown",
   "metadata": {
    "id": "OUZ3NNbzo1Tb"
   },
   "source": [
    "## Step 2: Create k-means model and predict clusters"
   ]
  },
  {
   "cell_type": "code",
   "execution_count": 12,
   "metadata": {
    "id": "AhNTnEC5FRz2"
   },
   "outputs": [],
   "source": [
    "from bigframes.ml.cluster import KMeans\n",
    "\n",
    "cluster_model = KMeans(n_clusters=10) # We will divide our complaints into 10 groups"
   ]
  },
  {
   "attachments": {},
   "cell_type": "markdown",
   "metadata": {},
   "source": [
    "Perform KMeans clustering"
   ]
  },
  {
   "cell_type": "code",
   "execution_count": 13,
   "metadata": {
    "id": "6poSxh-fGJF7"
   },
   "outputs": [
    {
     "data": {
      "text/html": [
       "Query job 88541f0d-c399-434a-81f1-d5a555bc6c15 is DONE. 61.5 MB processed. <a target=\"_blank\" href=\"https://console.cloud.google.com/bigquery?project=bigframes-dev&j=bq:US:88541f0d-c399-434a-81f1-d5a555bc6c15&page=queryresults\">Open Job</a>"
      ],
      "text/plain": [
       "<IPython.core.display.HTML object>"
      ]
     },
     "metadata": {},
     "output_type": "display_data"
    },
    {
     "data": {
      "text/html": [
       "Query job 3066d83f-b5ad-45b5-b1b6-65604e40b518 is DONE. 61.4 MB processed. <a target=\"_blank\" href=\"https://console.cloud.google.com/bigquery?project=bigframes-dev&j=bq:US:3066d83f-b5ad-45b5-b1b6-65604e40b518&page=queryresults\">Open Job</a>"
      ],
      "text/plain": [
       "<IPython.core.display.HTML object>"
      ]
     },
     "metadata": {},
     "output_type": "display_data"
    },
    {
     "data": {
      "text/html": [
       "Query job f34216a3-b161-46a1-8060-ff6a448e63dc is DONE. 72.5 MB processed. <a target=\"_blank\" href=\"https://console.cloud.google.com/bigquery?project=bigframes-dev&j=bq:US:f34216a3-b161-46a1-8060-ff6a448e63dc&page=queryresults\">Open Job</a>"
      ],
      "text/plain": [
       "<IPython.core.display.HTML object>"
      ]
     },
     "metadata": {},
     "output_type": "display_data"
    },
    {
     "name": "stderr",
     "output_type": "stream",
     "text": [
      "/usr/local/google/home/arwas/src1/python-bigquery-dataframes/bigframes/core/array_value.py:109: PreviewWarning: JSON column interpretation as a custom PyArrow extention in\n",
      "`db_dtypes` is a preview feature and subject to change.\n",
      "  warnings.warn(msg, bfe.PreviewWarning)\n"
     ]
    },
    {
     "data": {
      "text/html": [
       "<div>\n",
       "<style scoped>\n",
       "    .dataframe tbody tr th:only-of-type {\n",
       "        vertical-align: middle;\n",
       "    }\n",
       "\n",
       "    .dataframe tbody tr th {\n",
       "        vertical-align: top;\n",
       "    }\n",
       "\n",
       "    .dataframe thead th {\n",
       "        text-align: right;\n",
       "    }\n",
       "</style>\n",
       "<table border=\"1\" class=\"dataframe\">\n",
       "  <thead>\n",
       "    <tr style=\"text-align: right;\">\n",
       "      <th></th>\n",
       "      <th>CENTROID_ID</th>\n",
       "      <th>NEAREST_CENTROIDS_DISTANCE</th>\n",
       "      <th>ml_generate_embedding_result</th>\n",
       "      <th>ml_generate_embedding_statistics</th>\n",
       "      <th>ml_generate_embedding_status</th>\n",
       "      <th>content</th>\n",
       "    </tr>\n",
       "  </thead>\n",
       "  <tbody>\n",
       "    <tr>\n",
       "      <th>371364</th>\n",
       "      <td>1</td>\n",
       "      <td>[{'CENTROID_ID': 1, 'DISTANCE': 0.806875556526...</td>\n",
       "      <td>[ 1.42711382e-02 -7.13259429e-02  4.15564841e-...</td>\n",
       "      <td>{\"token_count\":6,\"truncated\":false}</td>\n",
       "      <td></td>\n",
       "      <td>Please remove all inquiries and collections</td>\n",
       "    </tr>\n",
       "    <tr>\n",
       "      <th>368381</th>\n",
       "      <td>1</td>\n",
       "      <td>[{'CENTROID_ID': 1, 'DISTANCE': 0.843635669356...</td>\n",
       "      <td>[ 2.80436985e-02 -5.09077348e-02 -3.63913202e-...</td>\n",
       "      <td>{\"token_count\":6,\"truncated\":false}</td>\n",
       "      <td></td>\n",
       "      <td>clearing out of my debt.</td>\n",
       "    </tr>\n",
       "    <tr>\n",
       "      <th>2951416</th>\n",
       "      <td>1</td>\n",
       "      <td>[{'CENTROID_ID': 1, 'DISTANCE': 0.927767679789...</td>\n",
       "      <td>[ 4.07935455e-02 -2.89720390e-03 -6.77521434e-...</td>\n",
       "      <td>{\"token_count\":7,\"truncated\":false}</td>\n",
       "      <td></td>\n",
       "      <td>constant calling to workplace and threats.</td>\n",
       "    </tr>\n",
       "    <tr>\n",
       "      <th>2167760</th>\n",
       "      <td>1</td>\n",
       "      <td>[{'CENTROID_ID': 1, 'DISTANCE': 0.755490984751...</td>\n",
       "      <td>[ 3.76710109e-02 -8.52223893e-04 -2.53430642e-...</td>\n",
       "      <td>{\"token_count\":8,\"truncated\":false}</td>\n",
       "      <td></td>\n",
       "      <td>This debt has been paid in full.</td>\n",
       "    </tr>\n",
       "    <tr>\n",
       "      <th>1269756</th>\n",
       "      <td>1</td>\n",
       "      <td>[{'CENTROID_ID': 1, 'DISTANCE': 0.770576934220...</td>\n",
       "      <td>[ 5.26239222e-04 -1.80254206e-02 -2.83008888e-...</td>\n",
       "      <td>{\"token_count\":8,\"truncated\":false}</td>\n",
       "      <td></td>\n",
       "      <td>I have no knowledge of said debt.</td>\n",
       "    </tr>\n",
       "  </tbody>\n",
       "</table>\n",
       "</div>"
      ],
      "text/plain": [
       "         CENTROID_ID                         NEAREST_CENTROIDS_DISTANCE  \\\n",
       "371364             1  [{'CENTROID_ID': 1, 'DISTANCE': 0.806875556526...   \n",
       "368381             1  [{'CENTROID_ID': 1, 'DISTANCE': 0.843635669356...   \n",
       "2951416            1  [{'CENTROID_ID': 1, 'DISTANCE': 0.927767679789...   \n",
       "2167760            1  [{'CENTROID_ID': 1, 'DISTANCE': 0.755490984751...   \n",
       "1269756            1  [{'CENTROID_ID': 1, 'DISTANCE': 0.770576934220...   \n",
       "\n",
       "                              ml_generate_embedding_result  \\\n",
       "371364   [ 1.42711382e-02 -7.13259429e-02  4.15564841e-...   \n",
       "368381   [ 2.80436985e-02 -5.09077348e-02 -3.63913202e-...   \n",
       "2951416  [ 4.07935455e-02 -2.89720390e-03 -6.77521434e-...   \n",
       "2167760  [ 3.76710109e-02 -8.52223893e-04 -2.53430642e-...   \n",
       "1269756  [ 5.26239222e-04 -1.80254206e-02 -2.83008888e-...   \n",
       "\n",
       "            ml_generate_embedding_statistics ml_generate_embedding_status  \\\n",
       "371364   {\"token_count\":6,\"truncated\":false}                                \n",
       "368381   {\"token_count\":6,\"truncated\":false}                                \n",
       "2951416  {\"token_count\":7,\"truncated\":false}                                \n",
       "2167760  {\"token_count\":8,\"truncated\":false}                                \n",
       "1269756  {\"token_count\":8,\"truncated\":false}                                \n",
       "\n",
       "                                             content  \n",
       "371364   Please remove all inquiries and collections  \n",
       "368381                      clearing out of my debt.  \n",
       "2951416   constant calling to workplace and threats.  \n",
       "2167760             This debt has been paid in full.  \n",
       "1269756            I have no knowledge of said debt.  "
      ]
     },
     "execution_count": 13,
     "metadata": {},
     "output_type": "execute_result"
    }
   ],
   "source": [
    "# Use KMeans clustering to calculate our groups. Will take ~3 minutes.\n",
    "cluster_model.fit(predicted_embeddings[[\"ml_generate_embedding_result\"]])\n",
    "clustered_result = cluster_model.predict(predicted_embeddings)\n",
    "# Notice the CENTROID_ID column, which is the ID number of the group that\n",
    "# each complaint belongs to.\n",
    "clustered_result.peek(n=5)"
   ]
  },
  {
   "attachments": {},
   "cell_type": "markdown",
   "metadata": {},
   "source": [
    "Our DataFrame clustered_result now has an additional column that includes an ID from 1-10 (inclusive) indicating which semantically similar group they belong to."
   ]
  },
  {
   "attachments": {},
   "cell_type": "markdown",
   "metadata": {
    "id": "21rNsFMHo8hO"
   },
   "source": [
    "## Step 3: Use Gemini to summarize complaint clusters"
   ]
  },
  {
   "attachments": {},
   "cell_type": "markdown",
   "metadata": {},
   "source": [
    "Build prompts - we will choose just two of our categories and prompt GeminiTextGenerator to identify their salient characteristics. The prompt is natural language in a python string."
   ]
  },
  {
   "cell_type": "code",
   "execution_count": 14,
   "metadata": {
    "id": "2E7wXM_jGqo6"
   },
   "outputs": [],
   "source": [
    "# Using bigframes, with syntax identical to pandas,\n",
    "# filter out the first and second groups\n",
    "cluster_1_result = clustered_result[\n",
    "    clustered_result[\"CENTROID_ID\"] == 1\n",
    "][[\"content\"]]\n",
    "cluster_1_result_pandas = cluster_1_result.head(5).to_pandas()\n",
    "\n",
    "cluster_2_result = clustered_result[\n",
    "    clustered_result[\"CENTROID_ID\"] == 2\n",
    "][[\"content\"]]\n",
    "cluster_2_result_pandas = cluster_2_result.head(5).to_pandas()"
   ]
  },
  {
   "cell_type": "code",
   "execution_count": 15,
   "metadata": {
    "id": "ZNDiueI9IP5e"
   },
   "outputs": [
    {
     "name": "stdout",
     "output_type": "stream",
     "text": [
      "comment list 1:\n",
      "1. I have XXXX XXXX XXXX but the hospital and the debt collector conspired to collect this debt and damage my credit. They both never attempted to verify the debt or get paid from the insurance company. They must contact the insurance company before attempting to collect this debt. Also, I never used hospital services in XXXX How did the hospital come up with this debt? I was afraid of going to the hospital due to pandemic in XXXX. How did I get charged for services not received?\n",
      "2. This letter is being sent to you in response to your recent letter dated XX/XX/XXXX ; which wasnt received at my home until XX/XX/XXXX. This is not a refusal to pay, but a notice that your claim is disputed. Please note this is my second letter to you and I have now sent this certified mail and I will know when you receive it. \n",
      "\n",
      "In my first letter, I stated that I applied for financial Aid through the provider. The same day that was denied, my account was sent to collections without giving me the opportunity to set up a payment plan. I sent you this letter per certified mail so I know that you received it at your office. You did not respond. \n",
      "\n",
      "Under the Fair Debt Collections Practices Act ( FDCPA ), I have the right to request validation of the debt you say I owe you. I am requesting proof that I am indeed the party you are asking to pay this debt, the date of the alleged medical service, the name of the patient, and proof that there is some contractual obligation which is binding on me to pay this debt. \n",
      "\n",
      "Please attach copies of : Any agreement with your client that grants you the authority to collect on this alleged debt, or proof of acquisition by purchase or assignment, and authorization under subtitle D of the ARRA, SEC. 13401. APPLICATION OF SECURITY PROVISIONS AND PENALTIES TO BUSINESS ASSOCIATES OF COVERED ENTITIES ; and SEC. 13407 ( 1 ) BREACH OF SECURITY.\n",
      "\n",
      "The term breach of security means, with respect to unsecured PHR identifiable health information of an individual in a personal health record, acquisition of such information without the authorization of the individual. \n",
      "\n",
      "Please note that enforcement of penalties against you is covered under the penalty rules of the Omnibus Final Rule effective XX/XX/XXXX interpreting and implementing various provisions of the Health Information Technology for Economic and Clinical Health Act of XX/XX/XXXX ( HITECH Act ) as issued XX/XX/XXXX and the penalty rules of the FCRA and FACTA including FACT Act changes final rules effective XX/XX/XXXX. \n",
      "\n",
      "\n",
      "Please also attach copies of any agreement that bears the signature of the alleged debtor wherein he or she agreed to pay the creditor and as this is a medical account a copy of any HIPAA authorization. \n",
      "\n",
      "Please also be advised that this letter is not only a formal dispute, but a request that you cease and desist any and all collection activities, including reporting of ; or verifying of this account on my credit reports. \n",
      "\n",
      "I require compliance with the terms and conditions of this letter within 30 days or a complete withdrawal, in writing, of any claim. \n",
      "\n",
      "In the event of noncompliance, I reserve the right to file charges and/ or complaints with the OCR on your HIPAA violations and appropriate County, State & Federal authorities, the CFPB , BBB and State Bar associations for violations of the FDCPA, FCRA, and Federal and State statutes on illegal  collection activities on any account that may be time-barred as well as in violation of Kentucky medical privacy rules. \n",
      "I also hereby reserve my right to take private civil action against you to recover damages. \n",
      "\n",
      "\n",
      "XXXX XXXX Hospital I am allowed under the Health Insurance Portability and Accountability Act ( HIPAA ) to protect my privacy and medical records from third parties. I did not give permission to any of my current or prior medical providers to release any of my medical information to a third party. I am aware that the HIPAA does allows the release of limited information about me but anything more is to only be revealed with the patients authorization. Therefore, by obtaining and sending me an itemized copy of my medical notes you have violated my HIPPA Rights.\n",
      "3. I received mail at my new place of work, where I am a single sub-contract agent who does not get paid until the closing of a transaction. I called CBS and was transferred to XXXX XXXX. I tried to set up payment plans of {$25.00} which was my original agreement with XXXX XXXX prior to collection. I am a family of XXXX with {$XXXX} annual income. I tried to explain this to XXXX when she would not let me make a payment of {$25.00}. She was extremely rude to me and caused me a lot of distress with the things she was threatening me with. She told me that they had verified my new employment, \" which means I have income and I have to pay at least {$300.00} a month or the balance in full otherwise they would sue me and come after me. And I would n't want to be responsible to more money after legal fees are involved, would I? '' That is rough verbatim of what XXXX said to me over my {$3600.00} balance with CBS. At one point she had me in tears when I tried to explain to her I did not want them contacting my new employer about my collections and trying to get me in trouble with my new job where I am trying to make money. I am a XXXX with no income coming in currently. I am only a few months in the business. She was very hateful and continued to threaten me with court and legal fees if I could not pay more than {$300.00} a month. Anytime I tried to explain that my annual income had not changed from the {$XXXX}, she would keep telling me they 've verified my employment. However, that does not mean my income has increased. \n",
      "\n",
      "I am trying to make my $ XXXX monthly payments the best I can. XXXX has me very afraid of being sued when I am trying my best to pay what I can. I am trying to be the best I can and I will continue to make my $ XXXX monthly payments if she would let me. \n",
      "\n",
      "It is not fair that I am not allowed by her to make a payment bc she does not feel it is enough money. Nor should I have to keep calling in hopes of getting someone different at CBS that may let me make my payment. I have asked to have a new case rep and they will not allow that either, even after I explain all of the distress XXXX XXXX has caused me.\n",
      "4. Received a text message from XXXX stating the following : \" Private Notice. XXXX XXXX call XXXX or XXXX XXXX XXXX XXXX XXXX XXXX   XXXX Reply stop to unsubscribe. '' After clicking the link, was redirected to a page requiring me to input social, DOB, and an account number. I looked up the name of the company listed at the bottom of this page as DRS, verified as Direct Recovery Services. Nowhere was I notified that the text, nor the page asking for my personal information was an attempt to collect a debt.\n",
      "5. I was contacted via mail by a collection company called XXXX XXXX ( XXXX XXXX XXXX XXXX fl XXXX ) on XX/XX/XXXX and XX/XX/XXXX. After the first letter I called the company ( XXXX ) and left a message stating this was the result of identity theft and I am not responsible for. The letter is for the amount of {$220.00} for a XXXX taken out fraudulently in my name on XX/XX/2019. The letter states that if I do not contact them within 30 days to dispute I acknowledge Im responsible. I did so but calling them as well as contacting XXXX for the second time and speaking with XXXX in the identify theft dept there, XXXX XXXX and the credit dept at XXXX. I send XXXX all the documents needed ( police report etc ). I even had the detective assigned to my case contact XXXX. I was told it would be handled. \n",
      "Now I get another letter dated XX/XX/XXXX from XXXX XXXX about the debt I do not owe. I called and left a message on XX/XX/XXXX. I received a call back from XXXX XXXX on XX/XX/XXXX and he stated he has no information from XXXX   that the acct was fraudulent. Ive done my due diligence with this and should not be contacted by XXXX XXXX. At this point its harassment and being the victim of identity theft makes it worse. \n",
      "I have also contacts XXXX for the fourth time about why they have not handled this case and I am still being harassed.\n",
      "\n",
      "comment list 2:\n",
      "1. Fraud has been committed on my consumer report, which violates the FCRA and FDCPA. \n",
      "XXXX XXXX XXXX  is using extortionate means to collect on alleged debt, I do not owe that resulted from extension of credit which violates Title 18 USC 892-894 and constitutes racketeering activities and extortion. This is a notice sent as per the Fair Debt Collection Practices Act ( F.D.C.P.A. ) 15 U.S.C. 1692 ( G ) Section 809 ( B ). This notice states that your claim is disputed and validation of the account is required. *Purchase Agreement* Evidence that you are a licensed debt collector *Chain of Title* Proof that you are a license debt collector to collect in my state. *A requested copy of your State Department of Commerce and Insurance Certificate . THIS IS A REQUEST FOR ACCOUNTING ; REQUEST REGARDING LIST OF COLLATERAL OR STATEMENT OF ACCOUNT IN REFERENCE TO U.C.C. $ 9-210. This authenticated record must include all tax filings ( including all 1099 's, 1096 's, and 1098 's ) any and all trades and/or investments and/or interests associated with this account of which I am alleged to be a party. I have a right to this information, as its directly associated with the reporting activities. Failure to substantiate the claim, please settle the account immediately and cease and desist all communication and have this tradelines PERMANENTLY DELETED from my consumer report.\n",
      "2. The items listed below are reporting on my personal credit file and were found in my reports with Experian, XXXX and XXXX credit reporting agency. These items were opened fraudulently. Ive informed all parties of the issue & provided the necessary documentation to support my claim. The credit reporting agency ( CRA ) & data furnisher ( DF ) are not complying with federal law in regards to identity theft. Additionally, the credit reporting agency & data furnisher have not provided me with any evidence of an open contract, signed contract or any valid proof this was opened, authorized or created by me. Since this is a strict violation of FCRA laws I need the items removed from my file. \n",
      "XXXX XXXX XXXX XXXX XXXX XXXX XXXX XXXX XXXX XXXX XXXX XXXX XXXX XXXX XXXX XXXX XXXX XXXX XXXX XXXX XXXX XXXX XXXX XXXX XXXX XXXX XXXX XXXX XXXX XXXX XXXX XXXX XXXX XXXX XXXX XXXX XXXX XXXX XXXX XXXX XXXX XXXX XXXX XXXX XXXX XXXX XXXX XXXX XXXX XXXX XXXX XXXX XXXX XXXX XXXX XXXX XXXX XXXX XXXX XXXX XXXX XXXX XXXX XXXX XXXX XXXX XXXX XXXX XXXX XXXX XXXX XXXX XXXX XXXX XXXX XXXX XXXX XXXX XXXX XXXX XXXX XXXX XXXX XXXX XXXX XXXX XXXX XXXX XXXX XXXX XXXX XXXX XXXX XXXX XXXX XXXX XXXX XXXX XXXX XXXX XXXX XXXX XXXX XXXX XXXX XXXX XXXX XXXX XXXX XXXX XXXX XXXX XXXX XXXX XXXX XXXX XXXX XXXX XXXX XXXX XXXX XXXX XXXX XXXX XXXX XXXX XXXX XXXX XXXX XXXX XXXX XXXX XXXX XXXX XXXX XXXX XXXX XXXX XXXX XXXX XXXX XXXX XXXX XXXX XXXX XXXX XXXX XXXX XXXX XXXX XXXX XXXX XXXX XXXX XXXX XXXX XXXX XXXX XXXX XXXX XXXX XXXX XXXX XXXX XXXX XXXX XXXX XXXX XXXX XXXX XXXX XXXX XXXX XXXX XXXX XXXX XXXX XXXX XXXX XXXX XXXX XXXX XXXX XXXX XXXX XXXX\n",
      "3. In accordance with the Fair Credit Reporting Act. Equifax Information Services, LLC has violated my rights by furnishing these inaccurate and fraudulent accounts below. \n",
      "\n",
      "XXXX XXXX XXXX XXXX XXXXXXXX XXXX XXXX XXXX XXXX XXXX XXXX XXXX XXXX XXXX XXXX XXXX XXXX XXXX XXXX XXXX XXXX XXXX XXXX XXXX XXXX XXXXXXXX XXXX XXXX XXXX # XXXX XXXX XXXX XXXX # XXXX 15 U.S.C 1681 section 602 A. States I have the right to privacy. 15 U.S.C 1681 604 A. section 2. it also states a consumer reporting agency can not furnish a account without written instructions. 15 U.S.C 1681 B. Permissible Purpose. The user must disclose to the consumer that an investigative consumer report may be obtained. This must be done in a written disclosure that is mailed, or otherwise delivered, to the consumer at some time before or not later than three days after the date on which the report was first requested. The disclosure must include a statement informing the consumer of his or her right to request additional disclosures of the nature and scope of the investigation as described below, and the summary of consumer rights required by Section 609 of the FCRA. ( The summary of consumer rights will be provided by the CRA that conducts the investigation. ) The user must certify to the CRA that the disclosures set forth above have been made and that the user will make the disclosure described below. \n",
      "Upon the written request of a consumer made within a reasonable period of time after the disclosures required above, the user must make a complete disclosure of the nature and scope of the investigation. This must be made in a written statement that is mailed or otherwise delivered, to the consumer no later than five days after the date on which the request was received from the consumer or the report was first requested, whichever is later in time.\n",
      "4. This is the several time I've complained about being a victim of identity theft. The 3 credit bureaus must remove any item that was opened without my knowledge, consent, or authority within 4 business days with ( XXXX ) appropriate proof of the identity of the consumer ; ( XXXX ) a copy of an identity theft report ; ( XXXX ) the identification of such information by the consumer; and ( XXXX ) a statement by the consumer that the information is not information relating to any transaction by the consumer. \n",
      "\n",
      "XXXX XXXX XXXX Balance {$21000.00} ; XXXX XXXX XXXXK XXXX Balance {$10000.00} XXXX XXXX XXXX XXXX XXXX XXXX XXXX XXXX XXXX XXXXXXXX XXXX XXXX XXXX XXXX XXXX XXXX XXXX XXXX XXXX XXXX XXXX XXXX XXXX XXXX XXXX XXXX XXXX XXXX XXXX XXXX XXXX XXXX XXXX XXXX XXXX XXXX XXXX XXXX XXXX XXXX XXXX XXXX XXXX XXXX XXXX XXXX XXXX XXXX XXXX XXXX XXXX XXXX XXXX XXXX XXXX XXXX XXXX XXXX XXXX XXXX XXXX XXXX XXXX XXXX XXXX\n",
      "5. Thank you in advance for your asstiance in this matter. I apologize in advance if I ramble on as this is the first time I have done a complaint like this. My complaint is on Consumer Financial Services XXXX XXXX XXXX XXXX XXXX XXXX XXXX FL XXXX I started doing business with Consumer Financial Services in XXXX. I purchased a vehicle and they where the fiance company. I eventually paid that loan in full and took a personal loan. I was having some life issues and was told I could borrow more if I put the title of my vehicle up for collateral. For each loan I took if I was going to be late on a payment I was cohearsed into refinancing the loan for cash anywhere from 50 to 1000. Each of the 25 times I did this I was told it was mandatory that I purchase life and disability unemployment insurance. So to get the loan I accepted it each time as it was a mandatory condition. \n",
      "On XX/XX/XXXX I had to place my XXXX year old son in a XXXX and it caused me great XXXX and XXXX. I was out of work from XX/XX/XXXX until XX/XX/XXXX I called consumer finacial o. XX/XX/XXXX and spoke with a XXXX XXXX and she told me she was unaware on how to do the form and would get back to me. I was the emailed a form on XX/XX/XXXX from a XXXX XXXX and it stated on the bottom of the form that all claims need to be submitted to the creditor which leads me to believe as the consumer that the creditor makes the decision of the claim. I asked XXXX if the collections attempts could be on hold until the claim is resolved. I called XXXX on XX/XX/XXXX or XX/XX/XXXX maybe earlier and was told that XXXX and XXXX where paid and my next payment would be XX/XX/XXXX. During this time frame I was not called. I was contacted around XX/XX/XXXX thru XX/XX/XXXX and told my XXXX payment was all that was due. OnXX/XX/XXXX I contacted CFS to see if I could refinance my XXXX payment at I was still recovering from the lack of money thru the disability I was told that I owe for XXXX and XXXX. I asked for a manager and spoke to a man who identified himself as the owner of the company. \n",
      "\n",
      "XXXX stated to me that XXXX was no longer employed at the company and that she was wrong the disability insurance that I was told that I had to purchase only covered one month even though XXXX told me it already covered XXXX and XXXX. XXXX stated that XXXX should not have told me that and he was not honoring it. XXXX also told me the insurance that I was told 25 times that was mandatory is not mandatory. If I knew it was not mandatory I would not have purchased it 25 times. XXXX stated to me that he in fact credited me the XXXX payment so it would not effect my credit as a courtesy. He stated \" he credits the payment for long term customers and goes back in the next month and voids the credit ''. I don't know if this is illegal or just unethical. I think there could be a bias there. XXXX stated that he was going to call the insurance company and research this and call me back. I askeed XXXX if he could hold the collection process while we handle this dispute and he told me he would get back with me that day this was XX/XX/XXXXI believe. From then to now I have recived three calls a day and a email in regards to my account. I have emailed asking for XXXX to call me and have been unsuccessful. Today I spoke with a XXXX and she stated that The notes say that XXXX was not covered. I have aske d for XXXX to call me as I recived no correspondence to this matter. XX/XX/XXXX.\n",
      "\n"
     ]
    }
   ],
   "source": [
    "# Build plain-text prompts to send to Gemini. Use only 5 complaints from each group.\n",
    "prompt1 = 'comment list 1:\\n'\n",
    "for i in range(5):\n",
    "    prompt1 += str(i + 1) + '. ' + \\\n",
    "        cluster_1_result_pandas[\"content\"].iloc[i] + '\\n'\n",
    "\n",
    "prompt2 = 'comment list 2:\\n'\n",
    "for i in range(5):\n",
    "    prompt2 += str(i + 1) + '. ' + \\\n",
    "        cluster_2_result_pandas[\"content\"].iloc[i] + '\\n'\n",
    "\n",
    "print(prompt1)\n",
    "print(prompt2)"
   ]
  },
  {
   "cell_type": "code",
   "execution_count": 16,
   "metadata": {
    "id": "BfHGJLirzSvH"
   },
   "outputs": [
    {
     "name": "stdout",
     "output_type": "stream",
     "text": [
      "Please highlight the most obvious difference between the two lists of comments:\n",
      "comment list 1:\n",
      "1. I have XXXX XXXX XXXX but the hospital and the debt collector conspired to collect this debt and damage my credit. They both never attempted to verify the debt or get paid from the insurance company. They must contact the insurance company before attempting to collect this debt. Also, I never used hospital services in XXXX How did the hospital come up with this debt? I was afraid of going to the hospital due to pandemic in XXXX. How did I get charged for services not received?\n",
      "2. This letter is being sent to you in response to your recent letter dated XX/XX/XXXX ; which wasnt received at my home until XX/XX/XXXX. This is not a refusal to pay, but a notice that your claim is disputed. Please note this is my second letter to you and I have now sent this certified mail and I will know when you receive it. \n",
      "\n",
      "In my first letter, I stated that I applied for financial Aid through the provider. The same day that was denied, my account was sent to collections without giving me the opportunity to set up a payment plan. I sent you this letter per certified mail so I know that you received it at your office. You did not respond. \n",
      "\n",
      "Under the Fair Debt Collections Practices Act ( FDCPA ), I have the right to request validation of the debt you say I owe you. I am requesting proof that I am indeed the party you are asking to pay this debt, the date of the alleged medical service, the name of the patient, and proof that there is some contractual obligation which is binding on me to pay this debt. \n",
      "\n",
      "Please attach copies of : Any agreement with your client that grants you the authority to collect on this alleged debt, or proof of acquisition by purchase or assignment, and authorization under subtitle D of the ARRA, SEC. 13401. APPLICATION OF SECURITY PROVISIONS AND PENALTIES TO BUSINESS ASSOCIATES OF COVERED ENTITIES ; and SEC. 13407 ( 1 ) BREACH OF SECURITY.\n",
      "\n",
      "The term breach of security means, with respect to unsecured PHR identifiable health information of an individual in a personal health record, acquisition of such information without the authorization of the individual. \n",
      "\n",
      "Please note that enforcement of penalties against you is covered under the penalty rules of the Omnibus Final Rule effective XX/XX/XXXX interpreting and implementing various provisions of the Health Information Technology for Economic and Clinical Health Act of XX/XX/XXXX ( HITECH Act ) as issued XX/XX/XXXX and the penalty rules of the FCRA and FACTA including FACT Act changes final rules effective XX/XX/XXXX. \n",
      "\n",
      "\n",
      "Please also attach copies of any agreement that bears the signature of the alleged debtor wherein he or she agreed to pay the creditor and as this is a medical account a copy of any HIPAA authorization. \n",
      "\n",
      "Please also be advised that this letter is not only a formal dispute, but a request that you cease and desist any and all collection activities, including reporting of ; or verifying of this account on my credit reports. \n",
      "\n",
      "I require compliance with the terms and conditions of this letter within 30 days or a complete withdrawal, in writing, of any claim. \n",
      "\n",
      "In the event of noncompliance, I reserve the right to file charges and/ or complaints with the OCR on your HIPAA violations and appropriate County, State & Federal authorities, the CFPB , BBB and State Bar associations for violations of the FDCPA, FCRA, and Federal and State statutes on illegal  collection activities on any account that may be time-barred as well as in violation of Kentucky medical privacy rules. \n",
      "I also hereby reserve my right to take private civil action against you to recover damages. \n",
      "\n",
      "\n",
      "XXXX XXXX Hospital I am allowed under the Health Insurance Portability and Accountability Act ( HIPAA ) to protect my privacy and medical records from third parties. I did not give permission to any of my current or prior medical providers to release any of my medical information to a third party. I am aware that the HIPAA does allows the release of limited information about me but anything more is to only be revealed with the patients authorization. Therefore, by obtaining and sending me an itemized copy of my medical notes you have violated my HIPPA Rights.\n",
      "3. I received mail at my new place of work, where I am a single sub-contract agent who does not get paid until the closing of a transaction. I called CBS and was transferred to XXXX XXXX. I tried to set up payment plans of {$25.00} which was my original agreement with XXXX XXXX prior to collection. I am a family of XXXX with {$XXXX} annual income. I tried to explain this to XXXX when she would not let me make a payment of {$25.00}. She was extremely rude to me and caused me a lot of distress with the things she was threatening me with. She told me that they had verified my new employment, \" which means I have income and I have to pay at least {$300.00} a month or the balance in full otherwise they would sue me and come after me. And I would n't want to be responsible to more money after legal fees are involved, would I? '' That is rough verbatim of what XXXX said to me over my {$3600.00} balance with CBS. At one point she had me in tears when I tried to explain to her I did not want them contacting my new employer about my collections and trying to get me in trouble with my new job where I am trying to make money. I am a XXXX with no income coming in currently. I am only a few months in the business. She was very hateful and continued to threaten me with court and legal fees if I could not pay more than {$300.00} a month. Anytime I tried to explain that my annual income had not changed from the {$XXXX}, she would keep telling me they 've verified my employment. However, that does not mean my income has increased. \n",
      "\n",
      "I am trying to make my $ XXXX monthly payments the best I can. XXXX has me very afraid of being sued when I am trying my best to pay what I can. I am trying to be the best I can and I will continue to make my $ XXXX monthly payments if she would let me. \n",
      "\n",
      "It is not fair that I am not allowed by her to make a payment bc she does not feel it is enough money. Nor should I have to keep calling in hopes of getting someone different at CBS that may let me make my payment. I have asked to have a new case rep and they will not allow that either, even after I explain all of the distress XXXX XXXX has caused me.\n",
      "4. Received a text message from XXXX stating the following : \" Private Notice. XXXX XXXX call XXXX or XXXX XXXX XXXX XXXX XXXX XXXX   XXXX Reply stop to unsubscribe. '' After clicking the link, was redirected to a page requiring me to input social, DOB, and an account number. I looked up the name of the company listed at the bottom of this page as DRS, verified as Direct Recovery Services. Nowhere was I notified that the text, nor the page asking for my personal information was an attempt to collect a debt.\n",
      "5. I was contacted via mail by a collection company called XXXX XXXX ( XXXX XXXX XXXX XXXX fl XXXX ) on XX/XX/XXXX and XX/XX/XXXX. After the first letter I called the company ( XXXX ) and left a message stating this was the result of identity theft and I am not responsible for. The letter is for the amount of {$220.00} for a XXXX taken out fraudulently in my name on XX/XX/2019. The letter states that if I do not contact them within 30 days to dispute I acknowledge Im responsible. I did so but calling them as well as contacting XXXX for the second time and speaking with XXXX in the identify theft dept there, XXXX XXXX and the credit dept at XXXX. I send XXXX all the documents needed ( police report etc ). I even had the detective assigned to my case contact XXXX. I was told it would be handled. \n",
      "Now I get another letter dated XX/XX/XXXX from XXXX XXXX about the debt I do not owe. I called and left a message on XX/XX/XXXX. I received a call back from XXXX XXXX on XX/XX/XXXX and he stated he has no information from XXXX   that the acct was fraudulent. Ive done my due diligence with this and should not be contacted by XXXX XXXX. At this point its harassment and being the victim of identity theft makes it worse. \n",
      "I have also contacts XXXX for the fourth time about why they have not handled this case and I am still being harassed.\n",
      "comment list 2:\n",
      "1. Fraud has been committed on my consumer report, which violates the FCRA and FDCPA. \n",
      "XXXX XXXX XXXX  is using extortionate means to collect on alleged debt, I do not owe that resulted from extension of credit which violates Title 18 USC 892-894 and constitutes racketeering activities and extortion. This is a notice sent as per the Fair Debt Collection Practices Act ( F.D.C.P.A. ) 15 U.S.C. 1692 ( G ) Section 809 ( B ). This notice states that your claim is disputed and validation of the account is required. *Purchase Agreement* Evidence that you are a licensed debt collector *Chain of Title* Proof that you are a license debt collector to collect in my state. *A requested copy of your State Department of Commerce and Insurance Certificate . THIS IS A REQUEST FOR ACCOUNTING ; REQUEST REGARDING LIST OF COLLATERAL OR STATEMENT OF ACCOUNT IN REFERENCE TO U.C.C. $ 9-210. This authenticated record must include all tax filings ( including all 1099 's, 1096 's, and 1098 's ) any and all trades and/or investments and/or interests associated with this account of which I am alleged to be a party. I have a right to this information, as its directly associated with the reporting activities. Failure to substantiate the claim, please settle the account immediately and cease and desist all communication and have this tradelines PERMANENTLY DELETED from my consumer report.\n",
      "2. The items listed below are reporting on my personal credit file and were found in my reports with Experian, XXXX and XXXX credit reporting agency. These items were opened fraudulently. Ive informed all parties of the issue & provided the necessary documentation to support my claim. The credit reporting agency ( CRA ) & data furnisher ( DF ) are not complying with federal law in regards to identity theft. Additionally, the credit reporting agency & data furnisher have not provided me with any evidence of an open contract, signed contract or any valid proof this was opened, authorized or created by me. Since this is a strict violation of FCRA laws I need the items removed from my file. \n",
      "XXXX XXXX XXXX XXXX XXXX XXXX XXXX XXXX XXXX XXXX XXXX XXXX XXXX XXXX XXXX XXXX XXXX XXXX XXXX XXXX XXXX XXXX XXXX XXXX XXXX XXXX XXXX XXXX XXXX XXXX XXXX XXXX XXXX XXXX XXXX XXXX XXXX XXXX XXXX XXXX XXXX XXXX XXXX XXXX XXXX XXXX XXXX XXXX XXXX XXXX XXXX XXXX XXXX XXXX XXXX XXXX XXXX XXXX XXXX XXXX XXXX XXXX XXXX XXXX XXXX XXXX XXXX XXXX XXXX XXXX XXXX XXXX XXXX XXXX XXXX XXXX XXXX XXXX XXXX XXXX XXXX XXXX XXXX XXXX XXXX XXXX XXXX XXXX XXXX XXXX XXXX XXXX XXXX XXXX XXXX XXXX XXXX XXXX XXXX XXXX XXXX XXXX XXXX XXXX XXXX XXXX XXXX XXXX XXXX XXXX XXXX XXXX XXXX XXXX XXXX XXXX XXXX XXXX XXXX XXXX XXXX XXXX XXXX XXXX XXXX XXXX XXXX XXXX XXXX XXXX XXXX XXXX XXXX XXXX XXXX XXXX XXXX XXXX XXXX XXXX XXXX XXXX XXXX XXXX XXXX XXXX XXXX XXXX XXXX XXXX XXXX XXXX XXXX XXXX XXXX XXXX XXXX XXXX XXXX XXXX XXXX XXXX XXXX XXXX XXXX XXXX XXXX XXXX XXXX XXXX XXXX XXXX XXXX XXXX XXXX XXXX XXXX XXXX XXXX XXXX XXXX XXXX XXXX XXXX XXXX XXXX\n",
      "3. In accordance with the Fair Credit Reporting Act. Equifax Information Services, LLC has violated my rights by furnishing these inaccurate and fraudulent accounts below. \n",
      "\n",
      "XXXX XXXX XXXX XXXX XXXXXXXX XXXX XXXX XXXX XXXX XXXX XXXX XXXX XXXX XXXX XXXX XXXX XXXX XXXX XXXX XXXX XXXX XXXX XXXX XXXX XXXX XXXXXXXX XXXX XXXX XXXX # XXXX XXXX XXXX XXXX # XXXX 15 U.S.C 1681 section 602 A. States I have the right to privacy. 15 U.S.C 1681 604 A. section 2. it also states a consumer reporting agency can not furnish a account without written instructions. 15 U.S.C 1681 B. Permissible Purpose. The user must disclose to the consumer that an investigative consumer report may be obtained. This must be done in a written disclosure that is mailed, or otherwise delivered, to the consumer at some time before or not later than three days after the date on which the report was first requested. The disclosure must include a statement informing the consumer of his or her right to request additional disclosures of the nature and scope of the investigation as described below, and the summary of consumer rights required by Section 609 of the FCRA. ( The summary of consumer rights will be provided by the CRA that conducts the investigation. ) The user must certify to the CRA that the disclosures set forth above have been made and that the user will make the disclosure described below. \n",
      "Upon the written request of a consumer made within a reasonable period of time after the disclosures required above, the user must make a complete disclosure of the nature and scope of the investigation. This must be made in a written statement that is mailed or otherwise delivered, to the consumer no later than five days after the date on which the request was received from the consumer or the report was first requested, whichever is later in time.\n",
      "4. This is the several time I've complained about being a victim of identity theft. The 3 credit bureaus must remove any item that was opened without my knowledge, consent, or authority within 4 business days with ( XXXX ) appropriate proof of the identity of the consumer ; ( XXXX ) a copy of an identity theft report ; ( XXXX ) the identification of such information by the consumer; and ( XXXX ) a statement by the consumer that the information is not information relating to any transaction by the consumer. \n",
      "\n",
      "XXXX XXXX XXXX Balance {$21000.00} ; XXXX XXXX XXXXK XXXX Balance {$10000.00} XXXX XXXX XXXX XXXX XXXX XXXX XXXX XXXX XXXX XXXXXXXX XXXX XXXX XXXX XXXX XXXX XXXX XXXX XXXX XXXX XXXX XXXX XXXX XXXX XXXX XXXX XXXX XXXX XXXX XXXX XXXX XXXX XXXX XXXX XXXX XXXX XXXX XXXX XXXX XXXX XXXX XXXX XXXX XXXX XXXX XXXX XXXX XXXX XXXX XXXX XXXX XXXX XXXX XXXX XXXX XXXX XXXX XXXX XXXX XXXX XXXX XXXX XXXX XXXX XXXX XXXX\n",
      "5. Thank you in advance for your asstiance in this matter. I apologize in advance if I ramble on as this is the first time I have done a complaint like this. My complaint is on Consumer Financial Services XXXX XXXX XXXX XXXX XXXX XXXX XXXX FL XXXX I started doing business with Consumer Financial Services in XXXX. I purchased a vehicle and they where the fiance company. I eventually paid that loan in full and took a personal loan. I was having some life issues and was told I could borrow more if I put the title of my vehicle up for collateral. For each loan I took if I was going to be late on a payment I was cohearsed into refinancing the loan for cash anywhere from 50 to 1000. Each of the 25 times I did this I was told it was mandatory that I purchase life and disability unemployment insurance. So to get the loan I accepted it each time as it was a mandatory condition. \n",
      "On XX/XX/XXXX I had to place my XXXX year old son in a XXXX and it caused me great XXXX and XXXX. I was out of work from XX/XX/XXXX until XX/XX/XXXX I called consumer finacial o. XX/XX/XXXX and spoke with a XXXX XXXX and she told me she was unaware on how to do the form and would get back to me. I was the emailed a form on XX/XX/XXXX from a XXXX XXXX and it stated on the bottom of the form that all claims need to be submitted to the creditor which leads me to believe as the consumer that the creditor makes the decision of the claim. I asked XXXX if the collections attempts could be on hold until the claim is resolved. I called XXXX on XX/XX/XXXX or XX/XX/XXXX maybe earlier and was told that XXXX and XXXX where paid and my next payment would be XX/XX/XXXX. During this time frame I was not called. I was contacted around XX/XX/XXXX thru XX/XX/XXXX and told my XXXX payment was all that was due. OnXX/XX/XXXX I contacted CFS to see if I could refinance my XXXX payment at I was still recovering from the lack of money thru the disability I was told that I owe for XXXX and XXXX. I asked for a manager and spoke to a man who identified himself as the owner of the company. \n",
      "\n",
      "XXXX stated to me that XXXX was no longer employed at the company and that she was wrong the disability insurance that I was told that I had to purchase only covered one month even though XXXX told me it already covered XXXX and XXXX. XXXX stated that XXXX should not have told me that and he was not honoring it. XXXX also told me the insurance that I was told 25 times that was mandatory is not mandatory. If I knew it was not mandatory I would not have purchased it 25 times. XXXX stated to me that he in fact credited me the XXXX payment so it would not effect my credit as a courtesy. He stated \" he credits the payment for long term customers and goes back in the next month and voids the credit ''. I don't know if this is illegal or just unethical. I think there could be a bias there. XXXX stated that he was going to call the insurance company and research this and call me back. I askeed XXXX if he could hold the collection process while we handle this dispute and he told me he would get back with me that day this was XX/XX/XXXXI believe. From then to now I have recived three calls a day and a email in regards to my account. I have emailed asking for XXXX to call me and have been unsuccessful. Today I spoke with a XXXX and she stated that The notes say that XXXX was not covered. I have aske d for XXXX to call me as I recived no correspondence to this matter. XX/XX/XXXX.\n",
      "\n"
     ]
    }
   ],
   "source": [
    "# The plain English request we will make of Gemini\n",
    "prompt = (\n",
    "    \"Please highlight the most obvious difference between \"\n",
    "    \"the two lists of comments:\\n\" + prompt1 + prompt2\n",
    ")\n",
    "print(prompt)"
   ]
  },
  {
   "attachments": {},
   "cell_type": "markdown",
   "metadata": {},
   "source": [
    "Get a response from Gemini by making a call to Vertex AI using our connection."
   ]
  },
  {
   "cell_type": "code",
   "execution_count": 17,
   "metadata": {
    "id": "mL5P0_3X04dE"
   },
   "outputs": [
    {
     "data": {
      "text/html": [
       "Query job cca67107-0221-4a46-98ee-60c2b2cdf6f6 is DONE. 0 Bytes processed. <a target=\"_blank\" href=\"https://console.cloud.google.com/bigquery?project=bigframes-dev&j=bq:US:cca67107-0221-4a46-98ee-60c2b2cdf6f6&page=queryresults\">Open Job</a>"
      ],
      "text/plain": [
       "<IPython.core.display.HTML object>"
      ]
     },
     "metadata": {},
     "output_type": "display_data"
    }
   ],
   "source": [
    "from bigframes.ml.llm import GeminiTextGenerator\n",
    "\n",
    "q_a_model = GeminiTextGenerator(model_name=\"gemini-1.5-flash-002\")"
   ]
  },
  {
   "cell_type": "code",
   "execution_count": 18,
   "metadata": {
    "id": "ICWHsqAW1FNk"
   },
   "outputs": [
    {
     "data": {
      "text/html": [
       "Load job eb49c517-2fda-4175-914f-59b55f9dc5e0 is DONE. <a target=\"_blank\" href=\"https://console.cloud.google.com/bigquery?project=bigframes-dev&j=bq:US:eb49c517-2fda-4175-914f-59b55f9dc5e0&page=queryresults\">Open Job</a>"
      ],
      "text/plain": [
       "<IPython.core.display.HTML object>"
      ]
     },
     "metadata": {},
     "output_type": "display_data"
    }
   ],
   "source": [
    "# Make a DataFrame containing only a single row with our prompt for Gemini\n",
    "df = bf.DataFrame({\"prompt\": [prompt]})"
   ]
  },
  {
   "cell_type": "code",
   "execution_count": 19,
   "metadata": {
    "id": "gB7e1LXU1pst"
   },
   "outputs": [
    {
     "data": {
      "text/html": [
       "Query job 80d45376-cdbf-41f5-aaaf-a345179e55f4 is DONE. 17.5 kB processed. <a target=\"_blank\" href=\"https://console.cloud.google.com/bigquery?project=bigframes-dev&j=bq:US:80d45376-cdbf-41f5-aaaf-a345179e55f4&page=queryresults\">Open Job</a>"
      ],
      "text/plain": [
       "<IPython.core.display.HTML object>"
      ]
     },
     "metadata": {},
     "output_type": "display_data"
    },
    {
     "name": "stderr",
     "output_type": "stream",
     "text": [
      "/usr/local/google/home/arwas/src1/python-bigquery-dataframes/bigframes/core/array_value.py:109: PreviewWarning: JSON column interpretation as a custom PyArrow extention in\n",
      "`db_dtypes` is a preview feature and subject to change.\n",
      "  warnings.warn(msg, bfe.PreviewWarning)\n"
     ]
    },
    {
     "data": {
      "text/plain": [
       "'The most obvious difference is the **focus of the complaints**.\\n\\nComment List 1 focuses on issues with **debt collection practices**, including alleged violations of the Fair Debt Collection Practices Act (FDCPA), HIPAA violations, and generally aggressive or unfair collection tactics.  The complaints center around disputes over the validity of debts, improper collection methods, and the emotional distress caused by collectors.\\n\\nComment List 2 focuses on **identity theft and fraudulent accounts**. The complaints primarily concern inaccurate or fraudulent information reported to credit bureaus, violations of the Fair Credit Reporting Act (FCRA), and the failure of credit reporting agencies and data furnishers to adequately address the reported identity theft.  While some complaints mention debt, the core issue is the fraudulent opening of accounts and the subsequent damage to credit reports.\\n'"
      ]
     },
     "execution_count": 19,
     "metadata": {},
     "output_type": "execute_result"
    }
   ],
   "source": [
    "# Send the request for Gemini to generate a response to our prompt\n",
    "major_difference = q_a_model.predict(df)\n",
    "# Gemini's response is the only row in the dataframe result\n",
    "major_difference[\"ml_generate_text_llm_result\"].iloc[0]"
   ]
  },
  {
   "attachments": {},
   "cell_type": "markdown",
   "metadata": {},
   "source": [
    "We now see GeminiTextGenerator's characterization of the different comment groups. Thanks for using BigQuery DataFrames!"
   ]
  },
  {
   "cell_type": "markdown",
   "metadata": {},
   "source": [
    "# Summary and next steps\n",
    "\n",
    "You've used the ML and LLM capabilities of BigQuery DataFrames to help analyze and understand a large dataset of unstructured feedback.\n",
    "\n",
    "Learn more about BigQuery DataFrames in the [documentation](https://cloud.google.com/python/docs/reference/bigframes/latest) and find more sample notebooks in the [GitHub repo](https://github.com/googleapis/python-bigquery-dataframes/tree/main/notebooks)."
   ]
  }
 ],
 "metadata": {
  "colab": {
   "provenance": []
  },
  "kernelspec": {
   "display_name": "Python 3 (ipykernel)",
   "language": "python",
   "name": "python3"
  },
  "language_info": {
   "codemirror_mode": {
    "name": "ipython",
    "version": 3
   },
   "file_extension": ".py",
   "mimetype": "text/x-python",
   "name": "python",
   "nbconvert_exporter": "python",
   "pygments_lexer": "ipython3",
   "version": "3.9.19"
  }
 },
 "nbformat": 4,
 "nbformat_minor": 4
}
