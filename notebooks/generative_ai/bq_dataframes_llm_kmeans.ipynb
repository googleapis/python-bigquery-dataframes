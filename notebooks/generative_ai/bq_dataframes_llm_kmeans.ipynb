{
 "cells": [
  {
   "cell_type": "code",
   "execution_count": 1,
   "metadata": {},
   "outputs": [],
   "source": [
    "# Copyright 2023 Google LLC\n",
    "#\n",
    "# Licensed under the Apache License, Version 2.0 (the \"License\");\n",
    "# you may not use this file except in compliance with the License.\n",
    "# You may obtain a copy of the License at\n",
    "#\n",
    "#     https://www.apache.org/licenses/LICENSE-2.0\n",
    "#\n",
    "# Unless required by applicable law or agreed to in writing, software\n",
    "# distributed under the License is distributed on an \"AS IS\" BASIS,\n",
    "# WITHOUT WARRANTIES OR CONDITIONS OF ANY KIND, either express or implied.\n",
    "# See the License for the specific language governing permissions and\n",
    "# limitations under the License."
   ]
  },
  {
   "attachments": {},
   "cell_type": "markdown",
   "metadata": {},
   "source": [
    "## Use BigQuery DataFrames to cluster and characterize complaints\n",
    "\n",
    "<table align=\"left\">\n",
    "\n",
    "  <td>\n",
    "    <a href=\"https://colab.research.google.com/github/googleapis/python-bigquery-dataframes/blob/main/notebooks/generative_ai/bq_dataframes_llm_kmeans.ipynb\">\n",
    "      <img src=\"https://cloud.google.com/ml-engine/images/colab-logo-32px.png\" alt=\"Colab logo\"> Run in Colab\n",
    "    </a>\n",
    "  </td>\n",
    "  <td>\n",
    "    <a href=\"https://github.com/googleapis/python-bigquery-dataframes/tree/main/notebooks/generative_ai/bq_dataframes_llm_kmeans.ipynb\">\n",
    "      <img src=\"https://cloud.google.com/ml-engine/images/github-logo-32px.png\" alt=\"GitHub logo\">\n",
    "      View on GitHub\n",
    "    </a>\n",
    "  </td>\n",
    "  <td>\n",
    "    <a href=\"https://console.cloud.google.com/vertex-ai/workbench/deploy-notebook?download_url=https://raw.githubusercontent.com/googleapis/python-bigquery-dataframes/tree/main/notebooks/generative_ai/bq_dataframes_llm_kmeans.ipynb\">\n",
    "      <img src=\"https://lh3.googleusercontent.com/UiNooY4LUgW_oTvpsNhPpQzsstV5W8F7rYgxgGBD85cWJoLmrOzhVs_ksK_vgx40SHs7jCqkTkCk=e14-rj-sc0xffffff-h130-w32\" alt=\"Vertex AI logo\">\n",
    "      Open in Vertex AI Workbench\n",
    "    </a>\n",
    "  </td>                                                                                               \n",
    "</table>"
   ]
  },
  {
   "attachments": {},
   "cell_type": "markdown",
   "metadata": {},
   "source": [
    "## Overview\n",
    "\n",
    "The goal of this notebook is to demonstrate a comment characterization algorithm for an online business. We will accomplish this using [Google's PaLM 2](https://ai.google/discover/palm2/) and [KMeans clustering](https://en.wikipedia.org/wiki/K-means_clustering) in three steps:\n",
    "\n",
    "1. Use PaLM2TextEmbeddingGenerator to [generate text embeddings](https://cloud.google.com/vertex-ai/docs/generative-ai/embeddings/get-text-embeddings) for each of 10000 complaints sent to an online bank. If you're not familiar with what a text embedding is, it's a list of numbers that are like coordinates in an imaginary \"meaning space\" for sentences. (It's like [word embeddings](https://en.wikipedia.org/wiki/Word_embedding), but for more general text.) The important point for our purposes is that similar sentences are close to each other in this imaginary space.\n",
    "2. Use KMeans clustering to group together complaints whose text embeddings are near to eachother. This will give us sets of similar complaints, but we don't yet know _why_ these complaints are similar.\n",
    "3. Prompt GeminiTextGenerator in English asking what the difference is between the groups of complaints that we got. Thanks to the power of modern LLMs, the response might give us a very good idea of what these complaints are all about, but remember to [\"understand the limits of your dataset and model.\"](https://ai.google/responsibility/responsible-ai-practices/#:~:text=Understand%20the%20limitations%20of%20your%20dataset%20and%20model)\n",
    "\n",
    "We will tie these pieces together in Python using BigQuery DataFrames. [Click here](https://cloud.google.com/bigquery/docs/dataframes-quickstart) to learn more about BigQuery DataFrames!"
   ]
  },
  {
   "attachments": {},
   "cell_type": "markdown",
   "metadata": {},
   "source": [
    "### Dataset\n",
    "\n",
    "This notebook uses the [CFPB Consumer Complaint Database](https://console.cloud.google.com/marketplace/product/cfpb/complaint-database)."
   ]
  },
  {
   "attachments": {},
   "cell_type": "markdown",
   "metadata": {},
   "source": [
    "### Costs\n",
    "\n",
    "This tutorial uses billable components of Google Cloud:\n",
    "\n",
    "* BigQuery (compute)\n",
    "* BigQuery ML\n",
    "* Generative AI support on Vertex AI\n",
    "\n",
    "Learn about [BigQuery compute pricing](https://cloud.google.com/bigquery/pricing#analysis_pricing_models), [Generative AI support on Vertex AI pricing](https://cloud.google.com/vertex-ai/pricing#generative_ai_models),\n",
    "and [BigQuery ML pricing](https://cloud.google.com/bigquery/pricing#bqml),\n",
    "and use the [Pricing Calculator](https://cloud.google.com/products/calculator/)\n",
    "to generate a cost estimate based on your projected usage."
   ]
  },
  {
   "attachments": {},
   "cell_type": "markdown",
   "metadata": {},
   "source": [
    "## Before you begin\n",
    "\n",
    "Complete the tasks in this section to set up your environment."
   ]
  },
  {
   "attachments": {},
   "cell_type": "markdown",
   "metadata": {},
   "source": [
    "### Set up your Google Cloud project\n",
    "\n",
    "**The following steps are required, regardless of your notebook environment.**\n",
    "\n",
    "1. [Select or create a Google Cloud project](https://console.cloud.google.com/cloud-resource-manager). When you first create an account, you get a $300 credit towards your compute/storage costs.\n",
    "\n",
    "2. [Make sure that billing is enabled for your project](https://cloud.google.com/billing/docs/how-to/modify-project).\n",
    "\n",
    "3. [Click here](https://console.cloud.google.com/flows/enableapi?apiid=bigquery.googleapis.com,bigqueryconnection.googleapis.com,aiplatform.googleapis.com) to enable the following APIs:\n",
    "\n",
    "  * BigQuery API\n",
    "  * BigQuery Connection API\n",
    "  * Vertex AI API\n",
    "\n",
    "4. If you are running this notebook locally, install the [Cloud SDK](https://cloud.google.com/sdk)."
   ]
  },
  {
   "attachments": {},
   "cell_type": "markdown",
   "metadata": {},
   "source": [
    "#### Set your project ID\n",
    "\n",
    "**If you don't know your project ID**, see the support page: [Locate the project ID](https://support.google.com/googleapi/answer/7014113)"
   ]
  },
  {
   "cell_type": "code",
   "execution_count": 2,
   "metadata": {},
   "outputs": [],
   "source": [
    "# set your project ID below\n",
    "PROJECT_ID = \"bigframes-dev\"  # @param {type:\"string\"}\n",
    "\n",
    "# Set the project id in gcloud\n",
    "#! gcloud config set project {PROJECT_ID}"
   ]
  },
  {
   "attachments": {},
   "cell_type": "markdown",
   "metadata": {},
   "source": [
    "#### Authenticate your Google Cloud account\n",
    "\n",
    "Depending on your Jupyter environment, you might have to manually authenticate. Follow the relevant instructions below."
   ]
  },
  {
   "attachments": {},
   "cell_type": "markdown",
   "metadata": {},
   "source": [
    "**Vertex AI Workbench**\n",
    "\n",
    "Do nothing, you are already authenticated."
   ]
  },
  {
   "attachments": {},
   "cell_type": "markdown",
   "metadata": {},
   "source": [
    "**Local JupyterLab instance**\n",
    "\n",
    "Uncomment and run the following cell:"
   ]
  },
  {
   "cell_type": "code",
   "execution_count": 3,
   "metadata": {},
   "outputs": [],
   "source": [
    "# ! gcloud auth login"
   ]
  },
  {
   "attachments": {},
   "cell_type": "markdown",
   "metadata": {},
   "source": [
    "**Colab**\n",
    "\n",
    "Uncomment and run the following cell:"
   ]
  },
  {
   "cell_type": "code",
   "execution_count": 4,
   "metadata": {},
   "outputs": [],
   "source": [
    "# from google.colab import auth\n",
    "# auth.authenticate_user()"
   ]
  },
  {
   "attachments": {},
   "cell_type": "markdown",
   "metadata": {},
   "source": [
    "Now we are ready to use BigQuery DataFrames!"
   ]
  },
  {
   "attachments": {},
   "cell_type": "markdown",
   "metadata": {
    "id": "xckgWno6ouHY"
   },
   "source": [
    "## Step 1: Text embedding "
   ]
  },
  {
   "attachments": {},
   "cell_type": "markdown",
   "metadata": {},
   "source": [
    "BigQuery DataFrames setup"
   ]
  },
  {
   "cell_type": "code",
   "execution_count": 5,
   "metadata": {
    "id": "R7STCS8xB5d2"
   },
   "outputs": [],
   "source": [
    "import bigframes.pandas as bf\n",
    "\n",
    "# Note: The project option is not required in all environments.\n",
    "# On BigQuery Studio, the project ID is automatically detected.\n",
    "bf.options.bigquery.project = PROJECT_ID"
   ]
  },
  {
   "attachments": {},
   "cell_type": "markdown",
   "metadata": {},
   "source": [
    "If you want to reset the location of the created DataFrame or Series objects, reset the session by executing `bf.close_session()`. After that, you can reuse `bf.options.bigquery.location` to specify another location."
   ]
  },
  {
   "attachments": {},
   "cell_type": "markdown",
   "metadata": {
    "id": "v6FGschEowht"
   },
   "source": [
    "Data Input - read the data from a publicly available BigQuery dataset"
   ]
  },
  {
   "cell_type": "code",
   "execution_count": 6,
   "metadata": {
    "id": "zDSwoBo1CU3G"
   },
   "outputs": [],
   "source": [
    "input_df = bf.read_gbq(\"bigquery-public-data.cfpb_complaints.complaint_database\")"
   ]
  },
  {
   "cell_type": "code",
   "execution_count": 7,
   "metadata": {
    "id": "tYDoaKgJChiq"
   },
   "outputs": [
    {
     "data": {
      "text/html": [
       "Query job fab07b11-04bd-4a8e-b1da-a2742698cea9 is DONE. 2.3 GB processed. <a target=\"_blank\" href=\"https://console.cloud.google.com/bigquery?project=bigframes-dev&j=bq:US:fab07b11-04bd-4a8e-b1da-a2742698cea9&page=queryresults\">Open Job</a>"
      ],
      "text/plain": [
       "<IPython.core.display.HTML object>"
      ]
     },
     "metadata": {},
     "output_type": "display_data"
    },
    {
     "data": {
      "text/html": [
       "Query job dcc144ee-4da6-40be-8690-dc3c99dab46a is DONE. 45.5 MB processed. <a target=\"_blank\" href=\"https://console.cloud.google.com/bigquery?project=bigframes-dev&j=bq:US:dcc144ee-4da6-40be-8690-dc3c99dab46a&page=queryresults\">Open Job</a>"
      ],
      "text/plain": [
       "<IPython.core.display.HTML object>"
      ]
     },
     "metadata": {},
     "output_type": "display_data"
    },
    {
     "data": {
      "text/html": [
       "<div>\n",
       "<style scoped>\n",
       "    .dataframe tbody tr th:only-of-type {\n",
       "        vertical-align: middle;\n",
       "    }\n",
       "\n",
       "    .dataframe tbody tr th {\n",
       "        vertical-align: top;\n",
       "    }\n",
       "\n",
       "    .dataframe thead th {\n",
       "        text-align: right;\n",
       "    }\n",
       "</style>\n",
       "<table border=\"1\" class=\"dataframe\">\n",
       "  <thead>\n",
       "    <tr style=\"text-align: right;\">\n",
       "      <th></th>\n",
       "      <th>consumer_complaint_narrative</th>\n",
       "    </tr>\n",
       "  </thead>\n",
       "  <tbody>\n",
       "    <tr>\n",
       "      <th>954305</th>\n",
       "      <td>HRRG is a debt collection company who has been...</td>\n",
       "    </tr>\n",
       "    <tr>\n",
       "      <th>954501</th>\n",
       "      <td>Someone open a XXXX account in my name that li...</td>\n",
       "    </tr>\n",
       "    <tr>\n",
       "      <th>954643</th>\n",
       "      <td>XXXX and capital one data breach caused my cre...</td>\n",
       "    </tr>\n",
       "    <tr>\n",
       "      <th>954923</th>\n",
       "      <td>Received call with local area code : XXXX. Rec...</td>\n",
       "    </tr>\n",
       "    <tr>\n",
       "      <th>955092</th>\n",
       "      <td>I have tried several times to resolve this acc...</td>\n",
       "    </tr>\n",
       "  </tbody>\n",
       "</table>\n",
       "</div>"
      ],
      "text/plain": [
       "                             consumer_complaint_narrative\n",
       "954305  HRRG is a debt collection company who has been...\n",
       "954501  Someone open a XXXX account in my name that li...\n",
       "954643  XXXX and capital one data breach caused my cre...\n",
       "954923  Received call with local area code : XXXX. Rec...\n",
       "955092  I have tried several times to resolve this acc..."
      ]
     },
     "execution_count": 7,
     "metadata": {},
     "output_type": "execute_result"
    }
   ],
   "source": [
    "issues_df = input_df[[\"consumer_complaint_narrative\"]].dropna()\n",
    "issues_df.peek(n=5) # View an arbitrary five complaints"
   ]
  },
  {
   "attachments": {},
   "cell_type": "markdown",
   "metadata": {},
   "source": [
    "Downsample DataFrame to 10,000 records for model training."
   ]
  },
  {
   "cell_type": "code",
   "execution_count": 8,
   "metadata": {
    "id": "OltYSUEcsSOW"
   },
   "outputs": [],
   "source": [
    "# Choose 10,000 complaints randomly and store them in a column in a DataFrame\n",
    "downsampled_issues_df = issues_df.sample(n=10000)"
   ]
  },
  {
   "attachments": {},
   "cell_type": "markdown",
   "metadata": {
    "id": "Wl2o-NYMoygb"
   },
   "source": [
    "Generate the text embeddings"
   ]
  },
  {
   "cell_type": "code",
   "execution_count": 9,
   "metadata": {
    "id": "li38q8FzDDMu"
   },
   "outputs": [
    {
     "data": {
      "text/html": [
       "Query job 7a4592d5-0730-4fbc-9577-a71de258ab98 is DONE. 0 Bytes processed. <a target=\"_blank\" href=\"https://console.cloud.google.com/bigquery?project=bigframes-dev&j=bq:US:7a4592d5-0730-4fbc-9577-a71de258ab98&page=queryresults\">Open Job</a>"
      ],
      "text/plain": [
       "<IPython.core.display.HTML object>"
      ]
     },
     "metadata": {},
     "output_type": "display_data"
    }
   ],
   "source": [
    "from bigframes.ml.llm import PaLM2TextEmbeddingGenerator\n",
    "\n",
    "model = PaLM2TextEmbeddingGenerator() # No connection id needed"
   ]
  },
  {
   "cell_type": "code",
   "execution_count": 10,
   "metadata": {
    "id": "cOuSOQ5FDewD"
   },
   "outputs": [
    {
     "data": {
      "text/html": [
       "Query job 0361c8ad-9380-4d1c-9dd1-14dfddd644f9 is DONE. 1.3 GB processed. <a target=\"_blank\" href=\"https://console.cloud.google.com/bigquery?project=bigframes-dev&j=bq:US:0361c8ad-9380-4d1c-9dd1-14dfddd644f9&page=queryresults\">Open Job</a>"
      ],
      "text/plain": [
       "<IPython.core.display.HTML object>"
      ]
     },
     "metadata": {},
     "output_type": "display_data"
    },
    {
     "data": {
      "text/html": [
       "Query job bda8c600-6c8f-4de3-bd8f-6bcbcd0b0c7f is DONE. 80.0 kB processed. <a target=\"_blank\" href=\"https://console.cloud.google.com/bigquery?project=bigframes-dev&j=bq:US:bda8c600-6c8f-4de3-bd8f-6bcbcd0b0c7f&page=queryresults\">Open Job</a>"
      ],
      "text/plain": [
       "<IPython.core.display.HTML object>"
      ]
     },
     "metadata": {},
     "output_type": "display_data"
    },
    {
     "data": {
      "text/html": [
       "Query job 1b1b59db-fb51-4dc4-b755-16c89a4d9676 is DONE. 20.0 kB processed. <a target=\"_blank\" href=\"https://console.cloud.google.com/bigquery?project=bigframes-dev&j=bq:US:1b1b59db-fb51-4dc4-b755-16c89a4d9676&page=queryresults\">Open Job</a>"
      ],
      "text/plain": [
       "<IPython.core.display.HTML object>"
      ]
     },
     "metadata": {},
     "output_type": "display_data"
    },
    {
     "data": {
      "text/html": [
       "Query job fcac7903-c06c-4912-9b9c-840fdae70b6f is DONE. 0 Bytes processed. <a target=\"_blank\" href=\"https://console.cloud.google.com/bigquery?project=bigframes-dev&j=bq:US:fcac7903-c06c-4912-9b9c-840fdae70b6f&page=queryresults\">Open Job</a>"
      ],
      "text/plain": [
       "<IPython.core.display.HTML object>"
      ]
     },
     "metadata": {},
     "output_type": "display_data"
    },
    {
     "data": {
      "text/html": [
       "Query job 5c1c20d0-1ffd-48da-adde-1301454cdb25 is DONE. 72.0 MB processed. <a target=\"_blank\" href=\"https://console.cloud.google.com/bigquery?project=bigframes-dev&j=bq:US:5c1c20d0-1ffd-48da-adde-1301454cdb25&page=queryresults\">Open Job</a>"
      ],
      "text/plain": [
       "<IPython.core.display.HTML object>"
      ]
     },
     "metadata": {},
     "output_type": "display_data"
    },
    {
     "data": {
      "text/html": [
       "<div>\n",
       "<style scoped>\n",
       "    .dataframe tbody tr th:only-of-type {\n",
       "        vertical-align: middle;\n",
       "    }\n",
       "\n",
       "    .dataframe tbody tr th {\n",
       "        vertical-align: top;\n",
       "    }\n",
       "\n",
       "    .dataframe thead th {\n",
       "        text-align: right;\n",
       "    }\n",
       "</style>\n",
       "<table border=\"1\" class=\"dataframe\">\n",
       "  <thead>\n",
       "    <tr style=\"text-align: right;\">\n",
       "      <th></th>\n",
       "      <th>text_embedding</th>\n",
       "      <th>statistics</th>\n",
       "      <th>ml_embed_text_status</th>\n",
       "      <th>content</th>\n",
       "    </tr>\n",
       "  </thead>\n",
       "  <tbody>\n",
       "    <tr>\n",
       "      <th>300</th>\n",
       "      <td>[ 0.01977486 -0.04289974 -0.05289588 -0.027267...</td>\n",
       "      <td>{\"token_count\":498,\"truncated\":false}</td>\n",
       "      <td></td>\n",
       "      <td>XXXX XXXX XXXXXXXX has reported on my credit r...</td>\n",
       "    </tr>\n",
       "    <tr>\n",
       "      <th>566</th>\n",
       "      <td>[ 2.82494519e-02 -4.81299721e-02 -4.91684638e-...</td>\n",
       "      <td>{\"token_count\":51,\"truncated\":false}</td>\n",
       "      <td></td>\n",
       "      <td>My credit profile is inaccurate which is not f...</td>\n",
       "    </tr>\n",
       "    <tr>\n",
       "      <th>772</th>\n",
       "      <td>[ 3.19108889e-02 -7.79124349e-03 -6.68819547e-...</td>\n",
       "      <td>{\"token_count\":398,\"truncated\":false}</td>\n",
       "      <td></td>\n",
       "      <td>XXXX XXXX holds our lot loan that matured in X...</td>\n",
       "    </tr>\n",
       "    <tr>\n",
       "      <th>981</th>\n",
       "      <td>[ 4.21869569e-03 -1.31362844e-02 -2.08469853e-...</td>\n",
       "      <td>{\"token_count\":202,\"truncated\":false}</td>\n",
       "      <td></td>\n",
       "      <td>My Simple  account was transferred to a BBVA a...</td>\n",
       "    </tr>\n",
       "    <tr>\n",
       "      <th>1103</th>\n",
       "      <td>[ 4.16752733e-02 -4.29417416e-02 -6.27184287e-...</td>\n",
       "      <td>{\"token_count\":31,\"truncated\":false}</td>\n",
       "      <td></td>\n",
       "      <td>The debt occurred more than 7 years in the pas...</td>\n",
       "    </tr>\n",
       "    <tr>\n",
       "      <th>1144</th>\n",
       "      <td>[ 2.73083095e-02 -4.39260900e-02 -5.70089184e-...</td>\n",
       "      <td>{\"token_count\":72,\"truncated\":false}</td>\n",
       "      <td></td>\n",
       "      <td>I'm really not sure what happened. I have mail...</td>\n",
       "    </tr>\n",
       "    <tr>\n",
       "      <th>1163</th>\n",
       "      <td>[ 1.32309105e-02 -1.49403308e-02 -3.24638188e-...</td>\n",
       "      <td>{\"token_count\":138,\"truncated\":false}</td>\n",
       "      <td></td>\n",
       "      <td>I was about to graduate in XX/XX/2018, when I ...</td>\n",
       "    </tr>\n",
       "    <tr>\n",
       "      <th>1610</th>\n",
       "      <td>[ 4.18850686e-03 -3.26682590e-02 -8.01362470e-...</td>\n",
       "      <td>{\"token_count\":371,\"truncated\":false}</td>\n",
       "      <td></td>\n",
       "      <td>I have disputed the referenced accounts to the...</td>\n",
       "    </tr>\n",
       "    <tr>\n",
       "      <th>1613</th>\n",
       "      <td>[ 5.40047046e-03 -5.22610508e-02 -1.18300663e-...</td>\n",
       "      <td>{\"token_count\":12,\"truncated\":false}</td>\n",
       "      <td></td>\n",
       "      <td>Disputed with credit beareu serveral times</td>\n",
       "    </tr>\n",
       "    <tr>\n",
       "      <th>1730</th>\n",
       "      <td>[ 2.67208274e-02 -1.20688053e-02 -5.07430844e-...</td>\n",
       "      <td>{\"token_count\":250,\"truncated\":false}</td>\n",
       "      <td></td>\n",
       "      <td>They attempted to collect an amount that was n...</td>\n",
       "    </tr>\n",
       "    <tr>\n",
       "      <th>1804</th>\n",
       "      <td>[ 3.10129300e-02 -4.27627843e-03 -4.10146788e-...</td>\n",
       "      <td>{\"token_count\":366,\"truncated\":false}</td>\n",
       "      <td></td>\n",
       "      <td>This collection company The Best Service Compa...</td>\n",
       "    </tr>\n",
       "    <tr>\n",
       "      <th>2025</th>\n",
       "      <td>[ 2.89897174e-02 -6.28184825e-02 -8.22938308e-...</td>\n",
       "      <td>{\"token_count\":36,\"truncated\":false}</td>\n",
       "      <td></td>\n",
       "      <td>I want the inquiries gone. I have an extensive...</td>\n",
       "    </tr>\n",
       "    <tr>\n",
       "      <th>2171</th>\n",
       "      <td>[ 0.01434928 -0.03750159 -0.0786588  -0.044728...</td>\n",
       "      <td>{\"token_count\":305,\"truncated\":false}</td>\n",
       "      <td></td>\n",
       "      <td>On XX/XX/2021 I sent a validation letter to XX...</td>\n",
       "    </tr>\n",
       "    <tr>\n",
       "      <th>2269</th>\n",
       "      <td>[ 2.04897076e-02 -3.70928571e-02 -4.11568582e-...</td>\n",
       "      <td>{\"token_count\":15,\"truncated\":false}</td>\n",
       "      <td></td>\n",
       "      <td>Fraudulent account removed from my credit repo...</td>\n",
       "    </tr>\n",
       "    <tr>\n",
       "      <th>2999</th>\n",
       "      <td>[ 9.23052337e-03 -4.17209491e-02 -4.68860641e-...</td>\n",
       "      <td>{\"token_count\":153,\"truncated\":false}</td>\n",
       "      <td></td>\n",
       "      <td>Synchrony Banks - Cards - Rooms to Go -XXXX XX...</td>\n",
       "    </tr>\n",
       "    <tr>\n",
       "      <th>3328</th>\n",
       "      <td>[ 2.70252451e-02 -1.77774001e-02 -5.33813797e-...</td>\n",
       "      <td>{\"token_count\":156,\"truncated\":false}</td>\n",
       "      <td></td>\n",
       "      <td>On XX/XX/2020 I sent a letter regarding inaccu...</td>\n",
       "    </tr>\n",
       "    <tr>\n",
       "      <th>3350</th>\n",
       "      <td>[ 7.35099008e-03 -4.77355123e-02 -4.46662568e-...</td>\n",
       "      <td>{\"token_count\":27,\"truncated\":false}</td>\n",
       "      <td></td>\n",
       "      <td>i HAVE FILED WITH FTC, I HAVE WRITTEN CREDIT B...</td>\n",
       "    </tr>\n",
       "    <tr>\n",
       "      <th>3456</th>\n",
       "      <td>[ 1.16492724e-02 -3.52159664e-02 -7.11626112e-...</td>\n",
       "      <td>{\"token_count\":369,\"truncated\":false}</td>\n",
       "      <td></td>\n",
       "      <td>On XX/XX/XXXX, my credit was ran without my pe...</td>\n",
       "    </tr>\n",
       "    <tr>\n",
       "      <th>3653</th>\n",
       "      <td>[ 0.00883822 -0.03367998 -0.0653678  -0.047673...</td>\n",
       "      <td>{\"token_count\":202,\"truncated\":false}</td>\n",
       "      <td></td>\n",
       "      <td>In accordance with the Fair Credit Reporting a...</td>\n",
       "    </tr>\n",
       "    <tr>\n",
       "      <th>3917</th>\n",
       "      <td>[-9.19375755e-03 -4.48463596e-02 -4.28644493e-...</td>\n",
       "      <td>{\"token_count\":71,\"truncated\":false}</td>\n",
       "      <td></td>\n",
       "      <td>the company shared my information with another...</td>\n",
       "    </tr>\n",
       "    <tr>\n",
       "      <th>4019</th>\n",
       "      <td>[ 2.71886196e-02 -1.58681143e-02 -9.44810733e-...</td>\n",
       "      <td>{\"token_count\":23,\"truncated\":false}</td>\n",
       "      <td></td>\n",
       "      <td>This account was not mine I explained this and...</td>\n",
       "    </tr>\n",
       "    <tr>\n",
       "      <th>4623</th>\n",
       "      <td>[ 5.15385270e-02 -3.93053181e-02 -6.87293261e-...</td>\n",
       "      <td>{\"token_count\":145,\"truncated\":false}</td>\n",
       "      <td></td>\n",
       "      <td>This is XXXX XXXX, who is submitting this CFPB...</td>\n",
       "    </tr>\n",
       "    <tr>\n",
       "      <th>4737</th>\n",
       "      <td>[-5.91580523e-03 -4.24148142e-02 -5.45979440e-...</td>\n",
       "      <td>{\"token_count\":116,\"truncated\":false}</td>\n",
       "      <td></td>\n",
       "      <td>Ive disputed a few times with Experian that I ...</td>\n",
       "    </tr>\n",
       "    <tr>\n",
       "      <th>5487</th>\n",
       "      <td>[-1.08638387e-02 -2.26756260e-02 -7.00424053e-...</td>\n",
       "      <td>{\"token_count\":358,\"truncated\":false}</td>\n",
       "      <td></td>\n",
       "      <td>I contacted Quicken Loans for refinancing my m...</td>\n",
       "    </tr>\n",
       "    <tr>\n",
       "      <th>5544</th>\n",
       "      <td>[ 1.03287622e-02 -2.39139311e-02 -4.89642061e-...</td>\n",
       "      <td>{\"token_count\":73,\"truncated\":false}</td>\n",
       "      <td></td>\n",
       "      <td>I would like to initiate mediation and/or arbi...</td>\n",
       "    </tr>\n",
       "  </tbody>\n",
       "</table>\n",
       "<p>25 rows × 4 columns</p>\n",
       "</div>[10000 rows x 4 columns in total]"
      ],
      "text/plain": [
       "                                         text_embedding  \\\n",
       "300   [ 0.01977486 -0.04289974 -0.05289588 -0.027267...   \n",
       "566   [ 2.82494519e-02 -4.81299721e-02 -4.91684638e-...   \n",
       "772   [ 3.19108889e-02 -7.79124349e-03 -6.68819547e-...   \n",
       "981   [ 4.21869569e-03 -1.31362844e-02 -2.08469853e-...   \n",
       "1103  [ 4.16752733e-02 -4.29417416e-02 -6.27184287e-...   \n",
       "1144  [ 2.73083095e-02 -4.39260900e-02 -5.70089184e-...   \n",
       "1163  [ 1.32309105e-02 -1.49403308e-02 -3.24638188e-...   \n",
       "1610  [ 4.18850686e-03 -3.26682590e-02 -8.01362470e-...   \n",
       "1613  [ 5.40047046e-03 -5.22610508e-02 -1.18300663e-...   \n",
       "1730  [ 2.67208274e-02 -1.20688053e-02 -5.07430844e-...   \n",
       "1804  [ 3.10129300e-02 -4.27627843e-03 -4.10146788e-...   \n",
       "2025  [ 2.89897174e-02 -6.28184825e-02 -8.22938308e-...   \n",
       "2171  [ 0.01434928 -0.03750159 -0.0786588  -0.044728...   \n",
       "2269  [ 2.04897076e-02 -3.70928571e-02 -4.11568582e-...   \n",
       "2999  [ 9.23052337e-03 -4.17209491e-02 -4.68860641e-...   \n",
       "3328  [ 2.70252451e-02 -1.77774001e-02 -5.33813797e-...   \n",
       "3350  [ 7.35099008e-03 -4.77355123e-02 -4.46662568e-...   \n",
       "3456  [ 1.16492724e-02 -3.52159664e-02 -7.11626112e-...   \n",
       "3653  [ 0.00883822 -0.03367998 -0.0653678  -0.047673...   \n",
       "3917  [-9.19375755e-03 -4.48463596e-02 -4.28644493e-...   \n",
       "4019  [ 2.71886196e-02 -1.58681143e-02 -9.44810733e-...   \n",
       "4623  [ 5.15385270e-02 -3.93053181e-02 -6.87293261e-...   \n",
       "4737  [-5.91580523e-03 -4.24148142e-02 -5.45979440e-...   \n",
       "5487  [-1.08638387e-02 -2.26756260e-02 -7.00424053e-...   \n",
       "5544  [ 1.03287622e-02 -2.39139311e-02 -4.89642061e-...   \n",
       "\n",
       "                                 statistics ml_embed_text_status  \\\n",
       "300   {\"token_count\":498,\"truncated\":false}                        \n",
       "566    {\"token_count\":51,\"truncated\":false}                        \n",
       "772   {\"token_count\":398,\"truncated\":false}                        \n",
       "981   {\"token_count\":202,\"truncated\":false}                        \n",
       "1103   {\"token_count\":31,\"truncated\":false}                        \n",
       "1144   {\"token_count\":72,\"truncated\":false}                        \n",
       "1163  {\"token_count\":138,\"truncated\":false}                        \n",
       "1610  {\"token_count\":371,\"truncated\":false}                        \n",
       "1613   {\"token_count\":12,\"truncated\":false}                        \n",
       "1730  {\"token_count\":250,\"truncated\":false}                        \n",
       "1804  {\"token_count\":366,\"truncated\":false}                        \n",
       "2025   {\"token_count\":36,\"truncated\":false}                        \n",
       "2171  {\"token_count\":305,\"truncated\":false}                        \n",
       "2269   {\"token_count\":15,\"truncated\":false}                        \n",
       "2999  {\"token_count\":153,\"truncated\":false}                        \n",
       "3328  {\"token_count\":156,\"truncated\":false}                        \n",
       "3350   {\"token_count\":27,\"truncated\":false}                        \n",
       "3456  {\"token_count\":369,\"truncated\":false}                        \n",
       "3653  {\"token_count\":202,\"truncated\":false}                        \n",
       "3917   {\"token_count\":71,\"truncated\":false}                        \n",
       "4019   {\"token_count\":23,\"truncated\":false}                        \n",
       "4623  {\"token_count\":145,\"truncated\":false}                        \n",
       "4737  {\"token_count\":116,\"truncated\":false}                        \n",
       "5487  {\"token_count\":358,\"truncated\":false}                        \n",
       "5544   {\"token_count\":73,\"truncated\":false}                        \n",
       "\n",
       "                                                content  \n",
       "300   XXXX XXXX XXXXXXXX has reported on my credit r...  \n",
       "566   My credit profile is inaccurate which is not f...  \n",
       "772   XXXX XXXX holds our lot loan that matured in X...  \n",
       "981   My Simple  account was transferred to a BBVA a...  \n",
       "1103  The debt occurred more than 7 years in the pas...  \n",
       "1144  I'm really not sure what happened. I have mail...  \n",
       "1163  I was about to graduate in XX/XX/2018, when I ...  \n",
       "1610  I have disputed the referenced accounts to the...  \n",
       "1613         Disputed with credit beareu serveral times  \n",
       "1730  They attempted to collect an amount that was n...  \n",
       "1804  This collection company The Best Service Compa...  \n",
       "2025  I want the inquiries gone. I have an extensive...  \n",
       "2171  On XX/XX/2021 I sent a validation letter to XX...  \n",
       "2269  Fraudulent account removed from my credit repo...  \n",
       "2999  Synchrony Banks - Cards - Rooms to Go -XXXX XX...  \n",
       "3328  On XX/XX/2020 I sent a letter regarding inaccu...  \n",
       "3350  i HAVE FILED WITH FTC, I HAVE WRITTEN CREDIT B...  \n",
       "3456  On XX/XX/XXXX, my credit was ran without my pe...  \n",
       "3653  In accordance with the Fair Credit Reporting a...  \n",
       "3917  the company shared my information with another...  \n",
       "4019  This account was not mine I explained this and...  \n",
       "4623  This is XXXX XXXX, who is submitting this CFPB...  \n",
       "4737  Ive disputed a few times with Experian that I ...  \n",
       "5487  I contacted Quicken Loans for refinancing my m...  \n",
       "5544  I would like to initiate mediation and/or arbi...  \n",
       "...\n",
       "\n",
       "[10000 rows x 4 columns]"
      ]
     },
     "execution_count": 10,
     "metadata": {},
     "output_type": "execute_result"
    }
   ],
   "source": [
    "# Will take ~3 minutes to compute the embeddings\n",
    "predicted_embeddings = model.predict(downsampled_issues_df)\n",
    "# Notice the lists of numbers that are our text embeddings for each complaint\n",
    "predicted_embeddings"
   ]
  },
  {
   "cell_type": "markdown",
   "metadata": {},
   "source": [
    "The model may have encountered errors while calculating embeddings for some rows. Filter out the errored rows before training the model. Alternatively, select these rows and retry the embeddings."
   ]
  },
  {
   "cell_type": "code",
   "execution_count": 12,
   "metadata": {},
   "outputs": [
    {
     "data": {
      "text/html": [
       "Query job 6200a7cf-59c1-4529-879e-ca625e92ee2f is DONE. 72.0 MB processed. <a target=\"_blank\" href=\"https://console.cloud.google.com/bigquery?project=bigframes-dev&j=bq:US:6200a7cf-59c1-4529-879e-ca625e92ee2f&page=queryresults\">Open Job</a>"
      ],
      "text/plain": [
       "<IPython.core.display.HTML object>"
      ]
     },
     "metadata": {},
     "output_type": "display_data"
    },
    {
     "data": {
      "text/html": [
       "Query job 6135dec1-4ddf-4863-9c39-f7ba213069e4 is DONE. 0 Bytes processed. <a target=\"_blank\" href=\"https://console.cloud.google.com/bigquery?project=bigframes-dev&j=bq:US:6135dec1-4ddf-4863-9c39-f7ba213069e4&page=queryresults\">Open Job</a>"
      ],
      "text/plain": [
       "<IPython.core.display.HTML object>"
      ]
     },
     "metadata": {},
     "output_type": "display_data"
    },
    {
     "data": {
      "text/html": [
       "Query job 977d2f7a-39e1-479f-b122-29664f36e8aa is DONE. 72.4 MB processed. <a target=\"_blank\" href=\"https://console.cloud.google.com/bigquery?project=bigframes-dev&j=bq:US:977d2f7a-39e1-479f-b122-29664f36e8aa&page=queryresults\">Open Job</a>"
      ],
      "text/plain": [
       "<IPython.core.display.HTML object>"
      ]
     },
     "metadata": {},
     "output_type": "display_data"
    },
    {
     "data": {
      "text/html": [
       "<div>\n",
       "<style scoped>\n",
       "    .dataframe tbody tr th:only-of-type {\n",
       "        vertical-align: middle;\n",
       "    }\n",
       "\n",
       "    .dataframe tbody tr th {\n",
       "        vertical-align: top;\n",
       "    }\n",
       "\n",
       "    .dataframe thead th {\n",
       "        text-align: right;\n",
       "    }\n",
       "</style>\n",
       "<table border=\"1\" class=\"dataframe\">\n",
       "  <thead>\n",
       "    <tr style=\"text-align: right;\">\n",
       "      <th></th>\n",
       "      <th>text_embedding</th>\n",
       "      <th>statistics</th>\n",
       "      <th>ml_embed_text_status</th>\n",
       "      <th>content</th>\n",
       "    </tr>\n",
       "  </thead>\n",
       "  <tbody>\n",
       "    <tr>\n",
       "      <th>300</th>\n",
       "      <td>[ 0.01977486 -0.04289974 -0.05289588 -0.027267...</td>\n",
       "      <td>{\"token_count\":498,\"truncated\":false}</td>\n",
       "      <td></td>\n",
       "      <td>XXXX XXXX XXXXXXXX has reported on my credit r...</td>\n",
       "    </tr>\n",
       "    <tr>\n",
       "      <th>566</th>\n",
       "      <td>[ 2.82494519e-02 -4.81299721e-02 -4.91684638e-...</td>\n",
       "      <td>{\"token_count\":51,\"truncated\":false}</td>\n",
       "      <td></td>\n",
       "      <td>My credit profile is inaccurate which is not f...</td>\n",
       "    </tr>\n",
       "    <tr>\n",
       "      <th>772</th>\n",
       "      <td>[ 3.19108889e-02 -7.79124349e-03 -6.68819547e-...</td>\n",
       "      <td>{\"token_count\":398,\"truncated\":false}</td>\n",
       "      <td></td>\n",
       "      <td>XXXX XXXX holds our lot loan that matured in X...</td>\n",
       "    </tr>\n",
       "    <tr>\n",
       "      <th>981</th>\n",
       "      <td>[ 4.21869569e-03 -1.31362844e-02 -2.08469853e-...</td>\n",
       "      <td>{\"token_count\":202,\"truncated\":false}</td>\n",
       "      <td></td>\n",
       "      <td>My Simple  account was transferred to a BBVA a...</td>\n",
       "    </tr>\n",
       "    <tr>\n",
       "      <th>1103</th>\n",
       "      <td>[ 4.16752733e-02 -4.29417416e-02 -6.27184287e-...</td>\n",
       "      <td>{\"token_count\":31,\"truncated\":false}</td>\n",
       "      <td></td>\n",
       "      <td>The debt occurred more than 7 years in the pas...</td>\n",
       "    </tr>\n",
       "    <tr>\n",
       "      <th>1144</th>\n",
       "      <td>[ 2.73083095e-02 -4.39260900e-02 -5.70089184e-...</td>\n",
       "      <td>{\"token_count\":72,\"truncated\":false}</td>\n",
       "      <td></td>\n",
       "      <td>I'm really not sure what happened. I have mail...</td>\n",
       "    </tr>\n",
       "    <tr>\n",
       "      <th>1163</th>\n",
       "      <td>[ 1.32309105e-02 -1.49403308e-02 -3.24638188e-...</td>\n",
       "      <td>{\"token_count\":138,\"truncated\":false}</td>\n",
       "      <td></td>\n",
       "      <td>I was about to graduate in XX/XX/2018, when I ...</td>\n",
       "    </tr>\n",
       "    <tr>\n",
       "      <th>1610</th>\n",
       "      <td>[ 4.18850686e-03 -3.26682590e-02 -8.01362470e-...</td>\n",
       "      <td>{\"token_count\":371,\"truncated\":false}</td>\n",
       "      <td></td>\n",
       "      <td>I have disputed the referenced accounts to the...</td>\n",
       "    </tr>\n",
       "    <tr>\n",
       "      <th>1613</th>\n",
       "      <td>[ 5.40047046e-03 -5.22610508e-02 -1.18300663e-...</td>\n",
       "      <td>{\"token_count\":12,\"truncated\":false}</td>\n",
       "      <td></td>\n",
       "      <td>Disputed with credit beareu serveral times</td>\n",
       "    </tr>\n",
       "    <tr>\n",
       "      <th>1730</th>\n",
       "      <td>[ 2.67208274e-02 -1.20688053e-02 -5.07430844e-...</td>\n",
       "      <td>{\"token_count\":250,\"truncated\":false}</td>\n",
       "      <td></td>\n",
       "      <td>They attempted to collect an amount that was n...</td>\n",
       "    </tr>\n",
       "    <tr>\n",
       "      <th>1804</th>\n",
       "      <td>[ 3.10129300e-02 -4.27627843e-03 -4.10146788e-...</td>\n",
       "      <td>{\"token_count\":366,\"truncated\":false}</td>\n",
       "      <td></td>\n",
       "      <td>This collection company The Best Service Compa...</td>\n",
       "    </tr>\n",
       "    <tr>\n",
       "      <th>2025</th>\n",
       "      <td>[ 2.89897174e-02 -6.28184825e-02 -8.22938308e-...</td>\n",
       "      <td>{\"token_count\":36,\"truncated\":false}</td>\n",
       "      <td></td>\n",
       "      <td>I want the inquiries gone. I have an extensive...</td>\n",
       "    </tr>\n",
       "    <tr>\n",
       "      <th>2171</th>\n",
       "      <td>[ 0.01434928 -0.03750159 -0.0786588  -0.044728...</td>\n",
       "      <td>{\"token_count\":305,\"truncated\":false}</td>\n",
       "      <td></td>\n",
       "      <td>On XX/XX/2021 I sent a validation letter to XX...</td>\n",
       "    </tr>\n",
       "    <tr>\n",
       "      <th>2269</th>\n",
       "      <td>[ 2.04897076e-02 -3.70928571e-02 -4.11568582e-...</td>\n",
       "      <td>{\"token_count\":15,\"truncated\":false}</td>\n",
       "      <td></td>\n",
       "      <td>Fraudulent account removed from my credit repo...</td>\n",
       "    </tr>\n",
       "    <tr>\n",
       "      <th>2999</th>\n",
       "      <td>[ 9.23052337e-03 -4.17209491e-02 -4.68860641e-...</td>\n",
       "      <td>{\"token_count\":153,\"truncated\":false}</td>\n",
       "      <td></td>\n",
       "      <td>Synchrony Banks - Cards - Rooms to Go -XXXX XX...</td>\n",
       "    </tr>\n",
       "    <tr>\n",
       "      <th>3328</th>\n",
       "      <td>[ 2.70252451e-02 -1.77774001e-02 -5.33813797e-...</td>\n",
       "      <td>{\"token_count\":156,\"truncated\":false}</td>\n",
       "      <td></td>\n",
       "      <td>On XX/XX/2020 I sent a letter regarding inaccu...</td>\n",
       "    </tr>\n",
       "    <tr>\n",
       "      <th>3350</th>\n",
       "      <td>[ 7.35099008e-03 -4.77355123e-02 -4.46662568e-...</td>\n",
       "      <td>{\"token_count\":27,\"truncated\":false}</td>\n",
       "      <td></td>\n",
       "      <td>i HAVE FILED WITH FTC, I HAVE WRITTEN CREDIT B...</td>\n",
       "    </tr>\n",
       "    <tr>\n",
       "      <th>3456</th>\n",
       "      <td>[ 1.16492724e-02 -3.52159664e-02 -7.11626112e-...</td>\n",
       "      <td>{\"token_count\":369,\"truncated\":false}</td>\n",
       "      <td></td>\n",
       "      <td>On XX/XX/XXXX, my credit was ran without my pe...</td>\n",
       "    </tr>\n",
       "    <tr>\n",
       "      <th>3653</th>\n",
       "      <td>[ 0.00883822 -0.03367998 -0.0653678  -0.047673...</td>\n",
       "      <td>{\"token_count\":202,\"truncated\":false}</td>\n",
       "      <td></td>\n",
       "      <td>In accordance with the Fair Credit Reporting a...</td>\n",
       "    </tr>\n",
       "    <tr>\n",
       "      <th>3917</th>\n",
       "      <td>[-9.19375755e-03 -4.48463596e-02 -4.28644493e-...</td>\n",
       "      <td>{\"token_count\":71,\"truncated\":false}</td>\n",
       "      <td></td>\n",
       "      <td>the company shared my information with another...</td>\n",
       "    </tr>\n",
       "    <tr>\n",
       "      <th>4019</th>\n",
       "      <td>[ 2.71886196e-02 -1.58681143e-02 -9.44810733e-...</td>\n",
       "      <td>{\"token_count\":23,\"truncated\":false}</td>\n",
       "      <td></td>\n",
       "      <td>This account was not mine I explained this and...</td>\n",
       "    </tr>\n",
       "    <tr>\n",
       "      <th>4623</th>\n",
       "      <td>[ 5.15385270e-02 -3.93053181e-02 -6.87293261e-...</td>\n",
       "      <td>{\"token_count\":145,\"truncated\":false}</td>\n",
       "      <td></td>\n",
       "      <td>This is XXXX XXXX, who is submitting this CFPB...</td>\n",
       "    </tr>\n",
       "    <tr>\n",
       "      <th>4737</th>\n",
       "      <td>[-5.91580523e-03 -4.24148142e-02 -5.45979440e-...</td>\n",
       "      <td>{\"token_count\":116,\"truncated\":false}</td>\n",
       "      <td></td>\n",
       "      <td>Ive disputed a few times with Experian that I ...</td>\n",
       "    </tr>\n",
       "    <tr>\n",
       "      <th>5487</th>\n",
       "      <td>[-1.08638387e-02 -2.26756260e-02 -7.00424053e-...</td>\n",
       "      <td>{\"token_count\":358,\"truncated\":false}</td>\n",
       "      <td></td>\n",
       "      <td>I contacted Quicken Loans for refinancing my m...</td>\n",
       "    </tr>\n",
       "    <tr>\n",
       "      <th>5544</th>\n",
       "      <td>[ 1.03287622e-02 -2.39139311e-02 -4.89642061e-...</td>\n",
       "      <td>{\"token_count\":73,\"truncated\":false}</td>\n",
       "      <td></td>\n",
       "      <td>I would like to initiate mediation and/or arbi...</td>\n",
       "    </tr>\n",
       "  </tbody>\n",
       "</table>\n",
       "<p>25 rows × 4 columns</p>\n",
       "</div>[10000 rows x 4 columns in total]"
      ],
      "text/plain": [
       "                                         text_embedding  \\\n",
       "300   [ 0.01977486 -0.04289974 -0.05289588 -0.027267...   \n",
       "566   [ 2.82494519e-02 -4.81299721e-02 -4.91684638e-...   \n",
       "772   [ 3.19108889e-02 -7.79124349e-03 -6.68819547e-...   \n",
       "981   [ 4.21869569e-03 -1.31362844e-02 -2.08469853e-...   \n",
       "1103  [ 4.16752733e-02 -4.29417416e-02 -6.27184287e-...   \n",
       "1144  [ 2.73083095e-02 -4.39260900e-02 -5.70089184e-...   \n",
       "1163  [ 1.32309105e-02 -1.49403308e-02 -3.24638188e-...   \n",
       "1610  [ 4.18850686e-03 -3.26682590e-02 -8.01362470e-...   \n",
       "1613  [ 5.40047046e-03 -5.22610508e-02 -1.18300663e-...   \n",
       "1730  [ 2.67208274e-02 -1.20688053e-02 -5.07430844e-...   \n",
       "1804  [ 3.10129300e-02 -4.27627843e-03 -4.10146788e-...   \n",
       "2025  [ 2.89897174e-02 -6.28184825e-02 -8.22938308e-...   \n",
       "2171  [ 0.01434928 -0.03750159 -0.0786588  -0.044728...   \n",
       "2269  [ 2.04897076e-02 -3.70928571e-02 -4.11568582e-...   \n",
       "2999  [ 9.23052337e-03 -4.17209491e-02 -4.68860641e-...   \n",
       "3328  [ 2.70252451e-02 -1.77774001e-02 -5.33813797e-...   \n",
       "3350  [ 7.35099008e-03 -4.77355123e-02 -4.46662568e-...   \n",
       "3456  [ 1.16492724e-02 -3.52159664e-02 -7.11626112e-...   \n",
       "3653  [ 0.00883822 -0.03367998 -0.0653678  -0.047673...   \n",
       "3917  [-9.19375755e-03 -4.48463596e-02 -4.28644493e-...   \n",
       "4019  [ 2.71886196e-02 -1.58681143e-02 -9.44810733e-...   \n",
       "4623  [ 5.15385270e-02 -3.93053181e-02 -6.87293261e-...   \n",
       "4737  [-5.91580523e-03 -4.24148142e-02 -5.45979440e-...   \n",
       "5487  [-1.08638387e-02 -2.26756260e-02 -7.00424053e-...   \n",
       "5544  [ 1.03287622e-02 -2.39139311e-02 -4.89642061e-...   \n",
       "\n",
       "                                 statistics ml_embed_text_status  \\\n",
       "300   {\"token_count\":498,\"truncated\":false}                        \n",
       "566    {\"token_count\":51,\"truncated\":false}                        \n",
       "772   {\"token_count\":398,\"truncated\":false}                        \n",
       "981   {\"token_count\":202,\"truncated\":false}                        \n",
       "1103   {\"token_count\":31,\"truncated\":false}                        \n",
       "1144   {\"token_count\":72,\"truncated\":false}                        \n",
       "1163  {\"token_count\":138,\"truncated\":false}                        \n",
       "1610  {\"token_count\":371,\"truncated\":false}                        \n",
       "1613   {\"token_count\":12,\"truncated\":false}                        \n",
       "1730  {\"token_count\":250,\"truncated\":false}                        \n",
       "1804  {\"token_count\":366,\"truncated\":false}                        \n",
       "2025   {\"token_count\":36,\"truncated\":false}                        \n",
       "2171  {\"token_count\":305,\"truncated\":false}                        \n",
       "2269   {\"token_count\":15,\"truncated\":false}                        \n",
       "2999  {\"token_count\":153,\"truncated\":false}                        \n",
       "3328  {\"token_count\":156,\"truncated\":false}                        \n",
       "3350   {\"token_count\":27,\"truncated\":false}                        \n",
       "3456  {\"token_count\":369,\"truncated\":false}                        \n",
       "3653  {\"token_count\":202,\"truncated\":false}                        \n",
       "3917   {\"token_count\":71,\"truncated\":false}                        \n",
       "4019   {\"token_count\":23,\"truncated\":false}                        \n",
       "4623  {\"token_count\":145,\"truncated\":false}                        \n",
       "4737  {\"token_count\":116,\"truncated\":false}                        \n",
       "5487  {\"token_count\":358,\"truncated\":false}                        \n",
       "5544   {\"token_count\":73,\"truncated\":false}                        \n",
       "\n",
       "                                                content  \n",
       "300   XXXX XXXX XXXXXXXX has reported on my credit r...  \n",
       "566   My credit profile is inaccurate which is not f...  \n",
       "772   XXXX XXXX holds our lot loan that matured in X...  \n",
       "981   My Simple  account was transferred to a BBVA a...  \n",
       "1103  The debt occurred more than 7 years in the pas...  \n",
       "1144  I'm really not sure what happened. I have mail...  \n",
       "1163  I was about to graduate in XX/XX/2018, when I ...  \n",
       "1610  I have disputed the referenced accounts to the...  \n",
       "1613         Disputed with credit beareu serveral times  \n",
       "1730  They attempted to collect an amount that was n...  \n",
       "1804  This collection company The Best Service Compa...  \n",
       "2025  I want the inquiries gone. I have an extensive...  \n",
       "2171  On XX/XX/2021 I sent a validation letter to XX...  \n",
       "2269  Fraudulent account removed from my credit repo...  \n",
       "2999  Synchrony Banks - Cards - Rooms to Go -XXXX XX...  \n",
       "3328  On XX/XX/2020 I sent a letter regarding inaccu...  \n",
       "3350  i HAVE FILED WITH FTC, I HAVE WRITTEN CREDIT B...  \n",
       "3456  On XX/XX/XXXX, my credit was ran without my pe...  \n",
       "3653  In accordance with the Fair Credit Reporting a...  \n",
       "3917  the company shared my information with another...  \n",
       "4019  This account was not mine I explained this and...  \n",
       "4623  This is XXXX XXXX, who is submitting this CFPB...  \n",
       "4737  Ive disputed a few times with Experian that I ...  \n",
       "5487  I contacted Quicken Loans for refinancing my m...  \n",
       "5544  I would like to initiate mediation and/or arbi...  \n",
       "...\n",
       "\n",
       "[10000 rows x 4 columns]"
      ]
     },
     "execution_count": 12,
     "metadata": {},
     "output_type": "execute_result"
    }
   ],
   "source": [
    "successful_rows = predicted_embeddings[\"ml_embed_text_status\"] == \"\"\n",
    "predicted_embeddings = predicted_embeddings[successful_rows]\n",
    "predicted_embeddings\n"
   ]
  },
  {
   "attachments": {},
   "cell_type": "markdown",
   "metadata": {},
   "source": [
    "We now have the complaints and their text embeddings as two columns in our predicted_embeddings DataFrame."
   ]
  },
  {
   "attachments": {},
   "cell_type": "markdown",
   "metadata": {
    "id": "OUZ3NNbzo1Tb"
   },
   "source": [
    "## Step 2: Create k-means model and predict clusters"
   ]
  },
  {
   "cell_type": "code",
   "execution_count": 13,
   "metadata": {
    "id": "AhNTnEC5FRz2"
   },
   "outputs": [],
   "source": [
    "from bigframes.ml.cluster import KMeans\n",
    "\n",
    "cluster_model = KMeans(n_clusters=10) # We will divide our complaints into 10 groups"
   ]
  },
  {
   "attachments": {},
   "cell_type": "markdown",
   "metadata": {},
   "source": [
    "Perform KMeans clustering"
   ]
  },
  {
   "cell_type": "code",
   "execution_count": 15,
   "metadata": {
    "id": "6poSxh-fGJF7"
   },
   "outputs": [
    {
     "data": {
      "text/html": [
       "Query job 1bcaa0a1-7aeb-4e30-8aa0-6b62a07c0d5f is DONE. 61.6 MB processed. <a target=\"_blank\" href=\"https://console.cloud.google.com/bigquery?project=bigframes-dev&j=bq:US:1bcaa0a1-7aeb-4e30-8aa0-6b62a07c0d5f&page=queryresults\">Open Job</a>"
      ],
      "text/plain": [
       "<IPython.core.display.HTML object>"
      ]
     },
     "metadata": {},
     "output_type": "display_data"
    },
    {
     "data": {
      "text/html": [
       "Query job b27e86ab-ed6d-4c8f-89c9-630927456993 is DONE. 0 Bytes processed. <a target=\"_blank\" href=\"https://console.cloud.google.com/bigquery?project=bigframes-dev&j=bq:US:b27e86ab-ed6d-4c8f-89c9-630927456993&page=queryresults\">Open Job</a>"
      ],
      "text/plain": [
       "<IPython.core.display.HTML object>"
      ]
     },
     "metadata": {},
     "output_type": "display_data"
    },
    {
     "data": {
      "text/html": [
       "Query job 730d4d34-a023-40ac-a78d-0606c353d235 is DONE. 72.5 MB processed. <a target=\"_blank\" href=\"https://console.cloud.google.com/bigquery?project=bigframes-dev&j=bq:US:730d4d34-a023-40ac-a78d-0606c353d235&page=queryresults\">Open Job</a>"
      ],
      "text/plain": [
       "<IPython.core.display.HTML object>"
      ]
     },
     "metadata": {},
     "output_type": "display_data"
    },
    {
     "data": {
      "text/html": [
       "Query job db7174ba-dad0-4ac1-b459-51799570a093 is DONE. 80.0 kB processed. <a target=\"_blank\" href=\"https://console.cloud.google.com/bigquery?project=bigframes-dev&j=bq:US:db7174ba-dad0-4ac1-b459-51799570a093&page=queryresults\">Open Job</a>"
      ],
      "text/plain": [
       "<IPython.core.display.HTML object>"
      ]
     },
     "metadata": {},
     "output_type": "display_data"
    },
    {
     "data": {
      "text/html": [
       "Query job 8804ea96-7d92-4c48-b36d-c47981ca9096 is DONE. 73.2 MB processed. <a target=\"_blank\" href=\"https://console.cloud.google.com/bigquery?project=bigframes-dev&j=bq:US:8804ea96-7d92-4c48-b36d-c47981ca9096&page=queryresults\">Open Job</a>"
      ],
      "text/plain": [
       "<IPython.core.display.HTML object>"
      ]
     },
     "metadata": {},
     "output_type": "display_data"
    },
    {
     "data": {
      "text/html": [
       "<div>\n",
       "<style scoped>\n",
       "    .dataframe tbody tr th:only-of-type {\n",
       "        vertical-align: middle;\n",
       "    }\n",
       "\n",
       "    .dataframe tbody tr th {\n",
       "        vertical-align: top;\n",
       "    }\n",
       "\n",
       "    .dataframe thead th {\n",
       "        text-align: right;\n",
       "    }\n",
       "</style>\n",
       "<table border=\"1\" class=\"dataframe\">\n",
       "  <thead>\n",
       "    <tr style=\"text-align: right;\">\n",
       "      <th></th>\n",
       "      <th>CENTROID_ID</th>\n",
       "      <th>NEAREST_CENTROIDS_DISTANCE</th>\n",
       "      <th>text_embedding</th>\n",
       "      <th>statistics</th>\n",
       "      <th>ml_embed_text_status</th>\n",
       "      <th>content</th>\n",
       "    </tr>\n",
       "  </thead>\n",
       "  <tbody>\n",
       "    <tr>\n",
       "      <th>3431779</th>\n",
       "      <td>1</td>\n",
       "      <td>[{'CENTROID_ID': 1, 'DISTANCE': 0.535594290569...</td>\n",
       "      <td>[ 3.92934196e-02 -9.10845026e-02 -4.04280126e-...</td>\n",
       "      <td>{\"token_count\":10,\"truncated\":false}</td>\n",
       "      <td></td>\n",
       "      <td>Fraud scratch account in Experian credit report</td>\n",
       "    </tr>\n",
       "    <tr>\n",
       "      <th>41916</th>\n",
       "      <td>1</td>\n",
       "      <td>[{'CENTROID_ID': 1, 'DISTANCE': 0.546894006330...</td>\n",
       "      <td>[-3.28768999e-03 -4.22948077e-02 -7.46203661e-...</td>\n",
       "      <td>{\"token_count\":10,\"truncated\":false}</td>\n",
       "      <td></td>\n",
       "      <td>I did not authorize this inquiry on my credit ...</td>\n",
       "    </tr>\n",
       "    <tr>\n",
       "      <th>308379</th>\n",
       "      <td>1</td>\n",
       "      <td>[{'CENTROID_ID': 1, 'DISTANCE': 0.565107956565...</td>\n",
       "      <td>[ 4.27730894e-03 -6.67066649e-02 -7.86168799e-...</td>\n",
       "      <td>{\"token_count\":10,\"truncated\":false}</td>\n",
       "      <td></td>\n",
       "      <td>My parents credit information is on my credit ...</td>\n",
       "    </tr>\n",
       "    <tr>\n",
       "      <th>554444</th>\n",
       "      <td>1</td>\n",
       "      <td>[{'CENTROID_ID': 1, 'DISTANCE': 0.399670811064...</td>\n",
       "      <td>[ 9.78547148e-03 -3.19877677e-02 -6.17879257e-...</td>\n",
       "      <td>{\"token_count\":100,\"truncated\":false}</td>\n",
       "      <td></td>\n",
       "      <td>I reviewed my credit report and it showed mult...</td>\n",
       "    </tr>\n",
       "    <tr>\n",
       "      <th>2045082</th>\n",
       "      <td>1</td>\n",
       "      <td>[{'CENTROID_ID': 1, 'DISTANCE': 0.406139421970...</td>\n",
       "      <td>[ 0.00498423 -0.04450029 -0.05945096 -0.052494...</td>\n",
       "      <td>{\"token_count\":100,\"truncated\":false}</td>\n",
       "      <td></td>\n",
       "      <td>What is wrong why these accounts are on my cre...</td>\n",
       "    </tr>\n",
       "  </tbody>\n",
       "</table>\n",
       "</div>"
      ],
      "text/plain": [
       "         CENTROID_ID                         NEAREST_CENTROIDS_DISTANCE  \\\n",
       "3431779            1  [{'CENTROID_ID': 1, 'DISTANCE': 0.535594290569...   \n",
       "41916              1  [{'CENTROID_ID': 1, 'DISTANCE': 0.546894006330...   \n",
       "308379             1  [{'CENTROID_ID': 1, 'DISTANCE': 0.565107956565...   \n",
       "554444             1  [{'CENTROID_ID': 1, 'DISTANCE': 0.399670811064...   \n",
       "2045082            1  [{'CENTROID_ID': 1, 'DISTANCE': 0.406139421970...   \n",
       "\n",
       "                                            text_embedding  \\\n",
       "3431779  [ 3.92934196e-02 -9.10845026e-02 -4.04280126e-...   \n",
       "41916    [-3.28768999e-03 -4.22948077e-02 -7.46203661e-...   \n",
       "308379   [ 4.27730894e-03 -6.67066649e-02 -7.86168799e-...   \n",
       "554444   [ 9.78547148e-03 -3.19877677e-02 -6.17879257e-...   \n",
       "2045082  [ 0.00498423 -0.04450029 -0.05945096 -0.052494...   \n",
       "\n",
       "                                    statistics ml_embed_text_status  \\\n",
       "3431779   {\"token_count\":10,\"truncated\":false}                        \n",
       "41916     {\"token_count\":10,\"truncated\":false}                        \n",
       "308379    {\"token_count\":10,\"truncated\":false}                        \n",
       "554444   {\"token_count\":100,\"truncated\":false}                        \n",
       "2045082  {\"token_count\":100,\"truncated\":false}                        \n",
       "\n",
       "                                                   content  \n",
       "3431779    Fraud scratch account in Experian credit report  \n",
       "41916    I did not authorize this inquiry on my credit ...  \n",
       "308379   My parents credit information is on my credit ...  \n",
       "554444   I reviewed my credit report and it showed mult...  \n",
       "2045082  What is wrong why these accounts are on my cre...  "
      ]
     },
     "execution_count": 15,
     "metadata": {},
     "output_type": "execute_result"
    }
   ],
   "source": [
    "# Use KMeans clustering to calculate our groups. Will take ~3 minutes.\n",
    "cluster_model.fit(predicted_embeddings[[\"text_embedding\"]])\n",
    "clustered_result = cluster_model.predict(predicted_embeddings)\n",
    "# Notice the CENTROID_ID column, which is the ID number of the group that\n",
    "# each complaint belongs to.\n",
    "clustered_result.peek(n=5)"
   ]
  },
  {
   "attachments": {},
   "cell_type": "markdown",
   "metadata": {},
   "source": [
    "Our DataFrame clustered_result now has an additional column that includes an ID from 1-10 (inclusive) indicating which semantically similar group they belong to."
   ]
  },
  {
   "attachments": {},
   "cell_type": "markdown",
   "metadata": {
    "id": "21rNsFMHo8hO"
   },
   "source": [
    "## Step 3: Use Gemini to summarize complaint clusters"
   ]
  },
  {
   "attachments": {},
   "cell_type": "markdown",
   "metadata": {},
   "source": [
    "Build prompts - we will choose just two of our categories and prompt GeminiTextGenerator to identify their salient characteristics. The prompt is natural language in a python string."
   ]
  },
  {
   "cell_type": "code",
   "execution_count": 16,
   "metadata": {
    "id": "2E7wXM_jGqo6"
   },
   "outputs": [
    {
     "data": {
      "text/html": [
       "Query job ccb64b18-1e20-4d41-b023-3b99c162eb3a is DONE. 10.5 MB processed. <a target=\"_blank\" href=\"https://console.cloud.google.com/bigquery?project=bigframes-dev&j=bq:US:ccb64b18-1e20-4d41-b023-3b99c162eb3a&page=queryresults\">Open Job</a>"
      ],
      "text/plain": [
       "<IPython.core.display.HTML object>"
      ]
     },
     "metadata": {},
     "output_type": "display_data"
    },
    {
     "data": {
      "text/html": [
       "Query job feae88fd-eb75-4248-a9ef-8b2cec802ce9 is DONE. 10.5 MB processed. <a target=\"_blank\" href=\"https://console.cloud.google.com/bigquery?project=bigframes-dev&j=bq:US:feae88fd-eb75-4248-a9ef-8b2cec802ce9&page=queryresults\">Open Job</a>"
      ],
      "text/plain": [
       "<IPython.core.display.HTML object>"
      ]
     },
     "metadata": {},
     "output_type": "display_data"
    }
   ],
   "source": [
    "# Using bigframes, with syntax identical to pandas,\n",
    "# filter out the first and second groups\n",
    "cluster_1_result = clustered_result[\n",
    "    clustered_result[\"CENTROID_ID\"] == 1\n",
    "][[\"content\"]]\n",
    "cluster_1_result_pandas = cluster_1_result.head(5).to_pandas()\n",
    "\n",
    "cluster_2_result = clustered_result[\n",
    "    clustered_result[\"CENTROID_ID\"] == 2\n",
    "][[\"content\"]]\n",
    "cluster_2_result_pandas = cluster_2_result.head(5).to_pandas()"
   ]
  },
  {
   "cell_type": "code",
   "execution_count": 17,
   "metadata": {
    "id": "ZNDiueI9IP5e"
   },
   "outputs": [
    {
     "name": "stdout",
     "output_type": "stream",
     "text": [
      "comment list 1:\n",
      "1. The debt occurred more than 7 years in the past. It is illegal to report credit items after 7 years. There was no way to verify the debt.\n",
      "2. I'm really not sure what happened. I have mailed off letters to the credit bureaus continuously and thus far I have not gotten a response. My name is XXXX XXXX and I am filing this complaint for falsely reporting misleading information. There is no third party involved. Please review the uploaded letters.\n",
      "3. Fraudulent account removed from my credit report due to Identity Theft\n",
      "4. This account was not mine I explained this and they closed it but are still reporting a balance with the fraudulent charges\n",
      "5. Ive disputed a few times with Experian that I paid off my credit card account. The first time in XX/XX/2022 that they updated my account that it showed I had a {$0.00} balance remaining but wasnt showing paid!. Then the second dispute they just deleted the account on XX/XX/2022 causing my credit score to drop. I paid off a total amount of {$2000.00}. Ive also received from the creditor a satisfactory of judgment letter.\n",
      "\n",
      "comment list 2:\n",
      "1. In accordance with the Fair Credit Reporting act XXXX XXXX XXXX Account # XXXXXXXX XXXX XXXX XXXX  Account # XXXXXXXX XXXX XXXX XXXX Account # XXXX, XXXX XXXX Account # XXXX, XXXX Account # XXXX, XXXX  Account # XXXX, Bankruptcy Account # XXXX, has violated my rights. \n",
      "\n",
      "15 U.S.C 1681 section 602 A. States I have the right to privacy.\n",
      "\n",
      "15 U.S.C 1681 Section 604 A Section 2 : It also states a consumer reporting agency can not furnish a account without my written instructions\n",
      "2. According to the fair credit reporting act the list of inquiries have violated my rights. 15 U.S.C 1681 section 602A states I have the right to privacy.15 U.S.C 1681 section 2 604 A states a consumer reporting agency can not furnish a account with out written consent Inquires, also code 15 USC 6802 ( B ) has been violated XXXX XXXX XXXX XXXX XXXX XXXX XXXX XXXX XXXX XXXX XXXX XXXX XXXX XXXX XXXX XXXX XXXX XXXX XXXX XXXX XXXX XXXX XXXX XXXX XXXX XXXX XXXX XXXX XXXX\n",
      "3. In accordance with the fair credit Reporting act XXXX Account # XXXX, has violated my rights. \n",
      "\n",
      "15 USC 1681 Section 602 States I have the right to privacy.\n",
      "\n",
      "15 USC 1681 Section 604 A Section 2 : It also states a consumer reporting agency can not furnish a account without my written instructions.\n",
      "\n",
      "15 USC 1666B : A creditor may not treat a payment on a credit card account under an open end consumer credit plan as late for and purpose.\n",
      "4. In accordance with the Fair Credit Reporting act XXXX Account # XXXX XXXX XXXX XXXX, has violated my rights. \n",
      "\n",
      "15 U.S.C 1681 section 602 A. States I have the right to privacy.\n",
      "\n",
      "15 U.S.C 1681 Section 604 A Section 2 : It also states a consumer reporting agency can not furnish a account without my written instructions\n",
      "5. In accordance with the Fair Credit Reporting Act XXXX  Account XXXX  XXXX, Account XXXX XXXX  XXXX XXXX - XXXX, XXXX XXXX XXXX- XXXX, XXXX XXXX XXXX - XXXX, XXXX XXXX XXXX - XXXX, XXXX XXXX - XXXX, XXXX XXXX XXXX XXXX XXXX - XXXX, XXXX XXXX XXXX XXXX XXXXXXXX XXXX XXXX XXXXXXXX XXXX XXXX has violated my rights. \n",
      "\n",
      "15 U.S.C. 1681 section 602 A. States I have the right to privacy.\n",
      "\n",
      "15 U.S.C. 1681 section 604 A Section 2 : It also states a consumer reporting agency can not furnish an account without my written instructions.\n",
      "\n"
     ]
    }
   ],
   "source": [
    "# Build plain-text prompts to send to PaLM 2. Use only 5 complaints from each group.\n",
    "prompt1 = 'comment list 1:\\n'\n",
    "for i in range(5):\n",
    "    prompt1 += str(i + 1) + '. ' + \\\n",
    "        cluster_1_result_pandas[\"content\"].iloc[i] + '\\n'\n",
    "\n",
    "prompt2 = 'comment list 2:\\n'\n",
    "for i in range(5):\n",
    "    prompt2 += str(i + 1) + '. ' + \\\n",
    "        cluster_2_result_pandas[\"content\"].iloc[i] + '\\n'\n",
    "\n",
    "print(prompt1)\n",
    "print(prompt2)"
   ]
  },
  {
   "cell_type": "code",
   "execution_count": 18,
   "metadata": {
    "id": "BfHGJLirzSvH"
   },
   "outputs": [
    {
     "name": "stdout",
     "output_type": "stream",
     "text": [
      "Please highlight the most obvious difference between the two lists of comments:\n",
      "comment list 1:\n",
      "1. The debt occurred more than 7 years in the past. It is illegal to report credit items after 7 years. There was no way to verify the debt.\n",
      "2. I'm really not sure what happened. I have mailed off letters to the credit bureaus continuously and thus far I have not gotten a response. My name is XXXX XXXX and I am filing this complaint for falsely reporting misleading information. There is no third party involved. Please review the uploaded letters.\n",
      "3. Fraudulent account removed from my credit report due to Identity Theft\n",
      "4. This account was not mine I explained this and they closed it but are still reporting a balance with the fraudulent charges\n",
      "5. Ive disputed a few times with Experian that I paid off my credit card account. The first time in XX/XX/2022 that they updated my account that it showed I had a {$0.00} balance remaining but wasnt showing paid!. Then the second dispute they just deleted the account on XX/XX/2022 causing my credit score to drop. I paid off a total amount of {$2000.00}. Ive also received from the creditor a satisfactory of judgment letter.\n",
      "comment list 2:\n",
      "1. In accordance with the Fair Credit Reporting act XXXX XXXX XXXX Account # XXXXXXXX XXXX XXXX XXXX  Account # XXXXXXXX XXXX XXXX XXXX Account # XXXX, XXXX XXXX Account # XXXX, XXXX Account # XXXX, XXXX  Account # XXXX, Bankruptcy Account # XXXX, has violated my rights. \n",
      "\n",
      "15 U.S.C 1681 section 602 A. States I have the right to privacy.\n",
      "\n",
      "15 U.S.C 1681 Section 604 A Section 2 : It also states a consumer reporting agency can not furnish a account without my written instructions\n",
      "2. According to the fair credit reporting act the list of inquiries have violated my rights. 15 U.S.C 1681 section 602A states I have the right to privacy.15 U.S.C 1681 section 2 604 A states a consumer reporting agency can not furnish a account with out written consent Inquires, also code 15 USC 6802 ( B ) has been violated XXXX XXXX XXXX XXXX XXXX XXXX XXXX XXXX XXXX XXXX XXXX XXXX XXXX XXXX XXXX XXXX XXXX XXXX XXXX XXXX XXXX XXXX XXXX XXXX XXXX XXXX XXXX XXXX XXXX\n",
      "3. In accordance with the fair credit Reporting act XXXX Account # XXXX, has violated my rights. \n",
      "\n",
      "15 USC 1681 Section 602 States I have the right to privacy.\n",
      "\n",
      "15 USC 1681 Section 604 A Section 2 : It also states a consumer reporting agency can not furnish a account without my written instructions.\n",
      "\n",
      "15 USC 1666B : A creditor may not treat a payment on a credit card account under an open end consumer credit plan as late for and purpose.\n",
      "4. In accordance with the Fair Credit Reporting act XXXX Account # XXXX XXXX XXXX XXXX, has violated my rights. \n",
      "\n",
      "15 U.S.C 1681 section 602 A. States I have the right to privacy.\n",
      "\n",
      "15 U.S.C 1681 Section 604 A Section 2 : It also states a consumer reporting agency can not furnish a account without my written instructions\n",
      "5. In accordance with the Fair Credit Reporting Act XXXX  Account XXXX  XXXX, Account XXXX XXXX  XXXX XXXX - XXXX, XXXX XXXX XXXX- XXXX, XXXX XXXX XXXX - XXXX, XXXX XXXX XXXX - XXXX, XXXX XXXX - XXXX, XXXX XXXX XXXX XXXX XXXX - XXXX, XXXX XXXX XXXX XXXX XXXXXXXX XXXX XXXX XXXXXXXX XXXX XXXX has violated my rights. \n",
      "\n",
      "15 U.S.C. 1681 section 602 A. States I have the right to privacy.\n",
      "\n",
      "15 U.S.C. 1681 section 604 A Section 2 : It also states a consumer reporting agency can not furnish an account without my written instructions.\n",
      "\n"
     ]
    }
   ],
   "source": [
    "# The plain English request we will make of PaLM 2\n",
    "prompt = (\n",
    "    \"Please highlight the most obvious difference between \"\n",
    "    \"the two lists of comments:\\n\" + prompt1 + prompt2\n",
    ")\n",
    "print(prompt)"
   ]
  },
  {
   "attachments": {},
   "cell_type": "markdown",
   "metadata": {},
   "source": [
    "Get a response from Gemini by making a call to Vertex AI using our connection."
   ]
  },
  {
   "cell_type": "code",
   "execution_count": 20,
   "metadata": {
    "id": "mL5P0_3X04dE"
   },
   "outputs": [
    {
     "data": {
      "text/html": [
       "Query job 10c7f12a-fc8a-4e43-aa14-169eb2d85503 is DONE. 0 Bytes processed. <a target=\"_blank\" href=\"https://console.cloud.google.com/bigquery?project=bigframes-dev&j=bq:US:10c7f12a-fc8a-4e43-aa14-169eb2d85503&page=queryresults\">Open Job</a>"
      ],
      "text/plain": [
       "<IPython.core.display.HTML object>"
      ]
     },
     "metadata": {},
     "output_type": "display_data"
    }
   ],
   "source": [
    "from bigframes.ml.llm import GeminiTextGenerator\n",
    "\n",
    "q_a_model = GeminiTextGenerator()"
   ]
  },
  {
   "cell_type": "code",
   "execution_count": 21,
   "metadata": {
    "id": "ICWHsqAW1FNk"
   },
   "outputs": [],
   "source": [
    "# Make a DataFrame containing only a single row with our prompt for Gemini\n",
    "df = bf.DataFrame({\"prompt\": [prompt]})"
   ]
  },
  {
   "cell_type": "code",
   "execution_count": 22,
   "metadata": {
    "id": "gB7e1LXU1pst"
   },
   "outputs": [
    {
     "data": {
      "text/html": [
       "Query job 2078a7ac-fbb5-4770-866d-e9359bb5065d is DONE. 0 Bytes processed. <a target=\"_blank\" href=\"https://console.cloud.google.com/bigquery?project=bigframes-dev&j=bq:US:2078a7ac-fbb5-4770-866d-e9359bb5065d&page=queryresults\">Open Job</a>"
      ],
      "text/plain": [
       "<IPython.core.display.HTML object>"
      ]
     },
     "metadata": {},
     "output_type": "display_data"
    },
    {
     "data": {
      "text/html": [
       "Query job 1808c90e-8190-4c2f-8228-561a4f093a91 is DONE. 8 Bytes processed. <a target=\"_blank\" href=\"https://console.cloud.google.com/bigquery?project=bigframes-dev&j=bq:US:1808c90e-8190-4c2f-8228-561a4f093a91&page=queryresults\">Open Job</a>"
      ],
      "text/plain": [
       "<IPython.core.display.HTML object>"
      ]
     },
     "metadata": {},
     "output_type": "display_data"
    },
    {
     "data": {
      "text/html": [
       "Query job b344fb55-10d4-4a3f-8471-712d98f05e27 is DONE. 2 Bytes processed. <a target=\"_blank\" href=\"https://console.cloud.google.com/bigquery?project=bigframes-dev&j=bq:US:b344fb55-10d4-4a3f-8471-712d98f05e27&page=queryresults\">Open Job</a>"
      ],
      "text/plain": [
       "<IPython.core.display.HTML object>"
      ]
     },
     "metadata": {},
     "output_type": "display_data"
    },
    {
     "data": {
      "text/html": [
       "Query job b6cc8da2-abee-4d44-9848-e36a9adad983 is DONE. 233 Bytes processed. <a target=\"_blank\" href=\"https://console.cloud.google.com/bigquery?project=bigframes-dev&j=bq:US:b6cc8da2-abee-4d44-9848-e36a9adad983&page=queryresults\">Open Job</a>"
      ],
      "text/plain": [
       "<IPython.core.display.HTML object>"
      ]
     },
     "metadata": {},
     "output_type": "display_data"
    },
    {
     "data": {
      "text/plain": [
       "'The most obvious difference between the two lists of comments is that the comments in list 1 are written in a more informal and personal style, while the comments in list 2 are written in a more formal and legalistic style.'"
      ]
     },
     "execution_count": 22,
     "metadata": {},
     "output_type": "execute_result"
    }
   ],
   "source": [
    "# Send the request for Gemini to generate a response to our prompt\n",
    "major_difference = q_a_model.predict(df)\n",
    "# PaLM 2's response is the only row in the dataframe result \n",
    "major_difference[\"ml_generate_text_llm_result\"].iloc[0]"
   ]
  },
  {
   "attachments": {},
   "cell_type": "markdown",
   "metadata": {},
   "source": [
    "We now see GeminiTextGenerator's characterization of the different comment groups. Thanks for using BigQuery DataFrames!"
   ]
  },
  {
   "cell_type": "markdown",
   "metadata": {},
   "source": [
    "# Summary and next steps\n",
    "\n",
    "You've used the ML and LLM capabilities of BigQuery DataFrames to help analyze and understand a large dataset of unstructured feedback.\n",
    "\n",
    "Learn more about BigQuery DataFrames in the [documentation](https://cloud.google.com/python/docs/reference/bigframes/latest) and find more sample notebooks in the [GitHub repo](https://github.com/googleapis/python-bigquery-dataframes/tree/main/notebooks)."
   ]
  }
 ],
 "metadata": {
  "colab": {
   "provenance": []
  },
  "kernelspec": {
   "display_name": "Python 3 (ipykernel)",
   "language": "python",
   "name": "python3"
  },
  "language_info": {
   "codemirror_mode": {
    "name": "ipython",
    "version": 3
   },
   "file_extension": ".py",
   "mimetype": "text/x-python",
   "name": "python",
   "nbconvert_exporter": "python",
   "pygments_lexer": "ipython3",
   "version": "3.11.1"
  }
 },
 "nbformat": 4,
 "nbformat_minor": 4
}
