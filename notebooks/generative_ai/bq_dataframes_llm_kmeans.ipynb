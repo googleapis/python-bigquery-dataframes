{
  "cells": [
    {
      "cell_type": "code",
      "execution_count": 1,
      "metadata": {},
      "outputs": [],
      "source": [
        "# Copyright 2023 Google LLC\n",
        "#\n",
        "# Licensed under the Apache License, Version 2.0 (the \"License\");\n",
        "# you may not use this file except in compliance with the License.\n",
        "# You may obtain a copy of the License at\n",
        "#\n",
        "#     https://www.apache.org/licenses/LICENSE-2.0\n",
        "#\n",
        "# Unless required by applicable law or agreed to in writing, software\n",
        "# distributed under the License is distributed on an \"AS IS\" BASIS,\n",
        "# WITHOUT WARRANTIES OR CONDITIONS OF ANY KIND, either express or implied.\n",
        "# See the License for the specific language governing permissions and\n",
        "# limitations under the License."
      ]
    },
    {
      "attachments": {},
      "cell_type": "markdown",
      "metadata": {},
      "source": [
        "## Use BigQuery DataFrames to cluster and characterize complaints\n",
        "\n",
        "<table align=\"left\">\n",
        "\n",
        "  <td>\n",
        "    <a href=\"https://colab.research.google.com/github/googleapis/python-bigquery-dataframes/tree/main/notebooks/generative_ai/bq_dataframes_llm_kmeans.ipynb\">\n",
        "      <img src=\"https://cloud.google.com/ml-engine/images/colab-logo-32px.png\" alt=\"Colab logo\"> Run in Colab\n",
        "    </a>\n",
        "  </td>\n",
        "  <td>\n",
        "    <a href=\"https://github.com/googleapis/python-bigquery-dataframes/tree/main/notebooks/generative_ai/bq_dataframes_llm_kmeans.ipynb\">\n",
        "      <img src=\"https://cloud.google.com/ml-engine/images/github-logo-32px.png\" alt=\"GitHub logo\">\n",
        "      View on GitHub\n",
        "    </a>\n",
        "  </td>\n",
        "  <td>\n",
        "    <a href=\"https://console.cloud.google.com/vertex-ai/workbench/deploy-notebook?download_url=https://raw.githubusercontent.com/googleapis/python-bigquery-dataframes/tree/main/notebooks/generative_ai/bq_dataframes_llm_kmeans.ipynb\">\n",
        "      <img src=\"https://lh3.googleusercontent.com/UiNooY4LUgW_oTvpsNhPpQzsstV5W8F7rYgxgGBD85cWJoLmrOzhVs_ksK_vgx40SHs7jCqkTkCk=e14-rj-sc0xffffff-h130-w32\" alt=\"Vertex AI logo\">\n",
        "      Open in Vertex AI Workbench\n",
        "    </a>\n",
        "  </td>                                                                                               \n",
        "</table>"
      ]
    },
    {
      "attachments": {},
      "cell_type": "markdown",
      "metadata": {},
      "source": [
        "## Overview\n",
        "\n",
        "The goal of this notebook is to demonstrate a comment characterization algorithm for an online business. We will accomplish this using [Google's PaLM 2](https://ai.google/discover/palm2/) and [KMeans clustering](https://en.wikipedia.org/wiki/K-means_clustering) in three steps:\n",
        "\n",
        "1. Use PaLM2TextEmbeddingGenerator to [generate text embeddings](https://cloud.google.com/vertex-ai/docs/generative-ai/embeddings/get-text-embeddings) for each of 5000 complaints sent to an online bank. If you're not familiar with what a text embedding is, it's a list of numbers that are like coordinates in an imaginary \"meaning space\" for sentences. (It's like [word embeddings](https://en.wikipedia.org/wiki/Word_embedding), but for more general text.) The important point for our purposes is that similar sentences are close to each other in this imaginary space.\n",
        "2. Use KMeans clustering to group together complaints whose text embeddings are near to eachother. This will give us sets of similar complaints, but we don't yet know _why_ these complaints are similar.\n",
        "3. Prompt PaLM2TextGenerator in English asking what the difference is between the groups of complaints that we got. Thanks to the power of modern LLMs, the response might give us a very good idea of what these complaints are all about, but remember to [\"understand the limits of your dataset and model.\"](https://ai.google/responsibility/responsible-ai-practices/#:~:text=Understand%20the%20limitations%20of%20your%20dataset%20and%20model)\n",
        "\n",
        "We will tie these pieces together in Python using BigQuery DataFrames. [Click here](https://cloud.google.com/bigquery/docs/dataframes-quickstart) to learn more about BigQuery DataFrames!"
      ]
    },
    {
      "attachments": {},
      "cell_type": "markdown",
      "metadata": {},
      "source": [
        "### Dataset\n",
        "\n",
        "This notebook uses the [CFPB Consumer Complaint Database](https://console.cloud.google.com/marketplace/product/cfpb/complaint-database)."
      ]
    },
    {
      "attachments": {},
      "cell_type": "markdown",
      "metadata": {},
      "source": [
        "### Costs\n",
        "\n",
        "This tutorial uses billable components of Google Cloud:\n",
        "\n",
        "* BigQuery (compute)\n",
        "* BigQuery ML\n",
        "* Generative AI support on Vertex AI\n",
        "\n",
        "Learn about [BigQuery compute pricing](https://cloud.google.com/bigquery/pricing#analysis_pricing_models), [Generative AI support on Vertex AI pricing](https://cloud.google.com/vertex-ai/pricing#generative_ai_models),\n",
        "and [BigQuery ML pricing](https://cloud.google.com/bigquery/pricing#bqml),\n",
        "and use the [Pricing Calculator](https://cloud.google.com/products/calculator/)\n",
        "to generate a cost estimate based on your projected usage."
      ]
    },
    {
      "attachments": {},
      "cell_type": "markdown",
      "metadata": {},
      "source": [
        "## Before you begin\n",
        "\n",
        "Complete the tasks in this section to set up your environment."
      ]
    },
    {
      "attachments": {},
      "cell_type": "markdown",
      "metadata": {},
      "source": [
        "### Set up your Google Cloud project\n",
        "\n",
        "**The following steps are required, regardless of your notebook environment.**\n",
        "\n",
        "1. [Select or create a Google Cloud project](https://console.cloud.google.com/cloud-resource-manager). When you first create an account, you get a $300 credit towards your compute/storage costs.\n",
        "\n",
        "2. [Make sure that billing is enabled for your project](https://cloud.google.com/billing/docs/how-to/modify-project).\n",
        "\n",
        "3. [Click here](https://console.cloud.google.com/flows/enableapi?apiid=bigquery.googleapis.com,bigqueryconnection.googleapis.com,run.googleapis.com,artifactregistry.googleapis.com,cloudbuild.googleapis.com,cloudresourcemanager.googleapis.com) to enable the following APIs:\n",
        "\n",
        "  * BigQuery API\n",
        "  * BigQuery Connection API\n",
        "  * Cloud Run API\n",
        "  * Artifact Registry API\n",
        "  * Cloud Build API\n",
        "  * Cloud Resource Manager API\n",
        "  * Vertex AI API\n",
        "\n",
        "4. If you are running this notebook locally, install the [Cloud SDK](https://cloud.google.com/sdk)."
      ]
    },
    {
      "attachments": {},
      "cell_type": "markdown",
      "metadata": {},
      "source": [
        "#### Set your project ID\n",
        "\n",
        "**If you don't know your project ID**, see the support page: [Locate the project ID](https://support.google.com/googleapi/answer/7014113)"
      ]
    },
    {
      "cell_type": "code",
      "execution_count": 2,
      "metadata": {},
      "outputs": [
        {
          "name": "stdout",
          "output_type": "stream",
          "text": [
            "Updated property [core/project].\n"
          ]
        }
      ],
      "source": [
        "# set your project ID below\n",
        "PROJECT_ID = \"\"  # @param {type:\"string\"}\n",
        "\n",
        "# Set the project id in gcloud\n",
        "! gcloud config set project {PROJECT_ID}"
      ]
    },
    {
      "attachments": {},
      "cell_type": "markdown",
      "metadata": {},
      "source": [
        "#### Set the region\n",
        "\n",
        "You can also change the `REGION` variable used by BigQuery. Learn more about [BigQuery regions](https://cloud.google.com/bigquery/docs/locations#supported_locations)."
      ]
    },
    {
      "cell_type": "code",
      "execution_count": 3,
      "metadata": {},
      "outputs": [],
      "source": [
        "REGION = \"US\"  # @param {type: \"string\"}"
      ]
    },
    {
      "attachments": {},
      "cell_type": "markdown",
      "metadata": {},
      "source": [
        "#### Authenticate your Google Cloud account\n",
        "\n",
        "Depending on your Jupyter environment, you might have to manually authenticate. Follow the relevant instructions below."
      ]
    },
    {
      "attachments": {},
      "cell_type": "markdown",
      "metadata": {},
      "source": [
        "**Vertex AI Workbench**\n",
        "\n",
        "Do nothing, you are already authenticated."
      ]
    },
    {
      "attachments": {},
      "cell_type": "markdown",
      "metadata": {},
      "source": [
        "**Local JupyterLab instance**\n",
        "\n",
        "Uncomment and run the following cell:"
      ]
    },
    {
      "cell_type": "code",
      "execution_count": 4,
      "metadata": {},
      "outputs": [],
      "source": [
        "# ! gcloud auth login"
      ]
    },
    {
      "attachments": {},
      "cell_type": "markdown",
      "metadata": {},
      "source": [
        "**Colab**\n",
        "\n",
        "Uncomment and run the following cell:"
      ]
    },
    {
      "cell_type": "code",
      "execution_count": 5,
      "metadata": {},
      "outputs": [],
      "source": [
        "# from google.colab import auth\n",
        "# auth.authenticate_user()"
      ]
    },
    {
      "attachments": {},
      "cell_type": "markdown",
      "metadata": {},
      "source": [
        "If you want to reset the location of the created DataFrame or Series objects, reset the session by executing `bf.close_session()`. After that, you can reuse `bf.options.bigquery.location` to specify another location."
      ]
    },
    {
      "attachments": {},
      "cell_type": "markdown",
      "metadata": {},
      "source": [
        "### Connect to Vertex AI\n",
        "\n",
        "In order to use PaLM2TextGenerator, we will need to set up a [cloud resource connection](https://cloud.google.com/bigquery/docs/create-cloud-resource-connection)."
      ]
    },
    {
      "cell_type": "code",
      "execution_count": 6,
      "metadata": {},
      "outputs": [
        {
          "name": "stdout",
          "output_type": "stream",
          "text": [
            "serviceAccount:bqcx-1084210331973-vl8v@gcp-sa-bigquery-condel.iam.gserviceaccount.com\n"
          ]
        }
      ],
      "source": [
        "from google.cloud import bigquery_connection_v1 as bq_connection\n",
        "\n",
        "CONN_NAME = \"bqdf-llm\"\n",
        "\n",
        "client = bq_connection.ConnectionServiceClient()\n",
        "new_conn_parent = f\"projects/{PROJECT_ID}/locations/{REGION}\"\n",
        "exists_conn_parent = f\"projects/{PROJECT_ID}/locations/{REGION}/connections/{CONN_NAME}\"\n",
        "cloud_resource_properties = bq_connection.CloudResourceProperties({})\n",
        "\n",
        "try:\n",
        "    request = client.get_connection(\n",
        "        request=bq_connection.GetConnectionRequest(name=exists_conn_parent)\n",
        "    )\n",
        "    CONN_SERVICE_ACCOUNT = f\"serviceAccount:{request.cloud_resource.service_account_id}\"\n",
        "except Exception:\n",
        "    connection = bq_connection.types.Connection(\n",
        "        {\"friendly_name\": CONN_NAME, \"cloud_resource\": cloud_resource_properties}\n",
        "    )\n",
        "    request = bq_connection.CreateConnectionRequest(\n",
        "        {\n",
        "            \"parent\": new_conn_parent,\n",
        "            \"connection_id\": CONN_NAME,\n",
        "            \"connection\": connection,\n",
        "        }\n",
        "    )\n",
        "    response = client.create_connection(request)\n",
        "    CONN_SERVICE_ACCOUNT = (\n",
        "        f\"serviceAccount:{response.cloud_resource.service_account_id}\"\n",
        "    )\n",
        "print(CONN_SERVICE_ACCOUNT)"
      ]
    },
    {
      "attachments": {},
      "cell_type": "markdown",
      "metadata": {},
      "source": [
        "## Set permissions for the service account\n",
        "\n",
        "The resource connection service account requires certain project-level permissions:\n",
        " - `roles/aiplatform.user` and `roles/bigquery.connectionUser`: These roles are required for the connection to create a model definition using the LLM model in Vertex AI ([documentation](https://cloud.google.com/bigquery/docs/generate-text#give_the_service_account_access)).\n",
        " - `roles/run.invoker`: This role is required for the connection to have read-only access to Cloud Run services that back custom/remote functions ([documentation](https://cloud.google.com/bigquery/docs/remote-functions#grant_permission_on_function)).\n",
        "\n",
        "Set these permissions by running the following `gcloud` commands:"
      ]
    },
    {
      "cell_type": "code",
      "execution_count": 7,
      "metadata": {},
      "outputs": [
        {
          "name": "stdout",
          "output_type": "stream",
          "text": [
            "\u001b[1;31mERROR:\u001b[0m (gcloud.projects.add-iam-policy-binding) User [henryjsolberg@google.com] does not have permission to access projects instance [bigframes-dev:setIamPolicy] (or it may not exist): Policy update access denied.\n",
            "- '@type': type.googleapis.com/google.rpc.DebugInfo\n",
            "  detail: |-\n",
            "    [ORIGINAL ERROR] generic::permission_denied: Policy update access denied.\n",
            "    com.google.apps.framework.request.StatusException: <eye3 title='PERMISSION_DENIED'/> generic::PERMISSION_DENIED: Policy update access denied. [google.rpc.error_details_ext] { code: 7 message: \"Policy update access denied.\" }\n",
            "\u001b[1;31mERROR:\u001b[0m (gcloud.projects.add-iam-policy-binding) User [henryjsolberg@google.com] does not have permission to access projects instance [bigframes-dev:setIamPolicy] (or it may not exist): Policy update access denied.\n",
            "- '@type': type.googleapis.com/google.rpc.DebugInfo\n",
            "  detail: |-\n",
            "    [ORIGINAL ERROR] generic::permission_denied: Policy update access denied.\n",
            "    com.google.apps.framework.request.StatusException: <eye3 title='PERMISSION_DENIED'/> generic::PERMISSION_DENIED: Policy update access denied. [google.rpc.error_details_ext] { code: 7 message: \"Policy update access denied.\" }\n",
            "\u001b[1;31mERROR:\u001b[0m (gcloud.projects.add-iam-policy-binding) User [henryjsolberg@google.com] does not have permission to access projects instance [bigframes-dev:setIamPolicy] (or it may not exist): Policy update access denied.\n",
            "- '@type': type.googleapis.com/google.rpc.DebugInfo\n",
            "  detail: |-\n",
            "    [ORIGINAL ERROR] generic::permission_denied: Policy update access denied.\n",
            "    com.google.apps.framework.request.StatusException: <eye3 title='PERMISSION_DENIED'/> generic::PERMISSION_DENIED: Policy update access denied. [google.rpc.error_details_ext] { code: 7 message: \"Policy update access denied.\" }\n",
            "\u001b[1;31mERROR:\u001b[0m (gcloud.projects.add-iam-policy-binding) User [henryjsolberg@google.com] does not have permission to access projects instance [bigframes-dev:setIamPolicy] (or it may not exist): Policy update access denied.\n",
            "- '@type': type.googleapis.com/google.rpc.DebugInfo\n",
            "  detail: |-\n",
            "    [ORIGINAL ERROR] generic::permission_denied: Policy update access denied.\n",
            "    com.google.apps.framework.request.StatusException: <eye3 title='PERMISSION_DENIED'/> generic::PERMISSION_DENIED: Policy update access denied. [google.rpc.error_details_ext] { code: 7 message: \"Policy update access denied.\" }\n"
          ]
        }
      ],
      "source": [
        "!gcloud projects add-iam-policy-binding {PROJECT_ID} --condition=None --no-user-output-enabled --member={CONN_SERVICE_ACCOUNT} --role='roles/bigquery.connectionUser'\n",
        "!gcloud projects add-iam-policy-binding {PROJECT_ID} --condition=None --no-user-output-enabled --member={CONN_SERVICE_ACCOUNT} --role='roles/aiplatform.user'\n",
        "!gcloud projects add-iam-policy-binding {PROJECT_ID} --condition=None --no-user-output-enabled --member={CONN_SERVICE_ACCOUNT} --role='roles/run.invoker'"
      ]
    },
    {
      "attachments": {},
      "cell_type": "markdown",
      "metadata": {},
      "source": [
        "Now we are ready to use BigQuery DataFrames!"
      ]
    },
    {
      "attachments": {},
      "cell_type": "markdown",
      "metadata": {
        "id": "xckgWno6ouHY"
      },
      "source": [
        "## Step 1: Text embedding "
      ]
    },
    {
      "attachments": {},
      "cell_type": "markdown",
      "metadata": {},
      "source": [
        "Project Setup"
      ]
    },
    {
      "cell_type": "code",
      "execution_count": 8,
      "metadata": {
        "id": "R7STCS8xB5d2"
      },
      "outputs": [],
      "source": [
        "import bigframes.pandas as bf\n",
        "\n",
        "bf.options.bigquery.project = PROJECT_ID\n",
        "bf.options.bigquery.location = REGION"
      ]
    },
    {
      "cell_type": "markdown",
      "metadata": {
        "id": "v6FGschEowht"
      },
      "source": [
        "Data Input"
      ]
    },
    {
      "cell_type": "code",
      "execution_count": 9,
      "metadata": {
        "id": "zDSwoBo1CU3G"
      },
      "outputs": [
        {
          "data": {
            "text/html": [
              "Query job d6e63245-f4af-4a62-a5a8-121c8c553270 is DONE. 0 Bytes processed. <a target=\"_blank\" href=\"https://console.cloud.google.com/bigquery?project=bigframes-dev&j=bq:US:d6e63245-f4af-4a62-a5a8-121c8c553270&page=queryresults\">Open Job</a>"
            ],
            "text/plain": [
              "<IPython.core.display.HTML object>"
            ]
          },
          "metadata": {},
          "output_type": "display_data"
        },
        {
          "data": {
            "text/html": [
              "Query job ae376738-e474-4855-94de-07cdacc5b321 is DONE. 2.3 GB processed. <a target=\"_blank\" href=\"https://console.cloud.google.com/bigquery?project=bigframes-dev&j=bq:US:ae376738-e474-4855-94de-07cdacc5b321&page=queryresults\">Open Job</a>"
            ],
            "text/plain": [
              "<IPython.core.display.HTML object>"
            ]
          },
          "metadata": {},
          "output_type": "display_data"
        }
      ],
      "source": [
        "input_df = bf.read_gbq(\"bigquery-public-data.cfpb_complaints.complaint_database\")"
      ]
    },
    {
      "cell_type": "code",
      "execution_count": 10,
      "metadata": {
        "id": "tYDoaKgJChiq"
      },
      "outputs": [
        {
          "data": {
            "text/html": [
              "Query job e1ea942c-456d-462a-ad85-7a522123f84b is DONE. 1.3 GB processed. <a target=\"_blank\" href=\"https://console.cloud.google.com/bigquery?project=bigframes-dev&j=bq:US:e1ea942c-456d-462a-ad85-7a522123f84b&page=queryresults\">Open Job</a>"
            ],
            "text/plain": [
              "<IPython.core.display.HTML object>"
            ]
          },
          "metadata": {},
          "output_type": "display_data"
        },
        {
          "data": {
            "text/html": [
              "Query job 992afe58-15b8-4941-9c54-e917bc552ee6 is DONE. 1.3 GB processed. <a target=\"_blank\" href=\"https://console.cloud.google.com/bigquery?project=bigframes-dev&j=bq:US:992afe58-15b8-4941-9c54-e917bc552ee6&page=queryresults\">Open Job</a>"
            ],
            "text/plain": [
              "<IPython.core.display.HTML object>"
            ]
          },
          "metadata": {},
          "output_type": "display_data"
        },
        {
          "data": {
            "text/html": [
              "<div>\n",
              "<style scoped>\n",
              "    .dataframe tbody tr th:only-of-type {\n",
              "        vertical-align: middle;\n",
              "    }\n",
              "\n",
              "    .dataframe tbody tr th {\n",
              "        vertical-align: top;\n",
              "    }\n",
              "\n",
              "    .dataframe thead th {\n",
              "        text-align: right;\n",
              "    }\n",
              "</style>\n",
              "<table border=\"1\" class=\"dataframe\">\n",
              "  <thead>\n",
              "    <tr style=\"text-align: right;\">\n",
              "      <th></th>\n",
              "      <th>consumer_complaint_narrative</th>\n",
              "    </tr>\n",
              "  </thead>\n",
              "  <tbody>\n",
              "    <tr>\n",
              "      <th>0</th>\n",
              "      <td>In XXXX, Citimortgage coerced a voluntary judg...</td>\n",
              "    </tr>\n",
              "    <tr>\n",
              "      <th>4</th>\n",
              "      <td>I have 2 credit cards from Citi bank as well a...</td>\n",
              "    </tr>\n",
              "    <tr>\n",
              "      <th>5</th>\n",
              "      <td>This is in regards to the Government taking ac...</td>\n",
              "    </tr>\n",
              "    <tr>\n",
              "      <th>8</th>\n",
              "      <td>I write to dispute {$32.00} in late charges ( ...</td>\n",
              "    </tr>\n",
              "    <tr>\n",
              "      <th>9</th>\n",
              "      <td>I decided to close my Citibank checking accoun...</td>\n",
              "    </tr>\n",
              "  </tbody>\n",
              "</table>\n",
              "<p>5 rows × 1 columns</p>\n",
              "</div>[5 rows x 1 columns in total]"
            ],
            "text/plain": [
              "                        consumer_complaint_narrative\n",
              "0  In XXXX, Citimortgage coerced a voluntary judg...\n",
              "4  I have 2 credit cards from Citi bank as well a...\n",
              "5  This is in regards to the Government taking ac...\n",
              "8  I write to dispute {$32.00} in late charges ( ...\n",
              "9  I decided to close my Citibank checking accoun...\n",
              "\n",
              "[5 rows x 1 columns]"
            ]
          },
          "execution_count": 10,
          "metadata": {},
          "output_type": "execute_result"
        }
      ],
      "source": [
        "issues_df = input_df[[\"consumer_complaint_narrative\"]].dropna()\n",
        "issues_df.head(n=5) # View the first five complaints"
      ]
    },
    {
      "cell_type": "code",
      "execution_count": 11,
      "metadata": {
        "id": "OltYSUEcsSOW"
      },
      "outputs": [],
      "source": [
        "# Choose 5,000 complaints randomly and store them in a column in a DataFrame\n",
        "downsampled_issues_df = issues_df.sample(n=5000)"
      ]
    },
    {
      "attachments": {},
      "cell_type": "markdown",
      "metadata": {
        "id": "Wl2o-NYMoygb"
      },
      "source": [
        "Generate the text embeddings"
      ]
    },
    {
      "cell_type": "code",
      "execution_count": 12,
      "metadata": {
        "id": "li38q8FzDDMu"
      },
      "outputs": [
        {
          "data": {
            "text/html": [
              "Query job 1105c42a-ef82-41f9-a7af-2c6c432782b3 is DONE. 0 Bytes processed. <a target=\"_blank\" href=\"https://console.cloud.google.com/bigquery?project=bigframes-dev&j=bq:US:1105c42a-ef82-41f9-a7af-2c6c432782b3&page=queryresults\">Open Job</a>"
            ],
            "text/plain": [
              "<IPython.core.display.HTML object>"
            ]
          },
          "metadata": {},
          "output_type": "display_data"
        }
      ],
      "source": [
        "from bigframes.ml.llm import PaLM2TextEmbeddingGenerator\n",
        "\n",
        "model = PaLM2TextEmbeddingGenerator() # No connection id needed"
      ]
    },
    {
      "cell_type": "code",
      "execution_count": 13,
      "metadata": {
        "id": "cOuSOQ5FDewD"
      },
      "outputs": [
        {
          "data": {
            "text/html": [
              "Query job 282305dc-0934-4e7f-8f2c-5d0dc4b27113 is DONE. 0 Bytes processed. <a target=\"_blank\" href=\"https://console.cloud.google.com/bigquery?project=bigframes-dev&j=bq:US:282305dc-0934-4e7f-8f2c-5d0dc4b27113&page=queryresults\">Open Job</a>"
            ],
            "text/plain": [
              "<IPython.core.display.HTML object>"
            ]
          },
          "metadata": {},
          "output_type": "display_data"
        },
        {
          "data": {
            "text/html": [
              "Query job 778c4dc1-af17-4bbc-b240-6041e1ab56f4 is DONE. 1.3 GB processed. <a target=\"_blank\" href=\"https://console.cloud.google.com/bigquery?project=bigframes-dev&j=bq:US:778c4dc1-af17-4bbc-b240-6041e1ab56f4&page=queryresults\">Open Job</a>"
            ],
            "text/plain": [
              "<IPython.core.display.HTML object>"
            ]
          },
          "metadata": {},
          "output_type": "display_data"
        },
        {
          "data": {
            "text/html": [
              "Query job 36de51e5-db56-4e13-bc73-deb684ea890e is DONE. 40.0 kB processed. <a target=\"_blank\" href=\"https://console.cloud.google.com/bigquery?project=bigframes-dev&j=bq:US:36de51e5-db56-4e13-bc73-deb684ea890e&page=queryresults\">Open Job</a>"
            ],
            "text/plain": [
              "<IPython.core.display.HTML object>"
            ]
          },
          "metadata": {},
          "output_type": "display_data"
        },
        {
          "data": {
            "text/html": [
              "Query job 1f737da5-ab6d-4849-8b43-edfdd5a97ab1 is DONE. 40.0 kB processed. <a target=\"_blank\" href=\"https://console.cloud.google.com/bigquery?project=bigframes-dev&j=bq:US:1f737da5-ab6d-4849-8b43-edfdd5a97ab1&page=queryresults\">Open Job</a>"
            ],
            "text/plain": [
              "<IPython.core.display.HTML object>"
            ]
          },
          "metadata": {},
          "output_type": "display_data"
        },
        {
          "data": {
            "text/html": [
              "Query job 3342d18e-1190-41cd-9a19-ae1e352f686d is DONE. 30.8 MB processed. <a target=\"_blank\" href=\"https://console.cloud.google.com/bigquery?project=bigframes-dev&j=bq:US:3342d18e-1190-41cd-9a19-ae1e352f686d&page=queryresults\">Open Job</a>"
            ],
            "text/plain": [
              "<IPython.core.display.HTML object>"
            ]
          },
          "metadata": {},
          "output_type": "display_data"
        },
        {
          "data": {
            "text/html": [
              "<div>\n",
              "<style scoped>\n",
              "    .dataframe tbody tr th:only-of-type {\n",
              "        vertical-align: middle;\n",
              "    }\n",
              "\n",
              "    .dataframe tbody tr th {\n",
              "        vertical-align: top;\n",
              "    }\n",
              "\n",
              "    .dataframe thead th {\n",
              "        text-align: right;\n",
              "    }\n",
              "</style>\n",
              "<table border=\"1\" class=\"dataframe\">\n",
              "  <thead>\n",
              "    <tr style=\"text-align: right;\">\n",
              "      <th></th>\n",
              "      <th>text_embedding</th>\n",
              "    </tr>\n",
              "  </thead>\n",
              "  <tbody>\n",
              "    <tr>\n",
              "      <th>109</th>\n",
              "      <td>[-0.010294735431671143, -0.017596377059817314,...</td>\n",
              "    </tr>\n",
              "    <tr>\n",
              "      <th>181</th>\n",
              "      <td>[-0.004606005270034075, -0.0029765090439468622...</td>\n",
              "    </tr>\n",
              "    <tr>\n",
              "      <th>690</th>\n",
              "      <td>[-0.023824475705623627, -0.03503825515508652, ...</td>\n",
              "    </tr>\n",
              "    <tr>\n",
              "      <th>1068</th>\n",
              "      <td>[-0.005357897840440273, 0.024292852729558945, ...</td>\n",
              "    </tr>\n",
              "    <tr>\n",
              "      <th>1613</th>\n",
              "      <td>[0.023095030337572098, -0.016921309754252434, ...</td>\n",
              "    </tr>\n",
              "  </tbody>\n",
              "</table>\n",
              "<p>5 rows × 1 columns</p>\n",
              "</div>[5 rows x 1 columns in total]"
            ],
            "text/plain": [
              "                                         text_embedding\n",
              "109   [-0.010294735431671143, -0.017596377059817314,...\n",
              "181   [-0.004606005270034075, -0.0029765090439468622...\n",
              "690   [-0.023824475705623627, -0.03503825515508652, ...\n",
              "1068  [-0.005357897840440273, 0.024292852729558945, ...\n",
              "1613  [0.023095030337572098, -0.016921309754252434, ...\n",
              "\n",
              "[5 rows x 1 columns]"
            ]
          },
          "execution_count": 13,
          "metadata": {},
          "output_type": "execute_result"
        }
      ],
      "source": [
        "# Will take ~3 minutes to compute the embeddings\n",
        "predicted_embeddings = model.predict(downsampled_issues_df)\n",
        "# Notice the lists of numbers that are our text embeddings for each complaint\n",
        "predicted_embeddings.head() "
      ]
    },
    {
      "cell_type": "code",
      "execution_count": 14,
      "metadata": {
        "id": "4H_etYfsEOFP"
      },
      "outputs": [],
      "source": [
        "# Join the complaints with their embeddings in the same DataFrame\n",
        "combined_df = downsampled_issues_df.join(predicted_embeddings)"
      ]
    },
    {
      "attachments": {},
      "cell_type": "markdown",
      "metadata": {},
      "source": [
        "We now have the complaints and their text embeddings as two columns in our combined_df. Recall that complaints with numerically similar text embeddings should have similar meanings semantically. We will now group similar complaints together."
      ]
    },
    {
      "attachments": {},
      "cell_type": "markdown",
      "metadata": {
        "id": "OUZ3NNbzo1Tb"
      },
      "source": [
        "## Step 2: KMeans clustering"
      ]
    },
    {
      "cell_type": "code",
      "execution_count": 15,
      "metadata": {
        "id": "AhNTnEC5FRz2"
      },
      "outputs": [],
      "source": [
        "from bigframes.ml.cluster import KMeans\n",
        "\n",
        "cluster_model = KMeans(n_clusters=10) # We will divide our complaints into 10 groups"
      ]
    },
    {
      "attachments": {},
      "cell_type": "markdown",
      "metadata": {},
      "source": [
        "Perform KMeans clustering"
      ]
    },
    {
      "cell_type": "code",
      "execution_count": 16,
      "metadata": {
        "id": "6poSxh-fGJF7"
      },
      "outputs": [
        {
          "data": {
            "text/html": [
              "Query job 3bcd701d-638d-428f-9fef-4283f246a4b8 is DONE. 0 Bytes processed. <a target=\"_blank\" href=\"https://console.cloud.google.com/bigquery?project=bigframes-dev&j=bq:US:3bcd701d-638d-428f-9fef-4283f246a4b8&page=queryresults\">Open Job</a>"
            ],
            "text/plain": [
              "<IPython.core.display.HTML object>"
            ]
          },
          "metadata": {},
          "output_type": "display_data"
        },
        {
          "data": {
            "text/html": [
              "Query job 01dd30db-5768-4965-8fbf-28aab2eea0a0 is DONE. 0 Bytes processed. <a target=\"_blank\" href=\"https://console.cloud.google.com/bigquery?project=bigframes-dev&j=bq:US:01dd30db-5768-4965-8fbf-28aab2eea0a0&page=queryresults\">Open Job</a>"
            ],
            "text/plain": [
              "<IPython.core.display.HTML object>"
            ]
          },
          "metadata": {},
          "output_type": "display_data"
        },
        {
          "data": {
            "text/html": [
              "Query job a3f70a16-c2c5-4d60-9a62-66700c9c5135 is DONE. 1.3 GB processed. <a target=\"_blank\" href=\"https://console.cloud.google.com/bigquery?project=bigframes-dev&j=bq:US:a3f70a16-c2c5-4d60-9a62-66700c9c5135&page=queryresults\">Open Job</a>"
            ],
            "text/plain": [
              "<IPython.core.display.HTML object>"
            ]
          },
          "metadata": {},
          "output_type": "display_data"
        },
        {
          "data": {
            "text/html": [
              "Query job 32d2bc5f-4532-4a94-af03-3def73268827 is DONE. 40.0 kB processed. <a target=\"_blank\" href=\"https://console.cloud.google.com/bigquery?project=bigframes-dev&j=bq:US:32d2bc5f-4532-4a94-af03-3def73268827&page=queryresults\">Open Job</a>"
            ],
            "text/plain": [
              "<IPython.core.display.HTML object>"
            ]
          },
          "metadata": {},
          "output_type": "display_data"
        },
        {
          "data": {
            "text/html": [
              "Query job 70192818-2fe2-46e2-bf9a-3c765609fed1 is DONE. 40.0 kB processed. <a target=\"_blank\" href=\"https://console.cloud.google.com/bigquery?project=bigframes-dev&j=bq:US:70192818-2fe2-46e2-bf9a-3c765609fed1&page=queryresults\">Open Job</a>"
            ],
            "text/plain": [
              "<IPython.core.display.HTML object>"
            ]
          },
          "metadata": {},
          "output_type": "display_data"
        },
        {
          "data": {
            "text/html": [
              "Query job 37af51f2-87df-430d-a456-75ab3681cf01 is DONE. 80.0 kB processed. <a target=\"_blank\" href=\"https://console.cloud.google.com/bigquery?project=bigframes-dev&j=bq:US:37af51f2-87df-430d-a456-75ab3681cf01&page=queryresults\">Open Job</a>"
            ],
            "text/plain": [
              "<IPython.core.display.HTML object>"
            ]
          },
          "metadata": {},
          "output_type": "display_data"
        },
        {
          "data": {
            "text/html": [
              "<div>\n",
              "<style scoped>\n",
              "    .dataframe tbody tr th:only-of-type {\n",
              "        vertical-align: middle;\n",
              "    }\n",
              "\n",
              "    .dataframe tbody tr th {\n",
              "        vertical-align: top;\n",
              "    }\n",
              "\n",
              "    .dataframe thead th {\n",
              "        text-align: right;\n",
              "    }\n",
              "</style>\n",
              "<table border=\"1\" class=\"dataframe\">\n",
              "  <thead>\n",
              "    <tr style=\"text-align: right;\">\n",
              "      <th></th>\n",
              "      <th>CENTROID_ID</th>\n",
              "    </tr>\n",
              "  </thead>\n",
              "  <tbody>\n",
              "    <tr>\n",
              "      <th>109</th>\n",
              "      <td>1</td>\n",
              "    </tr>\n",
              "    <tr>\n",
              "      <th>181</th>\n",
              "      <td>3</td>\n",
              "    </tr>\n",
              "    <tr>\n",
              "      <th>690</th>\n",
              "      <td>9</td>\n",
              "    </tr>\n",
              "    <tr>\n",
              "      <th>1068</th>\n",
              "      <td>10</td>\n",
              "    </tr>\n",
              "    <tr>\n",
              "      <th>1613</th>\n",
              "      <td>6</td>\n",
              "    </tr>\n",
              "  </tbody>\n",
              "</table>\n",
              "<p>5 rows × 1 columns</p>\n",
              "</div>[5 rows x 1 columns in total]"
            ],
            "text/plain": [
              "      CENTROID_ID\n",
              "109             1\n",
              "181             3\n",
              "690             9\n",
              "1068           10\n",
              "1613            6\n",
              "\n",
              "[5 rows x 1 columns]"
            ]
          },
          "execution_count": 16,
          "metadata": {},
          "output_type": "execute_result"
        }
      ],
      "source": [
        "# Use KMeans clustering to calculate our groups. Will take ~3 minutes.\n",
        "cluster_model.fit(combined_df[[\"text_embedding\"]])\n",
        "clustered_result = cluster_model.predict(combined_df[[\"text_embedding\"]])\n",
        "# Notice the CENTROID_ID column, which is the ID number of the group that\n",
        "# each complaint belongs to.\n",
        "clustered_result.head(n=5)"
      ]
    },
    {
      "cell_type": "code",
      "execution_count": 17,
      "metadata": {},
      "outputs": [],
      "source": [
        "# Join the group number to the complaints and their text embeddings\n",
        "combined_clustered_result = combined_df.join(clustered_result)"
      ]
    },
    {
      "attachments": {},
      "cell_type": "markdown",
      "metadata": {},
      "source": [
        "Our dataframe combined_clustered_result now has three columns: the complaints, their text embeddings, and an ID from 1-10 (inclusive) indicating which semantically similar group they belong to."
      ]
    },
    {
      "attachments": {},
      "cell_type": "markdown",
      "metadata": {
        "id": "21rNsFMHo8hO"
      },
      "source": [
        "## Step 3: Summarize the complaints"
      ]
    },
    {
      "attachments": {},
      "cell_type": "markdown",
      "metadata": {},
      "source": [
        "Build prompts"
      ]
    },
    {
      "cell_type": "code",
      "execution_count": 18,
      "metadata": {
        "id": "2E7wXM_jGqo6"
      },
      "outputs": [
        {
          "data": {
            "text/html": [
              "Query job 5ba8559f-4730-422f-93d4-0743418573bb is DONE. 1.3 GB processed. <a target=\"_blank\" href=\"https://console.cloud.google.com/bigquery?project=bigframes-dev&j=bq:US:5ba8559f-4730-422f-93d4-0743418573bb&page=queryresults\">Open Job</a>"
            ],
            "text/plain": [
              "<IPython.core.display.HTML object>"
            ]
          },
          "metadata": {},
          "output_type": "display_data"
        },
        {
          "data": {
            "text/html": [
              "Query job ed452d2f-3d9d-4eaa-95b5-4227275d01bd is DONE. 1.3 GB processed. <a target=\"_blank\" href=\"https://console.cloud.google.com/bigquery?project=bigframes-dev&j=bq:US:ed452d2f-3d9d-4eaa-95b5-4227275d01bd&page=queryresults\">Open Job</a>"
            ],
            "text/plain": [
              "<IPython.core.display.HTML object>"
            ]
          },
          "metadata": {},
          "output_type": "display_data"
        }
      ],
      "source": [
        "# Using bigframes, with syntax identical to pandas,\n",
        "# filter out the first and second groups\n",
        "cluster_1_result = combined_clustered_result[\n",
        "    combined_clustered_result[\"CENTROID_ID\"] == 1\n",
        "][[\"consumer_complaint_narrative\"]]\n",
        "cluster_1_result_pandas = cluster_1_result.head(5).to_pandas()\n",
        "\n",
        "cluster_2_result = combined_clustered_result[\n",
        "    combined_clustered_result[\"CENTROID_ID\"] == 2\n",
        "][[\"consumer_complaint_narrative\"]]\n",
        "cluster_2_result_pandas = cluster_2_result.head(5).to_pandas()"
      ]
    },
    {
      "cell_type": "code",
      "execution_count": 19,
      "metadata": {
        "id": "ZNDiueI9IP5e"
      },
      "outputs": [
        {
          "name": "stdout",
          "output_type": "stream",
          "text": [
            "comment list 1:\n",
            "1. On or about XXXX XXXX, 2016, I submitted to my servicer a loan modification request. They accepted and when I called back approximately two weeks later, Ocwen told me very rudely that they can not accept my request for workout assistance because the owner of the loan does not participate in modifications. They are not offering me any sort of options to foreclosure. How can the investor not abide by California laws designed to help people who are in distress. Also, each time I call Ocwen they are very rude and I have asked for Spanish speaking agents and they flat out tell me there is none. I believe Ocwen is headquartered XXXX and they simply do not understand Ca laws, nor that they are discriminating against people like me who feel more comfortable to speak in native tongue.\n",
            "2. I have a mortgage loan which is interest only and the balance is {$700000.00}. The interest rate is 5.75 and since the real estate market crash of XX/XX/XXXX/XX/XX/XXXX I have been trying to get it refinanced to the much lower rates that mortgages have been at since then. My mortgage lender is Bank of America. Everytime I have asked them to refinance the loan, they say that my debt/income ratio is high and they can not do it. \n",
            "\n",
            "That is ridicules since for the past 9 years I have been able to make my payments at 5.75 % rate and they tell me that I do n't qualify to make the payments at 3 to 3.5 % rates. \n",
            "\n",
            "Of course by delaying this matter for years they have benefited nicely by collecting 5.75 % on a good size mortgage.\n",
            "3. I have signed the refinance paperwork with PrimeChoiceFunding Mortgage on XX/XX/XXXX for a XXXX  days lock based on the advertisement flyer that came in the mail in XXXX of XXXX. As of today XX/XX/XXXX XXXX 3 months later ) I have not received any updates on my closing date and have not been able to receive any updates on the status of my file. It is misleading to keep the consumer on hold for such a long period of time with no updates and no end date after offering a XXXX  days lock in. It is a desperate situation. Please assist.\n",
            "4. Our loan had been transferred to Freedom Mortgage, we were on a biweekly payment plan as we wanted to payoff the loan faster. We ended up moving from XXXX Texas to XXXX and sold the home. During closing a payoff amount was requested and we contacted them to notify that the loan would close on XX/XX/XXXX and the payment for XX/XX/XXXX would be included in the payoff amount. A represenative told us this was normal practice and so we went on to close the loan on the XX/XX/XXXX. Once the loan was closed and paid in full, we began looking for a new home in our new XXXX of XXXX. Come to find out our credit had been dinged badly due to Freedom Mortgage saying we had missed XXXX payments!!! WHAT?? I immediately got on the phone to find out what was going on. After countless phone calls and talking to representatives and waiting for supervisor call backs ... .still they can not put me through to anyone who has the authority to look into the matter and realize that NO payments were missed and the loan is closed and paid in Full!! This has prevented us from looking for and applying for a new mortgage. This is by far the worst handling of a situation where a client who has always been in good standing and has completely paid their loan in full, is being completely discredited by a mistake from their company!! It completely disrupts peoples lives!!\n",
            "5. My USDA mortgage loan is currently serviced by Carrington Mortgage Services ( CMS ). CMS claims that the total amount past due is {$14000.00}. The alleged claim is for 14 payments. CMS alleges that {$3400.00} were transferred in late fees from XXXX. XXXX has advised there were no late fees compiled when the loan was transferred in XX/XX/XXXX. CMS is clearly trying to over collect on the amount due, so they can push the bill to the USDA for payment. I have also applied for a loan modification on numerous occasions and CMS has refused to submit the modification requests for underwriting to the USDA. Since the USDA is the investor and insures the loan, they would be issuing a partial claim to help fund the loan modification. Since the USDA is unaware of the partial claim, they were clearly in the dark on the loan modification process. CMS is in clear violation of the False Claims Act ( FCA ), 31 USC 3729 - 3733, since they knowingly withheld information and reported false records to a Federal Government Agency. CMS also has an obligation to process the loan modification with transparency and clarity per the National Mortgage Settlement of XX/XX/XXXX. CMS has refused to cooperate and has set a foreclosure sale date of XX/XX/XXXX. Based on the violations listed herein, I am seeking your assistance on this matter.\n",
            "\n",
            "comment list 2:\n",
            "1. Someone has used my information trying to apply for credit I have notified transunion they have not removed the false information. \n",
            "XXXX. XXXX XXXX XX/XX/XXXX. \n",
            "XXXX XXXX XXXX XX/XX/XXXX. \n",
            "XXXX. XXXX XXXX XXXX XX/XX/XXXX XXXX. XXXX XXXX XX/XX/XXXX XXXX XXXX XX/XX/XXXX XXXX. XXXX XXXX XX/XX/XXXX XXXX XXXX XXXX XXXXXXXX XX/XX/XXXX XXXX. XXXX XXXX XX/XX/XXXX XXXX. XXXX XXXX XX/XX/XXXX XXXX. XXXX XXXX XXXX XX/XX/XXXX XXXX XXXX  XX/XX/XXXX XXXX. XXXX XXXX XXXX XX/XX/XXXX XXXX\n",
            "2. Have reported numerous times identity theft. Last identity theft report was closed after phone was hacked. I have had current equifax account for about 2 years. Suddenly equifax will not let me log into my account without contacting a call center in XXXX and getting a password sent to my email from them. They sent me an email saying the issue was fixed. It is not fixed and Im tired of fighting with these people over my own social security number. This is a violation of fcra and my rights to lock me out of my own credit report. The person stealing my ssn is constantly doing this to save their own behind. Im tired of it and nothing is ever done. This has been going on since around XX/XX/2022 2022\n",
            "3. Equifax have placed my file in the consumer affairs department and refuses to block the fraudulent items that are on my credit report. Every time I call in to request they remove my credit file out of the fraud department, a lady by the name of XXXX XXXX is very rude and tell me it will remain in the consumer affairs department. There are fraudulent addresses and accounts that are on my file the department refuses to block and remove.\n",
            "4. I am having issues with a freeze on my file that is holding up my credit from reporting my accounts properly. I have a XXXX XXXX  and XXXX XXXX  account that is not reporting to my credit file. My name is XXXX XXXX SSN:XXXX DOB : XX/XX/1992 My addition address is XXXXXXXX XXXX XXXX   XXXX FL XXXX .\n",
            "5. I don't recognize this account. I never applied for it. I was victim of Identity Theft, somebody stole my personal information to open credit cards. Except as otherwise provided in this section, a consumer reporting agency shall block the reporting of any information in the file of a consumer that the consumer identifies as information that resulted from an alleged identity theft, not later than 4 business days after the date of receipt by such agency of ( 1 ) appropriate proof of the identity of the consumer ; ( 2 ) a copy of an identity theft report ; ( 3 ) the identification of such information by the consumer ; and ( 4 ) a statement by the consumer that the information is not information relating to any transaction by the consumer. ( b ) Notification. A consumer reporting agency shall promptly notify the furnisher of information identified by the consumer under subsection ( a ) of this section ( 1 ) that the information may be a result of identity theft ; ( 2 ) that an identity theft report has been filed ; ( 3 ) that a block has been requested under this section ; and ( 4 ) of the effective dates of the block. ( c ) Authority to decline or rescind. ( 1 ) In general. A consumer reporting agency may decline to block, or may rescind any block, of information relating to a consumer under this section, if the consumer reporting agency reasonably determines that ( A ) the information was blocked in error or a block was requested by the consumer in error ; ( B ) the information was blocked, or a block was requested by the consumer, on the basis of a material misrepresentation of fact by the consumer relevant to the request to block ; or ( C ) the consumer obtained possession of goods, services, or money as a result of the blocked transaction or transactions. ( 2 ) Notification to consumer. If a block of information is declined or rescinded under this subsection, the affected consumer shall be notified promptly, in the same manner as consumers are notified of the reinsertion of information under section 1681i ( a ) ( 5 ) ( B ) of this title. ( 3 ) Significance of block. For purposes of this subsection, if a consumer reporting agency rescinds a block, the presence of information in the file of a consumer prior to the blocking of such information is not evidence of whether the consumer knew or should have known that the consumer obtained possession of any goods, services, or money as a result of the block. ( d ) Exception for resellers. ( 1 ) No reseller file. This section shall not apply to a consumer reporting agency, if the consumer reporting agency ( A ) is a reseller ; ( B ) is not, at the time of the request of the consumer under subsection ( a ) of this section, otherwise furnishing or reselling a consumer report concerning the information identified by the consumer ; and ( C ) informs the consumer, by any means, that the consumer may report the identity theft to the Bureau to obtain consumer information regarding identity theft. ( 2 ) Reseller with file. The sole obligation of the consumer reporting agency under this section, with regard to any request of a consumer under this section, shall be to block the consumer report maintained by the consumer reporting agency from any subsequent use, if ( A ) the consumer, in accordance with the provisions of subsection ( a ) of this section, identifies, to a consumer reporting agency, information in the file of the consumer that resulted from identity theft ; and ( B ) the consumer reporting agency is a reseller of the identified information. ( 3 ) Notice. In carrying out its obligation under paragraph ( 2 ), the reseller shall promptly provide a notice to the consumer of the decision to block the file. Such notice shall contain the name, address, and telephone number of each consumer reporting agency from which the consumer information was obtained for resale. ( e ) Exception for verification companies. The provisions of this section do not apply to a check services company, acting as such, which issues authorizations for the purpose of approving or processing negotiable instruments, electronic fund transfers, or similar methods of payments, except that, beginning 4 business days after receipt of information described in paragraphs ( 1 ) through ( 3 ) of subsection ( a ) of this section, a check services company shall not report to a national consumer reporting agency described in section 1681a ( p ) of this title, any information identified in the subject identity theft report as resulting from identity theft. ( f ) Access to blocked information by law enforcement agencies. No provision of this section shall be construed as requiring a consumer reporting agency to prevent a Federal, State, or local law enforcement agency from accessing blocked information in a consumer file to which the agency could otherwise obtain  access under this subchapter.\n",
            "\n"
          ]
        }
      ],
      "source": [
        "# Build plain-text prompts to send to PaLM 2. Use only 5 complaints from each group.\n",
        "prompt1 = 'comment list 1:\\n'\n",
        "for i in range(5):\n",
        "    prompt1 += str(i + 1) + '. ' + \\\n",
        "        cluster_1_result_pandas[\"consumer_complaint_narrative\"].iloc[i] + '\\n'\n",
        "\n",
        "prompt2 = 'comment list 2:\\n'\n",
        "for i in range(5):\n",
        "    prompt2 += str(i + 1) + '. ' + \\\n",
        "        cluster_2_result_pandas[\"consumer_complaint_narrative\"].iloc[i] + '\\n'\n",
        "\n",
        "print(prompt1)\n",
        "print(prompt2)\n"
      ]
    },
    {
      "cell_type": "code",
      "execution_count": 20,
      "metadata": {
        "id": "BfHGJLirzSvH"
      },
      "outputs": [
        {
          "name": "stdout",
          "output_type": "stream",
          "text": [
            "Please highlight the most obvious difference betweenthe two lists of comments:\n",
            "comment list 1:\n",
            "1. On or about XXXX XXXX, 2016, I submitted to my servicer a loan modification request. They accepted and when I called back approximately two weeks later, Ocwen told me very rudely that they can not accept my request for workout assistance because the owner of the loan does not participate in modifications. They are not offering me any sort of options to foreclosure. How can the investor not abide by California laws designed to help people who are in distress. Also, each time I call Ocwen they are very rude and I have asked for Spanish speaking agents and they flat out tell me there is none. I believe Ocwen is headquartered XXXX and they simply do not understand Ca laws, nor that they are discriminating against people like me who feel more comfortable to speak in native tongue.\n",
            "2. I have a mortgage loan which is interest only and the balance is {$700000.00}. The interest rate is 5.75 and since the real estate market crash of XX/XX/XXXX/XX/XX/XXXX I have been trying to get it refinanced to the much lower rates that mortgages have been at since then. My mortgage lender is Bank of America. Everytime I have asked them to refinance the loan, they say that my debt/income ratio is high and they can not do it. \n",
            "\n",
            "That is ridicules since for the past 9 years I have been able to make my payments at 5.75 % rate and they tell me that I do n't qualify to make the payments at 3 to 3.5 % rates. \n",
            "\n",
            "Of course by delaying this matter for years they have benefited nicely by collecting 5.75 % on a good size mortgage.\n",
            "3. I have signed the refinance paperwork with PrimeChoiceFunding Mortgage on XX/XX/XXXX for a XXXX  days lock based on the advertisement flyer that came in the mail in XXXX of XXXX. As of today XX/XX/XXXX XXXX 3 months later ) I have not received any updates on my closing date and have not been able to receive any updates on the status of my file. It is misleading to keep the consumer on hold for such a long period of time with no updates and no end date after offering a XXXX  days lock in. It is a desperate situation. Please assist.\n",
            "4. Our loan had been transferred to Freedom Mortgage, we were on a biweekly payment plan as we wanted to payoff the loan faster. We ended up moving from XXXX Texas to XXXX and sold the home. During closing a payoff amount was requested and we contacted them to notify that the loan would close on XX/XX/XXXX and the payment for XX/XX/XXXX would be included in the payoff amount. A represenative told us this was normal practice and so we went on to close the loan on the XX/XX/XXXX. Once the loan was closed and paid in full, we began looking for a new home in our new XXXX of XXXX. Come to find out our credit had been dinged badly due to Freedom Mortgage saying we had missed XXXX payments!!! WHAT?? I immediately got on the phone to find out what was going on. After countless phone calls and talking to representatives and waiting for supervisor call backs ... .still they can not put me through to anyone who has the authority to look into the matter and realize that NO payments were missed and the loan is closed and paid in Full!! This has prevented us from looking for and applying for a new mortgage. This is by far the worst handling of a situation where a client who has always been in good standing and has completely paid their loan in full, is being completely discredited by a mistake from their company!! It completely disrupts peoples lives!!\n",
            "5. My USDA mortgage loan is currently serviced by Carrington Mortgage Services ( CMS ). CMS claims that the total amount past due is {$14000.00}. The alleged claim is for 14 payments. CMS alleges that {$3400.00} were transferred in late fees from XXXX. XXXX has advised there were no late fees compiled when the loan was transferred in XX/XX/XXXX. CMS is clearly trying to over collect on the amount due, so they can push the bill to the USDA for payment. I have also applied for a loan modification on numerous occasions and CMS has refused to submit the modification requests for underwriting to the USDA. Since the USDA is the investor and insures the loan, they would be issuing a partial claim to help fund the loan modification. Since the USDA is unaware of the partial claim, they were clearly in the dark on the loan modification process. CMS is in clear violation of the False Claims Act ( FCA ), 31 USC 3729 - 3733, since they knowingly withheld information and reported false records to a Federal Government Agency. CMS also has an obligation to process the loan modification with transparency and clarity per the National Mortgage Settlement of XX/XX/XXXX. CMS has refused to cooperate and has set a foreclosure sale date of XX/XX/XXXX. Based on the violations listed herein, I am seeking your assistance on this matter.\n",
            "comment list 2:\n",
            "1. Someone has used my information trying to apply for credit I have notified transunion they have not removed the false information. \n",
            "XXXX. XXXX XXXX XX/XX/XXXX. \n",
            "XXXX XXXX XXXX XX/XX/XXXX. \n",
            "XXXX. XXXX XXXX XXXX XX/XX/XXXX XXXX. XXXX XXXX XX/XX/XXXX XXXX XXXX XX/XX/XXXX XXXX. XXXX XXXX XX/XX/XXXX XXXX XXXX XXXX XXXXXXXX XX/XX/XXXX XXXX. XXXX XXXX XX/XX/XXXX XXXX. XXXX XXXX XX/XX/XXXX XXXX. XXXX XXXX XXXX XX/XX/XXXX XXXX XXXX  XX/XX/XXXX XXXX. XXXX XXXX XXXX XX/XX/XXXX XXXX\n",
            "2. Have reported numerous times identity theft. Last identity theft report was closed after phone was hacked. I have had current equifax account for about 2 years. Suddenly equifax will not let me log into my account without contacting a call center in XXXX and getting a password sent to my email from them. They sent me an email saying the issue was fixed. It is not fixed and Im tired of fighting with these people over my own social security number. This is a violation of fcra and my rights to lock me out of my own credit report. The person stealing my ssn is constantly doing this to save their own behind. Im tired of it and nothing is ever done. This has been going on since around XX/XX/2022 2022\n",
            "3. Equifax have placed my file in the consumer affairs department and refuses to block the fraudulent items that are on my credit report. Every time I call in to request they remove my credit file out of the fraud department, a lady by the name of XXXX XXXX is very rude and tell me it will remain in the consumer affairs department. There are fraudulent addresses and accounts that are on my file the department refuses to block and remove.\n",
            "4. I am having issues with a freeze on my file that is holding up my credit from reporting my accounts properly. I have a XXXX XXXX  and XXXX XXXX  account that is not reporting to my credit file. My name is XXXX XXXX SSN:XXXX DOB : XX/XX/1992 My addition address is XXXXXXXX XXXX XXXX   XXXX FL XXXX .\n",
            "5. I don't recognize this account. I never applied for it. I was victim of Identity Theft, somebody stole my personal information to open credit cards. Except as otherwise provided in this section, a consumer reporting agency shall block the reporting of any information in the file of a consumer that the consumer identifies as information that resulted from an alleged identity theft, not later than 4 business days after the date of receipt by such agency of ( 1 ) appropriate proof of the identity of the consumer ; ( 2 ) a copy of an identity theft report ; ( 3 ) the identification of such information by the consumer ; and ( 4 ) a statement by the consumer that the information is not information relating to any transaction by the consumer. ( b ) Notification. A consumer reporting agency shall promptly notify the furnisher of information identified by the consumer under subsection ( a ) of this section ( 1 ) that the information may be a result of identity theft ; ( 2 ) that an identity theft report has been filed ; ( 3 ) that a block has been requested under this section ; and ( 4 ) of the effective dates of the block. ( c ) Authority to decline or rescind. ( 1 ) In general. A consumer reporting agency may decline to block, or may rescind any block, of information relating to a consumer under this section, if the consumer reporting agency reasonably determines that ( A ) the information was blocked in error or a block was requested by the consumer in error ; ( B ) the information was blocked, or a block was requested by the consumer, on the basis of a material misrepresentation of fact by the consumer relevant to the request to block ; or ( C ) the consumer obtained possession of goods, services, or money as a result of the blocked transaction or transactions. ( 2 ) Notification to consumer. If a block of information is declined or rescinded under this subsection, the affected consumer shall be notified promptly, in the same manner as consumers are notified of the reinsertion of information under section 1681i ( a ) ( 5 ) ( B ) of this title. ( 3 ) Significance of block. For purposes of this subsection, if a consumer reporting agency rescinds a block, the presence of information in the file of a consumer prior to the blocking of such information is not evidence of whether the consumer knew or should have known that the consumer obtained possession of any goods, services, or money as a result of the block. ( d ) Exception for resellers. ( 1 ) No reseller file. This section shall not apply to a consumer reporting agency, if the consumer reporting agency ( A ) is a reseller ; ( B ) is not, at the time of the request of the consumer under subsection ( a ) of this section, otherwise furnishing or reselling a consumer report concerning the information identified by the consumer ; and ( C ) informs the consumer, by any means, that the consumer may report the identity theft to the Bureau to obtain consumer information regarding identity theft. ( 2 ) Reseller with file. The sole obligation of the consumer reporting agency under this section, with regard to any request of a consumer under this section, shall be to block the consumer report maintained by the consumer reporting agency from any subsequent use, if ( A ) the consumer, in accordance with the provisions of subsection ( a ) of this section, identifies, to a consumer reporting agency, information in the file of the consumer that resulted from identity theft ; and ( B ) the consumer reporting agency is a reseller of the identified information. ( 3 ) Notice. In carrying out its obligation under paragraph ( 2 ), the reseller shall promptly provide a notice to the consumer of the decision to block the file. Such notice shall contain the name, address, and telephone number of each consumer reporting agency from which the consumer information was obtained for resale. ( e ) Exception for verification companies. The provisions of this section do not apply to a check services company, acting as such, which issues authorizations for the purpose of approving or processing negotiable instruments, electronic fund transfers, or similar methods of payments, except that, beginning 4 business days after receipt of information described in paragraphs ( 1 ) through ( 3 ) of subsection ( a ) of this section, a check services company shall not report to a national consumer reporting agency described in section 1681a ( p ) of this title, any information identified in the subject identity theft report as resulting from identity theft. ( f ) Access to blocked information by law enforcement agencies. No provision of this section shall be construed as requiring a consumer reporting agency to prevent a Federal, State, or local law enforcement agency from accessing blocked information in a consumer file to which the agency could otherwise obtain  access under this subchapter.\n",
            "\n"
          ]
        }
      ],
      "source": [
        "# The plain English request we will make of PaLM 2\n",
        "prompt = (\n",
        "    \"Please highlight the most obvious difference between\"\n",
        "    \"the two lists of comments:\\n\" + prompt1 + prompt2\n",
        ")\n",
        "print(prompt)"
      ]
    },
    {
      "attachments": {},
      "cell_type": "markdown",
      "metadata": {},
      "source": [
        "Get a response from PaLM 2 LLM"
      ]
    },
    {
      "cell_type": "code",
      "execution_count": 21,
      "metadata": {
        "id": "mL5P0_3X04dE"
      },
      "outputs": [
        {
          "ename": "PermissionDenied",
          "evalue": "403 Permission 'resourcemanager.projects.setIamPolicy' denied on resource '//cloudresourcemanager.googleapis.com/projects/bigframes-dev' (or it may not exist). [reason: \"IAM_PERMISSION_DENIED\"\ndomain: \"cloudresourcemanager.googleapis.com\"\nmetadata {\n  key: \"resource\"\n  value: \"projects/bigframes-dev\"\n}\nmetadata {\n  key: \"permission\"\n  value: \"resourcemanager.projects.setIamPolicy\"\n}\n]",
          "output_type": "error",
          "traceback": [
            "\u001b[0;31m---------------------------------------------------------------------------\u001b[0m",
            "\u001b[0;31m_InactiveRpcError\u001b[0m                         Traceback (most recent call last)",
            "File \u001b[0;32m~/bq/src/bigframes/venv/lib/python3.9/site-packages/google/api_core/grpc_helpers.py:72\u001b[0m, in \u001b[0;36m_wrap_unary_errors.<locals>.error_remapped_callable\u001b[0;34m(*args, **kwargs)\u001b[0m\n\u001b[1;32m     71\u001b[0m \u001b[39mtry\u001b[39;00m:\n\u001b[0;32m---> 72\u001b[0m     \u001b[39mreturn\u001b[39;00m callable_(\u001b[39m*\u001b[39;49margs, \u001b[39m*\u001b[39;49m\u001b[39m*\u001b[39;49mkwargs)\n\u001b[1;32m     73\u001b[0m \u001b[39mexcept\u001b[39;00m grpc\u001b[39m.\u001b[39mRpcError \u001b[39mas\u001b[39;00m exc:\n",
            "File \u001b[0;32m~/bq/src/bigframes/venv/lib/python3.9/site-packages/grpc/_channel.py:1030\u001b[0m, in \u001b[0;36m_UnaryUnaryMultiCallable.__call__\u001b[0;34m(self, request, timeout, metadata, credentials, wait_for_ready, compression)\u001b[0m\n\u001b[1;32m   1028\u001b[0m state, call, \u001b[39m=\u001b[39m \u001b[39mself\u001b[39m\u001b[39m.\u001b[39m_blocking(request, timeout, metadata, credentials,\n\u001b[1;32m   1029\u001b[0m                               wait_for_ready, compression)\n\u001b[0;32m-> 1030\u001b[0m \u001b[39mreturn\u001b[39;00m _end_unary_response_blocking(state, call, \u001b[39mFalse\u001b[39;49;00m, \u001b[39mNone\u001b[39;49;00m)\n",
            "File \u001b[0;32m~/bq/src/bigframes/venv/lib/python3.9/site-packages/grpc/_channel.py:910\u001b[0m, in \u001b[0;36m_end_unary_response_blocking\u001b[0;34m(state, call, with_call, deadline)\u001b[0m\n\u001b[1;32m    909\u001b[0m \u001b[39melse\u001b[39;00m:\n\u001b[0;32m--> 910\u001b[0m     \u001b[39mraise\u001b[39;00m _InactiveRpcError(state)\n",
            "\u001b[0;31m_InactiveRpcError\u001b[0m: <_InactiveRpcError of RPC that terminated with:\n\tstatus = StatusCode.PERMISSION_DENIED\n\tdetails = \"Permission 'resourcemanager.projects.setIamPolicy' denied on resource '//cloudresourcemanager.googleapis.com/projects/bigframes-dev' (or it may not exist).\"\n\tdebug_error_string = \"UNKNOWN:Error received from peer ipv4:142.251.163.95:443 {grpc_message:\"Permission \\'resourcemanager.projects.setIamPolicy\\' denied on resource \\'//cloudresourcemanager.googleapis.com/projects/bigframes-dev\\' (or it may not exist).\", grpc_status:7, created_time:\"2023-11-08T20:49:43.954445252+00:00\"}\"\n>",
            "\nThe above exception was the direct cause of the following exception:\n",
            "\u001b[0;31mPermissionDenied\u001b[0m                          Traceback (most recent call last)",
            "Cell \u001b[0;32mIn[21], line 5\u001b[0m\n\u001b[1;32m      3\u001b[0m session \u001b[39m=\u001b[39m bf\u001b[39m.\u001b[39mget_global_session()\n\u001b[1;32m      4\u001b[0m connection \u001b[39m=\u001b[39m \u001b[39mf\u001b[39m\u001b[39m\"\u001b[39m\u001b[39m{\u001b[39;00mPROJECT_ID\u001b[39m}\u001b[39;00m\u001b[39m.\u001b[39m\u001b[39m{\u001b[39;00mREGION\u001b[39m}\u001b[39;00m\u001b[39m.\u001b[39m\u001b[39m{\u001b[39;00mCONN_NAME\u001b[39m}\u001b[39;00m\u001b[39m\"\u001b[39m\n\u001b[0;32m----> 5\u001b[0m q_a_model \u001b[39m=\u001b[39m PaLM2TextGenerator(session\u001b[39m=\u001b[39;49msession, connection_name\u001b[39m=\u001b[39;49mconnection)\n",
            "File \u001b[0;32m~/bq/src/bigframes/bigframes/ml/llm.py:72\u001b[0m, in \u001b[0;36mPaLM2TextGenerator.__init__\u001b[0;34m(self, model_name, session, connection_name)\u001b[0m\n\u001b[1;32m     65\u001b[0m \u001b[39mself\u001b[39m\u001b[39m.\u001b[39mconnection_name \u001b[39m=\u001b[39m \u001b[39mself\u001b[39m\u001b[39m.\u001b[39m_bq_connection_manager\u001b[39m.\u001b[39mresolve_full_connection_name(\n\u001b[1;32m     66\u001b[0m     connection_name,\n\u001b[1;32m     67\u001b[0m     default_project\u001b[39m=\u001b[39m\u001b[39mself\u001b[39m\u001b[39m.\u001b[39msession\u001b[39m.\u001b[39m_project,\n\u001b[1;32m     68\u001b[0m     default_location\u001b[39m=\u001b[39m\u001b[39mself\u001b[39m\u001b[39m.\u001b[39msession\u001b[39m.\u001b[39m_location,\n\u001b[1;32m     69\u001b[0m )\n\u001b[1;32m     71\u001b[0m \u001b[39mself\u001b[39m\u001b[39m.\u001b[39m_bqml_model_factory \u001b[39m=\u001b[39m \u001b[39mglobals\u001b[39m\u001b[39m.\u001b[39mbqml_model_factory()\n\u001b[0;32m---> 72\u001b[0m \u001b[39mself\u001b[39m\u001b[39m.\u001b[39m_bqml_model: core\u001b[39m.\u001b[39mBqmlModel \u001b[39m=\u001b[39m \u001b[39mself\u001b[39;49m\u001b[39m.\u001b[39;49m_create_bqml_model()\n",
            "File \u001b[0;32m~/bq/src/bigframes/bigframes/ml/llm.py:85\u001b[0m, in \u001b[0;36mPaLM2TextGenerator._create_bqml_model\u001b[0;34m(self)\u001b[0m\n\u001b[1;32m     81\u001b[0m \u001b[39mif\u001b[39;00m \u001b[39mlen\u001b[39m(connection_name_parts) \u001b[39m!=\u001b[39m \u001b[39m3\u001b[39m:\n\u001b[1;32m     82\u001b[0m     \u001b[39mraise\u001b[39;00m \u001b[39mValueError\u001b[39;00m(\n\u001b[1;32m     83\u001b[0m         \u001b[39mf\u001b[39m\u001b[39m\"\u001b[39m\u001b[39mconnection_name must be of the format <PROJECT_NUMBER/PROJECT_ID>.<LOCATION>.<CONNECTION_ID>, got \u001b[39m\u001b[39m{\u001b[39;00m\u001b[39mself\u001b[39m\u001b[39m.\u001b[39mconnection_name\u001b[39m}\u001b[39;00m\u001b[39m.\u001b[39m\u001b[39m\"\u001b[39m\n\u001b[1;32m     84\u001b[0m     )\n\u001b[0;32m---> 85\u001b[0m \u001b[39mself\u001b[39;49m\u001b[39m.\u001b[39;49m_bq_connection_manager\u001b[39m.\u001b[39;49mcreate_bq_connection(\n\u001b[1;32m     86\u001b[0m     project_id\u001b[39m=\u001b[39;49mconnection_name_parts[\u001b[39m0\u001b[39;49m],\n\u001b[1;32m     87\u001b[0m     location\u001b[39m=\u001b[39;49mconnection_name_parts[\u001b[39m1\u001b[39;49m],\n\u001b[1;32m     88\u001b[0m     connection_id\u001b[39m=\u001b[39;49mconnection_name_parts[\u001b[39m2\u001b[39;49m],\n\u001b[1;32m     89\u001b[0m     iam_role\u001b[39m=\u001b[39;49m\u001b[39m\"\u001b[39;49m\u001b[39maiplatform.user\u001b[39;49m\u001b[39m\"\u001b[39;49m,\n\u001b[1;32m     90\u001b[0m )\n\u001b[1;32m     91\u001b[0m \u001b[39mif\u001b[39;00m \u001b[39mself\u001b[39m\u001b[39m.\u001b[39mmodel_name \u001b[39m==\u001b[39m \u001b[39m\"\u001b[39m\u001b[39mtext-bison\u001b[39m\u001b[39m\"\u001b[39m:\n\u001b[1;32m     92\u001b[0m     options \u001b[39m=\u001b[39m {\n\u001b[1;32m     93\u001b[0m         \u001b[39m\"\u001b[39m\u001b[39mremote_service_type\u001b[39m\u001b[39m\"\u001b[39m: _REMOTE_TEXT_GENERATOR_MODEL_CODE,\n\u001b[1;32m     94\u001b[0m     }\n",
            "File \u001b[0;32m~/bq/src/bigframes/bigframes/clients.py:100\u001b[0m, in \u001b[0;36mBqConnectionManager.create_bq_connection\u001b[0;34m(self, project_id, location, connection_id, iam_role)\u001b[0m\n\u001b[1;32m     97\u001b[0m service_account_id \u001b[39m=\u001b[39m cast(\u001b[39mstr\u001b[39m, service_account_id)\n\u001b[1;32m     98\u001b[0m \u001b[39m# Ensure IAM role on the BQ connection\u001b[39;00m\n\u001b[1;32m     99\u001b[0m \u001b[39m# https://cloud.google.com/bigquery/docs/reference/standard-sql/remote-functions#grant_permission_on_function\u001b[39;00m\n\u001b[0;32m--> 100\u001b[0m \u001b[39mself\u001b[39;49m\u001b[39m.\u001b[39;49m_ensure_iam_binding(project_id, service_account_id, iam_role)\n",
            "File \u001b[0;32m~/bq/src/bigframes/venv/lib/python3.9/site-packages/google/api_core/retry.py:349\u001b[0m, in \u001b[0;36mRetry.__call__.<locals>.retry_wrapped_func\u001b[0;34m(*args, **kwargs)\u001b[0m\n\u001b[1;32m    345\u001b[0m target \u001b[39m=\u001b[39m functools\u001b[39m.\u001b[39mpartial(func, \u001b[39m*\u001b[39margs, \u001b[39m*\u001b[39m\u001b[39m*\u001b[39mkwargs)\n\u001b[1;32m    346\u001b[0m sleep_generator \u001b[39m=\u001b[39m exponential_sleep_generator(\n\u001b[1;32m    347\u001b[0m     \u001b[39mself\u001b[39m\u001b[39m.\u001b[39m_initial, \u001b[39mself\u001b[39m\u001b[39m.\u001b[39m_maximum, multiplier\u001b[39m=\u001b[39m\u001b[39mself\u001b[39m\u001b[39m.\u001b[39m_multiplier\n\u001b[1;32m    348\u001b[0m )\n\u001b[0;32m--> 349\u001b[0m \u001b[39mreturn\u001b[39;00m retry_target(\n\u001b[1;32m    350\u001b[0m     target,\n\u001b[1;32m    351\u001b[0m     \u001b[39mself\u001b[39;49m\u001b[39m.\u001b[39;49m_predicate,\n\u001b[1;32m    352\u001b[0m     sleep_generator,\n\u001b[1;32m    353\u001b[0m     \u001b[39mself\u001b[39;49m\u001b[39m.\u001b[39;49m_timeout,\n\u001b[1;32m    354\u001b[0m     on_error\u001b[39m=\u001b[39;49mon_error,\n\u001b[1;32m    355\u001b[0m )\n",
            "File \u001b[0;32m~/bq/src/bigframes/venv/lib/python3.9/site-packages/google/api_core/retry.py:191\u001b[0m, in \u001b[0;36mretry_target\u001b[0;34m(target, predicate, sleep_generator, timeout, on_error, **kwargs)\u001b[0m\n\u001b[1;32m    189\u001b[0m \u001b[39mfor\u001b[39;00m sleep \u001b[39min\u001b[39;00m sleep_generator:\n\u001b[1;32m    190\u001b[0m     \u001b[39mtry\u001b[39;00m:\n\u001b[0;32m--> 191\u001b[0m         \u001b[39mreturn\u001b[39;00m target()\n\u001b[1;32m    193\u001b[0m     \u001b[39m# pylint: disable=broad-except\u001b[39;00m\n\u001b[1;32m    194\u001b[0m     \u001b[39m# This function explicitly must deal with broad exceptions.\u001b[39;00m\n\u001b[1;32m    195\u001b[0m     \u001b[39mexcept\u001b[39;00m \u001b[39mException\u001b[39;00m \u001b[39mas\u001b[39;00m exc:\n",
            "File \u001b[0;32m~/bq/src/bigframes/bigframes/clients.py:138\u001b[0m, in \u001b[0;36mBqConnectionManager._ensure_iam_binding\u001b[0;34m(self, project_id, service_account_id, iam_role)\u001b[0m\n\u001b[1;32m    136\u001b[0m policy\u001b[39m.\u001b[39mbindings\u001b[39m.\u001b[39mappend(new_binding)\n\u001b[1;32m    137\u001b[0m request \u001b[39m=\u001b[39m iam_policy_pb2\u001b[39m.\u001b[39mSetIamPolicyRequest(resource\u001b[39m=\u001b[39mproject, policy\u001b[39m=\u001b[39mpolicy)\n\u001b[0;32m--> 138\u001b[0m \u001b[39mself\u001b[39;49m\u001b[39m.\u001b[39;49m_cloud_resource_manager_client\u001b[39m.\u001b[39;49mset_iam_policy(request\u001b[39m=\u001b[39;49mrequest)\n\u001b[1;32m    140\u001b[0m \u001b[39m# We would wait for the IAM policy change to take effect\u001b[39;00m\n\u001b[1;32m    141\u001b[0m \u001b[39m# https://cloud.google.com/iam/docs/access-change-propagation\u001b[39;00m\n\u001b[1;32m    142\u001b[0m logger\u001b[39m.\u001b[39minfo(\n\u001b[1;32m    143\u001b[0m     \u001b[39mf\u001b[39m\u001b[39m\"\u001b[39m\u001b[39mWaiting \u001b[39m\u001b[39m{\u001b[39;00m\u001b[39mself\u001b[39m\u001b[39m.\u001b[39m_IAM_WAIT_SECONDS\u001b[39m}\u001b[39;00m\u001b[39m seconds for IAM to take effect..\u001b[39m\u001b[39m\"\u001b[39m\n\u001b[1;32m    144\u001b[0m )\n",
            "File \u001b[0;32m~/bq/src/bigframes/venv/lib/python3.9/site-packages/google/cloud/resourcemanager_v3/services/projects/client.py:1838\u001b[0m, in \u001b[0;36mProjectsClient.set_iam_policy\u001b[0;34m(self, request, resource, retry, timeout, metadata)\u001b[0m\n\u001b[1;32m   1833\u001b[0m metadata \u001b[39m=\u001b[39m \u001b[39mtuple\u001b[39m(metadata) \u001b[39m+\u001b[39m (\n\u001b[1;32m   1834\u001b[0m     gapic_v1\u001b[39m.\u001b[39mrouting_header\u001b[39m.\u001b[39mto_grpc_metadata(((\u001b[39m\"\u001b[39m\u001b[39mresource\u001b[39m\u001b[39m\"\u001b[39m, request\u001b[39m.\u001b[39mresource),)),\n\u001b[1;32m   1835\u001b[0m )\n\u001b[1;32m   1837\u001b[0m \u001b[39m# Send the request.\u001b[39;00m\n\u001b[0;32m-> 1838\u001b[0m response \u001b[39m=\u001b[39m rpc(\n\u001b[1;32m   1839\u001b[0m     request,\n\u001b[1;32m   1840\u001b[0m     retry\u001b[39m=\u001b[39;49mretry,\n\u001b[1;32m   1841\u001b[0m     timeout\u001b[39m=\u001b[39;49mtimeout,\n\u001b[1;32m   1842\u001b[0m     metadata\u001b[39m=\u001b[39;49mmetadata,\n\u001b[1;32m   1843\u001b[0m )\n\u001b[1;32m   1845\u001b[0m \u001b[39m# Done; return the response.\u001b[39;00m\n\u001b[1;32m   1846\u001b[0m \u001b[39mreturn\u001b[39;00m response\n",
            "File \u001b[0;32m~/bq/src/bigframes/venv/lib/python3.9/site-packages/google/api_core/gapic_v1/method.py:113\u001b[0m, in \u001b[0;36m_GapicCallable.__call__\u001b[0;34m(self, timeout, retry, *args, **kwargs)\u001b[0m\n\u001b[1;32m    110\u001b[0m     metadata\u001b[39m.\u001b[39mextend(\u001b[39mself\u001b[39m\u001b[39m.\u001b[39m_metadata)\n\u001b[1;32m    111\u001b[0m     kwargs[\u001b[39m\"\u001b[39m\u001b[39mmetadata\u001b[39m\u001b[39m\"\u001b[39m] \u001b[39m=\u001b[39m metadata\n\u001b[0;32m--> 113\u001b[0m \u001b[39mreturn\u001b[39;00m wrapped_func(\u001b[39m*\u001b[39;49margs, \u001b[39m*\u001b[39;49m\u001b[39m*\u001b[39;49mkwargs)\n",
            "File \u001b[0;32m~/bq/src/bigframes/venv/lib/python3.9/site-packages/google/api_core/timeout.py:120\u001b[0m, in \u001b[0;36mTimeToDeadlineTimeout.__call__.<locals>.func_with_timeout\u001b[0;34m(*args, **kwargs)\u001b[0m\n\u001b[1;32m    117\u001b[0m     \u001b[39m# Avoid setting negative timeout\u001b[39;00m\n\u001b[1;32m    118\u001b[0m     kwargs[\u001b[39m\"\u001b[39m\u001b[39mtimeout\u001b[39m\u001b[39m\"\u001b[39m] \u001b[39m=\u001b[39m \u001b[39mmax\u001b[39m(\u001b[39m0\u001b[39m, \u001b[39mself\u001b[39m\u001b[39m.\u001b[39m_timeout \u001b[39m-\u001b[39m time_since_first_attempt)\n\u001b[0;32m--> 120\u001b[0m \u001b[39mreturn\u001b[39;00m func(\u001b[39m*\u001b[39;49margs, \u001b[39m*\u001b[39;49m\u001b[39m*\u001b[39;49mkwargs)\n",
            "File \u001b[0;32m~/bq/src/bigframes/venv/lib/python3.9/site-packages/google/api_core/grpc_helpers.py:74\u001b[0m, in \u001b[0;36m_wrap_unary_errors.<locals>.error_remapped_callable\u001b[0;34m(*args, **kwargs)\u001b[0m\n\u001b[1;32m     72\u001b[0m     \u001b[39mreturn\u001b[39;00m callable_(\u001b[39m*\u001b[39margs, \u001b[39m*\u001b[39m\u001b[39m*\u001b[39mkwargs)\n\u001b[1;32m     73\u001b[0m \u001b[39mexcept\u001b[39;00m grpc\u001b[39m.\u001b[39mRpcError \u001b[39mas\u001b[39;00m exc:\n\u001b[0;32m---> 74\u001b[0m     \u001b[39mraise\u001b[39;00m exceptions\u001b[39m.\u001b[39mfrom_grpc_error(exc) \u001b[39mfrom\u001b[39;00m \u001b[39mexc\u001b[39;00m\n",
            "\u001b[0;31mPermissionDenied\u001b[0m: 403 Permission 'resourcemanager.projects.setIamPolicy' denied on resource '//cloudresourcemanager.googleapis.com/projects/bigframes-dev' (or it may not exist). [reason: \"IAM_PERMISSION_DENIED\"\ndomain: \"cloudresourcemanager.googleapis.com\"\nmetadata {\n  key: \"resource\"\n  value: \"projects/bigframes-dev\"\n}\nmetadata {\n  key: \"permission\"\n  value: \"resourcemanager.projects.setIamPolicy\"\n}\n]"
          ]
        }
      ],
      "source": [
        "from bigframes.ml.llm import PaLM2TextGenerator\n",
        "\n",
        "session = bf.get_global_session()\n",
        "connection = f\"{PROJECT_ID}.{REGION}.{CONN_NAME}\"\n",
        "q_a_model = PaLM2TextGenerator(session=session, connection_name=connection)"
      ]
    },
    {
      "cell_type": "code",
      "execution_count": null,
      "metadata": {
        "id": "ICWHsqAW1FNk"
      },
      "outputs": [],
      "source": [
        "# Make a DataFrame containing only a single row with our prompt for PaLM 2\n",
        "df = bf.DataFrame({\"prompt\": [prompt]})"
      ]
    },
    {
      "cell_type": "code",
      "execution_count": null,
      "metadata": {
        "id": "gB7e1LXU1pst"
      },
      "outputs": [],
      "source": [
        "# Send the request for PaLM 2 to generate a response to our prompt\n",
        "major_difference = q_a_model.predict(df)\n",
        "# PaLM 2's response is the only row in the dataframe result \n",
        "major_difference[\"ml_generate_text_llm_result\"].iloc[0]"
      ]
    },
    {
      "attachments": {},
      "cell_type": "markdown",
      "metadata": {},
      "source": [
        "We now see PaLM2TextGenerator's characterization of the different comment groups. Thanks for using BigQuery DataFrames!"
      ]
    }
  ],
  "metadata": {
    "colab": {
      "provenance": []
    },
    "kernelspec": {
      "display_name": "Python 3",
      "name": "python3"
    },
    "language_info": {
      "codemirror_mode": {
        "name": "ipython",
        "version": 3
      },
      "file_extension": ".py",
      "mimetype": "text/x-python",
      "name": "python",
      "nbconvert_exporter": "python",
      "pygments_lexer": "ipython3",
      "version": "3.9.16"
    }
  },
  "nbformat": 4,
  "nbformat_minor": 0
}
