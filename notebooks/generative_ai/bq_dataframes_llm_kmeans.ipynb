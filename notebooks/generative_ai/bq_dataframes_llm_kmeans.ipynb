{
 "cells": [
  {
   "cell_type": "code",
   "execution_count": 1,
   "metadata": {},
   "outputs": [],
   "source": [
    "# Copyright 2023 Google LLC\n",
    "#\n",
    "# Licensed under the Apache License, Version 2.0 (the \"License\");\n",
    "# you may not use this file except in compliance with the License.\n",
    "# You may obtain a copy of the License at\n",
    "#\n",
    "#     https://www.apache.org/licenses/LICENSE-2.0\n",
    "#\n",
    "# Unless required by applicable law or agreed to in writing, software\n",
    "# distributed under the License is distributed on an \"AS IS\" BASIS,\n",
    "# WITHOUT WARRANTIES OR CONDITIONS OF ANY KIND, either express or implied.\n",
    "# See the License for the specific language governing permissions and\n",
    "# limitations under the License."
   ]
  },
  {
   "attachments": {},
   "cell_type": "markdown",
   "metadata": {},
   "source": [
    "## Use BigQuery DataFrames to cluster and characterize complaints\n",
    "\n",
    "<table align=\"left\">\n",
    "\n",
    "  <td>\n",
    "    <a href=\"https://colab.research.google.com/github/googleapis/python-bigquery-dataframes/blob/main/notebooks/generative_ai/bq_dataframes_llm_kmeans.ipynb\">\n",
    "      <img src=\"https://cloud.google.com/ml-engine/images/colab-logo-32px.png\" alt=\"Colab logo\"> Run in Colab\n",
    "    </a>\n",
    "  </td>\n",
    "  <td>\n",
    "    <a href=\"https://github.com/googleapis/python-bigquery-dataframes/tree/main/notebooks/generative_ai/bq_dataframes_llm_kmeans.ipynb\">\n",
    "      <img src=\"https://cloud.google.com/ml-engine/images/github-logo-32px.png\" alt=\"GitHub logo\">\n",
    "      View on GitHub\n",
    "    </a>\n",
    "  </td>\n",
    "  <td>\n",
    "    <a href=\"https://console.cloud.google.com/vertex-ai/workbench/deploy-notebook?download_url=https://raw.githubusercontent.com/googleapis/python-bigquery-dataframes/tree/main/notebooks/generative_ai/bq_dataframes_llm_kmeans.ipynb\">\n",
    "      <img src=\"https://lh3.googleusercontent.com/UiNooY4LUgW_oTvpsNhPpQzsstV5W8F7rYgxgGBD85cWJoLmrOzhVs_ksK_vgx40SHs7jCqkTkCk=e14-rj-sc0xffffff-h130-w32\" alt=\"Vertex AI logo\">\n",
    "      Open in Vertex AI Workbench\n",
    "    </a>\n",
    "  </td>                                                                                               \n",
    "</table>"
   ]
  },
  {
   "attachments": {},
   "cell_type": "markdown",
   "metadata": {},
   "source": [
    "## Overview\n",
    "\n",
    "The goal of this notebook is to demonstrate a comment characterization algorithm for an online business. We will accomplish this using [Google's PaLM 2](https://ai.google/discover/palm2/) and [KMeans clustering](https://en.wikipedia.org/wiki/K-means_clustering) in three steps:\n",
    "\n",
    "1. Use PaLM2TextEmbeddingGenerator to [generate text embeddings](https://cloud.google.com/vertex-ai/docs/generative-ai/embeddings/get-text-embeddings) for each of 10000 complaints sent to an online bank. If you're not familiar with what a text embedding is, it's a list of numbers that are like coordinates in an imaginary \"meaning space\" for sentences. (It's like [word embeddings](https://en.wikipedia.org/wiki/Word_embedding), but for more general text.) The important point for our purposes is that similar sentences are close to each other in this imaginary space.\n",
    "2. Use KMeans clustering to group together complaints whose text embeddings are near to eachother. This will give us sets of similar complaints, but we don't yet know _why_ these complaints are similar.\n",
    "3. Prompt GeminiTextGenerator in English asking what the difference is between the groups of complaints that we got. Thanks to the power of modern LLMs, the response might give us a very good idea of what these complaints are all about, but remember to [\"understand the limits of your dataset and model.\"](https://ai.google/responsibility/responsible-ai-practices/#:~:text=Understand%20the%20limitations%20of%20your%20dataset%20and%20model)\n",
    "\n",
    "We will tie these pieces together in Python using BigQuery DataFrames. [Click here](https://cloud.google.com/bigquery/docs/dataframes-quickstart) to learn more about BigQuery DataFrames!"
   ]
  },
  {
   "attachments": {},
   "cell_type": "markdown",
   "metadata": {},
   "source": [
    "### Dataset\n",
    "\n",
    "This notebook uses the [CFPB Consumer Complaint Database](https://console.cloud.google.com/marketplace/product/cfpb/complaint-database)."
   ]
  },
  {
   "attachments": {},
   "cell_type": "markdown",
   "metadata": {},
   "source": [
    "### Costs\n",
    "\n",
    "This tutorial uses billable components of Google Cloud:\n",
    "\n",
    "* BigQuery (compute)\n",
    "* BigQuery ML\n",
    "* Generative AI support on Vertex AI\n",
    "\n",
    "Learn about [BigQuery compute pricing](https://cloud.google.com/bigquery/pricing#analysis_pricing_models), [Generative AI support on Vertex AI pricing](https://cloud.google.com/vertex-ai/pricing#generative_ai_models),\n",
    "and [BigQuery ML pricing](https://cloud.google.com/bigquery/pricing#bqml),\n",
    "and use the [Pricing Calculator](https://cloud.google.com/products/calculator/)\n",
    "to generate a cost estimate based on your projected usage."
   ]
  },
  {
   "attachments": {},
   "cell_type": "markdown",
   "metadata": {},
   "source": [
    "## Before you begin\n",
    "\n",
    "Complete the tasks in this section to set up your environment."
   ]
  },
  {
   "attachments": {},
   "cell_type": "markdown",
   "metadata": {},
   "source": [
    "### Set up your Google Cloud project\n",
    "\n",
    "**The following steps are required, regardless of your notebook environment.**\n",
    "\n",
    "1. [Select or create a Google Cloud project](https://console.cloud.google.com/cloud-resource-manager). When you first create an account, you get a $300 credit towards your compute/storage costs.\n",
    "\n",
    "2. [Make sure that billing is enabled for your project](https://cloud.google.com/billing/docs/how-to/modify-project).\n",
    "\n",
    "3. [Click here](https://console.cloud.google.com/flows/enableapi?apiid=bigquery.googleapis.com,bigqueryconnection.googleapis.com,aiplatform.googleapis.com) to enable the following APIs:\n",
    "\n",
    "  * BigQuery API\n",
    "  * BigQuery Connection API\n",
    "  * Vertex AI API\n",
    "\n",
    "4. If you are running this notebook locally, install the [Cloud SDK](https://cloud.google.com/sdk)."
   ]
  },
  {
   "attachments": {},
   "cell_type": "markdown",
   "metadata": {},
   "source": [
    "#### Set your project ID\n",
    "\n",
    "**If you don't know your project ID**, see the support page: [Locate the project ID](https://support.google.com/googleapi/answer/7014113)"
   ]
  },
  {
   "cell_type": "code",
   "execution_count": 2,
   "metadata": {},
   "outputs": [],
   "source": [
    "# set your project ID below\n",
    "PROJECT_ID = \"\"  # @param {type:\"string\"}\n",
    "\n",
    "# Set the project id in gcloud\n",
    "#! gcloud config set project {PROJECT_ID}"
   ]
  },
  {
   "attachments": {},
   "cell_type": "markdown",
   "metadata": {},
   "source": [
    "#### Authenticate your Google Cloud account\n",
    "\n",
    "Depending on your Jupyter environment, you might have to manually authenticate. Follow the relevant instructions below."
   ]
  },
  {
   "attachments": {},
   "cell_type": "markdown",
   "metadata": {},
   "source": [
    "**Vertex AI Workbench**\n",
    "\n",
    "Do nothing, you are already authenticated."
   ]
  },
  {
   "attachments": {},
   "cell_type": "markdown",
   "metadata": {},
   "source": [
    "**Local JupyterLab instance**\n",
    "\n",
    "Uncomment and run the following cell:"
   ]
  },
  {
   "cell_type": "code",
   "execution_count": 3,
   "metadata": {},
   "outputs": [],
   "source": [
    "# ! gcloud auth login"
   ]
  },
  {
   "attachments": {},
   "cell_type": "markdown",
   "metadata": {},
   "source": [
    "**Colab**\n",
    "\n",
    "Uncomment and run the following cell:"
   ]
  },
  {
   "cell_type": "code",
   "execution_count": 4,
   "metadata": {},
   "outputs": [],
   "source": [
    "# from google.colab import auth\n",
    "# auth.authenticate_user()"
   ]
  },
  {
   "attachments": {},
   "cell_type": "markdown",
   "metadata": {},
   "source": [
    "Now we are ready to use BigQuery DataFrames!"
   ]
  },
  {
   "attachments": {},
   "cell_type": "markdown",
   "metadata": {
    "id": "xckgWno6ouHY"
   },
   "source": [
    "## Step 1: Text embedding "
   ]
  },
  {
   "attachments": {},
   "cell_type": "markdown",
   "metadata": {},
   "source": [
    "BigQuery DataFrames setup"
   ]
  },
  {
   "cell_type": "code",
   "execution_count": 5,
   "metadata": {
    "id": "R7STCS8xB5d2"
   },
   "outputs": [],
   "source": [
    "import bigframes.pandas as bf\n",
    "\n",
    "# Note: The project option is not required in all environments.\n",
    "# On BigQuery Studio, the project ID is automatically detected.\n",
    "bf.options.bigquery.project = PROJECT_ID"
   ]
  },
  {
   "attachments": {},
   "cell_type": "markdown",
   "metadata": {},
   "source": [
    "If you want to reset the location of the created DataFrame or Series objects, reset the session by executing `bf.close_session()`. After that, you can reuse `bf.options.bigquery.location` to specify another location."
   ]
  },
  {
   "attachments": {},
   "cell_type": "markdown",
   "metadata": {
    "id": "v6FGschEowht"
   },
   "source": [
    "Data Input - read the data from a publicly available BigQuery dataset"
   ]
  },
  {
   "cell_type": "code",
   "execution_count": 6,
   "metadata": {
    "id": "zDSwoBo1CU3G"
   },
   "outputs": [],
   "source": [
    "input_df = bf.read_gbq(\"bigquery-public-data.cfpb_complaints.complaint_database\")"
   ]
  },
  {
   "cell_type": "code",
   "execution_count": 7,
   "metadata": {
    "id": "tYDoaKgJChiq"
   },
   "outputs": [
    {
     "data": {
      "text/html": [
       "Query job d5778724-6966-42ba-b8a6-2a1865a1184c is DONE. 2.3 GB processed. <a target=\"_blank\" href=\"https://console.cloud.google.com/bigquery?project=bigframes-dev&j=bq:US:d5778724-6966-42ba-b8a6-2a1865a1184c&page=queryresults\">Open Job</a>"
      ],
      "text/plain": [
       "<IPython.core.display.HTML object>"
      ]
     },
     "metadata": {},
     "output_type": "display_data"
    },
    {
     "data": {
      "text/html": [
       "Query job 4d48bf69-571c-4773-8486-0232840597d5 is DONE. 55.1 MB processed. <a target=\"_blank\" href=\"https://console.cloud.google.com/bigquery?project=bigframes-dev&j=bq:US:4d48bf69-571c-4773-8486-0232840597d5&page=queryresults\">Open Job</a>"
      ],
      "text/plain": [
       "<IPython.core.display.HTML object>"
      ]
     },
     "metadata": {},
     "output_type": "display_data"
    },
    {
     "data": {
      "text/html": [
       "<div>\n",
       "<style scoped>\n",
       "    .dataframe tbody tr th:only-of-type {\n",
       "        vertical-align: middle;\n",
       "    }\n",
       "\n",
       "    .dataframe tbody tr th {\n",
       "        vertical-align: top;\n",
       "    }\n",
       "\n",
       "    .dataframe thead th {\n",
       "        text-align: right;\n",
       "    }\n",
       "</style>\n",
       "<table border=\"1\" class=\"dataframe\">\n",
       "  <thead>\n",
       "    <tr style=\"text-align: right;\">\n",
       "      <th></th>\n",
       "      <th>consumer_complaint_narrative</th>\n",
       "    </tr>\n",
       "  </thead>\n",
       "  <tbody>\n",
       "    <tr>\n",
       "      <th>24</th>\n",
       "      <td>I sent disputed to Transunion, XXXX and XXXX f...</td>\n",
       "    </tr>\n",
       "    <tr>\n",
       "      <th>942</th>\n",
       "      <td>on XX/XX/2017 I sent XXXX, transunion, XXXX pr...</td>\n",
       "    </tr>\n",
       "    <tr>\n",
       "      <th>1193</th>\n",
       "      <td>On Wednesday,  XXXX   XXXX , I initiated a wir...</td>\n",
       "    </tr>\n",
       "    <tr>\n",
       "      <th>1292</th>\n",
       "      <td>Dear Sir or Madam, I am a victim of identity t...</td>\n",
       "    </tr>\n",
       "    <tr>\n",
       "      <th>1377</th>\n",
       "      <td>For the purpose of this complaint, I will refe...</td>\n",
       "    </tr>\n",
       "  </tbody>\n",
       "</table>\n",
       "</div>"
      ],
      "text/plain": [
       "                           consumer_complaint_narrative\n",
       "24    I sent disputed to Transunion, XXXX and XXXX f...\n",
       "942   on XX/XX/2017 I sent XXXX, transunion, XXXX pr...\n",
       "1193  On Wednesday,  XXXX   XXXX , I initiated a wir...\n",
       "1292  Dear Sir or Madam, I am a victim of identity t...\n",
       "1377  For the purpose of this complaint, I will refe..."
      ]
     },
     "execution_count": 7,
     "metadata": {},
     "output_type": "execute_result"
    }
   ],
   "source": [
    "issues_df = input_df[[\"consumer_complaint_narrative\"]].dropna()\n",
    "issues_df.peek(n=5) # View an arbitrary five complaints"
   ]
  },
  {
   "attachments": {},
   "cell_type": "markdown",
   "metadata": {},
   "source": [
    "Downsample DataFrame to 10,000 records for model training."
   ]
  },
  {
   "cell_type": "code",
   "execution_count": 8,
   "metadata": {
    "id": "OltYSUEcsSOW"
   },
   "outputs": [],
   "source": [
    "# Choose 10,000 complaints randomly and store them in a column in a DataFrame\n",
    "downsampled_issues_df = issues_df.sample(n=10000)"
   ]
  },
  {
   "attachments": {},
   "cell_type": "markdown",
   "metadata": {
    "id": "Wl2o-NYMoygb"
   },
   "source": [
    "Generate the text embeddings"
   ]
  },
  {
   "cell_type": "code",
   "execution_count": 9,
   "metadata": {
    "id": "li38q8FzDDMu"
   },
   "outputs": [
    {
     "data": {
      "text/html": [
       "Query job 15b352c2-783c-42b1-bc03-e5772f00381a is DONE. 0 Bytes processed. <a target=\"_blank\" href=\"https://console.cloud.google.com/bigquery?project=bigframes-dev&j=bq:US:15b352c2-783c-42b1-bc03-e5772f00381a&page=queryresults\">Open Job</a>"
      ],
      "text/plain": [
       "<IPython.core.display.HTML object>"
      ]
     },
     "metadata": {},
     "output_type": "display_data"
    }
   ],
   "source": [
    "from bigframes.ml.llm import PaLM2TextEmbeddingGenerator\n",
    "\n",
    "model = PaLM2TextEmbeddingGenerator() # No connection id needed"
   ]
  },
  {
   "cell_type": "code",
   "execution_count": 10,
   "metadata": {
    "id": "cOuSOQ5FDewD"
   },
   "outputs": [
    {
     "data": {
      "text/html": [
       "Query job e2152e81-b736-4a68-a25a-c5eb2b03d734 is DONE. 1.3 GB processed. <a target=\"_blank\" href=\"https://console.cloud.google.com/bigquery?project=bigframes-dev&j=bq:US:e2152e81-b736-4a68-a25a-c5eb2b03d734&page=queryresults\">Open Job</a>"
      ],
      "text/plain": [
       "<IPython.core.display.HTML object>"
      ]
     },
     "metadata": {},
     "output_type": "display_data"
    },
    {
     "data": {
      "text/html": [
       "Query job b1a3d20b-aee3-424c-a0c5-5b36f1177709 is DONE. 80.0 kB processed. <a target=\"_blank\" href=\"https://console.cloud.google.com/bigquery?project=bigframes-dev&j=bq:US:b1a3d20b-aee3-424c-a0c5-5b36f1177709&page=queryresults\">Open Job</a>"
      ],
      "text/plain": [
       "<IPython.core.display.HTML object>"
      ]
     },
     "metadata": {},
     "output_type": "display_data"
    },
    {
     "data": {
      "text/html": [
       "Query job 6b2fad50-cbc8-42ea-83c1-b5d3eaac10b9 is DONE. 20.0 kB processed. <a target=\"_blank\" href=\"https://console.cloud.google.com/bigquery?project=bigframes-dev&j=bq:US:6b2fad50-cbc8-42ea-83c1-b5d3eaac10b9&page=queryresults\">Open Job</a>"
      ],
      "text/plain": [
       "<IPython.core.display.HTML object>"
      ]
     },
     "metadata": {},
     "output_type": "display_data"
    },
    {
     "data": {
      "text/html": [
       "Query job 31896ae6-fbb5-42fb-98c4-13bd19d1adfa is DONE. 0 Bytes processed. <a target=\"_blank\" href=\"https://console.cloud.google.com/bigquery?project=bigframes-dev&j=bq:US:31896ae6-fbb5-42fb-98c4-13bd19d1adfa&page=queryresults\">Open Job</a>"
      ],
      "text/plain": [
       "<IPython.core.display.HTML object>"
      ]
     },
     "metadata": {},
     "output_type": "display_data"
    },
    {
     "data": {
      "text/html": [
       "Query job 43f04543-f59b-4f1b-8598-c529324904be is DONE. 72.1 MB processed. <a target=\"_blank\" href=\"https://console.cloud.google.com/bigquery?project=bigframes-dev&j=bq:US:43f04543-f59b-4f1b-8598-c529324904be&page=queryresults\">Open Job</a>"
      ],
      "text/plain": [
       "<IPython.core.display.HTML object>"
      ]
     },
     "metadata": {},
     "output_type": "display_data"
    },
    {
     "data": {
      "text/html": [
       "<div>\n",
       "<style scoped>\n",
       "    .dataframe tbody tr th:only-of-type {\n",
       "        vertical-align: middle;\n",
       "    }\n",
       "\n",
       "    .dataframe tbody tr th {\n",
       "        vertical-align: top;\n",
       "    }\n",
       "\n",
       "    .dataframe thead th {\n",
       "        text-align: right;\n",
       "    }\n",
       "</style>\n",
       "<table border=\"1\" class=\"dataframe\">\n",
       "  <thead>\n",
       "    <tr style=\"text-align: right;\">\n",
       "      <th></th>\n",
       "      <th>text_embedding</th>\n",
       "      <th>statistics</th>\n",
       "      <th>ml_embed_text_status</th>\n",
       "      <th>content</th>\n",
       "    </tr>\n",
       "  </thead>\n",
       "  <tbody>\n",
       "    <tr>\n",
       "      <th>545</th>\n",
       "      <td>[ 1.82510037e-02 -1.27867460e-02 -1.57095697e-...</td>\n",
       "      <td>{\"token_count\":178,\"truncated\":false}</td>\n",
       "      <td></td>\n",
       "      <td>My payments have been approximately {$89.00} w...</td>\n",
       "    </tr>\n",
       "    <tr>\n",
       "      <th>614</th>\n",
       "      <td>[ 5.40032536e-02 -5.28502129e-02 -5.33268750e-...</td>\n",
       "      <td>{\"token_count\":399,\"truncated\":false}</td>\n",
       "      <td></td>\n",
       "      <td>Hi, I have contacted Trans Union XXXX XXXX abo...</td>\n",
       "    </tr>\n",
       "    <tr>\n",
       "      <th>1236</th>\n",
       "      <td>[-5.32836001e-03 -5.84292673e-02 -5.86670786e-...</td>\n",
       "      <td>{\"token_count\":129,\"truncated\":false}</td>\n",
       "      <td></td>\n",
       "      <td>I have a XXXX  XXXX XXXX credit card on my Exp...</td>\n",
       "    </tr>\n",
       "    <tr>\n",
       "      <th>1477</th>\n",
       "      <td>[ 3.02605387e-02 -4.37121317e-02 -2.70802993e-...</td>\n",
       "      <td>{\"token_count\":16,\"truncated\":false}</td>\n",
       "      <td></td>\n",
       "      <td>Wrongs information, selling my information to ...</td>\n",
       "    </tr>\n",
       "    <tr>\n",
       "      <th>2261</th>\n",
       "      <td>[ 2.35723313e-02 -3.73509154e-02 -6.44604117e-...</td>\n",
       "      <td>{\"token_count\":33,\"truncated\":false}</td>\n",
       "      <td></td>\n",
       "      <td>Please investigate and delete disputed item th...</td>\n",
       "    </tr>\n",
       "    <tr>\n",
       "      <th>2361</th>\n",
       "      <td>[ 1.04440488e-02 -9.37070698e-03 -7.36323372e-...</td>\n",
       "      <td>{\"token_count\":45,\"truncated\":false}</td>\n",
       "      <td></td>\n",
       "      <td>By the provisions of the Fair Credit Reporting...</td>\n",
       "    </tr>\n",
       "    <tr>\n",
       "      <th>2378</th>\n",
       "      <td>[ 3.04989032e-02 -4.08191867e-02 -6.18648790e-...</td>\n",
       "      <td>{\"token_count\":892,\"truncated\":false}</td>\n",
       "      <td></td>\n",
       "      <td>Since XX/XX/XXXX I have been trying to dispute...</td>\n",
       "    </tr>\n",
       "    <tr>\n",
       "      <th>3133</th>\n",
       "      <td>[ 0.00152804 -0.04189068 -0.04220504 -0.053740...</td>\n",
       "      <td>{\"token_count\":90,\"truncated\":false}</td>\n",
       "      <td></td>\n",
       "      <td>Out of the blue I received a debt collection n...</td>\n",
       "    </tr>\n",
       "    <tr>\n",
       "      <th>3140</th>\n",
       "      <td>[ 3.11435573e-02 -4.44000624e-02 -2.10917685e-...</td>\n",
       "      <td>{\"token_count\":372,\"truncated\":false}</td>\n",
       "      <td></td>\n",
       "      <td>My wife and I have been sending money to XXXX ...</td>\n",
       "    </tr>\n",
       "    <tr>\n",
       "      <th>3322</th>\n",
       "      <td>[ 2.75927987e-02 -6.23729872e-03 -3.83295454e-...</td>\n",
       "      <td>{\"token_count\":36,\"truncated\":false}</td>\n",
       "      <td></td>\n",
       "      <td>Phone calls from Convergent Outsourcing XXXX. ...</td>\n",
       "    </tr>\n",
       "    <tr>\n",
       "      <th>3583</th>\n",
       "      <td>[ 9.20385588e-03 -3.83387171e-02 -6.46291822e-...</td>\n",
       "      <td>{\"token_count\":52,\"truncated\":false}</td>\n",
       "      <td></td>\n",
       "      <td>I recently received a copy of my credit report...</td>\n",
       "    </tr>\n",
       "    <tr>\n",
       "      <th>4134</th>\n",
       "      <td>[-7.04960374e-04 -3.52595337e-02 -1.65264793e-...</td>\n",
       "      <td>{\"token_count\":412,\"truncated\":false}</td>\n",
       "      <td></td>\n",
       "      <td>I have been sending the creditor what they hav...</td>\n",
       "    </tr>\n",
       "    <tr>\n",
       "      <th>4496</th>\n",
       "      <td>[ 3.67735326e-02  1.21120387e-03 -5.20942472e-...</td>\n",
       "      <td>{\"token_count\":182,\"truncated\":false}</td>\n",
       "      <td></td>\n",
       "      <td>This is my second complaint. Their response to...</td>\n",
       "    </tr>\n",
       "    <tr>\n",
       "      <th>5260</th>\n",
       "      <td>[ 2.07133405e-02 -1.69602726e-02 -5.07124476e-...</td>\n",
       "      <td>{\"token_count\":103,\"truncated\":false}</td>\n",
       "      <td></td>\n",
       "      <td>XX/XX/XXXX and XX/XX/XXXX, {$3200.00} contacte...</td>\n",
       "    </tr>\n",
       "    <tr>\n",
       "      <th>5400</th>\n",
       "      <td>[ 1.44114876e-02 -2.34710164e-02 -6.58538565e-...</td>\n",
       "      <td>{\"token_count\":60,\"truncated\":false}</td>\n",
       "      <td></td>\n",
       "      <td>Upon checking my XXXX credit report I noticed ...</td>\n",
       "    </tr>\n",
       "    <tr>\n",
       "      <th>5425</th>\n",
       "      <td>[ 3.10326386e-02 -2.19427086e-02 -6.56386837e-...</td>\n",
       "      <td>{\"token_count\":87,\"truncated\":false}</td>\n",
       "      <td></td>\n",
       "      <td>Follow up to previous complaint XXXX XXXX XXXX...</td>\n",
       "    </tr>\n",
       "    <tr>\n",
       "      <th>6014</th>\n",
       "      <td>[ 1.90773793e-02 -2.27493346e-02 -3.27166244e-...</td>\n",
       "      <td>{\"token_count\":175,\"truncated\":false}</td>\n",
       "      <td></td>\n",
       "      <td>My new XXXX lease was over always paid on time...</td>\n",
       "    </tr>\n",
       "    <tr>\n",
       "      <th>8192</th>\n",
       "      <td>[ 0.01937891 -0.05466933 -0.06070872 -0.059028...</td>\n",
       "      <td>{\"token_count\":131,\"truncated\":false}</td>\n",
       "      <td></td>\n",
       "      <td>I have no idea where this account cane from. B...</td>\n",
       "    </tr>\n",
       "    <tr>\n",
       "      <th>8240</th>\n",
       "      <td>[ 4.34123818e-03 -3.40953320e-02 -4.06381376e-...</td>\n",
       "      <td>{\"token_count\":87,\"truncated\":false}</td>\n",
       "      <td></td>\n",
       "      <td>I TIED TO BUY CAR AT XXXX, THEY GOT APPROVAL F...</td>\n",
       "    </tr>\n",
       "    <tr>\n",
       "      <th>8720</th>\n",
       "      <td>[ 0.03133732 -0.03972461 -0.00178199 -0.035876...</td>\n",
       "      <td>{\"token_count\":645,\"truncated\":false}</td>\n",
       "      <td></td>\n",
       "      <td>XXXX XXXX XXXX XXXX, NY XXXX XX/XX/XXXX Consum...</td>\n",
       "    </tr>\n",
       "    <tr>\n",
       "      <th>8914</th>\n",
       "      <td>[ 1.75969116e-02 -2.25022305e-02 -5.70390299e-...</td>\n",
       "      <td>{\"token_count\":180,\"truncated\":false}</td>\n",
       "      <td></td>\n",
       "      <td>On XX/XX/21 I sent a letter regarding inaccura...</td>\n",
       "    </tr>\n",
       "    <tr>\n",
       "      <th>10021</th>\n",
       "      <td>[ 5.02460636e-02 -5.25112189e-02 -4.12914790e-...</td>\n",
       "      <td>{\"token_count\":30,\"truncated\":false}</td>\n",
       "      <td></td>\n",
       "      <td>XX/XX/XXXX and XX/XX/XXXX inaccurate informati...</td>\n",
       "    </tr>\n",
       "    <tr>\n",
       "      <th>10327</th>\n",
       "      <td>[-0.00979626 -0.04912931 -0.08654705 -0.021063...</td>\n",
       "      <td>{\"token_count\":194,\"truncated\":false}</td>\n",
       "      <td></td>\n",
       "      <td>When I reviewed my credit report, I discovered...</td>\n",
       "    </tr>\n",
       "    <tr>\n",
       "      <th>10345</th>\n",
       "      <td>[-0.04292191 -0.02636929 -0.06177032 -0.076520...</td>\n",
       "      <td>{\"token_count\":262,\"truncated\":false}</td>\n",
       "      <td></td>\n",
       "      <td>U.S. Bank sent two letters containing Visa Deb...</td>\n",
       "    </tr>\n",
       "    <tr>\n",
       "      <th>10369</th>\n",
       "      <td>[ 2.16020197e-02 -5.62509745e-02 -5.93873672e-...</td>\n",
       "      <td>{\"token_count\":77,\"truncated\":false}</td>\n",
       "      <td></td>\n",
       "      <td>I requested from XXXX that they reverse the la...</td>\n",
       "    </tr>\n",
       "  </tbody>\n",
       "</table>\n",
       "<p>25 rows × 4 columns</p>\n",
       "</div>[10000 rows x 4 columns in total]"
      ],
      "text/plain": [
       "                                          text_embedding  \\\n",
       "545    [ 1.82510037e-02 -1.27867460e-02 -1.57095697e-...   \n",
       "614    [ 5.40032536e-02 -5.28502129e-02 -5.33268750e-...   \n",
       "1236   [-5.32836001e-03 -5.84292673e-02 -5.86670786e-...   \n",
       "1477   [ 3.02605387e-02 -4.37121317e-02 -2.70802993e-...   \n",
       "2261   [ 2.35723313e-02 -3.73509154e-02 -6.44604117e-...   \n",
       "2361   [ 1.04440488e-02 -9.37070698e-03 -7.36323372e-...   \n",
       "2378   [ 3.04989032e-02 -4.08191867e-02 -6.18648790e-...   \n",
       "3133   [ 0.00152804 -0.04189068 -0.04220504 -0.053740...   \n",
       "3140   [ 3.11435573e-02 -4.44000624e-02 -2.10917685e-...   \n",
       "3322   [ 2.75927987e-02 -6.23729872e-03 -3.83295454e-...   \n",
       "3583   [ 9.20385588e-03 -3.83387171e-02 -6.46291822e-...   \n",
       "4134   [-7.04960374e-04 -3.52595337e-02 -1.65264793e-...   \n",
       "4496   [ 3.67735326e-02  1.21120387e-03 -5.20942472e-...   \n",
       "5260   [ 2.07133405e-02 -1.69602726e-02 -5.07124476e-...   \n",
       "5400   [ 1.44114876e-02 -2.34710164e-02 -6.58538565e-...   \n",
       "5425   [ 3.10326386e-02 -2.19427086e-02 -6.56386837e-...   \n",
       "6014   [ 1.90773793e-02 -2.27493346e-02 -3.27166244e-...   \n",
       "8192   [ 0.01937891 -0.05466933 -0.06070872 -0.059028...   \n",
       "8240   [ 4.34123818e-03 -3.40953320e-02 -4.06381376e-...   \n",
       "8720   [ 0.03133732 -0.03972461 -0.00178199 -0.035876...   \n",
       "8914   [ 1.75969116e-02 -2.25022305e-02 -5.70390299e-...   \n",
       "10021  [ 5.02460636e-02 -5.25112189e-02 -4.12914790e-...   \n",
       "10327  [-0.00979626 -0.04912931 -0.08654705 -0.021063...   \n",
       "10345  [-0.04292191 -0.02636929 -0.06177032 -0.076520...   \n",
       "10369  [ 2.16020197e-02 -5.62509745e-02 -5.93873672e-...   \n",
       "\n",
       "                                  statistics ml_embed_text_status  \\\n",
       "545    {\"token_count\":178,\"truncated\":false}                        \n",
       "614    {\"token_count\":399,\"truncated\":false}                        \n",
       "1236   {\"token_count\":129,\"truncated\":false}                        \n",
       "1477    {\"token_count\":16,\"truncated\":false}                        \n",
       "2261    {\"token_count\":33,\"truncated\":false}                        \n",
       "2361    {\"token_count\":45,\"truncated\":false}                        \n",
       "2378   {\"token_count\":892,\"truncated\":false}                        \n",
       "3133    {\"token_count\":90,\"truncated\":false}                        \n",
       "3140   {\"token_count\":372,\"truncated\":false}                        \n",
       "3322    {\"token_count\":36,\"truncated\":false}                        \n",
       "3583    {\"token_count\":52,\"truncated\":false}                        \n",
       "4134   {\"token_count\":412,\"truncated\":false}                        \n",
       "4496   {\"token_count\":182,\"truncated\":false}                        \n",
       "5260   {\"token_count\":103,\"truncated\":false}                        \n",
       "5400    {\"token_count\":60,\"truncated\":false}                        \n",
       "5425    {\"token_count\":87,\"truncated\":false}                        \n",
       "6014   {\"token_count\":175,\"truncated\":false}                        \n",
       "8192   {\"token_count\":131,\"truncated\":false}                        \n",
       "8240    {\"token_count\":87,\"truncated\":false}                        \n",
       "8720   {\"token_count\":645,\"truncated\":false}                        \n",
       "8914   {\"token_count\":180,\"truncated\":false}                        \n",
       "10021   {\"token_count\":30,\"truncated\":false}                        \n",
       "10327  {\"token_count\":194,\"truncated\":false}                        \n",
       "10345  {\"token_count\":262,\"truncated\":false}                        \n",
       "10369   {\"token_count\":77,\"truncated\":false}                        \n",
       "\n",
       "                                                 content  \n",
       "545    My payments have been approximately {$89.00} w...  \n",
       "614    Hi, I have contacted Trans Union XXXX XXXX abo...  \n",
       "1236   I have a XXXX  XXXX XXXX credit card on my Exp...  \n",
       "1477   Wrongs information, selling my information to ...  \n",
       "2261   Please investigate and delete disputed item th...  \n",
       "2361   By the provisions of the Fair Credit Reporting...  \n",
       "2378   Since XX/XX/XXXX I have been trying to dispute...  \n",
       "3133   Out of the blue I received a debt collection n...  \n",
       "3140   My wife and I have been sending money to XXXX ...  \n",
       "3322   Phone calls from Convergent Outsourcing XXXX. ...  \n",
       "3583   I recently received a copy of my credit report...  \n",
       "4134   I have been sending the creditor what they hav...  \n",
       "4496   This is my second complaint. Their response to...  \n",
       "5260   XX/XX/XXXX and XX/XX/XXXX, {$3200.00} contacte...  \n",
       "5400   Upon checking my XXXX credit report I noticed ...  \n",
       "5425   Follow up to previous complaint XXXX XXXX XXXX...  \n",
       "6014   My new XXXX lease was over always paid on time...  \n",
       "8192   I have no idea where this account cane from. B...  \n",
       "8240   I TIED TO BUY CAR AT XXXX, THEY GOT APPROVAL F...  \n",
       "8720   XXXX XXXX XXXX XXXX, NY XXXX XX/XX/XXXX Consum...  \n",
       "8914   On XX/XX/21 I sent a letter regarding inaccura...  \n",
       "10021  XX/XX/XXXX and XX/XX/XXXX inaccurate informati...  \n",
       "10327  When I reviewed my credit report, I discovered...  \n",
       "10345  U.S. Bank sent two letters containing Visa Deb...  \n",
       "10369  I requested from XXXX that they reverse the la...  \n",
       "...\n",
       "\n",
       "[10000 rows x 4 columns]"
      ]
     },
     "execution_count": 10,
     "metadata": {},
     "output_type": "execute_result"
    }
   ],
   "source": [
    "# Will take ~3 minutes to compute the embeddings\n",
    "predicted_embeddings = model.predict(downsampled_issues_df)\n",
    "# Notice the lists of numbers that are our text embeddings for each complaint\n",
    "predicted_embeddings"
   ]
  },
  {
   "cell_type": "markdown",
   "metadata": {},
   "source": [
    "The model may have encountered errors while calculating embeddings for some rows. Filter out the errored rows before training the model. Alternatively, select these rows and retry the embeddings."
   ]
  },
  {
   "cell_type": "code",
   "execution_count": 11,
   "metadata": {},
   "outputs": [
    {
     "data": {
      "text/html": [
       "Query job c78e1040-2a57-42f6-8fdb-5b9524846259 is DONE. 72.1 MB processed. <a target=\"_blank\" href=\"https://console.cloud.google.com/bigquery?project=bigframes-dev&j=bq:US:c78e1040-2a57-42f6-8fdb-5b9524846259&page=queryresults\">Open Job</a>"
      ],
      "text/plain": [
       "<IPython.core.display.HTML object>"
      ]
     },
     "metadata": {},
     "output_type": "display_data"
    },
    {
     "data": {
      "text/html": [
       "Query job 0986541b-3941-4387-b813-8888f53d149e is DONE. 0 Bytes processed. <a target=\"_blank\" href=\"https://console.cloud.google.com/bigquery?project=bigframes-dev&j=bq:US:0986541b-3941-4387-b813-8888f53d149e&page=queryresults\">Open Job</a>"
      ],
      "text/plain": [
       "<IPython.core.display.HTML object>"
      ]
     },
     "metadata": {},
     "output_type": "display_data"
    },
    {
     "data": {
      "text/html": [
       "Query job 754aadd2-fee6-495c-acef-506f4e13c062 is DONE. 72.6 MB processed. <a target=\"_blank\" href=\"https://console.cloud.google.com/bigquery?project=bigframes-dev&j=bq:US:754aadd2-fee6-495c-acef-506f4e13c062&page=queryresults\">Open Job</a>"
      ],
      "text/plain": [
       "<IPython.core.display.HTML object>"
      ]
     },
     "metadata": {},
     "output_type": "display_data"
    },
    {
     "data": {
      "text/html": [
       "<div>\n",
       "<style scoped>\n",
       "    .dataframe tbody tr th:only-of-type {\n",
       "        vertical-align: middle;\n",
       "    }\n",
       "\n",
       "    .dataframe tbody tr th {\n",
       "        vertical-align: top;\n",
       "    }\n",
       "\n",
       "    .dataframe thead th {\n",
       "        text-align: right;\n",
       "    }\n",
       "</style>\n",
       "<table border=\"1\" class=\"dataframe\">\n",
       "  <thead>\n",
       "    <tr style=\"text-align: right;\">\n",
       "      <th></th>\n",
       "      <th>text_embedding</th>\n",
       "      <th>statistics</th>\n",
       "      <th>ml_embed_text_status</th>\n",
       "      <th>content</th>\n",
       "    </tr>\n",
       "  </thead>\n",
       "  <tbody>\n",
       "    <tr>\n",
       "      <th>545</th>\n",
       "      <td>[ 1.82510037e-02 -1.27867460e-02 -1.57095697e-...</td>\n",
       "      <td>{\"token_count\":178,\"truncated\":false}</td>\n",
       "      <td></td>\n",
       "      <td>My payments have been approximately {$89.00} w...</td>\n",
       "    </tr>\n",
       "    <tr>\n",
       "      <th>614</th>\n",
       "      <td>[ 5.40032536e-02 -5.28502129e-02 -5.33268750e-...</td>\n",
       "      <td>{\"token_count\":399,\"truncated\":false}</td>\n",
       "      <td></td>\n",
       "      <td>Hi, I have contacted Trans Union XXXX XXXX abo...</td>\n",
       "    </tr>\n",
       "    <tr>\n",
       "      <th>1236</th>\n",
       "      <td>[-5.32836001e-03 -5.84292673e-02 -5.86670786e-...</td>\n",
       "      <td>{\"token_count\":129,\"truncated\":false}</td>\n",
       "      <td></td>\n",
       "      <td>I have a XXXX  XXXX XXXX credit card on my Exp...</td>\n",
       "    </tr>\n",
       "    <tr>\n",
       "      <th>1477</th>\n",
       "      <td>[ 3.02605387e-02 -4.37121317e-02 -2.70802993e-...</td>\n",
       "      <td>{\"token_count\":16,\"truncated\":false}</td>\n",
       "      <td></td>\n",
       "      <td>Wrongs information, selling my information to ...</td>\n",
       "    </tr>\n",
       "    <tr>\n",
       "      <th>2261</th>\n",
       "      <td>[ 2.35723313e-02 -3.73509154e-02 -6.44604117e-...</td>\n",
       "      <td>{\"token_count\":33,\"truncated\":false}</td>\n",
       "      <td></td>\n",
       "      <td>Please investigate and delete disputed item th...</td>\n",
       "    </tr>\n",
       "    <tr>\n",
       "      <th>2361</th>\n",
       "      <td>[ 1.04440488e-02 -9.37070698e-03 -7.36323372e-...</td>\n",
       "      <td>{\"token_count\":45,\"truncated\":false}</td>\n",
       "      <td></td>\n",
       "      <td>By the provisions of the Fair Credit Reporting...</td>\n",
       "    </tr>\n",
       "    <tr>\n",
       "      <th>2378</th>\n",
       "      <td>[ 3.04989032e-02 -4.08191867e-02 -6.18648790e-...</td>\n",
       "      <td>{\"token_count\":892,\"truncated\":false}</td>\n",
       "      <td></td>\n",
       "      <td>Since XX/XX/XXXX I have been trying to dispute...</td>\n",
       "    </tr>\n",
       "    <tr>\n",
       "      <th>3133</th>\n",
       "      <td>[ 0.00152804 -0.04189068 -0.04220504 -0.053740...</td>\n",
       "      <td>{\"token_count\":90,\"truncated\":false}</td>\n",
       "      <td></td>\n",
       "      <td>Out of the blue I received a debt collection n...</td>\n",
       "    </tr>\n",
       "    <tr>\n",
       "      <th>3140</th>\n",
       "      <td>[ 3.11435573e-02 -4.44000624e-02 -2.10917685e-...</td>\n",
       "      <td>{\"token_count\":372,\"truncated\":false}</td>\n",
       "      <td></td>\n",
       "      <td>My wife and I have been sending money to XXXX ...</td>\n",
       "    </tr>\n",
       "    <tr>\n",
       "      <th>3322</th>\n",
       "      <td>[ 2.75927987e-02 -6.23729872e-03 -3.83295454e-...</td>\n",
       "      <td>{\"token_count\":36,\"truncated\":false}</td>\n",
       "      <td></td>\n",
       "      <td>Phone calls from Convergent Outsourcing XXXX. ...</td>\n",
       "    </tr>\n",
       "    <tr>\n",
       "      <th>3583</th>\n",
       "      <td>[ 9.20385588e-03 -3.83387171e-02 -6.46291822e-...</td>\n",
       "      <td>{\"token_count\":52,\"truncated\":false}</td>\n",
       "      <td></td>\n",
       "      <td>I recently received a copy of my credit report...</td>\n",
       "    </tr>\n",
       "    <tr>\n",
       "      <th>4134</th>\n",
       "      <td>[-7.04960374e-04 -3.52595337e-02 -1.65264793e-...</td>\n",
       "      <td>{\"token_count\":412,\"truncated\":false}</td>\n",
       "      <td></td>\n",
       "      <td>I have been sending the creditor what they hav...</td>\n",
       "    </tr>\n",
       "    <tr>\n",
       "      <th>4496</th>\n",
       "      <td>[ 3.67735326e-02  1.21120387e-03 -5.20942472e-...</td>\n",
       "      <td>{\"token_count\":182,\"truncated\":false}</td>\n",
       "      <td></td>\n",
       "      <td>This is my second complaint. Their response to...</td>\n",
       "    </tr>\n",
       "    <tr>\n",
       "      <th>5260</th>\n",
       "      <td>[ 2.07133405e-02 -1.69602726e-02 -5.07124476e-...</td>\n",
       "      <td>{\"token_count\":103,\"truncated\":false}</td>\n",
       "      <td></td>\n",
       "      <td>XX/XX/XXXX and XX/XX/XXXX, {$3200.00} contacte...</td>\n",
       "    </tr>\n",
       "    <tr>\n",
       "      <th>5400</th>\n",
       "      <td>[ 1.44114876e-02 -2.34710164e-02 -6.58538565e-...</td>\n",
       "      <td>{\"token_count\":60,\"truncated\":false}</td>\n",
       "      <td></td>\n",
       "      <td>Upon checking my XXXX credit report I noticed ...</td>\n",
       "    </tr>\n",
       "    <tr>\n",
       "      <th>5425</th>\n",
       "      <td>[ 3.10326386e-02 -2.19427086e-02 -6.56386837e-...</td>\n",
       "      <td>{\"token_count\":87,\"truncated\":false}</td>\n",
       "      <td></td>\n",
       "      <td>Follow up to previous complaint XXXX XXXX XXXX...</td>\n",
       "    </tr>\n",
       "    <tr>\n",
       "      <th>6014</th>\n",
       "      <td>[ 1.90773793e-02 -2.27493346e-02 -3.27166244e-...</td>\n",
       "      <td>{\"token_count\":175,\"truncated\":false}</td>\n",
       "      <td></td>\n",
       "      <td>My new XXXX lease was over always paid on time...</td>\n",
       "    </tr>\n",
       "    <tr>\n",
       "      <th>8192</th>\n",
       "      <td>[ 0.01937891 -0.05466933 -0.06070872 -0.059028...</td>\n",
       "      <td>{\"token_count\":131,\"truncated\":false}</td>\n",
       "      <td></td>\n",
       "      <td>I have no idea where this account cane from. B...</td>\n",
       "    </tr>\n",
       "    <tr>\n",
       "      <th>8240</th>\n",
       "      <td>[ 4.34123818e-03 -3.40953320e-02 -4.06381376e-...</td>\n",
       "      <td>{\"token_count\":87,\"truncated\":false}</td>\n",
       "      <td></td>\n",
       "      <td>I TIED TO BUY CAR AT XXXX, THEY GOT APPROVAL F...</td>\n",
       "    </tr>\n",
       "    <tr>\n",
       "      <th>8720</th>\n",
       "      <td>[ 0.03133732 -0.03972461 -0.00178199 -0.035876...</td>\n",
       "      <td>{\"token_count\":645,\"truncated\":false}</td>\n",
       "      <td></td>\n",
       "      <td>XXXX XXXX XXXX XXXX, NY XXXX XX/XX/XXXX Consum...</td>\n",
       "    </tr>\n",
       "    <tr>\n",
       "      <th>8914</th>\n",
       "      <td>[ 1.75969116e-02 -2.25022305e-02 -5.70390299e-...</td>\n",
       "      <td>{\"token_count\":180,\"truncated\":false}</td>\n",
       "      <td></td>\n",
       "      <td>On XX/XX/21 I sent a letter regarding inaccura...</td>\n",
       "    </tr>\n",
       "    <tr>\n",
       "      <th>10021</th>\n",
       "      <td>[ 5.02460636e-02 -5.25112189e-02 -4.12914790e-...</td>\n",
       "      <td>{\"token_count\":30,\"truncated\":false}</td>\n",
       "      <td></td>\n",
       "      <td>XX/XX/XXXX and XX/XX/XXXX inaccurate informati...</td>\n",
       "    </tr>\n",
       "    <tr>\n",
       "      <th>10327</th>\n",
       "      <td>[-0.00979626 -0.04912931 -0.08654705 -0.021063...</td>\n",
       "      <td>{\"token_count\":194,\"truncated\":false}</td>\n",
       "      <td></td>\n",
       "      <td>When I reviewed my credit report, I discovered...</td>\n",
       "    </tr>\n",
       "    <tr>\n",
       "      <th>10345</th>\n",
       "      <td>[-0.04292191 -0.02636929 -0.06177032 -0.076520...</td>\n",
       "      <td>{\"token_count\":262,\"truncated\":false}</td>\n",
       "      <td></td>\n",
       "      <td>U.S. Bank sent two letters containing Visa Deb...</td>\n",
       "    </tr>\n",
       "    <tr>\n",
       "      <th>10369</th>\n",
       "      <td>[ 2.16020197e-02 -5.62509745e-02 -5.93873672e-...</td>\n",
       "      <td>{\"token_count\":77,\"truncated\":false}</td>\n",
       "      <td></td>\n",
       "      <td>I requested from XXXX that they reverse the la...</td>\n",
       "    </tr>\n",
       "  </tbody>\n",
       "</table>\n",
       "<p>25 rows × 4 columns</p>\n",
       "</div>[10000 rows x 4 columns in total]"
      ],
      "text/plain": [
       "                                          text_embedding  \\\n",
       "545    [ 1.82510037e-02 -1.27867460e-02 -1.57095697e-...   \n",
       "614    [ 5.40032536e-02 -5.28502129e-02 -5.33268750e-...   \n",
       "1236   [-5.32836001e-03 -5.84292673e-02 -5.86670786e-...   \n",
       "1477   [ 3.02605387e-02 -4.37121317e-02 -2.70802993e-...   \n",
       "2261   [ 2.35723313e-02 -3.73509154e-02 -6.44604117e-...   \n",
       "2361   [ 1.04440488e-02 -9.37070698e-03 -7.36323372e-...   \n",
       "2378   [ 3.04989032e-02 -4.08191867e-02 -6.18648790e-...   \n",
       "3133   [ 0.00152804 -0.04189068 -0.04220504 -0.053740...   \n",
       "3140   [ 3.11435573e-02 -4.44000624e-02 -2.10917685e-...   \n",
       "3322   [ 2.75927987e-02 -6.23729872e-03 -3.83295454e-...   \n",
       "3583   [ 9.20385588e-03 -3.83387171e-02 -6.46291822e-...   \n",
       "4134   [-7.04960374e-04 -3.52595337e-02 -1.65264793e-...   \n",
       "4496   [ 3.67735326e-02  1.21120387e-03 -5.20942472e-...   \n",
       "5260   [ 2.07133405e-02 -1.69602726e-02 -5.07124476e-...   \n",
       "5400   [ 1.44114876e-02 -2.34710164e-02 -6.58538565e-...   \n",
       "5425   [ 3.10326386e-02 -2.19427086e-02 -6.56386837e-...   \n",
       "6014   [ 1.90773793e-02 -2.27493346e-02 -3.27166244e-...   \n",
       "8192   [ 0.01937891 -0.05466933 -0.06070872 -0.059028...   \n",
       "8240   [ 4.34123818e-03 -3.40953320e-02 -4.06381376e-...   \n",
       "8720   [ 0.03133732 -0.03972461 -0.00178199 -0.035876...   \n",
       "8914   [ 1.75969116e-02 -2.25022305e-02 -5.70390299e-...   \n",
       "10021  [ 5.02460636e-02 -5.25112189e-02 -4.12914790e-...   \n",
       "10327  [-0.00979626 -0.04912931 -0.08654705 -0.021063...   \n",
       "10345  [-0.04292191 -0.02636929 -0.06177032 -0.076520...   \n",
       "10369  [ 2.16020197e-02 -5.62509745e-02 -5.93873672e-...   \n",
       "\n",
       "                                  statistics ml_embed_text_status  \\\n",
       "545    {\"token_count\":178,\"truncated\":false}                        \n",
       "614    {\"token_count\":399,\"truncated\":false}                        \n",
       "1236   {\"token_count\":129,\"truncated\":false}                        \n",
       "1477    {\"token_count\":16,\"truncated\":false}                        \n",
       "2261    {\"token_count\":33,\"truncated\":false}                        \n",
       "2361    {\"token_count\":45,\"truncated\":false}                        \n",
       "2378   {\"token_count\":892,\"truncated\":false}                        \n",
       "3133    {\"token_count\":90,\"truncated\":false}                        \n",
       "3140   {\"token_count\":372,\"truncated\":false}                        \n",
       "3322    {\"token_count\":36,\"truncated\":false}                        \n",
       "3583    {\"token_count\":52,\"truncated\":false}                        \n",
       "4134   {\"token_count\":412,\"truncated\":false}                        \n",
       "4496   {\"token_count\":182,\"truncated\":false}                        \n",
       "5260   {\"token_count\":103,\"truncated\":false}                        \n",
       "5400    {\"token_count\":60,\"truncated\":false}                        \n",
       "5425    {\"token_count\":87,\"truncated\":false}                        \n",
       "6014   {\"token_count\":175,\"truncated\":false}                        \n",
       "8192   {\"token_count\":131,\"truncated\":false}                        \n",
       "8240    {\"token_count\":87,\"truncated\":false}                        \n",
       "8720   {\"token_count\":645,\"truncated\":false}                        \n",
       "8914   {\"token_count\":180,\"truncated\":false}                        \n",
       "10021   {\"token_count\":30,\"truncated\":false}                        \n",
       "10327  {\"token_count\":194,\"truncated\":false}                        \n",
       "10345  {\"token_count\":262,\"truncated\":false}                        \n",
       "10369   {\"token_count\":77,\"truncated\":false}                        \n",
       "\n",
       "                                                 content  \n",
       "545    My payments have been approximately {$89.00} w...  \n",
       "614    Hi, I have contacted Trans Union XXXX XXXX abo...  \n",
       "1236   I have a XXXX  XXXX XXXX credit card on my Exp...  \n",
       "1477   Wrongs information, selling my information to ...  \n",
       "2261   Please investigate and delete disputed item th...  \n",
       "2361   By the provisions of the Fair Credit Reporting...  \n",
       "2378   Since XX/XX/XXXX I have been trying to dispute...  \n",
       "3133   Out of the blue I received a debt collection n...  \n",
       "3140   My wife and I have been sending money to XXXX ...  \n",
       "3322   Phone calls from Convergent Outsourcing XXXX. ...  \n",
       "3583   I recently received a copy of my credit report...  \n",
       "4134   I have been sending the creditor what they hav...  \n",
       "4496   This is my second complaint. Their response to...  \n",
       "5260   XX/XX/XXXX and XX/XX/XXXX, {$3200.00} contacte...  \n",
       "5400   Upon checking my XXXX credit report I noticed ...  \n",
       "5425   Follow up to previous complaint XXXX XXXX XXXX...  \n",
       "6014   My new XXXX lease was over always paid on time...  \n",
       "8192   I have no idea where this account cane from. B...  \n",
       "8240   I TIED TO BUY CAR AT XXXX, THEY GOT APPROVAL F...  \n",
       "8720   XXXX XXXX XXXX XXXX, NY XXXX XX/XX/XXXX Consum...  \n",
       "8914   On XX/XX/21 I sent a letter regarding inaccura...  \n",
       "10021  XX/XX/XXXX and XX/XX/XXXX inaccurate informati...  \n",
       "10327  When I reviewed my credit report, I discovered...  \n",
       "10345  U.S. Bank sent two letters containing Visa Deb...  \n",
       "10369  I requested from XXXX that they reverse the la...  \n",
       "...\n",
       "\n",
       "[10000 rows x 4 columns]"
      ]
     },
     "execution_count": 11,
     "metadata": {},
     "output_type": "execute_result"
    }
   ],
   "source": [
    "successful_rows = (\n",
    "    (predicted_embeddings[\"ml_embed_text_status\"] == \"\")\n",
    "    # Series.str.len() gives the length of an array.\n",
    "    # See: https://stackoverflow.com/a/41340543/101923\n",
    "    & (predicted_embeddings[\"text_embedding\"].str.len() != 0)\n",
    ")\n",
    "predicted_embeddings = predicted_embeddings[successful_rows]\n",
    "predicted_embeddings\n"
   ]
  },
  {
   "attachments": {},
   "cell_type": "markdown",
   "metadata": {},
   "source": [
    "We now have the complaints and their text embeddings as two columns in our predicted_embeddings DataFrame."
   ]
  },
  {
   "attachments": {},
   "cell_type": "markdown",
   "metadata": {
    "id": "OUZ3NNbzo1Tb"
   },
   "source": [
    "## Step 2: Create k-means model and predict clusters"
   ]
  },
  {
   "cell_type": "code",
   "execution_count": 12,
   "metadata": {
    "id": "AhNTnEC5FRz2"
   },
   "outputs": [],
   "source": [
    "from bigframes.ml.cluster import KMeans\n",
    "\n",
    "cluster_model = KMeans(n_clusters=10) # We will divide our complaints into 10 groups"
   ]
  },
  {
   "attachments": {},
   "cell_type": "markdown",
   "metadata": {},
   "source": [
    "Perform KMeans clustering"
   ]
  },
  {
   "cell_type": "code",
   "execution_count": 13,
   "metadata": {
    "id": "6poSxh-fGJF7"
   },
   "outputs": [
    {
     "data": {
      "text/html": [
       "Query job fa4bbc13-3831-4c80-9b59-9939e605ed58 is DONE. 61.7 MB processed. <a target=\"_blank\" href=\"https://console.cloud.google.com/bigquery?project=bigframes-dev&j=bq:US:fa4bbc13-3831-4c80-9b59-9939e605ed58&page=queryresults\">Open Job</a>"
      ],
      "text/plain": [
       "<IPython.core.display.HTML object>"
      ]
     },
     "metadata": {},
     "output_type": "display_data"
    },
    {
     "data": {
      "text/html": [
       "Query job d2d681aa-e49a-4fda-89fd-60cf906d3aec is DONE. 0 Bytes processed. <a target=\"_blank\" href=\"https://console.cloud.google.com/bigquery?project=bigframes-dev&j=bq:US:d2d681aa-e49a-4fda-89fd-60cf906d3aec&page=queryresults\">Open Job</a>"
      ],
      "text/plain": [
       "<IPython.core.display.HTML object>"
      ]
     },
     "metadata": {},
     "output_type": "display_data"
    },
    {
     "data": {
      "text/html": [
       "Query job 234bb6be-625c-4c96-baea-c37c33410114 is DONE. 72.7 MB processed. <a target=\"_blank\" href=\"https://console.cloud.google.com/bigquery?project=bigframes-dev&j=bq:US:234bb6be-625c-4c96-baea-c37c33410114&page=queryresults\">Open Job</a>"
      ],
      "text/plain": [
       "<IPython.core.display.HTML object>"
      ]
     },
     "metadata": {},
     "output_type": "display_data"
    },
    {
     "data": {
      "text/html": [
       "Query job 285817cb-99d3-426f-82c3-89d36119e8db is DONE. 80.0 kB processed. <a target=\"_blank\" href=\"https://console.cloud.google.com/bigquery?project=bigframes-dev&j=bq:US:285817cb-99d3-426f-82c3-89d36119e8db&page=queryresults\">Open Job</a>"
      ],
      "text/plain": [
       "<IPython.core.display.HTML object>"
      ]
     },
     "metadata": {},
     "output_type": "display_data"
    },
    {
     "data": {
      "text/html": [
       "Query job 3a39d2b0-55a1-4922-972a-8806b387f877 is DONE. 73.3 MB processed. <a target=\"_blank\" href=\"https://console.cloud.google.com/bigquery?project=bigframes-dev&j=bq:US:3a39d2b0-55a1-4922-972a-8806b387f877&page=queryresults\">Open Job</a>"
      ],
      "text/plain": [
       "<IPython.core.display.HTML object>"
      ]
     },
     "metadata": {},
     "output_type": "display_data"
    },
    {
     "data": {
      "text/html": [
       "<div>\n",
       "<style scoped>\n",
       "    .dataframe tbody tr th:only-of-type {\n",
       "        vertical-align: middle;\n",
       "    }\n",
       "\n",
       "    .dataframe tbody tr th {\n",
       "        vertical-align: top;\n",
       "    }\n",
       "\n",
       "    .dataframe thead th {\n",
       "        text-align: right;\n",
       "    }\n",
       "</style>\n",
       "<table border=\"1\" class=\"dataframe\">\n",
       "  <thead>\n",
       "    <tr style=\"text-align: right;\">\n",
       "      <th></th>\n",
       "      <th>CENTROID_ID</th>\n",
       "      <th>NEAREST_CENTROIDS_DISTANCE</th>\n",
       "      <th>text_embedding</th>\n",
       "      <th>statistics</th>\n",
       "      <th>ml_embed_text_status</th>\n",
       "      <th>content</th>\n",
       "    </tr>\n",
       "  </thead>\n",
       "  <tbody>\n",
       "    <tr>\n",
       "      <th>182250</th>\n",
       "      <td>1</td>\n",
       "      <td>[{'CENTROID_ID': 1, 'DISTANCE': 0.570560301900...</td>\n",
       "      <td>[ 4.70298417e-02 -4.08669300e-02 -2.99868709e-...</td>\n",
       "      <td>{\"token_count\":10,\"truncated\":false}</td>\n",
       "      <td></td>\n",
       "      <td>These are not my accounts. Please remove them.</td>\n",
       "    </tr>\n",
       "    <tr>\n",
       "      <th>3023485</th>\n",
       "      <td>1</td>\n",
       "      <td>[{'CENTROID_ID': 1, 'DISTANCE': 0.523572693768...</td>\n",
       "      <td>[ 1.55437263e-02 -1.93240177e-02 -2.48466972e-...</td>\n",
       "      <td>{\"token_count\":10,\"truncated\":false}</td>\n",
       "      <td></td>\n",
       "      <td>This debt is not mine due to identity theft.</td>\n",
       "    </tr>\n",
       "    <tr>\n",
       "      <th>407254</th>\n",
       "      <td>1</td>\n",
       "      <td>[{'CENTROID_ID': 1, 'DISTANCE': 0.515173566816...</td>\n",
       "      <td>[-0.01293471 -0.01959546 -0.02238463 -0.066214...</td>\n",
       "      <td>{\"token_count\":10,\"truncated\":false}</td>\n",
       "      <td></td>\n",
       "      <td>I do not owe this company money!!!!!</td>\n",
       "    </tr>\n",
       "    <tr>\n",
       "      <th>1509454</th>\n",
       "      <td>1</td>\n",
       "      <td>[{'CENTROID_ID': 1, 'DISTANCE': 0.645342721754...</td>\n",
       "      <td>[ 3.21860723e-02 -2.67103072e-02 -4.78175096e-...</td>\n",
       "      <td>{\"token_count\":10,\"truncated\":false}</td>\n",
       "      <td></td>\n",
       "      <td>VIOLATES HIPPA AND CRA</td>\n",
       "    </tr>\n",
       "    <tr>\n",
       "      <th>2357848</th>\n",
       "      <td>1</td>\n",
       "      <td>[{'CENTROID_ID': 1, 'DISTANCE': 0.519872186251...</td>\n",
       "      <td>[-1.88122243e-02 -2.68064123e-02 -4.69480827e-...</td>\n",
       "      <td>{\"token_count\":10,\"truncated\":false}</td>\n",
       "      <td></td>\n",
       "      <td>Receive numerous phone calls. I have no debt.</td>\n",
       "    </tr>\n",
       "  </tbody>\n",
       "</table>\n",
       "</div>"
      ],
      "text/plain": [
       "         CENTROID_ID                         NEAREST_CENTROIDS_DISTANCE  \\\n",
       "182250             1  [{'CENTROID_ID': 1, 'DISTANCE': 0.570560301900...   \n",
       "3023485            1  [{'CENTROID_ID': 1, 'DISTANCE': 0.523572693768...   \n",
       "407254             1  [{'CENTROID_ID': 1, 'DISTANCE': 0.515173566816...   \n",
       "1509454            1  [{'CENTROID_ID': 1, 'DISTANCE': 0.645342721754...   \n",
       "2357848            1  [{'CENTROID_ID': 1, 'DISTANCE': 0.519872186251...   \n",
       "\n",
       "                                            text_embedding  \\\n",
       "182250   [ 4.70298417e-02 -4.08669300e-02 -2.99868709e-...   \n",
       "3023485  [ 1.55437263e-02 -1.93240177e-02 -2.48466972e-...   \n",
       "407254   [-0.01293471 -0.01959546 -0.02238463 -0.066214...   \n",
       "1509454  [ 3.21860723e-02 -2.67103072e-02 -4.78175096e-...   \n",
       "2357848  [-1.88122243e-02 -2.68064123e-02 -4.69480827e-...   \n",
       "\n",
       "                                   statistics ml_embed_text_status  \\\n",
       "182250   {\"token_count\":10,\"truncated\":false}                        \n",
       "3023485  {\"token_count\":10,\"truncated\":false}                        \n",
       "407254   {\"token_count\":10,\"truncated\":false}                        \n",
       "1509454  {\"token_count\":10,\"truncated\":false}                        \n",
       "2357848  {\"token_count\":10,\"truncated\":false}                        \n",
       "\n",
       "                                                content  \n",
       "182250   These are not my accounts. Please remove them.  \n",
       "3023485    This debt is not mine due to identity theft.  \n",
       "407254             I do not owe this company money!!!!!  \n",
       "1509454                          VIOLATES HIPPA AND CRA  \n",
       "2357848   Receive numerous phone calls. I have no debt.  "
      ]
     },
     "execution_count": 13,
     "metadata": {},
     "output_type": "execute_result"
    }
   ],
   "source": [
    "# Use KMeans clustering to calculate our groups. Will take ~3 minutes.\n",
    "cluster_model.fit(predicted_embeddings[[\"text_embedding\"]])\n",
    "clustered_result = cluster_model.predict(predicted_embeddings)\n",
    "# Notice the CENTROID_ID column, which is the ID number of the group that\n",
    "# each complaint belongs to.\n",
    "clustered_result.peek(n=5)"
   ]
  },
  {
   "attachments": {},
   "cell_type": "markdown",
   "metadata": {},
   "source": [
    "Our DataFrame clustered_result now has an additional column that includes an ID from 1-10 (inclusive) indicating which semantically similar group they belong to."
   ]
  },
  {
   "attachments": {},
   "cell_type": "markdown",
   "metadata": {
    "id": "21rNsFMHo8hO"
   },
   "source": [
    "## Step 3: Use Gemini to summarize complaint clusters"
   ]
  },
  {
   "attachments": {},
   "cell_type": "markdown",
   "metadata": {},
   "source": [
    "Build prompts - we will choose just two of our categories and prompt GeminiTextGenerator to identify their salient characteristics. The prompt is natural language in a python string."
   ]
  },
  {
   "cell_type": "code",
   "execution_count": 14,
   "metadata": {
    "id": "2E7wXM_jGqo6"
   },
   "outputs": [
    {
     "data": {
      "text/html": [
       "Query job 85ead687-4ba9-44bf-88da-23a066f45960 is DONE. 10.7 MB processed. <a target=\"_blank\" href=\"https://console.cloud.google.com/bigquery?project=bigframes-dev&j=bq:US:85ead687-4ba9-44bf-88da-23a066f45960&page=queryresults\">Open Job</a>"
      ],
      "text/plain": [
       "<IPython.core.display.HTML object>"
      ]
     },
     "metadata": {},
     "output_type": "display_data"
    },
    {
     "data": {
      "text/html": [
       "Query job 68ef20cd-220d-40a9-bb42-63ed3d6f5d3f is DONE. 10.7 MB processed. <a target=\"_blank\" href=\"https://console.cloud.google.com/bigquery?project=bigframes-dev&j=bq:US:68ef20cd-220d-40a9-bb42-63ed3d6f5d3f&page=queryresults\">Open Job</a>"
      ],
      "text/plain": [
       "<IPython.core.display.HTML object>"
      ]
     },
     "metadata": {},
     "output_type": "display_data"
    }
   ],
   "source": [
    "# Using bigframes, with syntax identical to pandas,\n",
    "# filter out the first and second groups\n",
    "cluster_1_result = clustered_result[\n",
    "    clustered_result[\"CENTROID_ID\"] == 1\n",
    "][[\"content\"]]\n",
    "cluster_1_result_pandas = cluster_1_result.head(5).to_pandas()\n",
    "\n",
    "cluster_2_result = clustered_result[\n",
    "    clustered_result[\"CENTROID_ID\"] == 2\n",
    "][[\"content\"]]\n",
    "cluster_2_result_pandas = cluster_2_result.head(5).to_pandas()"
   ]
  },
  {
   "cell_type": "code",
   "execution_count": 15,
   "metadata": {
    "id": "ZNDiueI9IP5e"
   },
   "outputs": [
    {
     "name": "stdout",
     "output_type": "stream",
     "text": [
      "comment list 1:\n",
      "1. Wrongs information, selling my information to third party. Incorrect reporting\n",
      "2. I TIED TO BUY CAR AT XXXX, THEY GOT APPROVAL FROM XXXX  XXXX XXXX XXXX   WHICH ENDED A A LIE. THEY ALSO, PULLED MANY OTHERS I DID NT AGREED TO. SOLF PULLS ONLY\n",
      "3. XX/XX/XXXX and XX/XX/XXXX inaccurate information reported 30 days late.\n",
      "4. Im working on myCredit and I see a couple of inquiries that I have no idea where they came from.\n",
      "5. I request a copy of all dispute results and documentary evidence from XXXX, and XXXX mailed to me\n",
      "\n",
      "comment list 2:\n",
      "1. My wife and I have been sending money to XXXX via my brother-in-law to finish a building project we have been working on since XXXX with target date of completion by XX/XX/XXXX. In XXXX XXXX my brother-in-law in was contacted by his bank to confirm he was not defrauding my wife. My brother-in-law confirmed he was helping to handle the building project by organizing and paying the workers. In XXXX XXXX Bank of America reach out to my wife to update her profile to avoid account restrictions. My wife 's account was eventually restricted until she called and confirmed her employment and other personal information. My wife 's full account activities were then restored and we continued sending wire transfers to XXXX via her checking account. \n",
      "Then I received a letter dated XXXX XXXX XXXX from Bank of America stating the money market account I share with my wife which has been opened since XXXX will be will be restricted from use in 21 days and closed in 30 days with no reason. I strongly believe this is a result of the legal international wires because there was no reason to close the Savings account which had with hardly any activity. \n",
      "I agree that Bank of America has a right to close accounts but I do not agree with Bank of America closing accounts because of international transactions unless they can prove fraud, criminal activity or support for terrorism, this is discriminatory towards foreign nationals. How are foreign nationals suppose to make investments or support their family/community if they are excluded from the banking system?\n",
      "2. XXXX XXXX XXXX XXXX, NY XXXX XX/XX/XXXX Consumer Financial Protection Bureau XXXX XXXX  XXXX XXXX, IA XXXX Dear Sir or Madam : In XX/XX/XXXX Out of the blue JP Morgan Chase arbitrarily closed my account. This was after my mother is a XXXX survivor who is over XXXX years old and for whom I have a general power of attorney and take care of her bill paying was questioned about a transaction. She is also XXXX  XXXX. \n",
      "\n",
      "I have reason to belief that a mentally disturbed family member for whom I have an order of protection initiated this situation. This individual has ben harassing me and other members of my family for a considerable amount of time. \n",
      "\n",
      "The bank initially was satisfied with her response. However within 2 days they closed the account of a XXXX year old XXXX XXXX person. \n",
      "\n",
      "Soon after for no reason my account was closed as well. I tried to reach out to the corporate offices of Chase and make great effort to find out what happened and to restore my account as well as my mothers but I was unsuccessful. In addition the people I spoke to were not only unhelpful bu exceedingly rude. \n",
      "\n",
      "I should add that I have had an account with Chase since XX/XX/XXXX and took care of my ailing father before he passed away for over 25 years as well. I am now taking care of my mother for over 28 years. \n",
      "\n",
      "I went so far as contacting a prominent Television reporter who was interested in doing a report on what happened. \n",
      "\n",
      "I have since managed to open an account at another bank but this week I had reason to go to a branch of Chase regarding another issue and a manager using my That is a very serious unsubstantiated accusation and given this information I have no choice but to submit this complaint. \n",
      "\n",
      "I have no interest in having an account again at a disreputable bank like Chase but I can not and will not accept or tolerate a derogatory accusation be associated with my name. \n",
      "\n",
      "I hope that my complaint will hAve the desired effect of removing this derogatory unsubstantiated accusation be removed from my name. However. I will not let this unfair matter stand and Chase ought to know that I have already retained an attorney and will if necessary hold Chase responsible and liable all damage i have incurred now And in the future Enclosed, please find the letter from Chase stating that they were closing my mothers account and a similar letter was received by me too. \n",
      "\n",
      "Also please find a letter from her Doctor stating that she is XXXX  XXXX. \n",
      "\n",
      "Thank you. \n",
      "\n",
      "XXXX XXXX\n",
      "3. U.S. Bank sent two letters containing Visa Debit Cards to our address on XX/XX/2021. One Visa Debit Card is in the name of XXXX XXXX and one Visa Debit Card is in the name of XXXX XXXX. These cards supposedly link to existing checking accounts at U.S. Bank. However : ( 1 ) Neither of us have existing checking accounts at U.S. Bank, ( 2 ) Neither of us solicited a bank account at U.S. Bank, and ( 3 ) Neither of us solicited a Visa Debit Card. We have attempted to call U.S. Bank at the phone numbers provided in the letters but are only able to access an automated system which will not proceed without us establishing accounts and activating these cards. We are concerned here that one of two things has happened : either ( 1 ) we are victims of identity theft and some third party is trying to establish accounts in our name, or ( 2 ) U.S. Bank is engaged in bank fraud. In either case, we request the assistance of the Consumer Financial Protection Bureau. Thank you.\n",
      "4. I contacted my bank over 3 times about this amount, the first two times I spoke to gentleman that agreed with me that I didnt get back a certain amount of dollars back, I did the math and they refuse to see that I do not owe this amount because I never had it in the first place. I wrote out all my charges and connected it to the charges made back from the consumer and I was missing XXXX, I called XXXX they said they gave it all back which is not their fault because they showed me proof. Along the lines Capital One does not want to take responsibility for the missing money. I have wrote everything out and then its not adding up, they keep saying that they did a charge back twice which is incorrect. My balance was at XXXX before I made this purchase and it shouldve been returned back to XXXX because I return all the items and nothing is in my possession. I have proof that I returned everything.\n",
      "5. CB INDIGO ( Bank ) XX/XX/2022 I just recently got off the phone with the company and they wont put in a request of removal of a fraudulent hard inquiry from Insigo Mastercard to XXXX. They dont even have my information on file, I called 3 times most of them are lazy and was giving me a hard time.\n",
      "\n"
     ]
    }
   ],
   "source": [
    "# Build plain-text prompts to send to PaLM 2. Use only 5 complaints from each group.\n",
    "prompt1 = 'comment list 1:\\n'\n",
    "for i in range(5):\n",
    "    prompt1 += str(i + 1) + '. ' + \\\n",
    "        cluster_1_result_pandas[\"content\"].iloc[i] + '\\n'\n",
    "\n",
    "prompt2 = 'comment list 2:\\n'\n",
    "for i in range(5):\n",
    "    prompt2 += str(i + 1) + '. ' + \\\n",
    "        cluster_2_result_pandas[\"content\"].iloc[i] + '\\n'\n",
    "\n",
    "print(prompt1)\n",
    "print(prompt2)"
   ]
  },
  {
   "cell_type": "code",
   "execution_count": 16,
   "metadata": {
    "id": "BfHGJLirzSvH"
   },
   "outputs": [
    {
     "name": "stdout",
     "output_type": "stream",
     "text": [
      "Please highlight the most obvious difference between the two lists of comments:\n",
      "comment list 1:\n",
      "1. Wrongs information, selling my information to third party. Incorrect reporting\n",
      "2. I TIED TO BUY CAR AT XXXX, THEY GOT APPROVAL FROM XXXX  XXXX XXXX XXXX   WHICH ENDED A A LIE. THEY ALSO, PULLED MANY OTHERS I DID NT AGREED TO. SOLF PULLS ONLY\n",
      "3. XX/XX/XXXX and XX/XX/XXXX inaccurate information reported 30 days late.\n",
      "4. Im working on myCredit and I see a couple of inquiries that I have no idea where they came from.\n",
      "5. I request a copy of all dispute results and documentary evidence from XXXX, and XXXX mailed to me\n",
      "comment list 2:\n",
      "1. My wife and I have been sending money to XXXX via my brother-in-law to finish a building project we have been working on since XXXX with target date of completion by XX/XX/XXXX. In XXXX XXXX my brother-in-law in was contacted by his bank to confirm he was not defrauding my wife. My brother-in-law confirmed he was helping to handle the building project by organizing and paying the workers. In XXXX XXXX Bank of America reach out to my wife to update her profile to avoid account restrictions. My wife 's account was eventually restricted until she called and confirmed her employment and other personal information. My wife 's full account activities were then restored and we continued sending wire transfers to XXXX via her checking account. \n",
      "Then I received a letter dated XXXX XXXX XXXX from Bank of America stating the money market account I share with my wife which has been opened since XXXX will be will be restricted from use in 21 days and closed in 30 days with no reason. I strongly believe this is a result of the legal international wires because there was no reason to close the Savings account which had with hardly any activity. \n",
      "I agree that Bank of America has a right to close accounts but I do not agree with Bank of America closing accounts because of international transactions unless they can prove fraud, criminal activity or support for terrorism, this is discriminatory towards foreign nationals. How are foreign nationals suppose to make investments or support their family/community if they are excluded from the banking system?\n",
      "2. XXXX XXXX XXXX XXXX, NY XXXX XX/XX/XXXX Consumer Financial Protection Bureau XXXX XXXX  XXXX XXXX, IA XXXX Dear Sir or Madam : In XX/XX/XXXX Out of the blue JP Morgan Chase arbitrarily closed my account. This was after my mother is a XXXX survivor who is over XXXX years old and for whom I have a general power of attorney and take care of her bill paying was questioned about a transaction. She is also XXXX  XXXX. \n",
      "\n",
      "I have reason to belief that a mentally disturbed family member for whom I have an order of protection initiated this situation. This individual has ben harassing me and other members of my family for a considerable amount of time. \n",
      "\n",
      "The bank initially was satisfied with her response. However within 2 days they closed the account of a XXXX year old XXXX XXXX person. \n",
      "\n",
      "Soon after for no reason my account was closed as well. I tried to reach out to the corporate offices of Chase and make great effort to find out what happened and to restore my account as well as my mothers but I was unsuccessful. In addition the people I spoke to were not only unhelpful bu exceedingly rude. \n",
      "\n",
      "I should add that I have had an account with Chase since XX/XX/XXXX and took care of my ailing father before he passed away for over 25 years as well. I am now taking care of my mother for over 28 years. \n",
      "\n",
      "I went so far as contacting a prominent Television reporter who was interested in doing a report on what happened. \n",
      "\n",
      "I have since managed to open an account at another bank but this week I had reason to go to a branch of Chase regarding another issue and a manager using my That is a very serious unsubstantiated accusation and given this information I have no choice but to submit this complaint. \n",
      "\n",
      "I have no interest in having an account again at a disreputable bank like Chase but I can not and will not accept or tolerate a derogatory accusation be associated with my name. \n",
      "\n",
      "I hope that my complaint will hAve the desired effect of removing this derogatory unsubstantiated accusation be removed from my name. However. I will not let this unfair matter stand and Chase ought to know that I have already retained an attorney and will if necessary hold Chase responsible and liable all damage i have incurred now And in the future Enclosed, please find the letter from Chase stating that they were closing my mothers account and a similar letter was received by me too. \n",
      "\n",
      "Also please find a letter from her Doctor stating that she is XXXX  XXXX. \n",
      "\n",
      "Thank you. \n",
      "\n",
      "XXXX XXXX\n",
      "3. U.S. Bank sent two letters containing Visa Debit Cards to our address on XX/XX/2021. One Visa Debit Card is in the name of XXXX XXXX and one Visa Debit Card is in the name of XXXX XXXX. These cards supposedly link to existing checking accounts at U.S. Bank. However : ( 1 ) Neither of us have existing checking accounts at U.S. Bank, ( 2 ) Neither of us solicited a bank account at U.S. Bank, and ( 3 ) Neither of us solicited a Visa Debit Card. We have attempted to call U.S. Bank at the phone numbers provided in the letters but are only able to access an automated system which will not proceed without us establishing accounts and activating these cards. We are concerned here that one of two things has happened : either ( 1 ) we are victims of identity theft and some third party is trying to establish accounts in our name, or ( 2 ) U.S. Bank is engaged in bank fraud. In either case, we request the assistance of the Consumer Financial Protection Bureau. Thank you.\n",
      "4. I contacted my bank over 3 times about this amount, the first two times I spoke to gentleman that agreed with me that I didnt get back a certain amount of dollars back, I did the math and they refuse to see that I do not owe this amount because I never had it in the first place. I wrote out all my charges and connected it to the charges made back from the consumer and I was missing XXXX, I called XXXX they said they gave it all back which is not their fault because they showed me proof. Along the lines Capital One does not want to take responsibility for the missing money. I have wrote everything out and then its not adding up, they keep saying that they did a charge back twice which is incorrect. My balance was at XXXX before I made this purchase and it shouldve been returned back to XXXX because I return all the items and nothing is in my possession. I have proof that I returned everything.\n",
      "5. CB INDIGO ( Bank ) XX/XX/2022 I just recently got off the phone with the company and they wont put in a request of removal of a fraudulent hard inquiry from Insigo Mastercard to XXXX. They dont even have my information on file, I called 3 times most of them are lazy and was giving me a hard time.\n",
      "\n"
     ]
    }
   ],
   "source": [
    "# The plain English request we will make of PaLM 2\n",
    "prompt = (\n",
    "    \"Please highlight the most obvious difference between \"\n",
    "    \"the two lists of comments:\\n\" + prompt1 + prompt2\n",
    ")\n",
    "print(prompt)"
   ]
  },
  {
   "attachments": {},
   "cell_type": "markdown",
   "metadata": {},
   "source": [
    "Get a response from Gemini by making a call to Vertex AI using our connection."
   ]
  },
  {
   "cell_type": "code",
   "execution_count": 17,
   "metadata": {
    "id": "mL5P0_3X04dE"
   },
   "outputs": [
    {
     "data": {
      "text/html": [
       "Query job a7ce86a7-3a18-47b9-a46f-98dbe6a5a339 is DONE. 0 Bytes processed. <a target=\"_blank\" href=\"https://console.cloud.google.com/bigquery?project=bigframes-dev&j=bq:US:a7ce86a7-3a18-47b9-a46f-98dbe6a5a339&page=queryresults\">Open Job</a>"
      ],
      "text/plain": [
       "<IPython.core.display.HTML object>"
      ]
     },
     "metadata": {},
     "output_type": "display_data"
    }
   ],
   "source": [
    "from bigframes.ml.llm import GeminiTextGenerator\n",
    "\n",
    "q_a_model = GeminiTextGenerator()"
   ]
  },
  {
   "cell_type": "code",
   "execution_count": 18,
   "metadata": {
    "id": "ICWHsqAW1FNk"
   },
   "outputs": [],
   "source": [
    "# Make a DataFrame containing only a single row with our prompt for Gemini\n",
    "df = bf.DataFrame({\"prompt\": [prompt]})"
   ]
  },
  {
   "cell_type": "code",
   "execution_count": 19,
   "metadata": {
    "id": "gB7e1LXU1pst"
   },
   "outputs": [
    {
     "data": {
      "text/html": [
       "Query job d568c03d-6bbd-4c3e-b087-563b7f5135ed is DONE. 0 Bytes processed. <a target=\"_blank\" href=\"https://console.cloud.google.com/bigquery?project=bigframes-dev&j=bq:US:d568c03d-6bbd-4c3e-b087-563b7f5135ed&page=queryresults\">Open Job</a>"
      ],
      "text/plain": [
       "<IPython.core.display.HTML object>"
      ]
     },
     "metadata": {},
     "output_type": "display_data"
    },
    {
     "data": {
      "text/html": [
       "Query job 17eaa806-51a4-4ee9-b219-75455d0095a7 is DONE. 8 Bytes processed. <a target=\"_blank\" href=\"https://console.cloud.google.com/bigquery?project=bigframes-dev&j=bq:US:17eaa806-51a4-4ee9-b219-75455d0095a7&page=queryresults\">Open Job</a>"
      ],
      "text/plain": [
       "<IPython.core.display.HTML object>"
      ]
     },
     "metadata": {},
     "output_type": "display_data"
    },
    {
     "data": {
      "text/html": [
       "Query job e6d40ded-691d-4523-94ea-dd8202bd0220 is DONE. 2 Bytes processed. <a target=\"_blank\" href=\"https://console.cloud.google.com/bigquery?project=bigframes-dev&j=bq:US:e6d40ded-691d-4523-94ea-dd8202bd0220&page=queryresults\">Open Job</a>"
      ],
      "text/plain": [
       "<IPython.core.display.HTML object>"
      ]
     },
     "metadata": {},
     "output_type": "display_data"
    },
    {
     "data": {
      "text/html": [
       "Query job 200f0b88-7b6d-417b-a181-a98138e3bc95 is DONE. 193 Bytes processed. <a target=\"_blank\" href=\"https://console.cloud.google.com/bigquery?project=bigframes-dev&j=bq:US:200f0b88-7b6d-417b-a181-a98138e3bc95&page=queryresults\">Open Job</a>"
      ],
      "text/plain": [
       "<IPython.core.display.HTML object>"
      ]
     },
     "metadata": {},
     "output_type": "display_data"
    },
    {
     "data": {
      "text/plain": [
       "'The most obvious difference between the two lists of comments is that list 1 is related to credit reporting disputes and list 2 is a collection of general consumer banking complaints.'"
      ]
     },
     "execution_count": 19,
     "metadata": {},
     "output_type": "execute_result"
    }
   ],
   "source": [
    "# Send the request for Gemini to generate a response to our prompt\n",
    "major_difference = q_a_model.predict(df)\n",
    "# PaLM 2's response is the only row in the dataframe result \n",
    "major_difference[\"ml_generate_text_llm_result\"].iloc[0]"
   ]
  },
  {
   "attachments": {},
   "cell_type": "markdown",
   "metadata": {},
   "source": [
    "We now see GeminiTextGenerator's characterization of the different comment groups. Thanks for using BigQuery DataFrames!"
   ]
  },
  {
   "cell_type": "markdown",
   "metadata": {},
   "source": [
    "# Summary and next steps\n",
    "\n",
    "You've used the ML and LLM capabilities of BigQuery DataFrames to help analyze and understand a large dataset of unstructured feedback.\n",
    "\n",
    "Learn more about BigQuery DataFrames in the [documentation](https://cloud.google.com/python/docs/reference/bigframes/latest) and find more sample notebooks in the [GitHub repo](https://github.com/googleapis/python-bigquery-dataframes/tree/main/notebooks)."
   ]
  }
 ],
 "metadata": {
  "colab": {
   "provenance": []
  },
  "kernelspec": {
   "display_name": "Python 3 (ipykernel)",
   "language": "python",
   "name": "python3"
  },
  "language_info": {
   "codemirror_mode": {
    "name": "ipython",
    "version": 3
   },
   "file_extension": ".py",
   "mimetype": "text/x-python",
   "name": "python",
   "nbconvert_exporter": "python",
   "pygments_lexer": "ipython3",
   "version": "3.11.1"
  }
 },
 "nbformat": 4,
 "nbformat_minor": 4
}
