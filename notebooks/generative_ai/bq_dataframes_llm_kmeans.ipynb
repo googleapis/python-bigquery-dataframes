{
 "cells": [
  {
   "cell_type": "code",
   "execution_count": 1,
   "metadata": {},
   "outputs": [],
   "source": [
    "# Copyright 2023 Google LLC\n",
    "#\n",
    "# Licensed under the Apache License, Version 2.0 (the \"License\");\n",
    "# you may not use this file except in compliance with the License.\n",
    "# You may obtain a copy of the License at\n",
    "#\n",
    "#     https://www.apache.org/licenses/LICENSE-2.0\n",
    "#\n",
    "# Unless required by applicable law or agreed to in writing, software\n",
    "# distributed under the License is distributed on an \"AS IS\" BASIS,\n",
    "# WITHOUT WARRANTIES OR CONDITIONS OF ANY KIND, either express or implied.\n",
    "# See the License for the specific language governing permissions and\n",
    "# limitations under the License."
   ]
  },
  {
   "attachments": {},
   "cell_type": "markdown",
   "metadata": {},
   "source": [
    "## Use BigQuery DataFrames to cluster and characterize complaints\n",
    "\n",
    "<table align=\"left\">\n",
    "\n",
    "  <td>\n",
    "    <a href=\"https://colab.research.google.com/github/googleapis/python-bigquery-dataframes/blob/main/notebooks/generative_ai/bq_dataframes_llm_kmeans.ipynb\">\n",
    "      <img src=\"https://cloud.google.com/ml-engine/images/colab-logo-32px.png\" alt=\"Colab logo\"> Run in Colab\n",
    "    </a>\n",
    "  </td>\n",
    "  <td>\n",
    "    <a href=\"https://github.com/googleapis/python-bigquery-dataframes/tree/main/notebooks/generative_ai/bq_dataframes_llm_kmeans.ipynb\">\n",
    "      <img src=\"https://cloud.google.com/ml-engine/images/github-logo-32px.png\" alt=\"GitHub logo\">\n",
    "      View on GitHub\n",
    "    </a>\n",
    "  </td>\n",
    "  <td>\n",
    "    <a href=\"https://console.cloud.google.com/vertex-ai/workbench/deploy-notebook?download_url=https://raw.githubusercontent.com/googleapis/python-bigquery-dataframes/tree/main/notebooks/generative_ai/bq_dataframes_llm_kmeans.ipynb\">\n",
    "      <img src=\"https://lh3.googleusercontent.com/UiNooY4LUgW_oTvpsNhPpQzsstV5W8F7rYgxgGBD85cWJoLmrOzhVs_ksK_vgx40SHs7jCqkTkCk=e14-rj-sc0xffffff-h130-w32\" alt=\"Vertex AI logo\">\n",
    "      Open in Vertex AI Workbench\n",
    "    </a>\n",
    "  </td>                                                                                               \n",
    "</table>"
   ]
  },
  {
   "attachments": {},
   "cell_type": "markdown",
   "metadata": {},
   "source": [
    "## Overview\n",
    "\n",
    "The goal of this notebook is to demonstrate a comment characterization algorithm for an online business. We will accomplish this using [Google's PaLM 2](https://ai.google/discover/palm2/) and [KMeans clustering](https://en.wikipedia.org/wiki/K-means_clustering) in three steps:\n",
    "\n",
    "1. Use PaLM2TextEmbeddingGenerator to [generate text embeddings](https://cloud.google.com/vertex-ai/docs/generative-ai/embeddings/get-text-embeddings) for each of 10000 complaints sent to an online bank. If you're not familiar with what a text embedding is, it's a list of numbers that are like coordinates in an imaginary \"meaning space\" for sentences. (It's like [word embeddings](https://en.wikipedia.org/wiki/Word_embedding), but for more general text.) The important point for our purposes is that similar sentences are close to each other in this imaginary space.\n",
    "2. Use KMeans clustering to group together complaints whose text embeddings are near to eachother. This will give us sets of similar complaints, but we don't yet know _why_ these complaints are similar.\n",
    "3. Prompt PaLM2TextGenerator in English asking what the difference is between the groups of complaints that we got. Thanks to the power of modern LLMs, the response might give us a very good idea of what these complaints are all about, but remember to [\"understand the limits of your dataset and model.\"](https://ai.google/responsibility/responsible-ai-practices/#:~:text=Understand%20the%20limitations%20of%20your%20dataset%20and%20model)\n",
    "\n",
    "We will tie these pieces together in Python using BigQuery DataFrames. [Click here](https://cloud.google.com/bigquery/docs/dataframes-quickstart) to learn more about BigQuery DataFrames!"
   ]
  },
  {
   "attachments": {},
   "cell_type": "markdown",
   "metadata": {},
   "source": [
    "### Dataset\n",
    "\n",
    "This notebook uses the [CFPB Consumer Complaint Database](https://console.cloud.google.com/marketplace/product/cfpb/complaint-database)."
   ]
  },
  {
   "attachments": {},
   "cell_type": "markdown",
   "metadata": {},
   "source": [
    "### Costs\n",
    "\n",
    "This tutorial uses billable components of Google Cloud:\n",
    "\n",
    "* BigQuery (compute)\n",
    "* BigQuery ML\n",
    "* Generative AI support on Vertex AI\n",
    "\n",
    "Learn about [BigQuery compute pricing](https://cloud.google.com/bigquery/pricing#analysis_pricing_models), [Generative AI support on Vertex AI pricing](https://cloud.google.com/vertex-ai/pricing#generative_ai_models),\n",
    "and [BigQuery ML pricing](https://cloud.google.com/bigquery/pricing#bqml),\n",
    "and use the [Pricing Calculator](https://cloud.google.com/products/calculator/)\n",
    "to generate a cost estimate based on your projected usage."
   ]
  },
  {
   "attachments": {},
   "cell_type": "markdown",
   "metadata": {},
   "source": [
    "## Before you begin\n",
    "\n",
    "Complete the tasks in this section to set up your environment."
   ]
  },
  {
   "attachments": {},
   "cell_type": "markdown",
   "metadata": {},
   "source": [
    "### Set up your Google Cloud project\n",
    "\n",
    "**The following steps are required, regardless of your notebook environment.**\n",
    "\n",
    "1. [Select or create a Google Cloud project](https://console.cloud.google.com/cloud-resource-manager). When you first create an account, you get a $300 credit towards your compute/storage costs.\n",
    "\n",
    "2. [Make sure that billing is enabled for your project](https://cloud.google.com/billing/docs/how-to/modify-project).\n",
    "\n",
    "3. [Click here](https://console.cloud.google.com/flows/enableapi?apiid=bigquery.googleapis.com,bigqueryconnection.googleapis.com,aiplatform.googleapis.com) to enable the following APIs:\n",
    "\n",
    "  * BigQuery API\n",
    "  * BigQuery Connection API\n",
    "  * Vertex AI API\n",
    "\n",
    "4. If you are running this notebook locally, install the [Cloud SDK](https://cloud.google.com/sdk)."
   ]
  },
  {
   "attachments": {},
   "cell_type": "markdown",
   "metadata": {},
   "source": [
    "#### Set your project ID\n",
    "\n",
    "**If you don't know your project ID**, see the support page: [Locate the project ID](https://support.google.com/googleapi/answer/7014113)"
   ]
  },
  {
   "cell_type": "code",
   "execution_count": 2,
   "metadata": {},
   "outputs": [],
   "source": [
    "# set your project ID below\n",
    "PROJECT_ID = \"\"  # @param {type:\"string\"}\n",
    "\n",
    "# Set the project id in gcloud\n",
    "! gcloud config set project {PROJECT_ID}"
   ]
  },
  {
   "attachments": {},
   "cell_type": "markdown",
   "metadata": {},
   "source": [
    "#### Set the region\n",
    "\n",
    "You can also change the `REGION` variable used by BigQuery. Learn more about [BigQuery regions](https://cloud.google.com/bigquery/docs/locations#supported_locations)."
   ]
  },
  {
   "cell_type": "code",
   "execution_count": 3,
   "metadata": {},
   "outputs": [],
   "source": [
    "REGION = \"US\"  # @param {type: \"string\"}"
   ]
  },
  {
   "attachments": {},
   "cell_type": "markdown",
   "metadata": {},
   "source": [
    "#### Authenticate your Google Cloud account\n",
    "\n",
    "Depending on your Jupyter environment, you might have to manually authenticate. Follow the relevant instructions below."
   ]
  },
  {
   "attachments": {},
   "cell_type": "markdown",
   "metadata": {},
   "source": [
    "**Vertex AI Workbench**\n",
    "\n",
    "Do nothing, you are already authenticated."
   ]
  },
  {
   "attachments": {},
   "cell_type": "markdown",
   "metadata": {},
   "source": [
    "**Local JupyterLab instance**\n",
    "\n",
    "Uncomment and run the following cell:"
   ]
  },
  {
   "cell_type": "code",
   "execution_count": 4,
   "metadata": {},
   "outputs": [],
   "source": [
    "# ! gcloud auth login"
   ]
  },
  {
   "attachments": {},
   "cell_type": "markdown",
   "metadata": {},
   "source": [
    "**Colab**\n",
    "\n",
    "Uncomment and run the following cell:"
   ]
  },
  {
   "cell_type": "code",
   "execution_count": 5,
   "metadata": {},
   "outputs": [],
   "source": [
    "# from google.colab import auth\n",
    "# auth.authenticate_user()"
   ]
  },
  {
   "attachments": {},
   "cell_type": "markdown",
   "metadata": {},
   "source": [
    "Now we are ready to use BigQuery DataFrames!"
   ]
  },
  {
   "attachments": {},
   "cell_type": "markdown",
   "metadata": {
    "id": "xckgWno6ouHY"
   },
   "source": [
    "## Step 1: Text embedding "
   ]
  },
  {
   "attachments": {},
   "cell_type": "markdown",
   "metadata": {},
   "source": [
    "BigQuery DataFrames setup"
   ]
  },
  {
   "cell_type": "code",
   "execution_count": 6,
   "metadata": {
    "id": "R7STCS8xB5d2"
   },
   "outputs": [],
   "source": [
    "import bigframes.pandas as bf\n",
    "\n",
    "bf.options.bigquery.project = PROJECT_ID\n",
    "bf.options.bigquery.location = REGION"
   ]
  },
  {
   "attachments": {},
   "cell_type": "markdown",
   "metadata": {},
   "source": [
    "If you want to reset the location of the created DataFrame or Series objects, reset the session by executing `bf.close_session()`. After that, you can reuse `bf.options.bigquery.location` to specify another location."
   ]
  },
  {
   "attachments": {},
   "cell_type": "markdown",
   "metadata": {
    "id": "v6FGschEowht"
   },
   "source": [
    "Data Input - read the data from a publicly available BigQuery dataset"
   ]
  },
  {
   "cell_type": "code",
   "execution_count": 7,
   "metadata": {
    "id": "zDSwoBo1CU3G"
   },
   "outputs": [],
   "source": [
    "input_df = bf.read_gbq(\"bigquery-public-data.cfpb_complaints.complaint_database\")"
   ]
  },
  {
   "cell_type": "code",
   "execution_count": 8,
   "metadata": {
    "id": "tYDoaKgJChiq"
   },
   "outputs": [
    {
     "data": {
      "text/html": [
       "Query job 4423e883-bd7e-41c9-86b3-52d296a36b00 is DONE. 2.3 GB processed. <a target=\"_blank\" href=\"https://console.cloud.google.com/bigquery?project=swast-scratch&j=bq:US:4423e883-bd7e-41c9-86b3-52d296a36b00&page=queryresults\">Open Job</a>"
      ],
      "text/plain": [
       "<IPython.core.display.HTML object>"
      ]
     },
     "metadata": {},
     "output_type": "display_data"
    },
    {
     "data": {
      "text/html": [
       "Query job 4ddbf855-a48e-4d98-80d3-290b06d55e98 is DONE. 2.3 GB processed. <a target=\"_blank\" href=\"https://console.cloud.google.com/bigquery?project=swast-scratch&j=bq:US:4ddbf855-a48e-4d98-80d3-290b06d55e98&page=queryresults\">Open Job</a>"
      ],
      "text/plain": [
       "<IPython.core.display.HTML object>"
      ]
     },
     "metadata": {},
     "output_type": "display_data"
    },
    {
     "data": {
      "text/html": [
       "<div>\n",
       "<style scoped>\n",
       "    .dataframe tbody tr th:only-of-type {\n",
       "        vertical-align: middle;\n",
       "    }\n",
       "\n",
       "    .dataframe tbody tr th {\n",
       "        vertical-align: top;\n",
       "    }\n",
       "\n",
       "    .dataframe thead th {\n",
       "        text-align: right;\n",
       "    }\n",
       "</style>\n",
       "<table border=\"1\" class=\"dataframe\">\n",
       "  <thead>\n",
       "    <tr style=\"text-align: right;\">\n",
       "      <th></th>\n",
       "      <th>consumer_complaint_narrative</th>\n",
       "    </tr>\n",
       "  </thead>\n",
       "  <tbody>\n",
       "    <tr>\n",
       "      <th>2</th>\n",
       "      <td>COLLECTION BUREAU OF AMERICA ACCOUNT NO.  XXXX...</td>\n",
       "    </tr>\n",
       "    <tr>\n",
       "      <th>3</th>\n",
       "      <td>Despite multiple written requests, the unverif...</td>\n",
       "    </tr>\n",
       "    <tr>\n",
       "      <th>6</th>\n",
       "      <td>Once again you guys have not provided me with ...</td>\n",
       "    </tr>\n",
       "    <tr>\n",
       "      <th>9</th>\n",
       "      <td>XX/XX/XXXX {$350.00} I received a outstating d...</td>\n",
       "    </tr>\n",
       "    <tr>\n",
       "      <th>10</th>\n",
       "      <td>Im am unable to withdraw money from my account...</td>\n",
       "    </tr>\n",
       "  </tbody>\n",
       "</table>\n",
       "<p>5 rows × 1 columns</p>\n",
       "</div>[5 rows x 1 columns in total]"
      ],
      "text/plain": [
       "                         consumer_complaint_narrative\n",
       "2   COLLECTION BUREAU OF AMERICA ACCOUNT NO.  XXXX...\n",
       "3   Despite multiple written requests, the unverif...\n",
       "6   Once again you guys have not provided me with ...\n",
       "9   XX/XX/XXXX {$350.00} I received a outstating d...\n",
       "10  Im am unable to withdraw money from my account...\n",
       "\n",
       "[5 rows x 1 columns]"
      ]
     },
     "execution_count": 8,
     "metadata": {},
     "output_type": "execute_result"
    }
   ],
   "source": [
    "issues_df = input_df[[\"consumer_complaint_narrative\"]].dropna()\n",
    "issues_df.head(n=5) # View the first five complaints"
   ]
  },
  {
   "attachments": {},
   "cell_type": "markdown",
   "metadata": {},
   "source": [
    "Downsample DataFrame to 10,000 records for model training."
   ]
  },
  {
   "cell_type": "code",
   "execution_count": 9,
   "metadata": {
    "id": "OltYSUEcsSOW"
   },
   "outputs": [],
   "source": [
    "# Choose 10,000 complaints randomly and store them in a column in a DataFrame\n",
    "downsampled_issues_df = issues_df.sample(n=10000)"
   ]
  },
  {
   "attachments": {},
   "cell_type": "markdown",
   "metadata": {
    "id": "Wl2o-NYMoygb"
   },
   "source": [
    "Generate the text embeddings"
   ]
  },
  {
   "cell_type": "code",
   "execution_count": 10,
   "metadata": {
    "id": "li38q8FzDDMu"
   },
   "outputs": [
    {
     "data": {
      "text/html": [
       "Query job 1f75a254-c8c5-468a-a8c0-76f342a2822a is DONE. 0 Bytes processed. <a target=\"_blank\" href=\"https://console.cloud.google.com/bigquery?project=swast-scratch&j=bq:US:1f75a254-c8c5-468a-a8c0-76f342a2822a&page=queryresults\">Open Job</a>"
      ],
      "text/plain": [
       "<IPython.core.display.HTML object>"
      ]
     },
     "metadata": {},
     "output_type": "display_data"
    }
   ],
   "source": [
    "from bigframes.ml.llm import PaLM2TextEmbeddingGenerator\n",
    "\n",
    "model = PaLM2TextEmbeddingGenerator() # No connection id needed"
   ]
  },
  {
   "cell_type": "code",
   "execution_count": 11,
   "metadata": {
    "id": "cOuSOQ5FDewD"
   },
   "outputs": [
    {
     "data": {
      "text/html": [
       "Query job 15508c20-760e-4137-b312-f010913d13f5 is DONE. 2.3 GB processed. <a target=\"_blank\" href=\"https://console.cloud.google.com/bigquery?project=swast-scratch&j=bq:US:15508c20-760e-4137-b312-f010913d13f5&page=queryresults\">Open Job</a>"
      ],
      "text/plain": [
       "<IPython.core.display.HTML object>"
      ]
     },
     "metadata": {},
     "output_type": "display_data"
    },
    {
     "data": {
      "text/html": [
       "Query job 1e23baf5-8523-4fc5-9a73-d059c0b51c33 is DONE. 80.0 kB processed. <a target=\"_blank\" href=\"https://console.cloud.google.com/bigquery?project=swast-scratch&j=bq:US:1e23baf5-8523-4fc5-9a73-d059c0b51c33&page=queryresults\">Open Job</a>"
      ],
      "text/plain": [
       "<IPython.core.display.HTML object>"
      ]
     },
     "metadata": {},
     "output_type": "display_data"
    },
    {
     "data": {
      "text/html": [
       "Query job 12bf5383-fa0d-4806-a4a9-d7ee65a0dd01 is DONE. 20.0 kB processed. <a target=\"_blank\" href=\"https://console.cloud.google.com/bigquery?project=swast-scratch&j=bq:US:12bf5383-fa0d-4806-a4a9-d7ee65a0dd01&page=queryresults\">Open Job</a>"
      ],
      "text/plain": [
       "<IPython.core.display.HTML object>"
      ]
     },
     "metadata": {},
     "output_type": "display_data"
    },
    {
     "data": {
      "text/html": [
       "Query job cafcd732-727b-4100-ac47-e6d98024fd16 is DONE. 80.0 kB processed. <a target=\"_blank\" href=\"https://console.cloud.google.com/bigquery?project=swast-scratch&j=bq:US:cafcd732-727b-4100-ac47-e6d98024fd16&page=queryresults\">Open Job</a>"
      ],
      "text/plain": [
       "<IPython.core.display.HTML object>"
      ]
     },
     "metadata": {},
     "output_type": "display_data"
    },
    {
     "data": {
      "text/html": [
       "Query job 216b3d31-4159-4faf-93e6-820f82ca8f31 is DONE. 72.0 MB processed. <a target=\"_blank\" href=\"https://console.cloud.google.com/bigquery?project=swast-scratch&j=bq:US:216b3d31-4159-4faf-93e6-820f82ca8f31&page=queryresults\">Open Job</a>"
      ],
      "text/plain": [
       "<IPython.core.display.HTML object>"
      ]
     },
     "metadata": {},
     "output_type": "display_data"
    },
    {
     "data": {
      "text/html": [
       "<div>\n",
       "<style scoped>\n",
       "    .dataframe tbody tr th:only-of-type {\n",
       "        vertical-align: middle;\n",
       "    }\n",
       "\n",
       "    .dataframe tbody tr th {\n",
       "        vertical-align: top;\n",
       "    }\n",
       "\n",
       "    .dataframe thead th {\n",
       "        text-align: right;\n",
       "    }\n",
       "</style>\n",
       "<table border=\"1\" class=\"dataframe\">\n",
       "  <thead>\n",
       "    <tr style=\"text-align: right;\">\n",
       "      <th></th>\n",
       "      <th>text_embedding</th>\n",
       "      <th>statistics</th>\n",
       "      <th>ml_embed_text_status</th>\n",
       "      <th>content</th>\n",
       "    </tr>\n",
       "  </thead>\n",
       "  <tbody>\n",
       "    <tr>\n",
       "      <th>3</th>\n",
       "      <td>[0.02506784163415432, -0.03947214409708977, -0...</td>\n",
       "      <td>{\"token_count\":273,\"truncated\":false}</td>\n",
       "      <td></td>\n",
       "      <td>Despite multiple written requests, the unverif...</td>\n",
       "    </tr>\n",
       "    <tr>\n",
       "      <th>102</th>\n",
       "      <td>[0.029197776690125465, -0.028653817251324654, ...</td>\n",
       "      <td>{\"token_count\":859,\"truncated\":false}</td>\n",
       "      <td></td>\n",
       "      <td>To Whom It May Concern, Please be advised that...</td>\n",
       "    </tr>\n",
       "    <tr>\n",
       "      <th>660</th>\n",
       "      <td>[0.034257132560014725, -0.05359702184796333, -...</td>\n",
       "      <td>{\"token_count\":282,\"truncated\":false}</td>\n",
       "      <td></td>\n",
       "      <td>Transunion has failed to remove a XXXX  XXXX b...</td>\n",
       "    </tr>\n",
       "    <tr>\n",
       "      <th>1500</th>\n",
       "      <td>[-0.008016454987227917, -0.05421802029013634, ...</td>\n",
       "      <td>{\"token_count\":39,\"truncated\":false}</td>\n",
       "      <td></td>\n",
       "      <td>FRAUDULENT TRADELINES WERE ATTRIBUTED TO MY CR...</td>\n",
       "    </tr>\n",
       "    <tr>\n",
       "      <th>1601</th>\n",
       "      <td>[-0.005403461866080761, -0.024799197912216187,...</td>\n",
       "      <td>{\"token_count\":94,\"truncated\":false}</td>\n",
       "      <td></td>\n",
       "      <td>I am a victim of identity theft/fraud. I have ...</td>\n",
       "    </tr>\n",
       "  </tbody>\n",
       "</table>\n",
       "<p>5 rows × 4 columns</p>\n",
       "</div>[5 rows x 4 columns in total]"
      ],
      "text/plain": [
       "                                         text_embedding  \\\n",
       "3     [0.02506784163415432, -0.03947214409708977, -0...   \n",
       "102   [0.029197776690125465, -0.028653817251324654, ...   \n",
       "660   [0.034257132560014725, -0.05359702184796333, -...   \n",
       "1500  [-0.008016454987227917, -0.05421802029013634, ...   \n",
       "1601  [-0.005403461866080761, -0.024799197912216187,...   \n",
       "\n",
       "                                 statistics ml_embed_text_status  \\\n",
       "3     {\"token_count\":273,\"truncated\":false}                        \n",
       "102   {\"token_count\":859,\"truncated\":false}                        \n",
       "660   {\"token_count\":282,\"truncated\":false}                        \n",
       "1500   {\"token_count\":39,\"truncated\":false}                        \n",
       "1601   {\"token_count\":94,\"truncated\":false}                        \n",
       "\n",
       "                                                content  \n",
       "3     Despite multiple written requests, the unverif...  \n",
       "102   To Whom It May Concern, Please be advised that...  \n",
       "660   Transunion has failed to remove a XXXX  XXXX b...  \n",
       "1500  FRAUDULENT TRADELINES WERE ATTRIBUTED TO MY CR...  \n",
       "1601  I am a victim of identity theft/fraud. I have ...  \n",
       "\n",
       "[5 rows x 4 columns]"
      ]
     },
     "execution_count": 11,
     "metadata": {},
     "output_type": "execute_result"
    }
   ],
   "source": [
    "# Will take ~3 minutes to compute the embeddings\n",
    "predicted_embeddings = model.predict(downsampled_issues_df)\n",
    "# Notice the lists of numbers that are our text embeddings for each complaint\n",
    "predicted_embeddings.head() "
   ]
  },
  {
   "attachments": {},
   "cell_type": "markdown",
   "metadata": {},
   "source": [
    "We now have the complaints and their text embeddings as two columns in our predicted_embeddings DataFrame."
   ]
  },
  {
   "attachments": {},
   "cell_type": "markdown",
   "metadata": {
    "id": "OUZ3NNbzo1Tb"
   },
   "source": [
    "## Step 2: Create k-means model and predict clusters"
   ]
  },
  {
   "cell_type": "code",
   "execution_count": 12,
   "metadata": {
    "id": "AhNTnEC5FRz2"
   },
   "outputs": [],
   "source": [
    "from bigframes.ml.cluster import KMeans\n",
    "\n",
    "cluster_model = KMeans(n_clusters=10) # We will divide our complaints into 10 groups"
   ]
  },
  {
   "attachments": {},
   "cell_type": "markdown",
   "metadata": {},
   "source": [
    "Perform KMeans clustering"
   ]
  },
  {
   "cell_type": "code",
   "execution_count": 13,
   "metadata": {
    "id": "6poSxh-fGJF7"
   },
   "outputs": [
    {
     "data": {
      "text/html": [
       "Query job ed22ef18-cbdf-4c7a-9244-38f65e2bbefb is DONE. 61.5 MB processed. <a target=\"_blank\" href=\"https://console.cloud.google.com/bigquery?project=swast-scratch&j=bq:US:ed22ef18-cbdf-4c7a-9244-38f65e2bbefb&page=queryresults\">Open Job</a>"
      ],
      "text/plain": [
       "<IPython.core.display.HTML object>"
      ]
     },
     "metadata": {},
     "output_type": "display_data"
    },
    {
     "data": {
      "text/html": [
       "Query job 5e94bc4b-44d6-4c20-b907-cee9795d5b54 is DONE. 61.4 MB processed. <a target=\"_blank\" href=\"https://console.cloud.google.com/bigquery?project=swast-scratch&j=bq:US:5e94bc4b-44d6-4c20-b907-cee9795d5b54&page=queryresults\">Open Job</a>"
      ],
      "text/plain": [
       "<IPython.core.display.HTML object>"
      ]
     },
     "metadata": {},
     "output_type": "display_data"
    },
    {
     "data": {
      "text/html": [
       "Query job 915d58d8-403b-44bf-8cf2-38ad5a87be9d is DONE. 72.3 MB processed. <a target=\"_blank\" href=\"https://console.cloud.google.com/bigquery?project=swast-scratch&j=bq:US:915d58d8-403b-44bf-8cf2-38ad5a87be9d&page=queryresults\">Open Job</a>"
      ],
      "text/plain": [
       "<IPython.core.display.HTML object>"
      ]
     },
     "metadata": {},
     "output_type": "display_data"
    },
    {
     "data": {
      "text/html": [
       "Query job fa241e23-d153-49ea-8dff-6d28906bcb1f is DONE. 80.0 kB processed. <a target=\"_blank\" href=\"https://console.cloud.google.com/bigquery?project=swast-scratch&j=bq:US:fa241e23-d153-49ea-8dff-6d28906bcb1f&page=queryresults\">Open Job</a>"
      ],
      "text/plain": [
       "<IPython.core.display.HTML object>"
      ]
     },
     "metadata": {},
     "output_type": "display_data"
    },
    {
     "data": {
      "text/html": [
       "Query job a3b00aa3-d6d6-4e30-ac96-816b81fcd202 is DONE. 80.0 kB processed. <a target=\"_blank\" href=\"https://console.cloud.google.com/bigquery?project=swast-scratch&j=bq:US:a3b00aa3-d6d6-4e30-ac96-816b81fcd202&page=queryresults\">Open Job</a>"
      ],
      "text/plain": [
       "<IPython.core.display.HTML object>"
      ]
     },
     "metadata": {},
     "output_type": "display_data"
    },
    {
     "data": {
      "text/html": [
       "Query job 38277ed2-bcad-4de1-b508-7bb44b3158dc is DONE. 73.2 MB processed. <a target=\"_blank\" href=\"https://console.cloud.google.com/bigquery?project=swast-scratch&j=bq:US:38277ed2-bcad-4de1-b508-7bb44b3158dc&page=queryresults\">Open Job</a>"
      ],
      "text/plain": [
       "<IPython.core.display.HTML object>"
      ]
     },
     "metadata": {},
     "output_type": "display_data"
    },
    {
     "data": {
      "text/html": [
       "<div>\n",
       "<style scoped>\n",
       "    .dataframe tbody tr th:only-of-type {\n",
       "        vertical-align: middle;\n",
       "    }\n",
       "\n",
       "    .dataframe tbody tr th {\n",
       "        vertical-align: top;\n",
       "    }\n",
       "\n",
       "    .dataframe thead th {\n",
       "        text-align: right;\n",
       "    }\n",
       "</style>\n",
       "<table border=\"1\" class=\"dataframe\">\n",
       "  <thead>\n",
       "    <tr style=\"text-align: right;\">\n",
       "      <th></th>\n",
       "      <th>CENTROID_ID</th>\n",
       "      <th>NEAREST_CENTROIDS_DISTANCE</th>\n",
       "      <th>text_embedding</th>\n",
       "      <th>statistics</th>\n",
       "      <th>ml_embed_text_status</th>\n",
       "      <th>content</th>\n",
       "    </tr>\n",
       "  </thead>\n",
       "  <tbody>\n",
       "    <tr>\n",
       "      <th>3</th>\n",
       "      <td>8</td>\n",
       "      <td>[{'CENTROID_ID': 8, 'DISTANCE': 0.399505154607...</td>\n",
       "      <td>[0.02506784163415432, -0.03947214409708977, -0...</td>\n",
       "      <td>{\"token_count\":273,\"truncated\":false}</td>\n",
       "      <td></td>\n",
       "      <td>Despite multiple written requests, the unverif...</td>\n",
       "    </tr>\n",
       "    <tr>\n",
       "      <th>102</th>\n",
       "      <td>8</td>\n",
       "      <td>[{'CENTROID_ID': 8, 'DISTANCE': 0.403332660368...</td>\n",
       "      <td>[0.029197776690125465, -0.028653817251324654, ...</td>\n",
       "      <td>{\"token_count\":859,\"truncated\":false}</td>\n",
       "      <td></td>\n",
       "      <td>To Whom It May Concern, Please be advised that...</td>\n",
       "    </tr>\n",
       "    <tr>\n",
       "      <th>660</th>\n",
       "      <td>10</td>\n",
       "      <td>[{'CENTROID_ID': 10, 'DISTANCE': 0.42615208239...</td>\n",
       "      <td>[0.034257132560014725, -0.05359702184796333, -...</td>\n",
       "      <td>{\"token_count\":282,\"truncated\":false}</td>\n",
       "      <td></td>\n",
       "      <td>Transunion has failed to remove a XXXX  XXXX b...</td>\n",
       "    </tr>\n",
       "    <tr>\n",
       "      <th>1500</th>\n",
       "      <td>6</td>\n",
       "      <td>[{'CENTROID_ID': 6, 'DISTANCE': 0.500031509322...</td>\n",
       "      <td>[-0.008016454987227917, -0.05421802029013634, ...</td>\n",
       "      <td>{\"token_count\":39,\"truncated\":false}</td>\n",
       "      <td></td>\n",
       "      <td>FRAUDULENT TRADELINES WERE ATTRIBUTED TO MY CR...</td>\n",
       "    </tr>\n",
       "    <tr>\n",
       "      <th>1601</th>\n",
       "      <td>6</td>\n",
       "      <td>[{'CENTROID_ID': 6, 'DISTANCE': 0.361769337067...</td>\n",
       "      <td>[-0.005403461866080761, -0.024799197912216187,...</td>\n",
       "      <td>{\"token_count\":94,\"truncated\":false}</td>\n",
       "      <td></td>\n",
       "      <td>I am a victim of identity theft/fraud. I have ...</td>\n",
       "    </tr>\n",
       "  </tbody>\n",
       "</table>\n",
       "<p>5 rows × 6 columns</p>\n",
       "</div>[5 rows x 6 columns in total]"
      ],
      "text/plain": [
       "      CENTROID_ID                         NEAREST_CENTROIDS_DISTANCE  \\\n",
       "3               8  [{'CENTROID_ID': 8, 'DISTANCE': 0.399505154607...   \n",
       "102             8  [{'CENTROID_ID': 8, 'DISTANCE': 0.403332660368...   \n",
       "660            10  [{'CENTROID_ID': 10, 'DISTANCE': 0.42615208239...   \n",
       "1500            6  [{'CENTROID_ID': 6, 'DISTANCE': 0.500031509322...   \n",
       "1601            6  [{'CENTROID_ID': 6, 'DISTANCE': 0.361769337067...   \n",
       "\n",
       "                                         text_embedding  \\\n",
       "3     [0.02506784163415432, -0.03947214409708977, -0...   \n",
       "102   [0.029197776690125465, -0.028653817251324654, ...   \n",
       "660   [0.034257132560014725, -0.05359702184796333, -...   \n",
       "1500  [-0.008016454987227917, -0.05421802029013634, ...   \n",
       "1601  [-0.005403461866080761, -0.024799197912216187,...   \n",
       "\n",
       "                                 statistics ml_embed_text_status  \\\n",
       "3     {\"token_count\":273,\"truncated\":false}                        \n",
       "102   {\"token_count\":859,\"truncated\":false}                        \n",
       "660   {\"token_count\":282,\"truncated\":false}                        \n",
       "1500   {\"token_count\":39,\"truncated\":false}                        \n",
       "1601   {\"token_count\":94,\"truncated\":false}                        \n",
       "\n",
       "                                                content  \n",
       "3     Despite multiple written requests, the unverif...  \n",
       "102   To Whom It May Concern, Please be advised that...  \n",
       "660   Transunion has failed to remove a XXXX  XXXX b...  \n",
       "1500  FRAUDULENT TRADELINES WERE ATTRIBUTED TO MY CR...  \n",
       "1601  I am a victim of identity theft/fraud. I have ...  \n",
       "\n",
       "[5 rows x 6 columns]"
      ]
     },
     "execution_count": 13,
     "metadata": {},
     "output_type": "execute_result"
    }
   ],
   "source": [
    "# Use KMeans clustering to calculate our groups. Will take ~3 minutes.\n",
    "cluster_model.fit(predicted_embeddings[[\"text_embedding\"]])\n",
    "clustered_result = cluster_model.predict(predicted_embeddings)\n",
    "# Notice the CENTROID_ID column, which is the ID number of the group that\n",
    "# each complaint belongs to.\n",
    "clustered_result.head(n=5)"
   ]
  },
  {
   "attachments": {},
   "cell_type": "markdown",
   "metadata": {},
   "source": [
    "Our DataFrame clustered_result now has an additional column that includes an ID from 1-10 (inclusive) indicating which semantically similar group they belong to."
   ]
  },
  {
   "attachments": {},
   "cell_type": "markdown",
   "metadata": {
    "id": "21rNsFMHo8hO"
   },
   "source": [
    "## Step 3: Use PaLM2 LLM model to summarize complaint clusters"
   ]
  },
  {
   "attachments": {},
   "cell_type": "markdown",
   "metadata": {},
   "source": [
    "Build prompts - we will choose just two of our categories and prompt PaLM2TextGenerator to identify their salient characteristics. The prompt is natural language in a python string."
   ]
  },
  {
   "cell_type": "code",
   "execution_count": 14,
   "metadata": {
    "id": "2E7wXM_jGqo6"
   },
   "outputs": [
    {
     "data": {
      "text/html": [
       "Query job 8aec7d59-aaf5-4c55-85d3-1c96ee904558 is DONE. 10.5 MB processed. <a target=\"_blank\" href=\"https://console.cloud.google.com/bigquery?project=swast-scratch&j=bq:US:8aec7d59-aaf5-4c55-85d3-1c96ee904558&page=queryresults\">Open Job</a>"
      ],
      "text/plain": [
       "<IPython.core.display.HTML object>"
      ]
     },
     "metadata": {},
     "output_type": "display_data"
    },
    {
     "data": {
      "text/html": [
       "Query job f269725a-da1c-46d4-aa3f-3525bbbceaef is DONE. 10.5 MB processed. <a target=\"_blank\" href=\"https://console.cloud.google.com/bigquery?project=swast-scratch&j=bq:US:f269725a-da1c-46d4-aa3f-3525bbbceaef&page=queryresults\">Open Job</a>"
      ],
      "text/plain": [
       "<IPython.core.display.HTML object>"
      ]
     },
     "metadata": {},
     "output_type": "display_data"
    }
   ],
   "source": [
    "# Using bigframes, with syntax identical to pandas,\n",
    "# filter out the first and second groups\n",
    "cluster_1_result = clustered_result[\n",
    "    clustered_result[\"CENTROID_ID\"] == 1\n",
    "][[\"content\"]]\n",
    "cluster_1_result_pandas = cluster_1_result.head(5).to_pandas()\n",
    "\n",
    "cluster_2_result = clustered_result[\n",
    "    clustered_result[\"CENTROID_ID\"] == 2\n",
    "][[\"content\"]]\n",
    "cluster_2_result_pandas = cluster_2_result.head(5).to_pandas()"
   ]
  },
  {
   "cell_type": "code",
   "execution_count": 15,
   "metadata": {
    "id": "ZNDiueI9IP5e"
   },
   "outputs": [
    {
     "name": "stdout",
     "output_type": "stream",
     "text": [
      "comment list 1:\n",
      "1. Out of the blue I received a debt collection notice saying they were collecting debt of {$710.00} for a XXXX XXXX  which I have no idea what it was and was never notified of. I replied with written notification disputing the debt and demand of supporting documentation ( as the debt collection simply stated a total due with no supporting documentation ) but received no supporting documentation or verification.\n",
      "2. I am referring a case to the Consumer Protection Bureau as follows. \n",
      "\n",
      "First, please see the most recent document, 'New_Debt_Collector_Account.jpg '. This was sent to me on XX/XX/2021 and arrived on XX/XX/2021. This is a letter from \" I.C. System '' telling me I must pay a delinquent account for \" XXXX ''. An account I thought that was already settled by \" Offices of the XXXX XXXX XXXX ''. Or so I believed. Until now... \n",
      "\n",
      "See attachment 'dispute.rtf '. This is the original letter I sent to \" Offices of the XXXX XXXX XXXX ''. Within 'dispute.rtf ' is a very detailed, and extremely well articulated ( if I do say so myself ) dispute letter, delineating the abuses and reasons to \" XXXX '' of why I would not pay the bill. In a response, sent back to me by \" Offices of the XXXX XXXX XXXX '', 'dispute_response.jpg ', they said they would discontinue their collection efforts and no information regarding this account would be referred to the credit bureau XXXX \n",
      "\n",
      "THEN, 7 months later, from \" I.C. System '' I receive, 'New_Debt_Collector_Account.jpg ', as first seent above, saying I still owe this debt.\n",
      "\n",
      "My question, to \" I.C. System '' \" XXXX XXXX '' and the \" Consumer Protection Bureau '' are : How can I dispute and then remove a debt, that I legitimatlly do not owe, and be exonerated from it, if \" Charter/Spectrum '' can simply refer it to another debt collecting company to try and collect it? And then tarnish my credit? Is misleading a consumer like this 'legal '?\n",
      "\n",
      "As 'dispute.rtf ' indicates, I even said I would contact the Consumer Protection Bureau and the XXXX. I did not originally do this and regret that decision, but I am doing so now!! \n",
      "\n",
      "Furthermore, due to the unparalleled absolute deceptive malfeasance on the part of \" XXXX '' and these debt XXXX, I am considering approaching media outlets with my story. Consumers can not and should not be ripped of this way and their credit tarnished, while a corrupt telecommunications company and their debt collecting cronies attempt to charge them for several months of internet they never had. \n",
      "\n",
      "This is fraud, it is illegal, and it needs to stop. And I wish to be exonerated from this debt as I was originally led to believe!!! \n",
      "\n",
      "Finally, if \" XXXX '' are part of any class action lawsuits involving this behaviour ( and I'm sure they are ), then I wish to testify on the behalf on any government, individual, and/or private institutions as to the corrput nature of entities such as \" XXXX '' and their debt collectors, and hereby consent to providing all the following statements, including all attachments herein, and any testimony they want me to give as evidence. \n",
      "\n",
      "-XXXX  XXXX XXXX XXXX XXXX\n",
      "3. XXXX called on XX/XX/XXXX at about XXXXXXXX XXXX  claiming to be from Sherloq financial, about collecting medical debt from XXXX, he was XXXX  and XXXX  and said there were four other accounts but did not specify which or how much. I have been contacted by my insurance that I have paid everything in relation to this. I have talked to my doctor and my endocrinologist and they said I don't owe anything either. ( I am XXXX and have XXXX and XXXX that pays for my doctor visits. ) I feel that they are just trying to collect money they are not owed and its predatory.\n",
      "4. While moving out of my long time residence in XXXX, CA I began the process to cut off my services in XXXX of XXXX which included the phone, internet and XXXX, which were all included in a single bill. Initially the final date I relayed to XXXX XXXX XXXX was the XXXX of XXXX but because of delays in the move was extended to XX/XX/XXXX. Because XXXX ended up mistakenly cutting off the satellite service on the XXXX I had to call them directly to extend it to the XXXX. I left the house for the last time on XXXX XX/XX/XXXX and turn in all the equipment as required to the local XXXX office. Although I assumed all the services were ended properly I continued to get bills from XXXX ( not from XXXX XXXX XXXX ) so I called several times to rectify the mistake and finally sent a detailed escalation letter to them in XX/XX/XXXX. I felt at this point they finally realized their mistake and closed the bill but in XXXX of XXXX I then received a collection notice from Afni, Inc. for the disputed amount. I recently forwarded them a dispute letter along with other pertinent details of the situation. I have no idea why XXXX is unable to verify the fact I no longer lived at the XXXX residence, nor retained any of the receivers or remotes after the XXXX of XX/XX/XXXX. This should be an easy task on their end especially since I went above and beyond due diligence to work with them to correct this.\n",
      "5. Merchants and Medical Credit began reporting on a debt they had acquired on XXXX XXXX 2014 and never sent written notice despite it being required under section 806 of the FDCPA. For 3 years they have been holding my financial life hostage and only recently came to my attention. Despite many disputes with the big three credit reporting agencies section 806 has been ignored and they have continued to break and ignore the proper procedures set forth by the FDCPA.\n",
      "\n",
      "comment list 2:\n",
      "1. I have a PayPal account and a PayPal credit card and a XXXX XXXX Checking account. \n",
      "If I use PayPal, or the PayPal credit card the charges are then debited from my XXXX XXXX Checking account.. \n",
      "\n",
      "Recently there were two fraudulent and unauthorized charges I was alerted to by PayPal.\n",
      "\n",
      "One was a debit from XXXX for {$240.00}. I contacted XXXX and they said there was no record for that amount and date for purchases or charges anywhere on XXXX. They said it was most likely fraudulent and I never authorized it. \n",
      "\n",
      "The other was from XXXX XXXX for {$50.00}. I did make political donations to politicians during the election cycle and I noted each in my checking account. I STOPPED making any further contributions after the last elections in Georgia. This charge was not one I had authorized and it was dated AFTER the last election and was not one of the ones I had checked against my checking account. \n",
      "\n",
      "I disputed both with XXXX XXXX on my checking account and they researched both of them and determined they were fraudulent and XXXX XXXX noted in writing \" We have completed our research of your inquiry and returned the charges unpaid. As a result no money was deducted from your account '' I have filed two claims disputing both charges to PayPal and each time they have denied my fraudulent/unauthorized claims and I even spoke to PayPal people several times and quoted XXXX XXXX to them and then filed a dispute with them on their denial. \n",
      "\n",
      "They are still denying my dispute and claiming that I owe them {$290.00} for both fraudulent charges. Please help me get this resolved. They keep sending me notices and phone calls. I should not have to pay them since XXXX XXXX returned them as unpaid and determined they were fraudulent and even XXXX says there was no purchase or credit so it was fraudulent and unauthorized.\n",
      "2. Banked with truist for almost XXXX  months now and never had an issue until i decided to start funding my account and using my debit card to pay my bills, they locked my debit card which is fine, called to have it unblocked no problem and they end up locking it again but this time they are saying i have to come into a branch to do so which IS a problem. Truist bank is nowhere near me in my state, its an out of state bank so thats literally not an option. Bank locked my online banking with money still in my account lol, i tried an ACH transfer and set up bill pay payments and i tried to log in just to find out my account is restricted for security reasons. This has been XXXX of the worst banking experiences i've ever had and im not being treated like a customer at all. its almost like truist isnt allowing me to use my money the way i want or access my funds properly. Ive had no problem up until i made a large deposit into my account and started using those funds. \n",
      "\n",
      "i have no problenm verifying myself any other way but going out of my current state just to visit truist bank is not an option.\n",
      "3. Navy Exchange ( NEX ), the \" XXXX '' onboard US XXXX bases, offers currency exchange for personnel stationed overseas ( in XXXX ) to  pay their off-base rent. However, the exchange rate offered is always 2-3 % less than the Bank Rate for US dollar to XXXX XXXX exchange. \n",
      "\n",
      "To offset this, the Navy Exchange provides a {$10.00} gift card for use at the NEX, for each month paid. However, this is inequitable because the gift card is always for the same amount, regardless of the monthly rent amount ... so a single military member with an $ XXXX/month ( equivalent ) rent payment derives more proportional benefit from this {$10.00} gift card than a military family whose rent could be closer to $ XXXX ( equivalent ).\n",
      "4. In XX/XX/XXXX, based on a friend 's recommendation, I visited a vacation rental home website to rent her neighbor 's property in XXXX, California, USA. The vacation rental home website is called : XXXX. I used the right side of the website called \" Contact Owner '' to reach out to the owner. I received an email from the owner, XXXX, who let me know that the property was only available for 26 days at a time, as such, I did not move forward. I also received another email from the email address : XXXX. The contact was named XXXX XXXX who asked for desired check-in/out dates, number of bedrooms, and preferred location. He also asked about preferred budget and stated that he manages a lot of properties and could offer an attractive discount. I responded with my preferences and he sent an offer for a vacation rental property. He included a link to view the property via XXXX. I asked for the address of the property and he provided the following address : XXXX XXXX XXXX XXXX, California. He let me know that 50 % of the total was due as a deposit and the remaining amount was due 30 days prior to the arrival date. He also let me know that the owners of the property live in XXXX and require payment with the company XXXX ( formerly TransferWise ). I recognize XXXX as I have used the company in the past and already had an account. Therefore, on XX/XX/XXXX, I sent the money through XXXX to the stated \" Owners '' of the property : XXXX XXXX and XXXX XXXX. \n",
      "Eight days later, I realized that the transaction was a scam after Googling the email address ( XXXX ). There were at least 20 reviewers with similar experiences that claimed this entity was a scammer for rental properties. At this point ( on XX/XX/XXXX ), I reached back out to XXXX via email to ask for the money back, and he agreed to send the money via check to my mailing address. However, the check did not arrive. I let him know that the money did not arrive and asked him to reverse the XXXX transaction. However, I did not receive a response from XXXX. After this, I contacted my bank. My bank provided a temporary reimbursement while an investigation was performed. After the investigation was complete 60 days later ( XX/XX/XXXX ), the reimbursement was removed since my bank determined that XXXX is the company responsible in this matter. As such, I am looking to get a refund for the amount with XXXX.\n",
      "5. I can not withdraw money or pay my rent from my Way to go card from Florida reemployment. It keeps declining me. It was working fine in XXXX, I went to pay my rent for XXXX, and it declined ; I went to an atm again declined. So I ordered a new card and paid expedited shipping ; thinking this one was damaged, I activated it, and it again declined me. There is absolutely no way to contact anyone. All they have is an automatic response which doesn't provide any help\n",
      "\n"
     ]
    }
   ],
   "source": [
    "# Build plain-text prompts to send to PaLM 2. Use only 5 complaints from each group.\n",
    "prompt1 = 'comment list 1:\\n'\n",
    "for i in range(5):\n",
    "    prompt1 += str(i + 1) + '. ' + \\\n",
    "        cluster_1_result_pandas[\"content\"].iloc[i] + '\\n'\n",
    "\n",
    "prompt2 = 'comment list 2:\\n'\n",
    "for i in range(5):\n",
    "    prompt2 += str(i + 1) + '. ' + \\\n",
    "        cluster_2_result_pandas[\"content\"].iloc[i] + '\\n'\n",
    "\n",
    "print(prompt1)\n",
    "print(prompt2)"
   ]
  },
  {
   "cell_type": "code",
   "execution_count": 16,
   "metadata": {
    "id": "BfHGJLirzSvH"
   },
   "outputs": [
    {
     "name": "stdout",
     "output_type": "stream",
     "text": [
      "Please highlight the most obvious difference between the two lists of comments:\n",
      "comment list 1:\n",
      "1. Out of the blue I received a debt collection notice saying they were collecting debt of {$710.00} for a XXXX XXXX  which I have no idea what it was and was never notified of. I replied with written notification disputing the debt and demand of supporting documentation ( as the debt collection simply stated a total due with no supporting documentation ) but received no supporting documentation or verification.\n",
      "2. I am referring a case to the Consumer Protection Bureau as follows. \n",
      "\n",
      "First, please see the most recent document, 'New_Debt_Collector_Account.jpg '. This was sent to me on XX/XX/2021 and arrived on XX/XX/2021. This is a letter from \" I.C. System '' telling me I must pay a delinquent account for \" XXXX ''. An account I thought that was already settled by \" Offices of the XXXX XXXX XXXX ''. Or so I believed. Until now... \n",
      "\n",
      "See attachment 'dispute.rtf '. This is the original letter I sent to \" Offices of the XXXX XXXX XXXX ''. Within 'dispute.rtf ' is a very detailed, and extremely well articulated ( if I do say so myself ) dispute letter, delineating the abuses and reasons to \" XXXX '' of why I would not pay the bill. In a response, sent back to me by \" Offices of the XXXX XXXX XXXX '', 'dispute_response.jpg ', they said they would discontinue their collection efforts and no information regarding this account would be referred to the credit bureau XXXX \n",
      "\n",
      "THEN, 7 months later, from \" I.C. System '' I receive, 'New_Debt_Collector_Account.jpg ', as first seent above, saying I still owe this debt.\n",
      "\n",
      "My question, to \" I.C. System '' \" XXXX XXXX '' and the \" Consumer Protection Bureau '' are : How can I dispute and then remove a debt, that I legitimatlly do not owe, and be exonerated from it, if \" Charter/Spectrum '' can simply refer it to another debt collecting company to try and collect it? And then tarnish my credit? Is misleading a consumer like this 'legal '?\n",
      "\n",
      "As 'dispute.rtf ' indicates, I even said I would contact the Consumer Protection Bureau and the XXXX. I did not originally do this and regret that decision, but I am doing so now!! \n",
      "\n",
      "Furthermore, due to the unparalleled absolute deceptive malfeasance on the part of \" XXXX '' and these debt XXXX, I am considering approaching media outlets with my story. Consumers can not and should not be ripped of this way and their credit tarnished, while a corrupt telecommunications company and their debt collecting cronies attempt to charge them for several months of internet they never had. \n",
      "\n",
      "This is fraud, it is illegal, and it needs to stop. And I wish to be exonerated from this debt as I was originally led to believe!!! \n",
      "\n",
      "Finally, if \" XXXX '' are part of any class action lawsuits involving this behaviour ( and I'm sure they are ), then I wish to testify on the behalf on any government, individual, and/or private institutions as to the corrput nature of entities such as \" XXXX '' and their debt collectors, and hereby consent to providing all the following statements, including all attachments herein, and any testimony they want me to give as evidence. \n",
      "\n",
      "-XXXX  XXXX XXXX XXXX XXXX\n",
      "3. XXXX called on XX/XX/XXXX at about XXXXXXXX XXXX  claiming to be from Sherloq financial, about collecting medical debt from XXXX, he was XXXX  and XXXX  and said there were four other accounts but did not specify which or how much. I have been contacted by my insurance that I have paid everything in relation to this. I have talked to my doctor and my endocrinologist and they said I don't owe anything either. ( I am XXXX and have XXXX and XXXX that pays for my doctor visits. ) I feel that they are just trying to collect money they are not owed and its predatory.\n",
      "4. While moving out of my long time residence in XXXX, CA I began the process to cut off my services in XXXX of XXXX which included the phone, internet and XXXX, which were all included in a single bill. Initially the final date I relayed to XXXX XXXX XXXX was the XXXX of XXXX but because of delays in the move was extended to XX/XX/XXXX. Because XXXX ended up mistakenly cutting off the satellite service on the XXXX I had to call them directly to extend it to the XXXX. I left the house for the last time on XXXX XX/XX/XXXX and turn in all the equipment as required to the local XXXX office. Although I assumed all the services were ended properly I continued to get bills from XXXX ( not from XXXX XXXX XXXX ) so I called several times to rectify the mistake and finally sent a detailed escalation letter to them in XX/XX/XXXX. I felt at this point they finally realized their mistake and closed the bill but in XXXX of XXXX I then received a collection notice from Afni, Inc. for the disputed amount. I recently forwarded them a dispute letter along with other pertinent details of the situation. I have no idea why XXXX is unable to verify the fact I no longer lived at the XXXX residence, nor retained any of the receivers or remotes after the XXXX of XX/XX/XXXX. This should be an easy task on their end especially since I went above and beyond due diligence to work with them to correct this.\n",
      "5. Merchants and Medical Credit began reporting on a debt they had acquired on XXXX XXXX 2014 and never sent written notice despite it being required under section 806 of the FDCPA. For 3 years they have been holding my financial life hostage and only recently came to my attention. Despite many disputes with the big three credit reporting agencies section 806 has been ignored and they have continued to break and ignore the proper procedures set forth by the FDCPA.\n",
      "comment list 2:\n",
      "1. I have a PayPal account and a PayPal credit card and a XXXX XXXX Checking account. \n",
      "If I use PayPal, or the PayPal credit card the charges are then debited from my XXXX XXXX Checking account.. \n",
      "\n",
      "Recently there were two fraudulent and unauthorized charges I was alerted to by PayPal.\n",
      "\n",
      "One was a debit from XXXX for {$240.00}. I contacted XXXX and they said there was no record for that amount and date for purchases or charges anywhere on XXXX. They said it was most likely fraudulent and I never authorized it. \n",
      "\n",
      "The other was from XXXX XXXX for {$50.00}. I did make political donations to politicians during the election cycle and I noted each in my checking account. I STOPPED making any further contributions after the last elections in Georgia. This charge was not one I had authorized and it was dated AFTER the last election and was not one of the ones I had checked against my checking account. \n",
      "\n",
      "I disputed both with XXXX XXXX on my checking account and they researched both of them and determined they were fraudulent and XXXX XXXX noted in writing \" We have completed our research of your inquiry and returned the charges unpaid. As a result no money was deducted from your account '' I have filed two claims disputing both charges to PayPal and each time they have denied my fraudulent/unauthorized claims and I even spoke to PayPal people several times and quoted XXXX XXXX to them and then filed a dispute with them on their denial. \n",
      "\n",
      "They are still denying my dispute and claiming that I owe them {$290.00} for both fraudulent charges. Please help me get this resolved. They keep sending me notices and phone calls. I should not have to pay them since XXXX XXXX returned them as unpaid and determined they were fraudulent and even XXXX says there was no purchase or credit so it was fraudulent and unauthorized.\n",
      "2. Banked with truist for almost XXXX  months now and never had an issue until i decided to start funding my account and using my debit card to pay my bills, they locked my debit card which is fine, called to have it unblocked no problem and they end up locking it again but this time they are saying i have to come into a branch to do so which IS a problem. Truist bank is nowhere near me in my state, its an out of state bank so thats literally not an option. Bank locked my online banking with money still in my account lol, i tried an ACH transfer and set up bill pay payments and i tried to log in just to find out my account is restricted for security reasons. This has been XXXX of the worst banking experiences i've ever had and im not being treated like a customer at all. its almost like truist isnt allowing me to use my money the way i want or access my funds properly. Ive had no problem up until i made a large deposit into my account and started using those funds. \n",
      "\n",
      "i have no problenm verifying myself any other way but going out of my current state just to visit truist bank is not an option.\n",
      "3. Navy Exchange ( NEX ), the \" XXXX '' onboard US XXXX bases, offers currency exchange for personnel stationed overseas ( in XXXX ) to  pay their off-base rent. However, the exchange rate offered is always 2-3 % less than the Bank Rate for US dollar to XXXX XXXX exchange. \n",
      "\n",
      "To offset this, the Navy Exchange provides a {$10.00} gift card for use at the NEX, for each month paid. However, this is inequitable because the gift card is always for the same amount, regardless of the monthly rent amount ... so a single military member with an $ XXXX/month ( equivalent ) rent payment derives more proportional benefit from this {$10.00} gift card than a military family whose rent could be closer to $ XXXX ( equivalent ).\n",
      "4. In XX/XX/XXXX, based on a friend 's recommendation, I visited a vacation rental home website to rent her neighbor 's property in XXXX, California, USA. The vacation rental home website is called : XXXX. I used the right side of the website called \" Contact Owner '' to reach out to the owner. I received an email from the owner, XXXX, who let me know that the property was only available for 26 days at a time, as such, I did not move forward. I also received another email from the email address : XXXX. The contact was named XXXX XXXX who asked for desired check-in/out dates, number of bedrooms, and preferred location. He also asked about preferred budget and stated that he manages a lot of properties and could offer an attractive discount. I responded with my preferences and he sent an offer for a vacation rental property. He included a link to view the property via XXXX. I asked for the address of the property and he provided the following address : XXXX XXXX XXXX XXXX, California. He let me know that 50 % of the total was due as a deposit and the remaining amount was due 30 days prior to the arrival date. He also let me know that the owners of the property live in XXXX and require payment with the company XXXX ( formerly TransferWise ). I recognize XXXX as I have used the company in the past and already had an account. Therefore, on XX/XX/XXXX, I sent the money through XXXX to the stated \" Owners '' of the property : XXXX XXXX and XXXX XXXX. \n",
      "Eight days later, I realized that the transaction was a scam after Googling the email address ( XXXX ). There were at least 20 reviewers with similar experiences that claimed this entity was a scammer for rental properties. At this point ( on XX/XX/XXXX ), I reached back out to XXXX via email to ask for the money back, and he agreed to send the money via check to my mailing address. However, the check did not arrive. I let him know that the money did not arrive and asked him to reverse the XXXX transaction. However, I did not receive a response from XXXX. After this, I contacted my bank. My bank provided a temporary reimbursement while an investigation was performed. After the investigation was complete 60 days later ( XX/XX/XXXX ), the reimbursement was removed since my bank determined that XXXX is the company responsible in this matter. As such, I am looking to get a refund for the amount with XXXX.\n",
      "5. I can not withdraw money or pay my rent from my Way to go card from Florida reemployment. It keeps declining me. It was working fine in XXXX, I went to pay my rent for XXXX, and it declined ; I went to an atm again declined. So I ordered a new card and paid expedited shipping ; thinking this one was damaged, I activated it, and it again declined me. There is absolutely no way to contact anyone. All they have is an automatic response which doesn't provide any help\n",
      "\n"
     ]
    }
   ],
   "source": [
    "# The plain English request we will make of PaLM 2\n",
    "prompt = (\n",
    "    \"Please highlight the most obvious difference between \"\n",
    "    \"the two lists of comments:\\n\" + prompt1 + prompt2\n",
    ")\n",
    "print(prompt)"
   ]
  },
  {
   "attachments": {},
   "cell_type": "markdown",
   "metadata": {},
   "source": [
    "Get a response from PaLM 2 LLM by making a call to Vertex AI using our connection."
   ]
  },
  {
   "cell_type": "code",
   "execution_count": 17,
   "metadata": {
    "id": "mL5P0_3X04dE"
   },
   "outputs": [
    {
     "data": {
      "text/html": [
       "Query job 48da679e-d991-4af6-939f-8c45b3a262d8 is DONE. 0 Bytes processed. <a target=\"_blank\" href=\"https://console.cloud.google.com/bigquery?project=swast-scratch&j=bq:US:48da679e-d991-4af6-939f-8c45b3a262d8&page=queryresults\">Open Job</a>"
      ],
      "text/plain": [
       "<IPython.core.display.HTML object>"
      ]
     },
     "metadata": {},
     "output_type": "display_data"
    }
   ],
   "source": [
    "from bigframes.ml.llm import PaLM2TextGenerator\n",
    "\n",
    "q_a_model = PaLM2TextGenerator()"
   ]
  },
  {
   "cell_type": "code",
   "execution_count": 18,
   "metadata": {
    "id": "ICWHsqAW1FNk"
   },
   "outputs": [],
   "source": [
    "# Make a DataFrame containing only a single row with our prompt for PaLM 2\n",
    "df = bf.DataFrame({\"prompt\": [prompt]})"
   ]
  },
  {
   "cell_type": "code",
   "execution_count": 19,
   "metadata": {
    "id": "gB7e1LXU1pst"
   },
   "outputs": [
    {
     "data": {
      "text/html": [
       "Query job 8877d0e9-a41e-4344-8dea-bf57c93a505e is DONE. 0 Bytes processed. <a target=\"_blank\" href=\"https://console.cloud.google.com/bigquery?project=swast-scratch&j=bq:US:8877d0e9-a41e-4344-8dea-bf57c93a505e&page=queryresults\">Open Job</a>"
      ],
      "text/plain": [
       "<IPython.core.display.HTML object>"
      ]
     },
     "metadata": {},
     "output_type": "display_data"
    },
    {
     "data": {
      "text/html": [
       "Query job fa3de153-d6b8-421f-84f6-69e401a36cc8 is DONE. 0 Bytes processed. <a target=\"_blank\" href=\"https://console.cloud.google.com/bigquery?project=swast-scratch&j=bq:US:fa3de153-d6b8-421f-84f6-69e401a36cc8&page=queryresults\">Open Job</a>"
      ],
      "text/plain": [
       "<IPython.core.display.HTML object>"
      ]
     },
     "metadata": {},
     "output_type": "display_data"
    },
    {
     "data": {
      "text/html": [
       "Query job 749fbc0b-5da2-4089-ac80-d7a2ac8325f2 is DONE. 0 Bytes processed. <a target=\"_blank\" href=\"https://console.cloud.google.com/bigquery?project=swast-scratch&j=bq:US:749fbc0b-5da2-4089-ac80-d7a2ac8325f2&page=queryresults\">Open Job</a>"
      ],
      "text/plain": [
       "<IPython.core.display.HTML object>"
      ]
     },
     "metadata": {},
     "output_type": "display_data"
    },
    {
     "data": {
      "text/html": [
       "Query job 6a8c8c0c-894f-41f1-a20f-adfb67349281 is DONE. 0 Bytes processed. <a target=\"_blank\" href=\"https://console.cloud.google.com/bigquery?project=swast-scratch&j=bq:US:6a8c8c0c-894f-41f1-a20f-adfb67349281&page=queryresults\">Open Job</a>"
      ],
      "text/plain": [
       "<IPython.core.display.HTML object>"
      ]
     },
     "metadata": {},
     "output_type": "display_data"
    },
    {
     "data": {
      "text/plain": [
       "' The most obvious difference between the two lists of comments is the nature of the issues being raised.\\n\\n**Comment list 1 primarily focuses on disputes related to debt collection practices.** \\n\\n- Commenters express concerns about receiving debt collection notices for debts they believe they do not owe, lack of supporting documentation, and the transfer of debt between debt collection agencies without proper resolution. \\n\\n- They highlight the impact on their credit scores and the frustration of dealing with misleading or deceptive practices.\\n\\n\\n**Comment list 2, on the other hand, covers a wider range of issues related to financial services.** \\n\\n- It includes complaints about fraudulent charges'"
      ]
     },
     "execution_count": 19,
     "metadata": {},
     "output_type": "execute_result"
    }
   ],
   "source": [
    "# Send the request for PaLM 2 to generate a response to our prompt\n",
    "major_difference = q_a_model.predict(df)\n",
    "# PaLM 2's response is the only row in the dataframe result \n",
    "major_difference[\"ml_generate_text_llm_result\"].iloc[0]"
   ]
  },
  {
   "attachments": {},
   "cell_type": "markdown",
   "metadata": {},
   "source": [
    "We now see PaLM2TextGenerator's characterization of the different comment groups. Thanks for using BigQuery DataFrames!"
   ]
  },
  {
   "cell_type": "markdown",
   "metadata": {},
   "source": [
    "# Summary and next steps\n",
    "\n",
    "You've used the ML and LLM capabilities of BigQuery DataFrames to help analyze and understand a large dataset of unstructured feedback.\n",
    "\n",
    "Learn more about BigQuery DataFrames in the [documentation](https://cloud.google.com/python/docs/reference/bigframes/latest) and find more sample notebooks in the [GitHub repo](https://github.com/googleapis/python-bigquery-dataframes/tree/main/notebooks)."
   ]
  }
 ],
 "metadata": {
  "colab": {
   "provenance": []
  },
  "kernelspec": {
   "display_name": "Python 3 (ipykernel)",
   "language": "python",
   "name": "python3"
  },
  "language_info": {
   "codemirror_mode": {
    "name": "ipython",
    "version": 3
   },
   "file_extension": ".py",
   "mimetype": "text/x-python",
   "name": "python",
   "nbconvert_exporter": "python",
   "pygments_lexer": "ipython3",
   "version": "3.10.9"
  }
 },
 "nbformat": 4,
 "nbformat_minor": 4
}
