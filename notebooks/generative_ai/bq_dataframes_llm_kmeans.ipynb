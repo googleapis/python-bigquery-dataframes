{
 "cells": [
  {
   "cell_type": "code",
   "execution_count": 1,
   "metadata": {},
   "outputs": [],
   "source": [
    "# Copyright 2023 Google LLC\n",
    "#\n",
    "# Licensed under the Apache License, Version 2.0 (the \"License\");\n",
    "# you may not use this file except in compliance with the License.\n",
    "# You may obtain a copy of the License at\n",
    "#\n",
    "#     https://www.apache.org/licenses/LICENSE-2.0\n",
    "#\n",
    "# Unless required by applicable law or agreed to in writing, software\n",
    "# distributed under the License is distributed on an \"AS IS\" BASIS,\n",
    "# WITHOUT WARRANTIES OR CONDITIONS OF ANY KIND, either express or implied.\n",
    "# See the License for the specific language governing permissions and\n",
    "# limitations under the License."
   ]
  },
  {
   "attachments": {},
   "cell_type": "markdown",
   "metadata": {},
   "source": [
    "## Use BigQuery DataFrames to cluster and characterize complaints\n",
    "\n",
    "<table align=\"left\">\n",
    "\n",
    "  <td>\n",
    "    <a href=\"https://colab.research.google.com/github/googleapis/python-bigquery-dataframes/blob/main/notebooks/generative_ai/bq_dataframes_llm_kmeans.ipynb\">\n",
    "      <img src=\"https://cloud.google.com/ml-engine/images/colab-logo-32px.png\" alt=\"Colab logo\"> Run in Colab\n",
    "    </a>\n",
    "  </td>\n",
    "  <td>\n",
    "    <a href=\"https://github.com/googleapis/python-bigquery-dataframes/tree/main/notebooks/generative_ai/bq_dataframes_llm_kmeans.ipynb\">\n",
    "      <img src=\"https://cloud.google.com/ml-engine/images/github-logo-32px.png\" alt=\"GitHub logo\">\n",
    "      View on GitHub\n",
    "    </a>\n",
    "  </td>\n",
    "  <td>\n",
    "    <a href=\"https://console.cloud.google.com/vertex-ai/workbench/deploy-notebook?download_url=https://raw.githubusercontent.com/googleapis/python-bigquery-dataframes/tree/main/notebooks/generative_ai/bq_dataframes_llm_kmeans.ipynb\">\n",
    "      <img src=\"https://lh3.googleusercontent.com/UiNooY4LUgW_oTvpsNhPpQzsstV5W8F7rYgxgGBD85cWJoLmrOzhVs_ksK_vgx40SHs7jCqkTkCk=e14-rj-sc0xffffff-h130-w32\" alt=\"Vertex AI logo\">\n",
    "      Open in Vertex AI Workbench\n",
    "    </a>\n",
    "  </td>                                                                                               \n",
    "</table>"
   ]
  },
  {
   "attachments": {},
   "cell_type": "markdown",
   "metadata": {},
   "source": [
    "## Overview\n",
    "\n",
    "The goal of this notebook is to demonstrate a comment characterization algorithm for an online business. We will accomplish this using [Google's PaLM 2](https://ai.google/discover/palm2/) and [KMeans clustering](https://en.wikipedia.org/wiki/K-means_clustering) in three steps:\n",
    "\n",
    "1. Use PaLM2TextEmbeddingGenerator to [generate text embeddings](https://cloud.google.com/vertex-ai/docs/generative-ai/embeddings/get-text-embeddings) for each of 10000 complaints sent to an online bank. If you're not familiar with what a text embedding is, it's a list of numbers that are like coordinates in an imaginary \"meaning space\" for sentences. (It's like [word embeddings](https://en.wikipedia.org/wiki/Word_embedding), but for more general text.) The important point for our purposes is that similar sentences are close to each other in this imaginary space.\n",
    "2. Use KMeans clustering to group together complaints whose text embeddings are near to eachother. This will give us sets of similar complaints, but we don't yet know _why_ these complaints are similar.\n",
    "3. Prompt GeminiTextGenerator in English asking what the difference is between the groups of complaints that we got. Thanks to the power of modern LLMs, the response might give us a very good idea of what these complaints are all about, but remember to [\"understand the limits of your dataset and model.\"](https://ai.google/responsibility/responsible-ai-practices/#:~:text=Understand%20the%20limitations%20of%20your%20dataset%20and%20model)\n",
    "\n",
    "We will tie these pieces together in Python using BigQuery DataFrames. [Click here](https://cloud.google.com/bigquery/docs/dataframes-quickstart) to learn more about BigQuery DataFrames!"
   ]
  },
  {
   "attachments": {},
   "cell_type": "markdown",
   "metadata": {},
   "source": [
    "### Dataset\n",
    "\n",
    "This notebook uses the [CFPB Consumer Complaint Database](https://console.cloud.google.com/marketplace/product/cfpb/complaint-database)."
   ]
  },
  {
   "attachments": {},
   "cell_type": "markdown",
   "metadata": {},
   "source": [
    "### Costs\n",
    "\n",
    "This tutorial uses billable components of Google Cloud:\n",
    "\n",
    "* BigQuery (compute)\n",
    "* BigQuery ML\n",
    "* Generative AI support on Vertex AI\n",
    "\n",
    "Learn about [BigQuery compute pricing](https://cloud.google.com/bigquery/pricing#analysis_pricing_models), [Generative AI support on Vertex AI pricing](https://cloud.google.com/vertex-ai/pricing#generative_ai_models),\n",
    "and [BigQuery ML pricing](https://cloud.google.com/bigquery/pricing#bqml),\n",
    "and use the [Pricing Calculator](https://cloud.google.com/products/calculator/)\n",
    "to generate a cost estimate based on your projected usage."
   ]
  },
  {
   "attachments": {},
   "cell_type": "markdown",
   "metadata": {},
   "source": [
    "## Before you begin\n",
    "\n",
    "Complete the tasks in this section to set up your environment."
   ]
  },
  {
   "attachments": {},
   "cell_type": "markdown",
   "metadata": {},
   "source": [
    "### Set up your Google Cloud project\n",
    "\n",
    "**The following steps are required, regardless of your notebook environment.**\n",
    "\n",
    "1. [Select or create a Google Cloud project](https://console.cloud.google.com/cloud-resource-manager). When you first create an account, you get a $300 credit towards your compute/storage costs.\n",
    "\n",
    "2. [Make sure that billing is enabled for your project](https://cloud.google.com/billing/docs/how-to/modify-project).\n",
    "\n",
    "3. [Click here](https://console.cloud.google.com/flows/enableapi?apiid=bigquery.googleapis.com,bigqueryconnection.googleapis.com,aiplatform.googleapis.com) to enable the following APIs:\n",
    "\n",
    "  * BigQuery API\n",
    "  * BigQuery Connection API\n",
    "  * Vertex AI API\n",
    "\n",
    "4. If you are running this notebook locally, install the [Cloud SDK](https://cloud.google.com/sdk)."
   ]
  },
  {
   "attachments": {},
   "cell_type": "markdown",
   "metadata": {},
   "source": [
    "#### Set your project ID\n",
    "\n",
    "**If you don't know your project ID**, see the support page: [Locate the project ID](https://support.google.com/googleapi/answer/7014113)"
   ]
  },
  {
   "cell_type": "code",
   "execution_count": 2,
   "metadata": {},
   "outputs": [],
   "source": [
    "# set your project ID below\n",
    "PROJECT_ID = \"\"  # @param {type:\"string\"}\n",
    "\n",
    "# Set the project id in gcloud\n",
    "#! gcloud config set project {PROJECT_ID}"
   ]
  },
  {
   "attachments": {},
   "cell_type": "markdown",
   "metadata": {},
   "source": [
    "#### Authenticate your Google Cloud account\n",
    "\n",
    "Depending on your Jupyter environment, you might have to manually authenticate. Follow the relevant instructions below."
   ]
  },
  {
   "attachments": {},
   "cell_type": "markdown",
   "metadata": {},
   "source": [
    "**Vertex AI Workbench**\n",
    "\n",
    "Do nothing, you are already authenticated."
   ]
  },
  {
   "attachments": {},
   "cell_type": "markdown",
   "metadata": {},
   "source": [
    "**Local JupyterLab instance**\n",
    "\n",
    "Uncomment and run the following cell:"
   ]
  },
  {
   "cell_type": "code",
   "execution_count": 3,
   "metadata": {},
   "outputs": [],
   "source": [
    "# ! gcloud auth login"
   ]
  },
  {
   "attachments": {},
   "cell_type": "markdown",
   "metadata": {},
   "source": [
    "**Colab**\n",
    "\n",
    "Uncomment and run the following cell:"
   ]
  },
  {
   "cell_type": "code",
   "execution_count": 4,
   "metadata": {},
   "outputs": [],
   "source": [
    "# from google.colab import auth\n",
    "# auth.authenticate_user()"
   ]
  },
  {
   "attachments": {},
   "cell_type": "markdown",
   "metadata": {},
   "source": [
    "Now we are ready to use BigQuery DataFrames!"
   ]
  },
  {
   "attachments": {},
   "cell_type": "markdown",
   "metadata": {
    "id": "xckgWno6ouHY"
   },
   "source": [
    "## Step 1: Text embedding "
   ]
  },
  {
   "attachments": {},
   "cell_type": "markdown",
   "metadata": {},
   "source": [
    "BigQuery DataFrames setup"
   ]
  },
  {
   "cell_type": "code",
   "execution_count": 5,
   "metadata": {
    "id": "R7STCS8xB5d2"
   },
   "outputs": [],
   "source": [
    "import bigframes.pandas as bf\n",
    "\n",
    "# Note: The project option is not required in all environments.\n",
    "# On BigQuery Studio, the project ID is automatically detected.\n",
    "bf.options.bigquery.project = PROJECT_ID"
   ]
  },
  {
   "attachments": {},
   "cell_type": "markdown",
   "metadata": {},
   "source": [
    "If you want to reset the location of the created DataFrame or Series objects, reset the session by executing `bf.close_session()`. After that, you can reuse `bf.options.bigquery.location` to specify another location."
   ]
  },
  {
   "attachments": {},
   "cell_type": "markdown",
   "metadata": {
    "id": "v6FGschEowht"
   },
   "source": [
    "Data Input - read the data from a publicly available BigQuery dataset"
   ]
  },
  {
   "cell_type": "code",
   "execution_count": 6,
   "metadata": {
    "id": "zDSwoBo1CU3G"
   },
   "outputs": [],
   "source": [
    "input_df = bf.read_gbq(\"bigquery-public-data.cfpb_complaints.complaint_database\")"
   ]
  },
  {
   "cell_type": "code",
   "execution_count": 7,
   "metadata": {
    "id": "tYDoaKgJChiq"
   },
   "outputs": [
    {
     "data": {
      "text/html": [
       "Query job 952b852e-7cf0-493d-8258-fe60daf45ebf is DONE. 2.3 GB processed. <a target=\"_blank\" href=\"https://console.cloud.google.com/bigquery?project=bigframes-dev&j=bq:US:952b852e-7cf0-493d-8258-fe60daf45ebf&page=queryresults\">Open Job</a>"
      ],
      "text/plain": [
       "<IPython.core.display.HTML object>"
      ]
     },
     "metadata": {},
     "output_type": "display_data"
    },
    {
     "data": {
      "text/html": [
       "Query job f9939880-6c66-4da5-9e90-daf8d9a9d83c is DONE. 50.3 MB processed. <a target=\"_blank\" href=\"https://console.cloud.google.com/bigquery?project=bigframes-dev&j=bq:US:f9939880-6c66-4da5-9e90-daf8d9a9d83c&page=queryresults\">Open Job</a>"
      ],
      "text/plain": [
       "<IPython.core.display.HTML object>"
      ]
     },
     "metadata": {},
     "output_type": "display_data"
    },
    {
     "data": {
      "text/html": [
       "<div>\n",
       "<style scoped>\n",
       "    .dataframe tbody tr th:only-of-type {\n",
       "        vertical-align: middle;\n",
       "    }\n",
       "\n",
       "    .dataframe tbody tr th {\n",
       "        vertical-align: top;\n",
       "    }\n",
       "\n",
       "    .dataframe thead th {\n",
       "        text-align: right;\n",
       "    }\n",
       "</style>\n",
       "<table border=\"1\" class=\"dataframe\">\n",
       "  <thead>\n",
       "    <tr style=\"text-align: right;\">\n",
       "      <th></th>\n",
       "      <th>consumer_complaint_narrative</th>\n",
       "    </tr>\n",
       "  </thead>\n",
       "  <tbody>\n",
       "    <tr>\n",
       "      <th>1799560</th>\n",
       "      <td>Thursday, XX/XX/XXXX, unauthorized charges wer...</td>\n",
       "    </tr>\n",
       "    <tr>\n",
       "      <th>1800272</th>\n",
       "      <td>The credit reporting company is reporting inac...</td>\n",
       "    </tr>\n",
       "    <tr>\n",
       "      <th>1800409</th>\n",
       "      <td>In accordance with the Fair Credit Reporting a...</td>\n",
       "    </tr>\n",
       "    <tr>\n",
       "      <th>1800550</th>\n",
       "      <td>I told the credit bureaus to \" investigate eve...</td>\n",
       "    </tr>\n",
       "    <tr>\n",
       "      <th>1800818</th>\n",
       "      <td>Im writing in reference regarding XXXXXXXX XXX...</td>\n",
       "    </tr>\n",
       "  </tbody>\n",
       "</table>\n",
       "</div>"
      ],
      "text/plain": [
       "                              consumer_complaint_narrative\n",
       "1799560  Thursday, XX/XX/XXXX, unauthorized charges wer...\n",
       "1800272  The credit reporting company is reporting inac...\n",
       "1800409  In accordance with the Fair Credit Reporting a...\n",
       "1800550  I told the credit bureaus to \" investigate eve...\n",
       "1800818  Im writing in reference regarding XXXXXXXX XXX..."
      ]
     },
     "execution_count": 7,
     "metadata": {},
     "output_type": "execute_result"
    }
   ],
   "source": [
    "issues_df = input_df[[\"consumer_complaint_narrative\"]].dropna()\n",
    "issues_df.peek(n=5) # View an arbitrary five complaints"
   ]
  },
  {
   "attachments": {},
   "cell_type": "markdown",
   "metadata": {},
   "source": [
    "Downsample DataFrame to 10,000 records for model training."
   ]
  },
  {
   "cell_type": "code",
   "execution_count": 8,
   "metadata": {
    "id": "OltYSUEcsSOW"
   },
   "outputs": [],
   "source": [
    "# Choose 10,000 complaints randomly and store them in a column in a DataFrame\n",
    "downsampled_issues_df = issues_df.sample(n=10000)"
   ]
  },
  {
   "attachments": {},
   "cell_type": "markdown",
   "metadata": {
    "id": "Wl2o-NYMoygb"
   },
   "source": [
    "Generate the text embeddings"
   ]
  },
  {
   "cell_type": "code",
   "execution_count": 9,
   "metadata": {
    "id": "li38q8FzDDMu"
   },
   "outputs": [
    {
     "data": {
      "text/html": [
       "Query job e3ff0549-f0ee-4508-bb4f-beea14bf54f5 is DONE. 0 Bytes processed. <a target=\"_blank\" href=\"https://console.cloud.google.com/bigquery?project=bigframes-dev&j=bq:US:e3ff0549-f0ee-4508-bb4f-beea14bf54f5&page=queryresults\">Open Job</a>"
      ],
      "text/plain": [
       "<IPython.core.display.HTML object>"
      ]
     },
     "metadata": {},
     "output_type": "display_data"
    }
   ],
   "source": [
    "from bigframes.ml.llm import PaLM2TextEmbeddingGenerator\n",
    "\n",
    "model = PaLM2TextEmbeddingGenerator() # No connection id needed"
   ]
  },
  {
   "cell_type": "code",
   "execution_count": 10,
   "metadata": {
    "id": "cOuSOQ5FDewD"
   },
   "outputs": [
    {
     "data": {
      "text/html": [
       "Query job 5b3d8f8c-9e8d-4378-b4df-e3328300f17a is DONE. 1.3 GB processed. <a target=\"_blank\" href=\"https://console.cloud.google.com/bigquery?project=bigframes-dev&j=bq:US:5b3d8f8c-9e8d-4378-b4df-e3328300f17a&page=queryresults\">Open Job</a>"
      ],
      "text/plain": [
       "<IPython.core.display.HTML object>"
      ]
     },
     "metadata": {},
     "output_type": "display_data"
    },
    {
     "data": {
      "text/html": [
       "Query job f35c2982-4953-45fa-84bd-d0ce04e13c5e is DONE. 80.0 kB processed. <a target=\"_blank\" href=\"https://console.cloud.google.com/bigquery?project=bigframes-dev&j=bq:US:f35c2982-4953-45fa-84bd-d0ce04e13c5e&page=queryresults\">Open Job</a>"
      ],
      "text/plain": [
       "<IPython.core.display.HTML object>"
      ]
     },
     "metadata": {},
     "output_type": "display_data"
    },
    {
     "data": {
      "text/html": [
       "Query job b70c55a3-b18b-4313-86b0-31f5b3b570fb is DONE. 20.0 kB processed. <a target=\"_blank\" href=\"https://console.cloud.google.com/bigquery?project=bigframes-dev&j=bq:US:b70c55a3-b18b-4313-86b0-31f5b3b570fb&page=queryresults\">Open Job</a>"
      ],
      "text/plain": [
       "<IPython.core.display.HTML object>"
      ]
     },
     "metadata": {},
     "output_type": "display_data"
    },
    {
     "data": {
      "text/html": [
       "Query job 2b2cfd9f-c713-4411-a3ca-1916cec84ff0 is DONE. 0 Bytes processed. <a target=\"_blank\" href=\"https://console.cloud.google.com/bigquery?project=bigframes-dev&j=bq:US:2b2cfd9f-c713-4411-a3ca-1916cec84ff0&page=queryresults\">Open Job</a>"
      ],
      "text/plain": [
       "<IPython.core.display.HTML object>"
      ]
     },
     "metadata": {},
     "output_type": "display_data"
    },
    {
     "data": {
      "text/html": [
       "Query job 09cadae1-1c66-43cf-a76f-7495b0123006 is DONE. 71.9 MB processed. <a target=\"_blank\" href=\"https://console.cloud.google.com/bigquery?project=bigframes-dev&j=bq:US:09cadae1-1c66-43cf-a76f-7495b0123006&page=queryresults\">Open Job</a>"
      ],
      "text/plain": [
       "<IPython.core.display.HTML object>"
      ]
     },
     "metadata": {},
     "output_type": "display_data"
    },
    {
     "data": {
      "text/html": [
       "<div>\n",
       "<style scoped>\n",
       "    .dataframe tbody tr th:only-of-type {\n",
       "        vertical-align: middle;\n",
       "    }\n",
       "\n",
       "    .dataframe tbody tr th {\n",
       "        vertical-align: top;\n",
       "    }\n",
       "\n",
       "    .dataframe thead th {\n",
       "        text-align: right;\n",
       "    }\n",
       "</style>\n",
       "<table border=\"1\" class=\"dataframe\">\n",
       "  <thead>\n",
       "    <tr style=\"text-align: right;\">\n",
       "      <th></th>\n",
       "      <th>text_embedding</th>\n",
       "      <th>statistics</th>\n",
       "      <th>ml_embed_text_status</th>\n",
       "      <th>content</th>\n",
       "    </tr>\n",
       "  </thead>\n",
       "  <tbody>\n",
       "    <tr>\n",
       "      <th>782</th>\n",
       "      <td>[ 2.78223325e-02 -1.71949025e-02 -5.01214415e-...</td>\n",
       "      <td>{\"token_count\":121,\"truncated\":false}</td>\n",
       "      <td></td>\n",
       "      <td>I 've sent multiple letters to this agency abo...</td>\n",
       "    </tr>\n",
       "    <tr>\n",
       "      <th>795</th>\n",
       "      <td>[ 1.39164589e-02 -5.08313216e-02 -4.53360938e-...</td>\n",
       "      <td>{\"token_count\":141,\"truncated\":false}</td>\n",
       "      <td></td>\n",
       "      <td>I receive social security XXXX funds in my XXX...</td>\n",
       "    </tr>\n",
       "    <tr>\n",
       "      <th>861</th>\n",
       "      <td>[ 7.80681521e-03 -3.23560014e-02 -6.76454604e-...</td>\n",
       "      <td>{\"token_count\":160,\"truncated\":false}</td>\n",
       "      <td></td>\n",
       "      <td>Hello, My name is XXXX XXXX XXXX. I have a pro...</td>\n",
       "    </tr>\n",
       "    <tr>\n",
       "      <th>1103</th>\n",
       "      <td>[ 4.18044440e-02 -4.28444222e-02 -6.26875088e-...</td>\n",
       "      <td>{\"token_count\":31,\"truncated\":false}</td>\n",
       "      <td></td>\n",
       "      <td>The debt occurred more than 7 years in the pas...</td>\n",
       "    </tr>\n",
       "    <tr>\n",
       "      <th>1241</th>\n",
       "      <td>[ 7.74183637e-03 -6.50701150e-02 -2.13856809e-...</td>\n",
       "      <td>{\"token_count\":23,\"truncated\":false}</td>\n",
       "      <td></td>\n",
       "      <td>UNAUTHORIZED CREDIT REPORTING NO ACCOUNT TO VA...</td>\n",
       "    </tr>\n",
       "    <tr>\n",
       "      <th>1729</th>\n",
       "      <td>[ 3.15782428e-02 -1.23979878e-02 -3.70296165e-...</td>\n",
       "      <td>{\"token_count\":382,\"truncated\":false}</td>\n",
       "      <td></td>\n",
       "      <td>XXXX on XXXX XX/XX/2021 I have Mr. Cooper mort...</td>\n",
       "    </tr>\n",
       "    <tr>\n",
       "      <th>2167</th>\n",
       "      <td>[ 9.87241510e-03 -1.81103535e-02 -4.17162031e-...</td>\n",
       "      <td>{\"token_count\":556,\"truncated\":false}</td>\n",
       "      <td></td>\n",
       "      <td>This is the third such complaint I have submit...</td>\n",
       "    </tr>\n",
       "    <tr>\n",
       "      <th>2219</th>\n",
       "      <td>[ 2.56749280e-02 -4.92163002e-02 -5.67202382e-...</td>\n",
       "      <td>{\"token_count\":196,\"truncated\":false}</td>\n",
       "      <td></td>\n",
       "      <td>Found and add online for a Prepaid Credit card...</td>\n",
       "    </tr>\n",
       "    <tr>\n",
       "      <th>2392</th>\n",
       "      <td>[ 2.34611966e-02 -4.74611111e-02 -3.59710641e-...</td>\n",
       "      <td>{\"token_count\":641,\"truncated\":false}</td>\n",
       "      <td></td>\n",
       "      <td>I am furnishing this complaint against Fed Loa...</td>\n",
       "    </tr>\n",
       "    <tr>\n",
       "      <th>2528</th>\n",
       "      <td>[ 1.90760177e-02 -4.90266569e-02 -5.60806654e-...</td>\n",
       "      <td>{\"token_count\":176,\"truncated\":false}</td>\n",
       "      <td></td>\n",
       "      <td>Despite multiple written requests, the unverif...</td>\n",
       "    </tr>\n",
       "    <tr>\n",
       "      <th>2737</th>\n",
       "      <td>[ 1.81887485e-02 -8.74284655e-03 -2.73009986e-...</td>\n",
       "      <td>{\"token_count\":230,\"truncated\":false}</td>\n",
       "      <td></td>\n",
       "      <td>After unsatisfying communication in the messag...</td>\n",
       "    </tr>\n",
       "    <tr>\n",
       "      <th>2859</th>\n",
       "      <td>[ 3.52482982e-02 -3.30757573e-02 -4.48422395e-...</td>\n",
       "      <td>{\"token_count\":238,\"truncated\":false}</td>\n",
       "      <td></td>\n",
       "      <td>Good Morning. My name is XXXX XXXX. My account...</td>\n",
       "    </tr>\n",
       "    <tr>\n",
       "      <th>3439</th>\n",
       "      <td>[ 3.40348878e-03 -2.72301212e-02 -2.03482248e-...</td>\n",
       "      <td>{\"token_count\":197,\"truncated\":false}</td>\n",
       "      <td></td>\n",
       "      <td>I have ongoing disputes that are preventing me...</td>\n",
       "    </tr>\n",
       "    <tr>\n",
       "      <th>3738</th>\n",
       "      <td>[ 0.01422119 -0.01114973 -0.04438976 -0.024421...</td>\n",
       "      <td>{\"token_count\":160,\"truncated\":false}</td>\n",
       "      <td></td>\n",
       "      <td>I had a loan with national Collegiate Trust. i...</td>\n",
       "    </tr>\n",
       "    <tr>\n",
       "      <th>3805</th>\n",
       "      <td>[ 1.08179580e-02 -3.44337188e-02 -5.08812033e-...</td>\n",
       "      <td>{\"token_count\":477,\"truncated\":false}</td>\n",
       "      <td></td>\n",
       "      <td>Hi I am submitting this XXXX XXXX this isn't a...</td>\n",
       "    </tr>\n",
       "    <tr>\n",
       "      <th>3915</th>\n",
       "      <td>[-7.23852217e-03 -4.69538383e-02 -5.60489520e-...</td>\n",
       "      <td>{\"token_count\":116,\"truncated\":false}</td>\n",
       "      <td></td>\n",
       "      <td>portfolio is showin on my credit report with a...</td>\n",
       "    </tr>\n",
       "    <tr>\n",
       "      <th>3917</th>\n",
       "      <td>[-8.92711710e-03 -4.49132621e-02 -4.29662578e-...</td>\n",
       "      <td>{\"token_count\":71,\"truncated\":false}</td>\n",
       "      <td></td>\n",
       "      <td>the company shared my information with another...</td>\n",
       "    </tr>\n",
       "    <tr>\n",
       "      <th>4281</th>\n",
       "      <td>[-1.69487391e-02 -1.89835522e-02 -3.80971469e-...</td>\n",
       "      <td>{\"token_count\":130,\"truncated\":false}</td>\n",
       "      <td></td>\n",
       "      <td>I tried to submit a teacher loan forgiveness a...</td>\n",
       "    </tr>\n",
       "    <tr>\n",
       "      <th>4470</th>\n",
       "      <td>[ 1.28689921e-02 -3.25881056e-02 -6.53645024e-...</td>\n",
       "      <td>{\"token_count\":200,\"truncated\":false}</td>\n",
       "      <td></td>\n",
       "      <td>in accordance with the Fair Credit Reporting a...</td>\n",
       "    </tr>\n",
       "    <tr>\n",
       "      <th>4915</th>\n",
       "      <td>[ 5.19403480e-02 -7.32436478e-02 -4.60561663e-...</td>\n",
       "      <td>{\"token_count\":23,\"truncated\":false}</td>\n",
       "      <td></td>\n",
       "      <td>XXXX XXXX did not give me a receipt or a copy ...</td>\n",
       "    </tr>\n",
       "    <tr>\n",
       "      <th>4928</th>\n",
       "      <td>[-4.43694415e-03 -3.66776163e-04 -9.08496231e-...</td>\n",
       "      <td>{\"token_count\":83,\"truncated\":false}</td>\n",
       "      <td></td>\n",
       "      <td>This company has filed a civil suit during a g...</td>\n",
       "    </tr>\n",
       "    <tr>\n",
       "      <th>5338</th>\n",
       "      <td>[ 2.19908613e-03 -3.93951498e-02 -6.52823672e-...</td>\n",
       "      <td>{\"token_count\":1279,\"truncated\":false}</td>\n",
       "      <td></td>\n",
       "      <td>My credit report contains errors that is keepi...</td>\n",
       "    </tr>\n",
       "    <tr>\n",
       "      <th>5582</th>\n",
       "      <td>[ 2.86326781e-02 -4.89189997e-02 -8.68150592e-...</td>\n",
       "      <td>{\"token_count\":396,\"truncated\":false}</td>\n",
       "      <td></td>\n",
       "      <td>Coast Professional, XXXX, LA contacted me by m...</td>\n",
       "    </tr>\n",
       "    <tr>\n",
       "      <th>6386</th>\n",
       "      <td>[ 3.33276950e-02  1.53224478e-02 -1.89354066e-...</td>\n",
       "      <td>{\"token_count\":79,\"truncated\":false}</td>\n",
       "      <td></td>\n",
       "      <td>Cares act refund requested in XXXX, called mul...</td>\n",
       "    </tr>\n",
       "    <tr>\n",
       "      <th>6956</th>\n",
       "      <td>[ 1.47060463e-02 -3.36431377e-02 -6.56675845e-...</td>\n",
       "      <td>{\"token_count\":194,\"truncated\":false}</td>\n",
       "      <td></td>\n",
       "      <td>n accordance with the Fair Credit Reporting ac...</td>\n",
       "    </tr>\n",
       "  </tbody>\n",
       "</table>\n",
       "<p>25 rows × 4 columns</p>\n",
       "</div>[10000 rows x 4 columns in total]"
      ],
      "text/plain": [
       "                                         text_embedding  \\\n",
       "782   [ 2.78223325e-02 -1.71949025e-02 -5.01214415e-...   \n",
       "795   [ 1.39164589e-02 -5.08313216e-02 -4.53360938e-...   \n",
       "861   [ 7.80681521e-03 -3.23560014e-02 -6.76454604e-...   \n",
       "1103  [ 4.18044440e-02 -4.28444222e-02 -6.26875088e-...   \n",
       "1241  [ 7.74183637e-03 -6.50701150e-02 -2.13856809e-...   \n",
       "1729  [ 3.15782428e-02 -1.23979878e-02 -3.70296165e-...   \n",
       "2167  [ 9.87241510e-03 -1.81103535e-02 -4.17162031e-...   \n",
       "2219  [ 2.56749280e-02 -4.92163002e-02 -5.67202382e-...   \n",
       "2392  [ 2.34611966e-02 -4.74611111e-02 -3.59710641e-...   \n",
       "2528  [ 1.90760177e-02 -4.90266569e-02 -5.60806654e-...   \n",
       "2737  [ 1.81887485e-02 -8.74284655e-03 -2.73009986e-...   \n",
       "2859  [ 3.52482982e-02 -3.30757573e-02 -4.48422395e-...   \n",
       "3439  [ 3.40348878e-03 -2.72301212e-02 -2.03482248e-...   \n",
       "3738  [ 0.01422119 -0.01114973 -0.04438976 -0.024421...   \n",
       "3805  [ 1.08179580e-02 -3.44337188e-02 -5.08812033e-...   \n",
       "3915  [-7.23852217e-03 -4.69538383e-02 -5.60489520e-...   \n",
       "3917  [-8.92711710e-03 -4.49132621e-02 -4.29662578e-...   \n",
       "4281  [-1.69487391e-02 -1.89835522e-02 -3.80971469e-...   \n",
       "4470  [ 1.28689921e-02 -3.25881056e-02 -6.53645024e-...   \n",
       "4915  [ 5.19403480e-02 -7.32436478e-02 -4.60561663e-...   \n",
       "4928  [-4.43694415e-03 -3.66776163e-04 -9.08496231e-...   \n",
       "5338  [ 2.19908613e-03 -3.93951498e-02 -6.52823672e-...   \n",
       "5582  [ 2.86326781e-02 -4.89189997e-02 -8.68150592e-...   \n",
       "6386  [ 3.33276950e-02  1.53224478e-02 -1.89354066e-...   \n",
       "6956  [ 1.47060463e-02 -3.36431377e-02 -6.56675845e-...   \n",
       "\n",
       "                                  statistics ml_embed_text_status  \\\n",
       "782    {\"token_count\":121,\"truncated\":false}                        \n",
       "795    {\"token_count\":141,\"truncated\":false}                        \n",
       "861    {\"token_count\":160,\"truncated\":false}                        \n",
       "1103    {\"token_count\":31,\"truncated\":false}                        \n",
       "1241    {\"token_count\":23,\"truncated\":false}                        \n",
       "1729   {\"token_count\":382,\"truncated\":false}                        \n",
       "2167   {\"token_count\":556,\"truncated\":false}                        \n",
       "2219   {\"token_count\":196,\"truncated\":false}                        \n",
       "2392   {\"token_count\":641,\"truncated\":false}                        \n",
       "2528   {\"token_count\":176,\"truncated\":false}                        \n",
       "2737   {\"token_count\":230,\"truncated\":false}                        \n",
       "2859   {\"token_count\":238,\"truncated\":false}                        \n",
       "3439   {\"token_count\":197,\"truncated\":false}                        \n",
       "3738   {\"token_count\":160,\"truncated\":false}                        \n",
       "3805   {\"token_count\":477,\"truncated\":false}                        \n",
       "3915   {\"token_count\":116,\"truncated\":false}                        \n",
       "3917    {\"token_count\":71,\"truncated\":false}                        \n",
       "4281   {\"token_count\":130,\"truncated\":false}                        \n",
       "4470   {\"token_count\":200,\"truncated\":false}                        \n",
       "4915    {\"token_count\":23,\"truncated\":false}                        \n",
       "4928    {\"token_count\":83,\"truncated\":false}                        \n",
       "5338  {\"token_count\":1279,\"truncated\":false}                        \n",
       "5582   {\"token_count\":396,\"truncated\":false}                        \n",
       "6386    {\"token_count\":79,\"truncated\":false}                        \n",
       "6956   {\"token_count\":194,\"truncated\":false}                        \n",
       "\n",
       "                                                content  \n",
       "782   I 've sent multiple letters to this agency abo...  \n",
       "795   I receive social security XXXX funds in my XXX...  \n",
       "861   Hello, My name is XXXX XXXX XXXX. I have a pro...  \n",
       "1103  The debt occurred more than 7 years in the pas...  \n",
       "1241  UNAUTHORIZED CREDIT REPORTING NO ACCOUNT TO VA...  \n",
       "1729  XXXX on XXXX XX/XX/2021 I have Mr. Cooper mort...  \n",
       "2167  This is the third such complaint I have submit...  \n",
       "2219  Found and add online for a Prepaid Credit card...  \n",
       "2392  I am furnishing this complaint against Fed Loa...  \n",
       "2528  Despite multiple written requests, the unverif...  \n",
       "2737  After unsatisfying communication in the messag...  \n",
       "2859  Good Morning. My name is XXXX XXXX. My account...  \n",
       "3439  I have ongoing disputes that are preventing me...  \n",
       "3738  I had a loan with national Collegiate Trust. i...  \n",
       "3805  Hi I am submitting this XXXX XXXX this isn't a...  \n",
       "3915  portfolio is showin on my credit report with a...  \n",
       "3917  the company shared my information with another...  \n",
       "4281  I tried to submit a teacher loan forgiveness a...  \n",
       "4470  in accordance with the Fair Credit Reporting a...  \n",
       "4915  XXXX XXXX did not give me a receipt or a copy ...  \n",
       "4928  This company has filed a civil suit during a g...  \n",
       "5338  My credit report contains errors that is keepi...  \n",
       "5582  Coast Professional, XXXX, LA contacted me by m...  \n",
       "6386  Cares act refund requested in XXXX, called mul...  \n",
       "6956  n accordance with the Fair Credit Reporting ac...  \n",
       "...\n",
       "\n",
       "[10000 rows x 4 columns]"
      ]
     },
     "execution_count": 10,
     "metadata": {},
     "output_type": "execute_result"
    }
   ],
   "source": [
    "# Will take ~3 minutes to compute the embeddings\n",
    "predicted_embeddings = model.predict(downsampled_issues_df)\n",
    "# Notice the lists of numbers that are our text embeddings for each complaint\n",
    "predicted_embeddings"
   ]
  },
  {
   "cell_type": "markdown",
   "metadata": {},
   "source": [
    "The model may have encountered errors while calculating embeddings for some rows. Filter out the errored rows before training the model. Alternatively, select these rows and retry the embeddings."
   ]
  },
  {
   "cell_type": "code",
   "execution_count": 11,
   "metadata": {},
   "outputs": [
    {
     "data": {
      "text/html": [
       "Query job 2c99b34a-1956-4de7-8330-898f1f25560b is DONE. 71.9 MB processed. <a target=\"_blank\" href=\"https://console.cloud.google.com/bigquery?project=bigframes-dev&j=bq:US:2c99b34a-1956-4de7-8330-898f1f25560b&page=queryresults\">Open Job</a>"
      ],
      "text/plain": [
       "<IPython.core.display.HTML object>"
      ]
     },
     "metadata": {},
     "output_type": "display_data"
    },
    {
     "data": {
      "text/html": [
       "Query job 3ffed5f8-935a-4a3f-a560-6416445e4868 is DONE. 0 Bytes processed. <a target=\"_blank\" href=\"https://console.cloud.google.com/bigquery?project=bigframes-dev&j=bq:US:3ffed5f8-935a-4a3f-a560-6416445e4868&page=queryresults\">Open Job</a>"
      ],
      "text/plain": [
       "<IPython.core.display.HTML object>"
      ]
     },
     "metadata": {},
     "output_type": "display_data"
    },
    {
     "data": {
      "text/html": [
       "Query job 7b55783a-6d8f-41b9-b404-73253140029a is DONE. 72.3 MB processed. <a target=\"_blank\" href=\"https://console.cloud.google.com/bigquery?project=bigframes-dev&j=bq:US:7b55783a-6d8f-41b9-b404-73253140029a&page=queryresults\">Open Job</a>"
      ],
      "text/plain": [
       "<IPython.core.display.HTML object>"
      ]
     },
     "metadata": {},
     "output_type": "display_data"
    },
    {
     "data": {
      "text/html": [
       "<div>\n",
       "<style scoped>\n",
       "    .dataframe tbody tr th:only-of-type {\n",
       "        vertical-align: middle;\n",
       "    }\n",
       "\n",
       "    .dataframe tbody tr th {\n",
       "        vertical-align: top;\n",
       "    }\n",
       "\n",
       "    .dataframe thead th {\n",
       "        text-align: right;\n",
       "    }\n",
       "</style>\n",
       "<table border=\"1\" class=\"dataframe\">\n",
       "  <thead>\n",
       "    <tr style=\"text-align: right;\">\n",
       "      <th></th>\n",
       "      <th>text_embedding</th>\n",
       "      <th>statistics</th>\n",
       "      <th>ml_embed_text_status</th>\n",
       "      <th>content</th>\n",
       "    </tr>\n",
       "  </thead>\n",
       "  <tbody>\n",
       "    <tr>\n",
       "      <th>782</th>\n",
       "      <td>[ 2.78223325e-02 -1.71949025e-02 -5.01214415e-...</td>\n",
       "      <td>{\"token_count\":121,\"truncated\":false}</td>\n",
       "      <td></td>\n",
       "      <td>I 've sent multiple letters to this agency abo...</td>\n",
       "    </tr>\n",
       "    <tr>\n",
       "      <th>795</th>\n",
       "      <td>[ 1.39164589e-02 -5.08313216e-02 -4.53360938e-...</td>\n",
       "      <td>{\"token_count\":141,\"truncated\":false}</td>\n",
       "      <td></td>\n",
       "      <td>I receive social security XXXX funds in my XXX...</td>\n",
       "    </tr>\n",
       "    <tr>\n",
       "      <th>861</th>\n",
       "      <td>[ 7.80681521e-03 -3.23560014e-02 -6.76454604e-...</td>\n",
       "      <td>{\"token_count\":160,\"truncated\":false}</td>\n",
       "      <td></td>\n",
       "      <td>Hello, My name is XXXX XXXX XXXX. I have a pro...</td>\n",
       "    </tr>\n",
       "    <tr>\n",
       "      <th>1103</th>\n",
       "      <td>[ 4.18044440e-02 -4.28444222e-02 -6.26875088e-...</td>\n",
       "      <td>{\"token_count\":31,\"truncated\":false}</td>\n",
       "      <td></td>\n",
       "      <td>The debt occurred more than 7 years in the pas...</td>\n",
       "    </tr>\n",
       "    <tr>\n",
       "      <th>1241</th>\n",
       "      <td>[ 7.74183637e-03 -6.50701150e-02 -2.13856809e-...</td>\n",
       "      <td>{\"token_count\":23,\"truncated\":false}</td>\n",
       "      <td></td>\n",
       "      <td>UNAUTHORIZED CREDIT REPORTING NO ACCOUNT TO VA...</td>\n",
       "    </tr>\n",
       "    <tr>\n",
       "      <th>1729</th>\n",
       "      <td>[ 3.15782428e-02 -1.23979878e-02 -3.70296165e-...</td>\n",
       "      <td>{\"token_count\":382,\"truncated\":false}</td>\n",
       "      <td></td>\n",
       "      <td>XXXX on XXXX XX/XX/2021 I have Mr. Cooper mort...</td>\n",
       "    </tr>\n",
       "    <tr>\n",
       "      <th>2167</th>\n",
       "      <td>[ 9.87241510e-03 -1.81103535e-02 -4.17162031e-...</td>\n",
       "      <td>{\"token_count\":556,\"truncated\":false}</td>\n",
       "      <td></td>\n",
       "      <td>This is the third such complaint I have submit...</td>\n",
       "    </tr>\n",
       "    <tr>\n",
       "      <th>2219</th>\n",
       "      <td>[ 2.56749280e-02 -4.92163002e-02 -5.67202382e-...</td>\n",
       "      <td>{\"token_count\":196,\"truncated\":false}</td>\n",
       "      <td></td>\n",
       "      <td>Found and add online for a Prepaid Credit card...</td>\n",
       "    </tr>\n",
       "    <tr>\n",
       "      <th>2392</th>\n",
       "      <td>[ 2.34611966e-02 -4.74611111e-02 -3.59710641e-...</td>\n",
       "      <td>{\"token_count\":641,\"truncated\":false}</td>\n",
       "      <td></td>\n",
       "      <td>I am furnishing this complaint against Fed Loa...</td>\n",
       "    </tr>\n",
       "    <tr>\n",
       "      <th>2528</th>\n",
       "      <td>[ 1.90760177e-02 -4.90266569e-02 -5.60806654e-...</td>\n",
       "      <td>{\"token_count\":176,\"truncated\":false}</td>\n",
       "      <td></td>\n",
       "      <td>Despite multiple written requests, the unverif...</td>\n",
       "    </tr>\n",
       "    <tr>\n",
       "      <th>2737</th>\n",
       "      <td>[ 1.81887485e-02 -8.74284655e-03 -2.73009986e-...</td>\n",
       "      <td>{\"token_count\":230,\"truncated\":false}</td>\n",
       "      <td></td>\n",
       "      <td>After unsatisfying communication in the messag...</td>\n",
       "    </tr>\n",
       "    <tr>\n",
       "      <th>2859</th>\n",
       "      <td>[ 3.52482982e-02 -3.30757573e-02 -4.48422395e-...</td>\n",
       "      <td>{\"token_count\":238,\"truncated\":false}</td>\n",
       "      <td></td>\n",
       "      <td>Good Morning. My name is XXXX XXXX. My account...</td>\n",
       "    </tr>\n",
       "    <tr>\n",
       "      <th>3439</th>\n",
       "      <td>[ 3.40348878e-03 -2.72301212e-02 -2.03482248e-...</td>\n",
       "      <td>{\"token_count\":197,\"truncated\":false}</td>\n",
       "      <td></td>\n",
       "      <td>I have ongoing disputes that are preventing me...</td>\n",
       "    </tr>\n",
       "    <tr>\n",
       "      <th>3738</th>\n",
       "      <td>[ 0.01422119 -0.01114973 -0.04438976 -0.024421...</td>\n",
       "      <td>{\"token_count\":160,\"truncated\":false}</td>\n",
       "      <td></td>\n",
       "      <td>I had a loan with national Collegiate Trust. i...</td>\n",
       "    </tr>\n",
       "    <tr>\n",
       "      <th>3805</th>\n",
       "      <td>[ 1.08179580e-02 -3.44337188e-02 -5.08812033e-...</td>\n",
       "      <td>{\"token_count\":477,\"truncated\":false}</td>\n",
       "      <td></td>\n",
       "      <td>Hi I am submitting this XXXX XXXX this isn't a...</td>\n",
       "    </tr>\n",
       "    <tr>\n",
       "      <th>3915</th>\n",
       "      <td>[-7.23852217e-03 -4.69538383e-02 -5.60489520e-...</td>\n",
       "      <td>{\"token_count\":116,\"truncated\":false}</td>\n",
       "      <td></td>\n",
       "      <td>portfolio is showin on my credit report with a...</td>\n",
       "    </tr>\n",
       "    <tr>\n",
       "      <th>3917</th>\n",
       "      <td>[-8.92711710e-03 -4.49132621e-02 -4.29662578e-...</td>\n",
       "      <td>{\"token_count\":71,\"truncated\":false}</td>\n",
       "      <td></td>\n",
       "      <td>the company shared my information with another...</td>\n",
       "    </tr>\n",
       "    <tr>\n",
       "      <th>4281</th>\n",
       "      <td>[-1.69487391e-02 -1.89835522e-02 -3.80971469e-...</td>\n",
       "      <td>{\"token_count\":130,\"truncated\":false}</td>\n",
       "      <td></td>\n",
       "      <td>I tried to submit a teacher loan forgiveness a...</td>\n",
       "    </tr>\n",
       "    <tr>\n",
       "      <th>4470</th>\n",
       "      <td>[ 1.28689921e-02 -3.25881056e-02 -6.53645024e-...</td>\n",
       "      <td>{\"token_count\":200,\"truncated\":false}</td>\n",
       "      <td></td>\n",
       "      <td>in accordance with the Fair Credit Reporting a...</td>\n",
       "    </tr>\n",
       "    <tr>\n",
       "      <th>4915</th>\n",
       "      <td>[ 5.19403480e-02 -7.32436478e-02 -4.60561663e-...</td>\n",
       "      <td>{\"token_count\":23,\"truncated\":false}</td>\n",
       "      <td></td>\n",
       "      <td>XXXX XXXX did not give me a receipt or a copy ...</td>\n",
       "    </tr>\n",
       "    <tr>\n",
       "      <th>4928</th>\n",
       "      <td>[-4.43694415e-03 -3.66776163e-04 -9.08496231e-...</td>\n",
       "      <td>{\"token_count\":83,\"truncated\":false}</td>\n",
       "      <td></td>\n",
       "      <td>This company has filed a civil suit during a g...</td>\n",
       "    </tr>\n",
       "    <tr>\n",
       "      <th>5338</th>\n",
       "      <td>[ 2.19908613e-03 -3.93951498e-02 -6.52823672e-...</td>\n",
       "      <td>{\"token_count\":1279,\"truncated\":false}</td>\n",
       "      <td></td>\n",
       "      <td>My credit report contains errors that is keepi...</td>\n",
       "    </tr>\n",
       "    <tr>\n",
       "      <th>5582</th>\n",
       "      <td>[ 2.86326781e-02 -4.89189997e-02 -8.68150592e-...</td>\n",
       "      <td>{\"token_count\":396,\"truncated\":false}</td>\n",
       "      <td></td>\n",
       "      <td>Coast Professional, XXXX, LA contacted me by m...</td>\n",
       "    </tr>\n",
       "    <tr>\n",
       "      <th>6386</th>\n",
       "      <td>[ 3.33276950e-02  1.53224478e-02 -1.89354066e-...</td>\n",
       "      <td>{\"token_count\":79,\"truncated\":false}</td>\n",
       "      <td></td>\n",
       "      <td>Cares act refund requested in XXXX, called mul...</td>\n",
       "    </tr>\n",
       "    <tr>\n",
       "      <th>6956</th>\n",
       "      <td>[ 1.47060463e-02 -3.36431377e-02 -6.56675845e-...</td>\n",
       "      <td>{\"token_count\":194,\"truncated\":false}</td>\n",
       "      <td></td>\n",
       "      <td>n accordance with the Fair Credit Reporting ac...</td>\n",
       "    </tr>\n",
       "  </tbody>\n",
       "</table>\n",
       "<p>25 rows × 4 columns</p>\n",
       "</div>[10000 rows x 4 columns in total]"
      ],
      "text/plain": [
       "                                         text_embedding  \\\n",
       "782   [ 2.78223325e-02 -1.71949025e-02 -5.01214415e-...   \n",
       "795   [ 1.39164589e-02 -5.08313216e-02 -4.53360938e-...   \n",
       "861   [ 7.80681521e-03 -3.23560014e-02 -6.76454604e-...   \n",
       "1103  [ 4.18044440e-02 -4.28444222e-02 -6.26875088e-...   \n",
       "1241  [ 7.74183637e-03 -6.50701150e-02 -2.13856809e-...   \n",
       "1729  [ 3.15782428e-02 -1.23979878e-02 -3.70296165e-...   \n",
       "2167  [ 9.87241510e-03 -1.81103535e-02 -4.17162031e-...   \n",
       "2219  [ 2.56749280e-02 -4.92163002e-02 -5.67202382e-...   \n",
       "2392  [ 2.34611966e-02 -4.74611111e-02 -3.59710641e-...   \n",
       "2528  [ 1.90760177e-02 -4.90266569e-02 -5.60806654e-...   \n",
       "2737  [ 1.81887485e-02 -8.74284655e-03 -2.73009986e-...   \n",
       "2859  [ 3.52482982e-02 -3.30757573e-02 -4.48422395e-...   \n",
       "3439  [ 3.40348878e-03 -2.72301212e-02 -2.03482248e-...   \n",
       "3738  [ 0.01422119 -0.01114973 -0.04438976 -0.024421...   \n",
       "3805  [ 1.08179580e-02 -3.44337188e-02 -5.08812033e-...   \n",
       "3915  [-7.23852217e-03 -4.69538383e-02 -5.60489520e-...   \n",
       "3917  [-8.92711710e-03 -4.49132621e-02 -4.29662578e-...   \n",
       "4281  [-1.69487391e-02 -1.89835522e-02 -3.80971469e-...   \n",
       "4470  [ 1.28689921e-02 -3.25881056e-02 -6.53645024e-...   \n",
       "4915  [ 5.19403480e-02 -7.32436478e-02 -4.60561663e-...   \n",
       "4928  [-4.43694415e-03 -3.66776163e-04 -9.08496231e-...   \n",
       "5338  [ 2.19908613e-03 -3.93951498e-02 -6.52823672e-...   \n",
       "5582  [ 2.86326781e-02 -4.89189997e-02 -8.68150592e-...   \n",
       "6386  [ 3.33276950e-02  1.53224478e-02 -1.89354066e-...   \n",
       "6956  [ 1.47060463e-02 -3.36431377e-02 -6.56675845e-...   \n",
       "\n",
       "                                  statistics ml_embed_text_status  \\\n",
       "782    {\"token_count\":121,\"truncated\":false}                        \n",
       "795    {\"token_count\":141,\"truncated\":false}                        \n",
       "861    {\"token_count\":160,\"truncated\":false}                        \n",
       "1103    {\"token_count\":31,\"truncated\":false}                        \n",
       "1241    {\"token_count\":23,\"truncated\":false}                        \n",
       "1729   {\"token_count\":382,\"truncated\":false}                        \n",
       "2167   {\"token_count\":556,\"truncated\":false}                        \n",
       "2219   {\"token_count\":196,\"truncated\":false}                        \n",
       "2392   {\"token_count\":641,\"truncated\":false}                        \n",
       "2528   {\"token_count\":176,\"truncated\":false}                        \n",
       "2737   {\"token_count\":230,\"truncated\":false}                        \n",
       "2859   {\"token_count\":238,\"truncated\":false}                        \n",
       "3439   {\"token_count\":197,\"truncated\":false}                        \n",
       "3738   {\"token_count\":160,\"truncated\":false}                        \n",
       "3805   {\"token_count\":477,\"truncated\":false}                        \n",
       "3915   {\"token_count\":116,\"truncated\":false}                        \n",
       "3917    {\"token_count\":71,\"truncated\":false}                        \n",
       "4281   {\"token_count\":130,\"truncated\":false}                        \n",
       "4470   {\"token_count\":200,\"truncated\":false}                        \n",
       "4915    {\"token_count\":23,\"truncated\":false}                        \n",
       "4928    {\"token_count\":83,\"truncated\":false}                        \n",
       "5338  {\"token_count\":1279,\"truncated\":false}                        \n",
       "5582   {\"token_count\":396,\"truncated\":false}                        \n",
       "6386    {\"token_count\":79,\"truncated\":false}                        \n",
       "6956   {\"token_count\":194,\"truncated\":false}                        \n",
       "\n",
       "                                                content  \n",
       "782   I 've sent multiple letters to this agency abo...  \n",
       "795   I receive social security XXXX funds in my XXX...  \n",
       "861   Hello, My name is XXXX XXXX XXXX. I have a pro...  \n",
       "1103  The debt occurred more than 7 years in the pas...  \n",
       "1241  UNAUTHORIZED CREDIT REPORTING NO ACCOUNT TO VA...  \n",
       "1729  XXXX on XXXX XX/XX/2021 I have Mr. Cooper mort...  \n",
       "2167  This is the third such complaint I have submit...  \n",
       "2219  Found and add online for a Prepaid Credit card...  \n",
       "2392  I am furnishing this complaint against Fed Loa...  \n",
       "2528  Despite multiple written requests, the unverif...  \n",
       "2737  After unsatisfying communication in the messag...  \n",
       "2859  Good Morning. My name is XXXX XXXX. My account...  \n",
       "3439  I have ongoing disputes that are preventing me...  \n",
       "3738  I had a loan with national Collegiate Trust. i...  \n",
       "3805  Hi I am submitting this XXXX XXXX this isn't a...  \n",
       "3915  portfolio is showin on my credit report with a...  \n",
       "3917  the company shared my information with another...  \n",
       "4281  I tried to submit a teacher loan forgiveness a...  \n",
       "4470  in accordance with the Fair Credit Reporting a...  \n",
       "4915  XXXX XXXX did not give me a receipt or a copy ...  \n",
       "4928  This company has filed a civil suit during a g...  \n",
       "5338  My credit report contains errors that is keepi...  \n",
       "5582  Coast Professional, XXXX, LA contacted me by m...  \n",
       "6386  Cares act refund requested in XXXX, called mul...  \n",
       "6956  n accordance with the Fair Credit Reporting ac...  \n",
       "...\n",
       "\n",
       "[10000 rows x 4 columns]"
      ]
     },
     "execution_count": 11,
     "metadata": {},
     "output_type": "execute_result"
    }
   ],
   "source": [
    "successful_rows = (\n",
    "    (predicted_embeddings[\"ml_embed_text_status\"] == \"\")\n",
    "    # Series.str.len() gives the length of an array.\n",
    "    # See: https://stackoverflow.com/a/41340543/101923\n",
    "    & (predicted_embeddings[\"text_embedding\"].str.len() != 0)\n",
    ")\n",
    "predicted_embeddings = predicted_embeddings[successful_rows]\n",
    "predicted_embeddings\n"
   ]
  },
  {
   "attachments": {},
   "cell_type": "markdown",
   "metadata": {},
   "source": [
    "We now have the complaints and their text embeddings as two columns in our predicted_embeddings DataFrame."
   ]
  },
  {
   "attachments": {},
   "cell_type": "markdown",
   "metadata": {
    "id": "OUZ3NNbzo1Tb"
   },
   "source": [
    "## Step 2: Create k-means model and predict clusters"
   ]
  },
  {
   "cell_type": "code",
   "execution_count": 12,
   "metadata": {
    "id": "AhNTnEC5FRz2"
   },
   "outputs": [],
   "source": [
    "from bigframes.ml.cluster import KMeans\n",
    "\n",
    "cluster_model = KMeans(n_clusters=10) # We will divide our complaints into 10 groups"
   ]
  },
  {
   "attachments": {},
   "cell_type": "markdown",
   "metadata": {},
   "source": [
    "Perform KMeans clustering"
   ]
  },
  {
   "cell_type": "code",
   "execution_count": 13,
   "metadata": {
    "id": "6poSxh-fGJF7"
   },
   "outputs": [
    {
     "data": {
      "text/html": [
       "Query job 46da96c8-c454-44d3-8b98-0e1bfeca69dd is DONE. 61.7 MB processed. <a target=\"_blank\" href=\"https://console.cloud.google.com/bigquery?project=bigframes-dev&j=bq:US:46da96c8-c454-44d3-8b98-0e1bfeca69dd&page=queryresults\">Open Job</a>"
      ],
      "text/plain": [
       "<IPython.core.display.HTML object>"
      ]
     },
     "metadata": {},
     "output_type": "display_data"
    },
    {
     "data": {
      "text/html": [
       "Query job dc6fe7cf-329d-4274-aff9-0b8dc2e56230 is DONE. 0 Bytes processed. <a target=\"_blank\" href=\"https://console.cloud.google.com/bigquery?project=bigframes-dev&j=bq:US:dc6fe7cf-329d-4274-aff9-0b8dc2e56230&page=queryresults\">Open Job</a>"
      ],
      "text/plain": [
       "<IPython.core.display.HTML object>"
      ]
     },
     "metadata": {},
     "output_type": "display_data"
    },
    {
     "data": {
      "text/html": [
       "Query job 8c25a14a-af39-40a9-add5-de0f14bce9ce is DONE. 72.4 MB processed. <a target=\"_blank\" href=\"https://console.cloud.google.com/bigquery?project=bigframes-dev&j=bq:US:8c25a14a-af39-40a9-add5-de0f14bce9ce&page=queryresults\">Open Job</a>"
      ],
      "text/plain": [
       "<IPython.core.display.HTML object>"
      ]
     },
     "metadata": {},
     "output_type": "display_data"
    },
    {
     "data": {
      "text/html": [
       "Query job 0a6a45b2-7c35-4be8-91a3-391a5381553e is DONE. 80.0 kB processed. <a target=\"_blank\" href=\"https://console.cloud.google.com/bigquery?project=bigframes-dev&j=bq:US:0a6a45b2-7c35-4be8-91a3-391a5381553e&page=queryresults\">Open Job</a>"
      ],
      "text/plain": [
       "<IPython.core.display.HTML object>"
      ]
     },
     "metadata": {},
     "output_type": "display_data"
    },
    {
     "data": {
      "text/html": [
       "Query job b5e00edd-de21-40c1-bf61-9f1affdea318 is DONE. 73.1 MB processed. <a target=\"_blank\" href=\"https://console.cloud.google.com/bigquery?project=bigframes-dev&j=bq:US:b5e00edd-de21-40c1-bf61-9f1affdea318&page=queryresults\">Open Job</a>"
      ],
      "text/plain": [
       "<IPython.core.display.HTML object>"
      ]
     },
     "metadata": {},
     "output_type": "display_data"
    },
    {
     "data": {
      "text/html": [
       "<div>\n",
       "<style scoped>\n",
       "    .dataframe tbody tr th:only-of-type {\n",
       "        vertical-align: middle;\n",
       "    }\n",
       "\n",
       "    .dataframe tbody tr th {\n",
       "        vertical-align: top;\n",
       "    }\n",
       "\n",
       "    .dataframe thead th {\n",
       "        text-align: right;\n",
       "    }\n",
       "</style>\n",
       "<table border=\"1\" class=\"dataframe\">\n",
       "  <thead>\n",
       "    <tr style=\"text-align: right;\">\n",
       "      <th></th>\n",
       "      <th>CENTROID_ID</th>\n",
       "      <th>NEAREST_CENTROIDS_DISTANCE</th>\n",
       "      <th>text_embedding</th>\n",
       "      <th>statistics</th>\n",
       "      <th>ml_embed_text_status</th>\n",
       "      <th>content</th>\n",
       "    </tr>\n",
       "  </thead>\n",
       "  <tbody>\n",
       "    <tr>\n",
       "      <th>1094645</th>\n",
       "      <td>1</td>\n",
       "      <td>[{'CENTROID_ID': 1, 'DISTANCE': 0.530282685572...</td>\n",
       "      <td>[ 7.32792774e-03 -7.59598315e-02 -4.49591577e-...</td>\n",
       "      <td>{\"token_count\":10,\"truncated\":false}</td>\n",
       "      <td></td>\n",
       "      <td>I do not have an account with this creditor</td>\n",
       "    </tr>\n",
       "    <tr>\n",
       "      <th>3372485</th>\n",
       "      <td>1</td>\n",
       "      <td>[{'CENTROID_ID': 1, 'DISTANCE': 0.643931578310...</td>\n",
       "      <td>[-0.00161087 -0.04956109 -0.07371692 -0.057822...</td>\n",
       "      <td>{\"token_count\":10,\"truncated\":false}</td>\n",
       "      <td></td>\n",
       "      <td>Hard inquiries in my report that I do not reco...</td>\n",
       "    </tr>\n",
       "    <tr>\n",
       "      <th>2669308</th>\n",
       "      <td>1</td>\n",
       "      <td>[{'CENTROID_ID': 1, 'DISTANCE': 0.599709344244...</td>\n",
       "      <td>[ 5.50241247e-02 -1.50039541e-02 -2.08624080e-...</td>\n",
       "      <td>{\"token_count\":100,\"truncated\":false}</td>\n",
       "      <td></td>\n",
       "      <td>I purchase {$25.00} for stock on the cash app ...</td>\n",
       "    </tr>\n",
       "    <tr>\n",
       "      <th>133816</th>\n",
       "      <td>1</td>\n",
       "      <td>[{'CENTROID_ID': 1, 'DISTANCE': 0.618444281124...</td>\n",
       "      <td>[ 1.77251529e-02 -3.89547497e-02 -3.82236368e-...</td>\n",
       "      <td>{\"token_count\":100,\"truncated\":false}</td>\n",
       "      <td></td>\n",
       "      <td>BBVA fees I am in The Texas snow storm where I...</td>\n",
       "    </tr>\n",
       "    <tr>\n",
       "      <th>2697156</th>\n",
       "      <td>1</td>\n",
       "      <td>[{'CENTROID_ID': 1, 'DISTANCE': 0.500398902102...</td>\n",
       "      <td>[-1.28429877e-02 -1.85956229e-02 -3.93197313e-...</td>\n",
       "      <td>{\"token_count\":1011,\"truncated\":false}</td>\n",
       "      <td></td>\n",
       "      <td>After paying on my student loan for years, I o...</td>\n",
       "    </tr>\n",
       "  </tbody>\n",
       "</table>\n",
       "</div>"
      ],
      "text/plain": [
       "         CENTROID_ID                         NEAREST_CENTROIDS_DISTANCE  \\\n",
       "1094645            1  [{'CENTROID_ID': 1, 'DISTANCE': 0.530282685572...   \n",
       "3372485            1  [{'CENTROID_ID': 1, 'DISTANCE': 0.643931578310...   \n",
       "2669308            1  [{'CENTROID_ID': 1, 'DISTANCE': 0.599709344244...   \n",
       "133816             1  [{'CENTROID_ID': 1, 'DISTANCE': 0.618444281124...   \n",
       "2697156            1  [{'CENTROID_ID': 1, 'DISTANCE': 0.500398902102...   \n",
       "\n",
       "                                            text_embedding  \\\n",
       "1094645  [ 7.32792774e-03 -7.59598315e-02 -4.49591577e-...   \n",
       "3372485  [-0.00161087 -0.04956109 -0.07371692 -0.057822...   \n",
       "2669308  [ 5.50241247e-02 -1.50039541e-02 -2.08624080e-...   \n",
       "133816   [ 1.77251529e-02 -3.89547497e-02 -3.82236368e-...   \n",
       "2697156  [-1.28429877e-02 -1.85956229e-02 -3.93197313e-...   \n",
       "\n",
       "                                     statistics ml_embed_text_status  \\\n",
       "1094645    {\"token_count\":10,\"truncated\":false}                        \n",
       "3372485    {\"token_count\":10,\"truncated\":false}                        \n",
       "2669308   {\"token_count\":100,\"truncated\":false}                        \n",
       "133816    {\"token_count\":100,\"truncated\":false}                        \n",
       "2697156  {\"token_count\":1011,\"truncated\":false}                        \n",
       "\n",
       "                                                   content  \n",
       "1094645        I do not have an account with this creditor  \n",
       "3372485  Hard inquiries in my report that I do not reco...  \n",
       "2669308  I purchase {$25.00} for stock on the cash app ...  \n",
       "133816   BBVA fees I am in The Texas snow storm where I...  \n",
       "2697156  After paying on my student loan for years, I o...  "
      ]
     },
     "execution_count": 13,
     "metadata": {},
     "output_type": "execute_result"
    }
   ],
   "source": [
    "# Use KMeans clustering to calculate our groups. Will take ~3 minutes.\n",
    "cluster_model.fit(predicted_embeddings[[\"text_embedding\"]])\n",
    "clustered_result = cluster_model.predict(predicted_embeddings)\n",
    "# Notice the CENTROID_ID column, which is the ID number of the group that\n",
    "# each complaint belongs to.\n",
    "clustered_result.peek(n=5)"
   ]
  },
  {
   "attachments": {},
   "cell_type": "markdown",
   "metadata": {},
   "source": [
    "Our DataFrame clustered_result now has an additional column that includes an ID from 1-10 (inclusive) indicating which semantically similar group they belong to."
   ]
  },
  {
   "attachments": {},
   "cell_type": "markdown",
   "metadata": {
    "id": "21rNsFMHo8hO"
   },
   "source": [
    "## Step 3: Use Gemini to summarize complaint clusters"
   ]
  },
  {
   "attachments": {},
   "cell_type": "markdown",
   "metadata": {},
   "source": [
    "Build prompts - we will choose just two of our categories and prompt GeminiTextGenerator to identify their salient characteristics. The prompt is natural language in a python string."
   ]
  },
  {
   "cell_type": "code",
   "execution_count": 14,
   "metadata": {
    "id": "2E7wXM_jGqo6"
   },
   "outputs": [
    {
     "data": {
      "text/html": [
       "Query job 8d4f24d6-dc37-47d3-8b4d-4505a55c4ccc is DONE. 10.4 MB processed. <a target=\"_blank\" href=\"https://console.cloud.google.com/bigquery?project=bigframes-dev&j=bq:US:8d4f24d6-dc37-47d3-8b4d-4505a55c4ccc&page=queryresults\">Open Job</a>"
      ],
      "text/plain": [
       "<IPython.core.display.HTML object>"
      ]
     },
     "metadata": {},
     "output_type": "display_data"
    },
    {
     "data": {
      "text/html": [
       "Query job c1f979ee-1f5d-4f37-8595-ee2167c06e63 is DONE. 10.4 MB processed. <a target=\"_blank\" href=\"https://console.cloud.google.com/bigquery?project=bigframes-dev&j=bq:US:c1f979ee-1f5d-4f37-8595-ee2167c06e63&page=queryresults\">Open Job</a>"
      ],
      "text/plain": [
       "<IPython.core.display.HTML object>"
      ]
     },
     "metadata": {},
     "output_type": "display_data"
    }
   ],
   "source": [
    "# Using bigframes, with syntax identical to pandas,\n",
    "# filter out the first and second groups\n",
    "cluster_1_result = clustered_result[\n",
    "    clustered_result[\"CENTROID_ID\"] == 1\n",
    "][[\"content\"]]\n",
    "cluster_1_result_pandas = cluster_1_result.head(5).to_pandas()\n",
    "\n",
    "cluster_2_result = clustered_result[\n",
    "    clustered_result[\"CENTROID_ID\"] == 2\n",
    "][[\"content\"]]\n",
    "cluster_2_result_pandas = cluster_2_result.head(5).to_pandas()"
   ]
  },
  {
   "cell_type": "code",
   "execution_count": 15,
   "metadata": {
    "id": "ZNDiueI9IP5e"
   },
   "outputs": [
    {
     "name": "stdout",
     "output_type": "stream",
     "text": [
      "comment list 1:\n",
      "1. This is the third such complaint I have submitted regarding the same type of issue over the past 12-18 months. \n",
      "\n",
      "On XX/XX/XXXX, my co-signed account was flagged by Navient as past due. The XXXX payment was mailed priority on XX/XX/XXXX and received by Navient on XX/XX/XXXX and delivered to \" an individual '' per the post office. \n",
      "I called Navient on XX/XX/XXXX to talk to them about why my account was flagged since they received the payment long before the due date. The payment is sent via XXXX money orders under the same cover. The XXXX money order ( {$160.00} ) was cashed on XX/XX/XXXX per XXXX XXXX, the second money order ( {$250.00} ) which was sent in the same priority envelope and received the same time has not been cashed. \n",
      "When I called the customer service agent at Navient she told me that my account was past due and wanted me to send another payment. When I explained that they had received the payment she argued with me that if they received it, the payment would have been cashed. I asked to speak with a supervisor. \n",
      "I was connected with supervisor, XXXX XXXX, who asked that I send copies of the payments to him so he could submit for a missing payment request. I faxed the proof on XXXX @ XXXX with a receipt acknowledgment. \n",
      "On XX/XX/XXXX, the payment was still not applied to the account. When I called XXXX XXXX, the money order was still not cashed. I called Navient again. Because of an argumentative customer service rep again, I requested to speak with a supervisor. I spoke with XXXX XXXX. She states that payment was not received. I explained the situation again. She said the missing payment request had not been submitted. She had me upload the documents so she could request a missing payment search. I have done everything I have been asked. \n",
      "This issues continues to occur. For approximately 6 months at a time, Navient gets this right then there are issues again and again. I have submitted CFPB complaints about this in the past. \n",
      "I was told it would take 5-7 business days to be resolved.\n",
      "2. I tried to submit a teacher loan forgiveness application and they lost my application. I submitted the application again after talking to XXXX people at Nelnet. Then when I called back to check on the status they told me that I needed to submit another form for a different school that I worked at. I had already called previously and asked if I needed to submit any other papers and they told me \" no ''. Therefore, I have been paying my loan for 5 months and it should be forgiven. I am still paying my loan because I have to wait for them to approve the new forgiveness paperwork.\n",
      "3. PayPal continues to overcharge their currency rate. It it always inflated in their favor so that they collect the difference.\n",
      "4. My government feeds are not coming on to my card and I need the problem fix today\n",
      "5. Paypal Credit 's website is confusing and does not accurately reflect all activity. When speaking with representatives like XXXX, it 's confusing to them and they can barely follow along with it. I am not receiving statements, which proves it difficult to determine the due dates on the accounts. The Reps are n't knowledgeable and the only thing they repeat to you is the amount due on the screen.\n",
      "\n",
      "comment list 2:\n",
      "1. XXXX on XXXX XX/XX/2021 I have Mr. Cooper mortgage for years now. On XXXX XXXX XXXX I made an additional payment of $ XXXX towards my principal. More than 4 days - it's not reflected in the Amortization schedule ( Amortization schedule is not even visible ). Even after so many additional principal payments, Payoff calculator is way off and it still shows XXXX maturity date while it should start showing something like XX/XX/XXXX/XX/XX/XXXX as the initial date. There are lots of discrepancies on their website to reflect the balance and total. When called customer service on Friday and also chatted - i was assured of fixing this - but no fix till this point of time. Customer service there is a long wait. Auto bot doesn't let customers talk to the real person. \n",
      "Finally after a lots of follow-up I got the amortization schedule via email but it is not reflecting another additional principal payment of {$4700.00} made on XX/XX/2021. \n",
      "I did numerous chats and phone calls. Why i should depend on inefficinent humans to see my revised amortization schedule? \n",
      "Why the online amortization schedule is not visible now? \n",
      "\n",
      "Worst thing, after turning on escrow account, there is no transparency. Amount of escrow account is not in sync with all the sections of my online account. It seems that there are too many internal buggy systems in Mr. Cooper and everybody from different IT department is showing a different $ $ figure at various places. \n",
      "Highly inefficient organization.\n",
      "2. I had a loan with national Collegiate Trust. i did n't make any payments on the loan for 6 years and due to the \" statute to limitations '' the loan collector should not be contacting me any more, by they still are in both forms phone call 's and letters. I am also trying to buy a house for my family and found out that i can not get a USDA loan for the house because National Collegiate Trust has filled the loan as a government delinquent loan. The problem with that is the loan is a private loan not a federal/Government loan. due to the way they filled the lion on my credit report i am not able to buy my first home.\n",
      "3. Cares act refund requested in XXXX, called multiple times given conflicting information every time. Its now XXXX and looking like its going to be even longer potentially months before the refund arrives. Blatant disregard for the cares act signed into law and terrible customer service. This company is ill suited to service the federal government contract it enjoys.\n",
      "4. In an attempt to pay off my loan with Ocwen, I sent XXXX large payments to the institution on XXXX XXXX that would have decreased my loan amount to within a couple of hundred dollars ( you can not send XXXX payment that exceeds 80 % of the loan balance so I broke the payments up into XXXX XXXX. I scheduled the payments for the same day because I did not want any interest to accrue. After a few days, I noticed where the XXXX payments were withdrawn from my bank but that my Ocwen balance had not changed to reflect my XXXX payments. I called Ocwen on XXXX XXXX to ask about the payment. The Ocwen rep explained that because the XXXX payments were scheduled for the same day, that it exceeded the 80 % max limit. I asked Ocwen to return my XXXX payments. The rep said it would take XXXX business days. I called Ocwen back on XXXX XXXX when my funds had not been returned to my bank account. I gave them my account number and routing number to my bank, information that I am sure they already had since my monthly mortgage payments are debited from my account. They asked me to wait a couple more days. I called Ocwen back on XXXX XXXX. The rep asked me to be patient and assured me that the funds would be returned by XXXX XXXX. There were no funds returned to my account on XXXX XXXX. I called Ocwen again. I was asked to wait 40+ minutes on hold while the Ocwen rep put me in touch with an escalation specialist ( ES ). The ES told me that my funds would be reurned within XXXX hours and that he had put it in as a priority because I had called so often. There were no funds on XXXX XXXX. I called Ocwen again to see if there was a problem. There was. After speaking to a rep and another ES, I was told that my funds could not be returned to me! The ES said that he did not see my funds! He claimed to put me in touch with someone who XXXX be able to address my concerns. So that 's where I am now, on hold waiting to speak to yet another person! This is a significant amount of money and I fear that Ocwen is trying to get away with keeping my XXXX payments!\n",
      "5. In XX/XX/XXXX we received our first bill from XXXX XXXX for XXXX. ( attached ) We promptly paid the bill. Again, in XX/XX/XXXX we paid our second bill for XXXX. Again, both on time. Then when XX/XX/XXXX statement came we were billed XXXX. My husband called XXXX XXXX to find out what the issue was. We were told there was a loan shortfall caused by us paying XXXX ( the amount we were billed ) and that our loan was re-amoritized. I argued I had a fixed rate loan, had never missed a payment, had never made a late payment, and paid exactly what was billed. Well, after double checking my promissory note ( attached ) and TILA ( attached ) I was to always be billed XXXX. XXXX changed the monthly payment and thus caused a shortfall. When I told them this information they refused to correct the shortfall. Not only did they not correct the mistake they refused to return my calls or emails to provide answers for these issues. Around 90 days later and this issue still exists and they still refuse to answer. Additionally I offered to make up the shortfall myself by offering a check for the missing amount and they just applied it to interest. Thus the shortfall still exists. The extra amount would have gone directly to principal. Additionally, in XX/XX/XXXX we made an extra payment amount on top of the monthly payment. This was made all at the same time. The letter we sent contained directions to only apply extra payments beyond the monthly requirement be applied to principal and not the next months payment. This was ignored. Then XXXX \" a higher up '' as she calls herself lied and told me it went to principal when clearly it did not. We requested this be fixed and it has not been done. No one has offered to fix anything either. A certified letter is attached that I mailed. I also made dozens of calls.\n",
      "\n"
     ]
    }
   ],
   "source": [
    "# Build plain-text prompts to send to PaLM 2. Use only 5 complaints from each group.\n",
    "prompt1 = 'comment list 1:\\n'\n",
    "for i in range(5):\n",
    "    prompt1 += str(i + 1) + '. ' + \\\n",
    "        cluster_1_result_pandas[\"content\"].iloc[i] + '\\n'\n",
    "\n",
    "prompt2 = 'comment list 2:\\n'\n",
    "for i in range(5):\n",
    "    prompt2 += str(i + 1) + '. ' + \\\n",
    "        cluster_2_result_pandas[\"content\"].iloc[i] + '\\n'\n",
    "\n",
    "print(prompt1)\n",
    "print(prompt2)"
   ]
  },
  {
   "cell_type": "code",
   "execution_count": 16,
   "metadata": {
    "id": "BfHGJLirzSvH"
   },
   "outputs": [
    {
     "name": "stdout",
     "output_type": "stream",
     "text": [
      "Please highlight the most obvious difference between the two lists of comments:\n",
      "comment list 1:\n",
      "1. This is the third such complaint I have submitted regarding the same type of issue over the past 12-18 months. \n",
      "\n",
      "On XX/XX/XXXX, my co-signed account was flagged by Navient as past due. The XXXX payment was mailed priority on XX/XX/XXXX and received by Navient on XX/XX/XXXX and delivered to \" an individual '' per the post office. \n",
      "I called Navient on XX/XX/XXXX to talk to them about why my account was flagged since they received the payment long before the due date. The payment is sent via XXXX money orders under the same cover. The XXXX money order ( {$160.00} ) was cashed on XX/XX/XXXX per XXXX XXXX, the second money order ( {$250.00} ) which was sent in the same priority envelope and received the same time has not been cashed. \n",
      "When I called the customer service agent at Navient she told me that my account was past due and wanted me to send another payment. When I explained that they had received the payment she argued with me that if they received it, the payment would have been cashed. I asked to speak with a supervisor. \n",
      "I was connected with supervisor, XXXX XXXX, who asked that I send copies of the payments to him so he could submit for a missing payment request. I faxed the proof on XXXX @ XXXX with a receipt acknowledgment. \n",
      "On XX/XX/XXXX, the payment was still not applied to the account. When I called XXXX XXXX, the money order was still not cashed. I called Navient again. Because of an argumentative customer service rep again, I requested to speak with a supervisor. I spoke with XXXX XXXX. She states that payment was not received. I explained the situation again. She said the missing payment request had not been submitted. She had me upload the documents so she could request a missing payment search. I have done everything I have been asked. \n",
      "This issues continues to occur. For approximately 6 months at a time, Navient gets this right then there are issues again and again. I have submitted CFPB complaints about this in the past. \n",
      "I was told it would take 5-7 business days to be resolved.\n",
      "2. I tried to submit a teacher loan forgiveness application and they lost my application. I submitted the application again after talking to XXXX people at Nelnet. Then when I called back to check on the status they told me that I needed to submit another form for a different school that I worked at. I had already called previously and asked if I needed to submit any other papers and they told me \" no ''. Therefore, I have been paying my loan for 5 months and it should be forgiven. I am still paying my loan because I have to wait for them to approve the new forgiveness paperwork.\n",
      "3. PayPal continues to overcharge their currency rate. It it always inflated in their favor so that they collect the difference.\n",
      "4. My government feeds are not coming on to my card and I need the problem fix today\n",
      "5. Paypal Credit 's website is confusing and does not accurately reflect all activity. When speaking with representatives like XXXX, it 's confusing to them and they can barely follow along with it. I am not receiving statements, which proves it difficult to determine the due dates on the accounts. The Reps are n't knowledgeable and the only thing they repeat to you is the amount due on the screen.\n",
      "comment list 2:\n",
      "1. XXXX on XXXX XX/XX/2021 I have Mr. Cooper mortgage for years now. On XXXX XXXX XXXX I made an additional payment of $ XXXX towards my principal. More than 4 days - it's not reflected in the Amortization schedule ( Amortization schedule is not even visible ). Even after so many additional principal payments, Payoff calculator is way off and it still shows XXXX maturity date while it should start showing something like XX/XX/XXXX/XX/XX/XXXX as the initial date. There are lots of discrepancies on their website to reflect the balance and total. When called customer service on Friday and also chatted - i was assured of fixing this - but no fix till this point of time. Customer service there is a long wait. Auto bot doesn't let customers talk to the real person. \n",
      "Finally after a lots of follow-up I got the amortization schedule via email but it is not reflecting another additional principal payment of {$4700.00} made on XX/XX/2021. \n",
      "I did numerous chats and phone calls. Why i should depend on inefficinent humans to see my revised amortization schedule? \n",
      "Why the online amortization schedule is not visible now? \n",
      "\n",
      "Worst thing, after turning on escrow account, there is no transparency. Amount of escrow account is not in sync with all the sections of my online account. It seems that there are too many internal buggy systems in Mr. Cooper and everybody from different IT department is showing a different $ $ figure at various places. \n",
      "Highly inefficient organization.\n",
      "2. I had a loan with national Collegiate Trust. i did n't make any payments on the loan for 6 years and due to the \" statute to limitations '' the loan collector should not be contacting me any more, by they still are in both forms phone call 's and letters. I am also trying to buy a house for my family and found out that i can not get a USDA loan for the house because National Collegiate Trust has filled the loan as a government delinquent loan. The problem with that is the loan is a private loan not a federal/Government loan. due to the way they filled the lion on my credit report i am not able to buy my first home.\n",
      "3. Cares act refund requested in XXXX, called multiple times given conflicting information every time. Its now XXXX and looking like its going to be even longer potentially months before the refund arrives. Blatant disregard for the cares act signed into law and terrible customer service. This company is ill suited to service the federal government contract it enjoys.\n",
      "4. In an attempt to pay off my loan with Ocwen, I sent XXXX large payments to the institution on XXXX XXXX that would have decreased my loan amount to within a couple of hundred dollars ( you can not send XXXX payment that exceeds 80 % of the loan balance so I broke the payments up into XXXX XXXX. I scheduled the payments for the same day because I did not want any interest to accrue. After a few days, I noticed where the XXXX payments were withdrawn from my bank but that my Ocwen balance had not changed to reflect my XXXX payments. I called Ocwen on XXXX XXXX to ask about the payment. The Ocwen rep explained that because the XXXX payments were scheduled for the same day, that it exceeded the 80 % max limit. I asked Ocwen to return my XXXX payments. The rep said it would take XXXX business days. I called Ocwen back on XXXX XXXX when my funds had not been returned to my bank account. I gave them my account number and routing number to my bank, information that I am sure they already had since my monthly mortgage payments are debited from my account. They asked me to wait a couple more days. I called Ocwen back on XXXX XXXX. The rep asked me to be patient and assured me that the funds would be returned by XXXX XXXX. There were no funds returned to my account on XXXX XXXX. I called Ocwen again. I was asked to wait 40+ minutes on hold while the Ocwen rep put me in touch with an escalation specialist ( ES ). The ES told me that my funds would be reurned within XXXX hours and that he had put it in as a priority because I had called so often. There were no funds on XXXX XXXX. I called Ocwen again to see if there was a problem. There was. After speaking to a rep and another ES, I was told that my funds could not be returned to me! The ES said that he did not see my funds! He claimed to put me in touch with someone who XXXX be able to address my concerns. So that 's where I am now, on hold waiting to speak to yet another person! This is a significant amount of money and I fear that Ocwen is trying to get away with keeping my XXXX payments!\n",
      "5. In XX/XX/XXXX we received our first bill from XXXX XXXX for XXXX. ( attached ) We promptly paid the bill. Again, in XX/XX/XXXX we paid our second bill for XXXX. Again, both on time. Then when XX/XX/XXXX statement came we were billed XXXX. My husband called XXXX XXXX to find out what the issue was. We were told there was a loan shortfall caused by us paying XXXX ( the amount we were billed ) and that our loan was re-amoritized. I argued I had a fixed rate loan, had never missed a payment, had never made a late payment, and paid exactly what was billed. Well, after double checking my promissory note ( attached ) and TILA ( attached ) I was to always be billed XXXX. XXXX changed the monthly payment and thus caused a shortfall. When I told them this information they refused to correct the shortfall. Not only did they not correct the mistake they refused to return my calls or emails to provide answers for these issues. Around 90 days later and this issue still exists and they still refuse to answer. Additionally I offered to make up the shortfall myself by offering a check for the missing amount and they just applied it to interest. Thus the shortfall still exists. The extra amount would have gone directly to principal. Additionally, in XX/XX/XXXX we made an extra payment amount on top of the monthly payment. This was made all at the same time. The letter we sent contained directions to only apply extra payments beyond the monthly requirement be applied to principal and not the next months payment. This was ignored. Then XXXX \" a higher up '' as she calls herself lied and told me it went to principal when clearly it did not. We requested this be fixed and it has not been done. No one has offered to fix anything either. A certified letter is attached that I mailed. I also made dozens of calls.\n",
      "\n"
     ]
    }
   ],
   "source": [
    "# The plain English request we will make of PaLM 2\n",
    "prompt = (\n",
    "    \"Please highlight the most obvious difference between \"\n",
    "    \"the two lists of comments:\\n\" + prompt1 + prompt2\n",
    ")\n",
    "print(prompt)"
   ]
  },
  {
   "attachments": {},
   "cell_type": "markdown",
   "metadata": {},
   "source": [
    "Get a response from Gemini by making a call to Vertex AI using our connection."
   ]
  },
  {
   "cell_type": "code",
   "execution_count": 17,
   "metadata": {
    "id": "mL5P0_3X04dE"
   },
   "outputs": [
    {
     "data": {
      "text/html": [
       "Query job de5da6c9-96b5-42a1-b199-42687392fe37 is DONE. 0 Bytes processed. <a target=\"_blank\" href=\"https://console.cloud.google.com/bigquery?project=bigframes-dev&j=bq:US:de5da6c9-96b5-42a1-b199-42687392fe37&page=queryresults\">Open Job</a>"
      ],
      "text/plain": [
       "<IPython.core.display.HTML object>"
      ]
     },
     "metadata": {},
     "output_type": "display_data"
    }
   ],
   "source": [
    "from bigframes.ml.llm import GeminiTextGenerator\n",
    "\n",
    "q_a_model = GeminiTextGenerator()"
   ]
  },
  {
   "cell_type": "code",
   "execution_count": 18,
   "metadata": {
    "id": "ICWHsqAW1FNk"
   },
   "outputs": [],
   "source": [
    "# Make a DataFrame containing only a single row with our prompt for Gemini\n",
    "df = bf.DataFrame({\"prompt\": [prompt]})"
   ]
  },
  {
   "cell_type": "code",
   "execution_count": 19,
   "metadata": {
    "id": "gB7e1LXU1pst"
   },
   "outputs": [
    {
     "data": {
      "text/html": [
       "Query job 1363c327-00b5-4835-a902-da84882bc996 is DONE. 0 Bytes processed. <a target=\"_blank\" href=\"https://console.cloud.google.com/bigquery?project=bigframes-dev&j=bq:US:1363c327-00b5-4835-a902-da84882bc996&page=queryresults\">Open Job</a>"
      ],
      "text/plain": [
       "<IPython.core.display.HTML object>"
      ]
     },
     "metadata": {},
     "output_type": "display_data"
    },
    {
     "data": {
      "text/html": [
       "Query job c5996f1e-a140-4e7d-8775-091e1a73d882 is DONE. 8 Bytes processed. <a target=\"_blank\" href=\"https://console.cloud.google.com/bigquery?project=bigframes-dev&j=bq:US:c5996f1e-a140-4e7d-8775-091e1a73d882&page=queryresults\">Open Job</a>"
      ],
      "text/plain": [
       "<IPython.core.display.HTML object>"
      ]
     },
     "metadata": {},
     "output_type": "display_data"
    },
    {
     "data": {
      "text/html": [
       "Query job db1de3ab-2e6e-4b3f-8e6a-01bad33ac45f is DONE. 2 Bytes processed. <a target=\"_blank\" href=\"https://console.cloud.google.com/bigquery?project=bigframes-dev&j=bq:US:db1de3ab-2e6e-4b3f-8e6a-01bad33ac45f&page=queryresults\">Open Job</a>"
      ],
      "text/plain": [
       "<IPython.core.display.HTML object>"
      ]
     },
     "metadata": {},
     "output_type": "display_data"
    },
    {
     "data": {
      "text/html": [
       "Query job 38d9a9d0-7f03-4091-858b-f864da30987e is DONE. 375 Bytes processed. <a target=\"_blank\" href=\"https://console.cloud.google.com/bigquery?project=bigframes-dev&j=bq:US:38d9a9d0-7f03-4091-858b-f864da30987e&page=queryresults\">Open Job</a>"
      ],
      "text/plain": [
       "<IPython.core.display.HTML object>"
      ]
     },
     "metadata": {},
     "output_type": "display_data"
    },
    {
     "data": {
      "text/plain": [
       "'The most obvious difference between the two lists of comments is the subject matter. The first list of comments is primarily focused on issues with financial institutions, such as Navient, Nelnet, PayPal, and Mr. Cooper. The second list of comments is primarily focused on issues with government agencies, such as the National Collegiate Trust, the USDA, and Ocwen.'"
      ]
     },
     "execution_count": 19,
     "metadata": {},
     "output_type": "execute_result"
    }
   ],
   "source": [
    "# Send the request for Gemini to generate a response to our prompt\n",
    "major_difference = q_a_model.predict(df)\n",
    "# PaLM 2's response is the only row in the dataframe result \n",
    "major_difference[\"ml_generate_text_llm_result\"].iloc[0]"
   ]
  },
  {
   "attachments": {},
   "cell_type": "markdown",
   "metadata": {},
   "source": [
    "We now see GeminiTextGenerator's characterization of the different comment groups. Thanks for using BigQuery DataFrames!"
   ]
  },
  {
   "cell_type": "markdown",
   "metadata": {},
   "source": [
    "# Summary and next steps\n",
    "\n",
    "You've used the ML and LLM capabilities of BigQuery DataFrames to help analyze and understand a large dataset of unstructured feedback.\n",
    "\n",
    "Learn more about BigQuery DataFrames in the [documentation](https://cloud.google.com/python/docs/reference/bigframes/latest) and find more sample notebooks in the [GitHub repo](https://github.com/googleapis/python-bigquery-dataframes/tree/main/notebooks)."
   ]
  }
 ],
 "metadata": {
  "colab": {
   "provenance": []
  },
  "kernelspec": {
   "display_name": "Python 3 (ipykernel)",
   "language": "python",
   "name": "python3"
  },
  "language_info": {
   "codemirror_mode": {
    "name": "ipython",
    "version": 3
   },
   "file_extension": ".py",
   "mimetype": "text/x-python",
   "name": "python",
   "nbconvert_exporter": "python",
   "pygments_lexer": "ipython3",
   "version": "3.10.9"
  }
 },
 "nbformat": 4,
 "nbformat_minor": 4
}
