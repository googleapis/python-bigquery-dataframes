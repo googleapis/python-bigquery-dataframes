{
 "cells": [
  {
   "cell_type": "markdown",
   "id": "b782db87",
   "metadata": {},
   "source": [
    "# BigFrames Performance Analytical Report"
   ]
  },
  {
   "cell_type": "markdown",
   "id": "9a853901",
   "metadata": {},
   "source": [
    "## Why BigFrames is slow (b/440407542)"
   ]
  },
  {
   "cell_type": "markdown",
   "id": "e685b19c",
   "metadata": {},
   "source": [
    "- Add `@perf_inspect.runtime_logger` to the call methods, such as"
   ]
  },
  {
   "cell_type": "code",
   "execution_count": 1,
   "id": "b4c10000",
   "metadata": {},
   "outputs": [
    {
     "name": "stdout",
     "output_type": "stream",
     "text": [
      "|--DataFrame.__init__ started at 2216348.59 seconds\n",
      "|----get_global_session started at 2216348.59 seconds\n",
      "|------Session.__init__ started at 2216348.59 seconds\n",
      "|--------ClientsProvider.__init__ started at 2216348.59 seconds\n",
      "|----------_get_default_credentials_with_project started at 2216348.59 seconds\n"
     ]
    },
    {
     "name": "stderr",
     "output_type": "stream",
     "text": [
      "/usr/local/google/home/chelsealin/src/bigframes1/bigframes/session/__init__.py:2278: DefaultLocationWarning: No explicit location is set, so using location US for the session.\n",
      "  return Session(context)\n"
     ]
    },
    {
     "name": "stdout",
     "output_type": "stream",
     "text": [
      "|----------_get_default_credentials_with_project ended at 2216349.97 seconds. Runtime: 1.38 seconds\n",
      "|--------ClientsProvider.__init__ ended at 2216350.03 seconds. Runtime: 1.44 seconds\n",
      "|------Session.__init__ ended at 2216350.26 seconds. Runtime: 1.67 seconds\n",
      "|----get_global_session ended at 2216350.26 seconds. Runtime: 1.67 seconds\n",
      "|----DataFrame.__init__ started at 2216350.27 seconds\n",
      "|----DataFrame.__init__ ended at 2216350.27 seconds. Runtime: 0.00 seconds\n",
      "|--DataFrame.__init__ ended at 2216350.27 seconds. Runtime: 1.69 seconds\n",
      "|--vector_search started at 2216350.27 seconds\n",
      "|----DataFrame.__init__ started at 2216350.27 seconds\n",
      "|----DataFrame.__init__ ended at 2216350.27 seconds. Runtime: 0.00 seconds\n",
      "|----compile_sql started at 2216350.28 seconds\n",
      "|----compile_sql ended at 2216350.29 seconds. Runtime: 0.01 seconds\n",
      "|----DataFrame.__init__ started at 2216350.55 seconds\n",
      "|----DataFrame.__init__ ended at 2216350.55 seconds. Runtime: 0.00 seconds\n",
      "|----DataFrame.__init__ started at 2216350.55 seconds\n",
      "|----DataFrame.__init__ ended at 2216350.56 seconds. Runtime: 0.00 seconds\n",
      "|--vector_search ended at 2216350.56 seconds. Runtime: 0.28 seconds\n",
      "|--DataFrame.__init__ started at 2216350.56 seconds\n",
      "|--DataFrame.__init__ ended at 2216350.56 seconds. Runtime: 0.00 seconds\n",
      "\n",
      "--- Materializing dataframe ---\n",
      "\n",
      "|--DataFrame.to_pandas started at 2216350.56 seconds\n",
      "|----BigQueryCachingExecutor.execute started at 2216350.56 seconds\n",
      "|------BigQueryCachingExecutor._execute_plan_gbq started at 2216350.56 seconds\n",
      "|--------compile_sql started at 2216350.56 seconds\n",
      "|--------compile_sql ended at 2216350.57 seconds. Runtime: 0.01 seconds\n",
      "Runtime to compile SQL: 0.01 seconds\n",
      "|--------BigQueryCachingExecutor._run_execute_query started at 2216350.57 seconds\n",
      "SELECT\n",
      "`bigframes_unnamed_index` AS `bigframes_unnamed_index`,\n",
      "`query_id` AS `query_id`,\n",
      "`embedding` AS `embedding`,\n",
      "`id` AS `id`,\n",
      "`my_embedding` AS `my_embedding`,\n",
      "`distance` AS `distance`\n",
      "FROM\n",
      "(SELECT\n",
      "  *\n",
      "FROM (\n",
      "  SELECT\n",
      "    *\n",
      "  FROM UNNEST(ARRAY<STRUCT<`bigframes_unnamed_index` INT64, `query_id` STRING, `embedding` ARRAY<FLOAT64>, `id` INT64, `my_embedding` ARRAY<FLOAT64>, `distance` FLOAT64, `bfuid_col_3` INT64>>[STRUCT(0, 'dog', [1.0, 2.0], 1, [1.0, 2.0], 0.0, 0), STRUCT(0, 'dog', [1.0, 2.0], 4, [1.0, 3.2], 1.2000000000000002, 1), STRUCT(1, 'cat', [3.0, 5.2], 2, [2.0, 4.0], 1.562049935181331, 2), STRUCT(1, 'cat', [3.0, 5.2], 5, [5.0, 5.4], 2.009975124224178, 3)]) AS `bigframes_unnamed_index`\n",
      ") AS `t0`)\n",
      "ORDER BY `id` ASC NULLS LAST ,`bigframes_unnamed_index` ASC NULLS LAST ,`bfuid_col_3` ASC NULLS LAST\n",
      "|--------BigQueryCachingExecutor._run_execute_query ended at 2216350.80 seconds. Runtime: 0.23 seconds\n",
      "Runtime to get table size: 0.00 seconds\n",
      "|------BigQueryCachingExecutor._execute_plan_gbq ended at 2216350.80 seconds. Runtime: 0.25 seconds\n",
      "|----BigQueryCachingExecutor.execute ended at 2216350.80 seconds. Runtime: 0.25 seconds\n",
      "|--DataFrame.to_pandas ended at 2216350.81 seconds. Runtime: 0.25 seconds\n",
      "  query_id  embedding  id my_embedding  distance\n",
      "0      dog    [1. 2.]   1      [1. 2.]       0.0\n",
      "1      cat  [3.  5.2]   2      [2. 4.]   1.56205\n",
      "0      dog    [1. 2.]   4    [1.  3.2]       1.2\n",
      "1      cat  [3.  5.2]   5    [5.  5.4]  2.009975\n",
      "Runtime: 0.26 seconds\n"
     ]
    }
   ],
   "source": [
    "import bigframes.pandas as bpd\n",
    "import bigframes.bigquery as bbq\n",
    "import bigframes\n",
    "import time\n",
    "\n",
    "# bigframes.options.bigquery.ordering_mode = \"partial\"\n",
    "\n",
    "search_query = bpd.DataFrame({\"query_id\": [\"dog\", \"cat\"],\n",
    "                              \"embedding\": [[1.0, 2.0], [3.0, 5.2]]})\n",
    "\n",
    "df = bbq.vector_search(\n",
    "    base_table=\"bigframes-dev.bigframes_tests_sys.base_table\",\n",
    "    column_to_search=\"my_embedding\",\n",
    "    query=search_query,\n",
    "    top_k=2\n",
    ").sort_values(\"id\")\n",
    "\n",
    "print(\"\\n--- Materializing dataframe ---\\n\")\n",
    "start_time = time.monotonic()\n",
    "print(df.to_pandas())\n",
    "# print(df)\n",
    "print(\"Runtime: {:.2f} seconds\".format(time.monotonic() - start_time))"
   ]
  },
  {
   "cell_type": "code",
   "execution_count": 1,
   "id": "c8d1d068",
   "metadata": {},
   "outputs": [],
   "source": [
    "import bigframes.pandas as bpd\n",
    "import bigframes.bigquery as bbq\n",
    "import time"
   ]
  },
  {
   "cell_type": "code",
   "execution_count": 2,
   "id": "d0d32114",
   "metadata": {},
   "outputs": [
    {
     "name": "stdout",
     "output_type": "stream",
     "text": [
      "|--DataFrame.__init__ started at 2124418.65 seconds\n",
      "|----get_global_session started at 2124418.66 seconds\n",
      "|------Session.__init__ started at 2124418.66 seconds\n",
      "|--------ClientsProvider.__init__ started at 2124418.66 seconds\n",
      "|----------_get_default_credentials_with_project started at 2124418.66 seconds\n"
     ]
    },
    {
     "name": "stderr",
     "output_type": "stream",
     "text": [
      "/usr/local/google/home/chelsealin/src/bigframes1/bigframes/session/__init__.py:2278: DefaultLocationWarning: No explicit location is set, so using location US for the session.\n",
      "  return Session(context)\n"
     ]
    },
    {
     "name": "stdout",
     "output_type": "stream",
     "text": [
      "|----------_get_default_credentials_with_project ended at 2124420.07 seconds. Runtime: 1.41 seconds\n",
      "|--------ClientsProvider.__init__ ended at 2124420.12 seconds. Runtime: 1.46 seconds\n",
      "|------Session.__init__ ended at 2124420.37 seconds. Runtime: 1.72 seconds\n",
      "|----get_global_session ended at 2124420.37 seconds. Runtime: 1.72 seconds\n",
      "|----DataFrame.__init__ started at 2124420.38 seconds\n",
      "|----DataFrame.__init__ ended at 2124420.38 seconds. Runtime: 0.00 seconds\n",
      "|--DataFrame.__init__ ended at 2124420.38 seconds. Runtime: 1.73 seconds\n",
      "Runtime: 1.73 seconds\n"
     ]
    }
   ],
   "source": [
    "start_time = time.monotonic()\n",
    "search_query = bpd.DataFrame({\"query_id\": [\"dog\", \"cat\"],\n",
    "                              \"embedding\": [[1.0, 2.0], [3.0, 5.2]]})\n",
    "print(\"Runtime: {:.2f} seconds\".format(time.monotonic() - start_time))"
   ]
  },
  {
   "cell_type": "code",
   "execution_count": 3,
   "id": "1f6b8a02",
   "metadata": {},
   "outputs": [
    {
     "name": "stdout",
     "output_type": "stream",
     "text": [
      "|--vector_search started at 2124420.40 seconds\n",
      "|----DataFrame.__init__ started at 2124420.40 seconds\n",
      "|----DataFrame.__init__ ended at 2124420.40 seconds. Runtime: 0.00 seconds\n",
      "|----DataFrame.__init__ started at 2124420.79 seconds\n",
      "|----DataFrame.__init__ ended at 2124420.79 seconds. Runtime: 0.00 seconds\n",
      "|----DataFrame.__init__ started at 2124420.79 seconds\n",
      "|----DataFrame.__init__ ended at 2124420.79 seconds. Runtime: 0.00 seconds\n",
      "|--vector_search ended at 2124420.79 seconds. Runtime: 0.39 seconds\n",
      "|--DataFrame.__init__ started at 2124420.79 seconds\n",
      "|--DataFrame.__init__ ended at 2124420.79 seconds. Runtime: 0.00 seconds\n",
      "Runtime: 0.39 seconds\n"
     ]
    }
   ],
   "source": [
    "start_time = time.monotonic()\n",
    "df = bbq.vector_search(\n",
    "    base_table=\"bigframes-dev.bigframes_tests_sys.base_table\",\n",
    "    column_to_search=\"my_embedding\",\n",
    "    query=search_query,\n",
    "    top_k=2\n",
    ").sort_values(\"id\")\n",
    "print(\"Runtime: {:.2f} seconds\".format(time.monotonic() - start_time))"
   ]
  },
  {
   "cell_type": "code",
   "execution_count": 4,
   "id": "3c105ddd",
   "metadata": {},
   "outputs": [
    {
     "name": "stdout",
     "output_type": "stream",
     "text": [
      "|--DataFrame.to_pandas started at 2124420.80 seconds\n",
      "|----BigQueryCachingExecutor.execute started at 2124420.80 seconds\n",
      "|----BigQueryCachingExecutor.execute ended at 2124421.00 seconds. Runtime: 0.20 seconds\n",
      "|--DataFrame.to_pandas ended at 2124421.01 seconds. Runtime: 0.21 seconds\n",
      "  query_id  embedding  id my_embedding  distance\n",
      "0      dog    [1. 2.]   1      [1. 2.]       0.0\n",
      "1      cat  [3.  5.2]   2      [2. 4.]   1.56205\n",
      "0      dog    [1. 2.]   4    [1.  3.2]       1.2\n",
      "1      cat  [3.  5.2]   5    [5.  5.4]  2.009975\n",
      "Runtime: 0.21 seconds\n"
     ]
    }
   ],
   "source": [
    "start_time = time.monotonic()\n",
    "print(df.to_pandas())\n",
    "print(\"Runtime: {:.2f} seconds\".format(time.monotonic() - start_time))"
   ]
  },
  {
   "cell_type": "code",
   "execution_count": 7,
   "id": "f13bd234",
   "metadata": {},
   "outputs": [
    {
     "name": "stdout",
     "output_type": "stream",
     "text": [
      "|--DataFrame.__repr__ started at 2124496.45 seconds\n",
      "|----Block.retrieve_repr_request_results started at 2124496.45 seconds\n",
      "|----Block.retrieve_repr_request_results ended at 2124496.45 seconds. Runtime: 0.00 seconds\n",
      "|--DataFrame.__repr__ ended at 2124496.47 seconds. Runtime: 0.02 seconds\n",
      "  query_id  embedding  id my_embedding  distance\n",
      "0      dog    [1. 2.]   1      [1. 2.]       0.0\n",
      "1      cat  [3.  5.2]   2      [2. 4.]   1.56205\n",
      "0      dog    [1. 2.]   4    [1.  3.2]       1.2\n",
      "1      cat  [3.  5.2]   5    [5.  5.4]  2.009975\n",
      "\n",
      "[4 rows x 5 columns]\n",
      "Runtime: 0.02 seconds\n"
     ]
    }
   ],
   "source": [
    "start_time = time.monotonic()\n",
    "print(df)\n",
    "print(\"Runtime: {:.2f} seconds\".format(time.monotonic() - start_time))"
   ]
  }
 ],
 "metadata": {
  "kernelspec": {
   "display_name": "venv",
   "language": "python",
   "name": "python3"
  },
  "language_info": {
   "codemirror_mode": {
    "name": "ipython",
    "version": 3
   },
   "file_extension": ".py",
   "mimetype": "text/x-python",
   "name": "python",
   "nbconvert_exporter": "python",
   "pygments_lexer": "ipython3",
   "version": "3.12.1"
  }
 },
 "nbformat": 4,
 "nbformat_minor": 5
}
