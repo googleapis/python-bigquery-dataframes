{
 "cells": [
  {
   "cell_type": "markdown",
   "id": "b782db87",
   "metadata": {},
   "source": [
    "# BigFrames Performance Analytical Report"
   ]
  },
  {
   "cell_type": "markdown",
   "id": "9a853901",
   "metadata": {},
   "source": [
    "## Why BigFrames is slow (b/440407542)"
   ]
  },
  {
   "cell_type": "markdown",
   "id": "e685b19c",
   "metadata": {},
   "source": [
    "- Add `@perf_inspect.runtime_logger` to the call methods, such as"
   ]
  },
  {
   "cell_type": "code",
   "execution_count": 1,
   "id": "c8d1d068",
   "metadata": {},
   "outputs": [],
   "source": [
    "import bigframes.pandas as bpd\n",
    "import bigframes.bigquery as bbq\n",
    "import time"
   ]
  },
  {
   "cell_type": "code",
   "execution_count": 2,
   "id": "d0d32114",
   "metadata": {},
   "outputs": [
    {
     "name": "stdout",
     "output_type": "stream",
     "text": [
      "|--DataFrame.__init__ started at 2118257.94 seconds\n",
      "|----get_global_session started at 2118257.94 seconds\n",
      "|------Session.__init__ started at 2118257.94 seconds\n",
      "|--------ClientsProvider.__init__ started at 2118257.94 seconds\n",
      "|----------_get_default_credentials_with_project started at 2118257.94 seconds\n"
     ]
    },
    {
     "name": "stderr",
     "output_type": "stream",
     "text": [
      "/usr/local/google/home/chelsealin/src/bigframes1/bigframes/session/__init__.py:2287: DefaultLocationWarning: No explicit location is set, so using location US for the session.\n",
      "  return Session(context)\n"
     ]
    },
    {
     "name": "stdout",
     "output_type": "stream",
     "text": [
      "|----------_get_default_credentials_with_project ended at 2118259.89 seconds. Runtime: 1.95 seconds\n",
      "|--------ClientsProvider.__init__ ended at 2118259.94 seconds. Runtime: 2.00 seconds\n",
      "|------Session.__init__ ended at 2118260.40 seconds. Runtime: 2.47 seconds\n",
      "|----get_global_session ended at 2118260.40 seconds. Runtime: 2.47 seconds\n",
      "|----DataFrame.__init__ started at 2118260.42 seconds\n",
      "|----DataFrame.__init__ ended at 2118260.42 seconds. Runtime: 0.00 seconds\n",
      "|--DataFrame.__init__ ended at 2118260.42 seconds. Runtime: 2.49 seconds\n",
      "Runtime: 2.49 seconds\n"
     ]
    }
   ],
   "source": [
    "start_time = time.monotonic()\n",
    "search_query = bpd.DataFrame({\"query_id\": [\"dog\", \"cat\"],\n",
    "                              \"embedding\": [[1.0, 2.0], [3.0, 5.2]]})\n",
    "print(\"Runtime: {:.2f} seconds\".format(time.monotonic() - start_time))"
   ]
  },
  {
   "cell_type": "code",
   "execution_count": 3,
   "id": "1f6b8a02",
   "metadata": {},
   "outputs": [
    {
     "name": "stdout",
     "output_type": "stream",
     "text": [
      "|--vector_search started at 2118260.43 seconds\n",
      "|----DataFrame.__init__ started at 2118260.44 seconds\n",
      "|----DataFrame.__init__ ended at 2118260.44 seconds. Runtime: 0.00 seconds\n",
      "|----DataFrame.__init__ started at 2118261.18 seconds\n",
      "|----DataFrame.__init__ ended at 2118261.18 seconds. Runtime: 0.00 seconds\n",
      "|----DataFrame.__init__ started at 2118261.18 seconds\n",
      "|----DataFrame.__init__ ended at 2118261.18 seconds. Runtime: 0.00 seconds\n",
      "|--vector_search ended at 2118261.18 seconds. Runtime: 0.74 seconds\n",
      "|--DataFrame.__init__ started at 2118261.18 seconds\n",
      "|--DataFrame.__init__ ended at 2118261.18 seconds. Runtime: 0.00 seconds\n",
      "Runtime: 0.74 seconds\n"
     ]
    }
   ],
   "source": [
    "start_time = time.monotonic()\n",
    "df = bbq.vector_search(\n",
    "    base_table=\"bigframes-dev.bigframes_tests_sys.base_table\",\n",
    "    column_to_search=\"my_embedding\",\n",
    "    query=search_query,\n",
    "    top_k=2\n",
    ").sort_values(\"id\")\n",
    "print(\"Runtime: {:.2f} seconds\".format(time.monotonic() - start_time))"
   ]
  },
  {
   "cell_type": "code",
   "execution_count": 4,
   "id": "3c105ddd",
   "metadata": {},
   "outputs": [
    {
     "name": "stdout",
     "output_type": "stream",
     "text": [
      "|--DataFrame.to_pandas started at 2118261.19 seconds\n",
      "|----BigQueryCachingExecutor.execute started at 2118261.19 seconds\n",
      "|----BigQueryCachingExecutor.execute ended at 2118261.45 seconds. Runtime: 0.26 seconds\n",
      "|--DataFrame.to_pandas ended at 2118261.46 seconds. Runtime: 0.27 seconds\n",
      "  query_id  embedding  id my_embedding  distance\n",
      "0      dog    [1. 2.]   1      [1. 2.]       0.0\n",
      "1      cat  [3.  5.2]   2      [2. 4.]   1.56205\n",
      "0      dog    [1. 2.]   4    [1.  3.2]       1.2\n",
      "1      cat  [3.  5.2]   5    [5.  5.4]  2.009975\n",
      "Runtime: 0.29 seconds\n"
     ]
    }
   ],
   "source": [
    "start_time = time.monotonic()\n",
    "print(df.to_pandas())\n",
    "print(\"Runtime: {:.2f} seconds\".format(time.monotonic() - start_time))"
   ]
  },
  {
   "cell_type": "code",
   "execution_count": 5,
   "id": "f13bd234",
   "metadata": {},
   "outputs": [
    {
     "name": "stdout",
     "output_type": "stream",
     "text": [
      "|--DataFrame.__repr__ started at 2118261.49 seconds\n",
      "|----Block.retrieve_repr_request_results started at 2118261.49 seconds\n",
      "|------BigQueryCachingExecutor.execute started at 2118261.49 seconds\n"
     ]
    },
    {
     "data": {
      "text/html": [
       "Query job 9325d063-b110-423a-aa40-e8ad1ee57466 is DONE. 0 Bytes processed. <a target=\"_blank\" href=\"https://console.cloud.google.com/bigquery?project=bigframes-dev&j=bq:US:9325d063-b110-423a-aa40-e8ad1ee57466&page=queryresults\">Open Job</a>"
      ],
      "text/plain": [
       "<IPython.core.display.HTML object>"
      ]
     },
     "metadata": {},
     "output_type": "display_data"
    },
    {
     "name": "stdout",
     "output_type": "stream",
     "text": [
      "|------BigQueryCachingExecutor.execute ended at 2118267.25 seconds. Runtime: 5.75 seconds\n",
      "|------BigQueryCachingExecutor.execute started at 2118267.25 seconds\n",
      "|------BigQueryCachingExecutor.execute ended at 2118267.64 seconds. Runtime: 0.39 seconds\n",
      "Time taken to execute head: 0.39 seconds\n",
      "|------BigQueryCachingExecutor.execute started at 2118267.64 seconds\n",
      "|------BigQueryCachingExecutor.execute ended at 2118267.64 seconds. Runtime: 0.00 seconds\n",
      "Time taken to execute row_count: 0.00 seconds\n",
      "Time taken to execute to_pandas: 0.00 seconds\n",
      "|----Block.retrieve_repr_request_results ended at 2118267.65 seconds. Runtime: 6.15 seconds\n",
      "|--DataFrame.__repr__ ended at 2118267.65 seconds. Runtime: 6.16 seconds\n",
      "  query_id  embedding  id my_embedding  distance\n",
      "0      dog    [1. 2.]   1      [1. 2.]       0.0\n",
      "1      cat  [3.  5.2]   2      [2. 4.]   1.56205\n",
      "0      dog    [1. 2.]   4    [1.  3.2]       1.2\n",
      "1      cat  [3.  5.2]   5    [5.  5.4]  2.009975\n",
      "\n",
      "[4 rows x 5 columns]\n",
      "Runtime: 6.16 seconds\n"
     ]
    }
   ],
   "source": [
    "start_time = time.monotonic()\n",
    "print(df)\n",
    "print(\"Runtime: {:.2f} seconds\".format(time.monotonic() - start_time))"
   ]
  }
 ],
 "metadata": {
  "kernelspec": {
   "display_name": "venv",
   "language": "python",
   "name": "python3"
  },
  "language_info": {
   "codemirror_mode": {
    "name": "ipython",
    "version": 3
   },
   "file_extension": ".py",
   "mimetype": "text/x-python",
   "name": "python",
   "nbconvert_exporter": "python",
   "pygments_lexer": "ipython3",
   "version": "3.12.1"
  }
 },
 "nbformat": 4,
 "nbformat_minor": 5
}
