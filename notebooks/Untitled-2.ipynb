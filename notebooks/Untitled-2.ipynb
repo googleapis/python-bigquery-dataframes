{
 "cells": [
  {
   "cell_type": "code",
   "execution_count": 1,
   "id": "845b9090",
   "metadata": {},
   "outputs": [],
   "source": [
    "import bigframes.pandas as bpd\n",
    "bpd.options.display.repr_mode = \"anywidget\""
   ]
  },
  {
   "cell_type": "code",
   "execution_count": 2,
   "id": "ae042351",
   "metadata": {},
   "outputs": [
    {
     "data": {
      "text/html": [
       "✅ Completed. \n",
       "    Query processed 0 Bytes in a moment of slot time.\n",
       "    "
      ],
      "text/plain": [
       "<IPython.core.display.HTML object>"
      ]
     },
     "metadata": {},
     "output_type": "display_data"
    },
    {
     "data": {
      "text/html": [
       "✅ Completed. "
      ],
      "text/plain": [
       "<IPython.core.display.HTML object>"
      ]
     },
     "metadata": {},
     "output_type": "display_data"
    },
    {
     "data": {
      "text/html": [
       "✅ Completed. "
      ],
      "text/plain": [
       "<IPython.core.display.HTML object>"
      ]
     },
     "metadata": {},
     "output_type": "display_data"
    },
    {
     "data": {
      "text/html": [
       "✅ Completed. "
      ],
      "text/plain": [
       "<IPython.core.display.HTML object>"
      ]
     },
     "metadata": {},
     "output_type": "display_data"
    },
    {
     "data": {
      "text/html": [
       "✅ Completed. "
      ],
      "text/plain": [
       "<IPython.core.display.HTML object>"
      ]
     },
     "metadata": {},
     "output_type": "display_data"
    },
    {
     "data": {
      "text/html": [
       "✅ Completed. "
      ],
      "text/plain": [
       "<IPython.core.display.HTML object>"
      ]
     },
     "metadata": {},
     "output_type": "display_data"
    },
    {
     "data": {
      "application/vnd.jupyter.widget-view+json": {
       "model_id": "68a3c265b6f94778a4c31a7432e9da9f",
       "version_major": 2,
       "version_minor": 1
      },
      "text/plain": [
       "TableWidget(page_size=10, row_count=5, table_html='<table border=\"1\" class=\"dataframe table table-striped tabl…"
      ]
     },
     "metadata": {},
     "output_type": "display_data"
    },
    {
     "data": {
      "text/html": [],
      "text/plain": [
       "                                            gcs_path issuer language  \\\n",
       "0  gs://gcs-public-data--labeled-patents/espacene...     EU       DE   \n",
       "1  gs://gcs-public-data--labeled-patents/espacene...     EU       DE   \n",
       "2  gs://gcs-public-data--labeled-patents/espacene...     EU       DE   \n",
       "3  gs://gcs-public-data--labeled-patents/espacene...     EU       DE   \n",
       "4  gs://gcs-public-data--labeled-patents/espacene...     EU       DE   \n",
       "\n",
       "  publication_date class_international class_us application_number  \\\n",
       "0        29.08.018           E04H 6/12     <NA>         18157874.1   \n",
       "1       03.10.2018          G06F 11/30     <NA>         18157347.8   \n",
       "2       03.10.2018          A01K 31/00     <NA>         18171005.4   \n",
       "3       03.10.2018          H01L 21/20     <NA>         18166536.5   \n",
       "4       03.10.2018           H05B 6/12     <NA>         18165514.3   \n",
       "\n",
       "  filing_date priority_date_eu          representative_line_1_eu  \\\n",
       "0  21.02.2018       22.02.2017  Liedtke & Partner Patentanw√§lte   \n",
       "1  19.02.2018       31.03.2017                    Hoffmann Eitle   \n",
       "2  05.02.2015       05.02.2014    Stork Bamberger Patentanw√§lte   \n",
       "3  16.02.2016             <NA>            Scheider, Sascha et al   \n",
       "4  03.04.2018       30.03.2017                              <NA>   \n",
       "\n",
       "            applicant_line_1     inventor_line_1  \\\n",
       "0       SHB Hebezeugbau GmbH   VOLGER, Alexander   \n",
       "1            FUJITSU LIMITED   Kukihara, Kensuke   \n",
       "2     Linco Food Systems A/S        Thrane, Uffe   \n",
       "3  EV Group E. Thallner GmbH       Kurz, Florian   \n",
       "4       BSH Hausger√§te GmbH  Acero Acero, Jesus   \n",
       "\n",
       "                                        title_line_1           number  \n",
       "0     STEUERUNGSSYSTEM F√úR AUTOMATISCHE PARKH√ÑUSER  EP 3 366 869 A1  \n",
       "1  METHOD EXECUTED BY A COMPUTER, INFORMATION PRO...  EP 3 382 553 A1  \n",
       "2  MASTH√ÑHNCHENCONTAINER ALS BESTANDTEIL EINER E...  EP 3 381 276 A1  \n",
       "3              VORRICHTUNG ZUM BONDEN VON SUBSTRATEN  EP 3 382 744 A1  \n",
       "4     VORRICHTUNG ZUR INDUKTIVEN ENERGIE√úBERTRAGUNG  EP 3 383 141 A2  \n",
       "\n",
       "[5 rows x 14 columns]"
      ]
     },
     "execution_count": 2,
     "metadata": {},
     "output_type": "execute_result"
    }
   ],
   "source": [
    "bpd._read_gbq_colab(\"\"\"\n",
    "SELECT *\n",
    "FROM `bigquery-public-data.labeled_patents.extracted_data`\n",
    "LIMIT 5;\n",
    "\"\"\")\n"
   ]
  },
  {
   "cell_type": "code",
   "execution_count": 3,
   "id": "d936b25f",
   "metadata": {},
   "outputs": [
    {
     "data": {
      "text/html": [
       "✅ Completed. \n",
       "    Query processed 0 Bytes in a moment of slot time.\n",
       "    "
      ],
      "text/plain": [
       "<IPython.core.display.HTML object>"
      ]
     },
     "metadata": {},
     "output_type": "display_data"
    },
    {
     "data": {
      "text/html": [
       "✅ Completed. "
      ],
      "text/plain": [
       "<IPython.core.display.HTML object>"
      ]
     },
     "metadata": {},
     "output_type": "display_data"
    },
    {
     "data": {
      "text/html": [
       "✅ Completed. "
      ],
      "text/plain": [
       "<IPython.core.display.HTML object>"
      ]
     },
     "metadata": {},
     "output_type": "display_data"
    },
    {
     "data": {
      "text/html": [
       "✅ Completed. "
      ],
      "text/plain": [
       "<IPython.core.display.HTML object>"
      ]
     },
     "metadata": {},
     "output_type": "display_data"
    },
    {
     "data": {
      "text/html": [
       "✅ Completed. "
      ],
      "text/plain": [
       "<IPython.core.display.HTML object>"
      ]
     },
     "metadata": {},
     "output_type": "display_data"
    },
    {
     "data": {
      "text/html": [
       "✅ Completed. "
      ],
      "text/plain": [
       "<IPython.core.display.HTML object>"
      ]
     },
     "metadata": {},
     "output_type": "display_data"
    },
    {
     "data": {
      "application/vnd.jupyter.widget-view+json": {
       "model_id": "cce2a6be23414e58a5310a5ec7a1c50d",
       "version_major": 2,
       "version_minor": 1
      },
      "text/plain": [
       "TableWidget(page_size=10, row_count=4, table_html='<table border=\"1\" class=\"dataframe table table-striped tabl…"
      ]
     },
     "metadata": {},
     "output_type": "display_data"
    },
    {
     "data": {
      "text/html": [],
      "text/plain": [
       "  issuer language  count\n",
       "0     EU       DE     63\n",
       "1     EU       EN    100\n",
       "2     US       EN     97\n",
       "3     EU       FR     83\n",
       "\n",
       "[4 rows x 3 columns]"
      ]
     },
     "execution_count": 3,
     "metadata": {},
     "output_type": "execute_result"
    }
   ],
   "source": [
    "bpd._read_gbq_colab(\"\"\"\n",
    "SELECT issuer, language, COUNT(*) AS count\n",
    "FROM `bigquery-public-data.labeled_patents.extracted_data`\n",
    "GROUP BY issuer, language\n",
    "\"\"\")\n",
    "\n"
   ]
  },
  {
   "cell_type": "code",
   "execution_count": null,
   "id": "ac30ab9e",
   "metadata": {},
   "outputs": [
    {
     "data": {
      "text/html": [
       "✅ Completed. \n",
       "    Query processed 85.9 kB in 13 seconds of slot time.\n",
       "    "
      ],
      "text/plain": [
       "<IPython.core.display.HTML object>"
      ]
     },
     "metadata": {},
     "output_type": "display_data"
    },
    {
     "data": {
      "text/html": [
       "✅ Completed. "
      ],
      "text/plain": [
       "<IPython.core.display.HTML object>"
      ]
     },
     "metadata": {},
     "output_type": "display_data"
    },
    {
     "data": {
      "text/html": [
       "✅ Completed. "
      ],
      "text/plain": [
       "<IPython.core.display.HTML object>"
      ]
     },
     "metadata": {},
     "output_type": "display_data"
    },
    {
     "name": "stderr",
     "output_type": "stream",
     "text": [
      "/usr/local/google/home/shuowei/src/github.com/googleapis/python-bigquery-dataframes/bigframes/dtypes.py:959: JSONDtypeWarning: JSON columns will be represented as pandas.ArrowDtype(pyarrow.json_())\n",
      "instead of using `db_dtypes` in the future when available in pandas\n",
      "(https://github.com/pandas-dev/pandas/issues/60958) and pyarrow.\n",
      "  warnings.warn(msg, bigframes.exceptions.JSONDtypeWarning)\n"
     ]
    },
    {
     "data": {
      "text/html": [
       "✅ Completed. "
      ],
      "text/plain": [
       "<IPython.core.display.HTML object>"
      ]
     },
     "metadata": {},
     "output_type": "display_data"
    }
   ],
   "source": [
    "bpd._read_gbq_colab(\"\"\"\n",
    "SELECT\n",
    "  AI.GENERATE(\n",
    "    prompt=>(\"Extract the values.\", OBJ.GET_ACCESS_URL(OBJ.FETCH_METADATA(OBJ.MAKE_REF(gcs_path, \"us.conn\")), \"r\")),\n",
    "    connection_id=>\"bigframes-dev.us.bigframes-default-connection\",\n",
    "    output_schema=>\"publication_date string, class_international string, application_number string, filing_date string\") AS result,\n",
    "  *\n",
    "FROM `bigquery-public-data.labeled_patents.extracted_data`\n",
    "LIMIT 5;\n",
    "\"\"\")"
   ]
  }
 ],
 "metadata": {
  "kernelspec": {
   "display_name": "venv",
   "language": "python",
   "name": "python3"
  },
  "language_info": {
   "codemirror_mode": {
    "name": "ipython",
    "version": 3
   },
   "file_extension": ".py",
   "mimetype": "text/x-python",
   "name": "python",
   "nbconvert_exporter": "python",
   "pygments_lexer": "ipython3",
   "version": "3.10.18"
  }
 },
 "nbformat": 4,
 "nbformat_minor": 5
}
