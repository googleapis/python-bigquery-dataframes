{
 "cells": [
  {
   "cell_type": "code",
   "execution_count": 1,
   "metadata": {},
   "outputs": [],
   "source": [
    "import bigframes.pandas as bpd"
   ]
  },
  {
   "cell_type": "code",
   "execution_count": 2,
   "metadata": {},
   "outputs": [],
   "source": [
    "# 1. Enable partial ordering mode\n",
    "bpd.options.bigquery.ordering_mode = \"partial\""
   ]
  },
  {
   "cell_type": "code",
   "execution_count": 3,
   "metadata": {},
   "outputs": [
    {
     "name": "stderr",
     "output_type": "stream",
     "text": [
      "/usr/local/google/home/shuowei/src/python-bigquery-dataframes/bigframes/core/global_session.py:103: DefaultLocationWarning: No explicit location is set, so using location US for the session.\n",
      "  _global_session = bigframes.session.connect(\n"
     ]
    },
    {
     "data": {
      "text/html": [
       "Query job 1034294a-3478-4a47-8f3c-1db4b8aab29c is DONE. 0 Bytes processed. <a target=\"_blank\" href=\"https://console.cloud.google.com/bigquery?project=bigframes-dev&j=bq:US:1034294a-3478-4a47-8f3c-1db4b8aab29c&page=queryresults\">Open Job</a>"
      ],
      "text/plain": [
       "<IPython.core.display.HTML object>"
      ]
     },
     "metadata": {},
     "output_type": "display_data"
    },
    {
     "data": {
      "text/html": [
       "Query job 7ff09bc9-bcd4-44bd-bed7-9a5ccc90d23a is DONE. 0 Bytes processed. <a target=\"_blank\" href=\"https://console.cloud.google.com/bigquery?project=bigframes-dev&j=bq:US:7ff09bc9-bcd4-44bd-bed7-9a5ccc90d23a&page=queryresults\">Open Job</a>"
      ],
      "text/plain": [
       "<IPython.core.display.HTML object>"
      ]
     },
     "metadata": {},
     "output_type": "display_data"
    }
   ],
   "source": [
    "df = bpd.from_glob_path(\"gs://bigframes_blob_test/audio/*\", name=\"audio\")"
   ]
  },
  {
   "cell_type": "code",
   "execution_count": 4,
   "metadata": {},
   "outputs": [],
   "source": [
    "df = df.reset_index()"
   ]
  },
  {
   "cell_type": "code",
   "execution_count": 5,
   "metadata": {},
   "outputs": [
    {
     "name": "stderr",
     "output_type": "stream",
     "text": [
      "/usr/local/google/home/shuowei/src/python-bigquery-dataframes/bigframes/core/log_adapter.py:175: FutureWarning: Since upgrading the default model can cause unintended breakages, the\n",
      "default model will be removed in BigFrames 3.0. Please supply an\n",
      "explicit model to avoid this message.\n",
      "  return method(*args, **kwargs)\n"
     ]
    },
    {
     "data": {
      "text/html": [
       "Query job f7a6f58f-8bd2-4874-a2cd-76b53da0fb4b is DONE. 0 Bytes processed. <a target=\"_blank\" href=\"https://console.cloud.google.com/bigquery?project=bigframes-dev&j=bq:US:f7a6f58f-8bd2-4874-a2cd-76b53da0fb4b&page=queryresults\">Open Job</a>"
      ],
      "text/plain": [
       "<IPython.core.display.HTML object>"
      ]
     },
     "metadata": {},
     "output_type": "display_data"
    },
    {
     "data": {
      "text/html": [
       "Query job ca9c9951-4394-4919-b9c0-56d984a56514 is DONE. 364 Bytes processed. <a target=\"_blank\" href=\"https://console.cloud.google.com/bigquery?project=bigframes-dev&j=bq:US:ca9c9951-4394-4919-b9c0-56d984a56514&page=queryresults\">Open Job</a>"
      ],
      "text/plain": [
       "<IPython.core.display.HTML object>"
      ]
     },
     "metadata": {},
     "output_type": "display_data"
    },
    {
     "name": "stderr",
     "output_type": "stream",
     "text": [
      "/usr/local/google/home/shuowei/src/python-bigquery-dataframes/bigframes/core/array_value.py:108: PreviewWarning: JSON column interpretation as a custom PyArrow extention in\n",
      "`db_dtypes` is a preview feature and subject to change.\n",
      "  warnings.warn(msg, bfe.PreviewWarning)\n"
     ]
    }
   ],
   "source": [
    "bq_connection = \"bigframes-dev.us.bigframes-default-connection\"\n",
    "df[\"transcribe_audio\"] = df[\"audio\"].blob.audio_transcribe(\n",
    "    connection=bq_connection)"
   ]
  },
  {
   "cell_type": "code",
   "execution_count": 6,
   "metadata": {},
   "outputs": [
    {
     "name": "stderr",
     "output_type": "stream",
     "text": [
      "/usr/local/google/home/shuowei/src/python-bigquery-dataframes/bigframes/core/array_value.py:254: AmbiguousWindowWarning: Window ordering may be ambiguous, this can cause unstable results.\n",
      "  warnings.warn(msg, category=bfe.AmbiguousWindowWarning)\n"
     ]
    },
    {
     "data": {
      "text/html": [
       "Query job 52332330-b306-4531-9e3b-fe2b7b9fb1ba is DONE. 487 Bytes processed. <a target=\"_blank\" href=\"https://console.cloud.google.com/bigquery?project=bigframes-dev&j=bq:US:52332330-b306-4531-9e3b-fe2b7b9fb1ba&page=queryresults\">Open Job</a>"
      ],
      "text/plain": [
       "<IPython.core.display.HTML object>"
      ]
     },
     "metadata": {},
     "output_type": "display_data"
    },
    {
     "name": "stderr",
     "output_type": "stream",
     "text": [
      "/usr/local/google/home/shuowei/src/python-bigquery-dataframes/bigframes/core/array_value.py:230: AmbiguousWindowWarning: Window ordering may be ambiguous, this can cause unstable results.\n",
      "  warnings.warn(msg, bfe.AmbiguousWindowWarning)\n",
      "/usr/local/google/home/shuowei/src/python-bigquery-dataframes/bigframes/core/array_value.py:254: AmbiguousWindowWarning: Window ordering may be ambiguous, this can cause unstable results.\n",
      "  warnings.warn(msg, category=bfe.AmbiguousWindowWarning)\n"
     ]
    },
    {
     "data": {
      "text/html": [
       "Query job b11dbe0b-58a7-4971-a93f-5a4a96838640 is DONE. 223 Bytes processed. <a target=\"_blank\" href=\"https://console.cloud.google.com/bigquery?project=bigframes-dev&j=bq:US:b11dbe0b-58a7-4971-a93f-5a4a96838640&page=queryresults\">Open Job</a>"
      ],
      "text/plain": [
       "<IPython.core.display.HTML object>"
      ]
     },
     "metadata": {},
     "output_type": "display_data"
    },
    {
     "name": "stderr",
     "output_type": "stream",
     "text": [
      "/usr/local/google/home/shuowei/src/python-bigquery-dataframes/bigframes/core/array_value.py:230: AmbiguousWindowWarning: Window ordering may be ambiguous, this can cause unstable results.\n",
      "  warnings.warn(msg, bfe.AmbiguousWindowWarning)\n"
     ]
    },
    {
     "data": {
      "text/html": [
       "<div>\n",
       "<style scoped>\n",
       "    .dataframe tbody tr th:only-of-type {\n",
       "        vertical-align: middle;\n",
       "    }\n",
       "\n",
       "    .dataframe tbody tr th {\n",
       "        vertical-align: top;\n",
       "    }\n",
       "\n",
       "    .dataframe thead th {\n",
       "        text-align: right;\n",
       "    }\n",
       "</style>\n",
       "<table border=\"1\" class=\"dataframe\">\n",
       "  <thead>\n",
       "    <tr style=\"text-align: right;\">\n",
       "      <th></th>\n",
       "      <th>audio</th>\n",
       "      <th>transcribe_audio</th>\n",
       "    </tr>\n",
       "  </thead>\n",
       "  <tbody>\n",
       "    <tr>\n",
       "      <th>0</th>\n",
       "      <td>uri: gs://bigframes_blob_test/audio/LJ001-0010.wav, authorizer: bigframes-dev.us.bigframes-default-connection</td>\n",
       "      <td>Now, as all books, not primarily intended as picture books, consist principally of types composed to form letter press,</td>\n",
       "    </tr>\n",
       "  </tbody>\n",
       "</table>\n",
       "<p>1 rows × 2 columns</p>\n",
       "</div>[1 rows x 2 columns in total]"
      ],
      "text/plain": [
       "                                             audio  \\\n",
       "{'uri': 'gs://bigframes_blob_test/audio/LJ001-0...   \n",
       "\n",
       "                                  transcribe_audio  \n",
       "Now, as all books, not primarily intended as pi...  \n",
       "\n",
       "[1 rows x 2 columns]"
      ]
     },
     "execution_count": 6,
     "metadata": {},
     "output_type": "execute_result"
    }
   ],
   "source": [
    "df"
   ]
  },
  {
   "cell_type": "code",
   "execution_count": 7,
   "metadata": {},
   "outputs": [
    {
     "data": {
      "text/plain": [
       "'\\n# Example test\\nimport pandas as pd\\nimport bigframes.pandas as bpd # Assuming you use this for Series creation in tests\\n\\ntest_source_uris = bpd.Series([\\n    \"gs://source-bucket/path/audio_001.wav\",\\n    \"gs://source-bucket/another/path/to/track_beta.mp3?version=2\"\\n])\\nprint(test_source_uris)\\n# YOUR FILE_FOLDER_REGEX (ensure this matches what\\'s in your class scope)\\nTEST_REGEX = r\"gs://[^/]+/(?:.+/)?([^/?]+)(?:\\\\?.*)?\"\\nfixed_folder = \"gs://bigframes_blob_test/audio/chunked/\"\\n\\ntry:\\n    expected_dest_bases = test_source_uris.str.replace(TEST_REGEX, rf\"{fixed_folder}\\x01\", regex=True)\\n    print(\"Test Regex Output (destination bases):\")\\n    print(expected_dest_bases.to_pandas())\\n    # Expected:\\n    # gs://bigframes_blob_test/audio/chunked/audio_001.wav\\n    # gs://bigframes_blob_test/audio/chunked/track_beta.mp3\\nexcept Exception as e:\\n    print(f\"Error in regex test: {e}\")\\n'"
      ]
     },
     "execution_count": 7,
     "metadata": {},
     "output_type": "execute_result"
    }
   ],
   "source": [
    "'''\n",
    "# Example test\n",
    "import pandas as pd\n",
    "import bigframes.pandas as bpd # Assuming you use this for Series creation in tests\n",
    "\n",
    "test_source_uris = bpd.Series([\n",
    "    \"gs://source-bucket/path/audio_001.wav\",\n",
    "    \"gs://source-bucket/another/path/to/track_beta.mp3?version=2\"\n",
    "])\n",
    "print(test_source_uris)\n",
    "# YOUR FILE_FOLDER_REGEX (ensure this matches what's in your class scope)\n",
    "TEST_REGEX = r\"gs://[^/]+/(?:.+/)?([^/?]+)(?:\\?.*)?\"\n",
    "fixed_folder = \"gs://bigframes_blob_test/audio/chunked/\"\n",
    "\n",
    "try:\n",
    "    expected_dest_bases = test_source_uris.str.replace(TEST_REGEX, rf\"{fixed_folder}\\1\", regex=True)\n",
    "    print(\"Test Regex Output (destination bases):\")\n",
    "    print(expected_dest_bases.to_pandas())\n",
    "    # Expected:\n",
    "    # gs://bigframes_blob_test/audio/chunked/audio_001.wav\n",
    "    # gs://bigframes_blob_test/audio/chunked/track_beta.mp3\n",
    "except Exception as e:\n",
    "    print(f\"Error in regex test: {e}\")\n",
    "'''"
   ]
  },
  {
   "cell_type": "code",
   "execution_count": null,
   "metadata": {},
   "outputs": [],
   "source": []
  }
 ],
 "metadata": {
  "kernelspec": {
   "display_name": "venv",
   "language": "python",
   "name": "python3"
  },
  "language_info": {
   "codemirror_mode": {
    "name": "ipython",
    "version": 3
   },
   "file_extension": ".py",
   "mimetype": "text/x-python",
   "name": "python",
   "nbconvert_exporter": "python",
   "pygments_lexer": "ipython3",
   "version": "3.10.15"
  }
 },
 "nbformat": 4,
 "nbformat_minor": 2
}
