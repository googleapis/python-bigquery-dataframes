{
 "cells": [
  {
   "cell_type": "code",
   "execution_count": null,
   "metadata": {},
   "outputs": [],
   "source": [
    "import bigframes.pandas as bpd\n",
    "import pandas as pd\n",
    "import numpy as np\n",
    "\n",
    "data=pd.Series(np.random.randn(8),\n",
    "               index=[[\"a\",\"a\",\"a\",\"b\",\n",
    "                       \"b\",\"b\",\"c\",\"c\"],\n",
    "                      [1,2,3,1,2,3,1,2]])\n",
    "data\n",
    "bq_data = bpd.read_pandas(data)\n",
    "print(bq_data)"
   ]
  },
  {
   "cell_type": "code",
   "execution_count": null,
   "metadata": {},
   "outputs": [],
   "source": [
    "data.loc[\"a\":\"b\"]"
   ]
  },
  {
   "cell_type": "code",
   "execution_count": null,
   "metadata": {},
   "outputs": [],
   "source": [
    "bq_data.loc[\"a\": \"b\"]"
   ]
  },
  {
   "cell_type": "code",
   "execution_count": 1,
   "metadata": {},
   "outputs": [
    {
     "name": "stderr",
     "output_type": "stream",
     "text": [
      "/usr/local/google/home/shuowei/src/python-bigquery-dataframes/bigframes/core/global_session.py:103: DefaultLocationWarning: No explicit location is set, so using location US for the session.\n",
      "  _global_session = bigframes.session.connect(\n"
     ]
    },
    {
     "data": {
      "text/html": [
       "Query job c7df462c-e617-4ca3-83a0-6d99f7494ad9 is DONE. 0 Bytes processed. <a target=\"_blank\" href=\"https://console.cloud.google.com/bigquery?project=bigframes-dev&j=bq:US:c7df462c-e617-4ca3-83a0-6d99f7494ad9&page=queryresults\">Open Job</a>"
      ],
      "text/plain": [
       "<IPython.core.display.HTML object>"
      ]
     },
     "metadata": {},
     "output_type": "display_data"
    },
    {
     "name": "stdout",
     "output_type": "stream",
     "text": [
      "1\n"
     ]
    }
   ],
   "source": [
    "import bigframes.pandas as bpd\n",
    "\n",
    "idx = bpd.Index(['Apple', 'Banana', 'Orange'])\n",
    "print(idx.get_loc('Banana'))  # Output: 1 "
   ]
  },
  {
   "cell_type": "code",
   "execution_count": null,
   "metadata": {},
   "outputs": [],
   "source": [
    "monotonic_index = bpd.Index(list('abbc'))\n",
    "monotonic_index.get_loc('b') # Output: slice(1, 3, None)\n"
   ]
  },
  {
   "cell_type": "code",
   "execution_count": 2,
   "metadata": {},
   "outputs": [
    {
     "data": {
      "text/html": [
       "Query job d6b32147-67cc-478d-80a4-ad1a0d6615bc is DONE. 0 Bytes processed. <a target=\"_blank\" href=\"https://console.cloud.google.com/bigquery?project=bigframes-dev&j=bq:US:d6b32147-67cc-478d-80a4-ad1a0d6615bc&page=queryresults\">Open Job</a>"
      ],
      "text/plain": [
       "<IPython.core.display.HTML object>"
      ]
     },
     "metadata": {},
     "output_type": "display_data"
    },
    {
     "data": {
      "text/html": [
       "Query job b143b4d9-70d2-4845-8d1c-aa1cb2f4e9ed is DONE. 68 Bytes processed. <a target=\"_blank\" href=\"https://console.cloud.google.com/bigquery?project=bigframes-dev&j=bq:US:b143b4d9-70d2-4845-8d1c-aa1cb2f4e9ed&page=queryresults\">Open Job</a>"
      ],
      "text/plain": [
       "<IPython.core.display.HTML object>"
      ]
     },
     "metadata": {},
     "output_type": "display_data"
    },
    {
     "data": {
      "text/plain": [
       "0    False\n",
       "1     True\n",
       "2    False\n",
       "3     True\n",
       "dtype: boolean"
      ]
     },
     "execution_count": 2,
     "metadata": {},
     "output_type": "execute_result"
    }
   ],
   "source": [
    "non_monotonic_index = bpd.Index(list('abcb'))\n",
    "non_monotonic_index.get_loc('b') # Expect array([False,  True, False,  True])"
   ]
  },
  {
   "cell_type": "code",
   "execution_count": null,
   "metadata": {},
   "outputs": [
    {
     "data": {
      "text/html": [
       "Query job 9d531a74-26ec-4ede-97e6-f8fc25c00068 is DONE. 0 Bytes processed. <a target=\"_blank\" href=\"https://console.cloud.google.com/bigquery?project=bigframes-dev&j=bq:US:9d531a74-26ec-4ede-97e6-f8fc25c00068&page=queryresults\">Open Job</a>"
      ],
      "text/plain": [
       "<IPython.core.display.HTML object>"
      ]
     },
     "metadata": {},
     "output_type": "display_data"
    },
    {
     "name": "stderr",
     "output_type": "stream",
     "text": [
      "/usr/local/google/home/shuowei/src/python-bigquery-dataframes/bigframes/pandas/__init__.py:149: PreviewWarning: udf is in preview.\n",
      "  return global_session.with_default_session(\n",
      "/usr/local/google/home/shuowei/src/python-bigquery-dataframes/bigframes/functions/_function_session.py:971: PreviewWarning: input_types=Series is in preview.\n",
      "  warnings.warn(msg, stacklevel=1, category=bfe.PreviewWarning)\n",
      "/usr/local/google/home/shuowei/src/python-bigquery-dataframes/bigframes/functions/_utils.py:86: FunctionPackageVersionWarning: numpy, pandas, and pyarrow versions in the function execution\n",
      "environment may not precisely match your local environment.\n",
      "  warnings.warn(msg, category=bfe.FunctionPackageVersionWarning)\n"
     ]
    },
    {
     "data": {
      "text/html": [
       "Query job 0d58b789-d658-4dd6-ba9f-3f03fc77895a is RUNNING. <a target=\"_blank\" href=\"https://console.cloud.google.com/bigquery?project=bigframes-dev&j=bq:US:0d58b789-d658-4dd6-ba9f-3f03fc77895a&page=queryresults\">Open Job</a>"
      ],
      "text/plain": [
       "<IPython.core.display.HTML object>"
      ]
     },
     "metadata": {},
     "output_type": "display_data"
    }
   ],
   "source": [
    "import bigframes.pandas as bpd\n",
    "import pandas as pd\n",
    "\n",
    "bpd.options.bigquery.project = 'bigframes-dev'  # project #: 1084210331973\n",
    "bpd.options.bigquery.location = \"us\"\n",
    "\n",
    "@bpd.udf(\n",
    "        dataset='jialuo_test_us', name='test',\n",
    "        packages = ['pypdf[crypto]'],\n",
    "        )\n",
    "def func(s: bpd.Series) -> bool:\n",
    "    return s['a'] + s['b'] > 0\n",
    "\n",
    "bdf = {'a': [0, 1, 2], 'b': [3, 4, 5]}\n",
    "res = bdf.apply(func, axis=1)\n",
    "print(res)\n",
    "\n",
    "res1 = bdf.where(func)"
   ]
  }
 ],
 "metadata": {
  "kernelspec": {
   "display_name": "venv",
   "language": "python",
   "name": "python3"
  },
  "language_info": {
   "codemirror_mode": {
    "name": "ipython",
    "version": 3
   },
   "file_extension": ".py",
   "mimetype": "text/x-python",
   "name": "python",
   "nbconvert_exporter": "python",
   "pygments_lexer": "ipython3",
   "version": "3.10.15"
  }
 },
 "nbformat": 4,
 "nbformat_minor": 2
}
