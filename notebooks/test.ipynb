{
 "cells": [
  {
   "cell_type": "code",
   "execution_count": 1,
   "metadata": {},
   "outputs": [],
   "source": [
    "import bigframes\n",
    "import bigframes.pandas as bpd\n",
    "import bigframes.streaming as bs"
   ]
  },
  {
   "cell_type": "code",
   "execution_count": 2,
   "metadata": {},
   "outputs": [],
   "source": [
    "bigframes.options._bigquery_options.project = \"bigframes-load-testing\"\n",
    "job_id_prefix = \"test_streaming_\""
   ]
  },
  {
   "cell_type": "code",
   "execution_count": 6,
   "metadata": {},
   "outputs": [],
   "source": [
    "df = bpd.read_gbq(\"birds.penguins_bigtable_streaming\")"
   ]
  },
  {
   "cell_type": "code",
   "execution_count": 7,
   "metadata": {},
   "outputs": [
    {
     "data": {
      "text/plain": [
       "\"WITH t0 AS (\\n  SELECT\\n    t4.`species`,\\n    t4.`island`,\\n    t4.`culmen_length_mm`,\\n    t4.`culmen_depth_mm`,\\n    t4.`flipper_length_mm`,\\n    t4.`body_mass_g`,\\n    t4.`sex`,\\n    farm_fingerprint(\\n      CONCAT(\\n        CONCAT('\\\\\\\\', REPLACE(coalesce(t4.`species`, ''), '\\\\\\\\', '\\\\\\\\\\\\\\\\')),\\n        CONCAT('\\\\\\\\', REPLACE(coalesce(t4.`island`, ''), '\\\\\\\\', '\\\\\\\\\\\\\\\\')),\\n        CONCAT('\\\\\\\\', REPLACE(coalesce(CAST(t4.`culmen_length_mm` AS STRING), ''), '\\\\\\\\', '\\\\\\\\\\\\\\\\')),\\n        CONCAT('\\\\\\\\', REPLACE(coalesce(CAST(t4.`culmen_depth_mm` AS STRING), ''), '\\\\\\\\', '\\\\\\\\\\\\\\\\')),\\n        CONCAT('\\\\\\\\', REPLACE(coalesce(CAST(t4.`flipper_length_mm` AS STRING), ''), '\\\\\\\\', '\\\\\\\\\\\\\\\\')),\\n        CONCAT('\\\\\\\\', REPLACE(coalesce(CAST(t4.`body_mass_g` AS STRING), ''), '\\\\\\\\', '\\\\\\\\\\\\\\\\')),\\n        CONCAT('\\\\\\\\', REPLACE(coalesce(t4.`sex`, ''), '\\\\\\\\', '\\\\\\\\\\\\\\\\'))\\n      )\\n    ) AS `bigframes_ordering_2`,\\n    farm_fingerprint(\\n      CONCAT(\\n        CONCAT(\\n          CONCAT('\\\\\\\\', REPLACE(coalesce(t4.`species`, ''), '\\\\\\\\', '\\\\\\\\\\\\\\\\')),\\n          CONCAT('\\\\\\\\', REPLACE(coalesce(t4.`island`, ''), '\\\\\\\\', '\\\\\\\\\\\\\\\\')),\\n          CONCAT('\\\\\\\\', REPLACE(coalesce(CAST(t4.`culmen_length_mm` AS STRING), ''), '\\\\\\\\', '\\\\\\\\\\\\\\\\')),\\n          CONCAT('\\\\\\\\', REPLACE(coalesce(CAST(t4.`culmen_depth_mm` AS STRING), ''), '\\\\\\\\', '\\\\\\\\\\\\\\\\')),\\n          CONCAT('\\\\\\\\', REPLACE(coalesce(CAST(t4.`flipper_length_mm` AS STRING), ''), '\\\\\\\\', '\\\\\\\\\\\\\\\\')),\\n          CONCAT('\\\\\\\\', REPLACE(coalesce(CAST(t4.`body_mass_g` AS STRING), ''), '\\\\\\\\', '\\\\\\\\\\\\\\\\')),\\n          CONCAT('\\\\\\\\', REPLACE(coalesce(t4.`sex`, ''), '\\\\\\\\', '\\\\\\\\\\\\\\\\'))\\n        ),\\n        '_'\\n      )\\n    ) AS `bigframes_ordering_3`,\\n    RAND() AS `bigframes_ordering_4`\\n  FROM `bigframes-load-testing`.birds.penguins_bigtable_streaming AS t4\\n), t1 AS (\\n  SELECT\\n    t0.`species`,\\n    t0.`island`,\\n    t0.`culmen_length_mm`,\\n    t0.`culmen_depth_mm`,\\n    t0.`flipper_length_mm`,\\n    t0.`body_mass_g`,\\n    t0.`sex`,\\n    (\\n      row_number() OVER (ORDER BY t0.`bigframes_ordering_2` IS NULL ASC, t0.`bigframes_ordering_2` ASC, t0.`bigframes_ordering_3` IS NULL ASC, t0.`bigframes_ordering_3` ASC, t0.`bigframes_ordering_4` IS NULL ASC, t0.`bigframes_ordering_4` ASC) - 1\\n    ) AS `bigframes_ordering_id`\\n  FROM t0\\n), t2 AS (\\n  SELECT\\n    t1.`species`,\\n    t1.`island`,\\n    t1.`culmen_length_mm`,\\n    t1.`culmen_depth_mm`,\\n    t1.`flipper_length_mm`,\\n    t1.`body_mass_g`,\\n    t1.`sex`,\\n    t1.`bigframes_ordering_id`\\n  FROM t1\\n)\\nSELECT\\n  t3.`species`,\\n  t3.`island`,\\n  t3.`culmen_length_mm`,\\n  t3.`culmen_depth_mm`,\\n  t3.`flipper_length_mm`,\\n  t3.`body_mass_g`,\\n  t3.`sex`\\nFROM (\\n  SELECT\\n    t2.`species`,\\n    t2.`island`,\\n    t2.`culmen_length_mm`,\\n    t2.`culmen_depth_mm`,\\n    t2.`flipper_length_mm`,\\n    t2.`body_mass_g`,\\n    t2.`sex`\\n  FROM t2\\n) AS t3\""
      ]
     },
     "execution_count": 7,
     "metadata": {},
     "output_type": "execute_result"
    }
   ],
   "source": [
    "df.sql"
   ]
  },
  {
   "cell_type": "code",
   "execution_count": 8,
   "metadata": {},
   "outputs": [
    {
     "name": "stderr",
     "output_type": "stream",
     "text": [
      "/usr/local/google/home/garrettwu/src/bigframes/bigframes/streaming/__init__.py:101: PreviewWarning: The bigframes.streaming module is a preview feature, and subject to change.\n",
      "  warnings.warn(\n"
     ]
    }
   ],
   "source": [
    "query_job = bigframes.streaming.to_bigtable(\n",
    "    df.sql,\n",
    "    instance=\"streaming-testing-instance\",\n",
    "    table=\"table-testing\",\n",
    "    service_account_email=\"streaming-testing@bigframes-load-testing.iam.gserviceaccount.com\",\n",
    "    app_profile=None,\n",
    "    truncate=True,\n",
    "    overwrite=True,\n",
    "    auto_create_column_families=True,\n",
    "    bigtable_options={},\n",
    "    job_id=None,\n",
    "    job_id_prefix=job_id_prefix,\n",
    ")"
   ]
  },
  {
   "cell_type": "code",
   "execution_count": 18,
   "metadata": {},
   "outputs": [
    {
     "data": {
      "text/plain": [
       "'DONE'"
      ]
     },
     "execution_count": 18,
     "metadata": {},
     "output_type": "execute_result"
    }
   ],
   "source": [
    "query_job.state"
   ]
  },
  {
   "cell_type": "code",
   "execution_count": 14,
   "metadata": {},
   "outputs": [],
   "source": [
    "query_job.errors"
   ]
  },
  {
   "cell_type": "code",
   "execution_count": 17,
   "metadata": {},
   "outputs": [
    {
     "data": {
      "text/plain": [
       "True"
      ]
     },
     "execution_count": 17,
     "metadata": {},
     "output_type": "execute_result"
    }
   ],
   "source": [
    "query_job.cancel()"
   ]
  },
  {
   "cell_type": "code",
   "execution_count": 19,
   "metadata": {},
   "outputs": [
    {
     "data": {
      "text/html": [
       "Query job 5c3d5e2f-bcbd-42c0-9886-dcd15cd8c69d is DONE. 0 Bytes processed. <a target=\"_blank\" href=\"https://console.cloud.google.com/bigquery?project=bigframes-load-testing&j=bq:US:5c3d5e2f-bcbd-42c0-9886-dcd15cd8c69d&page=queryresults\">Open Job</a>"
      ],
      "text/plain": [
       "<IPython.core.display.HTML object>"
      ]
     },
     "metadata": {},
     "output_type": "display_data"
    },
    {
     "data": {
      "text/html": [
       "Query job fdb95c30-3438-4272-8d22-741798d72f4e is DONE. 28.9 kB processed. <a target=\"_blank\" href=\"https://console.cloud.google.com/bigquery?project=bigframes-load-testing&j=bq:US:fdb95c30-3438-4272-8d22-741798d72f4e&page=queryresults\">Open Job</a>"
      ],
      "text/plain": [
       "<IPython.core.display.HTML object>"
      ]
     },
     "metadata": {},
     "output_type": "display_data"
    },
    {
     "data": {
      "text/html": [
       "<div>\n",
       "<style scoped>\n",
       "    .dataframe tbody tr th:only-of-type {\n",
       "        vertical-align: middle;\n",
       "    }\n",
       "\n",
       "    .dataframe tbody tr th {\n",
       "        vertical-align: top;\n",
       "    }\n",
       "\n",
       "    .dataframe thead th {\n",
       "        text-align: right;\n",
       "    }\n",
       "</style>\n",
       "<table border=\"1\" class=\"dataframe\">\n",
       "  <thead>\n",
       "    <tr style=\"text-align: right;\">\n",
       "      <th></th>\n",
       "      <th>species</th>\n",
       "      <th>island</th>\n",
       "      <th>culmen_length_mm</th>\n",
       "      <th>culmen_depth_mm</th>\n",
       "      <th>flipper_length_mm</th>\n",
       "      <th>body_mass_g</th>\n",
       "      <th>sex</th>\n",
       "    </tr>\n",
       "  </thead>\n",
       "  <tbody>\n",
       "    <tr>\n",
       "      <th>0</th>\n",
       "      <td>Gentoo penguin (Pygoscelis papua)</td>\n",
       "      <td>Biscoe</td>\n",
       "      <td>50.5</td>\n",
       "      <td>15.9</td>\n",
       "      <td>225</td>\n",
       "      <td>5400</td>\n",
       "      <td>MALE</td>\n",
       "    </tr>\n",
       "    <tr>\n",
       "      <th>1</th>\n",
       "      <td>Gentoo penguin (Pygoscelis papua)</td>\n",
       "      <td>Biscoe</td>\n",
       "      <td>45.1</td>\n",
       "      <td>14.5</td>\n",
       "      <td>215</td>\n",
       "      <td>5000</td>\n",
       "      <td>FEMALE</td>\n",
       "    </tr>\n",
       "    <tr>\n",
       "      <th>2</th>\n",
       "      <td>Adelie Penguin (Pygoscelis adeliae)</td>\n",
       "      <td>Torgersen</td>\n",
       "      <td>41.4</td>\n",
       "      <td>18.5</td>\n",
       "      <td>202</td>\n",
       "      <td>3875</td>\n",
       "      <td>MALE</td>\n",
       "    </tr>\n",
       "    <tr>\n",
       "      <th>3</th>\n",
       "      <td>Adelie Penguin (Pygoscelis adeliae)</td>\n",
       "      <td>Torgersen</td>\n",
       "      <td>38.6</td>\n",
       "      <td>17.0</td>\n",
       "      <td>188</td>\n",
       "      <td>2900</td>\n",
       "      <td>FEMALE</td>\n",
       "    </tr>\n",
       "    <tr>\n",
       "      <th>4</th>\n",
       "      <td>Gentoo penguin (Pygoscelis papua)</td>\n",
       "      <td>Biscoe</td>\n",
       "      <td>46.5</td>\n",
       "      <td>14.8</td>\n",
       "      <td>217</td>\n",
       "      <td>5200</td>\n",
       "      <td>FEMALE</td>\n",
       "    </tr>\n",
       "    <tr>\n",
       "      <th>5</th>\n",
       "      <td>Adelie Penguin (Pygoscelis adeliae)</td>\n",
       "      <td>Biscoe</td>\n",
       "      <td>35.0</td>\n",
       "      <td>17.9</td>\n",
       "      <td>192</td>\n",
       "      <td>3725</td>\n",
       "      <td>FEMALE</td>\n",
       "    </tr>\n",
       "    <tr>\n",
       "      <th>6</th>\n",
       "      <td>Adelie Penguin (Pygoscelis adeliae)</td>\n",
       "      <td>Dream</td>\n",
       "      <td>37.5</td>\n",
       "      <td>18.9</td>\n",
       "      <td>179</td>\n",
       "      <td>2975</td>\n",
       "      <td>&lt;NA&gt;</td>\n",
       "    </tr>\n",
       "    <tr>\n",
       "      <th>7</th>\n",
       "      <td>Gentoo penguin (Pygoscelis papua)</td>\n",
       "      <td>Biscoe</td>\n",
       "      <td>42.0</td>\n",
       "      <td>13.5</td>\n",
       "      <td>210</td>\n",
       "      <td>4150</td>\n",
       "      <td>FEMALE</td>\n",
       "    </tr>\n",
       "    <tr>\n",
       "      <th>8</th>\n",
       "      <td>Gentoo penguin (Pygoscelis papua)</td>\n",
       "      <td>Biscoe</td>\n",
       "      <td>48.5</td>\n",
       "      <td>14.1</td>\n",
       "      <td>220</td>\n",
       "      <td>5300</td>\n",
       "      <td>MALE</td>\n",
       "    </tr>\n",
       "    <tr>\n",
       "      <th>9</th>\n",
       "      <td>Adelie Penguin (Pygoscelis adeliae)</td>\n",
       "      <td>Torgersen</td>\n",
       "      <td>45.8</td>\n",
       "      <td>18.9</td>\n",
       "      <td>197</td>\n",
       "      <td>4150</td>\n",
       "      <td>MALE</td>\n",
       "    </tr>\n",
       "    <tr>\n",
       "      <th>10</th>\n",
       "      <td>Chinstrap penguin (Pygoscelis antarctica)</td>\n",
       "      <td>Dream</td>\n",
       "      <td>49.0</td>\n",
       "      <td>19.6</td>\n",
       "      <td>212</td>\n",
       "      <td>4300</td>\n",
       "      <td>MALE</td>\n",
       "    </tr>\n",
       "    <tr>\n",
       "      <th>11</th>\n",
       "      <td>Adelie Penguin (Pygoscelis adeliae)</td>\n",
       "      <td>Torgersen</td>\n",
       "      <td>35.9</td>\n",
       "      <td>16.6</td>\n",
       "      <td>190</td>\n",
       "      <td>3050</td>\n",
       "      <td>FEMALE</td>\n",
       "    </tr>\n",
       "    <tr>\n",
       "      <th>12</th>\n",
       "      <td>Gentoo penguin (Pygoscelis papua)</td>\n",
       "      <td>Biscoe</td>\n",
       "      <td>51.1</td>\n",
       "      <td>16.3</td>\n",
       "      <td>220</td>\n",
       "      <td>6000</td>\n",
       "      <td>MALE</td>\n",
       "    </tr>\n",
       "    <tr>\n",
       "      <th>13</th>\n",
       "      <td>Gentoo penguin (Pygoscelis papua)</td>\n",
       "      <td>Biscoe</td>\n",
       "      <td>42.6</td>\n",
       "      <td>13.7</td>\n",
       "      <td>213</td>\n",
       "      <td>4950</td>\n",
       "      <td>FEMALE</td>\n",
       "    </tr>\n",
       "    <tr>\n",
       "      <th>14</th>\n",
       "      <td>Chinstrap penguin (Pygoscelis antarctica)</td>\n",
       "      <td>Dream</td>\n",
       "      <td>46.9</td>\n",
       "      <td>16.6</td>\n",
       "      <td>192</td>\n",
       "      <td>2700</td>\n",
       "      <td>FEMALE</td>\n",
       "    </tr>\n",
       "    <tr>\n",
       "      <th>15</th>\n",
       "      <td>Adelie Penguin (Pygoscelis adeliae)</td>\n",
       "      <td>Dream</td>\n",
       "      <td>41.1</td>\n",
       "      <td>17.5</td>\n",
       "      <td>190</td>\n",
       "      <td>3900</td>\n",
       "      <td>MALE</td>\n",
       "    </tr>\n",
       "    <tr>\n",
       "      <th>16</th>\n",
       "      <td>Gentoo penguin (Pygoscelis papua)</td>\n",
       "      <td>Biscoe</td>\n",
       "      <td>49.2</td>\n",
       "      <td>15.2</td>\n",
       "      <td>221</td>\n",
       "      <td>6300</td>\n",
       "      <td>MALE</td>\n",
       "    </tr>\n",
       "    <tr>\n",
       "      <th>17</th>\n",
       "      <td>Adelie Penguin (Pygoscelis adeliae)</td>\n",
       "      <td>Biscoe</td>\n",
       "      <td>38.1</td>\n",
       "      <td>16.5</td>\n",
       "      <td>198</td>\n",
       "      <td>3825</td>\n",
       "      <td>FEMALE</td>\n",
       "    </tr>\n",
       "    <tr>\n",
       "      <th>18</th>\n",
       "      <td>Gentoo penguin (Pygoscelis papua)</td>\n",
       "      <td>Biscoe</td>\n",
       "      <td>51.3</td>\n",
       "      <td>14.2</td>\n",
       "      <td>218</td>\n",
       "      <td>5300</td>\n",
       "      <td>MALE</td>\n",
       "    </tr>\n",
       "    <tr>\n",
       "      <th>19</th>\n",
       "      <td>Gentoo penguin (Pygoscelis papua)</td>\n",
       "      <td>Biscoe</td>\n",
       "      <td>43.6</td>\n",
       "      <td>13.9</td>\n",
       "      <td>217</td>\n",
       "      <td>4900</td>\n",
       "      <td>FEMALE</td>\n",
       "    </tr>\n",
       "    <tr>\n",
       "      <th>20</th>\n",
       "      <td>Gentoo penguin (Pygoscelis papua)</td>\n",
       "      <td>Biscoe</td>\n",
       "      <td>42.8</td>\n",
       "      <td>14.2</td>\n",
       "      <td>209</td>\n",
       "      <td>4700</td>\n",
       "      <td>FEMALE</td>\n",
       "    </tr>\n",
       "    <tr>\n",
       "      <th>21</th>\n",
       "      <td>Chinstrap penguin (Pygoscelis antarctica)</td>\n",
       "      <td>Dream</td>\n",
       "      <td>50.2</td>\n",
       "      <td>18.7</td>\n",
       "      <td>198</td>\n",
       "      <td>3775</td>\n",
       "      <td>FEMALE</td>\n",
       "    </tr>\n",
       "    <tr>\n",
       "      <th>22</th>\n",
       "      <td>Adelie Penguin (Pygoscelis adeliae)</td>\n",
       "      <td>Dream</td>\n",
       "      <td>37.3</td>\n",
       "      <td>17.8</td>\n",
       "      <td>191</td>\n",
       "      <td>3350</td>\n",
       "      <td>FEMALE</td>\n",
       "    </tr>\n",
       "    <tr>\n",
       "      <th>23</th>\n",
       "      <td>Gentoo penguin (Pygoscelis papua)</td>\n",
       "      <td>Biscoe</td>\n",
       "      <td>&lt;NA&gt;</td>\n",
       "      <td>&lt;NA&gt;</td>\n",
       "      <td>&lt;NA&gt;</td>\n",
       "      <td>&lt;NA&gt;</td>\n",
       "      <td>&lt;NA&gt;</td>\n",
       "    </tr>\n",
       "    <tr>\n",
       "      <th>24</th>\n",
       "      <td>Adelie Penguin (Pygoscelis adeliae)</td>\n",
       "      <td>Biscoe</td>\n",
       "      <td>39.6</td>\n",
       "      <td>20.7</td>\n",
       "      <td>191</td>\n",
       "      <td>3900</td>\n",
       "      <td>FEMALE</td>\n",
       "    </tr>\n",
       "  </tbody>\n",
       "</table>\n",
       "<p>25 rows × 7 columns</p>\n",
       "</div>[344 rows x 7 columns in total]"
      ],
      "text/plain": [
       "                                      species     island  culmen_length_mm  \\\n",
       "0           Gentoo penguin (Pygoscelis papua)     Biscoe              50.5   \n",
       "1           Gentoo penguin (Pygoscelis papua)     Biscoe              45.1   \n",
       "2         Adelie Penguin (Pygoscelis adeliae)  Torgersen              41.4   \n",
       "3         Adelie Penguin (Pygoscelis adeliae)  Torgersen              38.6   \n",
       "4           Gentoo penguin (Pygoscelis papua)     Biscoe              46.5   \n",
       "5         Adelie Penguin (Pygoscelis adeliae)     Biscoe              35.0   \n",
       "6         Adelie Penguin (Pygoscelis adeliae)      Dream              37.5   \n",
       "7           Gentoo penguin (Pygoscelis papua)     Biscoe              42.0   \n",
       "8           Gentoo penguin (Pygoscelis papua)     Biscoe              48.5   \n",
       "9         Adelie Penguin (Pygoscelis adeliae)  Torgersen              45.8   \n",
       "10  Chinstrap penguin (Pygoscelis antarctica)      Dream              49.0   \n",
       "11        Adelie Penguin (Pygoscelis adeliae)  Torgersen              35.9   \n",
       "12          Gentoo penguin (Pygoscelis papua)     Biscoe              51.1   \n",
       "13          Gentoo penguin (Pygoscelis papua)     Biscoe              42.6   \n",
       "14  Chinstrap penguin (Pygoscelis antarctica)      Dream              46.9   \n",
       "15        Adelie Penguin (Pygoscelis adeliae)      Dream              41.1   \n",
       "16          Gentoo penguin (Pygoscelis papua)     Biscoe              49.2   \n",
       "17        Adelie Penguin (Pygoscelis adeliae)     Biscoe              38.1   \n",
       "18          Gentoo penguin (Pygoscelis papua)     Biscoe              51.3   \n",
       "19          Gentoo penguin (Pygoscelis papua)     Biscoe              43.6   \n",
       "20          Gentoo penguin (Pygoscelis papua)     Biscoe              42.8   \n",
       "21  Chinstrap penguin (Pygoscelis antarctica)      Dream              50.2   \n",
       "22        Adelie Penguin (Pygoscelis adeliae)      Dream              37.3   \n",
       "23          Gentoo penguin (Pygoscelis papua)     Biscoe              <NA>   \n",
       "24        Adelie Penguin (Pygoscelis adeliae)     Biscoe              39.6   \n",
       "\n",
       "    culmen_depth_mm  flipper_length_mm  body_mass_g     sex  \n",
       "0              15.9                225         5400    MALE  \n",
       "1              14.5                215         5000  FEMALE  \n",
       "2              18.5                202         3875    MALE  \n",
       "3              17.0                188         2900  FEMALE  \n",
       "4              14.8                217         5200  FEMALE  \n",
       "5              17.9                192         3725  FEMALE  \n",
       "6              18.9                179         2975    <NA>  \n",
       "7              13.5                210         4150  FEMALE  \n",
       "8              14.1                220         5300    MALE  \n",
       "9              18.9                197         4150    MALE  \n",
       "10             19.6                212         4300    MALE  \n",
       "11             16.6                190         3050  FEMALE  \n",
       "12             16.3                220         6000    MALE  \n",
       "13             13.7                213         4950  FEMALE  \n",
       "14             16.6                192         2700  FEMALE  \n",
       "15             17.5                190         3900    MALE  \n",
       "16             15.2                221         6300    MALE  \n",
       "17             16.5                198         3825  FEMALE  \n",
       "18             14.2                218         5300    MALE  \n",
       "19             13.9                217         4900  FEMALE  \n",
       "20             14.2                209         4700  FEMALE  \n",
       "21             18.7                198         3775  FEMALE  \n",
       "22             17.8                191         3350  FEMALE  \n",
       "23             <NA>               <NA>         <NA>    <NA>  \n",
       "24             20.7                191         3900  FEMALE  \n",
       "...\n",
       "\n",
       "[344 rows x 7 columns]"
      ]
     },
     "execution_count": 19,
     "metadata": {},
     "output_type": "execute_result"
    }
   ],
   "source": [
    "df"
   ]
  },
  {
   "cell_type": "code",
   "execution_count": 20,
   "metadata": {},
   "outputs": [
    {
     "name": "stderr",
     "output_type": "stream",
     "text": [
      "/usr/local/google/home/garrettwu/src/bigframes/bigframes/streaming/__init__.py:101: PreviewWarning: The bigframes.streaming module is a preview feature, and subject to change.\n",
      "  warnings.warn(\n"
     ]
    }
   ],
   "source": [
    "query_job = bigframes.streaming.to_bigtable(\n",
    "    df.sql,\n",
    "    instance=\"streaming-testing-instance\",\n",
    "    table=\"table-testing\",\n",
    "    service_account_email=\"streaming-testing@bigframes-load-testing.iam.gserviceaccount.com\",\n",
    "    app_profile=None,\n",
    "    truncate=True,\n",
    "    overwrite=True,\n",
    "    auto_create_column_families=True,\n",
    "    bigtable_options={},\n",
    "    job_id=None,\n",
    "    job_id_prefix=job_id_prefix,\n",
    ")"
   ]
  },
  {
   "cell_type": "code",
   "execution_count": 30,
   "metadata": {},
   "outputs": [
    {
     "name": "stdout",
     "output_type": "stream",
     "text": [
      "DONE\n",
      "{'reason': 'stopped', 'debugInfo': '[CANCELLED] errorProto=code: \"JOB_CANCELLED\"\\nargument: \"User requested cancellation\"\\n\\n\\tat com.google.cloud.helix.common.Exceptions$Public.jobCancelled(Exceptions.java:947)\\n\\tat com.google.cloud.helix.common.Exceptions.fromCancelRequest(Exceptions.java:2101)\\n\\tat com.google.cloud.helix.common.Exceptions.fromCancelRequest(Exceptions.java:2117)\\n\\tat com.google.cloud.helix.server.job.LocalJobController.heartbeat(LocalJobController.java:786)\\n\\tat com.google.cloud.helix.server.job.JobControllerModule$1.heartbeat(JobControllerModule.java:866)\\n\\tat com.google.cloud.helix.server.job.JobStateMachine$1.heartbeat(JobStateMachine.java:3800)\\n\\tat com.google.cloud.helix.server.job.JobStateMachine.heartbeatInternal(JobStateMachine.java:3476)\\n\\tat com.google.cloud.helix.server.job.JobStateMachine.lambda$heartbeat$12(JobStateMachine.java:2733)\\n\\tat com.google.cloud.helix.common.HelixFutures.wrapSynchronousCall(HelixFutures.java:96)\\n\\tat com.google.cloud.helix.server.job.JobStateMachine.lambda$runStateSync$13(JobStateMachine.java:2883)\\n\\tat com.google.cloud.helix.server.job.JobStateMachine.runState(JobStateMachine.java:2901)\\n\\tat com.google.cloud.helix.server.job.JobStateMachine.runStateSync(JobStateMachine.java:2883)\\n\\tat com.google.cloud.helix.server.job.JobStateMachine.heartbeat(JobStateMachine.java:2733)\\n\\tat com.google.cloud.helix.server.job.JobStateMachine.heartbeat(JobStateMachine.java:2708)\\n\\tat com.google.cloud.helix.server.job.QueuedJobHandler.lambda$addJobs$0(QueuedJobHandler.java:82)\\n\\tat java.base/java.util.concurrent.ThreadPoolExecutor.runWorker(Unknown Source)\\n\\tat java.base/java.util.concurrent.ThreadPoolExecutor$Worker.run(Unknown Source)\\n\\tat java.base/java.lang.Thread.run(Unknown Source)\\n'}\n",
      "[{'reason': 'stopped'}]\n"
     ]
    }
   ],
   "source": [
    "print(query_job.state)\n",
    "print(query_job.error_result)"
   ]
  },
  {
   "cell_type": "code",
   "execution_count": 29,
   "metadata": {},
   "outputs": [
    {
     "data": {
      "text/plain": [
       "True"
      ]
     },
     "execution_count": 29,
     "metadata": {},
     "output_type": "execute_result"
    }
   ],
   "source": [
    "query_job.cancel()"
   ]
  },
  {
   "cell_type": "code",
   "execution_count": 31,
   "metadata": {},
   "outputs": [],
   "source": [
    "df = df[[\"species\", \"island\", \"culmen_length_mm\"]]"
   ]
  },
  {
   "cell_type": "code",
   "execution_count": 33,
   "metadata": {},
   "outputs": [
    {
     "data": {
      "text/html": [
       "Query job 297aff1e-55e2-4198-930d-3334096998ac is DONE. 0 Bytes processed. <a target=\"_blank\" href=\"https://console.cloud.google.com/bigquery?project=bigframes-load-testing&j=bq:US:297aff1e-55e2-4198-930d-3334096998ac&page=queryresults\">Open Job</a>"
      ],
      "text/plain": [
       "<IPython.core.display.HTML object>"
      ]
     },
     "metadata": {},
     "output_type": "display_data"
    },
    {
     "data": {
      "text/html": [
       "Query job 0c2e441f-f21c-45bd-84cc-5b0ceeaf32ef is DONE. 28.9 kB processed. <a target=\"_blank\" href=\"https://console.cloud.google.com/bigquery?project=bigframes-load-testing&j=bq:US:0c2e441f-f21c-45bd-84cc-5b0ceeaf32ef&page=queryresults\">Open Job</a>"
      ],
      "text/plain": [
       "<IPython.core.display.HTML object>"
      ]
     },
     "metadata": {},
     "output_type": "display_data"
    },
    {
     "data": {
      "text/html": [
       "<div>\n",
       "<style scoped>\n",
       "    .dataframe tbody tr th:only-of-type {\n",
       "        vertical-align: middle;\n",
       "    }\n",
       "\n",
       "    .dataframe tbody tr th {\n",
       "        vertical-align: top;\n",
       "    }\n",
       "\n",
       "    .dataframe thead th {\n",
       "        text-align: right;\n",
       "    }\n",
       "</style>\n",
       "<table border=\"1\" class=\"dataframe\">\n",
       "  <thead>\n",
       "    <tr style=\"text-align: right;\">\n",
       "      <th></th>\n",
       "      <th>species</th>\n",
       "      <th>island</th>\n",
       "      <th>culmen_length_mm</th>\n",
       "    </tr>\n",
       "  </thead>\n",
       "  <tbody>\n",
       "    <tr>\n",
       "      <th>0</th>\n",
       "      <td>Gentoo penguin (Pygoscelis papua)</td>\n",
       "      <td>Biscoe</td>\n",
       "      <td>50.5</td>\n",
       "    </tr>\n",
       "    <tr>\n",
       "      <th>1</th>\n",
       "      <td>Gentoo penguin (Pygoscelis papua)</td>\n",
       "      <td>Biscoe</td>\n",
       "      <td>45.1</td>\n",
       "    </tr>\n",
       "    <tr>\n",
       "      <th>2</th>\n",
       "      <td>Adelie Penguin (Pygoscelis adeliae)</td>\n",
       "      <td>Torgersen</td>\n",
       "      <td>41.4</td>\n",
       "    </tr>\n",
       "    <tr>\n",
       "      <th>3</th>\n",
       "      <td>Adelie Penguin (Pygoscelis adeliae)</td>\n",
       "      <td>Torgersen</td>\n",
       "      <td>38.6</td>\n",
       "    </tr>\n",
       "    <tr>\n",
       "      <th>4</th>\n",
       "      <td>Gentoo penguin (Pygoscelis papua)</td>\n",
       "      <td>Biscoe</td>\n",
       "      <td>46.5</td>\n",
       "    </tr>\n",
       "    <tr>\n",
       "      <th>5</th>\n",
       "      <td>Adelie Penguin (Pygoscelis adeliae)</td>\n",
       "      <td>Biscoe</td>\n",
       "      <td>35.0</td>\n",
       "    </tr>\n",
       "    <tr>\n",
       "      <th>6</th>\n",
       "      <td>Adelie Penguin (Pygoscelis adeliae)</td>\n",
       "      <td>Dream</td>\n",
       "      <td>37.5</td>\n",
       "    </tr>\n",
       "    <tr>\n",
       "      <th>7</th>\n",
       "      <td>Gentoo penguin (Pygoscelis papua)</td>\n",
       "      <td>Biscoe</td>\n",
       "      <td>42.0</td>\n",
       "    </tr>\n",
       "    <tr>\n",
       "      <th>8</th>\n",
       "      <td>Gentoo penguin (Pygoscelis papua)</td>\n",
       "      <td>Biscoe</td>\n",
       "      <td>48.5</td>\n",
       "    </tr>\n",
       "    <tr>\n",
       "      <th>9</th>\n",
       "      <td>Adelie Penguin (Pygoscelis adeliae)</td>\n",
       "      <td>Torgersen</td>\n",
       "      <td>45.8</td>\n",
       "    </tr>\n",
       "    <tr>\n",
       "      <th>10</th>\n",
       "      <td>Chinstrap penguin (Pygoscelis antarctica)</td>\n",
       "      <td>Dream</td>\n",
       "      <td>49.0</td>\n",
       "    </tr>\n",
       "    <tr>\n",
       "      <th>11</th>\n",
       "      <td>Adelie Penguin (Pygoscelis adeliae)</td>\n",
       "      <td>Torgersen</td>\n",
       "      <td>35.9</td>\n",
       "    </tr>\n",
       "    <tr>\n",
       "      <th>12</th>\n",
       "      <td>Gentoo penguin (Pygoscelis papua)</td>\n",
       "      <td>Biscoe</td>\n",
       "      <td>51.1</td>\n",
       "    </tr>\n",
       "    <tr>\n",
       "      <th>13</th>\n",
       "      <td>Gentoo penguin (Pygoscelis papua)</td>\n",
       "      <td>Biscoe</td>\n",
       "      <td>42.6</td>\n",
       "    </tr>\n",
       "    <tr>\n",
       "      <th>14</th>\n",
       "      <td>Chinstrap penguin (Pygoscelis antarctica)</td>\n",
       "      <td>Dream</td>\n",
       "      <td>46.9</td>\n",
       "    </tr>\n",
       "    <tr>\n",
       "      <th>15</th>\n",
       "      <td>Adelie Penguin (Pygoscelis adeliae)</td>\n",
       "      <td>Dream</td>\n",
       "      <td>41.1</td>\n",
       "    </tr>\n",
       "    <tr>\n",
       "      <th>16</th>\n",
       "      <td>Gentoo penguin (Pygoscelis papua)</td>\n",
       "      <td>Biscoe</td>\n",
       "      <td>49.2</td>\n",
       "    </tr>\n",
       "    <tr>\n",
       "      <th>17</th>\n",
       "      <td>Adelie Penguin (Pygoscelis adeliae)</td>\n",
       "      <td>Biscoe</td>\n",
       "      <td>38.1</td>\n",
       "    </tr>\n",
       "    <tr>\n",
       "      <th>18</th>\n",
       "      <td>Gentoo penguin (Pygoscelis papua)</td>\n",
       "      <td>Biscoe</td>\n",
       "      <td>51.3</td>\n",
       "    </tr>\n",
       "    <tr>\n",
       "      <th>19</th>\n",
       "      <td>Gentoo penguin (Pygoscelis papua)</td>\n",
       "      <td>Biscoe</td>\n",
       "      <td>43.6</td>\n",
       "    </tr>\n",
       "    <tr>\n",
       "      <th>20</th>\n",
       "      <td>Gentoo penguin (Pygoscelis papua)</td>\n",
       "      <td>Biscoe</td>\n",
       "      <td>42.8</td>\n",
       "    </tr>\n",
       "    <tr>\n",
       "      <th>21</th>\n",
       "      <td>Chinstrap penguin (Pygoscelis antarctica)</td>\n",
       "      <td>Dream</td>\n",
       "      <td>50.2</td>\n",
       "    </tr>\n",
       "    <tr>\n",
       "      <th>22</th>\n",
       "      <td>Adelie Penguin (Pygoscelis adeliae)</td>\n",
       "      <td>Dream</td>\n",
       "      <td>37.3</td>\n",
       "    </tr>\n",
       "    <tr>\n",
       "      <th>23</th>\n",
       "      <td>Gentoo penguin (Pygoscelis papua)</td>\n",
       "      <td>Biscoe</td>\n",
       "      <td>&lt;NA&gt;</td>\n",
       "    </tr>\n",
       "    <tr>\n",
       "      <th>24</th>\n",
       "      <td>Adelie Penguin (Pygoscelis adeliae)</td>\n",
       "      <td>Biscoe</td>\n",
       "      <td>39.6</td>\n",
       "    </tr>\n",
       "  </tbody>\n",
       "</table>\n",
       "<p>25 rows × 3 columns</p>\n",
       "</div>[344 rows x 3 columns in total]"
      ],
      "text/plain": [
       "                                      species     island  culmen_length_mm\n",
       "0           Gentoo penguin (Pygoscelis papua)     Biscoe              50.5\n",
       "1           Gentoo penguin (Pygoscelis papua)     Biscoe              45.1\n",
       "2         Adelie Penguin (Pygoscelis adeliae)  Torgersen              41.4\n",
       "3         Adelie Penguin (Pygoscelis adeliae)  Torgersen              38.6\n",
       "4           Gentoo penguin (Pygoscelis papua)     Biscoe              46.5\n",
       "5         Adelie Penguin (Pygoscelis adeliae)     Biscoe              35.0\n",
       "6         Adelie Penguin (Pygoscelis adeliae)      Dream              37.5\n",
       "7           Gentoo penguin (Pygoscelis papua)     Biscoe              42.0\n",
       "8           Gentoo penguin (Pygoscelis papua)     Biscoe              48.5\n",
       "9         Adelie Penguin (Pygoscelis adeliae)  Torgersen              45.8\n",
       "10  Chinstrap penguin (Pygoscelis antarctica)      Dream              49.0\n",
       "11        Adelie Penguin (Pygoscelis adeliae)  Torgersen              35.9\n",
       "12          Gentoo penguin (Pygoscelis papua)     Biscoe              51.1\n",
       "13          Gentoo penguin (Pygoscelis papua)     Biscoe              42.6\n",
       "14  Chinstrap penguin (Pygoscelis antarctica)      Dream              46.9\n",
       "15        Adelie Penguin (Pygoscelis adeliae)      Dream              41.1\n",
       "16          Gentoo penguin (Pygoscelis papua)     Biscoe              49.2\n",
       "17        Adelie Penguin (Pygoscelis adeliae)     Biscoe              38.1\n",
       "18          Gentoo penguin (Pygoscelis papua)     Biscoe              51.3\n",
       "19          Gentoo penguin (Pygoscelis papua)     Biscoe              43.6\n",
       "20          Gentoo penguin (Pygoscelis papua)     Biscoe              42.8\n",
       "21  Chinstrap penguin (Pygoscelis antarctica)      Dream              50.2\n",
       "22        Adelie Penguin (Pygoscelis adeliae)      Dream              37.3\n",
       "23          Gentoo penguin (Pygoscelis papua)     Biscoe              <NA>\n",
       "24        Adelie Penguin (Pygoscelis adeliae)     Biscoe              39.6\n",
       "...\n",
       "\n",
       "[344 rows x 3 columns]"
      ]
     },
     "execution_count": 33,
     "metadata": {},
     "output_type": "execute_result"
    }
   ],
   "source": [
    "df"
   ]
  },
  {
   "cell_type": "code",
   "execution_count": 32,
   "metadata": {},
   "outputs": [
    {
     "name": "stderr",
     "output_type": "stream",
     "text": [
      "/usr/local/google/home/garrettwu/src/bigframes/bigframes/streaming/__init__.py:101: PreviewWarning: The bigframes.streaming module is a preview feature, and subject to change.\n",
      "  warnings.warn(\n"
     ]
    }
   ],
   "source": [
    "query_job = bigframes.streaming.to_bigtable(\n",
    "    df.sql,\n",
    "    instance=\"streaming-testing-instance\",\n",
    "    table=\"table-testing\",\n",
    "    service_account_email=\"streaming-testing@bigframes-load-testing.iam.gserviceaccount.com\",\n",
    "    app_profile=None,\n",
    "    truncate=True,\n",
    "    overwrite=True,\n",
    "    auto_create_column_families=True,\n",
    "    bigtable_options={},\n",
    "    job_id=None,\n",
    "    job_id_prefix=job_id_prefix,\n",
    ")"
   ]
  },
  {
   "cell_type": "code",
   "execution_count": 43,
   "metadata": {},
   "outputs": [
    {
     "name": "stdout",
     "output_type": "stream",
     "text": [
      "DONE\n",
      "{'reason': 'stopped', 'debugInfo': '[CANCELLED] errorProto=code: \"JOB_CANCELLED\"\\nargument: \"User requested cancellation\"\\n\\n\\tat com.google.cloud.helix.common.Exceptions$Public.jobCancelled(Exceptions.java:947)\\n\\tat com.google.cloud.helix.common.Exceptions.fromCancelRequest(Exceptions.java:2101)\\n\\tat com.google.cloud.helix.common.Exceptions.fromCancelRequest(Exceptions.java:2117)\\n\\tat com.google.cloud.helix.server.job.LocalJobController.heartbeat(LocalJobController.java:786)\\n\\tat com.google.cloud.helix.server.job.JobControllerModule$1.heartbeat(JobControllerModule.java:866)\\n\\tat com.google.cloud.helix.server.job.JobStateMachine$1.heartbeat(JobStateMachine.java:3800)\\n\\tat com.google.cloud.helix.server.job.JobStateMachine.heartbeatInternal(JobStateMachine.java:3476)\\n\\tat com.google.cloud.helix.server.job.JobStateMachine.lambda$heartbeat$12(JobStateMachine.java:2733)\\n\\tat com.google.cloud.helix.common.HelixFutures.wrapSynchronousCall(HelixFutures.java:96)\\n\\tat com.google.cloud.helix.server.job.JobStateMachine.lambda$runStateSync$13(JobStateMachine.java:2883)\\n\\tat com.google.cloud.helix.server.job.JobStateMachine.runState(JobStateMachine.java:2901)\\n\\tat com.google.cloud.helix.server.job.JobStateMachine.runStateSync(JobStateMachine.java:2883)\\n\\tat com.google.cloud.helix.server.job.JobStateMachine.heartbeat(JobStateMachine.java:2733)\\n\\tat com.google.cloud.helix.server.job.JobStateMachine.heartbeat(JobStateMachine.java:2708)\\n\\tat com.google.cloud.helix.server.job.QueuedJobHandler.lambda$addJobs$0(QueuedJobHandler.java:82)\\n\\tat java.base/java.util.concurrent.ThreadPoolExecutor.runWorker(Unknown Source)\\n\\tat java.base/java.util.concurrent.ThreadPoolExecutor$Worker.run(Unknown Source)\\n\\tat java.base/java.lang.Thread.run(Unknown Source)\\n'}\n"
     ]
    }
   ],
   "source": [
    "print(query_job.state)\n",
    "print(query_job.error_result)"
   ]
  },
  {
   "cell_type": "code",
   "execution_count": 42,
   "metadata": {},
   "outputs": [
    {
     "data": {
      "text/plain": [
       "True"
      ]
     },
     "execution_count": 42,
     "metadata": {},
     "output_type": "execute_result"
    }
   ],
   "source": [
    "query_job.cancel()"
   ]
  },
  {
   "cell_type": "code",
   "execution_count": 37,
   "metadata": {},
   "outputs": [],
   "source": [
    "df = df[df[\"culmen_length_mm\"] < 40]"
   ]
  },
  {
   "cell_type": "code",
   "execution_count": 38,
   "metadata": {},
   "outputs": [
    {
     "data": {
      "text/html": [
       "Query job 38e32e24-eb9e-45bf-8964-1ebadabe51fb is DONE. 2.7 kB processed. <a target=\"_blank\" href=\"https://console.cloud.google.com/bigquery?project=bigframes-load-testing&j=bq:US:38e32e24-eb9e-45bf-8964-1ebadabe51fb&page=queryresults\">Open Job</a>"
      ],
      "text/plain": [
       "<IPython.core.display.HTML object>"
      ]
     },
     "metadata": {},
     "output_type": "display_data"
    },
    {
     "data": {
      "text/html": [
       "Query job e57e1b76-4eb8-4380-8dc9-9fefca3660dc is DONE. 28.9 kB processed. <a target=\"_blank\" href=\"https://console.cloud.google.com/bigquery?project=bigframes-load-testing&j=bq:US:e57e1b76-4eb8-4380-8dc9-9fefca3660dc&page=queryresults\">Open Job</a>"
      ],
      "text/plain": [
       "<IPython.core.display.HTML object>"
      ]
     },
     "metadata": {},
     "output_type": "display_data"
    },
    {
     "data": {
      "text/html": [
       "<div>\n",
       "<style scoped>\n",
       "    .dataframe tbody tr th:only-of-type {\n",
       "        vertical-align: middle;\n",
       "    }\n",
       "\n",
       "    .dataframe tbody tr th {\n",
       "        vertical-align: top;\n",
       "    }\n",
       "\n",
       "    .dataframe thead th {\n",
       "        text-align: right;\n",
       "    }\n",
       "</style>\n",
       "<table border=\"1\" class=\"dataframe\">\n",
       "  <thead>\n",
       "    <tr style=\"text-align: right;\">\n",
       "      <th></th>\n",
       "      <th>species</th>\n",
       "      <th>island</th>\n",
       "      <th>culmen_length_mm</th>\n",
       "    </tr>\n",
       "  </thead>\n",
       "  <tbody>\n",
       "    <tr>\n",
       "      <th>3</th>\n",
       "      <td>Adelie Penguin (Pygoscelis adeliae)</td>\n",
       "      <td>Torgersen</td>\n",
       "      <td>38.6</td>\n",
       "    </tr>\n",
       "    <tr>\n",
       "      <th>5</th>\n",
       "      <td>Adelie Penguin (Pygoscelis adeliae)</td>\n",
       "      <td>Biscoe</td>\n",
       "      <td>35.0</td>\n",
       "    </tr>\n",
       "    <tr>\n",
       "      <th>6</th>\n",
       "      <td>Adelie Penguin (Pygoscelis adeliae)</td>\n",
       "      <td>Dream</td>\n",
       "      <td>37.5</td>\n",
       "    </tr>\n",
       "    <tr>\n",
       "      <th>11</th>\n",
       "      <td>Adelie Penguin (Pygoscelis adeliae)</td>\n",
       "      <td>Torgersen</td>\n",
       "      <td>35.9</td>\n",
       "    </tr>\n",
       "    <tr>\n",
       "      <th>17</th>\n",
       "      <td>Adelie Penguin (Pygoscelis adeliae)</td>\n",
       "      <td>Biscoe</td>\n",
       "      <td>38.1</td>\n",
       "    </tr>\n",
       "    <tr>\n",
       "      <th>22</th>\n",
       "      <td>Adelie Penguin (Pygoscelis adeliae)</td>\n",
       "      <td>Dream</td>\n",
       "      <td>37.3</td>\n",
       "    </tr>\n",
       "    <tr>\n",
       "      <th>24</th>\n",
       "      <td>Adelie Penguin (Pygoscelis adeliae)</td>\n",
       "      <td>Biscoe</td>\n",
       "      <td>39.6</td>\n",
       "    </tr>\n",
       "    <tr>\n",
       "      <th>25</th>\n",
       "      <td>Adelie Penguin (Pygoscelis adeliae)</td>\n",
       "      <td>Torgersen</td>\n",
       "      <td>39.3</td>\n",
       "    </tr>\n",
       "    <tr>\n",
       "      <th>28</th>\n",
       "      <td>Adelie Penguin (Pygoscelis adeliae)</td>\n",
       "      <td>Dream</td>\n",
       "      <td>38.1</td>\n",
       "    </tr>\n",
       "    <tr>\n",
       "      <th>36</th>\n",
       "      <td>Adelie Penguin (Pygoscelis adeliae)</td>\n",
       "      <td>Dream</td>\n",
       "      <td>36.0</td>\n",
       "    </tr>\n",
       "    <tr>\n",
       "      <th>42</th>\n",
       "      <td>Adelie Penguin (Pygoscelis adeliae)</td>\n",
       "      <td>Torgersen</td>\n",
       "      <td>33.5</td>\n",
       "    </tr>\n",
       "    <tr>\n",
       "      <th>47</th>\n",
       "      <td>Adelie Penguin (Pygoscelis adeliae)</td>\n",
       "      <td>Dream</td>\n",
       "      <td>37.5</td>\n",
       "    </tr>\n",
       "    <tr>\n",
       "      <th>56</th>\n",
       "      <td>Adelie Penguin (Pygoscelis adeliae)</td>\n",
       "      <td>Biscoe</td>\n",
       "      <td>38.2</td>\n",
       "    </tr>\n",
       "    <tr>\n",
       "      <th>57</th>\n",
       "      <td>Adelie Penguin (Pygoscelis adeliae)</td>\n",
       "      <td>Biscoe</td>\n",
       "      <td>38.6</td>\n",
       "    </tr>\n",
       "    <tr>\n",
       "      <th>58</th>\n",
       "      <td>Adelie Penguin (Pygoscelis adeliae)</td>\n",
       "      <td>Biscoe</td>\n",
       "      <td>35.3</td>\n",
       "    </tr>\n",
       "    <tr>\n",
       "      <th>59</th>\n",
       "      <td>Adelie Penguin (Pygoscelis adeliae)</td>\n",
       "      <td>Biscoe</td>\n",
       "      <td>37.7</td>\n",
       "    </tr>\n",
       "    <tr>\n",
       "      <th>71</th>\n",
       "      <td>Adelie Penguin (Pygoscelis adeliae)</td>\n",
       "      <td>Torgersen</td>\n",
       "      <td>37.2</td>\n",
       "    </tr>\n",
       "    <tr>\n",
       "      <th>72</th>\n",
       "      <td>Adelie Penguin (Pygoscelis adeliae)</td>\n",
       "      <td>Dream</td>\n",
       "      <td>36.5</td>\n",
       "    </tr>\n",
       "    <tr>\n",
       "      <th>75</th>\n",
       "      <td>Adelie Penguin (Pygoscelis adeliae)</td>\n",
       "      <td>Biscoe</td>\n",
       "      <td>37.8</td>\n",
       "    </tr>\n",
       "    <tr>\n",
       "      <th>76</th>\n",
       "      <td>Adelie Penguin (Pygoscelis adeliae)</td>\n",
       "      <td>Torgersen</td>\n",
       "      <td>36.2</td>\n",
       "    </tr>\n",
       "    <tr>\n",
       "      <th>83</th>\n",
       "      <td>Adelie Penguin (Pygoscelis adeliae)</td>\n",
       "      <td>Dream</td>\n",
       "      <td>37.6</td>\n",
       "    </tr>\n",
       "    <tr>\n",
       "      <th>86</th>\n",
       "      <td>Adelie Penguin (Pygoscelis adeliae)</td>\n",
       "      <td>Dream</td>\n",
       "      <td>38.8</td>\n",
       "    </tr>\n",
       "    <tr>\n",
       "      <th>89</th>\n",
       "      <td>Adelie Penguin (Pygoscelis adeliae)</td>\n",
       "      <td>Dream</td>\n",
       "      <td>39.2</td>\n",
       "    </tr>\n",
       "    <tr>\n",
       "      <th>91</th>\n",
       "      <td>Adelie Penguin (Pygoscelis adeliae)</td>\n",
       "      <td>Biscoe</td>\n",
       "      <td>39.6</td>\n",
       "    </tr>\n",
       "    <tr>\n",
       "      <th>92</th>\n",
       "      <td>Adelie Penguin (Pygoscelis adeliae)</td>\n",
       "      <td>Dream</td>\n",
       "      <td>39.5</td>\n",
       "    </tr>\n",
       "  </tbody>\n",
       "</table>\n",
       "<p>25 rows × 3 columns</p>\n",
       "</div>[100 rows x 3 columns in total]"
      ],
      "text/plain": [
       "                                species     island  culmen_length_mm\n",
       "3   Adelie Penguin (Pygoscelis adeliae)  Torgersen              38.6\n",
       "5   Adelie Penguin (Pygoscelis adeliae)     Biscoe              35.0\n",
       "6   Adelie Penguin (Pygoscelis adeliae)      Dream              37.5\n",
       "11  Adelie Penguin (Pygoscelis adeliae)  Torgersen              35.9\n",
       "17  Adelie Penguin (Pygoscelis adeliae)     Biscoe              38.1\n",
       "22  Adelie Penguin (Pygoscelis adeliae)      Dream              37.3\n",
       "24  Adelie Penguin (Pygoscelis adeliae)     Biscoe              39.6\n",
       "25  Adelie Penguin (Pygoscelis adeliae)  Torgersen              39.3\n",
       "28  Adelie Penguin (Pygoscelis adeliae)      Dream              38.1\n",
       "36  Adelie Penguin (Pygoscelis adeliae)      Dream              36.0\n",
       "42  Adelie Penguin (Pygoscelis adeliae)  Torgersen              33.5\n",
       "47  Adelie Penguin (Pygoscelis adeliae)      Dream              37.5\n",
       "56  Adelie Penguin (Pygoscelis adeliae)     Biscoe              38.2\n",
       "57  Adelie Penguin (Pygoscelis adeliae)     Biscoe              38.6\n",
       "58  Adelie Penguin (Pygoscelis adeliae)     Biscoe              35.3\n",
       "59  Adelie Penguin (Pygoscelis adeliae)     Biscoe              37.7\n",
       "71  Adelie Penguin (Pygoscelis adeliae)  Torgersen              37.2\n",
       "72  Adelie Penguin (Pygoscelis adeliae)      Dream              36.5\n",
       "75  Adelie Penguin (Pygoscelis adeliae)     Biscoe              37.8\n",
       "76  Adelie Penguin (Pygoscelis adeliae)  Torgersen              36.2\n",
       "83  Adelie Penguin (Pygoscelis adeliae)      Dream              37.6\n",
       "86  Adelie Penguin (Pygoscelis adeliae)      Dream              38.8\n",
       "89  Adelie Penguin (Pygoscelis adeliae)      Dream              39.2\n",
       "91  Adelie Penguin (Pygoscelis adeliae)     Biscoe              39.6\n",
       "92  Adelie Penguin (Pygoscelis adeliae)      Dream              39.5\n",
       "...\n",
       "\n",
       "[100 rows x 3 columns]"
      ]
     },
     "execution_count": 38,
     "metadata": {},
     "output_type": "execute_result"
    }
   ],
   "source": [
    "df"
   ]
  },
  {
   "cell_type": "code",
   "execution_count": 57,
   "metadata": {},
   "outputs": [],
   "source": [
    "query_job = bigframes.streaming.to_bigtable(\n",
    "    \"SELECT * FROM birds.penguins_bigtable_streaming\",\n",
    "    instance=\"streaming-testing-instance\",\n",
    "    table=\"garrettwu-testing\",\n",
    "    service_account_email=\"streaming-testing@bigframes-load-testing.iam.gserviceaccount.com\",\n",
    "    app_profile=None,\n",
    "    truncate=True,\n",
    "    overwrite=True,\n",
    "    auto_create_column_families=True,\n",
    "    bigtable_options={},\n",
    "    job_id=None,\n",
    "    job_id_prefix=job_id_prefix,\n",
    ")"
   ]
  },
  {
   "cell_type": "code",
   "execution_count": 62,
   "metadata": {},
   "outputs": [
    {
     "data": {
      "text/plain": [
       "\"WITH t0 AS (\\n  SELECT\\n    t6.`species`,\\n    t6.`island`,\\n    t6.`culmen_length_mm`,\\n    t6.`culmen_depth_mm`,\\n    t6.`flipper_length_mm`,\\n    t6.`body_mass_g`,\\n    t6.`sex`,\\n    farm_fingerprint(\\n      CONCAT(\\n        CONCAT('\\\\\\\\', REPLACE(coalesce(t6.`species`, ''), '\\\\\\\\', '\\\\\\\\\\\\\\\\')),\\n        CONCAT('\\\\\\\\', REPLACE(coalesce(t6.`island`, ''), '\\\\\\\\', '\\\\\\\\\\\\\\\\')),\\n        CONCAT('\\\\\\\\', REPLACE(coalesce(CAST(t6.`culmen_length_mm` AS STRING), ''), '\\\\\\\\', '\\\\\\\\\\\\\\\\')),\\n        CONCAT('\\\\\\\\', REPLACE(coalesce(CAST(t6.`culmen_depth_mm` AS STRING), ''), '\\\\\\\\', '\\\\\\\\\\\\\\\\')),\\n        CONCAT('\\\\\\\\', REPLACE(coalesce(CAST(t6.`flipper_length_mm` AS STRING), ''), '\\\\\\\\', '\\\\\\\\\\\\\\\\')),\\n        CONCAT('\\\\\\\\', REPLACE(coalesce(CAST(t6.`body_mass_g` AS STRING), ''), '\\\\\\\\', '\\\\\\\\\\\\\\\\')),\\n        CONCAT('\\\\\\\\', REPLACE(coalesce(t6.`sex`, ''), '\\\\\\\\', '\\\\\\\\\\\\\\\\'))\\n      )\\n    ) AS `bigframes_ordering_2`,\\n    farm_fingerprint(\\n      CONCAT(\\n        CONCAT(\\n          CONCAT('\\\\\\\\', REPLACE(coalesce(t6.`species`, ''), '\\\\\\\\', '\\\\\\\\\\\\\\\\')),\\n          CONCAT('\\\\\\\\', REPLACE(coalesce(t6.`island`, ''), '\\\\\\\\', '\\\\\\\\\\\\\\\\')),\\n          CONCAT('\\\\\\\\', REPLACE(coalesce(CAST(t6.`culmen_length_mm` AS STRING), ''), '\\\\\\\\', '\\\\\\\\\\\\\\\\')),\\n          CONCAT('\\\\\\\\', REPLACE(coalesce(CAST(t6.`culmen_depth_mm` AS STRING), ''), '\\\\\\\\', '\\\\\\\\\\\\\\\\')),\\n          CONCAT('\\\\\\\\', REPLACE(coalesce(CAST(t6.`flipper_length_mm` AS STRING), ''), '\\\\\\\\', '\\\\\\\\\\\\\\\\')),\\n          CONCAT('\\\\\\\\', REPLACE(coalesce(CAST(t6.`body_mass_g` AS STRING), ''), '\\\\\\\\', '\\\\\\\\\\\\\\\\')),\\n          CONCAT('\\\\\\\\', REPLACE(coalesce(t6.`sex`, ''), '\\\\\\\\', '\\\\\\\\\\\\\\\\'))\\n        ),\\n        '_'\\n      )\\n    ) AS `bigframes_ordering_3`,\\n    RAND() AS `bigframes_ordering_4`\\n  FROM `bigframes-load-testing`.birds.penguins_bigtable_streaming AS t6\\n), t1 AS (\\n  SELECT\\n    t0.`species`,\\n    t0.`island`,\\n    t0.`culmen_length_mm`,\\n    t0.`culmen_depth_mm`,\\n    t0.`flipper_length_mm`,\\n    t0.`body_mass_g`,\\n    t0.`sex`,\\n    (\\n      row_number() OVER (ORDER BY t0.`bigframes_ordering_2` IS NULL ASC, t0.`bigframes_ordering_2` ASC, t0.`bigframes_ordering_3` IS NULL ASC, t0.`bigframes_ordering_3` ASC, t0.`bigframes_ordering_4` IS NULL ASC, t0.`bigframes_ordering_4` ASC) - 1\\n    ) AS `bigframes_ordering_id`\\n  FROM t0\\n), t2 AS (\\n  SELECT\\n    t1.`species`,\\n    t1.`island`,\\n    t1.`culmen_length_mm`,\\n    t1.`culmen_depth_mm`,\\n    t1.`flipper_length_mm`,\\n    t1.`body_mass_g`,\\n    t1.`sex`,\\n    t1.`bigframes_ordering_id`\\n  FROM t1\\n), t3 AS (\\n  SELECT\\n    t2.`species` AS `col_11`,\\n    t2.`island` AS `col_12`,\\n    t2.`culmen_length_mm` AS `col_13`,\\n    t2.`culmen_length_mm` < 40 AS `bigframes_predicate`\\n  FROM t2\\n), t4 AS (\\n  SELECT\\n    t3.*\\n  FROM t3\\n  WHERE\\n    t3.`bigframes_predicate`\\n)\\nSELECT\\n  t5.`col_11` AS `species`,\\n  t5.`col_12` AS `island`,\\n  t5.`col_13` AS `culmen_length_mm`\\nFROM (\\n  SELECT\\n    t4.`col_11`,\\n    t4.`col_12`,\\n    t4.`col_13`\\n  FROM t4\\n) AS t5\""
      ]
     },
     "execution_count": 62,
     "metadata": {},
     "output_type": "execute_result"
    }
   ],
   "source": [
    "df.sql"
   ]
  },
  {
   "cell_type": "code",
   "execution_count": 71,
   "metadata": {},
   "outputs": [
    {
     "name": "stdout",
     "output_type": "stream",
     "text": [
      "DONE\n",
      "{'reason': 'stopped', 'debugInfo': '[CANCELLED] errorProto=code: \"JOB_CANCELLED\"\\nargument: \"User requested cancellation\"\\n\\n\\tat com.google.cloud.helix.common.Exceptions$Public.jobCancelled(Exceptions.java:947)\\n\\tat com.google.cloud.helix.common.Exceptions.fromCancelRequest(Exceptions.java:2101)\\n\\tat com.google.cloud.helix.common.Exceptions.fromCancelRequest(Exceptions.java:2117)\\n\\tat com.google.cloud.helix.server.job.LocalJobController.heartbeat(LocalJobController.java:786)\\n\\tat com.google.cloud.helix.server.job.JobControllerModule$1.heartbeat(JobControllerModule.java:866)\\n\\tat com.google.cloud.helix.server.job.JobStateMachine$1.heartbeat(JobStateMachine.java:3800)\\n\\tat com.google.cloud.helix.server.job.JobStateMachine.heartbeatInternal(JobStateMachine.java:3476)\\n\\tat com.google.cloud.helix.server.job.JobStateMachine.lambda$heartbeat$12(JobStateMachine.java:2733)\\n\\tat com.google.cloud.helix.common.HelixFutures.wrapSynchronousCall(HelixFutures.java:96)\\n\\tat com.google.cloud.helix.server.job.JobStateMachine.lambda$runStateSync$13(JobStateMachine.java:2883)\\n\\tat com.google.cloud.helix.server.job.JobStateMachine.runState(JobStateMachine.java:2901)\\n\\tat com.google.cloud.helix.server.job.JobStateMachine.runStateSync(JobStateMachine.java:2883)\\n\\tat com.google.cloud.helix.server.job.JobStateMachine.heartbeat(JobStateMachine.java:2733)\\n\\tat com.google.cloud.helix.server.job.JobStateMachine.heartbeat(JobStateMachine.java:2708)\\n\\tat com.google.cloud.helix.server.job.JobJanitor.heartbeatJob(JobJanitor.java:1294)\\n\\tat com.google.cloud.helix.server.job.JobJanitor.lambda$checkOneJob$1(JobJanitor.java:1266)\\n\\tat com.google.common.util.concurrent.TrustedListenableFutureTask$TrustedFutureInterruptibleTask.runInterruptibly(TrustedListenableFutureTask.java:135)\\n\\tat com.google.common.util.concurrent.InterruptibleTask.run(InterruptibleTask.java:77)\\n\\tat com.google.common.util.concurrent.TrustedListenableFutureTask.run(TrustedListenableFutureTask.java:86)\\n\\tat com.google.common.context.ContextRunnable.runInContext(ContextRunnable.java:83)\\n\\tat io.grpc.Context.run(Context.java:536)\\n\\tat com.google.tracing.GenericContextCallback.runInInheritedContext(GenericContextCallback.java:75)\\n\\tat com.google.common.context.ContextRunnable.run(ContextRunnable.java:74)\\n\\tat java.base/java.util.concurrent.ThreadPoolExecutor.runWorker(Unknown Source)\\n\\tat java.base/java.util.concurrent.ThreadPoolExecutor$Worker.run(Unknown Source)\\n\\tat java.base/java.lang.Thread.run(Unknown Source)\\n'}\n"
     ]
    }
   ],
   "source": [
    "print(query_job.state)\n",
    "print(query_job.error_result)"
   ]
  },
  {
   "cell_type": "code",
   "execution_count": 68,
   "metadata": {},
   "outputs": [
    {
     "data": {
      "text/plain": [
       "True"
      ]
     },
     "execution_count": 68,
     "metadata": {},
     "output_type": "execute_result"
    }
   ],
   "source": [
    "query_job.cancel()"
   ]
  },
  {
   "cell_type": "code",
   "execution_count": 66,
   "metadata": {},
   "outputs": [
    {
     "name": "stderr",
     "output_type": "stream",
     "text": [
      "/usr/local/google/home/garrettwu/src/bigframes/bigframes/streaming/__init__.py:101: PreviewWarning: The bigframes.streaming module is a preview feature, and subject to change.\n",
      "  warnings.warn(\n"
     ]
    }
   ],
   "source": [
    "query_job1 = bigframes.streaming.to_bigtable(\n",
    "    \"SELECT * FROM birds.penguins_bigtable_streaming\",\n",
    "    instance=\"streaming-testing-instance\",\n",
    "    table=\"garrettwu-testing\",\n",
    "    service_account_email=\"streaming-testing@bigframes-load-testing.iam.gserviceaccount.com\",\n",
    "    app_profile=None,\n",
    "    truncate=True,\n",
    "    overwrite=True,\n",
    "    auto_create_column_families=True,\n",
    "    bigtable_options={},\n",
    "    job_id=None,\n",
    "    job_id_prefix=job_id_prefix,\n",
    ")"
   ]
  },
  {
   "cell_type": "code",
   "execution_count": 82,
   "metadata": {},
   "outputs": [
    {
     "name": "stdout",
     "output_type": "stream",
     "text": [
      "DONE\n",
      "{'reason': 'stopped', 'debugInfo': '[CANCELLED] errorProto=code: \"JOB_CANCELLED\"\\nargument: \"User requested cancellation\"\\n\\n\\tat com.google.cloud.helix.common.Exceptions$Public.jobCancelled(Exceptions.java:947)\\n\\tat com.google.cloud.helix.common.Exceptions.fromCancelRequest(Exceptions.java:2101)\\n\\tat com.google.cloud.helix.common.Exceptions.fromCancelRequest(Exceptions.java:2117)\\n\\tat com.google.cloud.helix.server.job.LocalJobController.heartbeat(LocalJobController.java:786)\\n\\tat com.google.cloud.helix.server.job.JobControllerModule$1.heartbeat(JobControllerModule.java:866)\\n\\tat com.google.cloud.helix.server.job.JobStateMachine$1.heartbeat(JobStateMachine.java:3800)\\n\\tat com.google.cloud.helix.server.job.JobStateMachine.heartbeatInternal(JobStateMachine.java:3476)\\n\\tat com.google.cloud.helix.server.job.JobStateMachine.lambda$heartbeat$12(JobStateMachine.java:2733)\\n\\tat com.google.cloud.helix.common.HelixFutures.wrapSynchronousCall(HelixFutures.java:96)\\n\\tat com.google.cloud.helix.server.job.JobStateMachine.lambda$runStateSync$13(JobStateMachine.java:2883)\\n\\tat com.google.cloud.helix.server.job.JobStateMachine.runState(JobStateMachine.java:2901)\\n\\tat com.google.cloud.helix.server.job.JobStateMachine.runStateSync(JobStateMachine.java:2883)\\n\\tat com.google.cloud.helix.server.job.JobStateMachine.heartbeat(JobStateMachine.java:2733)\\n\\tat com.google.cloud.helix.server.job.JobStateMachine.heartbeat(JobStateMachine.java:2708)\\n\\tat com.google.cloud.helix.server.job.JobJanitor.heartbeatJob(JobJanitor.java:1294)\\n\\tat com.google.cloud.helix.server.job.JobJanitor.lambda$checkOneJob$1(JobJanitor.java:1266)\\n\\tat com.google.common.util.concurrent.TrustedListenableFutureTask$TrustedFutureInterruptibleTask.runInterruptibly(TrustedListenableFutureTask.java:135)\\n\\tat com.google.common.util.concurrent.InterruptibleTask.run(InterruptibleTask.java:77)\\n\\tat com.google.common.util.concurrent.TrustedListenableFutureTask.run(TrustedListenableFutureTask.java:86)\\n\\tat com.google.common.context.ContextRunnable.runInContext(ContextRunnable.java:83)\\n\\tat io.grpc.Context.run(Context.java:536)\\n\\tat com.google.tracing.GenericContextCallback.runInInheritedContext(GenericContextCallback.java:75)\\n\\tat com.google.common.context.ContextRunnable.run(ContextRunnable.java:74)\\n\\tat java.base/java.util.concurrent.ThreadPoolExecutor.runWorker(Unknown Source)\\n\\tat java.base/java.util.concurrent.ThreadPoolExecutor$Worker.run(Unknown Source)\\n\\tat java.base/java.lang.Thread.run(Unknown Source)\\n'}\n"
     ]
    }
   ],
   "source": [
    "print(query_job1.state)\n",
    "print(query_job1.error_result)"
   ]
  },
  {
   "cell_type": "code",
   "execution_count": 81,
   "metadata": {},
   "outputs": [
    {
     "data": {
      "text/plain": [
       "True"
      ]
     },
     "execution_count": 81,
     "metadata": {},
     "output_type": "execute_result"
    }
   ],
   "source": [
    "query_job1.cancel()"
   ]
  },
  {
   "cell_type": "code",
   "execution_count": 3,
   "metadata": {},
   "outputs": [],
   "source": [
    "df = bpd.read_gbq(\"birds.penguins_bigtable_streaming\")\n",
    "df = df[[\"body_mass_g\", \"island\"]]"
   ]
  },
  {
   "cell_type": "code",
   "execution_count": null,
   "metadata": {},
   "outputs": [],
   "source": [
    "df = bpd.read_gbq(\"birds.penguins_bigtable_streaming\")\n",
    "df = df[[\"body_mass_g\", \"island\"]]"
   ]
  },
  {
   "cell_type": "code",
   "execution_count": 4,
   "metadata": {},
   "outputs": [
    {
     "name": "stderr",
     "output_type": "stream",
     "text": [
      "/usr/local/google/home/garrettwu/.pyenv/versions/3.10.9/lib/python3.10/site-packages/IPython/core/interactiveshell.py:3526: UserWarning: Reading cached table from 2024-07-23 22:19:58.935137+00:00 to avoid incompatibilies with previous reads of this table. To read the latest version, set `use_cache=False` or close the current session with Session.close() or bigframes.pandas.close_session().\n",
      "  exec(code_obj, self.user_global_ns, self.user_ns)\n"
     ]
    }
   ],
   "source": [
    "df1 = bpd.read_gbq(\"birds.penguins_bigtable_streaming\")\n",
    "df1 = df1[[\"culmen_length_mm\"]]"
   ]
  },
  {
   "cell_type": "code",
   "execution_count": 5,
   "metadata": {},
   "outputs": [],
   "source": [
    "df2 = df.join(df1)"
   ]
  },
  {
   "cell_type": "code",
   "execution_count": 6,
   "metadata": {},
   "outputs": [
    {
     "data": {
      "text/html": [
       "Query job 00aebb22-e89f-48d5-ab79-a3d8a3e6f126 is DONE. 28.9 kB processed. <a target=\"_blank\" href=\"https://console.cloud.google.com/bigquery?project=bigframes-load-testing&j=bq:US:00aebb22-e89f-48d5-ab79-a3d8a3e6f126&page=queryresults\">Open Job</a>"
      ],
      "text/plain": [
       "<IPython.core.display.HTML object>"
      ]
     },
     "metadata": {},
     "output_type": "display_data"
    },
    {
     "data": {
      "text/html": [
       "Query job 87e83896-f6e4-47b8-bf43-4fdacb32dbe4 is DONE. 28.9 kB processed. <a target=\"_blank\" href=\"https://console.cloud.google.com/bigquery?project=bigframes-load-testing&j=bq:US:87e83896-f6e4-47b8-bf43-4fdacb32dbe4&page=queryresults\">Open Job</a>"
      ],
      "text/plain": [
       "<IPython.core.display.HTML object>"
      ]
     },
     "metadata": {},
     "output_type": "display_data"
    },
    {
     "data": {
      "text/html": [
       "<div>\n",
       "<style scoped>\n",
       "    .dataframe tbody tr th:only-of-type {\n",
       "        vertical-align: middle;\n",
       "    }\n",
       "\n",
       "    .dataframe tbody tr th {\n",
       "        vertical-align: top;\n",
       "    }\n",
       "\n",
       "    .dataframe thead th {\n",
       "        text-align: right;\n",
       "    }\n",
       "</style>\n",
       "<table border=\"1\" class=\"dataframe\">\n",
       "  <thead>\n",
       "    <tr style=\"text-align: right;\">\n",
       "      <th></th>\n",
       "      <th>body_mass_g</th>\n",
       "      <th>island</th>\n",
       "      <th>culmen_length_mm</th>\n",
       "    </tr>\n",
       "  </thead>\n",
       "  <tbody>\n",
       "    <tr>\n",
       "      <th>0</th>\n",
       "      <td>5400</td>\n",
       "      <td>Biscoe</td>\n",
       "      <td>50.5</td>\n",
       "    </tr>\n",
       "    <tr>\n",
       "      <th>1</th>\n",
       "      <td>5000</td>\n",
       "      <td>Biscoe</td>\n",
       "      <td>45.1</td>\n",
       "    </tr>\n",
       "    <tr>\n",
       "      <th>2</th>\n",
       "      <td>3875</td>\n",
       "      <td>Torgersen</td>\n",
       "      <td>41.4</td>\n",
       "    </tr>\n",
       "    <tr>\n",
       "      <th>3</th>\n",
       "      <td>2900</td>\n",
       "      <td>Torgersen</td>\n",
       "      <td>38.6</td>\n",
       "    </tr>\n",
       "    <tr>\n",
       "      <th>4</th>\n",
       "      <td>5200</td>\n",
       "      <td>Biscoe</td>\n",
       "      <td>46.5</td>\n",
       "    </tr>\n",
       "    <tr>\n",
       "      <th>5</th>\n",
       "      <td>3725</td>\n",
       "      <td>Biscoe</td>\n",
       "      <td>35.0</td>\n",
       "    </tr>\n",
       "    <tr>\n",
       "      <th>6</th>\n",
       "      <td>2975</td>\n",
       "      <td>Dream</td>\n",
       "      <td>37.5</td>\n",
       "    </tr>\n",
       "    <tr>\n",
       "      <th>7</th>\n",
       "      <td>4150</td>\n",
       "      <td>Biscoe</td>\n",
       "      <td>42.0</td>\n",
       "    </tr>\n",
       "    <tr>\n",
       "      <th>8</th>\n",
       "      <td>5300</td>\n",
       "      <td>Biscoe</td>\n",
       "      <td>48.5</td>\n",
       "    </tr>\n",
       "    <tr>\n",
       "      <th>9</th>\n",
       "      <td>4150</td>\n",
       "      <td>Torgersen</td>\n",
       "      <td>45.8</td>\n",
       "    </tr>\n",
       "    <tr>\n",
       "      <th>10</th>\n",
       "      <td>4300</td>\n",
       "      <td>Dream</td>\n",
       "      <td>49.0</td>\n",
       "    </tr>\n",
       "    <tr>\n",
       "      <th>11</th>\n",
       "      <td>3050</td>\n",
       "      <td>Torgersen</td>\n",
       "      <td>35.9</td>\n",
       "    </tr>\n",
       "    <tr>\n",
       "      <th>12</th>\n",
       "      <td>6000</td>\n",
       "      <td>Biscoe</td>\n",
       "      <td>51.1</td>\n",
       "    </tr>\n",
       "    <tr>\n",
       "      <th>13</th>\n",
       "      <td>4950</td>\n",
       "      <td>Biscoe</td>\n",
       "      <td>42.6</td>\n",
       "    </tr>\n",
       "    <tr>\n",
       "      <th>14</th>\n",
       "      <td>2700</td>\n",
       "      <td>Dream</td>\n",
       "      <td>46.9</td>\n",
       "    </tr>\n",
       "    <tr>\n",
       "      <th>15</th>\n",
       "      <td>3900</td>\n",
       "      <td>Dream</td>\n",
       "      <td>41.1</td>\n",
       "    </tr>\n",
       "    <tr>\n",
       "      <th>16</th>\n",
       "      <td>6300</td>\n",
       "      <td>Biscoe</td>\n",
       "      <td>49.2</td>\n",
       "    </tr>\n",
       "    <tr>\n",
       "      <th>17</th>\n",
       "      <td>3825</td>\n",
       "      <td>Biscoe</td>\n",
       "      <td>38.1</td>\n",
       "    </tr>\n",
       "    <tr>\n",
       "      <th>18</th>\n",
       "      <td>5300</td>\n",
       "      <td>Biscoe</td>\n",
       "      <td>51.3</td>\n",
       "    </tr>\n",
       "    <tr>\n",
       "      <th>19</th>\n",
       "      <td>4900</td>\n",
       "      <td>Biscoe</td>\n",
       "      <td>43.6</td>\n",
       "    </tr>\n",
       "    <tr>\n",
       "      <th>20</th>\n",
       "      <td>4700</td>\n",
       "      <td>Biscoe</td>\n",
       "      <td>42.8</td>\n",
       "    </tr>\n",
       "    <tr>\n",
       "      <th>21</th>\n",
       "      <td>3775</td>\n",
       "      <td>Dream</td>\n",
       "      <td>50.2</td>\n",
       "    </tr>\n",
       "    <tr>\n",
       "      <th>22</th>\n",
       "      <td>3350</td>\n",
       "      <td>Dream</td>\n",
       "      <td>37.3</td>\n",
       "    </tr>\n",
       "    <tr>\n",
       "      <th>23</th>\n",
       "      <td>&lt;NA&gt;</td>\n",
       "      <td>Biscoe</td>\n",
       "      <td>&lt;NA&gt;</td>\n",
       "    </tr>\n",
       "    <tr>\n",
       "      <th>24</th>\n",
       "      <td>3900</td>\n",
       "      <td>Biscoe</td>\n",
       "      <td>39.6</td>\n",
       "    </tr>\n",
       "  </tbody>\n",
       "</table>\n",
       "<p>25 rows × 3 columns</p>\n",
       "</div>[344 rows x 3 columns in total]"
      ],
      "text/plain": [
       "    body_mass_g     island  culmen_length_mm\n",
       "0          5400     Biscoe              50.5\n",
       "1          5000     Biscoe              45.1\n",
       "2          3875  Torgersen              41.4\n",
       "3          2900  Torgersen              38.6\n",
       "4          5200     Biscoe              46.5\n",
       "5          3725     Biscoe              35.0\n",
       "6          2975      Dream              37.5\n",
       "7          4150     Biscoe              42.0\n",
       "8          5300     Biscoe              48.5\n",
       "9          4150  Torgersen              45.8\n",
       "10         4300      Dream              49.0\n",
       "11         3050  Torgersen              35.9\n",
       "12         6000     Biscoe              51.1\n",
       "13         4950     Biscoe              42.6\n",
       "14         2700      Dream              46.9\n",
       "15         3900      Dream              41.1\n",
       "16         6300     Biscoe              49.2\n",
       "17         3825     Biscoe              38.1\n",
       "18         5300     Biscoe              51.3\n",
       "19         4900     Biscoe              43.6\n",
       "20         4700     Biscoe              42.8\n",
       "21         3775      Dream              50.2\n",
       "22         3350      Dream              37.3\n",
       "23         <NA>     Biscoe              <NA>\n",
       "24         3900     Biscoe              39.6\n",
       "...\n",
       "\n",
       "[344 rows x 3 columns]"
      ]
     },
     "execution_count": 6,
     "metadata": {},
     "output_type": "execute_result"
    }
   ],
   "source": [
    "df2"
   ]
  },
  {
   "cell_type": "code",
   "execution_count": 7,
   "metadata": {},
   "outputs": [
    {
     "data": {
      "text/plain": [
       "\"WITH t0 AS (\\n  SELECT\\n    t8.`species`,\\n    t8.`island`,\\n    t8.`culmen_length_mm`,\\n    t8.`culmen_depth_mm`,\\n    t8.`flipper_length_mm`,\\n    t8.`body_mass_g`,\\n    t8.`sex`,\\n    farm_fingerprint(\\n      CONCAT(\\n        CONCAT('\\\\\\\\', REPLACE(coalesce(t8.`species`, ''), '\\\\\\\\', '\\\\\\\\\\\\\\\\')),\\n        CONCAT('\\\\\\\\', REPLACE(coalesce(t8.`island`, ''), '\\\\\\\\', '\\\\\\\\\\\\\\\\')),\\n        CONCAT('\\\\\\\\', REPLACE(coalesce(CAST(t8.`culmen_length_mm` AS STRING), ''), '\\\\\\\\', '\\\\\\\\\\\\\\\\')),\\n        CONCAT('\\\\\\\\', REPLACE(coalesce(CAST(t8.`culmen_depth_mm` AS STRING), ''), '\\\\\\\\', '\\\\\\\\\\\\\\\\')),\\n        CONCAT('\\\\\\\\', REPLACE(coalesce(CAST(t8.`flipper_length_mm` AS STRING), ''), '\\\\\\\\', '\\\\\\\\\\\\\\\\')),\\n        CONCAT('\\\\\\\\', REPLACE(coalesce(CAST(t8.`body_mass_g` AS STRING), ''), '\\\\\\\\', '\\\\\\\\\\\\\\\\')),\\n        CONCAT('\\\\\\\\', REPLACE(coalesce(t8.`sex`, ''), '\\\\\\\\', '\\\\\\\\\\\\\\\\'))\\n      )\\n    ) AS `bigframes_ordering_8`,\\n    farm_fingerprint(\\n      CONCAT(\\n        CONCAT(\\n          CONCAT('\\\\\\\\', REPLACE(coalesce(t8.`species`, ''), '\\\\\\\\', '\\\\\\\\\\\\\\\\')),\\n          CONCAT('\\\\\\\\', REPLACE(coalesce(t8.`island`, ''), '\\\\\\\\', '\\\\\\\\\\\\\\\\')),\\n          CONCAT('\\\\\\\\', REPLACE(coalesce(CAST(t8.`culmen_length_mm` AS STRING), ''), '\\\\\\\\', '\\\\\\\\\\\\\\\\')),\\n          CONCAT('\\\\\\\\', REPLACE(coalesce(CAST(t8.`culmen_depth_mm` AS STRING), ''), '\\\\\\\\', '\\\\\\\\\\\\\\\\')),\\n          CONCAT('\\\\\\\\', REPLACE(coalesce(CAST(t8.`flipper_length_mm` AS STRING), ''), '\\\\\\\\', '\\\\\\\\\\\\\\\\')),\\n          CONCAT('\\\\\\\\', REPLACE(coalesce(CAST(t8.`body_mass_g` AS STRING), ''), '\\\\\\\\', '\\\\\\\\\\\\\\\\')),\\n          CONCAT('\\\\\\\\', REPLACE(coalesce(t8.`sex`, ''), '\\\\\\\\', '\\\\\\\\\\\\\\\\'))\\n        ),\\n        '_'\\n      )\\n    ) AS `bigframes_ordering_9`,\\n    RAND() AS `bigframes_ordering_10`\\n  FROM `bigframes-load-testing`.birds.penguins_bigtable_streaming AS t8\\n), t1 AS (\\n  SELECT\\n    t0.`species`,\\n    t0.`island`,\\n    t0.`culmen_length_mm`,\\n    t0.`culmen_depth_mm`,\\n    t0.`flipper_length_mm`,\\n    t0.`body_mass_g`,\\n    t0.`sex`,\\n    (\\n      row_number() OVER (ORDER BY t0.`bigframes_ordering_8` IS NULL ASC, t0.`bigframes_ordering_8` ASC, t0.`bigframes_ordering_9` IS NULL ASC, t0.`bigframes_ordering_9` ASC, t0.`bigframes_ordering_10` IS NULL ASC, t0.`bigframes_ordering_10` ASC) - 1\\n    ) AS `bigframes_ordering_id`\\n  FROM t0\\n), t2 AS (\\n  SELECT\\n    t1.`species`,\\n    t1.`island`,\\n    t1.`culmen_length_mm`,\\n    t1.`culmen_depth_mm`,\\n    t1.`flipper_length_mm`,\\n    t1.`body_mass_g`,\\n    t1.`sex`,\\n    t1.`bigframes_ordering_id`\\n  FROM t1\\n), t3 AS (\\n  SELECT\\n    t2.`bigframes_ordering_id` AS `index_2`,\\n    t2.`culmen_length_mm`\\n  FROM t2\\n), t4 AS (\\n  SELECT\\n    t2.`bigframes_ordering_id` AS `index_1`,\\n    t2.`body_mass_g`,\\n    t2.`island`\\n  FROM t2\\n), t5 AS (\\n  SELECT\\n    t3.`index_2` AS `col_6`,\\n    t3.`culmen_length_mm` AS `col_7`\\n  FROM t3\\n), t6 AS (\\n  SELECT\\n    t4.`index_1` AS `col_3`,\\n    t4.`body_mass_g` AS `col_4`,\\n    t4.`island` AS `col_5`\\n  FROM t4\\n)\\nSELECT\\n  t7.`col_4` AS `body_mass_g`,\\n  t7.`col_5` AS `island`,\\n  t7.`col_7` AS `culmen_length_mm`\\nFROM (\\n  SELECT\\n    `col_4`,\\n    `col_5`,\\n    `col_7`\\n  FROM t6\\n  LEFT OUTER JOIN t5\\n    ON coalesce(CAST(t6.`col_3` AS STRING), '$NULL_SENTINEL$') = coalesce(CAST(t5.`col_6` AS STRING), '$NULL_SENTINEL$')\\n) AS t7\""
      ]
     },
     "execution_count": 7,
     "metadata": {},
     "output_type": "execute_result"
    }
   ],
   "source": [
    "df2.sql"
   ]
  },
  {
   "cell_type": "code",
   "execution_count": 11,
   "metadata": {},
   "outputs": [
    {
     "name": "stderr",
     "output_type": "stream",
     "text": [
      "/usr/local/google/home/garrettwu/.pyenv/versions/3.10.9/lib/python3.10/site-packages/IPython/core/interactiveshell.py:3526: UserWarning: Reading cached table from 2024-07-23 22:19:58.935137+00:00 to avoid incompatibilies with previous reads of this table. To read the latest version, set `use_cache=False` or close the current session with Session.close() or bigframes.pandas.close_session().\n",
      "  exec(code_obj, self.user_global_ns, self.user_ns)\n"
     ]
    }
   ],
   "source": [
    "df = bpd.read_gbq(\"birds.penguins_bigtable_streaming\")\n",
    "df = df[[\"body_mass_g\", \"culmen_length_mm\", \"island\"]]"
   ]
  },
  {
   "cell_type": "code",
   "execution_count": 12,
   "metadata": {},
   "outputs": [
    {
     "data": {
      "text/html": [
       "Query job e706bb4d-bb5f-40b6-9f93-9d577c13d759 is DONE. 0 Bytes processed. <a target=\"_blank\" href=\"https://console.cloud.google.com/bigquery?project=bigframes-load-testing&j=bq:US:e706bb4d-bb5f-40b6-9f93-9d577c13d759&page=queryresults\">Open Job</a>"
      ],
      "text/plain": [
       "<IPython.core.display.HTML object>"
      ]
     },
     "metadata": {},
     "output_type": "display_data"
    },
    {
     "data": {
      "text/html": [
       "Query job d323336e-ad32-4e25-92a7-ecd0ed58fd61 is DONE. 28.9 kB processed. <a target=\"_blank\" href=\"https://console.cloud.google.com/bigquery?project=bigframes-load-testing&j=bq:US:d323336e-ad32-4e25-92a7-ecd0ed58fd61&page=queryresults\">Open Job</a>"
      ],
      "text/plain": [
       "<IPython.core.display.HTML object>"
      ]
     },
     "metadata": {},
     "output_type": "display_data"
    },
    {
     "data": {
      "text/html": [
       "<div>\n",
       "<style scoped>\n",
       "    .dataframe tbody tr th:only-of-type {\n",
       "        vertical-align: middle;\n",
       "    }\n",
       "\n",
       "    .dataframe tbody tr th {\n",
       "        vertical-align: top;\n",
       "    }\n",
       "\n",
       "    .dataframe thead th {\n",
       "        text-align: right;\n",
       "    }\n",
       "</style>\n",
       "<table border=\"1\" class=\"dataframe\">\n",
       "  <thead>\n",
       "    <tr style=\"text-align: right;\">\n",
       "      <th></th>\n",
       "      <th>body_mass_g</th>\n",
       "      <th>culmen_length_mm</th>\n",
       "      <th>rowkey</th>\n",
       "    </tr>\n",
       "  </thead>\n",
       "  <tbody>\n",
       "    <tr>\n",
       "      <th>0</th>\n",
       "      <td>5400</td>\n",
       "      <td>50.5</td>\n",
       "      <td>Biscoe</td>\n",
       "    </tr>\n",
       "    <tr>\n",
       "      <th>1</th>\n",
       "      <td>5000</td>\n",
       "      <td>45.1</td>\n",
       "      <td>Biscoe</td>\n",
       "    </tr>\n",
       "    <tr>\n",
       "      <th>2</th>\n",
       "      <td>3875</td>\n",
       "      <td>41.4</td>\n",
       "      <td>Torgersen</td>\n",
       "    </tr>\n",
       "    <tr>\n",
       "      <th>3</th>\n",
       "      <td>2900</td>\n",
       "      <td>38.6</td>\n",
       "      <td>Torgersen</td>\n",
       "    </tr>\n",
       "    <tr>\n",
       "      <th>4</th>\n",
       "      <td>5200</td>\n",
       "      <td>46.5</td>\n",
       "      <td>Biscoe</td>\n",
       "    </tr>\n",
       "    <tr>\n",
       "      <th>5</th>\n",
       "      <td>3725</td>\n",
       "      <td>35.0</td>\n",
       "      <td>Biscoe</td>\n",
       "    </tr>\n",
       "    <tr>\n",
       "      <th>6</th>\n",
       "      <td>2975</td>\n",
       "      <td>37.5</td>\n",
       "      <td>Dream</td>\n",
       "    </tr>\n",
       "    <tr>\n",
       "      <th>7</th>\n",
       "      <td>4150</td>\n",
       "      <td>42.0</td>\n",
       "      <td>Biscoe</td>\n",
       "    </tr>\n",
       "    <tr>\n",
       "      <th>8</th>\n",
       "      <td>5300</td>\n",
       "      <td>48.5</td>\n",
       "      <td>Biscoe</td>\n",
       "    </tr>\n",
       "    <tr>\n",
       "      <th>9</th>\n",
       "      <td>4150</td>\n",
       "      <td>45.8</td>\n",
       "      <td>Torgersen</td>\n",
       "    </tr>\n",
       "    <tr>\n",
       "      <th>10</th>\n",
       "      <td>4300</td>\n",
       "      <td>49.0</td>\n",
       "      <td>Dream</td>\n",
       "    </tr>\n",
       "    <tr>\n",
       "      <th>11</th>\n",
       "      <td>3050</td>\n",
       "      <td>35.9</td>\n",
       "      <td>Torgersen</td>\n",
       "    </tr>\n",
       "    <tr>\n",
       "      <th>12</th>\n",
       "      <td>6000</td>\n",
       "      <td>51.1</td>\n",
       "      <td>Biscoe</td>\n",
       "    </tr>\n",
       "    <tr>\n",
       "      <th>13</th>\n",
       "      <td>4950</td>\n",
       "      <td>42.6</td>\n",
       "      <td>Biscoe</td>\n",
       "    </tr>\n",
       "    <tr>\n",
       "      <th>14</th>\n",
       "      <td>2700</td>\n",
       "      <td>46.9</td>\n",
       "      <td>Dream</td>\n",
       "    </tr>\n",
       "    <tr>\n",
       "      <th>15</th>\n",
       "      <td>3900</td>\n",
       "      <td>41.1</td>\n",
       "      <td>Dream</td>\n",
       "    </tr>\n",
       "    <tr>\n",
       "      <th>16</th>\n",
       "      <td>6300</td>\n",
       "      <td>49.2</td>\n",
       "      <td>Biscoe</td>\n",
       "    </tr>\n",
       "    <tr>\n",
       "      <th>17</th>\n",
       "      <td>3825</td>\n",
       "      <td>38.1</td>\n",
       "      <td>Biscoe</td>\n",
       "    </tr>\n",
       "    <tr>\n",
       "      <th>18</th>\n",
       "      <td>5300</td>\n",
       "      <td>51.3</td>\n",
       "      <td>Biscoe</td>\n",
       "    </tr>\n",
       "    <tr>\n",
       "      <th>19</th>\n",
       "      <td>4900</td>\n",
       "      <td>43.6</td>\n",
       "      <td>Biscoe</td>\n",
       "    </tr>\n",
       "    <tr>\n",
       "      <th>20</th>\n",
       "      <td>4700</td>\n",
       "      <td>42.8</td>\n",
       "      <td>Biscoe</td>\n",
       "    </tr>\n",
       "    <tr>\n",
       "      <th>21</th>\n",
       "      <td>3775</td>\n",
       "      <td>50.2</td>\n",
       "      <td>Dream</td>\n",
       "    </tr>\n",
       "    <tr>\n",
       "      <th>22</th>\n",
       "      <td>3350</td>\n",
       "      <td>37.3</td>\n",
       "      <td>Dream</td>\n",
       "    </tr>\n",
       "    <tr>\n",
       "      <th>23</th>\n",
       "      <td>&lt;NA&gt;</td>\n",
       "      <td>&lt;NA&gt;</td>\n",
       "      <td>Biscoe</td>\n",
       "    </tr>\n",
       "    <tr>\n",
       "      <th>24</th>\n",
       "      <td>3900</td>\n",
       "      <td>39.6</td>\n",
       "      <td>Biscoe</td>\n",
       "    </tr>\n",
       "  </tbody>\n",
       "</table>\n",
       "<p>25 rows × 3 columns</p>\n",
       "</div>[344 rows x 3 columns in total]"
      ],
      "text/plain": [
       "    body_mass_g  culmen_length_mm     rowkey\n",
       "0          5400              50.5     Biscoe\n",
       "1          5000              45.1     Biscoe\n",
       "2          3875              41.4  Torgersen\n",
       "3          2900              38.6  Torgersen\n",
       "4          5200              46.5     Biscoe\n",
       "5          3725              35.0     Biscoe\n",
       "6          2975              37.5      Dream\n",
       "7          4150              42.0     Biscoe\n",
       "8          5300              48.5     Biscoe\n",
       "9          4150              45.8  Torgersen\n",
       "10         4300              49.0      Dream\n",
       "11         3050              35.9  Torgersen\n",
       "12         6000              51.1     Biscoe\n",
       "13         4950              42.6     Biscoe\n",
       "14         2700              46.9      Dream\n",
       "15         3900              41.1      Dream\n",
       "16         6300              49.2     Biscoe\n",
       "17         3825              38.1     Biscoe\n",
       "18         5300              51.3     Biscoe\n",
       "19         4900              43.6     Biscoe\n",
       "20         4700              42.8     Biscoe\n",
       "21         3775              50.2      Dream\n",
       "22         3350              37.3      Dream\n",
       "23         <NA>              <NA>     Biscoe\n",
       "24         3900              39.6     Biscoe\n",
       "...\n",
       "\n",
       "[344 rows x 3 columns]"
      ]
     },
     "execution_count": 12,
     "metadata": {},
     "output_type": "execute_result"
    }
   ],
   "source": [
    "df = df.rename(columns={\"island\": \"rowkey\"})\n",
    "df"
   ]
  },
  {
   "cell_type": "code",
   "execution_count": 13,
   "metadata": {},
   "outputs": [
    {
     "data": {
      "text/html": [
       "Query job 63443e49-f4a6-4966-96b0-bc36377e0efc is DONE. 2.7 kB processed. <a target=\"_blank\" href=\"https://console.cloud.google.com/bigquery?project=bigframes-load-testing&j=bq:US:63443e49-f4a6-4966-96b0-bc36377e0efc&page=queryresults\">Open Job</a>"
      ],
      "text/plain": [
       "<IPython.core.display.HTML object>"
      ]
     },
     "metadata": {},
     "output_type": "display_data"
    },
    {
     "data": {
      "text/html": [
       "Query job 74afa5bf-a67a-49df-9798-548b2c9e89e4 is DONE. 28.9 kB processed. <a target=\"_blank\" href=\"https://console.cloud.google.com/bigquery?project=bigframes-load-testing&j=bq:US:74afa5bf-a67a-49df-9798-548b2c9e89e4&page=queryresults\">Open Job</a>"
      ],
      "text/plain": [
       "<IPython.core.display.HTML object>"
      ]
     },
     "metadata": {},
     "output_type": "display_data"
    },
    {
     "data": {
      "text/html": [
       "<div>\n",
       "<style scoped>\n",
       "    .dataframe tbody tr th:only-of-type {\n",
       "        vertical-align: middle;\n",
       "    }\n",
       "\n",
       "    .dataframe tbody tr th {\n",
       "        vertical-align: top;\n",
       "    }\n",
       "\n",
       "    .dataframe thead th {\n",
       "        text-align: right;\n",
       "    }\n",
       "</style>\n",
       "<table border=\"1\" class=\"dataframe\">\n",
       "  <thead>\n",
       "    <tr style=\"text-align: right;\">\n",
       "      <th></th>\n",
       "      <th>body_mass_g</th>\n",
       "      <th>culmen_length_mm</th>\n",
       "      <th>rowkey</th>\n",
       "    </tr>\n",
       "  </thead>\n",
       "  <tbody>\n",
       "    <tr>\n",
       "      <th>2</th>\n",
       "      <td>3875</td>\n",
       "      <td>41.4</td>\n",
       "      <td>Torgersen</td>\n",
       "    </tr>\n",
       "    <tr>\n",
       "      <th>3</th>\n",
       "      <td>2900</td>\n",
       "      <td>38.6</td>\n",
       "      <td>Torgersen</td>\n",
       "    </tr>\n",
       "    <tr>\n",
       "      <th>5</th>\n",
       "      <td>3725</td>\n",
       "      <td>35.0</td>\n",
       "      <td>Biscoe</td>\n",
       "    </tr>\n",
       "    <tr>\n",
       "      <th>6</th>\n",
       "      <td>2975</td>\n",
       "      <td>37.5</td>\n",
       "      <td>Dream</td>\n",
       "    </tr>\n",
       "    <tr>\n",
       "      <th>11</th>\n",
       "      <td>3050</td>\n",
       "      <td>35.9</td>\n",
       "      <td>Torgersen</td>\n",
       "    </tr>\n",
       "    <tr>\n",
       "      <th>14</th>\n",
       "      <td>2700</td>\n",
       "      <td>46.9</td>\n",
       "      <td>Dream</td>\n",
       "    </tr>\n",
       "    <tr>\n",
       "      <th>15</th>\n",
       "      <td>3900</td>\n",
       "      <td>41.1</td>\n",
       "      <td>Dream</td>\n",
       "    </tr>\n",
       "    <tr>\n",
       "      <th>17</th>\n",
       "      <td>3825</td>\n",
       "      <td>38.1</td>\n",
       "      <td>Biscoe</td>\n",
       "    </tr>\n",
       "    <tr>\n",
       "      <th>21</th>\n",
       "      <td>3775</td>\n",
       "      <td>50.2</td>\n",
       "      <td>Dream</td>\n",
       "    </tr>\n",
       "    <tr>\n",
       "      <th>22</th>\n",
       "      <td>3350</td>\n",
       "      <td>37.3</td>\n",
       "      <td>Dream</td>\n",
       "    </tr>\n",
       "    <tr>\n",
       "      <th>24</th>\n",
       "      <td>3900</td>\n",
       "      <td>39.6</td>\n",
       "      <td>Biscoe</td>\n",
       "    </tr>\n",
       "    <tr>\n",
       "      <th>25</th>\n",
       "      <td>3650</td>\n",
       "      <td>39.3</td>\n",
       "      <td>Torgersen</td>\n",
       "    </tr>\n",
       "    <tr>\n",
       "      <th>26</th>\n",
       "      <td>3200</td>\n",
       "      <td>40.5</td>\n",
       "      <td>Biscoe</td>\n",
       "    </tr>\n",
       "    <tr>\n",
       "      <th>27</th>\n",
       "      <td>3650</td>\n",
       "      <td>45.7</td>\n",
       "      <td>Dream</td>\n",
       "    </tr>\n",
       "    <tr>\n",
       "      <th>28</th>\n",
       "      <td>3700</td>\n",
       "      <td>38.1</td>\n",
       "      <td>Dream</td>\n",
       "    </tr>\n",
       "    <tr>\n",
       "      <th>30</th>\n",
       "      <td>3800</td>\n",
       "      <td>46.6</td>\n",
       "      <td>Dream</td>\n",
       "    </tr>\n",
       "    <tr>\n",
       "      <th>32</th>\n",
       "      <td>3950</td>\n",
       "      <td>51.9</td>\n",
       "      <td>Dream</td>\n",
       "    </tr>\n",
       "    <tr>\n",
       "      <th>33</th>\n",
       "      <td>3350</td>\n",
       "      <td>42.5</td>\n",
       "      <td>Dream</td>\n",
       "    </tr>\n",
       "    <tr>\n",
       "      <th>36</th>\n",
       "      <td>3100</td>\n",
       "      <td>36.0</td>\n",
       "      <td>Dream</td>\n",
       "    </tr>\n",
       "    <tr>\n",
       "      <th>37</th>\n",
       "      <td>3750</td>\n",
       "      <td>51.3</td>\n",
       "      <td>Dream</td>\n",
       "    </tr>\n",
       "    <tr>\n",
       "      <th>38</th>\n",
       "      <td>3550</td>\n",
       "      <td>40.6</td>\n",
       "      <td>Biscoe</td>\n",
       "    </tr>\n",
       "    <tr>\n",
       "      <th>39</th>\n",
       "      <td>3400</td>\n",
       "      <td>48.5</td>\n",
       "      <td>Dream</td>\n",
       "    </tr>\n",
       "    <tr>\n",
       "      <th>41</th>\n",
       "      <td>3450</td>\n",
       "      <td>40.2</td>\n",
       "      <td>Torgersen</td>\n",
       "    </tr>\n",
       "    <tr>\n",
       "      <th>42</th>\n",
       "      <td>3600</td>\n",
       "      <td>33.5</td>\n",
       "      <td>Torgersen</td>\n",
       "    </tr>\n",
       "    <tr>\n",
       "      <th>48</th>\n",
       "      <td>3650</td>\n",
       "      <td>51.3</td>\n",
       "      <td>Dream</td>\n",
       "    </tr>\n",
       "  </tbody>\n",
       "</table>\n",
       "<p>25 rows × 3 columns</p>\n",
       "</div>[165 rows x 3 columns in total]"
      ],
      "text/plain": [
       "    body_mass_g  culmen_length_mm     rowkey\n",
       "2          3875              41.4  Torgersen\n",
       "3          2900              38.6  Torgersen\n",
       "5          3725              35.0     Biscoe\n",
       "6          2975              37.5      Dream\n",
       "11         3050              35.9  Torgersen\n",
       "14         2700              46.9      Dream\n",
       "15         3900              41.1      Dream\n",
       "17         3825              38.1     Biscoe\n",
       "21         3775              50.2      Dream\n",
       "22         3350              37.3      Dream\n",
       "24         3900              39.6     Biscoe\n",
       "25         3650              39.3  Torgersen\n",
       "26         3200              40.5     Biscoe\n",
       "27         3650              45.7      Dream\n",
       "28         3700              38.1      Dream\n",
       "30         3800              46.6      Dream\n",
       "32         3950              51.9      Dream\n",
       "33         3350              42.5      Dream\n",
       "36         3100              36.0      Dream\n",
       "37         3750              51.3      Dream\n",
       "38         3550              40.6     Biscoe\n",
       "39         3400              48.5      Dream\n",
       "41         3450              40.2  Torgersen\n",
       "42         3600              33.5  Torgersen\n",
       "48         3650              51.3      Dream\n",
       "...\n",
       "\n",
       "[165 rows x 3 columns]"
      ]
     },
     "execution_count": 13,
     "metadata": {},
     "output_type": "execute_result"
    }
   ],
   "source": [
    "df = df[df[\"body_mass_g\"] < 4000]\n",
    "df"
   ]
  },
  {
   "cell_type": "code",
   "execution_count": 14,
   "metadata": {},
   "outputs": [],
   "source": [
    "df = df.sort_values(\"body_mass_g\")"
   ]
  },
  {
   "cell_type": "code",
   "execution_count": 15,
   "metadata": {},
   "outputs": [
    {
     "data": {
      "text/html": [
       "Query job 80a7422e-9a7b-4106-8f2c-528de5e8d6c7 is DONE. 2.7 kB processed. <a target=\"_blank\" href=\"https://console.cloud.google.com/bigquery?project=bigframes-load-testing&j=bq:US:80a7422e-9a7b-4106-8f2c-528de5e8d6c7&page=queryresults\">Open Job</a>"
      ],
      "text/plain": [
       "<IPython.core.display.HTML object>"
      ]
     },
     "metadata": {},
     "output_type": "display_data"
    },
    {
     "data": {
      "text/html": [
       "Query job 387e36fc-7856-4fd4-8d8d-bbdd2bacc319 is DONE. 28.9 kB processed. <a target=\"_blank\" href=\"https://console.cloud.google.com/bigquery?project=bigframes-load-testing&j=bq:US:387e36fc-7856-4fd4-8d8d-bbdd2bacc319&page=queryresults\">Open Job</a>"
      ],
      "text/plain": [
       "<IPython.core.display.HTML object>"
      ]
     },
     "metadata": {},
     "output_type": "display_data"
    },
    {
     "data": {
      "text/html": [
       "<div>\n",
       "<style scoped>\n",
       "    .dataframe tbody tr th:only-of-type {\n",
       "        vertical-align: middle;\n",
       "    }\n",
       "\n",
       "    .dataframe tbody tr th {\n",
       "        vertical-align: top;\n",
       "    }\n",
       "\n",
       "    .dataframe thead th {\n",
       "        text-align: right;\n",
       "    }\n",
       "</style>\n",
       "<table border=\"1\" class=\"dataframe\">\n",
       "  <thead>\n",
       "    <tr style=\"text-align: right;\">\n",
       "      <th></th>\n",
       "      <th>body_mass_g</th>\n",
       "      <th>culmen_length_mm</th>\n",
       "      <th>rowkey</th>\n",
       "    </tr>\n",
       "  </thead>\n",
       "  <tbody>\n",
       "    <tr>\n",
       "      <th>14</th>\n",
       "      <td>2700</td>\n",
       "      <td>46.9</td>\n",
       "      <td>Dream</td>\n",
       "    </tr>\n",
       "    <tr>\n",
       "      <th>153</th>\n",
       "      <td>2850</td>\n",
       "      <td>36.5</td>\n",
       "      <td>Biscoe</td>\n",
       "    </tr>\n",
       "    <tr>\n",
       "      <th>340</th>\n",
       "      <td>2850</td>\n",
       "      <td>36.4</td>\n",
       "      <td>Biscoe</td>\n",
       "    </tr>\n",
       "    <tr>\n",
       "      <th>3</th>\n",
       "      <td>2900</td>\n",
       "      <td>38.6</td>\n",
       "      <td>Torgersen</td>\n",
       "    </tr>\n",
       "    <tr>\n",
       "      <th>255</th>\n",
       "      <td>2900</td>\n",
       "      <td>33.1</td>\n",
       "      <td>Dream</td>\n",
       "    </tr>\n",
       "    <tr>\n",
       "      <th>279</th>\n",
       "      <td>2900</td>\n",
       "      <td>34.5</td>\n",
       "      <td>Biscoe</td>\n",
       "    </tr>\n",
       "    <tr>\n",
       "      <th>288</th>\n",
       "      <td>2900</td>\n",
       "      <td>43.2</td>\n",
       "      <td>Dream</td>\n",
       "    </tr>\n",
       "    <tr>\n",
       "      <th>189</th>\n",
       "      <td>2925</td>\n",
       "      <td>37.9</td>\n",
       "      <td>Biscoe</td>\n",
       "    </tr>\n",
       "    <tr>\n",
       "      <th>6</th>\n",
       "      <td>2975</td>\n",
       "      <td>37.5</td>\n",
       "      <td>Dream</td>\n",
       "    </tr>\n",
       "    <tr>\n",
       "      <th>110</th>\n",
       "      <td>3000</td>\n",
       "      <td>37.0</td>\n",
       "      <td>Dream</td>\n",
       "    </tr>\n",
       "    <tr>\n",
       "      <th>216</th>\n",
       "      <td>3000</td>\n",
       "      <td>37.3</td>\n",
       "      <td>Dream</td>\n",
       "    </tr>\n",
       "    <tr>\n",
       "      <th>11</th>\n",
       "      <td>3050</td>\n",
       "      <td>35.9</td>\n",
       "      <td>Torgersen</td>\n",
       "    </tr>\n",
       "    <tr>\n",
       "      <th>178</th>\n",
       "      <td>3050</td>\n",
       "      <td>39.0</td>\n",
       "      <td>Torgersen</td>\n",
       "    </tr>\n",
       "    <tr>\n",
       "      <th>292</th>\n",
       "      <td>3050</td>\n",
       "      <td>35.2</td>\n",
       "      <td>Torgersen</td>\n",
       "    </tr>\n",
       "    <tr>\n",
       "      <th>314</th>\n",
       "      <td>3050</td>\n",
       "      <td>32.1</td>\n",
       "      <td>Dream</td>\n",
       "    </tr>\n",
       "    <tr>\n",
       "      <th>157</th>\n",
       "      <td>3075</td>\n",
       "      <td>37.7</td>\n",
       "      <td>Biscoe</td>\n",
       "    </tr>\n",
       "    <tr>\n",
       "      <th>36</th>\n",
       "      <td>3100</td>\n",
       "      <td>36.0</td>\n",
       "      <td>Dream</td>\n",
       "    </tr>\n",
       "    <tr>\n",
       "      <th>72</th>\n",
       "      <td>3150</td>\n",
       "      <td>36.5</td>\n",
       "      <td>Dream</td>\n",
       "    </tr>\n",
       "    <tr>\n",
       "      <th>76</th>\n",
       "      <td>3150</td>\n",
       "      <td>36.2</td>\n",
       "      <td>Torgersen</td>\n",
       "    </tr>\n",
       "    <tr>\n",
       "      <th>256</th>\n",
       "      <td>3150</td>\n",
       "      <td>35.7</td>\n",
       "      <td>Biscoe</td>\n",
       "    </tr>\n",
       "    <tr>\n",
       "      <th>286</th>\n",
       "      <td>3150</td>\n",
       "      <td>37.9</td>\n",
       "      <td>Biscoe</td>\n",
       "    </tr>\n",
       "    <tr>\n",
       "      <th>316</th>\n",
       "      <td>3175</td>\n",
       "      <td>38.1</td>\n",
       "      <td>Biscoe</td>\n",
       "    </tr>\n",
       "    <tr>\n",
       "      <th>318</th>\n",
       "      <td>3175</td>\n",
       "      <td>35.6</td>\n",
       "      <td>Dream</td>\n",
       "    </tr>\n",
       "    <tr>\n",
       "      <th>26</th>\n",
       "      <td>3200</td>\n",
       "      <td>40.5</td>\n",
       "      <td>Biscoe</td>\n",
       "    </tr>\n",
       "    <tr>\n",
       "      <th>241</th>\n",
       "      <td>3200</td>\n",
       "      <td>39.7</td>\n",
       "      <td>Biscoe</td>\n",
       "    </tr>\n",
       "  </tbody>\n",
       "</table>\n",
       "<p>25 rows × 3 columns</p>\n",
       "</div>[165 rows x 3 columns in total]"
      ],
      "text/plain": [
       "     body_mass_g  culmen_length_mm     rowkey\n",
       "14          2700              46.9      Dream\n",
       "153         2850              36.5     Biscoe\n",
       "340         2850              36.4     Biscoe\n",
       "3           2900              38.6  Torgersen\n",
       "255         2900              33.1      Dream\n",
       "279         2900              34.5     Biscoe\n",
       "288         2900              43.2      Dream\n",
       "189         2925              37.9     Biscoe\n",
       "6           2975              37.5      Dream\n",
       "110         3000              37.0      Dream\n",
       "216         3000              37.3      Dream\n",
       "11          3050              35.9  Torgersen\n",
       "178         3050              39.0  Torgersen\n",
       "292         3050              35.2  Torgersen\n",
       "314         3050              32.1      Dream\n",
       "157         3075              37.7     Biscoe\n",
       "36          3100              36.0      Dream\n",
       "72          3150              36.5      Dream\n",
       "76          3150              36.2  Torgersen\n",
       "256         3150              35.7     Biscoe\n",
       "286         3150              37.9     Biscoe\n",
       "316         3175              38.1     Biscoe\n",
       "318         3175              35.6      Dream\n",
       "26          3200              40.5     Biscoe\n",
       "241         3200              39.7     Biscoe\n",
       "...\n",
       "\n",
       "[165 rows x 3 columns]"
      ]
     },
     "execution_count": 15,
     "metadata": {},
     "output_type": "execute_result"
    }
   ],
   "source": [
    "df"
   ]
  },
  {
   "cell_type": "code",
   "execution_count": 99,
   "metadata": {},
   "outputs": [
    {
     "data": {
      "text/plain": [
       "\"WITH t0 AS (\\n  SELECT\\n    t6.`species`,\\n    t6.`island`,\\n    t6.`culmen_length_mm`,\\n    t6.`culmen_depth_mm`,\\n    t6.`flipper_length_mm`,\\n    t6.`body_mass_g`,\\n    t6.`sex`,\\n    farm_fingerprint(\\n      CONCAT(\\n        CONCAT('\\\\\\\\', REPLACE(coalesce(t6.`species`, ''), '\\\\\\\\', '\\\\\\\\\\\\\\\\')),\\n        CONCAT('\\\\\\\\', REPLACE(coalesce(t6.`island`, ''), '\\\\\\\\', '\\\\\\\\\\\\\\\\')),\\n        CONCAT('\\\\\\\\', REPLACE(coalesce(CAST(t6.`culmen_length_mm` AS STRING), ''), '\\\\\\\\', '\\\\\\\\\\\\\\\\')),\\n        CONCAT('\\\\\\\\', REPLACE(coalesce(CAST(t6.`culmen_depth_mm` AS STRING), ''), '\\\\\\\\', '\\\\\\\\\\\\\\\\')),\\n        CONCAT('\\\\\\\\', REPLACE(coalesce(CAST(t6.`flipper_length_mm` AS STRING), ''), '\\\\\\\\', '\\\\\\\\\\\\\\\\')),\\n        CONCAT('\\\\\\\\', REPLACE(coalesce(CAST(t6.`body_mass_g` AS STRING), ''), '\\\\\\\\', '\\\\\\\\\\\\\\\\')),\\n        CONCAT('\\\\\\\\', REPLACE(coalesce(t6.`sex`, ''), '\\\\\\\\', '\\\\\\\\\\\\\\\\'))\\n      )\\n    ) AS `bigframes_ordering_3`,\\n    farm_fingerprint(\\n      CONCAT(\\n        CONCAT(\\n          CONCAT('\\\\\\\\', REPLACE(coalesce(t6.`species`, ''), '\\\\\\\\', '\\\\\\\\\\\\\\\\')),\\n          CONCAT('\\\\\\\\', REPLACE(coalesce(t6.`island`, ''), '\\\\\\\\', '\\\\\\\\\\\\\\\\')),\\n          CONCAT('\\\\\\\\', REPLACE(coalesce(CAST(t6.`culmen_length_mm` AS STRING), ''), '\\\\\\\\', '\\\\\\\\\\\\\\\\')),\\n          CONCAT('\\\\\\\\', REPLACE(coalesce(CAST(t6.`culmen_depth_mm` AS STRING), ''), '\\\\\\\\', '\\\\\\\\\\\\\\\\')),\\n          CONCAT('\\\\\\\\', REPLACE(coalesce(CAST(t6.`flipper_length_mm` AS STRING), ''), '\\\\\\\\', '\\\\\\\\\\\\\\\\')),\\n          CONCAT('\\\\\\\\', REPLACE(coalesce(CAST(t6.`body_mass_g` AS STRING), ''), '\\\\\\\\', '\\\\\\\\\\\\\\\\')),\\n          CONCAT('\\\\\\\\', REPLACE(coalesce(t6.`sex`, ''), '\\\\\\\\', '\\\\\\\\\\\\\\\\'))\\n        ),\\n        '_'\\n      )\\n    ) AS `bigframes_ordering_4`,\\n    RAND() AS `bigframes_ordering_5`\\n  FROM `bigframes-load-testing`.birds.penguins_bigtable_streaming AS t6\\n), t1 AS (\\n  SELECT\\n    t0.`species`,\\n    t0.`island`,\\n    t0.`culmen_length_mm`,\\n    t0.`culmen_depth_mm`,\\n    t0.`flipper_length_mm`,\\n    t0.`body_mass_g`,\\n    t0.`sex`,\\n    (\\n      row_number() OVER (ORDER BY t0.`bigframes_ordering_3` IS NULL ASC, t0.`bigframes_ordering_3` ASC, t0.`bigframes_ordering_4` IS NULL ASC, t0.`bigframes_ordering_4` ASC, t0.`bigframes_ordering_5` IS NULL ASC, t0.`bigframes_ordering_5` ASC) - 1\\n    ) AS `bigframes_ordering_id`\\n  FROM t0\\n), t2 AS (\\n  SELECT\\n    t1.`species`,\\n    t1.`island`,\\n    t1.`culmen_length_mm`,\\n    t1.`culmen_depth_mm`,\\n    t1.`flipper_length_mm`,\\n    t1.`body_mass_g`,\\n    t1.`sex`,\\n    t1.`bigframes_ordering_id`\\n  FROM t1\\n), t3 AS (\\n  SELECT\\n    t2.`body_mass_g` AS `col_38`,\\n    t2.`culmen_length_mm` AS `col_39`,\\n    t2.`island` AS `col_40`,\\n    t2.`body_mass_g` < 4000 AS `bigframes_predicate`\\n  FROM t2\\n), t4 AS (\\n  SELECT\\n    t3.*\\n  FROM t3\\n  WHERE\\n    t3.`bigframes_predicate`\\n)\\nSELECT\\n  t5.`col_38` AS `body_mass_g`,\\n  t5.`col_39` AS `culmen_length_mm`,\\n  t5.`col_40` AS `rowkey`\\nFROM (\\n  SELECT\\n    t4.`col_38`,\\n    t4.`col_39`,\\n    t4.`col_40`\\n  FROM t4\\n) AS t5\""
      ]
     },
     "execution_count": 99,
     "metadata": {},
     "output_type": "execute_result"
    }
   ],
   "source": [
    "df.sql"
   ]
  },
  {
   "cell_type": "code",
   "execution_count": 92,
   "metadata": {},
   "outputs": [
    {
     "ename": "AttributeError",
     "evalue": "'DataFrame' object has no attribute 'peek'",
     "output_type": "error",
     "traceback": [
      "\u001b[0;31m---------------------------------------------------------------------------\u001b[0m",
      "\u001b[0;31mAttributeError\u001b[0m                            Traceback (most recent call last)",
      "\u001b[0;32m/tmp/ipykernel_1214451/2159910436.py\u001b[0m in \u001b[0;36m?\u001b[0;34m()\u001b[0m\n\u001b[0;32m----> 1\u001b[0;31m \u001b[0mdf\u001b[0m\u001b[0;34m.\u001b[0m\u001b[0mpeek\u001b[0m\u001b[0;34m(\u001b[0m\u001b[0;36m10\u001b[0m\u001b[0;34m)\u001b[0m\u001b[0;34m\u001b[0m\u001b[0;34m\u001b[0m\u001b[0m\n\u001b[0m",
      "\u001b[0;32m~/.pyenv/versions/3.10.9/lib/python3.10/site-packages/pandas/core/generic.py\u001b[0m in \u001b[0;36m?\u001b[0;34m(self, name)\u001b[0m\n\u001b[1;32m   6200\u001b[0m             \u001b[0;32mand\u001b[0m \u001b[0mname\u001b[0m \u001b[0;32mnot\u001b[0m \u001b[0;32min\u001b[0m \u001b[0mself\u001b[0m\u001b[0;34m.\u001b[0m\u001b[0m_accessors\u001b[0m\u001b[0;34m\u001b[0m\u001b[0;34m\u001b[0m\u001b[0m\n\u001b[1;32m   6201\u001b[0m             \u001b[0;32mand\u001b[0m \u001b[0mself\u001b[0m\u001b[0;34m.\u001b[0m\u001b[0m_info_axis\u001b[0m\u001b[0;34m.\u001b[0m\u001b[0m_can_hold_identifiers_and_holds_name\u001b[0m\u001b[0;34m(\u001b[0m\u001b[0mname\u001b[0m\u001b[0;34m)\u001b[0m\u001b[0;34m\u001b[0m\u001b[0;34m\u001b[0m\u001b[0m\n\u001b[1;32m   6202\u001b[0m         ):\n\u001b[1;32m   6203\u001b[0m             \u001b[0;32mreturn\u001b[0m \u001b[0mself\u001b[0m\u001b[0;34m[\u001b[0m\u001b[0mname\u001b[0m\u001b[0;34m]\u001b[0m\u001b[0;34m\u001b[0m\u001b[0;34m\u001b[0m\u001b[0m\n\u001b[0;32m-> 6204\u001b[0;31m         \u001b[0;32mreturn\u001b[0m \u001b[0mobject\u001b[0m\u001b[0;34m.\u001b[0m\u001b[0m__getattribute__\u001b[0m\u001b[0;34m(\u001b[0m\u001b[0mself\u001b[0m\u001b[0;34m,\u001b[0m \u001b[0mname\u001b[0m\u001b[0;34m)\u001b[0m\u001b[0;34m\u001b[0m\u001b[0;34m\u001b[0m\u001b[0m\n\u001b[0m",
      "\u001b[0;31mAttributeError\u001b[0m: 'DataFrame' object has no attribute 'peek'"
     ]
    }
   ],
   "source": [
    "df.peek(10)"
   ]
  },
  {
   "cell_type": "code",
   "execution_count": 91,
   "metadata": {},
   "outputs": [
    {
     "ename": "AttributeError",
     "evalue": "'DataFrame' object has no attribute 'sql'",
     "output_type": "error",
     "traceback": [
      "\u001b[0;31m---------------------------------------------------------------------------\u001b[0m",
      "\u001b[0;31mAttributeError\u001b[0m                            Traceback (most recent call last)",
      "\u001b[0;32m/tmp/ipykernel_1214451/1116265288.py\u001b[0m in \u001b[0;36m?\u001b[0;34m()\u001b[0m\n\u001b[0;32m----> 1\u001b[0;31m \u001b[0mdf\u001b[0m\u001b[0;34m.\u001b[0m\u001b[0msql\u001b[0m\u001b[0;34m\u001b[0m\u001b[0;34m\u001b[0m\u001b[0m\n\u001b[0m",
      "\u001b[0;32m~/.pyenv/versions/3.10.9/lib/python3.10/site-packages/pandas/core/generic.py\u001b[0m in \u001b[0;36m?\u001b[0;34m(self, name)\u001b[0m\n\u001b[1;32m   6200\u001b[0m             \u001b[0;32mand\u001b[0m \u001b[0mname\u001b[0m \u001b[0;32mnot\u001b[0m \u001b[0;32min\u001b[0m \u001b[0mself\u001b[0m\u001b[0;34m.\u001b[0m\u001b[0m_accessors\u001b[0m\u001b[0;34m\u001b[0m\u001b[0;34m\u001b[0m\u001b[0m\n\u001b[1;32m   6201\u001b[0m             \u001b[0;32mand\u001b[0m \u001b[0mself\u001b[0m\u001b[0;34m.\u001b[0m\u001b[0m_info_axis\u001b[0m\u001b[0;34m.\u001b[0m\u001b[0m_can_hold_identifiers_and_holds_name\u001b[0m\u001b[0;34m(\u001b[0m\u001b[0mname\u001b[0m\u001b[0;34m)\u001b[0m\u001b[0;34m\u001b[0m\u001b[0;34m\u001b[0m\u001b[0m\n\u001b[1;32m   6202\u001b[0m         ):\n\u001b[1;32m   6203\u001b[0m             \u001b[0;32mreturn\u001b[0m \u001b[0mself\u001b[0m\u001b[0;34m[\u001b[0m\u001b[0mname\u001b[0m\u001b[0;34m]\u001b[0m\u001b[0;34m\u001b[0m\u001b[0;34m\u001b[0m\u001b[0m\n\u001b[0;32m-> 6204\u001b[0;31m         \u001b[0;32mreturn\u001b[0m \u001b[0mobject\u001b[0m\u001b[0;34m.\u001b[0m\u001b[0m__getattribute__\u001b[0m\u001b[0;34m(\u001b[0m\u001b[0mself\u001b[0m\u001b[0;34m,\u001b[0m \u001b[0mname\u001b[0m\u001b[0;34m)\u001b[0m\u001b[0;34m\u001b[0m\u001b[0;34m\u001b[0m\u001b[0m\n\u001b[0m",
      "\u001b[0;31mAttributeError\u001b[0m: 'DataFrame' object has no attribute 'sql'"
     ]
    }
   ],
   "source": []
  },
  {
   "cell_type": "code",
   "execution_count": 16,
   "metadata": {},
   "outputs": [
    {
     "name": "stderr",
     "output_type": "stream",
     "text": [
      "/usr/local/google/home/garrettwu/src/bigframes/bigframes/streaming/__init__.py:101: PreviewWarning: The bigframes.streaming module is a preview feature, and subject to change.\n",
      "  warnings.warn(\n"
     ]
    }
   ],
   "source": [
    "query_job = bigframes.streaming.to_bigtable(\n",
    "    df.sql,\n",
    "    instance=\"streaming-testing-instance\",\n",
    "    table=\"garrettwu-testing1\",\n",
    "    service_account_email=\"streaming-testing@bigframes-load-testing.iam.gserviceaccount.com\",\n",
    "    app_profile=None,\n",
    "    truncate=True,\n",
    "    overwrite=True,\n",
    "    auto_create_column_families=True,\n",
    "    bigtable_options={},\n",
    "    job_id=None,\n",
    "    job_id_prefix=job_id_prefix,\n",
    ")"
   ]
  },
  {
   "cell_type": "code",
   "execution_count": 22,
   "metadata": {},
   "outputs": [
    {
     "data": {
      "text/plain": [
       "False"
      ]
     },
     "execution_count": 22,
     "metadata": {},
     "output_type": "execute_result"
    }
   ],
   "source": [
    "query_job.running()"
   ]
  },
  {
   "cell_type": "code",
   "execution_count": 23,
   "metadata": {},
   "outputs": [
    {
     "name": "stdout",
     "output_type": "stream",
     "text": [
      "DONE\n",
      "{'reason': 'stopped', 'debugInfo': '[CANCELLED] message=[CONTINUOUS_QUERY_RETRYABLE_ERROR] message=Retryable RPC error for continuous query. cause=com.google.net.rpc3.RpcException: CANCELLED debug= errorProto=code: \"INTERNAL_ERROR\"\\nargument: \"Error: 4345518\"\\n errorProto=code: \"JOB_CANCELLED\"\\nargument: \"User requested cancellation\"\\n\\n\\tat com.google.cloud.helix.common.Exceptions$Public.jobCancelled(Exceptions.java:947)\\n\\tat com.google.cloud.helix.common.Exceptions.fromCancelRequest(Exceptions.java:2101)\\n\\tat com.google.cloud.helix.common.CancelState.wrapException(CancelState.java:32)\\n\\tat com.google.cloud.helix.server.job.LocalJobController.handleJobDone(LocalJobController.java:590)\\n\\tat com.google.cloud.helix.server.job.LocalJobController.lambda$runThread$0(LocalJobController.java:452)\\n\\tat com.google.common.util.concurrent.CombinedFuture$CallableInterruptibleTask.runInterruptibly(CombinedFuture.java:198)\\n\\tat com.google.common.util.concurrent.InterruptibleTask.run(InterruptibleTask.java:77)\\n\\tat com.google.common.context.ContextRunnable.runInContext(ContextRunnable.java:83)\\n\\tat io.grpc.Context.run(Context.java:536)\\n\\tat com.google.tracing.GenericContextCallback.runInInheritedContext(GenericContextCallback.java:75)\\n\\tat com.google.common.context.ContextRunnable.run(ContextRunnable.java:74)\\n\\tat java.base/java.util.concurrent.ThreadPoolExecutor.runWorker(Unknown Source)\\n\\tat java.base/java.util.concurrent.ThreadPoolExecutor$Worker.run(Unknown Source)\\n\\tat java.base/java.lang.Thread.run(Unknown Source)\\nCaused by: [CONTINUOUS_QUERY_RETRYABLE_ERROR] message=Retryable RPC error for continuous query. cause=com.google.net.rpc3.RpcException: CANCELLED debug= errorProto=code: \"INTERNAL_ERROR\"\\nargument: \"Error: 4345518\"\\n\\n\\tat com.google.cloud.helix.common.Exceptions.getInternalExceptionNoHash(Exceptions.java:1754)\\n\\tat com.google.cloud.helix.common.Exceptions.getInternalException(Exceptions.java:1746)\\n\\tat com.google.cloud.helix.common.Exceptions.getInternalException(Exceptions.java:1729)\\n\\tat com.google.cloud.helix.common.Exceptions$Internal.continuousQueryRetryableError(Exceptions.java:1498)\\n\\tat com.google.cloud.helix.common.dremel.QueryExecutorImpl$ConfiguredQueryMigration$StreamHandler.wrapContinuousQueryRpcExceptionAsRetryableError(QueryExecutorImpl.java:798)\\n\\tat com.google.cloud.helix.common.dremel.QueryExecutorImpl$ConfiguredQueryMigration$StreamHandler.onMessage(QueryExecutorImpl.java:760)\\n\\tat com.google.cloud.helix.common.dremel.QueryExecutorImpl$ConfiguredQueryMigration$StreamHandler.onMessage(QueryExecutorImpl.java:662)\\n\\tat com.google.net.rpc3.stream.RpcMessageCallback$Internal$Adapter.onMessage(RpcMessageCallback.java:96)\\n\\tat com.google.net.rpc3.impl.RpcStreamInternalContext.processMessageUnlocked(RpcStreamInternalContext.java:1747)\\n\\tat com.google.net.rpc3.impl.RpcStreamInternalContext.invokeCallbacksInternalUnlocked(RpcStreamInternalContext.java:2752)\\n\\tat com.google.net.rpc3.impl.RpcStreamInternalContext.invokeCallbacksUnlocked(RpcStreamInternalContext.java:2676)\\n\\tat com.google.net.eventmanager.AbstractFutureTask$Sync.innerRun(AbstractFutureTask.java:259)\\n\\tat com.google.net.eventmanager.AbstractFutureTask.run(AbstractFutureTask.java:120)\\n\\tat com.google.net.eventmanager.EventManagerImpl.runTaskTraced(EventManagerImpl.java:901)\\n\\tat com.google.net.eventmanager.EventManagerImpl.runTask(EventManagerImpl.java:893)\\n\\tat com.google.net.eventmanager.EventManagerImpl.internalRunWorkerLoop(EventManagerImpl.java:1320)\\n\\tat com.google.net.eventmanager.EventManagerImpl.runWorkerLoop(EventManagerImpl.java:1211)\\n\\tat com.google.net.eventmanager.WorkerThreadInfo.runWorkerLoop(WorkerThreadInfo.java:153)\\n\\tat com.google.net.eventmanager.EventManagerImpl$WorkerThread.run(EventManagerImpl.java:2000)\\n\\tSuppressed: java.lang.Exception: Including call stack from HelixFutures\\n\\t\\tat com.google.cloud.helix.common.HelixFutures.getHelixException(HelixFutures.java:76)\\n\\t\\tat com.google.cloud.helix.common.HelixFutures.getDone(HelixFutures.java:55)\\n\\t\\tat com.google.cloud.helix.server.job.LocalQueryJobController.handleQueryDoneFromRunJob(LocalQueryJobController.java:2658)\\n\\t\\tat com.google.cloud.helix.server.job.LocalQueryJobController.lambda$runJob$18(LocalQueryJobController.java:2577)\\n\\t\\tat com.google.common.util.concurrent.CombinedFuture$CallableInterruptibleTask.runInterruptibly(CombinedFuture.java:198)\\n\\t\\tat com.google.common.util.concurrent.InterruptibleTask.run(InterruptibleTask.java:77)\\n\\t\\tat com.google.common.context.ContextRunnable.runInContext(ContextRunnable.java:83)\\n\\t\\tat io.grpc.Context.run(Context.java:536)\\n\\t\\tat com.google.tracing.GenericContextCallback.runInInheritedContext(GenericContextCallback.java:75)\\n\\t\\tat com.google.common.context.ContextRunnable.run(ContextRunnable.java:74)\\n\\t\\tat java.base/java.util.concurrent.ThreadPoolExecutor.runWorker(Unknown Source)\\n\\t\\tat java.base/java.util.concurrent.ThreadPoolExecutor$Worker.run(Unknown Source)\\n\\t\\tat java.base/java.lang.Thread.run(Unknown Source)\\nCaused by: [CANCELLED] message=com.google.net.rpc3.RpcException: CANCELLED debug=NOTE: JobMigrationService handled this request; check /rpcz on this task\\'s :swig port for detailed Dremel RPC status errorProto=code: \"JOB_CANCELLED\"\\nargument: \"User requested cancel or job timed out\"\\n\\n\\tat com.google.cloud.helix.common.Exceptions$Public.jobCancelled(Exceptions.java:963)\\n\\tat com.google.cloud.helix.server.job.DremelErrorUtil.createHelixErrorFromDremelRpcException(DremelErrorUtil.java:67)\\n\\tat com.google.cloud.helix.common.dremel.QueryExecutorImpl$ConfiguredQueryMigration$StreamHandler.onMessage(QueryExecutorImpl.java:747)\\n\\t... 13 more\\nCaused by: com.google.net.rpc3.RpcException: CANCELLED\\n\\tat com.google.cloud.helix.common.dremel.QueryExecutorImpl$ConfiguredQueryMigration$StreamHandler.onMessage(QueryExecutorImpl.java:748)\\n\\t... 13 more\\n', 'message': 'Job execution was cancelled: User requested cancellation'}\n",
      "[{'reason': 'stopped', 'message': 'Job execution was cancelled: User requested cancellation'}]\n"
     ]
    }
   ],
   "source": [
    "print(query_job.state)\n",
    "print(query_job.error_result)\n",
    "print(query_job.errors)"
   ]
  },
  {
   "cell_type": "code",
   "execution_count": 19,
   "metadata": {},
   "outputs": [
    {
     "data": {
      "text/plain": [
       "True"
      ]
     },
     "execution_count": 19,
     "metadata": {},
     "output_type": "execute_result"
    }
   ],
   "source": [
    "query_job.cancel()"
   ]
  },
  {
   "cell_type": "code",
   "execution_count": 51,
   "metadata": {},
   "outputs": [],
   "source": [
    "query_job = bigframes.streaming.to_bigtable(\n",
    "    df.sql,\n",
    "    instance=\"streaming-testing-instance\",\n",
    "    table=\"garrettwu-no-col-family\",\n",
    "    service_account_email=\"streaming-testing-admin@bigframes-load-testing.iam.gserviceaccount.com\",\n",
    "    app_profile=None,\n",
    "    truncate=True,\n",
    "    overwrite=True,\n",
    "    auto_create_column_families=True,\n",
    "    bigtable_options={},\n",
    "    job_id=None,\n",
    "    job_id_prefix=job_id_prefix,\n",
    ")"
   ]
  },
  {
   "cell_type": "code",
   "execution_count": 54,
   "metadata": {},
   "outputs": [
    {
     "name": "stdout",
     "output_type": "stream",
     "text": [
      "True\n",
      "RUNNING\n",
      "None\n"
     ]
    }
   ],
   "source": [
    "print(query_job.running())\n",
    "print(query_job.state)\n",
    "print(query_job.error_result)"
   ]
  },
  {
   "cell_type": "code",
   "execution_count": 55,
   "metadata": {},
   "outputs": [
    {
     "data": {
      "text/plain": [
       "True"
      ]
     },
     "execution_count": 55,
     "metadata": {},
     "output_type": "execute_result"
    }
   ],
   "source": [
    "query_job.cancel()"
   ]
  },
  {
   "cell_type": "code",
   "execution_count": null,
   "metadata": {},
   "outputs": [],
   "source": []
  }
 ],
 "metadata": {
  "kernelspec": {
   "display_name": "venv",
   "language": "python",
   "name": "python3"
  },
  "language_info": {
   "codemirror_mode": {
    "name": "ipython",
    "version": 3
   },
   "file_extension": ".py",
   "mimetype": "text/x-python",
   "name": "python",
   "nbconvert_exporter": "python",
   "pygments_lexer": "ipython3",
   "version": "3.10.9"
  }
 },
 "nbformat": 4,
 "nbformat_minor": 2
}
