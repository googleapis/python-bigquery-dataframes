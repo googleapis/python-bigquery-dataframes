{
 "cells": [
  {
   "cell_type": "markdown",
   "id": "a9caff81",
   "metadata": {},
   "source": [
    "## BigFrames Spark API Demo"
   ]
  },
  {
   "cell_type": "code",
   "execution_count": 1,
   "id": "e7e404d4",
   "metadata": {},
   "outputs": [],
   "source": [
    "import bigframes\n",
    "bigframes.options.bigquery.project = 'bigframes-dev'\n",
    "bigframes.options.bigquery.location = 'US'"
   ]
  },
  {
   "cell_type": "code",
   "execution_count": null,
   "id": "51ebcafb",
   "metadata": {},
   "outputs": [
    {
     "data": {
      "text/html": [
       "Query job b988c8f2-335f-4aed-8d7b-d6c5639e0fd5 is DONE. 0 Bytes processed. <a target=\"_blank\" href=\"https://console.cloud.google.com/bigquery?project=bigframes-dev&j=bq:US:b988c8f2-335f-4aed-8d7b-d6c5639e0fd5&page=queryresults\">Open Job</a>"
      ],
      "text/plain": [
       "<IPython.core.display.HTML object>"
      ]
     },
     "metadata": {},
     "output_type": "display_data"
    },
    {
     "data": {
      "text/html": [
       "<div>\n",
       "<style scoped>\n",
       "    .dataframe tbody tr th:only-of-type {\n",
       "        vertical-align: middle;\n",
       "    }\n",
       "\n",
       "    .dataframe tbody tr th {\n",
       "        vertical-align: top;\n",
       "    }\n",
       "\n",
       "    .dataframe thead th {\n",
       "        text-align: right;\n",
       "    }\n",
       "</style>\n",
       "<table border=\"1\" class=\"dataframe\">\n",
       "  <thead>\n",
       "    <tr style=\"text-align: right;\">\n",
       "      <th></th>\n",
       "      <th>bfuid_col_1</th>\n",
       "    </tr>\n",
       "  </thead>\n",
       "  <tbody>\n",
       "    <tr>\n",
       "      <th>0</th>\n",
       "      <td>0.912764</td>\n",
       "    </tr>\n",
       "    <tr>\n",
       "      <th>1</th>\n",
       "      <td>0.912764</td>\n",
       "    </tr>\n",
       "    <tr>\n",
       "      <th>2</th>\n",
       "      <td>0.912764</td>\n",
       "    </tr>\n",
       "    <tr>\n",
       "      <th>3</th>\n",
       "      <td>0.912764</td>\n",
       "    </tr>\n",
       "    <tr>\n",
       "      <th>4</th>\n",
       "      <td>0.912764</td>\n",
       "    </tr>\n",
       "    <tr>\n",
       "      <th>...</th>\n",
       "      <td>...</td>\n",
       "    </tr>\n",
       "    <tr>\n",
       "      <th>572132</th>\n",
       "      <td>0.95209</td>\n",
       "    </tr>\n",
       "    <tr>\n",
       "      <th>572133</th>\n",
       "      <td>0.95209</td>\n",
       "    </tr>\n",
       "    <tr>\n",
       "      <th>572134</th>\n",
       "      <td>0.95209</td>\n",
       "    </tr>\n",
       "    <tr>\n",
       "      <th>572135</th>\n",
       "      <td>0.95209</td>\n",
       "    </tr>\n",
       "    <tr>\n",
       "      <th>572136</th>\n",
       "      <td>0.95209</td>\n",
       "    </tr>\n",
       "  </tbody>\n",
       "</table>\n",
       "<p>572137 rows × 1 columns</p>\n",
       "</div>"
      ],
      "text/plain": [
       "        bfuid_col_1\n",
       "0          0.912764\n",
       "1          0.912764\n",
       "2          0.912764\n",
       "3          0.912764\n",
       "4          0.912764\n",
       "...             ...\n",
       "572132      0.95209\n",
       "572133      0.95209\n",
       "572134      0.95209\n",
       "572135      0.95209\n",
       "572136      0.95209\n",
       "\n",
       "[572137 rows x 1 columns]"
      ]
     },
     "execution_count": 2,
     "metadata": {},
     "output_type": "execute_result"
    }
   ],
   "source": [
    "import bigframes.sql as bf_sql\n",
    "from bigframes.sql.functions import col, expr, abs, lit\n",
    "\n",
    "\n",
    "df = bf_sql.DataFrame.from_table(\"bigquery-public-data.nasa_wildfire.past_week\")\n",
    "\n",
    "df = df.select(\n",
    "    expr('SIN(scan + track) - 14').alias(\"raw_sql_col\"),\n",
    "    abs(lit(20) + col(\"track\").alias(\"structured_expr_col\"))\n",
    "    )\n",
    "\n",
    "\n",
    "df.toPandas()"
   ]
  }
 ],
 "metadata": {
  "kernelspec": {
   "display_name": "venv",
   "language": "python",
   "name": "python3"
  },
  "language_info": {
   "codemirror_mode": {
    "name": "ipython",
    "version": 3
   },
   "file_extension": ".py",
   "mimetype": "text/x-python",
   "name": "python",
   "nbconvert_exporter": "python",
   "pygments_lexer": "ipython3",
   "version": "3.12.6"
  }
 },
 "nbformat": 4,
 "nbformat_minor": 5
}
