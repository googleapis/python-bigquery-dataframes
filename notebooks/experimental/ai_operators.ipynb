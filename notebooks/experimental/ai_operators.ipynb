{
  "cells": [
    {
      "cell_type": "code",
      "execution_count": 1,
      "metadata": {
        "id": "UYeZd_I8iouP"
      },
      "outputs": [],
      "source": [
        "# Copyright 2025 Google LLC\n",
        "#\n",
        "# Licensed under the Apache License, Version 2.0 (the \"License\");\n",
        "# you may not use this file except in compliance with the License.\n",
        "# You may obtain a copy of the License at\n",
        "#\n",
        "#     https://www.apache.org/licenses/LICENSE-2.0\n",
        "#\n",
        "# Unless required by applicable law or agreed to in writing, software\n",
        "# distributed under the License is distributed on an \"AS IS\" BASIS,\n",
        "# WITHOUT WARRANTIES OR CONDITIONS OF ANY KIND, either express or implied.\n",
        "# See the License for the specific language governing permissions and\n",
        "# limitations under the License."
      ]
    },
    {
      "cell_type": "markdown",
      "metadata": {
        "id": "rWJnGj2ViouP"
      },
      "source": [
        "# BigFrames AI Operator Tutorial\n",
        "\n",
        "<table align=\"left\">\n",
        "\n",
        "  <td>\n",
        "    <a href=\"https://colab.research.google.com/github/googleapis/python-bigquery-dataframes/blob/main/notebooks/experimental/ai_operators.ipynb\">\n",
        "      <img src=\"https://cloud.google.com/ml-engine/images/colab-logo-32px.png\" alt=\"Colab logo\"> Run in Colab\n",
        "    </a>\n",
        "  </td>\n",
        "  <td>\n",
        "    <a href=\"https://github.com/googleapis/python-bigquery-dataframes/blob/main/notebooks/experimental/ai_operators.ipynb\">\n",
        "      <img src=\"https://cloud.google.com/ml-engine/images/github-logo-32px.png\" alt=\"GitHub logo\">\n",
        "      View on GitHub\n",
        "    </a>\n",
        "  </td>\n",
        "  <td>\n",
        "    <a href=\"https://console.cloud.google.com/bigquery/import?url=https://github.com/googleapis/python-bigquery-dataframes/blob/main/notebooks/experimental/ai_operators.ipynb\">\n",
        "      <img src=\"https://encrypted-tbn0.gstatic.com/images?q=tbn:ANd9GcTW1gvOovVlbZAIZylUtf5Iu8-693qS1w5NJw&s\" alt=\"BQ logo\" width=\"35\">\n",
        "      Open in BQ Studio\n",
        "    </a>\n",
        "  </td>\n",
        "</table>"
      ]
    },
    {
      "cell_type": "markdown",
      "metadata": {
        "id": "mgOrr256iouQ"
      },
      "source": [
        "This notebook provides a hands-on preview of AI operator APIs powered by the Gemini model.\n",
        "\n",
        "The notebook is divided into two sections. The first section introduces the API syntax with examples, aiming to familiarize you with how AI operators work. The second section applies AI operators to a large real-world dataset and presents performance statistics.\n",
        "\n",
        "This work is inspired by [this paper](https://arxiv.org/pdf/2407.11418) and powered by BigQuery ML and Vertex AI."
      ]
    },
    {
      "cell_type": "markdown",
      "metadata": {
        "id": "2ymVbJV2iouQ"
      },
      "source": [
        "# Preparation"
      ]
    },
    {
      "cell_type": "markdown",
      "metadata": {
        "id": "vvVzFzo3iouQ"
      },
      "source": [
        "First, import the BigFrames modules.\n",
        "\n"
      ]
    },
    {
      "cell_type": "code",
      "execution_count": 2,
      "metadata": {
        "id": "Jb9glT2ziouQ"
      },
      "outputs": [],
      "source": [
        "import bigframes\n",
        "import bigframes.pandas as bpd"
      ]
    },
    {
      "cell_type": "markdown",
      "metadata": {
        "id": "xQiCWj7OiouQ"
      },
      "source": [
        "Make sure the BigFrames version is at least `1.42.0`"
      ]
    },
    {
      "cell_type": "code",
      "execution_count": 3,
      "metadata": {
        "id": "LTPpI8IpiouQ"
      },
      "outputs": [],
      "source": [
        "from packaging.version import Version\n",
        "\n",
        "assert Version(bigframes.__version__) >= Version(\"1.42.0\")"
      ]
    },
    {
      "cell_type": "markdown",
      "metadata": {
        "id": "agxLmtlbiouR"
      },
      "source": [
        "Turn on the AI operator experiment. You will see a warning sign saying that these operators are still under experiments. If you don't turn on the experiment before using the operators, you will get `NotImplemenetedError`s."
      ]
    },
    {
      "cell_type": "code",
      "execution_count": 4,
      "metadata": {
        "id": "1wXqdDr8iouR"
      },
      "outputs": [
        {
          "name": "stderr",
          "output_type": "stream",
          "text": [
            "/usr/local/google/home/sycai/src/python-bigquery-dataframes/bigframes/_config/experiment_options.py:55: PreviewWarning: AI operators are still under experiments, and are subject to change in\n",
            "the future.\n",
            "  warnings.warn(msg, category=bfe.PreviewWarning)\n"
          ]
        }
      ],
      "source": [
        "bigframes.options.experiments.ai_operators = True"
      ]
    },
    {
      "cell_type": "markdown",
      "metadata": {
        "id": "W8TPUvnsqxhv"
      },
      "source": [
        "Specify your GCP project and location."
      ]
    },
    {
      "cell_type": "code",
      "execution_count": 5,
      "metadata": {
        "id": "vCkraKOeqJFl"
      },
      "outputs": [],
      "source": [
        "bpd.options.bigquery.project = 'bigframes-dev'\n",
        "bpd.options.bigquery.location = 'US'"
      ]
    },
    {
      "cell_type": "markdown",
      "metadata": {
        "id": "n95MFlS0iouR"
      },
      "source": [
        "**Optional**: turn off the display of progress bar so that only the operation results will be printed out"
      ]
    },
    {
      "cell_type": "code",
      "execution_count": 6,
      "metadata": {
        "id": "5r6ahx7MiouR"
      },
      "outputs": [],
      "source": [
        "bpd.options.display.progress_bar = None"
      ]
    },
    {
      "cell_type": "markdown",
      "metadata": {
        "id": "93iYvp7niouR"
      },
      "source": [
        "Create LLM instances. They will be passed in as parameters for each AI operator.\n",
        "\n",
        "This tutorial uses the \"gemini-2.0-flash-001\" model for text generation and \"text-embedding-005\" for embedding. While these are recommended, you can choose [other Vertex AI LLM models](https://cloud.google.com/vertex-ai/generative-ai/docs/learn/models) based on your needs and availability. Ensure you have [sufficient quota](https://cloud.google.com/vertex-ai/generative-ai/docs/quotas) for your chosen models and adjust it if necessary."
      ]
    },
    {
      "cell_type": "code",
      "execution_count": 7,
      "metadata": {
        "id": "tHkymaLNiouR"
      },
      "outputs": [],
      "source": [
        "from bigframes.ml import llm\n",
        "gemini_model = llm.GeminiTextGenerator(model_name=\"gemini-2.0-flash-001\")\n",
        "text_embedding_model = llm.TextEmbeddingGenerator(model_name=\"text-embedding-005\")"
      ]
    },
    {
      "cell_type": "markdown",
      "metadata": {
        "id": "mbFDcvnPiouR"
      },
      "source": [
        "**Note**: AI operators could be expensive over a large set of data. As a result, our team added this option `bigframes.options.compute.ai_ops_confirmation_threshold` at `version 1.42.0` so that the BigFrames will ask for your confirmation if the amount of data to be processed is too large. If the amount of rows exceeds your threshold, you will see a prompt for your keyboard input -- 'y' to proceed and 'n' to abort. If you abort the operation, no LLM processing will be done.\n",
        "\n",
        "The default threshold is 0, which means the operators will always ask for confirmations. You are free to adjust the value as needed. You can also set the threshold to `None` to disable this feature."
      ]
    },
    {
      "cell_type": "code",
      "execution_count": 8,
      "metadata": {
        "id": "F4dZm4b7iouR"
      },
      "outputs": [],
      "source": [
        "if Version(bigframes.__version__) >= Version(\"1.42.0\"):\n",
        "    bigframes.options.compute.ai_ops_confirmation_threshold = 1000"
      ]
    },
    {
      "cell_type": "markdown",
      "metadata": {
        "id": "_dEA3G9RiouR"
      },
      "source": [
        "If you would like your operations to fail automatically when the data is too large, set `bigframes.options.compute.ai_ops_threshold_autofail` to `True`:"
      ]
    },
    {
      "cell_type": "code",
      "execution_count": 9,
      "metadata": {
        "id": "BoUK-cpbiouS"
      },
      "outputs": [],
      "source": [
        "# if Version(bigframes.__version__) >= Version(\"1.42.0\"):\n",
        "#     bigframes.options.compute.ai_ops_threshold_autofail = True"
      ]
    },
    {
      "cell_type": "markdown",
      "metadata": {
        "id": "hQft3o3OiouS"
      },
      "source": [
        "# API Samples"
      ]
    },
    {
      "cell_type": "markdown",
      "metadata": {
        "id": "dt5Kl-QGiouS"
      },
      "source": [
        "You will learn about each AI operator by trying some examples."
      ]
    },
    {
      "cell_type": "markdown",
      "metadata": {
        "id": "J7XAT459iouS"
      },
      "source": [
        "## AI Filtering"
      ]
    },
    {
      "cell_type": "markdown",
      "metadata": {
        "id": "9d5HUIvliouS"
      },
      "source": [
        "AI filtering allows you to filter your dataframe based on the instruction (i.e. prompt) you provided.\n",
        "\n",
        "First, create a dataframe:"
      ]
    },
    {
      "cell_type": "code",
      "execution_count": 10,
      "metadata": {
        "colab": {
          "base_uri": "https://localhost:8080/",
          "height": 190
        },
        "id": "NDpCRGd_iouS",
        "outputId": "5048c935-06d3-4ef1-ad87-72e14a30b1b7"
      },
      "outputs": [
        {
          "data": {
            "text/html": [
              "<div>\n",
              "<style scoped>\n",
              "    .dataframe tbody tr th:only-of-type {\n",
              "        vertical-align: middle;\n",
              "    }\n",
              "\n",
              "    .dataframe tbody tr th {\n",
              "        vertical-align: top;\n",
              "    }\n",
              "\n",
              "    .dataframe thead th {\n",
              "        text-align: right;\n",
              "    }\n",
              "</style>\n",
              "<table border=\"1\" class=\"dataframe\">\n",
              "  <thead>\n",
              "    <tr style=\"text-align: right;\">\n",
              "      <th></th>\n",
              "      <th>country</th>\n",
              "      <th>city</th>\n",
              "    </tr>\n",
              "  </thead>\n",
              "  <tbody>\n",
              "    <tr>\n",
              "      <th>0</th>\n",
              "      <td>USA</td>\n",
              "      <td>Seattle</td>\n",
              "    </tr>\n",
              "    <tr>\n",
              "      <th>1</th>\n",
              "      <td>Germany</td>\n",
              "      <td>Berlin</td>\n",
              "    </tr>\n",
              "    <tr>\n",
              "      <th>2</th>\n",
              "      <td>Japan</td>\n",
              "      <td>Kyoto</td>\n",
              "    </tr>\n",
              "  </tbody>\n",
              "</table>\n",
              "<p>3 rows × 2 columns</p>\n",
              "</div>[3 rows x 2 columns in total]"
            ],
            "text/plain": [
              "   country     city\n",
              "0      USA  Seattle\n",
              "1  Germany   Berlin\n",
              "2    Japan    Kyoto\n",
              "\n",
              "[3 rows x 2 columns]"
            ]
          },
          "execution_count": 10,
          "metadata": {},
          "output_type": "execute_result"
        }
      ],
      "source": [
        "df = bpd.DataFrame({'country': ['USA', 'Germany', 'Japan'], 'city': ['Seattle', 'Berlin', 'Kyoto']})\n",
        "df"
      ]
    },
    {
      "cell_type": "markdown",
      "metadata": {
        "id": "6AXmT7sniouS"
      },
      "source": [
        "Now, filter this dataframe by keeping only the rows where the value in `city` column is the capital of the value in `country` column. The column references could be \"escaped\" by using a pair of braces in your instruction. In this example, your instruction should be like this:\n",
        "```\n",
        "The {city} is the capital of the {country}.\n",
        "```\n",
        "\n",
        "Note that this is not a Python f-string, so you shouldn't prefix your instruction with an `f`."
      ]
    },
    {
      "cell_type": "code",
      "execution_count": 11,
      "metadata": {
        "colab": {
          "base_uri": "https://localhost:8080/",
          "height": 127
        },
        "id": "ipW3Z_l4iouS",
        "outputId": "ad447459-225a-419c-d4c8-fedac4a9ed0f"
      },
      "outputs": [
        {
          "name": "stderr",
          "output_type": "stream",
          "text": [
            "/usr/local/google/home/sycai/src/python-bigquery-dataframes/bigframes/core/array_value.py:109: PreviewWarning: JSON column interpretation as a custom PyArrow extention in\n",
            "`db_dtypes` is a preview feature and subject to change.\n",
            "  warnings.warn(msg, bfe.PreviewWarning)\n"
          ]
        },
        {
          "data": {
            "text/html": [
              "<div>\n",
              "<style scoped>\n",
              "    .dataframe tbody tr th:only-of-type {\n",
              "        vertical-align: middle;\n",
              "    }\n",
              "\n",
              "    .dataframe tbody tr th {\n",
              "        vertical-align: top;\n",
              "    }\n",
              "\n",
              "    .dataframe thead th {\n",
              "        text-align: right;\n",
              "    }\n",
              "</style>\n",
              "<table border=\"1\" class=\"dataframe\">\n",
              "  <thead>\n",
              "    <tr style=\"text-align: right;\">\n",
              "      <th></th>\n",
              "      <th>country</th>\n",
              "      <th>city</th>\n",
              "    </tr>\n",
              "  </thead>\n",
              "  <tbody>\n",
              "    <tr>\n",
              "      <th>1</th>\n",
              "      <td>Germany</td>\n",
              "      <td>Berlin</td>\n",
              "    </tr>\n",
              "  </tbody>\n",
              "</table>\n",
              "<p>1 rows × 2 columns</p>\n",
              "</div>[1 rows x 2 columns in total]"
            ],
            "text/plain": [
              "   country    city\n",
              "1  Germany  Berlin\n",
              "\n",
              "[1 rows x 2 columns]"
            ]
          },
          "execution_count": 11,
          "metadata": {},
          "output_type": "execute_result"
        }
      ],
      "source": [
        "df.ai.filter(\"The {city} is the capital of the {country}\", model=gemini_model)"
      ]
    },
    {
      "cell_type": "markdown",
      "metadata": {
        "id": "swKvgfm1iouS"
      },
      "source": [
        "The filter operator extracts the information from the referenced column to enrich your instruction with context. The instruction is then sent for the designated model for evaluation. For filtering operations, the LLM is asked to return only `True` and `False` for each row, and the operator removes the rows accordingly."
      ]
    },
    {
      "cell_type": "markdown",
      "metadata": {
        "id": "r_2AAGGoiouS"
      },
      "source": [
        "## AI Mapping"
      ]
    },
    {
      "cell_type": "markdown",
      "metadata": {
        "id": "vT6skC57iouS"
      },
      "source": [
        "AI mapping allows to you to combine values from multiple columns into a single output based your instruction.\n",
        "\n",
        "Here is an example:"
      ]
    },
    {
      "cell_type": "code",
      "execution_count": 12,
      "metadata": {
        "colab": {
          "base_uri": "https://localhost:8080/",
          "height": 190
        },
        "id": "BQ7xeUK3iouS",
        "outputId": "33dcb742-77ed-4bea-8dbc-1cf775102a25"
      },
      "outputs": [
        {
          "data": {
            "text/html": [
              "<div>\n",
              "<style scoped>\n",
              "    .dataframe tbody tr th:only-of-type {\n",
              "        vertical-align: middle;\n",
              "    }\n",
              "\n",
              "    .dataframe tbody tr th {\n",
              "        vertical-align: top;\n",
              "    }\n",
              "\n",
              "    .dataframe thead th {\n",
              "        text-align: right;\n",
              "    }\n",
              "</style>\n",
              "<table border=\"1\" class=\"dataframe\">\n",
              "  <thead>\n",
              "    <tr style=\"text-align: right;\">\n",
              "      <th></th>\n",
              "      <th>ingredient_1</th>\n",
              "      <th>ingredient_2</th>\n",
              "    </tr>\n",
              "  </thead>\n",
              "  <tbody>\n",
              "    <tr>\n",
              "      <th>0</th>\n",
              "      <td>Bun</td>\n",
              "      <td>Beef Patty</td>\n",
              "    </tr>\n",
              "    <tr>\n",
              "      <th>1</th>\n",
              "      <td>Soy Bean</td>\n",
              "      <td>Bittern</td>\n",
              "    </tr>\n",
              "    <tr>\n",
              "      <th>2</th>\n",
              "      <td>Sausage</td>\n",
              "      <td>Long Bread</td>\n",
              "    </tr>\n",
              "  </tbody>\n",
              "</table>\n",
              "<p>3 rows × 2 columns</p>\n",
              "</div>[3 rows x 2 columns in total]"
            ],
            "text/plain": [
              "  ingredient_1 ingredient_2\n",
              "0          Bun   Beef Patty\n",
              "1     Soy Bean      Bittern\n",
              "2      Sausage   Long Bread\n",
              "\n",
              "[3 rows x 2 columns]"
            ]
          },
          "execution_count": 12,
          "metadata": {},
          "output_type": "execute_result"
        }
      ],
      "source": [
        "df = bpd.DataFrame({\n",
        "    \"ingredient_1\": [\"Bun\", \"Soy Bean\", \"Sausage\"],\n",
        "    \"ingredient_2\": [\"Beef Patty\", \"Bittern\", \"Long Bread\"]\n",
        "    })\n",
        "df"
      ]
    },
    {
      "cell_type": "markdown",
      "metadata": {
        "id": "VFObP2aFiouS"
      },
      "source": [
        "Now, you ask LLM what kind of food can be made from the two ingredients in each row. The column reference syntax in your instruction stays the same. In addition, you need to specify the output column name."
      ]
    },
    {
      "cell_type": "markdown",
      "metadata": {},
      "source": [
        "If you are using BigFrames version `2.5.0` or later, the column name is specified with the `output_schema` parameter. This parameter expects a dictionary input in the form of `{'col_name': 'type_name'}`."
      ]
    },
    {
      "cell_type": "code",
      "execution_count": 13,
      "metadata": {},
      "outputs": [
        {
          "name": "stderr",
          "output_type": "stream",
          "text": [
            "/usr/local/google/home/sycai/src/python-bigquery-dataframes/bigframes/core/array_value.py:109: PreviewWarning: JSON column interpretation as a custom PyArrow extention in\n",
            "`db_dtypes` is a preview feature and subject to change.\n",
            "  warnings.warn(msg, bfe.PreviewWarning)\n"
          ]
        },
        {
          "data": {
            "text/html": [
              "<div>\n",
              "<style scoped>\n",
              "    .dataframe tbody tr th:only-of-type {\n",
              "        vertical-align: middle;\n",
              "    }\n",
              "\n",
              "    .dataframe tbody tr th {\n",
              "        vertical-align: top;\n",
              "    }\n",
              "\n",
              "    .dataframe thead th {\n",
              "        text-align: right;\n",
              "    }\n",
              "</style>\n",
              "<table border=\"1\" class=\"dataframe\">\n",
              "  <thead>\n",
              "    <tr style=\"text-align: right;\">\n",
              "      <th></th>\n",
              "      <th>ingredient_1</th>\n",
              "      <th>ingredient_2</th>\n",
              "      <th>food</th>\n",
              "    </tr>\n",
              "  </thead>\n",
              "  <tbody>\n",
              "    <tr>\n",
              "      <th>0</th>\n",
              "      <td>Bun</td>\n",
              "      <td>Beef Patty</td>\n",
              "      <td>Hamburger</td>\n",
              "    </tr>\n",
              "    <tr>\n",
              "      <th>1</th>\n",
              "      <td>Soy Bean</td>\n",
              "      <td>Bittern</td>\n",
              "      <td>Tofu</td>\n",
              "    </tr>\n",
              "    <tr>\n",
              "      <th>2</th>\n",
              "      <td>Sausage</td>\n",
              "      <td>Long Bread</td>\n",
              "      <td>Hotdog</td>\n",
              "    </tr>\n",
              "  </tbody>\n",
              "</table>\n",
              "<p>3 rows × 3 columns</p>\n",
              "</div>[3 rows x 3 columns in total]"
            ],
            "text/plain": [
              "  ingredient_1 ingredient_2       food\n",
              "0          Bun   Beef Patty  Hamburger\n",
              "1     Soy Bean      Bittern       Tofu\n",
              "2      Sausage   Long Bread     Hotdog\n",
              "\n",
              "[3 rows x 3 columns]"
            ]
          },
          "execution_count": 13,
          "metadata": {},
          "output_type": "execute_result"
        }
      ],
      "source": [
        "df.ai.map(\"What is the food made from {ingredient_1} and {ingredient_2}? One word only.\", model=gemini_model, output_schema={\"food\": \"string\"})"
      ]
    },
    {
      "cell_type": "markdown",
      "metadata": {},
      "source": [
        "If you are using BigFrames version 2.4.0 or prior, the column name is specified wit the `output_column` parameter. The outputs are always strings."
      ]
    },
    {
      "cell_type": "code",
      "execution_count": null,
      "metadata": {
        "colab": {
          "base_uri": "https://localhost:8080/",
          "height": 190
        },
        "id": "PpL24AQFiouS",
        "outputId": "e7aff038-bf4b-4833-def8-fe2648e8885b"
      },
      "outputs": [
        {
          "name": "stderr",
          "output_type": "stream",
          "text": [
            "/usr/local/google/home/sycai/src/python-bigquery-dataframes/bigframes/core/array_value.py:114: PreviewWarning: JSON column interpretation as a custom PyArrow extention in\n",
            "`db_dtypes` is a preview feature and subject to change.\n",
            "  warnings.warn(msg, bfe.PreviewWarning)\n"
          ]
        },
        {
          "data": {
            "text/html": [
              "<div>\n",
              "<style scoped>\n",
              "    .dataframe tbody tr th:only-of-type {\n",
              "        vertical-align: middle;\n",
              "    }\n",
              "\n",
              "    .dataframe tbody tr th {\n",
              "        vertical-align: top;\n",
              "    }\n",
              "\n",
              "    .dataframe thead th {\n",
              "        text-align: right;\n",
              "    }\n",
              "</style>\n",
              "<table border=\"1\" class=\"dataframe\">\n",
              "  <thead>\n",
              "    <tr style=\"text-align: right;\">\n",
              "      <th></th>\n",
              "      <th>ingredient_1</th>\n",
              "      <th>ingredient_2</th>\n",
              "      <th>food</th>\n",
              "    </tr>\n",
              "  </thead>\n",
              "  <tbody>\n",
              "    <tr>\n",
              "      <th>0</th>\n",
              "      <td>Bun</td>\n",
              "      <td>Beef Patty</td>\n",
              "      <td>Burger</td>\n",
              "    </tr>\n",
              "    <tr>\n",
              "      <th>1</th>\n",
              "      <td>Soy Bean</td>\n",
              "      <td>Bittern</td>\n",
              "      <td>Tofu</td>\n",
              "    </tr>\n",
              "    <tr>\n",
              "      <th>2</th>\n",
              "      <td>Sausage</td>\n",
              "      <td>Long Bread</td>\n",
              "      <td>Hotdog</td>\n",
              "    </tr>\n",
              "  </tbody>\n",
              "</table>\n",
              "<p>3 rows × 3 columns</p>\n",
              "</div>[3 rows x 3 columns in total]"
            ],
            "text/plain": [
              "  ingredient_1 ingredient_2     food\n",
              "0          Bun   Beef Patty  Burger\n",
              "\n",
              "1     Soy Bean      Bittern    Tofu\n",
              "\n",
              "2      Sausage   Long Bread  Hotdog\n",
              "\n",
              "\n",
              "[3 rows x 3 columns]"
            ]
          },
          "execution_count": 13,
          "metadata": {},
          "output_type": "execute_result"
        }
      ],
      "source": [
        "# df.ai.map(\"What is the food made from {ingredient_1} and {ingredient_2}? One word only.\", output_column=\"food\", model=gemini_model)"
      ]
    },
    {
      "cell_type": "markdown",
      "metadata": {
        "id": "70WTZZfdiouS"
      },
      "source": [
        "## AI Joining"
      ]
    },
    {
      "cell_type": "markdown",
      "metadata": {
        "id": "u93uieRaiouS"
      },
      "source": [
        "AI joining can join two dataframes based on the instruction you provided.\n",
        "\n",
        "First, you prepare two dataframes:"
      ]
    },
    {
      "cell_type": "code",
      "execution_count": 14,
      "metadata": {
        "id": "dffIGEUEiouS"
      },
      "outputs": [],
      "source": [
        "cities = bpd.DataFrame({'city': ['Seattle', 'Ottawa', 'Berlin', 'Shanghai', 'New Delhi']})\n",
        "continents = bpd.DataFrame({'continent': ['North America', 'Africa', 'Asia']})"
      ]
    },
    {
      "cell_type": "markdown",
      "metadata": {
        "id": "Hz0X-0RtiouS"
      },
      "source": [
        "You want to join the `cities` with `continents` to form a new dataframe such that, in each row the city from the `cities` data frame is in the continent from the `continents` dataframe. You could re-use the aforementioned column reference syntax:"
      ]
    },
    {
      "cell_type": "code",
      "execution_count": 15,
      "metadata": {
        "colab": {
          "base_uri": "https://localhost:8080/",
          "height": 221
        },
        "id": "WPIOHEwCiouT",
        "outputId": "976586c3-b5db-4088-a46a-44dfbf822ecb"
      },
      "outputs": [
        {
          "name": "stderr",
          "output_type": "stream",
          "text": [
            "/usr/local/google/home/sycai/src/python-bigquery-dataframes/bigframes/core/array_value.py:114: PreviewWarning: JSON column interpretation as a custom PyArrow extention in\n",
            "`db_dtypes` is a preview feature and subject to change.\n",
            "  warnings.warn(msg, bfe.PreviewWarning)\n"
          ]
        },
        {
          "data": {
            "text/html": [
              "<div>\n",
              "<style scoped>\n",
              "    .dataframe tbody tr th:only-of-type {\n",
              "        vertical-align: middle;\n",
              "    }\n",
              "\n",
              "    .dataframe tbody tr th {\n",
              "        vertical-align: top;\n",
              "    }\n",
              "\n",
              "    .dataframe thead th {\n",
              "        text-align: right;\n",
              "    }\n",
              "</style>\n",
              "<table border=\"1\" class=\"dataframe\">\n",
              "  <thead>\n",
              "    <tr style=\"text-align: right;\">\n",
              "      <th></th>\n",
              "      <th>city</th>\n",
              "      <th>continent</th>\n",
              "    </tr>\n",
              "  </thead>\n",
              "  <tbody>\n",
              "    <tr>\n",
              "      <th>0</th>\n",
              "      <td>Seattle</td>\n",
              "      <td>North America</td>\n",
              "    </tr>\n",
              "    <tr>\n",
              "      <th>1</th>\n",
              "      <td>Ottawa</td>\n",
              "      <td>North America</td>\n",
              "    </tr>\n",
              "    <tr>\n",
              "      <th>2</th>\n",
              "      <td>Shanghai</td>\n",
              "      <td>Asia</td>\n",
              "    </tr>\n",
              "    <tr>\n",
              "      <th>3</th>\n",
              "      <td>New Delhi</td>\n",
              "      <td>Asia</td>\n",
              "    </tr>\n",
              "  </tbody>\n",
              "</table>\n",
              "<p>4 rows × 2 columns</p>\n",
              "</div>[4 rows x 2 columns in total]"
            ],
            "text/plain": [
              "        city      continent\n",
              "0    Seattle  North America\n",
              "1     Ottawa  North America\n",
              "2   Shanghai           Asia\n",
              "3  New Delhi           Asia\n",
              "\n",
              "[4 rows x 2 columns]"
            ]
          },
          "execution_count": 15,
          "metadata": {},
          "output_type": "execute_result"
        }
      ],
      "source": [
        "cities.ai.join(continents, \"{city} is in {continent}\", model=gemini_model)"
      ]
    },
    {
      "cell_type": "markdown",
      "metadata": {
        "id": "4Qc97GMWiouT"
      },
      "source": [
        "!! **Important:** AI join can trigger probihitively expensitve operations! This operation first cross joins two dataframes, then invokes AI filter on each row. That means if you have two dataframes of sizes `M` and `N`, the total amount of queries sent to the LLM is on the scale of `M * N`."
      ]
    },
    {
      "cell_type": "markdown",
      "metadata": {
        "id": "MUEJXT1IiouT"
      },
      "source": [
        "### Self Joins"
      ]
    },
    {
      "cell_type": "markdown",
      "metadata": {
        "id": "QvX-nCogiouT"
      },
      "source": [
        "This self-join example is for demonstrating a special case: what happens when the joining columns exist in both data frames? It turns out that you need to provide extra information in your column references: by attaching \"left.\" and \"right.\" prefixes to your column names.\n",
        "\n",
        "Create an example data frame:"
      ]
    },
    {
      "cell_type": "code",
      "execution_count": 16,
      "metadata": {
        "id": "OIGz5sqxiouW"
      },
      "outputs": [],
      "source": [
        "animals = bpd.DataFrame({'animal': ['cow', 'cat', 'spider', 'elephant']})"
      ]
    },
    {
      "cell_type": "markdown",
      "metadata": {
        "id": "VmJbuWNniouX"
      },
      "source": [
        "You want to compare the weights of these animals, and output all the pairs where the animal on the left is heavier than the animal on the right. In this case, you use `left.animal` and `right.animal` to differentiate the data sources:"
      ]
    },
    {
      "cell_type": "code",
      "execution_count": 17,
      "metadata": {
        "colab": {
          "base_uri": "https://localhost:8080/",
          "height": 284
        },
        "id": "UHfggdhBiouX",
        "outputId": "a439e3aa-1382-4244-951f-127dc8da0fe3"
      },
      "outputs": [
        {
          "name": "stderr",
          "output_type": "stream",
          "text": [
            "/usr/local/google/home/sycai/src/python-bigquery-dataframes/bigframes/core/array_value.py:114: PreviewWarning: JSON column interpretation as a custom PyArrow extention in\n",
            "`db_dtypes` is a preview feature and subject to change.\n",
            "  warnings.warn(msg, bfe.PreviewWarning)\n"
          ]
        },
        {
          "data": {
            "text/html": [
              "<div>\n",
              "<style scoped>\n",
              "    .dataframe tbody tr th:only-of-type {\n",
              "        vertical-align: middle;\n",
              "    }\n",
              "\n",
              "    .dataframe tbody tr th {\n",
              "        vertical-align: top;\n",
              "    }\n",
              "\n",
              "    .dataframe thead th {\n",
              "        text-align: right;\n",
              "    }\n",
              "</style>\n",
              "<table border=\"1\" class=\"dataframe\">\n",
              "  <thead>\n",
              "    <tr style=\"text-align: right;\">\n",
              "      <th></th>\n",
              "      <th>animal_left</th>\n",
              "      <th>animal_right</th>\n",
              "    </tr>\n",
              "  </thead>\n",
              "  <tbody>\n",
              "    <tr>\n",
              "      <th>0</th>\n",
              "      <td>cow</td>\n",
              "      <td>cat</td>\n",
              "    </tr>\n",
              "    <tr>\n",
              "      <th>1</th>\n",
              "      <td>cow</td>\n",
              "      <td>spider</td>\n",
              "    </tr>\n",
              "    <tr>\n",
              "      <th>2</th>\n",
              "      <td>cat</td>\n",
              "      <td>spider</td>\n",
              "    </tr>\n",
              "    <tr>\n",
              "      <th>3</th>\n",
              "      <td>elephant</td>\n",
              "      <td>cow</td>\n",
              "    </tr>\n",
              "    <tr>\n",
              "      <th>4</th>\n",
              "      <td>elephant</td>\n",
              "      <td>cat</td>\n",
              "    </tr>\n",
              "    <tr>\n",
              "      <th>5</th>\n",
              "      <td>elephant</td>\n",
              "      <td>spider</td>\n",
              "    </tr>\n",
              "  </tbody>\n",
              "</table>\n",
              "<p>6 rows × 2 columns</p>\n",
              "</div>[6 rows x 2 columns in total]"
            ],
            "text/plain": [
              "  animal_left animal_right\n",
              "0         cow          cat\n",
              "1         cow       spider\n",
              "2         cat       spider\n",
              "3    elephant          cow\n",
              "4    elephant          cat\n",
              "5    elephant       spider\n",
              "\n",
              "[6 rows x 2 columns]"
            ]
          },
          "execution_count": 17,
          "metadata": {},
          "output_type": "execute_result"
        }
      ],
      "source": [
        "animals.ai.join(animals, \"{left.animal} generally weighs heavier than {right.animal}\", model=gemini_model)"
      ]
    },
    {
      "cell_type": "markdown",
      "metadata": {
        "id": "kU7BsyTyiouX"
      },
      "source": [
        "## AI Top K"
      ]
    },
    {
      "cell_type": "markdown",
      "metadata": {
        "id": "s9QePXEoiouX"
      },
      "source": [
        "AI Top K selects the top K values based on your instruction. Here is an example:"
      ]
    },
    {
      "cell_type": "code",
      "execution_count": 18,
      "metadata": {
        "id": "bMQqtyZ2iouX"
      },
      "outputs": [],
      "source": [
        "df = bpd.DataFrame({\"Animals\": [\"Corgi\", \"Orange Cat\", \"Parrot\", \"Tarantula\"]})"
      ]
    },
    {
      "cell_type": "markdown",
      "metadata": {
        "id": "KiljGBSCiouX"
      },
      "source": [
        "You want to find the top two most popular pets:"
      ]
    },
    {
      "cell_type": "code",
      "execution_count": 19,
      "metadata": {
        "colab": {
          "base_uri": "https://localhost:8080/",
          "height": 159
        },
        "id": "OZv5WUGIiouX",
        "outputId": "ae1cee27-cc31-455e-c4ac-c0a9a5cf4ca5"
      },
      "outputs": [
        {
          "name": "stderr",
          "output_type": "stream",
          "text": [
            "/usr/local/google/home/sycai/src/python-bigquery-dataframes/bigframes/core/array_value.py:114: PreviewWarning: JSON column interpretation as a custom PyArrow extention in\n",
            "`db_dtypes` is a preview feature and subject to change.\n",
            "  warnings.warn(msg, bfe.PreviewWarning)\n"
          ]
        },
        {
          "data": {
            "text/html": [
              "<div>\n",
              "<style scoped>\n",
              "    .dataframe tbody tr th:only-of-type {\n",
              "        vertical-align: middle;\n",
              "    }\n",
              "\n",
              "    .dataframe tbody tr th {\n",
              "        vertical-align: top;\n",
              "    }\n",
              "\n",
              "    .dataframe thead th {\n",
              "        text-align: right;\n",
              "    }\n",
              "</style>\n",
              "<table border=\"1\" class=\"dataframe\">\n",
              "  <thead>\n",
              "    <tr style=\"text-align: right;\">\n",
              "      <th></th>\n",
              "      <th>Animals</th>\n",
              "    </tr>\n",
              "  </thead>\n",
              "  <tbody>\n",
              "    <tr>\n",
              "      <th>0</th>\n",
              "      <td>Corgi</td>\n",
              "    </tr>\n",
              "    <tr>\n",
              "      <th>1</th>\n",
              "      <td>Orange Cat</td>\n",
              "    </tr>\n",
              "  </tbody>\n",
              "</table>\n",
              "<p>2 rows × 1 columns</p>\n",
              "</div>[2 rows x 1 columns in total]"
            ],
            "text/plain": [
              "      Animals\n",
              "0       Corgi\n",
              "1  Orange Cat\n",
              "\n",
              "[2 rows x 1 columns]"
            ]
          },
          "execution_count": 19,
          "metadata": {},
          "output_type": "execute_result"
        }
      ],
      "source": [
        "df.ai.top_k(\"{Animals} are more popular as pets\", model=gemini_model, k=2)"
      ]
    },
    {
      "cell_type": "markdown",
      "metadata": {
        "id": "dC8fyu3aiouX"
      },
      "source": [
        "Under the hood, the AI top K operator performs pair-wise comparisons with LLM. The top K results are returned in the order of their indices instead of their ranks."
      ]
    },
    {
      "cell_type": "markdown",
      "metadata": {
        "id": "sIszJ0zPiouX"
      },
      "source": [
        "## AI Search"
      ]
    },
    {
      "cell_type": "markdown",
      "metadata": {
        "id": "e4ojHRKAiouX"
      },
      "source": [
        "AI search searches the most similar values to your query within a single column. Here is an example:"
      ]
    },
    {
      "cell_type": "code",
      "execution_count": 20,
      "metadata": {
        "colab": {
          "base_uri": "https://localhost:8080/",
          "height": 253
        },
        "id": "gnQSIZ5SiouX",
        "outputId": "dd6e1ecb-1bad-4a7c-8065-e56c697d0863"
      },
      "outputs": [
        {
          "data": {
            "text/html": [
              "<div>\n",
              "<style scoped>\n",
              "    .dataframe tbody tr th:only-of-type {\n",
              "        vertical-align: middle;\n",
              "    }\n",
              "\n",
              "    .dataframe tbody tr th {\n",
              "        vertical-align: top;\n",
              "    }\n",
              "\n",
              "    .dataframe thead th {\n",
              "        text-align: right;\n",
              "    }\n",
              "</style>\n",
              "<table border=\"1\" class=\"dataframe\">\n",
              "  <thead>\n",
              "    <tr style=\"text-align: right;\">\n",
              "      <th></th>\n",
              "      <th>creatures</th>\n",
              "    </tr>\n",
              "  </thead>\n",
              "  <tbody>\n",
              "    <tr>\n",
              "      <th>0</th>\n",
              "      <td>salmon</td>\n",
              "    </tr>\n",
              "    <tr>\n",
              "      <th>1</th>\n",
              "      <td>sea urchin</td>\n",
              "    </tr>\n",
              "    <tr>\n",
              "      <th>2</th>\n",
              "      <td>baboons</td>\n",
              "    </tr>\n",
              "    <tr>\n",
              "      <th>3</th>\n",
              "      <td>frog</td>\n",
              "    </tr>\n",
              "    <tr>\n",
              "      <th>4</th>\n",
              "      <td>chimpanzee</td>\n",
              "    </tr>\n",
              "  </tbody>\n",
              "</table>\n",
              "<p>5 rows × 1 columns</p>\n",
              "</div>[5 rows x 1 columns in total]"
            ],
            "text/plain": [
              "    creatures\n",
              "0      salmon\n",
              "1  sea urchin\n",
              "2     baboons\n",
              "3        frog\n",
              "4  chimpanzee\n",
              "\n",
              "[5 rows x 1 columns]"
            ]
          },
          "execution_count": 20,
          "metadata": {},
          "output_type": "execute_result"
        }
      ],
      "source": [
        "df = bpd.DataFrame({\"creatures\": [\"salmon\", \"sea urchin\", \"baboons\", \"frog\", \"chimpanzee\"]})\n",
        "df"
      ]
    },
    {
      "cell_type": "markdown",
      "metadata": {
        "id": "5apfIaZMiouX"
      },
      "source": [
        "You want to get the top 2 creatures that are most similar to \"monkey\":"
      ]
    },
    {
      "cell_type": "code",
      "execution_count": 21,
      "metadata": {
        "colab": {
          "base_uri": "https://localhost:8080/",
          "height": 159
        },
        "id": "CkAuFgPYiouY",
        "outputId": "723c7604-f53c-43d7-c754-4c91ec198dff"
      },
      "outputs": [
        {
          "name": "stderr",
          "output_type": "stream",
          "text": [
            "/usr/local/google/home/sycai/src/python-bigquery-dataframes/bigframes/core/array_value.py:114: PreviewWarning: JSON column interpretation as a custom PyArrow extention in\n",
            "`db_dtypes` is a preview feature and subject to change.\n",
            "  warnings.warn(msg, bfe.PreviewWarning)\n",
            "/usr/local/google/home/sycai/src/python-bigquery-dataframes/bigframes/core/array_value.py:114: PreviewWarning: JSON column interpretation as a custom PyArrow extention in\n",
            "`db_dtypes` is a preview feature and subject to change.\n",
            "  warnings.warn(msg, bfe.PreviewWarning)\n",
            "/usr/local/google/home/sycai/src/python-bigquery-dataframes/bigframes/core/array_value.py:114: PreviewWarning: JSON column interpretation as a custom PyArrow extention in\n",
            "`db_dtypes` is a preview feature and subject to change.\n",
            "  warnings.warn(msg, bfe.PreviewWarning)\n"
          ]
        },
        {
          "data": {
            "text/html": [
              "<div>\n",
              "<style scoped>\n",
              "    .dataframe tbody tr th:only-of-type {\n",
              "        vertical-align: middle;\n",
              "    }\n",
              "\n",
              "    .dataframe tbody tr th {\n",
              "        vertical-align: top;\n",
              "    }\n",
              "\n",
              "    .dataframe thead th {\n",
              "        text-align: right;\n",
              "    }\n",
              "</style>\n",
              "<table border=\"1\" class=\"dataframe\">\n",
              "  <thead>\n",
              "    <tr style=\"text-align: right;\">\n",
              "      <th></th>\n",
              "      <th>creatures</th>\n",
              "      <th>similarity score</th>\n",
              "    </tr>\n",
              "  </thead>\n",
              "  <tbody>\n",
              "    <tr>\n",
              "      <th>2</th>\n",
              "      <td>baboons</td>\n",
              "      <td>0.708434</td>\n",
              "    </tr>\n",
              "    <tr>\n",
              "      <th>4</th>\n",
              "      <td>chimpanzee</td>\n",
              "      <td>0.635844</td>\n",
              "    </tr>\n",
              "  </tbody>\n",
              "</table>\n",
              "<p>2 rows × 2 columns</p>\n",
              "</div>[2 rows x 2 columns in total]"
            ],
            "text/plain": [
              "    creatures  similarity score\n",
              "2     baboons          0.708434\n",
              "4  chimpanzee          0.635844\n",
              "\n",
              "[2 rows x 2 columns]"
            ]
          },
          "execution_count": 21,
          "metadata": {},
          "output_type": "execute_result"
        }
      ],
      "source": [
        "df.ai.search(\"creatures\", query=\"monkey\", top_k = 2, model = text_embedding_model, score_column='similarity score')"
      ]
    },
    {
      "cell_type": "markdown",
      "metadata": {
        "id": "GDZeVzFTiouY"
      },
      "source": [
        "Note that you are using a text embedding model this time. This model generates embedding vectors for both your query as well as the values in the search space. The operator then uses BigQuery's built-in VECTOR_SEARCH function to find the nearest neighbors of your query.\n",
        "\n",
        "In addition, `score_column` is an optional parameter for storing the distances between the results and your query. If not set, the score column won't be attached to the result."
      ]
    },
    {
      "cell_type": "markdown",
      "metadata": {
        "id": "EXNutIXqiouY"
      },
      "source": [
        "## AI Similarity Join"
      ]
    },
    {
      "cell_type": "markdown",
      "metadata": {
        "id": "BhWrhQMjiouY"
      },
      "source": [
        "When you want to perform multiple similarity queries in the same value space, you could use similarity join to simplify your call. For example:"
      ]
    },
    {
      "cell_type": "code",
      "execution_count": 22,
      "metadata": {
        "id": "cUc7-8O6iouY"
      },
      "outputs": [],
      "source": [
        "df1 = bpd.DataFrame({'animal': ['monkey', 'spider', 'salmon', 'giraffe', 'sparrow']})\n",
        "df2 = bpd.DataFrame({'animal': ['scorpion', 'baboon', 'owl', 'elephant', 'tuna']})"
      ]
    },
    {
      "cell_type": "markdown",
      "metadata": {
        "id": "k96WerOviouY"
      },
      "source": [
        "In this example, you want to pick the most related animal from `df2` for each value in `df1`."
      ]
    },
    {
      "cell_type": "code",
      "execution_count": 23,
      "metadata": {
        "colab": {
          "base_uri": "https://localhost:8080/",
          "height": 253
        },
        "id": "wPV5EkfpiouY",
        "outputId": "4be1211d-0353-4b94-8c27-ebd568e8e104"
      },
      "outputs": [
        {
          "name": "stderr",
          "output_type": "stream",
          "text": [
            "/usr/local/google/home/sycai/src/python-bigquery-dataframes/bigframes/core/array_value.py:114: PreviewWarning: JSON column interpretation as a custom PyArrow extention in\n",
            "`db_dtypes` is a preview feature and subject to change.\n",
            "  warnings.warn(msg, bfe.PreviewWarning)\n",
            "/usr/local/google/home/sycai/src/python-bigquery-dataframes/bigframes/core/array_value.py:114: PreviewWarning: JSON column interpretation as a custom PyArrow extention in\n",
            "`db_dtypes` is a preview feature and subject to change.\n",
            "  warnings.warn(msg, bfe.PreviewWarning)\n"
          ]
        },
        {
          "data": {
            "text/html": [
              "<div>\n",
              "<style scoped>\n",
              "    .dataframe tbody tr th:only-of-type {\n",
              "        vertical-align: middle;\n",
              "    }\n",
              "\n",
              "    .dataframe tbody tr th {\n",
              "        vertical-align: top;\n",
              "    }\n",
              "\n",
              "    .dataframe thead th {\n",
              "        text-align: right;\n",
              "    }\n",
              "</style>\n",
              "<table border=\"1\" class=\"dataframe\">\n",
              "  <thead>\n",
              "    <tr style=\"text-align: right;\">\n",
              "      <th></th>\n",
              "      <th>animal</th>\n",
              "      <th>animal_1</th>\n",
              "      <th>distance</th>\n",
              "    </tr>\n",
              "  </thead>\n",
              "  <tbody>\n",
              "    <tr>\n",
              "      <th>0</th>\n",
              "      <td>monkey</td>\n",
              "      <td>baboon</td>\n",
              "      <td>0.620521</td>\n",
              "    </tr>\n",
              "    <tr>\n",
              "      <th>1</th>\n",
              "      <td>spider</td>\n",
              "      <td>scorpion</td>\n",
              "      <td>0.728024</td>\n",
              "    </tr>\n",
              "    <tr>\n",
              "      <th>2</th>\n",
              "      <td>salmon</td>\n",
              "      <td>tuna</td>\n",
              "      <td>0.782141</td>\n",
              "    </tr>\n",
              "    <tr>\n",
              "      <th>3</th>\n",
              "      <td>giraffe</td>\n",
              "      <td>elephant</td>\n",
              "      <td>0.7135</td>\n",
              "    </tr>\n",
              "    <tr>\n",
              "      <th>4</th>\n",
              "      <td>sparrow</td>\n",
              "      <td>owl</td>\n",
              "      <td>0.810864</td>\n",
              "    </tr>\n",
              "  </tbody>\n",
              "</table>\n",
              "<p>5 rows × 3 columns</p>\n",
              "</div>[5 rows x 3 columns in total]"
            ],
            "text/plain": [
              "    animal  animal_1  distance\n",
              "0   monkey    baboon  0.620521\n",
              "1   spider  scorpion  0.728024\n",
              "2   salmon      tuna  0.782141\n",
              "3  giraffe  elephant    0.7135\n",
              "4  sparrow       owl  0.810864\n",
              "\n",
              "[5 rows x 3 columns]"
            ]
          },
          "execution_count": 23,
          "metadata": {},
          "output_type": "execute_result"
        }
      ],
      "source": [
        "df1.ai.sim_join(df2, left_on='animal', right_on='animal', top_k=1, model=text_embedding_model, score_column='distance')"
      ]
    },
    {
      "cell_type": "markdown",
      "metadata": {
        "id": "GplzD7v0iouY"
      },
      "source": [
        "!! **Important** Like AI join, this operator can also be very expensive. To guard against unexpected processing of large dataset, use the `bigframes.options.compute.sem_ops_confirmation_threshold` option to specify a threshold."
      ]
    },
    {
      "cell_type": "markdown",
      "metadata": {
        "id": "hgj8GoQhiouY"
      },
      "source": [
        "# Performance Analyses"
      ]
    },
    {
      "cell_type": "markdown",
      "metadata": {
        "id": "EZomL0BciouY"
      },
      "source": [
        "In this section, you will use BigQuery's public data of hacker news to perform some heavy work. We recommend you to check the code without executing them in order to save your time and money. The execution results are attached after each cell for your reference.\n",
        "\n",
        "First, load 3k rows from the table:"
      ]
    },
    {
      "cell_type": "code",
      "execution_count": 24,
      "metadata": {
        "colab": {
          "base_uri": "https://localhost:8080/",
          "height": 880
        },
        "id": "wRR0SrcSiouY",
        "outputId": "3b25f3a3-09c7-4396-9107-4aa4cdb4b963"
      },
      "outputs": [
        {
          "data": {
            "text/html": [
              "<div>\n",
              "<style scoped>\n",
              "    .dataframe tbody tr th:only-of-type {\n",
              "        vertical-align: middle;\n",
              "    }\n",
              "\n",
              "    .dataframe tbody tr th {\n",
              "        vertical-align: top;\n",
              "    }\n",
              "\n",
              "    .dataframe thead th {\n",
              "        text-align: right;\n",
              "    }\n",
              "</style>\n",
              "<table border=\"1\" class=\"dataframe\">\n",
              "  <thead>\n",
              "    <tr style=\"text-align: right;\">\n",
              "      <th></th>\n",
              "      <th>title</th>\n",
              "      <th>text</th>\n",
              "      <th>by</th>\n",
              "      <th>score</th>\n",
              "      <th>timestamp</th>\n",
              "      <th>type</th>\n",
              "    </tr>\n",
              "  </thead>\n",
              "  <tbody>\n",
              "    <tr>\n",
              "      <th>0</th>\n",
              "      <td>&lt;NA&gt;</td>\n",
              "      <td>&lt;NA&gt;</td>\n",
              "      <td>&lt;NA&gt;</td>\n",
              "      <td>&lt;NA&gt;</td>\n",
              "      <td>2010-04-16 19:52:51+00:00</td>\n",
              "      <td>comment</td>\n",
              "    </tr>\n",
              "    <tr>\n",
              "      <th>1</th>\n",
              "      <td>&lt;NA&gt;</td>\n",
              "      <td>I&amp;#x27;d agree about border control with a cav...</td>\n",
              "      <td>bandrami</td>\n",
              "      <td>&lt;NA&gt;</td>\n",
              "      <td>2023-06-04 06:12:00+00:00</td>\n",
              "      <td>comment</td>\n",
              "    </tr>\n",
              "    <tr>\n",
              "      <th>2</th>\n",
              "      <td>&lt;NA&gt;</td>\n",
              "      <td>So 4 pickups? At least pickups are high margin...</td>\n",
              "      <td>seanmcdirmid</td>\n",
              "      <td>&lt;NA&gt;</td>\n",
              "      <td>2023-09-19 14:19:46+00:00</td>\n",
              "      <td>comment</td>\n",
              "    </tr>\n",
              "    <tr>\n",
              "      <th>3</th>\n",
              "      <td>Workplace Wellness Programs Don’t Work Well. W...</td>\n",
              "      <td>&lt;NA&gt;</td>\n",
              "      <td>anarbadalov</td>\n",
              "      <td>2</td>\n",
              "      <td>2018-08-07 12:17:45+00:00</td>\n",
              "      <td>story</td>\n",
              "    </tr>\n",
              "    <tr>\n",
              "      <th>4</th>\n",
              "      <td>&lt;NA&gt;</td>\n",
              "      <td>Are you implying that to be a good developer y...</td>\n",
              "      <td>ecesena</td>\n",
              "      <td>&lt;NA&gt;</td>\n",
              "      <td>2016-06-10 19:38:25+00:00</td>\n",
              "      <td>comment</td>\n",
              "    </tr>\n",
              "    <tr>\n",
              "      <th>5</th>\n",
              "      <td>&lt;NA&gt;</td>\n",
              "      <td>It pretty much works with other carriers. My s...</td>\n",
              "      <td>toast0</td>\n",
              "      <td>&lt;NA&gt;</td>\n",
              "      <td>2024-08-13 03:11:32+00:00</td>\n",
              "      <td>comment</td>\n",
              "    </tr>\n",
              "    <tr>\n",
              "      <th>6</th>\n",
              "      <td>&lt;NA&gt;</td>\n",
              "      <td>&lt;NA&gt;</td>\n",
              "      <td>&lt;NA&gt;</td>\n",
              "      <td>&lt;NA&gt;</td>\n",
              "      <td>2020-06-07 22:43:03+00:00</td>\n",
              "      <td>comment</td>\n",
              "    </tr>\n",
              "    <tr>\n",
              "      <th>7</th>\n",
              "      <td>&lt;NA&gt;</td>\n",
              "      <td>&amp;quot;not operated for profit&amp;quot; and &amp;quot;...</td>\n",
              "      <td>radford-neal</td>\n",
              "      <td>&lt;NA&gt;</td>\n",
              "      <td>2020-03-19 00:24:47+00:00</td>\n",
              "      <td>comment</td>\n",
              "    </tr>\n",
              "    <tr>\n",
              "      <th>8</th>\n",
              "      <td>&lt;NA&gt;</td>\n",
              "      <td>It&amp;#x27;s a good description of one applicatio...</td>\n",
              "      <td>dkarl</td>\n",
              "      <td>&lt;NA&gt;</td>\n",
              "      <td>2024-10-07 13:38:18+00:00</td>\n",
              "      <td>comment</td>\n",
              "    </tr>\n",
              "    <tr>\n",
              "      <th>9</th>\n",
              "      <td>&lt;NA&gt;</td>\n",
              "      <td>Might be a bit high, but....&lt;p&gt;&lt;i&gt;&amp;quot;For ex...</td>\n",
              "      <td>tyingq</td>\n",
              "      <td>&lt;NA&gt;</td>\n",
              "      <td>2017-01-23 19:49:15+00:00</td>\n",
              "      <td>comment</td>\n",
              "    </tr>\n",
              "    <tr>\n",
              "      <th>10</th>\n",
              "      <td>Taiwan’s Tech King to Nancy Pelosi: U.S. Is in...</td>\n",
              "      <td>&lt;NA&gt;</td>\n",
              "      <td>dlcmh</td>\n",
              "      <td>11</td>\n",
              "      <td>2023-02-18 02:51:11+00:00</td>\n",
              "      <td>story</td>\n",
              "    </tr>\n",
              "    <tr>\n",
              "      <th>11</th>\n",
              "      <td>Android’s new multitasking is terrible and sho...</td>\n",
              "      <td>&lt;NA&gt;</td>\n",
              "      <td>wowamit</td>\n",
              "      <td>1</td>\n",
              "      <td>2018-10-22 09:50:36+00:00</td>\n",
              "      <td>story</td>\n",
              "    </tr>\n",
              "    <tr>\n",
              "      <th>12</th>\n",
              "      <td>&lt;NA&gt;</td>\n",
              "      <td>SEEKING WORK | REMOTE | US Citizen&lt;p&gt;Location:...</td>\n",
              "      <td>rasikjain</td>\n",
              "      <td>&lt;NA&gt;</td>\n",
              "      <td>2024-08-01 16:56:49+00:00</td>\n",
              "      <td>comment</td>\n",
              "    </tr>\n",
              "    <tr>\n",
              "      <th>13</th>\n",
              "      <td>&lt;NA&gt;</td>\n",
              "      <td>I had a very similar experience last month tea...</td>\n",
              "      <td>tmaly</td>\n",
              "      <td>&lt;NA&gt;</td>\n",
              "      <td>2020-01-22 18:26:36+00:00</td>\n",
              "      <td>comment</td>\n",
              "    </tr>\n",
              "    <tr>\n",
              "      <th>14</th>\n",
              "      <td>&lt;NA&gt;</td>\n",
              "      <td>&lt;NA&gt;</td>\n",
              "      <td>mrtweetyhack</td>\n",
              "      <td>&lt;NA&gt;</td>\n",
              "      <td>2022-02-26 19:34:00+00:00</td>\n",
              "      <td>comment</td>\n",
              "    </tr>\n",
              "    <tr>\n",
              "      <th>15</th>\n",
              "      <td>&lt;NA&gt;</td>\n",
              "      <td>&amp;gt; Just do what most American cities do with...</td>\n",
              "      <td>AnthonyMouse</td>\n",
              "      <td>&lt;NA&gt;</td>\n",
              "      <td>2021-10-04 23:10:50+00:00</td>\n",
              "      <td>comment</td>\n",
              "    </tr>\n",
              "    <tr>\n",
              "      <th>16</th>\n",
              "      <td>&lt;NA&gt;</td>\n",
              "      <td>It&amp;#x27;s not a space. The l and the C are at ...</td>\n",
              "      <td>antninja</td>\n",
              "      <td>&lt;NA&gt;</td>\n",
              "      <td>2013-07-13 09:48:34+00:00</td>\n",
              "      <td>comment</td>\n",
              "    </tr>\n",
              "    <tr>\n",
              "      <th>17</th>\n",
              "      <td>&lt;NA&gt;</td>\n",
              "      <td>I’ve knowingly paid the premium in the past, j...</td>\n",
              "      <td>zwily</td>\n",
              "      <td>&lt;NA&gt;</td>\n",
              "      <td>2020-06-17 14:26:43+00:00</td>\n",
              "      <td>comment</td>\n",
              "    </tr>\n",
              "    <tr>\n",
              "      <th>18</th>\n",
              "      <td>&lt;NA&gt;</td>\n",
              "      <td>&amp;gt; Any sufficiently complicated C or Fortran...</td>\n",
              "      <td>wavemode</td>\n",
              "      <td>&lt;NA&gt;</td>\n",
              "      <td>2025-02-07 06:42:53+00:00</td>\n",
              "      <td>comment</td>\n",
              "    </tr>\n",
              "    <tr>\n",
              "      <th>19</th>\n",
              "      <td>&lt;NA&gt;</td>\n",
              "      <td>It&amp;#x27;s similar to a lot of Japanese &amp;quot;t...</td>\n",
              "      <td>TillE</td>\n",
              "      <td>&lt;NA&gt;</td>\n",
              "      <td>2022-11-06 17:15:10+00:00</td>\n",
              "      <td>comment</td>\n",
              "    </tr>\n",
              "    <tr>\n",
              "      <th>20</th>\n",
              "      <td>&lt;NA&gt;</td>\n",
              "      <td>Engineers are just people paid to code. If you...</td>\n",
              "      <td>rchaud</td>\n",
              "      <td>&lt;NA&gt;</td>\n",
              "      <td>2023-04-12 14:31:42+00:00</td>\n",
              "      <td>comment</td>\n",
              "    </tr>\n",
              "    <tr>\n",
              "      <th>21</th>\n",
              "      <td>&lt;NA&gt;</td>\n",
              "      <td>So don&amp;#x27;t use it</td>\n",
              "      <td>CyberDildonics</td>\n",
              "      <td>&lt;NA&gt;</td>\n",
              "      <td>2015-12-29 22:01:16+00:00</td>\n",
              "      <td>comment</td>\n",
              "    </tr>\n",
              "    <tr>\n",
              "      <th>22</th>\n",
              "      <td>&lt;NA&gt;</td>\n",
              "      <td>Sure, but there are degrees of these things. T...</td>\n",
              "      <td>dang</td>\n",
              "      <td>&lt;NA&gt;</td>\n",
              "      <td>2021-11-11 23:42:12+00:00</td>\n",
              "      <td>comment</td>\n",
              "    </tr>\n",
              "    <tr>\n",
              "      <th>23</th>\n",
              "      <td>&lt;NA&gt;</td>\n",
              "      <td>I wish this would happen.  There&amp;#x27;s a &amp;quo...</td>\n",
              "      <td>coredog64</td>\n",
              "      <td>&lt;NA&gt;</td>\n",
              "      <td>2018-02-12 16:03:37+00:00</td>\n",
              "      <td>comment</td>\n",
              "    </tr>\n",
              "    <tr>\n",
              "      <th>24</th>\n",
              "      <td>&lt;NA&gt;</td>\n",
              "      <td>I’m not sure why responsible riders wouldn’t w...</td>\n",
              "      <td>mjmahone17</td>\n",
              "      <td>&lt;NA&gt;</td>\n",
              "      <td>2021-11-09 01:36:01+00:00</td>\n",
              "      <td>comment</td>\n",
              "    </tr>\n",
              "  </tbody>\n",
              "</table>\n",
              "<p>25 rows × 6 columns</p>\n",
              "</div>[3000 rows x 6 columns in total]"
            ],
            "text/plain": [
              "                                                title  \\\n",
              "0                                                <NA>   \n",
              "1                                                <NA>   \n",
              "2                                                <NA>   \n",
              "3   Workplace Wellness Programs Don’t Work Well. W...   \n",
              "4                                                <NA>   \n",
              "5                                                <NA>   \n",
              "6                                                <NA>   \n",
              "7                                                <NA>   \n",
              "8                                                <NA>   \n",
              "9                                                <NA>   \n",
              "10  Taiwan’s Tech King to Nancy Pelosi: U.S. Is in...   \n",
              "11  Android’s new multitasking is terrible and sho...   \n",
              "12                                               <NA>   \n",
              "13                                               <NA>   \n",
              "14                                               <NA>   \n",
              "15                                               <NA>   \n",
              "16                                               <NA>   \n",
              "17                                               <NA>   \n",
              "18                                               <NA>   \n",
              "19                                               <NA>   \n",
              "20                                               <NA>   \n",
              "21                                               <NA>   \n",
              "22                                               <NA>   \n",
              "23                                               <NA>   \n",
              "24                                               <NA>   \n",
              "\n",
              "                                                 text              by  score  \\\n",
              "0                                                <NA>            <NA>   <NA>   \n",
              "1   I&#x27;d agree about border control with a cav...        bandrami   <NA>   \n",
              "2   So 4 pickups? At least pickups are high margin...    seanmcdirmid   <NA>   \n",
              "3                                                <NA>     anarbadalov      2   \n",
              "4   Are you implying that to be a good developer y...         ecesena   <NA>   \n",
              "5   It pretty much works with other carriers. My s...          toast0   <NA>   \n",
              "6                                                <NA>            <NA>   <NA>   \n",
              "7   &quot;not operated for profit&quot; and &quot;...    radford-neal   <NA>   \n",
              "8   It&#x27;s a good description of one applicatio...           dkarl   <NA>   \n",
              "9   Might be a bit high, but....<p><i>&quot;For ex...          tyingq   <NA>   \n",
              "10                                               <NA>           dlcmh     11   \n",
              "11                                               <NA>         wowamit      1   \n",
              "12  SEEKING WORK | REMOTE | US Citizen<p>Location:...       rasikjain   <NA>   \n",
              "13  I had a very similar experience last month tea...           tmaly   <NA>   \n",
              "14                                               <NA>    mrtweetyhack   <NA>   \n",
              "15  &gt; Just do what most American cities do with...    AnthonyMouse   <NA>   \n",
              "16  It&#x27;s not a space. The l and the C are at ...        antninja   <NA>   \n",
              "17  I’ve knowingly paid the premium in the past, j...           zwily   <NA>   \n",
              "18  &gt; Any sufficiently complicated C or Fortran...        wavemode   <NA>   \n",
              "19  It&#x27;s similar to a lot of Japanese &quot;t...           TillE   <NA>   \n",
              "20  Engineers are just people paid to code. If you...          rchaud   <NA>   \n",
              "21                               So don&#x27;t use it  CyberDildonics   <NA>   \n",
              "22  Sure, but there are degrees of these things. T...            dang   <NA>   \n",
              "23  I wish this would happen.  There&#x27;s a &quo...       coredog64   <NA>   \n",
              "24  I’m not sure why responsible riders wouldn’t w...      mjmahone17   <NA>   \n",
              "\n",
              "                    timestamp     type  \n",
              "0   2010-04-16 19:52:51+00:00  comment  \n",
              "1   2023-06-04 06:12:00+00:00  comment  \n",
              "2   2023-09-19 14:19:46+00:00  comment  \n",
              "3   2018-08-07 12:17:45+00:00    story  \n",
              "4   2016-06-10 19:38:25+00:00  comment  \n",
              "5   2024-08-13 03:11:32+00:00  comment  \n",
              "6   2020-06-07 22:43:03+00:00  comment  \n",
              "7   2020-03-19 00:24:47+00:00  comment  \n",
              "8   2024-10-07 13:38:18+00:00  comment  \n",
              "9   2017-01-23 19:49:15+00:00  comment  \n",
              "10  2023-02-18 02:51:11+00:00    story  \n",
              "11  2018-10-22 09:50:36+00:00    story  \n",
              "12  2024-08-01 16:56:49+00:00  comment  \n",
              "13  2020-01-22 18:26:36+00:00  comment  \n",
              "14  2022-02-26 19:34:00+00:00  comment  \n",
              "15  2021-10-04 23:10:50+00:00  comment  \n",
              "16  2013-07-13 09:48:34+00:00  comment  \n",
              "17  2020-06-17 14:26:43+00:00  comment  \n",
              "18  2025-02-07 06:42:53+00:00  comment  \n",
              "19  2022-11-06 17:15:10+00:00  comment  \n",
              "20  2023-04-12 14:31:42+00:00  comment  \n",
              "21  2015-12-29 22:01:16+00:00  comment  \n",
              "22  2021-11-11 23:42:12+00:00  comment  \n",
              "23  2018-02-12 16:03:37+00:00  comment  \n",
              "24  2021-11-09 01:36:01+00:00  comment  \n",
              "...\n",
              "\n",
              "[3000 rows x 6 columns]"
            ]
          },
          "execution_count": 24,
          "metadata": {},
          "output_type": "execute_result"
        }
      ],
      "source": [
        "hacker_news = bpd.read_gbq(\"bigquery-public-data.hacker_news.full\")[['title', 'text', 'by', 'score', 'timestamp', 'type']].head(3000)\n",
        "hacker_news"
      ]
    },
    {
      "cell_type": "markdown",
      "metadata": {
        "id": "3e94DPOdiouY"
      },
      "source": [
        "Then, keep only the rows that have text content:"
      ]
    },
    {
      "cell_type": "code",
      "execution_count": 25,
      "metadata": {
        "colab": {
          "base_uri": "https://localhost:8080/"
        },
        "id": "mQl8hc1biouY",
        "outputId": "2b4ffa85-9d95-4a20-9040-0420c67da2d4"
      },
      "outputs": [
        {
          "data": {
            "text/plain": [
              "2533"
            ]
          },
          "execution_count": 25,
          "metadata": {},
          "output_type": "execute_result"
        }
      ],
      "source": [
        "hacker_news_with_texts = hacker_news[hacker_news['text'].isnull() == False]\n",
        "len(hacker_news_with_texts)"
      ]
    },
    {
      "cell_type": "markdown",
      "metadata": {
        "id": "JWalDtLDiouZ"
      },
      "source": [
        "You can get an idea of the input token length by calculating the average string length."
      ]
    },
    {
      "cell_type": "code",
      "execution_count": 26,
      "metadata": {
        "colab": {
          "base_uri": "https://localhost:8080/"
        },
        "id": "PZeg4LCUiouZ",
        "outputId": "05b67cac-6b3d-42ef-d6d6-b578a9734f4c"
      },
      "outputs": [
        {
          "data": {
            "text/plain": [
              "393.2356889064355"
            ]
          },
          "execution_count": 26,
          "metadata": {},
          "output_type": "execute_result"
        }
      ],
      "source": [
        "hacker_news_with_texts['text'].str.len().mean()"
      ]
    },
    {
      "cell_type": "markdown",
      "metadata": {
        "id": "2IXqskHHiouZ"
      },
      "source": [
        "**Optional**: You can raise the confirmation threshold for a smoother experience."
      ]
    },
    {
      "cell_type": "code",
      "execution_count": null,
      "metadata": {
        "id": "EpjXQ4FViouZ"
      },
      "outputs": [],
      "source": [
        "if Version(bigframes.__version__) >= Version(\"1.42.0\"):\n",
        "    bigframes.options.compute.ai_ops_confirmation_threshold = 5000"
      ]
    },
    {
      "cell_type": "markdown",
      "metadata": {
        "id": "SYFB-X1RiouZ"
      },
      "source": [
        "Now it's LLM's turn. You want to keep only the rows whose texts are talking about iPhone. This will take several minutes to finish."
      ]
    },
    {
      "cell_type": "code",
      "execution_count": 28,
      "metadata": {
        "colab": {
          "base_uri": "https://localhost:8080/",
          "height": 253
        },
        "id": "rditQlmoiouZ",
        "outputId": "2b44dcbf-2ef5-4119-ca05-9b082db9c0c1"
      },
      "outputs": [
        {
          "name": "stderr",
          "output_type": "stream",
          "text": [
            "/usr/local/google/home/sycai/src/python-bigquery-dataframes/bigframes/core/array_value.py:114: PreviewWarning: JSON column interpretation as a custom PyArrow extention in\n",
            "`db_dtypes` is a preview feature and subject to change.\n",
            "  warnings.warn(msg, bfe.PreviewWarning)\n"
          ]
        },
        {
          "data": {
            "text/html": [
              "<div>\n",
              "<style scoped>\n",
              "    .dataframe tbody tr th:only-of-type {\n",
              "        vertical-align: middle;\n",
              "    }\n",
              "\n",
              "    .dataframe tbody tr th {\n",
              "        vertical-align: top;\n",
              "    }\n",
              "\n",
              "    .dataframe thead th {\n",
              "        text-align: right;\n",
              "    }\n",
              "</style>\n",
              "<table border=\"1\" class=\"dataframe\">\n",
              "  <thead>\n",
              "    <tr style=\"text-align: right;\">\n",
              "      <th></th>\n",
              "      <th>title</th>\n",
              "      <th>text</th>\n",
              "      <th>by</th>\n",
              "      <th>score</th>\n",
              "      <th>timestamp</th>\n",
              "      <th>type</th>\n",
              "    </tr>\n",
              "  </thead>\n",
              "  <tbody>\n",
              "    <tr>\n",
              "      <th>445</th>\n",
              "      <td>&lt;NA&gt;</td>\n",
              "      <td>If I want to manipulate a device, I&amp;#x27;ll bu...</td>\n",
              "      <td>exelius</td>\n",
              "      <td>&lt;NA&gt;</td>\n",
              "      <td>2017-09-21 17:39:37+00:00</td>\n",
              "      <td>comment</td>\n",
              "    </tr>\n",
              "    <tr>\n",
              "      <th>967</th>\n",
              "      <td>&lt;NA&gt;</td>\n",
              "      <td>&lt;a href=\"https:&amp;#x2F;&amp;#x2F;archive.ph&amp;#x2F;nnE...</td>\n",
              "      <td>blinding-streak</td>\n",
              "      <td>&lt;NA&gt;</td>\n",
              "      <td>2023-04-30 19:10:16+00:00</td>\n",
              "      <td>comment</td>\n",
              "    </tr>\n",
              "    <tr>\n",
              "      <th>975</th>\n",
              "      <td>&lt;NA&gt;</td>\n",
              "      <td>I&amp;#x27;ve had my 6S Plus now for 36 months and...</td>\n",
              "      <td>throwaway427</td>\n",
              "      <td>&lt;NA&gt;</td>\n",
              "      <td>2019-01-03 18:06:33+00:00</td>\n",
              "      <td>comment</td>\n",
              "    </tr>\n",
              "    <tr>\n",
              "      <th>1253</th>\n",
              "      <td>&lt;NA&gt;</td>\n",
              "      <td>Apple is far more closed and tyrannical with i...</td>\n",
              "      <td>RyanMcGreal</td>\n",
              "      <td>&lt;NA&gt;</td>\n",
              "      <td>2012-12-21 00:45:40+00:00</td>\n",
              "      <td>comment</td>\n",
              "    </tr>\n",
              "    <tr>\n",
              "      <th>1274</th>\n",
              "      <td>&lt;NA&gt;</td>\n",
              "      <td>An iOS version was released earlier this year....</td>\n",
              "      <td>pls2halp</td>\n",
              "      <td>&lt;NA&gt;</td>\n",
              "      <td>2017-12-09 06:36:41+00:00</td>\n",
              "      <td>comment</td>\n",
              "    </tr>\n",
              "    <tr>\n",
              "      <th>1548</th>\n",
              "      <td>&lt;NA&gt;</td>\n",
              "      <td>I’m not sure how that fits with Apple pursuing...</td>\n",
              "      <td>alphabettsy</td>\n",
              "      <td>&lt;NA&gt;</td>\n",
              "      <td>2021-12-26 19:41:38+00:00</td>\n",
              "      <td>comment</td>\n",
              "    </tr>\n",
              "    <tr>\n",
              "      <th>1630</th>\n",
              "      <td>&lt;NA&gt;</td>\n",
              "      <td>Not sure if you’re being ironic, but I use an ...</td>\n",
              "      <td>lxgr</td>\n",
              "      <td>&lt;NA&gt;</td>\n",
              "      <td>2025-03-29 03:57:25+00:00</td>\n",
              "      <td>comment</td>\n",
              "    </tr>\n",
              "    <tr>\n",
              "      <th>1664</th>\n",
              "      <td>&lt;NA&gt;</td>\n",
              "      <td>Quoting from the article I linked you:&lt;p&gt;&amp;gt;&amp;...</td>\n",
              "      <td>StreamBright</td>\n",
              "      <td>&lt;NA&gt;</td>\n",
              "      <td>2017-09-11 19:57:34+00:00</td>\n",
              "      <td>comment</td>\n",
              "    </tr>\n",
              "    <tr>\n",
              "      <th>1884</th>\n",
              "      <td>&lt;NA&gt;</td>\n",
              "      <td>&amp;gt; Not all wireless headsets are the same, h...</td>\n",
              "      <td>cptskippy</td>\n",
              "      <td>&lt;NA&gt;</td>\n",
              "      <td>2021-11-16 13:28:44+00:00</td>\n",
              "      <td>comment</td>\n",
              "    </tr>\n",
              "    <tr>\n",
              "      <th>2251</th>\n",
              "      <td>&lt;NA&gt;</td>\n",
              "      <td>Will not buy any more apple product, iphone 4s...</td>\n",
              "      <td>omi</td>\n",
              "      <td>&lt;NA&gt;</td>\n",
              "      <td>2012-09-11 14:42:52+00:00</td>\n",
              "      <td>comment</td>\n",
              "    </tr>\n",
              "    <tr>\n",
              "      <th>2877</th>\n",
              "      <td>&lt;NA&gt;</td>\n",
              "      <td>I&amp;#x27;ve been an iPhone user since the OG in ...</td>\n",
              "      <td>vsnf</td>\n",
              "      <td>&lt;NA&gt;</td>\n",
              "      <td>2024-04-15 06:28:09+00:00</td>\n",
              "      <td>comment</td>\n",
              "    </tr>\n",
              "  </tbody>\n",
              "</table>\n",
              "<p>11 rows × 6 columns</p>\n",
              "</div>[11 rows x 6 columns in total]"
            ],
            "text/plain": [
              "     title                                               text  \\\n",
              "445   <NA>  If I want to manipulate a device, I&#x27;ll bu...   \n",
              "967   <NA>  <a href=\"https:&#x2F;&#x2F;archive.ph&#x2F;nnE...   \n",
              "975   <NA>  I&#x27;ve had my 6S Plus now for 36 months and...   \n",
              "1253  <NA>  Apple is far more closed and tyrannical with i...   \n",
              "1274  <NA>  An iOS version was released earlier this year....   \n",
              "1548  <NA>  I’m not sure how that fits with Apple pursuing...   \n",
              "1630  <NA>  Not sure if you’re being ironic, but I use an ...   \n",
              "1664  <NA>  Quoting from the article I linked you:<p>&gt;&...   \n",
              "1884  <NA>  &gt; Not all wireless headsets are the same, h...   \n",
              "2251  <NA>  Will not buy any more apple product, iphone 4s...   \n",
              "2877  <NA>  I&#x27;ve been an iPhone user since the OG in ...   \n",
              "\n",
              "                   by  score                  timestamp     type  \n",
              "445           exelius   <NA>  2017-09-21 17:39:37+00:00  comment  \n",
              "967   blinding-streak   <NA>  2023-04-30 19:10:16+00:00  comment  \n",
              "975      throwaway427   <NA>  2019-01-03 18:06:33+00:00  comment  \n",
              "1253      RyanMcGreal   <NA>  2012-12-21 00:45:40+00:00  comment  \n",
              "1274         pls2halp   <NA>  2017-12-09 06:36:41+00:00  comment  \n",
              "1548      alphabettsy   <NA>  2021-12-26 19:41:38+00:00  comment  \n",
              "1630             lxgr   <NA>  2025-03-29 03:57:25+00:00  comment  \n",
              "1664     StreamBright   <NA>  2017-09-11 19:57:34+00:00  comment  \n",
              "1884        cptskippy   <NA>  2021-11-16 13:28:44+00:00  comment  \n",
              "2251              omi   <NA>  2012-09-11 14:42:52+00:00  comment  \n",
              "2877             vsnf   <NA>  2024-04-15 06:28:09+00:00  comment  \n",
              "\n",
              "[11 rows x 6 columns]"
            ]
          },
          "execution_count": 28,
          "metadata": {},
          "output_type": "execute_result"
        }
      ],
      "source": [
        "iphone_comments = hacker_news_with_texts.ai.filter(\"The {text} is mainly focused on iPhone\", gemini_model)\n",
        "iphone_comments"
      ]
    },
    {
      "cell_type": "markdown",
      "metadata": {
        "id": "yl24sJFIiouZ"
      },
      "source": [
        "The performance of the ai operators depends on the length of your input as well as your quota. Here are our benchmarks for running the previous operation with Gemini Flash 1.5 over data of different sizes. Here are the estimates supposing your quota is [the default 200 requests per minute](https://cloud.google.com/vertex-ai/generative-ai/docs/quotas):\n",
        "\n",
        "* 800 Rows -> ~4m\n",
        "* 2550 Rows -> ~13m\n",
        "* 8500 Rows -> ~40m\n",
        "\n",
        "These numbers can give you a general idea of how fast the operators run."
      ]
    },
    {
      "cell_type": "markdown",
      "metadata": {
        "id": "eo4nfISuiouZ"
      },
      "source": [
        "Now, use LLM to summarize the sentiments towards iPhone:"
      ]
    },
    {
      "cell_type": "code",
      "execution_count": 29,
      "metadata": {
        "colab": {
          "base_uri": "https://localhost:8080/",
          "height": 253
        },
        "id": "IlKBrNxUiouZ",
        "outputId": "818d01e4-1cdf-42a2-9e02-61c4736a8905"
      },
      "outputs": [
        {
          "name": "stderr",
          "output_type": "stream",
          "text": [
            "/usr/local/google/home/sycai/src/python-bigquery-dataframes/bigframes/core/array_value.py:114: PreviewWarning: JSON column interpretation as a custom PyArrow extention in\n",
            "`db_dtypes` is a preview feature and subject to change.\n",
            "  warnings.warn(msg, bfe.PreviewWarning)\n"
          ]
        },
        {
          "data": {
            "text/html": [
              "<div>\n",
              "<style scoped>\n",
              "    .dataframe tbody tr th:only-of-type {\n",
              "        vertical-align: middle;\n",
              "    }\n",
              "\n",
              "    .dataframe tbody tr th {\n",
              "        vertical-align: top;\n",
              "    }\n",
              "\n",
              "    .dataframe thead th {\n",
              "        text-align: right;\n",
              "    }\n",
              "</style>\n",
              "<table border=\"1\" class=\"dataframe\">\n",
              "  <thead>\n",
              "    <tr style=\"text-align: right;\">\n",
              "      <th></th>\n",
              "      <th>title</th>\n",
              "      <th>text</th>\n",
              "      <th>by</th>\n",
              "      <th>score</th>\n",
              "      <th>timestamp</th>\n",
              "      <th>type</th>\n",
              "      <th>sentiment</th>\n",
              "    </tr>\n",
              "  </thead>\n",
              "  <tbody>\n",
              "    <tr>\n",
              "      <th>445</th>\n",
              "      <td>&lt;NA&gt;</td>\n",
              "      <td>If I want to manipulate a device, I&amp;#x27;ll bu...</td>\n",
              "      <td>exelius</td>\n",
              "      <td>&lt;NA&gt;</td>\n",
              "      <td>2017-09-21 17:39:37+00:00</td>\n",
              "      <td>comment</td>\n",
              "      <td>Pragmatic, slightly annoyed</td>\n",
              "    </tr>\n",
              "    <tr>\n",
              "      <th>967</th>\n",
              "      <td>&lt;NA&gt;</td>\n",
              "      <td>&lt;a href=\"https:&amp;#x2F;&amp;#x2F;archive.ph&amp;#x2F;nnE...</td>\n",
              "      <td>blinding-streak</td>\n",
              "      <td>&lt;NA&gt;</td>\n",
              "      <td>2023-04-30 19:10:16+00:00</td>\n",
              "      <td>comment</td>\n",
              "      <td>I lack the ability to access external websites...</td>\n",
              "    </tr>\n",
              "    <tr>\n",
              "      <th>975</th>\n",
              "      <td>&lt;NA&gt;</td>\n",
              "      <td>I&amp;#x27;ve had my 6S Plus now for 36 months and...</td>\n",
              "      <td>throwaway427</td>\n",
              "      <td>&lt;NA&gt;</td>\n",
              "      <td>2019-01-03 18:06:33+00:00</td>\n",
              "      <td>comment</td>\n",
              "      <td>Generally positive, impressed.</td>\n",
              "    </tr>\n",
              "    <tr>\n",
              "      <th>1253</th>\n",
              "      <td>&lt;NA&gt;</td>\n",
              "      <td>Apple is far more closed and tyrannical with i...</td>\n",
              "      <td>RyanMcGreal</td>\n",
              "      <td>&lt;NA&gt;</td>\n",
              "      <td>2012-12-21 00:45:40+00:00</td>\n",
              "      <td>comment</td>\n",
              "      <td>Negative towards Apple</td>\n",
              "    </tr>\n",
              "    <tr>\n",
              "      <th>1274</th>\n",
              "      <td>&lt;NA&gt;</td>\n",
              "      <td>An iOS version was released earlier this year....</td>\n",
              "      <td>pls2halp</td>\n",
              "      <td>&lt;NA&gt;</td>\n",
              "      <td>2017-12-09 06:36:41+00:00</td>\n",
              "      <td>comment</td>\n",
              "      <td>Neutral, factual statement.</td>\n",
              "    </tr>\n",
              "    <tr>\n",
              "      <th>1548</th>\n",
              "      <td>&lt;NA&gt;</td>\n",
              "      <td>I’m not sure how that fits with Apple pursuing...</td>\n",
              "      <td>alphabettsy</td>\n",
              "      <td>&lt;NA&gt;</td>\n",
              "      <td>2021-12-26 19:41:38+00:00</td>\n",
              "      <td>comment</td>\n",
              "      <td>Skeptical and critical.</td>\n",
              "    </tr>\n",
              "    <tr>\n",
              "      <th>1630</th>\n",
              "      <td>&lt;NA&gt;</td>\n",
              "      <td>Not sure if you’re being ironic, but I use an ...</td>\n",
              "      <td>lxgr</td>\n",
              "      <td>&lt;NA&gt;</td>\n",
              "      <td>2025-03-29 03:57:25+00:00</td>\n",
              "      <td>comment</td>\n",
              "      <td>Wants interoperability, frustrated.</td>\n",
              "    </tr>\n",
              "    <tr>\n",
              "      <th>1664</th>\n",
              "      <td>&lt;NA&gt;</td>\n",
              "      <td>Quoting from the article I linked you:&lt;p&gt;&amp;gt;&amp;...</td>\n",
              "      <td>StreamBright</td>\n",
              "      <td>&lt;NA&gt;</td>\n",
              "      <td>2017-09-11 19:57:34+00:00</td>\n",
              "      <td>comment</td>\n",
              "      <td>Extremely positive review</td>\n",
              "    </tr>\n",
              "    <tr>\n",
              "      <th>1884</th>\n",
              "      <td>&lt;NA&gt;</td>\n",
              "      <td>&amp;gt; Not all wireless headsets are the same, h...</td>\n",
              "      <td>cptskippy</td>\n",
              "      <td>&lt;NA&gt;</td>\n",
              "      <td>2021-11-16 13:28:44+00:00</td>\n",
              "      <td>comment</td>\n",
              "      <td>Skeptical and critical</td>\n",
              "    </tr>\n",
              "    <tr>\n",
              "      <th>2251</th>\n",
              "      <td>&lt;NA&gt;</td>\n",
              "      <td>Will not buy any more apple product, iphone 4s...</td>\n",
              "      <td>omi</td>\n",
              "      <td>&lt;NA&gt;</td>\n",
              "      <td>2012-09-11 14:42:52+00:00</td>\n",
              "      <td>comment</td>\n",
              "      <td>Negative, regretful.</td>\n",
              "    </tr>\n",
              "    <tr>\n",
              "      <th>2877</th>\n",
              "      <td>&lt;NA&gt;</td>\n",
              "      <td>I&amp;#x27;ve been an iPhone user since the OG in ...</td>\n",
              "      <td>vsnf</td>\n",
              "      <td>&lt;NA&gt;</td>\n",
              "      <td>2024-04-15 06:28:09+00:00</td>\n",
              "      <td>comment</td>\n",
              "      <td>Mildly annoyed, resigned</td>\n",
              "    </tr>\n",
              "  </tbody>\n",
              "</table>\n",
              "<p>11 rows × 7 columns</p>\n",
              "</div>[11 rows x 7 columns in total]"
            ],
            "text/plain": [
              "     title                                               text  \\\n",
              "445   <NA>  If I want to manipulate a device, I&#x27;ll bu...   \n",
              "967   <NA>  <a href=\"https:&#x2F;&#x2F;archive.ph&#x2F;nnE...   \n",
              "975   <NA>  I&#x27;ve had my 6S Plus now for 36 months and...   \n",
              "1253  <NA>  Apple is far more closed and tyrannical with i...   \n",
              "1274  <NA>  An iOS version was released earlier this year....   \n",
              "1548  <NA>  I’m not sure how that fits with Apple pursuing...   \n",
              "1630  <NA>  Not sure if you’re being ironic, but I use an ...   \n",
              "1664  <NA>  Quoting from the article I linked you:<p>&gt;&...   \n",
              "1884  <NA>  &gt; Not all wireless headsets are the same, h...   \n",
              "2251  <NA>  Will not buy any more apple product, iphone 4s...   \n",
              "2877  <NA>  I&#x27;ve been an iPhone user since the OG in ...   \n",
              "\n",
              "                   by  score                  timestamp     type  \\\n",
              "445           exelius   <NA>  2017-09-21 17:39:37+00:00  comment   \n",
              "967   blinding-streak   <NA>  2023-04-30 19:10:16+00:00  comment   \n",
              "975      throwaway427   <NA>  2019-01-03 18:06:33+00:00  comment   \n",
              "1253      RyanMcGreal   <NA>  2012-12-21 00:45:40+00:00  comment   \n",
              "1274         pls2halp   <NA>  2017-12-09 06:36:41+00:00  comment   \n",
              "1548      alphabettsy   <NA>  2021-12-26 19:41:38+00:00  comment   \n",
              "1630             lxgr   <NA>  2025-03-29 03:57:25+00:00  comment   \n",
              "1664     StreamBright   <NA>  2017-09-11 19:57:34+00:00  comment   \n",
              "1884        cptskippy   <NA>  2021-11-16 13:28:44+00:00  comment   \n",
              "2251              omi   <NA>  2012-09-11 14:42:52+00:00  comment   \n",
              "2877             vsnf   <NA>  2024-04-15 06:28:09+00:00  comment   \n",
              "\n",
              "                                              sentiment  \n",
              "445                        Pragmatic, slightly annoyed\n",
              "  \n",
              "967   I lack the ability to access external websites...  \n",
              "975                     Generally positive, impressed.\n",
              "  \n",
              "1253                            Negative towards Apple\n",
              "  \n",
              "1274                       Neutral, factual statement.\n",
              "  \n",
              "1548                           Skeptical and critical.\n",
              "  \n",
              "1630               Wants interoperability, frustrated.\n",
              "  \n",
              "1664                         Extremely positive review\n",
              "  \n",
              "1884                            Skeptical and critical\n",
              "  \n",
              "2251                              Negative, regretful.\n",
              "  \n",
              "2877                          Mildly annoyed, resigned\n",
              "  \n",
              "\n",
              "[11 rows x 7 columns]"
            ]
          },
          "execution_count": 29,
          "metadata": {},
          "output_type": "execute_result"
        }
      ],
      "source": [
        "iphone_comments.ai.map(\"Summarize the sentiment of the {text}. Your answer should have at most 3 words\", output_column=\"sentiment\", model=gemini_model)"
      ]
    },
    {
      "cell_type": "markdown",
      "metadata": {
        "id": "y7_16T2xiouZ"
      },
      "source": [
        "Here is another example: count the number of rows whose authors have animals in their names."
      ]
    },
    {
      "cell_type": "code",
      "execution_count": 30,
      "metadata": {
        "colab": {
          "base_uri": "https://localhost:8080/",
          "height": 880
        },
        "id": "CbGwc_uXiouZ",
        "outputId": "138acca0-7fb9-495a-e797-0d42495d65e6"
      },
      "outputs": [
        {
          "name": "stderr",
          "output_type": "stream",
          "text": [
            "/usr/local/google/home/sycai/src/python-bigquery-dataframes/venv/lib/python3.11/site-packages/IPython/core/interactiveshell.py:3577: UserWarning: Reading cached table from 2025-04-02 18:00:55.801294+00:00 to avoid\n",
            "incompatibilies with previous reads of this table. To read the latest\n",
            "version, set `use_cache=False` or close the current session with\n",
            "Session.close() or bigframes.pandas.close_session().\n",
            "  exec(code_obj, self.user_global_ns, self.user_ns)\n"
          ]
        },
        {
          "data": {
            "text/html": [
              "<div>\n",
              "<style scoped>\n",
              "    .dataframe tbody tr th:only-of-type {\n",
              "        vertical-align: middle;\n",
              "    }\n",
              "\n",
              "    .dataframe tbody tr th {\n",
              "        vertical-align: top;\n",
              "    }\n",
              "\n",
              "    .dataframe thead th {\n",
              "        text-align: right;\n",
              "    }\n",
              "</style>\n",
              "<table border=\"1\" class=\"dataframe\">\n",
              "  <thead>\n",
              "    <tr style=\"text-align: right;\">\n",
              "      <th></th>\n",
              "      <th>title</th>\n",
              "      <th>text</th>\n",
              "      <th>by</th>\n",
              "      <th>score</th>\n",
              "      <th>timestamp</th>\n",
              "      <th>type</th>\n",
              "    </tr>\n",
              "  </thead>\n",
              "  <tbody>\n",
              "    <tr>\n",
              "      <th>0</th>\n",
              "      <td>&lt;NA&gt;</td>\n",
              "      <td>&lt;NA&gt;</td>\n",
              "      <td>&lt;NA&gt;</td>\n",
              "      <td>&lt;NA&gt;</td>\n",
              "      <td>2010-04-16 19:52:51+00:00</td>\n",
              "      <td>comment</td>\n",
              "    </tr>\n",
              "    <tr>\n",
              "      <th>1</th>\n",
              "      <td>&lt;NA&gt;</td>\n",
              "      <td>I&amp;#x27;d agree about border control with a cav...</td>\n",
              "      <td>bandrami</td>\n",
              "      <td>&lt;NA&gt;</td>\n",
              "      <td>2023-06-04 06:12:00+00:00</td>\n",
              "      <td>comment</td>\n",
              "    </tr>\n",
              "    <tr>\n",
              "      <th>2</th>\n",
              "      <td>&lt;NA&gt;</td>\n",
              "      <td>So 4 pickups? At least pickups are high margin...</td>\n",
              "      <td>seanmcdirmid</td>\n",
              "      <td>&lt;NA&gt;</td>\n",
              "      <td>2023-09-19 14:19:46+00:00</td>\n",
              "      <td>comment</td>\n",
              "    </tr>\n",
              "    <tr>\n",
              "      <th>3</th>\n",
              "      <td>Workplace Wellness Programs Don’t Work Well. W...</td>\n",
              "      <td>&lt;NA&gt;</td>\n",
              "      <td>anarbadalov</td>\n",
              "      <td>2</td>\n",
              "      <td>2018-08-07 12:17:45+00:00</td>\n",
              "      <td>story</td>\n",
              "    </tr>\n",
              "    <tr>\n",
              "      <th>4</th>\n",
              "      <td>&lt;NA&gt;</td>\n",
              "      <td>Are you implying that to be a good developer y...</td>\n",
              "      <td>ecesena</td>\n",
              "      <td>&lt;NA&gt;</td>\n",
              "      <td>2016-06-10 19:38:25+00:00</td>\n",
              "      <td>comment</td>\n",
              "    </tr>\n",
              "    <tr>\n",
              "      <th>5</th>\n",
              "      <td>&lt;NA&gt;</td>\n",
              "      <td>It pretty much works with other carriers. My s...</td>\n",
              "      <td>toast0</td>\n",
              "      <td>&lt;NA&gt;</td>\n",
              "      <td>2024-08-13 03:11:32+00:00</td>\n",
              "      <td>comment</td>\n",
              "    </tr>\n",
              "    <tr>\n",
              "      <th>6</th>\n",
              "      <td>&lt;NA&gt;</td>\n",
              "      <td>&lt;NA&gt;</td>\n",
              "      <td>&lt;NA&gt;</td>\n",
              "      <td>&lt;NA&gt;</td>\n",
              "      <td>2020-06-07 22:43:03+00:00</td>\n",
              "      <td>comment</td>\n",
              "    </tr>\n",
              "    <tr>\n",
              "      <th>7</th>\n",
              "      <td>&lt;NA&gt;</td>\n",
              "      <td>&amp;quot;not operated for profit&amp;quot; and &amp;quot;...</td>\n",
              "      <td>radford-neal</td>\n",
              "      <td>&lt;NA&gt;</td>\n",
              "      <td>2020-03-19 00:24:47+00:00</td>\n",
              "      <td>comment</td>\n",
              "    </tr>\n",
              "    <tr>\n",
              "      <th>8</th>\n",
              "      <td>&lt;NA&gt;</td>\n",
              "      <td>It&amp;#x27;s a good description of one applicatio...</td>\n",
              "      <td>dkarl</td>\n",
              "      <td>&lt;NA&gt;</td>\n",
              "      <td>2024-10-07 13:38:18+00:00</td>\n",
              "      <td>comment</td>\n",
              "    </tr>\n",
              "    <tr>\n",
              "      <th>9</th>\n",
              "      <td>&lt;NA&gt;</td>\n",
              "      <td>Might be a bit high, but....&lt;p&gt;&lt;i&gt;&amp;quot;For ex...</td>\n",
              "      <td>tyingq</td>\n",
              "      <td>&lt;NA&gt;</td>\n",
              "      <td>2017-01-23 19:49:15+00:00</td>\n",
              "      <td>comment</td>\n",
              "    </tr>\n",
              "    <tr>\n",
              "      <th>10</th>\n",
              "      <td>Taiwan’s Tech King to Nancy Pelosi: U.S. Is in...</td>\n",
              "      <td>&lt;NA&gt;</td>\n",
              "      <td>dlcmh</td>\n",
              "      <td>11</td>\n",
              "      <td>2023-02-18 02:51:11+00:00</td>\n",
              "      <td>story</td>\n",
              "    </tr>\n",
              "    <tr>\n",
              "      <th>11</th>\n",
              "      <td>Android’s new multitasking is terrible and sho...</td>\n",
              "      <td>&lt;NA&gt;</td>\n",
              "      <td>wowamit</td>\n",
              "      <td>1</td>\n",
              "      <td>2018-10-22 09:50:36+00:00</td>\n",
              "      <td>story</td>\n",
              "    </tr>\n",
              "    <tr>\n",
              "      <th>12</th>\n",
              "      <td>&lt;NA&gt;</td>\n",
              "      <td>SEEKING WORK | REMOTE | US Citizen&lt;p&gt;Location:...</td>\n",
              "      <td>rasikjain</td>\n",
              "      <td>&lt;NA&gt;</td>\n",
              "      <td>2024-08-01 16:56:49+00:00</td>\n",
              "      <td>comment</td>\n",
              "    </tr>\n",
              "    <tr>\n",
              "      <th>13</th>\n",
              "      <td>&lt;NA&gt;</td>\n",
              "      <td>I had a very similar experience last month tea...</td>\n",
              "      <td>tmaly</td>\n",
              "      <td>&lt;NA&gt;</td>\n",
              "      <td>2020-01-22 18:26:36+00:00</td>\n",
              "      <td>comment</td>\n",
              "    </tr>\n",
              "    <tr>\n",
              "      <th>14</th>\n",
              "      <td>&lt;NA&gt;</td>\n",
              "      <td>&lt;NA&gt;</td>\n",
              "      <td>mrtweetyhack</td>\n",
              "      <td>&lt;NA&gt;</td>\n",
              "      <td>2022-02-26 19:34:00+00:00</td>\n",
              "      <td>comment</td>\n",
              "    </tr>\n",
              "    <tr>\n",
              "      <th>15</th>\n",
              "      <td>&lt;NA&gt;</td>\n",
              "      <td>&amp;gt; Just do what most American cities do with...</td>\n",
              "      <td>AnthonyMouse</td>\n",
              "      <td>&lt;NA&gt;</td>\n",
              "      <td>2021-10-04 23:10:50+00:00</td>\n",
              "      <td>comment</td>\n",
              "    </tr>\n",
              "    <tr>\n",
              "      <th>16</th>\n",
              "      <td>&lt;NA&gt;</td>\n",
              "      <td>It&amp;#x27;s not a space. The l and the C are at ...</td>\n",
              "      <td>antninja</td>\n",
              "      <td>&lt;NA&gt;</td>\n",
              "      <td>2013-07-13 09:48:34+00:00</td>\n",
              "      <td>comment</td>\n",
              "    </tr>\n",
              "    <tr>\n",
              "      <th>17</th>\n",
              "      <td>&lt;NA&gt;</td>\n",
              "      <td>I’ve knowingly paid the premium in the past, j...</td>\n",
              "      <td>zwily</td>\n",
              "      <td>&lt;NA&gt;</td>\n",
              "      <td>2020-06-17 14:26:43+00:00</td>\n",
              "      <td>comment</td>\n",
              "    </tr>\n",
              "    <tr>\n",
              "      <th>18</th>\n",
              "      <td>&lt;NA&gt;</td>\n",
              "      <td>&amp;gt; Any sufficiently complicated C or Fortran...</td>\n",
              "      <td>wavemode</td>\n",
              "      <td>&lt;NA&gt;</td>\n",
              "      <td>2025-02-07 06:42:53+00:00</td>\n",
              "      <td>comment</td>\n",
              "    </tr>\n",
              "    <tr>\n",
              "      <th>19</th>\n",
              "      <td>&lt;NA&gt;</td>\n",
              "      <td>It&amp;#x27;s similar to a lot of Japanese &amp;quot;t...</td>\n",
              "      <td>TillE</td>\n",
              "      <td>&lt;NA&gt;</td>\n",
              "      <td>2022-11-06 17:15:10+00:00</td>\n",
              "      <td>comment</td>\n",
              "    </tr>\n",
              "    <tr>\n",
              "      <th>20</th>\n",
              "      <td>&lt;NA&gt;</td>\n",
              "      <td>Engineers are just people paid to code. If you...</td>\n",
              "      <td>rchaud</td>\n",
              "      <td>&lt;NA&gt;</td>\n",
              "      <td>2023-04-12 14:31:42+00:00</td>\n",
              "      <td>comment</td>\n",
              "    </tr>\n",
              "    <tr>\n",
              "      <th>21</th>\n",
              "      <td>&lt;NA&gt;</td>\n",
              "      <td>So don&amp;#x27;t use it</td>\n",
              "      <td>CyberDildonics</td>\n",
              "      <td>&lt;NA&gt;</td>\n",
              "      <td>2015-12-29 22:01:16+00:00</td>\n",
              "      <td>comment</td>\n",
              "    </tr>\n",
              "    <tr>\n",
              "      <th>22</th>\n",
              "      <td>&lt;NA&gt;</td>\n",
              "      <td>Sure, but there are degrees of these things. T...</td>\n",
              "      <td>dang</td>\n",
              "      <td>&lt;NA&gt;</td>\n",
              "      <td>2021-11-11 23:42:12+00:00</td>\n",
              "      <td>comment</td>\n",
              "    </tr>\n",
              "    <tr>\n",
              "      <th>23</th>\n",
              "      <td>&lt;NA&gt;</td>\n",
              "      <td>I wish this would happen.  There&amp;#x27;s a &amp;quo...</td>\n",
              "      <td>coredog64</td>\n",
              "      <td>&lt;NA&gt;</td>\n",
              "      <td>2018-02-12 16:03:37+00:00</td>\n",
              "      <td>comment</td>\n",
              "    </tr>\n",
              "    <tr>\n",
              "      <th>24</th>\n",
              "      <td>&lt;NA&gt;</td>\n",
              "      <td>I’m not sure why responsible riders wouldn’t w...</td>\n",
              "      <td>mjmahone17</td>\n",
              "      <td>&lt;NA&gt;</td>\n",
              "      <td>2021-11-09 01:36:01+00:00</td>\n",
              "      <td>comment</td>\n",
              "    </tr>\n",
              "  </tbody>\n",
              "</table>\n",
              "<p>25 rows × 6 columns</p>\n",
              "</div>[3000 rows x 6 columns in total]"
            ],
            "text/plain": [
              "                                                title  \\\n",
              "0                                                <NA>   \n",
              "1                                                <NA>   \n",
              "2                                                <NA>   \n",
              "3   Workplace Wellness Programs Don’t Work Well. W...   \n",
              "4                                                <NA>   \n",
              "5                                                <NA>   \n",
              "6                                                <NA>   \n",
              "7                                                <NA>   \n",
              "8                                                <NA>   \n",
              "9                                                <NA>   \n",
              "10  Taiwan’s Tech King to Nancy Pelosi: U.S. Is in...   \n",
              "11  Android’s new multitasking is terrible and sho...   \n",
              "12                                               <NA>   \n",
              "13                                               <NA>   \n",
              "14                                               <NA>   \n",
              "15                                               <NA>   \n",
              "16                                               <NA>   \n",
              "17                                               <NA>   \n",
              "18                                               <NA>   \n",
              "19                                               <NA>   \n",
              "20                                               <NA>   \n",
              "21                                               <NA>   \n",
              "22                                               <NA>   \n",
              "23                                               <NA>   \n",
              "24                                               <NA>   \n",
              "\n",
              "                                                 text              by  score  \\\n",
              "0                                                <NA>            <NA>   <NA>   \n",
              "1   I&#x27;d agree about border control with a cav...        bandrami   <NA>   \n",
              "2   So 4 pickups? At least pickups are high margin...    seanmcdirmid   <NA>   \n",
              "3                                                <NA>     anarbadalov      2   \n",
              "4   Are you implying that to be a good developer y...         ecesena   <NA>   \n",
              "5   It pretty much works with other carriers. My s...          toast0   <NA>   \n",
              "6                                                <NA>            <NA>   <NA>   \n",
              "7   &quot;not operated for profit&quot; and &quot;...    radford-neal   <NA>   \n",
              "8   It&#x27;s a good description of one applicatio...           dkarl   <NA>   \n",
              "9   Might be a bit high, but....<p><i>&quot;For ex...          tyingq   <NA>   \n",
              "10                                               <NA>           dlcmh     11   \n",
              "11                                               <NA>         wowamit      1   \n",
              "12  SEEKING WORK | REMOTE | US Citizen<p>Location:...       rasikjain   <NA>   \n",
              "13  I had a very similar experience last month tea...           tmaly   <NA>   \n",
              "14                                               <NA>    mrtweetyhack   <NA>   \n",
              "15  &gt; Just do what most American cities do with...    AnthonyMouse   <NA>   \n",
              "16  It&#x27;s not a space. The l and the C are at ...        antninja   <NA>   \n",
              "17  I’ve knowingly paid the premium in the past, j...           zwily   <NA>   \n",
              "18  &gt; Any sufficiently complicated C or Fortran...        wavemode   <NA>   \n",
              "19  It&#x27;s similar to a lot of Japanese &quot;t...           TillE   <NA>   \n",
              "20  Engineers are just people paid to code. If you...          rchaud   <NA>   \n",
              "21                               So don&#x27;t use it  CyberDildonics   <NA>   \n",
              "22  Sure, but there are degrees of these things. T...            dang   <NA>   \n",
              "23  I wish this would happen.  There&#x27;s a &quo...       coredog64   <NA>   \n",
              "24  I’m not sure why responsible riders wouldn’t w...      mjmahone17   <NA>   \n",
              "\n",
              "                    timestamp     type  \n",
              "0   2010-04-16 19:52:51+00:00  comment  \n",
              "1   2023-06-04 06:12:00+00:00  comment  \n",
              "2   2023-09-19 14:19:46+00:00  comment  \n",
              "3   2018-08-07 12:17:45+00:00    story  \n",
              "4   2016-06-10 19:38:25+00:00  comment  \n",
              "5   2024-08-13 03:11:32+00:00  comment  \n",
              "6   2020-06-07 22:43:03+00:00  comment  \n",
              "7   2020-03-19 00:24:47+00:00  comment  \n",
              "8   2024-10-07 13:38:18+00:00  comment  \n",
              "9   2017-01-23 19:49:15+00:00  comment  \n",
              "10  2023-02-18 02:51:11+00:00    story  \n",
              "11  2018-10-22 09:50:36+00:00    story  \n",
              "12  2024-08-01 16:56:49+00:00  comment  \n",
              "13  2020-01-22 18:26:36+00:00  comment  \n",
              "14  2022-02-26 19:34:00+00:00  comment  \n",
              "15  2021-10-04 23:10:50+00:00  comment  \n",
              "16  2013-07-13 09:48:34+00:00  comment  \n",
              "17  2020-06-17 14:26:43+00:00  comment  \n",
              "18  2025-02-07 06:42:53+00:00  comment  \n",
              "19  2022-11-06 17:15:10+00:00  comment  \n",
              "20  2023-04-12 14:31:42+00:00  comment  \n",
              "21  2015-12-29 22:01:16+00:00  comment  \n",
              "22  2021-11-11 23:42:12+00:00  comment  \n",
              "23  2018-02-12 16:03:37+00:00  comment  \n",
              "24  2021-11-09 01:36:01+00:00  comment  \n",
              "...\n",
              "\n",
              "[3000 rows x 6 columns]"
            ]
          },
          "execution_count": 30,
          "metadata": {},
          "output_type": "execute_result"
        }
      ],
      "source": [
        "hacker_news = bpd.read_gbq(\"bigquery-public-data.hacker_news.full\")[['title', 'text', 'by', 'score', 'timestamp', 'type']].head(3000)\n",
        "hacker_news"
      ]
    },
    {
      "cell_type": "code",
      "execution_count": 31,
      "metadata": {
        "colab": {
          "base_uri": "https://localhost:8080/",
          "height": 880
        },
        "id": "9dzU8SNziouZ",
        "outputId": "da8815c1-c411-4afc-d1ca-5e44c75b5b48"
      },
      "outputs": [
        {
          "name": "stderr",
          "output_type": "stream",
          "text": [
            "/usr/local/google/home/sycai/src/python-bigquery-dataframes/bigframes/core/array_value.py:114: PreviewWarning: JSON column interpretation as a custom PyArrow extention in\n",
            "`db_dtypes` is a preview feature and subject to change.\n",
            "  warnings.warn(msg, bfe.PreviewWarning)\n"
          ]
        },
        {
          "data": {
            "text/html": [
              "<div>\n",
              "<style scoped>\n",
              "    .dataframe tbody tr th:only-of-type {\n",
              "        vertical-align: middle;\n",
              "    }\n",
              "\n",
              "    .dataframe tbody tr th {\n",
              "        vertical-align: top;\n",
              "    }\n",
              "\n",
              "    .dataframe thead th {\n",
              "        text-align: right;\n",
              "    }\n",
              "</style>\n",
              "<table border=\"1\" class=\"dataframe\">\n",
              "  <thead>\n",
              "    <tr style=\"text-align: right;\">\n",
              "      <th></th>\n",
              "      <th>title</th>\n",
              "      <th>text</th>\n",
              "      <th>by</th>\n",
              "      <th>score</th>\n",
              "      <th>timestamp</th>\n",
              "      <th>type</th>\n",
              "    </tr>\n",
              "  </thead>\n",
              "  <tbody>\n",
              "    <tr>\n",
              "      <th>15</th>\n",
              "      <td>&lt;NA&gt;</td>\n",
              "      <td>&amp;gt; Just do what most American cities do with...</td>\n",
              "      <td>AnthonyMouse</td>\n",
              "      <td>&lt;NA&gt;</td>\n",
              "      <td>2021-10-04 23:10:50+00:00</td>\n",
              "      <td>comment</td>\n",
              "    </tr>\n",
              "    <tr>\n",
              "      <th>16</th>\n",
              "      <td>&lt;NA&gt;</td>\n",
              "      <td>It&amp;#x27;s not a space. The l and the C are at ...</td>\n",
              "      <td>antninja</td>\n",
              "      <td>&lt;NA&gt;</td>\n",
              "      <td>2013-07-13 09:48:34+00:00</td>\n",
              "      <td>comment</td>\n",
              "    </tr>\n",
              "    <tr>\n",
              "      <th>23</th>\n",
              "      <td>&lt;NA&gt;</td>\n",
              "      <td>I wish this would happen.  There&amp;#x27;s a &amp;quo...</td>\n",
              "      <td>coredog64</td>\n",
              "      <td>&lt;NA&gt;</td>\n",
              "      <td>2018-02-12 16:03:37+00:00</td>\n",
              "      <td>comment</td>\n",
              "    </tr>\n",
              "    <tr>\n",
              "      <th>27</th>\n",
              "      <td>&lt;NA&gt;</td>\n",
              "      <td>Flash got close, but was too complex and expen...</td>\n",
              "      <td>surfingdino</td>\n",
              "      <td>&lt;NA&gt;</td>\n",
              "      <td>2024-05-08 05:02:37+00:00</td>\n",
              "      <td>comment</td>\n",
              "    </tr>\n",
              "    <tr>\n",
              "      <th>36</th>\n",
              "      <td>&lt;NA&gt;</td>\n",
              "      <td>I think the &amp;quot;algo genius&amp;quot; type of de...</td>\n",
              "      <td>poisonborz</td>\n",
              "      <td>&lt;NA&gt;</td>\n",
              "      <td>2024-06-04 07:39:08+00:00</td>\n",
              "      <td>comment</td>\n",
              "    </tr>\n",
              "    <tr>\n",
              "      <th>150</th>\n",
              "      <td>&lt;NA&gt;</td>\n",
              "      <td>No one will be doing anything practical with a...</td>\n",
              "      <td>NeutralCrane</td>\n",
              "      <td>&lt;NA&gt;</td>\n",
              "      <td>2025-02-01 14:26:25+00:00</td>\n",
              "      <td>comment</td>\n",
              "    </tr>\n",
              "    <tr>\n",
              "      <th>160</th>\n",
              "      <td>&lt;NA&gt;</td>\n",
              "      <td>I think this is more semantics than anything.&lt;...</td>\n",
              "      <td>superb-owl</td>\n",
              "      <td>&lt;NA&gt;</td>\n",
              "      <td>2022-06-08 16:55:54+00:00</td>\n",
              "      <td>comment</td>\n",
              "    </tr>\n",
              "    <tr>\n",
              "      <th>205</th>\n",
              "      <td>&lt;NA&gt;</td>\n",
              "      <td>Interesting to think of sign language localisa...</td>\n",
              "      <td>robin_reala</td>\n",
              "      <td>&lt;NA&gt;</td>\n",
              "      <td>2019-02-01 11:49:23+00:00</td>\n",
              "      <td>comment</td>\n",
              "    </tr>\n",
              "    <tr>\n",
              "      <th>231</th>\n",
              "      <td>&lt;NA&gt;</td>\n",
              "      <td>Probably because of their key location.</td>\n",
              "      <td>ape4</td>\n",
              "      <td>&lt;NA&gt;</td>\n",
              "      <td>2014-08-29 14:55:40+00:00</td>\n",
              "      <td>comment</td>\n",
              "    </tr>\n",
              "    <tr>\n",
              "      <th>250</th>\n",
              "      <td>&lt;NA&gt;</td>\n",
              "      <td>I realize this is a bit passe, but there were ...</td>\n",
              "      <td>FeepingCreature</td>\n",
              "      <td>&lt;NA&gt;</td>\n",
              "      <td>2023-10-15 11:32:44+00:00</td>\n",
              "      <td>comment</td>\n",
              "    </tr>\n",
              "    <tr>\n",
              "      <th>320</th>\n",
              "      <td>Protest against Bill C-11, Canada's SOPA, plan...</td>\n",
              "      <td>&lt;NA&gt;</td>\n",
              "      <td>magikarp</td>\n",
              "      <td>1</td>\n",
              "      <td>2012-01-29 02:14:12+00:00</td>\n",
              "      <td>story</td>\n",
              "    </tr>\n",
              "    <tr>\n",
              "      <th>344</th>\n",
              "      <td>&lt;NA&gt;</td>\n",
              "      <td>What? Are you suggesting we cannot criticize p...</td>\n",
              "      <td>chickenpotpie</td>\n",
              "      <td>&lt;NA&gt;</td>\n",
              "      <td>2020-12-02 18:24:19+00:00</td>\n",
              "      <td>comment</td>\n",
              "    </tr>\n",
              "    <tr>\n",
              "      <th>348</th>\n",
              "      <td>The flu vaccine this year is only 10% effective</td>\n",
              "      <td>&lt;NA&gt;</td>\n",
              "      <td>maryfoxmarlow</td>\n",
              "      <td>3</td>\n",
              "      <td>2018-02-02 02:19:42+00:00</td>\n",
              "      <td>story</td>\n",
              "    </tr>\n",
              "    <tr>\n",
              "      <th>360</th>\n",
              "      <td>&lt;NA&gt;</td>\n",
              "      <td>Bomb ownership is okay AFAIK.  Intent to commi...</td>\n",
              "      <td>Ferret7446</td>\n",
              "      <td>&lt;NA&gt;</td>\n",
              "      <td>2023-06-25 20:04:30+00:00</td>\n",
              "      <td>comment</td>\n",
              "    </tr>\n",
              "    <tr>\n",
              "      <th>398</th>\n",
              "      <td>1 + 1 = 3</td>\n",
              "      <td>&lt;NA&gt;</td>\n",
              "      <td>oscar-the-horse</td>\n",
              "      <td>2</td>\n",
              "      <td>2012-08-05 22:18:51+00:00</td>\n",
              "      <td>story</td>\n",
              "    </tr>\n",
              "    <tr>\n",
              "      <th>407</th>\n",
              "      <td>&lt;NA&gt;</td>\n",
              "      <td>No (almost certainly), but you will become fru...</td>\n",
              "      <td>AnimalMuppet</td>\n",
              "      <td>&lt;NA&gt;</td>\n",
              "      <td>2023-09-15 16:11:08+00:00</td>\n",
              "      <td>comment</td>\n",
              "    </tr>\n",
              "    <tr>\n",
              "      <th>454</th>\n",
              "      <td>&lt;NA&gt;</td>\n",
              "      <td>48h is less than 5 kWh of batteries, one quart...</td>\n",
              "      <td>tigershark</td>\n",
              "      <td>&lt;NA&gt;</td>\n",
              "      <td>2021-07-23 05:12:52+00:00</td>\n",
              "      <td>comment</td>\n",
              "    </tr>\n",
              "    <tr>\n",
              "      <th>457</th>\n",
              "      <td>Brazilian Rails Websites</td>\n",
              "      <td>&lt;NA&gt;</td>\n",
              "      <td>akitaonrails</td>\n",
              "      <td>1</td>\n",
              "      <td>2008-07-27 17:27:47+00:00</td>\n",
              "      <td>story</td>\n",
              "    </tr>\n",
              "    <tr>\n",
              "      <th>472</th>\n",
              "      <td>&lt;NA&gt;</td>\n",
              "      <td>&amp;gt; When most people start as programmers, th...</td>\n",
              "      <td>PavlovsCat</td>\n",
              "      <td>&lt;NA&gt;</td>\n",
              "      <td>2018-12-23 20:37:20+00:00</td>\n",
              "      <td>comment</td>\n",
              "    </tr>\n",
              "    <tr>\n",
              "      <th>493</th>\n",
              "      <td>&lt;NA&gt;</td>\n",
              "      <td>Related anecdata + a study I found useful. Aft...</td>\n",
              "      <td>TrainedMonkey</td>\n",
              "      <td>&lt;NA&gt;</td>\n",
              "      <td>2023-02-02 16:14:23+00:00</td>\n",
              "      <td>comment</td>\n",
              "    </tr>\n",
              "    <tr>\n",
              "      <th>497</th>\n",
              "      <td>&lt;NA&gt;</td>\n",
              "      <td>That &amp;quot;civilized&amp;quot; country has too man...</td>\n",
              "      <td>rantanplan</td>\n",
              "      <td>&lt;NA&gt;</td>\n",
              "      <td>2017-02-17 12:51:51+00:00</td>\n",
              "      <td>comment</td>\n",
              "    </tr>\n",
              "    <tr>\n",
              "      <th>514</th>\n",
              "      <td>&lt;NA&gt;</td>\n",
              "      <td>The current Go 2 drafts do.</td>\n",
              "      <td>tapirl</td>\n",
              "      <td>&lt;NA&gt;</td>\n",
              "      <td>2020-08-12 02:37:41+00:00</td>\n",
              "      <td>comment</td>\n",
              "    </tr>\n",
              "    <tr>\n",
              "      <th>535</th>\n",
              "      <td>&lt;NA&gt;</td>\n",
              "      <td>Having walked this same path, this blog resona...</td>\n",
              "      <td>curiousllama</td>\n",
              "      <td>&lt;NA&gt;</td>\n",
              "      <td>2020-10-07 20:35:18+00:00</td>\n",
              "      <td>comment</td>\n",
              "    </tr>\n",
              "    <tr>\n",
              "      <th>607</th>\n",
              "      <td>&lt;NA&gt;</td>\n",
              "      <td>If people thought the reward for talking to a ...</td>\n",
              "      <td>slapfrog</td>\n",
              "      <td>&lt;NA&gt;</td>\n",
              "      <td>2021-09-08 20:58:13+00:00</td>\n",
              "      <td>comment</td>\n",
              "    </tr>\n",
              "    <tr>\n",
              "      <th>672</th>\n",
              "      <td>&lt;NA&gt;</td>\n",
              "      <td>Given that you say you&amp;#x27;re 38 and looking ...</td>\n",
              "      <td>strix_varius</td>\n",
              "      <td>&lt;NA&gt;</td>\n",
              "      <td>2023-08-04 02:41:50+00:00</td>\n",
              "      <td>comment</td>\n",
              "    </tr>\n",
              "  </tbody>\n",
              "</table>\n",
              "<p>25 rows × 6 columns</p>\n",
              "</div>[112 rows x 6 columns in total]"
            ],
            "text/plain": [
              "                                                 title  \\\n",
              "15                                                <NA>   \n",
              "16                                                <NA>   \n",
              "23                                                <NA>   \n",
              "27                                                <NA>   \n",
              "36                                                <NA>   \n",
              "150                                               <NA>   \n",
              "160                                               <NA>   \n",
              "205                                               <NA>   \n",
              "231                                               <NA>   \n",
              "250                                               <NA>   \n",
              "320  Protest against Bill C-11, Canada's SOPA, plan...   \n",
              "344                                               <NA>   \n",
              "348    The flu vaccine this year is only 10% effective   \n",
              "360                                               <NA>   \n",
              "398                                          1 + 1 = 3   \n",
              "407                                               <NA>   \n",
              "454                                               <NA>   \n",
              "457                           Brazilian Rails Websites   \n",
              "472                                               <NA>   \n",
              "493                                               <NA>   \n",
              "497                                               <NA>   \n",
              "514                                               <NA>   \n",
              "535                                               <NA>   \n",
              "607                                               <NA>   \n",
              "672                                               <NA>   \n",
              "\n",
              "                                                  text               by  \\\n",
              "15   &gt; Just do what most American cities do with...     AnthonyMouse   \n",
              "16   It&#x27;s not a space. The l and the C are at ...         antninja   \n",
              "23   I wish this would happen.  There&#x27;s a &quo...        coredog64   \n",
              "27   Flash got close, but was too complex and expen...      surfingdino   \n",
              "36   I think the &quot;algo genius&quot; type of de...       poisonborz   \n",
              "150  No one will be doing anything practical with a...     NeutralCrane   \n",
              "160  I think this is more semantics than anything.<...       superb-owl   \n",
              "205  Interesting to think of sign language localisa...      robin_reala   \n",
              "231            Probably because of their key location.             ape4   \n",
              "250  I realize this is a bit passe, but there were ...  FeepingCreature   \n",
              "320                                               <NA>         magikarp   \n",
              "344  What? Are you suggesting we cannot criticize p...    chickenpotpie   \n",
              "348                                               <NA>    maryfoxmarlow   \n",
              "360  Bomb ownership is okay AFAIK.  Intent to commi...       Ferret7446   \n",
              "398                                               <NA>  oscar-the-horse   \n",
              "407  No (almost certainly), but you will become fru...     AnimalMuppet   \n",
              "454  48h is less than 5 kWh of batteries, one quart...       tigershark   \n",
              "457                                               <NA>     akitaonrails   \n",
              "472  &gt; When most people start as programmers, th...       PavlovsCat   \n",
              "493  Related anecdata + a study I found useful. Aft...    TrainedMonkey   \n",
              "497  That &quot;civilized&quot; country has too man...       rantanplan   \n",
              "514                        The current Go 2 drafts do.           tapirl   \n",
              "535  Having walked this same path, this blog resona...     curiousllama   \n",
              "607  If people thought the reward for talking to a ...         slapfrog   \n",
              "672  Given that you say you&#x27;re 38 and looking ...     strix_varius   \n",
              "\n",
              "     score                  timestamp     type  \n",
              "15    <NA>  2021-10-04 23:10:50+00:00  comment  \n",
              "16    <NA>  2013-07-13 09:48:34+00:00  comment  \n",
              "23    <NA>  2018-02-12 16:03:37+00:00  comment  \n",
              "27    <NA>  2024-05-08 05:02:37+00:00  comment  \n",
              "36    <NA>  2024-06-04 07:39:08+00:00  comment  \n",
              "150   <NA>  2025-02-01 14:26:25+00:00  comment  \n",
              "160   <NA>  2022-06-08 16:55:54+00:00  comment  \n",
              "205   <NA>  2019-02-01 11:49:23+00:00  comment  \n",
              "231   <NA>  2014-08-29 14:55:40+00:00  comment  \n",
              "250   <NA>  2023-10-15 11:32:44+00:00  comment  \n",
              "320      1  2012-01-29 02:14:12+00:00    story  \n",
              "344   <NA>  2020-12-02 18:24:19+00:00  comment  \n",
              "348      3  2018-02-02 02:19:42+00:00    story  \n",
              "360   <NA>  2023-06-25 20:04:30+00:00  comment  \n",
              "398      2  2012-08-05 22:18:51+00:00    story  \n",
              "407   <NA>  2023-09-15 16:11:08+00:00  comment  \n",
              "454   <NA>  2021-07-23 05:12:52+00:00  comment  \n",
              "457      1  2008-07-27 17:27:47+00:00    story  \n",
              "472   <NA>  2018-12-23 20:37:20+00:00  comment  \n",
              "493   <NA>  2023-02-02 16:14:23+00:00  comment  \n",
              "497   <NA>  2017-02-17 12:51:51+00:00  comment  \n",
              "514   <NA>  2020-08-12 02:37:41+00:00  comment  \n",
              "535   <NA>  2020-10-07 20:35:18+00:00  comment  \n",
              "607   <NA>  2021-09-08 20:58:13+00:00  comment  \n",
              "672   <NA>  2023-08-04 02:41:50+00:00  comment  \n",
              "...\n",
              "\n",
              "[112 rows x 6 columns]"
            ]
          },
          "execution_count": 31,
          "metadata": {},
          "output_type": "execute_result"
        }
      ],
      "source": [
        "hacker_news.ai.filter(\"{by} contains animal name\", model=gemini_model)"
      ]
    },
    {
      "cell_type": "markdown",
      "metadata": {
        "id": "3bpkaspoiouZ"
      },
      "source": [
        "Here are the runtime numbers with 500 requests per minute [raised quota](https://cloud.google.com/vertex-ai/generative-ai/docs/quotas):\n",
        "* 3000 rows -> ~6m\n",
        "* 10000 rows -> ~26m"
      ]
    }
  ],
  "metadata": {
    "colab": {
      "include_colab_link": true,
      "provenance": []
    },
    "kernelspec": {
      "display_name": "venv",
      "language": "python",
      "name": "python3"
    },
    "language_info": {
      "codemirror_mode": {
        "name": "ipython",
        "version": 3
      },
      "file_extension": ".py",
      "mimetype": "text/x-python",
      "name": "python",
      "nbconvert_exporter": "python",
      "pygments_lexer": "ipython3",
      "version": "3.10.17"
    }
  },
  "nbformat": 4,
  "nbformat_minor": 0
}
