{
 "cells": [
  {
   "cell_type": "code",
   "execution_count": 9,
   "metadata": {},
   "outputs": [
    {
     "name": "stdout",
     "output_type": "stream",
     "text": [
      "1.6.0\n"
     ]
    }
   ],
   "source": [
    "import bigframes\n",
    "import bigframes.streaming\n",
    "import bigframes.pandas as bpd\n",
    "import google.cloud.bigquery as bigquery\n",
    "print(bigframes.__version__)"
   ]
  },
  {
   "cell_type": "code",
   "execution_count": 10,
   "metadata": {},
   "outputs": [],
   "source": [
    "bpd.close_session()\n",
    "PROJECT_ID = \"henryjsolberg-prod\"  # @param {type:\"string\"}\n",
    "REGION = \"US\"  # @param {type: \"string\"}\n",
    "bpd.options.bigquery.project = PROJECT_ID\n",
    "bpd.options.bigquery.location = REGION\n",
    "sql = \"\"\"SELECT\n",
    "body_mass_g as string, island as rowkey\n",
    "FROM birds.penguins\"\"\""
   ]
  },
  {
   "cell_type": "code",
   "execution_count": 17,
   "metadata": {},
   "outputs": [],
   "source": [
    "query_job = bigframes.streaming.write_stream_bigtable(\n",
    "    sql,\n",
    "    \"streaming-testing-instance\",\n",
    "    \"table-testing\",\n",
    ")"
   ]
  },
  {
   "cell_type": "code",
   "execution_count": 12,
   "metadata": {},
   "outputs": [
    {
     "data": {
      "text/plain": [
       "False"
      ]
     },
     "execution_count": 12,
     "metadata": {},
     "output_type": "execute_result"
    }
   ],
   "source": [
    "query_job.done()"
   ]
  },
  {
   "cell_type": "code",
   "execution_count": 18,
   "metadata": {},
   "outputs": [
    {
     "data": {
      "text/plain": [
       "True"
      ]
     },
     "execution_count": 18,
     "metadata": {},
     "output_type": "execute_result"
    }
   ],
   "source": [
    "query_job.cancel()"
   ]
  },
  {
   "cell_type": "code",
   "execution_count": 19,
   "metadata": {},
   "outputs": [
    {
     "data": {
      "text/plain": [
       "True"
      ]
     },
     "execution_count": 19,
     "metadata": {},
     "output_type": "execute_result"
    }
   ],
   "source": [
    "query_job.done()"
   ]
  },
  {
   "cell_type": "code",
   "execution_count": 15,
   "metadata": {},
   "outputs": [
    {
     "data": {
      "text/plain": [
       "{'query': {'continuous': True}}"
      ]
     },
     "execution_count": 15,
     "metadata": {},
     "output_type": "execute_result"
    }
   ],
   "source": [
    "client = bigframes.get_global_session().bqclient\n",
    "sql = \"\"\"EXPORT DATA\n",
    " OPTIONS (\n",
    " format = 'CLOUD_BIGTABLE',\n",
    " truncate = TRUE,\n",
    " overwrite = TRUE,\n",
    " uri = \"https://bigtable.googleapis.com/projects/henryjsolberg-prod/instances/streaming-testing-instance/tables/table-testing\"\n",
    " )\n",
    "AS (\n",
    "SELECT\n",
    "body_mass_g as string, island as rowkey\n",
    "FROM birds.penguins);\"\"\"\n",
    "job_config = bigquery.job.QueryJobConfig()\n",
    "job_config = job_config.from_api_repr({\"query\": {\"continuous\": True}})\n",
    "job_config.to_api_repr()"
   ]
  },
  {
   "cell_type": "code",
   "execution_count": 16,
   "metadata": {},
   "outputs": [
    {
     "data": {
      "text/html": [
       "Query job c331db5d-cde5-42ef-9745-2a4d2f0b3d00 is RUNNING. <a target=\"_blank\" href=\"https://console.cloud.google.com/bigquery?project=henryjsolberg-prod&j=bq:US:c331db5d-cde5-42ef-9745-2a4d2f0b3d00&page=queryresults\">Open Job</a>"
      ],
      "text/plain": [
       "<IPython.core.display.HTML object>"
      ]
     },
     "metadata": {},
     "output_type": "display_data"
    },
    {
     "name": "stdout",
     "output_type": "stream",
     "text": [
      "Requested cancellation for Query job c331db5d-cde5-42ef-9745-2a4d2f0b3d00 in location US...\n"
     ]
    },
    {
     "ename": "KeyboardInterrupt",
     "evalue": "",
     "output_type": "error",
     "traceback": [
      "\u001b[0;31m---------------------------------------------------------------------------\u001b[0m",
      "\u001b[0;31mKeyboardInterrupt\u001b[0m                         Traceback (most recent call last)",
      "Cell \u001b[0;32mIn[16], line 1\u001b[0m\n\u001b[0;32m----> 1\u001b[0m _, query_job \u001b[39m=\u001b[39m bigframes\u001b[39m.\u001b[39;49msession\u001b[39m.\u001b[39;49m_io\u001b[39m.\u001b[39;49mbigquery\u001b[39m.\u001b[39;49mstart_query_with_client(\n\u001b[1;32m      2\u001b[0m     client, \u001b[39m#bq_client: bigquery.Client,\u001b[39;49;00m\n\u001b[1;32m      3\u001b[0m     sql, \u001b[39m#sql: str,\u001b[39;49;00m\n\u001b[1;32m      4\u001b[0m     job_config\n\u001b[1;32m      5\u001b[0m )\n",
      "File \u001b[0;32m~/bq/src/python-bigquery-dataframes/bigframes/session/_io/bigquery/__init__.py:221\u001b[0m, in \u001b[0;36mstart_query_with_client\u001b[0;34m(bq_client, sql, job_config, max_results, timeout)\u001b[0m\n\u001b[1;32m    219\u001b[0m opts \u001b[39m=\u001b[39m bigframes\u001b[39m.\u001b[39moptions\u001b[39m.\u001b[39mdisplay\n\u001b[1;32m    220\u001b[0m \u001b[39mif\u001b[39;00m opts\u001b[39m.\u001b[39mprogress_bar \u001b[39mis\u001b[39;00m \u001b[39mnot\u001b[39;00m \u001b[39mNone\u001b[39;00m \u001b[39mand\u001b[39;00m \u001b[39mnot\u001b[39;00m query_job\u001b[39m.\u001b[39mconfiguration\u001b[39m.\u001b[39mdry_run:\n\u001b[0;32m--> 221\u001b[0m     results_iterator \u001b[39m=\u001b[39m formatting_helpers\u001b[39m.\u001b[39;49mwait_for_query_job(\n\u001b[1;32m    222\u001b[0m         query_job, max_results, opts\u001b[39m.\u001b[39;49mprogress_bar\n\u001b[1;32m    223\u001b[0m     )\n\u001b[1;32m    224\u001b[0m \u001b[39melse\u001b[39;00m:\n\u001b[1;32m    225\u001b[0m     results_iterator \u001b[39m=\u001b[39m query_job\u001b[39m.\u001b[39mresult(max_results\u001b[39m=\u001b[39mmax_results)\n",
      "File \u001b[0;32m~/bq/src/python-bigquery-dataframes/bigframes/formatting_helpers.py:137\u001b[0m, in \u001b[0;36mwait_for_query_job\u001b[0;34m(query_job, max_results, progress_bar)\u001b[0m\n\u001b[1;32m    135\u001b[0m loading_bar \u001b[39m=\u001b[39m display\u001b[39m.\u001b[39mHTML(get_query_job_loading_html(query_job))\n\u001b[1;32m    136\u001b[0m display\u001b[39m.\u001b[39mdisplay(loading_bar, display_id\u001b[39m=\u001b[39mdisplay_id)\n\u001b[0;32m--> 137\u001b[0m query_result \u001b[39m=\u001b[39m query_job\u001b[39m.\u001b[39;49mresult(max_results\u001b[39m=\u001b[39;49mmax_results)\n\u001b[1;32m    138\u001b[0m query_job\u001b[39m.\u001b[39mreload()\n\u001b[1;32m    139\u001b[0m display\u001b[39m.\u001b[39mupdate_display(\n\u001b[1;32m    140\u001b[0m     display\u001b[39m.\u001b[39mHTML(get_query_job_loading_html(query_job)),\n\u001b[1;32m    141\u001b[0m     display_id\u001b[39m=\u001b[39mdisplay_id,\n\u001b[1;32m    142\u001b[0m )\n",
      "File \u001b[0;32m~/bq/src/python-bigquery-dataframes/.venv/lib/python3.11/site-packages/google/cloud/bigquery/job/query.py:1595\u001b[0m, in \u001b[0;36mQueryJob.result\u001b[0;34m(self, page_size, max_results, retry, timeout, start_index, job_retry)\u001b[0m\n\u001b[1;32m   1592\u001b[0m     \u001b[39mif\u001b[39;00m retry_do_query \u001b[39mis\u001b[39;00m \u001b[39mnot\u001b[39;00m \u001b[39mNone\u001b[39;00m \u001b[39mand\u001b[39;00m job_retry \u001b[39mis\u001b[39;00m \u001b[39mnot\u001b[39;00m \u001b[39mNone\u001b[39;00m:\n\u001b[1;32m   1593\u001b[0m         do_get_result \u001b[39m=\u001b[39m job_retry(do_get_result)\n\u001b[0;32m-> 1595\u001b[0m     do_get_result()\n\u001b[1;32m   1597\u001b[0m \u001b[39mexcept\u001b[39;00m exceptions\u001b[39m.\u001b[39mGoogleAPICallError \u001b[39mas\u001b[39;00m exc:\n\u001b[1;32m   1598\u001b[0m     exc\u001b[39m.\u001b[39mmessage \u001b[39m=\u001b[39m _EXCEPTION_FOOTER_TEMPLATE\u001b[39m.\u001b[39mformat(\n\u001b[1;32m   1599\u001b[0m         message\u001b[39m=\u001b[39mexc\u001b[39m.\u001b[39mmessage, location\u001b[39m=\u001b[39m\u001b[39mself\u001b[39m\u001b[39m.\u001b[39mlocation, job_id\u001b[39m=\u001b[39m\u001b[39mself\u001b[39m\u001b[39m.\u001b[39mjob_id\n\u001b[1;32m   1600\u001b[0m     )\n",
      "File \u001b[0;32m~/bq/src/python-bigquery-dataframes/.venv/lib/python3.11/site-packages/google/api_core/retry.py:366\u001b[0m, in \u001b[0;36mRetry.__call__.<locals>.retry_wrapped_func\u001b[0;34m(*args, **kwargs)\u001b[0m\n\u001b[1;32m    362\u001b[0m target \u001b[39m=\u001b[39m functools\u001b[39m.\u001b[39mpartial(func, \u001b[39m*\u001b[39margs, \u001b[39m*\u001b[39m\u001b[39m*\u001b[39mkwargs)\n\u001b[1;32m    363\u001b[0m sleep_generator \u001b[39m=\u001b[39m exponential_sleep_generator(\n\u001b[1;32m    364\u001b[0m     \u001b[39mself\u001b[39m\u001b[39m.\u001b[39m_initial, \u001b[39mself\u001b[39m\u001b[39m.\u001b[39m_maximum, multiplier\u001b[39m=\u001b[39m\u001b[39mself\u001b[39m\u001b[39m.\u001b[39m_multiplier\n\u001b[1;32m    365\u001b[0m )\n\u001b[0;32m--> 366\u001b[0m \u001b[39mreturn\u001b[39;00m retry_target(\n\u001b[1;32m    367\u001b[0m     target,\n\u001b[1;32m    368\u001b[0m     \u001b[39mself\u001b[39;49m\u001b[39m.\u001b[39;49m_predicate,\n\u001b[1;32m    369\u001b[0m     sleep_generator,\n\u001b[1;32m    370\u001b[0m     \u001b[39mself\u001b[39;49m\u001b[39m.\u001b[39;49m_timeout,\n\u001b[1;32m    371\u001b[0m     on_error\u001b[39m=\u001b[39;49mon_error,\n\u001b[1;32m    372\u001b[0m )\n",
      "File \u001b[0;32m~/bq/src/python-bigquery-dataframes/.venv/lib/python3.11/site-packages/google/api_core/retry.py:204\u001b[0m, in \u001b[0;36mretry_target\u001b[0;34m(target, predicate, sleep_generator, timeout, on_error, **kwargs)\u001b[0m\n\u001b[1;32m    202\u001b[0m \u001b[39mfor\u001b[39;00m sleep \u001b[39min\u001b[39;00m sleep_generator:\n\u001b[1;32m    203\u001b[0m     \u001b[39mtry\u001b[39;00m:\n\u001b[0;32m--> 204\u001b[0m         \u001b[39mreturn\u001b[39;00m target()\n\u001b[1;32m    206\u001b[0m     \u001b[39m# pylint: disable=broad-except\u001b[39;00m\n\u001b[1;32m    207\u001b[0m     \u001b[39m# This function explicitly must deal with broad exceptions.\u001b[39;00m\n\u001b[1;32m    208\u001b[0m     \u001b[39mexcept\u001b[39;00m \u001b[39mException\u001b[39;00m \u001b[39mas\u001b[39;00m exc:\n",
      "File \u001b[0;32m~/bq/src/python-bigquery-dataframes/.venv/lib/python3.11/site-packages/google/cloud/bigquery/job/query.py:1584\u001b[0m, in \u001b[0;36mQueryJob.result.<locals>.do_get_result\u001b[0;34m()\u001b[0m\n\u001b[1;32m   1581\u001b[0m     \u001b[39mself\u001b[39m\u001b[39m.\u001b[39m_retry_do_query \u001b[39m=\u001b[39m retry_do_query\n\u001b[1;32m   1582\u001b[0m     \u001b[39mself\u001b[39m\u001b[39m.\u001b[39m_job_retry \u001b[39m=\u001b[39m job_retry\n\u001b[0;32m-> 1584\u001b[0m \u001b[39msuper\u001b[39;49m(QueryJob, \u001b[39mself\u001b[39;49m)\u001b[39m.\u001b[39;49mresult(retry\u001b[39m=\u001b[39;49mretry, timeout\u001b[39m=\u001b[39;49mtimeout)\n\u001b[1;32m   1586\u001b[0m \u001b[39m# Since the job could already be \"done\" (e.g. got a finished job\u001b[39;00m\n\u001b[1;32m   1587\u001b[0m \u001b[39m# via client.get_job), the superclass call to done() might not\u001b[39;00m\n\u001b[1;32m   1588\u001b[0m \u001b[39m# set the self._query_results cache.\u001b[39;00m\n\u001b[1;32m   1589\u001b[0m \u001b[39mif\u001b[39;00m \u001b[39mself\u001b[39m\u001b[39m.\u001b[39m_query_results \u001b[39mis\u001b[39;00m \u001b[39mNone\u001b[39;00m \u001b[39mor\u001b[39;00m \u001b[39mnot\u001b[39;00m \u001b[39mself\u001b[39m\u001b[39m.\u001b[39m_query_results\u001b[39m.\u001b[39mcomplete:\n",
      "File \u001b[0;32m~/bq/src/python-bigquery-dataframes/.venv/lib/python3.11/site-packages/google/cloud/bigquery/job/base.py:971\u001b[0m, in \u001b[0;36m_AsyncJob.result\u001b[0;34m(self, retry, timeout)\u001b[0m\n\u001b[1;32m    968\u001b[0m     \u001b[39mself\u001b[39m\u001b[39m.\u001b[39m_begin(retry\u001b[39m=\u001b[39mretry, timeout\u001b[39m=\u001b[39mtimeout)\n\u001b[1;32m    970\u001b[0m kwargs \u001b[39m=\u001b[39m {} \u001b[39mif\u001b[39;00m retry \u001b[39mis\u001b[39;00m DEFAULT_RETRY \u001b[39melse\u001b[39;00m {\u001b[39m\"\u001b[39m\u001b[39mretry\u001b[39m\u001b[39m\"\u001b[39m: retry}\n\u001b[0;32m--> 971\u001b[0m \u001b[39mreturn\u001b[39;00m \u001b[39msuper\u001b[39;49m(_AsyncJob, \u001b[39mself\u001b[39;49m)\u001b[39m.\u001b[39;49mresult(timeout\u001b[39m=\u001b[39;49mtimeout, \u001b[39m*\u001b[39;49m\u001b[39m*\u001b[39;49mkwargs)\n",
      "File \u001b[0;32m~/bq/src/python-bigquery-dataframes/.venv/lib/python3.11/site-packages/google/api_core/future/polling.py:256\u001b[0m, in \u001b[0;36mPollingFuture.result\u001b[0;34m(self, timeout, retry, polling)\u001b[0m\n\u001b[1;32m    144\u001b[0m \u001b[39mdef\u001b[39;00m \u001b[39mresult\u001b[39m(\u001b[39mself\u001b[39m, timeout\u001b[39m=\u001b[39m_DEFAULT_VALUE, retry\u001b[39m=\u001b[39m\u001b[39mNone\u001b[39;00m, polling\u001b[39m=\u001b[39m\u001b[39mNone\u001b[39;00m):\n\u001b[1;32m    145\u001b[0m \u001b[39m    \u001b[39m\u001b[39m\"\"\"Get the result of the operation.\u001b[39;00m\n\u001b[1;32m    146\u001b[0m \n\u001b[1;32m    147\u001b[0m \u001b[39m    This method will poll for operation status periodically, blocking if\u001b[39;00m\n\u001b[0;32m   (...)\u001b[0m\n\u001b[1;32m    253\u001b[0m \u001b[39m            the timeout is reached before the operation completes.\u001b[39;00m\n\u001b[1;32m    254\u001b[0m \u001b[39m    \"\"\"\u001b[39;00m\n\u001b[0;32m--> 256\u001b[0m     \u001b[39mself\u001b[39;49m\u001b[39m.\u001b[39;49m_blocking_poll(timeout\u001b[39m=\u001b[39;49mtimeout, retry\u001b[39m=\u001b[39;49mretry, polling\u001b[39m=\u001b[39;49mpolling)\n\u001b[1;32m    258\u001b[0m     \u001b[39mif\u001b[39;00m \u001b[39mself\u001b[39m\u001b[39m.\u001b[39m_exception \u001b[39mis\u001b[39;00m \u001b[39mnot\u001b[39;00m \u001b[39mNone\u001b[39;00m:\n\u001b[1;32m    259\u001b[0m         \u001b[39m# pylint: disable=raising-bad-type\u001b[39;00m\n\u001b[1;32m    260\u001b[0m         \u001b[39m# Pylint doesn't recognize that this is valid in this case.\u001b[39;00m\n\u001b[1;32m    261\u001b[0m         \u001b[39mraise\u001b[39;00m \u001b[39mself\u001b[39m\u001b[39m.\u001b[39m_exception\n",
      "File \u001b[0;32m~/bq/src/python-bigquery-dataframes/.venv/lib/python3.11/site-packages/google/cloud/bigquery/job/query.py:1326\u001b[0m, in \u001b[0;36mQueryJob._blocking_poll\u001b[0;34m(self, timeout, **kwargs)\u001b[0m\n\u001b[1;32m   1324\u001b[0m \u001b[39mself\u001b[39m\u001b[39m.\u001b[39m_done_timeout \u001b[39m=\u001b[39m timeout\n\u001b[1;32m   1325\u001b[0m \u001b[39mself\u001b[39m\u001b[39m.\u001b[39m_transport_timeout \u001b[39m=\u001b[39m timeout\n\u001b[0;32m-> 1326\u001b[0m \u001b[39msuper\u001b[39;49m(QueryJob, \u001b[39mself\u001b[39;49m)\u001b[39m.\u001b[39;49m_blocking_poll(timeout\u001b[39m=\u001b[39;49mtimeout, \u001b[39m*\u001b[39;49m\u001b[39m*\u001b[39;49mkwargs)\n",
      "File \u001b[0;32m~/bq/src/python-bigquery-dataframes/.venv/lib/python3.11/site-packages/google/api_core/future/polling.py:137\u001b[0m, in \u001b[0;36mPollingFuture._blocking_poll\u001b[0;34m(self, timeout, retry, polling)\u001b[0m\n\u001b[1;32m    134\u001b[0m     polling \u001b[39m=\u001b[39m polling\u001b[39m.\u001b[39mwith_timeout(timeout)\n\u001b[1;32m    136\u001b[0m \u001b[39mtry\u001b[39;00m:\n\u001b[0;32m--> 137\u001b[0m     polling(\u001b[39mself\u001b[39;49m\u001b[39m.\u001b[39;49m_done_or_raise)(retry\u001b[39m=\u001b[39;49mretry)\n\u001b[1;32m    138\u001b[0m \u001b[39mexcept\u001b[39;00m exceptions\u001b[39m.\u001b[39mRetryError:\n\u001b[1;32m    139\u001b[0m     \u001b[39mraise\u001b[39;00m concurrent\u001b[39m.\u001b[39mfutures\u001b[39m.\u001b[39mTimeoutError(\n\u001b[1;32m    140\u001b[0m         \u001b[39mf\u001b[39m\u001b[39m\"\u001b[39m\u001b[39mOperation did not complete within the designated timeout of \u001b[39m\u001b[39m\"\u001b[39m\n\u001b[1;32m    141\u001b[0m         \u001b[39mf\u001b[39m\u001b[39m\"\u001b[39m\u001b[39m{\u001b[39;00mpolling\u001b[39m.\u001b[39mtimeout\u001b[39m}\u001b[39;00m\u001b[39m seconds.\u001b[39m\u001b[39m\"\u001b[39m\n\u001b[1;32m    142\u001b[0m     )\n",
      "File \u001b[0;32m~/bq/src/python-bigquery-dataframes/.venv/lib/python3.11/site-packages/google/api_core/retry.py:366\u001b[0m, in \u001b[0;36mRetry.__call__.<locals>.retry_wrapped_func\u001b[0;34m(*args, **kwargs)\u001b[0m\n\u001b[1;32m    362\u001b[0m target \u001b[39m=\u001b[39m functools\u001b[39m.\u001b[39mpartial(func, \u001b[39m*\u001b[39margs, \u001b[39m*\u001b[39m\u001b[39m*\u001b[39mkwargs)\n\u001b[1;32m    363\u001b[0m sleep_generator \u001b[39m=\u001b[39m exponential_sleep_generator(\n\u001b[1;32m    364\u001b[0m     \u001b[39mself\u001b[39m\u001b[39m.\u001b[39m_initial, \u001b[39mself\u001b[39m\u001b[39m.\u001b[39m_maximum, multiplier\u001b[39m=\u001b[39m\u001b[39mself\u001b[39m\u001b[39m.\u001b[39m_multiplier\n\u001b[1;32m    365\u001b[0m )\n\u001b[0;32m--> 366\u001b[0m \u001b[39mreturn\u001b[39;00m retry_target(\n\u001b[1;32m    367\u001b[0m     target,\n\u001b[1;32m    368\u001b[0m     \u001b[39mself\u001b[39;49m\u001b[39m.\u001b[39;49m_predicate,\n\u001b[1;32m    369\u001b[0m     sleep_generator,\n\u001b[1;32m    370\u001b[0m     \u001b[39mself\u001b[39;49m\u001b[39m.\u001b[39;49m_timeout,\n\u001b[1;32m    371\u001b[0m     on_error\u001b[39m=\u001b[39;49mon_error,\n\u001b[1;32m    372\u001b[0m )\n",
      "File \u001b[0;32m~/bq/src/python-bigquery-dataframes/.venv/lib/python3.11/site-packages/google/api_core/retry.py:230\u001b[0m, in \u001b[0;36mretry_target\u001b[0;34m(target, predicate, sleep_generator, timeout, on_error, **kwargs)\u001b[0m\n\u001b[1;32m    220\u001b[0m             \u001b[39mraise\u001b[39;00m exceptions\u001b[39m.\u001b[39mRetryError(\n\u001b[1;32m    221\u001b[0m                 \u001b[39m\"\u001b[39m\u001b[39mDeadline of \u001b[39m\u001b[39m{:.1f}\u001b[39;00m\u001b[39ms exceeded while calling target function\u001b[39m\u001b[39m\"\u001b[39m\u001b[39m.\u001b[39mformat(\n\u001b[1;32m    222\u001b[0m                     timeout\n\u001b[1;32m    223\u001b[0m                 ),\n\u001b[1;32m    224\u001b[0m                 last_exc,\n\u001b[1;32m    225\u001b[0m             ) \u001b[39mfrom\u001b[39;00m \u001b[39mlast_exc\u001b[39;00m\n\u001b[1;32m    227\u001b[0m     _LOGGER\u001b[39m.\u001b[39mdebug(\n\u001b[1;32m    228\u001b[0m         \u001b[39m\"\u001b[39m\u001b[39mRetrying due to \u001b[39m\u001b[39m{}\u001b[39;00m\u001b[39m, sleeping \u001b[39m\u001b[39m{:.1f}\u001b[39;00m\u001b[39ms ...\u001b[39m\u001b[39m\"\u001b[39m\u001b[39m.\u001b[39mformat(last_exc, sleep)\n\u001b[1;32m    229\u001b[0m     )\n\u001b[0;32m--> 230\u001b[0m     time\u001b[39m.\u001b[39msleep(sleep)\n\u001b[1;32m    232\u001b[0m \u001b[39mraise\u001b[39;00m \u001b[39mValueError\u001b[39;00m(\u001b[39m\"\u001b[39m\u001b[39mSleep generator stopped yielding sleep values.\u001b[39m\u001b[39m\"\u001b[39m)\n",
      "\u001b[0;31mKeyboardInterrupt\u001b[0m: "
     ]
    }
   ],
   "source": [
    "_, query_job = bigframes.session._io.bigquery.start_query_with_client(\n",
    "    client, #bq_client: bigquery.Client,\n",
    "    sql, #sql: str,\n",
    "    job_config\n",
    ")"
   ]
  },
  {
   "cell_type": "code",
   "execution_count": null,
   "metadata": {},
   "outputs": [
    {
     "data": {
      "text/plain": [
       "'US'"
      ]
     },
     "execution_count": 14,
     "metadata": {},
     "output_type": "execute_result"
    }
   ],
   "source": [
    "client.project\n",
    "client.location\n",
    "#query_job.done()"
   ]
  }
 ],
 "metadata": {
  "kernelspec": {
   "display_name": ".venv",
   "language": "python",
   "name": "python3"
  },
  "language_info": {
   "codemirror_mode": {
    "name": "ipython",
    "version": 3
   },
   "file_extension": ".py",
   "mimetype": "text/x-python",
   "name": "python",
   "nbconvert_exporter": "python",
   "pygments_lexer": "ipython3",
   "version": "3.11.8"
  },
  "orig_nbformat": 4
 },
 "nbformat": 4,
 "nbformat_minor": 2
}
