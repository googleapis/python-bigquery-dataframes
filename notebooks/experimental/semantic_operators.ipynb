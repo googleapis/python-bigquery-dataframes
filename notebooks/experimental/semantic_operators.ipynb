{
 "cells": [
  {
   "cell_type": "markdown",
   "metadata": {},
   "source": [
    "# BigFrames Semantic Operator Demo"
   ]
  },
  {
   "cell_type": "markdown",
   "metadata": {},
   "source": [
    "This notebook gives you a hands-on preview of semantic operator APIs powered by LLM. The demonstration is devided into two sections: \n",
    "\n",
    "The first section introduces the API syntax with some simple examples. We aim to get you familiar with how BigFrames semantic operators work. \n",
    "\n",
    "The second section talks about applying semantic operators on real-world large datasets. The examples are designed to benchmark the performance of the operators, and to (maybe) spark some ideas for your next application scenarios.\n",
    "\n",
    "Without further ado, let's get started."
   ]
  },
  {
   "cell_type": "markdown",
   "metadata": {},
   "source": [
    "# Preparation"
   ]
  },
  {
   "cell_type": "markdown",
   "metadata": {},
   "source": [
    "First, let's import BigFrames packages."
   ]
  },
  {
   "cell_type": "code",
   "execution_count": 2,
   "metadata": {},
   "outputs": [],
   "source": [
    "import bigframes\n",
    "import bigframes.pandas as bpd"
   ]
  },
  {
   "cell_type": "markdown",
   "metadata": {},
   "source": [
    "Make sure the BigFrames version is at least `1.22.0`"
   ]
  },
  {
   "cell_type": "code",
   "execution_count": 3,
   "metadata": {},
   "outputs": [],
   "source": [
    "from packaging.version import Version\n",
    "\n",
    "assert Version(bigframes.__version__) >= Version(\"1.22.0\")"
   ]
  },
  {
   "cell_type": "markdown",
   "metadata": {},
   "source": [
    "Turn on the semantic operator experiment. You will see a warning sign saying that these operators are still under experiments. This is a necessary step. Otherwise you will see `NotImplementedError` when calling these operators."
   ]
  },
  {
   "cell_type": "code",
   "execution_count": 4,
   "metadata": {},
   "outputs": [
    {
     "name": "stderr",
     "output_type": "stream",
     "text": [
      "/usr/local/google/home/chelsealin/src/bigframes3/bigframes/_config/experiment_options.py:33: UserWarning: Semantic operators are still under experiments, and are subject to change in the future.\n",
      "  warnings.warn(\n"
     ]
    }
   ],
   "source": [
    "bigframes.options.experiments.semantic_operators = True"
   ]
  },
  {
   "cell_type": "markdown",
   "metadata": {},
   "source": [
    "Optional: turn off the display of progress bar so that only the operation results will be printed out"
   ]
  },
  {
   "cell_type": "code",
   "execution_count": null,
   "metadata": {},
   "outputs": [],
   "source": [
    "# bpd.options.display.progress_bar = None"
   ]
  },
  {
   "cell_type": "markdown",
   "metadata": {},
   "source": [
    "Let's also create some LLM instances for these operators. They will be passed in as paramters in each method call."
   ]
  },
  {
   "cell_type": "code",
   "execution_count": 5,
   "metadata": {},
   "outputs": [
    {
     "name": "stderr",
     "output_type": "stream",
     "text": [
      "/usr/local/google/home/chelsealin/src/bigframes3/bigframes/pandas/__init__.py:559: DefaultLocationWarning: No explicit location is set, so using location US for the session.\n",
      "  return global_session.get_global_session()\n"
     ]
    },
    {
     "data": {
      "text/html": [
       "Query job 233b1873-5a5c-4821-aef2-a880c6c97b71 is DONE. 0 Bytes processed. <a target=\"_blank\" href=\"https://console.cloud.google.com/bigquery?project=bigframes-dev&j=bq:US:233b1873-5a5c-4821-aef2-a880c6c97b71&page=queryresults\">Open Job</a>"
      ],
      "text/plain": [
       "<IPython.core.display.HTML object>"
      ]
     },
     "metadata": {},
     "output_type": "display_data"
    },
    {
     "data": {
      "text/html": [
       "Query job a57192da-061e-4a93-a3e8-43ac0e9b5971 is DONE. 0 Bytes processed. <a target=\"_blank\" href=\"https://console.cloud.google.com/bigquery?project=bigframes-dev&j=bq:US:a57192da-061e-4a93-a3e8-43ac0e9b5971&page=queryresults\">Open Job</a>"
      ],
      "text/plain": [
       "<IPython.core.display.HTML object>"
      ]
     },
     "metadata": {},
     "output_type": "display_data"
    }
   ],
   "source": [
    "import bigframes.ml.llm as llm\n",
    "gemini_model = llm.GeminiTextGenerator(model_name=llm._GEMINI_1P5_FLASH_001_ENDPOINT)\n",
    "text_embedding_model = llm.TextEmbeddingGenerator(model_name=\"text-embedding-004\")"
   ]
  },
  {
   "cell_type": "markdown",
   "metadata": {},
   "source": [
    "# API Syntax"
   ]
  },
  {
   "cell_type": "markdown",
   "metadata": {},
   "source": [
    "In this section we will go through the semantic operator APIs with small examples."
   ]
  },
  {
   "cell_type": "markdown",
   "metadata": {},
   "source": [
    "## Semantic Filtering"
   ]
  },
  {
   "cell_type": "markdown",
   "metadata": {},
   "source": [
    "Semantic filtering allows you to filter your dataframe based on the instruction (i.e. prompt) you provided. Let's first create a small dataframe:"
   ]
  },
  {
   "cell_type": "code",
   "execution_count": 31,
   "metadata": {},
   "outputs": [
    {
     "data": {
      "text/html": [
       "Query job 6849148d-0fce-48ab-97ba-a4de258bf9a1 is DONE. 0 Bytes processed. <a target=\"_blank\" href=\"https://console.cloud.google.com/bigquery?project=bigframes-dev&j=bq:US:6849148d-0fce-48ab-97ba-a4de258bf9a1&page=queryresults\">Open Job</a>"
      ],
      "text/plain": [
       "<IPython.core.display.HTML object>"
      ]
     },
     "metadata": {},
     "output_type": "display_data"
    },
    {
     "data": {
      "text/html": [
       "<div>\n",
       "<style scoped>\n",
       "    .dataframe tbody tr th:only-of-type {\n",
       "        vertical-align: middle;\n",
       "    }\n",
       "\n",
       "    .dataframe tbody tr th {\n",
       "        vertical-align: top;\n",
       "    }\n",
       "\n",
       "    .dataframe thead th {\n",
       "        text-align: right;\n",
       "    }\n",
       "</style>\n",
       "<table border=\"1\" class=\"dataframe\">\n",
       "  <thead>\n",
       "    <tr style=\"text-align: right;\">\n",
       "      <th></th>\n",
       "      <th>country</th>\n",
       "      <th>city</th>\n",
       "    </tr>\n",
       "  </thead>\n",
       "  <tbody>\n",
       "    <tr>\n",
       "      <th>0</th>\n",
       "      <td>USA</td>\n",
       "      <td>Seattle</td>\n",
       "    </tr>\n",
       "    <tr>\n",
       "      <th>1</th>\n",
       "      <td>Germany</td>\n",
       "      <td>Berlin</td>\n",
       "    </tr>\n",
       "    <tr>\n",
       "      <th>2</th>\n",
       "      <td>Japan</td>\n",
       "      <td>Kyoto</td>\n",
       "    </tr>\n",
       "  </tbody>\n",
       "</table>\n",
       "<p>3 rows × 2 columns</p>\n",
       "</div>[3 rows x 2 columns in total]"
      ],
      "text/plain": [
       "   country     city\n",
       "0      USA  Seattle\n",
       "1  Germany   Berlin\n",
       "2    Japan    Kyoto\n",
       "\n",
       "[3 rows x 2 columns]"
      ]
     },
     "execution_count": 31,
     "metadata": {},
     "output_type": "execute_result"
    }
   ],
   "source": [
    "df = bpd.DataFrame({'country': ['USA', 'Germany', 'Japan'], 'city': ['Seattle', 'Berlin', 'Kyoto']})\n",
    "df"
   ]
  },
  {
   "cell_type": "markdown",
   "metadata": {},
   "source": [
    "Now, let's filter this dataframe by keeping only the rows where the value in `city` column is the capital of the value in `country` column. The column references could be \"escaped\" by using a pair of braces in your instruction. In this example, our instruction should be like this:\n",
    "```\n",
    "The {city} is the capital of the {country}.\n",
    "```\n",
    "\n",
    "Note that this is not a Python f-string, so you shouldn't prefix your instruction with an `f`. Let's give it a try:"
   ]
  },
  {
   "cell_type": "code",
   "execution_count": 32,
   "metadata": {},
   "outputs": [
    {
     "data": {
      "text/html": [
       "Query job 88f46272-13ee-4884-8de0-72c296216427 is DONE. 0 Bytes processed. <a target=\"_blank\" href=\"https://console.cloud.google.com/bigquery?project=bigframes-dev&j=bq:US:88f46272-13ee-4884-8de0-72c296216427&page=queryresults\">Open Job</a>"
      ],
      "text/plain": [
       "<IPython.core.display.HTML object>"
      ]
     },
     "metadata": {},
     "output_type": "display_data"
    },
    {
     "name": "stderr",
     "output_type": "stream",
     "text": [
      "/usr/local/google/home/sycai/src/python-bigquery-dataframes/bigframes/core/__init__.py:112: PreviewWarning: Interpreting JSON column(s) as StringDtype. This behavior may change in future versions.\n",
      "  warnings.warn(\n"
     ]
    },
    {
     "data": {
      "text/html": [
       "Query job 41e4b5d0-ba18-4ddc-bfa2-1d0beac288ee is DONE. 6 Bytes processed. <a target=\"_blank\" href=\"https://console.cloud.google.com/bigquery?project=bigframes-dev&j=bq:US:41e4b5d0-ba18-4ddc-bfa2-1d0beac288ee&page=queryresults\">Open Job</a>"
      ],
      "text/plain": [
       "<IPython.core.display.HTML object>"
      ]
     },
     "metadata": {},
     "output_type": "display_data"
    },
    {
     "data": {
      "text/html": [
       "Query job d52dcda9-de86-4969-b86a-f191863239a9 is DONE. 50 Bytes processed. <a target=\"_blank\" href=\"https://console.cloud.google.com/bigquery?project=bigframes-dev&j=bq:US:d52dcda9-de86-4969-b86a-f191863239a9&page=queryresults\">Open Job</a>"
      ],
      "text/plain": [
       "<IPython.core.display.HTML object>"
      ]
     },
     "metadata": {},
     "output_type": "display_data"
    },
    {
     "data": {
      "text/html": [
       "Query job 276b768f-25df-4edc-b42a-ac36f1078939 is DONE. 33 Bytes processed. <a target=\"_blank\" href=\"https://console.cloud.google.com/bigquery?project=bigframes-dev&j=bq:US:276b768f-25df-4edc-b42a-ac36f1078939&page=queryresults\">Open Job</a>"
      ],
      "text/plain": [
       "<IPython.core.display.HTML object>"
      ]
     },
     "metadata": {},
     "output_type": "display_data"
    },
    {
     "data": {
      "text/html": [
       "<div>\n",
       "<style scoped>\n",
       "    .dataframe tbody tr th:only-of-type {\n",
       "        vertical-align: middle;\n",
       "    }\n",
       "\n",
       "    .dataframe tbody tr th {\n",
       "        vertical-align: top;\n",
       "    }\n",
       "\n",
       "    .dataframe thead th {\n",
       "        text-align: right;\n",
       "    }\n",
       "</style>\n",
       "<table border=\"1\" class=\"dataframe\">\n",
       "  <thead>\n",
       "    <tr style=\"text-align: right;\">\n",
       "      <th></th>\n",
       "      <th>country</th>\n",
       "      <th>city</th>\n",
       "    </tr>\n",
       "  </thead>\n",
       "  <tbody>\n",
       "    <tr>\n",
       "      <th>1</th>\n",
       "      <td>Germany</td>\n",
       "      <td>Berlin</td>\n",
       "    </tr>\n",
       "  </tbody>\n",
       "</table>\n",
       "<p>1 rows × 2 columns</p>\n",
       "</div>[1 rows x 2 columns in total]"
      ],
      "text/plain": [
       "   country    city\n",
       "1  Germany  Berlin\n",
       "\n",
       "[1 rows x 2 columns]"
      ]
     },
     "execution_count": 32,
     "metadata": {},
     "output_type": "execute_result"
    }
   ],
   "source": [
    "df.semantics.filter(\"The {city} is the capital of the {country}\", model=gemini_model)"
   ]
  },
  {
   "cell_type": "markdown",
   "metadata": {},
   "source": [
    "The filter operator extracts the information from the referenced column to enrich your instruction with context. The instruction is then sent for the designated model for evaluation. For filtering operations, the LLM is asked to return only `True` and `False` for each row, and the operator removes the rows accordingly."
   ]
  },
  {
   "cell_type": "markdown",
   "metadata": {},
   "source": [
    "## Semantic Mapping"
   ]
  },
  {
   "cell_type": "markdown",
   "metadata": {},
   "source": [
    "Semantic mapping allows to you to combine values from multiple columns into a single output based your instruction. To demonstrate this, let's create an example dataframe:"
   ]
  },
  {
   "cell_type": "code",
   "execution_count": 42,
   "metadata": {},
   "outputs": [
    {
     "data": {
      "text/html": [
       "Query job d397c990-0492-4341-a78f-23e6e8bb72ca is DONE. 0 Bytes processed. <a target=\"_blank\" href=\"https://console.cloud.google.com/bigquery?project=bigframes-dev&j=bq:US:d397c990-0492-4341-a78f-23e6e8bb72ca&page=queryresults\">Open Job</a>"
      ],
      "text/plain": [
       "<IPython.core.display.HTML object>"
      ]
     },
     "metadata": {},
     "output_type": "display_data"
    },
    {
     "data": {
      "text/html": [
       "<div>\n",
       "<style scoped>\n",
       "    .dataframe tbody tr th:only-of-type {\n",
       "        vertical-align: middle;\n",
       "    }\n",
       "\n",
       "    .dataframe tbody tr th {\n",
       "        vertical-align: top;\n",
       "    }\n",
       "\n",
       "    .dataframe thead th {\n",
       "        text-align: right;\n",
       "    }\n",
       "</style>\n",
       "<table border=\"1\" class=\"dataframe\">\n",
       "  <thead>\n",
       "    <tr style=\"text-align: right;\">\n",
       "      <th></th>\n",
       "      <th>ingredient_1</th>\n",
       "      <th>ingredient_2</th>\n",
       "    </tr>\n",
       "  </thead>\n",
       "  <tbody>\n",
       "    <tr>\n",
       "      <th>0</th>\n",
       "      <td>Bun</td>\n",
       "      <td>Beef Patty</td>\n",
       "    </tr>\n",
       "    <tr>\n",
       "      <th>1</th>\n",
       "      <td>Soy Bean</td>\n",
       "      <td>Bittern</td>\n",
       "    </tr>\n",
       "    <tr>\n",
       "      <th>2</th>\n",
       "      <td>Sausage</td>\n",
       "      <td>Long Bread</td>\n",
       "    </tr>\n",
       "  </tbody>\n",
       "</table>\n",
       "<p>3 rows × 2 columns</p>\n",
       "</div>[3 rows x 2 columns in total]"
      ],
      "text/plain": [
       "  ingredient_1 ingredient_2\n",
       "0          Bun   Beef Patty\n",
       "1     Soy Bean      Bittern\n",
       "2      Sausage   Long Bread\n",
       "\n",
       "[3 rows x 2 columns]"
      ]
     },
     "execution_count": 42,
     "metadata": {},
     "output_type": "execute_result"
    }
   ],
   "source": [
    "df = bpd.DataFrame({\n",
    "    \"ingredient_1\": [\"Bun\", \"Soy Bean\", \"Sausage\"], \n",
    "    \"ingredient_2\": [\"Beef Patty\", \"Bittern\", \"Long Bread\"]\n",
    "    })\n",
    "df"
   ]
  },
  {
   "cell_type": "markdown",
   "metadata": {},
   "source": [
    "Now, let's ask LLM what kind of food can be made from the two ingredients in each row. The column reference syntax in your instruction stays the same. In addition, you need to specify the column name by setting the `output_column` parameter to hold the mapping results."
   ]
  },
  {
   "cell_type": "code",
   "execution_count": 43,
   "metadata": {},
   "outputs": [
    {
     "data": {
      "text/html": [
       "Query job 79039400-6764-4296-b1c0-3ba2b43722cf is DONE. 0 Bytes processed. <a target=\"_blank\" href=\"https://console.cloud.google.com/bigquery?project=bigframes-dev&j=bq:US:79039400-6764-4296-b1c0-3ba2b43722cf&page=queryresults\">Open Job</a>"
      ],
      "text/plain": [
       "<IPython.core.display.HTML object>"
      ]
     },
     "metadata": {},
     "output_type": "display_data"
    },
    {
     "name": "stderr",
     "output_type": "stream",
     "text": [
      "/usr/local/google/home/sycai/src/python-bigquery-dataframes/bigframes/core/__init__.py:112: PreviewWarning: Interpreting JSON column(s) as StringDtype. This behavior may change in future versions.\n",
      "  warnings.warn(\n"
     ]
    },
    {
     "data": {
      "text/html": [
       "Query job deba2331-9cb4-454b-a3e6-36f9fc1855fb is DONE. 6 Bytes processed. <a target=\"_blank\" href=\"https://console.cloud.google.com/bigquery?project=bigframes-dev&j=bq:US:deba2331-9cb4-454b-a3e6-36f9fc1855fb&page=queryresults\">Open Job</a>"
      ],
      "text/plain": [
       "<IPython.core.display.HTML object>"
      ]
     },
     "metadata": {},
     "output_type": "display_data"
    },
    {
     "data": {
      "text/html": [
       "Query job bf49a202-71e1-4930-a4a2-c1db9fe78c95 is DONE. 52 Bytes processed. <a target=\"_blank\" href=\"https://console.cloud.google.com/bigquery?project=bigframes-dev&j=bq:US:bf49a202-71e1-4930-a4a2-c1db9fe78c95&page=queryresults\">Open Job</a>"
      ],
      "text/plain": [
       "<IPython.core.display.HTML object>"
      ]
     },
     "metadata": {},
     "output_type": "display_data"
    },
    {
     "data": {
      "text/html": [
       "Query job f098a869-a31e-47ed-9b1c-9898aa79bb4f is DONE. 133 Bytes processed. <a target=\"_blank\" href=\"https://console.cloud.google.com/bigquery?project=bigframes-dev&j=bq:US:f098a869-a31e-47ed-9b1c-9898aa79bb4f&page=queryresults\">Open Job</a>"
      ],
      "text/plain": [
       "<IPython.core.display.HTML object>"
      ]
     },
     "metadata": {},
     "output_type": "display_data"
    },
    {
     "data": {
      "text/html": [
       "<div>\n",
       "<style scoped>\n",
       "    .dataframe tbody tr th:only-of-type {\n",
       "        vertical-align: middle;\n",
       "    }\n",
       "\n",
       "    .dataframe tbody tr th {\n",
       "        vertical-align: top;\n",
       "    }\n",
       "\n",
       "    .dataframe thead th {\n",
       "        text-align: right;\n",
       "    }\n",
       "</style>\n",
       "<table border=\"1\" class=\"dataframe\">\n",
       "  <thead>\n",
       "    <tr style=\"text-align: right;\">\n",
       "      <th></th>\n",
       "      <th>ingredient_1</th>\n",
       "      <th>ingredient_2</th>\n",
       "      <th>food</th>\n",
       "    </tr>\n",
       "  </thead>\n",
       "  <tbody>\n",
       "    <tr>\n",
       "      <th>0</th>\n",
       "      <td>Bun</td>\n",
       "      <td>Beef Patty</td>\n",
       "      <td>Burger</td>\n",
       "    </tr>\n",
       "    <tr>\n",
       "      <th>1</th>\n",
       "      <td>Soy Bean</td>\n",
       "      <td>Bittern</td>\n",
       "      <td>Tofu</td>\n",
       "    </tr>\n",
       "    <tr>\n",
       "      <th>2</th>\n",
       "      <td>Sausage</td>\n",
       "      <td>Long Bread</td>\n",
       "      <td>Hotdog</td>\n",
       "    </tr>\n",
       "  </tbody>\n",
       "</table>\n",
       "<p>3 rows × 3 columns</p>\n",
       "</div>[3 rows x 3 columns in total]"
      ],
      "text/plain": [
       "  ingredient_1 ingredient_2      food\n",
       "0          Bun   Beef Patty  Burger \n",
       "\n",
       "1     Soy Bean      Bittern    Tofu \n",
       "\n",
       "2      Sausage   Long Bread  Hotdog \n",
       "\n",
       "\n",
       "[3 rows x 3 columns]"
      ]
     },
     "execution_count": 43,
     "metadata": {},
     "output_type": "execute_result"
    }
   ],
   "source": [
    "df.semantics.map(\"What is the food made from {ingredient_1} and {ingredient_2}? One word only.\", output_column=\"food\", model=gemini_model)"
   ]
  },
  {
   "cell_type": "markdown",
   "metadata": {},
   "source": [
    "The mechanism behind semantic mapping is very similar with semantic filtering. The one major difference: instead of asking LLM to reply true or false to each row, the operator lets LLM reply free-form strings and attach them as a new column to the dataframe."
   ]
  },
  {
   "cell_type": "markdown",
   "metadata": {},
   "source": [
    "## Semantic Joining"
   ]
  },
  {
   "cell_type": "markdown",
   "metadata": {},
   "source": [
    "Semantic joining can join two dataframes based on the instruction you provided. First, let's prepare two dataframes."
   ]
  },
  {
   "cell_type": "code",
   "execution_count": 7,
   "metadata": {},
   "outputs": [],
   "source": [
    "cities = bpd.DataFrame({'city': ['Seattle', 'Ottawa', 'Berlin', 'Shanghai', 'New Delhi']})\n",
    "continents = bpd.DataFrame({'continent': ['North America', 'Africa', 'Asia']})"
   ]
  },
  {
   "cell_type": "markdown",
   "metadata": {},
   "source": [
    "We want to join the `cities` with `continents` to form a new dataframe such that, in each row the city from the `cities` data frame is in the continent from the `continents` dataframe. We could re-use the aforementioned column reference syntax:"
   ]
  },
  {
   "cell_type": "code",
   "execution_count": 8,
   "metadata": {},
   "outputs": [
    {
     "data": {
      "text/html": [
       "Query job fcda7d35-d969-47a8-b611-0c516e2e39e8 is DONE. 0 Bytes processed. <a target=\"_blank\" href=\"https://console.cloud.google.com/bigquery?project=bigframes-dev&j=bq:US:fcda7d35-d969-47a8-b611-0c516e2e39e8&page=queryresults\">Open Job</a>"
      ],
      "text/plain": [
       "<IPython.core.display.HTML object>"
      ]
     },
     "metadata": {},
     "output_type": "display_data"
    },
    {
     "name": "stderr",
     "output_type": "stream",
     "text": [
      "/usr/local/google/home/sycai/src/python-bigquery-dataframes/bigframes/core/__init__.py:112: PreviewWarning: Interpreting JSON column(s) as StringDtype. This behavior may change in future versions.\n",
      "  warnings.warn(\n"
     ]
    },
    {
     "data": {
      "text/html": [
       "Query job c532592c-c4ce-4f08-9397-21b1b8b1f347 is DONE. 30 Bytes processed. <a target=\"_blank\" href=\"https://console.cloud.google.com/bigquery?project=bigframes-dev&j=bq:US:c532592c-c4ce-4f08-9397-21b1b8b1f347&page=queryresults\">Open Job</a>"
      ],
      "text/plain": [
       "<IPython.core.display.HTML object>"
      ]
     },
     "metadata": {},
     "output_type": "display_data"
    },
    {
     "data": {
      "text/html": [
       "Query job a11bd20f-7a75-462c-b6a5-64d954645e1b is DONE. 251 Bytes processed. <a target=\"_blank\" href=\"https://console.cloud.google.com/bigquery?project=bigframes-dev&j=bq:US:a11bd20f-7a75-462c-b6a5-64d954645e1b&page=queryresults\">Open Job</a>"
      ],
      "text/plain": [
       "<IPython.core.display.HTML object>"
      ]
     },
     "metadata": {},
     "output_type": "display_data"
    },
    {
     "data": {
      "text/html": [
       "Query job 4703c2a9-ab08-46f1-a612-3354c5df391f is DONE. 144 Bytes processed. <a target=\"_blank\" href=\"https://console.cloud.google.com/bigquery?project=bigframes-dev&j=bq:US:4703c2a9-ab08-46f1-a612-3354c5df391f&page=queryresults\">Open Job</a>"
      ],
      "text/plain": [
       "<IPython.core.display.HTML object>"
      ]
     },
     "metadata": {},
     "output_type": "display_data"
    },
    {
     "data": {
      "text/html": [
       "<div>\n",
       "<style scoped>\n",
       "    .dataframe tbody tr th:only-of-type {\n",
       "        vertical-align: middle;\n",
       "    }\n",
       "\n",
       "    .dataframe tbody tr th {\n",
       "        vertical-align: top;\n",
       "    }\n",
       "\n",
       "    .dataframe thead th {\n",
       "        text-align: right;\n",
       "    }\n",
       "</style>\n",
       "<table border=\"1\" class=\"dataframe\">\n",
       "  <thead>\n",
       "    <tr style=\"text-align: right;\">\n",
       "      <th></th>\n",
       "      <th>city</th>\n",
       "      <th>continent</th>\n",
       "    </tr>\n",
       "  </thead>\n",
       "  <tbody>\n",
       "    <tr>\n",
       "      <th>0</th>\n",
       "      <td>Seattle</td>\n",
       "      <td>North America</td>\n",
       "    </tr>\n",
       "    <tr>\n",
       "      <th>1</th>\n",
       "      <td>Ottawa</td>\n",
       "      <td>North America</td>\n",
       "    </tr>\n",
       "    <tr>\n",
       "      <th>2</th>\n",
       "      <td>Shanghai</td>\n",
       "      <td>Asia</td>\n",
       "    </tr>\n",
       "    <tr>\n",
       "      <th>3</th>\n",
       "      <td>New Delhi</td>\n",
       "      <td>Asia</td>\n",
       "    </tr>\n",
       "  </tbody>\n",
       "</table>\n",
       "<p>4 rows × 2 columns</p>\n",
       "</div>[4 rows x 2 columns in total]"
      ],
      "text/plain": [
       "        city      continent\n",
       "0    Seattle  North America\n",
       "1     Ottawa  North America\n",
       "2   Shanghai           Asia\n",
       "3  New Delhi           Asia\n",
       "\n",
       "[4 rows x 2 columns]"
      ]
     },
     "execution_count": 8,
     "metadata": {},
     "output_type": "execute_result"
    }
   ],
   "source": [
    "cities.semantics.join(continents, \"{city} is in {continent}\", gemini_model)"
   ]
  },
  {
   "cell_type": "markdown",
   "metadata": {},
   "source": [
    "!! **Important:** Semantic join can trigger probihitively expensitve operations! This operation first cross joins two dataframes, then invokes semantic filter on each row. That means if you have two dataframes of sizes `M` and `N`, the total amount of queries sent to the LLM is on the scale of `M * N`. Therefore, we have added a parameter `max_rows`, a threshold that guards against unexpected expensive calls. With this parameter, the operator first calculates the size of your cross-joined data, and compares it with the threshold. If the size exceeds your threshold, the fuction will abort early with a `ValueError`. You can manually set the value of `max_rows` to raise or lower the threshold."
   ]
  },
  {
   "cell_type": "markdown",
   "metadata": {},
   "source": [
    "### Self Joins"
   ]
  },
  {
   "cell_type": "markdown",
   "metadata": {},
   "source": [
    "We use a self-join example to demonstrate a special case: what happens when the joining columns exist in both data frames? It turns out that you need to provide extra information in your column references: by attaching \"_left\" and \"_right\" suffixes to your column names. \n",
    "\n",
    "Let's create an example data frame:"
   ]
  },
  {
   "cell_type": "code",
   "execution_count": 9,
   "metadata": {},
   "outputs": [],
   "source": [
    "animals = bpd.DataFrame({'animal': ['cow', 'cat', 'spider', 'elephant']})"
   ]
  },
  {
   "cell_type": "markdown",
   "metadata": {},
   "source": [
    "We want to compare the weights of these animals, and output all the pairs where the animal on the left is heavier than the animal on the right. In this case, we use `animal_left` and `animal_right` to differentiate the data sources:"
   ]
  },
  {
   "cell_type": "code",
   "execution_count": 10,
   "metadata": {},
   "outputs": [
    {
     "data": {
      "text/html": [
       "Query job 8c1f1313-3eee-47dc-ad2d-27a49dc831dc is DONE. 0 Bytes processed. <a target=\"_blank\" href=\"https://console.cloud.google.com/bigquery?project=bigframes-dev&j=bq:US:8c1f1313-3eee-47dc-ad2d-27a49dc831dc&page=queryresults\">Open Job</a>"
      ],
      "text/plain": [
       "<IPython.core.display.HTML object>"
      ]
     },
     "metadata": {},
     "output_type": "display_data"
    },
    {
     "name": "stderr",
     "output_type": "stream",
     "text": [
      "/usr/local/google/home/sycai/src/python-bigquery-dataframes/bigframes/core/__init__.py:112: PreviewWarning: Interpreting JSON column(s) as StringDtype. This behavior may change in future versions.\n",
      "  warnings.warn(\n"
     ]
    },
    {
     "data": {
      "text/html": [
       "Query job 08dda435-13bd-49d0-a941-1cf91a9a1c96 is DONE. 32 Bytes processed. <a target=\"_blank\" href=\"https://console.cloud.google.com/bigquery?project=bigframes-dev&j=bq:US:08dda435-13bd-49d0-a941-1cf91a9a1c96&page=queryresults\">Open Job</a>"
      ],
      "text/plain": [
       "<IPython.core.display.HTML object>"
      ]
     },
     "metadata": {},
     "output_type": "display_data"
    },
    {
     "data": {
      "text/html": [
       "Query job abf33f67-0056-499b-b7fe-583391c6bc02 is DONE. 266 Bytes processed. <a target=\"_blank\" href=\"https://console.cloud.google.com/bigquery?project=bigframes-dev&j=bq:US:abf33f67-0056-499b-b7fe-583391c6bc02&page=queryresults\">Open Job</a>"
      ],
      "text/plain": [
       "<IPython.core.display.HTML object>"
      ]
     },
     "metadata": {},
     "output_type": "display_data"
    },
    {
     "data": {
      "text/html": [
       "Query job 74249b99-8975-4fc4-b599-1b682edf8aeb is DONE. 180 Bytes processed. <a target=\"_blank\" href=\"https://console.cloud.google.com/bigquery?project=bigframes-dev&j=bq:US:74249b99-8975-4fc4-b599-1b682edf8aeb&page=queryresults\">Open Job</a>"
      ],
      "text/plain": [
       "<IPython.core.display.HTML object>"
      ]
     },
     "metadata": {},
     "output_type": "display_data"
    },
    {
     "data": {
      "text/html": [
       "<div>\n",
       "<style scoped>\n",
       "    .dataframe tbody tr th:only-of-type {\n",
       "        vertical-align: middle;\n",
       "    }\n",
       "\n",
       "    .dataframe tbody tr th {\n",
       "        vertical-align: top;\n",
       "    }\n",
       "\n",
       "    .dataframe thead th {\n",
       "        text-align: right;\n",
       "    }\n",
       "</style>\n",
       "<table border=\"1\" class=\"dataframe\">\n",
       "  <thead>\n",
       "    <tr style=\"text-align: right;\">\n",
       "      <th></th>\n",
       "      <th>animal_left</th>\n",
       "      <th>animal_right</th>\n",
       "    </tr>\n",
       "  </thead>\n",
       "  <tbody>\n",
       "    <tr>\n",
       "      <th>0</th>\n",
       "      <td>cow</td>\n",
       "      <td>cat</td>\n",
       "    </tr>\n",
       "    <tr>\n",
       "      <th>1</th>\n",
       "      <td>cow</td>\n",
       "      <td>spider</td>\n",
       "    </tr>\n",
       "    <tr>\n",
       "      <th>2</th>\n",
       "      <td>cat</td>\n",
       "      <td>spider</td>\n",
       "    </tr>\n",
       "    <tr>\n",
       "      <th>3</th>\n",
       "      <td>elephant</td>\n",
       "      <td>cow</td>\n",
       "    </tr>\n",
       "    <tr>\n",
       "      <th>4</th>\n",
       "      <td>elephant</td>\n",
       "      <td>cat</td>\n",
       "    </tr>\n",
       "    <tr>\n",
       "      <th>5</th>\n",
       "      <td>elephant</td>\n",
       "      <td>spider</td>\n",
       "    </tr>\n",
       "  </tbody>\n",
       "</table>\n",
       "<p>6 rows × 2 columns</p>\n",
       "</div>[6 rows x 2 columns in total]"
      ],
      "text/plain": [
       "  animal_left animal_right\n",
       "0         cow          cat\n",
       "1         cow       spider\n",
       "2         cat       spider\n",
       "3    elephant          cow\n",
       "4    elephant          cat\n",
       "5    elephant       spider\n",
       "\n",
       "[6 rows x 2 columns]"
      ]
     },
     "execution_count": 10,
     "metadata": {},
     "output_type": "execute_result"
    }
   ],
   "source": [
    "animals.semantics.join(animals, \"{animal_left} generally weighs heavier than {animal_right}\", gemini_model)"
   ]
  },
  {
   "cell_type": "markdown",
   "metadata": {},
   "source": [
    "Note that you should not attach \"_left\" or \"_right\" suffixes to non-overlapping columns, otherwise you will get an error.\n",
    "\n",
    "There is an additional concern on this naming scheme: it risks collisions with existing column names that end with \"_left\" or \"_right\", so we need more efforts to find a better solution."
   ]
  },
  {
   "cell_type": "markdown",
   "metadata": {},
   "source": [
    "## Semantic Aggregation"
   ]
  },
  {
   "cell_type": "markdown",
   "metadata": {},
   "source": [
    "Semantic aggregation merges all the values in a column into one. At this moment you can only aggregate a single column in each oeprator call. Let's create an example:"
   ]
  },
  {
   "cell_type": "code",
   "execution_count": 4,
   "metadata": {},
   "outputs": [
    {
     "name": "stderr",
     "output_type": "stream",
     "text": [
      "/usr/local/google/home/sycai/src/python-bigquery-dataframes/bigframes/core/global_session.py:113: DefaultLocationWarning: No explicit location is set, so using location US for the session.\n",
      "  return func(get_global_session(), *args, **kwargs)\n"
     ]
    },
    {
     "data": {
      "text/html": [
       "Query job 3a882202-a709-4006-8ed6-68eef4acec4d is DONE. 0 Bytes processed. <a target=\"_blank\" href=\"https://console.cloud.google.com/bigquery?project=bigframes-dev&j=bq:US:3a882202-a709-4006-8ed6-68eef4acec4d&page=queryresults\">Open Job</a>"
      ],
      "text/plain": [
       "<IPython.core.display.HTML object>"
      ]
     },
     "metadata": {},
     "output_type": "display_data"
    },
    {
     "data": {
      "text/html": [
       "<div>\n",
       "<style scoped>\n",
       "    .dataframe tbody tr th:only-of-type {\n",
       "        vertical-align: middle;\n",
       "    }\n",
       "\n",
       "    .dataframe tbody tr th {\n",
       "        vertical-align: top;\n",
       "    }\n",
       "\n",
       "    .dataframe thead th {\n",
       "        text-align: right;\n",
       "    }\n",
       "</style>\n",
       "<table border=\"1\" class=\"dataframe\">\n",
       "  <thead>\n",
       "    <tr style=\"text-align: right;\">\n",
       "      <th></th>\n",
       "      <th>Movies</th>\n",
       "      <th>Year</th>\n",
       "    </tr>\n",
       "  </thead>\n",
       "  <tbody>\n",
       "    <tr>\n",
       "      <th>0</th>\n",
       "      <td>Titanic</td>\n",
       "      <td>1997</td>\n",
       "    </tr>\n",
       "    <tr>\n",
       "      <th>1</th>\n",
       "      <td>The Wolf of Wall Street</td>\n",
       "      <td>2013</td>\n",
       "    </tr>\n",
       "    <tr>\n",
       "      <th>2</th>\n",
       "      <td>Killers of the Flower Moon</td>\n",
       "      <td>2023</td>\n",
       "    </tr>\n",
       "    <tr>\n",
       "      <th>3</th>\n",
       "      <td>The Revenant</td>\n",
       "      <td>2015</td>\n",
       "    </tr>\n",
       "    <tr>\n",
       "      <th>4</th>\n",
       "      <td>Inception</td>\n",
       "      <td>2010</td>\n",
       "    </tr>\n",
       "    <tr>\n",
       "      <th>5</th>\n",
       "      <td>Shuttle Island</td>\n",
       "      <td>2010</td>\n",
       "    </tr>\n",
       "    <tr>\n",
       "      <th>6</th>\n",
       "      <td>The Great Gatsby</td>\n",
       "      <td>2013</td>\n",
       "    </tr>\n",
       "  </tbody>\n",
       "</table>\n",
       "<p>7 rows × 2 columns</p>\n",
       "</div>[7 rows x 2 columns in total]"
      ],
      "text/plain": [
       "                       Movies  Year\n",
       "0                     Titanic  1997\n",
       "1     The Wolf of Wall Street  2013\n",
       "2  Killers of the Flower Moon  2023\n",
       "3                The Revenant  2015\n",
       "4                   Inception  2010\n",
       "5              Shuttle Island  2010\n",
       "6            The Great Gatsby  2013\n",
       "\n",
       "[7 rows x 2 columns]"
      ]
     },
     "execution_count": 4,
     "metadata": {},
     "output_type": "execute_result"
    }
   ],
   "source": [
    "df = bpd.DataFrame({\n",
    "    \"Movies\": [\n",
    "        \"Titanic\",\n",
    "        \"The Wolf of Wall Street\",\n",
    "        \"Killers of the Flower Moon\",\n",
    "        \"The Revenant\",\n",
    "        \"Inception\",\n",
    "        \"Shuttle Island\",\n",
    "        \"The Great Gatsby\",\n",
    "    ],\n",
    "    \"Year\": [1997, 2013, 2023, 2015, 2010, 2010, 2013],\n",
    "})\n",
    "df"
   ]
  },
  {
   "cell_type": "markdown",
   "metadata": {},
   "source": [
    "Let's ask LLM to find the actor/actress that starred in all movies:"
   ]
  },
  {
   "cell_type": "code",
   "execution_count": 8,
   "metadata": {},
   "outputs": [
    {
     "data": {
      "text/html": [
       "Query job 8dfe8673-505f-45cb-a24d-49d1ce4f5dd0 is DONE. 0 Bytes processed. <a target=\"_blank\" href=\"https://console.cloud.google.com/bigquery?project=bigframes-dev&j=bq:US:8dfe8673-505f-45cb-a24d-49d1ce4f5dd0&page=queryresults\">Open Job</a>"
      ],
      "text/plain": [
       "<IPython.core.display.HTML object>"
      ]
     },
     "metadata": {},
     "output_type": "display_data"
    },
    {
     "name": "stderr",
     "output_type": "stream",
     "text": [
      "/usr/local/google/home/sycai/src/python-bigquery-dataframes/bigframes/core/__init__.py:112: PreviewWarning: Interpreting JSON column(s) as StringDtype. This behavior may change in future versions.\n",
      "  warnings.warn(\n"
     ]
    },
    {
     "data": {
      "text/html": [
       "Query job 181236d2-6d13-4beb-81ba-dcbe80273f9f is DONE. 2 Bytes processed. <a target=\"_blank\" href=\"https://console.cloud.google.com/bigquery?project=bigframes-dev&j=bq:US:181236d2-6d13-4beb-81ba-dcbe80273f9f&page=queryresults\">Open Job</a>"
      ],
      "text/plain": [
       "<IPython.core.display.HTML object>"
      ]
     },
     "metadata": {},
     "output_type": "display_data"
    },
    {
     "data": {
      "text/html": [
       "Query job b04caecc-a9e4-4547-846d-dd4d326bded0 is DONE. 16 Bytes processed. <a target=\"_blank\" href=\"https://console.cloud.google.com/bigquery?project=bigframes-dev&j=bq:US:b04caecc-a9e4-4547-846d-dd4d326bded0&page=queryresults\">Open Job</a>"
      ],
      "text/plain": [
       "<IPython.core.display.HTML object>"
      ]
     },
     "metadata": {},
     "output_type": "display_data"
    },
    {
     "data": {
      "text/html": [
       "Query job ccf155d0-5178-439f-9930-d0e2c86c4710 is DONE. 37 Bytes processed. <a target=\"_blank\" href=\"https://console.cloud.google.com/bigquery?project=bigframes-dev&j=bq:US:ccf155d0-5178-439f-9930-d0e2c86c4710&page=queryresults\">Open Job</a>"
      ],
      "text/plain": [
       "<IPython.core.display.HTML object>"
      ]
     },
     "metadata": {},
     "output_type": "display_data"
    },
    {
     "data": {
      "text/html": [
       "Query job ae96c50f-1b1b-404f-b1dc-b238bab83ec9 is DONE. 37 Bytes processed. <a target=\"_blank\" href=\"https://console.cloud.google.com/bigquery?project=bigframes-dev&j=bq:US:ae96c50f-1b1b-404f-b1dc-b238bab83ec9&page=queryresults\">Open Job</a>"
      ],
      "text/plain": [
       "<IPython.core.display.HTML object>"
      ]
     },
     "metadata": {},
     "output_type": "display_data"
    },
    {
     "data": {
      "text/plain": [
       "0    Leonardo DiCaprio \n",
       "\n",
       "Name: Movies, dtype: string"
      ]
     },
     "execution_count": 8,
     "metadata": {},
     "output_type": "execute_result"
    }
   ],
   "source": [
    "agg_df = df.semantics.agg(\"Find the actors/actresses who starred in all {Movies}. Reply with their names only.\", model=gemini_model)\n",
    "agg_df"
   ]
  },
  {
   "cell_type": "markdown",
   "metadata": {},
   "source": [
    "Instead of going through each row one by one, this operator batches multiple rows in a single request towards LLM. It then aggregates all the batched results with the same technique, until there is only one value left. You could set the batch size with `max_agg_rows` parameter, which defaults to 10."
   ]
  },
  {
   "cell_type": "markdown",
   "metadata": {},
   "source": [
    "## Semantic Search"
   ]
  },
  {
   "cell_type": "markdown",
   "metadata": {},
   "source": [
    "Semantic search searches the most similar values to your qury within a single column. Here is an example:"
   ]
  },
  {
   "cell_type": "code",
   "execution_count": 11,
   "metadata": {},
   "outputs": [
    {
     "data": {
      "text/html": [
       "Query job 8be41631-537e-4b73-b3c8-1cad09dffb95 is DONE. 0 Bytes processed. <a target=\"_blank\" href=\"https://console.cloud.google.com/bigquery?project=bigframes-dev&j=bq:US:8be41631-537e-4b73-b3c8-1cad09dffb95&page=queryresults\">Open Job</a>"
      ],
      "text/plain": [
       "<IPython.core.display.HTML object>"
      ]
     },
     "metadata": {},
     "output_type": "display_data"
    },
    {
     "data": {
      "text/html": [
       "<div>\n",
       "<style scoped>\n",
       "    .dataframe tbody tr th:only-of-type {\n",
       "        vertical-align: middle;\n",
       "    }\n",
       "\n",
       "    .dataframe tbody tr th {\n",
       "        vertical-align: top;\n",
       "    }\n",
       "\n",
       "    .dataframe thead th {\n",
       "        text-align: right;\n",
       "    }\n",
       "</style>\n",
       "<table border=\"1\" class=\"dataframe\">\n",
       "  <thead>\n",
       "    <tr style=\"text-align: right;\">\n",
       "      <th></th>\n",
       "      <th>creatures</th>\n",
       "    </tr>\n",
       "  </thead>\n",
       "  <tbody>\n",
       "    <tr>\n",
       "      <th>0</th>\n",
       "      <td>salmon</td>\n",
       "    </tr>\n",
       "    <tr>\n",
       "      <th>1</th>\n",
       "      <td>sea urchin</td>\n",
       "    </tr>\n",
       "    <tr>\n",
       "      <th>2</th>\n",
       "      <td>baboons</td>\n",
       "    </tr>\n",
       "    <tr>\n",
       "      <th>3</th>\n",
       "      <td>frog</td>\n",
       "    </tr>\n",
       "    <tr>\n",
       "      <th>4</th>\n",
       "      <td>chimpanzee</td>\n",
       "    </tr>\n",
       "  </tbody>\n",
       "</table>\n",
       "<p>5 rows × 1 columns</p>\n",
       "</div>[5 rows x 1 columns in total]"
      ],
      "text/plain": [
       "    creatures\n",
       "0      salmon\n",
       "1  sea urchin\n",
       "2     baboons\n",
       "3        frog\n",
       "4  chimpanzee\n",
       "\n",
       "[5 rows x 1 columns]"
      ]
     },
     "execution_count": 11,
     "metadata": {},
     "output_type": "execute_result"
    }
   ],
   "source": [
    "df = bpd.DataFrame({\"creatures\": [\"salmon\", \"sea urchin\", \"baboons\", \"frog\", \"chimpanzee\"]})\n",
    "df"
   ]
  },
  {
   "cell_type": "markdown",
   "metadata": {},
   "source": [
    "We want to get the top 2 creatures that are most similar to \"monkey\":"
   ]
  },
  {
   "cell_type": "code",
   "execution_count": 12,
   "metadata": {},
   "outputs": [
    {
     "data": {
      "text/html": [
       "Query job 56d5f17f-f64a-46ca-8d30-74f8e2ad5dec is DONE. 0 Bytes processed. <a target=\"_blank\" href=\"https://console.cloud.google.com/bigquery?project=bigframes-dev&j=bq:US:56d5f17f-f64a-46ca-8d30-74f8e2ad5dec&page=queryresults\">Open Job</a>"
      ],
      "text/plain": [
       "<IPython.core.display.HTML object>"
      ]
     },
     "metadata": {},
     "output_type": "display_data"
    },
    {
     "name": "stderr",
     "output_type": "stream",
     "text": [
      "/usr/local/google/home/sycai/src/python-bigquery-dataframes/bigframes/core/__init__.py:112: PreviewWarning: Interpreting JSON column(s) as StringDtype. This behavior may change in future versions.\n",
      "  warnings.warn(\n"
     ]
    },
    {
     "data": {
      "text/html": [
       "Query job fe75b64a-41a3-4675-ae1e-d2db6b2270d3 is DONE. 10 Bytes processed. <a target=\"_blank\" href=\"https://console.cloud.google.com/bigquery?project=bigframes-dev&j=bq:US:fe75b64a-41a3-4675-ae1e-d2db6b2270d3&page=queryresults\">Open Job</a>"
      ],
      "text/plain": [
       "<IPython.core.display.HTML object>"
      ]
     },
     "metadata": {},
     "output_type": "display_data"
    },
    {
     "data": {
      "text/html": [
       "Query job 9f06c24e-d931-4e59-a444-1a6013c43290 is DONE. 30.9 kB processed. <a target=\"_blank\" href=\"https://console.cloud.google.com/bigquery?project=bigframes-dev&j=bq:US:9f06c24e-d931-4e59-a444-1a6013c43290&page=queryresults\">Open Job</a>"
      ],
      "text/plain": [
       "<IPython.core.display.HTML object>"
      ]
     },
     "metadata": {},
     "output_type": "display_data"
    },
    {
     "data": {
      "text/html": [
       "Query job 627b8206-b3f9-4c25-a5d9-dde7c0042a4d is DONE. 0 Bytes processed. <a target=\"_blank\" href=\"https://console.cloud.google.com/bigquery?project=bigframes-dev&j=bq:US:627b8206-b3f9-4c25-a5d9-dde7c0042a4d&page=queryresults\">Open Job</a>"
      ],
      "text/plain": [
       "<IPython.core.display.HTML object>"
      ]
     },
     "metadata": {},
     "output_type": "display_data"
    },
    {
     "name": "stderr",
     "output_type": "stream",
     "text": [
      "/usr/local/google/home/sycai/src/python-bigquery-dataframes/bigframes/core/__init__.py:112: PreviewWarning: Interpreting JSON column(s) as StringDtype. This behavior may change in future versions.\n",
      "  warnings.warn(\n"
     ]
    },
    {
     "data": {
      "text/html": [
       "Query job d01597bb-30ef-495f-be5d-c9fb16d4c112 is DONE. 2 Bytes processed. <a target=\"_blank\" href=\"https://console.cloud.google.com/bigquery?project=bigframes-dev&j=bq:US:d01597bb-30ef-495f-be5d-c9fb16d4c112&page=queryresults\">Open Job</a>"
      ],
      "text/plain": [
       "<IPython.core.display.HTML object>"
      ]
     },
     "metadata": {},
     "output_type": "display_data"
    },
    {
     "data": {
      "text/html": [
       "Query job bbc67bc3-830d-4ede-829d-16d4829dec33 is RUNNING. <a target=\"_blank\" href=\"https://console.cloud.google.com/bigquery?project=bigframes-dev&j=bq:US:bbc67bc3-830d-4ede-829d-16d4829dec33&page=queryresults\">Open Job</a>"
      ],
      "text/plain": [
       "<IPython.core.display.HTML object>"
      ]
     },
     "metadata": {},
     "output_type": "display_data"
    },
    {
     "data": {
      "text/html": [
       "Query job 0c844655-b7d9-494b-8073-925b4e0743ce is DONE. 37.2 kB processed. <a target=\"_blank\" href=\"https://console.cloud.google.com/bigquery?project=bigframes-dev&j=bq:US:0c844655-b7d9-494b-8073-925b4e0743ce&page=queryresults\">Open Job</a>"
      ],
      "text/plain": [
       "<IPython.core.display.HTML object>"
      ]
     },
     "metadata": {},
     "output_type": "display_data"
    },
    {
     "data": {
      "text/html": [
       "Query job 1993f0be-bfc2-4dad-ba85-92f5bba44945 is DONE. 0 Bytes processed. <a target=\"_blank\" href=\"https://console.cloud.google.com/bigquery?project=bigframes-dev&j=bq:US:1993f0be-bfc2-4dad-ba85-92f5bba44945&page=queryresults\">Open Job</a>"
      ],
      "text/plain": [
       "<IPython.core.display.HTML object>"
      ]
     },
     "metadata": {},
     "output_type": "display_data"
    },
    {
     "data": {
      "text/html": [
       "<div>\n",
       "<style scoped>\n",
       "    .dataframe tbody tr th:only-of-type {\n",
       "        vertical-align: middle;\n",
       "    }\n",
       "\n",
       "    .dataframe tbody tr th {\n",
       "        vertical-align: top;\n",
       "    }\n",
       "\n",
       "    .dataframe thead th {\n",
       "        text-align: right;\n",
       "    }\n",
       "</style>\n",
       "<table border=\"1\" class=\"dataframe\">\n",
       "  <thead>\n",
       "    <tr style=\"text-align: right;\">\n",
       "      <th></th>\n",
       "      <th>creatures</th>\n",
       "      <th>similarity score</th>\n",
       "    </tr>\n",
       "  </thead>\n",
       "  <tbody>\n",
       "    <tr>\n",
       "      <th>2</th>\n",
       "      <td>baboons</td>\n",
       "      <td>0.773411</td>\n",
       "    </tr>\n",
       "    <tr>\n",
       "      <th>4</th>\n",
       "      <td>chimpanzee</td>\n",
       "      <td>0.781101</td>\n",
       "    </tr>\n",
       "  </tbody>\n",
       "</table>\n",
       "<p>2 rows × 2 columns</p>\n",
       "</div>[2 rows x 2 columns in total]"
      ],
      "text/plain": [
       "    creatures  similarity score\n",
       "2     baboons          0.773411\n",
       "4  chimpanzee          0.781101\n",
       "\n",
       "[2 rows x 2 columns]"
      ]
     },
     "execution_count": 12,
     "metadata": {},
     "output_type": "execute_result"
    }
   ],
   "source": [
    "df.semantics.search(\"creatures\", query=\"monkey\", top_k = 2, model = text_embedding_model, score_column='similarity score')"
   ]
  },
  {
   "cell_type": "markdown",
   "metadata": {},
   "source": [
    "Notice that we are using a text embedding model this time. This model generates embedding vectors for both your query as well as the values in the search space. The operator then uses BigQuery's built-in VECTOR_SEARCH function to find the nearest neighbors of your query."
   ]
  },
  {
   "cell_type": "markdown",
   "metadata": {},
   "source": [
    "## Semantic Similarity Join"
   ]
  },
  {
   "cell_type": "markdown",
   "metadata": {},
   "source": [
    "When you have multiple queries to search in the same value space, you could use similarity join to simplify your call. For example:"
   ]
  },
  {
   "cell_type": "code",
   "execution_count": 13,
   "metadata": {},
   "outputs": [],
   "source": [
    "df1 = bpd.DataFrame({'animal': ['monkey', 'spider', 'salmon', 'giraffe', 'sparrow']})\n",
    "df2 = bpd.DataFrame({'animal': ['scorpion', 'baboon', 'owl', 'elephant', 'tuna']})"
   ]
  },
  {
   "cell_type": "markdown",
   "metadata": {},
   "source": [
    "In this example, we want to pick the most related animal from `df2` for each value in `df1`, and this is how it's done:"
   ]
  },
  {
   "cell_type": "code",
   "execution_count": 14,
   "metadata": {},
   "outputs": [
    {
     "data": {
      "text/html": [
       "Query job 222a9dcb-2389-4ad3-a1e6-c2b197f3a409 is DONE. 0 Bytes processed. <a target=\"_blank\" href=\"https://console.cloud.google.com/bigquery?project=bigframes-dev&j=bq:US:222a9dcb-2389-4ad3-a1e6-c2b197f3a409&page=queryresults\">Open Job</a>"
      ],
      "text/plain": [
       "<IPython.core.display.HTML object>"
      ]
     },
     "metadata": {},
     "output_type": "display_data"
    },
    {
     "name": "stderr",
     "output_type": "stream",
     "text": [
      "/usr/local/google/home/sycai/src/python-bigquery-dataframes/bigframes/core/__init__.py:112: PreviewWarning: Interpreting JSON column(s) as StringDtype. This behavior may change in future versions.\n",
      "  warnings.warn(\n"
     ]
    },
    {
     "data": {
      "text/html": [
       "Query job 24afcd9d-6be5-44d9-aa89-6fbe71f5e9a7 is DONE. 10 Bytes processed. <a target=\"_blank\" href=\"https://console.cloud.google.com/bigquery?project=bigframes-dev&j=bq:US:24afcd9d-6be5-44d9-aa89-6fbe71f5e9a7&page=queryresults\">Open Job</a>"
      ],
      "text/plain": [
       "<IPython.core.display.HTML object>"
      ]
     },
     "metadata": {},
     "output_type": "display_data"
    },
    {
     "data": {
      "text/html": [
       "Query job 6bc36226-7bbb-4954-b042-044e9fd98a47 is DONE. 30.8 kB processed. <a target=\"_blank\" href=\"https://console.cloud.google.com/bigquery?project=bigframes-dev&j=bq:US:6bc36226-7bbb-4954-b042-044e9fd98a47&page=queryresults\">Open Job</a>"
      ],
      "text/plain": [
       "<IPython.core.display.HTML object>"
      ]
     },
     "metadata": {},
     "output_type": "display_data"
    },
    {
     "data": {
      "text/html": [
       "Query job f247f63d-1d8a-4f81-a833-628143fda463 is DONE. 0 Bytes processed. <a target=\"_blank\" href=\"https://console.cloud.google.com/bigquery?project=bigframes-dev&j=bq:US:f247f63d-1d8a-4f81-a833-628143fda463&page=queryresults\">Open Job</a>"
      ],
      "text/plain": [
       "<IPython.core.display.HTML object>"
      ]
     },
     "metadata": {},
     "output_type": "display_data"
    },
    {
     "name": "stderr",
     "output_type": "stream",
     "text": [
      "/usr/local/google/home/sycai/src/python-bigquery-dataframes/bigframes/core/__init__.py:112: PreviewWarning: Interpreting JSON column(s) as StringDtype. This behavior may change in future versions.\n",
      "  warnings.warn(\n"
     ]
    },
    {
     "data": {
      "text/html": [
       "Query job 9bec5633-8ba1-4453-b9c7-6cb555d3c60e is DONE. 10 Bytes processed. <a target=\"_blank\" href=\"https://console.cloud.google.com/bigquery?project=bigframes-dev&j=bq:US:9bec5633-8ba1-4453-b9c7-6cb555d3c60e&page=queryresults\">Open Job</a>"
      ],
      "text/plain": [
       "<IPython.core.display.HTML object>"
      ]
     },
     "metadata": {},
     "output_type": "display_data"
    },
    {
     "data": {
      "text/html": [
       "Query job d7df7004-b499-436b-898c-15abee330d9e is RUNNING. <a target=\"_blank\" href=\"https://console.cloud.google.com/bigquery?project=bigframes-dev&j=bq:US:d7df7004-b499-436b-898c-15abee330d9e&page=queryresults\">Open Job</a>"
      ],
      "text/plain": [
       "<IPython.core.display.HTML object>"
      ]
     },
     "metadata": {},
     "output_type": "display_data"
    },
    {
     "data": {
      "text/html": [
       "Query job 9012c011-b4e7-4fba-85a6-e439fe3c32d3 is DONE. 61.5 kB processed. <a target=\"_blank\" href=\"https://console.cloud.google.com/bigquery?project=bigframes-dev&j=bq:US:9012c011-b4e7-4fba-85a6-e439fe3c32d3&page=queryresults\">Open Job</a>"
      ],
      "text/plain": [
       "<IPython.core.display.HTML object>"
      ]
     },
     "metadata": {},
     "output_type": "display_data"
    },
    {
     "data": {
      "text/html": [
       "Query job bb9987eb-aa37-42ca-bcf1-1ea575a147a8 is DONE. 0 Bytes processed. <a target=\"_blank\" href=\"https://console.cloud.google.com/bigquery?project=bigframes-dev&j=bq:US:bb9987eb-aa37-42ca-bcf1-1ea575a147a8&page=queryresults\">Open Job</a>"
      ],
      "text/plain": [
       "<IPython.core.display.HTML object>"
      ]
     },
     "metadata": {},
     "output_type": "display_data"
    },
    {
     "data": {
      "text/html": [
       "<div>\n",
       "<style scoped>\n",
       "    .dataframe tbody tr th:only-of-type {\n",
       "        vertical-align: middle;\n",
       "    }\n",
       "\n",
       "    .dataframe tbody tr th {\n",
       "        vertical-align: top;\n",
       "    }\n",
       "\n",
       "    .dataframe thead th {\n",
       "        text-align: right;\n",
       "    }\n",
       "</style>\n",
       "<table border=\"1\" class=\"dataframe\">\n",
       "  <thead>\n",
       "    <tr style=\"text-align: right;\">\n",
       "      <th></th>\n",
       "      <th>animal</th>\n",
       "      <th>animal_1</th>\n",
       "      <th>distance</th>\n",
       "    </tr>\n",
       "  </thead>\n",
       "  <tbody>\n",
       "    <tr>\n",
       "      <th>0</th>\n",
       "      <td>monkey</td>\n",
       "      <td>baboon</td>\n",
       "      <td>0.747665</td>\n",
       "    </tr>\n",
       "    <tr>\n",
       "      <th>1</th>\n",
       "      <td>spider</td>\n",
       "      <td>scorpion</td>\n",
       "      <td>0.890909</td>\n",
       "    </tr>\n",
       "    <tr>\n",
       "      <th>2</th>\n",
       "      <td>salmon</td>\n",
       "      <td>tuna</td>\n",
       "      <td>0.925461</td>\n",
       "    </tr>\n",
       "    <tr>\n",
       "      <th>3</th>\n",
       "      <td>giraffe</td>\n",
       "      <td>elephant</td>\n",
       "      <td>0.887858</td>\n",
       "    </tr>\n",
       "    <tr>\n",
       "      <th>4</th>\n",
       "      <td>sparrow</td>\n",
       "      <td>owl</td>\n",
       "      <td>0.932959</td>\n",
       "    </tr>\n",
       "  </tbody>\n",
       "</table>\n",
       "<p>5 rows × 3 columns</p>\n",
       "</div>[5 rows x 3 columns in total]"
      ],
      "text/plain": [
       "    animal  animal_1  distance\n",
       "0   monkey    baboon  0.747665\n",
       "1   spider  scorpion  0.890909\n",
       "2   salmon      tuna  0.925461\n",
       "3  giraffe  elephant  0.887858\n",
       "4  sparrow       owl  0.932959\n",
       "\n",
       "[5 rows x 3 columns]"
      ]
     },
     "execution_count": 14,
     "metadata": {},
     "output_type": "execute_result"
    }
   ],
   "source": [
    "df1.semantics.sim_join(df2, left_on='animal', right_on='animal', top_k=1, model= text_embedding_model, score_column='distance')"
   ]
  },
  {
   "cell_type": "markdown",
   "metadata": {},
   "source": [
    "!! **Important** Like semantic join, this operator can also be very expensive. To guard against unexpected processing of large dataset, use the `max_rows` parameter to provide a threshold. "
   ]
  },
  {
   "cell_type": "markdown",
   "metadata": {},
   "source": [
    "## Semantic Cluster"
   ]
  },
  {
   "cell_type": "markdown",
   "metadata": {},
   "source": [
    "Semantic Cluster group similar values together. For example:"
   ]
  },
  {
   "cell_type": "code",
   "execution_count": 9,
   "metadata": {},
   "outputs": [],
   "source": [
    "df = bpd.DataFrame({'Product': ['Smartphone', 'Laptop', 'Coffee Maker', 'T-shirt', 'Jeans']})"
   ]
  },
  {
   "cell_type": "markdown",
   "metadata": {},
   "source": [
    "We want to cluster these products into 3 groups, and this is how:"
   ]
  },
  {
   "cell_type": "code",
   "execution_count": 10,
   "metadata": {},
   "outputs": [
    {
     "data": {
      "text/html": [
       "Query job 612fd61e-f737-497d-b0c1-af4bb0f6e7c3 is DONE. 0 Bytes processed. <a target=\"_blank\" href=\"https://console.cloud.google.com/bigquery?project=bigframes-dev&j=bq:US:612fd61e-f737-497d-b0c1-af4bb0f6e7c3&page=queryresults\">Open Job</a>"
      ],
      "text/plain": [
       "<IPython.core.display.HTML object>"
      ]
     },
     "metadata": {},
     "output_type": "display_data"
    },
    {
     "name": "stderr",
     "output_type": "stream",
     "text": [
      "/usr/local/google/home/sycai/src/python-bigquery-dataframes/bigframes/core/__init__.py:112: PreviewWarning: Interpreting JSON column(s) as StringDtype. This behavior may change in future versions.\n",
      "  warnings.warn(\n"
     ]
    },
    {
     "data": {
      "text/html": [
       "Query job e997f096-98cf-4475-938c-ad550c439837 is DONE. 10 Bytes processed. <a target=\"_blank\" href=\"https://console.cloud.google.com/bigquery?project=bigframes-dev&j=bq:US:e997f096-98cf-4475-938c-ad550c439837&page=queryresults\">Open Job</a>"
      ],
      "text/plain": [
       "<IPython.core.display.HTML object>"
      ]
     },
     "metadata": {},
     "output_type": "display_data"
    },
    {
     "data": {
      "text/html": [
       "Query job 0bc3cf38-b94f-4d6e-8fd6-874052e7fa81 is DONE. 30.8 kB processed. <a target=\"_blank\" href=\"https://console.cloud.google.com/bigquery?project=bigframes-dev&j=bq:US:0bc3cf38-b94f-4d6e-8fd6-874052e7fa81&page=queryresults\">Open Job</a>"
      ],
      "text/plain": [
       "<IPython.core.display.HTML object>"
      ]
     },
     "metadata": {},
     "output_type": "display_data"
    },
    {
     "data": {
      "text/html": [
       "Query job 0fa4e36d-e430-4c25-b1ff-4a0cbfdda7a0 is DONE. 30.7 kB processed. <a target=\"_blank\" href=\"https://console.cloud.google.com/bigquery?project=bigframes-dev&j=bq:US:0fa4e36d-e430-4c25-b1ff-4a0cbfdda7a0&page=queryresults\">Open Job</a>"
      ],
      "text/plain": [
       "<IPython.core.display.HTML object>"
      ]
     },
     "metadata": {},
     "output_type": "display_data"
    },
    {
     "data": {
      "text/html": [
       "Query job 7ef5120e-b436-4c13-b646-b2dddb315796 is DONE. 138.9 kB processed. <a target=\"_blank\" href=\"https://console.cloud.google.com/bigquery?project=bigframes-dev&j=bq:US:7ef5120e-b436-4c13-b646-b2dddb315796&page=queryresults\">Open Job</a>"
      ],
      "text/plain": [
       "<IPython.core.display.HTML object>"
      ]
     },
     "metadata": {},
     "output_type": "display_data"
    },
    {
     "name": "stderr",
     "output_type": "stream",
     "text": [
      "/usr/local/google/home/sycai/src/python-bigquery-dataframes/bigframes/ml/llm.py:976: RuntimeWarning: Some predictions failed. Check column ml_generate_text_status for detailed status. You may want to filter the failed rows and retry.\n",
      "  warnings.warn(\n"
     ]
    },
    {
     "data": {
      "text/html": [
       "Query job 0f12e7aa-feae-4c7d-b7e9-ef5cb698ab96 is DONE. 80 Bytes processed. <a target=\"_blank\" href=\"https://console.cloud.google.com/bigquery?project=bigframes-dev&j=bq:US:0f12e7aa-feae-4c7d-b7e9-ef5cb698ab96&page=queryresults\">Open Job</a>"
      ],
      "text/plain": [
       "<IPython.core.display.HTML object>"
      ]
     },
     "metadata": {},
     "output_type": "display_data"
    },
    {
     "data": {
      "text/html": [
       "Query job 7c47d42f-b835-4645-89f2-3e24712c014d is DONE. 170 Bytes processed. <a target=\"_blank\" href=\"https://console.cloud.google.com/bigquery?project=bigframes-dev&j=bq:US:7c47d42f-b835-4645-89f2-3e24712c014d&page=queryresults\">Open Job</a>"
      ],
      "text/plain": [
       "<IPython.core.display.HTML object>"
      ]
     },
     "metadata": {},
     "output_type": "display_data"
    },
    {
     "data": {
      "text/html": [
       "<div>\n",
       "<style scoped>\n",
       "    .dataframe tbody tr th:only-of-type {\n",
       "        vertical-align: middle;\n",
       "    }\n",
       "\n",
       "    .dataframe tbody tr th {\n",
       "        vertical-align: top;\n",
       "    }\n",
       "\n",
       "    .dataframe thead th {\n",
       "        text-align: right;\n",
       "    }\n",
       "</style>\n",
       "<table border=\"1\" class=\"dataframe\">\n",
       "  <thead>\n",
       "    <tr style=\"text-align: right;\">\n",
       "      <th></th>\n",
       "      <th>Product</th>\n",
       "      <th>Cluster ID</th>\n",
       "    </tr>\n",
       "  </thead>\n",
       "  <tbody>\n",
       "    <tr>\n",
       "      <th>0</th>\n",
       "      <td>Smartphone</td>\n",
       "      <td>3</td>\n",
       "    </tr>\n",
       "    <tr>\n",
       "      <th>1</th>\n",
       "      <td>Laptop</td>\n",
       "      <td>3</td>\n",
       "    </tr>\n",
       "    <tr>\n",
       "      <th>2</th>\n",
       "      <td>Coffee Maker</td>\n",
       "      <td>1</td>\n",
       "    </tr>\n",
       "    <tr>\n",
       "      <th>3</th>\n",
       "      <td>T-shirt</td>\n",
       "      <td>2</td>\n",
       "    </tr>\n",
       "    <tr>\n",
       "      <th>4</th>\n",
       "      <td>Jeans</td>\n",
       "      <td>2</td>\n",
       "    </tr>\n",
       "  </tbody>\n",
       "</table>\n",
       "<p>5 rows × 2 columns</p>\n",
       "</div>[5 rows x 2 columns in total]"
      ],
      "text/plain": [
       "        Product  Cluster ID\n",
       "0    Smartphone           3\n",
       "1        Laptop           3\n",
       "2  Coffee Maker           1\n",
       "3       T-shirt           2\n",
       "4         Jeans           2\n",
       "\n",
       "[5 rows x 2 columns]"
      ]
     },
     "execution_count": 10,
     "metadata": {},
     "output_type": "execute_result"
    }
   ],
   "source": [
    "df.semantics.cluster_by(column='Product', output_column='Cluster ID', model=text_embedding_model, n_clusters=3)"
   ]
  },
  {
   "cell_type": "markdown",
   "metadata": {},
   "source": [
    "This operator uses the the embedding model to generate vectors for each value, and then uses KMeans algorithm to group them."
   ]
  },
  {
   "cell_type": "markdown",
   "metadata": {},
   "source": [
    "# Performance Analyses"
   ]
  },
  {
   "cell_type": "markdown",
   "metadata": {},
   "source": [
    "In this section we will use BigQuery's public data of hacker news to perform some heavy work. First, let's load 3K rows from the table:"
   ]
  },
  {
   "cell_type": "code",
   "execution_count": 11,
   "metadata": {},
   "outputs": [
    {
     "data": {
      "text/html": [
       "Query job c59a147b-db05-4348-bcca-f9f40368575b is DONE. 16.7 GB processed. <a target=\"_blank\" href=\"https://console.cloud.google.com/bigquery?project=bigframes-dev&j=bq:US:c59a147b-db05-4348-bcca-f9f40368575b&page=queryresults\">Open Job</a>"
      ],
      "text/plain": [
       "<IPython.core.display.HTML object>"
      ]
     },
     "metadata": {},
     "output_type": "display_data"
    },
    {
     "data": {
      "text/html": [
       "Query job 676df8a6-19c4-48df-a8d3-04aa3fc43296 is DONE. 1.2 MB processed. <a target=\"_blank\" href=\"https://console.cloud.google.com/bigquery?project=bigframes-dev&j=bq:US:676df8a6-19c4-48df-a8d3-04aa3fc43296&page=queryresults\">Open Job</a>"
      ],
      "text/plain": [
       "<IPython.core.display.HTML object>"
      ]
     },
     "metadata": {},
     "output_type": "display_data"
    },
    {
     "data": {
      "text/html": [
       "<div>\n",
       "<style scoped>\n",
       "    .dataframe tbody tr th:only-of-type {\n",
       "        vertical-align: middle;\n",
       "    }\n",
       "\n",
       "    .dataframe tbody tr th {\n",
       "        vertical-align: top;\n",
       "    }\n",
       "\n",
       "    .dataframe thead th {\n",
       "        text-align: right;\n",
       "    }\n",
       "</style>\n",
       "<table border=\"1\" class=\"dataframe\">\n",
       "  <thead>\n",
       "    <tr style=\"text-align: right;\">\n",
       "      <th></th>\n",
       "      <th>title</th>\n",
       "      <th>text</th>\n",
       "      <th>by</th>\n",
       "      <th>score</th>\n",
       "      <th>timestamp</th>\n",
       "      <th>type</th>\n",
       "    </tr>\n",
       "  </thead>\n",
       "  <tbody>\n",
       "    <tr>\n",
       "      <th>0</th>\n",
       "      <td>&lt;NA&gt;</td>\n",
       "      <td>Well, most people aren&amp;#x27;t alcoholics, so I...</td>\n",
       "      <td>slipframe</td>\n",
       "      <td>&lt;NA&gt;</td>\n",
       "      <td>2021-06-26 02:37:56+00:00</td>\n",
       "      <td>comment</td>\n",
       "    </tr>\n",
       "    <tr>\n",
       "      <th>1</th>\n",
       "      <td>&lt;NA&gt;</td>\n",
       "      <td>No, you don&amp;#x27;t really &lt;i&gt;need&lt;/i&gt; a smartp...</td>\n",
       "      <td>vetinari</td>\n",
       "      <td>&lt;NA&gt;</td>\n",
       "      <td>2023-04-19 15:56:34+00:00</td>\n",
       "      <td>comment</td>\n",
       "    </tr>\n",
       "    <tr>\n",
       "      <th>2</th>\n",
       "      <td>&lt;NA&gt;</td>\n",
       "      <td>It&amp;#x27;s for the late Paul Allen RIP. Should&amp;...</td>\n",
       "      <td>lsr_ssri</td>\n",
       "      <td>&lt;NA&gt;</td>\n",
       "      <td>2018-10-16 01:07:55+00:00</td>\n",
       "      <td>comment</td>\n",
       "    </tr>\n",
       "    <tr>\n",
       "      <th>3</th>\n",
       "      <td>&lt;NA&gt;</td>\n",
       "      <td>Yup they are dangerous. Be careful Donald Trump.</td>\n",
       "      <td>Sven7</td>\n",
       "      <td>&lt;NA&gt;</td>\n",
       "      <td>2015-08-10 16:05:54+00:00</td>\n",
       "      <td>comment</td>\n",
       "    </tr>\n",
       "    <tr>\n",
       "      <th>4</th>\n",
       "      <td>&lt;NA&gt;</td>\n",
       "      <td>Sure, it&amp;#x27;s totally reasonable. Just point...</td>\n",
       "      <td>nicoburns</td>\n",
       "      <td>&lt;NA&gt;</td>\n",
       "      <td>2020-10-05 11:20:51+00:00</td>\n",
       "      <td>comment</td>\n",
       "    </tr>\n",
       "    <tr>\n",
       "      <th>5</th>\n",
       "      <td>&lt;NA&gt;</td>\n",
       "      <td>I wonder how long before special forces start ...</td>\n",
       "      <td>autisticcurio</td>\n",
       "      <td>&lt;NA&gt;</td>\n",
       "      <td>2020-09-01 15:38:50+00:00</td>\n",
       "      <td>comment</td>\n",
       "    </tr>\n",
       "    <tr>\n",
       "      <th>6</th>\n",
       "      <td>The Impending NY Tech Apocalypse: Here's What ...</td>\n",
       "      <td>&lt;NA&gt;</td>\n",
       "      <td>gaoprea</td>\n",
       "      <td>3</td>\n",
       "      <td>2011-09-27 22:43:27+00:00</td>\n",
       "      <td>story</td>\n",
       "    </tr>\n",
       "    <tr>\n",
       "      <th>7</th>\n",
       "      <td>&lt;NA&gt;</td>\n",
       "      <td>Where would you relocate to? I'm assuming that...</td>\n",
       "      <td>pavel_lishin</td>\n",
       "      <td>&lt;NA&gt;</td>\n",
       "      <td>2011-09-16 19:02:01+00:00</td>\n",
       "      <td>comment</td>\n",
       "    </tr>\n",
       "    <tr>\n",
       "      <th>8</th>\n",
       "      <td>Eureca beta is live. A place for your business...</td>\n",
       "      <td>&lt;NA&gt;</td>\n",
       "      <td>ricardos</td>\n",
       "      <td>1</td>\n",
       "      <td>2012-10-15 13:09:32+00:00</td>\n",
       "      <td>story</td>\n",
       "    </tr>\n",
       "    <tr>\n",
       "      <th>9</th>\n",
       "      <td>&lt;NA&gt;</td>\n",
       "      <td>It doesn’t work on Safari, and WebKit based br...</td>\n",
       "      <td>archiewood</td>\n",
       "      <td>&lt;NA&gt;</td>\n",
       "      <td>2023-04-21 16:45:13+00:00</td>\n",
       "      <td>comment</td>\n",
       "    </tr>\n",
       "    <tr>\n",
       "      <th>10</th>\n",
       "      <td>&lt;NA&gt;</td>\n",
       "      <td>I guess I don’t see the relevance. Vegans eat ...</td>\n",
       "      <td>stevula</td>\n",
       "      <td>&lt;NA&gt;</td>\n",
       "      <td>2023-01-19 20:05:54+00:00</td>\n",
       "      <td>comment</td>\n",
       "    </tr>\n",
       "    <tr>\n",
       "      <th>11</th>\n",
       "      <td>&lt;NA&gt;</td>\n",
       "      <td>I remember watching the American news media go...</td>\n",
       "      <td>fareesh</td>\n",
       "      <td>&lt;NA&gt;</td>\n",
       "      <td>2019-06-17 19:49:17+00:00</td>\n",
       "      <td>comment</td>\n",
       "    </tr>\n",
       "    <tr>\n",
       "      <th>12</th>\n",
       "      <td>&lt;NA&gt;</td>\n",
       "      <td>This article is incorrectly using the current ...</td>\n",
       "      <td>stale2002</td>\n",
       "      <td>&lt;NA&gt;</td>\n",
       "      <td>2018-03-18 18:57:21+00:00</td>\n",
       "      <td>comment</td>\n",
       "    </tr>\n",
       "    <tr>\n",
       "      <th>13</th>\n",
       "      <td>&lt;NA&gt;</td>\n",
       "      <td>In the firm I made my internship, we have to u...</td>\n",
       "      <td>iserlohnmage</td>\n",
       "      <td>&lt;NA&gt;</td>\n",
       "      <td>2019-10-22 10:41:01+00:00</td>\n",
       "      <td>comment</td>\n",
       "    </tr>\n",
       "    <tr>\n",
       "      <th>14</th>\n",
       "      <td>&lt;NA&gt;</td>\n",
       "      <td>The main reason it requires unsafe is for memo...</td>\n",
       "      <td>comex</td>\n",
       "      <td>&lt;NA&gt;</td>\n",
       "      <td>2017-05-05 20:45:37+00:00</td>\n",
       "      <td>comment</td>\n",
       "    </tr>\n",
       "    <tr>\n",
       "      <th>15</th>\n",
       "      <td>Discord vs. IRC Rough Notes</td>\n",
       "      <td>&lt;NA&gt;</td>\n",
       "      <td>todsacerdoti</td>\n",
       "      <td>48</td>\n",
       "      <td>2024-07-12 18:39:52+00:00</td>\n",
       "      <td>story</td>\n",
       "    </tr>\n",
       "    <tr>\n",
       "      <th>16</th>\n",
       "      <td>&lt;NA&gt;</td>\n",
       "      <td>you have to auth again when you use apple pay.</td>\n",
       "      <td>empath75</td>\n",
       "      <td>&lt;NA&gt;</td>\n",
       "      <td>2017-09-12 18:58:20+00:00</td>\n",
       "      <td>comment</td>\n",
       "    </tr>\n",
       "    <tr>\n",
       "      <th>17</th>\n",
       "      <td>&lt;NA&gt;</td>\n",
       "      <td>It goes consumer grade, automotive, military, ...</td>\n",
       "      <td>moftz</td>\n",
       "      <td>&lt;NA&gt;</td>\n",
       "      <td>2021-04-13 01:24:03+00:00</td>\n",
       "      <td>comment</td>\n",
       "    </tr>\n",
       "    <tr>\n",
       "      <th>18</th>\n",
       "      <td>&lt;NA&gt;</td>\n",
       "      <td>I don&amp;#x27;t have a link handy but the differe...</td>\n",
       "      <td>KennyBlanken</td>\n",
       "      <td>&lt;NA&gt;</td>\n",
       "      <td>2022-05-13 16:08:38+00:00</td>\n",
       "      <td>comment</td>\n",
       "    </tr>\n",
       "    <tr>\n",
       "      <th>19</th>\n",
       "      <td>&lt;NA&gt;</td>\n",
       "      <td>&amp;gt; I don&amp;#x27;t think the use case you menti...</td>\n",
       "      <td>colanderman</td>\n",
       "      <td>&lt;NA&gt;</td>\n",
       "      <td>2017-09-28 05:16:06+00:00</td>\n",
       "      <td>comment</td>\n",
       "    </tr>\n",
       "    <tr>\n",
       "      <th>20</th>\n",
       "      <td>&lt;NA&gt;</td>\n",
       "      <td>I think you need to watch it again, because yo...</td>\n",
       "      <td>vladimirralev</td>\n",
       "      <td>&lt;NA&gt;</td>\n",
       "      <td>2018-12-07 11:25:52+00:00</td>\n",
       "      <td>comment</td>\n",
       "    </tr>\n",
       "    <tr>\n",
       "      <th>21</th>\n",
       "      <td>Oh dear: new Yahoo anti-spoofing measures brea...</td>\n",
       "      <td>&lt;NA&gt;</td>\n",
       "      <td>joshreads</td>\n",
       "      <td>1</td>\n",
       "      <td>2014-04-08 13:29:50+00:00</td>\n",
       "      <td>story</td>\n",
       "    </tr>\n",
       "    <tr>\n",
       "      <th>22</th>\n",
       "      <td>How Much Warmer Was Your City in 2016?</td>\n",
       "      <td>&lt;NA&gt;</td>\n",
       "      <td>smb06</td>\n",
       "      <td>1</td>\n",
       "      <td>2017-02-16 23:26:34+00:00</td>\n",
       "      <td>story</td>\n",
       "    </tr>\n",
       "    <tr>\n",
       "      <th>23</th>\n",
       "      <td>&lt;NA&gt;</td>\n",
       "      <td>Except that they clearly never tried to incent...</td>\n",
       "      <td>aenis</td>\n",
       "      <td>&lt;NA&gt;</td>\n",
       "      <td>2022-01-31 17:08:57+00:00</td>\n",
       "      <td>comment</td>\n",
       "    </tr>\n",
       "    <tr>\n",
       "      <th>24</th>\n",
       "      <td>Working Best at Coffee Shops</td>\n",
       "      <td>&lt;NA&gt;</td>\n",
       "      <td>GiraffeNecktie</td>\n",
       "      <td>249</td>\n",
       "      <td>2011-04-19 14:25:17+00:00</td>\n",
       "      <td>story</td>\n",
       "    </tr>\n",
       "  </tbody>\n",
       "</table>\n",
       "<p>25 rows × 6 columns</p>\n",
       "</div>[3000 rows x 6 columns in total]"
      ],
      "text/plain": [
       "                                                title  \\\n",
       "0                                                <NA>   \n",
       "1                                                <NA>   \n",
       "2                                                <NA>   \n",
       "3                                                <NA>   \n",
       "4                                                <NA>   \n",
       "5                                                <NA>   \n",
       "6   The Impending NY Tech Apocalypse: Here's What ...   \n",
       "7                                                <NA>   \n",
       "8   Eureca beta is live. A place for your business...   \n",
       "9                                                <NA>   \n",
       "10                                               <NA>   \n",
       "11                                               <NA>   \n",
       "12                                               <NA>   \n",
       "13                                               <NA>   \n",
       "14                                               <NA>   \n",
       "15                        Discord vs. IRC Rough Notes   \n",
       "16                                               <NA>   \n",
       "17                                               <NA>   \n",
       "18                                               <NA>   \n",
       "19                                               <NA>   \n",
       "20                                               <NA>   \n",
       "21  Oh dear: new Yahoo anti-spoofing measures brea...   \n",
       "22             How Much Warmer Was Your City in 2016?   \n",
       "23                                               <NA>   \n",
       "24                       Working Best at Coffee Shops   \n",
       "\n",
       "                                                 text              by  score  \\\n",
       "0   Well, most people aren&#x27;t alcoholics, so I...       slipframe   <NA>   \n",
       "1   No, you don&#x27;t really <i>need</i> a smartp...        vetinari   <NA>   \n",
       "2   It&#x27;s for the late Paul Allen RIP. Should&...        lsr_ssri   <NA>   \n",
       "3    Yup they are dangerous. Be careful Donald Trump.           Sven7   <NA>   \n",
       "4   Sure, it&#x27;s totally reasonable. Just point...       nicoburns   <NA>   \n",
       "5   I wonder how long before special forces start ...   autisticcurio   <NA>   \n",
       "6                                                <NA>         gaoprea      3   \n",
       "7   Where would you relocate to? I'm assuming that...    pavel_lishin   <NA>   \n",
       "8                                                <NA>        ricardos      1   \n",
       "9   It doesn’t work on Safari, and WebKit based br...      archiewood   <NA>   \n",
       "10  I guess I don’t see the relevance. Vegans eat ...         stevula   <NA>   \n",
       "11  I remember watching the American news media go...         fareesh   <NA>   \n",
       "12  This article is incorrectly using the current ...       stale2002   <NA>   \n",
       "13  In the firm I made my internship, we have to u...    iserlohnmage   <NA>   \n",
       "14  The main reason it requires unsafe is for memo...           comex   <NA>   \n",
       "15                                               <NA>    todsacerdoti     48   \n",
       "16     you have to auth again when you use apple pay.        empath75   <NA>   \n",
       "17  It goes consumer grade, automotive, military, ...           moftz   <NA>   \n",
       "18  I don&#x27;t have a link handy but the differe...    KennyBlanken   <NA>   \n",
       "19  &gt; I don&#x27;t think the use case you menti...     colanderman   <NA>   \n",
       "20  I think you need to watch it again, because yo...   vladimirralev   <NA>   \n",
       "21                                               <NA>       joshreads      1   \n",
       "22                                               <NA>           smb06      1   \n",
       "23  Except that they clearly never tried to incent...           aenis   <NA>   \n",
       "24                                               <NA>  GiraffeNecktie    249   \n",
       "\n",
       "                    timestamp     type  \n",
       "0   2021-06-26 02:37:56+00:00  comment  \n",
       "1   2023-04-19 15:56:34+00:00  comment  \n",
       "2   2018-10-16 01:07:55+00:00  comment  \n",
       "3   2015-08-10 16:05:54+00:00  comment  \n",
       "4   2020-10-05 11:20:51+00:00  comment  \n",
       "5   2020-09-01 15:38:50+00:00  comment  \n",
       "6   2011-09-27 22:43:27+00:00    story  \n",
       "7   2011-09-16 19:02:01+00:00  comment  \n",
       "8   2012-10-15 13:09:32+00:00    story  \n",
       "9   2023-04-21 16:45:13+00:00  comment  \n",
       "10  2023-01-19 20:05:54+00:00  comment  \n",
       "11  2019-06-17 19:49:17+00:00  comment  \n",
       "12  2018-03-18 18:57:21+00:00  comment  \n",
       "13  2019-10-22 10:41:01+00:00  comment  \n",
       "14  2017-05-05 20:45:37+00:00  comment  \n",
       "15  2024-07-12 18:39:52+00:00    story  \n",
       "16  2017-09-12 18:58:20+00:00  comment  \n",
       "17  2021-04-13 01:24:03+00:00  comment  \n",
       "18  2022-05-13 16:08:38+00:00  comment  \n",
       "19  2017-09-28 05:16:06+00:00  comment  \n",
       "20  2018-12-07 11:25:52+00:00  comment  \n",
       "21  2014-04-08 13:29:50+00:00    story  \n",
       "22  2017-02-16 23:26:34+00:00    story  \n",
       "23  2022-01-31 17:08:57+00:00  comment  \n",
       "24  2011-04-19 14:25:17+00:00    story  \n",
       "...\n",
       "\n",
       "[3000 rows x 6 columns]"
      ]
     },
     "execution_count": 11,
     "metadata": {},
     "output_type": "execute_result"
    }
   ],
   "source": [
    "hacker_news = bpd.read_gbq(\"bigquery-public-data.hacker_news.full\")[['title', 'text', 'by', 'score', 'timestamp', 'type']].head(3000)\n",
    "hacker_news"
   ]
  },
  {
   "cell_type": "markdown",
   "metadata": {},
   "source": [
    "Then, let's keep only the rows that have text content:"
   ]
  },
  {
   "cell_type": "code",
   "execution_count": 12,
   "metadata": {},
   "outputs": [
    {
     "data": {
      "text/html": [
       "Query job 4e322f1b-705e-4597-b4e9-9b7087991a32 is DONE. 1.0 MB processed. <a target=\"_blank\" href=\"https://console.cloud.google.com/bigquery?project=bigframes-dev&j=bq:US:4e322f1b-705e-4597-b4e9-9b7087991a32&page=queryresults\">Open Job</a>"
      ],
      "text/plain": [
       "<IPython.core.display.HTML object>"
      ]
     },
     "metadata": {},
     "output_type": "display_data"
    },
    {
     "data": {
      "text/plain": [
       "2558"
      ]
     },
     "execution_count": 12,
     "metadata": {},
     "output_type": "execute_result"
    }
   ],
   "source": [
    "hacker_news_with_texts = hacker_news[hacker_news['text'].isnull() == False]\n",
    "len(hacker_news_with_texts)"
   ]
  },
  {
   "cell_type": "markdown",
   "metadata": {},
   "source": [
    "Let's calculate the average text length in all the rows:"
   ]
  },
  {
   "cell_type": "code",
   "execution_count": 13,
   "metadata": {},
   "outputs": [
    {
     "data": {
      "text/html": [
       "Query job 79ab35f4-4b98-4376-ad39-b7738764203a is DONE. 1.0 MB processed. <a target=\"_blank\" href=\"https://console.cloud.google.com/bigquery?project=bigframes-dev&j=bq:US:79ab35f4-4b98-4376-ad39-b7738764203a&page=queryresults\">Open Job</a>"
      ],
      "text/plain": [
       "<IPython.core.display.HTML object>"
      ]
     },
     "metadata": {},
     "output_type": "display_data"
    },
    {
     "data": {
      "text/plain": [
       "390.72517591868666"
      ]
     },
     "execution_count": 13,
     "metadata": {},
     "output_type": "execute_result"
    }
   ],
   "source": [
    "hacker_news_with_texts['text'].str.len().mean()"
   ]
  },
  {
   "cell_type": "markdown",
   "metadata": {},
   "source": [
    "Now it's LLM's turn. Let's keep the rows in which the text is talking about iPhone. This will take several minutes to finish."
   ]
  },
  {
   "cell_type": "code",
   "execution_count": 14,
   "metadata": {},
   "outputs": [
    {
     "data": {
      "text/html": [
       "Query job 0d568460-167d-4c6f-bb21-afe425b5beba is DONE. 1.0 MB processed. <a target=\"_blank\" href=\"https://console.cloud.google.com/bigquery?project=bigframes-dev&j=bq:US:0d568460-167d-4c6f-bb21-afe425b5beba&page=queryresults\">Open Job</a>"
      ],
      "text/plain": [
       "<IPython.core.display.HTML object>"
      ]
     },
     "metadata": {},
     "output_type": "display_data"
    },
    {
     "name": "stderr",
     "output_type": "stream",
     "text": [
      "/usr/local/google/home/sycai/src/python-bigquery-dataframes/bigframes/core/__init__.py:112: PreviewWarning: Interpreting JSON column(s) as StringDtype. This behavior may change in future versions.\n",
      "  warnings.warn(\n"
     ]
    },
    {
     "data": {
      "text/html": [
       "Query job 0b796b16-4583-4fd6-82ab-55ad46376bf0 is DONE. 5.6 kB processed. <a target=\"_blank\" href=\"https://console.cloud.google.com/bigquery?project=bigframes-dev&j=bq:US:0b796b16-4583-4fd6-82ab-55ad46376bf0&page=queryresults\">Open Job</a>"
      ],
      "text/plain": [
       "<IPython.core.display.HTML object>"
      ]
     },
     "metadata": {},
     "output_type": "display_data"
    },
    {
     "name": "stderr",
     "output_type": "stream",
     "text": [
      "/usr/local/google/home/sycai/src/python-bigquery-dataframes/bigframes/ml/llm.py:976: RuntimeWarning: Some predictions failed. Check column ml_generate_text_status for detailed status. You may want to filter the failed rows and retry.\n",
      "  warnings.warn(\n"
     ]
    },
    {
     "data": {
      "text/html": [
       "Query job 99f6e47b-424b-4ff7-981e-d30eb57ac131 is DONE. 1.2 MB processed. <a target=\"_blank\" href=\"https://console.cloud.google.com/bigquery?project=bigframes-dev&j=bq:US:99f6e47b-424b-4ff7-981e-d30eb57ac131&page=queryresults\">Open Job</a>"
      ],
      "text/plain": [
       "<IPython.core.display.HTML object>"
      ]
     },
     "metadata": {},
     "output_type": "display_data"
    },
    {
     "data": {
      "text/html": [
       "Query job b219011d-a58f-4f11-bc5a-8a8198ceaeea is DONE. 1.7 kB processed. <a target=\"_blank\" href=\"https://console.cloud.google.com/bigquery?project=bigframes-dev&j=bq:US:b219011d-a58f-4f11-bc5a-8a8198ceaeea&page=queryresults\">Open Job</a>"
      ],
      "text/plain": [
       "<IPython.core.display.HTML object>"
      ]
     },
     "metadata": {},
     "output_type": "display_data"
    },
    {
     "data": {
      "text/html": [
       "<div>\n",
       "<style scoped>\n",
       "    .dataframe tbody tr th:only-of-type {\n",
       "        vertical-align: middle;\n",
       "    }\n",
       "\n",
       "    .dataframe tbody tr th {\n",
       "        vertical-align: top;\n",
       "    }\n",
       "\n",
       "    .dataframe thead th {\n",
       "        text-align: right;\n",
       "    }\n",
       "</style>\n",
       "<table border=\"1\" class=\"dataframe\">\n",
       "  <thead>\n",
       "    <tr style=\"text-align: right;\">\n",
       "      <th></th>\n",
       "      <th>title</th>\n",
       "      <th>text</th>\n",
       "      <th>by</th>\n",
       "      <th>score</th>\n",
       "      <th>timestamp</th>\n",
       "      <th>type</th>\n",
       "    </tr>\n",
       "  </thead>\n",
       "  <tbody>\n",
       "    <tr>\n",
       "      <th>9</th>\n",
       "      <td>&lt;NA&gt;</td>\n",
       "      <td>It doesn’t work on Safari, and WebKit based br...</td>\n",
       "      <td>archiewood</td>\n",
       "      <td>&lt;NA&gt;</td>\n",
       "      <td>2023-04-21 16:45:13+00:00</td>\n",
       "      <td>comment</td>\n",
       "    </tr>\n",
       "    <tr>\n",
       "      <th>16</th>\n",
       "      <td>&lt;NA&gt;</td>\n",
       "      <td>you have to auth again when you use apple pay.</td>\n",
       "      <td>empath75</td>\n",
       "      <td>&lt;NA&gt;</td>\n",
       "      <td>2017-09-12 18:58:20+00:00</td>\n",
       "      <td>comment</td>\n",
       "    </tr>\n",
       "    <tr>\n",
       "      <th>413</th>\n",
       "      <td>&lt;NA&gt;</td>\n",
       "      <td>Well last time I got angry down votes for sayi...</td>\n",
       "      <td>drieddust</td>\n",
       "      <td>&lt;NA&gt;</td>\n",
       "      <td>2021-01-11 19:27:27+00:00</td>\n",
       "      <td>comment</td>\n",
       "    </tr>\n",
       "    <tr>\n",
       "      <th>797</th>\n",
       "      <td>&lt;NA&gt;</td>\n",
       "      <td>New iPhone should be announced on September. L...</td>\n",
       "      <td>meerita</td>\n",
       "      <td>&lt;NA&gt;</td>\n",
       "      <td>2019-07-30 20:54:42+00:00</td>\n",
       "      <td>comment</td>\n",
       "    </tr>\n",
       "    <tr>\n",
       "      <th>1484</th>\n",
       "      <td>&lt;NA&gt;</td>\n",
       "      <td>Why would this take a week? i(phone)OS was ori...</td>\n",
       "      <td>TheOtherHobbes</td>\n",
       "      <td>&lt;NA&gt;</td>\n",
       "      <td>2021-06-08 09:25:24+00:00</td>\n",
       "      <td>comment</td>\n",
       "    </tr>\n",
       "    <tr>\n",
       "      <th>1529</th>\n",
       "      <td>&lt;NA&gt;</td>\n",
       "      <td>&amp;gt;or because Apple drama brings many clicks?...</td>\n",
       "      <td>weberer</td>\n",
       "      <td>&lt;NA&gt;</td>\n",
       "      <td>2022-09-05 13:16:02+00:00</td>\n",
       "      <td>comment</td>\n",
       "    </tr>\n",
       "  </tbody>\n",
       "</table>\n",
       "<p>6 rows × 6 columns</p>\n",
       "</div>[6 rows x 6 columns in total]"
      ],
      "text/plain": [
       "     title                                               text              by  \\\n",
       "9     <NA>  It doesn’t work on Safari, and WebKit based br...      archiewood   \n",
       "16    <NA>     you have to auth again when you use apple pay.        empath75   \n",
       "413   <NA>  Well last time I got angry down votes for sayi...       drieddust   \n",
       "797   <NA>  New iPhone should be announced on September. L...         meerita   \n",
       "1484  <NA>  Why would this take a week? i(phone)OS was ori...  TheOtherHobbes   \n",
       "1529  <NA>  &gt;or because Apple drama brings many clicks?...         weberer   \n",
       "\n",
       "      score                  timestamp     type  \n",
       "9      <NA>  2023-04-21 16:45:13+00:00  comment  \n",
       "16     <NA>  2017-09-12 18:58:20+00:00  comment  \n",
       "413    <NA>  2021-01-11 19:27:27+00:00  comment  \n",
       "797    <NA>  2019-07-30 20:54:42+00:00  comment  \n",
       "1484   <NA>  2021-06-08 09:25:24+00:00  comment  \n",
       "1529   <NA>  2022-09-05 13:16:02+00:00  comment  \n",
       "\n",
       "[6 rows x 6 columns]"
      ]
     },
     "execution_count": 14,
     "metadata": {},
     "output_type": "execute_result"
    }
   ],
   "source": [
    "iphone_comments=hacker_news_with_texts.semantics.filter(\"The {text} is mainly focused on iPhone\", gemini_model)\n",
    "iphone_comments"
   ]
  },
  {
   "cell_type": "markdown",
   "metadata": {},
   "source": [
    "The performance of the semantic operators depends on the length of your input as well as your quota. Here are my benchmarks for running the previous operation over data of different sizes.\n",
    "\n",
    "* 800 Rows -> 1m 21.3s\n",
    "* 2550 Rows -> 5m 9s\n",
    "* 8500 Rows -> 16m 34.4s\n",
    "\n",
    "These numbers can give you a general idea of how fast the operators run on long texts."
   ]
  },
  {
   "cell_type": "markdown",
   "metadata": {},
   "source": [
    "Now let's use LLM to summarize the sentiments towards iPhone:"
   ]
  },
  {
   "cell_type": "code",
   "execution_count": 15,
   "metadata": {},
   "outputs": [
    {
     "data": {
      "text/html": [
       "Query job 353c269f-8bff-4dbb-ab93-31feef23825b is DONE. 1.4 kB processed. <a target=\"_blank\" href=\"https://console.cloud.google.com/bigquery?project=bigframes-dev&j=bq:US:353c269f-8bff-4dbb-ab93-31feef23825b&page=queryresults\">Open Job</a>"
      ],
      "text/plain": [
       "<IPython.core.display.HTML object>"
      ]
     },
     "metadata": {},
     "output_type": "display_data"
    },
    {
     "name": "stderr",
     "output_type": "stream",
     "text": [
      "/usr/local/google/home/chelsealin/src/bigframes3/bigframes/core/__init__.py:112: PreviewWarning: Interpreting JSON column(s) as StringDtype. This behavior may change in future versions.\n",
      "  warnings.warn(\n"
     ]
    },
    {
     "data": {
      "text/html": [
       "Query job 923567b8-c166-4dcb-892b-0d9902927c58 is DONE. 12 Bytes processed. <a target=\"_blank\" href=\"https://console.cloud.google.com/bigquery?project=bigframes-dev&j=bq:US:923567b8-c166-4dcb-892b-0d9902927c58&page=queryresults\">Open Job</a>"
      ],
      "text/plain": [
       "<IPython.core.display.HTML object>"
      ]
     },
     "metadata": {},
     "output_type": "display_data"
    },
    {
     "data": {
      "text/html": [
       "Query job 305a4cd9-23eb-4268-a380-7949dcaeef4b is DONE. 1.9 kB processed. <a target=\"_blank\" href=\"https://console.cloud.google.com/bigquery?project=bigframes-dev&j=bq:US:305a4cd9-23eb-4268-a380-7949dcaeef4b&page=queryresults\">Open Job</a>"
      ],
      "text/plain": [
       "<IPython.core.display.HTML object>"
      ]
     },
     "metadata": {},
     "output_type": "display_data"
    },
    {
     "data": {
      "text/html": [
       "Query job 8f8bd61c-15c2-44c5-aa2c-fe293f97c0d9 is DONE. 1.8 kB processed. <a target=\"_blank\" href=\"https://console.cloud.google.com/bigquery?project=bigframes-dev&j=bq:US:8f8bd61c-15c2-44c5-aa2c-fe293f97c0d9&page=queryresults\">Open Job</a>"
      ],
      "text/plain": [
       "<IPython.core.display.HTML object>"
      ]
     },
     "metadata": {},
     "output_type": "display_data"
    },
    {
     "data": {
      "text/html": [
       "<div>\n",
       "<style scoped>\n",
       "    .dataframe tbody tr th:only-of-type {\n",
       "        vertical-align: middle;\n",
       "    }\n",
       "\n",
       "    .dataframe tbody tr th {\n",
       "        vertical-align: top;\n",
       "    }\n",
       "\n",
       "    .dataframe thead th {\n",
       "        text-align: right;\n",
       "    }\n",
       "</style>\n",
       "<table border=\"1\" class=\"dataframe\">\n",
       "  <thead>\n",
       "    <tr style=\"text-align: right;\">\n",
       "      <th></th>\n",
       "      <th>title</th>\n",
       "      <th>text</th>\n",
       "      <th>by</th>\n",
       "      <th>score</th>\n",
       "      <th>timestamp</th>\n",
       "      <th>type</th>\n",
       "      <th>sentiment</th>\n",
       "    </tr>\n",
       "  </thead>\n",
       "  <tbody>\n",
       "    <tr>\n",
       "      <th>9</th>\n",
       "      <td>&lt;NA&gt;</td>\n",
       "      <td>It doesn’t work on Safari, and WebKit based br...</td>\n",
       "      <td>archiewood</td>\n",
       "      <td>&lt;NA&gt;</td>\n",
       "      <td>2023-04-21 16:45:13+00:00</td>\n",
       "      <td>comment</td>\n",
       "      <td>Frustrated and limited.</td>\n",
       "    </tr>\n",
       "    <tr>\n",
       "      <th>16</th>\n",
       "      <td>&lt;NA&gt;</td>\n",
       "      <td>you have to auth again when you use apple pay.</td>\n",
       "      <td>empath75</td>\n",
       "      <td>&lt;NA&gt;</td>\n",
       "      <td>2017-09-12 18:58:20+00:00</td>\n",
       "      <td>comment</td>\n",
       "      <td>Frustrated, annoyed, negative</td>\n",
       "    </tr>\n",
       "    <tr>\n",
       "      <th>413</th>\n",
       "      <td>&lt;NA&gt;</td>\n",
       "      <td>Well last time I got angry down votes for sayi...</td>\n",
       "      <td>drieddust</td>\n",
       "      <td>&lt;NA&gt;</td>\n",
       "      <td>2021-01-11 19:27:27+00:00</td>\n",
       "      <td>comment</td>\n",
       "      <td>Angry and frustrated.</td>\n",
       "    </tr>\n",
       "    <tr>\n",
       "      <th>797</th>\n",
       "      <td>&lt;NA&gt;</td>\n",
       "      <td>New iPhone should be announced on September. L...</td>\n",
       "      <td>meerita</td>\n",
       "      <td>&lt;NA&gt;</td>\n",
       "      <td>2019-07-30 20:54:42+00:00</td>\n",
       "      <td>comment</td>\n",
       "      <td>Excited anticipation.</td>\n",
       "    </tr>\n",
       "    <tr>\n",
       "      <th>1484</th>\n",
       "      <td>&lt;NA&gt;</td>\n",
       "      <td>Why would this take a week? i(phone)OS was ori...</td>\n",
       "      <td>TheOtherHobbes</td>\n",
       "      <td>&lt;NA&gt;</td>\n",
       "      <td>2021-06-08 09:25:24+00:00</td>\n",
       "      <td>comment</td>\n",
       "      <td>Frustrated, criticizing, obvious.</td>\n",
       "    </tr>\n",
       "    <tr>\n",
       "      <th>1529</th>\n",
       "      <td>&lt;NA&gt;</td>\n",
       "      <td>&amp;gt;or because Apple drama brings many clicks?...</td>\n",
       "      <td>weberer</td>\n",
       "      <td>&lt;NA&gt;</td>\n",
       "      <td>2022-09-05 13:16:02+00:00</td>\n",
       "      <td>comment</td>\n",
       "      <td>Negative, clickbait, Apple.</td>\n",
       "    </tr>\n",
       "  </tbody>\n",
       "</table>\n",
       "<p>6 rows × 7 columns</p>\n",
       "</div>[6 rows x 7 columns in total]"
      ],
      "text/plain": [
       "     title                                               text              by  \\\n",
       "9     <NA>  It doesn’t work on Safari, and WebKit based br...      archiewood   \n",
       "16    <NA>     you have to auth again when you use apple pay.        empath75   \n",
       "413   <NA>  Well last time I got angry down votes for sayi...       drieddust   \n",
       "797   <NA>  New iPhone should be announced on September. L...         meerita   \n",
       "1484  <NA>  Why would this take a week? i(phone)OS was ori...  TheOtherHobbes   \n",
       "1529  <NA>  &gt;or because Apple drama brings many clicks?...         weberer   \n",
       "\n",
       "      score                  timestamp     type  \\\n",
       "9      <NA>  2023-04-21 16:45:13+00:00  comment   \n",
       "16     <NA>  2017-09-12 18:58:20+00:00  comment   \n",
       "413    <NA>  2021-01-11 19:27:27+00:00  comment   \n",
       "797    <NA>  2019-07-30 20:54:42+00:00  comment   \n",
       "1484   <NA>  2021-06-08 09:25:24+00:00  comment   \n",
       "1529   <NA>  2022-09-05 13:16:02+00:00  comment   \n",
       "\n",
       "                                sentiment  \n",
       "9               Frustrated and limited. \n",
       "  \n",
       "16        Frustrated, annoyed, negative \n",
       "  \n",
       "413               Angry and frustrated. \n",
       "  \n",
       "797               Excited anticipation. \n",
       "  \n",
       "1484  Frustrated, criticizing, obvious. \n",
       "  \n",
       "1529        Negative, clickbait, Apple. \n",
       "  \n",
       "\n",
       "[6 rows x 7 columns]"
      ]
     },
     "execution_count": 15,
     "metadata": {},
     "output_type": "execute_result"
    }
   ],
   "source": [
    "iphone_comments.semantics.map(\"Summarize the sentiment of the {text}. Your answer should have at most 3 words\", output_column=\"sentiment\", model=gemini_model)"
   ]
  },
  {
   "cell_type": "markdown",
   "metadata": {},
   "source": [
    "Let's aslo test the speed for shorter texts. In this example, we will count the number of rows whose authors have animals in their names."
   ]
  },
  {
   "cell_type": "code",
   "execution_count": 6,
   "metadata": {},
   "outputs": [
    {
     "data": {
      "text/html": [
       "Query job 0f2fe19a-3e44-4e46-a0a7-f0c2e2c20c77 is DONE. 16.7 GB processed. <a target=\"_blank\" href=\"https://console.cloud.google.com/bigquery?project=bigframes-dev&j=bq:US:0f2fe19a-3e44-4e46-a0a7-f0c2e2c20c77&page=queryresults\">Open Job</a>"
      ],
      "text/plain": [
       "<IPython.core.display.HTML object>"
      ]
     },
     "metadata": {},
     "output_type": "display_data"
    },
    {
     "data": {
      "text/html": [
       "Query job 994246e8-7b3d-4d3c-8142-4bf7b0a59c38 is DONE. 1.2 MB processed. <a target=\"_blank\" href=\"https://console.cloud.google.com/bigquery?project=bigframes-dev&j=bq:US:994246e8-7b3d-4d3c-8142-4bf7b0a59c38&page=queryresults\">Open Job</a>"
      ],
      "text/plain": [
       "<IPython.core.display.HTML object>"
      ]
     },
     "metadata": {},
     "output_type": "display_data"
    },
    {
     "data": {
      "text/html": [
       "<div>\n",
       "<style scoped>\n",
       "    .dataframe tbody tr th:only-of-type {\n",
       "        vertical-align: middle;\n",
       "    }\n",
       "\n",
       "    .dataframe tbody tr th {\n",
       "        vertical-align: top;\n",
       "    }\n",
       "\n",
       "    .dataframe thead th {\n",
       "        text-align: right;\n",
       "    }\n",
       "</style>\n",
       "<table border=\"1\" class=\"dataframe\">\n",
       "  <thead>\n",
       "    <tr style=\"text-align: right;\">\n",
       "      <th></th>\n",
       "      <th>title</th>\n",
       "      <th>text</th>\n",
       "      <th>by</th>\n",
       "      <th>score</th>\n",
       "      <th>timestamp</th>\n",
       "      <th>type</th>\n",
       "    </tr>\n",
       "  </thead>\n",
       "  <tbody>\n",
       "    <tr>\n",
       "      <th>0</th>\n",
       "      <td>&lt;NA&gt;</td>\n",
       "      <td>Well, most people aren&amp;#x27;t alcoholics, so I...</td>\n",
       "      <td>slipframe</td>\n",
       "      <td>&lt;NA&gt;</td>\n",
       "      <td>2021-06-26 02:37:56+00:00</td>\n",
       "      <td>comment</td>\n",
       "    </tr>\n",
       "    <tr>\n",
       "      <th>1</th>\n",
       "      <td>&lt;NA&gt;</td>\n",
       "      <td>No, you don&amp;#x27;t really &lt;i&gt;need&lt;/i&gt; a smartp...</td>\n",
       "      <td>vetinari</td>\n",
       "      <td>&lt;NA&gt;</td>\n",
       "      <td>2023-04-19 15:56:34+00:00</td>\n",
       "      <td>comment</td>\n",
       "    </tr>\n",
       "    <tr>\n",
       "      <th>2</th>\n",
       "      <td>&lt;NA&gt;</td>\n",
       "      <td>It&amp;#x27;s for the late Paul Allen RIP. Should&amp;...</td>\n",
       "      <td>lsr_ssri</td>\n",
       "      <td>&lt;NA&gt;</td>\n",
       "      <td>2018-10-16 01:07:55+00:00</td>\n",
       "      <td>comment</td>\n",
       "    </tr>\n",
       "    <tr>\n",
       "      <th>3</th>\n",
       "      <td>&lt;NA&gt;</td>\n",
       "      <td>Yup they are dangerous. Be careful Donald Trump.</td>\n",
       "      <td>Sven7</td>\n",
       "      <td>&lt;NA&gt;</td>\n",
       "      <td>2015-08-10 16:05:54+00:00</td>\n",
       "      <td>comment</td>\n",
       "    </tr>\n",
       "    <tr>\n",
       "      <th>4</th>\n",
       "      <td>&lt;NA&gt;</td>\n",
       "      <td>Sure, it&amp;#x27;s totally reasonable. Just point...</td>\n",
       "      <td>nicoburns</td>\n",
       "      <td>&lt;NA&gt;</td>\n",
       "      <td>2020-10-05 11:20:51+00:00</td>\n",
       "      <td>comment</td>\n",
       "    </tr>\n",
       "    <tr>\n",
       "      <th>5</th>\n",
       "      <td>&lt;NA&gt;</td>\n",
       "      <td>I wonder how long before special forces start ...</td>\n",
       "      <td>autisticcurio</td>\n",
       "      <td>&lt;NA&gt;</td>\n",
       "      <td>2020-09-01 15:38:50+00:00</td>\n",
       "      <td>comment</td>\n",
       "    </tr>\n",
       "    <tr>\n",
       "      <th>6</th>\n",
       "      <td>The Impending NY Tech Apocalypse: Here's What ...</td>\n",
       "      <td>&lt;NA&gt;</td>\n",
       "      <td>gaoprea</td>\n",
       "      <td>3</td>\n",
       "      <td>2011-09-27 22:43:27+00:00</td>\n",
       "      <td>story</td>\n",
       "    </tr>\n",
       "    <tr>\n",
       "      <th>7</th>\n",
       "      <td>&lt;NA&gt;</td>\n",
       "      <td>Where would you relocate to? I'm assuming that...</td>\n",
       "      <td>pavel_lishin</td>\n",
       "      <td>&lt;NA&gt;</td>\n",
       "      <td>2011-09-16 19:02:01+00:00</td>\n",
       "      <td>comment</td>\n",
       "    </tr>\n",
       "    <tr>\n",
       "      <th>8</th>\n",
       "      <td>Eureca beta is live. A place for your business...</td>\n",
       "      <td>&lt;NA&gt;</td>\n",
       "      <td>ricardos</td>\n",
       "      <td>1</td>\n",
       "      <td>2012-10-15 13:09:32+00:00</td>\n",
       "      <td>story</td>\n",
       "    </tr>\n",
       "    <tr>\n",
       "      <th>9</th>\n",
       "      <td>&lt;NA&gt;</td>\n",
       "      <td>It doesn’t work on Safari, and WebKit based br...</td>\n",
       "      <td>archiewood</td>\n",
       "      <td>&lt;NA&gt;</td>\n",
       "      <td>2023-04-21 16:45:13+00:00</td>\n",
       "      <td>comment</td>\n",
       "    </tr>\n",
       "    <tr>\n",
       "      <th>10</th>\n",
       "      <td>&lt;NA&gt;</td>\n",
       "      <td>I guess I don’t see the relevance. Vegans eat ...</td>\n",
       "      <td>stevula</td>\n",
       "      <td>&lt;NA&gt;</td>\n",
       "      <td>2023-01-19 20:05:54+00:00</td>\n",
       "      <td>comment</td>\n",
       "    </tr>\n",
       "    <tr>\n",
       "      <th>11</th>\n",
       "      <td>&lt;NA&gt;</td>\n",
       "      <td>I remember watching the American news media go...</td>\n",
       "      <td>fareesh</td>\n",
       "      <td>&lt;NA&gt;</td>\n",
       "      <td>2019-06-17 19:49:17+00:00</td>\n",
       "      <td>comment</td>\n",
       "    </tr>\n",
       "    <tr>\n",
       "      <th>12</th>\n",
       "      <td>&lt;NA&gt;</td>\n",
       "      <td>This article is incorrectly using the current ...</td>\n",
       "      <td>stale2002</td>\n",
       "      <td>&lt;NA&gt;</td>\n",
       "      <td>2018-03-18 18:57:21+00:00</td>\n",
       "      <td>comment</td>\n",
       "    </tr>\n",
       "    <tr>\n",
       "      <th>13</th>\n",
       "      <td>&lt;NA&gt;</td>\n",
       "      <td>In the firm I made my internship, we have to u...</td>\n",
       "      <td>iserlohnmage</td>\n",
       "      <td>&lt;NA&gt;</td>\n",
       "      <td>2019-10-22 10:41:01+00:00</td>\n",
       "      <td>comment</td>\n",
       "    </tr>\n",
       "    <tr>\n",
       "      <th>14</th>\n",
       "      <td>&lt;NA&gt;</td>\n",
       "      <td>The main reason it requires unsafe is for memo...</td>\n",
       "      <td>comex</td>\n",
       "      <td>&lt;NA&gt;</td>\n",
       "      <td>2017-05-05 20:45:37+00:00</td>\n",
       "      <td>comment</td>\n",
       "    </tr>\n",
       "    <tr>\n",
       "      <th>15</th>\n",
       "      <td>Discord vs. IRC Rough Notes</td>\n",
       "      <td>&lt;NA&gt;</td>\n",
       "      <td>todsacerdoti</td>\n",
       "      <td>48</td>\n",
       "      <td>2024-07-12 18:39:52+00:00</td>\n",
       "      <td>story</td>\n",
       "    </tr>\n",
       "    <tr>\n",
       "      <th>16</th>\n",
       "      <td>&lt;NA&gt;</td>\n",
       "      <td>you have to auth again when you use apple pay.</td>\n",
       "      <td>empath75</td>\n",
       "      <td>&lt;NA&gt;</td>\n",
       "      <td>2017-09-12 18:58:20+00:00</td>\n",
       "      <td>comment</td>\n",
       "    </tr>\n",
       "    <tr>\n",
       "      <th>17</th>\n",
       "      <td>&lt;NA&gt;</td>\n",
       "      <td>It goes consumer grade, automotive, military, ...</td>\n",
       "      <td>moftz</td>\n",
       "      <td>&lt;NA&gt;</td>\n",
       "      <td>2021-04-13 01:24:03+00:00</td>\n",
       "      <td>comment</td>\n",
       "    </tr>\n",
       "    <tr>\n",
       "      <th>18</th>\n",
       "      <td>&lt;NA&gt;</td>\n",
       "      <td>I don&amp;#x27;t have a link handy but the differe...</td>\n",
       "      <td>KennyBlanken</td>\n",
       "      <td>&lt;NA&gt;</td>\n",
       "      <td>2022-05-13 16:08:38+00:00</td>\n",
       "      <td>comment</td>\n",
       "    </tr>\n",
       "    <tr>\n",
       "      <th>19</th>\n",
       "      <td>&lt;NA&gt;</td>\n",
       "      <td>&amp;gt; I don&amp;#x27;t think the use case you menti...</td>\n",
       "      <td>colanderman</td>\n",
       "      <td>&lt;NA&gt;</td>\n",
       "      <td>2017-09-28 05:16:06+00:00</td>\n",
       "      <td>comment</td>\n",
       "    </tr>\n",
       "    <tr>\n",
       "      <th>20</th>\n",
       "      <td>&lt;NA&gt;</td>\n",
       "      <td>I think you need to watch it again, because yo...</td>\n",
       "      <td>vladimirralev</td>\n",
       "      <td>&lt;NA&gt;</td>\n",
       "      <td>2018-12-07 11:25:52+00:00</td>\n",
       "      <td>comment</td>\n",
       "    </tr>\n",
       "    <tr>\n",
       "      <th>21</th>\n",
       "      <td>Oh dear: new Yahoo anti-spoofing measures brea...</td>\n",
       "      <td>&lt;NA&gt;</td>\n",
       "      <td>joshreads</td>\n",
       "      <td>1</td>\n",
       "      <td>2014-04-08 13:29:50+00:00</td>\n",
       "      <td>story</td>\n",
       "    </tr>\n",
       "    <tr>\n",
       "      <th>22</th>\n",
       "      <td>How Much Warmer Was Your City in 2016?</td>\n",
       "      <td>&lt;NA&gt;</td>\n",
       "      <td>smb06</td>\n",
       "      <td>1</td>\n",
       "      <td>2017-02-16 23:26:34+00:00</td>\n",
       "      <td>story</td>\n",
       "    </tr>\n",
       "    <tr>\n",
       "      <th>23</th>\n",
       "      <td>&lt;NA&gt;</td>\n",
       "      <td>Except that they clearly never tried to incent...</td>\n",
       "      <td>aenis</td>\n",
       "      <td>&lt;NA&gt;</td>\n",
       "      <td>2022-01-31 17:08:57+00:00</td>\n",
       "      <td>comment</td>\n",
       "    </tr>\n",
       "    <tr>\n",
       "      <th>24</th>\n",
       "      <td>Working Best at Coffee Shops</td>\n",
       "      <td>&lt;NA&gt;</td>\n",
       "      <td>GiraffeNecktie</td>\n",
       "      <td>249</td>\n",
       "      <td>2011-04-19 14:25:17+00:00</td>\n",
       "      <td>story</td>\n",
       "    </tr>\n",
       "  </tbody>\n",
       "</table>\n",
       "<p>25 rows × 6 columns</p>\n",
       "</div>[3000 rows x 6 columns in total]"
      ],
      "text/plain": [
       "                                                title  \\\n",
       "0                                                <NA>   \n",
       "1                                                <NA>   \n",
       "2                                                <NA>   \n",
       "3                                                <NA>   \n",
       "4                                                <NA>   \n",
       "5                                                <NA>   \n",
       "6   The Impending NY Tech Apocalypse: Here's What ...   \n",
       "7                                                <NA>   \n",
       "8   Eureca beta is live. A place for your business...   \n",
       "9                                                <NA>   \n",
       "10                                               <NA>   \n",
       "11                                               <NA>   \n",
       "12                                               <NA>   \n",
       "13                                               <NA>   \n",
       "14                                               <NA>   \n",
       "15                        Discord vs. IRC Rough Notes   \n",
       "16                                               <NA>   \n",
       "17                                               <NA>   \n",
       "18                                               <NA>   \n",
       "19                                               <NA>   \n",
       "20                                               <NA>   \n",
       "21  Oh dear: new Yahoo anti-spoofing measures brea...   \n",
       "22             How Much Warmer Was Your City in 2016?   \n",
       "23                                               <NA>   \n",
       "24                       Working Best at Coffee Shops   \n",
       "\n",
       "                                                 text              by  score  \\\n",
       "0   Well, most people aren&#x27;t alcoholics, so I...       slipframe   <NA>   \n",
       "1   No, you don&#x27;t really <i>need</i> a smartp...        vetinari   <NA>   \n",
       "2   It&#x27;s for the late Paul Allen RIP. Should&...        lsr_ssri   <NA>   \n",
       "3    Yup they are dangerous. Be careful Donald Trump.           Sven7   <NA>   \n",
       "4   Sure, it&#x27;s totally reasonable. Just point...       nicoburns   <NA>   \n",
       "5   I wonder how long before special forces start ...   autisticcurio   <NA>   \n",
       "6                                                <NA>         gaoprea      3   \n",
       "7   Where would you relocate to? I'm assuming that...    pavel_lishin   <NA>   \n",
       "8                                                <NA>        ricardos      1   \n",
       "9   It doesn’t work on Safari, and WebKit based br...      archiewood   <NA>   \n",
       "10  I guess I don’t see the relevance. Vegans eat ...         stevula   <NA>   \n",
       "11  I remember watching the American news media go...         fareesh   <NA>   \n",
       "12  This article is incorrectly using the current ...       stale2002   <NA>   \n",
       "13  In the firm I made my internship, we have to u...    iserlohnmage   <NA>   \n",
       "14  The main reason it requires unsafe is for memo...           comex   <NA>   \n",
       "15                                               <NA>    todsacerdoti     48   \n",
       "16     you have to auth again when you use apple pay.        empath75   <NA>   \n",
       "17  It goes consumer grade, automotive, military, ...           moftz   <NA>   \n",
       "18  I don&#x27;t have a link handy but the differe...    KennyBlanken   <NA>   \n",
       "19  &gt; I don&#x27;t think the use case you menti...     colanderman   <NA>   \n",
       "20  I think you need to watch it again, because yo...   vladimirralev   <NA>   \n",
       "21                                               <NA>       joshreads      1   \n",
       "22                                               <NA>           smb06      1   \n",
       "23  Except that they clearly never tried to incent...           aenis   <NA>   \n",
       "24                                               <NA>  GiraffeNecktie    249   \n",
       "\n",
       "                    timestamp     type  \n",
       "0   2021-06-26 02:37:56+00:00  comment  \n",
       "1   2023-04-19 15:56:34+00:00  comment  \n",
       "2   2018-10-16 01:07:55+00:00  comment  \n",
       "3   2015-08-10 16:05:54+00:00  comment  \n",
       "4   2020-10-05 11:20:51+00:00  comment  \n",
       "5   2020-09-01 15:38:50+00:00  comment  \n",
       "6   2011-09-27 22:43:27+00:00    story  \n",
       "7   2011-09-16 19:02:01+00:00  comment  \n",
       "8   2012-10-15 13:09:32+00:00    story  \n",
       "9   2023-04-21 16:45:13+00:00  comment  \n",
       "10  2023-01-19 20:05:54+00:00  comment  \n",
       "11  2019-06-17 19:49:17+00:00  comment  \n",
       "12  2018-03-18 18:57:21+00:00  comment  \n",
       "13  2019-10-22 10:41:01+00:00  comment  \n",
       "14  2017-05-05 20:45:37+00:00  comment  \n",
       "15  2024-07-12 18:39:52+00:00    story  \n",
       "16  2017-09-12 18:58:20+00:00  comment  \n",
       "17  2021-04-13 01:24:03+00:00  comment  \n",
       "18  2022-05-13 16:08:38+00:00  comment  \n",
       "19  2017-09-28 05:16:06+00:00  comment  \n",
       "20  2018-12-07 11:25:52+00:00  comment  \n",
       "21  2014-04-08 13:29:50+00:00    story  \n",
       "22  2017-02-16 23:26:34+00:00    story  \n",
       "23  2022-01-31 17:08:57+00:00  comment  \n",
       "24  2011-04-19 14:25:17+00:00    story  \n",
       "...\n",
       "\n",
       "[3000 rows x 6 columns]"
      ]
     },
     "execution_count": 6,
     "metadata": {},
     "output_type": "execute_result"
    }
   ],
   "source": [
    "hacker_news = bpd.read_gbq(\"bigquery-public-data.hacker_news.full\")[['title', 'text', 'by', 'score', 'timestamp', 'type']].head(3000)\n",
    "hacker_news"
   ]
  },
  {
   "cell_type": "code",
   "execution_count": 7,
   "metadata": {},
   "outputs": [
    {
     "data": {
      "text/html": [
       "Query job 47ef535f-a185-45bd-aeb4-689951f95a11 is DONE. 54.2 kB processed. <a target=\"_blank\" href=\"https://console.cloud.google.com/bigquery?project=bigframes-dev&j=bq:US:47ef535f-a185-45bd-aeb4-689951f95a11&page=queryresults\">Open Job</a>"
      ],
      "text/plain": [
       "<IPython.core.display.HTML object>"
      ]
     },
     "metadata": {},
     "output_type": "display_data"
    },
    {
     "name": "stderr",
     "output_type": "stream",
     "text": [
      "/usr/local/google/home/sycai/src/python-bigquery-dataframes/bigframes/core/__init__.py:112: PreviewWarning: Interpreting JSON column(s) as StringDtype. This behavior may change in future versions.\n",
      "  warnings.warn(\n"
     ]
    },
    {
     "data": {
      "text/html": [
       "Query job 1531fa91-f034-4e88-b6e1-4cc571bbbfbb is DONE. 5.9 kB processed. <a target=\"_blank\" href=\"https://console.cloud.google.com/bigquery?project=bigframes-dev&j=bq:US:1531fa91-f034-4e88-b6e1-4cc571bbbfbb&page=queryresults\">Open Job</a>"
      ],
      "text/plain": [
       "<IPython.core.display.HTML object>"
      ]
     },
     "metadata": {},
     "output_type": "display_data"
    },
    {
     "name": "stderr",
     "output_type": "stream",
     "text": [
      "/usr/local/google/home/sycai/src/python-bigquery-dataframes/bigframes/ml/llm.py:976: RuntimeWarning: Some predictions failed. Check column ml_generate_text_status for detailed status. You may want to filter the failed rows and retry.\n",
      "  warnings.warn(\n"
     ]
    },
    {
     "data": {
      "text/html": [
       "Query job c171d313-ddd9-4400-91ed-5fdec852ea73 is DONE. 1.2 MB processed. <a target=\"_blank\" href=\"https://console.cloud.google.com/bigquery?project=bigframes-dev&j=bq:US:c171d313-ddd9-4400-91ed-5fdec852ea73&page=queryresults\">Open Job</a>"
      ],
      "text/plain": [
       "<IPython.core.display.HTML object>"
      ]
     },
     "metadata": {},
     "output_type": "display_data"
    },
    {
     "data": {
      "text/html": [
       "Query job bf1de947-1fa8-4d0e-8fe2-67020f165389 is DONE. 49.9 kB processed. <a target=\"_blank\" href=\"https://console.cloud.google.com/bigquery?project=bigframes-dev&j=bq:US:bf1de947-1fa8-4d0e-8fe2-67020f165389&page=queryresults\">Open Job</a>"
      ],
      "text/plain": [
       "<IPython.core.display.HTML object>"
      ]
     },
     "metadata": {},
     "output_type": "display_data"
    },
    {
     "data": {
      "text/html": [
       "<div>\n",
       "<style scoped>\n",
       "    .dataframe tbody tr th:only-of-type {\n",
       "        vertical-align: middle;\n",
       "    }\n",
       "\n",
       "    .dataframe tbody tr th {\n",
       "        vertical-align: top;\n",
       "    }\n",
       "\n",
       "    .dataframe thead th {\n",
       "        text-align: right;\n",
       "    }\n",
       "</style>\n",
       "<table border=\"1\" class=\"dataframe\">\n",
       "  <thead>\n",
       "    <tr style=\"text-align: right;\">\n",
       "      <th></th>\n",
       "      <th>title</th>\n",
       "      <th>text</th>\n",
       "      <th>by</th>\n",
       "      <th>score</th>\n",
       "      <th>timestamp</th>\n",
       "      <th>type</th>\n",
       "    </tr>\n",
       "  </thead>\n",
       "  <tbody>\n",
       "    <tr>\n",
       "      <th>24</th>\n",
       "      <td>Working Best at Coffee Shops</td>\n",
       "      <td>&lt;NA&gt;</td>\n",
       "      <td>GiraffeNecktie</td>\n",
       "      <td>249</td>\n",
       "      <td>2011-04-19 14:25:17+00:00</td>\n",
       "      <td>story</td>\n",
       "    </tr>\n",
       "    <tr>\n",
       "      <th>96</th>\n",
       "      <td>&lt;NA&gt;</td>\n",
       "      <td>i resisted switching to chrome for months beca...</td>\n",
       "      <td>catshirt</td>\n",
       "      <td>&lt;NA&gt;</td>\n",
       "      <td>2011-04-06 08:02:24+00:00</td>\n",
       "      <td>comment</td>\n",
       "    </tr>\n",
       "    <tr>\n",
       "      <th>106</th>\n",
       "      <td>&lt;NA&gt;</td>\n",
       "      <td>I was about to say the same thing myself. For ...</td>\n",
       "      <td>geophile</td>\n",
       "      <td>&lt;NA&gt;</td>\n",
       "      <td>2011-12-08 21:13:08+00:00</td>\n",
       "      <td>comment</td>\n",
       "    </tr>\n",
       "    <tr>\n",
       "      <th>184</th>\n",
       "      <td>&lt;NA&gt;</td>\n",
       "      <td>I think it&amp;#x27;s more than hazing. It may be ...</td>\n",
       "      <td>bayesianhorse</td>\n",
       "      <td>&lt;NA&gt;</td>\n",
       "      <td>2015-06-18 16:42:53+00:00</td>\n",
       "      <td>comment</td>\n",
       "    </tr>\n",
       "    <tr>\n",
       "      <th>204</th>\n",
       "      <td>&lt;NA&gt;</td>\n",
       "      <td>I like the idea of moving that arrow the way h...</td>\n",
       "      <td>rattray</td>\n",
       "      <td>&lt;NA&gt;</td>\n",
       "      <td>2015-06-08 02:15:30+00:00</td>\n",
       "      <td>comment</td>\n",
       "    </tr>\n",
       "    <tr>\n",
       "      <th>223</th>\n",
       "      <td>&lt;NA&gt;</td>\n",
       "      <td>I don&amp;#x27;t understand why a beginner would s...</td>\n",
       "      <td>wolco</td>\n",
       "      <td>&lt;NA&gt;</td>\n",
       "      <td>2019-02-03 14:35:43+00:00</td>\n",
       "      <td>comment</td>\n",
       "    </tr>\n",
       "    <tr>\n",
       "      <th>284</th>\n",
       "      <td>&lt;NA&gt;</td>\n",
       "      <td>I leaerned more with one minute of this than a...</td>\n",
       "      <td>agumonkey</td>\n",
       "      <td>&lt;NA&gt;</td>\n",
       "      <td>2016-07-16 06:19:39+00:00</td>\n",
       "      <td>comment</td>\n",
       "    </tr>\n",
       "    <tr>\n",
       "      <th>297</th>\n",
       "      <td>&lt;NA&gt;</td>\n",
       "      <td>I've suggested a &lt;i&gt;rationale&lt;/i&gt; for the tabo...</td>\n",
       "      <td>mechanical_fish</td>\n",
       "      <td>&lt;NA&gt;</td>\n",
       "      <td>2008-12-17 04:42:02+00:00</td>\n",
       "      <td>comment</td>\n",
       "    </tr>\n",
       "    <tr>\n",
       "      <th>306</th>\n",
       "      <td>&lt;NA&gt;</td>\n",
       "      <td>Do you have any reference for this?&lt;p&gt;I&amp;#x27;m...</td>\n",
       "      <td>banashark</td>\n",
       "      <td>&lt;NA&gt;</td>\n",
       "      <td>2023-11-13 19:57:00+00:00</td>\n",
       "      <td>comment</td>\n",
       "    </tr>\n",
       "    <tr>\n",
       "      <th>316</th>\n",
       "      <td>&lt;NA&gt;</td>\n",
       "      <td>Default search scope is an option in the Finde...</td>\n",
       "      <td>kitsunesoba</td>\n",
       "      <td>&lt;NA&gt;</td>\n",
       "      <td>2017-08-13 17:15:19+00:00</td>\n",
       "      <td>comment</td>\n",
       "    </tr>\n",
       "    <tr>\n",
       "      <th>386</th>\n",
       "      <td>&lt;NA&gt;</td>\n",
       "      <td>Orthogonality and biology aren&amp;#x27;t friends.</td>\n",
       "      <td>agumonkey</td>\n",
       "      <td>&lt;NA&gt;</td>\n",
       "      <td>2016-04-24 16:33:41+00:00</td>\n",
       "      <td>comment</td>\n",
       "    </tr>\n",
       "    <tr>\n",
       "      <th>391</th>\n",
       "      <td>&lt;NA&gt;</td>\n",
       "      <td>I chose some random physics book that was good...</td>\n",
       "      <td>prawn</td>\n",
       "      <td>&lt;NA&gt;</td>\n",
       "      <td>2011-03-27 22:29:51+00:00</td>\n",
       "      <td>comment</td>\n",
       "    </tr>\n",
       "    <tr>\n",
       "      <th>417</th>\n",
       "      <td>&lt;NA&gt;</td>\n",
       "      <td>Seeing this get huge on Twitter. It&amp;#x27;s the...</td>\n",
       "      <td>shenanigoat</td>\n",
       "      <td>&lt;NA&gt;</td>\n",
       "      <td>2016-01-09 03:04:22+00:00</td>\n",
       "      <td>comment</td>\n",
       "    </tr>\n",
       "    <tr>\n",
       "      <th>421</th>\n",
       "      <td>&lt;NA&gt;</td>\n",
       "      <td>Looking through the comments there are a numbe...</td>\n",
       "      <td>moomin</td>\n",
       "      <td>&lt;NA&gt;</td>\n",
       "      <td>2024-10-01 14:37:04+00:00</td>\n",
       "      <td>comment</td>\n",
       "    </tr>\n",
       "    <tr>\n",
       "      <th>422</th>\n",
       "      <td>&lt;NA&gt;</td>\n",
       "      <td>Legacy media is a tough business. GBTC is payi...</td>\n",
       "      <td>arcticbull</td>\n",
       "      <td>&lt;NA&gt;</td>\n",
       "      <td>2021-04-16 16:30:33+00:00</td>\n",
       "      <td>comment</td>\n",
       "    </tr>\n",
       "    <tr>\n",
       "      <th>429</th>\n",
       "      <td>&lt;NA&gt;</td>\n",
       "      <td>Same thing if you sell unsafe food, yet we hav...</td>\n",
       "      <td>jabradoodle</td>\n",
       "      <td>&lt;NA&gt;</td>\n",
       "      <td>2023-08-03 20:47:52+00:00</td>\n",
       "      <td>comment</td>\n",
       "    </tr>\n",
       "    <tr>\n",
       "      <th>431</th>\n",
       "      <td>&lt;NA&gt;</td>\n",
       "      <td>There was briefly a thing called HSCSD (&amp;quot;...</td>\n",
       "      <td>LeoPanthera</td>\n",
       "      <td>&lt;NA&gt;</td>\n",
       "      <td>2019-02-11 19:49:29+00:00</td>\n",
       "      <td>comment</td>\n",
       "    </tr>\n",
       "    <tr>\n",
       "      <th>439</th>\n",
       "      <td>&lt;NA&gt;</td>\n",
       "      <td>&amp;gt; This article is a bit comical to read and...</td>\n",
       "      <td>lapcat</td>\n",
       "      <td>&lt;NA&gt;</td>\n",
       "      <td>2023-01-02 16:00:49+00:00</td>\n",
       "      <td>comment</td>\n",
       "    </tr>\n",
       "    <tr>\n",
       "      <th>446</th>\n",
       "      <td>&lt;NA&gt;</td>\n",
       "      <td>Large positions are most likely sold off in sm...</td>\n",
       "      <td>meowkit</td>\n",
       "      <td>&lt;NA&gt;</td>\n",
       "      <td>2021-01-27 23:22:48+00:00</td>\n",
       "      <td>comment</td>\n",
       "    </tr>\n",
       "    <tr>\n",
       "      <th>468</th>\n",
       "      <td>&lt;NA&gt;</td>\n",
       "      <td>I, for one, appreciate that this is a mainstre...</td>\n",
       "      <td>white-flame</td>\n",
       "      <td>&lt;NA&gt;</td>\n",
       "      <td>2015-04-27 05:15:28+00:00</td>\n",
       "      <td>comment</td>\n",
       "    </tr>\n",
       "    <tr>\n",
       "      <th>500</th>\n",
       "      <td>&lt;NA&gt;</td>\n",
       "      <td>A US-based VPN (or really any VPN) is only goi...</td>\n",
       "      <td>RandomBacon</td>\n",
       "      <td>&lt;NA&gt;</td>\n",
       "      <td>2019-04-05 00:58:58+00:00</td>\n",
       "      <td>comment</td>\n",
       "    </tr>\n",
       "    <tr>\n",
       "      <th>533</th>\n",
       "      <td>&lt;NA&gt;</td>\n",
       "      <td>&lt;a href=\"https:&amp;#x2F;&amp;#x2F;codeberg.org&amp;#x2F;A...</td>\n",
       "      <td>ElectronBadger</td>\n",
       "      <td>&lt;NA&gt;</td>\n",
       "      <td>2023-12-13 08:13:15+00:00</td>\n",
       "      <td>comment</td>\n",
       "    </tr>\n",
       "    <tr>\n",
       "      <th>554</th>\n",
       "      <td>&lt;NA&gt;</td>\n",
       "      <td>It’s much harder for people without hands to w...</td>\n",
       "      <td>Aeolun</td>\n",
       "      <td>&lt;NA&gt;</td>\n",
       "      <td>2024-05-03 11:58:13+00:00</td>\n",
       "      <td>comment</td>\n",
       "    </tr>\n",
       "    <tr>\n",
       "      <th>601</th>\n",
       "      <td>&lt;NA&gt;</td>\n",
       "      <td>So by using ADMIN_SL0T instead was it just set...</td>\n",
       "      <td>minitoar</td>\n",
       "      <td>&lt;NA&gt;</td>\n",
       "      <td>2021-03-05 16:07:56+00:00</td>\n",
       "      <td>comment</td>\n",
       "    </tr>\n",
       "    <tr>\n",
       "      <th>634</th>\n",
       "      <td>&lt;NA&gt;</td>\n",
       "      <td>How are guitar playing skills useful if you do...</td>\n",
       "      <td>Yajirobe</td>\n",
       "      <td>&lt;NA&gt;</td>\n",
       "      <td>2019-06-14 10:18:19+00:00</td>\n",
       "      <td>comment</td>\n",
       "    </tr>\n",
       "  </tbody>\n",
       "</table>\n",
       "<p>25 rows × 6 columns</p>\n",
       "</div>[130 rows x 6 columns in total]"
      ],
      "text/plain": [
       "                            title  \\\n",
       "24   Working Best at Coffee Shops   \n",
       "96                           <NA>   \n",
       "106                          <NA>   \n",
       "184                          <NA>   \n",
       "204                          <NA>   \n",
       "223                          <NA>   \n",
       "284                          <NA>   \n",
       "297                          <NA>   \n",
       "306                          <NA>   \n",
       "316                          <NA>   \n",
       "386                          <NA>   \n",
       "391                          <NA>   \n",
       "417                          <NA>   \n",
       "421                          <NA>   \n",
       "422                          <NA>   \n",
       "429                          <NA>   \n",
       "431                          <NA>   \n",
       "439                          <NA>   \n",
       "446                          <NA>   \n",
       "468                          <NA>   \n",
       "500                          <NA>   \n",
       "533                          <NA>   \n",
       "554                          <NA>   \n",
       "601                          <NA>   \n",
       "634                          <NA>   \n",
       "\n",
       "                                                  text               by  \\\n",
       "24                                                <NA>   GiraffeNecktie   \n",
       "96   i resisted switching to chrome for months beca...         catshirt   \n",
       "106  I was about to say the same thing myself. For ...         geophile   \n",
       "184  I think it&#x27;s more than hazing. It may be ...    bayesianhorse   \n",
       "204  I like the idea of moving that arrow the way h...          rattray   \n",
       "223  I don&#x27;t understand why a beginner would s...            wolco   \n",
       "284  I leaerned more with one minute of this than a...        agumonkey   \n",
       "297  I've suggested a <i>rationale</i> for the tabo...  mechanical_fish   \n",
       "306  Do you have any reference for this?<p>I&#x27;m...        banashark   \n",
       "316  Default search scope is an option in the Finde...      kitsunesoba   \n",
       "386     Orthogonality and biology aren&#x27;t friends.        agumonkey   \n",
       "391  I chose some random physics book that was good...            prawn   \n",
       "417  Seeing this get huge on Twitter. It&#x27;s the...      shenanigoat   \n",
       "421  Looking through the comments there are a numbe...           moomin   \n",
       "422  Legacy media is a tough business. GBTC is payi...       arcticbull   \n",
       "429  Same thing if you sell unsafe food, yet we hav...      jabradoodle   \n",
       "431  There was briefly a thing called HSCSD (&quot;...      LeoPanthera   \n",
       "439  &gt; This article is a bit comical to read and...           lapcat   \n",
       "446  Large positions are most likely sold off in sm...          meowkit   \n",
       "468  I, for one, appreciate that this is a mainstre...      white-flame   \n",
       "500  A US-based VPN (or really any VPN) is only goi...      RandomBacon   \n",
       "533  <a href=\"https:&#x2F;&#x2F;codeberg.org&#x2F;A...   ElectronBadger   \n",
       "554  It’s much harder for people without hands to w...           Aeolun   \n",
       "601  So by using ADMIN_SL0T instead was it just set...         minitoar   \n",
       "634  How are guitar playing skills useful if you do...         Yajirobe   \n",
       "\n",
       "     score                  timestamp     type  \n",
       "24     249  2011-04-19 14:25:17+00:00    story  \n",
       "96    <NA>  2011-04-06 08:02:24+00:00  comment  \n",
       "106   <NA>  2011-12-08 21:13:08+00:00  comment  \n",
       "184   <NA>  2015-06-18 16:42:53+00:00  comment  \n",
       "204   <NA>  2015-06-08 02:15:30+00:00  comment  \n",
       "223   <NA>  2019-02-03 14:35:43+00:00  comment  \n",
       "284   <NA>  2016-07-16 06:19:39+00:00  comment  \n",
       "297   <NA>  2008-12-17 04:42:02+00:00  comment  \n",
       "306   <NA>  2023-11-13 19:57:00+00:00  comment  \n",
       "316   <NA>  2017-08-13 17:15:19+00:00  comment  \n",
       "386   <NA>  2016-04-24 16:33:41+00:00  comment  \n",
       "391   <NA>  2011-03-27 22:29:51+00:00  comment  \n",
       "417   <NA>  2016-01-09 03:04:22+00:00  comment  \n",
       "421   <NA>  2024-10-01 14:37:04+00:00  comment  \n",
       "422   <NA>  2021-04-16 16:30:33+00:00  comment  \n",
       "429   <NA>  2023-08-03 20:47:52+00:00  comment  \n",
       "431   <NA>  2019-02-11 19:49:29+00:00  comment  \n",
       "439   <NA>  2023-01-02 16:00:49+00:00  comment  \n",
       "446   <NA>  2021-01-27 23:22:48+00:00  comment  \n",
       "468   <NA>  2015-04-27 05:15:28+00:00  comment  \n",
       "500   <NA>  2019-04-05 00:58:58+00:00  comment  \n",
       "533   <NA>  2023-12-13 08:13:15+00:00  comment  \n",
       "554   <NA>  2024-05-03 11:58:13+00:00  comment  \n",
       "601   <NA>  2021-03-05 16:07:56+00:00  comment  \n",
       "634   <NA>  2019-06-14 10:18:19+00:00  comment  \n",
       "...\n",
       "\n",
       "[130 rows x 6 columns]"
      ]
     },
     "execution_count": 7,
     "metadata": {},
     "output_type": "execute_result"
    }
   ],
   "source": [
    "hacker_news.semantics.filter(\"{by} contains animal name\", model=gemini_model)"
   ]
  },
  {
   "cell_type": "markdown",
   "metadata": {},
   "source": [
    "Here are my performance numbers:\n",
    "* 3000 rows -> 6m 9.2s\n",
    "* 10000 rows -> 26m 42.4s"
   ]
  }
 ],
 "metadata": {
  "kernelspec": {
   "display_name": "venv",
   "language": "python",
   "name": "python3"
  },
  "language_info": {
   "codemirror_mode": {
    "name": "ipython",
    "version": 3
   },
   "file_extension": ".py",
   "mimetype": "text/x-python",
   "name": "python",
   "nbconvert_exporter": "python",
   "pygments_lexer": "ipython3",
   "version": "3.12.1"
  }
 },
 "nbformat": 4,
 "nbformat_minor": 2
}
