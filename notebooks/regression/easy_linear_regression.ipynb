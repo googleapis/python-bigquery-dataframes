{
 "cells": [
  {
   "attachments": {},
   "cell_type": "markdown",
   "metadata": {},
   "source": [
    "# Using ML - Easy linear regression\n",
    "\n",
    "This demo shows BigQuery DataFrames ML providing an SKLearn-like experience for\n",
    "training a linear regression model.\n",
    "\n",
    "In this \"easy\" version of linear regression, we use a couple of BQML features to simplify our code:\n",
    "\n",
    "- We rely on automatic preprocessing to encode string values and scale numeric values\n",
    "- We rely on automatic data split & evaluation to test the model\n",
    "\n",
    "This example is adapted from the [BQML linear regression tutorial](https://cloud.google.com/bigquery-ml/docs/linear-regression-tutorial)."
   ]
  },
  {
   "attachments": {},
   "cell_type": "markdown",
   "metadata": {},
   "source": [
    "## 1. Init & load data"
   ]
  },
  {
   "cell_type": "code",
   "execution_count": 20,
   "metadata": {},
   "outputs": [
    {
     "data": {
      "application/vnd.jupyter.widget-view+json": {
       "model_id": "ffc6d6c7815a4a92903a08a11af6db11",
       "version_major": 2,
       "version_minor": 0
      },
      "text/plain": [
       "HTML(value='Query job d1e085ba-66d8-4631-bb51-50a17d0a6e51 is RUNNING. <a target=\"_blank\" href=\"https://consol…"
      ]
     },
     "metadata": {},
     "output_type": "display_data"
    },
    {
     "data": {
      "application/vnd.jupyter.widget-view+json": {
       "model_id": "460f64979bc544a7bcdd2206ca1d3067",
       "version_major": 2,
       "version_minor": 0
      },
      "text/plain": [
       "HTML(value='Query job 4468d93d-c22c-43f4-a09b-262b5b830c0e is RUNNING. <a target=\"_blank\" href=\"https://consol…"
      ]
     },
     "metadata": {},
     "output_type": "display_data"
    },
    {
     "data": {
      "application/vnd.jupyter.widget-view+json": {
       "model_id": "9f6d3b4d6af3424f9ff2c434f0c3d00e",
       "version_major": 2,
       "version_minor": 0
      },
      "text/plain": [
       "HTML(value='Query job 8fe1dc50-9d32-4466-9c2b-76d32cbde7c5 is DONE. 0 Bytes processed. <a target=\"_blank\" href…"
      ]
     },
     "metadata": {},
     "output_type": "display_data"
    },
    {
     "data": {
      "application/vnd.jupyter.widget-view+json": {
       "model_id": "042c351aa0944eeeab8b36254f88c072",
       "version_major": 2,
       "version_minor": 0
      },
      "text/plain": [
       "HTML(value='Query job e40d99ae-1b3a-4a12-b4be-e264af8b22e5 is RUNNING. <a target=\"_blank\" href=\"https://consol…"
      ]
     },
     "metadata": {},
     "output_type": "display_data"
    },
    {
     "data": {
      "text/html": [
       "<div>\n",
       "<style scoped>\n",
       "    .dataframe tbody tr th:only-of-type {\n",
       "        vertical-align: middle;\n",
       "    }\n",
       "\n",
       "    .dataframe tbody tr th {\n",
       "        vertical-align: top;\n",
       "    }\n",
       "\n",
       "    .dataframe thead th {\n",
       "        text-align: right;\n",
       "    }\n",
       "</style>\n",
       "<table border=\"1\" class=\"dataframe\">\n",
       "  <thead>\n",
       "    <tr style=\"text-align: right;\">\n",
       "      <th></th>\n",
       "      <th>species</th>\n",
       "      <th>island</th>\n",
       "      <th>culmen_length_mm</th>\n",
       "      <th>culmen_depth_mm</th>\n",
       "      <th>flipper_length_mm</th>\n",
       "      <th>body_mass_g</th>\n",
       "      <th>sex</th>\n",
       "    </tr>\n",
       "  </thead>\n",
       "  <tbody>\n",
       "    <tr>\n",
       "      <th>0</th>\n",
       "      <td>Adelie Penguin (Pygoscelis adeliae)</td>\n",
       "      <td>Dream</td>\n",
       "      <td>36.6</td>\n",
       "      <td>18.4</td>\n",
       "      <td>184.0</td>\n",
       "      <td>3475.0</td>\n",
       "      <td>FEMALE</td>\n",
       "    </tr>\n",
       "    <tr>\n",
       "      <th>1</th>\n",
       "      <td>Adelie Penguin (Pygoscelis adeliae)</td>\n",
       "      <td>Dream</td>\n",
       "      <td>39.8</td>\n",
       "      <td>19.1</td>\n",
       "      <td>184.0</td>\n",
       "      <td>4650.0</td>\n",
       "      <td>MALE</td>\n",
       "    </tr>\n",
       "    <tr>\n",
       "      <th>2</th>\n",
       "      <td>Adelie Penguin (Pygoscelis adeliae)</td>\n",
       "      <td>Dream</td>\n",
       "      <td>40.9</td>\n",
       "      <td>18.9</td>\n",
       "      <td>184.0</td>\n",
       "      <td>3900.0</td>\n",
       "      <td>MALE</td>\n",
       "    </tr>\n",
       "    <tr>\n",
       "      <th>3</th>\n",
       "      <td>Chinstrap penguin (Pygoscelis antarctica)</td>\n",
       "      <td>Dream</td>\n",
       "      <td>46.5</td>\n",
       "      <td>17.9</td>\n",
       "      <td>192.0</td>\n",
       "      <td>3500.0</td>\n",
       "      <td>FEMALE</td>\n",
       "    </tr>\n",
       "    <tr>\n",
       "      <th>4</th>\n",
       "      <td>Adelie Penguin (Pygoscelis adeliae)</td>\n",
       "      <td>Dream</td>\n",
       "      <td>37.3</td>\n",
       "      <td>16.8</td>\n",
       "      <td>192.0</td>\n",
       "      <td>3000.0</td>\n",
       "      <td>FEMALE</td>\n",
       "    </tr>\n",
       "    <tr>\n",
       "      <th>5</th>\n",
       "      <td>Adelie Penguin (Pygoscelis adeliae)</td>\n",
       "      <td>Dream</td>\n",
       "      <td>43.2</td>\n",
       "      <td>18.5</td>\n",
       "      <td>192.0</td>\n",
       "      <td>4100.0</td>\n",
       "      <td>MALE</td>\n",
       "    </tr>\n",
       "    <tr>\n",
       "      <th>6</th>\n",
       "      <td>Chinstrap penguin (Pygoscelis antarctica)</td>\n",
       "      <td>Dream</td>\n",
       "      <td>46.9</td>\n",
       "      <td>16.6</td>\n",
       "      <td>192.0</td>\n",
       "      <td>2700.0</td>\n",
       "      <td>FEMALE</td>\n",
       "    </tr>\n",
       "    <tr>\n",
       "      <th>7</th>\n",
       "      <td>Chinstrap penguin (Pygoscelis antarctica)</td>\n",
       "      <td>Dream</td>\n",
       "      <td>50.5</td>\n",
       "      <td>18.4</td>\n",
       "      <td>200.0</td>\n",
       "      <td>3400.0</td>\n",
       "      <td>FEMALE</td>\n",
       "    </tr>\n",
       "    <tr>\n",
       "      <th>8</th>\n",
       "      <td>Chinstrap penguin (Pygoscelis antarctica)</td>\n",
       "      <td>Dream</td>\n",
       "      <td>49.5</td>\n",
       "      <td>19.0</td>\n",
       "      <td>200.0</td>\n",
       "      <td>3800.0</td>\n",
       "      <td>MALE</td>\n",
       "    </tr>\n",
       "    <tr>\n",
       "      <th>9</th>\n",
       "      <td>Adelie Penguin (Pygoscelis adeliae)</td>\n",
       "      <td>Dream</td>\n",
       "      <td>40.2</td>\n",
       "      <td>20.1</td>\n",
       "      <td>200.0</td>\n",
       "      <td>3975.0</td>\n",
       "      <td>MALE</td>\n",
       "    </tr>\n",
       "    <tr>\n",
       "      <th>10</th>\n",
       "      <td>Adelie Penguin (Pygoscelis adeliae)</td>\n",
       "      <td>Dream</td>\n",
       "      <td>40.8</td>\n",
       "      <td>18.9</td>\n",
       "      <td>208.0</td>\n",
       "      <td>4300.0</td>\n",
       "      <td>MALE</td>\n",
       "    </tr>\n",
       "    <tr>\n",
       "      <th>11</th>\n",
       "      <td>Adelie Penguin (Pygoscelis adeliae)</td>\n",
       "      <td>Dream</td>\n",
       "      <td>39.0</td>\n",
       "      <td>18.7</td>\n",
       "      <td>185.0</td>\n",
       "      <td>3650.0</td>\n",
       "      <td>MALE</td>\n",
       "    </tr>\n",
       "    <tr>\n",
       "      <th>12</th>\n",
       "      <td>Adelie Penguin (Pygoscelis adeliae)</td>\n",
       "      <td>Dream</td>\n",
       "      <td>37.0</td>\n",
       "      <td>16.9</td>\n",
       "      <td>185.0</td>\n",
       "      <td>3000.0</td>\n",
       "      <td>FEMALE</td>\n",
       "    </tr>\n",
       "    <tr>\n",
       "      <th>13</th>\n",
       "      <td>Chinstrap penguin (Pygoscelis antarctica)</td>\n",
       "      <td>Dream</td>\n",
       "      <td>47.0</td>\n",
       "      <td>17.3</td>\n",
       "      <td>185.0</td>\n",
       "      <td>3700.0</td>\n",
       "      <td>FEMALE</td>\n",
       "    </tr>\n",
       "    <tr>\n",
       "      <th>14</th>\n",
       "      <td>Adelie Penguin (Pygoscelis adeliae)</td>\n",
       "      <td>Dream</td>\n",
       "      <td>34.0</td>\n",
       "      <td>17.1</td>\n",
       "      <td>185.0</td>\n",
       "      <td>3400.0</td>\n",
       "      <td>FEMALE</td>\n",
       "    </tr>\n",
       "    <tr>\n",
       "      <th>15</th>\n",
       "      <td>Adelie Penguin (Pygoscelis adeliae)</td>\n",
       "      <td>Dream</td>\n",
       "      <td>37.0</td>\n",
       "      <td>16.5</td>\n",
       "      <td>185.0</td>\n",
       "      <td>3400.0</td>\n",
       "      <td>FEMALE</td>\n",
       "    </tr>\n",
       "    <tr>\n",
       "      <th>16</th>\n",
       "      <td>Chinstrap penguin (Pygoscelis antarctica)</td>\n",
       "      <td>Dream</td>\n",
       "      <td>45.7</td>\n",
       "      <td>17.3</td>\n",
       "      <td>193.0</td>\n",
       "      <td>3600.0</td>\n",
       "      <td>FEMALE</td>\n",
       "    </tr>\n",
       "    <tr>\n",
       "      <th>17</th>\n",
       "      <td>Chinstrap penguin (Pygoscelis antarctica)</td>\n",
       "      <td>Dream</td>\n",
       "      <td>50.6</td>\n",
       "      <td>19.4</td>\n",
       "      <td>193.0</td>\n",
       "      <td>3800.0</td>\n",
       "      <td>MALE</td>\n",
       "    </tr>\n",
       "    <tr>\n",
       "      <th>18</th>\n",
       "      <td>Adelie Penguin (Pygoscelis adeliae)</td>\n",
       "      <td>Dream</td>\n",
       "      <td>39.7</td>\n",
       "      <td>17.9</td>\n",
       "      <td>193.0</td>\n",
       "      <td>4250.0</td>\n",
       "      <td>MALE</td>\n",
       "    </tr>\n",
       "    <tr>\n",
       "      <th>19</th>\n",
       "      <td>Adelie Penguin (Pygoscelis adeliae)</td>\n",
       "      <td>Dream</td>\n",
       "      <td>37.8</td>\n",
       "      <td>18.1</td>\n",
       "      <td>193.0</td>\n",
       "      <td>3750.0</td>\n",
       "      <td>MALE</td>\n",
       "    </tr>\n",
       "    <tr>\n",
       "      <th>20</th>\n",
       "      <td>Chinstrap penguin (Pygoscelis antarctica)</td>\n",
       "      <td>Dream</td>\n",
       "      <td>46.6</td>\n",
       "      <td>17.8</td>\n",
       "      <td>193.0</td>\n",
       "      <td>3800.0</td>\n",
       "      <td>FEMALE</td>\n",
       "    </tr>\n",
       "    <tr>\n",
       "      <th>21</th>\n",
       "      <td>Chinstrap penguin (Pygoscelis antarctica)</td>\n",
       "      <td>Dream</td>\n",
       "      <td>51.3</td>\n",
       "      <td>19.2</td>\n",
       "      <td>193.0</td>\n",
       "      <td>3650.0</td>\n",
       "      <td>MALE</td>\n",
       "    </tr>\n",
       "    <tr>\n",
       "      <th>22</th>\n",
       "      <td>Adelie Penguin (Pygoscelis adeliae)</td>\n",
       "      <td>Dream</td>\n",
       "      <td>40.2</td>\n",
       "      <td>17.1</td>\n",
       "      <td>193.0</td>\n",
       "      <td>3400.0</td>\n",
       "      <td>FEMALE</td>\n",
       "    </tr>\n",
       "    <tr>\n",
       "      <th>23</th>\n",
       "      <td>Adelie Penguin (Pygoscelis adeliae)</td>\n",
       "      <td>Dream</td>\n",
       "      <td>36.8</td>\n",
       "      <td>18.5</td>\n",
       "      <td>193.0</td>\n",
       "      <td>3500.0</td>\n",
       "      <td>FEMALE</td>\n",
       "    </tr>\n",
       "    <tr>\n",
       "      <th>24</th>\n",
       "      <td>Chinstrap penguin (Pygoscelis antarctica)</td>\n",
       "      <td>Dream</td>\n",
       "      <td>49.6</td>\n",
       "      <td>18.2</td>\n",
       "      <td>193.0</td>\n",
       "      <td>3775.0</td>\n",
       "      <td>MALE</td>\n",
       "    </tr>\n",
       "  </tbody>\n",
       "</table>\n",
       "<p>25 rows × 7 columns</p>\n",
       "</div>[344 rows x 7 columns in total]"
      ],
      "text/plain": [
       "                                      species island  culmen_length_mm  \\\n",
       "0         Adelie Penguin (Pygoscelis adeliae)  Dream              36.6   \n",
       "1         Adelie Penguin (Pygoscelis adeliae)  Dream              39.8   \n",
       "2         Adelie Penguin (Pygoscelis adeliae)  Dream              40.9   \n",
       "3   Chinstrap penguin (Pygoscelis antarctica)  Dream              46.5   \n",
       "4         Adelie Penguin (Pygoscelis adeliae)  Dream              37.3   \n",
       "5         Adelie Penguin (Pygoscelis adeliae)  Dream              43.2   \n",
       "6   Chinstrap penguin (Pygoscelis antarctica)  Dream              46.9   \n",
       "7   Chinstrap penguin (Pygoscelis antarctica)  Dream              50.5   \n",
       "8   Chinstrap penguin (Pygoscelis antarctica)  Dream              49.5   \n",
       "9         Adelie Penguin (Pygoscelis adeliae)  Dream              40.2   \n",
       "10        Adelie Penguin (Pygoscelis adeliae)  Dream              40.8   \n",
       "11        Adelie Penguin (Pygoscelis adeliae)  Dream              39.0   \n",
       "12        Adelie Penguin (Pygoscelis adeliae)  Dream              37.0   \n",
       "13  Chinstrap penguin (Pygoscelis antarctica)  Dream              47.0   \n",
       "14        Adelie Penguin (Pygoscelis adeliae)  Dream              34.0   \n",
       "15        Adelie Penguin (Pygoscelis adeliae)  Dream              37.0   \n",
       "16  Chinstrap penguin (Pygoscelis antarctica)  Dream              45.7   \n",
       "17  Chinstrap penguin (Pygoscelis antarctica)  Dream              50.6   \n",
       "18        Adelie Penguin (Pygoscelis adeliae)  Dream              39.7   \n",
       "19        Adelie Penguin (Pygoscelis adeliae)  Dream              37.8   \n",
       "20  Chinstrap penguin (Pygoscelis antarctica)  Dream              46.6   \n",
       "21  Chinstrap penguin (Pygoscelis antarctica)  Dream              51.3   \n",
       "22        Adelie Penguin (Pygoscelis adeliae)  Dream              40.2   \n",
       "23        Adelie Penguin (Pygoscelis adeliae)  Dream              36.8   \n",
       "24  Chinstrap penguin (Pygoscelis antarctica)  Dream              49.6   \n",
       "\n",
       "    culmen_depth_mm  flipper_length_mm  body_mass_g     sex  \n",
       "0              18.4              184.0       3475.0  FEMALE  \n",
       "1              19.1              184.0       4650.0    MALE  \n",
       "2              18.9              184.0       3900.0    MALE  \n",
       "3              17.9              192.0       3500.0  FEMALE  \n",
       "4              16.8              192.0       3000.0  FEMALE  \n",
       "5              18.5              192.0       4100.0    MALE  \n",
       "6              16.6              192.0       2700.0  FEMALE  \n",
       "7              18.4              200.0       3400.0  FEMALE  \n",
       "8              19.0              200.0       3800.0    MALE  \n",
       "9              20.1              200.0       3975.0    MALE  \n",
       "10             18.9              208.0       4300.0    MALE  \n",
       "11             18.7              185.0       3650.0    MALE  \n",
       "12             16.9              185.0       3000.0  FEMALE  \n",
       "13             17.3              185.0       3700.0  FEMALE  \n",
       "14             17.1              185.0       3400.0  FEMALE  \n",
       "15             16.5              185.0       3400.0  FEMALE  \n",
       "16             17.3              193.0       3600.0  FEMALE  \n",
       "17             19.4              193.0       3800.0    MALE  \n",
       "18             17.9              193.0       4250.0    MALE  \n",
       "19             18.1              193.0       3750.0    MALE  \n",
       "20             17.8              193.0       3800.0  FEMALE  \n",
       "21             19.2              193.0       3650.0    MALE  \n",
       "22             17.1              193.0       3400.0  FEMALE  \n",
       "23             18.5              193.0       3500.0  FEMALE  \n",
       "24             18.2              193.0       3775.0    MALE  \n",
       "...\n",
       "\n",
       "[344 rows x 7 columns]"
      ]
     },
     "execution_count": 20,
     "metadata": {},
     "output_type": "execute_result"
    }
   ],
   "source": [
    "import bigframes.pandas\n",
    "\n",
    "# read a BigQuery table to a BigQuery DataFrame\n",
    "df = bigframes.pandas.read_gbq(\"bigframes-dev.bqml_tutorial.penguins\")\n",
    "\n",
    "# take a peek at the dataframe\n",
    "df"
   ]
  },
  {
   "attachments": {},
   "cell_type": "markdown",
   "metadata": {},
   "source": [
    "## 2. Data cleaning / prep"
   ]
  },
  {
   "cell_type": "code",
   "execution_count": 21,
   "metadata": {},
   "outputs": [
    {
     "data": {
      "application/vnd.jupyter.widget-view+json": {
       "model_id": "0ddb322731fe4b80b2904e1610862c31",
       "version_major": 2,
       "version_minor": 0
      },
      "text/plain": [
       "HTML(value='Query job 7d289291-5c60-4d8f-b476-e46cb2ab06a7 is DONE. 28.9 kB processed. <a target=\"_blank\" href…"
      ]
     },
     "metadata": {},
     "output_type": "display_data"
    },
    {
     "data": {
      "application/vnd.jupyter.widget-view+json": {
       "model_id": "9f91e7a3d7ed416096d7660a110e0eab",
       "version_major": 2,
       "version_minor": 0
      },
      "text/plain": [
       "HTML(value='Query job 8411db98-9ec3-4655-a40f-f9bf272e2403 is RUNNING. <a target=\"_blank\" href=\"https://consol…"
      ]
     },
     "metadata": {},
     "output_type": "display_data"
    },
    {
     "data": {
      "text/html": [
       "<div>\n",
       "<style scoped>\n",
       "    .dataframe tbody tr th:only-of-type {\n",
       "        vertical-align: middle;\n",
       "    }\n",
       "\n",
       "    .dataframe tbody tr th {\n",
       "        vertical-align: top;\n",
       "    }\n",
       "\n",
       "    .dataframe thead th {\n",
       "        text-align: right;\n",
       "    }\n",
       "</style>\n",
       "<table border=\"1\" class=\"dataframe\">\n",
       "  <thead>\n",
       "    <tr style=\"text-align: right;\">\n",
       "      <th></th>\n",
       "      <th>island</th>\n",
       "      <th>culmen_length_mm</th>\n",
       "      <th>culmen_depth_mm</th>\n",
       "      <th>flipper_length_mm</th>\n",
       "      <th>body_mass_g</th>\n",
       "      <th>sex</th>\n",
       "    </tr>\n",
       "  </thead>\n",
       "  <tbody>\n",
       "    <tr>\n",
       "      <th>0</th>\n",
       "      <td>Dream</td>\n",
       "      <td>36.6</td>\n",
       "      <td>18.4</td>\n",
       "      <td>184.0</td>\n",
       "      <td>3475.0</td>\n",
       "      <td>FEMALE</td>\n",
       "    </tr>\n",
       "    <tr>\n",
       "      <th>1</th>\n",
       "      <td>Dream</td>\n",
       "      <td>39.8</td>\n",
       "      <td>19.1</td>\n",
       "      <td>184.0</td>\n",
       "      <td>4650.0</td>\n",
       "      <td>MALE</td>\n",
       "    </tr>\n",
       "    <tr>\n",
       "      <th>2</th>\n",
       "      <td>Dream</td>\n",
       "      <td>40.9</td>\n",
       "      <td>18.9</td>\n",
       "      <td>184.0</td>\n",
       "      <td>3900.0</td>\n",
       "      <td>MALE</td>\n",
       "    </tr>\n",
       "    <tr>\n",
       "      <th>4</th>\n",
       "      <td>Dream</td>\n",
       "      <td>37.3</td>\n",
       "      <td>16.8</td>\n",
       "      <td>192.0</td>\n",
       "      <td>3000.0</td>\n",
       "      <td>FEMALE</td>\n",
       "    </tr>\n",
       "    <tr>\n",
       "      <th>5</th>\n",
       "      <td>Dream</td>\n",
       "      <td>43.2</td>\n",
       "      <td>18.5</td>\n",
       "      <td>192.0</td>\n",
       "      <td>4100.0</td>\n",
       "      <td>MALE</td>\n",
       "    </tr>\n",
       "    <tr>\n",
       "      <th>9</th>\n",
       "      <td>Dream</td>\n",
       "      <td>40.2</td>\n",
       "      <td>20.1</td>\n",
       "      <td>200.0</td>\n",
       "      <td>3975.0</td>\n",
       "      <td>MALE</td>\n",
       "    </tr>\n",
       "    <tr>\n",
       "      <th>10</th>\n",
       "      <td>Dream</td>\n",
       "      <td>40.8</td>\n",
       "      <td>18.9</td>\n",
       "      <td>208.0</td>\n",
       "      <td>4300.0</td>\n",
       "      <td>MALE</td>\n",
       "    </tr>\n",
       "    <tr>\n",
       "      <th>11</th>\n",
       "      <td>Dream</td>\n",
       "      <td>39.0</td>\n",
       "      <td>18.7</td>\n",
       "      <td>185.0</td>\n",
       "      <td>3650.0</td>\n",
       "      <td>MALE</td>\n",
       "    </tr>\n",
       "    <tr>\n",
       "      <th>12</th>\n",
       "      <td>Dream</td>\n",
       "      <td>37.0</td>\n",
       "      <td>16.9</td>\n",
       "      <td>185.0</td>\n",
       "      <td>3000.0</td>\n",
       "      <td>FEMALE</td>\n",
       "    </tr>\n",
       "    <tr>\n",
       "      <th>14</th>\n",
       "      <td>Dream</td>\n",
       "      <td>34.0</td>\n",
       "      <td>17.1</td>\n",
       "      <td>185.0</td>\n",
       "      <td>3400.0</td>\n",
       "      <td>FEMALE</td>\n",
       "    </tr>\n",
       "    <tr>\n",
       "      <th>15</th>\n",
       "      <td>Dream</td>\n",
       "      <td>37.0</td>\n",
       "      <td>16.5</td>\n",
       "      <td>185.0</td>\n",
       "      <td>3400.0</td>\n",
       "      <td>FEMALE</td>\n",
       "    </tr>\n",
       "    <tr>\n",
       "      <th>18</th>\n",
       "      <td>Dream</td>\n",
       "      <td>39.7</td>\n",
       "      <td>17.9</td>\n",
       "      <td>193.0</td>\n",
       "      <td>4250.0</td>\n",
       "      <td>MALE</td>\n",
       "    </tr>\n",
       "    <tr>\n",
       "      <th>19</th>\n",
       "      <td>Dream</td>\n",
       "      <td>37.8</td>\n",
       "      <td>18.1</td>\n",
       "      <td>193.0</td>\n",
       "      <td>3750.0</td>\n",
       "      <td>MALE</td>\n",
       "    </tr>\n",
       "    <tr>\n",
       "      <th>22</th>\n",
       "      <td>Dream</td>\n",
       "      <td>40.2</td>\n",
       "      <td>17.1</td>\n",
       "      <td>193.0</td>\n",
       "      <td>3400.0</td>\n",
       "      <td>FEMALE</td>\n",
       "    </tr>\n",
       "    <tr>\n",
       "      <th>23</th>\n",
       "      <td>Dream</td>\n",
       "      <td>36.8</td>\n",
       "      <td>18.5</td>\n",
       "      <td>193.0</td>\n",
       "      <td>3500.0</td>\n",
       "      <td>FEMALE</td>\n",
       "    </tr>\n",
       "    <tr>\n",
       "      <th>26</th>\n",
       "      <td>Dream</td>\n",
       "      <td>41.5</td>\n",
       "      <td>18.5</td>\n",
       "      <td>201.0</td>\n",
       "      <td>4000.0</td>\n",
       "      <td>MALE</td>\n",
       "    </tr>\n",
       "    <tr>\n",
       "      <th>31</th>\n",
       "      <td>Dream</td>\n",
       "      <td>33.1</td>\n",
       "      <td>16.1</td>\n",
       "      <td>178.0</td>\n",
       "      <td>2900.0</td>\n",
       "      <td>FEMALE</td>\n",
       "    </tr>\n",
       "    <tr>\n",
       "      <th>32</th>\n",
       "      <td>Dream</td>\n",
       "      <td>37.2</td>\n",
       "      <td>18.1</td>\n",
       "      <td>178.0</td>\n",
       "      <td>3900.0</td>\n",
       "      <td>MALE</td>\n",
       "    </tr>\n",
       "    <tr>\n",
       "      <th>33</th>\n",
       "      <td>Dream</td>\n",
       "      <td>39.5</td>\n",
       "      <td>16.7</td>\n",
       "      <td>178.0</td>\n",
       "      <td>3250.0</td>\n",
       "      <td>FEMALE</td>\n",
       "    </tr>\n",
       "    <tr>\n",
       "      <th>35</th>\n",
       "      <td>Dream</td>\n",
       "      <td>36.0</td>\n",
       "      <td>18.5</td>\n",
       "      <td>186.0</td>\n",
       "      <td>3100.0</td>\n",
       "      <td>FEMALE</td>\n",
       "    </tr>\n",
       "    <tr>\n",
       "      <th>36</th>\n",
       "      <td>Dream</td>\n",
       "      <td>39.6</td>\n",
       "      <td>18.1</td>\n",
       "      <td>186.0</td>\n",
       "      <td>4450.0</td>\n",
       "      <td>MALE</td>\n",
       "    </tr>\n",
       "    <tr>\n",
       "      <th>38</th>\n",
       "      <td>Dream</td>\n",
       "      <td>41.3</td>\n",
       "      <td>20.3</td>\n",
       "      <td>194.0</td>\n",
       "      <td>3550.0</td>\n",
       "      <td>MALE</td>\n",
       "    </tr>\n",
       "    <tr>\n",
       "      <th>41</th>\n",
       "      <td>Dream</td>\n",
       "      <td>35.7</td>\n",
       "      <td>18.0</td>\n",
       "      <td>202.0</td>\n",
       "      <td>3550.0</td>\n",
       "      <td>FEMALE</td>\n",
       "    </tr>\n",
       "    <tr>\n",
       "      <th>51</th>\n",
       "      <td>Dream</td>\n",
       "      <td>38.1</td>\n",
       "      <td>17.6</td>\n",
       "      <td>187.0</td>\n",
       "      <td>3425.0</td>\n",
       "      <td>FEMALE</td>\n",
       "    </tr>\n",
       "    <tr>\n",
       "      <th>53</th>\n",
       "      <td>Dream</td>\n",
       "      <td>36.0</td>\n",
       "      <td>17.1</td>\n",
       "      <td>187.0</td>\n",
       "      <td>3700.0</td>\n",
       "      <td>FEMALE</td>\n",
       "    </tr>\n",
       "  </tbody>\n",
       "</table>\n",
       "<p>25 rows × 6 columns</p>\n",
       "</div>[146 rows x 6 columns in total]"
      ],
      "text/plain": [
       "   island  culmen_length_mm  culmen_depth_mm  flipper_length_mm  body_mass_g  \\\n",
       "0   Dream              36.6             18.4              184.0       3475.0   \n",
       "1   Dream              39.8             19.1              184.0       4650.0   \n",
       "2   Dream              40.9             18.9              184.0       3900.0   \n",
       "4   Dream              37.3             16.8              192.0       3000.0   \n",
       "5   Dream              43.2             18.5              192.0       4100.0   \n",
       "9   Dream              40.2             20.1              200.0       3975.0   \n",
       "10  Dream              40.8             18.9              208.0       4300.0   \n",
       "11  Dream              39.0             18.7              185.0       3650.0   \n",
       "12  Dream              37.0             16.9              185.0       3000.0   \n",
       "14  Dream              34.0             17.1              185.0       3400.0   \n",
       "15  Dream              37.0             16.5              185.0       3400.0   \n",
       "18  Dream              39.7             17.9              193.0       4250.0   \n",
       "19  Dream              37.8             18.1              193.0       3750.0   \n",
       "22  Dream              40.2             17.1              193.0       3400.0   \n",
       "23  Dream              36.8             18.5              193.0       3500.0   \n",
       "26  Dream              41.5             18.5              201.0       4000.0   \n",
       "31  Dream              33.1             16.1              178.0       2900.0   \n",
       "32  Dream              37.2             18.1              178.0       3900.0   \n",
       "33  Dream              39.5             16.7              178.0       3250.0   \n",
       "35  Dream              36.0             18.5              186.0       3100.0   \n",
       "36  Dream              39.6             18.1              186.0       4450.0   \n",
       "38  Dream              41.3             20.3              194.0       3550.0   \n",
       "41  Dream              35.7             18.0              202.0       3550.0   \n",
       "51  Dream              38.1             17.6              187.0       3425.0   \n",
       "53  Dream              36.0             17.1              187.0       3700.0   \n",
       "\n",
       "       sex  \n",
       "0   FEMALE  \n",
       "1     MALE  \n",
       "2     MALE  \n",
       "4   FEMALE  \n",
       "5     MALE  \n",
       "9     MALE  \n",
       "10    MALE  \n",
       "11    MALE  \n",
       "12  FEMALE  \n",
       "14  FEMALE  \n",
       "15  FEMALE  \n",
       "18    MALE  \n",
       "19    MALE  \n",
       "22  FEMALE  \n",
       "23  FEMALE  \n",
       "26    MALE  \n",
       "31  FEMALE  \n",
       "32    MALE  \n",
       "33  FEMALE  \n",
       "35  FEMALE  \n",
       "36    MALE  \n",
       "38    MALE  \n",
       "41  FEMALE  \n",
       "51  FEMALE  \n",
       "53  FEMALE  \n",
       "...\n",
       "\n",
       "[146 rows x 6 columns]"
      ]
     },
     "execution_count": 21,
     "metadata": {},
     "output_type": "execute_result"
    }
   ],
   "source": [
    "# filter down to the data we want to analyze\n",
    "adelie_data = df[df.species == \"Adelie Penguin (Pygoscelis adeliae)\"]\n",
    "\n",
    "# drop the columns we don't care about\n",
    "adelie_data = adelie_data.drop(columns=[\"species\"])\n",
    "\n",
    "# drop rows with nulls to get our training data\n",
    "training_data = adelie_data.dropna()\n",
    "\n",
    "# take a peek at the training data\n",
    "training_data"
   ]
  },
  {
   "cell_type": "code",
   "execution_count": 22,
   "metadata": {},
   "outputs": [],
   "source": [
    "# pick feature columns and label column\n",
    "feature_columns = training_data[['island', 'culmen_length_mm', 'culmen_depth_mm', 'flipper_length_mm', 'sex']]\n",
    "label_columns = training_data[['body_mass_g']]                               \n",
    "\n",
    "# also get the rows that we want to make predictions for (i.e. where the feature column is null)\n",
    "missing_body_mass = adelie_data[adelie_data.body_mass_g.isnull()]"
   ]
  },
  {
   "attachments": {},
   "cell_type": "markdown",
   "metadata": {},
   "source": [
    "## 3. Create, score, fit, predict"
   ]
  },
  {
   "cell_type": "code",
   "execution_count": 23,
   "metadata": {},
   "outputs": [
    {
     "data": {
      "application/vnd.jupyter.widget-view+json": {
       "model_id": "cf14ebed505a4a92b4c72f51c82efe55",
       "version_major": 2,
       "version_minor": 0
      },
      "text/plain": [
       "HTML(value='Query job dcef36e5-4bd6-40f8-88c6-72e84360533f is RUNNING. <a target=\"_blank\" href=\"https://consol…"
      ]
     },
     "metadata": {},
     "output_type": "display_data"
    },
    {
     "data": {
      "text/plain": [
       "LinearRegression()"
      ]
     },
     "execution_count": 23,
     "metadata": {},
     "output_type": "execute_result"
    }
   ],
   "source": [
    "from bigframes.ml.linear_model import LinearRegression\n",
    "\n",
    "model = LinearRegression()\n",
    "\n",
    "# Here we pass the feature columns without transforms - BQML will then use\n",
    "# automatic preprocessing to encode these columns\n",
    "model.fit(feature_columns, label_columns)"
   ]
  },
  {
   "cell_type": "code",
   "execution_count": 24,
   "metadata": {},
   "outputs": [
    {
     "data": {
      "application/vnd.jupyter.widget-view+json": {
       "model_id": "66af192d9a784994b9d4a48a49c70721",
       "version_major": 2,
       "version_minor": 0
      },
      "text/plain": [
       "HTML(value='Query job 87895ee3-81d0-4267-8a50-ab00e04664a7 is RUNNING. <a target=\"_blank\" href=\"https://consol…"
      ]
     },
     "metadata": {},
     "output_type": "display_data"
    },
    {
     "data": {
      "application/vnd.jupyter.widget-view+json": {
       "model_id": "23ae404428394a5e8a42e12e26ad52b8",
       "version_major": 2,
       "version_minor": 0
      },
      "text/plain": [
       "HTML(value='Query job f00512e0-983a-4e93-b209-58205ebad99f is RUNNING. <a target=\"_blank\" href=\"https://consol…"
      ]
     },
     "metadata": {},
     "output_type": "display_data"
    },
    {
     "data": {
      "application/vnd.jupyter.widget-view+json": {
       "model_id": "f168bfb949b6422192c61c5c8fa0fd94",
       "version_major": 2,
       "version_minor": 0
      },
      "text/plain": [
       "HTML(value='Query job 51ba4529-5be9-4e9f-aae6-3c80dd4b36b8 is RUNNING. <a target=\"_blank\" href=\"https://consol…"
      ]
     },
     "metadata": {},
     "output_type": "display_data"
    },
    {
     "data": {
      "application/vnd.jupyter.widget-view+json": {
       "model_id": "6daeb6a96f834a60a839cc9144c6d3a9",
       "version_major": 2,
       "version_minor": 0
      },
      "text/plain": [
       "HTML(value='Query job 2e3a6603-9f0e-44ff-9086-2e14ad50bd25 is RUNNING. <a target=\"_blank\" href=\"https://consol…"
      ]
     },
     "metadata": {},
     "output_type": "display_data"
    },
    {
     "data": {
      "application/vnd.jupyter.widget-view+json": {
       "model_id": "163d87d9a2274142b31f5aafa145357a",
       "version_major": 2,
       "version_minor": 0
      },
      "text/plain": [
       "HTML(value='Query job 357878f9-b705-4a03-aeeb-818a51873724 is DONE. 0 Bytes processed. <a target=\"_blank\" href…"
      ]
     },
     "metadata": {},
     "output_type": "display_data"
    },
    {
     "data": {
      "application/vnd.jupyter.widget-view+json": {
       "model_id": "3d307bbbd60e431a8d5bbd2ef7c41e2b",
       "version_major": 2,
       "version_minor": 0
      },
      "text/plain": [
       "HTML(value='Query job 7d6c2e32-56e7-43ef-9b21-ccd2a25930ea is RUNNING. <a target=\"_blank\" href=\"https://consol…"
      ]
     },
     "metadata": {},
     "output_type": "display_data"
    },
    {
     "data": {
      "text/html": [
       "<div>\n",
       "<style scoped>\n",
       "    .dataframe tbody tr th:only-of-type {\n",
       "        vertical-align: middle;\n",
       "    }\n",
       "\n",
       "    .dataframe tbody tr th {\n",
       "        vertical-align: top;\n",
       "    }\n",
       "\n",
       "    .dataframe thead th {\n",
       "        text-align: right;\n",
       "    }\n",
       "</style>\n",
       "<table border=\"1\" class=\"dataframe\">\n",
       "  <thead>\n",
       "    <tr style=\"text-align: right;\">\n",
       "      <th></th>\n",
       "      <th>mean_absolute_error</th>\n",
       "      <th>mean_squared_error</th>\n",
       "      <th>mean_squared_log_error</th>\n",
       "      <th>median_absolute_error</th>\n",
       "      <th>r2_score</th>\n",
       "      <th>explained_variance</th>\n",
       "    </tr>\n",
       "  </thead>\n",
       "  <tbody>\n",
       "    <tr>\n",
       "      <th>0</th>\n",
       "      <td>223.878763</td>\n",
       "      <td>78553.601634</td>\n",
       "      <td>0.005614</td>\n",
       "      <td>181.330911</td>\n",
       "      <td>0.623951</td>\n",
       "      <td>0.623951</td>\n",
       "    </tr>\n",
       "  </tbody>\n",
       "</table>\n",
       "<p>1 rows × 6 columns</p>\n",
       "</div>[1 rows x 6 columns in total]"
      ],
      "text/plain": [
       "   mean_absolute_error  mean_squared_error  mean_squared_log_error  \\\n",
       "0           223.878763        78553.601634                0.005614   \n",
       "\n",
       "   median_absolute_error  r2_score  explained_variance  \n",
       "0             181.330911  0.623951            0.623951  \n",
       "\n",
       "[1 rows x 6 columns]"
      ]
     },
     "execution_count": 24,
     "metadata": {},
     "output_type": "execute_result"
    }
   ],
   "source": [
    "# check how the model performed\n",
    "model.score(feature_columns, label_columns)"
   ]
  },
  {
   "cell_type": "code",
   "execution_count": 25,
   "metadata": {},
   "outputs": [
    {
     "data": {
      "application/vnd.jupyter.widget-view+json": {
       "model_id": "3966d9ee16b346cf943305112ce60fb6",
       "version_major": 2,
       "version_minor": 0
      },
      "text/plain": [
       "HTML(value='Query job a25c445d-9b60-4a8d-a325-1bfacd32bc8d is RUNNING. <a target=\"_blank\" href=\"https://consol…"
      ]
     },
     "metadata": {},
     "output_type": "display_data"
    },
    {
     "data": {
      "application/vnd.jupyter.widget-view+json": {
       "model_id": "f8fa7ce4a2f14c49addcb73f15f06db9",
       "version_major": 2,
       "version_minor": 0
      },
      "text/plain": [
       "HTML(value='Query job b881b602-abfa-4c19-a385-2480b3e8b2bd is RUNNING. <a target=\"_blank\" href=\"https://consol…"
      ]
     },
     "metadata": {},
     "output_type": "display_data"
    },
    {
     "data": {
      "application/vnd.jupyter.widget-view+json": {
       "model_id": "2084e1cd66ba449081eda92350f72fd0",
       "version_major": 2,
       "version_minor": 0
      },
      "text/plain": [
       "HTML(value='Query job 03249520-93d3-4b2e-8976-f49cc4efe520 is RUNNING. <a target=\"_blank\" href=\"https://consol…"
      ]
     },
     "metadata": {},
     "output_type": "display_data"
    },
    {
     "data": {
      "application/vnd.jupyter.widget-view+json": {
       "model_id": "68049943e6ad477988b9e65a962ecdf2",
       "version_major": 2,
       "version_minor": 0
      },
      "text/plain": [
       "HTML(value='Query job 31094013-70ea-415f-8b96-85c1af7ee9c8 is DONE. 0 Bytes processed. <a target=\"_blank\" href…"
      ]
     },
     "metadata": {},
     "output_type": "display_data"
    },
    {
     "data": {
      "application/vnd.jupyter.widget-view+json": {
       "model_id": "341e6796def340cb9e0681ddeb40ff9d",
       "version_major": 2,
       "version_minor": 0
      },
      "text/plain": [
       "HTML(value='Query job 0e456f33-4cb7-45a0-88e6-29324175b5a6 is RUNNING. <a target=\"_blank\" href=\"https://consol…"
      ]
     },
     "metadata": {},
     "output_type": "display_data"
    },
    {
     "data": {
      "text/html": [
       "<div>\n",
       "<style scoped>\n",
       "    .dataframe tbody tr th:only-of-type {\n",
       "        vertical-align: middle;\n",
       "    }\n",
       "\n",
       "    .dataframe tbody tr th {\n",
       "        vertical-align: top;\n",
       "    }\n",
       "\n",
       "    .dataframe thead th {\n",
       "        text-align: right;\n",
       "    }\n",
       "</style>\n",
       "<table border=\"1\" class=\"dataframe\">\n",
       "  <thead>\n",
       "    <tr style=\"text-align: right;\">\n",
       "      <th></th>\n",
       "      <th>predicted_body_mass_g</th>\n",
       "    </tr>\n",
       "  </thead>\n",
       "  <tbody>\n",
       "    <tr>\n",
       "      <th>292</th>\n",
       "      <td>3459.735118</td>\n",
       "    </tr>\n",
       "  </tbody>\n",
       "</table>\n",
       "<p>1 rows × 1 columns</p>\n",
       "</div>[1 rows x 1 columns in total]"
      ],
      "text/plain": [
       "     predicted_body_mass_g\n",
       "292            3459.735118\n",
       "\n",
       "[1 rows x 1 columns]"
      ]
     },
     "execution_count": 25,
     "metadata": {},
     "output_type": "execute_result"
    }
   ],
   "source": [
    "# use the model to predict the missing labels\n",
    "model.predict(missing_body_mass)"
   ]
  },
  {
   "attachments": {},
   "cell_type": "markdown",
   "metadata": {},
   "source": [
    "## 4. Save in BigQuery"
   ]
  },
  {
   "cell_type": "code",
   "execution_count": 26,
   "metadata": {},
   "outputs": [
    {
     "data": {
      "application/vnd.jupyter.widget-view+json": {
       "model_id": "256ff43296a9405f890e78511acc38e5",
       "version_major": 2,
       "version_minor": 0
      },
      "text/plain": [
       "HTML(value='Copy job 1a273ccd-212a-4750-a3c1-615256af6d48 is RUNNING. <a target=\"_blank\" href=\"https://console…"
      ]
     },
     "metadata": {},
     "output_type": "display_data"
    },
    {
     "data": {
      "text/plain": [
       "LinearRegression(optimize_strategy='NORMAL_EQUATION')"
      ]
     },
     "execution_count": 26,
     "metadata": {},
     "output_type": "execute_result"
    }
   ],
   "source": [
    "# save the model to a permanent location in BigQuery, so we can use it in future sessions (and elsewhere in BQ)\n",
    "model.to_gbq(\"bigframes-dev.bqml_tutorial.penguins_model\", replace=True)"
   ]
  },
  {
   "cell_type": "markdown",
   "metadata": {},
   "source": [
    "## 5. Reload from BigQuery"
   ]
  },
  {
   "cell_type": "code",
   "execution_count": 27,
   "metadata": {},
   "outputs": [
    {
     "data": {
      "text/plain": [
       "LinearRegression(optimize_strategy='NORMAL_EQUATION')"
      ]
     },
     "execution_count": 27,
     "metadata": {},
     "output_type": "execute_result"
    }
   ],
   "source": [
    "# WARNING - until b/281709360 is fixed & pipeline is updated, pipelines will load as models,\n",
    "# and details of their transform steps will be lost (the loaded model will behave the same)\n",
    "bigframes.pandas.read_gbq_model(\"bigframes-dev.bqml_tutorial.penguins_model\")"
   ]
  }
 ],
 "metadata": {
  "kernelspec": {
   "display_name": "venv",
   "language": "python",
   "name": "python3"
  },
  "language_info": {
   "codemirror_mode": {
    "name": "ipython",
    "version": 3
   },
   "file_extension": ".py",
   "mimetype": "text/x-python",
   "name": "python",
   "nbconvert_exporter": "python",
   "pygments_lexer": "ipython3",
   "version": "3.10.12"
  },
  "orig_nbformat": 4,
  "vscode": {
   "interpreter": {
    "hash": "a850322d07d9bdc9ec5f301d307e048bcab2390ae395e1cbce9335f4e081e5e2"
   }
  }
 },
 "nbformat": 4,
 "nbformat_minor": 2
}
