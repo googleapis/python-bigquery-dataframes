{
 "cells": [
  {
   "cell_type": "code",
   "execution_count": 1,
   "metadata": {},
   "outputs": [],
   "source": [
    "import bigframes\n",
    "import bigframes.geopandas\n",
    "import bigframes.pandas as bpd\n",
    "import bigframes.bigquery as bbq\n",
    "\n",
    "import geopandas\n",
    "from shapely.geometry import Polygon, LineString, Point\n",
    "\n",
    "bpd.options.display.progress_bar = None"
   ]
  },
  {
   "cell_type": "markdown",
   "metadata": {},
   "source": [
    "# GeoPandas Example"
   ]
  },
  {
   "cell_type": "code",
   "execution_count": 2,
   "metadata": {},
   "outputs": [],
   "source": [
    "s = geopandas.GeoSeries(\n",
    "    [\n",
    "        Polygon([(0.000, 0.0), (0.001, 0.001), (0.000, 0.001)]),\n",
    "        Polygon([(0.0010, 0.004), (0.009, 0.005), (0.0010, 0.005)]),\n",
    "        Polygon([(0.001, 0.001), (0.002, 0.001), (0.002, 0.002)]),\n",
    "        LineString([(0, 0), (1, 1), (0, 1)]),\n",
    "        Point(0, 1),\n",
    "    ],\n",
    "    # crs=\"EPSG:4326\"\n",
    ")\n",
    "# .to_crs(26393)\n",
    "s2 = geopandas.GeoSeries(\n",
    "    [\n",
    "        Polygon([(0, 0), (10, 0), (10, 10), (0, 0)]),\n",
    "        Polygon([(0, 0), (1, 1), (0, 1)]),\n",
    "        LineString([(1, 0), (1, 3)]),\n",
    "        LineString([(2, 0), (0, 2)]),\n",
    "        Point(1, 1),\n",
    "    ],\n",
    "    # crs=\"EPSG:4326\"\n",
    ")\n",
    "# .to_crs(26393)\n",
    "\n"
   ]
  },
  {
   "cell_type": "code",
   "execution_count": 3,
   "metadata": {},
   "outputs": [
    {
     "data": {
      "text/plain": [
       "0           POLYGON ((0 0, 0.001 0.001, 0 0.001, 0 0))\n",
       "1    POLYGON ((0.001 0.004, 0.009 0.005, 0.001 0.00...\n",
       "2    POLYGON ((0.001 0.001, 0.002 0.001, 0.002 0.00...\n",
       "3                           LINESTRING (0 0, 1 1, 0 1)\n",
       "4                                          POINT (0 1)\n",
       "dtype: geometry"
      ]
     },
     "execution_count": 3,
     "metadata": {},
     "output_type": "execute_result"
    }
   ],
   "source": [
    "s"
   ]
  },
  {
   "cell_type": "code",
   "execution_count": 4,
   "metadata": {},
   "outputs": [
    {
     "data": {
      "text/plain": [
       "0    POLYGON ((0 0, 10 0, 10 10, 0 0))\n",
       "1       POLYGON ((0 0, 1 1, 0 1, 0 0))\n",
       "2                LINESTRING (1 0, 1 3)\n",
       "3                LINESTRING (2 0, 0 2)\n",
       "4                          POINT (1 1)\n",
       "dtype: geometry"
      ]
     },
     "execution_count": 4,
     "metadata": {},
     "output_type": "execute_result"
    }
   ],
   "source": [
    "s2"
   ]
  },
  {
   "cell_type": "code",
   "execution_count": 5,
   "metadata": {},
   "outputs": [
    {
     "data": {
      "text/plain": [
       "0       POLYGON ((0 0.001, 0.001 0.001, 0 0, 0 0.001))\n",
       "1    POLYGON ((0.001 0.005, 0.009 0.005, 0.001 0.00...\n",
       "2    POLYGON ((0.002 0.002, 0.002 0.001, 0.001 0.00...\n",
       "3             MULTILINESTRING ((0 0, 1 1), (1 1, 0 1))\n",
       "4                                          POINT (0 1)\n",
       "dtype: geometry"
      ]
     },
     "execution_count": 5,
     "metadata": {},
     "output_type": "execute_result"
    }
   ],
   "source": [
    "s.difference(LineString([(2, 0), (0, 2)]),)"
   ]
  },
  {
   "cell_type": "markdown",
   "metadata": {},
   "source": [
    "# GeoSeries Example"
   ]
  },
  {
   "cell_type": "code",
   "execution_count": 6,
   "metadata": {},
   "outputs": [
    {
     "name": "stderr",
     "output_type": "stream",
     "text": [
      "/usr/local/google/home/arwas/src1/python-bigquery-dataframes/bigframes/core/global_session.py:114: DefaultLocationWarning: No explicit location is set, so using location US for the session.\n",
      "  return func(get_global_session(), *args, **kwargs)\n"
     ]
    }
   ],
   "source": [
    "sb = bigframes.geopandas.GeoSeries(\n",
    "    [\n",
    "        Polygon([(0.000, 0.0), (0.001, 0.001), (0.000, 0.001)]),\n",
    "        Polygon([(0.0010, 0.004), (0.009, 0.005), (0.0010, 0.005)]),\n",
    "        Polygon([(0.001, 0.001), (0.002, 0.001), (0.002, 0.002)]),\n",
    "        LineString([(0, 0), (1, 1), (0, 1)]),\n",
    "        Point(0, 1),\n",
    "    ],\n",
    ")\n",
    "sb2 = bigframes.geopandas.GeoSeries(\n",
    "    [\n",
    "        Polygon([(0, 0), (10, 0), (10, 10), (0, 0)]),\n",
    "        Polygon([(0, 0), (1, 1), (0, 1)]),\n",
    "        LineString([(1, 0), (1, 3)]),\n",
    "        LineString([(2, 0), (0, 2)]),\n",
    "        Point(1, 1),\n",
    "    ],\n",
    ")"
   ]
  },
  {
   "cell_type": "code",
   "execution_count": 7,
   "metadata": {},
   "outputs": [
    {
     "data": {
      "text/plain": [
       "0           POLYGON ((0 0, 0.001 0.001, 0 0.001, 0 0))\n",
       "1    POLYGON ((0.001 0.004, 0.009 0.005, 0.001 0.00...\n",
       "2    POLYGON ((0.001 0.001, 0.002 0.001, 0.002 0.00...\n",
       "3                           LINESTRING (0 0, 1 1, 0 1)\n",
       "4                                          POINT (0 1)\n",
       "dtype: geometry"
      ]
     },
     "execution_count": 7,
     "metadata": {},
     "output_type": "execute_result"
    }
   ],
   "source": [
    "sb"
   ]
  },
  {
   "cell_type": "code",
   "execution_count": 8,
   "metadata": {},
   "outputs": [
    {
     "data": {
      "text/plain": [
       "0    POLYGON ((0 0, 10 0, 10 10, 0 0))\n",
       "1       POLYGON ((0 0, 1 1, 0 1, 0 0))\n",
       "2                LINESTRING (1 0, 1 3)\n",
       "3                LINESTRING (2 0, 0 2)\n",
       "4                          POINT (1 1)\n",
       "dtype: geometry"
      ]
     },
     "execution_count": 8,
     "metadata": {},
     "output_type": "execute_result"
    }
   ],
   "source": [
    "sb2"
   ]
  },
  {
   "cell_type": "code",
   "execution_count": 9,
   "metadata": {},
   "outputs": [
    {
     "data": {
      "text/plain": [
       "0    POLYGON ((0.00098 0.001, 0 0.001, 0 0, 0.00098...\n",
       "1    POLYGON ((0.00443 0.00443, 0.009 0.005, 0.005 ...\n",
       "2    POLYGON ((0.001 0.001, 0.002 0.001, 0.002 0.00...\n",
       "3                           LINESTRING (0 0, 1 1, 0 1)\n",
       "4                                          POINT (0 1)\n",
       "dtype: geometry"
      ]
     },
     "execution_count": 9,
     "metadata": {},
     "output_type": "execute_result"
    }
   ],
   "source": [
    "bbq.st_difference(sb, sb2)\n"
   ]
  }
 ],
 "metadata": {
  "kernelspec": {
   "display_name": "venv",
   "language": "python",
   "name": "python3"
  },
  "language_info": {
   "codemirror_mode": {
    "name": "ipython",
    "version": 3
   },
   "file_extension": ".py",
   "mimetype": "text/x-python",
   "name": "python",
   "nbconvert_exporter": "python",
   "pygments_lexer": "ipython3",
   "version": "3.9.19"
  }
 },
 "nbformat": 4,
 "nbformat_minor": 2
}
